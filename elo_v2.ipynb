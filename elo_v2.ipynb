{
 "cells": [
  {
   "cell_type": "code",
   "execution_count": 1,
   "metadata": {},
   "outputs": [],
   "source": [
    "import pandas as pd\n",
    "import numpy as np\n",
    "\n",
    "from IPython.display import display\n",
    "import datetime\n",
    "import plotly.express as px\n",
    "from plotly.colors import sequential\n",
    "from plotly.colors import diverging\n",
    "\n",
    "from plotly.subplots import make_subplots\n",
    "\n",
    "import math"
   ]
  },
  {
   "cell_type": "code",
   "execution_count": 2,
   "metadata": {},
   "outputs": [
    {
     "data": {
      "text/html": [
       "<div>\n",
       "<style scoped>\n",
       "    .dataframe tbody tr th:only-of-type {\n",
       "        vertical-align: middle;\n",
       "    }\n",
       "\n",
       "    .dataframe tbody tr th {\n",
       "        vertical-align: top;\n",
       "    }\n",
       "\n",
       "    .dataframe thead th {\n",
       "        text-align: right;\n",
       "    }\n",
       "</style>\n",
       "<table border=\"1\" class=\"dataframe\">\n",
       "  <thead>\n",
       "    <tr style=\"text-align: right;\">\n",
       "      <th></th>\n",
       "      <th>Date</th>\n",
       "      <th>Format</th>\n",
       "      <th>Match Number</th>\n",
       "      <th>Stage</th>\n",
       "      <th>Player 1</th>\n",
       "      <th>Player 2</th>\n",
       "      <th>Score 1</th>\n",
       "      <th>Score 2</th>\n",
       "    </tr>\n",
       "  </thead>\n",
       "  <tbody>\n",
       "    <tr>\n",
       "      <th>0</th>\n",
       "      <td>2023-11-18</td>\n",
       "      <td>[Gen 9] OU</td>\n",
       "      <td>1</td>\n",
       "      <td>Group</td>\n",
       "      <td>Evan Sooklal</td>\n",
       "      <td>Will Simpson</td>\n",
       "      <td>2</td>\n",
       "      <td>6</td>\n",
       "    </tr>\n",
       "    <tr>\n",
       "      <th>1</th>\n",
       "      <td>2023-11-18</td>\n",
       "      <td>[Gen 9] OU</td>\n",
       "      <td>2</td>\n",
       "      <td>Group</td>\n",
       "      <td>Paul Bartenfeld</td>\n",
       "      <td>Roman Ramirez</td>\n",
       "      <td>2</td>\n",
       "      <td>6</td>\n",
       "    </tr>\n",
       "    <tr>\n",
       "      <th>2</th>\n",
       "      <td>2023-11-18</td>\n",
       "      <td>[Gen 9] OU</td>\n",
       "      <td>3</td>\n",
       "      <td>Group</td>\n",
       "      <td>Roman Ramirez</td>\n",
       "      <td>Evan Sooklal</td>\n",
       "      <td>6</td>\n",
       "      <td>3</td>\n",
       "    </tr>\n",
       "    <tr>\n",
       "      <th>3</th>\n",
       "      <td>2023-11-18</td>\n",
       "      <td>[Gen 9] OU</td>\n",
       "      <td>4</td>\n",
       "      <td>Group</td>\n",
       "      <td>Will Simpson</td>\n",
       "      <td>Paul Bartenfeld</td>\n",
       "      <td>6</td>\n",
       "      <td>1</td>\n",
       "    </tr>\n",
       "    <tr>\n",
       "      <th>4</th>\n",
       "      <td>2023-11-18</td>\n",
       "      <td>[Gen 9] OU</td>\n",
       "      <td>5</td>\n",
       "      <td>Group</td>\n",
       "      <td>Paul Bartenfeld</td>\n",
       "      <td>Evan Sooklal</td>\n",
       "      <td>1</td>\n",
       "      <td>6</td>\n",
       "    </tr>\n",
       "    <tr>\n",
       "      <th>...</th>\n",
       "      <td>...</td>\n",
       "      <td>...</td>\n",
       "      <td>...</td>\n",
       "      <td>...</td>\n",
       "      <td>...</td>\n",
       "      <td>...</td>\n",
       "      <td>...</td>\n",
       "      <td>...</td>\n",
       "    </tr>\n",
       "    <tr>\n",
       "      <th>121</th>\n",
       "      <td>2024-06-09</td>\n",
       "      <td>[Gen 9] RU</td>\n",
       "      <td>4b</td>\n",
       "      <td>Group</td>\n",
       "      <td>Roman Ramirez</td>\n",
       "      <td>Evan Sooklal</td>\n",
       "      <td>2</td>\n",
       "      <td>6</td>\n",
       "    </tr>\n",
       "    <tr>\n",
       "      <th>122</th>\n",
       "      <td>2024-06-09</td>\n",
       "      <td>[Gen 9] RU</td>\n",
       "      <td>5a</td>\n",
       "      <td>Group</td>\n",
       "      <td>Evan Sooklal</td>\n",
       "      <td>Lilith Karyadi</td>\n",
       "      <td>2</td>\n",
       "      <td>6</td>\n",
       "    </tr>\n",
       "    <tr>\n",
       "      <th>123</th>\n",
       "      <td>2024-06-09</td>\n",
       "      <td>[Gen 9] RU</td>\n",
       "      <td>5a</td>\n",
       "      <td>Group</td>\n",
       "      <td>Evan Sooklal</td>\n",
       "      <td>Lilith Karyadi</td>\n",
       "      <td>5</td>\n",
       "      <td>6</td>\n",
       "    </tr>\n",
       "    <tr>\n",
       "      <th>124</th>\n",
       "      <td>2024-06-09</td>\n",
       "      <td>[Gen 9] RU</td>\n",
       "      <td>1</td>\n",
       "      <td>Final</td>\n",
       "      <td>Evan Sooklal</td>\n",
       "      <td>Lilith Karyadi</td>\n",
       "      <td>5</td>\n",
       "      <td>6</td>\n",
       "    </tr>\n",
       "    <tr>\n",
       "      <th>125</th>\n",
       "      <td>2024-06-09</td>\n",
       "      <td>[Gen 9] RU</td>\n",
       "      <td>2</td>\n",
       "      <td>Final</td>\n",
       "      <td>Will Simpson</td>\n",
       "      <td>Lilith Karyadi</td>\n",
       "      <td>6</td>\n",
       "      <td>5</td>\n",
       "    </tr>\n",
       "  </tbody>\n",
       "</table>\n",
       "<p>126 rows × 8 columns</p>\n",
       "</div>"
      ],
      "text/plain": [
       "           Date      Format Match Number  Stage         Player 1  \\\n",
       "0    2023-11-18  [Gen 9] OU            1  Group     Evan Sooklal   \n",
       "1    2023-11-18  [Gen 9] OU            2  Group  Paul Bartenfeld   \n",
       "2    2023-11-18  [Gen 9] OU            3  Group    Roman Ramirez   \n",
       "3    2023-11-18  [Gen 9] OU            4  Group     Will Simpson   \n",
       "4    2023-11-18  [Gen 9] OU            5  Group  Paul Bartenfeld   \n",
       "..          ...         ...          ...    ...              ...   \n",
       "121  2024-06-09  [Gen 9] RU           4b  Group    Roman Ramirez   \n",
       "122  2024-06-09  [Gen 9] RU           5a  Group     Evan Sooklal   \n",
       "123  2024-06-09  [Gen 9] RU           5a  Group     Evan Sooklal   \n",
       "124  2024-06-09  [Gen 9] RU            1  Final     Evan Sooklal   \n",
       "125  2024-06-09  [Gen 9] RU            2  Final     Will Simpson   \n",
       "\n",
       "            Player 2  Score 1  Score 2  \n",
       "0       Will Simpson        2        6  \n",
       "1      Roman Ramirez        2        6  \n",
       "2       Evan Sooklal        6        3  \n",
       "3    Paul Bartenfeld        6        1  \n",
       "4       Evan Sooklal        1        6  \n",
       "..               ...      ...      ...  \n",
       "121     Evan Sooklal        2        6  \n",
       "122   Lilith Karyadi        2        6  \n",
       "123   Lilith Karyadi        5        6  \n",
       "124   Lilith Karyadi        5        6  \n",
       "125   Lilith Karyadi        6        5  \n",
       "\n",
       "[126 rows x 8 columns]"
      ]
     },
     "metadata": {},
     "output_type": "display_data"
    }
   ],
   "source": [
    "matches_table = pd.read_csv('data/matches.csv')\n",
    "display(matches_table)"
   ]
  },
  {
   "cell_type": "code",
   "execution_count": 3,
   "metadata": {},
   "outputs": [],
   "source": [
    "updated_time = f'<i>Updated {str(datetime.datetime.now().strftime(\"%A, %b %d, %Y %H:%M:%S\"))} CT</i>'\n",
    "link_fig = \"<a href='https://htmlpreview.github.io/?https://github.com/notromanramirez/dgn_showdown/blob/main/index.html'>ELO Graph</a>\"\n",
    "link_fig1 = \"<a href='https://htmlpreview.github.io/?https://github.com/notromanramirez/dgn_showdown/blob/main/figures/fig1.html'>H2H Stats</a>\"\n",
    "link_fig2 = \"<a href='https://htmlpreview.github.io/?https://github.com/notromanramirez/dgn_showdown/blob/main/figures/fig2.html'>H2H Advanced Stats</a>\"\n",
    "link_fig3 = \"<a href='https://htmlpreview.github.io/?https://github.com/notromanramirez/dgn_showdown/blob/main/figures/fig3.html'>H2H More Stats</a>\"\n",
    "link_fig4 = \"<a href='https://htmlpreview.github.io/?https://github.com/notromanramirez/dgn_showdown/blob/main/figures/fig4.html'>Player Data</a>\"\n",
    "link_fig5 = \"<a href='https://htmlpreview.github.io/?https://github.com/notromanramirez/dgn_showdown/blob/main/figures/fig5.html'>Matches Data</a>\"\n",
    "link_fig6 = \"<a href='https://htmlpreview.github.io/?https://github.com/notromanramirez/dgn_showdown/blob/main/figures/fig6.html'>Money-Lines</a>\""
   ]
  },
  {
   "cell_type": "code",
   "execution_count": 4,
   "metadata": {},
   "outputs": [
    {
     "data": {
      "text/plain": [
       "{'Aaron Carter',\n",
       " 'Evan Sooklal',\n",
       " 'Jack Massingill',\n",
       " 'Lilith Karyadi',\n",
       " 'Paul Bartenfeld',\n",
       " 'Roman Ramirez',\n",
       " 'Will Simpson'}"
      ]
     },
     "metadata": {},
     "output_type": "display_data"
    }
   ],
   "source": [
    "set_player1 = set(matches_table['Player 1'])\n",
    "set_player2 = set(matches_table['Player 2'])\n",
    "set_players = set_player1.union(set_player2)\n",
    "num_players = len(set_players)\n",
    "display(set_players)"
   ]
  },
  {
   "cell_type": "code",
   "execution_count": 5,
   "metadata": {},
   "outputs": [
    {
     "name": "stderr",
     "output_type": "stream",
     "text": [
      "C:\\Users\\justr\\AppData\\Local\\Temp\\ipykernel_32696\\2719908281.py:131: RuntimeWarning: invalid value encountered in scalar divide\n",
      "  luck_per_game_table.loc[r, c] /= record_table.loc[r, c].sum()\n"
     ]
    },
    {
     "data": {
      "text/html": [
       "<div>\n",
       "<style scoped>\n",
       "    .dataframe tbody tr th:only-of-type {\n",
       "        vertical-align: middle;\n",
       "    }\n",
       "\n",
       "    .dataframe tbody tr th {\n",
       "        vertical-align: top;\n",
       "    }\n",
       "\n",
       "    .dataframe thead th {\n",
       "        text-align: right;\n",
       "    }\n",
       "</style>\n",
       "<table border=\"1\" class=\"dataframe\">\n",
       "  <thead>\n",
       "    <tr style=\"text-align: right;\">\n",
       "      <th></th>\n",
       "      <th>Paul Bartenfeld</th>\n",
       "      <th>Jack Massingill</th>\n",
       "      <th>Evan Sooklal</th>\n",
       "      <th>Roman Ramirez</th>\n",
       "      <th>Lilith Karyadi</th>\n",
       "      <th>Will Simpson</th>\n",
       "      <th>Aaron Carter</th>\n",
       "    </tr>\n",
       "  </thead>\n",
       "  <tbody>\n",
       "    <tr>\n",
       "      <th>Paul Bartenfeld</th>\n",
       "      <td>[0, 0]</td>\n",
       "      <td>[0, 0]</td>\n",
       "      <td>[1, 5]</td>\n",
       "      <td>[2, 4]</td>\n",
       "      <td>[0, 0]</td>\n",
       "      <td>[0, 6]</td>\n",
       "      <td>[1, 3]</td>\n",
       "    </tr>\n",
       "    <tr>\n",
       "      <th>Jack Massingill</th>\n",
       "      <td>[0, 0]</td>\n",
       "      <td>[0, 0]</td>\n",
       "      <td>[0, 2]</td>\n",
       "      <td>[0, 2]</td>\n",
       "      <td>[0, 0]</td>\n",
       "      <td>[1, 1]</td>\n",
       "      <td>[0, 2]</td>\n",
       "    </tr>\n",
       "    <tr>\n",
       "      <th>Evan Sooklal</th>\n",
       "      <td>[5, 1]</td>\n",
       "      <td>[2, 0]</td>\n",
       "      <td>[0, 0]</td>\n",
       "      <td>[10, 5]</td>\n",
       "      <td>[0, 3]</td>\n",
       "      <td>[5, 12]</td>\n",
       "      <td>[3, 10]</td>\n",
       "    </tr>\n",
       "    <tr>\n",
       "      <th>Roman Ramirez</th>\n",
       "      <td>[4, 2]</td>\n",
       "      <td>[2, 0]</td>\n",
       "      <td>[5, 10]</td>\n",
       "      <td>[0, 0]</td>\n",
       "      <td>[0, 2]</td>\n",
       "      <td>[8, 7]</td>\n",
       "      <td>[5, 9]</td>\n",
       "    </tr>\n",
       "    <tr>\n",
       "      <th>Lilith Karyadi</th>\n",
       "      <td>[0, 0]</td>\n",
       "      <td>[0, 0]</td>\n",
       "      <td>[3, 0]</td>\n",
       "      <td>[2, 0]</td>\n",
       "      <td>[0, 0]</td>\n",
       "      <td>[0, 3]</td>\n",
       "      <td>[0, 0]</td>\n",
       "    </tr>\n",
       "    <tr>\n",
       "      <th>Will Simpson</th>\n",
       "      <td>[6, 0]</td>\n",
       "      <td>[1, 1]</td>\n",
       "      <td>[12, 5]</td>\n",
       "      <td>[7, 8]</td>\n",
       "      <td>[3, 0]</td>\n",
       "      <td>[0, 0]</td>\n",
       "      <td>[4, 10]</td>\n",
       "    </tr>\n",
       "    <tr>\n",
       "      <th>Aaron Carter</th>\n",
       "      <td>[3, 1]</td>\n",
       "      <td>[2, 0]</td>\n",
       "      <td>[10, 3]</td>\n",
       "      <td>[9, 5]</td>\n",
       "      <td>[0, 0]</td>\n",
       "      <td>[10, 4]</td>\n",
       "      <td>[0, 0]</td>\n",
       "    </tr>\n",
       "  </tbody>\n",
       "</table>\n",
       "</div>"
      ],
      "text/plain": [
       "                Paul Bartenfeld Jack Massingill Evan Sooklal Roman Ramirez  \\\n",
       "Paul Bartenfeld          [0, 0]          [0, 0]       [1, 5]        [2, 4]   \n",
       "Jack Massingill          [0, 0]          [0, 0]       [0, 2]        [0, 2]   \n",
       "Evan Sooklal             [5, 1]          [2, 0]       [0, 0]       [10, 5]   \n",
       "Roman Ramirez            [4, 2]          [2, 0]      [5, 10]        [0, 0]   \n",
       "Lilith Karyadi           [0, 0]          [0, 0]       [3, 0]        [2, 0]   \n",
       "Will Simpson             [6, 0]          [1, 1]      [12, 5]        [7, 8]   \n",
       "Aaron Carter             [3, 1]          [2, 0]      [10, 3]        [9, 5]   \n",
       "\n",
       "                Lilith Karyadi Will Simpson Aaron Carter  \n",
       "Paul Bartenfeld         [0, 0]       [0, 6]       [1, 3]  \n",
       "Jack Massingill         [0, 0]       [1, 1]       [0, 2]  \n",
       "Evan Sooklal            [0, 3]      [5, 12]      [3, 10]  \n",
       "Roman Ramirez           [0, 2]       [8, 7]       [5, 9]  \n",
       "Lilith Karyadi          [0, 0]       [0, 3]       [0, 0]  \n",
       "Will Simpson            [3, 0]       [0, 0]      [4, 10]  \n",
       "Aaron Carter            [0, 0]      [10, 4]       [0, 0]  "
      ]
     },
     "metadata": {},
     "output_type": "display_data"
    },
    {
     "data": {
      "text/html": [
       "<div>\n",
       "<style scoped>\n",
       "    .dataframe tbody tr th:only-of-type {\n",
       "        vertical-align: middle;\n",
       "    }\n",
       "\n",
       "    .dataframe tbody tr th {\n",
       "        vertical-align: top;\n",
       "    }\n",
       "\n",
       "    .dataframe thead th {\n",
       "        text-align: right;\n",
       "    }\n",
       "</style>\n",
       "<table border=\"1\" class=\"dataframe\">\n",
       "  <thead>\n",
       "    <tr style=\"text-align: right;\">\n",
       "      <th></th>\n",
       "      <th>Paul Bartenfeld</th>\n",
       "      <th>Jack Massingill</th>\n",
       "      <th>Evan Sooklal</th>\n",
       "      <th>Roman Ramirez</th>\n",
       "      <th>Lilith Karyadi</th>\n",
       "      <th>Will Simpson</th>\n",
       "      <th>Aaron Carter</th>\n",
       "    </tr>\n",
       "  </thead>\n",
       "  <tbody>\n",
       "    <tr>\n",
       "      <th>Paul Bartenfeld</th>\n",
       "      <td>NaN</td>\n",
       "      <td>NaN</td>\n",
       "      <td>-0.179256</td>\n",
       "      <td>-0.054102</td>\n",
       "      <td>NaN</td>\n",
       "      <td>-0.301516</td>\n",
       "      <td>-0.061861</td>\n",
       "    </tr>\n",
       "    <tr>\n",
       "      <th>Jack Massingill</th>\n",
       "      <td>NaN</td>\n",
       "      <td>NaN</td>\n",
       "      <td>-0.504238</td>\n",
       "      <td>-0.438942</td>\n",
       "      <td>NaN</td>\n",
       "      <td>0.238515</td>\n",
       "      <td>-0.115022</td>\n",
       "    </tr>\n",
       "    <tr>\n",
       "      <th>Evan Sooklal</th>\n",
       "      <td>0.179256</td>\n",
       "      <td>0.504238</td>\n",
       "      <td>NaN</td>\n",
       "      <td>0.151665</td>\n",
       "      <td>-0.468953</td>\n",
       "      <td>-0.119322</td>\n",
       "      <td>-0.125188</td>\n",
       "    </tr>\n",
       "    <tr>\n",
       "      <th>Roman Ramirez</th>\n",
       "      <td>0.054102</td>\n",
       "      <td>0.438942</td>\n",
       "      <td>-0.151665</td>\n",
       "      <td>NaN</td>\n",
       "      <td>-0.645015</td>\n",
       "      <td>0.130468</td>\n",
       "      <td>0.030219</td>\n",
       "    </tr>\n",
       "    <tr>\n",
       "      <th>Lilith Karyadi</th>\n",
       "      <td>NaN</td>\n",
       "      <td>NaN</td>\n",
       "      <td>0.468953</td>\n",
       "      <td>0.645015</td>\n",
       "      <td>NaN</td>\n",
       "      <td>-0.622451</td>\n",
       "      <td>NaN</td>\n",
       "    </tr>\n",
       "    <tr>\n",
       "      <th>Will Simpson</th>\n",
       "      <td>0.301516</td>\n",
       "      <td>-0.238515</td>\n",
       "      <td>0.119322</td>\n",
       "      <td>-0.130468</td>\n",
       "      <td>0.622451</td>\n",
       "      <td>NaN</td>\n",
       "      <td>-0.173710</td>\n",
       "    </tr>\n",
       "    <tr>\n",
       "      <th>Aaron Carter</th>\n",
       "      <td>0.061861</td>\n",
       "      <td>0.115022</td>\n",
       "      <td>0.125188</td>\n",
       "      <td>-0.030219</td>\n",
       "      <td>NaN</td>\n",
       "      <td>0.173710</td>\n",
       "      <td>NaN</td>\n",
       "    </tr>\n",
       "  </tbody>\n",
       "</table>\n",
       "</div>"
      ],
      "text/plain": [
       "                 Paul Bartenfeld  Jack Massingill  Evan Sooklal  \\\n",
       "Paul Bartenfeld              NaN              NaN     -0.179256   \n",
       "Jack Massingill              NaN              NaN     -0.504238   \n",
       "Evan Sooklal            0.179256         0.504238           NaN   \n",
       "Roman Ramirez           0.054102         0.438942     -0.151665   \n",
       "Lilith Karyadi               NaN              NaN      0.468953   \n",
       "Will Simpson            0.301516        -0.238515      0.119322   \n",
       "Aaron Carter            0.061861         0.115022      0.125188   \n",
       "\n",
       "                 Roman Ramirez  Lilith Karyadi  Will Simpson  Aaron Carter  \n",
       "Paul Bartenfeld      -0.054102             NaN     -0.301516     -0.061861  \n",
       "Jack Massingill      -0.438942             NaN      0.238515     -0.115022  \n",
       "Evan Sooklal          0.151665       -0.468953     -0.119322     -0.125188  \n",
       "Roman Ramirez              NaN       -0.645015      0.130468      0.030219  \n",
       "Lilith Karyadi        0.645015             NaN     -0.622451           NaN  \n",
       "Will Simpson         -0.130468        0.622451           NaN     -0.173710  \n",
       "Aaron Carter         -0.030219             NaN      0.173710           NaN  "
      ]
     },
     "metadata": {},
     "output_type": "display_data"
    },
    {
     "data": {
      "text/html": [
       "<div>\n",
       "<style scoped>\n",
       "    .dataframe tbody tr th:only-of-type {\n",
       "        vertical-align: middle;\n",
       "    }\n",
       "\n",
       "    .dataframe tbody tr th {\n",
       "        vertical-align: top;\n",
       "    }\n",
       "\n",
       "    .dataframe thead th {\n",
       "        text-align: right;\n",
       "    }\n",
       "</style>\n",
       "<table border=\"1\" class=\"dataframe\">\n",
       "  <thead>\n",
       "    <tr style=\"text-align: right;\">\n",
       "      <th></th>\n",
       "      <th>Paul Bartenfeld</th>\n",
       "      <th>Jack Massingill</th>\n",
       "      <th>Evan Sooklal</th>\n",
       "      <th>Roman Ramirez</th>\n",
       "      <th>Lilith Karyadi</th>\n",
       "      <th>Will Simpson</th>\n",
       "      <th>Aaron Carter</th>\n",
       "    </tr>\n",
       "  </thead>\n",
       "  <tbody>\n",
       "    <tr>\n",
       "      <th>Paul Bartenfeld</th>\n",
       "      <td>[0, 0]</td>\n",
       "      <td>[0, 0]</td>\n",
       "      <td>[24, 35]</td>\n",
       "      <td>[21, 31]</td>\n",
       "      <td>[0, 0]</td>\n",
       "      <td>[16, 36]</td>\n",
       "      <td>[15, 21]</td>\n",
       "    </tr>\n",
       "    <tr>\n",
       "      <th>Jack Massingill</th>\n",
       "      <td>[0, 0]</td>\n",
       "      <td>[0, 0]</td>\n",
       "      <td>[3, 12]</td>\n",
       "      <td>[1, 12]</td>\n",
       "      <td>[0, 0]</td>\n",
       "      <td>[6, 6]</td>\n",
       "      <td>[7, 12]</td>\n",
       "    </tr>\n",
       "    <tr>\n",
       "      <th>Evan Sooklal</th>\n",
       "      <td>[35, 24]</td>\n",
       "      <td>[12, 3]</td>\n",
       "      <td>[0, 0]</td>\n",
       "      <td>[64, 55]</td>\n",
       "      <td>[12, 18]</td>\n",
       "      <td>[53, 83]</td>\n",
       "      <td>[45, 66]</td>\n",
       "    </tr>\n",
       "    <tr>\n",
       "      <th>Roman Ramirez</th>\n",
       "      <td>[31, 21]</td>\n",
       "      <td>[12, 1]</td>\n",
       "      <td>[55, 64]</td>\n",
       "      <td>[0, 0]</td>\n",
       "      <td>[6, 12]</td>\n",
       "      <td>[67, 54]</td>\n",
       "      <td>[52, 61]</td>\n",
       "    </tr>\n",
       "    <tr>\n",
       "      <th>Lilith Karyadi</th>\n",
       "      <td>[0, 0]</td>\n",
       "      <td>[0, 0]</td>\n",
       "      <td>[18, 12]</td>\n",
       "      <td>[12, 6]</td>\n",
       "      <td>[0, 0]</td>\n",
       "      <td>[12, 18]</td>\n",
       "      <td>[0, 0]</td>\n",
       "    </tr>\n",
       "    <tr>\n",
       "      <th>Will Simpson</th>\n",
       "      <td>[36, 16]</td>\n",
       "      <td>[6, 6]</td>\n",
       "      <td>[83, 53]</td>\n",
       "      <td>[54, 67]</td>\n",
       "      <td>[18, 12]</td>\n",
       "      <td>[0, 0]</td>\n",
       "      <td>[35, 59]</td>\n",
       "    </tr>\n",
       "    <tr>\n",
       "      <th>Aaron Carter</th>\n",
       "      <td>[21, 15]</td>\n",
       "      <td>[12, 7]</td>\n",
       "      <td>[66, 45]</td>\n",
       "      <td>[61, 52]</td>\n",
       "      <td>[0, 0]</td>\n",
       "      <td>[59, 35]</td>\n",
       "      <td>[0, 0]</td>\n",
       "    </tr>\n",
       "  </tbody>\n",
       "</table>\n",
       "</div>"
      ],
      "text/plain": [
       "                Paul Bartenfeld Jack Massingill Evan Sooklal Roman Ramirez  \\\n",
       "Paul Bartenfeld          [0, 0]          [0, 0]     [24, 35]      [21, 31]   \n",
       "Jack Massingill          [0, 0]          [0, 0]      [3, 12]       [1, 12]   \n",
       "Evan Sooklal           [35, 24]         [12, 3]       [0, 0]      [64, 55]   \n",
       "Roman Ramirez          [31, 21]         [12, 1]     [55, 64]        [0, 0]   \n",
       "Lilith Karyadi           [0, 0]          [0, 0]     [18, 12]       [12, 6]   \n",
       "Will Simpson           [36, 16]          [6, 6]     [83, 53]      [54, 67]   \n",
       "Aaron Carter           [21, 15]         [12, 7]     [66, 45]      [61, 52]   \n",
       "\n",
       "                Lilith Karyadi Will Simpson Aaron Carter  \n",
       "Paul Bartenfeld         [0, 0]     [16, 36]     [15, 21]  \n",
       "Jack Massingill         [0, 0]       [6, 6]      [7, 12]  \n",
       "Evan Sooklal          [12, 18]     [53, 83]     [45, 66]  \n",
       "Roman Ramirez          [6, 12]     [67, 54]     [52, 61]  \n",
       "Lilith Karyadi          [0, 0]     [12, 18]       [0, 0]  \n",
       "Will Simpson          [18, 12]       [0, 0]     [35, 59]  \n",
       "Aaron Carter            [0, 0]     [59, 35]       [0, 0]  "
      ]
     },
     "metadata": {},
     "output_type": "display_data"
    },
    {
     "data": {
      "text/html": [
       "<div>\n",
       "<style scoped>\n",
       "    .dataframe tbody tr th:only-of-type {\n",
       "        vertical-align: middle;\n",
       "    }\n",
       "\n",
       "    .dataframe tbody tr th {\n",
       "        vertical-align: top;\n",
       "    }\n",
       "\n",
       "    .dataframe thead th {\n",
       "        text-align: right;\n",
       "    }\n",
       "</style>\n",
       "<table border=\"1\" class=\"dataframe\">\n",
       "  <thead>\n",
       "    <tr style=\"text-align: right;\">\n",
       "      <th></th>\n",
       "      <th>Aaron Carter</th>\n",
       "      <th>Evan Sooklal</th>\n",
       "      <th>Jack Massingill</th>\n",
       "      <th>Lilith Karyadi</th>\n",
       "      <th>Paul Bartenfeld</th>\n",
       "      <th>Roman Ramirez</th>\n",
       "      <th>Will Simpson</th>\n",
       "    </tr>\n",
       "  </thead>\n",
       "  <tbody>\n",
       "    <tr>\n",
       "      <th>1</th>\n",
       "      <td>NaN</td>\n",
       "      <td>-4.0</td>\n",
       "      <td>NaN</td>\n",
       "      <td>NaN</td>\n",
       "      <td>NaN</td>\n",
       "      <td>NaN</td>\n",
       "      <td>4.0</td>\n",
       "    </tr>\n",
       "    <tr>\n",
       "      <th>2</th>\n",
       "      <td>NaN</td>\n",
       "      <td>NaN</td>\n",
       "      <td>NaN</td>\n",
       "      <td>NaN</td>\n",
       "      <td>-4.0</td>\n",
       "      <td>4.0</td>\n",
       "      <td>NaN</td>\n",
       "    </tr>\n",
       "    <tr>\n",
       "      <th>3</th>\n",
       "      <td>NaN</td>\n",
       "      <td>-3.0</td>\n",
       "      <td>NaN</td>\n",
       "      <td>NaN</td>\n",
       "      <td>NaN</td>\n",
       "      <td>3.0</td>\n",
       "      <td>NaN</td>\n",
       "    </tr>\n",
       "    <tr>\n",
       "      <th>4</th>\n",
       "      <td>NaN</td>\n",
       "      <td>NaN</td>\n",
       "      <td>NaN</td>\n",
       "      <td>NaN</td>\n",
       "      <td>-5.0</td>\n",
       "      <td>NaN</td>\n",
       "      <td>5.0</td>\n",
       "    </tr>\n",
       "    <tr>\n",
       "      <th>5</th>\n",
       "      <td>NaN</td>\n",
       "      <td>5.0</td>\n",
       "      <td>NaN</td>\n",
       "      <td>NaN</td>\n",
       "      <td>-5.0</td>\n",
       "      <td>NaN</td>\n",
       "      <td>NaN</td>\n",
       "    </tr>\n",
       "    <tr>\n",
       "      <th>...</th>\n",
       "      <td>...</td>\n",
       "      <td>...</td>\n",
       "      <td>...</td>\n",
       "      <td>...</td>\n",
       "      <td>...</td>\n",
       "      <td>...</td>\n",
       "      <td>...</td>\n",
       "    </tr>\n",
       "    <tr>\n",
       "      <th>122</th>\n",
       "      <td>NaN</td>\n",
       "      <td>4.0</td>\n",
       "      <td>NaN</td>\n",
       "      <td>NaN</td>\n",
       "      <td>NaN</td>\n",
       "      <td>-4.0</td>\n",
       "      <td>NaN</td>\n",
       "    </tr>\n",
       "    <tr>\n",
       "      <th>123</th>\n",
       "      <td>NaN</td>\n",
       "      <td>-4.0</td>\n",
       "      <td>NaN</td>\n",
       "      <td>4.0</td>\n",
       "      <td>NaN</td>\n",
       "      <td>NaN</td>\n",
       "      <td>NaN</td>\n",
       "    </tr>\n",
       "    <tr>\n",
       "      <th>124</th>\n",
       "      <td>NaN</td>\n",
       "      <td>-1.0</td>\n",
       "      <td>NaN</td>\n",
       "      <td>1.0</td>\n",
       "      <td>NaN</td>\n",
       "      <td>NaN</td>\n",
       "      <td>NaN</td>\n",
       "    </tr>\n",
       "    <tr>\n",
       "      <th>125</th>\n",
       "      <td>NaN</td>\n",
       "      <td>-1.0</td>\n",
       "      <td>NaN</td>\n",
       "      <td>1.0</td>\n",
       "      <td>NaN</td>\n",
       "      <td>NaN</td>\n",
       "      <td>NaN</td>\n",
       "    </tr>\n",
       "    <tr>\n",
       "      <th>126</th>\n",
       "      <td>NaN</td>\n",
       "      <td>NaN</td>\n",
       "      <td>NaN</td>\n",
       "      <td>-1.0</td>\n",
       "      <td>NaN</td>\n",
       "      <td>NaN</td>\n",
       "      <td>1.0</td>\n",
       "    </tr>\n",
       "  </tbody>\n",
       "</table>\n",
       "<p>126 rows × 7 columns</p>\n",
       "</div>"
      ],
      "text/plain": [
       "     Aaron Carter  Evan Sooklal  Jack Massingill  Lilith Karyadi  \\\n",
       "1             NaN          -4.0              NaN             NaN   \n",
       "2             NaN           NaN              NaN             NaN   \n",
       "3             NaN          -3.0              NaN             NaN   \n",
       "4             NaN           NaN              NaN             NaN   \n",
       "5             NaN           5.0              NaN             NaN   \n",
       "..            ...           ...              ...             ...   \n",
       "122           NaN           4.0              NaN             NaN   \n",
       "123           NaN          -4.0              NaN             4.0   \n",
       "124           NaN          -1.0              NaN             1.0   \n",
       "125           NaN          -1.0              NaN             1.0   \n",
       "126           NaN           NaN              NaN            -1.0   \n",
       "\n",
       "     Paul Bartenfeld  Roman Ramirez  Will Simpson  \n",
       "1                NaN            NaN           4.0  \n",
       "2               -4.0            4.0           NaN  \n",
       "3                NaN            3.0           NaN  \n",
       "4               -5.0            NaN           5.0  \n",
       "5               -5.0            NaN           NaN  \n",
       "..               ...            ...           ...  \n",
       "122              NaN           -4.0           NaN  \n",
       "123              NaN            NaN           NaN  \n",
       "124              NaN            NaN           NaN  \n",
       "125              NaN            NaN           NaN  \n",
       "126              NaN            NaN           1.0  \n",
       "\n",
       "[126 rows x 7 columns]"
      ]
     },
     "metadata": {},
     "output_type": "display_data"
    }
   ],
   "source": [
    "# elo stuff\n",
    "K = 31\n",
    "base = 3\n",
    "\n",
    "def expected_score(ratingA, ratingB, base=None):\n",
    "    # game variables\n",
    "    # base = 10\n",
    "    normal_elo_difference = 100\n",
    "\n",
    "    return (1 / (1 + np.power(base, (ratingB - ratingA) / normal_elo_difference)))\n",
    "\n",
    "def rating_change(score, expected_score, K=None):\n",
    "    # k-factor: determines how strongly a result affects the rating change\n",
    "    # usually between 10 and 40, bit with a lot of games, we want to change it often\n",
    "    # K = 32\n",
    "    return K * (score - expected_score)\n",
    "\n",
    "def sort_index_by_elo(table, elo):\n",
    "    for i in range(2):\n",
    "        table.sort_index(axis=i, key=(lambda x: [elo[y] for y in x.values]), inplace=True)\n",
    "\n",
    "def add_elo_to_index(table):\n",
    "    table.index= [f\"{x}<br>{(elo[x]):,.0f}\" for x in table.index]\n",
    "    table.columns = [f\"{x}<br>({(elo[x]):,.0f})\" for x in table.columns]\n",
    "\n",
    "def generate_elo(K, base):\n",
    "    # ELO INITIALIZATION\n",
    "    starting_elo = 1200.0\n",
    "    elo = dict.fromkeys(set_players, starting_elo)\n",
    "    elo_time = np.zeros([len(matches_table) + 1, num_players])\n",
    "    elo_time_table = pd.DataFrame(elo_time)\n",
    "    elo_time_table.columns = sorted(elo)\n",
    "    elo_time_table.replace(0, np.NaN, inplace=True)\n",
    "\n",
    "    prev_elo_time_table = elo_time_table.copy(deep=True)\n",
    "    d_elo_time_table = elo_time_table.copy(deep=True)\n",
    "    exp_elo_time_table = elo_time_table.copy(deep=True)\n",
    "    wl_time_table = elo_time_table.copy(deep=True)\n",
    "\n",
    "    record_table = pd.DataFrame(np.zeros([len(set_players), len(set_players)]),dtype=object)\n",
    "    record_table.index = list(set_players)\n",
    "    record_table.columns = list(set_players)\n",
    "\n",
    "    luck_table = pd.DataFrame(np.zeros([len(set_players), len(set_players)]))\n",
    "    luck_table.index = list(set_players)\n",
    "    luck_table.columns = list(set_players)\n",
    "\n",
    "    for c in record_table.columns:\n",
    "        for r in record_table.index:\n",
    "            record_table.at[r, c] = np.array([0, 0])\n",
    "\n",
    "    plus_minus_table = pd.DataFrame(np.zeros([len(set_players), len(set_players)]),dtype=object)\n",
    "    plus_minus_table.index = list(set_players)\n",
    "    plus_minus_table.columns = list(set_players)\n",
    "    \n",
    "    for c in plus_minus_table.columns:\n",
    "        for r in plus_minus_table.index:\n",
    "            plus_minus_table.at[r, c] = np.array([0, 0])\n",
    "\n",
    "    elo_time_table.iloc[0,:] = starting_elo\n",
    "    prev_elo_time_table.iloc[0,:] = starting_elo\n",
    "\n",
    "    for (i, row) in matches_table.iterrows():\n",
    "        elo_p1 = elo[row['Player 1']]\n",
    "        elo_p2 = elo[row['Player 2']]\n",
    "\n",
    "        prev_elo_time_table.loc[i + 1, row['Player 1']] = elo_p1\n",
    "        prev_elo_time_table.loc[i + 1, row['Player 2']] = elo_p2\n",
    "        \n",
    "        win_prob_p1 = expected_score(elo_p1, elo_p2, base=base)\n",
    "        win_prob_p2 = expected_score(elo_p2, elo_p1, base=base)\n",
    "        \n",
    "        exp_elo_time_table.loc[i + 1, row['Player 1']] = win_prob_p1\n",
    "        exp_elo_time_table.loc[i + 1, row['Player 2']] = win_prob_p2\n",
    "\n",
    "        rating_change_p1 = rating_change(row['Score 1'] > row['Score 2'], win_prob_p1, K=K)\n",
    "        rating_change_p2 = rating_change(row['Score 2'] > row['Score 1'], win_prob_p2, K=K)\n",
    "\n",
    "        if rating_change_p1 > 0:\n",
    "            luck_table.loc[row['Player 1'], row['Player 2']] += 1 - win_prob_p1\n",
    "            luck_table.loc[row['Player 2'], row['Player 1']] += 0 - win_prob_p2\n",
    "        elif rating_change_p2 > 0:\n",
    "            luck_table.loc[row['Player 1'], row['Player 2']] += 0 - win_prob_p1\n",
    "            luck_table.loc[row['Player 2'], row['Player 1']] += 1 - win_prob_p2\n",
    "\n",
    "        plus_minus_table.loc[row['Player 1'], row['Player 2']][0] += row['Score 1']\n",
    "        plus_minus_table.loc[row['Player 1'], row['Player 2']][1] += row['Score 2']\n",
    "        plus_minus_table.loc[row['Player 2'], row['Player 1']][0] += row['Score 2']\n",
    "        plus_minus_table.loc[row['Player 2'], row['Player 1']][1] += row['Score 1']\n",
    "\n",
    "        if row['Score 1'] > row['Score 2']:\n",
    "            record_table.loc[row['Player 1'], row['Player 2']][0] += 1\n",
    "            record_table.loc[row['Player 2'], row['Player 1']][1] += 1\n",
    "            wl_time_table.loc[i + 1, row['Player 1']] = row['Score 1'] - row['Score 2']\n",
    "            wl_time_table.loc[i + 1, row['Player 2']] = row['Score 2'] - row['Score 1']\n",
    "        elif row['Score 2'] > row['Score 1']:\n",
    "            record_table.loc[row['Player 2'], row['Player 1']][0] += 1\n",
    "            record_table.loc[row['Player 1'], row['Player 2']][1] += 1\n",
    "            wl_time_table.loc[i + 1, row['Player 1']] = row['Score 1'] - row['Score 2']\n",
    "            wl_time_table.loc[i + 1, row['Player 2']] = row['Score 2'] - row['Score 1']\n",
    "\n",
    "        d_elo_time_table.loc[i + 1, row['Player 1']] = rating_change_p1\n",
    "        d_elo_time_table.loc[i + 1, row['Player 2']] = rating_change_p2\n",
    "\n",
    "        elo[row['Player 1']] += rating_change_p1\n",
    "        elo[row['Player 2']] += rating_change_p2\n",
    "\n",
    "        elo_time_table.loc[i + 1, row['Player 1']] = elo[row['Player 1']]\n",
    "        elo_time_table.loc[i + 1, row['Player 2']] = elo[row['Player 2']]\n",
    "\n",
    "    prev_elo_time_table = prev_elo_time_table.iloc[1:,:]\n",
    "    elo_time_table = elo_time_table.iloc[1:,:]\n",
    "    d_elo_time_table = d_elo_time_table.iloc[1:,:]\n",
    "    exp_elo_time_table = exp_elo_time_table.iloc[1:,:]\n",
    "    wl_time_table = wl_time_table.iloc[1:,:]\n",
    "\n",
    "    list_players = sorted(set_players, key=lambda x: elo[x], reverse=False)\n",
    "\n",
    "    for table in [record_table, luck_table, plus_minus_table]:\n",
    "        sort_index_by_elo(table, elo)\n",
    "\n",
    "    return (elo, elo_time_table, prev_elo_time_table, d_elo_time_table, exp_elo_time_table, wl_time_table, record_table, luck_table, plus_minus_table)\n",
    "\n",
    "(elo, elo_time_table, prev_elo_time_table, d_elo_time_table, exp_elo_time_table, wl_time_table, record_table, luck_table, plus_minus_table) = generate_elo(K=K,base=base)\n",
    "\n",
    "luck_per_game_table = luck_table.copy(deep=True)\n",
    "\n",
    "for c in luck_per_game_table.columns:\n",
    "    for r in luck_per_game_table.index:\n",
    "        if r !=c :\n",
    "            luck_per_game_table.loc[r, c] /= record_table.loc[r, c].sum()\n",
    "        else:\n",
    "            luck_per_game_table.loc[r, c] = np.NaN\n",
    "\n",
    "\n",
    "display(record_table)\n",
    "display(luck_per_game_table)\n",
    "display(plus_minus_table)\n",
    "display(wl_time_table)\n",
    "\n",
    "prev_elo_time_table.to_excel('exports/prev_elo_time_table.xlsx')\n",
    "d_elo_time_table.to_excel('exports/d_elo_time_table.xlsx')\n",
    "elo_time_table.to_excel('exports/elo_time_table.xlsx')\n",
    "exp_elo_time_table.to_excel('exports/exp_elo_time_table.xlsx')\n",
    "\n"
   ]
  },
  {
   "cell_type": "code",
   "execution_count": 6,
   "metadata": {},
   "outputs": [
    {
     "data": {
      "text/html": [
       "<style type=\"text/css\">\n",
       "#T_b185b  {\n",
       "  text-align: center;\n",
       "  font-size: 11pt;\n",
       "  border-collapse: collapse;\n",
       "  border: 1px solid silver;\n",
       "}\n",
       "#T_b185b caption {\n",
       "  font: bold 20px Verdana;\n",
       "}\n",
       "#T_b185b tr:nth-child(even) {\n",
       "  background-color: #D3D3D3;\n",
       "}\n",
       "#T_b185b td:hover {\n",
       "  background-color: #ffffb3;\n",
       "}\n",
       "#T_b185b th {\n",
       "  font-family: Verdana;\n",
       "  background-color: #828282;\n",
       "  color: #FFFFFF;\n",
       "  padding-left: 5px;\n",
       "  padding-right: 5px;\n",
       "}\n",
       "#T_b185b td {\n",
       "  font-family: Courier New;\n",
       "  font-weight: bold;\n",
       "  padding-left: 5px;\n",
       "  padding-right: 5px;\n",
       "}\n",
       "</style>\n",
       "<table id=\"T_b185b\">\n",
       "  <caption>Player Table Statistics</caption>\n",
       "  <thead>\n",
       "    <tr>\n",
       "      <th class=\"blank level0\" >&nbsp;</th>\n",
       "      <th class=\"col_heading level0 col0\" >Current ELO</th>\n",
       "      <th class=\"col_heading level0 col1\" >Max ELO</th>\n",
       "      <th class=\"col_heading level0 col2\" >Min ELO</th>\n",
       "      <th class=\"col_heading level0 col3\" >Titles</th>\n",
       "      <th class=\"col_heading level0 col4\" >Runner-Ups</th>\n",
       "      <th class=\"col_heading level0 col5\" >GP</th>\n",
       "      <th class=\"col_heading level0 col6\" >W</th>\n",
       "      <th class=\"col_heading level0 col7\" >L</th>\n",
       "      <th class=\"col_heading level0 col8\" >GB</th>\n",
       "      <th class=\"col_heading level0 col9\" >PCT</th>\n",
       "      <th class=\"col_heading level0 col10\" >PD</th>\n",
       "      <th class=\"col_heading level0 col11\" >PF</th>\n",
       "      <th class=\"col_heading level0 col12\" >PA</th>\n",
       "      <th class=\"col_heading level0 col13\" >PD/G</th>\n",
       "      <th class=\"col_heading level0 col14\" >PF/G</th>\n",
       "      <th class=\"col_heading level0 col15\" >PA/G</th>\n",
       "      <th class=\"col_heading level0 col16\" >Luck/G</th>\n",
       "      <th class=\"col_heading level0 col17\" >1-PT G</th>\n",
       "      <th class=\"col_heading level0 col18\" >6-PT G</th>\n",
       "      <th class=\"col_heading level0 col19\" >Streak</th>\n",
       "      <th class=\"col_heading level0 col20\" >L10</th>\n",
       "    </tr>\n",
       "  </thead>\n",
       "  <tbody>\n",
       "    <tr>\n",
       "      <th class=\"row_heading level0 row0\" >Aaron Carter</th>\n",
       "      <td class=\"data row0 col0\" >1328</td>\n",
       "      <td class=\"data row0 col1\" >1341</td>\n",
       "      <td class=\"data row0 col2\" >1182</td>\n",
       "      <td class=\"data row0 col3\" >3</td>\n",
       "      <td class=\"data row0 col4\" >1</td>\n",
       "      <td class=\"data row0 col5\" >47</td>\n",
       "      <td class=\"data row0 col6\" >34</td>\n",
       "      <td class=\"data row0 col7\" >13</td>\n",
       "      <td class=\"data row0 col8\" >0.0</td>\n",
       "      <td class=\"data row0 col9\" >0.723</td>\n",
       "      <td class=\"data row0 col10\" >+65</td>\n",
       "      <td class=\"data row0 col11\" >219</td>\n",
       "      <td class=\"data row0 col12\" >154</td>\n",
       "      <td class=\"data row0 col13\" >+1.4</td>\n",
       "      <td class=\"data row0 col14\" >4.7</td>\n",
       "      <td class=\"data row0 col15\" >3.3</td>\n",
       "      <td class=\"data row0 col16\" >+8.8%</td>\n",
       "      <td class=\"data row0 col17\" >7-5</td>\n",
       "      <td class=\"data row0 col18\" >1-1</td>\n",
       "      <td class=\"data row0 col19\" >W2</td>\n",
       "      <td class=\"data row0 col20\" >7-3</td>\n",
       "    </tr>\n",
       "    <tr>\n",
       "      <th class=\"row_heading level0 row1\" >Will Simpson</th>\n",
       "      <td class=\"data row1 col0\" >1226</td>\n",
       "      <td class=\"data row1 col1\" >1307</td>\n",
       "      <td class=\"data row1 col2\" >1168</td>\n",
       "      <td class=\"data row1 col3\" >3</td>\n",
       "      <td class=\"data row1 col4\" >2</td>\n",
       "      <td class=\"data row1 col5\" >57</td>\n",
       "      <td class=\"data row1 col6\" >33</td>\n",
       "      <td class=\"data row1 col7\" >24</td>\n",
       "      <td class=\"data row1 col8\" >-6.0</td>\n",
       "      <td class=\"data row1 col9\" >0.579</td>\n",
       "      <td class=\"data row1 col10\" >+19</td>\n",
       "      <td class=\"data row1 col11\" >232</td>\n",
       "      <td class=\"data row1 col12\" >213</td>\n",
       "      <td class=\"data row1 col13\" >+0.3</td>\n",
       "      <td class=\"data row1 col14\" >4.1</td>\n",
       "      <td class=\"data row1 col15\" >3.7</td>\n",
       "      <td class=\"data row1 col16\" >+1.5%</td>\n",
       "      <td class=\"data row1 col17\" >6-3</td>\n",
       "      <td class=\"data row1 col18\" >1-4</td>\n",
       "      <td class=\"data row1 col19\" >W3</td>\n",
       "      <td class=\"data row1 col20\" >4-6</td>\n",
       "    </tr>\n",
       "    <tr>\n",
       "      <th class=\"row_heading level0 row2\" >Lilith Karyadi</th>\n",
       "      <td class=\"data row2 col0\" >1226</td>\n",
       "      <td class=\"data row2 col1\" >1244</td>\n",
       "      <td class=\"data row2 col2\" >1201</td>\n",
       "      <td class=\"data row2 col3\" >0</td>\n",
       "      <td class=\"data row2 col4\" >1</td>\n",
       "      <td class=\"data row2 col5\" >8</td>\n",
       "      <td class=\"data row2 col6\" >5</td>\n",
       "      <td class=\"data row2 col7\" >3</td>\n",
       "      <td class=\"data row2 col8\" >-9.5</td>\n",
       "      <td class=\"data row2 col9\" >0.625</td>\n",
       "      <td class=\"data row2 col10\" >+6</td>\n",
       "      <td class=\"data row2 col11\" >42</td>\n",
       "      <td class=\"data row2 col12\" >36</td>\n",
       "      <td class=\"data row2 col13\" >+0.8</td>\n",
       "      <td class=\"data row2 col14\" >5.2</td>\n",
       "      <td class=\"data row2 col15\" >4.5</td>\n",
       "      <td class=\"data row2 col16\" >+10.4%</td>\n",
       "      <td class=\"data row2 col17\" >2-2</td>\n",
       "      <td class=\"data row2 col18\" >0-0</td>\n",
       "      <td class=\"data row2 col19\" >L1</td>\n",
       "      <td class=\"data row2 col20\" >5-3</td>\n",
       "    </tr>\n",
       "    <tr>\n",
       "      <th class=\"row_heading level0 row3\" >Roman Ramirez</th>\n",
       "      <td class=\"data row3 col0\" >1201</td>\n",
       "      <td class=\"data row3 col1\" >1307</td>\n",
       "      <td class=\"data row3 col2\" >1118</td>\n",
       "      <td class=\"data row3 col3\" >1</td>\n",
       "      <td class=\"data row3 col4\" >1</td>\n",
       "      <td class=\"data row3 col5\" >54</td>\n",
       "      <td class=\"data row3 col6\" >24</td>\n",
       "      <td class=\"data row3 col7\" >30</td>\n",
       "      <td class=\"data row3 col8\" >-13.5</td>\n",
       "      <td class=\"data row3 col9\" >0.444</td>\n",
       "      <td class=\"data row3 col10\" >+10</td>\n",
       "      <td class=\"data row3 col11\" >223</td>\n",
       "      <td class=\"data row3 col12\" >213</td>\n",
       "      <td class=\"data row3 col13\" >+0.2</td>\n",
       "      <td class=\"data row3 col14\" >4.1</td>\n",
       "      <td class=\"data row3 col15\" >3.9</td>\n",
       "      <td class=\"data row3 col16\" >+0.0%</td>\n",
       "      <td class=\"data row3 col17\" >2-7</td>\n",
       "      <td class=\"data row3 col18\" >4-0</td>\n",
       "      <td class=\"data row3 col19\" >L6</td>\n",
       "      <td class=\"data row3 col20\" >4-6</td>\n",
       "    </tr>\n",
       "    <tr>\n",
       "      <th class=\"row_heading level0 row4\" >Evan Sooklal</th>\n",
       "      <td class=\"data row4 col0\" >1178</td>\n",
       "      <td class=\"data row4 col1\" >1252</td>\n",
       "      <td class=\"data row4 col2\" >1149</td>\n",
       "      <td class=\"data row4 col3\" >0</td>\n",
       "      <td class=\"data row4 col4\" >2</td>\n",
       "      <td class=\"data row4 col5\" >56</td>\n",
       "      <td class=\"data row4 col6\" >25</td>\n",
       "      <td class=\"data row4 col7\" >31</td>\n",
       "      <td class=\"data row4 col8\" >-13.5</td>\n",
       "      <td class=\"data row4 col9\" >0.446</td>\n",
       "      <td class=\"data row4 col10\" >-28</td>\n",
       "      <td class=\"data row4 col11\" >221</td>\n",
       "      <td class=\"data row4 col12\" >249</td>\n",
       "      <td class=\"data row4 col13\" >-0.5</td>\n",
       "      <td class=\"data row4 col14\" >3.9</td>\n",
       "      <td class=\"data row4 col15\" >4.4</td>\n",
       "      <td class=\"data row4 col16\" >-1.3%</td>\n",
       "      <td class=\"data row4 col17\" >9-8</td>\n",
       "      <td class=\"data row4 col18\" >1-0</td>\n",
       "      <td class=\"data row4 col19\" >L3</td>\n",
       "      <td class=\"data row4 col20\" >4-6</td>\n",
       "    </tr>\n",
       "    <tr>\n",
       "      <th class=\"row_heading level0 row5\" >Jack Massingill</th>\n",
       "      <td class=\"data row5 col0\" >1149</td>\n",
       "      <td class=\"data row5 col1\" >1181</td>\n",
       "      <td class=\"data row5 col2\" >1127</td>\n",
       "      <td class=\"data row5 col3\" >0</td>\n",
       "      <td class=\"data row5 col4\" >0</td>\n",
       "      <td class=\"data row5 col5\" >8</td>\n",
       "      <td class=\"data row5 col6\" >1</td>\n",
       "      <td class=\"data row5 col7\" >7</td>\n",
       "      <td class=\"data row5 col8\" >-13.5</td>\n",
       "      <td class=\"data row5 col9\" >0.125</td>\n",
       "      <td class=\"data row5 col10\" >-25</td>\n",
       "      <td class=\"data row5 col11\" >17</td>\n",
       "      <td class=\"data row5 col12\" >42</td>\n",
       "      <td class=\"data row5 col13\" >-3.1</td>\n",
       "      <td class=\"data row5 col14\" >2.1</td>\n",
       "      <td class=\"data row5 col15\" >5.2</td>\n",
       "      <td class=\"data row5 col16\" >-20.5%</td>\n",
       "      <td class=\"data row5 col17\" >0-0</td>\n",
       "      <td class=\"data row5 col18\" >1-3</td>\n",
       "      <td class=\"data row5 col19\" >W1</td>\n",
       "      <td class=\"data row5 col20\" >1-7</td>\n",
       "    </tr>\n",
       "    <tr>\n",
       "      <th class=\"row_heading level0 row6\" >Paul Bartenfeld</th>\n",
       "      <td class=\"data row6 col0\" >1093</td>\n",
       "      <td class=\"data row6 col1\" >1184</td>\n",
       "      <td class=\"data row6 col2\" >1093</td>\n",
       "      <td class=\"data row6 col3\" >0</td>\n",
       "      <td class=\"data row6 col4\" >0</td>\n",
       "      <td class=\"data row6 col5\" >22</td>\n",
       "      <td class=\"data row6 col6\" >4</td>\n",
       "      <td class=\"data row6 col7\" >18</td>\n",
       "      <td class=\"data row6 col8\" >-17.5</td>\n",
       "      <td class=\"data row6 col9\" >0.182</td>\n",
       "      <td class=\"data row6 col10\" >-47</td>\n",
       "      <td class=\"data row6 col11\" >76</td>\n",
       "      <td class=\"data row6 col12\" >123</td>\n",
       "      <td class=\"data row6 col13\" >-2.1</td>\n",
       "      <td class=\"data row6 col14\" >3.5</td>\n",
       "      <td class=\"data row6 col15\" >5.6</td>\n",
       "      <td class=\"data row6 col16\" >-15.7%</td>\n",
       "      <td class=\"data row6 col17\" >1-2</td>\n",
       "      <td class=\"data row6 col18\" >0-0</td>\n",
       "      <td class=\"data row6 col19\" >L8</td>\n",
       "      <td class=\"data row6 col20\" >2-8</td>\n",
       "    </tr>\n",
       "  </tbody>\n",
       "</table>\n"
      ],
      "text/plain": [
       "<pandas.io.formats.style.Styler at 0x1904610fc10>"
      ]
     },
     "metadata": {},
     "output_type": "display_data"
    }
   ],
   "source": [
    "# player stats\n",
    "\n",
    "player_table = pd.DataFrame(np.zeros([len(set_players), 0]))\n",
    "player_table.index = set_players\n",
    "player_table.sort_index(axis=0, key=(lambda x: [elo[y] for y in x.values]), ascending=False, inplace=True)\n",
    "\n",
    "# ELO\n",
    "\n",
    "player_table['Current ELO'] = [elo[x] for x in player_table.index]\n",
    "player_table['Max ELO'] = elo_time_table.replace(to_replace=np.NaN, value=-np.inf).max(axis=0)\n",
    "player_table['Min ELO'] = elo_time_table.replace(to_replace=np.NaN, value=np.inf).min(axis=0)\n",
    "\n",
    "date2matches_len = dict.fromkeys(set(matches_table['Date']),0)\n",
    "date2matches_first = dict.fromkeys(set(matches_table['Date']),0)\n",
    "for (i, row) in matches_table.iterrows():\n",
    "    if date2matches_len[row['Date']] == 0:\n",
    "        date2matches_first[row['Date']] = i\n",
    "    date2matches_len[row['Date']] += 1\n",
    "\n",
    "# CHAMPIONSHIPS AND RUNNER UPS\n",
    "\n",
    "championships = dict.fromkeys(set_players, 0)\n",
    "runner_ups = dict.fromkeys(set_players, 0)\n",
    "for date in set(matches_table['Date']):\n",
    "    row = matches_table.iloc[date2matches_first[date] + date2matches_len[date] - 1, :]\n",
    "    if row['Score 1'] > row['Score 2']:\n",
    "        championships[row['Player 1']] += 1\n",
    "        runner_ups[row['Player 2']] += 1\n",
    "    elif row['Score 2'] > row['Score 1']:\n",
    "        championships[row['Player 2']] += 1\n",
    "        runner_ups[row['Player 1']] += 1\n",
    "\n",
    "player_table['Titles'] = pd.DataFrame(championships.values(), index=championships.keys())\n",
    "player_table['Runner-Ups'] = pd.DataFrame(runner_ups.values(), index=runner_ups.keys())\n",
    "\n",
    "# RECORDS\n",
    "\n",
    "player_table['Record'] = record_table.sum(axis=1)\n",
    "player_table['GP'] = [sum(r) for r in player_table['Record']]\n",
    "player_table['W'] = [r[0] for r in player_table['Record']]\n",
    "player_table['L'] = [r[1] for r in player_table['Record']]\n",
    "player_table['WL'] = player_table['W'] - player_table['L']\n",
    "player_table['GB'] = (player_table['WL'] - player_table['WL'].max()) / 2\n",
    "player_table['PCT'] = player_table['W'] / player_table['GP']\n",
    "player_table.drop(columns='Record', inplace=True)\n",
    "\n",
    "# POINTS\n",
    "\n",
    "player_table['Raw +/-'] = plus_minus_table.sum(axis=1)\n",
    "player_table['PD'] = [r[0] - r[1] for r in player_table['Raw +/-']]\n",
    "player_table['PF'] = [r[0] for r in player_table['Raw +/-']]\n",
    "player_table['PA'] = [r[1] for r in player_table['Raw +/-']]\n",
    "player_table['PD/G'] = player_table['PD'] / player_table['GP']\n",
    "player_table['PF/G'] = player_table['PF'] / player_table['GP']\n",
    "player_table['PA/G'] = player_table['PA'] / player_table['GP']\n",
    "player_table.drop(columns='Raw +/-', inplace=True)\n",
    "\n",
    "# LUCK\n",
    "\n",
    "player_table['Luck'] = luck_table.sum(axis=1)\n",
    "player_table['Luck/G'] = player_table['Luck'] / player_table['GP']\n",
    "\n",
    "# N-POINT GAMES\n",
    "npg_table = pd.DataFrame(np.zeros([len(set_players), 0]))\n",
    "npg_table.index = player_table.index\n",
    "sort_index_by_elo(npg_table, elo)\n",
    "\n",
    "for i in range(6):\n",
    "    npg_table[f'{i+1}-PT G'] = [[0, 0] for x in range(len(set_players))]\n",
    "for (i, row) in matches_table.iterrows():\n",
    "    npg_table.loc[row['Player 1'], f\"{abs(row['Score 1'] - row['Score 2'])}-PT G\"][row['Score 1'] < row['Score 2']] += 1\n",
    "    npg_table.loc[row['Player 2'], f\"{abs(row['Score 1'] - row['Score 2'])}-PT G\"][row['Score 1'] > row['Score 2']] += 1\n",
    "\n",
    "# STREAKS\n",
    "\n",
    "streaks = dict.fromkeys(set_players, list())\n",
    "\n",
    "for player in streaks.keys():\n",
    "    running = [0]\n",
    "    for is_win in wl_time_table[player].dropna().reset_index(drop=True).apply(np.sign):\n",
    "        if running[-1] == 0:\n",
    "            running.append(is_win)\n",
    "        elif (is_win > 0) and (running[-1] < 0):\n",
    "            running.append(1)\n",
    "        elif (is_win < 0) and (running[-1] > 0):\n",
    "            running.append(-1)\n",
    "        else:\n",
    "            running.append(running[-1] + is_win)\n",
    "    streaks[player] = running[1:]\n",
    "\n",
    "streaks_table = pd.DataFrame(np.zeros([max([len(x) for x in streaks.values()]), len(set_players)]))\n",
    "streaks_table.columns = set_players\n",
    "streaks_table.sort_index(axis=1, key=(lambda x: [elo[y] for y in x.values]), ascending=False, inplace=True)\n",
    "\n",
    "for player in streaks_table.columns:\n",
    "    streaks_table[player] = pd.Series(streaks[player])\n",
    "\n",
    "for x in ['1-PT G', '6-PT G']:\n",
    "    player_table[x] = npg_table[x]\n",
    "    player_table[x] = [f'{w}-{l}' for (w, l) in player_table[x]]\n",
    "\n",
    "\n",
    "player_table['Streak'] = 0\n",
    "for player in player_table.index:\n",
    "    val = \"\"\n",
    "    if streaks[player][-1] > 0:\n",
    "        val += \"W\"\n",
    "    elif streaks[player][-1] < 0:\n",
    "        val += \"L\"\n",
    "    val += str(int(np.abs(streaks[player][-1])))\n",
    "    player_table.loc[player, 'Streak'] = val\n",
    "\n",
    "player_table['L10'] = \"\"\n",
    "for player in player_table.index:\n",
    "    l10_w = 0\n",
    "    l10_l = 0\n",
    "    for i in range(10):\n",
    "        try:\n",
    "            if streaks[player][-1 - i] > 0:\n",
    "                l10_w += 1\n",
    "            elif streaks[player][-1 - i] < 0:\n",
    "                l10_l += 1\n",
    "        except IndexError:\n",
    "            pass\n",
    "    player_table.loc[player, 'L10'] = f\"{l10_w}-{l10_l}\"\n",
    "\n",
    "player_table.drop('WL', axis=1, inplace=True)\n",
    "player_table.drop('Luck', axis=1, inplace=True)\n",
    "\n",
    "# STYLIZING\n",
    "\n",
    "from pandas.io.formats.style import Styler\n",
    "\n",
    "player_table_styled = Styler(player_table, cell_ids=False).format(\n",
    "    {'Current ELO': '{:.0f}',\n",
    "    'Max ELO': '{:.0f}',\n",
    "    'Min ELO': '{:.0f}',\n",
    "    'WL': '{:+,.0f}',\n",
    "    'GB': '{:,.1f}',\n",
    "    'PCT': '{:,.3f}',\n",
    "    'PD': '{:+.0f}',\n",
    "    'PD/G': '{:+,.1f}',\n",
    "    'PF/G': '{:,.1f}',\n",
    "    'PA/G': '{:,.1f}',\n",
    "    'Luck': '{:+,.1%}',\n",
    "    'Luck/G': '{:+,.1%}'\n",
    "    }\n",
    ")\n",
    "\n",
    "player_table_styled.set_caption(\"Player Table Statistics\")\n",
    "\n",
    "styles = [\n",
    "    {\n",
    "        'selector': '',\n",
    "        'props': [\n",
    "            ('text-align', 'center'),\n",
    "            ('font-size', '11pt'),\n",
    "            ('border-collapse', 'collapse'),#'separated'),\n",
    "            ('border', '1px solid silver')\n",
    "        ]\n",
    "    },\n",
    "    {\n",
    "        'selector': 'caption',\n",
    "        'props': [('font', 'bold 20px Verdana')]\n",
    "    },\n",
    "    {\n",
    "        'selector': 'tr:nth-child(even)',\n",
    "        'props': 'background-color: #D3D3D3'\n",
    "    },\n",
    "    {\n",
    "        'selector': 'td:hover',\n",
    "        'props': [('background-color','#ffffb3')]\n",
    "    },\n",
    "    {\n",
    "        'selector': 'th',\n",
    "        'props': [\n",
    "            ('font-family', 'Verdana'),\n",
    "            ('background-color', '#828282'),\n",
    "            ('color', '#FFFFFF'),\n",
    "            ('padding-left', '5px'),\n",
    "            ('padding-right', '5px')\n",
    "        ]\n",
    "    },\n",
    "    {\n",
    "        'selector': 'td',\n",
    "        'props': [\n",
    "            ('font-family', 'Courier New'),\n",
    "            ('font-weight', 'bold'),\n",
    "            ('padding-left', '5px'),\n",
    "            ('padding-right', '5px')\n",
    "        ]\n",
    "    }\n",
    "]\n",
    "\n",
    "player_table_styled.set_table_styles(styles, overwrite=True)\n",
    "\n",
    "with pd.option_context('display.max_rows', None, 'display.max_columns', None):\n",
    "    display(player_table_styled)\n",
    "\n",
    "player_table_styled.to_html('figures/fig4.html')\n",
    "\n",
    "matches_table_styled = Styler(matches_table, cell_ids=False)\n",
    "matches_table_styled.set_caption(\"Matches Table\")\n",
    "matches_table_styled.set_table_styles(styles, overwrite=True)\n",
    "matches_table_styled.to_html('figures/fig5.html')\n",
    "\n"
   ]
  },
  {
   "cell_type": "code",
   "execution_count": 7,
   "metadata": {},
   "outputs": [
    {
     "data": {
      "application/vnd.plotly.v1+json": {
       "config": {
        "plotlyServerURL": "https://plot.ly"
       },
       "data": [
        {
         "connectgaps": true,
         "customdata": [
          [
           "Evan Sooklal",
           "Will Simpson",
           2,
           6,
           "2023-11-18",
           "[Gen 9] OU",
           "1"
          ],
          [
           "Paul Bartenfeld",
           "Roman Ramirez",
           2,
           6,
           "2023-11-18",
           "[Gen 9] OU",
           "2"
          ],
          [
           "Roman Ramirez",
           "Evan Sooklal",
           6,
           3,
           "2023-11-18",
           "[Gen 9] OU",
           "3"
          ],
          [
           "Will Simpson",
           "Paul Bartenfeld",
           6,
           1,
           "2023-11-18",
           "[Gen 9] OU",
           "4"
          ],
          [
           "Paul Bartenfeld",
           "Evan Sooklal",
           1,
           6,
           "2023-11-18",
           "[Gen 9] OU",
           "5"
          ],
          [
           "Will Simpson",
           "Roman Ramirez",
           3,
           6,
           "2023-11-18",
           "[Gen 9] OU",
           "6"
          ],
          [
           "Will Simpson",
           "Evan Sooklal",
           6,
           2,
           "2023-11-18",
           "[Gen 9] OU",
           "7"
          ],
          [
           "Roman Ramirez",
           "Paul Bartenfeld",
           6,
           4,
           "2023-11-18",
           "[Gen 9] OU",
           "8"
          ],
          [
           "Evan Sooklal",
           "Roman Ramirez",
           6,
           5,
           "2023-11-18",
           "[Gen 9] OU",
           "9"
          ],
          [
           "Paul Bartenfeld",
           "Will Simpson",
           4,
           6,
           "2023-11-18",
           "[Gen 9] OU",
           "10"
          ],
          [
           "Evan Sooklal",
           "Paul Bartenfeld",
           6,
           5,
           "2023-11-18",
           "[Gen 9] OU",
           "11"
          ],
          [
           "Roman Ramirez",
           "Will Simpson",
           6,
           2,
           "2023-11-18",
           "[Gen 9] OU",
           "12"
          ],
          [
           "Roman Ramirez",
           "Will Simpson",
           2,
           6,
           "2023-11-18",
           "[Gen 9] OU",
           "1"
          ],
          [
           "Will Simpson",
           "Roman Ramirez",
           4,
           6,
           "2023-11-18",
           "[Gen 9] OU",
           "2"
          ],
          [
           "Roman Ramirez",
           "Will Simpson",
           6,
           4,
           "2023-11-18",
           "[Gen 9] OU",
           "3"
          ],
          [
           "Roman Ramirez",
           "Aaron Carter",
           4,
           6,
           "2023-12-02",
           "[Gen 9] OU",
           "1"
          ],
          [
           "Will Simpson",
           "Paul Bartenfeld",
           6,
           4,
           "2023-12-02",
           "[Gen 9] OU",
           "2"
          ],
          [
           "Aaron Carter",
           "Will Simpson",
           4,
           6,
           "2023-12-02",
           "[Gen 9] OU",
           "3"
          ],
          [
           "Evan Sooklal",
           "Roman Ramirez",
           6,
           2,
           "2023-12-02",
           "[Gen 9] OU",
           "4"
          ],
          [
           "Will Simpson",
           "Evan Sooklal",
           6,
           2,
           "2023-12-02",
           "[Gen 9] OU",
           "5"
          ],
          [
           "Paul Bartenfeld",
           "Aaron Carter",
           6,
           3,
           "2023-12-02",
           "[Gen 9] OU",
           "6"
          ],
          [
           "Evan Sooklal",
           "Paul Bartenfeld",
           6,
           4,
           "2023-12-02",
           "[Gen 9] OU",
           "7"
          ],
          [
           "Roman Ramirez",
           "Will Simpson",
           6,
           4,
           "2023-12-02",
           "[Gen 9] OU",
           "8"
          ],
          [
           "Paul Bartenfeld",
           "Roman Ramirez",
           6,
           3,
           "2023-12-02",
           "[Gen 9] OU",
           "9"
          ],
          [
           "Aaron Carter",
           "Evan Sooklal",
           6,
           3,
           "2023-12-02",
           "[Gen 9] OU",
           "10"
          ],
          [
           "Aaron Carter",
           "Roman Ramirez",
           0,
           6,
           "2023-12-02",
           "[Gen 9] OU",
           "11"
          ],
          [
           "Paul Bartenfeld",
           "Will Simpson",
           1,
           6,
           "2023-12-02",
           "[Gen 9] OU",
           "12"
          ],
          [
           "Will Simpson",
           "Aaron Carter",
           3,
           6,
           "2023-12-02",
           "[Gen 9] OU",
           "13"
          ],
          [
           "Roman Ramirez",
           "Evan Sooklal",
           2,
           6,
           "2023-12-02",
           "[Gen 9] OU",
           "14"
          ],
          [
           "Evan Sooklal",
           "Will Simpson",
           5,
           6,
           "2023-12-02",
           "[Gen 9] OU",
           "15"
          ],
          [
           "Aaron Carter",
           "Paul Bartenfeld",
           6,
           3,
           "2023-12-02",
           "[Gen 9] OU",
           "16"
          ],
          [
           "Paul Bartenfeld",
           "Evan Sooklal",
           6,
           5,
           "2023-12-02",
           "[Gen 9] OU",
           "17"
          ],
          [
           "Will Simpson",
           "Roman Ramirez",
           6,
           5,
           "2023-12-02",
           "[Gen 9] OU",
           "18"
          ],
          [
           "Roman Ramirez",
           "Paul Bartenfeld",
           4,
           6,
           "2023-12-02",
           "[Gen 9] OU",
           "19"
          ],
          [
           "Evan Sooklal",
           "Aaron Carter",
           6,
           4,
           "2023-12-02",
           "[Gen 9] OU",
           "20"
          ],
          [
           "Will Simpson",
           "Evan Sooklal",
           6,
           2,
           "2023-12-02",
           "[Gen 9] OU",
           "1"
          ],
          [
           "Will Simpson",
           "Evan Sooklal",
           6,
           1,
           "2023-12-02",
           "[Gen 9] OU",
           "2"
          ],
          [
           "Aaron Carter",
           "Paul Bartenfeld",
           6,
           3,
           "2023-12-13",
           "[Gen 9] OU",
           "1"
          ],
          [
           "Roman Ramirez",
           "Evan Sooklal",
           5,
           6,
           "2023-12-13",
           "[Gen 9] OU",
           "2"
          ],
          [
           "Paul Bartenfeld",
           "Roman Ramirez",
           2,
           6,
           "2023-12-13",
           "[Gen 9] OU",
           "3"
          ],
          [
           "Will Simpson",
           "Aaron Carter",
           0,
           6,
           "2023-12-13",
           "[Gen 9] OU",
           "4"
          ],
          [
           "Roman Ramirez",
           "Will Simpson",
           4,
           6,
           "2023-12-13",
           "[Gen 9] OU",
           "5"
          ],
          [
           "Evan Sooklal",
           "Paul Bartenfeld",
           6,
           5,
           "2023-12-13",
           "[Gen 9] OU",
           "6"
          ],
          [
           "Will Simpson",
           "Evan Sooklal",
           4,
           6,
           "2023-12-13",
           "[Gen 9] OU",
           "7"
          ],
          [
           "Aaron Carter",
           "Roman Ramirez",
           6,
           3,
           "2023-12-13",
           "[Gen 9] OU",
           "8"
          ],
          [
           "Evan Sooklal",
           "Aaron Carter",
           5,
           6,
           "2023-12-13",
           "[Gen 9] OU",
           "9"
          ],
          [
           "Paul Bartenfeld",
           "Will Simpson",
           2,
           6,
           "2023-12-13",
           "[Gen 9] OU",
           "10"
          ],
          [
           "Paul Bartenfeld",
           "Aaron Carter",
           3,
           6,
           "2023-12-13",
           "[Gen 9] OU",
           "11"
          ],
          [
           "Evan Sooklal",
           "Roman Ramirez",
           6,
           4,
           "2023-12-13",
           "[Gen 9] OU",
           "12"
          ],
          [
           "Roman Ramirez",
           "Paul Bartenfeld",
           6,
           1,
           "2023-12-13",
           "[Gen 9] OU",
           "13"
          ],
          [
           "Aaron Carter",
           "Will Simpson",
           6,
           5,
           "2023-12-13",
           "[Gen 9] OU",
           "14"
          ],
          [
           "Will Simpson",
           "Roman Ramirez",
           3,
           6,
           "2023-12-13",
           "[Gen 9] OU",
           "15"
          ],
          [
           "Paul Bartenfeld",
           "Evan Sooklal",
           3,
           6,
           "2023-12-13",
           "[Gen 9] OU",
           "16"
          ],
          [
           "Evan Sooklal",
           "Will Simpson",
           6,
           3,
           "2023-12-13",
           "[Gen 9] OU",
           "17"
          ],
          [
           "Roman Ramirez",
           "Aaron Carter",
           5,
           6,
           "2023-12-13",
           "[Gen 9] OU",
           "18"
          ],
          [
           "Aaron Carter",
           "Evan Sooklal",
           6,
           2,
           "2023-12-13",
           "[Gen 9] OU",
           "19"
          ],
          [
           "Will Simpson",
           "Paul Bartenfeld",
           6,
           4,
           "2023-12-13",
           "[Gen 9] OU",
           "20"
          ],
          [
           "Aaron Carter",
           "Evan Sooklal",
           5,
           6,
           "2023-12-13",
           "[Gen 9] OU",
           "1"
          ],
          [
           "Evan Sooklal",
           "Aaron Carter",
           2,
           6,
           "2023-12-13",
           "[Gen 9] OU",
           "2"
          ],
          [
           "Aaron Carter",
           "Evan Sooklal",
           6,
           2,
           "2023-12-13",
           "[Gen 9] OU",
           "3"
          ],
          [
           "Evan Sooklal",
           "Will Simpson",
           0,
           4,
           "2024-01-28",
           "[Gen 9] VGC 2024 Reg F",
           "1"
          ],
          [
           "Roman Ramirez",
           "Aaron Carter",
           2,
           4,
           "2024-01-28",
           "[Gen 9] VGC 2024 Reg F",
           "2"
          ],
          [
           "Aaron Carter",
           "Evan Sooklal",
           3,
           4,
           "2024-01-28",
           "[Gen 9] VGC 2024 Reg F",
           "3"
          ],
          [
           "Will Simpson",
           "Roman Ramirez",
           4,
           2,
           "2024-01-28",
           "[Gen 9] VGC 2024 Reg F",
           "4"
          ],
          [
           "Roman Ramirez",
           "Evan Sooklal",
           0,
           4,
           "2024-01-28",
           "[Gen 9] VGC 2024 Reg F",
           "5"
          ],
          [
           "Will Simpson",
           "Aaron Carter",
           1,
           4,
           "2024-01-28",
           "[Gen 9] VGC 2024 Reg F",
           "6"
          ],
          [
           "Will Simpson",
           "Evan Sooklal",
           4,
           2,
           "2024-01-28",
           "[Gen 9] VGC 2024 Reg F",
           "7"
          ],
          [
           "Aaron Carter",
           "Roman Ramirez",
           4,
           0,
           "2024-01-28",
           "[Gen 9] VGC 2024 Reg F",
           "8"
          ],
          [
           "Evan Sooklal",
           "Aaron Carter",
           3,
           4,
           "2024-01-28",
           "[Gen 9] VGC 2024 Reg F",
           "9"
          ],
          [
           "Roman Ramirez",
           "Will Simpson",
           1,
           4,
           "2024-01-28",
           "[Gen 9] VGC 2024 Reg F",
           "10"
          ],
          [
           "Evan Sooklal",
           "Roman Ramirez",
           4,
           3,
           "2024-01-28",
           "[Gen 9] VGC 2024 Reg F",
           "11"
          ],
          [
           "Aaron Carter",
           "Will Simpson",
           2,
           4,
           "2024-01-28",
           "[Gen 9] VGC 2024 Reg F",
           "12"
          ],
          [
           "Will Simpson",
           "Aaron Carter",
           4,
           0,
           "2024-01-28",
           "[Gen 9] VGC 2024 Reg F",
           "1"
          ],
          [
           "Will Simpson",
           "Aaron Carter",
           4,
           3,
           "2024-01-28",
           "[Gen 9] VGC 2024 Reg F",
           "2"
          ],
          [
           "Aaron Carter",
           "Evan Sooklal",
           4,
           2,
           "2024-02-09",
           "[Gen 9] VGC 2024 Reg F",
           "1a"
          ],
          [
           "Aaron Carter",
           "Evan Sooklal",
           4,
           3,
           "2024-02-09",
           "[Gen 9] VGC 2024 Reg F",
           "1b"
          ],
          [
           "Roman Ramirez",
           "Will Simpson",
           3,
           4,
           "2024-02-09",
           "[Gen 9] VGC 2024 Reg F",
           "2a"
          ],
          [
           "Roman Ramirez",
           "Will Simpson",
           2,
           4,
           "2024-02-09",
           "[Gen 9] VGC 2024 Reg F",
           "2b"
          ],
          [
           "Will Simpson",
           "Aaron Carter",
           2,
           4,
           "2024-02-09",
           "[Gen 9] VGC 2024 Reg F",
           "3a"
          ],
          [
           "Will Simpson",
           "Aaron Carter",
           0,
           4,
           "2024-02-09",
           "[Gen 9] VGC 2024 Reg F",
           "3b"
          ],
          [
           "Evan Sooklal",
           "Roman Ramirez",
           1,
           4,
           "2024-02-09",
           "[Gen 9] VGC 2024 Reg F",
           "4a"
          ],
          [
           "Evan Sooklal",
           "Roman Ramirez",
           4,
           2,
           "2024-02-09",
           "[Gen 9] VGC 2024 Reg F",
           "4b"
          ],
          [
           "Evan Sooklal",
           "Roman Ramirez",
           2,
           4,
           "2024-02-09",
           "[Gen 9] VGC 2024 Reg F",
           "4c"
          ],
          [
           "Roman Ramirez",
           "Aaron Carter",
           4,
           3,
           "2024-02-09",
           "[Gen 9] VGC 2024 Reg F",
           "5a"
          ],
          [
           "Roman Ramirez",
           "Aaron Carter",
           0,
           4,
           "2024-02-09",
           "[Gen 9] VGC 2024 Reg F",
           "5b"
          ],
          [
           "Roman Ramirez",
           "Aaron Carter",
           3,
           4,
           "2024-02-09",
           "[Gen 9] VGC 2024 Reg F",
           "5c"
          ],
          [
           "Evan Sooklal",
           "Will Simpson",
           1,
           4,
           "2024-02-09",
           "[Gen 9] VGC 2024 Reg F",
           "6a"
          ],
          [
           "Evan Sooklal",
           "Will Simpson",
           0,
           4,
           "2024-02-09",
           "[Gen 9] VGC 2024 Reg F",
           "6b"
          ],
          [
           "Aaron Carter",
           "Will Simpson",
           4,
           1,
           "2024-02-09",
           "[Gen 9] VGC 2024 Reg F",
           "1a"
          ],
          [
           "Aaron Carter",
           "Will Simpson",
           4,
           2,
           "2024-02-09",
           "[Gen 9] VGC 2024 Reg F",
           "1b"
          ],
          [
           "Will Simpson",
           "Evan Sooklal",
           6,
           2,
           "2024-02-18",
           "[Gen 9] Doubles UU",
           "1"
          ],
          [
           "Jack Massingill",
           "Roman Ramirez",
           0,
           6,
           "2024-02-18",
           "[Gen 9] Doubles UU",
           "2"
          ],
          [
           "Evan Sooklal",
           "Jack Massingill",
           6,
           3,
           "2024-02-18",
           "[Gen 9] Doubles UU",
           "3"
          ],
          [
           "Aaron Carter",
           "Will Simpson",
           6,
           1,
           "2024-02-18",
           "[Gen 9] Doubles UU",
           "4"
          ],
          [
           "Jack Massingill",
           "Aaron Carter",
           3,
           6,
           "2024-02-18",
           "[Gen 9] Doubles UU",
           "5"
          ],
          [
           "Roman Ramirez",
           "Evan Sooklal",
           6,
           3,
           "2024-02-18",
           "[Gen 9] Doubles UU",
           "6"
          ],
          [
           "Aaron Carter",
           "Roman Ramirez",
           3,
           6,
           "2024-02-18",
           "[Gen 9] Doubles UU",
           "7"
          ],
          [
           "Will Simpson",
           "Jack Massingill",
           6,
           0,
           "2024-02-18",
           "[Gen 9] Doubles UU",
           "8"
          ],
          [
           "Roman Ramirez",
           "Will Simpson",
           6,
           0,
           "2024-02-18",
           "[Gen 9] Doubles UU",
           "9"
          ],
          [
           "Evan Sooklal",
           "Aaron Carter",
           2,
           6,
           "2024-02-18",
           "[Gen 9] Doubles UU",
           "10"
          ],
          [
           "Evan Sooklal",
           "Will Simpson",
           6,
           2,
           "2024-02-18",
           "[Gen 9] Doubles UU",
           "11"
          ],
          [
           "Roman Ramirez",
           "Jack Massingill",
           6,
           1,
           "2024-02-18",
           "[Gen 9] Doubles UU",
           "12"
          ],
          [
           "Jack Massingill",
           "Evan Sooklal",
           0,
           6,
           "2024-02-18",
           "[Gen 9] Doubles UU",
           "13"
          ],
          [
           "Will Simpson",
           "Aaron Carter",
           2,
           6,
           "2024-02-18",
           "[Gen 9] Doubles UU",
           "14"
          ],
          [
           "Aaron Carter",
           "Jack Massingill",
           6,
           4,
           "2024-02-18",
           "[Gen 9] Doubles UU",
           "15"
          ],
          [
           "Evan Sooklal",
           "Roman Ramirez",
           1,
           6,
           "2024-02-18",
           "[Gen 9] Doubles UU",
           "16"
          ],
          [
           "Roman Ramirez",
           "Aaron Carter",
           6,
           5,
           "2024-02-18",
           "[Gen 9] Doubles UU",
           "17"
          ],
          [
           "Jack Massingill",
           "Will Simpson",
           6,
           0,
           "2024-02-18",
           "[Gen 9] Doubles UU",
           "18"
          ],
          [
           "Will Simpson",
           "Roman Ramirez",
           0,
           6,
           "2024-02-18",
           "[Gen 9] Doubles UU",
           "19"
          ],
          [
           "Aaron Carter",
           "Evan Sooklal",
           6,
           5,
           "2024-02-18",
           "[Gen 9] Doubles UU",
           "20"
          ],
          [
           "Roman Ramirez",
           "Aaron Carter",
           6,
           4,
           "2024-02-18",
           "[Gen 9] Doubles UU",
           "1"
          ],
          [
           "Roman Ramirez",
           "Aaron Carter",
           3,
           6,
           "2024-02-18",
           "[Gen 9] Doubles UU",
           "2"
          ],
          [
           "Roman Ramirez",
           "Aaron Carter",
           4,
           6,
           "2024-02-18",
           "[Gen 9] Doubles UU",
           "3"
          ],
          [
           "Lilith Karyadi",
           "Roman Ramirez",
           6,
           3,
           "2024-06-09",
           "[Gen 9] RU",
           "1a"
          ],
          [
           "Lilith Karyadi",
           "Roman Ramirez",
           6,
           3,
           "2024-06-09",
           "[Gen 9] RU",
           "1b"
          ],
          [
           "Evan Sooklal",
           "Will Simpson",
           6,
           5,
           "2024-06-09",
           "[Gen 9] RU",
           "2a"
          ],
          [
           "Evan Sooklal",
           "Will Simpson",
           4,
           6,
           "2024-06-09",
           "[Gen 9] RU",
           "2b"
          ],
          [
           "Evan Sooklal",
           "Will Simpson",
           6,
           5,
           "2024-06-09",
           "[Gen 9] RU",
           "2c"
          ],
          [
           "Will Simpson",
           "Lilith Karyadi",
           6,
           5,
           "2024-06-09",
           "[Gen 9] RU",
           "3a"
          ],
          [
           "Will Simpson",
           "Lilith Karyadi",
           6,
           2,
           "2024-06-09",
           "[Gen 9] RU",
           "3b"
          ],
          [
           "Roman Ramirez",
           "Evan Sooklal",
           4,
           6,
           "2024-06-09",
           "[Gen 9] RU",
           "4a"
          ],
          [
           "Roman Ramirez",
           "Evan Sooklal",
           2,
           6,
           "2024-06-09",
           "[Gen 9] RU",
           "4b"
          ],
          [
           "Evan Sooklal",
           "Lilith Karyadi",
           2,
           6,
           "2024-06-09",
           "[Gen 9] RU",
           "5a"
          ],
          [
           "Evan Sooklal",
           "Lilith Karyadi",
           5,
           6,
           "2024-06-09",
           "[Gen 9] RU",
           "5a"
          ],
          [
           "Evan Sooklal",
           "Lilith Karyadi",
           5,
           6,
           "2024-06-09",
           "[Gen 9] RU",
           "1"
          ],
          [
           "Will Simpson",
           "Lilith Karyadi",
           6,
           5,
           "2024-06-09",
           "[Gen 9] RU",
           "2"
          ]
         ],
         "hovertemplate": "<i>%{customdata[4]|%A, %B %d, %Y}, Game %{x}</i><br><b>%{fullData.name}</b><br><br><b>Format:</b> %{customdata[5]}<br><b>Tournament Match:</b> %{customdata[6]}<br><br><b>%{customdata[0]} vs. %{customdata[1]}</b><br><b>Final Score:</b> %{customdata[2]}-%{customdata[3]}<br>%{text}<b>Post-Game ELO:</b> %{y:,.0f}<br><extra></extra>",
         "legendgrouptitle": {
          "text": "<b>#<i>Rank</i> (<i>Current ELO</i>) <i>Player</i></b>"
         },
         "line": {
          "color": "rgb(127, 60, 141)",
          "shape": "hv"
         },
         "mode": "lines+markers",
         "name": "#1 (1328) Aaron Carter",
         "opacity": 0.8,
         "text": [
          "<br><b>Pre-Game ELO: </b>nan<br><b>Win Probability: </b>nan%<br><br><b>Change in ELO:</b> +nan<br>",
          "<br><b>Pre-Game ELO: </b>nan<br><b>Win Probability: </b>nan%<br><br><b>Change in ELO:</b> +nan<br>",
          "<br><b>Pre-Game ELO: </b>nan<br><b>Win Probability: </b>nan%<br><br><b>Change in ELO:</b> +nan<br>",
          "<br><b>Pre-Game ELO: </b>nan<br><b>Win Probability: </b>nan%<br><br><b>Change in ELO:</b> +nan<br>",
          "<br><b>Pre-Game ELO: </b>nan<br><b>Win Probability: </b>nan%<br><br><b>Change in ELO:</b> +nan<br>",
          "<br><b>Pre-Game ELO: </b>nan<br><b>Win Probability: </b>nan%<br><br><b>Change in ELO:</b> +nan<br>",
          "<br><b>Pre-Game ELO: </b>nan<br><b>Win Probability: </b>nan%<br><br><b>Change in ELO:</b> +nan<br>",
          "<br><b>Pre-Game ELO: </b>nan<br><b>Win Probability: </b>nan%<br><br><b>Change in ELO:</b> +nan<br>",
          "<br><b>Pre-Game ELO: </b>nan<br><b>Win Probability: </b>nan%<br><br><b>Change in ELO:</b> +nan<br>",
          "<br><b>Pre-Game ELO: </b>nan<br><b>Win Probability: </b>nan%<br><br><b>Change in ELO:</b> +nan<br>",
          "<br><b>Pre-Game ELO: </b>nan<br><b>Win Probability: </b>nan%<br><br><b>Change in ELO:</b> +nan<br>",
          "<br><b>Pre-Game ELO: </b>nan<br><b>Win Probability: </b>nan%<br><br><b>Change in ELO:</b> +nan<br>",
          "<br><b>Pre-Game ELO: </b>nan<br><b>Win Probability: </b>nan%<br><br><b>Change in ELO:</b> +nan<br>",
          "<br><b>Pre-Game ELO: </b>nan<br><b>Win Probability: </b>nan%<br><br><b>Change in ELO:</b> +nan<br>",
          "<br><b>Pre-Game ELO: </b>nan<br><b>Win Probability: </b>nan%<br><br><b>Change in ELO:</b> +nan<br>",
          "<br><b>Pre-Game ELO: </b>1200<br><b>Win Probability: </b>34.5%<br><br><b>Change in ELO:</b> +20<br>",
          "<br><b>Pre-Game ELO: </b>nan<br><b>Win Probability: </b>nan%<br><br><b>Change in ELO:</b> +nan<br>",
          "<br><b>Pre-Game ELO: </b>1220<br><b>Win Probability: </b>51.0%<br><br><b>Change in ELO:</b> -16<br>",
          "<br><b>Pre-Game ELO: </b>nan<br><b>Win Probability: </b>nan%<br><br><b>Change in ELO:</b> +nan<br>",
          "<br><b>Pre-Game ELO: </b>nan<br><b>Win Probability: </b>nan%<br><br><b>Change in ELO:</b> +nan<br>",
          "<br><b>Pre-Game ELO: </b>1205<br><b>Win Probability: </b>72.0%<br><br><b>Change in ELO:</b> -22<br>",
          "<br><b>Pre-Game ELO: </b>nan<br><b>Win Probability: </b>nan%<br><br><b>Change in ELO:</b> +nan<br>",
          "<br><b>Pre-Game ELO: </b>nan<br><b>Win Probability: </b>nan%<br><br><b>Change in ELO:</b> +nan<br>",
          "<br><b>Pre-Game ELO: </b>nan<br><b>Win Probability: </b>nan%<br><br><b>Change in ELO:</b> +nan<br>",
          "<br><b>Pre-Game ELO: </b>1182<br><b>Win Probability: </b>39.9%<br><br><b>Change in ELO:</b> +19<br>",
          "<br><b>Pre-Game ELO: </b>1201<br><b>Win Probability: </b>46.4%<br><br><b>Change in ELO:</b> -14<br>",
          "<br><b>Pre-Game ELO: </b>nan<br><b>Win Probability: </b>nan%<br><br><b>Change in ELO:</b> +nan<br>",
          "<br><b>Pre-Game ELO: </b>1186<br><b>Win Probability: </b>36.0%<br><br><b>Change in ELO:</b> +20<br>",
          "<br><b>Pre-Game ELO: </b>nan<br><b>Win Probability: </b>nan%<br><br><b>Change in ELO:</b> +nan<br>",
          "<br><b>Pre-Game ELO: </b>nan<br><b>Win Probability: </b>nan%<br><br><b>Change in ELO:</b> +nan<br>",
          "<br><b>Pre-Game ELO: </b>1206<br><b>Win Probability: </b>66.2%<br><br><b>Change in ELO:</b> +10<br>",
          "<br><b>Pre-Game ELO: </b>nan<br><b>Win Probability: </b>nan%<br><br><b>Change in ELO:</b> +nan<br>",
          "<br><b>Pre-Game ELO: </b>nan<br><b>Win Probability: </b>nan%<br><br><b>Change in ELO:</b> +nan<br>",
          "<br><b>Pre-Game ELO: </b>nan<br><b>Win Probability: </b>nan%<br><br><b>Change in ELO:</b> +nan<br>",
          "<br><b>Pre-Game ELO: </b>1217<br><b>Win Probability: </b>59.4%<br><br><b>Change in ELO:</b> -18<br>",
          "<br><b>Pre-Game ELO: </b>nan<br><b>Win Probability: </b>nan%<br><br><b>Change in ELO:</b> +nan<br>",
          "<br><b>Pre-Game ELO: </b>nan<br><b>Win Probability: </b>nan%<br><br><b>Change in ELO:</b> +nan<br>",
          "<br><b>Pre-Game ELO: </b>1198<br><b>Win Probability: </b>56.5%<br><br><b>Change in ELO:</b> +13<br>",
          "<br><b>Pre-Game ELO: </b>nan<br><b>Win Probability: </b>nan%<br><br><b>Change in ELO:</b> +nan<br>",
          "<br><b>Pre-Game ELO: </b>nan<br><b>Win Probability: </b>nan%<br><br><b>Change in ELO:</b> +nan<br>",
          "<br><b>Pre-Game ELO: </b>1212<br><b>Win Probability: </b>34.7%<br><br><b>Change in ELO:</b> +20<br>",
          "<br><b>Pre-Game ELO: </b>nan<br><b>Win Probability: </b>nan%<br><br><b>Change in ELO:</b> +nan<br>",
          "<br><b>Pre-Game ELO: </b>nan<br><b>Win Probability: </b>nan%<br><br><b>Change in ELO:</b> +nan<br>",
          "<br><b>Pre-Game ELO: </b>nan<br><b>Win Probability: </b>nan%<br><br><b>Change in ELO:</b> +nan<br>",
          "<br><b>Pre-Game ELO: </b>1232<br><b>Win Probability: </b>66.8%<br><br><b>Change in ELO:</b> +10<br>",
          "<br><b>Pre-Game ELO: </b>1242<br><b>Win Probability: </b>54.5%<br><br><b>Change in ELO:</b> +14<br>",
          "<br><b>Pre-Game ELO: </b>nan<br><b>Win Probability: </b>nan%<br><br><b>Change in ELO:</b> +nan<br>",
          "<br><b>Pre-Game ELO: </b>1257<br><b>Win Probability: </b>80.6%<br><br><b>Change in ELO:</b> +6<br>",
          "<br><b>Pre-Game ELO: </b>nan<br><b>Win Probability: </b>nan%<br><br><b>Change in ELO:</b> +nan<br>",
          "<br><b>Pre-Game ELO: </b>nan<br><b>Win Probability: </b>nan%<br><br><b>Change in ELO:</b> +nan<br>",
          "<br><b>Pre-Game ELO: </b>1263<br><b>Win Probability: </b>54.4%<br><br><b>Change in ELO:</b> +14<br>",
          "<br><b>Pre-Game ELO: </b>nan<br><b>Win Probability: </b>nan%<br><br><b>Change in ELO:</b> +nan<br>",
          "<br><b>Pre-Game ELO: </b>nan<br><b>Win Probability: </b>nan%<br><br><b>Change in ELO:</b> +nan<br>",
          "<br><b>Pre-Game ELO: </b>nan<br><b>Win Probability: </b>nan%<br><br><b>Change in ELO:</b> +nan<br>",
          "<br><b>Pre-Game ELO: </b>1277<br><b>Win Probability: </b>73.9%<br><br><b>Change in ELO:</b> +8<br>",
          "<br><b>Pre-Game ELO: </b>1285<br><b>Win Probability: </b>61.1%<br><br><b>Change in ELO:</b> +12<br>",
          "<br><b>Pre-Game ELO: </b>nan<br><b>Win Probability: </b>nan%<br><br><b>Change in ELO:</b> +nan<br>",
          "<br><b>Pre-Game ELO: </b>1297<br><b>Win Probability: </b>67.2%<br><br><b>Change in ELO:</b> -21<br>",
          "<br><b>Pre-Game ELO: </b>1276<br><b>Win Probability: </b>56.4%<br><br><b>Change in ELO:</b> +14<br>",
          "<br><b>Pre-Game ELO: </b>1289<br><b>Win Probability: </b>63.5%<br><br><b>Change in ELO:</b> +11<br>",
          "<br><b>Pre-Game ELO: </b>nan<br><b>Win Probability: </b>nan%<br><br><b>Change in ELO:</b> +nan<br>",
          "<br><b>Pre-Game ELO: </b>1301<br><b>Win Probability: </b>80.2%<br><br><b>Change in ELO:</b> +6<br>",
          "<br><b>Pre-Game ELO: </b>1307<br><b>Win Probability: </b>74.3%<br><br><b>Change in ELO:</b> -23<br>",
          "<br><b>Pre-Game ELO: </b>nan<br><b>Win Probability: </b>nan%<br><br><b>Change in ELO:</b> +nan<br>",
          "<br><b>Pre-Game ELO: </b>nan<br><b>Win Probability: </b>nan%<br><br><b>Change in ELO:</b> +nan<br>",
          "<br><b>Pre-Game ELO: </b>1284<br><b>Win Probability: </b>63.5%<br><br><b>Change in ELO:</b> +11<br>",
          "<br><b>Pre-Game ELO: </b>nan<br><b>Win Probability: </b>nan%<br><br><b>Change in ELO:</b> +nan<br>",
          "<br><b>Pre-Game ELO: </b>1295<br><b>Win Probability: </b>83.6%<br><br><b>Change in ELO:</b> +5<br>",
          "<br><b>Pre-Game ELO: </b>1300<br><b>Win Probability: </b>69.5%<br><br><b>Change in ELO:</b> +9<br>",
          "<br><b>Pre-Game ELO: </b>nan<br><b>Win Probability: </b>nan%<br><br><b>Change in ELO:</b> +nan<br>",
          "<br><b>Pre-Game ELO: </b>nan<br><b>Win Probability: </b>nan%<br><br><b>Change in ELO:</b> +nan<br>",
          "<br><b>Pre-Game ELO: </b>1310<br><b>Win Probability: </b>66.5%<br><br><b>Change in ELO:</b> -21<br>",
          "<br><b>Pre-Game ELO: </b>1289<br><b>Win Probability: </b>55.8%<br><br><b>Change in ELO:</b> -17<br>",
          "<br><b>Pre-Game ELO: </b>1272<br><b>Win Probability: </b>46.3%<br><br><b>Change in ELO:</b> -14<br>",
          "<br><b>Pre-Game ELO: </b>1257<br><b>Win Probability: </b>58.9%<br><br><b>Change in ELO:</b> +13<br>",
          "<br><b>Pre-Game ELO: </b>1270<br><b>Win Probability: </b>65.4%<br><br><b>Change in ELO:</b> +11<br>",
          "<br><b>Pre-Game ELO: </b>nan<br><b>Win Probability: </b>nan%<br><br><b>Change in ELO:</b> +nan<br>",
          "<br><b>Pre-Game ELO: </b>nan<br><b>Win Probability: </b>nan%<br><br><b>Change in ELO:</b> +nan<br>",
          "<br><b>Pre-Game ELO: </b>1281<br><b>Win Probability: </b>42.8%<br><br><b>Change in ELO:</b> +18<br>",
          "<br><b>Pre-Game ELO: </b>1299<br><b>Win Probability: </b>52.5%<br><br><b>Change in ELO:</b> +15<br>",
          "<br><b>Pre-Game ELO: </b>nan<br><b>Win Probability: </b>nan%<br><br><b>Change in ELO:</b> +nan<br>",
          "<br><b>Pre-Game ELO: </b>nan<br><b>Win Probability: </b>nan%<br><br><b>Change in ELO:</b> +nan<br>",
          "<br><b>Pre-Game ELO: </b>nan<br><b>Win Probability: </b>nan%<br><br><b>Change in ELO:</b> +nan<br>",
          "<br><b>Pre-Game ELO: </b>1313<br><b>Win Probability: </b>86.0%<br><br><b>Change in ELO:</b> -27<br>",
          "<br><b>Pre-Game ELO: </b>1287<br><b>Win Probability: </b>77.4%<br><br><b>Change in ELO:</b> +7<br>",
          "<br><b>Pre-Game ELO: </b>1294<br><b>Win Probability: </b>79.9%<br><br><b>Change in ELO:</b> +6<br>",
          "<br><b>Pre-Game ELO: </b>nan<br><b>Win Probability: </b>nan%<br><br><b>Change in ELO:</b> +nan<br>",
          "<br><b>Pre-Game ELO: </b>nan<br><b>Win Probability: </b>nan%<br><br><b>Change in ELO:</b> +nan<br>",
          "<br><b>Pre-Game ELO: </b>1300<br><b>Win Probability: </b>53.0%<br><br><b>Change in ELO:</b> +15<br>",
          "<br><b>Pre-Game ELO: </b>1315<br><b>Win Probability: </b>60.9%<br><br><b>Change in ELO:</b> +12<br>",
          "<br><b>Pre-Game ELO: </b>nan<br><b>Win Probability: </b>nan%<br><br><b>Change in ELO:</b> +nan<br>",
          "<br><b>Pre-Game ELO: </b>nan<br><b>Win Probability: </b>nan%<br><br><b>Change in ELO:</b> +nan<br>",
          "<br><b>Pre-Game ELO: </b>nan<br><b>Win Probability: </b>nan%<br><br><b>Change in ELO:</b> +nan<br>",
          "<br><b>Pre-Game ELO: </b>1327<br><b>Win Probability: </b>65.2%<br><br><b>Change in ELO:</b> +11<br>",
          "<br><b>Pre-Game ELO: </b>1337<br><b>Win Probability: </b>87.2%<br><br><b>Change in ELO:</b> +4<br>",
          "<br><b>Pre-Game ELO: </b>nan<br><b>Win Probability: </b>nan%<br><br><b>Change in ELO:</b> +nan<br>",
          "<br><b>Pre-Game ELO: </b>1341<br><b>Win Probability: </b>83.4%<br><br><b>Change in ELO:</b> -26<br>",
          "<br><b>Pre-Game ELO: </b>nan<br><b>Win Probability: </b>nan%<br><br><b>Change in ELO:</b> +nan<br>",
          "<br><b>Pre-Game ELO: </b>nan<br><b>Win Probability: </b>nan%<br><br><b>Change in ELO:</b> +nan<br>",
          "<br><b>Pre-Game ELO: </b>1316<br><b>Win Probability: </b>85.6%<br><br><b>Change in ELO:</b> +4<br>",
          "<br><b>Pre-Game ELO: </b>nan<br><b>Win Probability: </b>nan%<br><br><b>Change in ELO:</b> +nan<br>",
          "<br><b>Pre-Game ELO: </b>nan<br><b>Win Probability: </b>nan%<br><br><b>Change in ELO:</b> +nan<br>",
          "<br><b>Pre-Game ELO: </b>nan<br><b>Win Probability: </b>nan%<br><br><b>Change in ELO:</b> +nan<br>",
          "<br><b>Pre-Game ELO: </b>1320<br><b>Win Probability: </b>74.2%<br><br><b>Change in ELO:</b> +8<br>",
          "<br><b>Pre-Game ELO: </b>1328<br><b>Win Probability: </b>89.8%<br><br><b>Change in ELO:</b> +3<br>",
          "<br><b>Pre-Game ELO: </b>nan<br><b>Win Probability: </b>nan%<br><br><b>Change in ELO:</b> +nan<br>",
          "<br><b>Pre-Game ELO: </b>1331<br><b>Win Probability: </b>68.9%<br><br><b>Change in ELO:</b> -21<br>",
          "<br><b>Pre-Game ELO: </b>nan<br><b>Win Probability: </b>nan%<br><br><b>Change in ELO:</b> +nan<br>",
          "<br><b>Pre-Game ELO: </b>nan<br><b>Win Probability: </b>nan%<br><br><b>Change in ELO:</b> +nan<br>",
          "<br><b>Pre-Game ELO: </b>1310<br><b>Win Probability: </b>81.6%<br><br><b>Change in ELO:</b> +6<br>",
          "<br><b>Pre-Game ELO: </b>1316<br><b>Win Probability: </b>57.3%<br><br><b>Change in ELO:</b> -18<br>",
          "<br><b>Pre-Game ELO: </b>1298<br><b>Win Probability: </b>47.6%<br><br><b>Change in ELO:</b> +16<br>",
          "<br><b>Pre-Game ELO: </b>1314<br><b>Win Probability: </b>56.5%<br><br><b>Change in ELO:</b> +13<br>",
          "<br><b>Pre-Game ELO: </b>nan<br><b>Win Probability: </b>nan%<br><br><b>Change in ELO:</b> +nan<br>",
          "<br><b>Pre-Game ELO: </b>nan<br><b>Win Probability: </b>nan%<br><br><b>Change in ELO:</b> +nan<br>",
          "<br><b>Pre-Game ELO: </b>nan<br><b>Win Probability: </b>nan%<br><br><b>Change in ELO:</b> +nan<br>",
          "<br><b>Pre-Game ELO: </b>nan<br><b>Win Probability: </b>nan%<br><br><b>Change in ELO:</b> +nan<br>",
          "<br><b>Pre-Game ELO: </b>nan<br><b>Win Probability: </b>nan%<br><br><b>Change in ELO:</b> +nan<br>",
          "<br><b>Pre-Game ELO: </b>nan<br><b>Win Probability: </b>nan%<br><br><b>Change in ELO:</b> +nan<br>",
          "<br><b>Pre-Game ELO: </b>nan<br><b>Win Probability: </b>nan%<br><br><b>Change in ELO:</b> +nan<br>",
          "<br><b>Pre-Game ELO: </b>nan<br><b>Win Probability: </b>nan%<br><br><b>Change in ELO:</b> +nan<br>",
          "<br><b>Pre-Game ELO: </b>nan<br><b>Win Probability: </b>nan%<br><br><b>Change in ELO:</b> +nan<br>",
          "<br><b>Pre-Game ELO: </b>nan<br><b>Win Probability: </b>nan%<br><br><b>Change in ELO:</b> +nan<br>",
          "<br><b>Pre-Game ELO: </b>nan<br><b>Win Probability: </b>nan%<br><br><b>Change in ELO:</b> +nan<br>",
          "<br><b>Pre-Game ELO: </b>nan<br><b>Win Probability: </b>nan%<br><br><b>Change in ELO:</b> +nan<br>",
          "<br><b>Pre-Game ELO: </b>nan<br><b>Win Probability: </b>nan%<br><br><b>Change in ELO:</b> +nan<br>"
         ],
         "type": "scatter",
         "x": [
          1,
          2,
          3,
          4,
          5,
          6,
          7,
          8,
          9,
          10,
          11,
          12,
          13,
          14,
          15,
          16,
          17,
          18,
          19,
          20,
          21,
          22,
          23,
          24,
          25,
          26,
          27,
          28,
          29,
          30,
          31,
          32,
          33,
          34,
          35,
          36,
          37,
          38,
          39,
          40,
          41,
          42,
          43,
          44,
          45,
          46,
          47,
          48,
          49,
          50,
          51,
          52,
          53,
          54,
          55,
          56,
          57,
          58,
          59,
          60,
          61,
          62,
          63,
          64,
          65,
          66,
          67,
          68,
          69,
          70,
          71,
          72,
          73,
          74,
          75,
          76,
          77,
          78,
          79,
          80,
          81,
          82,
          83,
          84,
          85,
          86,
          87,
          88,
          89,
          90,
          91,
          92,
          93,
          94,
          95,
          96,
          97,
          98,
          99,
          100,
          101,
          102,
          103,
          104,
          105,
          106,
          107,
          108,
          109,
          110,
          111,
          112,
          113,
          114,
          115,
          116,
          117,
          118,
          119,
          120,
          121,
          122,
          123,
          124,
          125,
          126
         ],
         "y": [
          null,
          null,
          null,
          null,
          null,
          null,
          null,
          null,
          null,
          null,
          null,
          null,
          null,
          null,
          null,
          1220.31258173069,
          null,
          1204.5028528748408,
          null,
          null,
          1182.1797301576028,
          null,
          null,
          null,
          1200.8242418643958,
          1186.4521502238642,
          null,
          1206.3026942467973,
          null,
          null,
          1216.7822586045252,
          null,
          null,
          null,
          1198.3768321017285,
          null,
          null,
          1211.8729276048186,
          null,
          null,
          1232.113307066953,
          null,
          null,
          null,
          1242.4011662563998,
          1256.5110736372603,
          null,
          1262.5293525101058,
          null,
          null,
          1276.6667862995037,
          null,
          null,
          null,
          1284.742519265222,
          1296.805337828777,
          null,
          1275.9815262292077,
          1289.4892277347867,
          1300.7929669801556,
          null,
          1306.939512229892,
          1283.9015944333698,
          null,
          null,
          1295.2137125097495,
          null,
          1300.308918504197,
          1309.765437612463,
          null,
          null,
          1289.1469913110589,
          1271.8484337246734,
          1257.4853757199003,
          1270.2385965629696,
          1280.9523025729939,
          null,
          null,
          1298.6760636979577,
          1313.3978393818932,
          null,
          null,
          null,
          1286.74165386123,
          1293.761028525477,
          1299.9783612462488,
          null,
          null,
          1314.5356599831737,
          1326.6674756966115,
          null,
          null,
          null,
          1337.4618968914401,
          1341.4402728749258,
          null,
          1315.5996276707879,
          null,
          null,
          1320.0495805327628,
          null,
          null,
          null,
          1328.0597951809048,
          1331.2127828459006,
          null,
          1309.8494663390616,
          null,
          null,
          1315.5653514933124,
          1297.79850462576,
          1314.0401447005202,
          1327.5280629755973,
          null,
          null,
          null,
          null,
          null,
          null,
          null,
          null,
          null,
          null,
          null,
          null,
          null
         ]
        },
        {
         "connectgaps": true,
         "customdata": [
          [
           "Evan Sooklal",
           "Will Simpson",
           2,
           6,
           "2023-11-18",
           "[Gen 9] OU",
           "1"
          ],
          [
           "Paul Bartenfeld",
           "Roman Ramirez",
           2,
           6,
           "2023-11-18",
           "[Gen 9] OU",
           "2"
          ],
          [
           "Roman Ramirez",
           "Evan Sooklal",
           6,
           3,
           "2023-11-18",
           "[Gen 9] OU",
           "3"
          ],
          [
           "Will Simpson",
           "Paul Bartenfeld",
           6,
           1,
           "2023-11-18",
           "[Gen 9] OU",
           "4"
          ],
          [
           "Paul Bartenfeld",
           "Evan Sooklal",
           1,
           6,
           "2023-11-18",
           "[Gen 9] OU",
           "5"
          ],
          [
           "Will Simpson",
           "Roman Ramirez",
           3,
           6,
           "2023-11-18",
           "[Gen 9] OU",
           "6"
          ],
          [
           "Will Simpson",
           "Evan Sooklal",
           6,
           2,
           "2023-11-18",
           "[Gen 9] OU",
           "7"
          ],
          [
           "Roman Ramirez",
           "Paul Bartenfeld",
           6,
           4,
           "2023-11-18",
           "[Gen 9] OU",
           "8"
          ],
          [
           "Evan Sooklal",
           "Roman Ramirez",
           6,
           5,
           "2023-11-18",
           "[Gen 9] OU",
           "9"
          ],
          [
           "Paul Bartenfeld",
           "Will Simpson",
           4,
           6,
           "2023-11-18",
           "[Gen 9] OU",
           "10"
          ],
          [
           "Evan Sooklal",
           "Paul Bartenfeld",
           6,
           5,
           "2023-11-18",
           "[Gen 9] OU",
           "11"
          ],
          [
           "Roman Ramirez",
           "Will Simpson",
           6,
           2,
           "2023-11-18",
           "[Gen 9] OU",
           "12"
          ],
          [
           "Roman Ramirez",
           "Will Simpson",
           2,
           6,
           "2023-11-18",
           "[Gen 9] OU",
           "1"
          ],
          [
           "Will Simpson",
           "Roman Ramirez",
           4,
           6,
           "2023-11-18",
           "[Gen 9] OU",
           "2"
          ],
          [
           "Roman Ramirez",
           "Will Simpson",
           6,
           4,
           "2023-11-18",
           "[Gen 9] OU",
           "3"
          ],
          [
           "Roman Ramirez",
           "Aaron Carter",
           4,
           6,
           "2023-12-02",
           "[Gen 9] OU",
           "1"
          ],
          [
           "Will Simpson",
           "Paul Bartenfeld",
           6,
           4,
           "2023-12-02",
           "[Gen 9] OU",
           "2"
          ],
          [
           "Aaron Carter",
           "Will Simpson",
           4,
           6,
           "2023-12-02",
           "[Gen 9] OU",
           "3"
          ],
          [
           "Evan Sooklal",
           "Roman Ramirez",
           6,
           2,
           "2023-12-02",
           "[Gen 9] OU",
           "4"
          ],
          [
           "Will Simpson",
           "Evan Sooklal",
           6,
           2,
           "2023-12-02",
           "[Gen 9] OU",
           "5"
          ],
          [
           "Paul Bartenfeld",
           "Aaron Carter",
           6,
           3,
           "2023-12-02",
           "[Gen 9] OU",
           "6"
          ],
          [
           "Evan Sooklal",
           "Paul Bartenfeld",
           6,
           4,
           "2023-12-02",
           "[Gen 9] OU",
           "7"
          ],
          [
           "Roman Ramirez",
           "Will Simpson",
           6,
           4,
           "2023-12-02",
           "[Gen 9] OU",
           "8"
          ],
          [
           "Paul Bartenfeld",
           "Roman Ramirez",
           6,
           3,
           "2023-12-02",
           "[Gen 9] OU",
           "9"
          ],
          [
           "Aaron Carter",
           "Evan Sooklal",
           6,
           3,
           "2023-12-02",
           "[Gen 9] OU",
           "10"
          ],
          [
           "Aaron Carter",
           "Roman Ramirez",
           0,
           6,
           "2023-12-02",
           "[Gen 9] OU",
           "11"
          ],
          [
           "Paul Bartenfeld",
           "Will Simpson",
           1,
           6,
           "2023-12-02",
           "[Gen 9] OU",
           "12"
          ],
          [
           "Will Simpson",
           "Aaron Carter",
           3,
           6,
           "2023-12-02",
           "[Gen 9] OU",
           "13"
          ],
          [
           "Roman Ramirez",
           "Evan Sooklal",
           2,
           6,
           "2023-12-02",
           "[Gen 9] OU",
           "14"
          ],
          [
           "Evan Sooklal",
           "Will Simpson",
           5,
           6,
           "2023-12-02",
           "[Gen 9] OU",
           "15"
          ],
          [
           "Aaron Carter",
           "Paul Bartenfeld",
           6,
           3,
           "2023-12-02",
           "[Gen 9] OU",
           "16"
          ],
          [
           "Paul Bartenfeld",
           "Evan Sooklal",
           6,
           5,
           "2023-12-02",
           "[Gen 9] OU",
           "17"
          ],
          [
           "Will Simpson",
           "Roman Ramirez",
           6,
           5,
           "2023-12-02",
           "[Gen 9] OU",
           "18"
          ],
          [
           "Roman Ramirez",
           "Paul Bartenfeld",
           4,
           6,
           "2023-12-02",
           "[Gen 9] OU",
           "19"
          ],
          [
           "Evan Sooklal",
           "Aaron Carter",
           6,
           4,
           "2023-12-02",
           "[Gen 9] OU",
           "20"
          ],
          [
           "Will Simpson",
           "Evan Sooklal",
           6,
           2,
           "2023-12-02",
           "[Gen 9] OU",
           "1"
          ],
          [
           "Will Simpson",
           "Evan Sooklal",
           6,
           1,
           "2023-12-02",
           "[Gen 9] OU",
           "2"
          ],
          [
           "Aaron Carter",
           "Paul Bartenfeld",
           6,
           3,
           "2023-12-13",
           "[Gen 9] OU",
           "1"
          ],
          [
           "Roman Ramirez",
           "Evan Sooklal",
           5,
           6,
           "2023-12-13",
           "[Gen 9] OU",
           "2"
          ],
          [
           "Paul Bartenfeld",
           "Roman Ramirez",
           2,
           6,
           "2023-12-13",
           "[Gen 9] OU",
           "3"
          ],
          [
           "Will Simpson",
           "Aaron Carter",
           0,
           6,
           "2023-12-13",
           "[Gen 9] OU",
           "4"
          ],
          [
           "Roman Ramirez",
           "Will Simpson",
           4,
           6,
           "2023-12-13",
           "[Gen 9] OU",
           "5"
          ],
          [
           "Evan Sooklal",
           "Paul Bartenfeld",
           6,
           5,
           "2023-12-13",
           "[Gen 9] OU",
           "6"
          ],
          [
           "Will Simpson",
           "Evan Sooklal",
           4,
           6,
           "2023-12-13",
           "[Gen 9] OU",
           "7"
          ],
          [
           "Aaron Carter",
           "Roman Ramirez",
           6,
           3,
           "2023-12-13",
           "[Gen 9] OU",
           "8"
          ],
          [
           "Evan Sooklal",
           "Aaron Carter",
           5,
           6,
           "2023-12-13",
           "[Gen 9] OU",
           "9"
          ],
          [
           "Paul Bartenfeld",
           "Will Simpson",
           2,
           6,
           "2023-12-13",
           "[Gen 9] OU",
           "10"
          ],
          [
           "Paul Bartenfeld",
           "Aaron Carter",
           3,
           6,
           "2023-12-13",
           "[Gen 9] OU",
           "11"
          ],
          [
           "Evan Sooklal",
           "Roman Ramirez",
           6,
           4,
           "2023-12-13",
           "[Gen 9] OU",
           "12"
          ],
          [
           "Roman Ramirez",
           "Paul Bartenfeld",
           6,
           1,
           "2023-12-13",
           "[Gen 9] OU",
           "13"
          ],
          [
           "Aaron Carter",
           "Will Simpson",
           6,
           5,
           "2023-12-13",
           "[Gen 9] OU",
           "14"
          ],
          [
           "Will Simpson",
           "Roman Ramirez",
           3,
           6,
           "2023-12-13",
           "[Gen 9] OU",
           "15"
          ],
          [
           "Paul Bartenfeld",
           "Evan Sooklal",
           3,
           6,
           "2023-12-13",
           "[Gen 9] OU",
           "16"
          ],
          [
           "Evan Sooklal",
           "Will Simpson",
           6,
           3,
           "2023-12-13",
           "[Gen 9] OU",
           "17"
          ],
          [
           "Roman Ramirez",
           "Aaron Carter",
           5,
           6,
           "2023-12-13",
           "[Gen 9] OU",
           "18"
          ],
          [
           "Aaron Carter",
           "Evan Sooklal",
           6,
           2,
           "2023-12-13",
           "[Gen 9] OU",
           "19"
          ],
          [
           "Will Simpson",
           "Paul Bartenfeld",
           6,
           4,
           "2023-12-13",
           "[Gen 9] OU",
           "20"
          ],
          [
           "Aaron Carter",
           "Evan Sooklal",
           5,
           6,
           "2023-12-13",
           "[Gen 9] OU",
           "1"
          ],
          [
           "Evan Sooklal",
           "Aaron Carter",
           2,
           6,
           "2023-12-13",
           "[Gen 9] OU",
           "2"
          ],
          [
           "Aaron Carter",
           "Evan Sooklal",
           6,
           2,
           "2023-12-13",
           "[Gen 9] OU",
           "3"
          ],
          [
           "Evan Sooklal",
           "Will Simpson",
           0,
           4,
           "2024-01-28",
           "[Gen 9] VGC 2024 Reg F",
           "1"
          ],
          [
           "Roman Ramirez",
           "Aaron Carter",
           2,
           4,
           "2024-01-28",
           "[Gen 9] VGC 2024 Reg F",
           "2"
          ],
          [
           "Aaron Carter",
           "Evan Sooklal",
           3,
           4,
           "2024-01-28",
           "[Gen 9] VGC 2024 Reg F",
           "3"
          ],
          [
           "Will Simpson",
           "Roman Ramirez",
           4,
           2,
           "2024-01-28",
           "[Gen 9] VGC 2024 Reg F",
           "4"
          ],
          [
           "Roman Ramirez",
           "Evan Sooklal",
           0,
           4,
           "2024-01-28",
           "[Gen 9] VGC 2024 Reg F",
           "5"
          ],
          [
           "Will Simpson",
           "Aaron Carter",
           1,
           4,
           "2024-01-28",
           "[Gen 9] VGC 2024 Reg F",
           "6"
          ],
          [
           "Will Simpson",
           "Evan Sooklal",
           4,
           2,
           "2024-01-28",
           "[Gen 9] VGC 2024 Reg F",
           "7"
          ],
          [
           "Aaron Carter",
           "Roman Ramirez",
           4,
           0,
           "2024-01-28",
           "[Gen 9] VGC 2024 Reg F",
           "8"
          ],
          [
           "Evan Sooklal",
           "Aaron Carter",
           3,
           4,
           "2024-01-28",
           "[Gen 9] VGC 2024 Reg F",
           "9"
          ],
          [
           "Roman Ramirez",
           "Will Simpson",
           1,
           4,
           "2024-01-28",
           "[Gen 9] VGC 2024 Reg F",
           "10"
          ],
          [
           "Evan Sooklal",
           "Roman Ramirez",
           4,
           3,
           "2024-01-28",
           "[Gen 9] VGC 2024 Reg F",
           "11"
          ],
          [
           "Aaron Carter",
           "Will Simpson",
           2,
           4,
           "2024-01-28",
           "[Gen 9] VGC 2024 Reg F",
           "12"
          ],
          [
           "Will Simpson",
           "Aaron Carter",
           4,
           0,
           "2024-01-28",
           "[Gen 9] VGC 2024 Reg F",
           "1"
          ],
          [
           "Will Simpson",
           "Aaron Carter",
           4,
           3,
           "2024-01-28",
           "[Gen 9] VGC 2024 Reg F",
           "2"
          ],
          [
           "Aaron Carter",
           "Evan Sooklal",
           4,
           2,
           "2024-02-09",
           "[Gen 9] VGC 2024 Reg F",
           "1a"
          ],
          [
           "Aaron Carter",
           "Evan Sooklal",
           4,
           3,
           "2024-02-09",
           "[Gen 9] VGC 2024 Reg F",
           "1b"
          ],
          [
           "Roman Ramirez",
           "Will Simpson",
           3,
           4,
           "2024-02-09",
           "[Gen 9] VGC 2024 Reg F",
           "2a"
          ],
          [
           "Roman Ramirez",
           "Will Simpson",
           2,
           4,
           "2024-02-09",
           "[Gen 9] VGC 2024 Reg F",
           "2b"
          ],
          [
           "Will Simpson",
           "Aaron Carter",
           2,
           4,
           "2024-02-09",
           "[Gen 9] VGC 2024 Reg F",
           "3a"
          ],
          [
           "Will Simpson",
           "Aaron Carter",
           0,
           4,
           "2024-02-09",
           "[Gen 9] VGC 2024 Reg F",
           "3b"
          ],
          [
           "Evan Sooklal",
           "Roman Ramirez",
           1,
           4,
           "2024-02-09",
           "[Gen 9] VGC 2024 Reg F",
           "4a"
          ],
          [
           "Evan Sooklal",
           "Roman Ramirez",
           4,
           2,
           "2024-02-09",
           "[Gen 9] VGC 2024 Reg F",
           "4b"
          ],
          [
           "Evan Sooklal",
           "Roman Ramirez",
           2,
           4,
           "2024-02-09",
           "[Gen 9] VGC 2024 Reg F",
           "4c"
          ],
          [
           "Roman Ramirez",
           "Aaron Carter",
           4,
           3,
           "2024-02-09",
           "[Gen 9] VGC 2024 Reg F",
           "5a"
          ],
          [
           "Roman Ramirez",
           "Aaron Carter",
           0,
           4,
           "2024-02-09",
           "[Gen 9] VGC 2024 Reg F",
           "5b"
          ],
          [
           "Roman Ramirez",
           "Aaron Carter",
           3,
           4,
           "2024-02-09",
           "[Gen 9] VGC 2024 Reg F",
           "5c"
          ],
          [
           "Evan Sooklal",
           "Will Simpson",
           1,
           4,
           "2024-02-09",
           "[Gen 9] VGC 2024 Reg F",
           "6a"
          ],
          [
           "Evan Sooklal",
           "Will Simpson",
           0,
           4,
           "2024-02-09",
           "[Gen 9] VGC 2024 Reg F",
           "6b"
          ],
          [
           "Aaron Carter",
           "Will Simpson",
           4,
           1,
           "2024-02-09",
           "[Gen 9] VGC 2024 Reg F",
           "1a"
          ],
          [
           "Aaron Carter",
           "Will Simpson",
           4,
           2,
           "2024-02-09",
           "[Gen 9] VGC 2024 Reg F",
           "1b"
          ],
          [
           "Will Simpson",
           "Evan Sooklal",
           6,
           2,
           "2024-02-18",
           "[Gen 9] Doubles UU",
           "1"
          ],
          [
           "Jack Massingill",
           "Roman Ramirez",
           0,
           6,
           "2024-02-18",
           "[Gen 9] Doubles UU",
           "2"
          ],
          [
           "Evan Sooklal",
           "Jack Massingill",
           6,
           3,
           "2024-02-18",
           "[Gen 9] Doubles UU",
           "3"
          ],
          [
           "Aaron Carter",
           "Will Simpson",
           6,
           1,
           "2024-02-18",
           "[Gen 9] Doubles UU",
           "4"
          ],
          [
           "Jack Massingill",
           "Aaron Carter",
           3,
           6,
           "2024-02-18",
           "[Gen 9] Doubles UU",
           "5"
          ],
          [
           "Roman Ramirez",
           "Evan Sooklal",
           6,
           3,
           "2024-02-18",
           "[Gen 9] Doubles UU",
           "6"
          ],
          [
           "Aaron Carter",
           "Roman Ramirez",
           3,
           6,
           "2024-02-18",
           "[Gen 9] Doubles UU",
           "7"
          ],
          [
           "Will Simpson",
           "Jack Massingill",
           6,
           0,
           "2024-02-18",
           "[Gen 9] Doubles UU",
           "8"
          ],
          [
           "Roman Ramirez",
           "Will Simpson",
           6,
           0,
           "2024-02-18",
           "[Gen 9] Doubles UU",
           "9"
          ],
          [
           "Evan Sooklal",
           "Aaron Carter",
           2,
           6,
           "2024-02-18",
           "[Gen 9] Doubles UU",
           "10"
          ],
          [
           "Evan Sooklal",
           "Will Simpson",
           6,
           2,
           "2024-02-18",
           "[Gen 9] Doubles UU",
           "11"
          ],
          [
           "Roman Ramirez",
           "Jack Massingill",
           6,
           1,
           "2024-02-18",
           "[Gen 9] Doubles UU",
           "12"
          ],
          [
           "Jack Massingill",
           "Evan Sooklal",
           0,
           6,
           "2024-02-18",
           "[Gen 9] Doubles UU",
           "13"
          ],
          [
           "Will Simpson",
           "Aaron Carter",
           2,
           6,
           "2024-02-18",
           "[Gen 9] Doubles UU",
           "14"
          ],
          [
           "Aaron Carter",
           "Jack Massingill",
           6,
           4,
           "2024-02-18",
           "[Gen 9] Doubles UU",
           "15"
          ],
          [
           "Evan Sooklal",
           "Roman Ramirez",
           1,
           6,
           "2024-02-18",
           "[Gen 9] Doubles UU",
           "16"
          ],
          [
           "Roman Ramirez",
           "Aaron Carter",
           6,
           5,
           "2024-02-18",
           "[Gen 9] Doubles UU",
           "17"
          ],
          [
           "Jack Massingill",
           "Will Simpson",
           6,
           0,
           "2024-02-18",
           "[Gen 9] Doubles UU",
           "18"
          ],
          [
           "Will Simpson",
           "Roman Ramirez",
           0,
           6,
           "2024-02-18",
           "[Gen 9] Doubles UU",
           "19"
          ],
          [
           "Aaron Carter",
           "Evan Sooklal",
           6,
           5,
           "2024-02-18",
           "[Gen 9] Doubles UU",
           "20"
          ],
          [
           "Roman Ramirez",
           "Aaron Carter",
           6,
           4,
           "2024-02-18",
           "[Gen 9] Doubles UU",
           "1"
          ],
          [
           "Roman Ramirez",
           "Aaron Carter",
           3,
           6,
           "2024-02-18",
           "[Gen 9] Doubles UU",
           "2"
          ],
          [
           "Roman Ramirez",
           "Aaron Carter",
           4,
           6,
           "2024-02-18",
           "[Gen 9] Doubles UU",
           "3"
          ],
          [
           "Lilith Karyadi",
           "Roman Ramirez",
           6,
           3,
           "2024-06-09",
           "[Gen 9] RU",
           "1a"
          ],
          [
           "Lilith Karyadi",
           "Roman Ramirez",
           6,
           3,
           "2024-06-09",
           "[Gen 9] RU",
           "1b"
          ],
          [
           "Evan Sooklal",
           "Will Simpson",
           6,
           5,
           "2024-06-09",
           "[Gen 9] RU",
           "2a"
          ],
          [
           "Evan Sooklal",
           "Will Simpson",
           4,
           6,
           "2024-06-09",
           "[Gen 9] RU",
           "2b"
          ],
          [
           "Evan Sooklal",
           "Will Simpson",
           6,
           5,
           "2024-06-09",
           "[Gen 9] RU",
           "2c"
          ],
          [
           "Will Simpson",
           "Lilith Karyadi",
           6,
           5,
           "2024-06-09",
           "[Gen 9] RU",
           "3a"
          ],
          [
           "Will Simpson",
           "Lilith Karyadi",
           6,
           2,
           "2024-06-09",
           "[Gen 9] RU",
           "3b"
          ],
          [
           "Roman Ramirez",
           "Evan Sooklal",
           4,
           6,
           "2024-06-09",
           "[Gen 9] RU",
           "4a"
          ],
          [
           "Roman Ramirez",
           "Evan Sooklal",
           2,
           6,
           "2024-06-09",
           "[Gen 9] RU",
           "4b"
          ],
          [
           "Evan Sooklal",
           "Lilith Karyadi",
           2,
           6,
           "2024-06-09",
           "[Gen 9] RU",
           "5a"
          ],
          [
           "Evan Sooklal",
           "Lilith Karyadi",
           5,
           6,
           "2024-06-09",
           "[Gen 9] RU",
           "5a"
          ],
          [
           "Evan Sooklal",
           "Lilith Karyadi",
           5,
           6,
           "2024-06-09",
           "[Gen 9] RU",
           "1"
          ],
          [
           "Will Simpson",
           "Lilith Karyadi",
           6,
           5,
           "2024-06-09",
           "[Gen 9] RU",
           "2"
          ]
         ],
         "hovertemplate": "<i>%{customdata[4]|%A, %B %d, %Y}, Game %{x}</i><br><b>%{fullData.name}</b><br><br><b>Format:</b> %{customdata[5]}<br><b>Tournament Match:</b> %{customdata[6]}<br><br><b>%{customdata[0]} vs. %{customdata[1]}</b><br><b>Final Score:</b> %{customdata[2]}-%{customdata[3]}<br>%{text}<b>Post-Game ELO:</b> %{y:,.0f}<br><extra></extra>",
         "legendgrouptitle": {
          "text": "<b>#<i>Rank</i> (<i>Current ELO</i>) <i>Player</i></b>"
         },
         "line": {
          "color": "rgb(17, 165, 121)",
          "shape": "hv"
         },
         "mode": "lines+markers",
         "name": "#2 (1226) Will Simpson",
         "opacity": 0.8,
         "text": [
          "<br><b>Pre-Game ELO: </b>1200<br><b>Win Probability: </b>50.0%<br><br><b>Change in ELO:</b> +16<br>",
          "<br><b>Pre-Game ELO: </b>nan<br><b>Win Probability: </b>nan%<br><br><b>Change in ELO:</b> +nan<br>",
          "<br><b>Pre-Game ELO: </b>nan<br><b>Win Probability: </b>nan%<br><br><b>Change in ELO:</b> +nan<br>",
          "<br><b>Pre-Game ELO: </b>1216<br><b>Win Probability: </b>58.4%<br><br><b>Change in ELO:</b> +13<br>",
          "<br><b>Pre-Game ELO: </b>nan<br><b>Win Probability: </b>nan%<br><br><b>Change in ELO:</b> +nan<br>",
          "<br><b>Pre-Game ELO: </b>1228<br><b>Win Probability: </b>50.0%<br><br><b>Change in ELO:</b> -16<br>",
          "<br><b>Pre-Game ELO: </b>1213<br><b>Win Probability: </b>57.0%<br><br><b>Change in ELO:</b> +13<br>",
          "<br><b>Pre-Game ELO: </b>nan<br><b>Win Probability: </b>nan%<br><br><b>Change in ELO:</b> +nan<br>",
          "<br><b>Pre-Game ELO: </b>nan<br><b>Win Probability: </b>nan%<br><br><b>Change in ELO:</b> +nan<br>",
          "<br><b>Pre-Game ELO: </b>1226<br><b>Win Probability: </b>70.4%<br><br><b>Change in ELO:</b> +9<br>",
          "<br><b>Pre-Game ELO: </b>nan<br><b>Win Probability: </b>nan%<br><br><b>Change in ELO:</b> +nan<br>",
          "<br><b>Pre-Game ELO: </b>1235<br><b>Win Probability: </b>51.3%<br><br><b>Change in ELO:</b> -16<br>",
          "<br><b>Pre-Game ELO: </b>1219<br><b>Win Probability: </b>42.6%<br><br><b>Change in ELO:</b> +18<br>",
          "<br><b>Pre-Game ELO: </b>1237<br><b>Win Probability: </b>52.3%<br><br><b>Change in ELO:</b> -16<br>",
          "<br><b>Pre-Game ELO: </b>1221<br><b>Win Probability: </b>43.5%<br><br><b>Change in ELO:</b> -13<br>",
          "<br><b>Pre-Game ELO: </b>nan<br><b>Win Probability: </b>nan%<br><br><b>Change in ELO:</b> +nan<br>",
          "<br><b>Pre-Game ELO: </b>1208<br><b>Win Probability: </b>70.7%<br><br><b>Change in ELO:</b> +9<br>",
          "<br><b>Pre-Game ELO: </b>1217<br><b>Win Probability: </b>49.0%<br><br><b>Change in ELO:</b> +16<br>",
          "<br><b>Pre-Game ELO: </b>nan<br><b>Win Probability: </b>nan%<br><br><b>Change in ELO:</b> +nan<br>",
          "<br><b>Pre-Game ELO: </b>1232<br><b>Win Probability: </b>52.2%<br><br><b>Change in ELO:</b> +15<br>",
          "<br><b>Pre-Game ELO: </b>nan<br><b>Win Probability: </b>nan%<br><br><b>Change in ELO:</b> +nan<br>",
          "<br><b>Pre-Game ELO: </b>nan<br><b>Win Probability: </b>nan%<br><br><b>Change in ELO:</b> +nan<br>",
          "<br><b>Pre-Game ELO: </b>1247<br><b>Win Probability: </b>57.5%<br><br><b>Change in ELO:</b> -18<br>",
          "<br><b>Pre-Game ELO: </b>nan<br><b>Win Probability: </b>nan%<br><br><b>Change in ELO:</b> +nan<br>",
          "<br><b>Pre-Game ELO: </b>nan<br><b>Win Probability: </b>nan%<br><br><b>Change in ELO:</b> +nan<br>",
          "<br><b>Pre-Game ELO: </b>nan<br><b>Win Probability: </b>nan%<br><br><b>Change in ELO:</b> +nan<br>",
          "<br><b>Pre-Game ELO: </b>1229<br><b>Win Probability: </b>69.5%<br><br><b>Change in ELO:</b> +9<br>",
          "<br><b>Pre-Game ELO: </b>1239<br><b>Win Probability: </b>64.0%<br><br><b>Change in ELO:</b> -20<br>",
          "<br><b>Pre-Game ELO: </b>nan<br><b>Win Probability: </b>nan%<br><br><b>Change in ELO:</b> +nan<br>",
          "<br><b>Pre-Game ELO: </b>1219<br><b>Win Probability: </b>50.1%<br><br><b>Change in ELO:</b> +15<br>",
          "<br><b>Pre-Game ELO: </b>nan<br><b>Win Probability: </b>nan%<br><br><b>Change in ELO:</b> +nan<br>",
          "<br><b>Pre-Game ELO: </b>nan<br><b>Win Probability: </b>nan%<br><br><b>Change in ELO:</b> +nan<br>",
          "<br><b>Pre-Game ELO: </b>1235<br><b>Win Probability: </b>56.5%<br><br><b>Change in ELO:</b> +13<br>",
          "<br><b>Pre-Game ELO: </b>nan<br><b>Win Probability: </b>nan%<br><br><b>Change in ELO:</b> +nan<br>",
          "<br><b>Pre-Game ELO: </b>nan<br><b>Win Probability: </b>nan%<br><br><b>Change in ELO:</b> +nan<br>",
          "<br><b>Pre-Game ELO: </b>1248<br><b>Win Probability: </b>62.7%<br><br><b>Change in ELO:</b> +12<br>",
          "<br><b>Pre-Game ELO: </b>1260<br><b>Win Probability: </b>68.5%<br><br><b>Change in ELO:</b> +10<br>",
          "<br><b>Pre-Game ELO: </b>nan<br><b>Win Probability: </b>nan%<br><br><b>Change in ELO:</b> +nan<br>",
          "<br><b>Pre-Game ELO: </b>nan<br><b>Win Probability: </b>nan%<br><br><b>Change in ELO:</b> +nan<br>",
          "<br><b>Pre-Game ELO: </b>nan<br><b>Win Probability: </b>nan%<br><br><b>Change in ELO:</b> +nan<br>",
          "<br><b>Pre-Game ELO: </b>1269<br><b>Win Probability: </b>65.3%<br><br><b>Change in ELO:</b> -20<br>",
          "<br><b>Pre-Game ELO: </b>1249<br><b>Win Probability: </b>68.6%<br><br><b>Change in ELO:</b> +10<br>",
          "<br><b>Pre-Game ELO: </b>nan<br><b>Win Probability: </b>nan%<br><br><b>Change in ELO:</b> +nan<br>",
          "<br><b>Pre-Game ELO: </b>1259<br><b>Win Probability: </b>64.1%<br><br><b>Change in ELO:</b> -20<br>",
          "<br><b>Pre-Game ELO: </b>nan<br><b>Win Probability: </b>nan%<br><br><b>Change in ELO:</b> +nan<br>",
          "<br><b>Pre-Game ELO: </b>nan<br><b>Win Probability: </b>nan%<br><br><b>Change in ELO:</b> +nan<br>",
          "<br><b>Pre-Game ELO: </b>1239<br><b>Win Probability: </b>75.9%<br><br><b>Change in ELO:</b> +7<br>",
          "<br><b>Pre-Game ELO: </b>nan<br><b>Win Probability: </b>nan%<br><br><b>Change in ELO:</b> +nan<br>",
          "<br><b>Pre-Game ELO: </b>nan<br><b>Win Probability: </b>nan%<br><br><b>Change in ELO:</b> +nan<br>",
          "<br><b>Pre-Game ELO: </b>nan<br><b>Win Probability: </b>nan%<br><br><b>Change in ELO:</b> +nan<br>",
          "<br><b>Pre-Game ELO: </b>1246<br><b>Win Probability: </b>45.6%<br><br><b>Change in ELO:</b> -14<br>",
          "<br><b>Pre-Game ELO: </b>1232<br><b>Win Probability: </b>68.8%<br><br><b>Change in ELO:</b> -21<br>",
          "<br><b>Pre-Game ELO: </b>nan<br><b>Win Probability: </b>nan%<br><br><b>Change in ELO:</b> +nan<br>",
          "<br><b>Pre-Game ELO: </b>1211<br><b>Win Probability: </b>44.9%<br><br><b>Change in ELO:</b> -14<br>",
          "<br><b>Pre-Game ELO: </b>nan<br><b>Win Probability: </b>nan%<br><br><b>Change in ELO:</b> +nan<br>",
          "<br><b>Pre-Game ELO: </b>nan<br><b>Win Probability: </b>nan%<br><br><b>Change in ELO:</b> +nan<br>",
          "<br><b>Pre-Game ELO: </b>1197<br><b>Win Probability: </b>74.2%<br><br><b>Change in ELO:</b> +8<br>",
          "<br><b>Pre-Game ELO: </b>nan<br><b>Win Probability: </b>nan%<br><br><b>Change in ELO:</b> +nan<br>",
          "<br><b>Pre-Game ELO: </b>nan<br><b>Win Probability: </b>nan%<br><br><b>Change in ELO:</b> +nan<br>",
          "<br><b>Pre-Game ELO: </b>nan<br><b>Win Probability: </b>nan%<br><br><b>Change in ELO:</b> +nan<br>",
          "<br><b>Pre-Game ELO: </b>1205<br><b>Win Probability: </b>43.8%<br><br><b>Change in ELO:</b> +17<br>",
          "<br><b>Pre-Game ELO: </b>nan<br><b>Win Probability: </b>nan%<br><br><b>Change in ELO:</b> +nan<br>",
          "<br><b>Pre-Game ELO: </b>nan<br><b>Win Probability: </b>nan%<br><br><b>Change in ELO:</b> +nan<br>",
          "<br><b>Pre-Game ELO: </b>1223<br><b>Win Probability: </b>64.7%<br><br><b>Change in ELO:</b> +11<br>",
          "<br><b>Pre-Game ELO: </b>nan<br><b>Win Probability: </b>nan%<br><br><b>Change in ELO:</b> +nan<br>",
          "<br><b>Pre-Game ELO: </b>1233<br><b>Win Probability: </b>36.5%<br><br><b>Change in ELO:</b> -11<br>",
          "<br><b>Pre-Game ELO: </b>1222<br><b>Win Probability: </b>44.4%<br><br><b>Change in ELO:</b> +17<br>",
          "<br><b>Pre-Game ELO: </b>nan<br><b>Win Probability: </b>nan%<br><br><b>Change in ELO:</b> +nan<br>",
          "<br><b>Pre-Game ELO: </b>nan<br><b>Win Probability: </b>nan%<br><br><b>Change in ELO:</b> +nan<br>",
          "<br><b>Pre-Game ELO: </b>1239<br><b>Win Probability: </b>74.4%<br><br><b>Change in ELO:</b> +8<br>",
          "<br><b>Pre-Game ELO: </b>nan<br><b>Win Probability: </b>nan%<br><br><b>Change in ELO:</b> +nan<br>",
          "<br><b>Pre-Game ELO: </b>1247<br><b>Win Probability: </b>33.5%<br><br><b>Change in ELO:</b> +21<br>",
          "<br><b>Pre-Game ELO: </b>1268<br><b>Win Probability: </b>44.2%<br><br><b>Change in ELO:</b> +17<br>",
          "<br><b>Pre-Game ELO: </b>1285<br><b>Win Probability: </b>53.7%<br><br><b>Change in ELO:</b> +14<br>",
          "<br><b>Pre-Game ELO: </b>nan<br><b>Win Probability: </b>nan%<br><br><b>Change in ELO:</b> +nan<br>",
          "<br><b>Pre-Game ELO: </b>nan<br><b>Win Probability: </b>nan%<br><br><b>Change in ELO:</b> +nan<br>",
          "<br><b>Pre-Game ELO: </b>1300<br><b>Win Probability: </b>87.2%<br><br><b>Change in ELO:</b> +4<br>",
          "<br><b>Pre-Game ELO: </b>1304<br><b>Win Probability: </b>88.1%<br><br><b>Change in ELO:</b> +4<br>",
          "<br><b>Pre-Game ELO: </b>1307<br><b>Win Probability: </b>57.2%<br><br><b>Change in ELO:</b> -18<br>",
          "<br><b>Pre-Game ELO: </b>1290<br><b>Win Probability: </b>47.5%<br><br><b>Change in ELO:</b> -15<br>",
          "<br><b>Pre-Game ELO: </b>nan<br><b>Win Probability: </b>nan%<br><br><b>Change in ELO:</b> +nan<br>",
          "<br><b>Pre-Game ELO: </b>nan<br><b>Win Probability: </b>nan%<br><br><b>Change in ELO:</b> +nan<br>",
          "<br><b>Pre-Game ELO: </b>nan<br><b>Win Probability: </b>nan%<br><br><b>Change in ELO:</b> +nan<br>",
          "<br><b>Pre-Game ELO: </b>nan<br><b>Win Probability: </b>nan%<br><br><b>Change in ELO:</b> +nan<br>",
          "<br><b>Pre-Game ELO: </b>nan<br><b>Win Probability: </b>nan%<br><br><b>Change in ELO:</b> +nan<br>",
          "<br><b>Pre-Game ELO: </b>nan<br><b>Win Probability: </b>nan%<br><br><b>Change in ELO:</b> +nan<br>",
          "<br><b>Pre-Game ELO: </b>1275<br><b>Win Probability: </b>75.8%<br><br><b>Change in ELO:</b> +7<br>",
          "<br><b>Pre-Game ELO: </b>1282<br><b>Win Probability: </b>78.7%<br><br><b>Change in ELO:</b> +7<br>",
          "<br><b>Pre-Game ELO: </b>1289<br><b>Win Probability: </b>47.0%<br><br><b>Change in ELO:</b> -15<br>",
          "<br><b>Pre-Game ELO: </b>1274<br><b>Win Probability: </b>39.1%<br><br><b>Change in ELO:</b> -12<br>",
          "<br><b>Pre-Game ELO: </b>1262<br><b>Win Probability: </b>76.1%<br><br><b>Change in ELO:</b> +7<br>",
          "<br><b>Pre-Game ELO: </b>nan<br><b>Win Probability: </b>nan%<br><br><b>Change in ELO:</b> +nan<br>",
          "<br><b>Pre-Game ELO: </b>nan<br><b>Win Probability: </b>nan%<br><br><b>Change in ELO:</b> +nan<br>",
          "<br><b>Pre-Game ELO: </b>1270<br><b>Win Probability: </b>34.8%<br><br><b>Change in ELO:</b> -11<br>",
          "<br><b>Pre-Game ELO: </b>nan<br><b>Win Probability: </b>nan%<br><br><b>Change in ELO:</b> +nan<br>",
          "<br><b>Pre-Game ELO: </b>nan<br><b>Win Probability: </b>nan%<br><br><b>Change in ELO:</b> +nan<br>",
          "<br><b>Pre-Game ELO: </b>nan<br><b>Win Probability: </b>nan%<br><br><b>Change in ELO:</b> +nan<br>",
          "<br><b>Pre-Game ELO: </b>1259<br><b>Win Probability: </b>74.9%<br><br><b>Change in ELO:</b> +8<br>",
          "<br><b>Pre-Game ELO: </b>1267<br><b>Win Probability: </b>62.4%<br><br><b>Change in ELO:</b> -19<br>",
          "<br><b>Pre-Game ELO: </b>nan<br><b>Win Probability: </b>nan%<br><br><b>Change in ELO:</b> +nan<br>",
          "<br><b>Pre-Game ELO: </b>1247<br><b>Win Probability: </b>74.7%<br><br><b>Change in ELO:</b> -23<br>",
          "<br><b>Pre-Game ELO: </b>nan<br><b>Win Probability: </b>nan%<br><br><b>Change in ELO:</b> +nan<br>",
          "<br><b>Pre-Game ELO: </b>nan<br><b>Win Probability: </b>nan%<br><br><b>Change in ELO:</b> +nan<br>",
          "<br><b>Pre-Game ELO: </b>1224<br><b>Win Probability: </b>25.8%<br><br><b>Change in ELO:</b> -8<br>",
          "<br><b>Pre-Game ELO: </b>nan<br><b>Win Probability: </b>nan%<br><br><b>Change in ELO:</b> +nan<br>",
          "<br><b>Pre-Game ELO: </b>nan<br><b>Win Probability: </b>nan%<br><br><b>Change in ELO:</b> +nan<br>",
          "<br><b>Pre-Game ELO: </b>nan<br><b>Win Probability: </b>nan%<br><br><b>Change in ELO:</b> +nan<br>",
          "<br><b>Pre-Game ELO: </b>1216<br><b>Win Probability: </b>72.8%<br><br><b>Change in ELO:</b> -23<br>",
          "<br><b>Pre-Game ELO: </b>1194<br><b>Win Probability: </b>27.9%<br><br><b>Change in ELO:</b> -9<br>",
          "<br><b>Pre-Game ELO: </b>nan<br><b>Win Probability: </b>nan%<br><br><b>Change in ELO:</b> +nan<br>",
          "<br><b>Pre-Game ELO: </b>nan<br><b>Win Probability: </b>nan%<br><br><b>Change in ELO:</b> +nan<br>",
          "<br><b>Pre-Game ELO: </b>nan<br><b>Win Probability: </b>nan%<br><br><b>Change in ELO:</b> +nan<br>",
          "<br><b>Pre-Game ELO: </b>nan<br><b>Win Probability: </b>nan%<br><br><b>Change in ELO:</b> +nan<br>",
          "<br><b>Pre-Game ELO: </b>nan<br><b>Win Probability: </b>nan%<br><br><b>Change in ELO:</b> +nan<br>",
          "<br><b>Pre-Game ELO: </b>nan<br><b>Win Probability: </b>nan%<br><br><b>Change in ELO:</b> +nan<br>",
          "<br><b>Pre-Game ELO: </b>1185<br><b>Win Probability: </b>54.4%<br><br><b>Change in ELO:</b> -17<br>",
          "<br><b>Pre-Game ELO: </b>1168<br><b>Win Probability: </b>45.2%<br><br><b>Change in ELO:</b> +17<br>",
          "<br><b>Pre-Game ELO: </b>1185<br><b>Win Probability: </b>54.5%<br><br><b>Change in ELO:</b> -17<br>",
          "<br><b>Pre-Game ELO: </b>1168<br><b>Win Probability: </b>31.2%<br><br><b>Change in ELO:</b> +21<br>",
          "<br><b>Pre-Game ELO: </b>1189<br><b>Win Probability: </b>42.0%<br><br><b>Change in ELO:</b> +18<br>",
          "<br><b>Pre-Game ELO: </b>nan<br><b>Win Probability: </b>nan%<br><br><b>Change in ELO:</b> +nan<br>",
          "<br><b>Pre-Game ELO: </b>nan<br><b>Win Probability: </b>nan%<br><br><b>Change in ELO:</b> +nan<br>",
          "<br><b>Pre-Game ELO: </b>nan<br><b>Win Probability: </b>nan%<br><br><b>Change in ELO:</b> +nan<br>",
          "<br><b>Pre-Game ELO: </b>nan<br><b>Win Probability: </b>nan%<br><br><b>Change in ELO:</b> +nan<br>",
          "<br><b>Pre-Game ELO: </b>nan<br><b>Win Probability: </b>nan%<br><br><b>Change in ELO:</b> +nan<br>",
          "<br><b>Pre-Game ELO: </b>1207<br><b>Win Probability: </b>40.0%<br><br><b>Change in ELO:</b> +19<br>"
         ],
         "type": "scatter",
         "x": [
          1,
          2,
          3,
          4,
          5,
          6,
          7,
          8,
          9,
          10,
          11,
          12,
          13,
          14,
          15,
          16,
          17,
          18,
          19,
          20,
          21,
          22,
          23,
          24,
          25,
          26,
          27,
          28,
          29,
          30,
          31,
          32,
          33,
          34,
          35,
          36,
          37,
          38,
          39,
          40,
          41,
          42,
          43,
          44,
          45,
          46,
          47,
          48,
          49,
          50,
          51,
          52,
          53,
          54,
          55,
          56,
          57,
          58,
          59,
          60,
          61,
          62,
          63,
          64,
          65,
          66,
          67,
          68,
          69,
          70,
          71,
          72,
          73,
          74,
          75,
          76,
          77,
          78,
          79,
          80,
          81,
          82,
          83,
          84,
          85,
          86,
          87,
          88,
          89,
          90,
          91,
          92,
          93,
          94,
          95,
          96,
          97,
          98,
          99,
          100,
          101,
          102,
          103,
          104,
          105,
          106,
          107,
          108,
          109,
          110,
          111,
          112,
          113,
          114,
          115,
          116,
          117,
          118,
          119,
          120,
          121,
          122,
          123,
          124,
          125,
          126
         ],
         "y": [
          1215.5,
          null,
          null,
          1228.3858031753039,
          null,
          1212.8858031753039,
          1226.2060869714899,
          null,
          null,
          1235.3974385468625,
          null,
          1219.4919520318529,
          1237.2780408888975,
          1221.052753694122,
          1207.5782095664276,
          null,
          1216.674325114043,
          1232.4840539698923,
          null,
          1247.3098513798145,
          null,
          null,
          1229.4988967375302,
          null,
          null,
          null,
          1238.958454220562,
          1219.107910197629,
          null,
          1234.5824811583602,
          null,
          null,
          1248.0560505120777,
          null,
          null,
          1259.6090123610109,
          1269.3890605277982,
          null,
          null,
          null,
          1249.1486810656638,
          1258.8936040805959,
          null,
          1239.0254206334819,
          null,
          null,
          1246.4845665792952,
          null,
          null,
          null,
          1232.3471327898974,
          1211.01943697701,
          null,
          1197.1113545406115,
          null,
          null,
          1205.1013946719963,
          null,
          null,
          null,
          1222.5106702038486,
          null,
          null,
          1233.4626202696672,
          null,
          1222.1505021932876,
          1239.3840134911154,
          null,
          null,
          1247.3088653314312,
          null,
          1267.9273116328354,
          1285.2258692192208,
          1299.588927223994,
          null,
          null,
          1303.5670924858557,
          1307.251870859551,
          1289.5281097345871,
          1274.8063340506517,
          null,
          null,
          null,
          null,
          null,
          null,
          1282.2969192323628,
          1288.8926316811867,
          1274.3353329442618,
          1262.203517230824,
          1269.6019115678846,
          null,
          null,
          1258.807490373056,
          null,
          null,
          null,
          1266.576388154093,
          1247.245311731566,
          null,
          1224.080105698255,
          null,
          null,
          1216.069891050113,
          null,
          null,
          null,
          1193.513064710296,
          1184.876284539817,
          null,
          null,
          null,
          null,
          null,
          null,
          1168.0100129055925,
          1185.0075715125624,
          1168.1191202273903,
          1189.4391781073841,
          1207.4068632293283,
          null,
          null,
          null,
          null,
          null,
          1226.0070173691222
         ]
        },
        {
         "connectgaps": true,
         "customdata": [
          [
           "Evan Sooklal",
           "Will Simpson",
           2,
           6,
           "2023-11-18",
           "[Gen 9] OU",
           "1"
          ],
          [
           "Paul Bartenfeld",
           "Roman Ramirez",
           2,
           6,
           "2023-11-18",
           "[Gen 9] OU",
           "2"
          ],
          [
           "Roman Ramirez",
           "Evan Sooklal",
           6,
           3,
           "2023-11-18",
           "[Gen 9] OU",
           "3"
          ],
          [
           "Will Simpson",
           "Paul Bartenfeld",
           6,
           1,
           "2023-11-18",
           "[Gen 9] OU",
           "4"
          ],
          [
           "Paul Bartenfeld",
           "Evan Sooklal",
           1,
           6,
           "2023-11-18",
           "[Gen 9] OU",
           "5"
          ],
          [
           "Will Simpson",
           "Roman Ramirez",
           3,
           6,
           "2023-11-18",
           "[Gen 9] OU",
           "6"
          ],
          [
           "Will Simpson",
           "Evan Sooklal",
           6,
           2,
           "2023-11-18",
           "[Gen 9] OU",
           "7"
          ],
          [
           "Roman Ramirez",
           "Paul Bartenfeld",
           6,
           4,
           "2023-11-18",
           "[Gen 9] OU",
           "8"
          ],
          [
           "Evan Sooklal",
           "Roman Ramirez",
           6,
           5,
           "2023-11-18",
           "[Gen 9] OU",
           "9"
          ],
          [
           "Paul Bartenfeld",
           "Will Simpson",
           4,
           6,
           "2023-11-18",
           "[Gen 9] OU",
           "10"
          ],
          [
           "Evan Sooklal",
           "Paul Bartenfeld",
           6,
           5,
           "2023-11-18",
           "[Gen 9] OU",
           "11"
          ],
          [
           "Roman Ramirez",
           "Will Simpson",
           6,
           2,
           "2023-11-18",
           "[Gen 9] OU",
           "12"
          ],
          [
           "Roman Ramirez",
           "Will Simpson",
           2,
           6,
           "2023-11-18",
           "[Gen 9] OU",
           "1"
          ],
          [
           "Will Simpson",
           "Roman Ramirez",
           4,
           6,
           "2023-11-18",
           "[Gen 9] OU",
           "2"
          ],
          [
           "Roman Ramirez",
           "Will Simpson",
           6,
           4,
           "2023-11-18",
           "[Gen 9] OU",
           "3"
          ],
          [
           "Roman Ramirez",
           "Aaron Carter",
           4,
           6,
           "2023-12-02",
           "[Gen 9] OU",
           "1"
          ],
          [
           "Will Simpson",
           "Paul Bartenfeld",
           6,
           4,
           "2023-12-02",
           "[Gen 9] OU",
           "2"
          ],
          [
           "Aaron Carter",
           "Will Simpson",
           4,
           6,
           "2023-12-02",
           "[Gen 9] OU",
           "3"
          ],
          [
           "Evan Sooklal",
           "Roman Ramirez",
           6,
           2,
           "2023-12-02",
           "[Gen 9] OU",
           "4"
          ],
          [
           "Will Simpson",
           "Evan Sooklal",
           6,
           2,
           "2023-12-02",
           "[Gen 9] OU",
           "5"
          ],
          [
           "Paul Bartenfeld",
           "Aaron Carter",
           6,
           3,
           "2023-12-02",
           "[Gen 9] OU",
           "6"
          ],
          [
           "Evan Sooklal",
           "Paul Bartenfeld",
           6,
           4,
           "2023-12-02",
           "[Gen 9] OU",
           "7"
          ],
          [
           "Roman Ramirez",
           "Will Simpson",
           6,
           4,
           "2023-12-02",
           "[Gen 9] OU",
           "8"
          ],
          [
           "Paul Bartenfeld",
           "Roman Ramirez",
           6,
           3,
           "2023-12-02",
           "[Gen 9] OU",
           "9"
          ],
          [
           "Aaron Carter",
           "Evan Sooklal",
           6,
           3,
           "2023-12-02",
           "[Gen 9] OU",
           "10"
          ],
          [
           "Aaron Carter",
           "Roman Ramirez",
           0,
           6,
           "2023-12-02",
           "[Gen 9] OU",
           "11"
          ],
          [
           "Paul Bartenfeld",
           "Will Simpson",
           1,
           6,
           "2023-12-02",
           "[Gen 9] OU",
           "12"
          ],
          [
           "Will Simpson",
           "Aaron Carter",
           3,
           6,
           "2023-12-02",
           "[Gen 9] OU",
           "13"
          ],
          [
           "Roman Ramirez",
           "Evan Sooklal",
           2,
           6,
           "2023-12-02",
           "[Gen 9] OU",
           "14"
          ],
          [
           "Evan Sooklal",
           "Will Simpson",
           5,
           6,
           "2023-12-02",
           "[Gen 9] OU",
           "15"
          ],
          [
           "Aaron Carter",
           "Paul Bartenfeld",
           6,
           3,
           "2023-12-02",
           "[Gen 9] OU",
           "16"
          ],
          [
           "Paul Bartenfeld",
           "Evan Sooklal",
           6,
           5,
           "2023-12-02",
           "[Gen 9] OU",
           "17"
          ],
          [
           "Will Simpson",
           "Roman Ramirez",
           6,
           5,
           "2023-12-02",
           "[Gen 9] OU",
           "18"
          ],
          [
           "Roman Ramirez",
           "Paul Bartenfeld",
           4,
           6,
           "2023-12-02",
           "[Gen 9] OU",
           "19"
          ],
          [
           "Evan Sooklal",
           "Aaron Carter",
           6,
           4,
           "2023-12-02",
           "[Gen 9] OU",
           "20"
          ],
          [
           "Will Simpson",
           "Evan Sooklal",
           6,
           2,
           "2023-12-02",
           "[Gen 9] OU",
           "1"
          ],
          [
           "Will Simpson",
           "Evan Sooklal",
           6,
           1,
           "2023-12-02",
           "[Gen 9] OU",
           "2"
          ],
          [
           "Aaron Carter",
           "Paul Bartenfeld",
           6,
           3,
           "2023-12-13",
           "[Gen 9] OU",
           "1"
          ],
          [
           "Roman Ramirez",
           "Evan Sooklal",
           5,
           6,
           "2023-12-13",
           "[Gen 9] OU",
           "2"
          ],
          [
           "Paul Bartenfeld",
           "Roman Ramirez",
           2,
           6,
           "2023-12-13",
           "[Gen 9] OU",
           "3"
          ],
          [
           "Will Simpson",
           "Aaron Carter",
           0,
           6,
           "2023-12-13",
           "[Gen 9] OU",
           "4"
          ],
          [
           "Roman Ramirez",
           "Will Simpson",
           4,
           6,
           "2023-12-13",
           "[Gen 9] OU",
           "5"
          ],
          [
           "Evan Sooklal",
           "Paul Bartenfeld",
           6,
           5,
           "2023-12-13",
           "[Gen 9] OU",
           "6"
          ],
          [
           "Will Simpson",
           "Evan Sooklal",
           4,
           6,
           "2023-12-13",
           "[Gen 9] OU",
           "7"
          ],
          [
           "Aaron Carter",
           "Roman Ramirez",
           6,
           3,
           "2023-12-13",
           "[Gen 9] OU",
           "8"
          ],
          [
           "Evan Sooklal",
           "Aaron Carter",
           5,
           6,
           "2023-12-13",
           "[Gen 9] OU",
           "9"
          ],
          [
           "Paul Bartenfeld",
           "Will Simpson",
           2,
           6,
           "2023-12-13",
           "[Gen 9] OU",
           "10"
          ],
          [
           "Paul Bartenfeld",
           "Aaron Carter",
           3,
           6,
           "2023-12-13",
           "[Gen 9] OU",
           "11"
          ],
          [
           "Evan Sooklal",
           "Roman Ramirez",
           6,
           4,
           "2023-12-13",
           "[Gen 9] OU",
           "12"
          ],
          [
           "Roman Ramirez",
           "Paul Bartenfeld",
           6,
           1,
           "2023-12-13",
           "[Gen 9] OU",
           "13"
          ],
          [
           "Aaron Carter",
           "Will Simpson",
           6,
           5,
           "2023-12-13",
           "[Gen 9] OU",
           "14"
          ],
          [
           "Will Simpson",
           "Roman Ramirez",
           3,
           6,
           "2023-12-13",
           "[Gen 9] OU",
           "15"
          ],
          [
           "Paul Bartenfeld",
           "Evan Sooklal",
           3,
           6,
           "2023-12-13",
           "[Gen 9] OU",
           "16"
          ],
          [
           "Evan Sooklal",
           "Will Simpson",
           6,
           3,
           "2023-12-13",
           "[Gen 9] OU",
           "17"
          ],
          [
           "Roman Ramirez",
           "Aaron Carter",
           5,
           6,
           "2023-12-13",
           "[Gen 9] OU",
           "18"
          ],
          [
           "Aaron Carter",
           "Evan Sooklal",
           6,
           2,
           "2023-12-13",
           "[Gen 9] OU",
           "19"
          ],
          [
           "Will Simpson",
           "Paul Bartenfeld",
           6,
           4,
           "2023-12-13",
           "[Gen 9] OU",
           "20"
          ],
          [
           "Aaron Carter",
           "Evan Sooklal",
           5,
           6,
           "2023-12-13",
           "[Gen 9] OU",
           "1"
          ],
          [
           "Evan Sooklal",
           "Aaron Carter",
           2,
           6,
           "2023-12-13",
           "[Gen 9] OU",
           "2"
          ],
          [
           "Aaron Carter",
           "Evan Sooklal",
           6,
           2,
           "2023-12-13",
           "[Gen 9] OU",
           "3"
          ],
          [
           "Evan Sooklal",
           "Will Simpson",
           0,
           4,
           "2024-01-28",
           "[Gen 9] VGC 2024 Reg F",
           "1"
          ],
          [
           "Roman Ramirez",
           "Aaron Carter",
           2,
           4,
           "2024-01-28",
           "[Gen 9] VGC 2024 Reg F",
           "2"
          ],
          [
           "Aaron Carter",
           "Evan Sooklal",
           3,
           4,
           "2024-01-28",
           "[Gen 9] VGC 2024 Reg F",
           "3"
          ],
          [
           "Will Simpson",
           "Roman Ramirez",
           4,
           2,
           "2024-01-28",
           "[Gen 9] VGC 2024 Reg F",
           "4"
          ],
          [
           "Roman Ramirez",
           "Evan Sooklal",
           0,
           4,
           "2024-01-28",
           "[Gen 9] VGC 2024 Reg F",
           "5"
          ],
          [
           "Will Simpson",
           "Aaron Carter",
           1,
           4,
           "2024-01-28",
           "[Gen 9] VGC 2024 Reg F",
           "6"
          ],
          [
           "Will Simpson",
           "Evan Sooklal",
           4,
           2,
           "2024-01-28",
           "[Gen 9] VGC 2024 Reg F",
           "7"
          ],
          [
           "Aaron Carter",
           "Roman Ramirez",
           4,
           0,
           "2024-01-28",
           "[Gen 9] VGC 2024 Reg F",
           "8"
          ],
          [
           "Evan Sooklal",
           "Aaron Carter",
           3,
           4,
           "2024-01-28",
           "[Gen 9] VGC 2024 Reg F",
           "9"
          ],
          [
           "Roman Ramirez",
           "Will Simpson",
           1,
           4,
           "2024-01-28",
           "[Gen 9] VGC 2024 Reg F",
           "10"
          ],
          [
           "Evan Sooklal",
           "Roman Ramirez",
           4,
           3,
           "2024-01-28",
           "[Gen 9] VGC 2024 Reg F",
           "11"
          ],
          [
           "Aaron Carter",
           "Will Simpson",
           2,
           4,
           "2024-01-28",
           "[Gen 9] VGC 2024 Reg F",
           "12"
          ],
          [
           "Will Simpson",
           "Aaron Carter",
           4,
           0,
           "2024-01-28",
           "[Gen 9] VGC 2024 Reg F",
           "1"
          ],
          [
           "Will Simpson",
           "Aaron Carter",
           4,
           3,
           "2024-01-28",
           "[Gen 9] VGC 2024 Reg F",
           "2"
          ],
          [
           "Aaron Carter",
           "Evan Sooklal",
           4,
           2,
           "2024-02-09",
           "[Gen 9] VGC 2024 Reg F",
           "1a"
          ],
          [
           "Aaron Carter",
           "Evan Sooklal",
           4,
           3,
           "2024-02-09",
           "[Gen 9] VGC 2024 Reg F",
           "1b"
          ],
          [
           "Roman Ramirez",
           "Will Simpson",
           3,
           4,
           "2024-02-09",
           "[Gen 9] VGC 2024 Reg F",
           "2a"
          ],
          [
           "Roman Ramirez",
           "Will Simpson",
           2,
           4,
           "2024-02-09",
           "[Gen 9] VGC 2024 Reg F",
           "2b"
          ],
          [
           "Will Simpson",
           "Aaron Carter",
           2,
           4,
           "2024-02-09",
           "[Gen 9] VGC 2024 Reg F",
           "3a"
          ],
          [
           "Will Simpson",
           "Aaron Carter",
           0,
           4,
           "2024-02-09",
           "[Gen 9] VGC 2024 Reg F",
           "3b"
          ],
          [
           "Evan Sooklal",
           "Roman Ramirez",
           1,
           4,
           "2024-02-09",
           "[Gen 9] VGC 2024 Reg F",
           "4a"
          ],
          [
           "Evan Sooklal",
           "Roman Ramirez",
           4,
           2,
           "2024-02-09",
           "[Gen 9] VGC 2024 Reg F",
           "4b"
          ],
          [
           "Evan Sooklal",
           "Roman Ramirez",
           2,
           4,
           "2024-02-09",
           "[Gen 9] VGC 2024 Reg F",
           "4c"
          ],
          [
           "Roman Ramirez",
           "Aaron Carter",
           4,
           3,
           "2024-02-09",
           "[Gen 9] VGC 2024 Reg F",
           "5a"
          ],
          [
           "Roman Ramirez",
           "Aaron Carter",
           0,
           4,
           "2024-02-09",
           "[Gen 9] VGC 2024 Reg F",
           "5b"
          ],
          [
           "Roman Ramirez",
           "Aaron Carter",
           3,
           4,
           "2024-02-09",
           "[Gen 9] VGC 2024 Reg F",
           "5c"
          ],
          [
           "Evan Sooklal",
           "Will Simpson",
           1,
           4,
           "2024-02-09",
           "[Gen 9] VGC 2024 Reg F",
           "6a"
          ],
          [
           "Evan Sooklal",
           "Will Simpson",
           0,
           4,
           "2024-02-09",
           "[Gen 9] VGC 2024 Reg F",
           "6b"
          ],
          [
           "Aaron Carter",
           "Will Simpson",
           4,
           1,
           "2024-02-09",
           "[Gen 9] VGC 2024 Reg F",
           "1a"
          ],
          [
           "Aaron Carter",
           "Will Simpson",
           4,
           2,
           "2024-02-09",
           "[Gen 9] VGC 2024 Reg F",
           "1b"
          ],
          [
           "Will Simpson",
           "Evan Sooklal",
           6,
           2,
           "2024-02-18",
           "[Gen 9] Doubles UU",
           "1"
          ],
          [
           "Jack Massingill",
           "Roman Ramirez",
           0,
           6,
           "2024-02-18",
           "[Gen 9] Doubles UU",
           "2"
          ],
          [
           "Evan Sooklal",
           "Jack Massingill",
           6,
           3,
           "2024-02-18",
           "[Gen 9] Doubles UU",
           "3"
          ],
          [
           "Aaron Carter",
           "Will Simpson",
           6,
           1,
           "2024-02-18",
           "[Gen 9] Doubles UU",
           "4"
          ],
          [
           "Jack Massingill",
           "Aaron Carter",
           3,
           6,
           "2024-02-18",
           "[Gen 9] Doubles UU",
           "5"
          ],
          [
           "Roman Ramirez",
           "Evan Sooklal",
           6,
           3,
           "2024-02-18",
           "[Gen 9] Doubles UU",
           "6"
          ],
          [
           "Aaron Carter",
           "Roman Ramirez",
           3,
           6,
           "2024-02-18",
           "[Gen 9] Doubles UU",
           "7"
          ],
          [
           "Will Simpson",
           "Jack Massingill",
           6,
           0,
           "2024-02-18",
           "[Gen 9] Doubles UU",
           "8"
          ],
          [
           "Roman Ramirez",
           "Will Simpson",
           6,
           0,
           "2024-02-18",
           "[Gen 9] Doubles UU",
           "9"
          ],
          [
           "Evan Sooklal",
           "Aaron Carter",
           2,
           6,
           "2024-02-18",
           "[Gen 9] Doubles UU",
           "10"
          ],
          [
           "Evan Sooklal",
           "Will Simpson",
           6,
           2,
           "2024-02-18",
           "[Gen 9] Doubles UU",
           "11"
          ],
          [
           "Roman Ramirez",
           "Jack Massingill",
           6,
           1,
           "2024-02-18",
           "[Gen 9] Doubles UU",
           "12"
          ],
          [
           "Jack Massingill",
           "Evan Sooklal",
           0,
           6,
           "2024-02-18",
           "[Gen 9] Doubles UU",
           "13"
          ],
          [
           "Will Simpson",
           "Aaron Carter",
           2,
           6,
           "2024-02-18",
           "[Gen 9] Doubles UU",
           "14"
          ],
          [
           "Aaron Carter",
           "Jack Massingill",
           6,
           4,
           "2024-02-18",
           "[Gen 9] Doubles UU",
           "15"
          ],
          [
           "Evan Sooklal",
           "Roman Ramirez",
           1,
           6,
           "2024-02-18",
           "[Gen 9] Doubles UU",
           "16"
          ],
          [
           "Roman Ramirez",
           "Aaron Carter",
           6,
           5,
           "2024-02-18",
           "[Gen 9] Doubles UU",
           "17"
          ],
          [
           "Jack Massingill",
           "Will Simpson",
           6,
           0,
           "2024-02-18",
           "[Gen 9] Doubles UU",
           "18"
          ],
          [
           "Will Simpson",
           "Roman Ramirez",
           0,
           6,
           "2024-02-18",
           "[Gen 9] Doubles UU",
           "19"
          ],
          [
           "Aaron Carter",
           "Evan Sooklal",
           6,
           5,
           "2024-02-18",
           "[Gen 9] Doubles UU",
           "20"
          ],
          [
           "Roman Ramirez",
           "Aaron Carter",
           6,
           4,
           "2024-02-18",
           "[Gen 9] Doubles UU",
           "1"
          ],
          [
           "Roman Ramirez",
           "Aaron Carter",
           3,
           6,
           "2024-02-18",
           "[Gen 9] Doubles UU",
           "2"
          ],
          [
           "Roman Ramirez",
           "Aaron Carter",
           4,
           6,
           "2024-02-18",
           "[Gen 9] Doubles UU",
           "3"
          ],
          [
           "Lilith Karyadi",
           "Roman Ramirez",
           6,
           3,
           "2024-06-09",
           "[Gen 9] RU",
           "1a"
          ],
          [
           "Lilith Karyadi",
           "Roman Ramirez",
           6,
           3,
           "2024-06-09",
           "[Gen 9] RU",
           "1b"
          ],
          [
           "Evan Sooklal",
           "Will Simpson",
           6,
           5,
           "2024-06-09",
           "[Gen 9] RU",
           "2a"
          ],
          [
           "Evan Sooklal",
           "Will Simpson",
           4,
           6,
           "2024-06-09",
           "[Gen 9] RU",
           "2b"
          ],
          [
           "Evan Sooklal",
           "Will Simpson",
           6,
           5,
           "2024-06-09",
           "[Gen 9] RU",
           "2c"
          ],
          [
           "Will Simpson",
           "Lilith Karyadi",
           6,
           5,
           "2024-06-09",
           "[Gen 9] RU",
           "3a"
          ],
          [
           "Will Simpson",
           "Lilith Karyadi",
           6,
           2,
           "2024-06-09",
           "[Gen 9] RU",
           "3b"
          ],
          [
           "Roman Ramirez",
           "Evan Sooklal",
           4,
           6,
           "2024-06-09",
           "[Gen 9] RU",
           "4a"
          ],
          [
           "Roman Ramirez",
           "Evan Sooklal",
           2,
           6,
           "2024-06-09",
           "[Gen 9] RU",
           "4b"
          ],
          [
           "Evan Sooklal",
           "Lilith Karyadi",
           2,
           6,
           "2024-06-09",
           "[Gen 9] RU",
           "5a"
          ],
          [
           "Evan Sooklal",
           "Lilith Karyadi",
           5,
           6,
           "2024-06-09",
           "[Gen 9] RU",
           "5a"
          ],
          [
           "Evan Sooklal",
           "Lilith Karyadi",
           5,
           6,
           "2024-06-09",
           "[Gen 9] RU",
           "1"
          ],
          [
           "Will Simpson",
           "Lilith Karyadi",
           6,
           5,
           "2024-06-09",
           "[Gen 9] RU",
           "2"
          ]
         ],
         "hovertemplate": "<i>%{customdata[4]|%A, %B %d, %Y}, Game %{x}</i><br><b>%{fullData.name}</b><br><br><b>Format:</b> %{customdata[5]}<br><b>Tournament Match:</b> %{customdata[6]}<br><br><b>%{customdata[0]} vs. %{customdata[1]}</b><br><b>Final Score:</b> %{customdata[2]}-%{customdata[3]}<br>%{text}<b>Post-Game ELO:</b> %{y:,.0f}<br><extra></extra>",
         "legendgrouptitle": {
          "text": "<b>#<i>Rank</i> (<i>Current ELO</i>) <i>Player</i></b>"
         },
         "line": {
          "color": "rgb(57, 105, 172)",
          "shape": "hv"
         },
         "mode": "lines+markers",
         "name": "#3 (1226) Lilith Karyadi",
         "opacity": 0.8,
         "text": [
          "<br><b>Pre-Game ELO: </b>nan<br><b>Win Probability: </b>nan%<br><br><b>Change in ELO:</b> +nan<br>",
          "<br><b>Pre-Game ELO: </b>nan<br><b>Win Probability: </b>nan%<br><br><b>Change in ELO:</b> +nan<br>",
          "<br><b>Pre-Game ELO: </b>nan<br><b>Win Probability: </b>nan%<br><br><b>Change in ELO:</b> +nan<br>",
          "<br><b>Pre-Game ELO: </b>nan<br><b>Win Probability: </b>nan%<br><br><b>Change in ELO:</b> +nan<br>",
          "<br><b>Pre-Game ELO: </b>nan<br><b>Win Probability: </b>nan%<br><br><b>Change in ELO:</b> +nan<br>",
          "<br><b>Pre-Game ELO: </b>nan<br><b>Win Probability: </b>nan%<br><br><b>Change in ELO:</b> +nan<br>",
          "<br><b>Pre-Game ELO: </b>nan<br><b>Win Probability: </b>nan%<br><br><b>Change in ELO:</b> +nan<br>",
          "<br><b>Pre-Game ELO: </b>nan<br><b>Win Probability: </b>nan%<br><br><b>Change in ELO:</b> +nan<br>",
          "<br><b>Pre-Game ELO: </b>nan<br><b>Win Probability: </b>nan%<br><br><b>Change in ELO:</b> +nan<br>",
          "<br><b>Pre-Game ELO: </b>nan<br><b>Win Probability: </b>nan%<br><br><b>Change in ELO:</b> +nan<br>",
          "<br><b>Pre-Game ELO: </b>nan<br><b>Win Probability: </b>nan%<br><br><b>Change in ELO:</b> +nan<br>",
          "<br><b>Pre-Game ELO: </b>nan<br><b>Win Probability: </b>nan%<br><br><b>Change in ELO:</b> +nan<br>",
          "<br><b>Pre-Game ELO: </b>nan<br><b>Win Probability: </b>nan%<br><br><b>Change in ELO:</b> +nan<br>",
          "<br><b>Pre-Game ELO: </b>nan<br><b>Win Probability: </b>nan%<br><br><b>Change in ELO:</b> +nan<br>",
          "<br><b>Pre-Game ELO: </b>nan<br><b>Win Probability: </b>nan%<br><br><b>Change in ELO:</b> +nan<br>",
          "<br><b>Pre-Game ELO: </b>nan<br><b>Win Probability: </b>nan%<br><br><b>Change in ELO:</b> +nan<br>",
          "<br><b>Pre-Game ELO: </b>nan<br><b>Win Probability: </b>nan%<br><br><b>Change in ELO:</b> +nan<br>",
          "<br><b>Pre-Game ELO: </b>nan<br><b>Win Probability: </b>nan%<br><br><b>Change in ELO:</b> +nan<br>",
          "<br><b>Pre-Game ELO: </b>nan<br><b>Win Probability: </b>nan%<br><br><b>Change in ELO:</b> +nan<br>",
          "<br><b>Pre-Game ELO: </b>nan<br><b>Win Probability: </b>nan%<br><br><b>Change in ELO:</b> +nan<br>",
          "<br><b>Pre-Game ELO: </b>nan<br><b>Win Probability: </b>nan%<br><br><b>Change in ELO:</b> +nan<br>",
          "<br><b>Pre-Game ELO: </b>nan<br><b>Win Probability: </b>nan%<br><br><b>Change in ELO:</b> +nan<br>",
          "<br><b>Pre-Game ELO: </b>nan<br><b>Win Probability: </b>nan%<br><br><b>Change in ELO:</b> +nan<br>",
          "<br><b>Pre-Game ELO: </b>nan<br><b>Win Probability: </b>nan%<br><br><b>Change in ELO:</b> +nan<br>",
          "<br><b>Pre-Game ELO: </b>nan<br><b>Win Probability: </b>nan%<br><br><b>Change in ELO:</b> +nan<br>",
          "<br><b>Pre-Game ELO: </b>nan<br><b>Win Probability: </b>nan%<br><br><b>Change in ELO:</b> +nan<br>",
          "<br><b>Pre-Game ELO: </b>nan<br><b>Win Probability: </b>nan%<br><br><b>Change in ELO:</b> +nan<br>",
          "<br><b>Pre-Game ELO: </b>nan<br><b>Win Probability: </b>nan%<br><br><b>Change in ELO:</b> +nan<br>",
          "<br><b>Pre-Game ELO: </b>nan<br><b>Win Probability: </b>nan%<br><br><b>Change in ELO:</b> +nan<br>",
          "<br><b>Pre-Game ELO: </b>nan<br><b>Win Probability: </b>nan%<br><br><b>Change in ELO:</b> +nan<br>",
          "<br><b>Pre-Game ELO: </b>nan<br><b>Win Probability: </b>nan%<br><br><b>Change in ELO:</b> +nan<br>",
          "<br><b>Pre-Game ELO: </b>nan<br><b>Win Probability: </b>nan%<br><br><b>Change in ELO:</b> +nan<br>",
          "<br><b>Pre-Game ELO: </b>nan<br><b>Win Probability: </b>nan%<br><br><b>Change in ELO:</b> +nan<br>",
          "<br><b>Pre-Game ELO: </b>nan<br><b>Win Probability: </b>nan%<br><br><b>Change in ELO:</b> +nan<br>",
          "<br><b>Pre-Game ELO: </b>nan<br><b>Win Probability: </b>nan%<br><br><b>Change in ELO:</b> +nan<br>",
          "<br><b>Pre-Game ELO: </b>nan<br><b>Win Probability: </b>nan%<br><br><b>Change in ELO:</b> +nan<br>",
          "<br><b>Pre-Game ELO: </b>nan<br><b>Win Probability: </b>nan%<br><br><b>Change in ELO:</b> +nan<br>",
          "<br><b>Pre-Game ELO: </b>nan<br><b>Win Probability: </b>nan%<br><br><b>Change in ELO:</b> +nan<br>",
          "<br><b>Pre-Game ELO: </b>nan<br><b>Win Probability: </b>nan%<br><br><b>Change in ELO:</b> +nan<br>",
          "<br><b>Pre-Game ELO: </b>nan<br><b>Win Probability: </b>nan%<br><br><b>Change in ELO:</b> +nan<br>",
          "<br><b>Pre-Game ELO: </b>nan<br><b>Win Probability: </b>nan%<br><br><b>Change in ELO:</b> +nan<br>",
          "<br><b>Pre-Game ELO: </b>nan<br><b>Win Probability: </b>nan%<br><br><b>Change in ELO:</b> +nan<br>",
          "<br><b>Pre-Game ELO: </b>nan<br><b>Win Probability: </b>nan%<br><br><b>Change in ELO:</b> +nan<br>",
          "<br><b>Pre-Game ELO: </b>nan<br><b>Win Probability: </b>nan%<br><br><b>Change in ELO:</b> +nan<br>",
          "<br><b>Pre-Game ELO: </b>nan<br><b>Win Probability: </b>nan%<br><br><b>Change in ELO:</b> +nan<br>",
          "<br><b>Pre-Game ELO: </b>nan<br><b>Win Probability: </b>nan%<br><br><b>Change in ELO:</b> +nan<br>",
          "<br><b>Pre-Game ELO: </b>nan<br><b>Win Probability: </b>nan%<br><br><b>Change in ELO:</b> +nan<br>",
          "<br><b>Pre-Game ELO: </b>nan<br><b>Win Probability: </b>nan%<br><br><b>Change in ELO:</b> +nan<br>",
          "<br><b>Pre-Game ELO: </b>nan<br><b>Win Probability: </b>nan%<br><br><b>Change in ELO:</b> +nan<br>",
          "<br><b>Pre-Game ELO: </b>nan<br><b>Win Probability: </b>nan%<br><br><b>Change in ELO:</b> +nan<br>",
          "<br><b>Pre-Game ELO: </b>nan<br><b>Win Probability: </b>nan%<br><br><b>Change in ELO:</b> +nan<br>",
          "<br><b>Pre-Game ELO: </b>nan<br><b>Win Probability: </b>nan%<br><br><b>Change in ELO:</b> +nan<br>",
          "<br><b>Pre-Game ELO: </b>nan<br><b>Win Probability: </b>nan%<br><br><b>Change in ELO:</b> +nan<br>",
          "<br><b>Pre-Game ELO: </b>nan<br><b>Win Probability: </b>nan%<br><br><b>Change in ELO:</b> +nan<br>",
          "<br><b>Pre-Game ELO: </b>nan<br><b>Win Probability: </b>nan%<br><br><b>Change in ELO:</b> +nan<br>",
          "<br><b>Pre-Game ELO: </b>nan<br><b>Win Probability: </b>nan%<br><br><b>Change in ELO:</b> +nan<br>",
          "<br><b>Pre-Game ELO: </b>nan<br><b>Win Probability: </b>nan%<br><br><b>Change in ELO:</b> +nan<br>",
          "<br><b>Pre-Game ELO: </b>nan<br><b>Win Probability: </b>nan%<br><br><b>Change in ELO:</b> +nan<br>",
          "<br><b>Pre-Game ELO: </b>nan<br><b>Win Probability: </b>nan%<br><br><b>Change in ELO:</b> +nan<br>",
          "<br><b>Pre-Game ELO: </b>nan<br><b>Win Probability: </b>nan%<br><br><b>Change in ELO:</b> +nan<br>",
          "<br><b>Pre-Game ELO: </b>nan<br><b>Win Probability: </b>nan%<br><br><b>Change in ELO:</b> +nan<br>",
          "<br><b>Pre-Game ELO: </b>nan<br><b>Win Probability: </b>nan%<br><br><b>Change in ELO:</b> +nan<br>",
          "<br><b>Pre-Game ELO: </b>nan<br><b>Win Probability: </b>nan%<br><br><b>Change in ELO:</b> +nan<br>",
          "<br><b>Pre-Game ELO: </b>nan<br><b>Win Probability: </b>nan%<br><br><b>Change in ELO:</b> +nan<br>",
          "<br><b>Pre-Game ELO: </b>nan<br><b>Win Probability: </b>nan%<br><br><b>Change in ELO:</b> +nan<br>",
          "<br><b>Pre-Game ELO: </b>nan<br><b>Win Probability: </b>nan%<br><br><b>Change in ELO:</b> +nan<br>",
          "<br><b>Pre-Game ELO: </b>nan<br><b>Win Probability: </b>nan%<br><br><b>Change in ELO:</b> +nan<br>",
          "<br><b>Pre-Game ELO: </b>nan<br><b>Win Probability: </b>nan%<br><br><b>Change in ELO:</b> +nan<br>",
          "<br><b>Pre-Game ELO: </b>nan<br><b>Win Probability: </b>nan%<br><br><b>Change in ELO:</b> +nan<br>",
          "<br><b>Pre-Game ELO: </b>nan<br><b>Win Probability: </b>nan%<br><br><b>Change in ELO:</b> +nan<br>",
          "<br><b>Pre-Game ELO: </b>nan<br><b>Win Probability: </b>nan%<br><br><b>Change in ELO:</b> +nan<br>",
          "<br><b>Pre-Game ELO: </b>nan<br><b>Win Probability: </b>nan%<br><br><b>Change in ELO:</b> +nan<br>",
          "<br><b>Pre-Game ELO: </b>nan<br><b>Win Probability: </b>nan%<br><br><b>Change in ELO:</b> +nan<br>",
          "<br><b>Pre-Game ELO: </b>nan<br><b>Win Probability: </b>nan%<br><br><b>Change in ELO:</b> +nan<br>",
          "<br><b>Pre-Game ELO: </b>nan<br><b>Win Probability: </b>nan%<br><br><b>Change in ELO:</b> +nan<br>",
          "<br><b>Pre-Game ELO: </b>nan<br><b>Win Probability: </b>nan%<br><br><b>Change in ELO:</b> +nan<br>",
          "<br><b>Pre-Game ELO: </b>nan<br><b>Win Probability: </b>nan%<br><br><b>Change in ELO:</b> +nan<br>",
          "<br><b>Pre-Game ELO: </b>nan<br><b>Win Probability: </b>nan%<br><br><b>Change in ELO:</b> +nan<br>",
          "<br><b>Pre-Game ELO: </b>nan<br><b>Win Probability: </b>nan%<br><br><b>Change in ELO:</b> +nan<br>",
          "<br><b>Pre-Game ELO: </b>nan<br><b>Win Probability: </b>nan%<br><br><b>Change in ELO:</b> +nan<br>",
          "<br><b>Pre-Game ELO: </b>nan<br><b>Win Probability: </b>nan%<br><br><b>Change in ELO:</b> +nan<br>",
          "<br><b>Pre-Game ELO: </b>nan<br><b>Win Probability: </b>nan%<br><br><b>Change in ELO:</b> +nan<br>",
          "<br><b>Pre-Game ELO: </b>nan<br><b>Win Probability: </b>nan%<br><br><b>Change in ELO:</b> +nan<br>",
          "<br><b>Pre-Game ELO: </b>nan<br><b>Win Probability: </b>nan%<br><br><b>Change in ELO:</b> +nan<br>",
          "<br><b>Pre-Game ELO: </b>nan<br><b>Win Probability: </b>nan%<br><br><b>Change in ELO:</b> +nan<br>",
          "<br><b>Pre-Game ELO: </b>nan<br><b>Win Probability: </b>nan%<br><br><b>Change in ELO:</b> +nan<br>",
          "<br><b>Pre-Game ELO: </b>nan<br><b>Win Probability: </b>nan%<br><br><b>Change in ELO:</b> +nan<br>",
          "<br><b>Pre-Game ELO: </b>nan<br><b>Win Probability: </b>nan%<br><br><b>Change in ELO:</b> +nan<br>",
          "<br><b>Pre-Game ELO: </b>nan<br><b>Win Probability: </b>nan%<br><br><b>Change in ELO:</b> +nan<br>",
          "<br><b>Pre-Game ELO: </b>nan<br><b>Win Probability: </b>nan%<br><br><b>Change in ELO:</b> +nan<br>",
          "<br><b>Pre-Game ELO: </b>nan<br><b>Win Probability: </b>nan%<br><br><b>Change in ELO:</b> +nan<br>",
          "<br><b>Pre-Game ELO: </b>nan<br><b>Win Probability: </b>nan%<br><br><b>Change in ELO:</b> +nan<br>",
          "<br><b>Pre-Game ELO: </b>nan<br><b>Win Probability: </b>nan%<br><br><b>Change in ELO:</b> +nan<br>",
          "<br><b>Pre-Game ELO: </b>nan<br><b>Win Probability: </b>nan%<br><br><b>Change in ELO:</b> +nan<br>",
          "<br><b>Pre-Game ELO: </b>nan<br><b>Win Probability: </b>nan%<br><br><b>Change in ELO:</b> +nan<br>",
          "<br><b>Pre-Game ELO: </b>nan<br><b>Win Probability: </b>nan%<br><br><b>Change in ELO:</b> +nan<br>",
          "<br><b>Pre-Game ELO: </b>nan<br><b>Win Probability: </b>nan%<br><br><b>Change in ELO:</b> +nan<br>",
          "<br><b>Pre-Game ELO: </b>nan<br><b>Win Probability: </b>nan%<br><br><b>Change in ELO:</b> +nan<br>",
          "<br><b>Pre-Game ELO: </b>nan<br><b>Win Probability: </b>nan%<br><br><b>Change in ELO:</b> +nan<br>",
          "<br><b>Pre-Game ELO: </b>nan<br><b>Win Probability: </b>nan%<br><br><b>Change in ELO:</b> +nan<br>",
          "<br><b>Pre-Game ELO: </b>nan<br><b>Win Probability: </b>nan%<br><br><b>Change in ELO:</b> +nan<br>",
          "<br><b>Pre-Game ELO: </b>nan<br><b>Win Probability: </b>nan%<br><br><b>Change in ELO:</b> +nan<br>",
          "<br><b>Pre-Game ELO: </b>nan<br><b>Win Probability: </b>nan%<br><br><b>Change in ELO:</b> +nan<br>",
          "<br><b>Pre-Game ELO: </b>nan<br><b>Win Probability: </b>nan%<br><br><b>Change in ELO:</b> +nan<br>",
          "<br><b>Pre-Game ELO: </b>nan<br><b>Win Probability: </b>nan%<br><br><b>Change in ELO:</b> +nan<br>",
          "<br><b>Pre-Game ELO: </b>nan<br><b>Win Probability: </b>nan%<br><br><b>Change in ELO:</b> +nan<br>",
          "<br><b>Pre-Game ELO: </b>nan<br><b>Win Probability: </b>nan%<br><br><b>Change in ELO:</b> +nan<br>",
          "<br><b>Pre-Game ELO: </b>nan<br><b>Win Probability: </b>nan%<br><br><b>Change in ELO:</b> +nan<br>",
          "<br><b>Pre-Game ELO: </b>nan<br><b>Win Probability: </b>nan%<br><br><b>Change in ELO:</b> +nan<br>",
          "<br><b>Pre-Game ELO: </b>nan<br><b>Win Probability: </b>nan%<br><br><b>Change in ELO:</b> +nan<br>",
          "<br><b>Pre-Game ELO: </b>nan<br><b>Win Probability: </b>nan%<br><br><b>Change in ELO:</b> +nan<br>",
          "<br><b>Pre-Game ELO: </b>nan<br><b>Win Probability: </b>nan%<br><br><b>Change in ELO:</b> +nan<br>",
          "<br><b>Pre-Game ELO: </b>nan<br><b>Win Probability: </b>nan%<br><br><b>Change in ELO:</b> +nan<br>",
          "<br><b>Pre-Game ELO: </b>1200<br><b>Win Probability: </b>30.1%<br><br><b>Change in ELO:</b> +22<br>",
          "<br><b>Pre-Game ELO: </b>1222<br><b>Win Probability: </b>40.9%<br><br><b>Change in ELO:</b> +18<br>",
          "<br><b>Pre-Game ELO: </b>nan<br><b>Win Probability: </b>nan%<br><br><b>Change in ELO:</b> +nan<br>",
          "<br><b>Pre-Game ELO: </b>nan<br><b>Win Probability: </b>nan%<br><br><b>Change in ELO:</b> +nan<br>",
          "<br><b>Pre-Game ELO: </b>nan<br><b>Win Probability: </b>nan%<br><br><b>Change in ELO:</b> +nan<br>",
          "<br><b>Pre-Game ELO: </b>1240<br><b>Win Probability: </b>68.8%<br><br><b>Change in ELO:</b> -21<br>",
          "<br><b>Pre-Game ELO: </b>1219<br><b>Win Probability: </b>58.0%<br><br><b>Change in ELO:</b> -18<br>",
          "<br><b>Pre-Game ELO: </b>nan<br><b>Win Probability: </b>nan%<br><br><b>Change in ELO:</b> +nan<br>",
          "<br><b>Pre-Game ELO: </b>nan<br><b>Win Probability: </b>nan%<br><br><b>Change in ELO:</b> +nan<br>",
          "<br><b>Pre-Game ELO: </b>1201<br><b>Win Probability: </b>44.2%<br><br><b>Change in ELO:</b> +17<br>",
          "<br><b>Pre-Game ELO: </b>1218<br><b>Win Probability: </b>53.7%<br><br><b>Change in ELO:</b> +14<br>",
          "<br><b>Pre-Game ELO: </b>1232<br><b>Win Probability: </b>61.4%<br><br><b>Change in ELO:</b> +12<br>",
          "<br><b>Pre-Game ELO: </b>1244<br><b>Win Probability: </b>60.0%<br><br><b>Change in ELO:</b> -19<br>"
         ],
         "type": "scatter",
         "x": [
          1,
          2,
          3,
          4,
          5,
          6,
          7,
          8,
          9,
          10,
          11,
          12,
          13,
          14,
          15,
          16,
          17,
          18,
          19,
          20,
          21,
          22,
          23,
          24,
          25,
          26,
          27,
          28,
          29,
          30,
          31,
          32,
          33,
          34,
          35,
          36,
          37,
          38,
          39,
          40,
          41,
          42,
          43,
          44,
          45,
          46,
          47,
          48,
          49,
          50,
          51,
          52,
          53,
          54,
          55,
          56,
          57,
          58,
          59,
          60,
          61,
          62,
          63,
          64,
          65,
          66,
          67,
          68,
          69,
          70,
          71,
          72,
          73,
          74,
          75,
          76,
          77,
          78,
          79,
          80,
          81,
          82,
          83,
          84,
          85,
          86,
          87,
          88,
          89,
          90,
          91,
          92,
          93,
          94,
          95,
          96,
          97,
          98,
          99,
          100,
          101,
          102,
          103,
          104,
          105,
          106,
          107,
          108,
          109,
          110,
          111,
          112,
          113,
          114,
          115,
          116,
          117,
          118,
          119,
          120,
          121,
          122,
          123,
          124,
          125,
          126
         ],
         "y": [
          null,
          null,
          null,
          null,
          null,
          null,
          null,
          null,
          null,
          null,
          null,
          null,
          null,
          null,
          null,
          null,
          null,
          null,
          null,
          null,
          null,
          null,
          null,
          null,
          null,
          null,
          null,
          null,
          null,
          null,
          null,
          null,
          null,
          null,
          null,
          null,
          null,
          null,
          null,
          null,
          null,
          null,
          null,
          null,
          null,
          null,
          null,
          null,
          null,
          null,
          null,
          null,
          null,
          null,
          null,
          null,
          null,
          null,
          null,
          null,
          null,
          null,
          null,
          null,
          null,
          null,
          null,
          null,
          null,
          null,
          null,
          null,
          null,
          null,
          null,
          null,
          null,
          null,
          null,
          null,
          null,
          null,
          null,
          null,
          null,
          null,
          null,
          null,
          null,
          null,
          null,
          null,
          null,
          null,
          null,
          null,
          null,
          null,
          null,
          null,
          null,
          null,
          null,
          null,
          null,
          null,
          null,
          null,
          null,
          null,
          null,
          null,
          null,
          1221.6757945970885,
          1239.9909170685014,
          null,
          null,
          null,
          1218.6708591885076,
          1200.7031740665634,
          null,
          null,
          1217.9910266393465,
          1232.3451062642634,
          1244.315773683706,
          1225.7156195439122
         ]
        },
        {
         "connectgaps": true,
         "customdata": [
          [
           "Evan Sooklal",
           "Will Simpson",
           2,
           6,
           "2023-11-18",
           "[Gen 9] OU",
           "1"
          ],
          [
           "Paul Bartenfeld",
           "Roman Ramirez",
           2,
           6,
           "2023-11-18",
           "[Gen 9] OU",
           "2"
          ],
          [
           "Roman Ramirez",
           "Evan Sooklal",
           6,
           3,
           "2023-11-18",
           "[Gen 9] OU",
           "3"
          ],
          [
           "Will Simpson",
           "Paul Bartenfeld",
           6,
           1,
           "2023-11-18",
           "[Gen 9] OU",
           "4"
          ],
          [
           "Paul Bartenfeld",
           "Evan Sooklal",
           1,
           6,
           "2023-11-18",
           "[Gen 9] OU",
           "5"
          ],
          [
           "Will Simpson",
           "Roman Ramirez",
           3,
           6,
           "2023-11-18",
           "[Gen 9] OU",
           "6"
          ],
          [
           "Will Simpson",
           "Evan Sooklal",
           6,
           2,
           "2023-11-18",
           "[Gen 9] OU",
           "7"
          ],
          [
           "Roman Ramirez",
           "Paul Bartenfeld",
           6,
           4,
           "2023-11-18",
           "[Gen 9] OU",
           "8"
          ],
          [
           "Evan Sooklal",
           "Roman Ramirez",
           6,
           5,
           "2023-11-18",
           "[Gen 9] OU",
           "9"
          ],
          [
           "Paul Bartenfeld",
           "Will Simpson",
           4,
           6,
           "2023-11-18",
           "[Gen 9] OU",
           "10"
          ],
          [
           "Evan Sooklal",
           "Paul Bartenfeld",
           6,
           5,
           "2023-11-18",
           "[Gen 9] OU",
           "11"
          ],
          [
           "Roman Ramirez",
           "Will Simpson",
           6,
           2,
           "2023-11-18",
           "[Gen 9] OU",
           "12"
          ],
          [
           "Roman Ramirez",
           "Will Simpson",
           2,
           6,
           "2023-11-18",
           "[Gen 9] OU",
           "1"
          ],
          [
           "Will Simpson",
           "Roman Ramirez",
           4,
           6,
           "2023-11-18",
           "[Gen 9] OU",
           "2"
          ],
          [
           "Roman Ramirez",
           "Will Simpson",
           6,
           4,
           "2023-11-18",
           "[Gen 9] OU",
           "3"
          ],
          [
           "Roman Ramirez",
           "Aaron Carter",
           4,
           6,
           "2023-12-02",
           "[Gen 9] OU",
           "1"
          ],
          [
           "Will Simpson",
           "Paul Bartenfeld",
           6,
           4,
           "2023-12-02",
           "[Gen 9] OU",
           "2"
          ],
          [
           "Aaron Carter",
           "Will Simpson",
           4,
           6,
           "2023-12-02",
           "[Gen 9] OU",
           "3"
          ],
          [
           "Evan Sooklal",
           "Roman Ramirez",
           6,
           2,
           "2023-12-02",
           "[Gen 9] OU",
           "4"
          ],
          [
           "Will Simpson",
           "Evan Sooklal",
           6,
           2,
           "2023-12-02",
           "[Gen 9] OU",
           "5"
          ],
          [
           "Paul Bartenfeld",
           "Aaron Carter",
           6,
           3,
           "2023-12-02",
           "[Gen 9] OU",
           "6"
          ],
          [
           "Evan Sooklal",
           "Paul Bartenfeld",
           6,
           4,
           "2023-12-02",
           "[Gen 9] OU",
           "7"
          ],
          [
           "Roman Ramirez",
           "Will Simpson",
           6,
           4,
           "2023-12-02",
           "[Gen 9] OU",
           "8"
          ],
          [
           "Paul Bartenfeld",
           "Roman Ramirez",
           6,
           3,
           "2023-12-02",
           "[Gen 9] OU",
           "9"
          ],
          [
           "Aaron Carter",
           "Evan Sooklal",
           6,
           3,
           "2023-12-02",
           "[Gen 9] OU",
           "10"
          ],
          [
           "Aaron Carter",
           "Roman Ramirez",
           0,
           6,
           "2023-12-02",
           "[Gen 9] OU",
           "11"
          ],
          [
           "Paul Bartenfeld",
           "Will Simpson",
           1,
           6,
           "2023-12-02",
           "[Gen 9] OU",
           "12"
          ],
          [
           "Will Simpson",
           "Aaron Carter",
           3,
           6,
           "2023-12-02",
           "[Gen 9] OU",
           "13"
          ],
          [
           "Roman Ramirez",
           "Evan Sooklal",
           2,
           6,
           "2023-12-02",
           "[Gen 9] OU",
           "14"
          ],
          [
           "Evan Sooklal",
           "Will Simpson",
           5,
           6,
           "2023-12-02",
           "[Gen 9] OU",
           "15"
          ],
          [
           "Aaron Carter",
           "Paul Bartenfeld",
           6,
           3,
           "2023-12-02",
           "[Gen 9] OU",
           "16"
          ],
          [
           "Paul Bartenfeld",
           "Evan Sooklal",
           6,
           5,
           "2023-12-02",
           "[Gen 9] OU",
           "17"
          ],
          [
           "Will Simpson",
           "Roman Ramirez",
           6,
           5,
           "2023-12-02",
           "[Gen 9] OU",
           "18"
          ],
          [
           "Roman Ramirez",
           "Paul Bartenfeld",
           4,
           6,
           "2023-12-02",
           "[Gen 9] OU",
           "19"
          ],
          [
           "Evan Sooklal",
           "Aaron Carter",
           6,
           4,
           "2023-12-02",
           "[Gen 9] OU",
           "20"
          ],
          [
           "Will Simpson",
           "Evan Sooklal",
           6,
           2,
           "2023-12-02",
           "[Gen 9] OU",
           "1"
          ],
          [
           "Will Simpson",
           "Evan Sooklal",
           6,
           1,
           "2023-12-02",
           "[Gen 9] OU",
           "2"
          ],
          [
           "Aaron Carter",
           "Paul Bartenfeld",
           6,
           3,
           "2023-12-13",
           "[Gen 9] OU",
           "1"
          ],
          [
           "Roman Ramirez",
           "Evan Sooklal",
           5,
           6,
           "2023-12-13",
           "[Gen 9] OU",
           "2"
          ],
          [
           "Paul Bartenfeld",
           "Roman Ramirez",
           2,
           6,
           "2023-12-13",
           "[Gen 9] OU",
           "3"
          ],
          [
           "Will Simpson",
           "Aaron Carter",
           0,
           6,
           "2023-12-13",
           "[Gen 9] OU",
           "4"
          ],
          [
           "Roman Ramirez",
           "Will Simpson",
           4,
           6,
           "2023-12-13",
           "[Gen 9] OU",
           "5"
          ],
          [
           "Evan Sooklal",
           "Paul Bartenfeld",
           6,
           5,
           "2023-12-13",
           "[Gen 9] OU",
           "6"
          ],
          [
           "Will Simpson",
           "Evan Sooklal",
           4,
           6,
           "2023-12-13",
           "[Gen 9] OU",
           "7"
          ],
          [
           "Aaron Carter",
           "Roman Ramirez",
           6,
           3,
           "2023-12-13",
           "[Gen 9] OU",
           "8"
          ],
          [
           "Evan Sooklal",
           "Aaron Carter",
           5,
           6,
           "2023-12-13",
           "[Gen 9] OU",
           "9"
          ],
          [
           "Paul Bartenfeld",
           "Will Simpson",
           2,
           6,
           "2023-12-13",
           "[Gen 9] OU",
           "10"
          ],
          [
           "Paul Bartenfeld",
           "Aaron Carter",
           3,
           6,
           "2023-12-13",
           "[Gen 9] OU",
           "11"
          ],
          [
           "Evan Sooklal",
           "Roman Ramirez",
           6,
           4,
           "2023-12-13",
           "[Gen 9] OU",
           "12"
          ],
          [
           "Roman Ramirez",
           "Paul Bartenfeld",
           6,
           1,
           "2023-12-13",
           "[Gen 9] OU",
           "13"
          ],
          [
           "Aaron Carter",
           "Will Simpson",
           6,
           5,
           "2023-12-13",
           "[Gen 9] OU",
           "14"
          ],
          [
           "Will Simpson",
           "Roman Ramirez",
           3,
           6,
           "2023-12-13",
           "[Gen 9] OU",
           "15"
          ],
          [
           "Paul Bartenfeld",
           "Evan Sooklal",
           3,
           6,
           "2023-12-13",
           "[Gen 9] OU",
           "16"
          ],
          [
           "Evan Sooklal",
           "Will Simpson",
           6,
           3,
           "2023-12-13",
           "[Gen 9] OU",
           "17"
          ],
          [
           "Roman Ramirez",
           "Aaron Carter",
           5,
           6,
           "2023-12-13",
           "[Gen 9] OU",
           "18"
          ],
          [
           "Aaron Carter",
           "Evan Sooklal",
           6,
           2,
           "2023-12-13",
           "[Gen 9] OU",
           "19"
          ],
          [
           "Will Simpson",
           "Paul Bartenfeld",
           6,
           4,
           "2023-12-13",
           "[Gen 9] OU",
           "20"
          ],
          [
           "Aaron Carter",
           "Evan Sooklal",
           5,
           6,
           "2023-12-13",
           "[Gen 9] OU",
           "1"
          ],
          [
           "Evan Sooklal",
           "Aaron Carter",
           2,
           6,
           "2023-12-13",
           "[Gen 9] OU",
           "2"
          ],
          [
           "Aaron Carter",
           "Evan Sooklal",
           6,
           2,
           "2023-12-13",
           "[Gen 9] OU",
           "3"
          ],
          [
           "Evan Sooklal",
           "Will Simpson",
           0,
           4,
           "2024-01-28",
           "[Gen 9] VGC 2024 Reg F",
           "1"
          ],
          [
           "Roman Ramirez",
           "Aaron Carter",
           2,
           4,
           "2024-01-28",
           "[Gen 9] VGC 2024 Reg F",
           "2"
          ],
          [
           "Aaron Carter",
           "Evan Sooklal",
           3,
           4,
           "2024-01-28",
           "[Gen 9] VGC 2024 Reg F",
           "3"
          ],
          [
           "Will Simpson",
           "Roman Ramirez",
           4,
           2,
           "2024-01-28",
           "[Gen 9] VGC 2024 Reg F",
           "4"
          ],
          [
           "Roman Ramirez",
           "Evan Sooklal",
           0,
           4,
           "2024-01-28",
           "[Gen 9] VGC 2024 Reg F",
           "5"
          ],
          [
           "Will Simpson",
           "Aaron Carter",
           1,
           4,
           "2024-01-28",
           "[Gen 9] VGC 2024 Reg F",
           "6"
          ],
          [
           "Will Simpson",
           "Evan Sooklal",
           4,
           2,
           "2024-01-28",
           "[Gen 9] VGC 2024 Reg F",
           "7"
          ],
          [
           "Aaron Carter",
           "Roman Ramirez",
           4,
           0,
           "2024-01-28",
           "[Gen 9] VGC 2024 Reg F",
           "8"
          ],
          [
           "Evan Sooklal",
           "Aaron Carter",
           3,
           4,
           "2024-01-28",
           "[Gen 9] VGC 2024 Reg F",
           "9"
          ],
          [
           "Roman Ramirez",
           "Will Simpson",
           1,
           4,
           "2024-01-28",
           "[Gen 9] VGC 2024 Reg F",
           "10"
          ],
          [
           "Evan Sooklal",
           "Roman Ramirez",
           4,
           3,
           "2024-01-28",
           "[Gen 9] VGC 2024 Reg F",
           "11"
          ],
          [
           "Aaron Carter",
           "Will Simpson",
           2,
           4,
           "2024-01-28",
           "[Gen 9] VGC 2024 Reg F",
           "12"
          ],
          [
           "Will Simpson",
           "Aaron Carter",
           4,
           0,
           "2024-01-28",
           "[Gen 9] VGC 2024 Reg F",
           "1"
          ],
          [
           "Will Simpson",
           "Aaron Carter",
           4,
           3,
           "2024-01-28",
           "[Gen 9] VGC 2024 Reg F",
           "2"
          ],
          [
           "Aaron Carter",
           "Evan Sooklal",
           4,
           2,
           "2024-02-09",
           "[Gen 9] VGC 2024 Reg F",
           "1a"
          ],
          [
           "Aaron Carter",
           "Evan Sooklal",
           4,
           3,
           "2024-02-09",
           "[Gen 9] VGC 2024 Reg F",
           "1b"
          ],
          [
           "Roman Ramirez",
           "Will Simpson",
           3,
           4,
           "2024-02-09",
           "[Gen 9] VGC 2024 Reg F",
           "2a"
          ],
          [
           "Roman Ramirez",
           "Will Simpson",
           2,
           4,
           "2024-02-09",
           "[Gen 9] VGC 2024 Reg F",
           "2b"
          ],
          [
           "Will Simpson",
           "Aaron Carter",
           2,
           4,
           "2024-02-09",
           "[Gen 9] VGC 2024 Reg F",
           "3a"
          ],
          [
           "Will Simpson",
           "Aaron Carter",
           0,
           4,
           "2024-02-09",
           "[Gen 9] VGC 2024 Reg F",
           "3b"
          ],
          [
           "Evan Sooklal",
           "Roman Ramirez",
           1,
           4,
           "2024-02-09",
           "[Gen 9] VGC 2024 Reg F",
           "4a"
          ],
          [
           "Evan Sooklal",
           "Roman Ramirez",
           4,
           2,
           "2024-02-09",
           "[Gen 9] VGC 2024 Reg F",
           "4b"
          ],
          [
           "Evan Sooklal",
           "Roman Ramirez",
           2,
           4,
           "2024-02-09",
           "[Gen 9] VGC 2024 Reg F",
           "4c"
          ],
          [
           "Roman Ramirez",
           "Aaron Carter",
           4,
           3,
           "2024-02-09",
           "[Gen 9] VGC 2024 Reg F",
           "5a"
          ],
          [
           "Roman Ramirez",
           "Aaron Carter",
           0,
           4,
           "2024-02-09",
           "[Gen 9] VGC 2024 Reg F",
           "5b"
          ],
          [
           "Roman Ramirez",
           "Aaron Carter",
           3,
           4,
           "2024-02-09",
           "[Gen 9] VGC 2024 Reg F",
           "5c"
          ],
          [
           "Evan Sooklal",
           "Will Simpson",
           1,
           4,
           "2024-02-09",
           "[Gen 9] VGC 2024 Reg F",
           "6a"
          ],
          [
           "Evan Sooklal",
           "Will Simpson",
           0,
           4,
           "2024-02-09",
           "[Gen 9] VGC 2024 Reg F",
           "6b"
          ],
          [
           "Aaron Carter",
           "Will Simpson",
           4,
           1,
           "2024-02-09",
           "[Gen 9] VGC 2024 Reg F",
           "1a"
          ],
          [
           "Aaron Carter",
           "Will Simpson",
           4,
           2,
           "2024-02-09",
           "[Gen 9] VGC 2024 Reg F",
           "1b"
          ],
          [
           "Will Simpson",
           "Evan Sooklal",
           6,
           2,
           "2024-02-18",
           "[Gen 9] Doubles UU",
           "1"
          ],
          [
           "Jack Massingill",
           "Roman Ramirez",
           0,
           6,
           "2024-02-18",
           "[Gen 9] Doubles UU",
           "2"
          ],
          [
           "Evan Sooklal",
           "Jack Massingill",
           6,
           3,
           "2024-02-18",
           "[Gen 9] Doubles UU",
           "3"
          ],
          [
           "Aaron Carter",
           "Will Simpson",
           6,
           1,
           "2024-02-18",
           "[Gen 9] Doubles UU",
           "4"
          ],
          [
           "Jack Massingill",
           "Aaron Carter",
           3,
           6,
           "2024-02-18",
           "[Gen 9] Doubles UU",
           "5"
          ],
          [
           "Roman Ramirez",
           "Evan Sooklal",
           6,
           3,
           "2024-02-18",
           "[Gen 9] Doubles UU",
           "6"
          ],
          [
           "Aaron Carter",
           "Roman Ramirez",
           3,
           6,
           "2024-02-18",
           "[Gen 9] Doubles UU",
           "7"
          ],
          [
           "Will Simpson",
           "Jack Massingill",
           6,
           0,
           "2024-02-18",
           "[Gen 9] Doubles UU",
           "8"
          ],
          [
           "Roman Ramirez",
           "Will Simpson",
           6,
           0,
           "2024-02-18",
           "[Gen 9] Doubles UU",
           "9"
          ],
          [
           "Evan Sooklal",
           "Aaron Carter",
           2,
           6,
           "2024-02-18",
           "[Gen 9] Doubles UU",
           "10"
          ],
          [
           "Evan Sooklal",
           "Will Simpson",
           6,
           2,
           "2024-02-18",
           "[Gen 9] Doubles UU",
           "11"
          ],
          [
           "Roman Ramirez",
           "Jack Massingill",
           6,
           1,
           "2024-02-18",
           "[Gen 9] Doubles UU",
           "12"
          ],
          [
           "Jack Massingill",
           "Evan Sooklal",
           0,
           6,
           "2024-02-18",
           "[Gen 9] Doubles UU",
           "13"
          ],
          [
           "Will Simpson",
           "Aaron Carter",
           2,
           6,
           "2024-02-18",
           "[Gen 9] Doubles UU",
           "14"
          ],
          [
           "Aaron Carter",
           "Jack Massingill",
           6,
           4,
           "2024-02-18",
           "[Gen 9] Doubles UU",
           "15"
          ],
          [
           "Evan Sooklal",
           "Roman Ramirez",
           1,
           6,
           "2024-02-18",
           "[Gen 9] Doubles UU",
           "16"
          ],
          [
           "Roman Ramirez",
           "Aaron Carter",
           6,
           5,
           "2024-02-18",
           "[Gen 9] Doubles UU",
           "17"
          ],
          [
           "Jack Massingill",
           "Will Simpson",
           6,
           0,
           "2024-02-18",
           "[Gen 9] Doubles UU",
           "18"
          ],
          [
           "Will Simpson",
           "Roman Ramirez",
           0,
           6,
           "2024-02-18",
           "[Gen 9] Doubles UU",
           "19"
          ],
          [
           "Aaron Carter",
           "Evan Sooklal",
           6,
           5,
           "2024-02-18",
           "[Gen 9] Doubles UU",
           "20"
          ],
          [
           "Roman Ramirez",
           "Aaron Carter",
           6,
           4,
           "2024-02-18",
           "[Gen 9] Doubles UU",
           "1"
          ],
          [
           "Roman Ramirez",
           "Aaron Carter",
           3,
           6,
           "2024-02-18",
           "[Gen 9] Doubles UU",
           "2"
          ],
          [
           "Roman Ramirez",
           "Aaron Carter",
           4,
           6,
           "2024-02-18",
           "[Gen 9] Doubles UU",
           "3"
          ],
          [
           "Lilith Karyadi",
           "Roman Ramirez",
           6,
           3,
           "2024-06-09",
           "[Gen 9] RU",
           "1a"
          ],
          [
           "Lilith Karyadi",
           "Roman Ramirez",
           6,
           3,
           "2024-06-09",
           "[Gen 9] RU",
           "1b"
          ],
          [
           "Evan Sooklal",
           "Will Simpson",
           6,
           5,
           "2024-06-09",
           "[Gen 9] RU",
           "2a"
          ],
          [
           "Evan Sooklal",
           "Will Simpson",
           4,
           6,
           "2024-06-09",
           "[Gen 9] RU",
           "2b"
          ],
          [
           "Evan Sooklal",
           "Will Simpson",
           6,
           5,
           "2024-06-09",
           "[Gen 9] RU",
           "2c"
          ],
          [
           "Will Simpson",
           "Lilith Karyadi",
           6,
           5,
           "2024-06-09",
           "[Gen 9] RU",
           "3a"
          ],
          [
           "Will Simpson",
           "Lilith Karyadi",
           6,
           2,
           "2024-06-09",
           "[Gen 9] RU",
           "3b"
          ],
          [
           "Roman Ramirez",
           "Evan Sooklal",
           4,
           6,
           "2024-06-09",
           "[Gen 9] RU",
           "4a"
          ],
          [
           "Roman Ramirez",
           "Evan Sooklal",
           2,
           6,
           "2024-06-09",
           "[Gen 9] RU",
           "4b"
          ],
          [
           "Evan Sooklal",
           "Lilith Karyadi",
           2,
           6,
           "2024-06-09",
           "[Gen 9] RU",
           "5a"
          ],
          [
           "Evan Sooklal",
           "Lilith Karyadi",
           5,
           6,
           "2024-06-09",
           "[Gen 9] RU",
           "5a"
          ],
          [
           "Evan Sooklal",
           "Lilith Karyadi",
           5,
           6,
           "2024-06-09",
           "[Gen 9] RU",
           "1"
          ],
          [
           "Will Simpson",
           "Lilith Karyadi",
           6,
           5,
           "2024-06-09",
           "[Gen 9] RU",
           "2"
          ]
         ],
         "hovertemplate": "<i>%{customdata[4]|%A, %B %d, %Y}, Game %{x}</i><br><b>%{fullData.name}</b><br><br><b>Format:</b> %{customdata[5]}<br><b>Tournament Match:</b> %{customdata[6]}<br><br><b>%{customdata[0]} vs. %{customdata[1]}</b><br><b>Final Score:</b> %{customdata[2]}-%{customdata[3]}<br>%{text}<b>Post-Game ELO:</b> %{y:,.0f}<br><extra></extra>",
         "legendgrouptitle": {
          "text": "<b>#<i>Rank</i> (<i>Current ELO</i>) <i>Player</i></b>"
         },
         "line": {
          "color": "rgb(242, 183, 1)",
          "shape": "hv"
         },
         "mode": "lines+markers",
         "name": "#4 (1201) Roman Ramirez",
         "opacity": 0.8,
         "text": [
          "<br><b>Pre-Game ELO: </b>nan<br><b>Win Probability: </b>nan%<br><br><b>Change in ELO:</b> +nan<br>",
          "<br><b>Pre-Game ELO: </b>1200<br><b>Win Probability: </b>50.0%<br><br><b>Change in ELO:</b> +16<br>",
          "<br><b>Pre-Game ELO: </b>1216<br><b>Win Probability: </b>58.4%<br><br><b>Change in ELO:</b> +13<br>",
          "<br><b>Pre-Game ELO: </b>nan<br><b>Win Probability: </b>nan%<br><br><b>Change in ELO:</b> +nan<br>",
          "<br><b>Pre-Game ELO: </b>nan<br><b>Win Probability: </b>nan%<br><br><b>Change in ELO:</b> +nan<br>",
          "<br><b>Pre-Game ELO: </b>1228<br><b>Win Probability: </b>50.0%<br><br><b>Change in ELO:</b> +16<br>",
          "<br><b>Pre-Game ELO: </b>nan<br><b>Win Probability: </b>nan%<br><br><b>Change in ELO:</b> +nan<br>",
          "<br><b>Pre-Game ELO: </b>1244<br><b>Win Probability: </b>72.4%<br><br><b>Change in ELO:</b> +9<br>",
          "<br><b>Pre-Game ELO: </b>1252<br><b>Win Probability: </b>70.4%<br><br><b>Change in ELO:</b> -22<br>",
          "<br><b>Pre-Game ELO: </b>nan<br><b>Win Probability: </b>nan%<br><br><b>Change in ELO:</b> +nan<br>",
          "<br><b>Pre-Game ELO: </b>nan<br><b>Win Probability: </b>nan%<br><br><b>Change in ELO:</b> +nan<br>",
          "<br><b>Pre-Game ELO: </b>1231<br><b>Win Probability: </b>48.7%<br><br><b>Change in ELO:</b> +16<br>",
          "<br><b>Pre-Game ELO: </b>1247<br><b>Win Probability: </b>57.4%<br><br><b>Change in ELO:</b> -18<br>",
          "<br><b>Pre-Game ELO: </b>1229<br><b>Win Probability: </b>47.7%<br><br><b>Change in ELO:</b> +16<br>",
          "<br><b>Pre-Game ELO: </b>1245<br><b>Win Probability: </b>56.5%<br><br><b>Change in ELO:</b> +13<br>",
          "<br><b>Pre-Game ELO: </b>1258<br><b>Win Probability: </b>65.5%<br><br><b>Change in ELO:</b> -20<br>",
          "<br><b>Pre-Game ELO: </b>nan<br><b>Win Probability: </b>nan%<br><br><b>Change in ELO:</b> +nan<br>",
          "<br><b>Pre-Game ELO: </b>nan<br><b>Win Probability: </b>nan%<br><br><b>Change in ELO:</b> +nan<br>",
          "<br><b>Pre-Game ELO: </b>1238<br><b>Win Probability: </b>58.6%<br><br><b>Change in ELO:</b> -18<br>",
          "<br><b>Pre-Game ELO: </b>nan<br><b>Win Probability: </b>nan%<br><br><b>Change in ELO:</b> +nan<br>",
          "<br><b>Pre-Game ELO: </b>nan<br><b>Win Probability: </b>nan%<br><br><b>Change in ELO:</b> +nan<br>",
          "<br><b>Pre-Game ELO: </b>nan<br><b>Win Probability: </b>nan%<br><br><b>Change in ELO:</b> +nan<br>",
          "<br><b>Pre-Game ELO: </b>1220<br><b>Win Probability: </b>42.5%<br><br><b>Change in ELO:</b> +18<br>",
          "<br><b>Pre-Game ELO: </b>1238<br><b>Win Probability: </b>76.4%<br><br><b>Change in ELO:</b> -24<br>",
          "<br><b>Pre-Game ELO: </b>nan<br><b>Win Probability: </b>nan%<br><br><b>Change in ELO:</b> +nan<br>",
          "<br><b>Pre-Game ELO: </b>1214<br><b>Win Probability: </b>53.6%<br><br><b>Change in ELO:</b> +14<br>",
          "<br><b>Pre-Game ELO: </b>nan<br><b>Win Probability: </b>nan%<br><br><b>Change in ELO:</b> +nan<br>",
          "<br><b>Pre-Game ELO: </b>nan<br><b>Win Probability: </b>nan%<br><br><b>Change in ELO:</b> +nan<br>",
          "<br><b>Pre-Game ELO: </b>1228<br><b>Win Probability: </b>57.5%<br><br><b>Change in ELO:</b> -18<br>",
          "<br><b>Pre-Game ELO: </b>nan<br><b>Win Probability: </b>nan%<br><br><b>Change in ELO:</b> +nan<br>",
          "<br><b>Pre-Game ELO: </b>nan<br><b>Win Probability: </b>nan%<br><br><b>Change in ELO:</b> +nan<br>",
          "<br><b>Pre-Game ELO: </b>nan<br><b>Win Probability: </b>nan%<br><br><b>Change in ELO:</b> +nan<br>",
          "<br><b>Pre-Game ELO: </b>1211<br><b>Win Probability: </b>43.5%<br><br><b>Change in ELO:</b> -13<br>",
          "<br><b>Pre-Game ELO: </b>1197<br><b>Win Probability: </b>61.2%<br><br><b>Change in ELO:</b> -19<br>",
          "<br><b>Pre-Game ELO: </b>nan<br><b>Win Probability: </b>nan%<br><br><b>Change in ELO:</b> +nan<br>",
          "<br><b>Pre-Game ELO: </b>nan<br><b>Win Probability: </b>nan%<br><br><b>Change in ELO:</b> +nan<br>",
          "<br><b>Pre-Game ELO: </b>nan<br><b>Win Probability: </b>nan%<br><br><b>Change in ELO:</b> +nan<br>",
          "<br><b>Pre-Game ELO: </b>nan<br><b>Win Probability: </b>nan%<br><br><b>Change in ELO:</b> +nan<br>",
          "<br><b>Pre-Game ELO: </b>1178<br><b>Win Probability: </b>49.7%<br><br><b>Change in ELO:</b> -15<br>",
          "<br><b>Pre-Game ELO: </b>1163<br><b>Win Probability: </b>50.4%<br><br><b>Change in ELO:</b> +15<br>",
          "<br><b>Pre-Game ELO: </b>nan<br><b>Win Probability: </b>nan%<br><br><b>Change in ELO:</b> +nan<br>",
          "<br><b>Pre-Game ELO: </b>1178<br><b>Win Probability: </b>31.4%<br><br><b>Change in ELO:</b> -10<br>",
          "<br><b>Pre-Game ELO: </b>nan<br><b>Win Probability: </b>nan%<br><br><b>Change in ELO:</b> +nan<br>",
          "<br><b>Pre-Game ELO: </b>nan<br><b>Win Probability: </b>nan%<br><br><b>Change in ELO:</b> +nan<br>",
          "<br><b>Pre-Game ELO: </b>1168<br><b>Win Probability: </b>33.2%<br><br><b>Change in ELO:</b> -10<br>",
          "<br><b>Pre-Game ELO: </b>nan<br><b>Win Probability: </b>nan%<br><br><b>Change in ELO:</b> +nan<br>",
          "<br><b>Pre-Game ELO: </b>nan<br><b>Win Probability: </b>nan%<br><br><b>Change in ELO:</b> +nan<br>",
          "<br><b>Pre-Game ELO: </b>nan<br><b>Win Probability: </b>nan%<br><br><b>Change in ELO:</b> +nan<br>",
          "<br><b>Pre-Game ELO: </b>1158<br><b>Win Probability: </b>35.6%<br><br><b>Change in ELO:</b> -11<br>",
          "<br><b>Pre-Game ELO: </b>1147<br><b>Win Probability: </b>57.1%<br><br><b>Change in ELO:</b> +13<br>",
          "<br><b>Pre-Game ELO: </b>nan<br><b>Win Probability: </b>nan%<br><br><b>Change in ELO:</b> +nan<br>",
          "<br><b>Pre-Game ELO: </b>1160<br><b>Win Probability: </b>31.2%<br><br><b>Change in ELO:</b> +21<br>",
          "<br><b>Pre-Game ELO: </b>nan<br><b>Win Probability: </b>nan%<br><br><b>Change in ELO:</b> +nan<br>",
          "<br><b>Pre-Game ELO: </b>nan<br><b>Win Probability: </b>nan%<br><br><b>Change in ELO:</b> +nan<br>",
          "<br><b>Pre-Game ELO: </b>1182<br><b>Win Probability: </b>26.1%<br><br><b>Change in ELO:</b> -8<br>",
          "<br><b>Pre-Game ELO: </b>nan<br><b>Win Probability: </b>nan%<br><br><b>Change in ELO:</b> +nan<br>",
          "<br><b>Pre-Game ELO: </b>nan<br><b>Win Probability: </b>nan%<br><br><b>Change in ELO:</b> +nan<br>",
          "<br><b>Pre-Game ELO: </b>nan<br><b>Win Probability: </b>nan%<br><br><b>Change in ELO:</b> +nan<br>",
          "<br><b>Pre-Game ELO: </b>nan<br><b>Win Probability: </b>nan%<br><br><b>Change in ELO:</b> +nan<br>",
          "<br><b>Pre-Game ELO: </b>nan<br><b>Win Probability: </b>nan%<br><br><b>Change in ELO:</b> +nan<br>",
          "<br><b>Pre-Game ELO: </b>nan<br><b>Win Probability: </b>nan%<br><br><b>Change in ELO:</b> +nan<br>",
          "<br><b>Pre-Game ELO: </b>1174<br><b>Win Probability: </b>19.8%<br><br><b>Change in ELO:</b> -6<br>",
          "<br><b>Pre-Game ELO: </b>nan<br><b>Win Probability: </b>nan%<br><br><b>Change in ELO:</b> +nan<br>",
          "<br><b>Pre-Game ELO: </b>1167<br><b>Win Probability: </b>35.3%<br><br><b>Change in ELO:</b> -11<br>",
          "<br><b>Pre-Game ELO: </b>1157<br><b>Win Probability: </b>30.1%<br><br><b>Change in ELO:</b> -9<br>",
          "<br><b>Pre-Game ELO: </b>nan<br><b>Win Probability: </b>nan%<br><br><b>Change in ELO:</b> +nan<br>",
          "<br><b>Pre-Game ELO: </b>nan<br><b>Win Probability: </b>nan%<br><br><b>Change in ELO:</b> +nan<br>",
          "<br><b>Pre-Game ELO: </b>1147<br><b>Win Probability: </b>16.4%<br><br><b>Change in ELO:</b> -5<br>",
          "<br><b>Pre-Game ELO: </b>nan<br><b>Win Probability: </b>nan%<br><br><b>Change in ELO:</b> +nan<br>",
          "<br><b>Pre-Game ELO: </b>1142<br><b>Win Probability: </b>25.6%<br><br><b>Change in ELO:</b> -8<br>",
          "<br><b>Pre-Game ELO: </b>1134<br><b>Win Probability: </b>28.9%<br><br><b>Change in ELO:</b> -9<br>",
          "<br><b>Pre-Game ELO: </b>nan<br><b>Win Probability: </b>nan%<br><br><b>Change in ELO:</b> +nan<br>",
          "<br><b>Pre-Game ELO: </b>nan<br><b>Win Probability: </b>nan%<br><br><b>Change in ELO:</b> +nan<br>",
          "<br><b>Pre-Game ELO: </b>nan<br><b>Win Probability: </b>nan%<br><br><b>Change in ELO:</b> +nan<br>",
          "<br><b>Pre-Game ELO: </b>nan<br><b>Win Probability: </b>nan%<br><br><b>Change in ELO:</b> +nan<br>",
          "<br><b>Pre-Game ELO: </b>nan<br><b>Win Probability: </b>nan%<br><br><b>Change in ELO:</b> +nan<br>",
          "<br><b>Pre-Game ELO: </b>1125<br><b>Win Probability: </b>12.8%<br><br><b>Change in ELO:</b> -4<br>",
          "<br><b>Pre-Game ELO: </b>1121<br><b>Win Probability: </b>11.9%<br><br><b>Change in ELO:</b> -4<br>",
          "<br><b>Pre-Game ELO: </b>nan<br><b>Win Probability: </b>nan%<br><br><b>Change in ELO:</b> +nan<br>",
          "<br><b>Pre-Game ELO: </b>nan<br><b>Win Probability: </b>nan%<br><br><b>Change in ELO:</b> +nan<br>",
          "<br><b>Pre-Game ELO: </b>1118<br><b>Win Probability: </b>28.5%<br><br><b>Change in ELO:</b> +22<br>",
          "<br><b>Pre-Game ELO: </b>1140<br><b>Win Probability: </b>39.3%<br><br><b>Change in ELO:</b> -12<br>",
          "<br><b>Pre-Game ELO: </b>1128<br><b>Win Probability: </b>33.1%<br><br><b>Change in ELO:</b> +21<br>",
          "<br><b>Pre-Game ELO: </b>1148<br><b>Win Probability: </b>14.0%<br><br><b>Change in ELO:</b> +27<br>",
          "<br><b>Pre-Game ELO: </b>1175<br><b>Win Probability: </b>22.6%<br><br><b>Change in ELO:</b> -7<br>",
          "<br><b>Pre-Game ELO: </b>1168<br><b>Win Probability: </b>20.1%<br><br><b>Change in ELO:</b> -6<br>",
          "<br><b>Pre-Game ELO: </b>nan<br><b>Win Probability: </b>nan%<br><br><b>Change in ELO:</b> +nan<br>",
          "<br><b>Pre-Game ELO: </b>nan<br><b>Win Probability: </b>nan%<br><br><b>Change in ELO:</b> +nan<br>",
          "<br><b>Pre-Game ELO: </b>nan<br><b>Win Probability: </b>nan%<br><br><b>Change in ELO:</b> +nan<br>",
          "<br><b>Pre-Game ELO: </b>nan<br><b>Win Probability: </b>nan%<br><br><b>Change in ELO:</b> +nan<br>",
          "<br><b>Pre-Game ELO: </b>nan<br><b>Win Probability: </b>nan%<br><br><b>Change in ELO:</b> +nan<br>",
          "<br><b>Pre-Game ELO: </b>1162<br><b>Win Probability: </b>39.6%<br><br><b>Change in ELO:</b> +19<br>",
          "<br><b>Pre-Game ELO: </b>nan<br><b>Win Probability: </b>nan%<br><br><b>Change in ELO:</b> +nan<br>",
          "<br><b>Pre-Game ELO: </b>nan<br><b>Win Probability: </b>nan%<br><br><b>Change in ELO:</b> +nan<br>",
          "<br><b>Pre-Game ELO: </b>nan<br><b>Win Probability: </b>nan%<br><br><b>Change in ELO:</b> +nan<br>",
          "<br><b>Pre-Game ELO: </b>1180<br><b>Win Probability: </b>53.6%<br><br><b>Change in ELO:</b> +14<br>",
          "<br><b>Pre-Game ELO: </b>1195<br><b>Win Probability: </b>16.6%<br><br><b>Change in ELO:</b> +26<br>",
          "<br><b>Pre-Game ELO: </b>nan<br><b>Win Probability: </b>nan%<br><br><b>Change in ELO:</b> +nan<br>",
          "<br><b>Pre-Game ELO: </b>1221<br><b>Win Probability: </b>37.6%<br><br><b>Change in ELO:</b> +19<br>",
          "<br><b>Pre-Game ELO: </b>nan<br><b>Win Probability: </b>nan%<br><br><b>Change in ELO:</b> +nan<br>",
          "<br><b>Pre-Game ELO: </b>nan<br><b>Win Probability: </b>nan%<br><br><b>Change in ELO:</b> +nan<br>",
          "<br><b>Pre-Game ELO: </b>1240<br><b>Win Probability: </b>72.6%<br><br><b>Change in ELO:</b> +8<br>",
          "<br><b>Pre-Game ELO: </b>nan<br><b>Win Probability: </b>nan%<br><br><b>Change in ELO:</b> +nan<br>",
          "<br><b>Pre-Game ELO: </b>nan<br><b>Win Probability: </b>nan%<br><br><b>Change in ELO:</b> +nan<br>",
          "<br><b>Pre-Game ELO: </b>nan<br><b>Win Probability: </b>nan%<br><br><b>Change in ELO:</b> +nan<br>",
          "<br><b>Pre-Game ELO: </b>1248<br><b>Win Probability: </b>66.8%<br><br><b>Change in ELO:</b> +10<br>",
          "<br><b>Pre-Game ELO: </b>1259<br><b>Win Probability: </b>31.1%<br><br><b>Change in ELO:</b> +21<br>",
          "<br><b>Pre-Game ELO: </b>nan<br><b>Win Probability: </b>nan%<br><br><b>Change in ELO:</b> +nan<br>",
          "<br><b>Pre-Game ELO: </b>1280<br><b>Win Probability: </b>72.1%<br><br><b>Change in ELO:</b> +9<br>",
          "<br><b>Pre-Game ELO: </b>nan<br><b>Win Probability: </b>nan%<br><br><b>Change in ELO:</b> +nan<br>",
          "<br><b>Pre-Game ELO: </b>1289<br><b>Win Probability: </b>42.7%<br><br><b>Change in ELO:</b> +18<br>",
          "<br><b>Pre-Game ELO: </b>1307<br><b>Win Probability: </b>52.4%<br><br><b>Change in ELO:</b> -16<br>",
          "<br><b>Pre-Game ELO: </b>1290<br><b>Win Probability: </b>43.5%<br><br><b>Change in ELO:</b> -13<br>",
          "<br><b>Pre-Game ELO: </b>1277<br><b>Win Probability: </b>69.9%<br><br><b>Change in ELO:</b> -22<br>",
          "<br><b>Pre-Game ELO: </b>1255<br><b>Win Probability: </b>59.1%<br><br><b>Change in ELO:</b> -18<br>",
          "<br><b>Pre-Game ELO: </b>nan<br><b>Win Probability: </b>nan%<br><br><b>Change in ELO:</b> +nan<br>",
          "<br><b>Pre-Game ELO: </b>nan<br><b>Win Probability: </b>nan%<br><br><b>Change in ELO:</b> +nan<br>",
          "<br><b>Pre-Game ELO: </b>nan<br><b>Win Probability: </b>nan%<br><br><b>Change in ELO:</b> +nan<br>",
          "<br><b>Pre-Game ELO: </b>nan<br><b>Win Probability: </b>nan%<br><br><b>Change in ELO:</b> +nan<br>",
          "<br><b>Pre-Game ELO: </b>nan<br><b>Win Probability: </b>nan%<br><br><b>Change in ELO:</b> +nan<br>",
          "<br><b>Pre-Game ELO: </b>1237<br><b>Win Probability: </b>63.7%<br><br><b>Change in ELO:</b> -20<br>",
          "<br><b>Pre-Game ELO: </b>1217<br><b>Win Probability: </b>53.2%<br><br><b>Change in ELO:</b> -16<br>",
          "<br><b>Pre-Game ELO: </b>nan<br><b>Win Probability: </b>nan%<br><br><b>Change in ELO:</b> +nan<br>",
          "<br><b>Pre-Game ELO: </b>nan<br><b>Win Probability: </b>nan%<br><br><b>Change in ELO:</b> +nan<br>",
          "<br><b>Pre-Game ELO: </b>nan<br><b>Win Probability: </b>nan%<br><br><b>Change in ELO:</b> +nan<br>",
          "<br><b>Pre-Game ELO: </b>nan<br><b>Win Probability: </b>nan%<br><br><b>Change in ELO:</b> +nan<br>"
         ],
         "type": "scatter",
         "x": [
          1,
          2,
          3,
          4,
          5,
          6,
          7,
          8,
          9,
          10,
          11,
          12,
          13,
          14,
          15,
          16,
          17,
          18,
          19,
          20,
          21,
          22,
          23,
          24,
          25,
          26,
          27,
          28,
          29,
          30,
          31,
          32,
          33,
          34,
          35,
          36,
          37,
          38,
          39,
          40,
          41,
          42,
          43,
          44,
          45,
          46,
          47,
          48,
          49,
          50,
          51,
          52,
          53,
          54,
          55,
          56,
          57,
          58,
          59,
          60,
          61,
          62,
          63,
          64,
          65,
          66,
          67,
          68,
          69,
          70,
          71,
          72,
          73,
          74,
          75,
          76,
          77,
          78,
          79,
          80,
          81,
          82,
          83,
          84,
          85,
          86,
          87,
          88,
          89,
          90,
          91,
          92,
          93,
          94,
          95,
          96,
          97,
          98,
          99,
          100,
          101,
          102,
          103,
          104,
          105,
          106,
          107,
          108,
          109,
          110,
          111,
          112,
          113,
          114,
          115,
          116,
          117,
          118,
          119,
          120,
          121,
          122,
          123,
          124,
          125,
          126
         ],
         "y": [
          null,
          1215.5,
          1228.3858031753039,
          null,
          null,
          1243.8858031753039,
          null,
          1252.4425519507959,
          1230.6339035261685,
          null,
          null,
          1246.5393900411782,
          1228.7533011841335,
          1244.978588378909,
          1258.4531325066034,
          1238.1405507759134,
          null,
          null,
          1219.9637974037742,
          null,
          null,
          null,
          1237.7747520460584,
          1214.0950077302032,
          null,
          1228.4670993707348,
          null,
          null,
          1210.6449987408969,
          null,
          null,
          null,
          1197.1714293871794,
          1178.2035732164316,
          null,
          null,
          null,
          null,
          1162.7988031877433,
          1178.1637340693517,
          null,
          1168.4188110544196,
          null,
          null,
          1158.1309518649728,
          null,
          null,
          null,
          1147.0819547137278,
          1160.3708818362143,
          null,
          1181.6985776491017,
          null,
          null,
          1173.6228446833834,
          null,
          null,
          null,
          null,
          null,
          null,
          1167.476299433647,
          null,
          1156.5243493678283,
          1147.1971675897348,
          null,
          null,
          1142.1019615952873,
          null,
          1134.1771097549715,
          1125.2030652208307,
          null,
          null,
          null,
          null,
          null,
          1121.224899958969,
          1117.5401215852737,
          null,
          null,
          1139.7155228587826,
          1127.5286620115808,
          1148.256017276127,
          1174.9122027967903,
          1167.8928281325432,
          1161.6754954117714,
          null,
          null,
          null,
          null,
          null,
          1180.3911731436476,
          null,
          null,
          null,
          1194.7882526574422,
          1220.62889786158,
          null,
          1239.959974284107,
          null,
          null,
          1248.4587189565236,
          null,
          null,
          null,
          1258.748796781334,
          1280.112113288173,
          null,
          1288.748893458652,
          null,
          1306.5157403262044,
          1290.2741002514442,
          1276.786181976367,
          1255.1103873792786,
          1236.7952649078657,
          null,
          null,
          null,
          null,
          null,
          1217.0434121284932,
          1200.5446502170212,
          null,
          null,
          null,
          null
         ]
        },
        {
         "connectgaps": true,
         "customdata": [
          [
           "Evan Sooklal",
           "Will Simpson",
           2,
           6,
           "2023-11-18",
           "[Gen 9] OU",
           "1"
          ],
          [
           "Paul Bartenfeld",
           "Roman Ramirez",
           2,
           6,
           "2023-11-18",
           "[Gen 9] OU",
           "2"
          ],
          [
           "Roman Ramirez",
           "Evan Sooklal",
           6,
           3,
           "2023-11-18",
           "[Gen 9] OU",
           "3"
          ],
          [
           "Will Simpson",
           "Paul Bartenfeld",
           6,
           1,
           "2023-11-18",
           "[Gen 9] OU",
           "4"
          ],
          [
           "Paul Bartenfeld",
           "Evan Sooklal",
           1,
           6,
           "2023-11-18",
           "[Gen 9] OU",
           "5"
          ],
          [
           "Will Simpson",
           "Roman Ramirez",
           3,
           6,
           "2023-11-18",
           "[Gen 9] OU",
           "6"
          ],
          [
           "Will Simpson",
           "Evan Sooklal",
           6,
           2,
           "2023-11-18",
           "[Gen 9] OU",
           "7"
          ],
          [
           "Roman Ramirez",
           "Paul Bartenfeld",
           6,
           4,
           "2023-11-18",
           "[Gen 9] OU",
           "8"
          ],
          [
           "Evan Sooklal",
           "Roman Ramirez",
           6,
           5,
           "2023-11-18",
           "[Gen 9] OU",
           "9"
          ],
          [
           "Paul Bartenfeld",
           "Will Simpson",
           4,
           6,
           "2023-11-18",
           "[Gen 9] OU",
           "10"
          ],
          [
           "Evan Sooklal",
           "Paul Bartenfeld",
           6,
           5,
           "2023-11-18",
           "[Gen 9] OU",
           "11"
          ],
          [
           "Roman Ramirez",
           "Will Simpson",
           6,
           2,
           "2023-11-18",
           "[Gen 9] OU",
           "12"
          ],
          [
           "Roman Ramirez",
           "Will Simpson",
           2,
           6,
           "2023-11-18",
           "[Gen 9] OU",
           "1"
          ],
          [
           "Will Simpson",
           "Roman Ramirez",
           4,
           6,
           "2023-11-18",
           "[Gen 9] OU",
           "2"
          ],
          [
           "Roman Ramirez",
           "Will Simpson",
           6,
           4,
           "2023-11-18",
           "[Gen 9] OU",
           "3"
          ],
          [
           "Roman Ramirez",
           "Aaron Carter",
           4,
           6,
           "2023-12-02",
           "[Gen 9] OU",
           "1"
          ],
          [
           "Will Simpson",
           "Paul Bartenfeld",
           6,
           4,
           "2023-12-02",
           "[Gen 9] OU",
           "2"
          ],
          [
           "Aaron Carter",
           "Will Simpson",
           4,
           6,
           "2023-12-02",
           "[Gen 9] OU",
           "3"
          ],
          [
           "Evan Sooklal",
           "Roman Ramirez",
           6,
           2,
           "2023-12-02",
           "[Gen 9] OU",
           "4"
          ],
          [
           "Will Simpson",
           "Evan Sooklal",
           6,
           2,
           "2023-12-02",
           "[Gen 9] OU",
           "5"
          ],
          [
           "Paul Bartenfeld",
           "Aaron Carter",
           6,
           3,
           "2023-12-02",
           "[Gen 9] OU",
           "6"
          ],
          [
           "Evan Sooklal",
           "Paul Bartenfeld",
           6,
           4,
           "2023-12-02",
           "[Gen 9] OU",
           "7"
          ],
          [
           "Roman Ramirez",
           "Will Simpson",
           6,
           4,
           "2023-12-02",
           "[Gen 9] OU",
           "8"
          ],
          [
           "Paul Bartenfeld",
           "Roman Ramirez",
           6,
           3,
           "2023-12-02",
           "[Gen 9] OU",
           "9"
          ],
          [
           "Aaron Carter",
           "Evan Sooklal",
           6,
           3,
           "2023-12-02",
           "[Gen 9] OU",
           "10"
          ],
          [
           "Aaron Carter",
           "Roman Ramirez",
           0,
           6,
           "2023-12-02",
           "[Gen 9] OU",
           "11"
          ],
          [
           "Paul Bartenfeld",
           "Will Simpson",
           1,
           6,
           "2023-12-02",
           "[Gen 9] OU",
           "12"
          ],
          [
           "Will Simpson",
           "Aaron Carter",
           3,
           6,
           "2023-12-02",
           "[Gen 9] OU",
           "13"
          ],
          [
           "Roman Ramirez",
           "Evan Sooklal",
           2,
           6,
           "2023-12-02",
           "[Gen 9] OU",
           "14"
          ],
          [
           "Evan Sooklal",
           "Will Simpson",
           5,
           6,
           "2023-12-02",
           "[Gen 9] OU",
           "15"
          ],
          [
           "Aaron Carter",
           "Paul Bartenfeld",
           6,
           3,
           "2023-12-02",
           "[Gen 9] OU",
           "16"
          ],
          [
           "Paul Bartenfeld",
           "Evan Sooklal",
           6,
           5,
           "2023-12-02",
           "[Gen 9] OU",
           "17"
          ],
          [
           "Will Simpson",
           "Roman Ramirez",
           6,
           5,
           "2023-12-02",
           "[Gen 9] OU",
           "18"
          ],
          [
           "Roman Ramirez",
           "Paul Bartenfeld",
           4,
           6,
           "2023-12-02",
           "[Gen 9] OU",
           "19"
          ],
          [
           "Evan Sooklal",
           "Aaron Carter",
           6,
           4,
           "2023-12-02",
           "[Gen 9] OU",
           "20"
          ],
          [
           "Will Simpson",
           "Evan Sooklal",
           6,
           2,
           "2023-12-02",
           "[Gen 9] OU",
           "1"
          ],
          [
           "Will Simpson",
           "Evan Sooklal",
           6,
           1,
           "2023-12-02",
           "[Gen 9] OU",
           "2"
          ],
          [
           "Aaron Carter",
           "Paul Bartenfeld",
           6,
           3,
           "2023-12-13",
           "[Gen 9] OU",
           "1"
          ],
          [
           "Roman Ramirez",
           "Evan Sooklal",
           5,
           6,
           "2023-12-13",
           "[Gen 9] OU",
           "2"
          ],
          [
           "Paul Bartenfeld",
           "Roman Ramirez",
           2,
           6,
           "2023-12-13",
           "[Gen 9] OU",
           "3"
          ],
          [
           "Will Simpson",
           "Aaron Carter",
           0,
           6,
           "2023-12-13",
           "[Gen 9] OU",
           "4"
          ],
          [
           "Roman Ramirez",
           "Will Simpson",
           4,
           6,
           "2023-12-13",
           "[Gen 9] OU",
           "5"
          ],
          [
           "Evan Sooklal",
           "Paul Bartenfeld",
           6,
           5,
           "2023-12-13",
           "[Gen 9] OU",
           "6"
          ],
          [
           "Will Simpson",
           "Evan Sooklal",
           4,
           6,
           "2023-12-13",
           "[Gen 9] OU",
           "7"
          ],
          [
           "Aaron Carter",
           "Roman Ramirez",
           6,
           3,
           "2023-12-13",
           "[Gen 9] OU",
           "8"
          ],
          [
           "Evan Sooklal",
           "Aaron Carter",
           5,
           6,
           "2023-12-13",
           "[Gen 9] OU",
           "9"
          ],
          [
           "Paul Bartenfeld",
           "Will Simpson",
           2,
           6,
           "2023-12-13",
           "[Gen 9] OU",
           "10"
          ],
          [
           "Paul Bartenfeld",
           "Aaron Carter",
           3,
           6,
           "2023-12-13",
           "[Gen 9] OU",
           "11"
          ],
          [
           "Evan Sooklal",
           "Roman Ramirez",
           6,
           4,
           "2023-12-13",
           "[Gen 9] OU",
           "12"
          ],
          [
           "Roman Ramirez",
           "Paul Bartenfeld",
           6,
           1,
           "2023-12-13",
           "[Gen 9] OU",
           "13"
          ],
          [
           "Aaron Carter",
           "Will Simpson",
           6,
           5,
           "2023-12-13",
           "[Gen 9] OU",
           "14"
          ],
          [
           "Will Simpson",
           "Roman Ramirez",
           3,
           6,
           "2023-12-13",
           "[Gen 9] OU",
           "15"
          ],
          [
           "Paul Bartenfeld",
           "Evan Sooklal",
           3,
           6,
           "2023-12-13",
           "[Gen 9] OU",
           "16"
          ],
          [
           "Evan Sooklal",
           "Will Simpson",
           6,
           3,
           "2023-12-13",
           "[Gen 9] OU",
           "17"
          ],
          [
           "Roman Ramirez",
           "Aaron Carter",
           5,
           6,
           "2023-12-13",
           "[Gen 9] OU",
           "18"
          ],
          [
           "Aaron Carter",
           "Evan Sooklal",
           6,
           2,
           "2023-12-13",
           "[Gen 9] OU",
           "19"
          ],
          [
           "Will Simpson",
           "Paul Bartenfeld",
           6,
           4,
           "2023-12-13",
           "[Gen 9] OU",
           "20"
          ],
          [
           "Aaron Carter",
           "Evan Sooklal",
           5,
           6,
           "2023-12-13",
           "[Gen 9] OU",
           "1"
          ],
          [
           "Evan Sooklal",
           "Aaron Carter",
           2,
           6,
           "2023-12-13",
           "[Gen 9] OU",
           "2"
          ],
          [
           "Aaron Carter",
           "Evan Sooklal",
           6,
           2,
           "2023-12-13",
           "[Gen 9] OU",
           "3"
          ],
          [
           "Evan Sooklal",
           "Will Simpson",
           0,
           4,
           "2024-01-28",
           "[Gen 9] VGC 2024 Reg F",
           "1"
          ],
          [
           "Roman Ramirez",
           "Aaron Carter",
           2,
           4,
           "2024-01-28",
           "[Gen 9] VGC 2024 Reg F",
           "2"
          ],
          [
           "Aaron Carter",
           "Evan Sooklal",
           3,
           4,
           "2024-01-28",
           "[Gen 9] VGC 2024 Reg F",
           "3"
          ],
          [
           "Will Simpson",
           "Roman Ramirez",
           4,
           2,
           "2024-01-28",
           "[Gen 9] VGC 2024 Reg F",
           "4"
          ],
          [
           "Roman Ramirez",
           "Evan Sooklal",
           0,
           4,
           "2024-01-28",
           "[Gen 9] VGC 2024 Reg F",
           "5"
          ],
          [
           "Will Simpson",
           "Aaron Carter",
           1,
           4,
           "2024-01-28",
           "[Gen 9] VGC 2024 Reg F",
           "6"
          ],
          [
           "Will Simpson",
           "Evan Sooklal",
           4,
           2,
           "2024-01-28",
           "[Gen 9] VGC 2024 Reg F",
           "7"
          ],
          [
           "Aaron Carter",
           "Roman Ramirez",
           4,
           0,
           "2024-01-28",
           "[Gen 9] VGC 2024 Reg F",
           "8"
          ],
          [
           "Evan Sooklal",
           "Aaron Carter",
           3,
           4,
           "2024-01-28",
           "[Gen 9] VGC 2024 Reg F",
           "9"
          ],
          [
           "Roman Ramirez",
           "Will Simpson",
           1,
           4,
           "2024-01-28",
           "[Gen 9] VGC 2024 Reg F",
           "10"
          ],
          [
           "Evan Sooklal",
           "Roman Ramirez",
           4,
           3,
           "2024-01-28",
           "[Gen 9] VGC 2024 Reg F",
           "11"
          ],
          [
           "Aaron Carter",
           "Will Simpson",
           2,
           4,
           "2024-01-28",
           "[Gen 9] VGC 2024 Reg F",
           "12"
          ],
          [
           "Will Simpson",
           "Aaron Carter",
           4,
           0,
           "2024-01-28",
           "[Gen 9] VGC 2024 Reg F",
           "1"
          ],
          [
           "Will Simpson",
           "Aaron Carter",
           4,
           3,
           "2024-01-28",
           "[Gen 9] VGC 2024 Reg F",
           "2"
          ],
          [
           "Aaron Carter",
           "Evan Sooklal",
           4,
           2,
           "2024-02-09",
           "[Gen 9] VGC 2024 Reg F",
           "1a"
          ],
          [
           "Aaron Carter",
           "Evan Sooklal",
           4,
           3,
           "2024-02-09",
           "[Gen 9] VGC 2024 Reg F",
           "1b"
          ],
          [
           "Roman Ramirez",
           "Will Simpson",
           3,
           4,
           "2024-02-09",
           "[Gen 9] VGC 2024 Reg F",
           "2a"
          ],
          [
           "Roman Ramirez",
           "Will Simpson",
           2,
           4,
           "2024-02-09",
           "[Gen 9] VGC 2024 Reg F",
           "2b"
          ],
          [
           "Will Simpson",
           "Aaron Carter",
           2,
           4,
           "2024-02-09",
           "[Gen 9] VGC 2024 Reg F",
           "3a"
          ],
          [
           "Will Simpson",
           "Aaron Carter",
           0,
           4,
           "2024-02-09",
           "[Gen 9] VGC 2024 Reg F",
           "3b"
          ],
          [
           "Evan Sooklal",
           "Roman Ramirez",
           1,
           4,
           "2024-02-09",
           "[Gen 9] VGC 2024 Reg F",
           "4a"
          ],
          [
           "Evan Sooklal",
           "Roman Ramirez",
           4,
           2,
           "2024-02-09",
           "[Gen 9] VGC 2024 Reg F",
           "4b"
          ],
          [
           "Evan Sooklal",
           "Roman Ramirez",
           2,
           4,
           "2024-02-09",
           "[Gen 9] VGC 2024 Reg F",
           "4c"
          ],
          [
           "Roman Ramirez",
           "Aaron Carter",
           4,
           3,
           "2024-02-09",
           "[Gen 9] VGC 2024 Reg F",
           "5a"
          ],
          [
           "Roman Ramirez",
           "Aaron Carter",
           0,
           4,
           "2024-02-09",
           "[Gen 9] VGC 2024 Reg F",
           "5b"
          ],
          [
           "Roman Ramirez",
           "Aaron Carter",
           3,
           4,
           "2024-02-09",
           "[Gen 9] VGC 2024 Reg F",
           "5c"
          ],
          [
           "Evan Sooklal",
           "Will Simpson",
           1,
           4,
           "2024-02-09",
           "[Gen 9] VGC 2024 Reg F",
           "6a"
          ],
          [
           "Evan Sooklal",
           "Will Simpson",
           0,
           4,
           "2024-02-09",
           "[Gen 9] VGC 2024 Reg F",
           "6b"
          ],
          [
           "Aaron Carter",
           "Will Simpson",
           4,
           1,
           "2024-02-09",
           "[Gen 9] VGC 2024 Reg F",
           "1a"
          ],
          [
           "Aaron Carter",
           "Will Simpson",
           4,
           2,
           "2024-02-09",
           "[Gen 9] VGC 2024 Reg F",
           "1b"
          ],
          [
           "Will Simpson",
           "Evan Sooklal",
           6,
           2,
           "2024-02-18",
           "[Gen 9] Doubles UU",
           "1"
          ],
          [
           "Jack Massingill",
           "Roman Ramirez",
           0,
           6,
           "2024-02-18",
           "[Gen 9] Doubles UU",
           "2"
          ],
          [
           "Evan Sooklal",
           "Jack Massingill",
           6,
           3,
           "2024-02-18",
           "[Gen 9] Doubles UU",
           "3"
          ],
          [
           "Aaron Carter",
           "Will Simpson",
           6,
           1,
           "2024-02-18",
           "[Gen 9] Doubles UU",
           "4"
          ],
          [
           "Jack Massingill",
           "Aaron Carter",
           3,
           6,
           "2024-02-18",
           "[Gen 9] Doubles UU",
           "5"
          ],
          [
           "Roman Ramirez",
           "Evan Sooklal",
           6,
           3,
           "2024-02-18",
           "[Gen 9] Doubles UU",
           "6"
          ],
          [
           "Aaron Carter",
           "Roman Ramirez",
           3,
           6,
           "2024-02-18",
           "[Gen 9] Doubles UU",
           "7"
          ],
          [
           "Will Simpson",
           "Jack Massingill",
           6,
           0,
           "2024-02-18",
           "[Gen 9] Doubles UU",
           "8"
          ],
          [
           "Roman Ramirez",
           "Will Simpson",
           6,
           0,
           "2024-02-18",
           "[Gen 9] Doubles UU",
           "9"
          ],
          [
           "Evan Sooklal",
           "Aaron Carter",
           2,
           6,
           "2024-02-18",
           "[Gen 9] Doubles UU",
           "10"
          ],
          [
           "Evan Sooklal",
           "Will Simpson",
           6,
           2,
           "2024-02-18",
           "[Gen 9] Doubles UU",
           "11"
          ],
          [
           "Roman Ramirez",
           "Jack Massingill",
           6,
           1,
           "2024-02-18",
           "[Gen 9] Doubles UU",
           "12"
          ],
          [
           "Jack Massingill",
           "Evan Sooklal",
           0,
           6,
           "2024-02-18",
           "[Gen 9] Doubles UU",
           "13"
          ],
          [
           "Will Simpson",
           "Aaron Carter",
           2,
           6,
           "2024-02-18",
           "[Gen 9] Doubles UU",
           "14"
          ],
          [
           "Aaron Carter",
           "Jack Massingill",
           6,
           4,
           "2024-02-18",
           "[Gen 9] Doubles UU",
           "15"
          ],
          [
           "Evan Sooklal",
           "Roman Ramirez",
           1,
           6,
           "2024-02-18",
           "[Gen 9] Doubles UU",
           "16"
          ],
          [
           "Roman Ramirez",
           "Aaron Carter",
           6,
           5,
           "2024-02-18",
           "[Gen 9] Doubles UU",
           "17"
          ],
          [
           "Jack Massingill",
           "Will Simpson",
           6,
           0,
           "2024-02-18",
           "[Gen 9] Doubles UU",
           "18"
          ],
          [
           "Will Simpson",
           "Roman Ramirez",
           0,
           6,
           "2024-02-18",
           "[Gen 9] Doubles UU",
           "19"
          ],
          [
           "Aaron Carter",
           "Evan Sooklal",
           6,
           5,
           "2024-02-18",
           "[Gen 9] Doubles UU",
           "20"
          ],
          [
           "Roman Ramirez",
           "Aaron Carter",
           6,
           4,
           "2024-02-18",
           "[Gen 9] Doubles UU",
           "1"
          ],
          [
           "Roman Ramirez",
           "Aaron Carter",
           3,
           6,
           "2024-02-18",
           "[Gen 9] Doubles UU",
           "2"
          ],
          [
           "Roman Ramirez",
           "Aaron Carter",
           4,
           6,
           "2024-02-18",
           "[Gen 9] Doubles UU",
           "3"
          ],
          [
           "Lilith Karyadi",
           "Roman Ramirez",
           6,
           3,
           "2024-06-09",
           "[Gen 9] RU",
           "1a"
          ],
          [
           "Lilith Karyadi",
           "Roman Ramirez",
           6,
           3,
           "2024-06-09",
           "[Gen 9] RU",
           "1b"
          ],
          [
           "Evan Sooklal",
           "Will Simpson",
           6,
           5,
           "2024-06-09",
           "[Gen 9] RU",
           "2a"
          ],
          [
           "Evan Sooklal",
           "Will Simpson",
           4,
           6,
           "2024-06-09",
           "[Gen 9] RU",
           "2b"
          ],
          [
           "Evan Sooklal",
           "Will Simpson",
           6,
           5,
           "2024-06-09",
           "[Gen 9] RU",
           "2c"
          ],
          [
           "Will Simpson",
           "Lilith Karyadi",
           6,
           5,
           "2024-06-09",
           "[Gen 9] RU",
           "3a"
          ],
          [
           "Will Simpson",
           "Lilith Karyadi",
           6,
           2,
           "2024-06-09",
           "[Gen 9] RU",
           "3b"
          ],
          [
           "Roman Ramirez",
           "Evan Sooklal",
           4,
           6,
           "2024-06-09",
           "[Gen 9] RU",
           "4a"
          ],
          [
           "Roman Ramirez",
           "Evan Sooklal",
           2,
           6,
           "2024-06-09",
           "[Gen 9] RU",
           "4b"
          ],
          [
           "Evan Sooklal",
           "Lilith Karyadi",
           2,
           6,
           "2024-06-09",
           "[Gen 9] RU",
           "5a"
          ],
          [
           "Evan Sooklal",
           "Lilith Karyadi",
           5,
           6,
           "2024-06-09",
           "[Gen 9] RU",
           "5a"
          ],
          [
           "Evan Sooklal",
           "Lilith Karyadi",
           5,
           6,
           "2024-06-09",
           "[Gen 9] RU",
           "1"
          ],
          [
           "Will Simpson",
           "Lilith Karyadi",
           6,
           5,
           "2024-06-09",
           "[Gen 9] RU",
           "2"
          ]
         ],
         "hovertemplate": "<i>%{customdata[4]|%A, %B %d, %Y}, Game %{x}</i><br><b>%{fullData.name}</b><br><br><b>Format:</b> %{customdata[5]}<br><b>Tournament Match:</b> %{customdata[6]}<br><br><b>%{customdata[0]} vs. %{customdata[1]}</b><br><b>Final Score:</b> %{customdata[2]}-%{customdata[3]}<br>%{text}<b>Post-Game ELO:</b> %{y:,.0f}<br><extra></extra>",
         "legendgrouptitle": {
          "text": "<b>#<i>Rank</i> (<i>Current ELO</i>) <i>Player</i></b>"
         },
         "line": {
          "color": "rgb(231, 63, 116)",
          "shape": "hv"
         },
         "mode": "lines+markers",
         "name": "#5 (1178) Evan Sooklal",
         "opacity": 0.8,
         "text": [
          "<br><b>Pre-Game ELO: </b>1200<br><b>Win Probability: </b>50.0%<br><br><b>Change in ELO:</b> -16<br>",
          "<br><b>Pre-Game ELO: </b>nan<br><b>Win Probability: </b>nan%<br><br><b>Change in ELO:</b> +nan<br>",
          "<br><b>Pre-Game ELO: </b>1184<br><b>Win Probability: </b>41.6%<br><br><b>Change in ELO:</b> -13<br>",
          "<br><b>Pre-Game ELO: </b>nan<br><b>Win Probability: </b>nan%<br><br><b>Change in ELO:</b> +nan<br>",
          "<br><b>Pre-Game ELO: </b>1172<br><b>Win Probability: </b>50.0%<br><br><b>Change in ELO:</b> +16<br>",
          "<br><b>Pre-Game ELO: </b>nan<br><b>Win Probability: </b>nan%<br><br><b>Change in ELO:</b> +nan<br>",
          "<br><b>Pre-Game ELO: </b>1187<br><b>Win Probability: </b>43.0%<br><br><b>Change in ELO:</b> -13<br>",
          "<br><b>Pre-Game ELO: </b>nan<br><b>Win Probability: </b>nan%<br><br><b>Change in ELO:</b> +nan<br>",
          "<br><b>Pre-Game ELO: </b>1174<br><b>Win Probability: </b>29.6%<br><br><b>Change in ELO:</b> +22<br>",
          "<br><b>Pre-Game ELO: </b>nan<br><b>Win Probability: </b>nan%<br><br><b>Change in ELO:</b> +nan<br>",
          "<br><b>Pre-Game ELO: </b>1196<br><b>Win Probability: </b>65.2%<br><br><b>Change in ELO:</b> +11<br>",
          "<br><b>Pre-Game ELO: </b>nan<br><b>Win Probability: </b>nan%<br><br><b>Change in ELO:</b> +nan<br>",
          "<br><b>Pre-Game ELO: </b>nan<br><b>Win Probability: </b>nan%<br><br><b>Change in ELO:</b> +nan<br>",
          "<br><b>Pre-Game ELO: </b>nan<br><b>Win Probability: </b>nan%<br><br><b>Change in ELO:</b> +nan<br>",
          "<br><b>Pre-Game ELO: </b>nan<br><b>Win Probability: </b>nan%<br><br><b>Change in ELO:</b> +nan<br>",
          "<br><b>Pre-Game ELO: </b>nan<br><b>Win Probability: </b>nan%<br><br><b>Change in ELO:</b> +nan<br>",
          "<br><b>Pre-Game ELO: </b>nan<br><b>Win Probability: </b>nan%<br><br><b>Change in ELO:</b> +nan<br>",
          "<br><b>Pre-Game ELO: </b>nan<br><b>Win Probability: </b>nan%<br><br><b>Change in ELO:</b> +nan<br>",
          "<br><b>Pre-Game ELO: </b>1206<br><b>Win Probability: </b>41.4%<br><br><b>Change in ELO:</b> +18<br>",
          "<br><b>Pre-Game ELO: </b>1225<br><b>Win Probability: </b>47.8%<br><br><b>Change in ELO:</b> -15<br>",
          "<br><b>Pre-Game ELO: </b>nan<br><b>Win Probability: </b>nan%<br><br><b>Change in ELO:</b> +nan<br>",
          "<br><b>Pre-Game ELO: </b>1210<br><b>Win Probability: </b>68.1%<br><br><b>Change in ELO:</b> +10<br>",
          "<br><b>Pre-Game ELO: </b>nan<br><b>Win Probability: </b>nan%<br><br><b>Change in ELO:</b> +nan<br>",
          "<br><b>Pre-Game ELO: </b>nan<br><b>Win Probability: </b>nan%<br><br><b>Change in ELO:</b> +nan<br>",
          "<br><b>Pre-Game ELO: </b>1220<br><b>Win Probability: </b>60.1%<br><br><b>Change in ELO:</b> -19<br>",
          "<br><b>Pre-Game ELO: </b>nan<br><b>Win Probability: </b>nan%<br><br><b>Change in ELO:</b> +nan<br>",
          "<br><b>Pre-Game ELO: </b>nan<br><b>Win Probability: </b>nan%<br><br><b>Change in ELO:</b> +nan<br>",
          "<br><b>Pre-Game ELO: </b>nan<br><b>Win Probability: </b>nan%<br><br><b>Change in ELO:</b> +nan<br>",
          "<br><b>Pre-Game ELO: </b>1201<br><b>Win Probability: </b>42.5%<br><br><b>Change in ELO:</b> +18<br>",
          "<br><b>Pre-Game ELO: </b>1219<br><b>Win Probability: </b>49.9%<br><br><b>Change in ELO:</b> -15<br>",
          "<br><b>Pre-Game ELO: </b>nan<br><b>Win Probability: </b>nan%<br><br><b>Change in ELO:</b> +nan<br>",
          "<br><b>Pre-Game ELO: </b>1203<br><b>Win Probability: </b>68.0%<br><br><b>Change in ELO:</b> -21<br>",
          "<br><b>Pre-Game ELO: </b>nan<br><b>Win Probability: </b>nan%<br><br><b>Change in ELO:</b> +nan<br>",
          "<br><b>Pre-Game ELO: </b>nan<br><b>Win Probability: </b>nan%<br><br><b>Change in ELO:</b> +nan<br>",
          "<br><b>Pre-Game ELO: </b>1182<br><b>Win Probability: </b>40.6%<br><br><b>Change in ELO:</b> +18<br>",
          "<br><b>Pre-Game ELO: </b>1201<br><b>Win Probability: </b>37.3%<br><br><b>Change in ELO:</b> -12<br>",
          "<br><b>Pre-Game ELO: </b>1189<br><b>Win Probability: </b>31.5%<br><br><b>Change in ELO:</b> -10<br>",
          "<br><b>Pre-Game ELO: </b>nan<br><b>Win Probability: </b>nan%<br><br><b>Change in ELO:</b> +nan<br>",
          "<br><b>Pre-Game ELO: </b>1179<br><b>Win Probability: </b>50.3%<br><br><b>Change in ELO:</b> +15<br>",
          "<br><b>Pre-Game ELO: </b>nan<br><b>Win Probability: </b>nan%<br><br><b>Change in ELO:</b> +nan<br>",
          "<br><b>Pre-Game ELO: </b>nan<br><b>Win Probability: </b>nan%<br><br><b>Change in ELO:</b> +nan<br>",
          "<br><b>Pre-Game ELO: </b>nan<br><b>Win Probability: </b>nan%<br><br><b>Change in ELO:</b> +nan<br>",
          "<br><b>Pre-Game ELO: </b>1195<br><b>Win Probability: </b>63.1%<br><br><b>Change in ELO:</b> +11<br>",
          "<br><b>Pre-Game ELO: </b>1206<br><b>Win Probability: </b>35.9%<br><br><b>Change in ELO:</b> +20<br>",
          "<br><b>Pre-Game ELO: </b>nan<br><b>Win Probability: </b>nan%<br><br><b>Change in ELO:</b> +nan<br>",
          "<br><b>Pre-Game ELO: </b>1226<br><b>Win Probability: </b>45.5%<br><br><b>Change in ELO:</b> -14<br>",
          "<br><b>Pre-Game ELO: </b>nan<br><b>Win Probability: </b>nan%<br><br><b>Change in ELO:</b> +nan<br>",
          "<br><b>Pre-Game ELO: </b>nan<br><b>Win Probability: </b>nan%<br><br><b>Change in ELO:</b> +nan<br>",
          "<br><b>Pre-Game ELO: </b>1212<br><b>Win Probability: </b>64.4%<br><br><b>Change in ELO:</b> +11<br>",
          "<br><b>Pre-Game ELO: </b>nan<br><b>Win Probability: </b>nan%<br><br><b>Change in ELO:</b> +nan<br>",
          "<br><b>Pre-Game ELO: </b>nan<br><b>Win Probability: </b>nan%<br><br><b>Change in ELO:</b> +nan<br>",
          "<br><b>Pre-Game ELO: </b>nan<br><b>Win Probability: </b>nan%<br><br><b>Change in ELO:</b> +nan<br>",
          "<br><b>Pre-Game ELO: </b>1223<br><b>Win Probability: </b>78.0%<br><br><b>Change in ELO:</b> +7<br>",
          "<br><b>Pre-Game ELO: </b>1230<br><b>Win Probability: </b>55.1%<br><br><b>Change in ELO:</b> +14<br>",
          "<br><b>Pre-Game ELO: </b>nan<br><b>Win Probability: </b>nan%<br><br><b>Change in ELO:</b> +nan<br>",
          "<br><b>Pre-Game ELO: </b>1244<br><b>Win Probability: </b>38.9%<br><br><b>Change in ELO:</b> -12<br>",
          "<br><b>Pre-Game ELO: </b>nan<br><b>Win Probability: </b>nan%<br><br><b>Change in ELO:</b> +nan<br>",
          "<br><b>Pre-Game ELO: </b>1232<br><b>Win Probability: </b>32.8%<br><br><b>Change in ELO:</b> +21<br>",
          "<br><b>Pre-Game ELO: </b>1252<br><b>Win Probability: </b>43.6%<br><br><b>Change in ELO:</b> -14<br>",
          "<br><b>Pre-Game ELO: </b>1239<br><b>Win Probability: </b>36.5%<br><br><b>Change in ELO:</b> -11<br>",
          "<br><b>Pre-Game ELO: </b>1228<br><b>Win Probability: </b>56.2%<br><br><b>Change in ELO:</b> -17<br>",
          "<br><b>Pre-Game ELO: </b>nan<br><b>Win Probability: </b>nan%<br><br><b>Change in ELO:</b> +nan<br>",
          "<br><b>Pre-Game ELO: </b>1210<br><b>Win Probability: </b>25.7%<br><br><b>Change in ELO:</b> +23<br>",
          "<br><b>Pre-Game ELO: </b>nan<br><b>Win Probability: </b>nan%<br><br><b>Change in ELO:</b> +nan<br>",
          "<br><b>Pre-Game ELO: </b>1233<br><b>Win Probability: </b>69.9%<br><br><b>Change in ELO:</b> +9<br>",
          "<br><b>Pre-Game ELO: </b>nan<br><b>Win Probability: </b>nan%<br><br><b>Change in ELO:</b> +nan<br>",
          "<br><b>Pre-Game ELO: </b>1243<br><b>Win Probability: </b>55.6%<br><br><b>Change in ELO:</b> -17<br>",
          "<br><b>Pre-Game ELO: </b>nan<br><b>Win Probability: </b>nan%<br><br><b>Change in ELO:</b> +nan<br>",
          "<br><b>Pre-Game ELO: </b>1225<br><b>Win Probability: </b>30.5%<br><br><b>Change in ELO:</b> -9<br>",
          "<br><b>Pre-Game ELO: </b>nan<br><b>Win Probability: </b>nan%<br><br><b>Change in ELO:</b> +nan<br>",
          "<br><b>Pre-Game ELO: </b>1216<br><b>Win Probability: </b>71.1%<br><br><b>Change in ELO:</b> +9<br>",
          "<br><b>Pre-Game ELO: </b>nan<br><b>Win Probability: </b>nan%<br><br><b>Change in ELO:</b> +nan<br>",
          "<br><b>Pre-Game ELO: </b>nan<br><b>Win Probability: </b>nan%<br><br><b>Change in ELO:</b> +nan<br>",
          "<br><b>Pre-Game ELO: </b>nan<br><b>Win Probability: </b>nan%<br><br><b>Change in ELO:</b> +nan<br>",
          "<br><b>Pre-Game ELO: </b>1225<br><b>Win Probability: </b>41.1%<br><br><b>Change in ELO:</b> -13<br>",
          "<br><b>Pre-Game ELO: </b>1212<br><b>Win Probability: </b>34.6%<br><br><b>Change in ELO:</b> -11<br>",
          "<br><b>Pre-Game ELO: </b>nan<br><b>Win Probability: </b>nan%<br><br><b>Change in ELO:</b> +nan<br>",
          "<br><b>Pre-Game ELO: </b>nan<br><b>Win Probability: </b>nan%<br><br><b>Change in ELO:</b> +nan<br>",
          "<br><b>Pre-Game ELO: </b>nan<br><b>Win Probability: </b>nan%<br><br><b>Change in ELO:</b> +nan<br>",
          "<br><b>Pre-Game ELO: </b>nan<br><b>Win Probability: </b>nan%<br><br><b>Change in ELO:</b> +nan<br>",
          "<br><b>Pre-Game ELO: </b>1201<br><b>Win Probability: </b>71.5%<br><br><b>Change in ELO:</b> -22<br>",
          "<br><b>Pre-Game ELO: </b>1179<br><b>Win Probability: </b>60.7%<br><br><b>Change in ELO:</b> +12<br>",
          "<br><b>Pre-Game ELO: </b>1191<br><b>Win Probability: </b>66.9%<br><br><b>Change in ELO:</b> -21<br>",
          "<br><b>Pre-Game ELO: </b>nan<br><b>Win Probability: </b>nan%<br><br><b>Change in ELO:</b> +nan<br>",
          "<br><b>Pre-Game ELO: </b>nan<br><b>Win Probability: </b>nan%<br><br><b>Change in ELO:</b> +nan<br>",
          "<br><b>Pre-Game ELO: </b>nan<br><b>Win Probability: </b>nan%<br><br><b>Change in ELO:</b> +nan<br>",
          "<br><b>Pre-Game ELO: </b>1171<br><b>Win Probability: </b>24.2%<br><br><b>Change in ELO:</b> -7<br>",
          "<br><b>Pre-Game ELO: </b>1163<br><b>Win Probability: </b>21.3%<br><br><b>Change in ELO:</b> -7<br>",
          "<br><b>Pre-Game ELO: </b>nan<br><b>Win Probability: </b>nan%<br><br><b>Change in ELO:</b> +nan<br>",
          "<br><b>Pre-Game ELO: </b>nan<br><b>Win Probability: </b>nan%<br><br><b>Change in ELO:</b> +nan<br>",
          "<br><b>Pre-Game ELO: </b>1157<br><b>Win Probability: </b>23.9%<br><br><b>Change in ELO:</b> -7<br>",
          "<br><b>Pre-Game ELO: </b>nan<br><b>Win Probability: </b>nan%<br><br><b>Change in ELO:</b> +nan<br>",
          "<br><b>Pre-Game ELO: </b>1149<br><b>Win Probability: </b>41.3%<br><br><b>Change in ELO:</b> +18<br>",
          "<br><b>Pre-Game ELO: </b>nan<br><b>Win Probability: </b>nan%<br><br><b>Change in ELO:</b> +nan<br>",
          "<br><b>Pre-Game ELO: </b>nan<br><b>Win Probability: </b>nan%<br><br><b>Change in ELO:</b> +nan<br>",
          "<br><b>Pre-Game ELO: </b>1167<br><b>Win Probability: </b>46.4%<br><br><b>Change in ELO:</b> -14<br>",
          "<br><b>Pre-Game ELO: </b>nan<br><b>Win Probability: </b>nan%<br><br><b>Change in ELO:</b> +nan<br>",
          "<br><b>Pre-Game ELO: </b>nan<br><b>Win Probability: </b>nan%<br><br><b>Change in ELO:</b> +nan<br>",
          "<br><b>Pre-Game ELO: </b>nan<br><b>Win Probability: </b>nan%<br><br><b>Change in ELO:</b> +nan<br>",
          "<br><b>Pre-Game ELO: </b>1153<br><b>Win Probability: </b>14.4%<br><br><b>Change in ELO:</b> -4<br>",
          "<br><b>Pre-Game ELO: </b>1149<br><b>Win Probability: </b>25.3%<br><br><b>Change in ELO:</b> +23<br>",
          "<br><b>Pre-Game ELO: </b>nan<br><b>Win Probability: </b>nan%<br><br><b>Change in ELO:</b> +nan<br>",
          "<br><b>Pre-Game ELO: </b>1172<br><b>Win Probability: </b>57.9%<br><br><b>Change in ELO:</b> +13<br>",
          "<br><b>Pre-Game ELO: </b>nan<br><b>Win Probability: </b>nan%<br><br><b>Change in ELO:</b> +nan<br>",
          "<br><b>Pre-Game ELO: </b>nan<br><b>Win Probability: </b>nan%<br><br><b>Change in ELO:</b> +nan<br>",
          "<br><b>Pre-Game ELO: </b>1185<br><b>Win Probability: </b>33.2%<br><br><b>Change in ELO:</b> -10<br>",
          "<br><b>Pre-Game ELO: </b>nan<br><b>Win Probability: </b>nan%<br><br><b>Change in ELO:</b> +nan<br>",
          "<br><b>Pre-Game ELO: </b>nan<br><b>Win Probability: </b>nan%<br><br><b>Change in ELO:</b> +nan<br>",
          "<br><b>Pre-Game ELO: </b>nan<br><b>Win Probability: </b>nan%<br><br><b>Change in ELO:</b> +nan<br>",
          "<br><b>Pre-Game ELO: </b>1175<br><b>Win Probability: </b>18.4%<br><br><b>Change in ELO:</b> -6<br>",
          "<br><b>Pre-Game ELO: </b>nan<br><b>Win Probability: </b>nan%<br><br><b>Change in ELO:</b> +nan<br>",
          "<br><b>Pre-Game ELO: </b>nan<br><b>Win Probability: </b>nan%<br><br><b>Change in ELO:</b> +nan<br>",
          "<br><b>Pre-Game ELO: </b>nan<br><b>Win Probability: </b>nan%<br><br><b>Change in ELO:</b> +nan<br>",
          "<br><b>Pre-Game ELO: </b>nan<br><b>Win Probability: </b>nan%<br><br><b>Change in ELO:</b> +nan<br>",
          "<br><b>Pre-Game ELO: </b>nan<br><b>Win Probability: </b>nan%<br><br><b>Change in ELO:</b> +nan<br>",
          "<br><b>Pre-Game ELO: </b>1169<br><b>Win Probability: </b>45.6%<br><br><b>Change in ELO:</b> +17<br>",
          "<br><b>Pre-Game ELO: </b>1186<br><b>Win Probability: </b>54.8%<br><br><b>Change in ELO:</b> -17<br>",
          "<br><b>Pre-Game ELO: </b>1169<br><b>Win Probability: </b>45.5%<br><br><b>Change in ELO:</b> +17<br>",
          "<br><b>Pre-Game ELO: </b>nan<br><b>Win Probability: </b>nan%<br><br><b>Change in ELO:</b> +nan<br>",
          "<br><b>Pre-Game ELO: </b>nan<br><b>Win Probability: </b>nan%<br><br><b>Change in ELO:</b> +nan<br>",
          "<br><b>Pre-Game ELO: </b>1186<br><b>Win Probability: </b>36.3%<br><br><b>Change in ELO:</b> +20<br>",
          "<br><b>Pre-Game ELO: </b>1205<br><b>Win Probability: </b>46.8%<br><br><b>Change in ELO:</b> +16<br>",
          "<br><b>Pre-Game ELO: </b>1222<br><b>Win Probability: </b>55.8%<br><br><b>Change in ELO:</b> -17<br>",
          "<br><b>Pre-Game ELO: </b>1205<br><b>Win Probability: </b>46.3%<br><br><b>Change in ELO:</b> -14<br>",
          "<br><b>Pre-Game ELO: </b>1190<br><b>Win Probability: </b>38.6%<br><br><b>Change in ELO:</b> -12<br>",
          "<br><b>Pre-Game ELO: </b>nan<br><b>Win Probability: </b>nan%<br><br><b>Change in ELO:</b> +nan<br>"
         ],
         "type": "scatter",
         "x": [
          1,
          2,
          3,
          4,
          5,
          6,
          7,
          8,
          9,
          10,
          11,
          12,
          13,
          14,
          15,
          16,
          17,
          18,
          19,
          20,
          21,
          22,
          23,
          24,
          25,
          26,
          27,
          28,
          29,
          30,
          31,
          32,
          33,
          34,
          35,
          36,
          37,
          38,
          39,
          40,
          41,
          42,
          43,
          44,
          45,
          46,
          47,
          48,
          49,
          50,
          51,
          52,
          53,
          54,
          55,
          56,
          57,
          58,
          59,
          60,
          61,
          62,
          63,
          64,
          65,
          66,
          67,
          68,
          69,
          70,
          71,
          72,
          73,
          74,
          75,
          76,
          77,
          78,
          79,
          80,
          81,
          82,
          83,
          84,
          85,
          86,
          87,
          88,
          89,
          90,
          91,
          92,
          93,
          94,
          95,
          96,
          97,
          98,
          99,
          100,
          101,
          102,
          103,
          104,
          105,
          106,
          107,
          108,
          109,
          110,
          111,
          112,
          113,
          114,
          115,
          116,
          117,
          118,
          119,
          120,
          121,
          122,
          123,
          124,
          125,
          126
         ],
         "y": [
          1184.5,
          null,
          1171.6141968246961,
          null,
          1187.1141968246961,
          null,
          1173.7939130285101,
          null,
          1195.6025614531375,
          null,
          1206.3837765730614,
          null,
          null,
          null,
          null,
          null,
          null,
          null,
          1224.5605299452006,
          1209.7347325352785,
          null,
          1219.6316563738828,
          null,
          null,
          1200.9871446670898,
          null,
          null,
          null,
          1218.8092452969277,
          1203.3346743361965,
          null,
          1182.249648937476,
          null,
          null,
          1200.6550754402726,
          1189.1021135913395,
          1179.3220654245522,
          null,
          1194.7268354532405,
          null,
          null,
          null,
          1206.1623291617937,
          1226.0305126089077,
          null,
          1211.9206052280472,
          null,
          null,
          1222.9696023792922,
          null,
          null,
          null,
          1229.7827036366984,
          1243.690786073097,
          null,
          1231.6279675095418,
          null,
          1252.4517791091112,
          1238.9440776035322,
          1227.6403383581633,
          1210.231062826311,
          null,
          1233.2689806228332,
          null,
          1242.5961624009267,
          null,
          1225.3626511030989,
          null,
          1215.9061319948328,
          null,
          1224.8801765289736,
          null,
          null,
          null,
          1212.1269556859042,
          1201.41324967588,
          null,
          null,
          null,
          null,
          1179.2378484023711,
          1191.424709249573,
          1170.6973539850267,
          null,
          null,
          null,
          1163.2067688033155,
          1156.6110563544917,
          null,
          null,
          1149.212662017431,
          null,
          1167.415418203385,
          null,
          null,
          1153.0183386895903,
          null,
          null,
          null,
          1148.5683858276154,
          1171.7335918609265,
          null,
          1184.7936014432269,
          null,
          null,
          1174.5035236184165,
          null,
          null,
          null,
          1168.7876384641656,
          null,
          null,
          null,
          null,
          null,
          1185.6539100983903,
          1168.6563514914203,
          1185.5448027765924,
          null,
          null,
          1205.296655555965,
          1221.795417467437,
          1204.5075648946538,
          1190.1534852697368,
          1178.1828178502942,
          null
         ]
        },
        {
         "connectgaps": true,
         "customdata": [
          [
           "Evan Sooklal",
           "Will Simpson",
           2,
           6,
           "2023-11-18",
           "[Gen 9] OU",
           "1"
          ],
          [
           "Paul Bartenfeld",
           "Roman Ramirez",
           2,
           6,
           "2023-11-18",
           "[Gen 9] OU",
           "2"
          ],
          [
           "Roman Ramirez",
           "Evan Sooklal",
           6,
           3,
           "2023-11-18",
           "[Gen 9] OU",
           "3"
          ],
          [
           "Will Simpson",
           "Paul Bartenfeld",
           6,
           1,
           "2023-11-18",
           "[Gen 9] OU",
           "4"
          ],
          [
           "Paul Bartenfeld",
           "Evan Sooklal",
           1,
           6,
           "2023-11-18",
           "[Gen 9] OU",
           "5"
          ],
          [
           "Will Simpson",
           "Roman Ramirez",
           3,
           6,
           "2023-11-18",
           "[Gen 9] OU",
           "6"
          ],
          [
           "Will Simpson",
           "Evan Sooklal",
           6,
           2,
           "2023-11-18",
           "[Gen 9] OU",
           "7"
          ],
          [
           "Roman Ramirez",
           "Paul Bartenfeld",
           6,
           4,
           "2023-11-18",
           "[Gen 9] OU",
           "8"
          ],
          [
           "Evan Sooklal",
           "Roman Ramirez",
           6,
           5,
           "2023-11-18",
           "[Gen 9] OU",
           "9"
          ],
          [
           "Paul Bartenfeld",
           "Will Simpson",
           4,
           6,
           "2023-11-18",
           "[Gen 9] OU",
           "10"
          ],
          [
           "Evan Sooklal",
           "Paul Bartenfeld",
           6,
           5,
           "2023-11-18",
           "[Gen 9] OU",
           "11"
          ],
          [
           "Roman Ramirez",
           "Will Simpson",
           6,
           2,
           "2023-11-18",
           "[Gen 9] OU",
           "12"
          ],
          [
           "Roman Ramirez",
           "Will Simpson",
           2,
           6,
           "2023-11-18",
           "[Gen 9] OU",
           "1"
          ],
          [
           "Will Simpson",
           "Roman Ramirez",
           4,
           6,
           "2023-11-18",
           "[Gen 9] OU",
           "2"
          ],
          [
           "Roman Ramirez",
           "Will Simpson",
           6,
           4,
           "2023-11-18",
           "[Gen 9] OU",
           "3"
          ],
          [
           "Roman Ramirez",
           "Aaron Carter",
           4,
           6,
           "2023-12-02",
           "[Gen 9] OU",
           "1"
          ],
          [
           "Will Simpson",
           "Paul Bartenfeld",
           6,
           4,
           "2023-12-02",
           "[Gen 9] OU",
           "2"
          ],
          [
           "Aaron Carter",
           "Will Simpson",
           4,
           6,
           "2023-12-02",
           "[Gen 9] OU",
           "3"
          ],
          [
           "Evan Sooklal",
           "Roman Ramirez",
           6,
           2,
           "2023-12-02",
           "[Gen 9] OU",
           "4"
          ],
          [
           "Will Simpson",
           "Evan Sooklal",
           6,
           2,
           "2023-12-02",
           "[Gen 9] OU",
           "5"
          ],
          [
           "Paul Bartenfeld",
           "Aaron Carter",
           6,
           3,
           "2023-12-02",
           "[Gen 9] OU",
           "6"
          ],
          [
           "Evan Sooklal",
           "Paul Bartenfeld",
           6,
           4,
           "2023-12-02",
           "[Gen 9] OU",
           "7"
          ],
          [
           "Roman Ramirez",
           "Will Simpson",
           6,
           4,
           "2023-12-02",
           "[Gen 9] OU",
           "8"
          ],
          [
           "Paul Bartenfeld",
           "Roman Ramirez",
           6,
           3,
           "2023-12-02",
           "[Gen 9] OU",
           "9"
          ],
          [
           "Aaron Carter",
           "Evan Sooklal",
           6,
           3,
           "2023-12-02",
           "[Gen 9] OU",
           "10"
          ],
          [
           "Aaron Carter",
           "Roman Ramirez",
           0,
           6,
           "2023-12-02",
           "[Gen 9] OU",
           "11"
          ],
          [
           "Paul Bartenfeld",
           "Will Simpson",
           1,
           6,
           "2023-12-02",
           "[Gen 9] OU",
           "12"
          ],
          [
           "Will Simpson",
           "Aaron Carter",
           3,
           6,
           "2023-12-02",
           "[Gen 9] OU",
           "13"
          ],
          [
           "Roman Ramirez",
           "Evan Sooklal",
           2,
           6,
           "2023-12-02",
           "[Gen 9] OU",
           "14"
          ],
          [
           "Evan Sooklal",
           "Will Simpson",
           5,
           6,
           "2023-12-02",
           "[Gen 9] OU",
           "15"
          ],
          [
           "Aaron Carter",
           "Paul Bartenfeld",
           6,
           3,
           "2023-12-02",
           "[Gen 9] OU",
           "16"
          ],
          [
           "Paul Bartenfeld",
           "Evan Sooklal",
           6,
           5,
           "2023-12-02",
           "[Gen 9] OU",
           "17"
          ],
          [
           "Will Simpson",
           "Roman Ramirez",
           6,
           5,
           "2023-12-02",
           "[Gen 9] OU",
           "18"
          ],
          [
           "Roman Ramirez",
           "Paul Bartenfeld",
           4,
           6,
           "2023-12-02",
           "[Gen 9] OU",
           "19"
          ],
          [
           "Evan Sooklal",
           "Aaron Carter",
           6,
           4,
           "2023-12-02",
           "[Gen 9] OU",
           "20"
          ],
          [
           "Will Simpson",
           "Evan Sooklal",
           6,
           2,
           "2023-12-02",
           "[Gen 9] OU",
           "1"
          ],
          [
           "Will Simpson",
           "Evan Sooklal",
           6,
           1,
           "2023-12-02",
           "[Gen 9] OU",
           "2"
          ],
          [
           "Aaron Carter",
           "Paul Bartenfeld",
           6,
           3,
           "2023-12-13",
           "[Gen 9] OU",
           "1"
          ],
          [
           "Roman Ramirez",
           "Evan Sooklal",
           5,
           6,
           "2023-12-13",
           "[Gen 9] OU",
           "2"
          ],
          [
           "Paul Bartenfeld",
           "Roman Ramirez",
           2,
           6,
           "2023-12-13",
           "[Gen 9] OU",
           "3"
          ],
          [
           "Will Simpson",
           "Aaron Carter",
           0,
           6,
           "2023-12-13",
           "[Gen 9] OU",
           "4"
          ],
          [
           "Roman Ramirez",
           "Will Simpson",
           4,
           6,
           "2023-12-13",
           "[Gen 9] OU",
           "5"
          ],
          [
           "Evan Sooklal",
           "Paul Bartenfeld",
           6,
           5,
           "2023-12-13",
           "[Gen 9] OU",
           "6"
          ],
          [
           "Will Simpson",
           "Evan Sooklal",
           4,
           6,
           "2023-12-13",
           "[Gen 9] OU",
           "7"
          ],
          [
           "Aaron Carter",
           "Roman Ramirez",
           6,
           3,
           "2023-12-13",
           "[Gen 9] OU",
           "8"
          ],
          [
           "Evan Sooklal",
           "Aaron Carter",
           5,
           6,
           "2023-12-13",
           "[Gen 9] OU",
           "9"
          ],
          [
           "Paul Bartenfeld",
           "Will Simpson",
           2,
           6,
           "2023-12-13",
           "[Gen 9] OU",
           "10"
          ],
          [
           "Paul Bartenfeld",
           "Aaron Carter",
           3,
           6,
           "2023-12-13",
           "[Gen 9] OU",
           "11"
          ],
          [
           "Evan Sooklal",
           "Roman Ramirez",
           6,
           4,
           "2023-12-13",
           "[Gen 9] OU",
           "12"
          ],
          [
           "Roman Ramirez",
           "Paul Bartenfeld",
           6,
           1,
           "2023-12-13",
           "[Gen 9] OU",
           "13"
          ],
          [
           "Aaron Carter",
           "Will Simpson",
           6,
           5,
           "2023-12-13",
           "[Gen 9] OU",
           "14"
          ],
          [
           "Will Simpson",
           "Roman Ramirez",
           3,
           6,
           "2023-12-13",
           "[Gen 9] OU",
           "15"
          ],
          [
           "Paul Bartenfeld",
           "Evan Sooklal",
           3,
           6,
           "2023-12-13",
           "[Gen 9] OU",
           "16"
          ],
          [
           "Evan Sooklal",
           "Will Simpson",
           6,
           3,
           "2023-12-13",
           "[Gen 9] OU",
           "17"
          ],
          [
           "Roman Ramirez",
           "Aaron Carter",
           5,
           6,
           "2023-12-13",
           "[Gen 9] OU",
           "18"
          ],
          [
           "Aaron Carter",
           "Evan Sooklal",
           6,
           2,
           "2023-12-13",
           "[Gen 9] OU",
           "19"
          ],
          [
           "Will Simpson",
           "Paul Bartenfeld",
           6,
           4,
           "2023-12-13",
           "[Gen 9] OU",
           "20"
          ],
          [
           "Aaron Carter",
           "Evan Sooklal",
           5,
           6,
           "2023-12-13",
           "[Gen 9] OU",
           "1"
          ],
          [
           "Evan Sooklal",
           "Aaron Carter",
           2,
           6,
           "2023-12-13",
           "[Gen 9] OU",
           "2"
          ],
          [
           "Aaron Carter",
           "Evan Sooklal",
           6,
           2,
           "2023-12-13",
           "[Gen 9] OU",
           "3"
          ],
          [
           "Evan Sooklal",
           "Will Simpson",
           0,
           4,
           "2024-01-28",
           "[Gen 9] VGC 2024 Reg F",
           "1"
          ],
          [
           "Roman Ramirez",
           "Aaron Carter",
           2,
           4,
           "2024-01-28",
           "[Gen 9] VGC 2024 Reg F",
           "2"
          ],
          [
           "Aaron Carter",
           "Evan Sooklal",
           3,
           4,
           "2024-01-28",
           "[Gen 9] VGC 2024 Reg F",
           "3"
          ],
          [
           "Will Simpson",
           "Roman Ramirez",
           4,
           2,
           "2024-01-28",
           "[Gen 9] VGC 2024 Reg F",
           "4"
          ],
          [
           "Roman Ramirez",
           "Evan Sooklal",
           0,
           4,
           "2024-01-28",
           "[Gen 9] VGC 2024 Reg F",
           "5"
          ],
          [
           "Will Simpson",
           "Aaron Carter",
           1,
           4,
           "2024-01-28",
           "[Gen 9] VGC 2024 Reg F",
           "6"
          ],
          [
           "Will Simpson",
           "Evan Sooklal",
           4,
           2,
           "2024-01-28",
           "[Gen 9] VGC 2024 Reg F",
           "7"
          ],
          [
           "Aaron Carter",
           "Roman Ramirez",
           4,
           0,
           "2024-01-28",
           "[Gen 9] VGC 2024 Reg F",
           "8"
          ],
          [
           "Evan Sooklal",
           "Aaron Carter",
           3,
           4,
           "2024-01-28",
           "[Gen 9] VGC 2024 Reg F",
           "9"
          ],
          [
           "Roman Ramirez",
           "Will Simpson",
           1,
           4,
           "2024-01-28",
           "[Gen 9] VGC 2024 Reg F",
           "10"
          ],
          [
           "Evan Sooklal",
           "Roman Ramirez",
           4,
           3,
           "2024-01-28",
           "[Gen 9] VGC 2024 Reg F",
           "11"
          ],
          [
           "Aaron Carter",
           "Will Simpson",
           2,
           4,
           "2024-01-28",
           "[Gen 9] VGC 2024 Reg F",
           "12"
          ],
          [
           "Will Simpson",
           "Aaron Carter",
           4,
           0,
           "2024-01-28",
           "[Gen 9] VGC 2024 Reg F",
           "1"
          ],
          [
           "Will Simpson",
           "Aaron Carter",
           4,
           3,
           "2024-01-28",
           "[Gen 9] VGC 2024 Reg F",
           "2"
          ],
          [
           "Aaron Carter",
           "Evan Sooklal",
           4,
           2,
           "2024-02-09",
           "[Gen 9] VGC 2024 Reg F",
           "1a"
          ],
          [
           "Aaron Carter",
           "Evan Sooklal",
           4,
           3,
           "2024-02-09",
           "[Gen 9] VGC 2024 Reg F",
           "1b"
          ],
          [
           "Roman Ramirez",
           "Will Simpson",
           3,
           4,
           "2024-02-09",
           "[Gen 9] VGC 2024 Reg F",
           "2a"
          ],
          [
           "Roman Ramirez",
           "Will Simpson",
           2,
           4,
           "2024-02-09",
           "[Gen 9] VGC 2024 Reg F",
           "2b"
          ],
          [
           "Will Simpson",
           "Aaron Carter",
           2,
           4,
           "2024-02-09",
           "[Gen 9] VGC 2024 Reg F",
           "3a"
          ],
          [
           "Will Simpson",
           "Aaron Carter",
           0,
           4,
           "2024-02-09",
           "[Gen 9] VGC 2024 Reg F",
           "3b"
          ],
          [
           "Evan Sooklal",
           "Roman Ramirez",
           1,
           4,
           "2024-02-09",
           "[Gen 9] VGC 2024 Reg F",
           "4a"
          ],
          [
           "Evan Sooklal",
           "Roman Ramirez",
           4,
           2,
           "2024-02-09",
           "[Gen 9] VGC 2024 Reg F",
           "4b"
          ],
          [
           "Evan Sooklal",
           "Roman Ramirez",
           2,
           4,
           "2024-02-09",
           "[Gen 9] VGC 2024 Reg F",
           "4c"
          ],
          [
           "Roman Ramirez",
           "Aaron Carter",
           4,
           3,
           "2024-02-09",
           "[Gen 9] VGC 2024 Reg F",
           "5a"
          ],
          [
           "Roman Ramirez",
           "Aaron Carter",
           0,
           4,
           "2024-02-09",
           "[Gen 9] VGC 2024 Reg F",
           "5b"
          ],
          [
           "Roman Ramirez",
           "Aaron Carter",
           3,
           4,
           "2024-02-09",
           "[Gen 9] VGC 2024 Reg F",
           "5c"
          ],
          [
           "Evan Sooklal",
           "Will Simpson",
           1,
           4,
           "2024-02-09",
           "[Gen 9] VGC 2024 Reg F",
           "6a"
          ],
          [
           "Evan Sooklal",
           "Will Simpson",
           0,
           4,
           "2024-02-09",
           "[Gen 9] VGC 2024 Reg F",
           "6b"
          ],
          [
           "Aaron Carter",
           "Will Simpson",
           4,
           1,
           "2024-02-09",
           "[Gen 9] VGC 2024 Reg F",
           "1a"
          ],
          [
           "Aaron Carter",
           "Will Simpson",
           4,
           2,
           "2024-02-09",
           "[Gen 9] VGC 2024 Reg F",
           "1b"
          ],
          [
           "Will Simpson",
           "Evan Sooklal",
           6,
           2,
           "2024-02-18",
           "[Gen 9] Doubles UU",
           "1"
          ],
          [
           "Jack Massingill",
           "Roman Ramirez",
           0,
           6,
           "2024-02-18",
           "[Gen 9] Doubles UU",
           "2"
          ],
          [
           "Evan Sooklal",
           "Jack Massingill",
           6,
           3,
           "2024-02-18",
           "[Gen 9] Doubles UU",
           "3"
          ],
          [
           "Aaron Carter",
           "Will Simpson",
           6,
           1,
           "2024-02-18",
           "[Gen 9] Doubles UU",
           "4"
          ],
          [
           "Jack Massingill",
           "Aaron Carter",
           3,
           6,
           "2024-02-18",
           "[Gen 9] Doubles UU",
           "5"
          ],
          [
           "Roman Ramirez",
           "Evan Sooklal",
           6,
           3,
           "2024-02-18",
           "[Gen 9] Doubles UU",
           "6"
          ],
          [
           "Aaron Carter",
           "Roman Ramirez",
           3,
           6,
           "2024-02-18",
           "[Gen 9] Doubles UU",
           "7"
          ],
          [
           "Will Simpson",
           "Jack Massingill",
           6,
           0,
           "2024-02-18",
           "[Gen 9] Doubles UU",
           "8"
          ],
          [
           "Roman Ramirez",
           "Will Simpson",
           6,
           0,
           "2024-02-18",
           "[Gen 9] Doubles UU",
           "9"
          ],
          [
           "Evan Sooklal",
           "Aaron Carter",
           2,
           6,
           "2024-02-18",
           "[Gen 9] Doubles UU",
           "10"
          ],
          [
           "Evan Sooklal",
           "Will Simpson",
           6,
           2,
           "2024-02-18",
           "[Gen 9] Doubles UU",
           "11"
          ],
          [
           "Roman Ramirez",
           "Jack Massingill",
           6,
           1,
           "2024-02-18",
           "[Gen 9] Doubles UU",
           "12"
          ],
          [
           "Jack Massingill",
           "Evan Sooklal",
           0,
           6,
           "2024-02-18",
           "[Gen 9] Doubles UU",
           "13"
          ],
          [
           "Will Simpson",
           "Aaron Carter",
           2,
           6,
           "2024-02-18",
           "[Gen 9] Doubles UU",
           "14"
          ],
          [
           "Aaron Carter",
           "Jack Massingill",
           6,
           4,
           "2024-02-18",
           "[Gen 9] Doubles UU",
           "15"
          ],
          [
           "Evan Sooklal",
           "Roman Ramirez",
           1,
           6,
           "2024-02-18",
           "[Gen 9] Doubles UU",
           "16"
          ],
          [
           "Roman Ramirez",
           "Aaron Carter",
           6,
           5,
           "2024-02-18",
           "[Gen 9] Doubles UU",
           "17"
          ],
          [
           "Jack Massingill",
           "Will Simpson",
           6,
           0,
           "2024-02-18",
           "[Gen 9] Doubles UU",
           "18"
          ],
          [
           "Will Simpson",
           "Roman Ramirez",
           0,
           6,
           "2024-02-18",
           "[Gen 9] Doubles UU",
           "19"
          ],
          [
           "Aaron Carter",
           "Evan Sooklal",
           6,
           5,
           "2024-02-18",
           "[Gen 9] Doubles UU",
           "20"
          ],
          [
           "Roman Ramirez",
           "Aaron Carter",
           6,
           4,
           "2024-02-18",
           "[Gen 9] Doubles UU",
           "1"
          ],
          [
           "Roman Ramirez",
           "Aaron Carter",
           3,
           6,
           "2024-02-18",
           "[Gen 9] Doubles UU",
           "2"
          ],
          [
           "Roman Ramirez",
           "Aaron Carter",
           4,
           6,
           "2024-02-18",
           "[Gen 9] Doubles UU",
           "3"
          ],
          [
           "Lilith Karyadi",
           "Roman Ramirez",
           6,
           3,
           "2024-06-09",
           "[Gen 9] RU",
           "1a"
          ],
          [
           "Lilith Karyadi",
           "Roman Ramirez",
           6,
           3,
           "2024-06-09",
           "[Gen 9] RU",
           "1b"
          ],
          [
           "Evan Sooklal",
           "Will Simpson",
           6,
           5,
           "2024-06-09",
           "[Gen 9] RU",
           "2a"
          ],
          [
           "Evan Sooklal",
           "Will Simpson",
           4,
           6,
           "2024-06-09",
           "[Gen 9] RU",
           "2b"
          ],
          [
           "Evan Sooklal",
           "Will Simpson",
           6,
           5,
           "2024-06-09",
           "[Gen 9] RU",
           "2c"
          ],
          [
           "Will Simpson",
           "Lilith Karyadi",
           6,
           5,
           "2024-06-09",
           "[Gen 9] RU",
           "3a"
          ],
          [
           "Will Simpson",
           "Lilith Karyadi",
           6,
           2,
           "2024-06-09",
           "[Gen 9] RU",
           "3b"
          ],
          [
           "Roman Ramirez",
           "Evan Sooklal",
           4,
           6,
           "2024-06-09",
           "[Gen 9] RU",
           "4a"
          ],
          [
           "Roman Ramirez",
           "Evan Sooklal",
           2,
           6,
           "2024-06-09",
           "[Gen 9] RU",
           "4b"
          ],
          [
           "Evan Sooklal",
           "Lilith Karyadi",
           2,
           6,
           "2024-06-09",
           "[Gen 9] RU",
           "5a"
          ],
          [
           "Evan Sooklal",
           "Lilith Karyadi",
           5,
           6,
           "2024-06-09",
           "[Gen 9] RU",
           "5a"
          ],
          [
           "Evan Sooklal",
           "Lilith Karyadi",
           5,
           6,
           "2024-06-09",
           "[Gen 9] RU",
           "1"
          ],
          [
           "Will Simpson",
           "Lilith Karyadi",
           6,
           5,
           "2024-06-09",
           "[Gen 9] RU",
           "2"
          ]
         ],
         "hovertemplate": "<i>%{customdata[4]|%A, %B %d, %Y}, Game %{x}</i><br><b>%{fullData.name}</b><br><br><b>Format:</b> %{customdata[5]}<br><b>Tournament Match:</b> %{customdata[6]}<br><br><b>%{customdata[0]} vs. %{customdata[1]}</b><br><b>Final Score:</b> %{customdata[2]}-%{customdata[3]}<br>%{text}<b>Post-Game ELO:</b> %{y:,.0f}<br><extra></extra>",
         "legendgrouptitle": {
          "text": "<b>#<i>Rank</i> (<i>Current ELO</i>) <i>Player</i></b>"
         },
         "line": {
          "color": "rgb(128, 186, 90)",
          "shape": "hv"
         },
         "mode": "lines+markers",
         "name": "#6 (1149) Jack Massingill",
         "opacity": 0.8,
         "text": [
          "<br><b>Pre-Game ELO: </b>nan<br><b>Win Probability: </b>nan%<br><br><b>Change in ELO:</b> +nan<br>",
          "<br><b>Pre-Game ELO: </b>nan<br><b>Win Probability: </b>nan%<br><br><b>Change in ELO:</b> +nan<br>",
          "<br><b>Pre-Game ELO: </b>nan<br><b>Win Probability: </b>nan%<br><br><b>Change in ELO:</b> +nan<br>",
          "<br><b>Pre-Game ELO: </b>nan<br><b>Win Probability: </b>nan%<br><br><b>Change in ELO:</b> +nan<br>",
          "<br><b>Pre-Game ELO: </b>nan<br><b>Win Probability: </b>nan%<br><br><b>Change in ELO:</b> +nan<br>",
          "<br><b>Pre-Game ELO: </b>nan<br><b>Win Probability: </b>nan%<br><br><b>Change in ELO:</b> +nan<br>",
          "<br><b>Pre-Game ELO: </b>nan<br><b>Win Probability: </b>nan%<br><br><b>Change in ELO:</b> +nan<br>",
          "<br><b>Pre-Game ELO: </b>nan<br><b>Win Probability: </b>nan%<br><br><b>Change in ELO:</b> +nan<br>",
          "<br><b>Pre-Game ELO: </b>nan<br><b>Win Probability: </b>nan%<br><br><b>Change in ELO:</b> +nan<br>",
          "<br><b>Pre-Game ELO: </b>nan<br><b>Win Probability: </b>nan%<br><br><b>Change in ELO:</b> +nan<br>",
          "<br><b>Pre-Game ELO: </b>nan<br><b>Win Probability: </b>nan%<br><br><b>Change in ELO:</b> +nan<br>",
          "<br><b>Pre-Game ELO: </b>nan<br><b>Win Probability: </b>nan%<br><br><b>Change in ELO:</b> +nan<br>",
          "<br><b>Pre-Game ELO: </b>nan<br><b>Win Probability: </b>nan%<br><br><b>Change in ELO:</b> +nan<br>",
          "<br><b>Pre-Game ELO: </b>nan<br><b>Win Probability: </b>nan%<br><br><b>Change in ELO:</b> +nan<br>",
          "<br><b>Pre-Game ELO: </b>nan<br><b>Win Probability: </b>nan%<br><br><b>Change in ELO:</b> +nan<br>",
          "<br><b>Pre-Game ELO: </b>nan<br><b>Win Probability: </b>nan%<br><br><b>Change in ELO:</b> +nan<br>",
          "<br><b>Pre-Game ELO: </b>nan<br><b>Win Probability: </b>nan%<br><br><b>Change in ELO:</b> +nan<br>",
          "<br><b>Pre-Game ELO: </b>nan<br><b>Win Probability: </b>nan%<br><br><b>Change in ELO:</b> +nan<br>",
          "<br><b>Pre-Game ELO: </b>nan<br><b>Win Probability: </b>nan%<br><br><b>Change in ELO:</b> +nan<br>",
          "<br><b>Pre-Game ELO: </b>nan<br><b>Win Probability: </b>nan%<br><br><b>Change in ELO:</b> +nan<br>",
          "<br><b>Pre-Game ELO: </b>nan<br><b>Win Probability: </b>nan%<br><br><b>Change in ELO:</b> +nan<br>",
          "<br><b>Pre-Game ELO: </b>nan<br><b>Win Probability: </b>nan%<br><br><b>Change in ELO:</b> +nan<br>",
          "<br><b>Pre-Game ELO: </b>nan<br><b>Win Probability: </b>nan%<br><br><b>Change in ELO:</b> +nan<br>",
          "<br><b>Pre-Game ELO: </b>nan<br><b>Win Probability: </b>nan%<br><br><b>Change in ELO:</b> +nan<br>",
          "<br><b>Pre-Game ELO: </b>nan<br><b>Win Probability: </b>nan%<br><br><b>Change in ELO:</b> +nan<br>",
          "<br><b>Pre-Game ELO: </b>nan<br><b>Win Probability: </b>nan%<br><br><b>Change in ELO:</b> +nan<br>",
          "<br><b>Pre-Game ELO: </b>nan<br><b>Win Probability: </b>nan%<br><br><b>Change in ELO:</b> +nan<br>",
          "<br><b>Pre-Game ELO: </b>nan<br><b>Win Probability: </b>nan%<br><br><b>Change in ELO:</b> +nan<br>",
          "<br><b>Pre-Game ELO: </b>nan<br><b>Win Probability: </b>nan%<br><br><b>Change in ELO:</b> +nan<br>",
          "<br><b>Pre-Game ELO: </b>nan<br><b>Win Probability: </b>nan%<br><br><b>Change in ELO:</b> +nan<br>",
          "<br><b>Pre-Game ELO: </b>nan<br><b>Win Probability: </b>nan%<br><br><b>Change in ELO:</b> +nan<br>",
          "<br><b>Pre-Game ELO: </b>nan<br><b>Win Probability: </b>nan%<br><br><b>Change in ELO:</b> +nan<br>",
          "<br><b>Pre-Game ELO: </b>nan<br><b>Win Probability: </b>nan%<br><br><b>Change in ELO:</b> +nan<br>",
          "<br><b>Pre-Game ELO: </b>nan<br><b>Win Probability: </b>nan%<br><br><b>Change in ELO:</b> +nan<br>",
          "<br><b>Pre-Game ELO: </b>nan<br><b>Win Probability: </b>nan%<br><br><b>Change in ELO:</b> +nan<br>",
          "<br><b>Pre-Game ELO: </b>nan<br><b>Win Probability: </b>nan%<br><br><b>Change in ELO:</b> +nan<br>",
          "<br><b>Pre-Game ELO: </b>nan<br><b>Win Probability: </b>nan%<br><br><b>Change in ELO:</b> +nan<br>",
          "<br><b>Pre-Game ELO: </b>nan<br><b>Win Probability: </b>nan%<br><br><b>Change in ELO:</b> +nan<br>",
          "<br><b>Pre-Game ELO: </b>nan<br><b>Win Probability: </b>nan%<br><br><b>Change in ELO:</b> +nan<br>",
          "<br><b>Pre-Game ELO: </b>nan<br><b>Win Probability: </b>nan%<br><br><b>Change in ELO:</b> +nan<br>",
          "<br><b>Pre-Game ELO: </b>nan<br><b>Win Probability: </b>nan%<br><br><b>Change in ELO:</b> +nan<br>",
          "<br><b>Pre-Game ELO: </b>nan<br><b>Win Probability: </b>nan%<br><br><b>Change in ELO:</b> +nan<br>",
          "<br><b>Pre-Game ELO: </b>nan<br><b>Win Probability: </b>nan%<br><br><b>Change in ELO:</b> +nan<br>",
          "<br><b>Pre-Game ELO: </b>nan<br><b>Win Probability: </b>nan%<br><br><b>Change in ELO:</b> +nan<br>",
          "<br><b>Pre-Game ELO: </b>nan<br><b>Win Probability: </b>nan%<br><br><b>Change in ELO:</b> +nan<br>",
          "<br><b>Pre-Game ELO: </b>nan<br><b>Win Probability: </b>nan%<br><br><b>Change in ELO:</b> +nan<br>",
          "<br><b>Pre-Game ELO: </b>nan<br><b>Win Probability: </b>nan%<br><br><b>Change in ELO:</b> +nan<br>",
          "<br><b>Pre-Game ELO: </b>nan<br><b>Win Probability: </b>nan%<br><br><b>Change in ELO:</b> +nan<br>",
          "<br><b>Pre-Game ELO: </b>nan<br><b>Win Probability: </b>nan%<br><br><b>Change in ELO:</b> +nan<br>",
          "<br><b>Pre-Game ELO: </b>nan<br><b>Win Probability: </b>nan%<br><br><b>Change in ELO:</b> +nan<br>",
          "<br><b>Pre-Game ELO: </b>nan<br><b>Win Probability: </b>nan%<br><br><b>Change in ELO:</b> +nan<br>",
          "<br><b>Pre-Game ELO: </b>nan<br><b>Win Probability: </b>nan%<br><br><b>Change in ELO:</b> +nan<br>",
          "<br><b>Pre-Game ELO: </b>nan<br><b>Win Probability: </b>nan%<br><br><b>Change in ELO:</b> +nan<br>",
          "<br><b>Pre-Game ELO: </b>nan<br><b>Win Probability: </b>nan%<br><br><b>Change in ELO:</b> +nan<br>",
          "<br><b>Pre-Game ELO: </b>nan<br><b>Win Probability: </b>nan%<br><br><b>Change in ELO:</b> +nan<br>",
          "<br><b>Pre-Game ELO: </b>nan<br><b>Win Probability: </b>nan%<br><br><b>Change in ELO:</b> +nan<br>",
          "<br><b>Pre-Game ELO: </b>nan<br><b>Win Probability: </b>nan%<br><br><b>Change in ELO:</b> +nan<br>",
          "<br><b>Pre-Game ELO: </b>nan<br><b>Win Probability: </b>nan%<br><br><b>Change in ELO:</b> +nan<br>",
          "<br><b>Pre-Game ELO: </b>nan<br><b>Win Probability: </b>nan%<br><br><b>Change in ELO:</b> +nan<br>",
          "<br><b>Pre-Game ELO: </b>nan<br><b>Win Probability: </b>nan%<br><br><b>Change in ELO:</b> +nan<br>",
          "<br><b>Pre-Game ELO: </b>nan<br><b>Win Probability: </b>nan%<br><br><b>Change in ELO:</b> +nan<br>",
          "<br><b>Pre-Game ELO: </b>nan<br><b>Win Probability: </b>nan%<br><br><b>Change in ELO:</b> +nan<br>",
          "<br><b>Pre-Game ELO: </b>nan<br><b>Win Probability: </b>nan%<br><br><b>Change in ELO:</b> +nan<br>",
          "<br><b>Pre-Game ELO: </b>nan<br><b>Win Probability: </b>nan%<br><br><b>Change in ELO:</b> +nan<br>",
          "<br><b>Pre-Game ELO: </b>nan<br><b>Win Probability: </b>nan%<br><br><b>Change in ELO:</b> +nan<br>",
          "<br><b>Pre-Game ELO: </b>nan<br><b>Win Probability: </b>nan%<br><br><b>Change in ELO:</b> +nan<br>",
          "<br><b>Pre-Game ELO: </b>nan<br><b>Win Probability: </b>nan%<br><br><b>Change in ELO:</b> +nan<br>",
          "<br><b>Pre-Game ELO: </b>nan<br><b>Win Probability: </b>nan%<br><br><b>Change in ELO:</b> +nan<br>",
          "<br><b>Pre-Game ELO: </b>nan<br><b>Win Probability: </b>nan%<br><br><b>Change in ELO:</b> +nan<br>",
          "<br><b>Pre-Game ELO: </b>nan<br><b>Win Probability: </b>nan%<br><br><b>Change in ELO:</b> +nan<br>",
          "<br><b>Pre-Game ELO: </b>nan<br><b>Win Probability: </b>nan%<br><br><b>Change in ELO:</b> +nan<br>",
          "<br><b>Pre-Game ELO: </b>nan<br><b>Win Probability: </b>nan%<br><br><b>Change in ELO:</b> +nan<br>",
          "<br><b>Pre-Game ELO: </b>nan<br><b>Win Probability: </b>nan%<br><br><b>Change in ELO:</b> +nan<br>",
          "<br><b>Pre-Game ELO: </b>nan<br><b>Win Probability: </b>nan%<br><br><b>Change in ELO:</b> +nan<br>",
          "<br><b>Pre-Game ELO: </b>nan<br><b>Win Probability: </b>nan%<br><br><b>Change in ELO:</b> +nan<br>",
          "<br><b>Pre-Game ELO: </b>nan<br><b>Win Probability: </b>nan%<br><br><b>Change in ELO:</b> +nan<br>",
          "<br><b>Pre-Game ELO: </b>nan<br><b>Win Probability: </b>nan%<br><br><b>Change in ELO:</b> +nan<br>",
          "<br><b>Pre-Game ELO: </b>nan<br><b>Win Probability: </b>nan%<br><br><b>Change in ELO:</b> +nan<br>",
          "<br><b>Pre-Game ELO: </b>nan<br><b>Win Probability: </b>nan%<br><br><b>Change in ELO:</b> +nan<br>",
          "<br><b>Pre-Game ELO: </b>nan<br><b>Win Probability: </b>nan%<br><br><b>Change in ELO:</b> +nan<br>",
          "<br><b>Pre-Game ELO: </b>nan<br><b>Win Probability: </b>nan%<br><br><b>Change in ELO:</b> +nan<br>",
          "<br><b>Pre-Game ELO: </b>nan<br><b>Win Probability: </b>nan%<br><br><b>Change in ELO:</b> +nan<br>",
          "<br><b>Pre-Game ELO: </b>nan<br><b>Win Probability: </b>nan%<br><br><b>Change in ELO:</b> +nan<br>",
          "<br><b>Pre-Game ELO: </b>nan<br><b>Win Probability: </b>nan%<br><br><b>Change in ELO:</b> +nan<br>",
          "<br><b>Pre-Game ELO: </b>nan<br><b>Win Probability: </b>nan%<br><br><b>Change in ELO:</b> +nan<br>",
          "<br><b>Pre-Game ELO: </b>nan<br><b>Win Probability: </b>nan%<br><br><b>Change in ELO:</b> +nan<br>",
          "<br><b>Pre-Game ELO: </b>nan<br><b>Win Probability: </b>nan%<br><br><b>Change in ELO:</b> +nan<br>",
          "<br><b>Pre-Game ELO: </b>nan<br><b>Win Probability: </b>nan%<br><br><b>Change in ELO:</b> +nan<br>",
          "<br><b>Pre-Game ELO: </b>nan<br><b>Win Probability: </b>nan%<br><br><b>Change in ELO:</b> +nan<br>",
          "<br><b>Pre-Game ELO: </b>nan<br><b>Win Probability: </b>nan%<br><br><b>Change in ELO:</b> +nan<br>",
          "<br><b>Pre-Game ELO: </b>nan<br><b>Win Probability: </b>nan%<br><br><b>Change in ELO:</b> +nan<br>",
          "<br><b>Pre-Game ELO: </b>1200<br><b>Win Probability: </b>60.4%<br><br><b>Change in ELO:</b> -19<br>",
          "<br><b>Pre-Game ELO: </b>1181<br><b>Win Probability: </b>58.7%<br><br><b>Change in ELO:</b> -18<br>",
          "<br><b>Pre-Game ELO: </b>nan<br><b>Win Probability: </b>nan%<br><br><b>Change in ELO:</b> +nan<br>",
          "<br><b>Pre-Game ELO: </b>1163<br><b>Win Probability: </b>12.8%<br><br><b>Change in ELO:</b> -4<br>",
          "<br><b>Pre-Game ELO: </b>nan<br><b>Win Probability: </b>nan%<br><br><b>Change in ELO:</b> +nan<br>",
          "<br><b>Pre-Game ELO: </b>nan<br><b>Win Probability: </b>nan%<br><br><b>Change in ELO:</b> +nan<br>",
          "<br><b>Pre-Game ELO: </b>1159<br><b>Win Probability: </b>25.1%<br><br><b>Change in ELO:</b> -8<br>",
          "<br><b>Pre-Game ELO: </b>nan<br><b>Win Probability: </b>nan%<br><br><b>Change in ELO:</b> +nan<br>",
          "<br><b>Pre-Game ELO: </b>nan<br><b>Win Probability: </b>nan%<br><br><b>Change in ELO:</b> +nan<br>",
          "<br><b>Pre-Game ELO: </b>nan<br><b>Win Probability: </b>nan%<br><br><b>Change in ELO:</b> +nan<br>",
          "<br><b>Pre-Game ELO: </b>1151<br><b>Win Probability: </b>27.4%<br><br><b>Change in ELO:</b> -8<br>",
          "<br><b>Pre-Game ELO: </b>1143<br><b>Win Probability: </b>42.1%<br><br><b>Change in ELO:</b> -13<br>",
          "<br><b>Pre-Game ELO: </b>nan<br><b>Win Probability: </b>nan%<br><br><b>Change in ELO:</b> +nan<br>",
          "<br><b>Pre-Game ELO: </b>1130<br><b>Win Probability: </b>10.2%<br><br><b>Change in ELO:</b> -3<br>",
          "<br><b>Pre-Game ELO: </b>nan<br><b>Win Probability: </b>nan%<br><br><b>Change in ELO:</b> +nan<br>",
          "<br><b>Pre-Game ELO: </b>nan<br><b>Win Probability: </b>nan%<br><br><b>Change in ELO:</b> +nan<br>",
          "<br><b>Pre-Game ELO: </b>1127<br><b>Win Probability: </b>27.2%<br><br><b>Change in ELO:</b> +23<br>",
          "<br><b>Pre-Game ELO: </b>nan<br><b>Win Probability: </b>nan%<br><br><b>Change in ELO:</b> +nan<br>",
          "<br><b>Pre-Game ELO: </b>nan<br><b>Win Probability: </b>nan%<br><br><b>Change in ELO:</b> +nan<br>",
          "<br><b>Pre-Game ELO: </b>nan<br><b>Win Probability: </b>nan%<br><br><b>Change in ELO:</b> +nan<br>",
          "<br><b>Pre-Game ELO: </b>nan<br><b>Win Probability: </b>nan%<br><br><b>Change in ELO:</b> +nan<br>",
          "<br><b>Pre-Game ELO: </b>nan<br><b>Win Probability: </b>nan%<br><br><b>Change in ELO:</b> +nan<br>",
          "<br><b>Pre-Game ELO: </b>nan<br><b>Win Probability: </b>nan%<br><br><b>Change in ELO:</b> +nan<br>",
          "<br><b>Pre-Game ELO: </b>nan<br><b>Win Probability: </b>nan%<br><br><b>Change in ELO:</b> +nan<br>",
          "<br><b>Pre-Game ELO: </b>nan<br><b>Win Probability: </b>nan%<br><br><b>Change in ELO:</b> +nan<br>",
          "<br><b>Pre-Game ELO: </b>nan<br><b>Win Probability: </b>nan%<br><br><b>Change in ELO:</b> +nan<br>",
          "<br><b>Pre-Game ELO: </b>nan<br><b>Win Probability: </b>nan%<br><br><b>Change in ELO:</b> +nan<br>",
          "<br><b>Pre-Game ELO: </b>nan<br><b>Win Probability: </b>nan%<br><br><b>Change in ELO:</b> +nan<br>",
          "<br><b>Pre-Game ELO: </b>nan<br><b>Win Probability: </b>nan%<br><br><b>Change in ELO:</b> +nan<br>",
          "<br><b>Pre-Game ELO: </b>nan<br><b>Win Probability: </b>nan%<br><br><b>Change in ELO:</b> +nan<br>",
          "<br><b>Pre-Game ELO: </b>nan<br><b>Win Probability: </b>nan%<br><br><b>Change in ELO:</b> +nan<br>",
          "<br><b>Pre-Game ELO: </b>nan<br><b>Win Probability: </b>nan%<br><br><b>Change in ELO:</b> +nan<br>",
          "<br><b>Pre-Game ELO: </b>nan<br><b>Win Probability: </b>nan%<br><br><b>Change in ELO:</b> +nan<br>",
          "<br><b>Pre-Game ELO: </b>nan<br><b>Win Probability: </b>nan%<br><br><b>Change in ELO:</b> +nan<br>",
          "<br><b>Pre-Game ELO: </b>nan<br><b>Win Probability: </b>nan%<br><br><b>Change in ELO:</b> +nan<br>"
         ],
         "type": "scatter",
         "x": [
          1,
          2,
          3,
          4,
          5,
          6,
          7,
          8,
          9,
          10,
          11,
          12,
          13,
          14,
          15,
          16,
          17,
          18,
          19,
          20,
          21,
          22,
          23,
          24,
          25,
          26,
          27,
          28,
          29,
          30,
          31,
          32,
          33,
          34,
          35,
          36,
          37,
          38,
          39,
          40,
          41,
          42,
          43,
          44,
          45,
          46,
          47,
          48,
          49,
          50,
          51,
          52,
          53,
          54,
          55,
          56,
          57,
          58,
          59,
          60,
          61,
          62,
          63,
          64,
          65,
          66,
          67,
          68,
          69,
          70,
          71,
          72,
          73,
          74,
          75,
          76,
          77,
          78,
          79,
          80,
          81,
          82,
          83,
          84,
          85,
          86,
          87,
          88,
          89,
          90,
          91,
          92,
          93,
          94,
          95,
          96,
          97,
          98,
          99,
          100,
          101,
          102,
          103,
          104,
          105,
          106,
          107,
          108,
          109,
          110,
          111,
          112,
          113,
          114,
          115,
          116,
          117,
          118,
          119,
          120,
          121,
          122,
          123,
          124,
          125,
          126
         ],
         "y": [
          null,
          null,
          null,
          null,
          null,
          null,
          null,
          null,
          null,
          null,
          null,
          null,
          null,
          null,
          null,
          null,
          null,
          null,
          null,
          null,
          null,
          null,
          null,
          null,
          null,
          null,
          null,
          null,
          null,
          null,
          null,
          null,
          null,
          null,
          null,
          null,
          null,
          null,
          null,
          null,
          null,
          null,
          null,
          null,
          null,
          null,
          null,
          null,
          null,
          null,
          null,
          null,
          null,
          null,
          null,
          null,
          null,
          null,
          null,
          null,
          null,
          null,
          null,
          null,
          null,
          null,
          null,
          null,
          null,
          null,
          null,
          null,
          null,
          null,
          null,
          null,
          null,
          null,
          null,
          null,
          null,
          null,
          null,
          null,
          null,
          null,
          null,
          null,
          null,
          null,
          null,
          1181.2843222681238,
          1163.08156608217,
          null,
          1159.1031900986843,
          null,
          null,
          1151.3342923176474,
          null,
          null,
          null,
          1142.8355476452307,
          1129.7755380629303,
          null,
          1126.6225503979344,
          null,
          null,
          1149.1793767377515,
          null,
          null,
          null,
          null,
          null,
          null,
          null,
          null,
          null,
          null,
          null,
          null,
          null,
          null,
          null,
          null,
          null,
          null
         ]
        },
        {
         "connectgaps": true,
         "customdata": [
          [
           "Evan Sooklal",
           "Will Simpson",
           2,
           6,
           "2023-11-18",
           "[Gen 9] OU",
           "1"
          ],
          [
           "Paul Bartenfeld",
           "Roman Ramirez",
           2,
           6,
           "2023-11-18",
           "[Gen 9] OU",
           "2"
          ],
          [
           "Roman Ramirez",
           "Evan Sooklal",
           6,
           3,
           "2023-11-18",
           "[Gen 9] OU",
           "3"
          ],
          [
           "Will Simpson",
           "Paul Bartenfeld",
           6,
           1,
           "2023-11-18",
           "[Gen 9] OU",
           "4"
          ],
          [
           "Paul Bartenfeld",
           "Evan Sooklal",
           1,
           6,
           "2023-11-18",
           "[Gen 9] OU",
           "5"
          ],
          [
           "Will Simpson",
           "Roman Ramirez",
           3,
           6,
           "2023-11-18",
           "[Gen 9] OU",
           "6"
          ],
          [
           "Will Simpson",
           "Evan Sooklal",
           6,
           2,
           "2023-11-18",
           "[Gen 9] OU",
           "7"
          ],
          [
           "Roman Ramirez",
           "Paul Bartenfeld",
           6,
           4,
           "2023-11-18",
           "[Gen 9] OU",
           "8"
          ],
          [
           "Evan Sooklal",
           "Roman Ramirez",
           6,
           5,
           "2023-11-18",
           "[Gen 9] OU",
           "9"
          ],
          [
           "Paul Bartenfeld",
           "Will Simpson",
           4,
           6,
           "2023-11-18",
           "[Gen 9] OU",
           "10"
          ],
          [
           "Evan Sooklal",
           "Paul Bartenfeld",
           6,
           5,
           "2023-11-18",
           "[Gen 9] OU",
           "11"
          ],
          [
           "Roman Ramirez",
           "Will Simpson",
           6,
           2,
           "2023-11-18",
           "[Gen 9] OU",
           "12"
          ],
          [
           "Roman Ramirez",
           "Will Simpson",
           2,
           6,
           "2023-11-18",
           "[Gen 9] OU",
           "1"
          ],
          [
           "Will Simpson",
           "Roman Ramirez",
           4,
           6,
           "2023-11-18",
           "[Gen 9] OU",
           "2"
          ],
          [
           "Roman Ramirez",
           "Will Simpson",
           6,
           4,
           "2023-11-18",
           "[Gen 9] OU",
           "3"
          ],
          [
           "Roman Ramirez",
           "Aaron Carter",
           4,
           6,
           "2023-12-02",
           "[Gen 9] OU",
           "1"
          ],
          [
           "Will Simpson",
           "Paul Bartenfeld",
           6,
           4,
           "2023-12-02",
           "[Gen 9] OU",
           "2"
          ],
          [
           "Aaron Carter",
           "Will Simpson",
           4,
           6,
           "2023-12-02",
           "[Gen 9] OU",
           "3"
          ],
          [
           "Evan Sooklal",
           "Roman Ramirez",
           6,
           2,
           "2023-12-02",
           "[Gen 9] OU",
           "4"
          ],
          [
           "Will Simpson",
           "Evan Sooklal",
           6,
           2,
           "2023-12-02",
           "[Gen 9] OU",
           "5"
          ],
          [
           "Paul Bartenfeld",
           "Aaron Carter",
           6,
           3,
           "2023-12-02",
           "[Gen 9] OU",
           "6"
          ],
          [
           "Evan Sooklal",
           "Paul Bartenfeld",
           6,
           4,
           "2023-12-02",
           "[Gen 9] OU",
           "7"
          ],
          [
           "Roman Ramirez",
           "Will Simpson",
           6,
           4,
           "2023-12-02",
           "[Gen 9] OU",
           "8"
          ],
          [
           "Paul Bartenfeld",
           "Roman Ramirez",
           6,
           3,
           "2023-12-02",
           "[Gen 9] OU",
           "9"
          ],
          [
           "Aaron Carter",
           "Evan Sooklal",
           6,
           3,
           "2023-12-02",
           "[Gen 9] OU",
           "10"
          ],
          [
           "Aaron Carter",
           "Roman Ramirez",
           0,
           6,
           "2023-12-02",
           "[Gen 9] OU",
           "11"
          ],
          [
           "Paul Bartenfeld",
           "Will Simpson",
           1,
           6,
           "2023-12-02",
           "[Gen 9] OU",
           "12"
          ],
          [
           "Will Simpson",
           "Aaron Carter",
           3,
           6,
           "2023-12-02",
           "[Gen 9] OU",
           "13"
          ],
          [
           "Roman Ramirez",
           "Evan Sooklal",
           2,
           6,
           "2023-12-02",
           "[Gen 9] OU",
           "14"
          ],
          [
           "Evan Sooklal",
           "Will Simpson",
           5,
           6,
           "2023-12-02",
           "[Gen 9] OU",
           "15"
          ],
          [
           "Aaron Carter",
           "Paul Bartenfeld",
           6,
           3,
           "2023-12-02",
           "[Gen 9] OU",
           "16"
          ],
          [
           "Paul Bartenfeld",
           "Evan Sooklal",
           6,
           5,
           "2023-12-02",
           "[Gen 9] OU",
           "17"
          ],
          [
           "Will Simpson",
           "Roman Ramirez",
           6,
           5,
           "2023-12-02",
           "[Gen 9] OU",
           "18"
          ],
          [
           "Roman Ramirez",
           "Paul Bartenfeld",
           4,
           6,
           "2023-12-02",
           "[Gen 9] OU",
           "19"
          ],
          [
           "Evan Sooklal",
           "Aaron Carter",
           6,
           4,
           "2023-12-02",
           "[Gen 9] OU",
           "20"
          ],
          [
           "Will Simpson",
           "Evan Sooklal",
           6,
           2,
           "2023-12-02",
           "[Gen 9] OU",
           "1"
          ],
          [
           "Will Simpson",
           "Evan Sooklal",
           6,
           1,
           "2023-12-02",
           "[Gen 9] OU",
           "2"
          ],
          [
           "Aaron Carter",
           "Paul Bartenfeld",
           6,
           3,
           "2023-12-13",
           "[Gen 9] OU",
           "1"
          ],
          [
           "Roman Ramirez",
           "Evan Sooklal",
           5,
           6,
           "2023-12-13",
           "[Gen 9] OU",
           "2"
          ],
          [
           "Paul Bartenfeld",
           "Roman Ramirez",
           2,
           6,
           "2023-12-13",
           "[Gen 9] OU",
           "3"
          ],
          [
           "Will Simpson",
           "Aaron Carter",
           0,
           6,
           "2023-12-13",
           "[Gen 9] OU",
           "4"
          ],
          [
           "Roman Ramirez",
           "Will Simpson",
           4,
           6,
           "2023-12-13",
           "[Gen 9] OU",
           "5"
          ],
          [
           "Evan Sooklal",
           "Paul Bartenfeld",
           6,
           5,
           "2023-12-13",
           "[Gen 9] OU",
           "6"
          ],
          [
           "Will Simpson",
           "Evan Sooklal",
           4,
           6,
           "2023-12-13",
           "[Gen 9] OU",
           "7"
          ],
          [
           "Aaron Carter",
           "Roman Ramirez",
           6,
           3,
           "2023-12-13",
           "[Gen 9] OU",
           "8"
          ],
          [
           "Evan Sooklal",
           "Aaron Carter",
           5,
           6,
           "2023-12-13",
           "[Gen 9] OU",
           "9"
          ],
          [
           "Paul Bartenfeld",
           "Will Simpson",
           2,
           6,
           "2023-12-13",
           "[Gen 9] OU",
           "10"
          ],
          [
           "Paul Bartenfeld",
           "Aaron Carter",
           3,
           6,
           "2023-12-13",
           "[Gen 9] OU",
           "11"
          ],
          [
           "Evan Sooklal",
           "Roman Ramirez",
           6,
           4,
           "2023-12-13",
           "[Gen 9] OU",
           "12"
          ],
          [
           "Roman Ramirez",
           "Paul Bartenfeld",
           6,
           1,
           "2023-12-13",
           "[Gen 9] OU",
           "13"
          ],
          [
           "Aaron Carter",
           "Will Simpson",
           6,
           5,
           "2023-12-13",
           "[Gen 9] OU",
           "14"
          ],
          [
           "Will Simpson",
           "Roman Ramirez",
           3,
           6,
           "2023-12-13",
           "[Gen 9] OU",
           "15"
          ],
          [
           "Paul Bartenfeld",
           "Evan Sooklal",
           3,
           6,
           "2023-12-13",
           "[Gen 9] OU",
           "16"
          ],
          [
           "Evan Sooklal",
           "Will Simpson",
           6,
           3,
           "2023-12-13",
           "[Gen 9] OU",
           "17"
          ],
          [
           "Roman Ramirez",
           "Aaron Carter",
           5,
           6,
           "2023-12-13",
           "[Gen 9] OU",
           "18"
          ],
          [
           "Aaron Carter",
           "Evan Sooklal",
           6,
           2,
           "2023-12-13",
           "[Gen 9] OU",
           "19"
          ],
          [
           "Will Simpson",
           "Paul Bartenfeld",
           6,
           4,
           "2023-12-13",
           "[Gen 9] OU",
           "20"
          ],
          [
           "Aaron Carter",
           "Evan Sooklal",
           5,
           6,
           "2023-12-13",
           "[Gen 9] OU",
           "1"
          ],
          [
           "Evan Sooklal",
           "Aaron Carter",
           2,
           6,
           "2023-12-13",
           "[Gen 9] OU",
           "2"
          ],
          [
           "Aaron Carter",
           "Evan Sooklal",
           6,
           2,
           "2023-12-13",
           "[Gen 9] OU",
           "3"
          ],
          [
           "Evan Sooklal",
           "Will Simpson",
           0,
           4,
           "2024-01-28",
           "[Gen 9] VGC 2024 Reg F",
           "1"
          ],
          [
           "Roman Ramirez",
           "Aaron Carter",
           2,
           4,
           "2024-01-28",
           "[Gen 9] VGC 2024 Reg F",
           "2"
          ],
          [
           "Aaron Carter",
           "Evan Sooklal",
           3,
           4,
           "2024-01-28",
           "[Gen 9] VGC 2024 Reg F",
           "3"
          ],
          [
           "Will Simpson",
           "Roman Ramirez",
           4,
           2,
           "2024-01-28",
           "[Gen 9] VGC 2024 Reg F",
           "4"
          ],
          [
           "Roman Ramirez",
           "Evan Sooklal",
           0,
           4,
           "2024-01-28",
           "[Gen 9] VGC 2024 Reg F",
           "5"
          ],
          [
           "Will Simpson",
           "Aaron Carter",
           1,
           4,
           "2024-01-28",
           "[Gen 9] VGC 2024 Reg F",
           "6"
          ],
          [
           "Will Simpson",
           "Evan Sooklal",
           4,
           2,
           "2024-01-28",
           "[Gen 9] VGC 2024 Reg F",
           "7"
          ],
          [
           "Aaron Carter",
           "Roman Ramirez",
           4,
           0,
           "2024-01-28",
           "[Gen 9] VGC 2024 Reg F",
           "8"
          ],
          [
           "Evan Sooklal",
           "Aaron Carter",
           3,
           4,
           "2024-01-28",
           "[Gen 9] VGC 2024 Reg F",
           "9"
          ],
          [
           "Roman Ramirez",
           "Will Simpson",
           1,
           4,
           "2024-01-28",
           "[Gen 9] VGC 2024 Reg F",
           "10"
          ],
          [
           "Evan Sooklal",
           "Roman Ramirez",
           4,
           3,
           "2024-01-28",
           "[Gen 9] VGC 2024 Reg F",
           "11"
          ],
          [
           "Aaron Carter",
           "Will Simpson",
           2,
           4,
           "2024-01-28",
           "[Gen 9] VGC 2024 Reg F",
           "12"
          ],
          [
           "Will Simpson",
           "Aaron Carter",
           4,
           0,
           "2024-01-28",
           "[Gen 9] VGC 2024 Reg F",
           "1"
          ],
          [
           "Will Simpson",
           "Aaron Carter",
           4,
           3,
           "2024-01-28",
           "[Gen 9] VGC 2024 Reg F",
           "2"
          ],
          [
           "Aaron Carter",
           "Evan Sooklal",
           4,
           2,
           "2024-02-09",
           "[Gen 9] VGC 2024 Reg F",
           "1a"
          ],
          [
           "Aaron Carter",
           "Evan Sooklal",
           4,
           3,
           "2024-02-09",
           "[Gen 9] VGC 2024 Reg F",
           "1b"
          ],
          [
           "Roman Ramirez",
           "Will Simpson",
           3,
           4,
           "2024-02-09",
           "[Gen 9] VGC 2024 Reg F",
           "2a"
          ],
          [
           "Roman Ramirez",
           "Will Simpson",
           2,
           4,
           "2024-02-09",
           "[Gen 9] VGC 2024 Reg F",
           "2b"
          ],
          [
           "Will Simpson",
           "Aaron Carter",
           2,
           4,
           "2024-02-09",
           "[Gen 9] VGC 2024 Reg F",
           "3a"
          ],
          [
           "Will Simpson",
           "Aaron Carter",
           0,
           4,
           "2024-02-09",
           "[Gen 9] VGC 2024 Reg F",
           "3b"
          ],
          [
           "Evan Sooklal",
           "Roman Ramirez",
           1,
           4,
           "2024-02-09",
           "[Gen 9] VGC 2024 Reg F",
           "4a"
          ],
          [
           "Evan Sooklal",
           "Roman Ramirez",
           4,
           2,
           "2024-02-09",
           "[Gen 9] VGC 2024 Reg F",
           "4b"
          ],
          [
           "Evan Sooklal",
           "Roman Ramirez",
           2,
           4,
           "2024-02-09",
           "[Gen 9] VGC 2024 Reg F",
           "4c"
          ],
          [
           "Roman Ramirez",
           "Aaron Carter",
           4,
           3,
           "2024-02-09",
           "[Gen 9] VGC 2024 Reg F",
           "5a"
          ],
          [
           "Roman Ramirez",
           "Aaron Carter",
           0,
           4,
           "2024-02-09",
           "[Gen 9] VGC 2024 Reg F",
           "5b"
          ],
          [
           "Roman Ramirez",
           "Aaron Carter",
           3,
           4,
           "2024-02-09",
           "[Gen 9] VGC 2024 Reg F",
           "5c"
          ],
          [
           "Evan Sooklal",
           "Will Simpson",
           1,
           4,
           "2024-02-09",
           "[Gen 9] VGC 2024 Reg F",
           "6a"
          ],
          [
           "Evan Sooklal",
           "Will Simpson",
           0,
           4,
           "2024-02-09",
           "[Gen 9] VGC 2024 Reg F",
           "6b"
          ],
          [
           "Aaron Carter",
           "Will Simpson",
           4,
           1,
           "2024-02-09",
           "[Gen 9] VGC 2024 Reg F",
           "1a"
          ],
          [
           "Aaron Carter",
           "Will Simpson",
           4,
           2,
           "2024-02-09",
           "[Gen 9] VGC 2024 Reg F",
           "1b"
          ],
          [
           "Will Simpson",
           "Evan Sooklal",
           6,
           2,
           "2024-02-18",
           "[Gen 9] Doubles UU",
           "1"
          ],
          [
           "Jack Massingill",
           "Roman Ramirez",
           0,
           6,
           "2024-02-18",
           "[Gen 9] Doubles UU",
           "2"
          ],
          [
           "Evan Sooklal",
           "Jack Massingill",
           6,
           3,
           "2024-02-18",
           "[Gen 9] Doubles UU",
           "3"
          ],
          [
           "Aaron Carter",
           "Will Simpson",
           6,
           1,
           "2024-02-18",
           "[Gen 9] Doubles UU",
           "4"
          ],
          [
           "Jack Massingill",
           "Aaron Carter",
           3,
           6,
           "2024-02-18",
           "[Gen 9] Doubles UU",
           "5"
          ],
          [
           "Roman Ramirez",
           "Evan Sooklal",
           6,
           3,
           "2024-02-18",
           "[Gen 9] Doubles UU",
           "6"
          ],
          [
           "Aaron Carter",
           "Roman Ramirez",
           3,
           6,
           "2024-02-18",
           "[Gen 9] Doubles UU",
           "7"
          ],
          [
           "Will Simpson",
           "Jack Massingill",
           6,
           0,
           "2024-02-18",
           "[Gen 9] Doubles UU",
           "8"
          ],
          [
           "Roman Ramirez",
           "Will Simpson",
           6,
           0,
           "2024-02-18",
           "[Gen 9] Doubles UU",
           "9"
          ],
          [
           "Evan Sooklal",
           "Aaron Carter",
           2,
           6,
           "2024-02-18",
           "[Gen 9] Doubles UU",
           "10"
          ],
          [
           "Evan Sooklal",
           "Will Simpson",
           6,
           2,
           "2024-02-18",
           "[Gen 9] Doubles UU",
           "11"
          ],
          [
           "Roman Ramirez",
           "Jack Massingill",
           6,
           1,
           "2024-02-18",
           "[Gen 9] Doubles UU",
           "12"
          ],
          [
           "Jack Massingill",
           "Evan Sooklal",
           0,
           6,
           "2024-02-18",
           "[Gen 9] Doubles UU",
           "13"
          ],
          [
           "Will Simpson",
           "Aaron Carter",
           2,
           6,
           "2024-02-18",
           "[Gen 9] Doubles UU",
           "14"
          ],
          [
           "Aaron Carter",
           "Jack Massingill",
           6,
           4,
           "2024-02-18",
           "[Gen 9] Doubles UU",
           "15"
          ],
          [
           "Evan Sooklal",
           "Roman Ramirez",
           1,
           6,
           "2024-02-18",
           "[Gen 9] Doubles UU",
           "16"
          ],
          [
           "Roman Ramirez",
           "Aaron Carter",
           6,
           5,
           "2024-02-18",
           "[Gen 9] Doubles UU",
           "17"
          ],
          [
           "Jack Massingill",
           "Will Simpson",
           6,
           0,
           "2024-02-18",
           "[Gen 9] Doubles UU",
           "18"
          ],
          [
           "Will Simpson",
           "Roman Ramirez",
           0,
           6,
           "2024-02-18",
           "[Gen 9] Doubles UU",
           "19"
          ],
          [
           "Aaron Carter",
           "Evan Sooklal",
           6,
           5,
           "2024-02-18",
           "[Gen 9] Doubles UU",
           "20"
          ],
          [
           "Roman Ramirez",
           "Aaron Carter",
           6,
           4,
           "2024-02-18",
           "[Gen 9] Doubles UU",
           "1"
          ],
          [
           "Roman Ramirez",
           "Aaron Carter",
           3,
           6,
           "2024-02-18",
           "[Gen 9] Doubles UU",
           "2"
          ],
          [
           "Roman Ramirez",
           "Aaron Carter",
           4,
           6,
           "2024-02-18",
           "[Gen 9] Doubles UU",
           "3"
          ],
          [
           "Lilith Karyadi",
           "Roman Ramirez",
           6,
           3,
           "2024-06-09",
           "[Gen 9] RU",
           "1a"
          ],
          [
           "Lilith Karyadi",
           "Roman Ramirez",
           6,
           3,
           "2024-06-09",
           "[Gen 9] RU",
           "1b"
          ],
          [
           "Evan Sooklal",
           "Will Simpson",
           6,
           5,
           "2024-06-09",
           "[Gen 9] RU",
           "2a"
          ],
          [
           "Evan Sooklal",
           "Will Simpson",
           4,
           6,
           "2024-06-09",
           "[Gen 9] RU",
           "2b"
          ],
          [
           "Evan Sooklal",
           "Will Simpson",
           6,
           5,
           "2024-06-09",
           "[Gen 9] RU",
           "2c"
          ],
          [
           "Will Simpson",
           "Lilith Karyadi",
           6,
           5,
           "2024-06-09",
           "[Gen 9] RU",
           "3a"
          ],
          [
           "Will Simpson",
           "Lilith Karyadi",
           6,
           2,
           "2024-06-09",
           "[Gen 9] RU",
           "3b"
          ],
          [
           "Roman Ramirez",
           "Evan Sooklal",
           4,
           6,
           "2024-06-09",
           "[Gen 9] RU",
           "4a"
          ],
          [
           "Roman Ramirez",
           "Evan Sooklal",
           2,
           6,
           "2024-06-09",
           "[Gen 9] RU",
           "4b"
          ],
          [
           "Evan Sooklal",
           "Lilith Karyadi",
           2,
           6,
           "2024-06-09",
           "[Gen 9] RU",
           "5a"
          ],
          [
           "Evan Sooklal",
           "Lilith Karyadi",
           5,
           6,
           "2024-06-09",
           "[Gen 9] RU",
           "5a"
          ],
          [
           "Evan Sooklal",
           "Lilith Karyadi",
           5,
           6,
           "2024-06-09",
           "[Gen 9] RU",
           "1"
          ],
          [
           "Will Simpson",
           "Lilith Karyadi",
           6,
           5,
           "2024-06-09",
           "[Gen 9] RU",
           "2"
          ]
         ],
         "hovertemplate": "<i>%{customdata[4]|%A, %B %d, %Y}, Game %{x}</i><br><b>%{fullData.name}</b><br><br><b>Format:</b> %{customdata[5]}<br><b>Tournament Match:</b> %{customdata[6]}<br><br><b>%{customdata[0]} vs. %{customdata[1]}</b><br><b>Final Score:</b> %{customdata[2]}-%{customdata[3]}<br>%{text}<b>Post-Game ELO:</b> %{y:,.0f}<br><extra></extra>",
         "legendgrouptitle": {
          "text": "<b>#<i>Rank</i> (<i>Current ELO</i>) <i>Player</i></b>"
         },
         "line": {
          "color": "rgb(230, 131, 16)",
          "shape": "hv"
         },
         "mode": "lines+markers",
         "name": "#7 (1093) Paul Bartenfeld",
         "opacity": 0.8,
         "text": [
          "<br><b>Pre-Game ELO: </b>nan<br><b>Win Probability: </b>nan%<br><br><b>Change in ELO:</b> +nan<br>",
          "<br><b>Pre-Game ELO: </b>1200<br><b>Win Probability: </b>50.0%<br><br><b>Change in ELO:</b> -16<br>",
          "<br><b>Pre-Game ELO: </b>nan<br><b>Win Probability: </b>nan%<br><br><b>Change in ELO:</b> +nan<br>",
          "<br><b>Pre-Game ELO: </b>1184<br><b>Win Probability: </b>41.6%<br><br><b>Change in ELO:</b> -13<br>",
          "<br><b>Pre-Game ELO: </b>1172<br><b>Win Probability: </b>50.0%<br><br><b>Change in ELO:</b> -16<br>",
          "<br><b>Pre-Game ELO: </b>nan<br><b>Win Probability: </b>nan%<br><br><b>Change in ELO:</b> +nan<br>",
          "<br><b>Pre-Game ELO: </b>nan<br><b>Win Probability: </b>nan%<br><br><b>Change in ELO:</b> +nan<br>",
          "<br><b>Pre-Game ELO: </b>1156<br><b>Win Probability: </b>27.6%<br><br><b>Change in ELO:</b> -9<br>",
          "<br><b>Pre-Game ELO: </b>nan<br><b>Win Probability: </b>nan%<br><br><b>Change in ELO:</b> +nan<br>",
          "<br><b>Pre-Game ELO: </b>1148<br><b>Win Probability: </b>29.6%<br><br><b>Change in ELO:</b> -9<br>",
          "<br><b>Pre-Game ELO: </b>1138<br><b>Win Probability: </b>34.8%<br><br><b>Change in ELO:</b> -11<br>",
          "<br><b>Pre-Game ELO: </b>nan<br><b>Win Probability: </b>nan%<br><br><b>Change in ELO:</b> +nan<br>",
          "<br><b>Pre-Game ELO: </b>nan<br><b>Win Probability: </b>nan%<br><br><b>Change in ELO:</b> +nan<br>",
          "<br><b>Pre-Game ELO: </b>nan<br><b>Win Probability: </b>nan%<br><br><b>Change in ELO:</b> +nan<br>",
          "<br><b>Pre-Game ELO: </b>nan<br><b>Win Probability: </b>nan%<br><br><b>Change in ELO:</b> +nan<br>",
          "<br><b>Pre-Game ELO: </b>nan<br><b>Win Probability: </b>nan%<br><br><b>Change in ELO:</b> +nan<br>",
          "<br><b>Pre-Game ELO: </b>1128<br><b>Win Probability: </b>29.3%<br><br><b>Change in ELO:</b> -9<br>",
          "<br><b>Pre-Game ELO: </b>nan<br><b>Win Probability: </b>nan%<br><br><b>Change in ELO:</b> +nan<br>",
          "<br><b>Pre-Game ELO: </b>nan<br><b>Win Probability: </b>nan%<br><br><b>Change in ELO:</b> +nan<br>",
          "<br><b>Pre-Game ELO: </b>nan<br><b>Win Probability: </b>nan%<br><br><b>Change in ELO:</b> +nan<br>",
          "<br><b>Pre-Game ELO: </b>1118<br><b>Win Probability: </b>28.0%<br><br><b>Change in ELO:</b> +22<br>",
          "<br><b>Pre-Game ELO: </b>1141<br><b>Win Probability: </b>31.9%<br><br><b>Change in ELO:</b> -10<br>",
          "<br><b>Pre-Game ELO: </b>nan<br><b>Win Probability: </b>nan%<br><br><b>Change in ELO:</b> +nan<br>",
          "<br><b>Pre-Game ELO: </b>1131<br><b>Win Probability: </b>23.6%<br><br><b>Change in ELO:</b> +24<br>",
          "<br><b>Pre-Game ELO: </b>nan<br><b>Win Probability: </b>nan%<br><br><b>Change in ELO:</b> +nan<br>",
          "<br><b>Pre-Game ELO: </b>nan<br><b>Win Probability: </b>nan%<br><br><b>Change in ELO:</b> +nan<br>",
          "<br><b>Pre-Game ELO: </b>1155<br><b>Win Probability: </b>30.5%<br><br><b>Change in ELO:</b> -9<br>",
          "<br><b>Pre-Game ELO: </b>nan<br><b>Win Probability: </b>nan%<br><br><b>Change in ELO:</b> +nan<br>",
          "<br><b>Pre-Game ELO: </b>nan<br><b>Win Probability: </b>nan%<br><br><b>Change in ELO:</b> +nan<br>",
          "<br><b>Pre-Game ELO: </b>nan<br><b>Win Probability: </b>nan%<br><br><b>Change in ELO:</b> +nan<br>",
          "<br><b>Pre-Game ELO: </b>1145<br><b>Win Probability: </b>33.8%<br><br><b>Change in ELO:</b> -10<br>",
          "<br><b>Pre-Game ELO: </b>1135<br><b>Win Probability: </b>32.0%<br><br><b>Change in ELO:</b> +21<br>",
          "<br><b>Pre-Game ELO: </b>nan<br><b>Win Probability: </b>nan%<br><br><b>Change in ELO:</b> +nan<br>",
          "<br><b>Pre-Game ELO: </b>1156<br><b>Win Probability: </b>38.8%<br><br><b>Change in ELO:</b> +19<br>",
          "<br><b>Pre-Game ELO: </b>nan<br><b>Win Probability: </b>nan%<br><br><b>Change in ELO:</b> +nan<br>",
          "<br><b>Pre-Game ELO: </b>nan<br><b>Win Probability: </b>nan%<br><br><b>Change in ELO:</b> +nan<br>",
          "<br><b>Pre-Game ELO: </b>nan<br><b>Win Probability: </b>nan%<br><br><b>Change in ELO:</b> +nan<br>",
          "<br><b>Pre-Game ELO: </b>1175<br><b>Win Probability: </b>43.5%<br><br><b>Change in ELO:</b> -13<br>",
          "<br><b>Pre-Game ELO: </b>nan<br><b>Win Probability: </b>nan%<br><br><b>Change in ELO:</b> +nan<br>",
          "<br><b>Pre-Game ELO: </b>1161<br><b>Win Probability: </b>49.6%<br><br><b>Change in ELO:</b> -15<br>",
          "<br><b>Pre-Game ELO: </b>nan<br><b>Win Probability: </b>nan%<br><br><b>Change in ELO:</b> +nan<br>",
          "<br><b>Pre-Game ELO: </b>nan<br><b>Win Probability: </b>nan%<br><br><b>Change in ELO:</b> +nan<br>",
          "<br><b>Pre-Game ELO: </b>1146<br><b>Win Probability: </b>36.9%<br><br><b>Change in ELO:</b> -11<br>",
          "<br><b>Pre-Game ELO: </b>nan<br><b>Win Probability: </b>nan%<br><br><b>Change in ELO:</b> +nan<br>",
          "<br><b>Pre-Game ELO: </b>nan<br><b>Win Probability: </b>nan%<br><br><b>Change in ELO:</b> +nan<br>",
          "<br><b>Pre-Game ELO: </b>nan<br><b>Win Probability: </b>nan%<br><br><b>Change in ELO:</b> +nan<br>",
          "<br><b>Pre-Game ELO: </b>1134<br><b>Win Probability: </b>24.1%<br><br><b>Change in ELO:</b> -7<br>",
          "<br><b>Pre-Game ELO: </b>1127<br><b>Win Probability: </b>19.4%<br><br><b>Change in ELO:</b> -6<br>",
          "<br><b>Pre-Game ELO: </b>nan<br><b>Win Probability: </b>nan%<br><br><b>Change in ELO:</b> +nan<br>",
          "<br><b>Pre-Game ELO: </b>1121<br><b>Win Probability: </b>42.9%<br><br><b>Change in ELO:</b> -13<br>",
          "<br><b>Pre-Game ELO: </b>nan<br><b>Win Probability: </b>nan%<br><br><b>Change in ELO:</b> +nan<br>",
          "<br><b>Pre-Game ELO: </b>nan<br><b>Win Probability: </b>nan%<br><br><b>Change in ELO:</b> +nan<br>",
          "<br><b>Pre-Game ELO: </b>1108<br><b>Win Probability: </b>22.0%<br><br><b>Change in ELO:</b> -7<br>",
          "<br><b>Pre-Game ELO: </b>nan<br><b>Win Probability: </b>nan%<br><br><b>Change in ELO:</b> +nan<br>",
          "<br><b>Pre-Game ELO: </b>nan<br><b>Win Probability: </b>nan%<br><br><b>Change in ELO:</b> +nan<br>",
          "<br><b>Pre-Game ELO: </b>nan<br><b>Win Probability: </b>nan%<br><br><b>Change in ELO:</b> +nan<br>",
          "<br><b>Pre-Game ELO: </b>1101<br><b>Win Probability: </b>25.8%<br><br><b>Change in ELO:</b> -8<br>",
          "<br><b>Pre-Game ELO: </b>nan<br><b>Win Probability: </b>nan%<br><br><b>Change in ELO:</b> +nan<br>",
          "<br><b>Pre-Game ELO: </b>nan<br><b>Win Probability: </b>nan%<br><br><b>Change in ELO:</b> +nan<br>",
          "<br><b>Pre-Game ELO: </b>nan<br><b>Win Probability: </b>nan%<br><br><b>Change in ELO:</b> +nan<br>",
          "<br><b>Pre-Game ELO: </b>nan<br><b>Win Probability: </b>nan%<br><br><b>Change in ELO:</b> +nan<br>",
          "<br><b>Pre-Game ELO: </b>nan<br><b>Win Probability: </b>nan%<br><br><b>Change in ELO:</b> +nan<br>",
          "<br><b>Pre-Game ELO: </b>nan<br><b>Win Probability: </b>nan%<br><br><b>Change in ELO:</b> +nan<br>",
          "<br><b>Pre-Game ELO: </b>nan<br><b>Win Probability: </b>nan%<br><br><b>Change in ELO:</b> +nan<br>",
          "<br><b>Pre-Game ELO: </b>nan<br><b>Win Probability: </b>nan%<br><br><b>Change in ELO:</b> +nan<br>",
          "<br><b>Pre-Game ELO: </b>nan<br><b>Win Probability: </b>nan%<br><br><b>Change in ELO:</b> +nan<br>",
          "<br><b>Pre-Game ELO: </b>nan<br><b>Win Probability: </b>nan%<br><br><b>Change in ELO:</b> +nan<br>",
          "<br><b>Pre-Game ELO: </b>nan<br><b>Win Probability: </b>nan%<br><br><b>Change in ELO:</b> +nan<br>",
          "<br><b>Pre-Game ELO: </b>nan<br><b>Win Probability: </b>nan%<br><br><b>Change in ELO:</b> +nan<br>",
          "<br><b>Pre-Game ELO: </b>nan<br><b>Win Probability: </b>nan%<br><br><b>Change in ELO:</b> +nan<br>",
          "<br><b>Pre-Game ELO: </b>nan<br><b>Win Probability: </b>nan%<br><br><b>Change in ELO:</b> +nan<br>",
          "<br><b>Pre-Game ELO: </b>nan<br><b>Win Probability: </b>nan%<br><br><b>Change in ELO:</b> +nan<br>",
          "<br><b>Pre-Game ELO: </b>nan<br><b>Win Probability: </b>nan%<br><br><b>Change in ELO:</b> +nan<br>",
          "<br><b>Pre-Game ELO: </b>nan<br><b>Win Probability: </b>nan%<br><br><b>Change in ELO:</b> +nan<br>",
          "<br><b>Pre-Game ELO: </b>nan<br><b>Win Probability: </b>nan%<br><br><b>Change in ELO:</b> +nan<br>",
          "<br><b>Pre-Game ELO: </b>nan<br><b>Win Probability: </b>nan%<br><br><b>Change in ELO:</b> +nan<br>",
          "<br><b>Pre-Game ELO: </b>nan<br><b>Win Probability: </b>nan%<br><br><b>Change in ELO:</b> +nan<br>",
          "<br><b>Pre-Game ELO: </b>nan<br><b>Win Probability: </b>nan%<br><br><b>Change in ELO:</b> +nan<br>",
          "<br><b>Pre-Game ELO: </b>nan<br><b>Win Probability: </b>nan%<br><br><b>Change in ELO:</b> +nan<br>",
          "<br><b>Pre-Game ELO: </b>nan<br><b>Win Probability: </b>nan%<br><br><b>Change in ELO:</b> +nan<br>",
          "<br><b>Pre-Game ELO: </b>nan<br><b>Win Probability: </b>nan%<br><br><b>Change in ELO:</b> +nan<br>",
          "<br><b>Pre-Game ELO: </b>nan<br><b>Win Probability: </b>nan%<br><br><b>Change in ELO:</b> +nan<br>",
          "<br><b>Pre-Game ELO: </b>nan<br><b>Win Probability: </b>nan%<br><br><b>Change in ELO:</b> +nan<br>",
          "<br><b>Pre-Game ELO: </b>nan<br><b>Win Probability: </b>nan%<br><br><b>Change in ELO:</b> +nan<br>",
          "<br><b>Pre-Game ELO: </b>nan<br><b>Win Probability: </b>nan%<br><br><b>Change in ELO:</b> +nan<br>",
          "<br><b>Pre-Game ELO: </b>nan<br><b>Win Probability: </b>nan%<br><br><b>Change in ELO:</b> +nan<br>",
          "<br><b>Pre-Game ELO: </b>nan<br><b>Win Probability: </b>nan%<br><br><b>Change in ELO:</b> +nan<br>",
          "<br><b>Pre-Game ELO: </b>nan<br><b>Win Probability: </b>nan%<br><br><b>Change in ELO:</b> +nan<br>",
          "<br><b>Pre-Game ELO: </b>nan<br><b>Win Probability: </b>nan%<br><br><b>Change in ELO:</b> +nan<br>",
          "<br><b>Pre-Game ELO: </b>nan<br><b>Win Probability: </b>nan%<br><br><b>Change in ELO:</b> +nan<br>",
          "<br><b>Pre-Game ELO: </b>nan<br><b>Win Probability: </b>nan%<br><br><b>Change in ELO:</b> +nan<br>",
          "<br><b>Pre-Game ELO: </b>nan<br><b>Win Probability: </b>nan%<br><br><b>Change in ELO:</b> +nan<br>",
          "<br><b>Pre-Game ELO: </b>nan<br><b>Win Probability: </b>nan%<br><br><b>Change in ELO:</b> +nan<br>",
          "<br><b>Pre-Game ELO: </b>nan<br><b>Win Probability: </b>nan%<br><br><b>Change in ELO:</b> +nan<br>",
          "<br><b>Pre-Game ELO: </b>nan<br><b>Win Probability: </b>nan%<br><br><b>Change in ELO:</b> +nan<br>",
          "<br><b>Pre-Game ELO: </b>nan<br><b>Win Probability: </b>nan%<br><br><b>Change in ELO:</b> +nan<br>",
          "<br><b>Pre-Game ELO: </b>nan<br><b>Win Probability: </b>nan%<br><br><b>Change in ELO:</b> +nan<br>",
          "<br><b>Pre-Game ELO: </b>nan<br><b>Win Probability: </b>nan%<br><br><b>Change in ELO:</b> +nan<br>",
          "<br><b>Pre-Game ELO: </b>nan<br><b>Win Probability: </b>nan%<br><br><b>Change in ELO:</b> +nan<br>",
          "<br><b>Pre-Game ELO: </b>nan<br><b>Win Probability: </b>nan%<br><br><b>Change in ELO:</b> +nan<br>",
          "<br><b>Pre-Game ELO: </b>nan<br><b>Win Probability: </b>nan%<br><br><b>Change in ELO:</b> +nan<br>",
          "<br><b>Pre-Game ELO: </b>nan<br><b>Win Probability: </b>nan%<br><br><b>Change in ELO:</b> +nan<br>",
          "<br><b>Pre-Game ELO: </b>nan<br><b>Win Probability: </b>nan%<br><br><b>Change in ELO:</b> +nan<br>",
          "<br><b>Pre-Game ELO: </b>nan<br><b>Win Probability: </b>nan%<br><br><b>Change in ELO:</b> +nan<br>",
          "<br><b>Pre-Game ELO: </b>nan<br><b>Win Probability: </b>nan%<br><br><b>Change in ELO:</b> +nan<br>",
          "<br><b>Pre-Game ELO: </b>nan<br><b>Win Probability: </b>nan%<br><br><b>Change in ELO:</b> +nan<br>",
          "<br><b>Pre-Game ELO: </b>nan<br><b>Win Probability: </b>nan%<br><br><b>Change in ELO:</b> +nan<br>",
          "<br><b>Pre-Game ELO: </b>nan<br><b>Win Probability: </b>nan%<br><br><b>Change in ELO:</b> +nan<br>",
          "<br><b>Pre-Game ELO: </b>nan<br><b>Win Probability: </b>nan%<br><br><b>Change in ELO:</b> +nan<br>",
          "<br><b>Pre-Game ELO: </b>nan<br><b>Win Probability: </b>nan%<br><br><b>Change in ELO:</b> +nan<br>",
          "<br><b>Pre-Game ELO: </b>nan<br><b>Win Probability: </b>nan%<br><br><b>Change in ELO:</b> +nan<br>",
          "<br><b>Pre-Game ELO: </b>nan<br><b>Win Probability: </b>nan%<br><br><b>Change in ELO:</b> +nan<br>",
          "<br><b>Pre-Game ELO: </b>nan<br><b>Win Probability: </b>nan%<br><br><b>Change in ELO:</b> +nan<br>",
          "<br><b>Pre-Game ELO: </b>nan<br><b>Win Probability: </b>nan%<br><br><b>Change in ELO:</b> +nan<br>",
          "<br><b>Pre-Game ELO: </b>nan<br><b>Win Probability: </b>nan%<br><br><b>Change in ELO:</b> +nan<br>",
          "<br><b>Pre-Game ELO: </b>nan<br><b>Win Probability: </b>nan%<br><br><b>Change in ELO:</b> +nan<br>",
          "<br><b>Pre-Game ELO: </b>nan<br><b>Win Probability: </b>nan%<br><br><b>Change in ELO:</b> +nan<br>",
          "<br><b>Pre-Game ELO: </b>nan<br><b>Win Probability: </b>nan%<br><br><b>Change in ELO:</b> +nan<br>",
          "<br><b>Pre-Game ELO: </b>nan<br><b>Win Probability: </b>nan%<br><br><b>Change in ELO:</b> +nan<br>",
          "<br><b>Pre-Game ELO: </b>nan<br><b>Win Probability: </b>nan%<br><br><b>Change in ELO:</b> +nan<br>",
          "<br><b>Pre-Game ELO: </b>nan<br><b>Win Probability: </b>nan%<br><br><b>Change in ELO:</b> +nan<br>",
          "<br><b>Pre-Game ELO: </b>nan<br><b>Win Probability: </b>nan%<br><br><b>Change in ELO:</b> +nan<br>",
          "<br><b>Pre-Game ELO: </b>nan<br><b>Win Probability: </b>nan%<br><br><b>Change in ELO:</b> +nan<br>",
          "<br><b>Pre-Game ELO: </b>nan<br><b>Win Probability: </b>nan%<br><br><b>Change in ELO:</b> +nan<br>",
          "<br><b>Pre-Game ELO: </b>nan<br><b>Win Probability: </b>nan%<br><br><b>Change in ELO:</b> +nan<br>",
          "<br><b>Pre-Game ELO: </b>nan<br><b>Win Probability: </b>nan%<br><br><b>Change in ELO:</b> +nan<br>"
         ],
         "type": "scatter",
         "x": [
          1,
          2,
          3,
          4,
          5,
          6,
          7,
          8,
          9,
          10,
          11,
          12,
          13,
          14,
          15,
          16,
          17,
          18,
          19,
          20,
          21,
          22,
          23,
          24,
          25,
          26,
          27,
          28,
          29,
          30,
          31,
          32,
          33,
          34,
          35,
          36,
          37,
          38,
          39,
          40,
          41,
          42,
          43,
          44,
          45,
          46,
          47,
          48,
          49,
          50,
          51,
          52,
          53,
          54,
          55,
          56,
          57,
          58,
          59,
          60,
          61,
          62,
          63,
          64,
          65,
          66,
          67,
          68,
          69,
          70,
          71,
          72,
          73,
          74,
          75,
          76,
          77,
          78,
          79,
          80,
          81,
          82,
          83,
          84,
          85,
          86,
          87,
          88,
          89,
          90,
          91,
          92,
          93,
          94,
          95,
          96,
          97,
          98,
          99,
          100,
          101,
          102,
          103,
          104,
          105,
          106,
          107,
          108,
          109,
          110,
          111,
          112,
          113,
          114,
          115,
          116,
          117,
          118,
          119,
          120,
          121,
          122,
          123,
          124,
          125,
          126
         ],
         "y": [
          null,
          1184.5,
          null,
          1171.6141968246961,
          1156.1141968246961,
          null,
          null,
          1147.5574480492041,
          null,
          1138.3660964738315,
          1127.5848813539076,
          null,
          null,
          null,
          null,
          null,
          1118.4887658062921,
          null,
          null,
          null,
          1140.8118885235301,
          1130.9149646849257,
          null,
          1154.594709000781,
          null,
          null,
          1145.1351515177491,
          null,
          null,
          null,
          1134.6555871600212,
          1155.7406125587418,
          null,
          1174.7084687294896,
          null,
          null,
          null,
          1161.2123732263994,
          null,
          1145.847442344791,
          null,
          null,
          1134.4119486362379,
          null,
          null,
          null,
          1126.9528026904245,
          1120.934523817579,
          null,
          1107.6455966950925,
          null,
          null,
          1100.8324954376862,
          null,
          null,
          null,
          1092.8424553063014,
          null,
          null,
          null,
          null,
          null,
          null,
          null,
          null,
          null,
          null,
          null,
          null,
          null,
          null,
          null,
          null,
          null,
          null,
          null,
          null,
          null,
          null,
          null,
          null,
          null,
          null,
          null,
          null,
          null,
          null,
          null,
          null,
          null,
          null,
          null,
          null,
          null,
          null,
          null,
          null,
          null,
          null,
          null,
          null,
          null,
          null,
          null,
          null,
          null,
          null,
          null,
          null,
          null,
          null,
          null,
          null,
          null,
          null,
          null,
          null,
          null,
          null,
          null,
          null,
          null,
          null,
          null,
          null,
          null
         ]
        }
       ],
       "layout": {
        "annotations": [
         {
          "showarrow": false,
          "text": "2023-11-18",
          "x": 0.5,
          "xanchor": "left",
          "xref": "x",
          "y": 1,
          "yanchor": "top",
          "yref": "y domain"
         },
         {
          "showarrow": false,
          "text": "2023-12-02",
          "x": 15.5,
          "xanchor": "left",
          "xref": "x",
          "y": 1,
          "yanchor": "top",
          "yref": "y domain"
         },
         {
          "showarrow": false,
          "text": "2023-12-13",
          "x": 37.5,
          "xanchor": "left",
          "xref": "x",
          "y": 1,
          "yanchor": "top",
          "yref": "y domain"
         },
         {
          "showarrow": false,
          "text": "2024-01-28",
          "x": 60.5,
          "xanchor": "left",
          "xref": "x",
          "y": 1,
          "yanchor": "top",
          "yref": "y domain"
         },
         {
          "showarrow": false,
          "text": "2024-02-09",
          "x": 74.5,
          "xanchor": "left",
          "xref": "x",
          "y": 1,
          "yanchor": "top",
          "yref": "y domain"
         },
         {
          "showarrow": false,
          "text": "2024-02-18",
          "x": 90.5,
          "xanchor": "left",
          "xref": "x",
          "y": 1,
          "yanchor": "top",
          "yref": "y domain"
         },
         {
          "showarrow": false,
          "text": "2024-06-09",
          "x": 113.5,
          "xanchor": "left",
          "xref": "x",
          "y": 1,
          "yanchor": "top",
          "yref": "y domain"
         }
        ],
        "shapes": [
         {
          "fillcolor": "green",
          "line": {
           "width": 0
          },
          "opacity": 0.1,
          "type": "rect",
          "x0": 0.5,
          "x1": 15.5,
          "xref": "x",
          "y0": 0,
          "y1": 1,
          "yref": "y domain"
         },
         {
          "fillcolor": "red",
          "line": {
           "width": 0
          },
          "opacity": 0.1,
          "type": "rect",
          "x0": 15.5,
          "x1": 37.5,
          "xref": "x",
          "y0": 0,
          "y1": 1,
          "yref": "y domain"
         },
         {
          "fillcolor": "yellow",
          "line": {
           "width": 0
          },
          "opacity": 0.1,
          "type": "rect",
          "x0": 37.5,
          "x1": 60.5,
          "xref": "x",
          "y0": 0,
          "y1": 1,
          "yref": "y domain"
         },
         {
          "fillcolor": "blue",
          "line": {
           "width": 0
          },
          "opacity": 0.1,
          "type": "rect",
          "x0": 60.5,
          "x1": 74.5,
          "xref": "x",
          "y0": 0,
          "y1": 1,
          "yref": "y domain"
         },
         {
          "fillcolor": "orange",
          "line": {
           "width": 0
          },
          "opacity": 0.1,
          "type": "rect",
          "x0": 74.5,
          "x1": 90.5,
          "xref": "x",
          "y0": 0,
          "y1": 1,
          "yref": "y domain"
         },
         {
          "fillcolor": "green",
          "line": {
           "width": 0
          },
          "opacity": 0.1,
          "type": "rect",
          "x0": 90.5,
          "x1": 113.5,
          "xref": "x",
          "y0": 0,
          "y1": 1,
          "yref": "y domain"
         },
         {
          "fillcolor": "red",
          "line": {
           "width": 0
          },
          "opacity": 0.1,
          "type": "rect",
          "x0": 113.5,
          "x1": 126.5,
          "xref": "x",
          "y0": 0,
          "y1": 1,
          "yref": "y domain"
         }
        ],
        "template": {
         "data": {
          "bar": [
           {
            "error_x": {
             "color": "#2a3f5f"
            },
            "error_y": {
             "color": "#2a3f5f"
            },
            "marker": {
             "line": {
              "color": "#E5ECF6",
              "width": 0.5
             },
             "pattern": {
              "fillmode": "overlay",
              "size": 10,
              "solidity": 0.2
             }
            },
            "type": "bar"
           }
          ],
          "barpolar": [
           {
            "marker": {
             "line": {
              "color": "#E5ECF6",
              "width": 0.5
             },
             "pattern": {
              "fillmode": "overlay",
              "size": 10,
              "solidity": 0.2
             }
            },
            "type": "barpolar"
           }
          ],
          "carpet": [
           {
            "aaxis": {
             "endlinecolor": "#2a3f5f",
             "gridcolor": "white",
             "linecolor": "white",
             "minorgridcolor": "white",
             "startlinecolor": "#2a3f5f"
            },
            "baxis": {
             "endlinecolor": "#2a3f5f",
             "gridcolor": "white",
             "linecolor": "white",
             "minorgridcolor": "white",
             "startlinecolor": "#2a3f5f"
            },
            "type": "carpet"
           }
          ],
          "choropleth": [
           {
            "colorbar": {
             "outlinewidth": 0,
             "ticks": ""
            },
            "type": "choropleth"
           }
          ],
          "contour": [
           {
            "colorbar": {
             "outlinewidth": 0,
             "ticks": ""
            },
            "colorscale": [
             [
              0,
              "#0d0887"
             ],
             [
              0.1111111111111111,
              "#46039f"
             ],
             [
              0.2222222222222222,
              "#7201a8"
             ],
             [
              0.3333333333333333,
              "#9c179e"
             ],
             [
              0.4444444444444444,
              "#bd3786"
             ],
             [
              0.5555555555555556,
              "#d8576b"
             ],
             [
              0.6666666666666666,
              "#ed7953"
             ],
             [
              0.7777777777777778,
              "#fb9f3a"
             ],
             [
              0.8888888888888888,
              "#fdca26"
             ],
             [
              1,
              "#f0f921"
             ]
            ],
            "type": "contour"
           }
          ],
          "contourcarpet": [
           {
            "colorbar": {
             "outlinewidth": 0,
             "ticks": ""
            },
            "type": "contourcarpet"
           }
          ],
          "heatmap": [
           {
            "colorbar": {
             "outlinewidth": 0,
             "ticks": ""
            },
            "colorscale": [
             [
              0,
              "#0d0887"
             ],
             [
              0.1111111111111111,
              "#46039f"
             ],
             [
              0.2222222222222222,
              "#7201a8"
             ],
             [
              0.3333333333333333,
              "#9c179e"
             ],
             [
              0.4444444444444444,
              "#bd3786"
             ],
             [
              0.5555555555555556,
              "#d8576b"
             ],
             [
              0.6666666666666666,
              "#ed7953"
             ],
             [
              0.7777777777777778,
              "#fb9f3a"
             ],
             [
              0.8888888888888888,
              "#fdca26"
             ],
             [
              1,
              "#f0f921"
             ]
            ],
            "type": "heatmap"
           }
          ],
          "heatmapgl": [
           {
            "colorbar": {
             "outlinewidth": 0,
             "ticks": ""
            },
            "colorscale": [
             [
              0,
              "#0d0887"
             ],
             [
              0.1111111111111111,
              "#46039f"
             ],
             [
              0.2222222222222222,
              "#7201a8"
             ],
             [
              0.3333333333333333,
              "#9c179e"
             ],
             [
              0.4444444444444444,
              "#bd3786"
             ],
             [
              0.5555555555555556,
              "#d8576b"
             ],
             [
              0.6666666666666666,
              "#ed7953"
             ],
             [
              0.7777777777777778,
              "#fb9f3a"
             ],
             [
              0.8888888888888888,
              "#fdca26"
             ],
             [
              1,
              "#f0f921"
             ]
            ],
            "type": "heatmapgl"
           }
          ],
          "histogram": [
           {
            "marker": {
             "pattern": {
              "fillmode": "overlay",
              "size": 10,
              "solidity": 0.2
             }
            },
            "type": "histogram"
           }
          ],
          "histogram2d": [
           {
            "colorbar": {
             "outlinewidth": 0,
             "ticks": ""
            },
            "colorscale": [
             [
              0,
              "#0d0887"
             ],
             [
              0.1111111111111111,
              "#46039f"
             ],
             [
              0.2222222222222222,
              "#7201a8"
             ],
             [
              0.3333333333333333,
              "#9c179e"
             ],
             [
              0.4444444444444444,
              "#bd3786"
             ],
             [
              0.5555555555555556,
              "#d8576b"
             ],
             [
              0.6666666666666666,
              "#ed7953"
             ],
             [
              0.7777777777777778,
              "#fb9f3a"
             ],
             [
              0.8888888888888888,
              "#fdca26"
             ],
             [
              1,
              "#f0f921"
             ]
            ],
            "type": "histogram2d"
           }
          ],
          "histogram2dcontour": [
           {
            "colorbar": {
             "outlinewidth": 0,
             "ticks": ""
            },
            "colorscale": [
             [
              0,
              "#0d0887"
             ],
             [
              0.1111111111111111,
              "#46039f"
             ],
             [
              0.2222222222222222,
              "#7201a8"
             ],
             [
              0.3333333333333333,
              "#9c179e"
             ],
             [
              0.4444444444444444,
              "#bd3786"
             ],
             [
              0.5555555555555556,
              "#d8576b"
             ],
             [
              0.6666666666666666,
              "#ed7953"
             ],
             [
              0.7777777777777778,
              "#fb9f3a"
             ],
             [
              0.8888888888888888,
              "#fdca26"
             ],
             [
              1,
              "#f0f921"
             ]
            ],
            "type": "histogram2dcontour"
           }
          ],
          "mesh3d": [
           {
            "colorbar": {
             "outlinewidth": 0,
             "ticks": ""
            },
            "type": "mesh3d"
           }
          ],
          "parcoords": [
           {
            "line": {
             "colorbar": {
              "outlinewidth": 0,
              "ticks": ""
             }
            },
            "type": "parcoords"
           }
          ],
          "pie": [
           {
            "automargin": true,
            "type": "pie"
           }
          ],
          "scatter": [
           {
            "fillpattern": {
             "fillmode": "overlay",
             "size": 10,
             "solidity": 0.2
            },
            "type": "scatter"
           }
          ],
          "scatter3d": [
           {
            "line": {
             "colorbar": {
              "outlinewidth": 0,
              "ticks": ""
             }
            },
            "marker": {
             "colorbar": {
              "outlinewidth": 0,
              "ticks": ""
             }
            },
            "type": "scatter3d"
           }
          ],
          "scattercarpet": [
           {
            "marker": {
             "colorbar": {
              "outlinewidth": 0,
              "ticks": ""
             }
            },
            "type": "scattercarpet"
           }
          ],
          "scattergeo": [
           {
            "marker": {
             "colorbar": {
              "outlinewidth": 0,
              "ticks": ""
             }
            },
            "type": "scattergeo"
           }
          ],
          "scattergl": [
           {
            "marker": {
             "colorbar": {
              "outlinewidth": 0,
              "ticks": ""
             }
            },
            "type": "scattergl"
           }
          ],
          "scattermapbox": [
           {
            "marker": {
             "colorbar": {
              "outlinewidth": 0,
              "ticks": ""
             }
            },
            "type": "scattermapbox"
           }
          ],
          "scatterpolar": [
           {
            "marker": {
             "colorbar": {
              "outlinewidth": 0,
              "ticks": ""
             }
            },
            "type": "scatterpolar"
           }
          ],
          "scatterpolargl": [
           {
            "marker": {
             "colorbar": {
              "outlinewidth": 0,
              "ticks": ""
             }
            },
            "type": "scatterpolargl"
           }
          ],
          "scatterternary": [
           {
            "marker": {
             "colorbar": {
              "outlinewidth": 0,
              "ticks": ""
             }
            },
            "type": "scatterternary"
           }
          ],
          "surface": [
           {
            "colorbar": {
             "outlinewidth": 0,
             "ticks": ""
            },
            "colorscale": [
             [
              0,
              "#0d0887"
             ],
             [
              0.1111111111111111,
              "#46039f"
             ],
             [
              0.2222222222222222,
              "#7201a8"
             ],
             [
              0.3333333333333333,
              "#9c179e"
             ],
             [
              0.4444444444444444,
              "#bd3786"
             ],
             [
              0.5555555555555556,
              "#d8576b"
             ],
             [
              0.6666666666666666,
              "#ed7953"
             ],
             [
              0.7777777777777778,
              "#fb9f3a"
             ],
             [
              0.8888888888888888,
              "#fdca26"
             ],
             [
              1,
              "#f0f921"
             ]
            ],
            "type": "surface"
           }
          ],
          "table": [
           {
            "cells": {
             "fill": {
              "color": "#EBF0F8"
             },
             "line": {
              "color": "white"
             }
            },
            "header": {
             "fill": {
              "color": "#C8D4E3"
             },
             "line": {
              "color": "white"
             }
            },
            "type": "table"
           }
          ]
         },
         "layout": {
          "annotationdefaults": {
           "arrowcolor": "#2a3f5f",
           "arrowhead": 0,
           "arrowwidth": 1
          },
          "autotypenumbers": "strict",
          "coloraxis": {
           "colorbar": {
            "outlinewidth": 0,
            "ticks": ""
           }
          },
          "colorscale": {
           "diverging": [
            [
             0,
             "#8e0152"
            ],
            [
             0.1,
             "#c51b7d"
            ],
            [
             0.2,
             "#de77ae"
            ],
            [
             0.3,
             "#f1b6da"
            ],
            [
             0.4,
             "#fde0ef"
            ],
            [
             0.5,
             "#f7f7f7"
            ],
            [
             0.6,
             "#e6f5d0"
            ],
            [
             0.7,
             "#b8e186"
            ],
            [
             0.8,
             "#7fbc41"
            ],
            [
             0.9,
             "#4d9221"
            ],
            [
             1,
             "#276419"
            ]
           ],
           "sequential": [
            [
             0,
             "#0d0887"
            ],
            [
             0.1111111111111111,
             "#46039f"
            ],
            [
             0.2222222222222222,
             "#7201a8"
            ],
            [
             0.3333333333333333,
             "#9c179e"
            ],
            [
             0.4444444444444444,
             "#bd3786"
            ],
            [
             0.5555555555555556,
             "#d8576b"
            ],
            [
             0.6666666666666666,
             "#ed7953"
            ],
            [
             0.7777777777777778,
             "#fb9f3a"
            ],
            [
             0.8888888888888888,
             "#fdca26"
            ],
            [
             1,
             "#f0f921"
            ]
           ],
           "sequentialminus": [
            [
             0,
             "#0d0887"
            ],
            [
             0.1111111111111111,
             "#46039f"
            ],
            [
             0.2222222222222222,
             "#7201a8"
            ],
            [
             0.3333333333333333,
             "#9c179e"
            ],
            [
             0.4444444444444444,
             "#bd3786"
            ],
            [
             0.5555555555555556,
             "#d8576b"
            ],
            [
             0.6666666666666666,
             "#ed7953"
            ],
            [
             0.7777777777777778,
             "#fb9f3a"
            ],
            [
             0.8888888888888888,
             "#fdca26"
            ],
            [
             1,
             "#f0f921"
            ]
           ]
          },
          "colorway": [
           "#636efa",
           "#EF553B",
           "#00cc96",
           "#ab63fa",
           "#FFA15A",
           "#19d3f3",
           "#FF6692",
           "#B6E880",
           "#FF97FF",
           "#FECB52"
          ],
          "font": {
           "color": "#2a3f5f"
          },
          "geo": {
           "bgcolor": "white",
           "lakecolor": "white",
           "landcolor": "#E5ECF6",
           "showlakes": true,
           "showland": true,
           "subunitcolor": "white"
          },
          "hoverlabel": {
           "align": "left"
          },
          "hovermode": "closest",
          "mapbox": {
           "style": "light"
          },
          "paper_bgcolor": "white",
          "plot_bgcolor": "#E5ECF6",
          "polar": {
           "angularaxis": {
            "gridcolor": "white",
            "linecolor": "white",
            "ticks": ""
           },
           "bgcolor": "#E5ECF6",
           "radialaxis": {
            "gridcolor": "white",
            "linecolor": "white",
            "ticks": ""
           }
          },
          "scene": {
           "xaxis": {
            "backgroundcolor": "#E5ECF6",
            "gridcolor": "white",
            "gridwidth": 2,
            "linecolor": "white",
            "showbackground": true,
            "ticks": "",
            "zerolinecolor": "white"
           },
           "yaxis": {
            "backgroundcolor": "#E5ECF6",
            "gridcolor": "white",
            "gridwidth": 2,
            "linecolor": "white",
            "showbackground": true,
            "ticks": "",
            "zerolinecolor": "white"
           },
           "zaxis": {
            "backgroundcolor": "#E5ECF6",
            "gridcolor": "white",
            "gridwidth": 2,
            "linecolor": "white",
            "showbackground": true,
            "ticks": "",
            "zerolinecolor": "white"
           }
          },
          "shapedefaults": {
           "line": {
            "color": "#2a3f5f"
           }
          },
          "ternary": {
           "aaxis": {
            "gridcolor": "white",
            "linecolor": "white",
            "ticks": ""
           },
           "baxis": {
            "gridcolor": "white",
            "linecolor": "white",
            "ticks": ""
           },
           "bgcolor": "#E5ECF6",
           "caxis": {
            "gridcolor": "white",
            "linecolor": "white",
            "ticks": ""
           }
          },
          "title": {
           "x": 0.05
          },
          "xaxis": {
           "automargin": true,
           "gridcolor": "white",
           "linecolor": "white",
           "ticks": "",
           "title": {
            "standoff": 15
           },
           "zerolinecolor": "white",
           "zerolinewidth": 2
          },
          "yaxis": {
           "automargin": true,
           "gridcolor": "white",
           "linecolor": "white",
           "ticks": "",
           "title": {
            "standoff": 15
           },
           "zerolinecolor": "white",
           "zerolinewidth": 2
          }
         }
        },
        "title": {
         "text": "<b>Pokémon Showdown ELO Rating System by Roman Ramirez</b><br><i>Updated Sunday, Jun 09, 2024 20:53:29 CT</i><br><a href='https://htmlpreview.github.io/?https://github.com/notromanramirez/dgn_showdown/blob/main/figures/fig1.html'>H2H Stats</a>, <a href='https://htmlpreview.github.io/?https://github.com/notromanramirez/dgn_showdown/blob/main/figures/fig2.html'>H2H Advanced Stats</a>, <a href='https://htmlpreview.github.io/?https://github.com/notromanramirez/dgn_showdown/blob/main/figures/fig3.html'>H2H More Stats</a>, <a href='https://htmlpreview.github.io/?https://github.com/notromanramirez/dgn_showdown/blob/main/figures/fig4.html'>Player Data</a>, <a href='https://htmlpreview.github.io/?https://github.com/notromanramirez/dgn_showdown/blob/main/figures/fig5.html'>Matches Data</a>, <a href='https://htmlpreview.github.io/?https://github.com/notromanramirez/dgn_showdown/blob/main/figures/fig6.html'>Money-Lines</a>"
        },
        "xaxis": {
         "title": {
          "text": "<b>Game Number</b>"
         }
        },
        "yaxis": {
         "title": {
          "text": "<b>ELO Rating</b>"
         }
        }
       }
      }
     },
     "metadata": {},
     "output_type": "display_data"
    }
   ],
   "source": [
    "import plotly.graph_objects as go\n",
    "import plotly.colors as pc\n",
    "\n",
    "fig = go.Figure()\n",
    "\n",
    "# adding player\n",
    "ranking = 1\n",
    "trace_colors = pc.qualitative.Bold\n",
    "for (i, (player, current_rating)) in enumerate(sorted(elo.items(), key=lambda x:x[1], reverse=True)):\n",
    "    fig.add_trace(go.Scatter(\n",
    "        x=elo_time_table.index,\n",
    "        y=elo_time_table[player],\n",
    "        name=f'#{ranking} ({current_rating:.0f}) {player}',\n",
    "        mode='lines+markers',\n",
    "        connectgaps=True,\n",
    "        text=[\n",
    "            f\"<br><b>Pre-Game ELO: </b>{x[1]:.0f}<br><b>Win Probability: </b>{x[0]:.1%}<br><br><b>Change in ELO:</b> {x[2]:+.0f}<br>\" for x in zip(\n",
    "                exp_elo_time_table[player],\n",
    "                prev_elo_time_table[player],\n",
    "                d_elo_time_table[player]\n",
    "            )\n",
    "        ],\n",
    "        line=dict(\n",
    "            shape='hv',\n",
    "            color=trace_colors[i % len(trace_colors)]\n",
    "        )\n",
    "    ))\n",
    "    ranking += 1\n",
    "\n",
    "# adding highlighting by tournament\n",
    "tournaments = list(sorted(set(matches_table['Date'])))\n",
    "vrect_colors = ['green', 'red', 'yellow', 'blue', 'orange']\n",
    "for (i, tourney) in enumerate(tournaments):\n",
    "    fig.add_vrect(\n",
    "        annotation_text=tourney,\n",
    "        annotation_position=\"top left\",\n",
    "        x0=matches_table['Date'][matches_table['Date'] == tourney].index[0] + 0.5,\n",
    "        x1=matches_table['Date'][matches_table['Date'] == tourney].index[-1] + 1.5,\n",
    "        fillcolor=vrect_colors[i % len(vrect_colors)],\n",
    "        opacity=0.1,\n",
    "        line_width=0\n",
    "    )\n",
    "\n",
    "fig.update_layout(\n",
    "    title=f'<b>Pokémon Showdown ELO Rating System by Roman Ramirez</b><br>{updated_time}<br>{link_fig1}, {link_fig2}, {link_fig3}, {link_fig4}, {link_fig5}, {link_fig6}',\n",
    "    xaxis_title='<b>Game Number</b>',\n",
    "    yaxis_title='<b>ELO Rating</b>'\n",
    ")\n",
    "\n",
    "customdata = np.stack((\n",
    "        list(matches_table['Player 1']),\n",
    "        list(matches_table['Player 2']),\n",
    "        list(matches_table['Score 1']),\n",
    "        list(matches_table['Score 2']),\n",
    "        matches_table['Date'],\n",
    "        list(matches_table['Format']),\n",
    "        list(matches_table['Match Number'])\n",
    "    ), axis=-1)\n",
    "hovertemplate = (\n",
    "    '<i>%{customdata[4]|%A, %B %d, %Y}, Game %{x}</i><br>' +\n",
    "    '<b>%{fullData.name}</b><br><br>' + \n",
    "    '<b>Format:</b> %{customdata[5]}<br>' + \n",
    "    '<b>Tournament Match:</b> %{customdata[6]}<br><br>' + \n",
    "    '<b>%{customdata[0]} vs. %{customdata[1]}</b><br>' +\n",
    "    '<b>Final Score:</b> %{customdata[2]}-%{customdata[3]}<br>' + \n",
    "    '%{text}' + \n",
    "    '<b>Post-Game ELO:</b> %{y:,.0f}<br>' +\n",
    "    '<extra></extra>'\n",
    ")\n",
    "\n",
    "fig.update_traces(\n",
    "    customdata=customdata,\n",
    "    hovertemplate=hovertemplate,\n",
    "    opacity=0.8,\n",
    "    legendgrouptitle_text='<b>#<i>Rank</i> (<i>Current ELO</i>) <i>Player</i></b>'\n",
    ")\n",
    "\n",
    "fig.show()\n",
    "fig.write_html(\"index.html\")"
   ]
  },
  {
   "cell_type": "code",
   "execution_count": null,
   "metadata": {},
   "outputs": [],
   "source": []
  },
  {
   "cell_type": "code",
   "execution_count": 8,
   "metadata": {},
   "outputs": [],
   "source": [
    "# historical table, with record_table\n",
    "win_pct_table = record_table.copy(deep=True)\n",
    "text_record_table = record_table.copy(deep=True)\n",
    "\n",
    "for c in win_pct_table.columns:\n",
    "    for r in win_pct_table.index:\n",
    "        if c == r:\n",
    "            win_pct_table.loc[r, c] = np.NaN\n",
    "            text_record_table.loc[r, c] = \"\"\n",
    "        else:\n",
    "            w, l = win_pct_table.loc[r, c]\n",
    "            w_pct = (w) / (w + l) if (w + l) != 0 else 0\n",
    "            win_pct_table.loc[r, c] = w_pct\n",
    "            text_record_table.loc[r, c] = f\"{w}-{l}<br>{w_pct:,.1%}\"\n",
    "\n",
    "\n",
    "for c in record_table.columns:\n",
    "    for r in record_table.index:\n",
    "        if sum(record_table.loc[r, c]) == 0:\n",
    "            text_record_table.loc[r, c] = \"\"\n",
    "            win_pct_table.loc[r, c] = np.NaN\n",
    "\n",
    "win_prob_table = pd.DataFrame(np.zeros([len(set_players), len(set_players)]), dtype=object)\n",
    "win_prob_table.columns = set_players\n",
    "win_prob_table.index = set_players\n",
    "sort_index_by_elo(win_prob_table, elo)\n",
    "\n",
    "for c in win_prob_table.columns:\n",
    "    for r in win_prob_table.index:\n",
    "            if r != c:\n",
    "                win_prob_table.loc[r, c] = expected_score(elo[r], elo[c], base=base)\n",
    "            else:\n",
    "                win_prob_table.loc[r, c] = np.NaN\n"
   ]
  },
  {
   "cell_type": "code",
   "execution_count": 9,
   "metadata": {},
   "outputs": [
    {
     "data": {
      "application/vnd.plotly.v1+json": {
       "config": {
        "plotlyServerURL": "https://plot.ly"
       },
       "data": [
        {
         "colorscale": [
          [
           0,
           "rgb(5,48,97)"
          ],
          [
           0.1,
           "rgb(33,102,172)"
          ],
          [
           0.2,
           "rgb(67,147,195)"
          ],
          [
           0.3,
           "rgb(146,197,222)"
          ],
          [
           0.4,
           "rgb(209,229,240)"
          ],
          [
           0.5,
           "rgb(247,247,247)"
          ],
          [
           0.6,
           "rgb(253,219,199)"
          ],
          [
           0.7,
           "rgb(244,165,130)"
          ],
          [
           0.8,
           "rgb(214,96,77)"
          ],
          [
           0.9,
           "rgb(178,24,43)"
          ],
          [
           1,
           "rgb(103,0,31)"
          ]
         ],
         "hoverinfo": "skip",
         "hoverongaps": false,
         "text": [
          [
           "",
           "",
           "1-5<br>16.7%",
           "2-4<br>33.3%",
           "",
           "0-6<br>0.0%",
           "1-3<br>25.0%"
          ],
          [
           "",
           "",
           "0-2<br>0.0%",
           "0-2<br>0.0%",
           "",
           "1-1<br>50.0%",
           "0-2<br>0.0%"
          ],
          [
           "5-1<br>83.3%",
           "2-0<br>100.0%",
           "",
           "10-5<br>66.7%",
           "0-3<br>0.0%",
           "5-12<br>29.4%",
           "3-10<br>23.1%"
          ],
          [
           "4-2<br>66.7%",
           "2-0<br>100.0%",
           "5-10<br>33.3%",
           "",
           "0-2<br>0.0%",
           "8-7<br>53.3%",
           "5-9<br>35.7%"
          ],
          [
           "",
           "",
           "3-0<br>100.0%",
           "2-0<br>100.0%",
           "",
           "0-3<br>0.0%",
           ""
          ],
          [
           "6-0<br>100.0%",
           "1-1<br>50.0%",
           "12-5<br>70.6%",
           "7-8<br>46.7%",
           "3-0<br>100.0%",
           "",
           "4-10<br>28.6%"
          ],
          [
           "3-1<br>75.0%",
           "2-0<br>100.0%",
           "10-3<br>76.9%",
           "9-5<br>64.3%",
           "",
           "10-4<br>71.4%",
           ""
          ]
         ],
         "texttemplate": "%{text}",
         "type": "heatmap",
         "x": [
          "Paul<br>Bartenfeld",
          "Jack<br>Massingill",
          "Evan<br>Sooklal",
          "Roman<br>Ramirez",
          "Lilith<br>Karyadi",
          "Will<br>Simpson",
          "Aaron<br>Carter"
         ],
         "xaxis": "x",
         "y": [
          "Paul<br>Bartenfeld",
          "Jack<br>Massingill",
          "Evan<br>Sooklal",
          "Roman<br>Ramirez",
          "Lilith<br>Karyadi",
          "Will<br>Simpson",
          "Aaron<br>Carter"
         ],
         "yaxis": "y",
         "z": [
          [
           null,
           null,
           0.16666666666666666,
           0.3333333333333333,
           null,
           0,
           0.25
          ],
          [
           null,
           null,
           0,
           0,
           null,
           0.5,
           0
          ],
          [
           0.8333333333333334,
           1,
           null,
           0.6666666666666666,
           0,
           0.29411764705882354,
           0.23076923076923078
          ],
          [
           0.6666666666666666,
           1,
           0.3333333333333333,
           null,
           0,
           0.5333333333333333,
           0.35714285714285715
          ],
          [
           null,
           null,
           1,
           1,
           null,
           0,
           null
          ],
          [
           1,
           0.5,
           0.7058823529411765,
           0.4666666666666667,
           1,
           null,
           0.2857142857142857
          ],
          [
           0.75,
           1,
           0.7692307692307693,
           0.6428571428571429,
           null,
           0.7142857142857143,
           null
          ]
         ],
         "zmax": 1,
         "zmid": 0.5,
         "zmin": 0
        },
        {
         "colorscale": [
          [
           0,
           "rgb(5,48,97)"
          ],
          [
           0.1,
           "rgb(33,102,172)"
          ],
          [
           0.2,
           "rgb(67,147,195)"
          ],
          [
           0.3,
           "rgb(146,197,222)"
          ],
          [
           0.4,
           "rgb(209,229,240)"
          ],
          [
           0.5,
           "rgb(247,247,247)"
          ],
          [
           0.6,
           "rgb(253,219,199)"
          ],
          [
           0.7,
           "rgb(244,165,130)"
          ],
          [
           0.8,
           "rgb(214,96,77)"
          ],
          [
           0.9,
           "rgb(178,24,43)"
          ],
          [
           1,
           "rgb(103,0,31)"
          ]
         ],
         "hoverinfo": "skip",
         "hoverongaps": false,
         "text": [
          [
           "",
           "35.0%",
           "28.1%",
           "23.4%",
           "18.9%",
           "18.8%",
           "7.1%"
          ],
          [
           "65.0%",
           "",
           "42.1%",
           "36.3%",
           "30.1%",
           "30.1%",
           "12.4%"
          ],
          [
           "71.9%",
           "57.9%",
           "",
           "43.9%",
           "37.2%",
           "37.2%",
           "16.2%"
          ],
          [
           "76.6%",
           "63.7%",
           "56.1%",
           "",
           "43.1%",
           "43.1%",
           "19.9%"
          ],
          [
           "81.1%",
           "69.9%",
           "62.8%",
           "56.9%",
           "",
           "49.9%",
           "24.6%"
          ],
          [
           "81.2%",
           "69.9%",
           "62.8%",
           "56.9%",
           "50.1%",
           "",
           "24.7%"
          ],
          [
           "92.9%",
           "87.6%",
           "83.8%",
           "80.1%",
           "75.4%",
           "75.3%",
           ""
          ]
         ],
         "texttemplate": "%{text}",
         "type": "heatmap",
         "x": [
          "Paul<br>Bartenfeld",
          "Jack<br>Massingill",
          "Evan<br>Sooklal",
          "Roman<br>Ramirez",
          "Lilith<br>Karyadi",
          "Will<br>Simpson",
          "Aaron<br>Carter"
         ],
         "xaxis": "x2",
         "y": [
          "Paul<br>Bartenfeld",
          "Jack<br>Massingill",
          "Evan<br>Sooklal",
          "Roman<br>Ramirez",
          "Lilith<br>Karyadi",
          "Will<br>Simpson",
          "Aaron<br>Carter"
         ],
         "yaxis": "y2",
         "z": [
          [
           null,
           0.35002613257967097,
           0.28139353321936306,
           0.23447201177532953,
           0.18850389602925563,
           0.1880146759268097,
           0.07054910883709642
          ],
          [
           0.649973867420329,
           null,
           0.4210083550309316,
           0.3625519043776917,
           0.30135862220729465,
           0.30068503748880215,
           0.12353626373797795
          ],
          [
           0.718606466780637,
           0.5789916449690684,
           null,
           0.43888958484054114,
           0.3723376636013805,
           0.3715898110649301,
           0.1623664065427281
          ],
          [
           0.7655279882246705,
           0.6374480956223083,
           0.5611104151594588,
           null,
           0.43130436316354276,
           0.4305193107786397,
           0.1986019209578065
          ],
          [
           0.8114961039707445,
           0.6986413777927054,
           0.6276623363986196,
           0.5686956368364572,
           null,
           0.49919966760435186,
           0.24628516624969887
          ],
          [
           0.8119853240731902,
           0.6993149625111978,
           0.62841018893507,
           0.5694806892213603,
           0.500800332395648,
           null,
           0.24687990822871642
          ],
          [
           0.9294508911629036,
           0.876463736262022,
           0.8376335934572718,
           0.8013980790421935,
           0.7537148337503012,
           0.7531200917712836,
           null
          ]
         ],
         "zmax": 1,
         "zmid": 0.5,
         "zmin": 0
        }
       ],
       "layout": {
        "annotations": [
         {
          "font": {
           "size": 16
          },
          "showarrow": false,
          "text": "<b>Historical Win Percentage</b>",
          "x": 0.225,
          "xanchor": "center",
          "xref": "paper",
          "y": 1,
          "yanchor": "bottom",
          "yref": "paper"
         },
         {
          "font": {
           "size": 16
          },
          "showarrow": false,
          "text": "<b>Current Matchup Predictor</b>",
          "x": 0.775,
          "xanchor": "center",
          "xref": "paper",
          "y": 1,
          "yanchor": "bottom",
          "yref": "paper"
         },
         {
          "font": {
           "size": 16
          },
          "showarrow": false,
          "text": "<a href='https://htmlpreview.github.io/?https://github.com/notromanramirez/dgn_showdown/blob/main/index.html'>ELO Graph</a>, <a href='https://htmlpreview.github.io/?https://github.com/notromanramirez/dgn_showdown/blob/main/figures/fig2.html'>H2H Advanced Stats</a>, <a href='https://htmlpreview.github.io/?https://github.com/notromanramirez/dgn_showdown/blob/main/figures/fig3.html'>H2H More Stats</a>, <a href='https://htmlpreview.github.io/?https://github.com/notromanramirez/dgn_showdown/blob/main/figures/fig4.html'>Player Data</a>, <a href='https://htmlpreview.github.io/?https://github.com/notromanramirez/dgn_showdown/blob/main/figures/fig5.html'>Matches Data</a>, <a href='https://htmlpreview.github.io/?https://github.com/notromanramirez/dgn_showdown/blob/main/figures/fig6.html'>Money-Lines</a>",
          "x": 0.5,
          "xanchor": "center",
          "xref": "paper",
          "y": 0,
          "yanchor": "top",
          "yref": "paper",
          "yshift": -30
         }
        ],
        "template": {
         "data": {
          "bar": [
           {
            "error_x": {
             "color": "#2a3f5f"
            },
            "error_y": {
             "color": "#2a3f5f"
            },
            "marker": {
             "line": {
              "color": "#E5ECF6",
              "width": 0.5
             },
             "pattern": {
              "fillmode": "overlay",
              "size": 10,
              "solidity": 0.2
             }
            },
            "type": "bar"
           }
          ],
          "barpolar": [
           {
            "marker": {
             "line": {
              "color": "#E5ECF6",
              "width": 0.5
             },
             "pattern": {
              "fillmode": "overlay",
              "size": 10,
              "solidity": 0.2
             }
            },
            "type": "barpolar"
           }
          ],
          "carpet": [
           {
            "aaxis": {
             "endlinecolor": "#2a3f5f",
             "gridcolor": "white",
             "linecolor": "white",
             "minorgridcolor": "white",
             "startlinecolor": "#2a3f5f"
            },
            "baxis": {
             "endlinecolor": "#2a3f5f",
             "gridcolor": "white",
             "linecolor": "white",
             "minorgridcolor": "white",
             "startlinecolor": "#2a3f5f"
            },
            "type": "carpet"
           }
          ],
          "choropleth": [
           {
            "colorbar": {
             "outlinewidth": 0,
             "ticks": ""
            },
            "type": "choropleth"
           }
          ],
          "contour": [
           {
            "colorbar": {
             "outlinewidth": 0,
             "ticks": ""
            },
            "colorscale": [
             [
              0,
              "#0d0887"
             ],
             [
              0.1111111111111111,
              "#46039f"
             ],
             [
              0.2222222222222222,
              "#7201a8"
             ],
             [
              0.3333333333333333,
              "#9c179e"
             ],
             [
              0.4444444444444444,
              "#bd3786"
             ],
             [
              0.5555555555555556,
              "#d8576b"
             ],
             [
              0.6666666666666666,
              "#ed7953"
             ],
             [
              0.7777777777777778,
              "#fb9f3a"
             ],
             [
              0.8888888888888888,
              "#fdca26"
             ],
             [
              1,
              "#f0f921"
             ]
            ],
            "type": "contour"
           }
          ],
          "contourcarpet": [
           {
            "colorbar": {
             "outlinewidth": 0,
             "ticks": ""
            },
            "type": "contourcarpet"
           }
          ],
          "heatmap": [
           {
            "colorbar": {
             "outlinewidth": 0,
             "ticks": ""
            },
            "colorscale": [
             [
              0,
              "#0d0887"
             ],
             [
              0.1111111111111111,
              "#46039f"
             ],
             [
              0.2222222222222222,
              "#7201a8"
             ],
             [
              0.3333333333333333,
              "#9c179e"
             ],
             [
              0.4444444444444444,
              "#bd3786"
             ],
             [
              0.5555555555555556,
              "#d8576b"
             ],
             [
              0.6666666666666666,
              "#ed7953"
             ],
             [
              0.7777777777777778,
              "#fb9f3a"
             ],
             [
              0.8888888888888888,
              "#fdca26"
             ],
             [
              1,
              "#f0f921"
             ]
            ],
            "type": "heatmap"
           }
          ],
          "heatmapgl": [
           {
            "colorbar": {
             "outlinewidth": 0,
             "ticks": ""
            },
            "colorscale": [
             [
              0,
              "#0d0887"
             ],
             [
              0.1111111111111111,
              "#46039f"
             ],
             [
              0.2222222222222222,
              "#7201a8"
             ],
             [
              0.3333333333333333,
              "#9c179e"
             ],
             [
              0.4444444444444444,
              "#bd3786"
             ],
             [
              0.5555555555555556,
              "#d8576b"
             ],
             [
              0.6666666666666666,
              "#ed7953"
             ],
             [
              0.7777777777777778,
              "#fb9f3a"
             ],
             [
              0.8888888888888888,
              "#fdca26"
             ],
             [
              1,
              "#f0f921"
             ]
            ],
            "type": "heatmapgl"
           }
          ],
          "histogram": [
           {
            "marker": {
             "pattern": {
              "fillmode": "overlay",
              "size": 10,
              "solidity": 0.2
             }
            },
            "type": "histogram"
           }
          ],
          "histogram2d": [
           {
            "colorbar": {
             "outlinewidth": 0,
             "ticks": ""
            },
            "colorscale": [
             [
              0,
              "#0d0887"
             ],
             [
              0.1111111111111111,
              "#46039f"
             ],
             [
              0.2222222222222222,
              "#7201a8"
             ],
             [
              0.3333333333333333,
              "#9c179e"
             ],
             [
              0.4444444444444444,
              "#bd3786"
             ],
             [
              0.5555555555555556,
              "#d8576b"
             ],
             [
              0.6666666666666666,
              "#ed7953"
             ],
             [
              0.7777777777777778,
              "#fb9f3a"
             ],
             [
              0.8888888888888888,
              "#fdca26"
             ],
             [
              1,
              "#f0f921"
             ]
            ],
            "type": "histogram2d"
           }
          ],
          "histogram2dcontour": [
           {
            "colorbar": {
             "outlinewidth": 0,
             "ticks": ""
            },
            "colorscale": [
             [
              0,
              "#0d0887"
             ],
             [
              0.1111111111111111,
              "#46039f"
             ],
             [
              0.2222222222222222,
              "#7201a8"
             ],
             [
              0.3333333333333333,
              "#9c179e"
             ],
             [
              0.4444444444444444,
              "#bd3786"
             ],
             [
              0.5555555555555556,
              "#d8576b"
             ],
             [
              0.6666666666666666,
              "#ed7953"
             ],
             [
              0.7777777777777778,
              "#fb9f3a"
             ],
             [
              0.8888888888888888,
              "#fdca26"
             ],
             [
              1,
              "#f0f921"
             ]
            ],
            "type": "histogram2dcontour"
           }
          ],
          "mesh3d": [
           {
            "colorbar": {
             "outlinewidth": 0,
             "ticks": ""
            },
            "type": "mesh3d"
           }
          ],
          "parcoords": [
           {
            "line": {
             "colorbar": {
              "outlinewidth": 0,
              "ticks": ""
             }
            },
            "type": "parcoords"
           }
          ],
          "pie": [
           {
            "automargin": true,
            "type": "pie"
           }
          ],
          "scatter": [
           {
            "fillpattern": {
             "fillmode": "overlay",
             "size": 10,
             "solidity": 0.2
            },
            "type": "scatter"
           }
          ],
          "scatter3d": [
           {
            "line": {
             "colorbar": {
              "outlinewidth": 0,
              "ticks": ""
             }
            },
            "marker": {
             "colorbar": {
              "outlinewidth": 0,
              "ticks": ""
             }
            },
            "type": "scatter3d"
           }
          ],
          "scattercarpet": [
           {
            "marker": {
             "colorbar": {
              "outlinewidth": 0,
              "ticks": ""
             }
            },
            "type": "scattercarpet"
           }
          ],
          "scattergeo": [
           {
            "marker": {
             "colorbar": {
              "outlinewidth": 0,
              "ticks": ""
             }
            },
            "type": "scattergeo"
           }
          ],
          "scattergl": [
           {
            "marker": {
             "colorbar": {
              "outlinewidth": 0,
              "ticks": ""
             }
            },
            "type": "scattergl"
           }
          ],
          "scattermapbox": [
           {
            "marker": {
             "colorbar": {
              "outlinewidth": 0,
              "ticks": ""
             }
            },
            "type": "scattermapbox"
           }
          ],
          "scatterpolar": [
           {
            "marker": {
             "colorbar": {
              "outlinewidth": 0,
              "ticks": ""
             }
            },
            "type": "scatterpolar"
           }
          ],
          "scatterpolargl": [
           {
            "marker": {
             "colorbar": {
              "outlinewidth": 0,
              "ticks": ""
             }
            },
            "type": "scatterpolargl"
           }
          ],
          "scatterternary": [
           {
            "marker": {
             "colorbar": {
              "outlinewidth": 0,
              "ticks": ""
             }
            },
            "type": "scatterternary"
           }
          ],
          "surface": [
           {
            "colorbar": {
             "outlinewidth": 0,
             "ticks": ""
            },
            "colorscale": [
             [
              0,
              "#0d0887"
             ],
             [
              0.1111111111111111,
              "#46039f"
             ],
             [
              0.2222222222222222,
              "#7201a8"
             ],
             [
              0.3333333333333333,
              "#9c179e"
             ],
             [
              0.4444444444444444,
              "#bd3786"
             ],
             [
              0.5555555555555556,
              "#d8576b"
             ],
             [
              0.6666666666666666,
              "#ed7953"
             ],
             [
              0.7777777777777778,
              "#fb9f3a"
             ],
             [
              0.8888888888888888,
              "#fdca26"
             ],
             [
              1,
              "#f0f921"
             ]
            ],
            "type": "surface"
           }
          ],
          "table": [
           {
            "cells": {
             "fill": {
              "color": "#EBF0F8"
             },
             "line": {
              "color": "white"
             }
            },
            "header": {
             "fill": {
              "color": "#C8D4E3"
             },
             "line": {
              "color": "white"
             }
            },
            "type": "table"
           }
          ]
         },
         "layout": {
          "annotationdefaults": {
           "arrowcolor": "#2a3f5f",
           "arrowhead": 0,
           "arrowwidth": 1
          },
          "autotypenumbers": "strict",
          "coloraxis": {
           "colorbar": {
            "outlinewidth": 0,
            "ticks": ""
           }
          },
          "colorscale": {
           "diverging": [
            [
             0,
             "#8e0152"
            ],
            [
             0.1,
             "#c51b7d"
            ],
            [
             0.2,
             "#de77ae"
            ],
            [
             0.3,
             "#f1b6da"
            ],
            [
             0.4,
             "#fde0ef"
            ],
            [
             0.5,
             "#f7f7f7"
            ],
            [
             0.6,
             "#e6f5d0"
            ],
            [
             0.7,
             "#b8e186"
            ],
            [
             0.8,
             "#7fbc41"
            ],
            [
             0.9,
             "#4d9221"
            ],
            [
             1,
             "#276419"
            ]
           ],
           "sequential": [
            [
             0,
             "#0d0887"
            ],
            [
             0.1111111111111111,
             "#46039f"
            ],
            [
             0.2222222222222222,
             "#7201a8"
            ],
            [
             0.3333333333333333,
             "#9c179e"
            ],
            [
             0.4444444444444444,
             "#bd3786"
            ],
            [
             0.5555555555555556,
             "#d8576b"
            ],
            [
             0.6666666666666666,
             "#ed7953"
            ],
            [
             0.7777777777777778,
             "#fb9f3a"
            ],
            [
             0.8888888888888888,
             "#fdca26"
            ],
            [
             1,
             "#f0f921"
            ]
           ],
           "sequentialminus": [
            [
             0,
             "#0d0887"
            ],
            [
             0.1111111111111111,
             "#46039f"
            ],
            [
             0.2222222222222222,
             "#7201a8"
            ],
            [
             0.3333333333333333,
             "#9c179e"
            ],
            [
             0.4444444444444444,
             "#bd3786"
            ],
            [
             0.5555555555555556,
             "#d8576b"
            ],
            [
             0.6666666666666666,
             "#ed7953"
            ],
            [
             0.7777777777777778,
             "#fb9f3a"
            ],
            [
             0.8888888888888888,
             "#fdca26"
            ],
            [
             1,
             "#f0f921"
            ]
           ]
          },
          "colorway": [
           "#636efa",
           "#EF553B",
           "#00cc96",
           "#ab63fa",
           "#FFA15A",
           "#19d3f3",
           "#FF6692",
           "#B6E880",
           "#FF97FF",
           "#FECB52"
          ],
          "font": {
           "color": "#2a3f5f"
          },
          "geo": {
           "bgcolor": "white",
           "lakecolor": "white",
           "landcolor": "#E5ECF6",
           "showlakes": true,
           "showland": true,
           "subunitcolor": "white"
          },
          "hoverlabel": {
           "align": "left"
          },
          "hovermode": "closest",
          "mapbox": {
           "style": "light"
          },
          "paper_bgcolor": "white",
          "plot_bgcolor": "#E5ECF6",
          "polar": {
           "angularaxis": {
            "gridcolor": "white",
            "linecolor": "white",
            "ticks": ""
           },
           "bgcolor": "#E5ECF6",
           "radialaxis": {
            "gridcolor": "white",
            "linecolor": "white",
            "ticks": ""
           }
          },
          "scene": {
           "xaxis": {
            "backgroundcolor": "#E5ECF6",
            "gridcolor": "white",
            "gridwidth": 2,
            "linecolor": "white",
            "showbackground": true,
            "ticks": "",
            "zerolinecolor": "white"
           },
           "yaxis": {
            "backgroundcolor": "#E5ECF6",
            "gridcolor": "white",
            "gridwidth": 2,
            "linecolor": "white",
            "showbackground": true,
            "ticks": "",
            "zerolinecolor": "white"
           },
           "zaxis": {
            "backgroundcolor": "#E5ECF6",
            "gridcolor": "white",
            "gridwidth": 2,
            "linecolor": "white",
            "showbackground": true,
            "ticks": "",
            "zerolinecolor": "white"
           }
          },
          "shapedefaults": {
           "line": {
            "color": "#2a3f5f"
           }
          },
          "ternary": {
           "aaxis": {
            "gridcolor": "white",
            "linecolor": "white",
            "ticks": ""
           },
           "baxis": {
            "gridcolor": "white",
            "linecolor": "white",
            "ticks": ""
           },
           "bgcolor": "#E5ECF6",
           "caxis": {
            "gridcolor": "white",
            "linecolor": "white",
            "ticks": ""
           }
          },
          "title": {
           "x": 0.05
          },
          "xaxis": {
           "automargin": true,
           "gridcolor": "white",
           "linecolor": "white",
           "ticks": "",
           "title": {
            "standoff": 15
           },
           "zerolinecolor": "white",
           "zerolinewidth": 2
          },
          "yaxis": {
           "automargin": true,
           "gridcolor": "white",
           "linecolor": "white",
           "ticks": "",
           "title": {
            "standoff": 15
           },
           "zerolinecolor": "white",
           "zerolinewidth": 2
          }
         }
        },
        "title": {
         "text": "<b>Head-to-Head Statistics</b>, <i>Updated Sunday, Jun 09, 2024 20:53:29 CT</i>"
        },
        "xaxis": {
         "anchor": "y",
         "domain": [
          0,
          0.45
         ],
         "title": {
          "text": "<b>Other</b>"
         }
        },
        "xaxis2": {
         "anchor": "y2",
         "domain": [
          0.55,
          1
         ],
         "title": {
          "text": "<b>Other</b>"
         }
        },
        "yaxis": {
         "anchor": "x",
         "domain": [
          0,
          1
         ],
         "title": {
          "text": "<b>Self</b>"
         }
        },
        "yaxis2": {
         "anchor": "x2",
         "domain": [
          0,
          1
         ],
         "title": {
          "text": "<b>Self</b>"
         }
        }
       }
      }
     },
     "metadata": {},
     "output_type": "display_data"
    }
   ],
   "source": [
    "fig1 = make_subplots(\n",
    "    rows=1, cols=2,\n",
    "    subplot_titles=[f\"<b>{x}</b>\" for x in [\"Historical Win Percentage\", \"Current Matchup Predictor\"]],\n",
    "    x_title=f\"{link_fig}, {link_fig2}, {link_fig3}, {link_fig4}, {link_fig5}, {link_fig6}\"\n",
    ")\n",
    "\n",
    "go_win_pct = go.Heatmap(\n",
    "    x=[x.replace(\" \", \"<br>\") for x in win_prob_table.columns],\n",
    "    y=[x.replace(\" \", \"<br>\") for x in win_prob_table.index],\n",
    "    z=win_pct_table,\n",
    "    zmax=1,\n",
    "    zmid=0.5,\n",
    "    zmin=0,\n",
    "    text=text_record_table,\n",
    "    texttemplate=\"%{text}\",\n",
    "    colorscale=diverging.RdBu_r,\n",
    "    hoverongaps=False\n",
    ")\n",
    "\n",
    "go_win_prob = go.Heatmap(\n",
    "    x=[x.replace(\" \", \"<br>\") for x in win_prob_table.columns],\n",
    "    y=[x.replace(\" \", \"<br>\") for x in win_prob_table.index],\n",
    "    z=win_prob_table,\n",
    "    zmax=1,\n",
    "    zmid=0.5,\n",
    "    zmin=0,\n",
    "    text=win_prob_table.applymap(lambda x: \"\" if np.isnan(x) else f\"{x:.1%}\"),\n",
    "    texttemplate=\"%{text}\",\n",
    "    colorscale=diverging.RdBu_r,\n",
    "    hoverongaps=False\n",
    ")\n",
    "\n",
    "fig1.add_trace(go_win_pct, row=1, col=1)\n",
    "fig1.add_trace(go_win_prob, row=1, col=2)\n",
    "\n",
    "fig1.layout.yaxis1.title=\"<b>Self</b>\"\n",
    "fig1.layout.yaxis2.title=\"<b>Self</b>\"\n",
    "fig1.layout.xaxis1.title=\"<b>Other</b>\"\n",
    "fig1.layout.xaxis2.title=\"<b>Other</b>\"\n",
    "\n",
    "fig1.update_traces(hoverinfo='skip')\n",
    "\n",
    "fig1.update_layout(\n",
    "    title=f\"<b>Head-to-Head Statistics</b>, {updated_time}\"\n",
    ")\n",
    "\n",
    "fig1.show()\n",
    "fig1.write_html('figures/fig1.html')"
   ]
  },
  {
   "cell_type": "code",
   "execution_count": 10,
   "metadata": {},
   "outputs": [
    {
     "data": {
      "application/vnd.plotly.v1+json": {
       "config": {
        "plotlyServerURL": "https://plot.ly"
       },
       "data": [
        {
         "colorscale": [
          [
           0,
           "rgb(5,48,97)"
          ],
          [
           0.1,
           "rgb(33,102,172)"
          ],
          [
           0.2,
           "rgb(67,147,195)"
          ],
          [
           0.3,
           "rgb(146,197,222)"
          ],
          [
           0.4,
           "rgb(209,229,240)"
          ],
          [
           0.5,
           "rgb(247,247,247)"
          ],
          [
           0.6,
           "rgb(253,219,199)"
          ],
          [
           0.7,
           "rgb(244,165,130)"
          ],
          [
           0.8,
           "rgb(214,96,77)"
          ],
          [
           0.9,
           "rgb(178,24,43)"
          ],
          [
           1,
           "rgb(103,0,31)"
          ]
         ],
         "hoverinfo": "skip",
         "hoverongaps": false,
         "text": [
          [
           "",
           "",
           "24-35<br>40.7%",
           "21-31<br>40.4%",
           "",
           "16-36<br>30.8%",
           "15-21<br>41.7%"
          ],
          [
           "",
           "",
           "3-12<br>20.0%",
           "1-12<br>7.7%",
           "",
           "6-6<br>50.0%",
           "7-12<br>36.8%"
          ],
          [
           "35-24<br>59.3%",
           "12-3<br>80.0%",
           "",
           "64-55<br>53.8%",
           "12-18<br>40.0%",
           "53-83<br>39.0%",
           "45-66<br>40.5%"
          ],
          [
           "31-21<br>59.6%",
           "12-1<br>92.3%",
           "55-64<br>46.2%",
           "",
           "6-12<br>33.3%",
           "67-54<br>55.4%",
           "52-61<br>46.0%"
          ],
          [
           "",
           "",
           "18-12<br>60.0%",
           "12-6<br>66.7%",
           "",
           "12-18<br>40.0%",
           ""
          ],
          [
           "36-16<br>69.2%",
           "6-6<br>50.0%",
           "83-53<br>61.0%",
           "54-67<br>44.6%",
           "18-12<br>60.0%",
           "",
           "35-59<br>37.2%"
          ],
          [
           "21-15<br>58.3%",
           "12-7<br>63.2%",
           "66-45<br>59.5%",
           "61-52<br>54.0%",
           "",
           "59-35<br>62.8%",
           ""
          ]
         ],
         "texttemplate": "%{text}",
         "type": "heatmap",
         "x": [
          "Paul<br>Bartenfeld",
          "Jack<br>Massingill",
          "Evan<br>Sooklal",
          "Roman<br>Ramirez",
          "Lilith<br>Karyadi",
          "Will<br>Simpson",
          "Aaron<br>Carter"
         ],
         "xaxis": "x",
         "y": [
          "Paul<br>Bartenfeld",
          "Jack<br>Massingill",
          "Evan<br>Sooklal",
          "Roman<br>Ramirez",
          "Lilith<br>Karyadi",
          "Will<br>Simpson",
          "Aaron<br>Carter"
         ],
         "yaxis": "y",
         "z": [
          [
           null,
           null,
           0.4067796610169492,
           0.40384615384615385,
           null,
           0.3076923076923077,
           0.4166666666666667
          ],
          [
           null,
           null,
           0.2,
           0.07692307692307693,
           null,
           0.5,
           0.3684210526315789
          ],
          [
           0.5932203389830508,
           0.8,
           null,
           0.5378151260504201,
           0.4,
           0.3897058823529412,
           0.40540540540540543
          ],
          [
           0.5961538461538461,
           0.9230769230769231,
           0.46218487394957986,
           null,
           0.3333333333333333,
           0.5537190082644629,
           0.46017699115044247
          ],
          [
           null,
           null,
           0.6,
           0.6666666666666666,
           null,
           0.4,
           null
          ],
          [
           0.6923076923076923,
           0.5,
           0.6102941176470589,
           0.4462809917355372,
           0.6,
           null,
           0.3723404255319149
          ],
          [
           0.5833333333333334,
           0.631578947368421,
           0.5945945945945946,
           0.5398230088495575,
           null,
           0.6276595744680851,
           null
          ]
         ],
         "zmax": 1,
         "zmid": 0.5,
         "zmin": 0
        },
        {
         "colorscale": [
          [
           0,
           "rgb(5,48,97)"
          ],
          [
           0.1,
           "rgb(33,102,172)"
          ],
          [
           0.2,
           "rgb(67,147,195)"
          ],
          [
           0.3,
           "rgb(146,197,222)"
          ],
          [
           0.4,
           "rgb(209,229,240)"
          ],
          [
           0.5,
           "rgb(247,247,247)"
          ],
          [
           0.6,
           "rgb(253,219,199)"
          ],
          [
           0.7,
           "rgb(244,165,130)"
          ],
          [
           0.8,
           "rgb(214,96,77)"
          ],
          [
           0.9,
           "rgb(178,24,43)"
          ],
          [
           1,
           "rgb(103,0,31)"
          ]
         ],
         "hoverinfo": "skip",
         "hoverongaps": false,
         "text": [
          [
           "1-2<br>33.3%",
           "1-5<br>16.7%",
           "2-4<br>33.3%",
           "0-3<br>0.0%",
           "0-4<br>0.0%",
           ""
          ],
          [
           "",
           "0-1<br>0.0%",
           "0-2<br>0.0%",
           "",
           "0-1<br>0.0%",
           "1-3<br>25.0%"
          ],
          [
           "9-8<br>52.9%",
           "6-4<br>60.0%",
           "3-5<br>37.5%",
           "5-12<br>29.4%",
           "1-2<br>33.3%",
           "1-0<br>100.0%"
          ],
          [
           "2-7<br>22.2%",
           "6-10<br>37.5%",
           "6-6<br>50.0%",
           "3-7<br>30.0%",
           "3-0<br>100.0%",
           "4-0<br>100.0%"
          ],
          [
           "2-2<br>50.0%",
           "",
           "2-0<br>100.0%",
           "1-1<br>50.0%",
           "",
           ""
          ],
          [
           "6-3<br>66.7%",
           "10-6<br>62.5%",
           "2-6<br>25.0%",
           "11-4<br>73.3%",
           "3-1<br>75.0%",
           "1-4<br>20.0%"
          ],
          [
           "7-5<br>58.3%",
           "7-4<br>63.6%",
           "10-2<br>83.3%",
           "8-1<br>88.9%",
           "1-0<br>100.0%",
           "1-1<br>50.0%"
          ]
         ],
         "texttemplate": "%{text}",
         "type": "heatmap",
         "x": [
          "1-PT<br>Games",
          "2-PT<br>Games",
          "3-PT<br>Games",
          "4-PT<br>Games",
          "5-PT<br>Games",
          "6-PT<br>Games"
         ],
         "xaxis": "x2",
         "y": [
          "Paul<br>Bartenfeld",
          "Jack<br>Massingill",
          "Evan<br>Sooklal",
          "Roman<br>Ramirez",
          "Lilith<br>Karyadi",
          "Will<br>Simpson",
          "Aaron<br>Carter"
         ],
         "yaxis": "y2",
         "z": [
          [
           0.3333333333333333,
           0.16666666666666666,
           0.3333333333333333,
           0,
           0,
           null
          ],
          [
           null,
           0,
           0,
           null,
           0,
           0.25
          ],
          [
           0.5294117647058824,
           0.6,
           0.375,
           0.29411764705882354,
           0.3333333333333333,
           1
          ],
          [
           0.2222222222222222,
           0.375,
           0.5,
           0.3,
           1,
           1
          ],
          [
           0.5,
           null,
           1,
           0.5,
           null,
           null
          ],
          [
           0.6666666666666666,
           0.625,
           0.25,
           0.7333333333333333,
           0.75,
           0.2
          ],
          [
           0.5833333333333334,
           0.6363636363636364,
           0.8333333333333334,
           0.8888888888888888,
           1,
           0.5
          ]
         ],
         "zmax": 1,
         "zmid": 0.5,
         "zmin": 0
        }
       ],
       "layout": {
        "annotations": [
         {
          "font": {
           "size": 16
          },
          "showarrow": false,
          "text": "<b>Head-to-Head Plus Minus</b>",
          "x": 0.225,
          "xanchor": "center",
          "xref": "paper",
          "y": 1,
          "yanchor": "bottom",
          "yref": "paper"
         },
         {
          "font": {
           "size": 16
          },
          "showarrow": false,
          "text": "<b>N-Game Historical Record</b>",
          "x": 0.775,
          "xanchor": "center",
          "xref": "paper",
          "y": 1,
          "yanchor": "bottom",
          "yref": "paper"
         },
         {
          "font": {
           "size": 16
          },
          "showarrow": false,
          "text": "<br><a href='https://htmlpreview.github.io/?https://github.com/notromanramirez/dgn_showdown/blob/main/index.html'>ELO Graph</a>, <a href='https://htmlpreview.github.io/?https://github.com/notromanramirez/dgn_showdown/blob/main/figures/fig1.html'>H2H Stats</a>, <a href='https://htmlpreview.github.io/?https://github.com/notromanramirez/dgn_showdown/blob/main/figures/fig2.html'>H2H Advanced Stats</a>, <a href='https://htmlpreview.github.io/?https://github.com/notromanramirez/dgn_showdown/blob/main/figures/fig4.html'>Player Data</a>, <a href='https://htmlpreview.github.io/?https://github.com/notromanramirez/dgn_showdown/blob/main/figures/fig5.html'>Matches Data</a>, <a href='https://htmlpreview.github.io/?https://github.com/notromanramirez/dgn_showdown/blob/main/figures/fig6.html'>Money-Lines</a>",
          "x": 0.5,
          "xanchor": "center",
          "xref": "paper",
          "y": 0,
          "yanchor": "top",
          "yref": "paper",
          "yshift": -30
         }
        ],
        "template": {
         "data": {
          "bar": [
           {
            "error_x": {
             "color": "#2a3f5f"
            },
            "error_y": {
             "color": "#2a3f5f"
            },
            "marker": {
             "line": {
              "color": "#E5ECF6",
              "width": 0.5
             },
             "pattern": {
              "fillmode": "overlay",
              "size": 10,
              "solidity": 0.2
             }
            },
            "type": "bar"
           }
          ],
          "barpolar": [
           {
            "marker": {
             "line": {
              "color": "#E5ECF6",
              "width": 0.5
             },
             "pattern": {
              "fillmode": "overlay",
              "size": 10,
              "solidity": 0.2
             }
            },
            "type": "barpolar"
           }
          ],
          "carpet": [
           {
            "aaxis": {
             "endlinecolor": "#2a3f5f",
             "gridcolor": "white",
             "linecolor": "white",
             "minorgridcolor": "white",
             "startlinecolor": "#2a3f5f"
            },
            "baxis": {
             "endlinecolor": "#2a3f5f",
             "gridcolor": "white",
             "linecolor": "white",
             "minorgridcolor": "white",
             "startlinecolor": "#2a3f5f"
            },
            "type": "carpet"
           }
          ],
          "choropleth": [
           {
            "colorbar": {
             "outlinewidth": 0,
             "ticks": ""
            },
            "type": "choropleth"
           }
          ],
          "contour": [
           {
            "colorbar": {
             "outlinewidth": 0,
             "ticks": ""
            },
            "colorscale": [
             [
              0,
              "#0d0887"
             ],
             [
              0.1111111111111111,
              "#46039f"
             ],
             [
              0.2222222222222222,
              "#7201a8"
             ],
             [
              0.3333333333333333,
              "#9c179e"
             ],
             [
              0.4444444444444444,
              "#bd3786"
             ],
             [
              0.5555555555555556,
              "#d8576b"
             ],
             [
              0.6666666666666666,
              "#ed7953"
             ],
             [
              0.7777777777777778,
              "#fb9f3a"
             ],
             [
              0.8888888888888888,
              "#fdca26"
             ],
             [
              1,
              "#f0f921"
             ]
            ],
            "type": "contour"
           }
          ],
          "contourcarpet": [
           {
            "colorbar": {
             "outlinewidth": 0,
             "ticks": ""
            },
            "type": "contourcarpet"
           }
          ],
          "heatmap": [
           {
            "colorbar": {
             "outlinewidth": 0,
             "ticks": ""
            },
            "colorscale": [
             [
              0,
              "#0d0887"
             ],
             [
              0.1111111111111111,
              "#46039f"
             ],
             [
              0.2222222222222222,
              "#7201a8"
             ],
             [
              0.3333333333333333,
              "#9c179e"
             ],
             [
              0.4444444444444444,
              "#bd3786"
             ],
             [
              0.5555555555555556,
              "#d8576b"
             ],
             [
              0.6666666666666666,
              "#ed7953"
             ],
             [
              0.7777777777777778,
              "#fb9f3a"
             ],
             [
              0.8888888888888888,
              "#fdca26"
             ],
             [
              1,
              "#f0f921"
             ]
            ],
            "type": "heatmap"
           }
          ],
          "heatmapgl": [
           {
            "colorbar": {
             "outlinewidth": 0,
             "ticks": ""
            },
            "colorscale": [
             [
              0,
              "#0d0887"
             ],
             [
              0.1111111111111111,
              "#46039f"
             ],
             [
              0.2222222222222222,
              "#7201a8"
             ],
             [
              0.3333333333333333,
              "#9c179e"
             ],
             [
              0.4444444444444444,
              "#bd3786"
             ],
             [
              0.5555555555555556,
              "#d8576b"
             ],
             [
              0.6666666666666666,
              "#ed7953"
             ],
             [
              0.7777777777777778,
              "#fb9f3a"
             ],
             [
              0.8888888888888888,
              "#fdca26"
             ],
             [
              1,
              "#f0f921"
             ]
            ],
            "type": "heatmapgl"
           }
          ],
          "histogram": [
           {
            "marker": {
             "pattern": {
              "fillmode": "overlay",
              "size": 10,
              "solidity": 0.2
             }
            },
            "type": "histogram"
           }
          ],
          "histogram2d": [
           {
            "colorbar": {
             "outlinewidth": 0,
             "ticks": ""
            },
            "colorscale": [
             [
              0,
              "#0d0887"
             ],
             [
              0.1111111111111111,
              "#46039f"
             ],
             [
              0.2222222222222222,
              "#7201a8"
             ],
             [
              0.3333333333333333,
              "#9c179e"
             ],
             [
              0.4444444444444444,
              "#bd3786"
             ],
             [
              0.5555555555555556,
              "#d8576b"
             ],
             [
              0.6666666666666666,
              "#ed7953"
             ],
             [
              0.7777777777777778,
              "#fb9f3a"
             ],
             [
              0.8888888888888888,
              "#fdca26"
             ],
             [
              1,
              "#f0f921"
             ]
            ],
            "type": "histogram2d"
           }
          ],
          "histogram2dcontour": [
           {
            "colorbar": {
             "outlinewidth": 0,
             "ticks": ""
            },
            "colorscale": [
             [
              0,
              "#0d0887"
             ],
             [
              0.1111111111111111,
              "#46039f"
             ],
             [
              0.2222222222222222,
              "#7201a8"
             ],
             [
              0.3333333333333333,
              "#9c179e"
             ],
             [
              0.4444444444444444,
              "#bd3786"
             ],
             [
              0.5555555555555556,
              "#d8576b"
             ],
             [
              0.6666666666666666,
              "#ed7953"
             ],
             [
              0.7777777777777778,
              "#fb9f3a"
             ],
             [
              0.8888888888888888,
              "#fdca26"
             ],
             [
              1,
              "#f0f921"
             ]
            ],
            "type": "histogram2dcontour"
           }
          ],
          "mesh3d": [
           {
            "colorbar": {
             "outlinewidth": 0,
             "ticks": ""
            },
            "type": "mesh3d"
           }
          ],
          "parcoords": [
           {
            "line": {
             "colorbar": {
              "outlinewidth": 0,
              "ticks": ""
             }
            },
            "type": "parcoords"
           }
          ],
          "pie": [
           {
            "automargin": true,
            "type": "pie"
           }
          ],
          "scatter": [
           {
            "fillpattern": {
             "fillmode": "overlay",
             "size": 10,
             "solidity": 0.2
            },
            "type": "scatter"
           }
          ],
          "scatter3d": [
           {
            "line": {
             "colorbar": {
              "outlinewidth": 0,
              "ticks": ""
             }
            },
            "marker": {
             "colorbar": {
              "outlinewidth": 0,
              "ticks": ""
             }
            },
            "type": "scatter3d"
           }
          ],
          "scattercarpet": [
           {
            "marker": {
             "colorbar": {
              "outlinewidth": 0,
              "ticks": ""
             }
            },
            "type": "scattercarpet"
           }
          ],
          "scattergeo": [
           {
            "marker": {
             "colorbar": {
              "outlinewidth": 0,
              "ticks": ""
             }
            },
            "type": "scattergeo"
           }
          ],
          "scattergl": [
           {
            "marker": {
             "colorbar": {
              "outlinewidth": 0,
              "ticks": ""
             }
            },
            "type": "scattergl"
           }
          ],
          "scattermapbox": [
           {
            "marker": {
             "colorbar": {
              "outlinewidth": 0,
              "ticks": ""
             }
            },
            "type": "scattermapbox"
           }
          ],
          "scatterpolar": [
           {
            "marker": {
             "colorbar": {
              "outlinewidth": 0,
              "ticks": ""
             }
            },
            "type": "scatterpolar"
           }
          ],
          "scatterpolargl": [
           {
            "marker": {
             "colorbar": {
              "outlinewidth": 0,
              "ticks": ""
             }
            },
            "type": "scatterpolargl"
           }
          ],
          "scatterternary": [
           {
            "marker": {
             "colorbar": {
              "outlinewidth": 0,
              "ticks": ""
             }
            },
            "type": "scatterternary"
           }
          ],
          "surface": [
           {
            "colorbar": {
             "outlinewidth": 0,
             "ticks": ""
            },
            "colorscale": [
             [
              0,
              "#0d0887"
             ],
             [
              0.1111111111111111,
              "#46039f"
             ],
             [
              0.2222222222222222,
              "#7201a8"
             ],
             [
              0.3333333333333333,
              "#9c179e"
             ],
             [
              0.4444444444444444,
              "#bd3786"
             ],
             [
              0.5555555555555556,
              "#d8576b"
             ],
             [
              0.6666666666666666,
              "#ed7953"
             ],
             [
              0.7777777777777778,
              "#fb9f3a"
             ],
             [
              0.8888888888888888,
              "#fdca26"
             ],
             [
              1,
              "#f0f921"
             ]
            ],
            "type": "surface"
           }
          ],
          "table": [
           {
            "cells": {
             "fill": {
              "color": "#EBF0F8"
             },
             "line": {
              "color": "white"
             }
            },
            "header": {
             "fill": {
              "color": "#C8D4E3"
             },
             "line": {
              "color": "white"
             }
            },
            "type": "table"
           }
          ]
         },
         "layout": {
          "annotationdefaults": {
           "arrowcolor": "#2a3f5f",
           "arrowhead": 0,
           "arrowwidth": 1
          },
          "autotypenumbers": "strict",
          "coloraxis": {
           "colorbar": {
            "outlinewidth": 0,
            "ticks": ""
           }
          },
          "colorscale": {
           "diverging": [
            [
             0,
             "#8e0152"
            ],
            [
             0.1,
             "#c51b7d"
            ],
            [
             0.2,
             "#de77ae"
            ],
            [
             0.3,
             "#f1b6da"
            ],
            [
             0.4,
             "#fde0ef"
            ],
            [
             0.5,
             "#f7f7f7"
            ],
            [
             0.6,
             "#e6f5d0"
            ],
            [
             0.7,
             "#b8e186"
            ],
            [
             0.8,
             "#7fbc41"
            ],
            [
             0.9,
             "#4d9221"
            ],
            [
             1,
             "#276419"
            ]
           ],
           "sequential": [
            [
             0,
             "#0d0887"
            ],
            [
             0.1111111111111111,
             "#46039f"
            ],
            [
             0.2222222222222222,
             "#7201a8"
            ],
            [
             0.3333333333333333,
             "#9c179e"
            ],
            [
             0.4444444444444444,
             "#bd3786"
            ],
            [
             0.5555555555555556,
             "#d8576b"
            ],
            [
             0.6666666666666666,
             "#ed7953"
            ],
            [
             0.7777777777777778,
             "#fb9f3a"
            ],
            [
             0.8888888888888888,
             "#fdca26"
            ],
            [
             1,
             "#f0f921"
            ]
           ],
           "sequentialminus": [
            [
             0,
             "#0d0887"
            ],
            [
             0.1111111111111111,
             "#46039f"
            ],
            [
             0.2222222222222222,
             "#7201a8"
            ],
            [
             0.3333333333333333,
             "#9c179e"
            ],
            [
             0.4444444444444444,
             "#bd3786"
            ],
            [
             0.5555555555555556,
             "#d8576b"
            ],
            [
             0.6666666666666666,
             "#ed7953"
            ],
            [
             0.7777777777777778,
             "#fb9f3a"
            ],
            [
             0.8888888888888888,
             "#fdca26"
            ],
            [
             1,
             "#f0f921"
            ]
           ]
          },
          "colorway": [
           "#636efa",
           "#EF553B",
           "#00cc96",
           "#ab63fa",
           "#FFA15A",
           "#19d3f3",
           "#FF6692",
           "#B6E880",
           "#FF97FF",
           "#FECB52"
          ],
          "font": {
           "color": "#2a3f5f"
          },
          "geo": {
           "bgcolor": "white",
           "lakecolor": "white",
           "landcolor": "#E5ECF6",
           "showlakes": true,
           "showland": true,
           "subunitcolor": "white"
          },
          "hoverlabel": {
           "align": "left"
          },
          "hovermode": "closest",
          "mapbox": {
           "style": "light"
          },
          "paper_bgcolor": "white",
          "plot_bgcolor": "#E5ECF6",
          "polar": {
           "angularaxis": {
            "gridcolor": "white",
            "linecolor": "white",
            "ticks": ""
           },
           "bgcolor": "#E5ECF6",
           "radialaxis": {
            "gridcolor": "white",
            "linecolor": "white",
            "ticks": ""
           }
          },
          "scene": {
           "xaxis": {
            "backgroundcolor": "#E5ECF6",
            "gridcolor": "white",
            "gridwidth": 2,
            "linecolor": "white",
            "showbackground": true,
            "ticks": "",
            "zerolinecolor": "white"
           },
           "yaxis": {
            "backgroundcolor": "#E5ECF6",
            "gridcolor": "white",
            "gridwidth": 2,
            "linecolor": "white",
            "showbackground": true,
            "ticks": "",
            "zerolinecolor": "white"
           },
           "zaxis": {
            "backgroundcolor": "#E5ECF6",
            "gridcolor": "white",
            "gridwidth": 2,
            "linecolor": "white",
            "showbackground": true,
            "ticks": "",
            "zerolinecolor": "white"
           }
          },
          "shapedefaults": {
           "line": {
            "color": "#2a3f5f"
           }
          },
          "ternary": {
           "aaxis": {
            "gridcolor": "white",
            "linecolor": "white",
            "ticks": ""
           },
           "baxis": {
            "gridcolor": "white",
            "linecolor": "white",
            "ticks": ""
           },
           "bgcolor": "#E5ECF6",
           "caxis": {
            "gridcolor": "white",
            "linecolor": "white",
            "ticks": ""
           }
          },
          "title": {
           "x": 0.05
          },
          "xaxis": {
           "automargin": true,
           "gridcolor": "white",
           "linecolor": "white",
           "ticks": "",
           "title": {
            "standoff": 15
           },
           "zerolinecolor": "white",
           "zerolinewidth": 2
          },
          "yaxis": {
           "automargin": true,
           "gridcolor": "white",
           "linecolor": "white",
           "ticks": "",
           "title": {
            "standoff": 15
           },
           "zerolinecolor": "white",
           "zerolinewidth": 2
          }
         }
        },
        "title": {
         "text": "<b>Head-to-Head Statistics</b>, <i>Updated Sunday, Jun 09, 2024 20:53:29 CT</i>"
        },
        "xaxis": {
         "anchor": "y",
         "domain": [
          0,
          0.45
         ],
         "title": {
          "text": "<b>Other</b>"
         }
        },
        "xaxis2": {
         "anchor": "y2",
         "domain": [
          0.55,
          1
         ],
         "title": {
          "text": "<b>Other</b>"
         }
        },
        "yaxis": {
         "anchor": "x",
         "domain": [
          0,
          1
         ],
         "title": {
          "text": "<b>Self</b>"
         }
        },
        "yaxis2": {
         "anchor": "x2",
         "domain": [
          0,
          1
         ],
         "title": {
          "text": "<b>Self</b>"
         }
        }
       }
      }
     },
     "metadata": {},
     "output_type": "display_data"
    }
   ],
   "source": [
    "fig3 = make_subplots(\n",
    "    rows=1, cols=2,\n",
    "    subplot_titles=[f\"<b>{x}</b>\" for x in [\"Head-to-Head Plus Minus\", \"N-Game Historical Record\"]],\n",
    "    x_title=f\"<br>{link_fig}, {link_fig1}, {link_fig2}, {link_fig4}, {link_fig5}, {link_fig6}\"\n",
    ")\n",
    "\n",
    "text_npg_table = npg_table.copy(deep=True)\n",
    "\n",
    "for c in npg_table.columns:\n",
    "    for r in npg_table.index:\n",
    "        if c == r:\n",
    "            text_npg_table.loc[r, c] = \"\"\n",
    "        else:\n",
    "            w, l = npg_table.loc[r, c]\n",
    "            if (w + l) == 0:\n",
    "                text_npg_table.loc[r, c] = \"\"\n",
    "            else:\n",
    "                w_pct = (w) / (w + l) if (w + l) != 0 else 0\n",
    "                text_npg_table.loc[r, c] = f\"{w}-{l}<br>{w_pct:,.1%}\"\n",
    "\n",
    "def calc_win_pct(wl):\n",
    "    if sum(wl) == 0:\n",
    "        return np.NaN\n",
    "    else:\n",
    "        return (wl[0]) / (sum(wl))\n",
    "\n",
    "go_ng = go.Heatmap(\n",
    "    x=[x.replace(\" \", \"<br>\")+\"ames\" for x in npg_table.columns],\n",
    "    y=[x.replace(\" \", \"<br>\") for x in npg_table.index],\n",
    "    z=npg_table.applymap(calc_win_pct),\n",
    "    zmax=1,\n",
    "    zmid=0.5,\n",
    "    zmin=0,\n",
    "    text=text_npg_table,\n",
    "    texttemplate=\"%{text}\",\n",
    "    colorscale=diverging.RdBu_r,\n",
    "    hoverongaps=False\n",
    ")\n",
    "\n",
    "text_plus_minus_table = plus_minus_table.copy(deep=True)\n",
    "\n",
    "for c in plus_minus_table.columns:\n",
    "    for r in plus_minus_table.index:\n",
    "        if c == r:\n",
    "            text_plus_minus_table.loc[r, c] = \"\"\n",
    "        else:\n",
    "            w, l = plus_minus_table.loc[r, c]\n",
    "            if (w + l) == 0:\n",
    "                text_plus_minus_table.loc[r, c] = \"\"\n",
    "            else:\n",
    "                w_pct = (w) / (w + l) if (w + l) != 0 else 0\n",
    "                text_plus_minus_table.loc[r, c] = f\"{w}-{l}<br>{w_pct:,.1%}\"\n",
    "\n",
    "go_pm = go.Heatmap(\n",
    "    x=[x.replace(\" \", \"<br>\") for x in plus_minus_table.columns],\n",
    "    y=[x.replace(\" \", \"<br>\") for x in plus_minus_table.index],\n",
    "    z=plus_minus_table.applymap(calc_win_pct),\n",
    "    zmax=1,\n",
    "    zmid=0.5,\n",
    "    zmin=0,\n",
    "    text=text_plus_minus_table,\n",
    "    texttemplate=\"%{text}\",\n",
    "    colorscale=diverging.RdBu_r,\n",
    "    hoverongaps=False\n",
    ")\n",
    "\n",
    "fig3.add_trace(go_pm, row=1, col=1)\n",
    "fig3.add_trace(go_ng, row=1, col=2)\n",
    "\n",
    "fig3.layout.yaxis1.title=\"<b>Self</b>\"\n",
    "fig3.layout.yaxis2.title=\"<b>Self</b>\"\n",
    "fig3.layout.xaxis1.title=\"<b>Other</b>\"\n",
    "fig3.layout.xaxis2.title=\"<b>Other</b>\"\n",
    "\n",
    "fig3.update_traces(\n",
    "    hoverinfo='skip'\n",
    ")\n",
    "\n",
    "fig3.update_layout(\n",
    "    title=f\"<b>Head-to-Head Statistics</b>, {updated_time}\"\n",
    ")\n",
    "\n",
    "fig3.show()\n",
    "fig3.write_html('figures/fig3.html')"
   ]
  },
  {
   "cell_type": "code",
   "execution_count": 11,
   "metadata": {},
   "outputs": [
    {
     "data": {
      "application/vnd.plotly.v1+json": {
       "config": {
        "plotlyServerURL": "https://plot.ly"
       },
       "data": [
        {
         "colorscale": [
          [
           0,
           "rgb(5,48,97)"
          ],
          [
           0.1,
           "rgb(33,102,172)"
          ],
          [
           0.2,
           "rgb(67,147,195)"
          ],
          [
           0.3,
           "rgb(146,197,222)"
          ],
          [
           0.4,
           "rgb(209,229,240)"
          ],
          [
           0.5,
           "rgb(247,247,247)"
          ],
          [
           0.6,
           "rgb(253,219,199)"
          ],
          [
           0.7,
           "rgb(244,165,130)"
          ],
          [
           0.8,
           "rgb(214,96,77)"
          ],
          [
           0.9,
           "rgb(178,24,43)"
          ],
          [
           1,
           "rgb(103,0,31)"
          ]
         ],
         "hoverinfo": "skip",
         "hoverongaps": false,
         "text": [
          [
           "",
           "",
           "+11.5%",
           "-9.9%",
           "",
           "+18.8%",
           "-17.9%"
          ],
          [
           "",
           "",
           "+42.1%",
           "+36.3%",
           "",
           "-19.9%",
           "+12.4%"
          ],
          [
           "-11.5%",
           "-42.1%",
           "",
           "-22.8%",
           "+37.2%",
           "+7.7%",
           "-6.8%"
          ],
          [
           "+9.9%",
           "-36.3%",
           "+22.8%",
           "",
           "+43.1%",
           "-10.3%",
           "-15.9%"
          ],
          [
           "",
           "",
           "-37.2%",
           "-43.1%",
           "",
           "+49.9%",
           ""
          ],
          [
           "-18.8%",
           "+19.9%",
           "-7.7%",
           "+10.3%",
           "-49.9%",
           "",
           "-3.9%"
          ],
          [
           "+17.9%",
           "-12.4%",
           "+6.8%",
           "+15.9%",
           "",
           "+3.9%",
           ""
          ]
         ],
         "texttemplate": "%{text}",
         "type": "heatmap",
         "x": [
          "Paul<br>Bartenfeld",
          "Jack<br>Massingill",
          "Evan<br>Sooklal",
          "Roman<br>Ramirez",
          "Lilith<br>Karyadi",
          "Will<br>Simpson",
          "Aaron<br>Carter"
         ],
         "xaxis": "x",
         "y": [
          "Paul<br>Bartenfeld",
          "Jack<br>Massingill",
          "Evan<br>Sooklal",
          "Roman<br>Ramirez",
          "Lilith<br>Karyadi",
          "Will<br>Simpson",
          "Aaron<br>Carter"
         ],
         "yaxis": "y",
         "z": [
          [
           null,
           null,
           0.1147268665526964,
           -0.09886132155800378,
           null,
           0.1880146759268097,
           -0.17945089116290358
          ],
          [
           null,
           null,
           0.4210083550309316,
           0.3625519043776917,
           null,
           -0.19931496251119785,
           0.12353626373797795
          ],
          [
           -0.11472686655269637,
           -0.4210083550309316,
           null,
           -0.2277770818261255,
           0.3723376636013805,
           0.07747216400610657,
           -0.06840282422650268
          ],
          [
           0.09886132155800387,
           -0.3625519043776917,
           0.2277770818261255,
           null,
           0.43130436316354276,
           -0.10281402255469363,
           -0.15854093618505066
          ],
          [
           null,
           null,
           -0.37233766360138043,
           -0.4313043631635428,
           null,
           0.49919966760435186,
           null
          ],
          [
           -0.18801467592680976,
           0.19931496251119785,
           -0.07747216400610657,
           0.10281402255469363,
           -0.49919966760435197,
           null,
           -0.03883437748556928
          ],
          [
           0.17945089116290358,
           -0.12353626373797799,
           0.06840282422650257,
           0.1585409361850506,
           null,
           0.03883437748556928,
           null
          ]
         ],
         "zmax": 0.6450147914274407,
         "zmid": 0,
         "zmin": -0.6450147914274407
        },
        {
         "colorscale": [
          [
           0,
           "rgb(5,48,97)"
          ],
          [
           0.1,
           "rgb(33,102,172)"
          ],
          [
           0.2,
           "rgb(67,147,195)"
          ],
          [
           0.3,
           "rgb(146,197,222)"
          ],
          [
           0.4,
           "rgb(209,229,240)"
          ],
          [
           0.5,
           "rgb(247,247,247)"
          ],
          [
           0.6,
           "rgb(253,219,199)"
          ],
          [
           0.7,
           "rgb(244,165,130)"
          ],
          [
           0.8,
           "rgb(214,96,77)"
          ],
          [
           0.9,
           "rgb(178,24,43)"
          ],
          [
           1,
           "rgb(103,0,31)"
          ]
         ],
         "hoverinfo": "skip",
         "hoverongaps": false,
         "text": [
          [
           "",
           "",
           "-17.9%",
           "-5.4%",
           "",
           "-30.2%",
           "-6.2%"
          ],
          [
           "",
           "",
           "-50.4%",
           "-43.9%",
           "",
           "+23.9%",
           "-11.5%"
          ],
          [
           "+17.9%",
           "+50.4%",
           "",
           "+15.2%",
           "-46.9%",
           "-11.9%",
           "-12.5%"
          ],
          [
           "+5.4%",
           "+43.9%",
           "-15.2%",
           "",
           "-64.5%",
           "+13.0%",
           "+3.0%"
          ],
          [
           "",
           "",
           "+46.9%",
           "+64.5%",
           "",
           "-62.2%",
           ""
          ],
          [
           "+30.2%",
           "-23.9%",
           "+11.9%",
           "-13.0%",
           "+62.2%",
           "",
           "-17.4%"
          ],
          [
           "+6.2%",
           "+11.5%",
           "+12.5%",
           "-3.0%",
           "",
           "+17.4%",
           ""
          ]
         ],
         "texttemplate": "%{text}",
         "type": "heatmap",
         "x": [
          "Paul<br>Bartenfeld",
          "Jack<br>Massingill",
          "Evan<br>Sooklal",
          "Roman<br>Ramirez",
          "Lilith<br>Karyadi",
          "Will<br>Simpson",
          "Aaron<br>Carter"
         ],
         "xaxis": "x2",
         "y": [
          "Paul<br>Bartenfeld",
          "Jack<br>Massingill",
          "Evan<br>Sooklal",
          "Roman<br>Ramirez",
          "Lilith<br>Karyadi",
          "Will<br>Simpson",
          "Aaron<br>Carter"
         ],
         "yaxis": "y2",
         "z": [
          [
           null,
           null,
           -0.17925649745036043,
           -0.054102184370880387,
           null,
           -0.3015162035404408,
           -0.061861419487301415
          ],
          [
           null,
           null,
           -0.5042381575524879,
           -0.4389422968434329,
           null,
           0.23851497675451902,
           -0.11502199433034524
          ],
          [
           0.1792564974503605,
           0.5042381575524879,
           null,
           0.15166506323624512,
           -0.4689526840552985,
           -0.1193216408929513,
           -0.12518810541154698
          ],
          [
           0.0541021843708804,
           0.4389422968434328,
           -0.15166506323624512,
           null,
           -0.6450147914274407,
           0.13046773788875526,
           0.030218651785320266
          ],
          [
           null,
           null,
           0.4689526840552986,
           0.6450147914274407,
           null,
           -0.6224505069003426,
           null
          ],
          [
           0.30151620354044084,
           -0.238514976754519,
           0.1193216408929513,
           -0.13046773788875524,
           0.6224505069003426,
           null,
           -0.17370961222273196
          ],
          [
           0.061861419487301395,
           0.11502199433034532,
           0.125188105411547,
           -0.03021865178532024,
           null,
           0.17370961222273193,
           null
          ]
         ],
         "zmax": 0.6450147914274407,
         "zmid": 0,
         "zmin": -0.6450147914274407
        }
       ],
       "layout": {
        "annotations": [
         {
          "font": {
           "size": 16
          },
          "showarrow": false,
          "text": "<b>Over/Underrated</b><br>How Much Better is the Win Probability Against Record",
          "x": 0.225,
          "xanchor": "center",
          "xref": "paper",
          "y": 1,
          "yanchor": "bottom",
          "yref": "paper"
         },
         {
          "font": {
           "size": 16
          },
          "showarrow": false,
          "text": "<b>Average Luck Per Game</b><br>Average Difference in Actual and Expected Performance",
          "x": 0.775,
          "xanchor": "center",
          "xref": "paper",
          "y": 1,
          "yanchor": "bottom",
          "yref": "paper"
         },
         {
          "font": {
           "size": 16
          },
          "showarrow": false,
          "text": "<a href='https://htmlpreview.github.io/?https://github.com/notromanramirez/dgn_showdown/blob/main/index.html'>ELO Graph</a>, <a href='https://htmlpreview.github.io/?https://github.com/notromanramirez/dgn_showdown/blob/main/figures/fig1.html'>H2H Stats</a>, <a href='https://htmlpreview.github.io/?https://github.com/notromanramirez/dgn_showdown/blob/main/figures/fig3.html'>H2H More Stats</a>, <a href='https://htmlpreview.github.io/?https://github.com/notromanramirez/dgn_showdown/blob/main/figures/fig4.html'>Player Data</a>, <a href='https://htmlpreview.github.io/?https://github.com/notromanramirez/dgn_showdown/blob/main/figures/fig5.html'>Matches Data</a>, <a href='https://htmlpreview.github.io/?https://github.com/notromanramirez/dgn_showdown/blob/main/figures/fig6.html'>Money-Lines</a>",
          "x": 0.5,
          "xanchor": "center",
          "xref": "paper",
          "y": 0,
          "yanchor": "top",
          "yref": "paper",
          "yshift": -30
         }
        ],
        "template": {
         "data": {
          "bar": [
           {
            "error_x": {
             "color": "#2a3f5f"
            },
            "error_y": {
             "color": "#2a3f5f"
            },
            "marker": {
             "line": {
              "color": "#E5ECF6",
              "width": 0.5
             },
             "pattern": {
              "fillmode": "overlay",
              "size": 10,
              "solidity": 0.2
             }
            },
            "type": "bar"
           }
          ],
          "barpolar": [
           {
            "marker": {
             "line": {
              "color": "#E5ECF6",
              "width": 0.5
             },
             "pattern": {
              "fillmode": "overlay",
              "size": 10,
              "solidity": 0.2
             }
            },
            "type": "barpolar"
           }
          ],
          "carpet": [
           {
            "aaxis": {
             "endlinecolor": "#2a3f5f",
             "gridcolor": "white",
             "linecolor": "white",
             "minorgridcolor": "white",
             "startlinecolor": "#2a3f5f"
            },
            "baxis": {
             "endlinecolor": "#2a3f5f",
             "gridcolor": "white",
             "linecolor": "white",
             "minorgridcolor": "white",
             "startlinecolor": "#2a3f5f"
            },
            "type": "carpet"
           }
          ],
          "choropleth": [
           {
            "colorbar": {
             "outlinewidth": 0,
             "ticks": ""
            },
            "type": "choropleth"
           }
          ],
          "contour": [
           {
            "colorbar": {
             "outlinewidth": 0,
             "ticks": ""
            },
            "colorscale": [
             [
              0,
              "#0d0887"
             ],
             [
              0.1111111111111111,
              "#46039f"
             ],
             [
              0.2222222222222222,
              "#7201a8"
             ],
             [
              0.3333333333333333,
              "#9c179e"
             ],
             [
              0.4444444444444444,
              "#bd3786"
             ],
             [
              0.5555555555555556,
              "#d8576b"
             ],
             [
              0.6666666666666666,
              "#ed7953"
             ],
             [
              0.7777777777777778,
              "#fb9f3a"
             ],
             [
              0.8888888888888888,
              "#fdca26"
             ],
             [
              1,
              "#f0f921"
             ]
            ],
            "type": "contour"
           }
          ],
          "contourcarpet": [
           {
            "colorbar": {
             "outlinewidth": 0,
             "ticks": ""
            },
            "type": "contourcarpet"
           }
          ],
          "heatmap": [
           {
            "colorbar": {
             "outlinewidth": 0,
             "ticks": ""
            },
            "colorscale": [
             [
              0,
              "#0d0887"
             ],
             [
              0.1111111111111111,
              "#46039f"
             ],
             [
              0.2222222222222222,
              "#7201a8"
             ],
             [
              0.3333333333333333,
              "#9c179e"
             ],
             [
              0.4444444444444444,
              "#bd3786"
             ],
             [
              0.5555555555555556,
              "#d8576b"
             ],
             [
              0.6666666666666666,
              "#ed7953"
             ],
             [
              0.7777777777777778,
              "#fb9f3a"
             ],
             [
              0.8888888888888888,
              "#fdca26"
             ],
             [
              1,
              "#f0f921"
             ]
            ],
            "type": "heatmap"
           }
          ],
          "heatmapgl": [
           {
            "colorbar": {
             "outlinewidth": 0,
             "ticks": ""
            },
            "colorscale": [
             [
              0,
              "#0d0887"
             ],
             [
              0.1111111111111111,
              "#46039f"
             ],
             [
              0.2222222222222222,
              "#7201a8"
             ],
             [
              0.3333333333333333,
              "#9c179e"
             ],
             [
              0.4444444444444444,
              "#bd3786"
             ],
             [
              0.5555555555555556,
              "#d8576b"
             ],
             [
              0.6666666666666666,
              "#ed7953"
             ],
             [
              0.7777777777777778,
              "#fb9f3a"
             ],
             [
              0.8888888888888888,
              "#fdca26"
             ],
             [
              1,
              "#f0f921"
             ]
            ],
            "type": "heatmapgl"
           }
          ],
          "histogram": [
           {
            "marker": {
             "pattern": {
              "fillmode": "overlay",
              "size": 10,
              "solidity": 0.2
             }
            },
            "type": "histogram"
           }
          ],
          "histogram2d": [
           {
            "colorbar": {
             "outlinewidth": 0,
             "ticks": ""
            },
            "colorscale": [
             [
              0,
              "#0d0887"
             ],
             [
              0.1111111111111111,
              "#46039f"
             ],
             [
              0.2222222222222222,
              "#7201a8"
             ],
             [
              0.3333333333333333,
              "#9c179e"
             ],
             [
              0.4444444444444444,
              "#bd3786"
             ],
             [
              0.5555555555555556,
              "#d8576b"
             ],
             [
              0.6666666666666666,
              "#ed7953"
             ],
             [
              0.7777777777777778,
              "#fb9f3a"
             ],
             [
              0.8888888888888888,
              "#fdca26"
             ],
             [
              1,
              "#f0f921"
             ]
            ],
            "type": "histogram2d"
           }
          ],
          "histogram2dcontour": [
           {
            "colorbar": {
             "outlinewidth": 0,
             "ticks": ""
            },
            "colorscale": [
             [
              0,
              "#0d0887"
             ],
             [
              0.1111111111111111,
              "#46039f"
             ],
             [
              0.2222222222222222,
              "#7201a8"
             ],
             [
              0.3333333333333333,
              "#9c179e"
             ],
             [
              0.4444444444444444,
              "#bd3786"
             ],
             [
              0.5555555555555556,
              "#d8576b"
             ],
             [
              0.6666666666666666,
              "#ed7953"
             ],
             [
              0.7777777777777778,
              "#fb9f3a"
             ],
             [
              0.8888888888888888,
              "#fdca26"
             ],
             [
              1,
              "#f0f921"
             ]
            ],
            "type": "histogram2dcontour"
           }
          ],
          "mesh3d": [
           {
            "colorbar": {
             "outlinewidth": 0,
             "ticks": ""
            },
            "type": "mesh3d"
           }
          ],
          "parcoords": [
           {
            "line": {
             "colorbar": {
              "outlinewidth": 0,
              "ticks": ""
             }
            },
            "type": "parcoords"
           }
          ],
          "pie": [
           {
            "automargin": true,
            "type": "pie"
           }
          ],
          "scatter": [
           {
            "fillpattern": {
             "fillmode": "overlay",
             "size": 10,
             "solidity": 0.2
            },
            "type": "scatter"
           }
          ],
          "scatter3d": [
           {
            "line": {
             "colorbar": {
              "outlinewidth": 0,
              "ticks": ""
             }
            },
            "marker": {
             "colorbar": {
              "outlinewidth": 0,
              "ticks": ""
             }
            },
            "type": "scatter3d"
           }
          ],
          "scattercarpet": [
           {
            "marker": {
             "colorbar": {
              "outlinewidth": 0,
              "ticks": ""
             }
            },
            "type": "scattercarpet"
           }
          ],
          "scattergeo": [
           {
            "marker": {
             "colorbar": {
              "outlinewidth": 0,
              "ticks": ""
             }
            },
            "type": "scattergeo"
           }
          ],
          "scattergl": [
           {
            "marker": {
             "colorbar": {
              "outlinewidth": 0,
              "ticks": ""
             }
            },
            "type": "scattergl"
           }
          ],
          "scattermapbox": [
           {
            "marker": {
             "colorbar": {
              "outlinewidth": 0,
              "ticks": ""
             }
            },
            "type": "scattermapbox"
           }
          ],
          "scatterpolar": [
           {
            "marker": {
             "colorbar": {
              "outlinewidth": 0,
              "ticks": ""
             }
            },
            "type": "scatterpolar"
           }
          ],
          "scatterpolargl": [
           {
            "marker": {
             "colorbar": {
              "outlinewidth": 0,
              "ticks": ""
             }
            },
            "type": "scatterpolargl"
           }
          ],
          "scatterternary": [
           {
            "marker": {
             "colorbar": {
              "outlinewidth": 0,
              "ticks": ""
             }
            },
            "type": "scatterternary"
           }
          ],
          "surface": [
           {
            "colorbar": {
             "outlinewidth": 0,
             "ticks": ""
            },
            "colorscale": [
             [
              0,
              "#0d0887"
             ],
             [
              0.1111111111111111,
              "#46039f"
             ],
             [
              0.2222222222222222,
              "#7201a8"
             ],
             [
              0.3333333333333333,
              "#9c179e"
             ],
             [
              0.4444444444444444,
              "#bd3786"
             ],
             [
              0.5555555555555556,
              "#d8576b"
             ],
             [
              0.6666666666666666,
              "#ed7953"
             ],
             [
              0.7777777777777778,
              "#fb9f3a"
             ],
             [
              0.8888888888888888,
              "#fdca26"
             ],
             [
              1,
              "#f0f921"
             ]
            ],
            "type": "surface"
           }
          ],
          "table": [
           {
            "cells": {
             "fill": {
              "color": "#EBF0F8"
             },
             "line": {
              "color": "white"
             }
            },
            "header": {
             "fill": {
              "color": "#C8D4E3"
             },
             "line": {
              "color": "white"
             }
            },
            "type": "table"
           }
          ]
         },
         "layout": {
          "annotationdefaults": {
           "arrowcolor": "#2a3f5f",
           "arrowhead": 0,
           "arrowwidth": 1
          },
          "autotypenumbers": "strict",
          "coloraxis": {
           "colorbar": {
            "outlinewidth": 0,
            "ticks": ""
           }
          },
          "colorscale": {
           "diverging": [
            [
             0,
             "#8e0152"
            ],
            [
             0.1,
             "#c51b7d"
            ],
            [
             0.2,
             "#de77ae"
            ],
            [
             0.3,
             "#f1b6da"
            ],
            [
             0.4,
             "#fde0ef"
            ],
            [
             0.5,
             "#f7f7f7"
            ],
            [
             0.6,
             "#e6f5d0"
            ],
            [
             0.7,
             "#b8e186"
            ],
            [
             0.8,
             "#7fbc41"
            ],
            [
             0.9,
             "#4d9221"
            ],
            [
             1,
             "#276419"
            ]
           ],
           "sequential": [
            [
             0,
             "#0d0887"
            ],
            [
             0.1111111111111111,
             "#46039f"
            ],
            [
             0.2222222222222222,
             "#7201a8"
            ],
            [
             0.3333333333333333,
             "#9c179e"
            ],
            [
             0.4444444444444444,
             "#bd3786"
            ],
            [
             0.5555555555555556,
             "#d8576b"
            ],
            [
             0.6666666666666666,
             "#ed7953"
            ],
            [
             0.7777777777777778,
             "#fb9f3a"
            ],
            [
             0.8888888888888888,
             "#fdca26"
            ],
            [
             1,
             "#f0f921"
            ]
           ],
           "sequentialminus": [
            [
             0,
             "#0d0887"
            ],
            [
             0.1111111111111111,
             "#46039f"
            ],
            [
             0.2222222222222222,
             "#7201a8"
            ],
            [
             0.3333333333333333,
             "#9c179e"
            ],
            [
             0.4444444444444444,
             "#bd3786"
            ],
            [
             0.5555555555555556,
             "#d8576b"
            ],
            [
             0.6666666666666666,
             "#ed7953"
            ],
            [
             0.7777777777777778,
             "#fb9f3a"
            ],
            [
             0.8888888888888888,
             "#fdca26"
            ],
            [
             1,
             "#f0f921"
            ]
           ]
          },
          "colorway": [
           "#636efa",
           "#EF553B",
           "#00cc96",
           "#ab63fa",
           "#FFA15A",
           "#19d3f3",
           "#FF6692",
           "#B6E880",
           "#FF97FF",
           "#FECB52"
          ],
          "font": {
           "color": "#2a3f5f"
          },
          "geo": {
           "bgcolor": "white",
           "lakecolor": "white",
           "landcolor": "#E5ECF6",
           "showlakes": true,
           "showland": true,
           "subunitcolor": "white"
          },
          "hoverlabel": {
           "align": "left"
          },
          "hovermode": "closest",
          "mapbox": {
           "style": "light"
          },
          "paper_bgcolor": "white",
          "plot_bgcolor": "#E5ECF6",
          "polar": {
           "angularaxis": {
            "gridcolor": "white",
            "linecolor": "white",
            "ticks": ""
           },
           "bgcolor": "#E5ECF6",
           "radialaxis": {
            "gridcolor": "white",
            "linecolor": "white",
            "ticks": ""
           }
          },
          "scene": {
           "xaxis": {
            "backgroundcolor": "#E5ECF6",
            "gridcolor": "white",
            "gridwidth": 2,
            "linecolor": "white",
            "showbackground": true,
            "ticks": "",
            "zerolinecolor": "white"
           },
           "yaxis": {
            "backgroundcolor": "#E5ECF6",
            "gridcolor": "white",
            "gridwidth": 2,
            "linecolor": "white",
            "showbackground": true,
            "ticks": "",
            "zerolinecolor": "white"
           },
           "zaxis": {
            "backgroundcolor": "#E5ECF6",
            "gridcolor": "white",
            "gridwidth": 2,
            "linecolor": "white",
            "showbackground": true,
            "ticks": "",
            "zerolinecolor": "white"
           }
          },
          "shapedefaults": {
           "line": {
            "color": "#2a3f5f"
           }
          },
          "ternary": {
           "aaxis": {
            "gridcolor": "white",
            "linecolor": "white",
            "ticks": ""
           },
           "baxis": {
            "gridcolor": "white",
            "linecolor": "white",
            "ticks": ""
           },
           "bgcolor": "#E5ECF6",
           "caxis": {
            "gridcolor": "white",
            "linecolor": "white",
            "ticks": ""
           }
          },
          "title": {
           "x": 0.05
          },
          "xaxis": {
           "automargin": true,
           "gridcolor": "white",
           "linecolor": "white",
           "ticks": "",
           "title": {
            "standoff": 15
           },
           "zerolinecolor": "white",
           "zerolinewidth": 2
          },
          "yaxis": {
           "automargin": true,
           "gridcolor": "white",
           "linecolor": "white",
           "ticks": "",
           "title": {
            "standoff": 15
           },
           "zerolinecolor": "white",
           "zerolinewidth": 2
          }
         }
        },
        "title": {
         "text": "<b>Head-to-Head Advanced Statistics</b>, <i>Updated Sunday, Jun 09, 2024 20:53:29 CT</i>"
        },
        "xaxis": {
         "anchor": "y",
         "domain": [
          0,
          0.45
         ],
         "title": {
          "text": "<b>Other</b>"
         }
        },
        "xaxis2": {
         "anchor": "y2",
         "domain": [
          0.55,
          1
         ],
         "title": {
          "text": "<b>Other</b>"
         }
        },
        "yaxis": {
         "anchor": "x",
         "domain": [
          0,
          1
         ],
         "title": {
          "text": "<b>Self</b>"
         }
        },
        "yaxis2": {
         "anchor": "x2",
         "domain": [
          0,
          1
         ],
         "title": {
          "text": "<b>Self</b>"
         }
        }
       }
      }
     },
     "metadata": {},
     "output_type": "display_data"
    }
   ],
   "source": [
    "# difference in win percentage and matchup predictor\n",
    "# positive number means overrated, negative number means underrated\n",
    "# understanding: Player A is overrated/underrated against Player B\n",
    "\n",
    "key_upset_table = -win_pct_table + win_prob_table\n",
    "        \n",
    "for c in record_table.columns:\n",
    "    for r in record_table.index:\n",
    "        if sum(record_table.loc[r, c]) == 0:\n",
    "            key_upset_table.loc[r, c] = np.NaN\n",
    "\n",
    "\n",
    "fig2 = make_subplots(\n",
    "    rows=1, cols=2,\n",
    "    subplot_titles=[\n",
    "        \"<b>Over/Underrated</b><br>How Much Better is the Win Probability Against Record\", \n",
    "        \"<b>Average Luck Per Game</b><br>Average Difference in Actual and Expected Performance\"\n",
    "    ],\n",
    "    x_title=f\"{link_fig}, {link_fig1}, {link_fig3}, {link_fig4}, {link_fig5}, {link_fig6}\"\n",
    ")\n",
    "\n",
    "go_ou = go.Heatmap(\n",
    "    x=[x.replace(\" \", \"<br>\") for x in win_prob_table.columns],\n",
    "    y=[x.replace(\" \", \"<br>\") for x in win_prob_table.index],\n",
    "    z=key_upset_table,\n",
    "    zmax=max(key_upset_table.max(axis=None), luck_per_game_table.max(axis=None), abs(min(key_upset_table.min(axis=None), luck_per_game_table.min(axis=None)))),\n",
    "    zmid=0,\n",
    "    zmin=max(key_upset_table.max(axis=None), luck_per_game_table.max(axis=None), abs(min(key_upset_table.min(axis=None), luck_per_game_table.min(axis=None)))) * -1,\n",
    "    text=key_upset_table.applymap(lambda x: \"\" if np.isnan(x) else f\"{x:+.1%}\"),\n",
    "    texttemplate=\"%{text}\",\n",
    "    colorscale=diverging.RdBu_r,\n",
    "    hoverongaps=False\n",
    ")\n",
    "\n",
    "go_luck_pg = go.Heatmap(\n",
    "    x=[x.replace(\" \", \"<br>\") for x in win_prob_table.columns],\n",
    "    y=[x.replace(\" \", \"<br>\") for x in win_prob_table.index],\n",
    "    z=luck_per_game_table,\n",
    "    zmax=max(key_upset_table.max(axis=None), luck_per_game_table.max(axis=None), abs(min(key_upset_table.min(axis=None), luck_per_game_table.min(axis=None)))),\n",
    "    zmid=0,\n",
    "    zmin=max(key_upset_table.max(axis=None), luck_per_game_table.max(axis=None), abs(min(key_upset_table.min(axis=None), luck_per_game_table.min(axis=None)))) * -1,\n",
    "    text=luck_per_game_table.applymap(lambda x: \"\" if np.isnan(x) else f\"{x:+.1%}\"),\n",
    "    texttemplate=\"%{text}\",\n",
    "    colorscale=diverging.RdBu_r,\n",
    "    hoverongaps=False\n",
    ")\n",
    "\n",
    "fig2.add_trace(go_ou, row=1, col=1)\n",
    "fig2.add_trace(go_luck_pg, row=1, col=2)\n",
    "\n",
    "fig2.layout.yaxis1.title=\"<b>Self</b>\"\n",
    "fig2.layout.yaxis2.title=\"<b>Self</b>\"\n",
    "fig2.layout.xaxis1.title=\"<b>Other</b>\"\n",
    "fig2.layout.xaxis2.title=\"<b>Other</b>\"\n",
    "\n",
    "fig2.update_traces(hoverinfo='skip')\n",
    "\n",
    "fig2.update_layout(\n",
    "    title=f\"<b>Head-to-Head Advanced Statistics</b>, {updated_time}\"\n",
    ")\n",
    "\n",
    "fig2.show()\n",
    "fig2.write_html('figures/fig2.html')"
   ]
  },
  {
   "cell_type": "code",
   "execution_count": 12,
   "metadata": {},
   "outputs": [
    {
     "data": {
      "text/html": [
       "<div>\n",
       "<style scoped>\n",
       "    .dataframe tbody tr th:only-of-type {\n",
       "        vertical-align: middle;\n",
       "    }\n",
       "\n",
       "    .dataframe tbody tr th {\n",
       "        vertical-align: top;\n",
       "    }\n",
       "\n",
       "    .dataframe thead th {\n",
       "        text-align: right;\n",
       "    }\n",
       "</style>\n",
       "<table border=\"1\" class=\"dataframe\">\n",
       "  <thead>\n",
       "    <tr style=\"text-align: right;\">\n",
       "      <th></th>\n",
       "      <th>Paul Bartenfeld</th>\n",
       "      <th>Jack Massingill</th>\n",
       "      <th>Evan Sooklal</th>\n",
       "      <th>Roman Ramirez</th>\n",
       "      <th>Lilith Karyadi</th>\n",
       "      <th>Will Simpson</th>\n",
       "      <th>Aaron Carter</th>\n",
       "    </tr>\n",
       "  </thead>\n",
       "  <tbody>\n",
       "    <tr>\n",
       "      <th>Paul Bartenfeld</th>\n",
       "      <td>NaN</td>\n",
       "      <td>0.538523</td>\n",
       "      <td>0.391582</td>\n",
       "      <td>0.306288</td>\n",
       "      <td>0.232292</td>\n",
       "      <td>0.231549</td>\n",
       "      <td>0.075904</td>\n",
       "    </tr>\n",
       "    <tr>\n",
       "      <th>Jack Massingill</th>\n",
       "      <td>1.85693</td>\n",
       "      <td>NaN</td>\n",
       "      <td>0.727141</td>\n",
       "      <td>0.568755</td>\n",
       "      <td>0.43135</td>\n",
       "      <td>0.429971</td>\n",
       "      <td>0.140949</td>\n",
       "    </tr>\n",
       "    <tr>\n",
       "      <th>Evan Sooklal</th>\n",
       "      <td>2.553742</td>\n",
       "      <td>1.37525</td>\n",
       "      <td>NaN</td>\n",
       "      <td>0.78218</td>\n",
       "      <td>0.593213</td>\n",
       "      <td>0.591317</td>\n",
       "      <td>0.193839</td>\n",
       "    </tr>\n",
       "    <tr>\n",
       "      <th>Roman Ramirez</th>\n",
       "      <td>3.264901</td>\n",
       "      <td>1.758226</td>\n",
       "      <td>1.278477</td>\n",
       "      <td>NaN</td>\n",
       "      <td>0.75841</td>\n",
       "      <td>0.755986</td>\n",
       "      <td>0.247819</td>\n",
       "    </tr>\n",
       "    <tr>\n",
       "      <th>Lilith Karyadi</th>\n",
       "      <td>4.30493</td>\n",
       "      <td>2.318306</td>\n",
       "      <td>1.685734</td>\n",
       "      <td>1.318548</td>\n",
       "      <td>NaN</td>\n",
       "      <td>0.996804</td>\n",
       "      <td>0.326762</td>\n",
       "    </tr>\n",
       "    <tr>\n",
       "      <th>Will Simpson</th>\n",
       "      <td>4.318734</td>\n",
       "      <td>2.325739</td>\n",
       "      <td>1.691139</td>\n",
       "      <td>1.322776</td>\n",
       "      <td>1.003206</td>\n",
       "      <td>NaN</td>\n",
       "      <td>0.327809</td>\n",
       "    </tr>\n",
       "    <tr>\n",
       "      <th>Aaron Carter</th>\n",
       "      <td>13.174523</td>\n",
       "      <td>7.094789</td>\n",
       "      <td>5.158909</td>\n",
       "      <td>4.035198</td>\n",
       "      <td>3.060334</td>\n",
       "      <td>3.050552</td>\n",
       "      <td>NaN</td>\n",
       "    </tr>\n",
       "  </tbody>\n",
       "</table>\n",
       "</div>"
      ],
      "text/plain": [
       "                Paul Bartenfeld Jack Massingill Evan Sooklal Roman Ramirez  \\\n",
       "Paul Bartenfeld             NaN        0.538523     0.391582      0.306288   \n",
       "Jack Massingill         1.85693             NaN     0.727141      0.568755   \n",
       "Evan Sooklal           2.553742         1.37525          NaN       0.78218   \n",
       "Roman Ramirez          3.264901        1.758226     1.278477           NaN   \n",
       "Lilith Karyadi          4.30493        2.318306     1.685734      1.318548   \n",
       "Will Simpson           4.318734        2.325739     1.691139      1.322776   \n",
       "Aaron Carter          13.174523        7.094789     5.158909      4.035198   \n",
       "\n",
       "                Lilith Karyadi Will Simpson Aaron Carter  \n",
       "Paul Bartenfeld       0.232292     0.231549     0.075904  \n",
       "Jack Massingill        0.43135     0.429971     0.140949  \n",
       "Evan Sooklal          0.593213     0.591317     0.193839  \n",
       "Roman Ramirez          0.75841     0.755986     0.247819  \n",
       "Lilith Karyadi             NaN     0.996804     0.326762  \n",
       "Will Simpson          1.003206          NaN     0.327809  \n",
       "Aaron Carter          3.060334     3.050552          NaN  "
      ]
     },
     "metadata": {},
     "output_type": "display_data"
    },
    {
     "data": {
      "text/html": [
       "<div>\n",
       "<style scoped>\n",
       "    .dataframe tbody tr th:only-of-type {\n",
       "        vertical-align: middle;\n",
       "    }\n",
       "\n",
       "    .dataframe tbody tr th {\n",
       "        vertical-align: top;\n",
       "    }\n",
       "\n",
       "    .dataframe thead th {\n",
       "        text-align: right;\n",
       "    }\n",
       "</style>\n",
       "<table border=\"1\" class=\"dataframe\">\n",
       "  <thead>\n",
       "    <tr style=\"text-align: right;\">\n",
       "      <th></th>\n",
       "      <th>Paul Bartenfeld</th>\n",
       "      <th>Jack Massingill</th>\n",
       "      <th>Evan Sooklal</th>\n",
       "      <th>Roman Ramirez</th>\n",
       "      <th>Lilith Karyadi</th>\n",
       "      <th>Will Simpson</th>\n",
       "      <th>Aaron Carter</th>\n",
       "    </tr>\n",
       "  </thead>\n",
       "  <tbody>\n",
       "    <tr>\n",
       "      <th>Paul Bartenfeld</th>\n",
       "      <td>NaN</td>\n",
       "      <td>+185</td>\n",
       "      <td>+255</td>\n",
       "      <td>+325</td>\n",
       "      <td>+430</td>\n",
       "      <td>+430</td>\n",
       "      <td>+1315</td>\n",
       "    </tr>\n",
       "    <tr>\n",
       "      <th>Jack Massingill</th>\n",
       "      <td>-185</td>\n",
       "      <td>NaN</td>\n",
       "      <td>+140</td>\n",
       "      <td>+175</td>\n",
       "      <td>+230</td>\n",
       "      <td>+235</td>\n",
       "      <td>+710</td>\n",
       "    </tr>\n",
       "    <tr>\n",
       "      <th>Evan Sooklal</th>\n",
       "      <td>-255</td>\n",
       "      <td>-140</td>\n",
       "      <td>NaN</td>\n",
       "      <td>+130</td>\n",
       "      <td>+170</td>\n",
       "      <td>+170</td>\n",
       "      <td>+515</td>\n",
       "    </tr>\n",
       "    <tr>\n",
       "      <th>Roman Ramirez</th>\n",
       "      <td>-325</td>\n",
       "      <td>-175</td>\n",
       "      <td>-130</td>\n",
       "      <td>NaN</td>\n",
       "      <td>+130</td>\n",
       "      <td>+130</td>\n",
       "      <td>+405</td>\n",
       "    </tr>\n",
       "    <tr>\n",
       "      <th>Lilith Karyadi</th>\n",
       "      <td>-430</td>\n",
       "      <td>-230</td>\n",
       "      <td>-170</td>\n",
       "      <td>-130</td>\n",
       "      <td>NaN</td>\n",
       "      <td>+100</td>\n",
       "      <td>+305</td>\n",
       "    </tr>\n",
       "    <tr>\n",
       "      <th>Will Simpson</th>\n",
       "      <td>-430</td>\n",
       "      <td>-235</td>\n",
       "      <td>-170</td>\n",
       "      <td>-130</td>\n",
       "      <td>-100</td>\n",
       "      <td>NaN</td>\n",
       "      <td>+305</td>\n",
       "    </tr>\n",
       "    <tr>\n",
       "      <th>Aaron Carter</th>\n",
       "      <td>-1315</td>\n",
       "      <td>-710</td>\n",
       "      <td>-515</td>\n",
       "      <td>-405</td>\n",
       "      <td>-305</td>\n",
       "      <td>-305</td>\n",
       "      <td>NaN</td>\n",
       "    </tr>\n",
       "  </tbody>\n",
       "</table>\n",
       "</div>"
      ],
      "text/plain": [
       "                Paul Bartenfeld Jack Massingill Evan Sooklal Roman Ramirez  \\\n",
       "Paul Bartenfeld             NaN            +185         +255          +325   \n",
       "Jack Massingill            -185             NaN         +140          +175   \n",
       "Evan Sooklal               -255            -140          NaN          +130   \n",
       "Roman Ramirez              -325            -175         -130           NaN   \n",
       "Lilith Karyadi             -430            -230         -170          -130   \n",
       "Will Simpson               -430            -235         -170          -130   \n",
       "Aaron Carter              -1315            -710         -515          -405   \n",
       "\n",
       "                Lilith Karyadi Will Simpson Aaron Carter  \n",
       "Paul Bartenfeld           +430         +430        +1315  \n",
       "Jack Massingill           +230         +235         +710  \n",
       "Evan Sooklal              +170         +170         +515  \n",
       "Roman Ramirez             +130         +130         +405  \n",
       "Lilith Karyadi             NaN         +100         +305  \n",
       "Will Simpson              -100          NaN         +305  \n",
       "Aaron Carter              -305         -305          NaN  "
      ]
     },
     "metadata": {},
     "output_type": "display_data"
    }
   ],
   "source": [
    "# betting/gambling table\n",
    "\n",
    "# to-do\n",
    "# odds to win championship\n",
    "# record for/against the spread\n",
    "# player vs. player spread\n",
    "# over/under total\n",
    "\n",
    "odds_table = win_prob_table / win_prob_table.T\n",
    "ml_table = odds_table.copy(deep=True)\n",
    "\n",
    "for c in ml_table.columns:\n",
    "    for r in ml_table.index:\n",
    "        ml_table.loc[r, c] = np.NaN\n",
    "        win_prob = win_prob_table.loc[r, c]\n",
    "        if r == c:\n",
    "            pass\n",
    "        elif win_prob > 0.5:\n",
    "            ml_table.loc[r, c] = -1 * win_prob / (1 - win_prob) * 100\n",
    "        elif win_prob < 0.5:\n",
    "            ml_table.loc[r, c] = (1 - win_prob) / win_prob * 100\n",
    "\n",
    "ml_table = ml_table.applymap(lambda x: '{:+.0f}'.format((x * 2).round(-1) / 2) if not np.isnan(x) else np.NaN)\n",
    "\n",
    "display(odds_table)\n",
    "display(ml_table)"
   ]
  },
  {
   "cell_type": "code",
   "execution_count": 13,
   "metadata": {},
   "outputs": [
    {
     "data": {
      "text/html": [
       "<div>\n",
       "<style scoped>\n",
       "    .dataframe tbody tr th:only-of-type {\n",
       "        vertical-align: middle;\n",
       "    }\n",
       "\n",
       "    .dataframe tbody tr th {\n",
       "        vertical-align: top;\n",
       "    }\n",
       "\n",
       "    .dataframe thead th {\n",
       "        text-align: right;\n",
       "    }\n",
       "</style>\n",
       "<table border=\"1\" class=\"dataframe\">\n",
       "  <thead>\n",
       "    <tr style=\"text-align: right;\">\n",
       "      <th></th>\n",
       "      <th>Paul Bartenfeld</th>\n",
       "      <th>Jack Massingill</th>\n",
       "      <th>Evan Sooklal</th>\n",
       "      <th>Roman Ramirez</th>\n",
       "      <th>Lilith Karyadi</th>\n",
       "      <th>Will Simpson</th>\n",
       "      <th>Aaron Carter</th>\n",
       "    </tr>\n",
       "  </thead>\n",
       "  <tbody>\n",
       "    <tr>\n",
       "      <th>Paul Bartenfeld</th>\n",
       "      <td>NaN</td>\n",
       "      <td>0.281786</td>\n",
       "      <td>0.192984</td>\n",
       "      <td>0.139150</td>\n",
       "      <td>0.093205</td>\n",
       "      <td>0.092756</td>\n",
       "      <td>0.014229</td>\n",
       "    </tr>\n",
       "    <tr>\n",
       "      <th>Jack Massingill</th>\n",
       "      <td>0.718214</td>\n",
       "      <td>NaN</td>\n",
       "      <td>0.382498</td>\n",
       "      <td>0.299021</td>\n",
       "      <td>0.217714</td>\n",
       "      <td>0.216864</td>\n",
       "      <td>0.042013</td>\n",
       "    </tr>\n",
       "    <tr>\n",
       "      <th>Evan Sooklal</th>\n",
       "      <td>0.807016</td>\n",
       "      <td>0.617502</td>\n",
       "      <td>NaN</td>\n",
       "      <td>0.408791</td>\n",
       "      <td>0.312668</td>\n",
       "      <td>0.311619</td>\n",
       "      <td>0.070528</td>\n",
       "    </tr>\n",
       "    <tr>\n",
       "      <th>Roman Ramirez</th>\n",
       "      <td>0.860850</td>\n",
       "      <td>0.700979</td>\n",
       "      <td>0.591209</td>\n",
       "      <td>NaN</td>\n",
       "      <td>0.397605</td>\n",
       "      <td>0.396450</td>\n",
       "      <td>0.102661</td>\n",
       "    </tr>\n",
       "    <tr>\n",
       "      <th>Lilith Karyadi</th>\n",
       "      <td>0.906795</td>\n",
       "      <td>0.782286</td>\n",
       "      <td>0.687332</td>\n",
       "      <td>0.602395</td>\n",
       "      <td>NaN</td>\n",
       "      <td>0.498800</td>\n",
       "      <td>0.152092</td>\n",
       "    </tr>\n",
       "    <tr>\n",
       "      <th>Will Simpson</th>\n",
       "      <td>0.907244</td>\n",
       "      <td>0.783136</td>\n",
       "      <td>0.688381</td>\n",
       "      <td>0.603550</td>\n",
       "      <td>0.501200</td>\n",
       "      <td>NaN</td>\n",
       "      <td>0.152755</td>\n",
       "    </tr>\n",
       "    <tr>\n",
       "      <th>Aaron Carter</th>\n",
       "      <td>0.985771</td>\n",
       "      <td>0.957987</td>\n",
       "      <td>0.929472</td>\n",
       "      <td>0.897339</td>\n",
       "      <td>0.847908</td>\n",
       "      <td>0.847245</td>\n",
       "      <td>NaN</td>\n",
       "    </tr>\n",
       "  </tbody>\n",
       "</table>\n",
       "</div>"
      ],
      "text/plain": [
       "                 Paul Bartenfeld  Jack Massingill  Evan Sooklal  \\\n",
       "Paul Bartenfeld              NaN         0.281786      0.192984   \n",
       "Jack Massingill         0.718214              NaN      0.382498   \n",
       "Evan Sooklal            0.807016         0.617502           NaN   \n",
       "Roman Ramirez           0.860850         0.700979      0.591209   \n",
       "Lilith Karyadi          0.906795         0.782286      0.687332   \n",
       "Will Simpson            0.907244         0.783136      0.688381   \n",
       "Aaron Carter            0.985771         0.957987      0.929472   \n",
       "\n",
       "                 Roman Ramirez  Lilith Karyadi  Will Simpson  Aaron Carter  \n",
       "Paul Bartenfeld       0.139150        0.093205      0.092756      0.014229  \n",
       "Jack Massingill       0.299021        0.217714      0.216864      0.042013  \n",
       "Evan Sooklal          0.408791        0.312668      0.311619      0.070528  \n",
       "Roman Ramirez              NaN        0.397605      0.396450      0.102661  \n",
       "Lilith Karyadi        0.602395             NaN      0.498800      0.152092  \n",
       "Will Simpson          0.603550        0.501200           NaN      0.152755  \n",
       "Aaron Carter          0.897339        0.847908      0.847245           NaN  "
      ]
     },
     "metadata": {},
     "output_type": "display_data"
    }
   ],
   "source": [
    "# best 2 out of 3 calculator\n",
    "best_23_table = win_pct_table.copy(deep=True)\n",
    "best_23_table = best_23_table.applymap(lambda x: 0)\n",
    "\n",
    "for c in best_23_table.columns:\n",
    "    for r in best_23_table.columns:\n",
    "        if r == c:\n",
    "            best_23_table.loc[r, c] = np.NaN\n",
    "        else:\n",
    "            win_prob = win_prob_table.loc[r, c]\n",
    "            best_23_table.loc[r, c] = np.power(win_prob, 2) * (1 + (2 * (1 - win_prob)))\n",
    "\n",
    "display(best_23_table)"
   ]
  },
  {
   "cell_type": "code",
   "execution_count": 14,
   "metadata": {},
   "outputs": [
    {
     "data": {
      "text/html": [
       "<div>\n",
       "<style scoped>\n",
       "    .dataframe tbody tr th:only-of-type {\n",
       "        vertical-align: middle;\n",
       "    }\n",
       "\n",
       "    .dataframe tbody tr th {\n",
       "        vertical-align: top;\n",
       "    }\n",
       "\n",
       "    .dataframe thead th {\n",
       "        text-align: right;\n",
       "    }\n",
       "</style>\n",
       "<table border=\"1\" class=\"dataframe\">\n",
       "  <thead>\n",
       "    <tr style=\"text-align: right;\">\n",
       "      <th></th>\n",
       "      <th>0</th>\n",
       "      <th>1</th>\n",
       "      <th>2</th>\n",
       "      <th>3</th>\n",
       "      <th>4</th>\n",
       "      <th>5</th>\n",
       "      <th>6</th>\n",
       "      <th>7</th>\n",
       "      <th>8</th>\n",
       "    </tr>\n",
       "  </thead>\n",
       "  <tbody>\n",
       "    <tr>\n",
       "      <th>Aaron Carter</th>\n",
       "      <td>1.489277e-07</td>\n",
       "      <td>0.000008</td>\n",
       "      <td>0.000194</td>\n",
       "      <td>0.002480</td>\n",
       "      <td>0.018939</td>\n",
       "      <td>0.088775</td>\n",
       "      <td>0.249862</td>\n",
       "      <td>0.386872</td>\n",
       "      <td>0.252868</td>\n",
       "    </tr>\n",
       "    <tr>\n",
       "      <th>Will Simpson</th>\n",
       "      <td>1.922216e-04</td>\n",
       "      <td>0.003390</td>\n",
       "      <td>0.024711</td>\n",
       "      <td>0.096872</td>\n",
       "      <td>0.222368</td>\n",
       "      <td>0.303902</td>\n",
       "      <td>0.238462</td>\n",
       "      <td>0.095837</td>\n",
       "      <td>0.014266</td>\n",
       "    </tr>\n",
       "    <tr>\n",
       "      <th>Lilith Karyadi</th>\n",
       "      <td>1.956142e-04</td>\n",
       "      <td>0.003438</td>\n",
       "      <td>0.024976</td>\n",
       "      <td>0.097570</td>\n",
       "      <td>0.223170</td>\n",
       "      <td>0.303883</td>\n",
       "      <td>0.237553</td>\n",
       "      <td>0.095108</td>\n",
       "      <td>0.014106</td>\n",
       "    </tr>\n",
       "    <tr>\n",
       "      <th>Roman Ramirez</th>\n",
       "      <td>8.231612e-04</td>\n",
       "      <td>0.010773</td>\n",
       "      <td>0.058001</td>\n",
       "      <td>0.166954</td>\n",
       "      <td>0.279580</td>\n",
       "      <td>0.276913</td>\n",
       "      <td>0.156653</td>\n",
       "      <td>0.045376</td>\n",
       "      <td>0.004927</td>\n",
       "    </tr>\n",
       "    <tr>\n",
       "      <th>Evan Sooklal</th>\n",
       "      <td>2.601845e-03</td>\n",
       "      <td>0.026067</td>\n",
       "      <td>0.106928</td>\n",
       "      <td>0.233334</td>\n",
       "      <td>0.294963</td>\n",
       "      <td>0.220017</td>\n",
       "      <td>0.093813</td>\n",
       "      <td>0.020570</td>\n",
       "      <td>0.001707</td>\n",
       "    </tr>\n",
       "    <tr>\n",
       "      <th>Jack Massingill</th>\n",
       "      <td>1.352800e-02</td>\n",
       "      <td>0.087166</td>\n",
       "      <td>0.224508</td>\n",
       "      <td>0.301702</td>\n",
       "      <td>0.233380</td>\n",
       "      <td>0.107065</td>\n",
       "      <td>0.028459</td>\n",
       "      <td>0.003974</td>\n",
       "      <td>0.000218</td>\n",
       "    </tr>\n",
       "    <tr>\n",
       "      <th>Paul Bartenfeld</th>\n",
       "      <td>1.155025e-01</td>\n",
       "      <td>0.294180</td>\n",
       "      <td>0.317200</td>\n",
       "      <td>0.188685</td>\n",
       "      <td>0.067530</td>\n",
       "      <td>0.014827</td>\n",
       "      <td>0.001937</td>\n",
       "      <td>0.000136</td>\n",
       "      <td>0.000004</td>\n",
       "    </tr>\n",
       "  </tbody>\n",
       "</table>\n",
       "</div>"
      ],
      "text/plain": [
       "                            0         1         2         3         4  \\\n",
       "Aaron Carter     1.489277e-07  0.000008  0.000194  0.002480  0.018939   \n",
       "Will Simpson     1.922216e-04  0.003390  0.024711  0.096872  0.222368   \n",
       "Lilith Karyadi   1.956142e-04  0.003438  0.024976  0.097570  0.223170   \n",
       "Roman Ramirez    8.231612e-04  0.010773  0.058001  0.166954  0.279580   \n",
       "Evan Sooklal     2.601845e-03  0.026067  0.106928  0.233334  0.294963   \n",
       "Jack Massingill  1.352800e-02  0.087166  0.224508  0.301702  0.233380   \n",
       "Paul Bartenfeld  1.155025e-01  0.294180  0.317200  0.188685  0.067530   \n",
       "\n",
       "                        5         6         7         8  \n",
       "Aaron Carter     0.088775  0.249862  0.386872  0.252868  \n",
       "Will Simpson     0.303902  0.238462  0.095837  0.014266  \n",
       "Lilith Karyadi   0.303883  0.237553  0.095108  0.014106  \n",
       "Roman Ramirez    0.276913  0.156653  0.045376  0.004927  \n",
       "Evan Sooklal     0.220017  0.093813  0.020570  0.001707  \n",
       "Jack Massingill  0.107065  0.028459  0.003974  0.000218  \n",
       "Paul Bartenfeld  0.014827  0.001937  0.000136  0.000004  "
      ]
     },
     "metadata": {},
     "output_type": "display_data"
    },
    {
     "data": {
      "text/html": [
       "<div>\n",
       "<style scoped>\n",
       "    .dataframe tbody tr th:only-of-type {\n",
       "        vertical-align: middle;\n",
       "    }\n",
       "\n",
       "    .dataframe tbody tr th {\n",
       "        vertical-align: top;\n",
       "    }\n",
       "\n",
       "    .dataframe thead th {\n",
       "        text-align: right;\n",
       "    }\n",
       "</style>\n",
       "<table border=\"1\" class=\"dataframe\">\n",
       "  <thead>\n",
       "    <tr style=\"text-align: right;\">\n",
       "      <th></th>\n",
       "      <th>0</th>\n",
       "      <th>1</th>\n",
       "      <th>2</th>\n",
       "      <th>3</th>\n",
       "      <th>4</th>\n",
       "      <th>5</th>\n",
       "      <th>6</th>\n",
       "      <th>7</th>\n",
       "      <th>8</th>\n",
       "    </tr>\n",
       "  </thead>\n",
       "  <tbody>\n",
       "    <tr>\n",
       "      <th>Aaron Carter</th>\n",
       "      <td>6.714665e+06</td>\n",
       "      <td>120239.515683</td>\n",
       "      <td>5146.047566</td>\n",
       "      <td>402.251582</td>\n",
       "      <td>51.799934</td>\n",
       "      <td>10.264426</td>\n",
       "      <td>3.002203</td>\n",
       "      <td>1.584833</td>\n",
       "      <td>2.954627</td>\n",
       "    </tr>\n",
       "    <tr>\n",
       "      <th>Will Simpson</th>\n",
       "      <td>5.201330e+03</td>\n",
       "      <td>294.019073</td>\n",
       "      <td>39.467894</td>\n",
       "      <td>9.322886</td>\n",
       "      <td>3.497057</td>\n",
       "      <td>2.290537</td>\n",
       "      <td>3.193542</td>\n",
       "      <td>9.434337</td>\n",
       "      <td>69.094739</td>\n",
       "    </tr>\n",
       "    <tr>\n",
       "      <th>Lilith Karyadi</th>\n",
       "      <td>5.111103e+03</td>\n",
       "      <td>289.884839</td>\n",
       "      <td>39.038070</td>\n",
       "      <td>9.249036</td>\n",
       "      <td>3.480879</td>\n",
       "      <td>2.290739</td>\n",
       "      <td>3.209593</td>\n",
       "      <td>9.514352</td>\n",
       "      <td>69.892453</td>\n",
       "    </tr>\n",
       "    <tr>\n",
       "      <th>Roman Ramirez</th>\n",
       "      <td>1.213829e+03</td>\n",
       "      <td>91.827531</td>\n",
       "      <td>16.240949</td>\n",
       "      <td>4.989668</td>\n",
       "      <td>2.576799</td>\n",
       "      <td>2.611249</td>\n",
       "      <td>5.383520</td>\n",
       "      <td>21.038265</td>\n",
       "      <td>201.945738</td>\n",
       "    </tr>\n",
       "    <tr>\n",
       "      <th>Evan Sooklal</th>\n",
       "      <td>3.833427e+02</td>\n",
       "      <td>37.363169</td>\n",
       "      <td>8.352057</td>\n",
       "      <td>3.285698</td>\n",
       "      <td>2.390252</td>\n",
       "      <td>3.545113</td>\n",
       "      <td>9.659547</td>\n",
       "      <td>47.615237</td>\n",
       "      <td>584.896554</td>\n",
       "    </tr>\n",
       "    <tr>\n",
       "      <th>Jack Massingill</th>\n",
       "      <td>7.292078e+01</td>\n",
       "      <td>10.472373</td>\n",
       "      <td>3.454186</td>\n",
       "      <td>2.314524</td>\n",
       "      <td>3.284854</td>\n",
       "      <td>8.340102</td>\n",
       "      <td>34.138404</td>\n",
       "      <td>250.646456</td>\n",
       "      <td>4595.992336</td>\n",
       "    </tr>\n",
       "    <tr>\n",
       "      <th>Paul Bartenfeld</th>\n",
       "      <td>7.657819e+00</td>\n",
       "      <td>2.399284</td>\n",
       "      <td>2.152588</td>\n",
       "      <td>4.299841</td>\n",
       "      <td>13.808242</td>\n",
       "      <td>66.443889</td>\n",
       "      <td>515.389558</td>\n",
       "      <td>7364.219202</td>\n",
       "      <td>262463.151887</td>\n",
       "    </tr>\n",
       "  </tbody>\n",
       "</table>\n",
       "</div>"
      ],
      "text/plain": [
       "                            0              1            2           3  \\\n",
       "Aaron Carter     6.714665e+06  120239.515683  5146.047566  402.251582   \n",
       "Will Simpson     5.201330e+03     294.019073    39.467894    9.322886   \n",
       "Lilith Karyadi   5.111103e+03     289.884839    39.038070    9.249036   \n",
       "Roman Ramirez    1.213829e+03      91.827531    16.240949    4.989668   \n",
       "Evan Sooklal     3.833427e+02      37.363169     8.352057    3.285698   \n",
       "Jack Massingill  7.292078e+01      10.472373     3.454186    2.314524   \n",
       "Paul Bartenfeld  7.657819e+00       2.399284     2.152588    4.299841   \n",
       "\n",
       "                         4          5           6            7              8  \n",
       "Aaron Carter     51.799934  10.264426    3.002203     1.584833       2.954627  \n",
       "Will Simpson      3.497057   2.290537    3.193542     9.434337      69.094739  \n",
       "Lilith Karyadi    3.480879   2.290739    3.209593     9.514352      69.892453  \n",
       "Roman Ramirez     2.576799   2.611249    5.383520    21.038265     201.945738  \n",
       "Evan Sooklal      2.390252   3.545113    9.659547    47.615237     584.896554  \n",
       "Jack Massingill   3.284854   8.340102   34.138404   250.646456    4595.992336  \n",
       "Paul Bartenfeld  13.808242  66.443889  515.389558  7364.219202  262463.151887  "
      ]
     },
     "metadata": {},
     "output_type": "display_data"
    },
    {
     "data": {
      "text/html": [
       "<div>\n",
       "<style scoped>\n",
       "    .dataframe tbody tr th:only-of-type {\n",
       "        vertical-align: middle;\n",
       "    }\n",
       "\n",
       "    .dataframe tbody tr th {\n",
       "        vertical-align: top;\n",
       "    }\n",
       "\n",
       "    .dataframe thead th {\n",
       "        text-align: right;\n",
       "    }\n",
       "</style>\n",
       "<table border=\"1\" class=\"dataframe\">\n",
       "  <thead>\n",
       "    <tr style=\"text-align: right;\">\n",
       "      <th></th>\n",
       "      <th>0</th>\n",
       "      <th>1</th>\n",
       "      <th>2</th>\n",
       "      <th>3</th>\n",
       "      <th>4</th>\n",
       "      <th>5</th>\n",
       "      <th>6</th>\n",
       "      <th>7</th>\n",
       "      <th>8</th>\n",
       "    </tr>\n",
       "  </thead>\n",
       "  <tbody>\n",
       "    <tr>\n",
       "      <th>Aaron Carter</th>\n",
       "      <td>+670,000,000</td>\n",
       "      <td>+12,000,000</td>\n",
       "      <td>+510,000</td>\n",
       "      <td>+40,000</td>\n",
       "      <td>+5,200</td>\n",
       "      <td>+1,000</td>\n",
       "      <td>+300</td>\n",
       "      <td>+160</td>\n",
       "      <td>+300</td>\n",
       "    </tr>\n",
       "    <tr>\n",
       "      <th>Will Simpson</th>\n",
       "      <td>+520,000</td>\n",
       "      <td>+29,000</td>\n",
       "      <td>+3,900</td>\n",
       "      <td>+930</td>\n",
       "      <td>+350</td>\n",
       "      <td>+230</td>\n",
       "      <td>+320</td>\n",
       "      <td>+940</td>\n",
       "      <td>+6,900</td>\n",
       "    </tr>\n",
       "    <tr>\n",
       "      <th>Lilith Karyadi</th>\n",
       "      <td>+510,000</td>\n",
       "      <td>+29,000</td>\n",
       "      <td>+3,900</td>\n",
       "      <td>+920</td>\n",
       "      <td>+350</td>\n",
       "      <td>+230</td>\n",
       "      <td>+320</td>\n",
       "      <td>+950</td>\n",
       "      <td>+7,000</td>\n",
       "    </tr>\n",
       "    <tr>\n",
       "      <th>Roman Ramirez</th>\n",
       "      <td>+120,000</td>\n",
       "      <td>+9,200</td>\n",
       "      <td>+1,600</td>\n",
       "      <td>+500</td>\n",
       "      <td>+260</td>\n",
       "      <td>+260</td>\n",
       "      <td>+540</td>\n",
       "      <td>+2,100</td>\n",
       "      <td>+20,000</td>\n",
       "    </tr>\n",
       "    <tr>\n",
       "      <th>Evan Sooklal</th>\n",
       "      <td>+38,000</td>\n",
       "      <td>+3,700</td>\n",
       "      <td>+840</td>\n",
       "      <td>+330</td>\n",
       "      <td>+240</td>\n",
       "      <td>+350</td>\n",
       "      <td>+970</td>\n",
       "      <td>+4,800</td>\n",
       "      <td>+58,000</td>\n",
       "    </tr>\n",
       "    <tr>\n",
       "      <th>Jack Massingill</th>\n",
       "      <td>+7,300</td>\n",
       "      <td>+1,000</td>\n",
       "      <td>+350</td>\n",
       "      <td>+230</td>\n",
       "      <td>+330</td>\n",
       "      <td>+830</td>\n",
       "      <td>+3,400</td>\n",
       "      <td>+25,000</td>\n",
       "      <td>+460,000</td>\n",
       "    </tr>\n",
       "    <tr>\n",
       "      <th>Paul Bartenfeld</th>\n",
       "      <td>+770</td>\n",
       "      <td>+240</td>\n",
       "      <td>+220</td>\n",
       "      <td>+430</td>\n",
       "      <td>+1,400</td>\n",
       "      <td>+6,600</td>\n",
       "      <td>+52,000</td>\n",
       "      <td>+740,000</td>\n",
       "      <td>+26,000,000</td>\n",
       "    </tr>\n",
       "  </tbody>\n",
       "</table>\n",
       "</div>"
      ],
      "text/plain": [
       "                            0            1         2        3       4       5  \\\n",
       "Aaron Carter     +670,000,000  +12,000,000  +510,000  +40,000  +5,200  +1,000   \n",
       "Will Simpson         +520,000      +29,000    +3,900     +930    +350    +230   \n",
       "Lilith Karyadi       +510,000      +29,000    +3,900     +920    +350    +230   \n",
       "Roman Ramirez        +120,000       +9,200    +1,600     +500    +260    +260   \n",
       "Evan Sooklal          +38,000       +3,700      +840     +330    +240    +350   \n",
       "Jack Massingill        +7,300       +1,000      +350     +230    +330    +830   \n",
       "Paul Bartenfeld          +770         +240      +220     +430  +1,400  +6,600   \n",
       "\n",
       "                       6         7            8  \n",
       "Aaron Carter        +300      +160         +300  \n",
       "Will Simpson        +320      +940       +6,900  \n",
       "Lilith Karyadi      +320      +950       +7,000  \n",
       "Roman Ramirez       +540    +2,100      +20,000  \n",
       "Evan Sooklal        +970    +4,800      +58,000  \n",
       "Jack Massingill   +3,400   +25,000     +460,000  \n",
       "Paul Bartenfeld  +52,000  +740,000  +26,000,000  "
      ]
     },
     "metadata": {},
     "output_type": "display_data"
    },
    {
     "data": {
      "text/html": [
       "<div>\n",
       "<style scoped>\n",
       "    .dataframe tbody tr th:only-of-type {\n",
       "        vertical-align: middle;\n",
       "    }\n",
       "\n",
       "    .dataframe tbody tr th {\n",
       "        vertical-align: top;\n",
       "    }\n",
       "\n",
       "    .dataframe thead th {\n",
       "        text-align: right;\n",
       "    }\n",
       "</style>\n",
       "<table border=\"1\" class=\"dataframe\">\n",
       "  <thead>\n",
       "    <tr style=\"text-align: right;\">\n",
       "      <th></th>\n",
       "      <th>1</th>\n",
       "      <th>2</th>\n",
       "      <th>3</th>\n",
       "      <th>4</th>\n",
       "      <th>5</th>\n",
       "      <th>6</th>\n",
       "      <th>7</th>\n",
       "      <th>8</th>\n",
       "    </tr>\n",
       "  </thead>\n",
       "  <tbody>\n",
       "    <tr>\n",
       "      <th>Aaron Carter</th>\n",
       "      <td>1.000000</td>\n",
       "      <td>0.999992</td>\n",
       "      <td>0.999797</td>\n",
       "      <td>0.997317</td>\n",
       "      <td>0.978378</td>\n",
       "      <td>0.889603</td>\n",
       "      <td>0.639741</td>\n",
       "      <td>0.252868</td>\n",
       "    </tr>\n",
       "    <tr>\n",
       "      <th>Will Simpson</th>\n",
       "      <td>0.999808</td>\n",
       "      <td>0.996418</td>\n",
       "      <td>0.971707</td>\n",
       "      <td>0.874835</td>\n",
       "      <td>0.652467</td>\n",
       "      <td>0.348566</td>\n",
       "      <td>0.110104</td>\n",
       "      <td>0.014266</td>\n",
       "    </tr>\n",
       "    <tr>\n",
       "      <th>Lilith Karyadi</th>\n",
       "      <td>0.999804</td>\n",
       "      <td>0.996367</td>\n",
       "      <td>0.971390</td>\n",
       "      <td>0.873820</td>\n",
       "      <td>0.650650</td>\n",
       "      <td>0.346767</td>\n",
       "      <td>0.109214</td>\n",
       "      <td>0.014106</td>\n",
       "    </tr>\n",
       "    <tr>\n",
       "      <th>Roman Ramirez</th>\n",
       "      <td>0.999177</td>\n",
       "      <td>0.988404</td>\n",
       "      <td>0.930403</td>\n",
       "      <td>0.763449</td>\n",
       "      <td>0.483869</td>\n",
       "      <td>0.206956</td>\n",
       "      <td>0.050303</td>\n",
       "      <td>0.004927</td>\n",
       "    </tr>\n",
       "    <tr>\n",
       "      <th>Evan Sooklal</th>\n",
       "      <td>0.997398</td>\n",
       "      <td>0.971331</td>\n",
       "      <td>0.864403</td>\n",
       "      <td>0.631069</td>\n",
       "      <td>0.336106</td>\n",
       "      <td>0.116089</td>\n",
       "      <td>0.022276</td>\n",
       "      <td>0.001707</td>\n",
       "    </tr>\n",
       "    <tr>\n",
       "      <th>Jack Massingill</th>\n",
       "      <td>0.986472</td>\n",
       "      <td>0.899306</td>\n",
       "      <td>0.674798</td>\n",
       "      <td>0.373096</td>\n",
       "      <td>0.139715</td>\n",
       "      <td>0.032650</td>\n",
       "      <td>0.004191</td>\n",
       "      <td>0.000218</td>\n",
       "    </tr>\n",
       "    <tr>\n",
       "      <th>Paul Bartenfeld</th>\n",
       "      <td>0.884497</td>\n",
       "      <td>0.590318</td>\n",
       "      <td>0.273118</td>\n",
       "      <td>0.084433</td>\n",
       "      <td>0.016903</td>\n",
       "      <td>0.002076</td>\n",
       "      <td>0.000140</td>\n",
       "      <td>0.000004</td>\n",
       "    </tr>\n",
       "  </tbody>\n",
       "</table>\n",
       "</div>"
      ],
      "text/plain": [
       "                        1         2         3         4         5         6  \\\n",
       "Aaron Carter     1.000000  0.999992  0.999797  0.997317  0.978378  0.889603   \n",
       "Will Simpson     0.999808  0.996418  0.971707  0.874835  0.652467  0.348566   \n",
       "Lilith Karyadi   0.999804  0.996367  0.971390  0.873820  0.650650  0.346767   \n",
       "Roman Ramirez    0.999177  0.988404  0.930403  0.763449  0.483869  0.206956   \n",
       "Evan Sooklal     0.997398  0.971331  0.864403  0.631069  0.336106  0.116089   \n",
       "Jack Massingill  0.986472  0.899306  0.674798  0.373096  0.139715  0.032650   \n",
       "Paul Bartenfeld  0.884497  0.590318  0.273118  0.084433  0.016903  0.002076   \n",
       "\n",
       "                        7         8  \n",
       "Aaron Carter     0.639741  0.252868  \n",
       "Will Simpson     0.110104  0.014266  \n",
       "Lilith Karyadi   0.109214  0.014106  \n",
       "Roman Ramirez    0.050303  0.004927  \n",
       "Evan Sooklal     0.022276  0.001707  \n",
       "Jack Massingill  0.004191  0.000218  \n",
       "Paul Bartenfeld  0.000140  0.000004  "
      ]
     },
     "metadata": {},
     "output_type": "display_data"
    },
    {
     "data": {
      "text/html": [
       "<div>\n",
       "<style scoped>\n",
       "    .dataframe tbody tr th:only-of-type {\n",
       "        vertical-align: middle;\n",
       "    }\n",
       "\n",
       "    .dataframe tbody tr th {\n",
       "        vertical-align: top;\n",
       "    }\n",
       "\n",
       "    .dataframe thead th {\n",
       "        text-align: right;\n",
       "    }\n",
       "</style>\n",
       "<table border=\"1\" class=\"dataframe\">\n",
       "  <thead>\n",
       "    <tr style=\"text-align: right;\">\n",
       "      <th></th>\n",
       "      <th>1</th>\n",
       "      <th>2</th>\n",
       "      <th>3</th>\n",
       "      <th>4</th>\n",
       "      <th>5</th>\n",
       "      <th>6</th>\n",
       "      <th>7</th>\n",
       "      <th>8</th>\n",
       "    </tr>\n",
       "  </thead>\n",
       "  <tbody>\n",
       "    <tr>\n",
       "      <th>Aaron Carter</th>\n",
       "      <td>1.489278e-07</td>\n",
       "      <td>0.000008</td>\n",
       "      <td>0.000203</td>\n",
       "      <td>0.002690</td>\n",
       "      <td>0.022100</td>\n",
       "      <td>0.124097</td>\n",
       "      <td>0.563134</td>\n",
       "      <td>2.954627</td>\n",
       "    </tr>\n",
       "    <tr>\n",
       "      <th>Will Simpson</th>\n",
       "      <td>1.922585e-04</td>\n",
       "      <td>0.003595</td>\n",
       "      <td>0.029117</td>\n",
       "      <td>0.143073</td>\n",
       "      <td>0.532643</td>\n",
       "      <td>1.868899</td>\n",
       "      <td>8.082336</td>\n",
       "      <td>69.094739</td>\n",
       "    </tr>\n",
       "    <tr>\n",
       "      <th>Lilith Karyadi</th>\n",
       "      <td>1.956525e-04</td>\n",
       "      <td>0.003647</td>\n",
       "      <td>0.029452</td>\n",
       "      <td>0.144400</td>\n",
       "      <td>0.536925</td>\n",
       "      <td>1.883784</td>\n",
       "      <td>8.156338</td>\n",
       "      <td>69.892453</td>\n",
       "    </tr>\n",
       "    <tr>\n",
       "      <th>Roman Ramirez</th>\n",
       "      <td>8.238393e-04</td>\n",
       "      <td>0.011732</td>\n",
       "      <td>0.074803</td>\n",
       "      <td>0.309846</td>\n",
       "      <td>1.066675</td>\n",
       "      <td>3.831935</td>\n",
       "      <td>18.879511</td>\n",
       "      <td>201.945738</td>\n",
       "    </tr>\n",
       "    <tr>\n",
       "      <th>Evan Sooklal</th>\n",
       "      <td>2.608632e-03</td>\n",
       "      <td>0.029515</td>\n",
       "      <td>0.156868</td>\n",
       "      <td>0.584613</td>\n",
       "      <td>1.975255</td>\n",
       "      <td>7.614074</td>\n",
       "      <td>43.890418</td>\n",
       "      <td>584.896554</td>\n",
       "    </tr>\n",
       "    <tr>\n",
       "      <th>Jack Massingill</th>\n",
       "      <td>1.371351e-02</td>\n",
       "      <td>0.111968</td>\n",
       "      <td>0.481925</td>\n",
       "      <td>1.680278</td>\n",
       "      <td>6.157404</td>\n",
       "      <td>29.627634</td>\n",
       "      <td>237.585896</td>\n",
       "      <td>4595.992336</td>\n",
       "    </tr>\n",
       "    <tr>\n",
       "      <th>Paul Bartenfeld</th>\n",
       "      <td>1.305855e-01</td>\n",
       "      <td>0.694003</td>\n",
       "      <td>2.661419</td>\n",
       "      <td>10.843681</td>\n",
       "      <td>58.160235</td>\n",
       "      <td>480.671013</td>\n",
       "      <td>7163.179361</td>\n",
       "      <td>262463.151887</td>\n",
       "    </tr>\n",
       "  </tbody>\n",
       "</table>\n",
       "</div>"
      ],
      "text/plain": [
       "                            1         2         3          4          5  \\\n",
       "Aaron Carter     1.489278e-07  0.000008  0.000203   0.002690   0.022100   \n",
       "Will Simpson     1.922585e-04  0.003595  0.029117   0.143073   0.532643   \n",
       "Lilith Karyadi   1.956525e-04  0.003647  0.029452   0.144400   0.536925   \n",
       "Roman Ramirez    8.238393e-04  0.011732  0.074803   0.309846   1.066675   \n",
       "Evan Sooklal     2.608632e-03  0.029515  0.156868   0.584613   1.975255   \n",
       "Jack Massingill  1.371351e-02  0.111968  0.481925   1.680278   6.157404   \n",
       "Paul Bartenfeld  1.305855e-01  0.694003  2.661419  10.843681  58.160235   \n",
       "\n",
       "                          6            7              8  \n",
       "Aaron Carter       0.124097     0.563134       2.954627  \n",
       "Will Simpson       1.868899     8.082336      69.094739  \n",
       "Lilith Karyadi     1.883784     8.156338      69.892453  \n",
       "Roman Ramirez      3.831935    18.879511     201.945738  \n",
       "Evan Sooklal       7.614074    43.890418     584.896554  \n",
       "Jack Massingill   29.627634   237.585896    4595.992336  \n",
       "Paul Bartenfeld  480.671013  7163.179361  262463.151887  "
      ]
     },
     "metadata": {},
     "output_type": "display_data"
    },
    {
     "data": {
      "text/html": [
       "<div>\n",
       "<style scoped>\n",
       "    .dataframe tbody tr th:only-of-type {\n",
       "        vertical-align: middle;\n",
       "    }\n",
       "\n",
       "    .dataframe tbody tr th {\n",
       "        vertical-align: top;\n",
       "    }\n",
       "\n",
       "    .dataframe thead th {\n",
       "        text-align: right;\n",
       "    }\n",
       "</style>\n",
       "<table border=\"1\" class=\"dataframe\">\n",
       "  <thead>\n",
       "    <tr style=\"text-align: right;\">\n",
       "      <th></th>\n",
       "      <th>1</th>\n",
       "      <th>2</th>\n",
       "      <th>3</th>\n",
       "      <th>4</th>\n",
       "      <th>5</th>\n",
       "      <th>6</th>\n",
       "      <th>7</th>\n",
       "      <th>8</th>\n",
       "    </tr>\n",
       "  </thead>\n",
       "  <tbody>\n",
       "    <tr>\n",
       "      <th>Aaron Carter</th>\n",
       "      <td>-670,000,000</td>\n",
       "      <td>-12,000,000</td>\n",
       "      <td>-490,000</td>\n",
       "      <td>-37,000</td>\n",
       "      <td>-4,500</td>\n",
       "      <td>-810</td>\n",
       "      <td>-180</td>\n",
       "      <td>+300</td>\n",
       "    </tr>\n",
       "    <tr>\n",
       "      <th>Will Simpson</th>\n",
       "      <td>-520,000</td>\n",
       "      <td>-28,000</td>\n",
       "      <td>-3,400</td>\n",
       "      <td>-700</td>\n",
       "      <td>-190</td>\n",
       "      <td>+190</td>\n",
       "      <td>+810</td>\n",
       "      <td>+6,900</td>\n",
       "    </tr>\n",
       "    <tr>\n",
       "      <th>Lilith Karyadi</th>\n",
       "      <td>-510,000</td>\n",
       "      <td>-27,000</td>\n",
       "      <td>-3,400</td>\n",
       "      <td>-690</td>\n",
       "      <td>-190</td>\n",
       "      <td>+190</td>\n",
       "      <td>+820</td>\n",
       "      <td>+7,000</td>\n",
       "    </tr>\n",
       "    <tr>\n",
       "      <th>Roman Ramirez</th>\n",
       "      <td>-120,000</td>\n",
       "      <td>-8,500</td>\n",
       "      <td>-1,300</td>\n",
       "      <td>-320</td>\n",
       "      <td>+110</td>\n",
       "      <td>+380</td>\n",
       "      <td>+1,900</td>\n",
       "      <td>+20,000</td>\n",
       "    </tr>\n",
       "    <tr>\n",
       "      <th>Evan Sooklal</th>\n",
       "      <td>-38,000</td>\n",
       "      <td>-3,400</td>\n",
       "      <td>-640</td>\n",
       "      <td>-170</td>\n",
       "      <td>+200</td>\n",
       "      <td>+760</td>\n",
       "      <td>+4,400</td>\n",
       "      <td>+58,000</td>\n",
       "    </tr>\n",
       "    <tr>\n",
       "      <th>Jack Massingill</th>\n",
       "      <td>-7,300</td>\n",
       "      <td>-890</td>\n",
       "      <td>-210</td>\n",
       "      <td>+170</td>\n",
       "      <td>+620</td>\n",
       "      <td>+3,000</td>\n",
       "      <td>+24,000</td>\n",
       "      <td>+460,000</td>\n",
       "    </tr>\n",
       "    <tr>\n",
       "      <th>Paul Bartenfeld</th>\n",
       "      <td>-770</td>\n",
       "      <td>-140</td>\n",
       "      <td>+270</td>\n",
       "      <td>+1,100</td>\n",
       "      <td>+5,800</td>\n",
       "      <td>+48,000</td>\n",
       "      <td>+720,000</td>\n",
       "      <td>+26,000,000</td>\n",
       "    </tr>\n",
       "  </tbody>\n",
       "</table>\n",
       "</div>"
      ],
      "text/plain": [
       "                            1            2         3        4       5  \\\n",
       "Aaron Carter     -670,000,000  -12,000,000  -490,000  -37,000  -4,500   \n",
       "Will Simpson         -520,000      -28,000    -3,400     -700    -190   \n",
       "Lilith Karyadi       -510,000      -27,000    -3,400     -690    -190   \n",
       "Roman Ramirez        -120,000       -8,500    -1,300     -320    +110   \n",
       "Evan Sooklal          -38,000       -3,400      -640     -170    +200   \n",
       "Jack Massingill        -7,300         -890      -210     +170    +620   \n",
       "Paul Bartenfeld          -770         -140      +270   +1,100  +5,800   \n",
       "\n",
       "                       6         7            8  \n",
       "Aaron Carter        -810      -180         +300  \n",
       "Will Simpson        +190      +810       +6,900  \n",
       "Lilith Karyadi      +190      +820       +7,000  \n",
       "Roman Ramirez       +380    +1,900      +20,000  \n",
       "Evan Sooklal        +760    +4,400      +58,000  \n",
       "Jack Massingill   +3,000   +24,000     +460,000  \n",
       "Paul Bartenfeld  +48,000  +720,000  +26,000,000  "
      ]
     },
     "metadata": {},
     "output_type": "display_data"
    }
   ],
   "source": [
    "# making playoffs odds\n",
    "# assumptions\n",
    "## assume ELO doesn't change after each game\n",
    "## assume if you win at least 6/8 of your games, you're in for the championship\n",
    "## independent on the order of matches\n",
    "def prob_of_x_wins(player, num_wins=6):\n",
    "    sp = set_players.copy()\n",
    "    sp.remove(player)\n",
    "    schedule = list(sp) + list(sp)\n",
    "\n",
    "    total_prob = 0\n",
    "    for i in range(np.power(2, 8)):\n",
    "        single_prob = 1\n",
    "        record = '{0:08b}'.format(i)\n",
    "        if record.count('1') != (num_wins):\n",
    "            continue\n",
    "        for (j, x) in enumerate(record):\n",
    "            if x == '1':\n",
    "                single_prob *= win_prob_table.loc[player, schedule[j]]\n",
    "            elif x == '0':\n",
    "                single_prob *= win_prob_table.loc[schedule[j], player]\n",
    "        total_prob += single_prob\n",
    "    return total_prob\n",
    "\n",
    "prob_of_x_wins_table = pd.DataFrame(np.zeros([len(set_players), 9]))\n",
    "prob_of_x_wins_table.index = list(set_players)\n",
    "prob_of_x_wins_table.columns\n",
    "prob_of_x_wins_table.sort_index(axis=0, key=(lambda x: [elo[y] for y in x.values]), ascending=False, inplace=True)\n",
    "\n",
    "for c in prob_of_x_wins_table.columns:\n",
    "    for r in prob_of_x_wins_table.index:\n",
    "        prob_of_x_wins_table.loc[r, c] = prob_of_x_wins(r, int(c))\n",
    "\n",
    "odds_of_x_wins_table = (1 - prob_of_x_wins_table) / prob_of_x_wins_table\n",
    "ml_of_x_wins_table = odds_of_x_wins_table.applymap(lambda x: '{:+,.0f}'.format(float('%.2g' % (x * 100)) if not np.isnan(x) else np.NaN))\n",
    "\n",
    "# what is the probability of getting at least x wins?\n",
    "prob_of_cum_x_wins_table = prob_of_x_wins_table.copy(deep=True)\n",
    "prob_of_cum_x_wins_table.applymap(lambda x: 0)\n",
    "\n",
    "for (i, c) in enumerate(prob_of_cum_x_wins_table.columns):\n",
    "    prob_of_cum_x_wins_table.loc[:, c] = prob_of_x_wins_table.iloc[:, i:8+1].sum(axis=1)\n",
    "prob_of_cum_x_wins_table.drop(columns=0, axis=1, inplace=True)\n",
    "\n",
    "odds_of_cum_x_wins_table = (1 - prob_of_cum_x_wins_table) / prob_of_cum_x_wins_table\n",
    "ml_of_cum_x_wins_table = odds_of_cum_x_wins_table.copy(deep=True)\n",
    "\n",
    "for c in ml_of_cum_x_wins_table.columns:\n",
    "    for r in ml_of_cum_x_wins_table.index:\n",
    "        ml_of_cum_x_wins_table.loc[r, c] = np.NaN\n",
    "        odds = odds_of_cum_x_wins_table.loc[r, c]\n",
    "        if odds < 1:\n",
    "            ml_of_cum_x_wins_table.loc[r, c] = -1 * (1 / odds_of_cum_x_wins_table.loc[r, c]) * 100\n",
    "        elif odds > 1:\n",
    "            ml_of_cum_x_wins_table.loc[r, c] = odds_of_cum_x_wins_table.loc[r, c] * 100\n",
    "\n",
    "ml_of_cum_x_wins_table = ml_of_cum_x_wins_table.applymap(lambda x: '{:+,.0f}'.format(float('%.2g' % (x)) if not np.isnan(x) else np.NaN))\n",
    "\n",
    "display(prob_of_x_wins_table)\n",
    "display(odds_of_x_wins_table)\n",
    "display(ml_of_x_wins_table)\n",
    "display(prob_of_cum_x_wins_table)\n",
    "display(odds_of_cum_x_wins_table)\n",
    "display(ml_of_cum_x_wins_table)"
   ]
  },
  {
   "cell_type": "code",
   "execution_count": 15,
   "metadata": {},
   "outputs": [
    {
     "data": {
      "application/vnd.plotly.v1+json": {
       "config": {
        "plotlyServerURL": "https://plot.ly"
       },
       "data": [
        {
         "colorscale": [
          [
           0,
           "rgb(5,48,97)"
          ],
          [
           0.1,
           "rgb(33,102,172)"
          ],
          [
           0.2,
           "rgb(67,147,195)"
          ],
          [
           0.3,
           "rgb(146,197,222)"
          ],
          [
           0.4,
           "rgb(209,229,240)"
          ],
          [
           0.5,
           "rgb(247,247,247)"
          ],
          [
           0.6,
           "rgb(253,219,199)"
          ],
          [
           0.7,
           "rgb(244,165,130)"
          ],
          [
           0.8,
           "rgb(214,96,77)"
          ],
          [
           0.9,
           "rgb(178,24,43)"
          ],
          [
           1,
           "rgb(103,0,31)"
          ]
         ],
         "hoverinfo": "skip",
         "hoverongaps": false,
         "showscale": false,
         "text": [
          [
           "",
           "+185",
           "+255",
           "+325",
           "+430",
           "+430",
           "+1315"
          ],
          [
           "-185",
           "",
           "+140",
           "+175",
           "+230",
           "+235",
           "+710"
          ],
          [
           "-255",
           "-140",
           "",
           "+130",
           "+170",
           "+170",
           "+515"
          ],
          [
           "-325",
           "-175",
           "-130",
           "",
           "+130",
           "+130",
           "+405"
          ],
          [
           "-430",
           "-230",
           "-170",
           "-130",
           "",
           "+100",
           "+305"
          ],
          [
           "-430",
           "-235",
           "-170",
           "-130",
           "-100",
           "",
           "+305"
          ],
          [
           "-1315",
           "-710",
           "-515",
           "-405",
           "-305",
           "-305",
           ""
          ]
         ],
         "texttemplate": "%{text}",
         "type": "heatmap",
         "x": [
          "Paul<br>Bartenfeld",
          "Jack<br>Massingill",
          "Evan<br>Sooklal",
          "Roman<br>Ramirez",
          "Lilith<br>Karyadi",
          "Will<br>Simpson",
          "Aaron<br>Carter"
         ],
         "xaxis": "x",
         "y": [
          "Paul<br>Bartenfeld",
          "Jack<br>Massingill",
          "Evan<br>Sooklal",
          "Roman<br>Ramirez",
          "Lilith<br>Karyadi",
          "Will<br>Simpson",
          "Aaron<br>Carter"
         ],
         "yaxis": "y",
         "z": [
          [
           null,
           0.35002613257967097,
           0.28139353321936306,
           0.23447201177532953,
           0.18850389602925563,
           0.1880146759268097,
           0.07054910883709642
          ],
          [
           0.649973867420329,
           null,
           0.4210083550309316,
           0.3625519043776917,
           0.30135862220729465,
           0.30068503748880215,
           0.12353626373797795
          ],
          [
           0.718606466780637,
           0.5789916449690684,
           null,
           0.43888958484054114,
           0.3723376636013805,
           0.3715898110649301,
           0.1623664065427281
          ],
          [
           0.7655279882246705,
           0.6374480956223083,
           0.5611104151594588,
           null,
           0.43130436316354276,
           0.4305193107786397,
           0.1986019209578065
          ],
          [
           0.8114961039707445,
           0.6986413777927054,
           0.6276623363986196,
           0.5686956368364572,
           null,
           0.49919966760435186,
           0.24628516624969887
          ],
          [
           0.8119853240731902,
           0.6993149625111978,
           0.62841018893507,
           0.5694806892213603,
           0.500800332395648,
           null,
           0.24687990822871642
          ],
          [
           0.9294508911629036,
           0.876463736262022,
           0.8376335934572718,
           0.8013980790421935,
           0.7537148337503012,
           0.7531200917712836,
           null
          ]
         ],
         "zmax": 0.9294508911629036,
         "zmid": 0.5,
         "zmin": 0.07054910883709642
        },
        {
         "colorscale": [
          [
           0,
           "rgb(5,48,97)"
          ],
          [
           0.1,
           "rgb(33,102,172)"
          ],
          [
           0.2,
           "rgb(67,147,195)"
          ],
          [
           0.3,
           "rgb(146,197,222)"
          ],
          [
           0.4,
           "rgb(209,229,240)"
          ],
          [
           0.5,
           "rgb(247,247,247)"
          ],
          [
           0.6,
           "rgb(253,219,199)"
          ],
          [
           0.7,
           "rgb(244,165,130)"
          ],
          [
           0.8,
           "rgb(214,96,77)"
          ],
          [
           0.9,
           "rgb(178,24,43)"
          ],
          [
           1,
           "rgb(103,0,31)"
          ]
         ],
         "hoverinfo": "skip",
         "hoverongaps": false,
         "showscale": false,
         "text": [
          [
           "-770",
           "-140",
           "+270",
           "+1100",
           "+5800",
           "+48000",
           "+720000",
           "+26000000"
          ],
          [
           "-7300",
           "-890",
           "-210",
           "+170",
           "+620",
           "+3000",
           "+24000",
           "+460000"
          ],
          [
           "-38000",
           "-3400",
           "-640",
           "-170",
           "+200",
           "+760",
           "+4400",
           "+58000"
          ],
          [
           "-120000",
           "-8500",
           "-1300",
           "-320",
           "+110",
           "+380",
           "+1900",
           "+20000"
          ],
          [
           "-510000",
           "-27000",
           "-3400",
           "-690",
           "-190",
           "+190",
           "+820",
           "+7000"
          ],
          [
           "-520000",
           "-28000",
           "-3400",
           "-700",
           "-190",
           "+190",
           "+810",
           "+6900"
          ],
          [
           "-670000000",
           "-12000000",
           "-490000",
           "-37000",
           "-4500",
           "-810",
           "-180",
           "+300"
          ]
         ],
         "texttemplate": "%{text}",
         "type": "heatmap",
         "x": [
          "1",
          "2",
          "3",
          "4",
          "5",
          "6",
          "7",
          "8"
         ],
         "xaxis": "x2",
         "y": [
          "Paul<br>Bartenfeld",
          "Jack<br>Massingill",
          "Evan<br>Sooklal",
          "Roman<br>Ramirez",
          "Lilith<br>Karyadi",
          "Will<br>Simpson",
          "Aaron<br>Carter"
         ],
         "yaxis": "y2",
         "z": [
          [
           0.8844974712370666,
           0.5903178392201059,
           0.2731181238988604,
           0.08443320736896484,
           0.01690324604485377,
           0.002076105834144776,
           0.0001395833283304025,
           0.0000038100441253032368
          ],
          [
           0.9864720047094895,
           0.8993060810964778,
           0.6747981593632492,
           0.37309567574786784,
           0.1397154696521425,
           0.032650253190168024,
           0.004191362594800685,
           0.0002175335364553035
          ],
          [
           0.9973981553758631,
           0.9713314868401034,
           0.8644031355766627,
           0.6310689390064756,
           0.3361056301045016,
           0.11608908791850564,
           0.022276468788636074,
           0.0017067859382432007
          ],
          [
           0.9991768388391156,
           0.9884041727230625,
           0.9304027252213544,
           0.7634485627661002,
           0.4838689708114984,
           0.20695643366938124,
           0.05030304823484464,
           0.00492742548804848
          ],
          [
           0.9998043857915526,
           0.9963665991948013,
           0.9713903700481004,
           0.8738202189215174,
           0.6506497251974201,
           0.3467666297616385,
           0.10921396792308377,
           0.014105873777915008
          ],
          [
           0.9998077784429205,
           0.9964181670824693,
           0.9717072198544411,
           0.874835085961552,
           0.6524674594677765,
           0.34856573973629695,
           0.11010383549917115,
           0.014266405904941788
          ],
          [
           0.9999998510722544,
           0.9999915344079893,
           0.99979724826877,
           0.9973174067914896,
           0.9783779890413344,
           0.8896029410673807,
           0.6397405290983726,
           0.25286835312330985
          ]
         ],
         "zmax": 0.9999998510722544,
         "zmid": 0,
         "zmin": 0.0000038100441253032368
        }
       ],
       "layout": {
        "annotations": [
         {
          "font": {
           "size": 16
          },
          "showarrow": false,
          "text": "<b>Current Matchup M/L</b><br>Odds for a Single Game",
          "x": 0.225,
          "xanchor": "center",
          "xref": "paper",
          "y": 1,
          "yanchor": "bottom",
          "yref": "paper"
         },
         {
          "font": {
           "size": 16
          },
          "showarrow": false,
          "text": "<b>M/L: Group-Stage Wins</b><br>Odds of Winning at Least <b>X</b> Games",
          "x": 0.775,
          "xanchor": "center",
          "xref": "paper",
          "y": 1,
          "yanchor": "bottom",
          "yref": "paper"
         },
         {
          "font": {
           "size": 16
          },
          "showarrow": false,
          "text": "<a href='https://htmlpreview.github.io/?https://github.com/notromanramirez/dgn_showdown/blob/main/index.html'>ELO Graph</a>, <a href='https://htmlpreview.github.io/?https://github.com/notromanramirez/dgn_showdown/blob/main/figures/fig1.html'>H2H Stats</a>, <a href='https://htmlpreview.github.io/?https://github.com/notromanramirez/dgn_showdown/blob/main/figures/fig2.html'>H2H Advanced Stats</a>, <a href='https://htmlpreview.github.io/?https://github.com/notromanramirez/dgn_showdown/blob/main/figures/fig3.html'>H2H More Stats</a>, <a href='https://htmlpreview.github.io/?https://github.com/notromanramirez/dgn_showdown/blob/main/figures/fig4.html'>Player Data</a>, <a href='https://htmlpreview.github.io/?https://github.com/notromanramirez/dgn_showdown/blob/main/figures/fig5.html'>Matches Data</a>",
          "x": 0.5,
          "xanchor": "center",
          "xref": "paper",
          "y": 0,
          "yanchor": "top",
          "yref": "paper",
          "yshift": -30
         }
        ],
        "template": {
         "data": {
          "bar": [
           {
            "error_x": {
             "color": "#2a3f5f"
            },
            "error_y": {
             "color": "#2a3f5f"
            },
            "marker": {
             "line": {
              "color": "#E5ECF6",
              "width": 0.5
             },
             "pattern": {
              "fillmode": "overlay",
              "size": 10,
              "solidity": 0.2
             }
            },
            "type": "bar"
           }
          ],
          "barpolar": [
           {
            "marker": {
             "line": {
              "color": "#E5ECF6",
              "width": 0.5
             },
             "pattern": {
              "fillmode": "overlay",
              "size": 10,
              "solidity": 0.2
             }
            },
            "type": "barpolar"
           }
          ],
          "carpet": [
           {
            "aaxis": {
             "endlinecolor": "#2a3f5f",
             "gridcolor": "white",
             "linecolor": "white",
             "minorgridcolor": "white",
             "startlinecolor": "#2a3f5f"
            },
            "baxis": {
             "endlinecolor": "#2a3f5f",
             "gridcolor": "white",
             "linecolor": "white",
             "minorgridcolor": "white",
             "startlinecolor": "#2a3f5f"
            },
            "type": "carpet"
           }
          ],
          "choropleth": [
           {
            "colorbar": {
             "outlinewidth": 0,
             "ticks": ""
            },
            "type": "choropleth"
           }
          ],
          "contour": [
           {
            "colorbar": {
             "outlinewidth": 0,
             "ticks": ""
            },
            "colorscale": [
             [
              0,
              "#0d0887"
             ],
             [
              0.1111111111111111,
              "#46039f"
             ],
             [
              0.2222222222222222,
              "#7201a8"
             ],
             [
              0.3333333333333333,
              "#9c179e"
             ],
             [
              0.4444444444444444,
              "#bd3786"
             ],
             [
              0.5555555555555556,
              "#d8576b"
             ],
             [
              0.6666666666666666,
              "#ed7953"
             ],
             [
              0.7777777777777778,
              "#fb9f3a"
             ],
             [
              0.8888888888888888,
              "#fdca26"
             ],
             [
              1,
              "#f0f921"
             ]
            ],
            "type": "contour"
           }
          ],
          "contourcarpet": [
           {
            "colorbar": {
             "outlinewidth": 0,
             "ticks": ""
            },
            "type": "contourcarpet"
           }
          ],
          "heatmap": [
           {
            "colorbar": {
             "outlinewidth": 0,
             "ticks": ""
            },
            "colorscale": [
             [
              0,
              "#0d0887"
             ],
             [
              0.1111111111111111,
              "#46039f"
             ],
             [
              0.2222222222222222,
              "#7201a8"
             ],
             [
              0.3333333333333333,
              "#9c179e"
             ],
             [
              0.4444444444444444,
              "#bd3786"
             ],
             [
              0.5555555555555556,
              "#d8576b"
             ],
             [
              0.6666666666666666,
              "#ed7953"
             ],
             [
              0.7777777777777778,
              "#fb9f3a"
             ],
             [
              0.8888888888888888,
              "#fdca26"
             ],
             [
              1,
              "#f0f921"
             ]
            ],
            "type": "heatmap"
           }
          ],
          "heatmapgl": [
           {
            "colorbar": {
             "outlinewidth": 0,
             "ticks": ""
            },
            "colorscale": [
             [
              0,
              "#0d0887"
             ],
             [
              0.1111111111111111,
              "#46039f"
             ],
             [
              0.2222222222222222,
              "#7201a8"
             ],
             [
              0.3333333333333333,
              "#9c179e"
             ],
             [
              0.4444444444444444,
              "#bd3786"
             ],
             [
              0.5555555555555556,
              "#d8576b"
             ],
             [
              0.6666666666666666,
              "#ed7953"
             ],
             [
              0.7777777777777778,
              "#fb9f3a"
             ],
             [
              0.8888888888888888,
              "#fdca26"
             ],
             [
              1,
              "#f0f921"
             ]
            ],
            "type": "heatmapgl"
           }
          ],
          "histogram": [
           {
            "marker": {
             "pattern": {
              "fillmode": "overlay",
              "size": 10,
              "solidity": 0.2
             }
            },
            "type": "histogram"
           }
          ],
          "histogram2d": [
           {
            "colorbar": {
             "outlinewidth": 0,
             "ticks": ""
            },
            "colorscale": [
             [
              0,
              "#0d0887"
             ],
             [
              0.1111111111111111,
              "#46039f"
             ],
             [
              0.2222222222222222,
              "#7201a8"
             ],
             [
              0.3333333333333333,
              "#9c179e"
             ],
             [
              0.4444444444444444,
              "#bd3786"
             ],
             [
              0.5555555555555556,
              "#d8576b"
             ],
             [
              0.6666666666666666,
              "#ed7953"
             ],
             [
              0.7777777777777778,
              "#fb9f3a"
             ],
             [
              0.8888888888888888,
              "#fdca26"
             ],
             [
              1,
              "#f0f921"
             ]
            ],
            "type": "histogram2d"
           }
          ],
          "histogram2dcontour": [
           {
            "colorbar": {
             "outlinewidth": 0,
             "ticks": ""
            },
            "colorscale": [
             [
              0,
              "#0d0887"
             ],
             [
              0.1111111111111111,
              "#46039f"
             ],
             [
              0.2222222222222222,
              "#7201a8"
             ],
             [
              0.3333333333333333,
              "#9c179e"
             ],
             [
              0.4444444444444444,
              "#bd3786"
             ],
             [
              0.5555555555555556,
              "#d8576b"
             ],
             [
              0.6666666666666666,
              "#ed7953"
             ],
             [
              0.7777777777777778,
              "#fb9f3a"
             ],
             [
              0.8888888888888888,
              "#fdca26"
             ],
             [
              1,
              "#f0f921"
             ]
            ],
            "type": "histogram2dcontour"
           }
          ],
          "mesh3d": [
           {
            "colorbar": {
             "outlinewidth": 0,
             "ticks": ""
            },
            "type": "mesh3d"
           }
          ],
          "parcoords": [
           {
            "line": {
             "colorbar": {
              "outlinewidth": 0,
              "ticks": ""
             }
            },
            "type": "parcoords"
           }
          ],
          "pie": [
           {
            "automargin": true,
            "type": "pie"
           }
          ],
          "scatter": [
           {
            "fillpattern": {
             "fillmode": "overlay",
             "size": 10,
             "solidity": 0.2
            },
            "type": "scatter"
           }
          ],
          "scatter3d": [
           {
            "line": {
             "colorbar": {
              "outlinewidth": 0,
              "ticks": ""
             }
            },
            "marker": {
             "colorbar": {
              "outlinewidth": 0,
              "ticks": ""
             }
            },
            "type": "scatter3d"
           }
          ],
          "scattercarpet": [
           {
            "marker": {
             "colorbar": {
              "outlinewidth": 0,
              "ticks": ""
             }
            },
            "type": "scattercarpet"
           }
          ],
          "scattergeo": [
           {
            "marker": {
             "colorbar": {
              "outlinewidth": 0,
              "ticks": ""
             }
            },
            "type": "scattergeo"
           }
          ],
          "scattergl": [
           {
            "marker": {
             "colorbar": {
              "outlinewidth": 0,
              "ticks": ""
             }
            },
            "type": "scattergl"
           }
          ],
          "scattermapbox": [
           {
            "marker": {
             "colorbar": {
              "outlinewidth": 0,
              "ticks": ""
             }
            },
            "type": "scattermapbox"
           }
          ],
          "scatterpolar": [
           {
            "marker": {
             "colorbar": {
              "outlinewidth": 0,
              "ticks": ""
             }
            },
            "type": "scatterpolar"
           }
          ],
          "scatterpolargl": [
           {
            "marker": {
             "colorbar": {
              "outlinewidth": 0,
              "ticks": ""
             }
            },
            "type": "scatterpolargl"
           }
          ],
          "scatterternary": [
           {
            "marker": {
             "colorbar": {
              "outlinewidth": 0,
              "ticks": ""
             }
            },
            "type": "scatterternary"
           }
          ],
          "surface": [
           {
            "colorbar": {
             "outlinewidth": 0,
             "ticks": ""
            },
            "colorscale": [
             [
              0,
              "#0d0887"
             ],
             [
              0.1111111111111111,
              "#46039f"
             ],
             [
              0.2222222222222222,
              "#7201a8"
             ],
             [
              0.3333333333333333,
              "#9c179e"
             ],
             [
              0.4444444444444444,
              "#bd3786"
             ],
             [
              0.5555555555555556,
              "#d8576b"
             ],
             [
              0.6666666666666666,
              "#ed7953"
             ],
             [
              0.7777777777777778,
              "#fb9f3a"
             ],
             [
              0.8888888888888888,
              "#fdca26"
             ],
             [
              1,
              "#f0f921"
             ]
            ],
            "type": "surface"
           }
          ],
          "table": [
           {
            "cells": {
             "fill": {
              "color": "#EBF0F8"
             },
             "line": {
              "color": "white"
             }
            },
            "header": {
             "fill": {
              "color": "#C8D4E3"
             },
             "line": {
              "color": "white"
             }
            },
            "type": "table"
           }
          ]
         },
         "layout": {
          "annotationdefaults": {
           "arrowcolor": "#2a3f5f",
           "arrowhead": 0,
           "arrowwidth": 1
          },
          "autotypenumbers": "strict",
          "coloraxis": {
           "colorbar": {
            "outlinewidth": 0,
            "ticks": ""
           }
          },
          "colorscale": {
           "diverging": [
            [
             0,
             "#8e0152"
            ],
            [
             0.1,
             "#c51b7d"
            ],
            [
             0.2,
             "#de77ae"
            ],
            [
             0.3,
             "#f1b6da"
            ],
            [
             0.4,
             "#fde0ef"
            ],
            [
             0.5,
             "#f7f7f7"
            ],
            [
             0.6,
             "#e6f5d0"
            ],
            [
             0.7,
             "#b8e186"
            ],
            [
             0.8,
             "#7fbc41"
            ],
            [
             0.9,
             "#4d9221"
            ],
            [
             1,
             "#276419"
            ]
           ],
           "sequential": [
            [
             0,
             "#0d0887"
            ],
            [
             0.1111111111111111,
             "#46039f"
            ],
            [
             0.2222222222222222,
             "#7201a8"
            ],
            [
             0.3333333333333333,
             "#9c179e"
            ],
            [
             0.4444444444444444,
             "#bd3786"
            ],
            [
             0.5555555555555556,
             "#d8576b"
            ],
            [
             0.6666666666666666,
             "#ed7953"
            ],
            [
             0.7777777777777778,
             "#fb9f3a"
            ],
            [
             0.8888888888888888,
             "#fdca26"
            ],
            [
             1,
             "#f0f921"
            ]
           ],
           "sequentialminus": [
            [
             0,
             "#0d0887"
            ],
            [
             0.1111111111111111,
             "#46039f"
            ],
            [
             0.2222222222222222,
             "#7201a8"
            ],
            [
             0.3333333333333333,
             "#9c179e"
            ],
            [
             0.4444444444444444,
             "#bd3786"
            ],
            [
             0.5555555555555556,
             "#d8576b"
            ],
            [
             0.6666666666666666,
             "#ed7953"
            ],
            [
             0.7777777777777778,
             "#fb9f3a"
            ],
            [
             0.8888888888888888,
             "#fdca26"
            ],
            [
             1,
             "#f0f921"
            ]
           ]
          },
          "colorway": [
           "#636efa",
           "#EF553B",
           "#00cc96",
           "#ab63fa",
           "#FFA15A",
           "#19d3f3",
           "#FF6692",
           "#B6E880",
           "#FF97FF",
           "#FECB52"
          ],
          "font": {
           "color": "#2a3f5f"
          },
          "geo": {
           "bgcolor": "white",
           "lakecolor": "white",
           "landcolor": "#E5ECF6",
           "showlakes": true,
           "showland": true,
           "subunitcolor": "white"
          },
          "hoverlabel": {
           "align": "left"
          },
          "hovermode": "closest",
          "mapbox": {
           "style": "light"
          },
          "paper_bgcolor": "white",
          "plot_bgcolor": "#E5ECF6",
          "polar": {
           "angularaxis": {
            "gridcolor": "white",
            "linecolor": "white",
            "ticks": ""
           },
           "bgcolor": "#E5ECF6",
           "radialaxis": {
            "gridcolor": "white",
            "linecolor": "white",
            "ticks": ""
           }
          },
          "scene": {
           "xaxis": {
            "backgroundcolor": "#E5ECF6",
            "gridcolor": "white",
            "gridwidth": 2,
            "linecolor": "white",
            "showbackground": true,
            "ticks": "",
            "zerolinecolor": "white"
           },
           "yaxis": {
            "backgroundcolor": "#E5ECF6",
            "gridcolor": "white",
            "gridwidth": 2,
            "linecolor": "white",
            "showbackground": true,
            "ticks": "",
            "zerolinecolor": "white"
           },
           "zaxis": {
            "backgroundcolor": "#E5ECF6",
            "gridcolor": "white",
            "gridwidth": 2,
            "linecolor": "white",
            "showbackground": true,
            "ticks": "",
            "zerolinecolor": "white"
           }
          },
          "shapedefaults": {
           "line": {
            "color": "#2a3f5f"
           }
          },
          "ternary": {
           "aaxis": {
            "gridcolor": "white",
            "linecolor": "white",
            "ticks": ""
           },
           "baxis": {
            "gridcolor": "white",
            "linecolor": "white",
            "ticks": ""
           },
           "bgcolor": "#E5ECF6",
           "caxis": {
            "gridcolor": "white",
            "linecolor": "white",
            "ticks": ""
           }
          },
          "title": {
           "x": 0.05
          },
          "xaxis": {
           "automargin": true,
           "gridcolor": "white",
           "linecolor": "white",
           "ticks": "",
           "title": {
            "standoff": 15
           },
           "zerolinecolor": "white",
           "zerolinewidth": 2
          },
          "yaxis": {
           "automargin": true,
           "gridcolor": "white",
           "linecolor": "white",
           "ticks": "",
           "title": {
            "standoff": 15
           },
           "zerolinecolor": "white",
           "zerolinewidth": 2
          }
         }
        },
        "title": {
         "text": "<b>Money-Lines</b>, <i>Updated Sunday, Jun 09, 2024 20:53:29 CT</i>"
        },
        "xaxis": {
         "anchor": "y",
         "domain": [
          0,
          0.45
         ],
         "title": {
          "text": "<b>Other</b>"
         }
        },
        "xaxis2": {
         "anchor": "y2",
         "domain": [
          0.55,
          1
         ],
         "title": {
          "text": "<b>Number of Total Wins in Group Stage</b>"
         }
        },
        "yaxis": {
         "anchor": "x",
         "domain": [
          0,
          1
         ],
         "title": {
          "text": "<b>Self</b>"
         }
        },
        "yaxis2": {
         "anchor": "x2",
         "domain": [
          0,
          1
         ],
         "title": {
          "text": "<b>Self</b>"
         }
        }
       }
      }
     },
     "metadata": {},
     "output_type": "display_data"
    }
   ],
   "source": [
    "fig6 = make_subplots(\n",
    "    rows=1, cols=2,\n",
    "    subplot_titles=[\n",
    "        \"<b>Current Matchup M/L</b><br>Odds for a Single Game\", \n",
    "        \"<b>M/L: Group-Stage Wins</b><br>Odds of Winning at Least <b>X</b> Games\"\n",
    "    ],\n",
    "    x_title=f\"{link_fig}, {link_fig1}, {link_fig2}, {link_fig3}, {link_fig4}, {link_fig5}\"\n",
    ")\n",
    "\n",
    "\n",
    "go_ml = go.Heatmap(\n",
    "    x=[x.replace(\" \", \"<br>\") for x in ml_table.columns],\n",
    "    y=[x.replace(\" \", \"<br>\") for x in ml_table.index],\n",
    "    z=win_prob_table,\n",
    "    zmax=max(win_prob_table.max(axis=None), win_prob_table.max(axis=None)),\n",
    "    zmid=0.5,\n",
    "    zmin=min(win_prob_table.min(axis=None), win_prob_table.min(axis=None)),\n",
    "    text=ml_table.applymap(lambda x: \"\" if math.isnan(float(x)) else x),\n",
    "    texttemplate=\"%{text}\",\n",
    "    colorscale=diverging.RdBu_r,\n",
    "    hoverongaps=False\n",
    ")\n",
    "\n",
    "ml_of_cum_x_wins_table.sort_index(axis=0, key=(lambda x: [elo[y] for y in x.values]), inplace=True)\n",
    "prob_of_cum_x_wins_table.sort_index(axis=0, key=(lambda x: [elo[y] for y in x.values]), inplace=True)\n",
    "scale_go_ml_cum_x_wins = prob_of_cum_x_wins_table\n",
    "\n",
    "go_ml_cum_x_wins = go.Heatmap(\n",
    "    x=[(str(x)) for x in ml_of_cum_x_wins_table.columns],\n",
    "    y=[x.replace(\" \", \"<br>\") for x in ml_of_cum_x_wins_table.index],\n",
    "    z=scale_go_ml_cum_x_wins,\n",
    "    zmax=max(scale_go_ml_cum_x_wins.max(axis=None), scale_go_ml_cum_x_wins.max(axis=None)),\n",
    "    zmid=0,\n",
    "    zmin=min(scale_go_ml_cum_x_wins.min(axis=None), scale_go_ml_cum_x_wins.min(axis=None)),\n",
    "    text=ml_of_cum_x_wins_table.applymap(lambda x: \"\" if math.isnan(float(x.replace(\",\", \"\")))  else x.replace(\",\", \"\")),\n",
    "    texttemplate=\"%{text}\",\n",
    "    colorscale=diverging.RdBu_r,\n",
    "    hoverongaps=False\n",
    ")\n",
    "\n",
    "fig6.add_trace(go_ml, row=1, col=1)\n",
    "fig6.add_trace(go_ml_cum_x_wins, row=1, col=2)\n",
    "\n",
    "fig6.layout.xaxis1.title=\"<b>Other</b>\"\n",
    "fig6.layout.yaxis1.title=\"<b>Self</b>\"\n",
    "fig6.layout.xaxis2.title=\"<b>Number of Total Wins in Group Stage</b>\"\n",
    "fig6.layout.yaxis2.title=\"<b>Self</b>\"\n",
    "\n",
    "fig6.update_traces(hoverinfo='skip', showscale=False)\n",
    "\n",
    "fig6.update_layout(\n",
    "    title=f\"<b>Money-Lines</b>, {updated_time}\"\n",
    ")\n",
    "\n",
    "fig6.show()\n",
    "fig6.write_html('figures/fig6.html')"
   ]
  },
  {
   "cell_type": "code",
   "execution_count": 16,
   "metadata": {},
   "outputs": [
    {
     "data": {
      "text/html": [
       "<div>\n",
       "<style scoped>\n",
       "    .dataframe tbody tr th:only-of-type {\n",
       "        vertical-align: middle;\n",
       "    }\n",
       "\n",
       "    .dataframe tbody tr th {\n",
       "        vertical-align: top;\n",
       "    }\n",
       "\n",
       "    .dataframe thead th {\n",
       "        text-align: right;\n",
       "    }\n",
       "</style>\n",
       "<table border=\"1\" class=\"dataframe\">\n",
       "  <thead>\n",
       "    <tr style=\"text-align: right;\">\n",
       "      <th></th>\n",
       "      <th>Paul Bartenfeld</th>\n",
       "      <th>Jack Massingill</th>\n",
       "      <th>Evan Sooklal</th>\n",
       "      <th>Roman Ramirez</th>\n",
       "      <th>Lilith Karyadi</th>\n",
       "      <th>Will Simpson</th>\n",
       "      <th>Aaron Carter</th>\n",
       "    </tr>\n",
       "  </thead>\n",
       "  <tbody>\n",
       "    <tr>\n",
       "      <th>Paul Bartenfeld</th>\n",
       "      <td>NaN</td>\n",
       "      <td>+185</td>\n",
       "      <td>+255</td>\n",
       "      <td>+325</td>\n",
       "      <td>+430</td>\n",
       "      <td>+430</td>\n",
       "      <td>+1315</td>\n",
       "    </tr>\n",
       "    <tr>\n",
       "      <th>Jack Massingill</th>\n",
       "      <td>-185</td>\n",
       "      <td>NaN</td>\n",
       "      <td>+140</td>\n",
       "      <td>+175</td>\n",
       "      <td>+230</td>\n",
       "      <td>+235</td>\n",
       "      <td>+710</td>\n",
       "    </tr>\n",
       "    <tr>\n",
       "      <th>Evan Sooklal</th>\n",
       "      <td>-255</td>\n",
       "      <td>-140</td>\n",
       "      <td>NaN</td>\n",
       "      <td>+130</td>\n",
       "      <td>+170</td>\n",
       "      <td>+170</td>\n",
       "      <td>+515</td>\n",
       "    </tr>\n",
       "    <tr>\n",
       "      <th>Roman Ramirez</th>\n",
       "      <td>-325</td>\n",
       "      <td>-175</td>\n",
       "      <td>-130</td>\n",
       "      <td>NaN</td>\n",
       "      <td>+130</td>\n",
       "      <td>+130</td>\n",
       "      <td>+405</td>\n",
       "    </tr>\n",
       "    <tr>\n",
       "      <th>Lilith Karyadi</th>\n",
       "      <td>-430</td>\n",
       "      <td>-230</td>\n",
       "      <td>-170</td>\n",
       "      <td>-130</td>\n",
       "      <td>NaN</td>\n",
       "      <td>+100</td>\n",
       "      <td>+305</td>\n",
       "    </tr>\n",
       "    <tr>\n",
       "      <th>Will Simpson</th>\n",
       "      <td>-430</td>\n",
       "      <td>-235</td>\n",
       "      <td>-170</td>\n",
       "      <td>-130</td>\n",
       "      <td>-100</td>\n",
       "      <td>NaN</td>\n",
       "      <td>+305</td>\n",
       "    </tr>\n",
       "    <tr>\n",
       "      <th>Aaron Carter</th>\n",
       "      <td>-1315</td>\n",
       "      <td>-710</td>\n",
       "      <td>-515</td>\n",
       "      <td>-405</td>\n",
       "      <td>-305</td>\n",
       "      <td>-305</td>\n",
       "      <td>NaN</td>\n",
       "    </tr>\n",
       "  </tbody>\n",
       "</table>\n",
       "</div>"
      ],
      "text/plain": [
       "                Paul Bartenfeld Jack Massingill Evan Sooklal Roman Ramirez  \\\n",
       "Paul Bartenfeld             NaN            +185         +255          +325   \n",
       "Jack Massingill            -185             NaN         +140          +175   \n",
       "Evan Sooklal               -255            -140          NaN          +130   \n",
       "Roman Ramirez              -325            -175         -130           NaN   \n",
       "Lilith Karyadi             -430            -230         -170          -130   \n",
       "Will Simpson               -430            -235         -170          -130   \n",
       "Aaron Carter              -1315            -710         -515          -405   \n",
       "\n",
       "                Lilith Karyadi Will Simpson Aaron Carter  \n",
       "Paul Bartenfeld           +430         +430        +1315  \n",
       "Jack Massingill           +230         +235         +710  \n",
       "Evan Sooklal              +170         +170         +515  \n",
       "Roman Ramirez             +130         +130         +405  \n",
       "Lilith Karyadi             NaN         +100         +305  \n",
       "Will Simpson              -100          NaN         +305  \n",
       "Aaron Carter              -305         -305          NaN  "
      ]
     },
     "execution_count": 16,
     "metadata": {},
     "output_type": "execute_result"
    }
   ],
   "source": [
    "ml_table"
   ]
  },
  {
   "cell_type": "code",
   "execution_count": 17,
   "metadata": {},
   "outputs": [],
   "source": [
    "# # system optimization\n",
    "\n",
    "# def optimization1():\n",
    "#     index = [_ for _ in np.arange(1, 51, 1.0)]\n",
    "#     columns = [_ for _ in np.arange(2, 11, 1.0)]\n",
    "\n",
    "#     opt_table = pd.DataFrame(np.zeros([len(index), len(columns)]))\n",
    "#     opt_table.index = index\n",
    "#     opt_table.columns = columns\n",
    "\n",
    "#     for base in opt_table.columns:\n",
    "#         for K in opt_table.index:\n",
    "#             (elo, elo_time_table, prev_elo_time_table, d_elo_time_table, exp_elo_time_table, record_table, luck_table, plus_minus_table) = generate_elo(K=K,base=base)\n",
    "#             num_upsets = 0\n",
    "#             for i in elo_time_table.index:\n",
    "#                 prev_elo_slice = prev_elo_time_table.loc[i,:].dropna().values\n",
    "#                 elo_slice = elo_time_table.loc[i,:].dropna().values\n",
    "#                 combo_elo = np.array([prev_elo_slice, elo_slice])\n",
    "#                 is_upset = ((combo_elo[1, 0] - combo_elo[0, 0]) * (combo_elo[0, 1] - combo_elo[0, 0])) > 0\n",
    "#                 if is_upset:\n",
    "#                     num_upsets += 1\n",
    "#             opt_table.loc[K,base] = num_upsets\n",
    "\n",
    "#     fig = px.imshow(opt_table.T,labels=dict(y=\"Base\", x=\"K-value\", color=\"Number of Upsets\"))#, text_auto=True, aspect=\"auto\")\n",
    "#     fig.update_layout(\n",
    "#         title=\"<b>Total Number of Upsets against K-Value and Base</b>\"\n",
    "#     )\n",
    "#     fig.show()\n",
    "#     return opt_table\n",
    "# opt1 = optimization1()\n",
    "# fig.write_html(\"figures/opt1.html\")"
   ]
  },
  {
   "cell_type": "code",
   "execution_count": 18,
   "metadata": {},
   "outputs": [],
   "source": [
    "# # system optimization\n",
    "\n",
    "# def optimization2():\n",
    "#     index = [_ for _ in np.arange(1, 51, 1.0)]\n",
    "#     columns = [_ for _ in np.arange(2, 11, 1.0)]\n",
    "\n",
    "#     opt_table = pd.DataFrame(np.zeros([len(index), len(columns)]))\n",
    "#     opt_table.index = index\n",
    "#     opt_table.columns = columns\n",
    "\n",
    "#     for base in opt_table.columns:\n",
    "#         for K in opt_table.index:\n",
    "#             (elo, elo_time_table, prev_elo_time_table, d_elo_time_table, exp_elo_time_table, record_table, luck_table, plus_minus_table) = generate_elo(K=K,base=base)\n",
    "#             total_correctness = 0\n",
    "#             for i in elo_time_table.index:\n",
    "#                 d_elo_slice = d_elo_time_table.loc[i,:].dropna().values\n",
    "#                 exp_elo_slice = exp_elo_time_table.loc[i,:].dropna().values\n",
    "#                 correctness = (np.sign(d_elo_slice) * exp_elo_slice).sum()\n",
    "#                 total_correctness += correctness\n",
    "#             opt_table.loc[K,base] = total_correctness\n",
    "\n",
    "#     fig = px.imshow(opt_table.T,labels=dict(y=\"Base\", x=\"K-value\", color=\"Total Correctness\"))#, text_auto=False, aspect=\"auto\")\n",
    "#     fig.update_layout(\n",
    "#         title=\"<b>Win Percentage Correctness against K-Value and Base</b>\"\n",
    "#     )\n",
    "#     fig.show()\n",
    "#     return opt_table\n",
    "# opt2 = optimization2()\n",
    "# fig.write_html(\"figures/opt2.html\")"
   ]
  },
  {
   "cell_type": "code",
   "execution_count": 19,
   "metadata": {},
   "outputs": [],
   "source": [
    "# def norm_minmax(dataframe):\n",
    "#     return ((dataframe - dataframe.min(axis=None)) / (dataframe.max(axis=None) - dataframe.min(axis=None)))\n",
    "\n",
    "# norm_opt1 = norm_minmax(opt1)\n",
    "# norm_opt2 = norm_minmax(opt2)\n",
    "\n",
    "# fig = px.imshow(norm_opt2.T - norm_opt1.T,labels=dict(y=\"Base\", x=\"K-value\", color=\"Normalized Optimization\"), text_auto=False, aspect=\"auto\")\n",
    "# fig.update_layout(\n",
    "#     title=\"<b>K Value and Base against Both Optimization Functions</b>\"\n",
    "# )\n",
    "# fig.show()\n",
    "# fig.write_html(\"figures/opt_total.html\")"
   ]
  }
 ],
 "metadata": {
  "kernelspec": {
   "display_name": "Python 3",
   "language": "python",
   "name": "python3"
  },
  "language_info": {
   "codemirror_mode": {
    "name": "ipython",
    "version": 3
   },
   "file_extension": ".py",
   "mimetype": "text/x-python",
   "name": "python",
   "nbconvert_exporter": "python",
   "pygments_lexer": "ipython3",
   "version": "3.9.13"
  }
 },
 "nbformat": 4,
 "nbformat_minor": 2
}
