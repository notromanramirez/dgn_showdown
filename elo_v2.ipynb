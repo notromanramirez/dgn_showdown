{
 "cells": [
  {
   "cell_type": "code",
   "execution_count": 1,
   "metadata": {},
   "outputs": [],
   "source": [
    "import pandas as pd\n",
    "import numpy as np\n",
    "\n",
    "from IPython.display import display\n",
    "import datetime\n",
    "import plotly.express as px"
   ]
  },
  {
   "cell_type": "code",
   "execution_count": 2,
   "metadata": {},
   "outputs": [],
   "source": [
    "matches_table = pd.read_csv('data/matches.csv')"
   ]
  },
  {
   "cell_type": "code",
   "execution_count": 3,
   "metadata": {},
   "outputs": [
    {
     "data": {
      "text/html": [
       "<div>\n",
       "<style scoped>\n",
       "    .dataframe tbody tr th:only-of-type {\n",
       "        vertical-align: middle;\n",
       "    }\n",
       "\n",
       "    .dataframe tbody tr th {\n",
       "        vertical-align: top;\n",
       "    }\n",
       "\n",
       "    .dataframe thead th {\n",
       "        text-align: right;\n",
       "    }\n",
       "</style>\n",
       "<table border=\"1\" class=\"dataframe\">\n",
       "  <thead>\n",
       "    <tr style=\"text-align: right;\">\n",
       "      <th></th>\n",
       "      <th>Date</th>\n",
       "      <th>Match Number</th>\n",
       "      <th>Stage</th>\n",
       "      <th>Player 1</th>\n",
       "      <th>Player 2</th>\n",
       "      <th>Score 1</th>\n",
       "      <th>Score 2</th>\n",
       "    </tr>\n",
       "  </thead>\n",
       "  <tbody>\n",
       "    <tr>\n",
       "      <th>0</th>\n",
       "      <td>2023-11-18</td>\n",
       "      <td>1</td>\n",
       "      <td>Group</td>\n",
       "      <td>Evan Sooklal</td>\n",
       "      <td>Will Simpson</td>\n",
       "      <td>2</td>\n",
       "      <td>6</td>\n",
       "    </tr>\n",
       "    <tr>\n",
       "      <th>1</th>\n",
       "      <td>2023-11-18</td>\n",
       "      <td>2</td>\n",
       "      <td>Group</td>\n",
       "      <td>Paul Bartenfeld</td>\n",
       "      <td>Roman Ramirez</td>\n",
       "      <td>2</td>\n",
       "      <td>6</td>\n",
       "    </tr>\n",
       "    <tr>\n",
       "      <th>2</th>\n",
       "      <td>2023-11-18</td>\n",
       "      <td>3</td>\n",
       "      <td>Group</td>\n",
       "      <td>Roman Ramirez</td>\n",
       "      <td>Evan Sooklal</td>\n",
       "      <td>6</td>\n",
       "      <td>3</td>\n",
       "    </tr>\n",
       "    <tr>\n",
       "      <th>3</th>\n",
       "      <td>2023-11-18</td>\n",
       "      <td>4</td>\n",
       "      <td>Group</td>\n",
       "      <td>Will Simpson</td>\n",
       "      <td>Paul Bartenfeld</td>\n",
       "      <td>6</td>\n",
       "      <td>1</td>\n",
       "    </tr>\n",
       "    <tr>\n",
       "      <th>4</th>\n",
       "      <td>2023-11-18</td>\n",
       "      <td>5</td>\n",
       "      <td>Group</td>\n",
       "      <td>Paul Bartenfeld</td>\n",
       "      <td>Evan Sooklal</td>\n",
       "      <td>1</td>\n",
       "      <td>6</td>\n",
       "    </tr>\n",
       "    <tr>\n",
       "      <th>5</th>\n",
       "      <td>2023-11-18</td>\n",
       "      <td>6</td>\n",
       "      <td>Group</td>\n",
       "      <td>Will Simpson</td>\n",
       "      <td>Roman Ramirez</td>\n",
       "      <td>3</td>\n",
       "      <td>6</td>\n",
       "    </tr>\n",
       "    <tr>\n",
       "      <th>6</th>\n",
       "      <td>2023-11-18</td>\n",
       "      <td>7</td>\n",
       "      <td>Group</td>\n",
       "      <td>Will Simpson</td>\n",
       "      <td>Evan Sooklal</td>\n",
       "      <td>6</td>\n",
       "      <td>2</td>\n",
       "    </tr>\n",
       "    <tr>\n",
       "      <th>7</th>\n",
       "      <td>2023-11-18</td>\n",
       "      <td>8</td>\n",
       "      <td>Group</td>\n",
       "      <td>Roman Ramirez</td>\n",
       "      <td>Paul Bartenfeld</td>\n",
       "      <td>6</td>\n",
       "      <td>4</td>\n",
       "    </tr>\n",
       "    <tr>\n",
       "      <th>8</th>\n",
       "      <td>2023-11-18</td>\n",
       "      <td>9</td>\n",
       "      <td>Group</td>\n",
       "      <td>Evan Sooklal</td>\n",
       "      <td>Roman Ramirez</td>\n",
       "      <td>6</td>\n",
       "      <td>5</td>\n",
       "    </tr>\n",
       "    <tr>\n",
       "      <th>9</th>\n",
       "      <td>2023-11-18</td>\n",
       "      <td>10</td>\n",
       "      <td>Group</td>\n",
       "      <td>Paul Bartenfeld</td>\n",
       "      <td>Will Simpson</td>\n",
       "      <td>4</td>\n",
       "      <td>6</td>\n",
       "    </tr>\n",
       "    <tr>\n",
       "      <th>10</th>\n",
       "      <td>2023-11-18</td>\n",
       "      <td>11</td>\n",
       "      <td>Group</td>\n",
       "      <td>Evan Sooklal</td>\n",
       "      <td>Paul Bartenfeld</td>\n",
       "      <td>6</td>\n",
       "      <td>5</td>\n",
       "    </tr>\n",
       "    <tr>\n",
       "      <th>11</th>\n",
       "      <td>2023-11-18</td>\n",
       "      <td>12</td>\n",
       "      <td>Group</td>\n",
       "      <td>Roman Ramirez</td>\n",
       "      <td>Will Simpson</td>\n",
       "      <td>6</td>\n",
       "      <td>2</td>\n",
       "    </tr>\n",
       "    <tr>\n",
       "      <th>12</th>\n",
       "      <td>2023-11-18</td>\n",
       "      <td>1</td>\n",
       "      <td>Final</td>\n",
       "      <td>Roman Ramirez</td>\n",
       "      <td>Will Simpson</td>\n",
       "      <td>2</td>\n",
       "      <td>6</td>\n",
       "    </tr>\n",
       "    <tr>\n",
       "      <th>13</th>\n",
       "      <td>2023-11-18</td>\n",
       "      <td>2</td>\n",
       "      <td>Final</td>\n",
       "      <td>Will Simpson</td>\n",
       "      <td>Roman Ramirez</td>\n",
       "      <td>4</td>\n",
       "      <td>6</td>\n",
       "    </tr>\n",
       "    <tr>\n",
       "      <th>14</th>\n",
       "      <td>2023-11-18</td>\n",
       "      <td>3</td>\n",
       "      <td>Final</td>\n",
       "      <td>Roman Ramirez</td>\n",
       "      <td>Will Simpson</td>\n",
       "      <td>6</td>\n",
       "      <td>4</td>\n",
       "    </tr>\n",
       "    <tr>\n",
       "      <th>15</th>\n",
       "      <td>2023-12-02</td>\n",
       "      <td>1</td>\n",
       "      <td>Group</td>\n",
       "      <td>Roman Ramirez</td>\n",
       "      <td>Aaron Carter</td>\n",
       "      <td>4</td>\n",
       "      <td>6</td>\n",
       "    </tr>\n",
       "    <tr>\n",
       "      <th>16</th>\n",
       "      <td>2023-12-02</td>\n",
       "      <td>2</td>\n",
       "      <td>Group</td>\n",
       "      <td>Will Simpson</td>\n",
       "      <td>Paul Bartenfeld</td>\n",
       "      <td>6</td>\n",
       "      <td>4</td>\n",
       "    </tr>\n",
       "    <tr>\n",
       "      <th>17</th>\n",
       "      <td>2023-12-02</td>\n",
       "      <td>3</td>\n",
       "      <td>Group</td>\n",
       "      <td>Aaron Carter</td>\n",
       "      <td>Will Simpson</td>\n",
       "      <td>4</td>\n",
       "      <td>6</td>\n",
       "    </tr>\n",
       "    <tr>\n",
       "      <th>18</th>\n",
       "      <td>2023-12-02</td>\n",
       "      <td>4</td>\n",
       "      <td>Group</td>\n",
       "      <td>Evan Sooklal</td>\n",
       "      <td>Roman Ramirez</td>\n",
       "      <td>6</td>\n",
       "      <td>2</td>\n",
       "    </tr>\n",
       "    <tr>\n",
       "      <th>19</th>\n",
       "      <td>2023-12-02</td>\n",
       "      <td>5</td>\n",
       "      <td>Group</td>\n",
       "      <td>Will Simpson</td>\n",
       "      <td>Evan Sooklal</td>\n",
       "      <td>6</td>\n",
       "      <td>2</td>\n",
       "    </tr>\n",
       "    <tr>\n",
       "      <th>20</th>\n",
       "      <td>2023-12-02</td>\n",
       "      <td>6</td>\n",
       "      <td>Group</td>\n",
       "      <td>Paul Bartenfeld</td>\n",
       "      <td>Aaron Carter</td>\n",
       "      <td>6</td>\n",
       "      <td>3</td>\n",
       "    </tr>\n",
       "    <tr>\n",
       "      <th>21</th>\n",
       "      <td>2023-12-02</td>\n",
       "      <td>7</td>\n",
       "      <td>Group</td>\n",
       "      <td>Evan Sooklal</td>\n",
       "      <td>Paul Bartenfeld</td>\n",
       "      <td>6</td>\n",
       "      <td>4</td>\n",
       "    </tr>\n",
       "    <tr>\n",
       "      <th>22</th>\n",
       "      <td>2023-12-02</td>\n",
       "      <td>8</td>\n",
       "      <td>Group</td>\n",
       "      <td>Roman Ramirez</td>\n",
       "      <td>Will Simpson</td>\n",
       "      <td>6</td>\n",
       "      <td>4</td>\n",
       "    </tr>\n",
       "    <tr>\n",
       "      <th>23</th>\n",
       "      <td>2023-12-02</td>\n",
       "      <td>9</td>\n",
       "      <td>Group</td>\n",
       "      <td>Paul Bartenfeld</td>\n",
       "      <td>Roman Ramirez</td>\n",
       "      <td>6</td>\n",
       "      <td>3</td>\n",
       "    </tr>\n",
       "    <tr>\n",
       "      <th>24</th>\n",
       "      <td>2023-12-02</td>\n",
       "      <td>10</td>\n",
       "      <td>Group</td>\n",
       "      <td>Aaron Carter</td>\n",
       "      <td>Evan Sooklal</td>\n",
       "      <td>6</td>\n",
       "      <td>3</td>\n",
       "    </tr>\n",
       "    <tr>\n",
       "      <th>25</th>\n",
       "      <td>2023-12-02</td>\n",
       "      <td>11</td>\n",
       "      <td>Group</td>\n",
       "      <td>Aaron Carter</td>\n",
       "      <td>Roman Ramirez</td>\n",
       "      <td>0</td>\n",
       "      <td>6</td>\n",
       "    </tr>\n",
       "    <tr>\n",
       "      <th>26</th>\n",
       "      <td>2023-12-02</td>\n",
       "      <td>12</td>\n",
       "      <td>Group</td>\n",
       "      <td>Paul Bartenfeld</td>\n",
       "      <td>Will Simpson</td>\n",
       "      <td>1</td>\n",
       "      <td>6</td>\n",
       "    </tr>\n",
       "    <tr>\n",
       "      <th>27</th>\n",
       "      <td>2023-12-02</td>\n",
       "      <td>13</td>\n",
       "      <td>Group</td>\n",
       "      <td>Will Simpson</td>\n",
       "      <td>Aaron Carter</td>\n",
       "      <td>3</td>\n",
       "      <td>6</td>\n",
       "    </tr>\n",
       "    <tr>\n",
       "      <th>28</th>\n",
       "      <td>2023-12-02</td>\n",
       "      <td>14</td>\n",
       "      <td>Group</td>\n",
       "      <td>Roman Ramirez</td>\n",
       "      <td>Evan Sooklal</td>\n",
       "      <td>2</td>\n",
       "      <td>6</td>\n",
       "    </tr>\n",
       "    <tr>\n",
       "      <th>29</th>\n",
       "      <td>2023-12-02</td>\n",
       "      <td>15</td>\n",
       "      <td>Group</td>\n",
       "      <td>Evan Sooklal</td>\n",
       "      <td>Will Simpson</td>\n",
       "      <td>5</td>\n",
       "      <td>6</td>\n",
       "    </tr>\n",
       "    <tr>\n",
       "      <th>30</th>\n",
       "      <td>2023-12-02</td>\n",
       "      <td>16</td>\n",
       "      <td>Group</td>\n",
       "      <td>Aaron Carter</td>\n",
       "      <td>Paul Bartenfeld</td>\n",
       "      <td>6</td>\n",
       "      <td>3</td>\n",
       "    </tr>\n",
       "    <tr>\n",
       "      <th>31</th>\n",
       "      <td>2023-12-02</td>\n",
       "      <td>17</td>\n",
       "      <td>Group</td>\n",
       "      <td>Paul Bartenfeld</td>\n",
       "      <td>Evan Sooklal</td>\n",
       "      <td>6</td>\n",
       "      <td>5</td>\n",
       "    </tr>\n",
       "    <tr>\n",
       "      <th>32</th>\n",
       "      <td>2023-12-02</td>\n",
       "      <td>18</td>\n",
       "      <td>Group</td>\n",
       "      <td>Will Simpson</td>\n",
       "      <td>Roman Ramirez</td>\n",
       "      <td>6</td>\n",
       "      <td>5</td>\n",
       "    </tr>\n",
       "    <tr>\n",
       "      <th>33</th>\n",
       "      <td>2023-12-02</td>\n",
       "      <td>19</td>\n",
       "      <td>Group</td>\n",
       "      <td>Roman Ramirez</td>\n",
       "      <td>Paul Bartenfeld</td>\n",
       "      <td>4</td>\n",
       "      <td>6</td>\n",
       "    </tr>\n",
       "    <tr>\n",
       "      <th>34</th>\n",
       "      <td>2023-12-02</td>\n",
       "      <td>20</td>\n",
       "      <td>Group</td>\n",
       "      <td>Evan Sooklal</td>\n",
       "      <td>Aaron Carter</td>\n",
       "      <td>6</td>\n",
       "      <td>4</td>\n",
       "    </tr>\n",
       "    <tr>\n",
       "      <th>35</th>\n",
       "      <td>2023-12-02</td>\n",
       "      <td>1</td>\n",
       "      <td>Final</td>\n",
       "      <td>Will Simpson</td>\n",
       "      <td>Evan Sooklal</td>\n",
       "      <td>6</td>\n",
       "      <td>2</td>\n",
       "    </tr>\n",
       "    <tr>\n",
       "      <th>36</th>\n",
       "      <td>2023-12-02</td>\n",
       "      <td>2</td>\n",
       "      <td>Final</td>\n",
       "      <td>Will Simpson</td>\n",
       "      <td>Evan Sooklal</td>\n",
       "      <td>6</td>\n",
       "      <td>1</td>\n",
       "    </tr>\n",
       "    <tr>\n",
       "      <th>37</th>\n",
       "      <td>2023-12-13</td>\n",
       "      <td>1</td>\n",
       "      <td>Group</td>\n",
       "      <td>Aaron Carter</td>\n",
       "      <td>Paul Bartenfeld</td>\n",
       "      <td>6</td>\n",
       "      <td>3</td>\n",
       "    </tr>\n",
       "    <tr>\n",
       "      <th>38</th>\n",
       "      <td>2023-12-13</td>\n",
       "      <td>2</td>\n",
       "      <td>Group</td>\n",
       "      <td>Roman Ramirez</td>\n",
       "      <td>Evan Sooklal</td>\n",
       "      <td>5</td>\n",
       "      <td>6</td>\n",
       "    </tr>\n",
       "    <tr>\n",
       "      <th>39</th>\n",
       "      <td>2023-12-13</td>\n",
       "      <td>3</td>\n",
       "      <td>Group</td>\n",
       "      <td>Paul Bartenfeld</td>\n",
       "      <td>Roman Ramirez</td>\n",
       "      <td>2</td>\n",
       "      <td>6</td>\n",
       "    </tr>\n",
       "    <tr>\n",
       "      <th>40</th>\n",
       "      <td>2023-12-13</td>\n",
       "      <td>4</td>\n",
       "      <td>Group</td>\n",
       "      <td>Will Simpson</td>\n",
       "      <td>Aaron Carter</td>\n",
       "      <td>0</td>\n",
       "      <td>6</td>\n",
       "    </tr>\n",
       "    <tr>\n",
       "      <th>41</th>\n",
       "      <td>2023-12-13</td>\n",
       "      <td>5</td>\n",
       "      <td>Group</td>\n",
       "      <td>Roman Ramirez</td>\n",
       "      <td>Will Simpson</td>\n",
       "      <td>4</td>\n",
       "      <td>6</td>\n",
       "    </tr>\n",
       "    <tr>\n",
       "      <th>42</th>\n",
       "      <td>2023-12-13</td>\n",
       "      <td>6</td>\n",
       "      <td>Group</td>\n",
       "      <td>Evan Sooklal</td>\n",
       "      <td>Paul Bartenfeld</td>\n",
       "      <td>6</td>\n",
       "      <td>5</td>\n",
       "    </tr>\n",
       "    <tr>\n",
       "      <th>43</th>\n",
       "      <td>2023-12-13</td>\n",
       "      <td>7</td>\n",
       "      <td>Group</td>\n",
       "      <td>Will Simpson</td>\n",
       "      <td>Evan Sooklal</td>\n",
       "      <td>4</td>\n",
       "      <td>6</td>\n",
       "    </tr>\n",
       "    <tr>\n",
       "      <th>44</th>\n",
       "      <td>2023-12-13</td>\n",
       "      <td>8</td>\n",
       "      <td>Group</td>\n",
       "      <td>Aaron Carter</td>\n",
       "      <td>Roman Ramirez</td>\n",
       "      <td>6</td>\n",
       "      <td>3</td>\n",
       "    </tr>\n",
       "    <tr>\n",
       "      <th>45</th>\n",
       "      <td>2023-12-13</td>\n",
       "      <td>9</td>\n",
       "      <td>Group</td>\n",
       "      <td>Evan Sooklal</td>\n",
       "      <td>Aaron Carter</td>\n",
       "      <td>5</td>\n",
       "      <td>6</td>\n",
       "    </tr>\n",
       "    <tr>\n",
       "      <th>46</th>\n",
       "      <td>2023-12-13</td>\n",
       "      <td>10</td>\n",
       "      <td>Group</td>\n",
       "      <td>Paul Bartenfeld</td>\n",
       "      <td>Will Simpson</td>\n",
       "      <td>2</td>\n",
       "      <td>6</td>\n",
       "    </tr>\n",
       "    <tr>\n",
       "      <th>47</th>\n",
       "      <td>2023-12-13</td>\n",
       "      <td>11</td>\n",
       "      <td>Group</td>\n",
       "      <td>Paul Bartenfeld</td>\n",
       "      <td>Aaron Carter</td>\n",
       "      <td>3</td>\n",
       "      <td>6</td>\n",
       "    </tr>\n",
       "    <tr>\n",
       "      <th>48</th>\n",
       "      <td>2023-12-13</td>\n",
       "      <td>12</td>\n",
       "      <td>Group</td>\n",
       "      <td>Evan Sooklal</td>\n",
       "      <td>Roman Ramirez</td>\n",
       "      <td>6</td>\n",
       "      <td>4</td>\n",
       "    </tr>\n",
       "    <tr>\n",
       "      <th>49</th>\n",
       "      <td>2023-12-13</td>\n",
       "      <td>13</td>\n",
       "      <td>Group</td>\n",
       "      <td>Roman Ramirez</td>\n",
       "      <td>Paul Bartenfeld</td>\n",
       "      <td>6</td>\n",
       "      <td>1</td>\n",
       "    </tr>\n",
       "    <tr>\n",
       "      <th>50</th>\n",
       "      <td>2023-12-13</td>\n",
       "      <td>14</td>\n",
       "      <td>Group</td>\n",
       "      <td>Aaron Carter</td>\n",
       "      <td>Will Simpson</td>\n",
       "      <td>6</td>\n",
       "      <td>5</td>\n",
       "    </tr>\n",
       "    <tr>\n",
       "      <th>51</th>\n",
       "      <td>2023-12-13</td>\n",
       "      <td>15</td>\n",
       "      <td>Group</td>\n",
       "      <td>Will Simpson</td>\n",
       "      <td>Roman Ramirez</td>\n",
       "      <td>3</td>\n",
       "      <td>6</td>\n",
       "    </tr>\n",
       "    <tr>\n",
       "      <th>52</th>\n",
       "      <td>2023-12-13</td>\n",
       "      <td>16</td>\n",
       "      <td>Group</td>\n",
       "      <td>Paul Bartenfeld</td>\n",
       "      <td>Evan Sooklal</td>\n",
       "      <td>3</td>\n",
       "      <td>6</td>\n",
       "    </tr>\n",
       "    <tr>\n",
       "      <th>53</th>\n",
       "      <td>2023-12-13</td>\n",
       "      <td>17</td>\n",
       "      <td>Group</td>\n",
       "      <td>Evan Sooklal</td>\n",
       "      <td>Will Simpson</td>\n",
       "      <td>6</td>\n",
       "      <td>3</td>\n",
       "    </tr>\n",
       "    <tr>\n",
       "      <th>54</th>\n",
       "      <td>2023-12-13</td>\n",
       "      <td>18</td>\n",
       "      <td>Group</td>\n",
       "      <td>Roman Ramirez</td>\n",
       "      <td>Aaron Carter</td>\n",
       "      <td>5</td>\n",
       "      <td>6</td>\n",
       "    </tr>\n",
       "    <tr>\n",
       "      <th>55</th>\n",
       "      <td>2023-12-13</td>\n",
       "      <td>19</td>\n",
       "      <td>Group</td>\n",
       "      <td>Aaron Carter</td>\n",
       "      <td>Evan Sooklal</td>\n",
       "      <td>6</td>\n",
       "      <td>2</td>\n",
       "    </tr>\n",
       "    <tr>\n",
       "      <th>56</th>\n",
       "      <td>2023-12-13</td>\n",
       "      <td>20</td>\n",
       "      <td>Group</td>\n",
       "      <td>Will Simpson</td>\n",
       "      <td>Paul Bartenfeld</td>\n",
       "      <td>6</td>\n",
       "      <td>4</td>\n",
       "    </tr>\n",
       "    <tr>\n",
       "      <th>57</th>\n",
       "      <td>2023-12-13</td>\n",
       "      <td>1</td>\n",
       "      <td>Final</td>\n",
       "      <td>Aaron Carter</td>\n",
       "      <td>Evan Sooklal</td>\n",
       "      <td>5</td>\n",
       "      <td>6</td>\n",
       "    </tr>\n",
       "    <tr>\n",
       "      <th>58</th>\n",
       "      <td>2023-12-13</td>\n",
       "      <td>2</td>\n",
       "      <td>Final</td>\n",
       "      <td>Evan Sooklal</td>\n",
       "      <td>Aaron Carter</td>\n",
       "      <td>2</td>\n",
       "      <td>6</td>\n",
       "    </tr>\n",
       "    <tr>\n",
       "      <th>59</th>\n",
       "      <td>2023-12-13</td>\n",
       "      <td>3</td>\n",
       "      <td>Final</td>\n",
       "      <td>Aaron Carter</td>\n",
       "      <td>Evan Sooklal</td>\n",
       "      <td>6</td>\n",
       "      <td>2</td>\n",
       "    </tr>\n",
       "  </tbody>\n",
       "</table>\n",
       "</div>"
      ],
      "text/plain": [
       "          Date  Match Number  Stage         Player 1         Player 2  \\\n",
       "0   2023-11-18             1  Group     Evan Sooklal     Will Simpson   \n",
       "1   2023-11-18             2  Group  Paul Bartenfeld    Roman Ramirez   \n",
       "2   2023-11-18             3  Group    Roman Ramirez     Evan Sooklal   \n",
       "3   2023-11-18             4  Group     Will Simpson  Paul Bartenfeld   \n",
       "4   2023-11-18             5  Group  Paul Bartenfeld     Evan Sooklal   \n",
       "5   2023-11-18             6  Group     Will Simpson    Roman Ramirez   \n",
       "6   2023-11-18             7  Group     Will Simpson     Evan Sooklal   \n",
       "7   2023-11-18             8  Group    Roman Ramirez  Paul Bartenfeld   \n",
       "8   2023-11-18             9  Group     Evan Sooklal    Roman Ramirez   \n",
       "9   2023-11-18            10  Group  Paul Bartenfeld     Will Simpson   \n",
       "10  2023-11-18            11  Group     Evan Sooklal  Paul Bartenfeld   \n",
       "11  2023-11-18            12  Group    Roman Ramirez     Will Simpson   \n",
       "12  2023-11-18             1  Final    Roman Ramirez     Will Simpson   \n",
       "13  2023-11-18             2  Final     Will Simpson    Roman Ramirez   \n",
       "14  2023-11-18             3  Final    Roman Ramirez     Will Simpson   \n",
       "15  2023-12-02             1  Group    Roman Ramirez     Aaron Carter   \n",
       "16  2023-12-02             2  Group     Will Simpson  Paul Bartenfeld   \n",
       "17  2023-12-02             3  Group     Aaron Carter     Will Simpson   \n",
       "18  2023-12-02             4  Group     Evan Sooklal    Roman Ramirez   \n",
       "19  2023-12-02             5  Group     Will Simpson     Evan Sooklal   \n",
       "20  2023-12-02             6  Group  Paul Bartenfeld     Aaron Carter   \n",
       "21  2023-12-02             7  Group     Evan Sooklal  Paul Bartenfeld   \n",
       "22  2023-12-02             8  Group    Roman Ramirez     Will Simpson   \n",
       "23  2023-12-02             9  Group  Paul Bartenfeld    Roman Ramirez   \n",
       "24  2023-12-02            10  Group     Aaron Carter     Evan Sooklal   \n",
       "25  2023-12-02            11  Group     Aaron Carter    Roman Ramirez   \n",
       "26  2023-12-02            12  Group  Paul Bartenfeld     Will Simpson   \n",
       "27  2023-12-02            13  Group     Will Simpson     Aaron Carter   \n",
       "28  2023-12-02            14  Group    Roman Ramirez     Evan Sooklal   \n",
       "29  2023-12-02            15  Group     Evan Sooklal     Will Simpson   \n",
       "30  2023-12-02            16  Group     Aaron Carter  Paul Bartenfeld   \n",
       "31  2023-12-02            17  Group  Paul Bartenfeld     Evan Sooklal   \n",
       "32  2023-12-02            18  Group     Will Simpson    Roman Ramirez   \n",
       "33  2023-12-02            19  Group    Roman Ramirez  Paul Bartenfeld   \n",
       "34  2023-12-02            20  Group     Evan Sooklal     Aaron Carter   \n",
       "35  2023-12-02             1  Final     Will Simpson     Evan Sooklal   \n",
       "36  2023-12-02             2  Final     Will Simpson     Evan Sooklal   \n",
       "37  2023-12-13             1  Group     Aaron Carter  Paul Bartenfeld   \n",
       "38  2023-12-13             2  Group    Roman Ramirez     Evan Sooklal   \n",
       "39  2023-12-13             3  Group  Paul Bartenfeld    Roman Ramirez   \n",
       "40  2023-12-13             4  Group     Will Simpson     Aaron Carter   \n",
       "41  2023-12-13             5  Group    Roman Ramirez     Will Simpson   \n",
       "42  2023-12-13             6  Group     Evan Sooklal  Paul Bartenfeld   \n",
       "43  2023-12-13             7  Group     Will Simpson     Evan Sooklal   \n",
       "44  2023-12-13             8  Group     Aaron Carter    Roman Ramirez   \n",
       "45  2023-12-13             9  Group     Evan Sooklal     Aaron Carter   \n",
       "46  2023-12-13            10  Group  Paul Bartenfeld     Will Simpson   \n",
       "47  2023-12-13            11  Group  Paul Bartenfeld     Aaron Carter   \n",
       "48  2023-12-13            12  Group     Evan Sooklal    Roman Ramirez   \n",
       "49  2023-12-13            13  Group    Roman Ramirez  Paul Bartenfeld   \n",
       "50  2023-12-13            14  Group     Aaron Carter     Will Simpson   \n",
       "51  2023-12-13            15  Group     Will Simpson    Roman Ramirez   \n",
       "52  2023-12-13            16  Group  Paul Bartenfeld     Evan Sooklal   \n",
       "53  2023-12-13            17  Group     Evan Sooklal     Will Simpson   \n",
       "54  2023-12-13            18  Group    Roman Ramirez     Aaron Carter   \n",
       "55  2023-12-13            19  Group     Aaron Carter     Evan Sooklal   \n",
       "56  2023-12-13            20  Group     Will Simpson  Paul Bartenfeld   \n",
       "57  2023-12-13             1  Final     Aaron Carter     Evan Sooklal   \n",
       "58  2023-12-13             2  Final     Evan Sooklal     Aaron Carter   \n",
       "59  2023-12-13             3  Final     Aaron Carter     Evan Sooklal   \n",
       "\n",
       "    Score 1  Score 2  \n",
       "0         2        6  \n",
       "1         2        6  \n",
       "2         6        3  \n",
       "3         6        1  \n",
       "4         1        6  \n",
       "5         3        6  \n",
       "6         6        2  \n",
       "7         6        4  \n",
       "8         6        5  \n",
       "9         4        6  \n",
       "10        6        5  \n",
       "11        6        2  \n",
       "12        2        6  \n",
       "13        4        6  \n",
       "14        6        4  \n",
       "15        4        6  \n",
       "16        6        4  \n",
       "17        4        6  \n",
       "18        6        2  \n",
       "19        6        2  \n",
       "20        6        3  \n",
       "21        6        4  \n",
       "22        6        4  \n",
       "23        6        3  \n",
       "24        6        3  \n",
       "25        0        6  \n",
       "26        1        6  \n",
       "27        3        6  \n",
       "28        2        6  \n",
       "29        5        6  \n",
       "30        6        3  \n",
       "31        6        5  \n",
       "32        6        5  \n",
       "33        4        6  \n",
       "34        6        4  \n",
       "35        6        2  \n",
       "36        6        1  \n",
       "37        6        3  \n",
       "38        5        6  \n",
       "39        2        6  \n",
       "40        0        6  \n",
       "41        4        6  \n",
       "42        6        5  \n",
       "43        4        6  \n",
       "44        6        3  \n",
       "45        5        6  \n",
       "46        2        6  \n",
       "47        3        6  \n",
       "48        6        4  \n",
       "49        6        1  \n",
       "50        6        5  \n",
       "51        3        6  \n",
       "52        3        6  \n",
       "53        6        3  \n",
       "54        5        6  \n",
       "55        6        2  \n",
       "56        6        4  \n",
       "57        5        6  \n",
       "58        2        6  \n",
       "59        6        2  "
      ]
     },
     "metadata": {},
     "output_type": "display_data"
    }
   ],
   "source": [
    "display(matches_table)"
   ]
  },
  {
   "cell_type": "code",
   "execution_count": 4,
   "metadata": {},
   "outputs": [
    {
     "data": {
      "text/plain": [
       "{'Aaron Carter',\n",
       " 'Evan Sooklal',\n",
       " 'Paul Bartenfeld',\n",
       " 'Roman Ramirez',\n",
       " 'Will Simpson'}"
      ]
     },
     "metadata": {},
     "output_type": "display_data"
    }
   ],
   "source": [
    "set_player1 = set(matches_table['Player 1'])\n",
    "set_player2 = set(matches_table['Player 2'])\n",
    "set_players = set_player1.union(set_player2)\n",
    "num_players = len(set_players)\n",
    "display(set_players)"
   ]
  },
  {
   "cell_type": "code",
   "execution_count": 5,
   "metadata": {},
   "outputs": [],
   "source": [
    "# elo stuff\n",
    "K = 31\n",
    "base = 3\n",
    "\n",
    "def expected_score(ratingA, ratingB, base=None):\n",
    "    # game variables\n",
    "    # base = 10\n",
    "    normal_elo_difference = 100\n",
    "\n",
    "    return (1 / (1 + np.power(base, (ratingB - ratingA) / normal_elo_difference)))\n",
    "\n",
    "def rating_change(score, expected_score, K=None):\n",
    "    # k-factor: determines how strongly a result affects the rating change\n",
    "    # usually between 10 and 40, bit with a lot of games, we want to change it often\n",
    "    # K = 32\n",
    "    return K * (score - expected_score)\n",
    "\n",
    "def generate_elo(K, base):\n",
    "    # ELO INITIALIZATION\n",
    "    starting_elo = 1200.0\n",
    "    elo = dict.fromkeys(set_players, starting_elo)\n",
    "    elo_time = np.zeros([len(matches_table) + 1, num_players])\n",
    "    elo_time_table = pd.DataFrame(elo_time)\n",
    "    elo_time_table.columns = sorted(elo)\n",
    "    elo_time_table.replace(0, np.NaN, inplace=True)\n",
    "\n",
    "    prev_elo_time_table = elo_time_table.copy(deep=True)\n",
    "    d_elo_time_table = elo_time_table.copy(deep=True)\n",
    "    exp_elo_time_table = elo_time_table.copy(deep=True)\n",
    "    eaa_elo_time_table = elo_time_table.copy(deep=True)\n",
    "\n",
    "    record_table = pd.DataFrame(np.zeros([len(set_players), len(set_players)]),dtype=object)\n",
    "    record_table.index = list(set_players)\n",
    "    record_table.columns = list(set_players)\n",
    "\n",
    "    for c in record_table.columns:\n",
    "        for r in record_table.index:\n",
    "            record_table.at[r, c] = np.array([0, 0])\n",
    "\n",
    "    elo_time_table.iloc[0,:] = starting_elo\n",
    "    prev_elo_time_table.iloc[0,:] = starting_elo\n",
    "\n",
    "\n",
    "    for (i, row) in matches_table.iterrows():\n",
    "        elo_p1 = elo[row['Player 1']]\n",
    "        elo_p2 = elo[row['Player 2']]\n",
    "\n",
    "        prev_elo_time_table.loc[i + 1, row['Player 1']] = elo_p1\n",
    "        prev_elo_time_table.loc[i + 1, row['Player 2']] = elo_p2\n",
    "        \n",
    "        win_prob_p1 = expected_score(elo_p1, elo_p2, base=base)\n",
    "        win_prob_p2 = expected_score(elo_p2, elo_p1, base=base)\n",
    "        \n",
    "        exp_elo_time_table.loc[i + 1, row['Player 1']] = win_prob_p1\n",
    "        exp_elo_time_table.loc[i + 1, row['Player 2']] = win_prob_p2\n",
    "\n",
    "        rating_change_p1 = rating_change(row['Score 1'] > row['Score 2'], win_prob_p1, K=K)\n",
    "        rating_change_p2 = rating_change(row['Score 2'] > row['Score 1'], win_prob_p2, K=K)\n",
    "\n",
    "        if rating_change_p1 > 0:\n",
    "            record_table.loc[row['Player 1'], row['Player 2']][0] += 1\n",
    "            record_table.loc[row['Player 2'], row['Player 1']][1] += 1\n",
    "        elif rating_change_p2 > 0:\n",
    "            record_table.loc[row['Player 2'], row['Player 1']][0] += 1\n",
    "            record_table.loc[row['Player 1'], row['Player 2']][1] += 1\n",
    "\n",
    "        d_elo_time_table.loc[i + 1, row['Player 1']] = rating_change_p1\n",
    "        d_elo_time_table.loc[i + 1, row['Player 2']] = rating_change_p2\n",
    "\n",
    "        elo[row['Player 1']] += rating_change_p1\n",
    "        elo[row['Player 2']] += rating_change_p2\n",
    "\n",
    "        elo_time_table.loc[i + 1, row['Player 1']] = elo[row['Player 1']]\n",
    "        elo_time_table.loc[i + 1, row['Player 2']] = elo[row['Player 2']]\n",
    "\n",
    "    prev_elo_time_table = prev_elo_time_table.iloc[1:,:]\n",
    "    elo_time_table = elo_time_table.iloc[1:,:]\n",
    "    d_elo_time_table = d_elo_time_table.iloc[1:,:]\n",
    "    exp_elo_time_table = exp_elo_time_table.iloc[1:,:]\n",
    "\n",
    "    return (elo, elo_time_table, prev_elo_time_table, d_elo_time_table, exp_elo_time_table, record_table)\n",
    "\n",
    "(elo, elo_time_table, prev_elo_time_table, d_elo_time_table, exp_elo_time_table, record_table) = generate_elo(K=K,base=base)\n",
    "\n",
    "prev_elo_time_table.to_excel('exports/prev_elo_time_table.xlsx')\n",
    "d_elo_time_table.to_excel('exports/d_elo_time_table.xlsx')\n",
    "elo_time_table.to_excel('exports/elo_time_table.xlsx')\n",
    "exp_elo_time_table.to_excel('exports/exp_elo_time_table.xlsx')\n",
    "\n"
   ]
  },
  {
   "cell_type": "code",
   "execution_count": 6,
   "metadata": {},
   "outputs": [
    {
     "data": {
      "application/vnd.plotly.v1+json": {
       "config": {
        "plotlyServerURL": "https://plot.ly"
       },
       "data": [
        {
         "connectgaps": true,
         "customdata": [
          [
           "Evan Sooklal",
           "Will Simpson",
           2,
           6,
           "2023-11-18"
          ],
          [
           "Paul Bartenfeld",
           "Roman Ramirez",
           2,
           6,
           "2023-11-18"
          ],
          [
           "Roman Ramirez",
           "Evan Sooklal",
           6,
           3,
           "2023-11-18"
          ],
          [
           "Will Simpson",
           "Paul Bartenfeld",
           6,
           1,
           "2023-11-18"
          ],
          [
           "Paul Bartenfeld",
           "Evan Sooklal",
           1,
           6,
           "2023-11-18"
          ],
          [
           "Will Simpson",
           "Roman Ramirez",
           3,
           6,
           "2023-11-18"
          ],
          [
           "Will Simpson",
           "Evan Sooklal",
           6,
           2,
           "2023-11-18"
          ],
          [
           "Roman Ramirez",
           "Paul Bartenfeld",
           6,
           4,
           "2023-11-18"
          ],
          [
           "Evan Sooklal",
           "Roman Ramirez",
           6,
           5,
           "2023-11-18"
          ],
          [
           "Paul Bartenfeld",
           "Will Simpson",
           4,
           6,
           "2023-11-18"
          ],
          [
           "Evan Sooklal",
           "Paul Bartenfeld",
           6,
           5,
           "2023-11-18"
          ],
          [
           "Roman Ramirez",
           "Will Simpson",
           6,
           2,
           "2023-11-18"
          ],
          [
           "Roman Ramirez",
           "Will Simpson",
           2,
           6,
           "2023-11-18"
          ],
          [
           "Will Simpson",
           "Roman Ramirez",
           4,
           6,
           "2023-11-18"
          ],
          [
           "Roman Ramirez",
           "Will Simpson",
           6,
           4,
           "2023-11-18"
          ],
          [
           "Roman Ramirez",
           "Aaron Carter",
           4,
           6,
           "2023-12-02"
          ],
          [
           "Will Simpson",
           "Paul Bartenfeld",
           6,
           4,
           "2023-12-02"
          ],
          [
           "Aaron Carter",
           "Will Simpson",
           4,
           6,
           "2023-12-02"
          ],
          [
           "Evan Sooklal",
           "Roman Ramirez",
           6,
           2,
           "2023-12-02"
          ],
          [
           "Will Simpson",
           "Evan Sooklal",
           6,
           2,
           "2023-12-02"
          ],
          [
           "Paul Bartenfeld",
           "Aaron Carter",
           6,
           3,
           "2023-12-02"
          ],
          [
           "Evan Sooklal",
           "Paul Bartenfeld",
           6,
           4,
           "2023-12-02"
          ],
          [
           "Roman Ramirez",
           "Will Simpson",
           6,
           4,
           "2023-12-02"
          ],
          [
           "Paul Bartenfeld",
           "Roman Ramirez",
           6,
           3,
           "2023-12-02"
          ],
          [
           "Aaron Carter",
           "Evan Sooklal",
           6,
           3,
           "2023-12-02"
          ],
          [
           "Aaron Carter",
           "Roman Ramirez",
           0,
           6,
           "2023-12-02"
          ],
          [
           "Paul Bartenfeld",
           "Will Simpson",
           1,
           6,
           "2023-12-02"
          ],
          [
           "Will Simpson",
           "Aaron Carter",
           3,
           6,
           "2023-12-02"
          ],
          [
           "Roman Ramirez",
           "Evan Sooklal",
           2,
           6,
           "2023-12-02"
          ],
          [
           "Evan Sooklal",
           "Will Simpson",
           5,
           6,
           "2023-12-02"
          ],
          [
           "Aaron Carter",
           "Paul Bartenfeld",
           6,
           3,
           "2023-12-02"
          ],
          [
           "Paul Bartenfeld",
           "Evan Sooklal",
           6,
           5,
           "2023-12-02"
          ],
          [
           "Will Simpson",
           "Roman Ramirez",
           6,
           5,
           "2023-12-02"
          ],
          [
           "Roman Ramirez",
           "Paul Bartenfeld",
           4,
           6,
           "2023-12-02"
          ],
          [
           "Evan Sooklal",
           "Aaron Carter",
           6,
           4,
           "2023-12-02"
          ],
          [
           "Will Simpson",
           "Evan Sooklal",
           6,
           2,
           "2023-12-02"
          ],
          [
           "Will Simpson",
           "Evan Sooklal",
           6,
           1,
           "2023-12-02"
          ],
          [
           "Aaron Carter",
           "Paul Bartenfeld",
           6,
           3,
           "2023-12-13"
          ],
          [
           "Roman Ramirez",
           "Evan Sooklal",
           5,
           6,
           "2023-12-13"
          ],
          [
           "Paul Bartenfeld",
           "Roman Ramirez",
           2,
           6,
           "2023-12-13"
          ],
          [
           "Will Simpson",
           "Aaron Carter",
           0,
           6,
           "2023-12-13"
          ],
          [
           "Roman Ramirez",
           "Will Simpson",
           4,
           6,
           "2023-12-13"
          ],
          [
           "Evan Sooklal",
           "Paul Bartenfeld",
           6,
           5,
           "2023-12-13"
          ],
          [
           "Will Simpson",
           "Evan Sooklal",
           4,
           6,
           "2023-12-13"
          ],
          [
           "Aaron Carter",
           "Roman Ramirez",
           6,
           3,
           "2023-12-13"
          ],
          [
           "Evan Sooklal",
           "Aaron Carter",
           5,
           6,
           "2023-12-13"
          ],
          [
           "Paul Bartenfeld",
           "Will Simpson",
           2,
           6,
           "2023-12-13"
          ],
          [
           "Paul Bartenfeld",
           "Aaron Carter",
           3,
           6,
           "2023-12-13"
          ],
          [
           "Evan Sooklal",
           "Roman Ramirez",
           6,
           4,
           "2023-12-13"
          ],
          [
           "Roman Ramirez",
           "Paul Bartenfeld",
           6,
           1,
           "2023-12-13"
          ],
          [
           "Aaron Carter",
           "Will Simpson",
           6,
           5,
           "2023-12-13"
          ],
          [
           "Will Simpson",
           "Roman Ramirez",
           3,
           6,
           "2023-12-13"
          ],
          [
           "Paul Bartenfeld",
           "Evan Sooklal",
           3,
           6,
           "2023-12-13"
          ],
          [
           "Evan Sooklal",
           "Will Simpson",
           6,
           3,
           "2023-12-13"
          ],
          [
           "Roman Ramirez",
           "Aaron Carter",
           5,
           6,
           "2023-12-13"
          ],
          [
           "Aaron Carter",
           "Evan Sooklal",
           6,
           2,
           "2023-12-13"
          ],
          [
           "Will Simpson",
           "Paul Bartenfeld",
           6,
           4,
           "2023-12-13"
          ],
          [
           "Aaron Carter",
           "Evan Sooklal",
           5,
           6,
           "2023-12-13"
          ],
          [
           "Evan Sooklal",
           "Aaron Carter",
           2,
           6,
           "2023-12-13"
          ],
          [
           "Aaron Carter",
           "Evan Sooklal",
           6,
           2,
           "2023-12-13"
          ]
         ],
         "hovertemplate": "<i>%{customdata[4]|%A, %B %d, %Y}, Game %{x}</i><br><b>%{fullData.name}</b><br><br><b>%{customdata[0]} vs. %{customdata[1]}</b><br><b>Final Score:</b> %{customdata[2]}-%{customdata[3]}<br>%{text}<b>Post-Game ELO:</b> %{y:,.0f}<br><extra></extra>",
         "legendgrouptitle": {
          "text": "<b>#<i>Rank</i> (<i>Current ELO</i>) <i>Player</i></b>"
         },
         "line": {
          "color": "rgb(127, 60, 141)",
          "shape": "hv"
         },
         "mode": "lines+markers",
         "name": "#1 (1301) Aaron Carter",
         "opacity": 0.8,
         "text": [
          "<br><b>Pre-Game ELO: </b>nan<br><b>Win Probability: </b>nan%<br><br><b>Change in ELO:</b> +nan<br>",
          "<br><b>Pre-Game ELO: </b>nan<br><b>Win Probability: </b>nan%<br><br><b>Change in ELO:</b> +nan<br>",
          "<br><b>Pre-Game ELO: </b>nan<br><b>Win Probability: </b>nan%<br><br><b>Change in ELO:</b> +nan<br>",
          "<br><b>Pre-Game ELO: </b>nan<br><b>Win Probability: </b>nan%<br><br><b>Change in ELO:</b> +nan<br>",
          "<br><b>Pre-Game ELO: </b>nan<br><b>Win Probability: </b>nan%<br><br><b>Change in ELO:</b> +nan<br>",
          "<br><b>Pre-Game ELO: </b>nan<br><b>Win Probability: </b>nan%<br><br><b>Change in ELO:</b> +nan<br>",
          "<br><b>Pre-Game ELO: </b>nan<br><b>Win Probability: </b>nan%<br><br><b>Change in ELO:</b> +nan<br>",
          "<br><b>Pre-Game ELO: </b>nan<br><b>Win Probability: </b>nan%<br><br><b>Change in ELO:</b> +nan<br>",
          "<br><b>Pre-Game ELO: </b>nan<br><b>Win Probability: </b>nan%<br><br><b>Change in ELO:</b> +nan<br>",
          "<br><b>Pre-Game ELO: </b>nan<br><b>Win Probability: </b>nan%<br><br><b>Change in ELO:</b> +nan<br>",
          "<br><b>Pre-Game ELO: </b>nan<br><b>Win Probability: </b>nan%<br><br><b>Change in ELO:</b> +nan<br>",
          "<br><b>Pre-Game ELO: </b>nan<br><b>Win Probability: </b>nan%<br><br><b>Change in ELO:</b> +nan<br>",
          "<br><b>Pre-Game ELO: </b>nan<br><b>Win Probability: </b>nan%<br><br><b>Change in ELO:</b> +nan<br>",
          "<br><b>Pre-Game ELO: </b>nan<br><b>Win Probability: </b>nan%<br><br><b>Change in ELO:</b> +nan<br>",
          "<br><b>Pre-Game ELO: </b>nan<br><b>Win Probability: </b>nan%<br><br><b>Change in ELO:</b> +nan<br>",
          "<br><b>Pre-Game ELO: </b>1200<br><b>Win Probability: </b>34.5%<br><br><b>Change in ELO:</b> +20<br>",
          "<br><b>Pre-Game ELO: </b>nan<br><b>Win Probability: </b>nan%<br><br><b>Change in ELO:</b> +nan<br>",
          "<br><b>Pre-Game ELO: </b>1220<br><b>Win Probability: </b>51.0%<br><br><b>Change in ELO:</b> -16<br>",
          "<br><b>Pre-Game ELO: </b>nan<br><b>Win Probability: </b>nan%<br><br><b>Change in ELO:</b> +nan<br>",
          "<br><b>Pre-Game ELO: </b>nan<br><b>Win Probability: </b>nan%<br><br><b>Change in ELO:</b> +nan<br>",
          "<br><b>Pre-Game ELO: </b>1205<br><b>Win Probability: </b>72.0%<br><br><b>Change in ELO:</b> -22<br>",
          "<br><b>Pre-Game ELO: </b>nan<br><b>Win Probability: </b>nan%<br><br><b>Change in ELO:</b> +nan<br>",
          "<br><b>Pre-Game ELO: </b>nan<br><b>Win Probability: </b>nan%<br><br><b>Change in ELO:</b> +nan<br>",
          "<br><b>Pre-Game ELO: </b>nan<br><b>Win Probability: </b>nan%<br><br><b>Change in ELO:</b> +nan<br>",
          "<br><b>Pre-Game ELO: </b>1182<br><b>Win Probability: </b>39.9%<br><br><b>Change in ELO:</b> +19<br>",
          "<br><b>Pre-Game ELO: </b>1201<br><b>Win Probability: </b>46.4%<br><br><b>Change in ELO:</b> -14<br>",
          "<br><b>Pre-Game ELO: </b>nan<br><b>Win Probability: </b>nan%<br><br><b>Change in ELO:</b> +nan<br>",
          "<br><b>Pre-Game ELO: </b>1186<br><b>Win Probability: </b>36.0%<br><br><b>Change in ELO:</b> +20<br>",
          "<br><b>Pre-Game ELO: </b>nan<br><b>Win Probability: </b>nan%<br><br><b>Change in ELO:</b> +nan<br>",
          "<br><b>Pre-Game ELO: </b>nan<br><b>Win Probability: </b>nan%<br><br><b>Change in ELO:</b> +nan<br>",
          "<br><b>Pre-Game ELO: </b>1206<br><b>Win Probability: </b>66.2%<br><br><b>Change in ELO:</b> +10<br>",
          "<br><b>Pre-Game ELO: </b>nan<br><b>Win Probability: </b>nan%<br><br><b>Change in ELO:</b> +nan<br>",
          "<br><b>Pre-Game ELO: </b>nan<br><b>Win Probability: </b>nan%<br><br><b>Change in ELO:</b> +nan<br>",
          "<br><b>Pre-Game ELO: </b>nan<br><b>Win Probability: </b>nan%<br><br><b>Change in ELO:</b> +nan<br>",
          "<br><b>Pre-Game ELO: </b>1217<br><b>Win Probability: </b>59.4%<br><br><b>Change in ELO:</b> -18<br>",
          "<br><b>Pre-Game ELO: </b>nan<br><b>Win Probability: </b>nan%<br><br><b>Change in ELO:</b> +nan<br>",
          "<br><b>Pre-Game ELO: </b>nan<br><b>Win Probability: </b>nan%<br><br><b>Change in ELO:</b> +nan<br>",
          "<br><b>Pre-Game ELO: </b>1198<br><b>Win Probability: </b>56.5%<br><br><b>Change in ELO:</b> +13<br>",
          "<br><b>Pre-Game ELO: </b>nan<br><b>Win Probability: </b>nan%<br><br><b>Change in ELO:</b> +nan<br>",
          "<br><b>Pre-Game ELO: </b>nan<br><b>Win Probability: </b>nan%<br><br><b>Change in ELO:</b> +nan<br>",
          "<br><b>Pre-Game ELO: </b>1212<br><b>Win Probability: </b>34.7%<br><br><b>Change in ELO:</b> +20<br>",
          "<br><b>Pre-Game ELO: </b>nan<br><b>Win Probability: </b>nan%<br><br><b>Change in ELO:</b> +nan<br>",
          "<br><b>Pre-Game ELO: </b>nan<br><b>Win Probability: </b>nan%<br><br><b>Change in ELO:</b> +nan<br>",
          "<br><b>Pre-Game ELO: </b>nan<br><b>Win Probability: </b>nan%<br><br><b>Change in ELO:</b> +nan<br>",
          "<br><b>Pre-Game ELO: </b>1232<br><b>Win Probability: </b>66.8%<br><br><b>Change in ELO:</b> +10<br>",
          "<br><b>Pre-Game ELO: </b>1242<br><b>Win Probability: </b>54.5%<br><br><b>Change in ELO:</b> +14<br>",
          "<br><b>Pre-Game ELO: </b>nan<br><b>Win Probability: </b>nan%<br><br><b>Change in ELO:</b> +nan<br>",
          "<br><b>Pre-Game ELO: </b>1257<br><b>Win Probability: </b>80.6%<br><br><b>Change in ELO:</b> +6<br>",
          "<br><b>Pre-Game ELO: </b>nan<br><b>Win Probability: </b>nan%<br><br><b>Change in ELO:</b> +nan<br>",
          "<br><b>Pre-Game ELO: </b>nan<br><b>Win Probability: </b>nan%<br><br><b>Change in ELO:</b> +nan<br>",
          "<br><b>Pre-Game ELO: </b>1263<br><b>Win Probability: </b>54.4%<br><br><b>Change in ELO:</b> +14<br>",
          "<br><b>Pre-Game ELO: </b>nan<br><b>Win Probability: </b>nan%<br><br><b>Change in ELO:</b> +nan<br>",
          "<br><b>Pre-Game ELO: </b>nan<br><b>Win Probability: </b>nan%<br><br><b>Change in ELO:</b> +nan<br>",
          "<br><b>Pre-Game ELO: </b>nan<br><b>Win Probability: </b>nan%<br><br><b>Change in ELO:</b> +nan<br>",
          "<br><b>Pre-Game ELO: </b>1277<br><b>Win Probability: </b>73.9%<br><br><b>Change in ELO:</b> +8<br>",
          "<br><b>Pre-Game ELO: </b>1285<br><b>Win Probability: </b>61.1%<br><br><b>Change in ELO:</b> +12<br>",
          "<br><b>Pre-Game ELO: </b>nan<br><b>Win Probability: </b>nan%<br><br><b>Change in ELO:</b> +nan<br>",
          "<br><b>Pre-Game ELO: </b>1297<br><b>Win Probability: </b>67.2%<br><br><b>Change in ELO:</b> -21<br>",
          "<br><b>Pre-Game ELO: </b>1276<br><b>Win Probability: </b>56.4%<br><br><b>Change in ELO:</b> +14<br>",
          "<br><b>Pre-Game ELO: </b>1289<br><b>Win Probability: </b>63.5%<br><br><b>Change in ELO:</b> +11<br>"
         ],
         "type": "scatter",
         "x": [
          1,
          2,
          3,
          4,
          5,
          6,
          7,
          8,
          9,
          10,
          11,
          12,
          13,
          14,
          15,
          16,
          17,
          18,
          19,
          20,
          21,
          22,
          23,
          24,
          25,
          26,
          27,
          28,
          29,
          30,
          31,
          32,
          33,
          34,
          35,
          36,
          37,
          38,
          39,
          40,
          41,
          42,
          43,
          44,
          45,
          46,
          47,
          48,
          49,
          50,
          51,
          52,
          53,
          54,
          55,
          56,
          57,
          58,
          59,
          60
         ],
         "y": [
          null,
          null,
          null,
          null,
          null,
          null,
          null,
          null,
          null,
          null,
          null,
          null,
          null,
          null,
          null,
          1220.31258173069,
          null,
          1204.5028528748408,
          null,
          null,
          1182.1797301576028,
          null,
          null,
          null,
          1200.8242418643958,
          1186.4521502238642,
          null,
          1206.3026942467973,
          null,
          null,
          1216.7822586045252,
          null,
          null,
          null,
          1198.3768321017285,
          null,
          null,
          1211.8729276048186,
          null,
          null,
          1232.113307066953,
          null,
          null,
          null,
          1242.4011662563998,
          1256.5110736372603,
          null,
          1262.5293525101058,
          null,
          null,
          1276.6667862995037,
          null,
          null,
          null,
          1284.742519265222,
          1296.805337828777,
          null,
          1275.9815262292077,
          1289.4892277347867,
          1300.7929669801556
         ]
        },
        {
         "connectgaps": true,
         "customdata": [
          [
           "Evan Sooklal",
           "Will Simpson",
           2,
           6,
           "2023-11-18"
          ],
          [
           "Paul Bartenfeld",
           "Roman Ramirez",
           2,
           6,
           "2023-11-18"
          ],
          [
           "Roman Ramirez",
           "Evan Sooklal",
           6,
           3,
           "2023-11-18"
          ],
          [
           "Will Simpson",
           "Paul Bartenfeld",
           6,
           1,
           "2023-11-18"
          ],
          [
           "Paul Bartenfeld",
           "Evan Sooklal",
           1,
           6,
           "2023-11-18"
          ],
          [
           "Will Simpson",
           "Roman Ramirez",
           3,
           6,
           "2023-11-18"
          ],
          [
           "Will Simpson",
           "Evan Sooklal",
           6,
           2,
           "2023-11-18"
          ],
          [
           "Roman Ramirez",
           "Paul Bartenfeld",
           6,
           4,
           "2023-11-18"
          ],
          [
           "Evan Sooklal",
           "Roman Ramirez",
           6,
           5,
           "2023-11-18"
          ],
          [
           "Paul Bartenfeld",
           "Will Simpson",
           4,
           6,
           "2023-11-18"
          ],
          [
           "Evan Sooklal",
           "Paul Bartenfeld",
           6,
           5,
           "2023-11-18"
          ],
          [
           "Roman Ramirez",
           "Will Simpson",
           6,
           2,
           "2023-11-18"
          ],
          [
           "Roman Ramirez",
           "Will Simpson",
           2,
           6,
           "2023-11-18"
          ],
          [
           "Will Simpson",
           "Roman Ramirez",
           4,
           6,
           "2023-11-18"
          ],
          [
           "Roman Ramirez",
           "Will Simpson",
           6,
           4,
           "2023-11-18"
          ],
          [
           "Roman Ramirez",
           "Aaron Carter",
           4,
           6,
           "2023-12-02"
          ],
          [
           "Will Simpson",
           "Paul Bartenfeld",
           6,
           4,
           "2023-12-02"
          ],
          [
           "Aaron Carter",
           "Will Simpson",
           4,
           6,
           "2023-12-02"
          ],
          [
           "Evan Sooklal",
           "Roman Ramirez",
           6,
           2,
           "2023-12-02"
          ],
          [
           "Will Simpson",
           "Evan Sooklal",
           6,
           2,
           "2023-12-02"
          ],
          [
           "Paul Bartenfeld",
           "Aaron Carter",
           6,
           3,
           "2023-12-02"
          ],
          [
           "Evan Sooklal",
           "Paul Bartenfeld",
           6,
           4,
           "2023-12-02"
          ],
          [
           "Roman Ramirez",
           "Will Simpson",
           6,
           4,
           "2023-12-02"
          ],
          [
           "Paul Bartenfeld",
           "Roman Ramirez",
           6,
           3,
           "2023-12-02"
          ],
          [
           "Aaron Carter",
           "Evan Sooklal",
           6,
           3,
           "2023-12-02"
          ],
          [
           "Aaron Carter",
           "Roman Ramirez",
           0,
           6,
           "2023-12-02"
          ],
          [
           "Paul Bartenfeld",
           "Will Simpson",
           1,
           6,
           "2023-12-02"
          ],
          [
           "Will Simpson",
           "Aaron Carter",
           3,
           6,
           "2023-12-02"
          ],
          [
           "Roman Ramirez",
           "Evan Sooklal",
           2,
           6,
           "2023-12-02"
          ],
          [
           "Evan Sooklal",
           "Will Simpson",
           5,
           6,
           "2023-12-02"
          ],
          [
           "Aaron Carter",
           "Paul Bartenfeld",
           6,
           3,
           "2023-12-02"
          ],
          [
           "Paul Bartenfeld",
           "Evan Sooklal",
           6,
           5,
           "2023-12-02"
          ],
          [
           "Will Simpson",
           "Roman Ramirez",
           6,
           5,
           "2023-12-02"
          ],
          [
           "Roman Ramirez",
           "Paul Bartenfeld",
           4,
           6,
           "2023-12-02"
          ],
          [
           "Evan Sooklal",
           "Aaron Carter",
           6,
           4,
           "2023-12-02"
          ],
          [
           "Will Simpson",
           "Evan Sooklal",
           6,
           2,
           "2023-12-02"
          ],
          [
           "Will Simpson",
           "Evan Sooklal",
           6,
           1,
           "2023-12-02"
          ],
          [
           "Aaron Carter",
           "Paul Bartenfeld",
           6,
           3,
           "2023-12-13"
          ],
          [
           "Roman Ramirez",
           "Evan Sooklal",
           5,
           6,
           "2023-12-13"
          ],
          [
           "Paul Bartenfeld",
           "Roman Ramirez",
           2,
           6,
           "2023-12-13"
          ],
          [
           "Will Simpson",
           "Aaron Carter",
           0,
           6,
           "2023-12-13"
          ],
          [
           "Roman Ramirez",
           "Will Simpson",
           4,
           6,
           "2023-12-13"
          ],
          [
           "Evan Sooklal",
           "Paul Bartenfeld",
           6,
           5,
           "2023-12-13"
          ],
          [
           "Will Simpson",
           "Evan Sooklal",
           4,
           6,
           "2023-12-13"
          ],
          [
           "Aaron Carter",
           "Roman Ramirez",
           6,
           3,
           "2023-12-13"
          ],
          [
           "Evan Sooklal",
           "Aaron Carter",
           5,
           6,
           "2023-12-13"
          ],
          [
           "Paul Bartenfeld",
           "Will Simpson",
           2,
           6,
           "2023-12-13"
          ],
          [
           "Paul Bartenfeld",
           "Aaron Carter",
           3,
           6,
           "2023-12-13"
          ],
          [
           "Evan Sooklal",
           "Roman Ramirez",
           6,
           4,
           "2023-12-13"
          ],
          [
           "Roman Ramirez",
           "Paul Bartenfeld",
           6,
           1,
           "2023-12-13"
          ],
          [
           "Aaron Carter",
           "Will Simpson",
           6,
           5,
           "2023-12-13"
          ],
          [
           "Will Simpson",
           "Roman Ramirez",
           3,
           6,
           "2023-12-13"
          ],
          [
           "Paul Bartenfeld",
           "Evan Sooklal",
           3,
           6,
           "2023-12-13"
          ],
          [
           "Evan Sooklal",
           "Will Simpson",
           6,
           3,
           "2023-12-13"
          ],
          [
           "Roman Ramirez",
           "Aaron Carter",
           5,
           6,
           "2023-12-13"
          ],
          [
           "Aaron Carter",
           "Evan Sooklal",
           6,
           2,
           "2023-12-13"
          ],
          [
           "Will Simpson",
           "Paul Bartenfeld",
           6,
           4,
           "2023-12-13"
          ],
          [
           "Aaron Carter",
           "Evan Sooklal",
           5,
           6,
           "2023-12-13"
          ],
          [
           "Evan Sooklal",
           "Aaron Carter",
           2,
           6,
           "2023-12-13"
          ],
          [
           "Aaron Carter",
           "Evan Sooklal",
           6,
           2,
           "2023-12-13"
          ]
         ],
         "hovertemplate": "<i>%{customdata[4]|%A, %B %d, %Y}, Game %{x}</i><br><b>%{fullData.name}</b><br><br><b>%{customdata[0]} vs. %{customdata[1]}</b><br><b>Final Score:</b> %{customdata[2]}-%{customdata[3]}<br>%{text}<b>Post-Game ELO:</b> %{y:,.0f}<br><extra></extra>",
         "legendgrouptitle": {
          "text": "<b>#<i>Rank</i> (<i>Current ELO</i>) <i>Player</i></b>"
         },
         "line": {
          "color": "rgb(17, 165, 121)",
          "shape": "hv"
         },
         "mode": "lines+markers",
         "name": "#2 (1228) Evan Sooklal",
         "opacity": 0.8,
         "text": [
          "<br><b>Pre-Game ELO: </b>1200<br><b>Win Probability: </b>50.0%<br><br><b>Change in ELO:</b> -16<br>",
          "<br><b>Pre-Game ELO: </b>nan<br><b>Win Probability: </b>nan%<br><br><b>Change in ELO:</b> +nan<br>",
          "<br><b>Pre-Game ELO: </b>1184<br><b>Win Probability: </b>41.6%<br><br><b>Change in ELO:</b> -13<br>",
          "<br><b>Pre-Game ELO: </b>nan<br><b>Win Probability: </b>nan%<br><br><b>Change in ELO:</b> +nan<br>",
          "<br><b>Pre-Game ELO: </b>1172<br><b>Win Probability: </b>50.0%<br><br><b>Change in ELO:</b> +16<br>",
          "<br><b>Pre-Game ELO: </b>nan<br><b>Win Probability: </b>nan%<br><br><b>Change in ELO:</b> +nan<br>",
          "<br><b>Pre-Game ELO: </b>1187<br><b>Win Probability: </b>43.0%<br><br><b>Change in ELO:</b> -13<br>",
          "<br><b>Pre-Game ELO: </b>nan<br><b>Win Probability: </b>nan%<br><br><b>Change in ELO:</b> +nan<br>",
          "<br><b>Pre-Game ELO: </b>1174<br><b>Win Probability: </b>29.6%<br><br><b>Change in ELO:</b> +22<br>",
          "<br><b>Pre-Game ELO: </b>nan<br><b>Win Probability: </b>nan%<br><br><b>Change in ELO:</b> +nan<br>",
          "<br><b>Pre-Game ELO: </b>1196<br><b>Win Probability: </b>65.2%<br><br><b>Change in ELO:</b> +11<br>",
          "<br><b>Pre-Game ELO: </b>nan<br><b>Win Probability: </b>nan%<br><br><b>Change in ELO:</b> +nan<br>",
          "<br><b>Pre-Game ELO: </b>nan<br><b>Win Probability: </b>nan%<br><br><b>Change in ELO:</b> +nan<br>",
          "<br><b>Pre-Game ELO: </b>nan<br><b>Win Probability: </b>nan%<br><br><b>Change in ELO:</b> +nan<br>",
          "<br><b>Pre-Game ELO: </b>nan<br><b>Win Probability: </b>nan%<br><br><b>Change in ELO:</b> +nan<br>",
          "<br><b>Pre-Game ELO: </b>nan<br><b>Win Probability: </b>nan%<br><br><b>Change in ELO:</b> +nan<br>",
          "<br><b>Pre-Game ELO: </b>nan<br><b>Win Probability: </b>nan%<br><br><b>Change in ELO:</b> +nan<br>",
          "<br><b>Pre-Game ELO: </b>nan<br><b>Win Probability: </b>nan%<br><br><b>Change in ELO:</b> +nan<br>",
          "<br><b>Pre-Game ELO: </b>1206<br><b>Win Probability: </b>41.4%<br><br><b>Change in ELO:</b> +18<br>",
          "<br><b>Pre-Game ELO: </b>1225<br><b>Win Probability: </b>47.8%<br><br><b>Change in ELO:</b> -15<br>",
          "<br><b>Pre-Game ELO: </b>nan<br><b>Win Probability: </b>nan%<br><br><b>Change in ELO:</b> +nan<br>",
          "<br><b>Pre-Game ELO: </b>1210<br><b>Win Probability: </b>68.1%<br><br><b>Change in ELO:</b> +10<br>",
          "<br><b>Pre-Game ELO: </b>nan<br><b>Win Probability: </b>nan%<br><br><b>Change in ELO:</b> +nan<br>",
          "<br><b>Pre-Game ELO: </b>nan<br><b>Win Probability: </b>nan%<br><br><b>Change in ELO:</b> +nan<br>",
          "<br><b>Pre-Game ELO: </b>1220<br><b>Win Probability: </b>60.1%<br><br><b>Change in ELO:</b> -19<br>",
          "<br><b>Pre-Game ELO: </b>nan<br><b>Win Probability: </b>nan%<br><br><b>Change in ELO:</b> +nan<br>",
          "<br><b>Pre-Game ELO: </b>nan<br><b>Win Probability: </b>nan%<br><br><b>Change in ELO:</b> +nan<br>",
          "<br><b>Pre-Game ELO: </b>nan<br><b>Win Probability: </b>nan%<br><br><b>Change in ELO:</b> +nan<br>",
          "<br><b>Pre-Game ELO: </b>1201<br><b>Win Probability: </b>42.5%<br><br><b>Change in ELO:</b> +18<br>",
          "<br><b>Pre-Game ELO: </b>1219<br><b>Win Probability: </b>49.9%<br><br><b>Change in ELO:</b> -15<br>",
          "<br><b>Pre-Game ELO: </b>nan<br><b>Win Probability: </b>nan%<br><br><b>Change in ELO:</b> +nan<br>",
          "<br><b>Pre-Game ELO: </b>1203<br><b>Win Probability: </b>68.0%<br><br><b>Change in ELO:</b> -21<br>",
          "<br><b>Pre-Game ELO: </b>nan<br><b>Win Probability: </b>nan%<br><br><b>Change in ELO:</b> +nan<br>",
          "<br><b>Pre-Game ELO: </b>nan<br><b>Win Probability: </b>nan%<br><br><b>Change in ELO:</b> +nan<br>",
          "<br><b>Pre-Game ELO: </b>1182<br><b>Win Probability: </b>40.6%<br><br><b>Change in ELO:</b> +18<br>",
          "<br><b>Pre-Game ELO: </b>1201<br><b>Win Probability: </b>37.3%<br><br><b>Change in ELO:</b> -12<br>",
          "<br><b>Pre-Game ELO: </b>1189<br><b>Win Probability: </b>31.5%<br><br><b>Change in ELO:</b> -10<br>",
          "<br><b>Pre-Game ELO: </b>nan<br><b>Win Probability: </b>nan%<br><br><b>Change in ELO:</b> +nan<br>",
          "<br><b>Pre-Game ELO: </b>1179<br><b>Win Probability: </b>50.3%<br><br><b>Change in ELO:</b> +15<br>",
          "<br><b>Pre-Game ELO: </b>nan<br><b>Win Probability: </b>nan%<br><br><b>Change in ELO:</b> +nan<br>",
          "<br><b>Pre-Game ELO: </b>nan<br><b>Win Probability: </b>nan%<br><br><b>Change in ELO:</b> +nan<br>",
          "<br><b>Pre-Game ELO: </b>nan<br><b>Win Probability: </b>nan%<br><br><b>Change in ELO:</b> +nan<br>",
          "<br><b>Pre-Game ELO: </b>1195<br><b>Win Probability: </b>63.1%<br><br><b>Change in ELO:</b> +11<br>",
          "<br><b>Pre-Game ELO: </b>1206<br><b>Win Probability: </b>35.9%<br><br><b>Change in ELO:</b> +20<br>",
          "<br><b>Pre-Game ELO: </b>nan<br><b>Win Probability: </b>nan%<br><br><b>Change in ELO:</b> +nan<br>",
          "<br><b>Pre-Game ELO: </b>1226<br><b>Win Probability: </b>45.5%<br><br><b>Change in ELO:</b> -14<br>",
          "<br><b>Pre-Game ELO: </b>nan<br><b>Win Probability: </b>nan%<br><br><b>Change in ELO:</b> +nan<br>",
          "<br><b>Pre-Game ELO: </b>nan<br><b>Win Probability: </b>nan%<br><br><b>Change in ELO:</b> +nan<br>",
          "<br><b>Pre-Game ELO: </b>1212<br><b>Win Probability: </b>64.4%<br><br><b>Change in ELO:</b> +11<br>",
          "<br><b>Pre-Game ELO: </b>nan<br><b>Win Probability: </b>nan%<br><br><b>Change in ELO:</b> +nan<br>",
          "<br><b>Pre-Game ELO: </b>nan<br><b>Win Probability: </b>nan%<br><br><b>Change in ELO:</b> +nan<br>",
          "<br><b>Pre-Game ELO: </b>nan<br><b>Win Probability: </b>nan%<br><br><b>Change in ELO:</b> +nan<br>",
          "<br><b>Pre-Game ELO: </b>1223<br><b>Win Probability: </b>78.0%<br><br><b>Change in ELO:</b> +7<br>",
          "<br><b>Pre-Game ELO: </b>1230<br><b>Win Probability: </b>55.1%<br><br><b>Change in ELO:</b> +14<br>",
          "<br><b>Pre-Game ELO: </b>nan<br><b>Win Probability: </b>nan%<br><br><b>Change in ELO:</b> +nan<br>",
          "<br><b>Pre-Game ELO: </b>1244<br><b>Win Probability: </b>38.9%<br><br><b>Change in ELO:</b> -12<br>",
          "<br><b>Pre-Game ELO: </b>nan<br><b>Win Probability: </b>nan%<br><br><b>Change in ELO:</b> +nan<br>",
          "<br><b>Pre-Game ELO: </b>1232<br><b>Win Probability: </b>32.8%<br><br><b>Change in ELO:</b> +21<br>",
          "<br><b>Pre-Game ELO: </b>1252<br><b>Win Probability: </b>43.6%<br><br><b>Change in ELO:</b> -14<br>",
          "<br><b>Pre-Game ELO: </b>1239<br><b>Win Probability: </b>36.5%<br><br><b>Change in ELO:</b> -11<br>"
         ],
         "type": "scatter",
         "x": [
          1,
          2,
          3,
          4,
          5,
          6,
          7,
          8,
          9,
          10,
          11,
          12,
          13,
          14,
          15,
          16,
          17,
          18,
          19,
          20,
          21,
          22,
          23,
          24,
          25,
          26,
          27,
          28,
          29,
          30,
          31,
          32,
          33,
          34,
          35,
          36,
          37,
          38,
          39,
          40,
          41,
          42,
          43,
          44,
          45,
          46,
          47,
          48,
          49,
          50,
          51,
          52,
          53,
          54,
          55,
          56,
          57,
          58,
          59,
          60
         ],
         "y": [
          1184.5,
          null,
          1171.6141968246961,
          null,
          1187.1141968246961,
          null,
          1173.7939130285101,
          null,
          1195.6025614531375,
          null,
          1206.3837765730614,
          null,
          null,
          null,
          null,
          null,
          null,
          null,
          1224.5605299452006,
          1209.7347325352785,
          null,
          1219.6316563738828,
          null,
          null,
          1200.9871446670898,
          null,
          null,
          null,
          1218.8092452969277,
          1203.3346743361965,
          null,
          1182.249648937476,
          null,
          null,
          1200.6550754402726,
          1189.1021135913395,
          1179.3220654245522,
          null,
          1194.7268354532405,
          null,
          null,
          null,
          1206.1623291617937,
          1226.0305126089077,
          null,
          1211.9206052280472,
          null,
          null,
          1222.9696023792922,
          null,
          null,
          null,
          1229.7827036366984,
          1243.690786073097,
          null,
          1231.6279675095418,
          null,
          1252.4517791091112,
          1238.9440776035322,
          1227.6403383581633
         ]
        },
        {
         "connectgaps": true,
         "customdata": [
          [
           "Evan Sooklal",
           "Will Simpson",
           2,
           6,
           "2023-11-18"
          ],
          [
           "Paul Bartenfeld",
           "Roman Ramirez",
           2,
           6,
           "2023-11-18"
          ],
          [
           "Roman Ramirez",
           "Evan Sooklal",
           6,
           3,
           "2023-11-18"
          ],
          [
           "Will Simpson",
           "Paul Bartenfeld",
           6,
           1,
           "2023-11-18"
          ],
          [
           "Paul Bartenfeld",
           "Evan Sooklal",
           1,
           6,
           "2023-11-18"
          ],
          [
           "Will Simpson",
           "Roman Ramirez",
           3,
           6,
           "2023-11-18"
          ],
          [
           "Will Simpson",
           "Evan Sooklal",
           6,
           2,
           "2023-11-18"
          ],
          [
           "Roman Ramirez",
           "Paul Bartenfeld",
           6,
           4,
           "2023-11-18"
          ],
          [
           "Evan Sooklal",
           "Roman Ramirez",
           6,
           5,
           "2023-11-18"
          ],
          [
           "Paul Bartenfeld",
           "Will Simpson",
           4,
           6,
           "2023-11-18"
          ],
          [
           "Evan Sooklal",
           "Paul Bartenfeld",
           6,
           5,
           "2023-11-18"
          ],
          [
           "Roman Ramirez",
           "Will Simpson",
           6,
           2,
           "2023-11-18"
          ],
          [
           "Roman Ramirez",
           "Will Simpson",
           2,
           6,
           "2023-11-18"
          ],
          [
           "Will Simpson",
           "Roman Ramirez",
           4,
           6,
           "2023-11-18"
          ],
          [
           "Roman Ramirez",
           "Will Simpson",
           6,
           4,
           "2023-11-18"
          ],
          [
           "Roman Ramirez",
           "Aaron Carter",
           4,
           6,
           "2023-12-02"
          ],
          [
           "Will Simpson",
           "Paul Bartenfeld",
           6,
           4,
           "2023-12-02"
          ],
          [
           "Aaron Carter",
           "Will Simpson",
           4,
           6,
           "2023-12-02"
          ],
          [
           "Evan Sooklal",
           "Roman Ramirez",
           6,
           2,
           "2023-12-02"
          ],
          [
           "Will Simpson",
           "Evan Sooklal",
           6,
           2,
           "2023-12-02"
          ],
          [
           "Paul Bartenfeld",
           "Aaron Carter",
           6,
           3,
           "2023-12-02"
          ],
          [
           "Evan Sooklal",
           "Paul Bartenfeld",
           6,
           4,
           "2023-12-02"
          ],
          [
           "Roman Ramirez",
           "Will Simpson",
           6,
           4,
           "2023-12-02"
          ],
          [
           "Paul Bartenfeld",
           "Roman Ramirez",
           6,
           3,
           "2023-12-02"
          ],
          [
           "Aaron Carter",
           "Evan Sooklal",
           6,
           3,
           "2023-12-02"
          ],
          [
           "Aaron Carter",
           "Roman Ramirez",
           0,
           6,
           "2023-12-02"
          ],
          [
           "Paul Bartenfeld",
           "Will Simpson",
           1,
           6,
           "2023-12-02"
          ],
          [
           "Will Simpson",
           "Aaron Carter",
           3,
           6,
           "2023-12-02"
          ],
          [
           "Roman Ramirez",
           "Evan Sooklal",
           2,
           6,
           "2023-12-02"
          ],
          [
           "Evan Sooklal",
           "Will Simpson",
           5,
           6,
           "2023-12-02"
          ],
          [
           "Aaron Carter",
           "Paul Bartenfeld",
           6,
           3,
           "2023-12-02"
          ],
          [
           "Paul Bartenfeld",
           "Evan Sooklal",
           6,
           5,
           "2023-12-02"
          ],
          [
           "Will Simpson",
           "Roman Ramirez",
           6,
           5,
           "2023-12-02"
          ],
          [
           "Roman Ramirez",
           "Paul Bartenfeld",
           4,
           6,
           "2023-12-02"
          ],
          [
           "Evan Sooklal",
           "Aaron Carter",
           6,
           4,
           "2023-12-02"
          ],
          [
           "Will Simpson",
           "Evan Sooklal",
           6,
           2,
           "2023-12-02"
          ],
          [
           "Will Simpson",
           "Evan Sooklal",
           6,
           1,
           "2023-12-02"
          ],
          [
           "Aaron Carter",
           "Paul Bartenfeld",
           6,
           3,
           "2023-12-13"
          ],
          [
           "Roman Ramirez",
           "Evan Sooklal",
           5,
           6,
           "2023-12-13"
          ],
          [
           "Paul Bartenfeld",
           "Roman Ramirez",
           2,
           6,
           "2023-12-13"
          ],
          [
           "Will Simpson",
           "Aaron Carter",
           0,
           6,
           "2023-12-13"
          ],
          [
           "Roman Ramirez",
           "Will Simpson",
           4,
           6,
           "2023-12-13"
          ],
          [
           "Evan Sooklal",
           "Paul Bartenfeld",
           6,
           5,
           "2023-12-13"
          ],
          [
           "Will Simpson",
           "Evan Sooklal",
           4,
           6,
           "2023-12-13"
          ],
          [
           "Aaron Carter",
           "Roman Ramirez",
           6,
           3,
           "2023-12-13"
          ],
          [
           "Evan Sooklal",
           "Aaron Carter",
           5,
           6,
           "2023-12-13"
          ],
          [
           "Paul Bartenfeld",
           "Will Simpson",
           2,
           6,
           "2023-12-13"
          ],
          [
           "Paul Bartenfeld",
           "Aaron Carter",
           3,
           6,
           "2023-12-13"
          ],
          [
           "Evan Sooklal",
           "Roman Ramirez",
           6,
           4,
           "2023-12-13"
          ],
          [
           "Roman Ramirez",
           "Paul Bartenfeld",
           6,
           1,
           "2023-12-13"
          ],
          [
           "Aaron Carter",
           "Will Simpson",
           6,
           5,
           "2023-12-13"
          ],
          [
           "Will Simpson",
           "Roman Ramirez",
           3,
           6,
           "2023-12-13"
          ],
          [
           "Paul Bartenfeld",
           "Evan Sooklal",
           3,
           6,
           "2023-12-13"
          ],
          [
           "Evan Sooklal",
           "Will Simpson",
           6,
           3,
           "2023-12-13"
          ],
          [
           "Roman Ramirez",
           "Aaron Carter",
           5,
           6,
           "2023-12-13"
          ],
          [
           "Aaron Carter",
           "Evan Sooklal",
           6,
           2,
           "2023-12-13"
          ],
          [
           "Will Simpson",
           "Paul Bartenfeld",
           6,
           4,
           "2023-12-13"
          ],
          [
           "Aaron Carter",
           "Evan Sooklal",
           5,
           6,
           "2023-12-13"
          ],
          [
           "Evan Sooklal",
           "Aaron Carter",
           2,
           6,
           "2023-12-13"
          ],
          [
           "Aaron Carter",
           "Evan Sooklal",
           6,
           2,
           "2023-12-13"
          ]
         ],
         "hovertemplate": "<i>%{customdata[4]|%A, %B %d, %Y}, Game %{x}</i><br><b>%{fullData.name}</b><br><br><b>%{customdata[0]} vs. %{customdata[1]}</b><br><b>Final Score:</b> %{customdata[2]}-%{customdata[3]}<br>%{text}<b>Post-Game ELO:</b> %{y:,.0f}<br><extra></extra>",
         "legendgrouptitle": {
          "text": "<b>#<i>Rank</i> (<i>Current ELO</i>) <i>Player</i></b>"
         },
         "line": {
          "color": "rgb(57, 105, 172)",
          "shape": "hv"
         },
         "mode": "lines+markers",
         "name": "#3 (1205) Will Simpson",
         "opacity": 0.8,
         "text": [
          "<br><b>Pre-Game ELO: </b>1200<br><b>Win Probability: </b>50.0%<br><br><b>Change in ELO:</b> +16<br>",
          "<br><b>Pre-Game ELO: </b>nan<br><b>Win Probability: </b>nan%<br><br><b>Change in ELO:</b> +nan<br>",
          "<br><b>Pre-Game ELO: </b>nan<br><b>Win Probability: </b>nan%<br><br><b>Change in ELO:</b> +nan<br>",
          "<br><b>Pre-Game ELO: </b>1216<br><b>Win Probability: </b>58.4%<br><br><b>Change in ELO:</b> +13<br>",
          "<br><b>Pre-Game ELO: </b>nan<br><b>Win Probability: </b>nan%<br><br><b>Change in ELO:</b> +nan<br>",
          "<br><b>Pre-Game ELO: </b>1228<br><b>Win Probability: </b>50.0%<br><br><b>Change in ELO:</b> -16<br>",
          "<br><b>Pre-Game ELO: </b>1213<br><b>Win Probability: </b>57.0%<br><br><b>Change in ELO:</b> +13<br>",
          "<br><b>Pre-Game ELO: </b>nan<br><b>Win Probability: </b>nan%<br><br><b>Change in ELO:</b> +nan<br>",
          "<br><b>Pre-Game ELO: </b>nan<br><b>Win Probability: </b>nan%<br><br><b>Change in ELO:</b> +nan<br>",
          "<br><b>Pre-Game ELO: </b>1226<br><b>Win Probability: </b>70.4%<br><br><b>Change in ELO:</b> +9<br>",
          "<br><b>Pre-Game ELO: </b>nan<br><b>Win Probability: </b>nan%<br><br><b>Change in ELO:</b> +nan<br>",
          "<br><b>Pre-Game ELO: </b>1235<br><b>Win Probability: </b>51.3%<br><br><b>Change in ELO:</b> -16<br>",
          "<br><b>Pre-Game ELO: </b>1219<br><b>Win Probability: </b>42.6%<br><br><b>Change in ELO:</b> +18<br>",
          "<br><b>Pre-Game ELO: </b>1237<br><b>Win Probability: </b>52.3%<br><br><b>Change in ELO:</b> -16<br>",
          "<br><b>Pre-Game ELO: </b>1221<br><b>Win Probability: </b>43.5%<br><br><b>Change in ELO:</b> -13<br>",
          "<br><b>Pre-Game ELO: </b>nan<br><b>Win Probability: </b>nan%<br><br><b>Change in ELO:</b> +nan<br>",
          "<br><b>Pre-Game ELO: </b>1208<br><b>Win Probability: </b>70.7%<br><br><b>Change in ELO:</b> +9<br>",
          "<br><b>Pre-Game ELO: </b>1217<br><b>Win Probability: </b>49.0%<br><br><b>Change in ELO:</b> +16<br>",
          "<br><b>Pre-Game ELO: </b>nan<br><b>Win Probability: </b>nan%<br><br><b>Change in ELO:</b> +nan<br>",
          "<br><b>Pre-Game ELO: </b>1232<br><b>Win Probability: </b>52.2%<br><br><b>Change in ELO:</b> +15<br>",
          "<br><b>Pre-Game ELO: </b>nan<br><b>Win Probability: </b>nan%<br><br><b>Change in ELO:</b> +nan<br>",
          "<br><b>Pre-Game ELO: </b>nan<br><b>Win Probability: </b>nan%<br><br><b>Change in ELO:</b> +nan<br>",
          "<br><b>Pre-Game ELO: </b>1247<br><b>Win Probability: </b>57.5%<br><br><b>Change in ELO:</b> -18<br>",
          "<br><b>Pre-Game ELO: </b>nan<br><b>Win Probability: </b>nan%<br><br><b>Change in ELO:</b> +nan<br>",
          "<br><b>Pre-Game ELO: </b>nan<br><b>Win Probability: </b>nan%<br><br><b>Change in ELO:</b> +nan<br>",
          "<br><b>Pre-Game ELO: </b>nan<br><b>Win Probability: </b>nan%<br><br><b>Change in ELO:</b> +nan<br>",
          "<br><b>Pre-Game ELO: </b>1229<br><b>Win Probability: </b>69.5%<br><br><b>Change in ELO:</b> +9<br>",
          "<br><b>Pre-Game ELO: </b>1239<br><b>Win Probability: </b>64.0%<br><br><b>Change in ELO:</b> -20<br>",
          "<br><b>Pre-Game ELO: </b>nan<br><b>Win Probability: </b>nan%<br><br><b>Change in ELO:</b> +nan<br>",
          "<br><b>Pre-Game ELO: </b>1219<br><b>Win Probability: </b>50.1%<br><br><b>Change in ELO:</b> +15<br>",
          "<br><b>Pre-Game ELO: </b>nan<br><b>Win Probability: </b>nan%<br><br><b>Change in ELO:</b> +nan<br>",
          "<br><b>Pre-Game ELO: </b>nan<br><b>Win Probability: </b>nan%<br><br><b>Change in ELO:</b> +nan<br>",
          "<br><b>Pre-Game ELO: </b>1235<br><b>Win Probability: </b>56.5%<br><br><b>Change in ELO:</b> +13<br>",
          "<br><b>Pre-Game ELO: </b>nan<br><b>Win Probability: </b>nan%<br><br><b>Change in ELO:</b> +nan<br>",
          "<br><b>Pre-Game ELO: </b>nan<br><b>Win Probability: </b>nan%<br><br><b>Change in ELO:</b> +nan<br>",
          "<br><b>Pre-Game ELO: </b>1248<br><b>Win Probability: </b>62.7%<br><br><b>Change in ELO:</b> +12<br>",
          "<br><b>Pre-Game ELO: </b>1260<br><b>Win Probability: </b>68.5%<br><br><b>Change in ELO:</b> +10<br>",
          "<br><b>Pre-Game ELO: </b>nan<br><b>Win Probability: </b>nan%<br><br><b>Change in ELO:</b> +nan<br>",
          "<br><b>Pre-Game ELO: </b>nan<br><b>Win Probability: </b>nan%<br><br><b>Change in ELO:</b> +nan<br>",
          "<br><b>Pre-Game ELO: </b>nan<br><b>Win Probability: </b>nan%<br><br><b>Change in ELO:</b> +nan<br>",
          "<br><b>Pre-Game ELO: </b>1269<br><b>Win Probability: </b>65.3%<br><br><b>Change in ELO:</b> -20<br>",
          "<br><b>Pre-Game ELO: </b>1249<br><b>Win Probability: </b>68.6%<br><br><b>Change in ELO:</b> +10<br>",
          "<br><b>Pre-Game ELO: </b>nan<br><b>Win Probability: </b>nan%<br><br><b>Change in ELO:</b> +nan<br>",
          "<br><b>Pre-Game ELO: </b>1259<br><b>Win Probability: </b>64.1%<br><br><b>Change in ELO:</b> -20<br>",
          "<br><b>Pre-Game ELO: </b>nan<br><b>Win Probability: </b>nan%<br><br><b>Change in ELO:</b> +nan<br>",
          "<br><b>Pre-Game ELO: </b>nan<br><b>Win Probability: </b>nan%<br><br><b>Change in ELO:</b> +nan<br>",
          "<br><b>Pre-Game ELO: </b>1239<br><b>Win Probability: </b>75.9%<br><br><b>Change in ELO:</b> +7<br>",
          "<br><b>Pre-Game ELO: </b>nan<br><b>Win Probability: </b>nan%<br><br><b>Change in ELO:</b> +nan<br>",
          "<br><b>Pre-Game ELO: </b>nan<br><b>Win Probability: </b>nan%<br><br><b>Change in ELO:</b> +nan<br>",
          "<br><b>Pre-Game ELO: </b>nan<br><b>Win Probability: </b>nan%<br><br><b>Change in ELO:</b> +nan<br>",
          "<br><b>Pre-Game ELO: </b>1246<br><b>Win Probability: </b>45.6%<br><br><b>Change in ELO:</b> -14<br>",
          "<br><b>Pre-Game ELO: </b>1232<br><b>Win Probability: </b>68.8%<br><br><b>Change in ELO:</b> -21<br>",
          "<br><b>Pre-Game ELO: </b>nan<br><b>Win Probability: </b>nan%<br><br><b>Change in ELO:</b> +nan<br>",
          "<br><b>Pre-Game ELO: </b>1211<br><b>Win Probability: </b>44.9%<br><br><b>Change in ELO:</b> -14<br>",
          "<br><b>Pre-Game ELO: </b>nan<br><b>Win Probability: </b>nan%<br><br><b>Change in ELO:</b> +nan<br>",
          "<br><b>Pre-Game ELO: </b>nan<br><b>Win Probability: </b>nan%<br><br><b>Change in ELO:</b> +nan<br>",
          "<br><b>Pre-Game ELO: </b>1197<br><b>Win Probability: </b>74.2%<br><br><b>Change in ELO:</b> +8<br>",
          "<br><b>Pre-Game ELO: </b>nan<br><b>Win Probability: </b>nan%<br><br><b>Change in ELO:</b> +nan<br>",
          "<br><b>Pre-Game ELO: </b>nan<br><b>Win Probability: </b>nan%<br><br><b>Change in ELO:</b> +nan<br>",
          "<br><b>Pre-Game ELO: </b>nan<br><b>Win Probability: </b>nan%<br><br><b>Change in ELO:</b> +nan<br>"
         ],
         "type": "scatter",
         "x": [
          1,
          2,
          3,
          4,
          5,
          6,
          7,
          8,
          9,
          10,
          11,
          12,
          13,
          14,
          15,
          16,
          17,
          18,
          19,
          20,
          21,
          22,
          23,
          24,
          25,
          26,
          27,
          28,
          29,
          30,
          31,
          32,
          33,
          34,
          35,
          36,
          37,
          38,
          39,
          40,
          41,
          42,
          43,
          44,
          45,
          46,
          47,
          48,
          49,
          50,
          51,
          52,
          53,
          54,
          55,
          56,
          57,
          58,
          59,
          60
         ],
         "y": [
          1215.5,
          null,
          null,
          1228.3858031753039,
          null,
          1212.8858031753039,
          1226.2060869714899,
          null,
          null,
          1235.3974385468625,
          null,
          1219.4919520318529,
          1237.2780408888975,
          1221.052753694122,
          1207.5782095664276,
          null,
          1216.674325114043,
          1232.4840539698923,
          null,
          1247.3098513798145,
          null,
          null,
          1229.4988967375302,
          null,
          null,
          null,
          1238.958454220562,
          1219.107910197629,
          null,
          1234.5824811583602,
          null,
          null,
          1248.0560505120777,
          null,
          null,
          1259.6090123610109,
          1269.3890605277982,
          null,
          null,
          null,
          1249.1486810656638,
          1258.8936040805959,
          null,
          1239.0254206334819,
          null,
          null,
          1246.4845665792952,
          null,
          null,
          null,
          1232.3471327898974,
          1211.01943697701,
          null,
          1197.1113545406115,
          null,
          null,
          1205.1013946719963,
          null,
          null,
          null
         ]
        },
        {
         "connectgaps": true,
         "customdata": [
          [
           "Evan Sooklal",
           "Will Simpson",
           2,
           6,
           "2023-11-18"
          ],
          [
           "Paul Bartenfeld",
           "Roman Ramirez",
           2,
           6,
           "2023-11-18"
          ],
          [
           "Roman Ramirez",
           "Evan Sooklal",
           6,
           3,
           "2023-11-18"
          ],
          [
           "Will Simpson",
           "Paul Bartenfeld",
           6,
           1,
           "2023-11-18"
          ],
          [
           "Paul Bartenfeld",
           "Evan Sooklal",
           1,
           6,
           "2023-11-18"
          ],
          [
           "Will Simpson",
           "Roman Ramirez",
           3,
           6,
           "2023-11-18"
          ],
          [
           "Will Simpson",
           "Evan Sooklal",
           6,
           2,
           "2023-11-18"
          ],
          [
           "Roman Ramirez",
           "Paul Bartenfeld",
           6,
           4,
           "2023-11-18"
          ],
          [
           "Evan Sooklal",
           "Roman Ramirez",
           6,
           5,
           "2023-11-18"
          ],
          [
           "Paul Bartenfeld",
           "Will Simpson",
           4,
           6,
           "2023-11-18"
          ],
          [
           "Evan Sooklal",
           "Paul Bartenfeld",
           6,
           5,
           "2023-11-18"
          ],
          [
           "Roman Ramirez",
           "Will Simpson",
           6,
           2,
           "2023-11-18"
          ],
          [
           "Roman Ramirez",
           "Will Simpson",
           2,
           6,
           "2023-11-18"
          ],
          [
           "Will Simpson",
           "Roman Ramirez",
           4,
           6,
           "2023-11-18"
          ],
          [
           "Roman Ramirez",
           "Will Simpson",
           6,
           4,
           "2023-11-18"
          ],
          [
           "Roman Ramirez",
           "Aaron Carter",
           4,
           6,
           "2023-12-02"
          ],
          [
           "Will Simpson",
           "Paul Bartenfeld",
           6,
           4,
           "2023-12-02"
          ],
          [
           "Aaron Carter",
           "Will Simpson",
           4,
           6,
           "2023-12-02"
          ],
          [
           "Evan Sooklal",
           "Roman Ramirez",
           6,
           2,
           "2023-12-02"
          ],
          [
           "Will Simpson",
           "Evan Sooklal",
           6,
           2,
           "2023-12-02"
          ],
          [
           "Paul Bartenfeld",
           "Aaron Carter",
           6,
           3,
           "2023-12-02"
          ],
          [
           "Evan Sooklal",
           "Paul Bartenfeld",
           6,
           4,
           "2023-12-02"
          ],
          [
           "Roman Ramirez",
           "Will Simpson",
           6,
           4,
           "2023-12-02"
          ],
          [
           "Paul Bartenfeld",
           "Roman Ramirez",
           6,
           3,
           "2023-12-02"
          ],
          [
           "Aaron Carter",
           "Evan Sooklal",
           6,
           3,
           "2023-12-02"
          ],
          [
           "Aaron Carter",
           "Roman Ramirez",
           0,
           6,
           "2023-12-02"
          ],
          [
           "Paul Bartenfeld",
           "Will Simpson",
           1,
           6,
           "2023-12-02"
          ],
          [
           "Will Simpson",
           "Aaron Carter",
           3,
           6,
           "2023-12-02"
          ],
          [
           "Roman Ramirez",
           "Evan Sooklal",
           2,
           6,
           "2023-12-02"
          ],
          [
           "Evan Sooklal",
           "Will Simpson",
           5,
           6,
           "2023-12-02"
          ],
          [
           "Aaron Carter",
           "Paul Bartenfeld",
           6,
           3,
           "2023-12-02"
          ],
          [
           "Paul Bartenfeld",
           "Evan Sooklal",
           6,
           5,
           "2023-12-02"
          ],
          [
           "Will Simpson",
           "Roman Ramirez",
           6,
           5,
           "2023-12-02"
          ],
          [
           "Roman Ramirez",
           "Paul Bartenfeld",
           4,
           6,
           "2023-12-02"
          ],
          [
           "Evan Sooklal",
           "Aaron Carter",
           6,
           4,
           "2023-12-02"
          ],
          [
           "Will Simpson",
           "Evan Sooklal",
           6,
           2,
           "2023-12-02"
          ],
          [
           "Will Simpson",
           "Evan Sooklal",
           6,
           1,
           "2023-12-02"
          ],
          [
           "Aaron Carter",
           "Paul Bartenfeld",
           6,
           3,
           "2023-12-13"
          ],
          [
           "Roman Ramirez",
           "Evan Sooklal",
           5,
           6,
           "2023-12-13"
          ],
          [
           "Paul Bartenfeld",
           "Roman Ramirez",
           2,
           6,
           "2023-12-13"
          ],
          [
           "Will Simpson",
           "Aaron Carter",
           0,
           6,
           "2023-12-13"
          ],
          [
           "Roman Ramirez",
           "Will Simpson",
           4,
           6,
           "2023-12-13"
          ],
          [
           "Evan Sooklal",
           "Paul Bartenfeld",
           6,
           5,
           "2023-12-13"
          ],
          [
           "Will Simpson",
           "Evan Sooklal",
           4,
           6,
           "2023-12-13"
          ],
          [
           "Aaron Carter",
           "Roman Ramirez",
           6,
           3,
           "2023-12-13"
          ],
          [
           "Evan Sooklal",
           "Aaron Carter",
           5,
           6,
           "2023-12-13"
          ],
          [
           "Paul Bartenfeld",
           "Will Simpson",
           2,
           6,
           "2023-12-13"
          ],
          [
           "Paul Bartenfeld",
           "Aaron Carter",
           3,
           6,
           "2023-12-13"
          ],
          [
           "Evan Sooklal",
           "Roman Ramirez",
           6,
           4,
           "2023-12-13"
          ],
          [
           "Roman Ramirez",
           "Paul Bartenfeld",
           6,
           1,
           "2023-12-13"
          ],
          [
           "Aaron Carter",
           "Will Simpson",
           6,
           5,
           "2023-12-13"
          ],
          [
           "Will Simpson",
           "Roman Ramirez",
           3,
           6,
           "2023-12-13"
          ],
          [
           "Paul Bartenfeld",
           "Evan Sooklal",
           3,
           6,
           "2023-12-13"
          ],
          [
           "Evan Sooklal",
           "Will Simpson",
           6,
           3,
           "2023-12-13"
          ],
          [
           "Roman Ramirez",
           "Aaron Carter",
           5,
           6,
           "2023-12-13"
          ],
          [
           "Aaron Carter",
           "Evan Sooklal",
           6,
           2,
           "2023-12-13"
          ],
          [
           "Will Simpson",
           "Paul Bartenfeld",
           6,
           4,
           "2023-12-13"
          ],
          [
           "Aaron Carter",
           "Evan Sooklal",
           5,
           6,
           "2023-12-13"
          ],
          [
           "Evan Sooklal",
           "Aaron Carter",
           2,
           6,
           "2023-12-13"
          ],
          [
           "Aaron Carter",
           "Evan Sooklal",
           6,
           2,
           "2023-12-13"
          ]
         ],
         "hovertemplate": "<i>%{customdata[4]|%A, %B %d, %Y}, Game %{x}</i><br><b>%{fullData.name}</b><br><br><b>%{customdata[0]} vs. %{customdata[1]}</b><br><b>Final Score:</b> %{customdata[2]}-%{customdata[3]}<br>%{text}<b>Post-Game ELO:</b> %{y:,.0f}<br><extra></extra>",
         "legendgrouptitle": {
          "text": "<b>#<i>Rank</i> (<i>Current ELO</i>) <i>Player</i></b>"
         },
         "line": {
          "color": "rgb(242, 183, 1)",
          "shape": "hv"
         },
         "mode": "lines+markers",
         "name": "#4 (1174) Roman Ramirez",
         "opacity": 0.8,
         "text": [
          "<br><b>Pre-Game ELO: </b>nan<br><b>Win Probability: </b>nan%<br><br><b>Change in ELO:</b> +nan<br>",
          "<br><b>Pre-Game ELO: </b>1200<br><b>Win Probability: </b>50.0%<br><br><b>Change in ELO:</b> +16<br>",
          "<br><b>Pre-Game ELO: </b>1216<br><b>Win Probability: </b>58.4%<br><br><b>Change in ELO:</b> +13<br>",
          "<br><b>Pre-Game ELO: </b>nan<br><b>Win Probability: </b>nan%<br><br><b>Change in ELO:</b> +nan<br>",
          "<br><b>Pre-Game ELO: </b>nan<br><b>Win Probability: </b>nan%<br><br><b>Change in ELO:</b> +nan<br>",
          "<br><b>Pre-Game ELO: </b>1228<br><b>Win Probability: </b>50.0%<br><br><b>Change in ELO:</b> +16<br>",
          "<br><b>Pre-Game ELO: </b>nan<br><b>Win Probability: </b>nan%<br><br><b>Change in ELO:</b> +nan<br>",
          "<br><b>Pre-Game ELO: </b>1244<br><b>Win Probability: </b>72.4%<br><br><b>Change in ELO:</b> +9<br>",
          "<br><b>Pre-Game ELO: </b>1252<br><b>Win Probability: </b>70.4%<br><br><b>Change in ELO:</b> -22<br>",
          "<br><b>Pre-Game ELO: </b>nan<br><b>Win Probability: </b>nan%<br><br><b>Change in ELO:</b> +nan<br>",
          "<br><b>Pre-Game ELO: </b>nan<br><b>Win Probability: </b>nan%<br><br><b>Change in ELO:</b> +nan<br>",
          "<br><b>Pre-Game ELO: </b>1231<br><b>Win Probability: </b>48.7%<br><br><b>Change in ELO:</b> +16<br>",
          "<br><b>Pre-Game ELO: </b>1247<br><b>Win Probability: </b>57.4%<br><br><b>Change in ELO:</b> -18<br>",
          "<br><b>Pre-Game ELO: </b>1229<br><b>Win Probability: </b>47.7%<br><br><b>Change in ELO:</b> +16<br>",
          "<br><b>Pre-Game ELO: </b>1245<br><b>Win Probability: </b>56.5%<br><br><b>Change in ELO:</b> +13<br>",
          "<br><b>Pre-Game ELO: </b>1258<br><b>Win Probability: </b>65.5%<br><br><b>Change in ELO:</b> -20<br>",
          "<br><b>Pre-Game ELO: </b>nan<br><b>Win Probability: </b>nan%<br><br><b>Change in ELO:</b> +nan<br>",
          "<br><b>Pre-Game ELO: </b>nan<br><b>Win Probability: </b>nan%<br><br><b>Change in ELO:</b> +nan<br>",
          "<br><b>Pre-Game ELO: </b>1238<br><b>Win Probability: </b>58.6%<br><br><b>Change in ELO:</b> -18<br>",
          "<br><b>Pre-Game ELO: </b>nan<br><b>Win Probability: </b>nan%<br><br><b>Change in ELO:</b> +nan<br>",
          "<br><b>Pre-Game ELO: </b>nan<br><b>Win Probability: </b>nan%<br><br><b>Change in ELO:</b> +nan<br>",
          "<br><b>Pre-Game ELO: </b>nan<br><b>Win Probability: </b>nan%<br><br><b>Change in ELO:</b> +nan<br>",
          "<br><b>Pre-Game ELO: </b>1220<br><b>Win Probability: </b>42.5%<br><br><b>Change in ELO:</b> +18<br>",
          "<br><b>Pre-Game ELO: </b>1238<br><b>Win Probability: </b>76.4%<br><br><b>Change in ELO:</b> -24<br>",
          "<br><b>Pre-Game ELO: </b>nan<br><b>Win Probability: </b>nan%<br><br><b>Change in ELO:</b> +nan<br>",
          "<br><b>Pre-Game ELO: </b>1214<br><b>Win Probability: </b>53.6%<br><br><b>Change in ELO:</b> +14<br>",
          "<br><b>Pre-Game ELO: </b>nan<br><b>Win Probability: </b>nan%<br><br><b>Change in ELO:</b> +nan<br>",
          "<br><b>Pre-Game ELO: </b>nan<br><b>Win Probability: </b>nan%<br><br><b>Change in ELO:</b> +nan<br>",
          "<br><b>Pre-Game ELO: </b>1228<br><b>Win Probability: </b>57.5%<br><br><b>Change in ELO:</b> -18<br>",
          "<br><b>Pre-Game ELO: </b>nan<br><b>Win Probability: </b>nan%<br><br><b>Change in ELO:</b> +nan<br>",
          "<br><b>Pre-Game ELO: </b>nan<br><b>Win Probability: </b>nan%<br><br><b>Change in ELO:</b> +nan<br>",
          "<br><b>Pre-Game ELO: </b>nan<br><b>Win Probability: </b>nan%<br><br><b>Change in ELO:</b> +nan<br>",
          "<br><b>Pre-Game ELO: </b>1211<br><b>Win Probability: </b>43.5%<br><br><b>Change in ELO:</b> -13<br>",
          "<br><b>Pre-Game ELO: </b>1197<br><b>Win Probability: </b>61.2%<br><br><b>Change in ELO:</b> -19<br>",
          "<br><b>Pre-Game ELO: </b>nan<br><b>Win Probability: </b>nan%<br><br><b>Change in ELO:</b> +nan<br>",
          "<br><b>Pre-Game ELO: </b>nan<br><b>Win Probability: </b>nan%<br><br><b>Change in ELO:</b> +nan<br>",
          "<br><b>Pre-Game ELO: </b>nan<br><b>Win Probability: </b>nan%<br><br><b>Change in ELO:</b> +nan<br>",
          "<br><b>Pre-Game ELO: </b>nan<br><b>Win Probability: </b>nan%<br><br><b>Change in ELO:</b> +nan<br>",
          "<br><b>Pre-Game ELO: </b>1178<br><b>Win Probability: </b>49.7%<br><br><b>Change in ELO:</b> -15<br>",
          "<br><b>Pre-Game ELO: </b>1163<br><b>Win Probability: </b>50.4%<br><br><b>Change in ELO:</b> +15<br>",
          "<br><b>Pre-Game ELO: </b>nan<br><b>Win Probability: </b>nan%<br><br><b>Change in ELO:</b> +nan<br>",
          "<br><b>Pre-Game ELO: </b>1178<br><b>Win Probability: </b>31.4%<br><br><b>Change in ELO:</b> -10<br>",
          "<br><b>Pre-Game ELO: </b>nan<br><b>Win Probability: </b>nan%<br><br><b>Change in ELO:</b> +nan<br>",
          "<br><b>Pre-Game ELO: </b>nan<br><b>Win Probability: </b>nan%<br><br><b>Change in ELO:</b> +nan<br>",
          "<br><b>Pre-Game ELO: </b>1168<br><b>Win Probability: </b>33.2%<br><br><b>Change in ELO:</b> -10<br>",
          "<br><b>Pre-Game ELO: </b>nan<br><b>Win Probability: </b>nan%<br><br><b>Change in ELO:</b> +nan<br>",
          "<br><b>Pre-Game ELO: </b>nan<br><b>Win Probability: </b>nan%<br><br><b>Change in ELO:</b> +nan<br>",
          "<br><b>Pre-Game ELO: </b>nan<br><b>Win Probability: </b>nan%<br><br><b>Change in ELO:</b> +nan<br>",
          "<br><b>Pre-Game ELO: </b>1158<br><b>Win Probability: </b>35.6%<br><br><b>Change in ELO:</b> -11<br>",
          "<br><b>Pre-Game ELO: </b>1147<br><b>Win Probability: </b>57.1%<br><br><b>Change in ELO:</b> +13<br>",
          "<br><b>Pre-Game ELO: </b>nan<br><b>Win Probability: </b>nan%<br><br><b>Change in ELO:</b> +nan<br>",
          "<br><b>Pre-Game ELO: </b>1160<br><b>Win Probability: </b>31.2%<br><br><b>Change in ELO:</b> +21<br>",
          "<br><b>Pre-Game ELO: </b>nan<br><b>Win Probability: </b>nan%<br><br><b>Change in ELO:</b> +nan<br>",
          "<br><b>Pre-Game ELO: </b>nan<br><b>Win Probability: </b>nan%<br><br><b>Change in ELO:</b> +nan<br>",
          "<br><b>Pre-Game ELO: </b>1182<br><b>Win Probability: </b>26.1%<br><br><b>Change in ELO:</b> -8<br>",
          "<br><b>Pre-Game ELO: </b>nan<br><b>Win Probability: </b>nan%<br><br><b>Change in ELO:</b> +nan<br>",
          "<br><b>Pre-Game ELO: </b>nan<br><b>Win Probability: </b>nan%<br><br><b>Change in ELO:</b> +nan<br>",
          "<br><b>Pre-Game ELO: </b>nan<br><b>Win Probability: </b>nan%<br><br><b>Change in ELO:</b> +nan<br>",
          "<br><b>Pre-Game ELO: </b>nan<br><b>Win Probability: </b>nan%<br><br><b>Change in ELO:</b> +nan<br>",
          "<br><b>Pre-Game ELO: </b>nan<br><b>Win Probability: </b>nan%<br><br><b>Change in ELO:</b> +nan<br>"
         ],
         "type": "scatter",
         "x": [
          1,
          2,
          3,
          4,
          5,
          6,
          7,
          8,
          9,
          10,
          11,
          12,
          13,
          14,
          15,
          16,
          17,
          18,
          19,
          20,
          21,
          22,
          23,
          24,
          25,
          26,
          27,
          28,
          29,
          30,
          31,
          32,
          33,
          34,
          35,
          36,
          37,
          38,
          39,
          40,
          41,
          42,
          43,
          44,
          45,
          46,
          47,
          48,
          49,
          50,
          51,
          52,
          53,
          54,
          55,
          56,
          57,
          58,
          59,
          60
         ],
         "y": [
          null,
          1215.5,
          1228.3858031753039,
          null,
          null,
          1243.8858031753039,
          null,
          1252.4425519507959,
          1230.6339035261685,
          null,
          null,
          1246.5393900411782,
          1228.7533011841335,
          1244.978588378909,
          1258.4531325066034,
          1238.1405507759134,
          null,
          null,
          1219.9637974037742,
          null,
          null,
          null,
          1237.7747520460584,
          1214.0950077302032,
          null,
          1228.4670993707348,
          null,
          null,
          1210.6449987408969,
          null,
          null,
          null,
          1197.1714293871794,
          1178.2035732164316,
          null,
          null,
          null,
          null,
          1162.7988031877433,
          1178.1637340693517,
          null,
          1168.4188110544196,
          null,
          null,
          1158.1309518649728,
          null,
          null,
          null,
          1147.0819547137278,
          1160.3708818362143,
          null,
          1181.6985776491017,
          null,
          null,
          1173.6228446833834,
          null,
          null,
          null,
          null,
          null
         ]
        },
        {
         "connectgaps": true,
         "customdata": [
          [
           "Evan Sooklal",
           "Will Simpson",
           2,
           6,
           "2023-11-18"
          ],
          [
           "Paul Bartenfeld",
           "Roman Ramirez",
           2,
           6,
           "2023-11-18"
          ],
          [
           "Roman Ramirez",
           "Evan Sooklal",
           6,
           3,
           "2023-11-18"
          ],
          [
           "Will Simpson",
           "Paul Bartenfeld",
           6,
           1,
           "2023-11-18"
          ],
          [
           "Paul Bartenfeld",
           "Evan Sooklal",
           1,
           6,
           "2023-11-18"
          ],
          [
           "Will Simpson",
           "Roman Ramirez",
           3,
           6,
           "2023-11-18"
          ],
          [
           "Will Simpson",
           "Evan Sooklal",
           6,
           2,
           "2023-11-18"
          ],
          [
           "Roman Ramirez",
           "Paul Bartenfeld",
           6,
           4,
           "2023-11-18"
          ],
          [
           "Evan Sooklal",
           "Roman Ramirez",
           6,
           5,
           "2023-11-18"
          ],
          [
           "Paul Bartenfeld",
           "Will Simpson",
           4,
           6,
           "2023-11-18"
          ],
          [
           "Evan Sooklal",
           "Paul Bartenfeld",
           6,
           5,
           "2023-11-18"
          ],
          [
           "Roman Ramirez",
           "Will Simpson",
           6,
           2,
           "2023-11-18"
          ],
          [
           "Roman Ramirez",
           "Will Simpson",
           2,
           6,
           "2023-11-18"
          ],
          [
           "Will Simpson",
           "Roman Ramirez",
           4,
           6,
           "2023-11-18"
          ],
          [
           "Roman Ramirez",
           "Will Simpson",
           6,
           4,
           "2023-11-18"
          ],
          [
           "Roman Ramirez",
           "Aaron Carter",
           4,
           6,
           "2023-12-02"
          ],
          [
           "Will Simpson",
           "Paul Bartenfeld",
           6,
           4,
           "2023-12-02"
          ],
          [
           "Aaron Carter",
           "Will Simpson",
           4,
           6,
           "2023-12-02"
          ],
          [
           "Evan Sooklal",
           "Roman Ramirez",
           6,
           2,
           "2023-12-02"
          ],
          [
           "Will Simpson",
           "Evan Sooklal",
           6,
           2,
           "2023-12-02"
          ],
          [
           "Paul Bartenfeld",
           "Aaron Carter",
           6,
           3,
           "2023-12-02"
          ],
          [
           "Evan Sooklal",
           "Paul Bartenfeld",
           6,
           4,
           "2023-12-02"
          ],
          [
           "Roman Ramirez",
           "Will Simpson",
           6,
           4,
           "2023-12-02"
          ],
          [
           "Paul Bartenfeld",
           "Roman Ramirez",
           6,
           3,
           "2023-12-02"
          ],
          [
           "Aaron Carter",
           "Evan Sooklal",
           6,
           3,
           "2023-12-02"
          ],
          [
           "Aaron Carter",
           "Roman Ramirez",
           0,
           6,
           "2023-12-02"
          ],
          [
           "Paul Bartenfeld",
           "Will Simpson",
           1,
           6,
           "2023-12-02"
          ],
          [
           "Will Simpson",
           "Aaron Carter",
           3,
           6,
           "2023-12-02"
          ],
          [
           "Roman Ramirez",
           "Evan Sooklal",
           2,
           6,
           "2023-12-02"
          ],
          [
           "Evan Sooklal",
           "Will Simpson",
           5,
           6,
           "2023-12-02"
          ],
          [
           "Aaron Carter",
           "Paul Bartenfeld",
           6,
           3,
           "2023-12-02"
          ],
          [
           "Paul Bartenfeld",
           "Evan Sooklal",
           6,
           5,
           "2023-12-02"
          ],
          [
           "Will Simpson",
           "Roman Ramirez",
           6,
           5,
           "2023-12-02"
          ],
          [
           "Roman Ramirez",
           "Paul Bartenfeld",
           4,
           6,
           "2023-12-02"
          ],
          [
           "Evan Sooklal",
           "Aaron Carter",
           6,
           4,
           "2023-12-02"
          ],
          [
           "Will Simpson",
           "Evan Sooklal",
           6,
           2,
           "2023-12-02"
          ],
          [
           "Will Simpson",
           "Evan Sooklal",
           6,
           1,
           "2023-12-02"
          ],
          [
           "Aaron Carter",
           "Paul Bartenfeld",
           6,
           3,
           "2023-12-13"
          ],
          [
           "Roman Ramirez",
           "Evan Sooklal",
           5,
           6,
           "2023-12-13"
          ],
          [
           "Paul Bartenfeld",
           "Roman Ramirez",
           2,
           6,
           "2023-12-13"
          ],
          [
           "Will Simpson",
           "Aaron Carter",
           0,
           6,
           "2023-12-13"
          ],
          [
           "Roman Ramirez",
           "Will Simpson",
           4,
           6,
           "2023-12-13"
          ],
          [
           "Evan Sooklal",
           "Paul Bartenfeld",
           6,
           5,
           "2023-12-13"
          ],
          [
           "Will Simpson",
           "Evan Sooklal",
           4,
           6,
           "2023-12-13"
          ],
          [
           "Aaron Carter",
           "Roman Ramirez",
           6,
           3,
           "2023-12-13"
          ],
          [
           "Evan Sooklal",
           "Aaron Carter",
           5,
           6,
           "2023-12-13"
          ],
          [
           "Paul Bartenfeld",
           "Will Simpson",
           2,
           6,
           "2023-12-13"
          ],
          [
           "Paul Bartenfeld",
           "Aaron Carter",
           3,
           6,
           "2023-12-13"
          ],
          [
           "Evan Sooklal",
           "Roman Ramirez",
           6,
           4,
           "2023-12-13"
          ],
          [
           "Roman Ramirez",
           "Paul Bartenfeld",
           6,
           1,
           "2023-12-13"
          ],
          [
           "Aaron Carter",
           "Will Simpson",
           6,
           5,
           "2023-12-13"
          ],
          [
           "Will Simpson",
           "Roman Ramirez",
           3,
           6,
           "2023-12-13"
          ],
          [
           "Paul Bartenfeld",
           "Evan Sooklal",
           3,
           6,
           "2023-12-13"
          ],
          [
           "Evan Sooklal",
           "Will Simpson",
           6,
           3,
           "2023-12-13"
          ],
          [
           "Roman Ramirez",
           "Aaron Carter",
           5,
           6,
           "2023-12-13"
          ],
          [
           "Aaron Carter",
           "Evan Sooklal",
           6,
           2,
           "2023-12-13"
          ],
          [
           "Will Simpson",
           "Paul Bartenfeld",
           6,
           4,
           "2023-12-13"
          ],
          [
           "Aaron Carter",
           "Evan Sooklal",
           5,
           6,
           "2023-12-13"
          ],
          [
           "Evan Sooklal",
           "Aaron Carter",
           2,
           6,
           "2023-12-13"
          ],
          [
           "Aaron Carter",
           "Evan Sooklal",
           6,
           2,
           "2023-12-13"
          ]
         ],
         "hovertemplate": "<i>%{customdata[4]|%A, %B %d, %Y}, Game %{x}</i><br><b>%{fullData.name}</b><br><br><b>%{customdata[0]} vs. %{customdata[1]}</b><br><b>Final Score:</b> %{customdata[2]}-%{customdata[3]}<br>%{text}<b>Post-Game ELO:</b> %{y:,.0f}<br><extra></extra>",
         "legendgrouptitle": {
          "text": "<b>#<i>Rank</i> (<i>Current ELO</i>) <i>Player</i></b>"
         },
         "line": {
          "color": "rgb(231, 63, 116)",
          "shape": "hv"
         },
         "mode": "lines+markers",
         "name": "#5 (1093) Paul Bartenfeld",
         "opacity": 0.8,
         "text": [
          "<br><b>Pre-Game ELO: </b>nan<br><b>Win Probability: </b>nan%<br><br><b>Change in ELO:</b> +nan<br>",
          "<br><b>Pre-Game ELO: </b>1200<br><b>Win Probability: </b>50.0%<br><br><b>Change in ELO:</b> -16<br>",
          "<br><b>Pre-Game ELO: </b>nan<br><b>Win Probability: </b>nan%<br><br><b>Change in ELO:</b> +nan<br>",
          "<br><b>Pre-Game ELO: </b>1184<br><b>Win Probability: </b>41.6%<br><br><b>Change in ELO:</b> -13<br>",
          "<br><b>Pre-Game ELO: </b>1172<br><b>Win Probability: </b>50.0%<br><br><b>Change in ELO:</b> -16<br>",
          "<br><b>Pre-Game ELO: </b>nan<br><b>Win Probability: </b>nan%<br><br><b>Change in ELO:</b> +nan<br>",
          "<br><b>Pre-Game ELO: </b>nan<br><b>Win Probability: </b>nan%<br><br><b>Change in ELO:</b> +nan<br>",
          "<br><b>Pre-Game ELO: </b>1156<br><b>Win Probability: </b>27.6%<br><br><b>Change in ELO:</b> -9<br>",
          "<br><b>Pre-Game ELO: </b>nan<br><b>Win Probability: </b>nan%<br><br><b>Change in ELO:</b> +nan<br>",
          "<br><b>Pre-Game ELO: </b>1148<br><b>Win Probability: </b>29.6%<br><br><b>Change in ELO:</b> -9<br>",
          "<br><b>Pre-Game ELO: </b>1138<br><b>Win Probability: </b>34.8%<br><br><b>Change in ELO:</b> -11<br>",
          "<br><b>Pre-Game ELO: </b>nan<br><b>Win Probability: </b>nan%<br><br><b>Change in ELO:</b> +nan<br>",
          "<br><b>Pre-Game ELO: </b>nan<br><b>Win Probability: </b>nan%<br><br><b>Change in ELO:</b> +nan<br>",
          "<br><b>Pre-Game ELO: </b>nan<br><b>Win Probability: </b>nan%<br><br><b>Change in ELO:</b> +nan<br>",
          "<br><b>Pre-Game ELO: </b>nan<br><b>Win Probability: </b>nan%<br><br><b>Change in ELO:</b> +nan<br>",
          "<br><b>Pre-Game ELO: </b>nan<br><b>Win Probability: </b>nan%<br><br><b>Change in ELO:</b> +nan<br>",
          "<br><b>Pre-Game ELO: </b>1128<br><b>Win Probability: </b>29.3%<br><br><b>Change in ELO:</b> -9<br>",
          "<br><b>Pre-Game ELO: </b>nan<br><b>Win Probability: </b>nan%<br><br><b>Change in ELO:</b> +nan<br>",
          "<br><b>Pre-Game ELO: </b>nan<br><b>Win Probability: </b>nan%<br><br><b>Change in ELO:</b> +nan<br>",
          "<br><b>Pre-Game ELO: </b>nan<br><b>Win Probability: </b>nan%<br><br><b>Change in ELO:</b> +nan<br>",
          "<br><b>Pre-Game ELO: </b>1118<br><b>Win Probability: </b>28.0%<br><br><b>Change in ELO:</b> +22<br>",
          "<br><b>Pre-Game ELO: </b>1141<br><b>Win Probability: </b>31.9%<br><br><b>Change in ELO:</b> -10<br>",
          "<br><b>Pre-Game ELO: </b>nan<br><b>Win Probability: </b>nan%<br><br><b>Change in ELO:</b> +nan<br>",
          "<br><b>Pre-Game ELO: </b>1131<br><b>Win Probability: </b>23.6%<br><br><b>Change in ELO:</b> +24<br>",
          "<br><b>Pre-Game ELO: </b>nan<br><b>Win Probability: </b>nan%<br><br><b>Change in ELO:</b> +nan<br>",
          "<br><b>Pre-Game ELO: </b>nan<br><b>Win Probability: </b>nan%<br><br><b>Change in ELO:</b> +nan<br>",
          "<br><b>Pre-Game ELO: </b>1155<br><b>Win Probability: </b>30.5%<br><br><b>Change in ELO:</b> -9<br>",
          "<br><b>Pre-Game ELO: </b>nan<br><b>Win Probability: </b>nan%<br><br><b>Change in ELO:</b> +nan<br>",
          "<br><b>Pre-Game ELO: </b>nan<br><b>Win Probability: </b>nan%<br><br><b>Change in ELO:</b> +nan<br>",
          "<br><b>Pre-Game ELO: </b>nan<br><b>Win Probability: </b>nan%<br><br><b>Change in ELO:</b> +nan<br>",
          "<br><b>Pre-Game ELO: </b>1145<br><b>Win Probability: </b>33.8%<br><br><b>Change in ELO:</b> -10<br>",
          "<br><b>Pre-Game ELO: </b>1135<br><b>Win Probability: </b>32.0%<br><br><b>Change in ELO:</b> +21<br>",
          "<br><b>Pre-Game ELO: </b>nan<br><b>Win Probability: </b>nan%<br><br><b>Change in ELO:</b> +nan<br>",
          "<br><b>Pre-Game ELO: </b>1156<br><b>Win Probability: </b>38.8%<br><br><b>Change in ELO:</b> +19<br>",
          "<br><b>Pre-Game ELO: </b>nan<br><b>Win Probability: </b>nan%<br><br><b>Change in ELO:</b> +nan<br>",
          "<br><b>Pre-Game ELO: </b>nan<br><b>Win Probability: </b>nan%<br><br><b>Change in ELO:</b> +nan<br>",
          "<br><b>Pre-Game ELO: </b>nan<br><b>Win Probability: </b>nan%<br><br><b>Change in ELO:</b> +nan<br>",
          "<br><b>Pre-Game ELO: </b>1175<br><b>Win Probability: </b>43.5%<br><br><b>Change in ELO:</b> -13<br>",
          "<br><b>Pre-Game ELO: </b>nan<br><b>Win Probability: </b>nan%<br><br><b>Change in ELO:</b> +nan<br>",
          "<br><b>Pre-Game ELO: </b>1161<br><b>Win Probability: </b>49.6%<br><br><b>Change in ELO:</b> -15<br>",
          "<br><b>Pre-Game ELO: </b>nan<br><b>Win Probability: </b>nan%<br><br><b>Change in ELO:</b> +nan<br>",
          "<br><b>Pre-Game ELO: </b>nan<br><b>Win Probability: </b>nan%<br><br><b>Change in ELO:</b> +nan<br>",
          "<br><b>Pre-Game ELO: </b>1146<br><b>Win Probability: </b>36.9%<br><br><b>Change in ELO:</b> -11<br>",
          "<br><b>Pre-Game ELO: </b>nan<br><b>Win Probability: </b>nan%<br><br><b>Change in ELO:</b> +nan<br>",
          "<br><b>Pre-Game ELO: </b>nan<br><b>Win Probability: </b>nan%<br><br><b>Change in ELO:</b> +nan<br>",
          "<br><b>Pre-Game ELO: </b>nan<br><b>Win Probability: </b>nan%<br><br><b>Change in ELO:</b> +nan<br>",
          "<br><b>Pre-Game ELO: </b>1134<br><b>Win Probability: </b>24.1%<br><br><b>Change in ELO:</b> -7<br>",
          "<br><b>Pre-Game ELO: </b>1127<br><b>Win Probability: </b>19.4%<br><br><b>Change in ELO:</b> -6<br>",
          "<br><b>Pre-Game ELO: </b>nan<br><b>Win Probability: </b>nan%<br><br><b>Change in ELO:</b> +nan<br>",
          "<br><b>Pre-Game ELO: </b>1121<br><b>Win Probability: </b>42.9%<br><br><b>Change in ELO:</b> -13<br>",
          "<br><b>Pre-Game ELO: </b>nan<br><b>Win Probability: </b>nan%<br><br><b>Change in ELO:</b> +nan<br>",
          "<br><b>Pre-Game ELO: </b>nan<br><b>Win Probability: </b>nan%<br><br><b>Change in ELO:</b> +nan<br>",
          "<br><b>Pre-Game ELO: </b>1108<br><b>Win Probability: </b>22.0%<br><br><b>Change in ELO:</b> -7<br>",
          "<br><b>Pre-Game ELO: </b>nan<br><b>Win Probability: </b>nan%<br><br><b>Change in ELO:</b> +nan<br>",
          "<br><b>Pre-Game ELO: </b>nan<br><b>Win Probability: </b>nan%<br><br><b>Change in ELO:</b> +nan<br>",
          "<br><b>Pre-Game ELO: </b>nan<br><b>Win Probability: </b>nan%<br><br><b>Change in ELO:</b> +nan<br>",
          "<br><b>Pre-Game ELO: </b>1101<br><b>Win Probability: </b>25.8%<br><br><b>Change in ELO:</b> -8<br>",
          "<br><b>Pre-Game ELO: </b>nan<br><b>Win Probability: </b>nan%<br><br><b>Change in ELO:</b> +nan<br>",
          "<br><b>Pre-Game ELO: </b>nan<br><b>Win Probability: </b>nan%<br><br><b>Change in ELO:</b> +nan<br>",
          "<br><b>Pre-Game ELO: </b>nan<br><b>Win Probability: </b>nan%<br><br><b>Change in ELO:</b> +nan<br>"
         ],
         "type": "scatter",
         "x": [
          1,
          2,
          3,
          4,
          5,
          6,
          7,
          8,
          9,
          10,
          11,
          12,
          13,
          14,
          15,
          16,
          17,
          18,
          19,
          20,
          21,
          22,
          23,
          24,
          25,
          26,
          27,
          28,
          29,
          30,
          31,
          32,
          33,
          34,
          35,
          36,
          37,
          38,
          39,
          40,
          41,
          42,
          43,
          44,
          45,
          46,
          47,
          48,
          49,
          50,
          51,
          52,
          53,
          54,
          55,
          56,
          57,
          58,
          59,
          60
         ],
         "y": [
          null,
          1184.5,
          null,
          1171.6141968246961,
          1156.1141968246961,
          null,
          null,
          1147.5574480492041,
          null,
          1138.3660964738315,
          1127.5848813539076,
          null,
          null,
          null,
          null,
          null,
          1118.4887658062921,
          null,
          null,
          null,
          1140.8118885235301,
          1130.9149646849257,
          null,
          1154.594709000781,
          null,
          null,
          1145.1351515177491,
          null,
          null,
          null,
          1134.6555871600212,
          1155.7406125587418,
          null,
          1174.7084687294896,
          null,
          null,
          null,
          1161.2123732263994,
          null,
          1145.847442344791,
          null,
          null,
          1134.4119486362379,
          null,
          null,
          null,
          1126.9528026904245,
          1120.934523817579,
          null,
          1107.6455966950925,
          null,
          null,
          1100.8324954376862,
          null,
          null,
          null,
          1092.8424553063014,
          null,
          null,
          null
         ]
        }
       ],
       "layout": {
        "annotations": [
         {
          "showarrow": false,
          "text": "2023-11-18",
          "x": 0.5,
          "xanchor": "left",
          "xref": "x",
          "y": 1,
          "yanchor": "top",
          "yref": "y domain"
         },
         {
          "showarrow": false,
          "text": "2023-12-02",
          "x": 15.5,
          "xanchor": "left",
          "xref": "x",
          "y": 1,
          "yanchor": "top",
          "yref": "y domain"
         },
         {
          "showarrow": false,
          "text": "2023-12-13",
          "x": 37.5,
          "xanchor": "left",
          "xref": "x",
          "y": 1,
          "yanchor": "top",
          "yref": "y domain"
         }
        ],
        "shapes": [
         {
          "fillcolor": "green",
          "line": {
           "width": 0
          },
          "opacity": 0.1,
          "type": "rect",
          "x0": 0.5,
          "x1": 15.5,
          "xref": "x",
          "y0": 0,
          "y1": 1,
          "yref": "y domain"
         },
         {
          "fillcolor": "red",
          "line": {
           "width": 0
          },
          "opacity": 0.1,
          "type": "rect",
          "x0": 15.5,
          "x1": 37.5,
          "xref": "x",
          "y0": 0,
          "y1": 1,
          "yref": "y domain"
         },
         {
          "fillcolor": "yellow",
          "line": {
           "width": 0
          },
          "opacity": 0.1,
          "type": "rect",
          "x0": 37.5,
          "x1": 60.5,
          "xref": "x",
          "y0": 0,
          "y1": 1,
          "yref": "y domain"
         }
        ],
        "template": {
         "data": {
          "bar": [
           {
            "error_x": {
             "color": "#2a3f5f"
            },
            "error_y": {
             "color": "#2a3f5f"
            },
            "marker": {
             "line": {
              "color": "#E5ECF6",
              "width": 0.5
             },
             "pattern": {
              "fillmode": "overlay",
              "size": 10,
              "solidity": 0.2
             }
            },
            "type": "bar"
           }
          ],
          "barpolar": [
           {
            "marker": {
             "line": {
              "color": "#E5ECF6",
              "width": 0.5
             },
             "pattern": {
              "fillmode": "overlay",
              "size": 10,
              "solidity": 0.2
             }
            },
            "type": "barpolar"
           }
          ],
          "carpet": [
           {
            "aaxis": {
             "endlinecolor": "#2a3f5f",
             "gridcolor": "white",
             "linecolor": "white",
             "minorgridcolor": "white",
             "startlinecolor": "#2a3f5f"
            },
            "baxis": {
             "endlinecolor": "#2a3f5f",
             "gridcolor": "white",
             "linecolor": "white",
             "minorgridcolor": "white",
             "startlinecolor": "#2a3f5f"
            },
            "type": "carpet"
           }
          ],
          "choropleth": [
           {
            "colorbar": {
             "outlinewidth": 0,
             "ticks": ""
            },
            "type": "choropleth"
           }
          ],
          "contour": [
           {
            "colorbar": {
             "outlinewidth": 0,
             "ticks": ""
            },
            "colorscale": [
             [
              0,
              "#0d0887"
             ],
             [
              0.1111111111111111,
              "#46039f"
             ],
             [
              0.2222222222222222,
              "#7201a8"
             ],
             [
              0.3333333333333333,
              "#9c179e"
             ],
             [
              0.4444444444444444,
              "#bd3786"
             ],
             [
              0.5555555555555556,
              "#d8576b"
             ],
             [
              0.6666666666666666,
              "#ed7953"
             ],
             [
              0.7777777777777778,
              "#fb9f3a"
             ],
             [
              0.8888888888888888,
              "#fdca26"
             ],
             [
              1,
              "#f0f921"
             ]
            ],
            "type": "contour"
           }
          ],
          "contourcarpet": [
           {
            "colorbar": {
             "outlinewidth": 0,
             "ticks": ""
            },
            "type": "contourcarpet"
           }
          ],
          "heatmap": [
           {
            "colorbar": {
             "outlinewidth": 0,
             "ticks": ""
            },
            "colorscale": [
             [
              0,
              "#0d0887"
             ],
             [
              0.1111111111111111,
              "#46039f"
             ],
             [
              0.2222222222222222,
              "#7201a8"
             ],
             [
              0.3333333333333333,
              "#9c179e"
             ],
             [
              0.4444444444444444,
              "#bd3786"
             ],
             [
              0.5555555555555556,
              "#d8576b"
             ],
             [
              0.6666666666666666,
              "#ed7953"
             ],
             [
              0.7777777777777778,
              "#fb9f3a"
             ],
             [
              0.8888888888888888,
              "#fdca26"
             ],
             [
              1,
              "#f0f921"
             ]
            ],
            "type": "heatmap"
           }
          ],
          "heatmapgl": [
           {
            "colorbar": {
             "outlinewidth": 0,
             "ticks": ""
            },
            "colorscale": [
             [
              0,
              "#0d0887"
             ],
             [
              0.1111111111111111,
              "#46039f"
             ],
             [
              0.2222222222222222,
              "#7201a8"
             ],
             [
              0.3333333333333333,
              "#9c179e"
             ],
             [
              0.4444444444444444,
              "#bd3786"
             ],
             [
              0.5555555555555556,
              "#d8576b"
             ],
             [
              0.6666666666666666,
              "#ed7953"
             ],
             [
              0.7777777777777778,
              "#fb9f3a"
             ],
             [
              0.8888888888888888,
              "#fdca26"
             ],
             [
              1,
              "#f0f921"
             ]
            ],
            "type": "heatmapgl"
           }
          ],
          "histogram": [
           {
            "marker": {
             "pattern": {
              "fillmode": "overlay",
              "size": 10,
              "solidity": 0.2
             }
            },
            "type": "histogram"
           }
          ],
          "histogram2d": [
           {
            "colorbar": {
             "outlinewidth": 0,
             "ticks": ""
            },
            "colorscale": [
             [
              0,
              "#0d0887"
             ],
             [
              0.1111111111111111,
              "#46039f"
             ],
             [
              0.2222222222222222,
              "#7201a8"
             ],
             [
              0.3333333333333333,
              "#9c179e"
             ],
             [
              0.4444444444444444,
              "#bd3786"
             ],
             [
              0.5555555555555556,
              "#d8576b"
             ],
             [
              0.6666666666666666,
              "#ed7953"
             ],
             [
              0.7777777777777778,
              "#fb9f3a"
             ],
             [
              0.8888888888888888,
              "#fdca26"
             ],
             [
              1,
              "#f0f921"
             ]
            ],
            "type": "histogram2d"
           }
          ],
          "histogram2dcontour": [
           {
            "colorbar": {
             "outlinewidth": 0,
             "ticks": ""
            },
            "colorscale": [
             [
              0,
              "#0d0887"
             ],
             [
              0.1111111111111111,
              "#46039f"
             ],
             [
              0.2222222222222222,
              "#7201a8"
             ],
             [
              0.3333333333333333,
              "#9c179e"
             ],
             [
              0.4444444444444444,
              "#bd3786"
             ],
             [
              0.5555555555555556,
              "#d8576b"
             ],
             [
              0.6666666666666666,
              "#ed7953"
             ],
             [
              0.7777777777777778,
              "#fb9f3a"
             ],
             [
              0.8888888888888888,
              "#fdca26"
             ],
             [
              1,
              "#f0f921"
             ]
            ],
            "type": "histogram2dcontour"
           }
          ],
          "mesh3d": [
           {
            "colorbar": {
             "outlinewidth": 0,
             "ticks": ""
            },
            "type": "mesh3d"
           }
          ],
          "parcoords": [
           {
            "line": {
             "colorbar": {
              "outlinewidth": 0,
              "ticks": ""
             }
            },
            "type": "parcoords"
           }
          ],
          "pie": [
           {
            "automargin": true,
            "type": "pie"
           }
          ],
          "scatter": [
           {
            "fillpattern": {
             "fillmode": "overlay",
             "size": 10,
             "solidity": 0.2
            },
            "type": "scatter"
           }
          ],
          "scatter3d": [
           {
            "line": {
             "colorbar": {
              "outlinewidth": 0,
              "ticks": ""
             }
            },
            "marker": {
             "colorbar": {
              "outlinewidth": 0,
              "ticks": ""
             }
            },
            "type": "scatter3d"
           }
          ],
          "scattercarpet": [
           {
            "marker": {
             "colorbar": {
              "outlinewidth": 0,
              "ticks": ""
             }
            },
            "type": "scattercarpet"
           }
          ],
          "scattergeo": [
           {
            "marker": {
             "colorbar": {
              "outlinewidth": 0,
              "ticks": ""
             }
            },
            "type": "scattergeo"
           }
          ],
          "scattergl": [
           {
            "marker": {
             "colorbar": {
              "outlinewidth": 0,
              "ticks": ""
             }
            },
            "type": "scattergl"
           }
          ],
          "scattermapbox": [
           {
            "marker": {
             "colorbar": {
              "outlinewidth": 0,
              "ticks": ""
             }
            },
            "type": "scattermapbox"
           }
          ],
          "scatterpolar": [
           {
            "marker": {
             "colorbar": {
              "outlinewidth": 0,
              "ticks": ""
             }
            },
            "type": "scatterpolar"
           }
          ],
          "scatterpolargl": [
           {
            "marker": {
             "colorbar": {
              "outlinewidth": 0,
              "ticks": ""
             }
            },
            "type": "scatterpolargl"
           }
          ],
          "scatterternary": [
           {
            "marker": {
             "colorbar": {
              "outlinewidth": 0,
              "ticks": ""
             }
            },
            "type": "scatterternary"
           }
          ],
          "surface": [
           {
            "colorbar": {
             "outlinewidth": 0,
             "ticks": ""
            },
            "colorscale": [
             [
              0,
              "#0d0887"
             ],
             [
              0.1111111111111111,
              "#46039f"
             ],
             [
              0.2222222222222222,
              "#7201a8"
             ],
             [
              0.3333333333333333,
              "#9c179e"
             ],
             [
              0.4444444444444444,
              "#bd3786"
             ],
             [
              0.5555555555555556,
              "#d8576b"
             ],
             [
              0.6666666666666666,
              "#ed7953"
             ],
             [
              0.7777777777777778,
              "#fb9f3a"
             ],
             [
              0.8888888888888888,
              "#fdca26"
             ],
             [
              1,
              "#f0f921"
             ]
            ],
            "type": "surface"
           }
          ],
          "table": [
           {
            "cells": {
             "fill": {
              "color": "#EBF0F8"
             },
             "line": {
              "color": "white"
             }
            },
            "header": {
             "fill": {
              "color": "#C8D4E3"
             },
             "line": {
              "color": "white"
             }
            },
            "type": "table"
           }
          ]
         },
         "layout": {
          "annotationdefaults": {
           "arrowcolor": "#2a3f5f",
           "arrowhead": 0,
           "arrowwidth": 1
          },
          "autotypenumbers": "strict",
          "coloraxis": {
           "colorbar": {
            "outlinewidth": 0,
            "ticks": ""
           }
          },
          "colorscale": {
           "diverging": [
            [
             0,
             "#8e0152"
            ],
            [
             0.1,
             "#c51b7d"
            ],
            [
             0.2,
             "#de77ae"
            ],
            [
             0.3,
             "#f1b6da"
            ],
            [
             0.4,
             "#fde0ef"
            ],
            [
             0.5,
             "#f7f7f7"
            ],
            [
             0.6,
             "#e6f5d0"
            ],
            [
             0.7,
             "#b8e186"
            ],
            [
             0.8,
             "#7fbc41"
            ],
            [
             0.9,
             "#4d9221"
            ],
            [
             1,
             "#276419"
            ]
           ],
           "sequential": [
            [
             0,
             "#0d0887"
            ],
            [
             0.1111111111111111,
             "#46039f"
            ],
            [
             0.2222222222222222,
             "#7201a8"
            ],
            [
             0.3333333333333333,
             "#9c179e"
            ],
            [
             0.4444444444444444,
             "#bd3786"
            ],
            [
             0.5555555555555556,
             "#d8576b"
            ],
            [
             0.6666666666666666,
             "#ed7953"
            ],
            [
             0.7777777777777778,
             "#fb9f3a"
            ],
            [
             0.8888888888888888,
             "#fdca26"
            ],
            [
             1,
             "#f0f921"
            ]
           ],
           "sequentialminus": [
            [
             0,
             "#0d0887"
            ],
            [
             0.1111111111111111,
             "#46039f"
            ],
            [
             0.2222222222222222,
             "#7201a8"
            ],
            [
             0.3333333333333333,
             "#9c179e"
            ],
            [
             0.4444444444444444,
             "#bd3786"
            ],
            [
             0.5555555555555556,
             "#d8576b"
            ],
            [
             0.6666666666666666,
             "#ed7953"
            ],
            [
             0.7777777777777778,
             "#fb9f3a"
            ],
            [
             0.8888888888888888,
             "#fdca26"
            ],
            [
             1,
             "#f0f921"
            ]
           ]
          },
          "colorway": [
           "#636efa",
           "#EF553B",
           "#00cc96",
           "#ab63fa",
           "#FFA15A",
           "#19d3f3",
           "#FF6692",
           "#B6E880",
           "#FF97FF",
           "#FECB52"
          ],
          "font": {
           "color": "#2a3f5f"
          },
          "geo": {
           "bgcolor": "white",
           "lakecolor": "white",
           "landcolor": "#E5ECF6",
           "showlakes": true,
           "showland": true,
           "subunitcolor": "white"
          },
          "hoverlabel": {
           "align": "left"
          },
          "hovermode": "closest",
          "mapbox": {
           "style": "light"
          },
          "paper_bgcolor": "white",
          "plot_bgcolor": "#E5ECF6",
          "polar": {
           "angularaxis": {
            "gridcolor": "white",
            "linecolor": "white",
            "ticks": ""
           },
           "bgcolor": "#E5ECF6",
           "radialaxis": {
            "gridcolor": "white",
            "linecolor": "white",
            "ticks": ""
           }
          },
          "scene": {
           "xaxis": {
            "backgroundcolor": "#E5ECF6",
            "gridcolor": "white",
            "gridwidth": 2,
            "linecolor": "white",
            "showbackground": true,
            "ticks": "",
            "zerolinecolor": "white"
           },
           "yaxis": {
            "backgroundcolor": "#E5ECF6",
            "gridcolor": "white",
            "gridwidth": 2,
            "linecolor": "white",
            "showbackground": true,
            "ticks": "",
            "zerolinecolor": "white"
           },
           "zaxis": {
            "backgroundcolor": "#E5ECF6",
            "gridcolor": "white",
            "gridwidth": 2,
            "linecolor": "white",
            "showbackground": true,
            "ticks": "",
            "zerolinecolor": "white"
           }
          },
          "shapedefaults": {
           "line": {
            "color": "#2a3f5f"
           }
          },
          "ternary": {
           "aaxis": {
            "gridcolor": "white",
            "linecolor": "white",
            "ticks": ""
           },
           "baxis": {
            "gridcolor": "white",
            "linecolor": "white",
            "ticks": ""
           },
           "bgcolor": "#E5ECF6",
           "caxis": {
            "gridcolor": "white",
            "linecolor": "white",
            "ticks": ""
           }
          },
          "title": {
           "x": 0.05
          },
          "xaxis": {
           "automargin": true,
           "gridcolor": "white",
           "linecolor": "white",
           "ticks": "",
           "title": {
            "standoff": 15
           },
           "zerolinecolor": "white",
           "zerolinewidth": 2
          },
          "yaxis": {
           "automargin": true,
           "gridcolor": "white",
           "linecolor": "white",
           "ticks": "",
           "title": {
            "standoff": 15
           },
           "zerolinecolor": "white",
           "zerolinewidth": 2
          }
         }
        },
        "title": {
         "text": "<b>Pokémon Showdown ELO Rating System by Roman Ramirez</b><br><i>Updated Sunday, Dec 17, 2023 00:13:22 CT"
        },
        "xaxis": {
         "title": {
          "text": "<b>Game Number</b>"
         }
        },
        "yaxis": {
         "title": {
          "text": "<b>ELO Rating</b>"
         }
        }
       }
      }
     },
     "metadata": {},
     "output_type": "display_data"
    }
   ],
   "source": [
    "import plotly.graph_objects as go\n",
    "import plotly.colors as pc\n",
    "\n",
    "fig = go.Figure()\n",
    "\n",
    "# adding player\n",
    "ranking = 1\n",
    "trace_colors = pc.qualitative.Bold # Light24\n",
    "for (i, (player, current_rating)) in enumerate(sorted(elo.items(), key=lambda x:x[1], reverse=True)):\n",
    "    fig.add_trace(go.Scatter(\n",
    "        x=elo_time_table.index,\n",
    "        y=elo_time_table[player],\n",
    "        name=f'#{ranking} ({current_rating:.0f}) {player}',\n",
    "        mode='lines+markers',\n",
    "        connectgaps=True,\n",
    "        text=[\n",
    "            f\"<br><b>Pre-Game ELO: </b>{x[1]:.0f}<br><b>Win Probability: </b>{x[0]:.1%}<br><br><b>Change in ELO:</b> {x[2]:+.0f}<br>\" for x in zip(\n",
    "                exp_elo_time_table[player],\n",
    "                prev_elo_time_table[player],\n",
    "                d_elo_time_table[player]\n",
    "            )\n",
    "        ],\n",
    "        line=dict(\n",
    "            shape='hv',\n",
    "            color=trace_colors[i % len(trace_colors)]\n",
    "        )\n",
    "    ))\n",
    "    ranking += 1\n",
    "\n",
    "# adding highlighting by tournament\n",
    "tournaments = list(sorted(set(matches_table['Date'])))\n",
    "vrect_colors = ['green', 'red', 'yellow', 'blue', 'orange']\n",
    "for (i, tourney) in enumerate(tournaments):\n",
    "    fig.add_vrect(\n",
    "        annotation_text=tourney,\n",
    "        annotation_position=\"top left\",\n",
    "        x0=matches_table['Date'][matches_table['Date'] == tourney].index[0] + 0.5,\n",
    "        x1=matches_table['Date'][matches_table['Date'] == tourney].index[-1] + 1.5,\n",
    "        fillcolor=vrect_colors[i % len(vrect_colors)],\n",
    "        opacity=0.1,\n",
    "        line_width=0\n",
    "    )\n",
    "\n",
    "fig.update_layout(\n",
    "    title=f'<b>Pokémon Showdown ELO Rating System by Roman Ramirez</b><br><i>Updated {str(datetime.datetime.now().strftime(\"%A, %b %d, %Y %H:%M:%S\"))} CT',\n",
    "    xaxis_title='<b>Game Number</b>',\n",
    "    yaxis_title='<b>ELO Rating</b>'\n",
    ")\n",
    "\n",
    "customdata = np.stack((\n",
    "        list(matches_table['Player 1']),\n",
    "        list(matches_table['Player 2']),\n",
    "        list(matches_table['Score 1']),\n",
    "        list(matches_table['Score 2']),\n",
    "        matches_table['Date']\n",
    "    ), axis=-1)\n",
    "hovertemplate = (\n",
    "    '<i>%{customdata[4]|%A, %B %d, %Y}, Game %{x}</i><br>' +\n",
    "    '<b>%{fullData.name}</b><br><br>' + \n",
    "    '<b>%{customdata[0]} vs. %{customdata[1]}</b><br>' +\n",
    "    '<b>Final Score:</b> %{customdata[2]}-%{customdata[3]}<br>' + \n",
    "    '%{text}' + \n",
    "    '<b>Post-Game ELO:</b> %{y:,.0f}<br>' +\n",
    "    '<extra></extra>'\n",
    ")\n",
    "\n",
    "fig.update_traces(\n",
    "    customdata=customdata,\n",
    "    hovertemplate=hovertemplate,\n",
    "    opacity=0.8,\n",
    "    legendgrouptitle_text='<b>#<i>Rank</i> (<i>Current ELO</i>) <i>Player</i></b>'\n",
    ")\n",
    "fig.show()\n",
    "fig.write_html(\"index.html\")"
   ]
  },
  {
   "cell_type": "code",
   "execution_count": 7,
   "metadata": {},
   "outputs": [
    {
     "data": {
      "text/html": [
       "<div>\n",
       "<style scoped>\n",
       "    .dataframe tbody tr th:only-of-type {\n",
       "        vertical-align: middle;\n",
       "    }\n",
       "\n",
       "    .dataframe tbody tr th {\n",
       "        vertical-align: top;\n",
       "    }\n",
       "\n",
       "    .dataframe thead th {\n",
       "        text-align: right;\n",
       "    }\n",
       "</style>\n",
       "<table border=\"1\" class=\"dataframe\">\n",
       "  <thead>\n",
       "    <tr style=\"text-align: right;\">\n",
       "      <th></th>\n",
       "      <th>Paul Bartenfeld</th>\n",
       "      <th>Roman Ramirez</th>\n",
       "      <th>Aaron Carter</th>\n",
       "      <th>Will Simpson</th>\n",
       "      <th>Evan Sooklal</th>\n",
       "    </tr>\n",
       "  </thead>\n",
       "  <tbody>\n",
       "    <tr>\n",
       "      <th>Paul Bartenfeld</th>\n",
       "      <td>[0, 0]</td>\n",
       "      <td>[2, 4]</td>\n",
       "      <td>[1, 3]</td>\n",
       "      <td>[0, 6]</td>\n",
       "      <td>[1, 5]</td>\n",
       "    </tr>\n",
       "    <tr>\n",
       "      <th>Roman Ramirez</th>\n",
       "      <td>[4, 2]</td>\n",
       "      <td>[0, 0]</td>\n",
       "      <td>[1, 3]</td>\n",
       "      <td>[6, 3]</td>\n",
       "      <td>[1, 5]</td>\n",
       "    </tr>\n",
       "    <tr>\n",
       "      <th>Aaron Carter</th>\n",
       "      <td>[3, 1]</td>\n",
       "      <td>[3, 1]</td>\n",
       "      <td>[0, 0]</td>\n",
       "      <td>[3, 1]</td>\n",
       "      <td>[5, 2]</td>\n",
       "    </tr>\n",
       "    <tr>\n",
       "      <th>Will Simpson</th>\n",
       "      <td>[6, 0]</td>\n",
       "      <td>[3, 6]</td>\n",
       "      <td>[1, 3]</td>\n",
       "      <td>[0, 0]</td>\n",
       "      <td>[6, 2]</td>\n",
       "    </tr>\n",
       "    <tr>\n",
       "      <th>Evan Sooklal</th>\n",
       "      <td>[5, 1]</td>\n",
       "      <td>[5, 1]</td>\n",
       "      <td>[2, 5]</td>\n",
       "      <td>[2, 6]</td>\n",
       "      <td>[0, 0]</td>\n",
       "    </tr>\n",
       "  </tbody>\n",
       "</table>\n",
       "</div>"
      ],
      "text/plain": [
       "                Paul Bartenfeld Roman Ramirez Aaron Carter Will Simpson  \\\n",
       "Paul Bartenfeld          [0, 0]        [2, 4]       [1, 3]       [0, 6]   \n",
       "Roman Ramirez            [4, 2]        [0, 0]       [1, 3]       [6, 3]   \n",
       "Aaron Carter             [3, 1]        [3, 1]       [0, 0]       [3, 1]   \n",
       "Will Simpson             [6, 0]        [3, 6]       [1, 3]       [0, 0]   \n",
       "Evan Sooklal             [5, 1]        [5, 1]       [2, 5]       [2, 6]   \n",
       "\n",
       "                Evan Sooklal  \n",
       "Paul Bartenfeld       [1, 5]  \n",
       "Roman Ramirez         [1, 5]  \n",
       "Aaron Carter          [5, 2]  \n",
       "Will Simpson          [6, 2]  \n",
       "Evan Sooklal          [0, 0]  "
      ]
     },
     "metadata": {},
     "output_type": "display_data"
    },
    {
     "data": {
      "text/html": [
       "<div>\n",
       "<style scoped>\n",
       "    .dataframe tbody tr th:only-of-type {\n",
       "        vertical-align: middle;\n",
       "    }\n",
       "\n",
       "    .dataframe tbody tr th {\n",
       "        vertical-align: top;\n",
       "    }\n",
       "\n",
       "    .dataframe thead th {\n",
       "        text-align: right;\n",
       "    }\n",
       "</style>\n",
       "<table border=\"1\" class=\"dataframe\">\n",
       "  <thead>\n",
       "    <tr style=\"text-align: right;\">\n",
       "      <th></th>\n",
       "      <th>Paul Bartenfeld</th>\n",
       "      <th>Roman Ramirez</th>\n",
       "      <th>Aaron Carter</th>\n",
       "      <th>Will Simpson</th>\n",
       "      <th>Evan Sooklal</th>\n",
       "    </tr>\n",
       "  </thead>\n",
       "  <tbody>\n",
       "    <tr>\n",
       "      <th>Paul Bartenfeld</th>\n",
       "      <td>NaN</td>\n",
       "      <td>0.333333</td>\n",
       "      <td>0.25</td>\n",
       "      <td>0.0</td>\n",
       "      <td>0.166667</td>\n",
       "    </tr>\n",
       "    <tr>\n",
       "      <th>Roman Ramirez</th>\n",
       "      <td>0.666667</td>\n",
       "      <td>NaN</td>\n",
       "      <td>0.25</td>\n",
       "      <td>0.666667</td>\n",
       "      <td>0.166667</td>\n",
       "    </tr>\n",
       "    <tr>\n",
       "      <th>Aaron Carter</th>\n",
       "      <td>0.75</td>\n",
       "      <td>0.75</td>\n",
       "      <td>NaN</td>\n",
       "      <td>0.75</td>\n",
       "      <td>0.714286</td>\n",
       "    </tr>\n",
       "    <tr>\n",
       "      <th>Will Simpson</th>\n",
       "      <td>1.0</td>\n",
       "      <td>0.333333</td>\n",
       "      <td>0.25</td>\n",
       "      <td>NaN</td>\n",
       "      <td>0.75</td>\n",
       "    </tr>\n",
       "    <tr>\n",
       "      <th>Evan Sooklal</th>\n",
       "      <td>0.833333</td>\n",
       "      <td>0.833333</td>\n",
       "      <td>0.285714</td>\n",
       "      <td>0.25</td>\n",
       "      <td>NaN</td>\n",
       "    </tr>\n",
       "  </tbody>\n",
       "</table>\n",
       "</div>"
      ],
      "text/plain": [
       "                Paul Bartenfeld Roman Ramirez Aaron Carter Will Simpson  \\\n",
       "Paul Bartenfeld             NaN      0.333333         0.25          0.0   \n",
       "Roman Ramirez          0.666667           NaN         0.25     0.666667   \n",
       "Aaron Carter               0.75          0.75          NaN         0.75   \n",
       "Will Simpson                1.0      0.333333         0.25          NaN   \n",
       "Evan Sooklal           0.833333      0.833333     0.285714         0.25   \n",
       "\n",
       "                Evan Sooklal  \n",
       "Paul Bartenfeld     0.166667  \n",
       "Roman Ramirez       0.166667  \n",
       "Aaron Carter        0.714286  \n",
       "Will Simpson            0.75  \n",
       "Evan Sooklal             NaN  "
      ]
     },
     "metadata": {},
     "output_type": "display_data"
    },
    {
     "data": {
      "text/html": [
       "<div>\n",
       "<style scoped>\n",
       "    .dataframe tbody tr th:only-of-type {\n",
       "        vertical-align: middle;\n",
       "    }\n",
       "\n",
       "    .dataframe tbody tr th {\n",
       "        vertical-align: top;\n",
       "    }\n",
       "\n",
       "    .dataframe thead th {\n",
       "        text-align: right;\n",
       "    }\n",
       "</style>\n",
       "<table border=\"1\" class=\"dataframe\">\n",
       "  <thead>\n",
       "    <tr style=\"text-align: right;\">\n",
       "      <th></th>\n",
       "      <th>Paul Bartenfeld</th>\n",
       "      <th>Roman Ramirez</th>\n",
       "      <th>Aaron Carter</th>\n",
       "      <th>Will Simpson</th>\n",
       "      <th>Evan Sooklal</th>\n",
       "    </tr>\n",
       "  </thead>\n",
       "  <tbody>\n",
       "    <tr>\n",
       "      <th>Paul Bartenfeld</th>\n",
       "      <td></td>\n",
       "      <td>2-4&lt;br&gt;33.3%</td>\n",
       "      <td>1-3&lt;br&gt;25.0%</td>\n",
       "      <td>0-6&lt;br&gt;0.0%</td>\n",
       "      <td>1-5&lt;br&gt;16.7%</td>\n",
       "    </tr>\n",
       "    <tr>\n",
       "      <th>Roman Ramirez</th>\n",
       "      <td>4-2&lt;br&gt;66.7%</td>\n",
       "      <td></td>\n",
       "      <td>1-3&lt;br&gt;25.0%</td>\n",
       "      <td>6-3&lt;br&gt;66.7%</td>\n",
       "      <td>1-5&lt;br&gt;16.7%</td>\n",
       "    </tr>\n",
       "    <tr>\n",
       "      <th>Aaron Carter</th>\n",
       "      <td>3-1&lt;br&gt;75.0%</td>\n",
       "      <td>3-1&lt;br&gt;75.0%</td>\n",
       "      <td></td>\n",
       "      <td>3-1&lt;br&gt;75.0%</td>\n",
       "      <td>5-2&lt;br&gt;71.4%</td>\n",
       "    </tr>\n",
       "    <tr>\n",
       "      <th>Will Simpson</th>\n",
       "      <td>6-0&lt;br&gt;100.0%</td>\n",
       "      <td>3-6&lt;br&gt;33.3%</td>\n",
       "      <td>1-3&lt;br&gt;25.0%</td>\n",
       "      <td></td>\n",
       "      <td>6-2&lt;br&gt;75.0%</td>\n",
       "    </tr>\n",
       "    <tr>\n",
       "      <th>Evan Sooklal</th>\n",
       "      <td>5-1&lt;br&gt;83.3%</td>\n",
       "      <td>5-1&lt;br&gt;83.3%</td>\n",
       "      <td>2-5&lt;br&gt;28.6%</td>\n",
       "      <td>2-6&lt;br&gt;25.0%</td>\n",
       "      <td></td>\n",
       "    </tr>\n",
       "  </tbody>\n",
       "</table>\n",
       "</div>"
      ],
      "text/plain": [
       "                Paul Bartenfeld Roman Ramirez  Aaron Carter  Will Simpson  \\\n",
       "Paul Bartenfeld                  2-4<br>33.3%  1-3<br>25.0%   0-6<br>0.0%   \n",
       "Roman Ramirez      4-2<br>66.7%                1-3<br>25.0%  6-3<br>66.7%   \n",
       "Aaron Carter       3-1<br>75.0%  3-1<br>75.0%                3-1<br>75.0%   \n",
       "Will Simpson      6-0<br>100.0%  3-6<br>33.3%  1-3<br>25.0%                 \n",
       "Evan Sooklal       5-1<br>83.3%  5-1<br>83.3%  2-5<br>28.6%  2-6<br>25.0%   \n",
       "\n",
       "                 Evan Sooklal  \n",
       "Paul Bartenfeld  1-5<br>16.7%  \n",
       "Roman Ramirez    1-5<br>16.7%  \n",
       "Aaron Carter     5-2<br>71.4%  \n",
       "Will Simpson     6-2<br>75.0%  \n",
       "Evan Sooklal                   "
      ]
     },
     "metadata": {},
     "output_type": "display_data"
    },
    {
     "data": {
      "application/vnd.plotly.v1+json": {
       "config": {
        "plotlyServerURL": "https://plot.ly"
       },
       "data": [
        {
         "coloraxis": "coloraxis",
         "hovertemplate": "Player B: %{x}<br>Player A: %{y}<br>Win Percentage: %{z}<extra></extra>",
         "name": "0",
         "text": [
          [
           "",
           "2-4<br>33.3%",
           "1-3<br>25.0%",
           "0-6<br>0.0%",
           "1-5<br>16.7%"
          ],
          [
           "4-2<br>66.7%",
           "",
           "1-3<br>25.0%",
           "6-3<br>66.7%",
           "1-5<br>16.7%"
          ],
          [
           "3-1<br>75.0%",
           "3-1<br>75.0%",
           "",
           "3-1<br>75.0%",
           "5-2<br>71.4%"
          ],
          [
           "6-0<br>100.0%",
           "3-6<br>33.3%",
           "1-3<br>25.0%",
           "",
           "6-2<br>75.0%"
          ],
          [
           "5-1<br>83.3%",
           "5-1<br>83.3%",
           "2-5<br>28.6%",
           "2-6<br>25.0%",
           ""
          ]
         ],
         "texttemplate": "%{text}",
         "type": "heatmap",
         "x": [
          "Paul Bartenfeld",
          "Roman Ramirez",
          "Aaron Carter",
          "Will Simpson",
          "Evan Sooklal"
         ],
         "xaxis": "x",
         "y": [
          "Paul Bartenfeld",
          "Roman Ramirez",
          "Aaron Carter",
          "Will Simpson",
          "Evan Sooklal"
         ],
         "yaxis": "y",
         "z": [
          [
           null,
           0.3333333333333333,
           0.25,
           0,
           0.16666666666666666
          ],
          [
           0.6666666666666666,
           null,
           0.25,
           0.6666666666666666,
           0.16666666666666666
          ],
          [
           0.75,
           0.75,
           null,
           0.75,
           0.7142857142857143
          ],
          [
           1,
           0.3333333333333333,
           0.25,
           null,
           0.75
          ],
          [
           0.8333333333333334,
           0.8333333333333334,
           0.2857142857142857,
           0.25,
           null
          ]
         ]
        }
       ],
       "layout": {
        "coloraxis": {
         "colorbar": {
          "title": {
           "text": "Win Percentage"
          }
         },
         "colorscale": [
          [
           0,
           "#0d0887"
          ],
          [
           0.1111111111111111,
           "#46039f"
          ],
          [
           0.2222222222222222,
           "#7201a8"
          ],
          [
           0.3333333333333333,
           "#9c179e"
          ],
          [
           0.4444444444444444,
           "#bd3786"
          ],
          [
           0.5555555555555556,
           "#d8576b"
          ],
          [
           0.6666666666666666,
           "#ed7953"
          ],
          [
           0.7777777777777778,
           "#fb9f3a"
          ],
          [
           0.8888888888888888,
           "#fdca26"
          ],
          [
           1,
           "#f0f921"
          ]
         ]
        },
        "margin": {
         "t": 60
        },
        "template": {
         "data": {
          "bar": [
           {
            "error_x": {
             "color": "#2a3f5f"
            },
            "error_y": {
             "color": "#2a3f5f"
            },
            "marker": {
             "line": {
              "color": "#E5ECF6",
              "width": 0.5
             },
             "pattern": {
              "fillmode": "overlay",
              "size": 10,
              "solidity": 0.2
             }
            },
            "type": "bar"
           }
          ],
          "barpolar": [
           {
            "marker": {
             "line": {
              "color": "#E5ECF6",
              "width": 0.5
             },
             "pattern": {
              "fillmode": "overlay",
              "size": 10,
              "solidity": 0.2
             }
            },
            "type": "barpolar"
           }
          ],
          "carpet": [
           {
            "aaxis": {
             "endlinecolor": "#2a3f5f",
             "gridcolor": "white",
             "linecolor": "white",
             "minorgridcolor": "white",
             "startlinecolor": "#2a3f5f"
            },
            "baxis": {
             "endlinecolor": "#2a3f5f",
             "gridcolor": "white",
             "linecolor": "white",
             "minorgridcolor": "white",
             "startlinecolor": "#2a3f5f"
            },
            "type": "carpet"
           }
          ],
          "choropleth": [
           {
            "colorbar": {
             "outlinewidth": 0,
             "ticks": ""
            },
            "type": "choropleth"
           }
          ],
          "contour": [
           {
            "colorbar": {
             "outlinewidth": 0,
             "ticks": ""
            },
            "colorscale": [
             [
              0,
              "#0d0887"
             ],
             [
              0.1111111111111111,
              "#46039f"
             ],
             [
              0.2222222222222222,
              "#7201a8"
             ],
             [
              0.3333333333333333,
              "#9c179e"
             ],
             [
              0.4444444444444444,
              "#bd3786"
             ],
             [
              0.5555555555555556,
              "#d8576b"
             ],
             [
              0.6666666666666666,
              "#ed7953"
             ],
             [
              0.7777777777777778,
              "#fb9f3a"
             ],
             [
              0.8888888888888888,
              "#fdca26"
             ],
             [
              1,
              "#f0f921"
             ]
            ],
            "type": "contour"
           }
          ],
          "contourcarpet": [
           {
            "colorbar": {
             "outlinewidth": 0,
             "ticks": ""
            },
            "type": "contourcarpet"
           }
          ],
          "heatmap": [
           {
            "colorbar": {
             "outlinewidth": 0,
             "ticks": ""
            },
            "colorscale": [
             [
              0,
              "#0d0887"
             ],
             [
              0.1111111111111111,
              "#46039f"
             ],
             [
              0.2222222222222222,
              "#7201a8"
             ],
             [
              0.3333333333333333,
              "#9c179e"
             ],
             [
              0.4444444444444444,
              "#bd3786"
             ],
             [
              0.5555555555555556,
              "#d8576b"
             ],
             [
              0.6666666666666666,
              "#ed7953"
             ],
             [
              0.7777777777777778,
              "#fb9f3a"
             ],
             [
              0.8888888888888888,
              "#fdca26"
             ],
             [
              1,
              "#f0f921"
             ]
            ],
            "type": "heatmap"
           }
          ],
          "heatmapgl": [
           {
            "colorbar": {
             "outlinewidth": 0,
             "ticks": ""
            },
            "colorscale": [
             [
              0,
              "#0d0887"
             ],
             [
              0.1111111111111111,
              "#46039f"
             ],
             [
              0.2222222222222222,
              "#7201a8"
             ],
             [
              0.3333333333333333,
              "#9c179e"
             ],
             [
              0.4444444444444444,
              "#bd3786"
             ],
             [
              0.5555555555555556,
              "#d8576b"
             ],
             [
              0.6666666666666666,
              "#ed7953"
             ],
             [
              0.7777777777777778,
              "#fb9f3a"
             ],
             [
              0.8888888888888888,
              "#fdca26"
             ],
             [
              1,
              "#f0f921"
             ]
            ],
            "type": "heatmapgl"
           }
          ],
          "histogram": [
           {
            "marker": {
             "pattern": {
              "fillmode": "overlay",
              "size": 10,
              "solidity": 0.2
             }
            },
            "type": "histogram"
           }
          ],
          "histogram2d": [
           {
            "colorbar": {
             "outlinewidth": 0,
             "ticks": ""
            },
            "colorscale": [
             [
              0,
              "#0d0887"
             ],
             [
              0.1111111111111111,
              "#46039f"
             ],
             [
              0.2222222222222222,
              "#7201a8"
             ],
             [
              0.3333333333333333,
              "#9c179e"
             ],
             [
              0.4444444444444444,
              "#bd3786"
             ],
             [
              0.5555555555555556,
              "#d8576b"
             ],
             [
              0.6666666666666666,
              "#ed7953"
             ],
             [
              0.7777777777777778,
              "#fb9f3a"
             ],
             [
              0.8888888888888888,
              "#fdca26"
             ],
             [
              1,
              "#f0f921"
             ]
            ],
            "type": "histogram2d"
           }
          ],
          "histogram2dcontour": [
           {
            "colorbar": {
             "outlinewidth": 0,
             "ticks": ""
            },
            "colorscale": [
             [
              0,
              "#0d0887"
             ],
             [
              0.1111111111111111,
              "#46039f"
             ],
             [
              0.2222222222222222,
              "#7201a8"
             ],
             [
              0.3333333333333333,
              "#9c179e"
             ],
             [
              0.4444444444444444,
              "#bd3786"
             ],
             [
              0.5555555555555556,
              "#d8576b"
             ],
             [
              0.6666666666666666,
              "#ed7953"
             ],
             [
              0.7777777777777778,
              "#fb9f3a"
             ],
             [
              0.8888888888888888,
              "#fdca26"
             ],
             [
              1,
              "#f0f921"
             ]
            ],
            "type": "histogram2dcontour"
           }
          ],
          "mesh3d": [
           {
            "colorbar": {
             "outlinewidth": 0,
             "ticks": ""
            },
            "type": "mesh3d"
           }
          ],
          "parcoords": [
           {
            "line": {
             "colorbar": {
              "outlinewidth": 0,
              "ticks": ""
             }
            },
            "type": "parcoords"
           }
          ],
          "pie": [
           {
            "automargin": true,
            "type": "pie"
           }
          ],
          "scatter": [
           {
            "fillpattern": {
             "fillmode": "overlay",
             "size": 10,
             "solidity": 0.2
            },
            "type": "scatter"
           }
          ],
          "scatter3d": [
           {
            "line": {
             "colorbar": {
              "outlinewidth": 0,
              "ticks": ""
             }
            },
            "marker": {
             "colorbar": {
              "outlinewidth": 0,
              "ticks": ""
             }
            },
            "type": "scatter3d"
           }
          ],
          "scattercarpet": [
           {
            "marker": {
             "colorbar": {
              "outlinewidth": 0,
              "ticks": ""
             }
            },
            "type": "scattercarpet"
           }
          ],
          "scattergeo": [
           {
            "marker": {
             "colorbar": {
              "outlinewidth": 0,
              "ticks": ""
             }
            },
            "type": "scattergeo"
           }
          ],
          "scattergl": [
           {
            "marker": {
             "colorbar": {
              "outlinewidth": 0,
              "ticks": ""
             }
            },
            "type": "scattergl"
           }
          ],
          "scattermapbox": [
           {
            "marker": {
             "colorbar": {
              "outlinewidth": 0,
              "ticks": ""
             }
            },
            "type": "scattermapbox"
           }
          ],
          "scatterpolar": [
           {
            "marker": {
             "colorbar": {
              "outlinewidth": 0,
              "ticks": ""
             }
            },
            "type": "scatterpolar"
           }
          ],
          "scatterpolargl": [
           {
            "marker": {
             "colorbar": {
              "outlinewidth": 0,
              "ticks": ""
             }
            },
            "type": "scatterpolargl"
           }
          ],
          "scatterternary": [
           {
            "marker": {
             "colorbar": {
              "outlinewidth": 0,
              "ticks": ""
             }
            },
            "type": "scatterternary"
           }
          ],
          "surface": [
           {
            "colorbar": {
             "outlinewidth": 0,
             "ticks": ""
            },
            "colorscale": [
             [
              0,
              "#0d0887"
             ],
             [
              0.1111111111111111,
              "#46039f"
             ],
             [
              0.2222222222222222,
              "#7201a8"
             ],
             [
              0.3333333333333333,
              "#9c179e"
             ],
             [
              0.4444444444444444,
              "#bd3786"
             ],
             [
              0.5555555555555556,
              "#d8576b"
             ],
             [
              0.6666666666666666,
              "#ed7953"
             ],
             [
              0.7777777777777778,
              "#fb9f3a"
             ],
             [
              0.8888888888888888,
              "#fdca26"
             ],
             [
              1,
              "#f0f921"
             ]
            ],
            "type": "surface"
           }
          ],
          "table": [
           {
            "cells": {
             "fill": {
              "color": "#EBF0F8"
             },
             "line": {
              "color": "white"
             }
            },
            "header": {
             "fill": {
              "color": "#C8D4E3"
             },
             "line": {
              "color": "white"
             }
            },
            "type": "table"
           }
          ]
         },
         "layout": {
          "annotationdefaults": {
           "arrowcolor": "#2a3f5f",
           "arrowhead": 0,
           "arrowwidth": 1
          },
          "autotypenumbers": "strict",
          "coloraxis": {
           "colorbar": {
            "outlinewidth": 0,
            "ticks": ""
           }
          },
          "colorscale": {
           "diverging": [
            [
             0,
             "#8e0152"
            ],
            [
             0.1,
             "#c51b7d"
            ],
            [
             0.2,
             "#de77ae"
            ],
            [
             0.3,
             "#f1b6da"
            ],
            [
             0.4,
             "#fde0ef"
            ],
            [
             0.5,
             "#f7f7f7"
            ],
            [
             0.6,
             "#e6f5d0"
            ],
            [
             0.7,
             "#b8e186"
            ],
            [
             0.8,
             "#7fbc41"
            ],
            [
             0.9,
             "#4d9221"
            ],
            [
             1,
             "#276419"
            ]
           ],
           "sequential": [
            [
             0,
             "#0d0887"
            ],
            [
             0.1111111111111111,
             "#46039f"
            ],
            [
             0.2222222222222222,
             "#7201a8"
            ],
            [
             0.3333333333333333,
             "#9c179e"
            ],
            [
             0.4444444444444444,
             "#bd3786"
            ],
            [
             0.5555555555555556,
             "#d8576b"
            ],
            [
             0.6666666666666666,
             "#ed7953"
            ],
            [
             0.7777777777777778,
             "#fb9f3a"
            ],
            [
             0.8888888888888888,
             "#fdca26"
            ],
            [
             1,
             "#f0f921"
            ]
           ],
           "sequentialminus": [
            [
             0,
             "#0d0887"
            ],
            [
             0.1111111111111111,
             "#46039f"
            ],
            [
             0.2222222222222222,
             "#7201a8"
            ],
            [
             0.3333333333333333,
             "#9c179e"
            ],
            [
             0.4444444444444444,
             "#bd3786"
            ],
            [
             0.5555555555555556,
             "#d8576b"
            ],
            [
             0.6666666666666666,
             "#ed7953"
            ],
            [
             0.7777777777777778,
             "#fb9f3a"
            ],
            [
             0.8888888888888888,
             "#fdca26"
            ],
            [
             1,
             "#f0f921"
            ]
           ]
          },
          "colorway": [
           "#636efa",
           "#EF553B",
           "#00cc96",
           "#ab63fa",
           "#FFA15A",
           "#19d3f3",
           "#FF6692",
           "#B6E880",
           "#FF97FF",
           "#FECB52"
          ],
          "font": {
           "color": "#2a3f5f"
          },
          "geo": {
           "bgcolor": "white",
           "lakecolor": "white",
           "landcolor": "#E5ECF6",
           "showlakes": true,
           "showland": true,
           "subunitcolor": "white"
          },
          "hoverlabel": {
           "align": "left"
          },
          "hovermode": "closest",
          "mapbox": {
           "style": "light"
          },
          "paper_bgcolor": "white",
          "plot_bgcolor": "#E5ECF6",
          "polar": {
           "angularaxis": {
            "gridcolor": "white",
            "linecolor": "white",
            "ticks": ""
           },
           "bgcolor": "#E5ECF6",
           "radialaxis": {
            "gridcolor": "white",
            "linecolor": "white",
            "ticks": ""
           }
          },
          "scene": {
           "xaxis": {
            "backgroundcolor": "#E5ECF6",
            "gridcolor": "white",
            "gridwidth": 2,
            "linecolor": "white",
            "showbackground": true,
            "ticks": "",
            "zerolinecolor": "white"
           },
           "yaxis": {
            "backgroundcolor": "#E5ECF6",
            "gridcolor": "white",
            "gridwidth": 2,
            "linecolor": "white",
            "showbackground": true,
            "ticks": "",
            "zerolinecolor": "white"
           },
           "zaxis": {
            "backgroundcolor": "#E5ECF6",
            "gridcolor": "white",
            "gridwidth": 2,
            "linecolor": "white",
            "showbackground": true,
            "ticks": "",
            "zerolinecolor": "white"
           }
          },
          "shapedefaults": {
           "line": {
            "color": "#2a3f5f"
           }
          },
          "ternary": {
           "aaxis": {
            "gridcolor": "white",
            "linecolor": "white",
            "ticks": ""
           },
           "baxis": {
            "gridcolor": "white",
            "linecolor": "white",
            "ticks": ""
           },
           "bgcolor": "#E5ECF6",
           "caxis": {
            "gridcolor": "white",
            "linecolor": "white",
            "ticks": ""
           }
          },
          "title": {
           "x": 0.05
          },
          "xaxis": {
           "automargin": true,
           "gridcolor": "white",
           "linecolor": "white",
           "ticks": "",
           "title": {
            "standoff": 15
           },
           "zerolinecolor": "white",
           "zerolinewidth": 2
          },
          "yaxis": {
           "automargin": true,
           "gridcolor": "white",
           "linecolor": "white",
           "ticks": "",
           "title": {
            "standoff": 15
           },
           "zerolinecolor": "white",
           "zerolinewidth": 2
          }
         }
        },
        "title": {
         "text": "<b>Win Percentage</b>"
        },
        "xaxis": {
         "anchor": "y",
         "constrain": "domain",
         "domain": [
          0,
          1
         ],
         "scaleanchor": "y",
         "title": {
          "text": "Player B"
         }
        },
        "yaxis": {
         "anchor": "x",
         "autorange": "reversed",
         "constrain": "domain",
         "domain": [
          0,
          1
         ],
         "title": {
          "text": "Player A"
         }
        }
       }
      }
     },
     "metadata": {},
     "output_type": "display_data"
    }
   ],
   "source": [
    "# historical table, with record_table\n",
    "win_pct_table = record_table.copy(deep=True)\n",
    "text_record_table = record_table.copy(deep=True)\n",
    "\n",
    "for c in win_pct_table.columns:\n",
    "    for r in win_pct_table.index:\n",
    "        if c == r:\n",
    "            win_pct_table.loc[r, c] = np.NaN\n",
    "            text_record_table.loc[r, c] = \"\"\n",
    "        else:\n",
    "            w, l = win_pct_table.loc[r, c]\n",
    "            w_pct = (w) / (w + l) if (w + l) != 0 else 0\n",
    "            win_pct_table.loc[r, c] = w_pct\n",
    "            text_record_table.loc[r, c] = f\"{w}-{l}<br>{w_pct:,.1%}\"\n",
    "\n",
    "display(record_table)\n",
    "display(win_pct_table)\n",
    "display(text_record_table)\n",
    "\n",
    "fig = px.imshow(\n",
    "    win_pct_table,\n",
    "    labels=dict(\n",
    "        x=\"Player B\",\n",
    "        y=\"Player A\",\n",
    "        color=\"Win Percentage\"\n",
    "    )\n",
    ")\n",
    "fig.update_layout(\n",
    "    title=\"<b>Win Percentage</b>\"\n",
    ")\n",
    "fig.update_traces(\n",
    "    text=text_record_table,\n",
    "    texttemplate='%{text}'\n",
    ")\n",
    "fig.show()\n",
    "fig.write_html(\"figures/win_pct.html\")"
   ]
  },
  {
   "cell_type": "code",
   "execution_count": 8,
   "metadata": {},
   "outputs": [
    {
     "data": {
      "application/vnd.plotly.v1+json": {
       "config": {
        "plotlyServerURL": "https://plot.ly"
       },
       "data": [
        {
         "coloraxis": "coloraxis",
         "hovertemplate": "Player B: %{x}<br>Player A: %{y}<br>Win Probability: %{z}<extra></extra>",
         "name": "0",
         "text": [
          [
           "",
           "29.2%",
           "9.2%",
           "22.6%",
           "18.5%"
          ],
          [
           "70.8%",
           "",
           "19.8%",
           "41.4%",
           "35.6%"
          ],
          [
           "90.8%",
           "80.2%",
           "",
           "74.1%",
           "69.1%"
          ],
          [
           "77.4%",
           "58.6%",
           "25.9%",
           "",
           "43.8%"
          ],
          [
           "81.5%",
           "64.4%",
           "30.9%",
           "56.2%",
           ""
          ]
         ],
         "texttemplate": "%{text}",
         "type": "heatmap",
         "x": [
          "Paul Bartenfeld",
          "Roman Ramirez",
          "Aaron Carter",
          "Will Simpson",
          "Evan Sooklal"
         ],
         "xaxis": "x",
         "y": [
          "Paul Bartenfeld",
          "Roman Ramirez",
          "Aaron Carter",
          "Will Simpson",
          "Evan Sooklal"
         ],
         "yaxis": "y",
         "z": [
          [
           null,
           0.2916335937176495,
           0.09240896515177403,
           0.22560602969747373,
           0.18529059603146217
          ],
          [
           0.7083664062823505,
           null,
           0.1982756532173018,
           0.41439467412997094,
           0.355845301205844
          ],
          [
           0.9075910348482259,
           0.8017243467826981,
           null,
           0.741020498148928,
           0.6907576505475354
          ],
          [
           0.7743939703025262,
           0.585605325870029,
           0.258979501851072,
           null,
           0.4384104667144473
          ],
          [
           0.8147094039685379,
           0.6441546987941559,
           0.30924234945246465,
           0.5615895332855527,
           null
          ]
         ]
        }
       ],
       "layout": {
        "coloraxis": {
         "colorbar": {
          "title": {
           "text": "Win Probability"
          }
         },
         "colorscale": [
          [
           0,
           "#0d0887"
          ],
          [
           0.1111111111111111,
           "#46039f"
          ],
          [
           0.2222222222222222,
           "#7201a8"
          ],
          [
           0.3333333333333333,
           "#9c179e"
          ],
          [
           0.4444444444444444,
           "#bd3786"
          ],
          [
           0.5555555555555556,
           "#d8576b"
          ],
          [
           0.6666666666666666,
           "#ed7953"
          ],
          [
           0.7777777777777778,
           "#fb9f3a"
          ],
          [
           0.8888888888888888,
           "#fdca26"
          ],
          [
           1,
           "#f0f921"
          ]
         ]
        },
        "margin": {
         "t": 60
        },
        "template": {
         "data": {
          "bar": [
           {
            "error_x": {
             "color": "#2a3f5f"
            },
            "error_y": {
             "color": "#2a3f5f"
            },
            "marker": {
             "line": {
              "color": "#E5ECF6",
              "width": 0.5
             },
             "pattern": {
              "fillmode": "overlay",
              "size": 10,
              "solidity": 0.2
             }
            },
            "type": "bar"
           }
          ],
          "barpolar": [
           {
            "marker": {
             "line": {
              "color": "#E5ECF6",
              "width": 0.5
             },
             "pattern": {
              "fillmode": "overlay",
              "size": 10,
              "solidity": 0.2
             }
            },
            "type": "barpolar"
           }
          ],
          "carpet": [
           {
            "aaxis": {
             "endlinecolor": "#2a3f5f",
             "gridcolor": "white",
             "linecolor": "white",
             "minorgridcolor": "white",
             "startlinecolor": "#2a3f5f"
            },
            "baxis": {
             "endlinecolor": "#2a3f5f",
             "gridcolor": "white",
             "linecolor": "white",
             "minorgridcolor": "white",
             "startlinecolor": "#2a3f5f"
            },
            "type": "carpet"
           }
          ],
          "choropleth": [
           {
            "colorbar": {
             "outlinewidth": 0,
             "ticks": ""
            },
            "type": "choropleth"
           }
          ],
          "contour": [
           {
            "colorbar": {
             "outlinewidth": 0,
             "ticks": ""
            },
            "colorscale": [
             [
              0,
              "#0d0887"
             ],
             [
              0.1111111111111111,
              "#46039f"
             ],
             [
              0.2222222222222222,
              "#7201a8"
             ],
             [
              0.3333333333333333,
              "#9c179e"
             ],
             [
              0.4444444444444444,
              "#bd3786"
             ],
             [
              0.5555555555555556,
              "#d8576b"
             ],
             [
              0.6666666666666666,
              "#ed7953"
             ],
             [
              0.7777777777777778,
              "#fb9f3a"
             ],
             [
              0.8888888888888888,
              "#fdca26"
             ],
             [
              1,
              "#f0f921"
             ]
            ],
            "type": "contour"
           }
          ],
          "contourcarpet": [
           {
            "colorbar": {
             "outlinewidth": 0,
             "ticks": ""
            },
            "type": "contourcarpet"
           }
          ],
          "heatmap": [
           {
            "colorbar": {
             "outlinewidth": 0,
             "ticks": ""
            },
            "colorscale": [
             [
              0,
              "#0d0887"
             ],
             [
              0.1111111111111111,
              "#46039f"
             ],
             [
              0.2222222222222222,
              "#7201a8"
             ],
             [
              0.3333333333333333,
              "#9c179e"
             ],
             [
              0.4444444444444444,
              "#bd3786"
             ],
             [
              0.5555555555555556,
              "#d8576b"
             ],
             [
              0.6666666666666666,
              "#ed7953"
             ],
             [
              0.7777777777777778,
              "#fb9f3a"
             ],
             [
              0.8888888888888888,
              "#fdca26"
             ],
             [
              1,
              "#f0f921"
             ]
            ],
            "type": "heatmap"
           }
          ],
          "heatmapgl": [
           {
            "colorbar": {
             "outlinewidth": 0,
             "ticks": ""
            },
            "colorscale": [
             [
              0,
              "#0d0887"
             ],
             [
              0.1111111111111111,
              "#46039f"
             ],
             [
              0.2222222222222222,
              "#7201a8"
             ],
             [
              0.3333333333333333,
              "#9c179e"
             ],
             [
              0.4444444444444444,
              "#bd3786"
             ],
             [
              0.5555555555555556,
              "#d8576b"
             ],
             [
              0.6666666666666666,
              "#ed7953"
             ],
             [
              0.7777777777777778,
              "#fb9f3a"
             ],
             [
              0.8888888888888888,
              "#fdca26"
             ],
             [
              1,
              "#f0f921"
             ]
            ],
            "type": "heatmapgl"
           }
          ],
          "histogram": [
           {
            "marker": {
             "pattern": {
              "fillmode": "overlay",
              "size": 10,
              "solidity": 0.2
             }
            },
            "type": "histogram"
           }
          ],
          "histogram2d": [
           {
            "colorbar": {
             "outlinewidth": 0,
             "ticks": ""
            },
            "colorscale": [
             [
              0,
              "#0d0887"
             ],
             [
              0.1111111111111111,
              "#46039f"
             ],
             [
              0.2222222222222222,
              "#7201a8"
             ],
             [
              0.3333333333333333,
              "#9c179e"
             ],
             [
              0.4444444444444444,
              "#bd3786"
             ],
             [
              0.5555555555555556,
              "#d8576b"
             ],
             [
              0.6666666666666666,
              "#ed7953"
             ],
             [
              0.7777777777777778,
              "#fb9f3a"
             ],
             [
              0.8888888888888888,
              "#fdca26"
             ],
             [
              1,
              "#f0f921"
             ]
            ],
            "type": "histogram2d"
           }
          ],
          "histogram2dcontour": [
           {
            "colorbar": {
             "outlinewidth": 0,
             "ticks": ""
            },
            "colorscale": [
             [
              0,
              "#0d0887"
             ],
             [
              0.1111111111111111,
              "#46039f"
             ],
             [
              0.2222222222222222,
              "#7201a8"
             ],
             [
              0.3333333333333333,
              "#9c179e"
             ],
             [
              0.4444444444444444,
              "#bd3786"
             ],
             [
              0.5555555555555556,
              "#d8576b"
             ],
             [
              0.6666666666666666,
              "#ed7953"
             ],
             [
              0.7777777777777778,
              "#fb9f3a"
             ],
             [
              0.8888888888888888,
              "#fdca26"
             ],
             [
              1,
              "#f0f921"
             ]
            ],
            "type": "histogram2dcontour"
           }
          ],
          "mesh3d": [
           {
            "colorbar": {
             "outlinewidth": 0,
             "ticks": ""
            },
            "type": "mesh3d"
           }
          ],
          "parcoords": [
           {
            "line": {
             "colorbar": {
              "outlinewidth": 0,
              "ticks": ""
             }
            },
            "type": "parcoords"
           }
          ],
          "pie": [
           {
            "automargin": true,
            "type": "pie"
           }
          ],
          "scatter": [
           {
            "fillpattern": {
             "fillmode": "overlay",
             "size": 10,
             "solidity": 0.2
            },
            "type": "scatter"
           }
          ],
          "scatter3d": [
           {
            "line": {
             "colorbar": {
              "outlinewidth": 0,
              "ticks": ""
             }
            },
            "marker": {
             "colorbar": {
              "outlinewidth": 0,
              "ticks": ""
             }
            },
            "type": "scatter3d"
           }
          ],
          "scattercarpet": [
           {
            "marker": {
             "colorbar": {
              "outlinewidth": 0,
              "ticks": ""
             }
            },
            "type": "scattercarpet"
           }
          ],
          "scattergeo": [
           {
            "marker": {
             "colorbar": {
              "outlinewidth": 0,
              "ticks": ""
             }
            },
            "type": "scattergeo"
           }
          ],
          "scattergl": [
           {
            "marker": {
             "colorbar": {
              "outlinewidth": 0,
              "ticks": ""
             }
            },
            "type": "scattergl"
           }
          ],
          "scattermapbox": [
           {
            "marker": {
             "colorbar": {
              "outlinewidth": 0,
              "ticks": ""
             }
            },
            "type": "scattermapbox"
           }
          ],
          "scatterpolar": [
           {
            "marker": {
             "colorbar": {
              "outlinewidth": 0,
              "ticks": ""
             }
            },
            "type": "scatterpolar"
           }
          ],
          "scatterpolargl": [
           {
            "marker": {
             "colorbar": {
              "outlinewidth": 0,
              "ticks": ""
             }
            },
            "type": "scatterpolargl"
           }
          ],
          "scatterternary": [
           {
            "marker": {
             "colorbar": {
              "outlinewidth": 0,
              "ticks": ""
             }
            },
            "type": "scatterternary"
           }
          ],
          "surface": [
           {
            "colorbar": {
             "outlinewidth": 0,
             "ticks": ""
            },
            "colorscale": [
             [
              0,
              "#0d0887"
             ],
             [
              0.1111111111111111,
              "#46039f"
             ],
             [
              0.2222222222222222,
              "#7201a8"
             ],
             [
              0.3333333333333333,
              "#9c179e"
             ],
             [
              0.4444444444444444,
              "#bd3786"
             ],
             [
              0.5555555555555556,
              "#d8576b"
             ],
             [
              0.6666666666666666,
              "#ed7953"
             ],
             [
              0.7777777777777778,
              "#fb9f3a"
             ],
             [
              0.8888888888888888,
              "#fdca26"
             ],
             [
              1,
              "#f0f921"
             ]
            ],
            "type": "surface"
           }
          ],
          "table": [
           {
            "cells": {
             "fill": {
              "color": "#EBF0F8"
             },
             "line": {
              "color": "white"
             }
            },
            "header": {
             "fill": {
              "color": "#C8D4E3"
             },
             "line": {
              "color": "white"
             }
            },
            "type": "table"
           }
          ]
         },
         "layout": {
          "annotationdefaults": {
           "arrowcolor": "#2a3f5f",
           "arrowhead": 0,
           "arrowwidth": 1
          },
          "autotypenumbers": "strict",
          "coloraxis": {
           "colorbar": {
            "outlinewidth": 0,
            "ticks": ""
           }
          },
          "colorscale": {
           "diverging": [
            [
             0,
             "#8e0152"
            ],
            [
             0.1,
             "#c51b7d"
            ],
            [
             0.2,
             "#de77ae"
            ],
            [
             0.3,
             "#f1b6da"
            ],
            [
             0.4,
             "#fde0ef"
            ],
            [
             0.5,
             "#f7f7f7"
            ],
            [
             0.6,
             "#e6f5d0"
            ],
            [
             0.7,
             "#b8e186"
            ],
            [
             0.8,
             "#7fbc41"
            ],
            [
             0.9,
             "#4d9221"
            ],
            [
             1,
             "#276419"
            ]
           ],
           "sequential": [
            [
             0,
             "#0d0887"
            ],
            [
             0.1111111111111111,
             "#46039f"
            ],
            [
             0.2222222222222222,
             "#7201a8"
            ],
            [
             0.3333333333333333,
             "#9c179e"
            ],
            [
             0.4444444444444444,
             "#bd3786"
            ],
            [
             0.5555555555555556,
             "#d8576b"
            ],
            [
             0.6666666666666666,
             "#ed7953"
            ],
            [
             0.7777777777777778,
             "#fb9f3a"
            ],
            [
             0.8888888888888888,
             "#fdca26"
            ],
            [
             1,
             "#f0f921"
            ]
           ],
           "sequentialminus": [
            [
             0,
             "#0d0887"
            ],
            [
             0.1111111111111111,
             "#46039f"
            ],
            [
             0.2222222222222222,
             "#7201a8"
            ],
            [
             0.3333333333333333,
             "#9c179e"
            ],
            [
             0.4444444444444444,
             "#bd3786"
            ],
            [
             0.5555555555555556,
             "#d8576b"
            ],
            [
             0.6666666666666666,
             "#ed7953"
            ],
            [
             0.7777777777777778,
             "#fb9f3a"
            ],
            [
             0.8888888888888888,
             "#fdca26"
            ],
            [
             1,
             "#f0f921"
            ]
           ]
          },
          "colorway": [
           "#636efa",
           "#EF553B",
           "#00cc96",
           "#ab63fa",
           "#FFA15A",
           "#19d3f3",
           "#FF6692",
           "#B6E880",
           "#FF97FF",
           "#FECB52"
          ],
          "font": {
           "color": "#2a3f5f"
          },
          "geo": {
           "bgcolor": "white",
           "lakecolor": "white",
           "landcolor": "#E5ECF6",
           "showlakes": true,
           "showland": true,
           "subunitcolor": "white"
          },
          "hoverlabel": {
           "align": "left"
          },
          "hovermode": "closest",
          "mapbox": {
           "style": "light"
          },
          "paper_bgcolor": "white",
          "plot_bgcolor": "#E5ECF6",
          "polar": {
           "angularaxis": {
            "gridcolor": "white",
            "linecolor": "white",
            "ticks": ""
           },
           "bgcolor": "#E5ECF6",
           "radialaxis": {
            "gridcolor": "white",
            "linecolor": "white",
            "ticks": ""
           }
          },
          "scene": {
           "xaxis": {
            "backgroundcolor": "#E5ECF6",
            "gridcolor": "white",
            "gridwidth": 2,
            "linecolor": "white",
            "showbackground": true,
            "ticks": "",
            "zerolinecolor": "white"
           },
           "yaxis": {
            "backgroundcolor": "#E5ECF6",
            "gridcolor": "white",
            "gridwidth": 2,
            "linecolor": "white",
            "showbackground": true,
            "ticks": "",
            "zerolinecolor": "white"
           },
           "zaxis": {
            "backgroundcolor": "#E5ECF6",
            "gridcolor": "white",
            "gridwidth": 2,
            "linecolor": "white",
            "showbackground": true,
            "ticks": "",
            "zerolinecolor": "white"
           }
          },
          "shapedefaults": {
           "line": {
            "color": "#2a3f5f"
           }
          },
          "ternary": {
           "aaxis": {
            "gridcolor": "white",
            "linecolor": "white",
            "ticks": ""
           },
           "baxis": {
            "gridcolor": "white",
            "linecolor": "white",
            "ticks": ""
           },
           "bgcolor": "#E5ECF6",
           "caxis": {
            "gridcolor": "white",
            "linecolor": "white",
            "ticks": ""
           }
          },
          "title": {
           "x": 0.05
          },
          "xaxis": {
           "automargin": true,
           "gridcolor": "white",
           "linecolor": "white",
           "ticks": "",
           "title": {
            "standoff": 15
           },
           "zerolinecolor": "white",
           "zerolinewidth": 2
          },
          "yaxis": {
           "automargin": true,
           "gridcolor": "white",
           "linecolor": "white",
           "ticks": "",
           "title": {
            "standoff": 15
           },
           "zerolinecolor": "white",
           "zerolinewidth": 2
          }
         }
        },
        "title": {
         "text": "<b>Matchup Predictor</b>"
        },
        "xaxis": {
         "anchor": "y",
         "constrain": "domain",
         "domain": [
          0,
          1
         ],
         "scaleanchor": "y",
         "title": {
          "text": "Player B"
         }
        },
        "yaxis": {
         "anchor": "x",
         "autorange": "reversed",
         "constrain": "domain",
         "domain": [
          0,
          1
         ],
         "title": {
          "text": "Player A"
         }
        }
       }
      }
     },
     "metadata": {},
     "output_type": "display_data"
    }
   ],
   "source": [
    "# current win probabilities\n",
    "\n",
    "win_prob_table = pd.DataFrame(np.zeros([len(set_players), len(set_players)]))\n",
    "win_prob_table.index = list(set_players)\n",
    "win_prob_table.columns = list(set_players)\n",
    "\n",
    "for p1 in set_players:\n",
    "    for p2 in set_players:\n",
    "        if p1 == p2:\n",
    "            win_prob_table.loc[p1, p2] = np.NaN\n",
    "        else:\n",
    "            win_prob_table.loc[p1, p2] = expected_score(elo[p1], elo[p2], base=base)\n",
    "\n",
    "fig = px.imshow(\n",
    "    win_prob_table,\n",
    "    labels=dict(\n",
    "        x=\"Player B\",\n",
    "        y=\"Player A\",\n",
    "        color=\"Win Probability\"\n",
    "    )\n",
    ")\n",
    "fig.update_layout(\n",
    "    title=\"<b>Matchup Predictor</b>\"\n",
    ")\n",
    "fig.update_traces(\n",
    "    text=win_prob_table.applymap(lambda x: \"\" if np.isnan(x) else f\"{x:,.1%}\"),\n",
    "    texttemplate=\"%{text}\"\n",
    ")\n",
    "fig.show()\n",
    "fig.write_html(\"figures/win_prob.html\")"
   ]
  },
  {
   "cell_type": "code",
   "execution_count": 9,
   "metadata": {},
   "outputs": [
    {
     "data": {
      "application/vnd.plotly.v1+json": {
       "config": {
        "plotlyServerURL": "https://plot.ly"
       },
       "data": [
        {
         "coloraxis": "coloraxis",
         "hovertemplate": "Player B: %{x}<br>Player A: %{y}<br>Key Upset: %{z}<extra></extra>",
         "name": "0",
         "text": [
          [
           "",
           "4.2%",
           "15.8%",
           "-22.6%",
           "-1.9%"
          ],
          [
           "-4.2%",
           "",
           "5.2%",
           "25.2%",
           "-18.9%"
          ],
          [
           "-15.8%",
           "-5.2%",
           "",
           "0.9%",
           "2.4%"
          ],
          [
           "22.6%",
           "-25.2%",
           "-0.9%",
           "",
           "31.2%"
          ],
          [
           "1.9%",
           "18.9%",
           "-2.4%",
           "-31.2%",
           ""
          ]
         ],
         "texttemplate": "%{text}",
         "type": "heatmap",
         "x": [
          "Paul Bartenfeld",
          "Roman Ramirez",
          "Aaron Carter",
          "Will Simpson",
          "Evan Sooklal"
         ],
         "xaxis": "x",
         "y": [
          "Paul Bartenfeld",
          "Roman Ramirez",
          "Aaron Carter",
          "Will Simpson",
          "Evan Sooklal"
         ],
         "yaxis": "y",
         "z": [
          [
           null,
           0.041699739615683795,
           0.15759103484822595,
           -0.22560602969747373,
           -0.01862392936479551
          ],
          [
           -0.04169973961568385,
           null,
           0.05172434678269819,
           0.2522719925366957,
           -0.18917863453917735
          ],
          [
           -0.1575910348482259,
           -0.051724346782698105,
           null,
           0.008979501851071992,
           0.02352806373817895
          ],
          [
           0.2256060296974738,
           -0.2522719925366957,
           -0.008979501851071992,
           null,
           0.3115895332855527
          ],
          [
           0.01862392936479551,
           0.1891786345391775,
           -0.02352806373817895,
           -0.3115895332855527,
           null
          ]
         ]
        }
       ],
       "layout": {
        "coloraxis": {
         "colorbar": {
          "title": {
           "text": "Key Upset"
          }
         },
         "colorscale": [
          [
           0,
           "#0d0887"
          ],
          [
           0.1111111111111111,
           "#46039f"
          ],
          [
           0.2222222222222222,
           "#7201a8"
          ],
          [
           0.3333333333333333,
           "#9c179e"
          ],
          [
           0.4444444444444444,
           "#bd3786"
          ],
          [
           0.5555555555555556,
           "#d8576b"
          ],
          [
           0.6666666666666666,
           "#ed7953"
          ],
          [
           0.7777777777777778,
           "#fb9f3a"
          ],
          [
           0.8888888888888888,
           "#fdca26"
          ],
          [
           1,
           "#f0f921"
          ]
         ]
        },
        "margin": {
         "t": 60
        },
        "template": {
         "data": {
          "bar": [
           {
            "error_x": {
             "color": "#2a3f5f"
            },
            "error_y": {
             "color": "#2a3f5f"
            },
            "marker": {
             "line": {
              "color": "#E5ECF6",
              "width": 0.5
             },
             "pattern": {
              "fillmode": "overlay",
              "size": 10,
              "solidity": 0.2
             }
            },
            "type": "bar"
           }
          ],
          "barpolar": [
           {
            "marker": {
             "line": {
              "color": "#E5ECF6",
              "width": 0.5
             },
             "pattern": {
              "fillmode": "overlay",
              "size": 10,
              "solidity": 0.2
             }
            },
            "type": "barpolar"
           }
          ],
          "carpet": [
           {
            "aaxis": {
             "endlinecolor": "#2a3f5f",
             "gridcolor": "white",
             "linecolor": "white",
             "minorgridcolor": "white",
             "startlinecolor": "#2a3f5f"
            },
            "baxis": {
             "endlinecolor": "#2a3f5f",
             "gridcolor": "white",
             "linecolor": "white",
             "minorgridcolor": "white",
             "startlinecolor": "#2a3f5f"
            },
            "type": "carpet"
           }
          ],
          "choropleth": [
           {
            "colorbar": {
             "outlinewidth": 0,
             "ticks": ""
            },
            "type": "choropleth"
           }
          ],
          "contour": [
           {
            "colorbar": {
             "outlinewidth": 0,
             "ticks": ""
            },
            "colorscale": [
             [
              0,
              "#0d0887"
             ],
             [
              0.1111111111111111,
              "#46039f"
             ],
             [
              0.2222222222222222,
              "#7201a8"
             ],
             [
              0.3333333333333333,
              "#9c179e"
             ],
             [
              0.4444444444444444,
              "#bd3786"
             ],
             [
              0.5555555555555556,
              "#d8576b"
             ],
             [
              0.6666666666666666,
              "#ed7953"
             ],
             [
              0.7777777777777778,
              "#fb9f3a"
             ],
             [
              0.8888888888888888,
              "#fdca26"
             ],
             [
              1,
              "#f0f921"
             ]
            ],
            "type": "contour"
           }
          ],
          "contourcarpet": [
           {
            "colorbar": {
             "outlinewidth": 0,
             "ticks": ""
            },
            "type": "contourcarpet"
           }
          ],
          "heatmap": [
           {
            "colorbar": {
             "outlinewidth": 0,
             "ticks": ""
            },
            "colorscale": [
             [
              0,
              "#0d0887"
             ],
             [
              0.1111111111111111,
              "#46039f"
             ],
             [
              0.2222222222222222,
              "#7201a8"
             ],
             [
              0.3333333333333333,
              "#9c179e"
             ],
             [
              0.4444444444444444,
              "#bd3786"
             ],
             [
              0.5555555555555556,
              "#d8576b"
             ],
             [
              0.6666666666666666,
              "#ed7953"
             ],
             [
              0.7777777777777778,
              "#fb9f3a"
             ],
             [
              0.8888888888888888,
              "#fdca26"
             ],
             [
              1,
              "#f0f921"
             ]
            ],
            "type": "heatmap"
           }
          ],
          "heatmapgl": [
           {
            "colorbar": {
             "outlinewidth": 0,
             "ticks": ""
            },
            "colorscale": [
             [
              0,
              "#0d0887"
             ],
             [
              0.1111111111111111,
              "#46039f"
             ],
             [
              0.2222222222222222,
              "#7201a8"
             ],
             [
              0.3333333333333333,
              "#9c179e"
             ],
             [
              0.4444444444444444,
              "#bd3786"
             ],
             [
              0.5555555555555556,
              "#d8576b"
             ],
             [
              0.6666666666666666,
              "#ed7953"
             ],
             [
              0.7777777777777778,
              "#fb9f3a"
             ],
             [
              0.8888888888888888,
              "#fdca26"
             ],
             [
              1,
              "#f0f921"
             ]
            ],
            "type": "heatmapgl"
           }
          ],
          "histogram": [
           {
            "marker": {
             "pattern": {
              "fillmode": "overlay",
              "size": 10,
              "solidity": 0.2
             }
            },
            "type": "histogram"
           }
          ],
          "histogram2d": [
           {
            "colorbar": {
             "outlinewidth": 0,
             "ticks": ""
            },
            "colorscale": [
             [
              0,
              "#0d0887"
             ],
             [
              0.1111111111111111,
              "#46039f"
             ],
             [
              0.2222222222222222,
              "#7201a8"
             ],
             [
              0.3333333333333333,
              "#9c179e"
             ],
             [
              0.4444444444444444,
              "#bd3786"
             ],
             [
              0.5555555555555556,
              "#d8576b"
             ],
             [
              0.6666666666666666,
              "#ed7953"
             ],
             [
              0.7777777777777778,
              "#fb9f3a"
             ],
             [
              0.8888888888888888,
              "#fdca26"
             ],
             [
              1,
              "#f0f921"
             ]
            ],
            "type": "histogram2d"
           }
          ],
          "histogram2dcontour": [
           {
            "colorbar": {
             "outlinewidth": 0,
             "ticks": ""
            },
            "colorscale": [
             [
              0,
              "#0d0887"
             ],
             [
              0.1111111111111111,
              "#46039f"
             ],
             [
              0.2222222222222222,
              "#7201a8"
             ],
             [
              0.3333333333333333,
              "#9c179e"
             ],
             [
              0.4444444444444444,
              "#bd3786"
             ],
             [
              0.5555555555555556,
              "#d8576b"
             ],
             [
              0.6666666666666666,
              "#ed7953"
             ],
             [
              0.7777777777777778,
              "#fb9f3a"
             ],
             [
              0.8888888888888888,
              "#fdca26"
             ],
             [
              1,
              "#f0f921"
             ]
            ],
            "type": "histogram2dcontour"
           }
          ],
          "mesh3d": [
           {
            "colorbar": {
             "outlinewidth": 0,
             "ticks": ""
            },
            "type": "mesh3d"
           }
          ],
          "parcoords": [
           {
            "line": {
             "colorbar": {
              "outlinewidth": 0,
              "ticks": ""
             }
            },
            "type": "parcoords"
           }
          ],
          "pie": [
           {
            "automargin": true,
            "type": "pie"
           }
          ],
          "scatter": [
           {
            "fillpattern": {
             "fillmode": "overlay",
             "size": 10,
             "solidity": 0.2
            },
            "type": "scatter"
           }
          ],
          "scatter3d": [
           {
            "line": {
             "colorbar": {
              "outlinewidth": 0,
              "ticks": ""
             }
            },
            "marker": {
             "colorbar": {
              "outlinewidth": 0,
              "ticks": ""
             }
            },
            "type": "scatter3d"
           }
          ],
          "scattercarpet": [
           {
            "marker": {
             "colorbar": {
              "outlinewidth": 0,
              "ticks": ""
             }
            },
            "type": "scattercarpet"
           }
          ],
          "scattergeo": [
           {
            "marker": {
             "colorbar": {
              "outlinewidth": 0,
              "ticks": ""
             }
            },
            "type": "scattergeo"
           }
          ],
          "scattergl": [
           {
            "marker": {
             "colorbar": {
              "outlinewidth": 0,
              "ticks": ""
             }
            },
            "type": "scattergl"
           }
          ],
          "scattermapbox": [
           {
            "marker": {
             "colorbar": {
              "outlinewidth": 0,
              "ticks": ""
             }
            },
            "type": "scattermapbox"
           }
          ],
          "scatterpolar": [
           {
            "marker": {
             "colorbar": {
              "outlinewidth": 0,
              "ticks": ""
             }
            },
            "type": "scatterpolar"
           }
          ],
          "scatterpolargl": [
           {
            "marker": {
             "colorbar": {
              "outlinewidth": 0,
              "ticks": ""
             }
            },
            "type": "scatterpolargl"
           }
          ],
          "scatterternary": [
           {
            "marker": {
             "colorbar": {
              "outlinewidth": 0,
              "ticks": ""
             }
            },
            "type": "scatterternary"
           }
          ],
          "surface": [
           {
            "colorbar": {
             "outlinewidth": 0,
             "ticks": ""
            },
            "colorscale": [
             [
              0,
              "#0d0887"
             ],
             [
              0.1111111111111111,
              "#46039f"
             ],
             [
              0.2222222222222222,
              "#7201a8"
             ],
             [
              0.3333333333333333,
              "#9c179e"
             ],
             [
              0.4444444444444444,
              "#bd3786"
             ],
             [
              0.5555555555555556,
              "#d8576b"
             ],
             [
              0.6666666666666666,
              "#ed7953"
             ],
             [
              0.7777777777777778,
              "#fb9f3a"
             ],
             [
              0.8888888888888888,
              "#fdca26"
             ],
             [
              1,
              "#f0f921"
             ]
            ],
            "type": "surface"
           }
          ],
          "table": [
           {
            "cells": {
             "fill": {
              "color": "#EBF0F8"
             },
             "line": {
              "color": "white"
             }
            },
            "header": {
             "fill": {
              "color": "#C8D4E3"
             },
             "line": {
              "color": "white"
             }
            },
            "type": "table"
           }
          ]
         },
         "layout": {
          "annotationdefaults": {
           "arrowcolor": "#2a3f5f",
           "arrowhead": 0,
           "arrowwidth": 1
          },
          "autotypenumbers": "strict",
          "coloraxis": {
           "colorbar": {
            "outlinewidth": 0,
            "ticks": ""
           }
          },
          "colorscale": {
           "diverging": [
            [
             0,
             "#8e0152"
            ],
            [
             0.1,
             "#c51b7d"
            ],
            [
             0.2,
             "#de77ae"
            ],
            [
             0.3,
             "#f1b6da"
            ],
            [
             0.4,
             "#fde0ef"
            ],
            [
             0.5,
             "#f7f7f7"
            ],
            [
             0.6,
             "#e6f5d0"
            ],
            [
             0.7,
             "#b8e186"
            ],
            [
             0.8,
             "#7fbc41"
            ],
            [
             0.9,
             "#4d9221"
            ],
            [
             1,
             "#276419"
            ]
           ],
           "sequential": [
            [
             0,
             "#0d0887"
            ],
            [
             0.1111111111111111,
             "#46039f"
            ],
            [
             0.2222222222222222,
             "#7201a8"
            ],
            [
             0.3333333333333333,
             "#9c179e"
            ],
            [
             0.4444444444444444,
             "#bd3786"
            ],
            [
             0.5555555555555556,
             "#d8576b"
            ],
            [
             0.6666666666666666,
             "#ed7953"
            ],
            [
             0.7777777777777778,
             "#fb9f3a"
            ],
            [
             0.8888888888888888,
             "#fdca26"
            ],
            [
             1,
             "#f0f921"
            ]
           ],
           "sequentialminus": [
            [
             0,
             "#0d0887"
            ],
            [
             0.1111111111111111,
             "#46039f"
            ],
            [
             0.2222222222222222,
             "#7201a8"
            ],
            [
             0.3333333333333333,
             "#9c179e"
            ],
            [
             0.4444444444444444,
             "#bd3786"
            ],
            [
             0.5555555555555556,
             "#d8576b"
            ],
            [
             0.6666666666666666,
             "#ed7953"
            ],
            [
             0.7777777777777778,
             "#fb9f3a"
            ],
            [
             0.8888888888888888,
             "#fdca26"
            ],
            [
             1,
             "#f0f921"
            ]
           ]
          },
          "colorway": [
           "#636efa",
           "#EF553B",
           "#00cc96",
           "#ab63fa",
           "#FFA15A",
           "#19d3f3",
           "#FF6692",
           "#B6E880",
           "#FF97FF",
           "#FECB52"
          ],
          "font": {
           "color": "#2a3f5f"
          },
          "geo": {
           "bgcolor": "white",
           "lakecolor": "white",
           "landcolor": "#E5ECF6",
           "showlakes": true,
           "showland": true,
           "subunitcolor": "white"
          },
          "hoverlabel": {
           "align": "left"
          },
          "hovermode": "closest",
          "mapbox": {
           "style": "light"
          },
          "paper_bgcolor": "white",
          "plot_bgcolor": "#E5ECF6",
          "polar": {
           "angularaxis": {
            "gridcolor": "white",
            "linecolor": "white",
            "ticks": ""
           },
           "bgcolor": "#E5ECF6",
           "radialaxis": {
            "gridcolor": "white",
            "linecolor": "white",
            "ticks": ""
           }
          },
          "scene": {
           "xaxis": {
            "backgroundcolor": "#E5ECF6",
            "gridcolor": "white",
            "gridwidth": 2,
            "linecolor": "white",
            "showbackground": true,
            "ticks": "",
            "zerolinecolor": "white"
           },
           "yaxis": {
            "backgroundcolor": "#E5ECF6",
            "gridcolor": "white",
            "gridwidth": 2,
            "linecolor": "white",
            "showbackground": true,
            "ticks": "",
            "zerolinecolor": "white"
           },
           "zaxis": {
            "backgroundcolor": "#E5ECF6",
            "gridcolor": "white",
            "gridwidth": 2,
            "linecolor": "white",
            "showbackground": true,
            "ticks": "",
            "zerolinecolor": "white"
           }
          },
          "shapedefaults": {
           "line": {
            "color": "#2a3f5f"
           }
          },
          "ternary": {
           "aaxis": {
            "gridcolor": "white",
            "linecolor": "white",
            "ticks": ""
           },
           "baxis": {
            "gridcolor": "white",
            "linecolor": "white",
            "ticks": ""
           },
           "bgcolor": "#E5ECF6",
           "caxis": {
            "gridcolor": "white",
            "linecolor": "white",
            "ticks": ""
           }
          },
          "title": {
           "x": 0.05
          },
          "xaxis": {
           "automargin": true,
           "gridcolor": "white",
           "linecolor": "white",
           "ticks": "",
           "title": {
            "standoff": 15
           },
           "zerolinecolor": "white",
           "zerolinewidth": 2
          },
          "yaxis": {
           "automargin": true,
           "gridcolor": "white",
           "linecolor": "white",
           "ticks": "",
           "title": {
            "standoff": 15
           },
           "zerolinecolor": "white",
           "zerolinewidth": 2
          }
         }
        },
        "title": {
         "text": "<b>Overrated/Underrated Table</b>: High percentage means you historically outperform your ELO matchup."
        },
        "xaxis": {
         "anchor": "y",
         "constrain": "domain",
         "domain": [
          0,
          1
         ],
         "scaleanchor": "y",
         "title": {
          "text": "Player B"
         }
        },
        "yaxis": {
         "anchor": "x",
         "autorange": "reversed",
         "constrain": "domain",
         "domain": [
          0,
          1
         ],
         "title": {
          "text": "Player A"
         }
        }
       }
      }
     },
     "metadata": {},
     "output_type": "display_data"
    }
   ],
   "source": [
    "# difference in win percentage and matchup predictor\n",
    "# positive number means overrated, negative number means underrated\n",
    "# understanding: Player A is overrated/underrated against Player B\n",
    "\n",
    "key_upset_table = win_pct_table - win_prob_table\n",
    "\n",
    "fig = px.imshow(\n",
    "    key_upset_table,\n",
    "    labels=dict(\n",
    "        x=\"Player B\",\n",
    "        y=\"Player A\",\n",
    "        color=\"Key Upset\"\n",
    "    )\n",
    ")\n",
    "fig.update_layout(\n",
    "    title=\"<b>Overrated/Underrated Table</b>: High percentage means you historically outperform your ELO matchup.\"\n",
    ")\n",
    "fig.update_traces(\n",
    "    text=key_upset_table.applymap(lambda x: \"\" if np.isnan(x) else f\"{x:,.1%}\"),\n",
    "    texttemplate=\"%{text}\"\n",
    ")\n",
    "fig.show()\n",
    "fig.write_html(\"figures/overrated_underrated.html\")"
   ]
  },
  {
   "cell_type": "code",
   "execution_count": 10,
   "metadata": {},
   "outputs": [
    {
     "data": {
      "application/vnd.plotly.v1+json": {
       "config": {
        "plotlyServerURL": "https://plot.ly"
       },
       "data": [
        {
         "coloraxis": "coloraxis",
         "hovertemplate": "K-value: %{x}<br>Base: %{y}<br>Number of Upsets: %{z}<extra></extra>",
         "name": "0",
         "type": "heatmap",
         "x": [
          1,
          2,
          3,
          4,
          5,
          6,
          7,
          8,
          9,
          10,
          11,
          12,
          13,
          14,
          15,
          16,
          17,
          18,
          19,
          20,
          21,
          22,
          23,
          24,
          25,
          26,
          27,
          28,
          29,
          30,
          31,
          32,
          33,
          34,
          35,
          36,
          37,
          38,
          39,
          40,
          41,
          42,
          43,
          44,
          45,
          46,
          47,
          48,
          49,
          50
         ],
         "xaxis": "x",
         "y": [
          2,
          3,
          4,
          5,
          6,
          7,
          8,
          9,
          10
         ],
         "yaxis": "y",
         "z": [
          [
           22,
           22,
           22,
           22,
           22,
           22,
           22,
           22,
           22,
           22,
           22,
           22,
           22,
           22,
           22,
           22,
           22,
           22,
           22,
           22,
           22,
           22,
           22,
           22,
           22,
           21,
           20,
           20,
           20,
           20,
           20,
           20,
           20,
           20,
           20,
           20,
           20,
           21,
           21,
           21,
           21,
           21,
           21,
           21,
           21,
           21,
           20,
           20,
           20,
           20
          ],
          [
           22,
           22,
           22,
           22,
           22,
           22,
           22,
           22,
           22,
           22,
           22,
           22,
           22,
           22,
           22,
           22,
           20,
           20,
           20,
           20,
           20,
           20,
           20,
           21,
           21,
           21,
           21,
           21,
           21,
           20,
           20,
           22,
           22,
           22,
           22,
           22,
           22,
           22,
           22,
           22,
           22,
           22,
           22,
           22,
           22,
           22,
           22,
           22,
           22,
           22
          ],
          [
           22,
           22,
           22,
           22,
           22,
           22,
           22,
           22,
           22,
           22,
           22,
           22,
           21,
           20,
           20,
           20,
           20,
           20,
           21,
           21,
           21,
           21,
           21,
           20,
           20,
           22,
           22,
           22,
           22,
           22,
           22,
           22,
           22,
           22,
           22,
           22,
           22,
           22,
           22,
           22,
           22,
           23,
           23,
           23,
           23,
           24,
           24,
           24,
           24,
           24
          ],
          [
           22,
           22,
           22,
           22,
           22,
           22,
           22,
           22,
           22,
           22,
           21,
           20,
           20,
           20,
           20,
           20,
           21,
           21,
           21,
           21,
           20,
           22,
           22,
           22,
           22,
           22,
           22,
           22,
           22,
           22,
           22,
           22,
           22,
           22,
           22,
           22,
           23,
           23,
           24,
           24,
           24,
           24,
           24,
           25,
           25,
           25,
           25,
           24,
           24,
           24
          ],
          [
           22,
           22,
           22,
           22,
           22,
           22,
           22,
           22,
           22,
           21,
           20,
           20,
           20,
           20,
           21,
           21,
           21,
           21,
           20,
           22,
           22,
           22,
           22,
           22,
           22,
           22,
           22,
           22,
           22,
           22,
           22,
           22,
           23,
           23,
           24,
           24,
           24,
           24,
           25,
           25,
           25,
           25,
           24,
           24,
           24,
           24,
           24,
           24,
           24,
           24
          ],
          [
           22,
           22,
           22,
           22,
           22,
           22,
           22,
           22,
           22,
           20,
           20,
           20,
           20,
           21,
           21,
           21,
           20,
           21,
           22,
           22,
           22,
           22,
           22,
           22,
           22,
           22,
           22,
           22,
           22,
           23,
           23,
           23,
           24,
           24,
           24,
           25,
           25,
           25,
           25,
           24,
           24,
           24,
           24,
           24,
           24,
           24,
           24,
           25,
           25,
           25
          ],
          [
           22,
           22,
           22,
           22,
           22,
           22,
           22,
           22,
           20,
           20,
           20,
           20,
           21,
           21,
           21,
           20,
           22,
           22,
           22,
           22,
           22,
           22,
           22,
           22,
           22,
           22,
           22,
           23,
           23,
           23,
           24,
           24,
           24,
           25,
           25,
           25,
           24,
           24,
           24,
           24,
           24,
           24,
           24,
           24,
           25,
           25,
           25,
           25,
           25,
           25
          ],
          [
           22,
           22,
           22,
           22,
           22,
           22,
           22,
           22,
           20,
           20,
           20,
           21,
           21,
           21,
           20,
           22,
           22,
           22,
           22,
           22,
           22,
           22,
           22,
           22,
           22,
           22,
           23,
           23,
           24,
           24,
           24,
           25,
           25,
           25,
           24,
           24,
           24,
           24,
           24,
           24,
           24,
           25,
           25,
           25,
           25,
           25,
           25,
           25,
           25,
           25
          ],
          [
           22,
           22,
           22,
           22,
           22,
           22,
           22,
           20,
           20,
           20,
           20,
           21,
           21,
           21,
           20,
           22,
           22,
           22,
           22,
           22,
           22,
           22,
           22,
           22,
           22,
           23,
           23,
           24,
           24,
           24,
           25,
           25,
           25,
           24,
           24,
           24,
           24,
           24,
           24,
           24,
           25,
           25,
           25,
           25,
           25,
           25,
           25,
           25,
           25,
           24
          ]
         ]
        }
       ],
       "layout": {
        "coloraxis": {
         "colorbar": {
          "title": {
           "text": "Number of Upsets"
          }
         },
         "colorscale": [
          [
           0,
           "#0d0887"
          ],
          [
           0.1111111111111111,
           "#46039f"
          ],
          [
           0.2222222222222222,
           "#7201a8"
          ],
          [
           0.3333333333333333,
           "#9c179e"
          ],
          [
           0.4444444444444444,
           "#bd3786"
          ],
          [
           0.5555555555555556,
           "#d8576b"
          ],
          [
           0.6666666666666666,
           "#ed7953"
          ],
          [
           0.7777777777777778,
           "#fb9f3a"
          ],
          [
           0.8888888888888888,
           "#fdca26"
          ],
          [
           1,
           "#f0f921"
          ]
         ]
        },
        "margin": {
         "t": 60
        },
        "template": {
         "data": {
          "bar": [
           {
            "error_x": {
             "color": "#2a3f5f"
            },
            "error_y": {
             "color": "#2a3f5f"
            },
            "marker": {
             "line": {
              "color": "#E5ECF6",
              "width": 0.5
             },
             "pattern": {
              "fillmode": "overlay",
              "size": 10,
              "solidity": 0.2
             }
            },
            "type": "bar"
           }
          ],
          "barpolar": [
           {
            "marker": {
             "line": {
              "color": "#E5ECF6",
              "width": 0.5
             },
             "pattern": {
              "fillmode": "overlay",
              "size": 10,
              "solidity": 0.2
             }
            },
            "type": "barpolar"
           }
          ],
          "carpet": [
           {
            "aaxis": {
             "endlinecolor": "#2a3f5f",
             "gridcolor": "white",
             "linecolor": "white",
             "minorgridcolor": "white",
             "startlinecolor": "#2a3f5f"
            },
            "baxis": {
             "endlinecolor": "#2a3f5f",
             "gridcolor": "white",
             "linecolor": "white",
             "minorgridcolor": "white",
             "startlinecolor": "#2a3f5f"
            },
            "type": "carpet"
           }
          ],
          "choropleth": [
           {
            "colorbar": {
             "outlinewidth": 0,
             "ticks": ""
            },
            "type": "choropleth"
           }
          ],
          "contour": [
           {
            "colorbar": {
             "outlinewidth": 0,
             "ticks": ""
            },
            "colorscale": [
             [
              0,
              "#0d0887"
             ],
             [
              0.1111111111111111,
              "#46039f"
             ],
             [
              0.2222222222222222,
              "#7201a8"
             ],
             [
              0.3333333333333333,
              "#9c179e"
             ],
             [
              0.4444444444444444,
              "#bd3786"
             ],
             [
              0.5555555555555556,
              "#d8576b"
             ],
             [
              0.6666666666666666,
              "#ed7953"
             ],
             [
              0.7777777777777778,
              "#fb9f3a"
             ],
             [
              0.8888888888888888,
              "#fdca26"
             ],
             [
              1,
              "#f0f921"
             ]
            ],
            "type": "contour"
           }
          ],
          "contourcarpet": [
           {
            "colorbar": {
             "outlinewidth": 0,
             "ticks": ""
            },
            "type": "contourcarpet"
           }
          ],
          "heatmap": [
           {
            "colorbar": {
             "outlinewidth": 0,
             "ticks": ""
            },
            "colorscale": [
             [
              0,
              "#0d0887"
             ],
             [
              0.1111111111111111,
              "#46039f"
             ],
             [
              0.2222222222222222,
              "#7201a8"
             ],
             [
              0.3333333333333333,
              "#9c179e"
             ],
             [
              0.4444444444444444,
              "#bd3786"
             ],
             [
              0.5555555555555556,
              "#d8576b"
             ],
             [
              0.6666666666666666,
              "#ed7953"
             ],
             [
              0.7777777777777778,
              "#fb9f3a"
             ],
             [
              0.8888888888888888,
              "#fdca26"
             ],
             [
              1,
              "#f0f921"
             ]
            ],
            "type": "heatmap"
           }
          ],
          "heatmapgl": [
           {
            "colorbar": {
             "outlinewidth": 0,
             "ticks": ""
            },
            "colorscale": [
             [
              0,
              "#0d0887"
             ],
             [
              0.1111111111111111,
              "#46039f"
             ],
             [
              0.2222222222222222,
              "#7201a8"
             ],
             [
              0.3333333333333333,
              "#9c179e"
             ],
             [
              0.4444444444444444,
              "#bd3786"
             ],
             [
              0.5555555555555556,
              "#d8576b"
             ],
             [
              0.6666666666666666,
              "#ed7953"
             ],
             [
              0.7777777777777778,
              "#fb9f3a"
             ],
             [
              0.8888888888888888,
              "#fdca26"
             ],
             [
              1,
              "#f0f921"
             ]
            ],
            "type": "heatmapgl"
           }
          ],
          "histogram": [
           {
            "marker": {
             "pattern": {
              "fillmode": "overlay",
              "size": 10,
              "solidity": 0.2
             }
            },
            "type": "histogram"
           }
          ],
          "histogram2d": [
           {
            "colorbar": {
             "outlinewidth": 0,
             "ticks": ""
            },
            "colorscale": [
             [
              0,
              "#0d0887"
             ],
             [
              0.1111111111111111,
              "#46039f"
             ],
             [
              0.2222222222222222,
              "#7201a8"
             ],
             [
              0.3333333333333333,
              "#9c179e"
             ],
             [
              0.4444444444444444,
              "#bd3786"
             ],
             [
              0.5555555555555556,
              "#d8576b"
             ],
             [
              0.6666666666666666,
              "#ed7953"
             ],
             [
              0.7777777777777778,
              "#fb9f3a"
             ],
             [
              0.8888888888888888,
              "#fdca26"
             ],
             [
              1,
              "#f0f921"
             ]
            ],
            "type": "histogram2d"
           }
          ],
          "histogram2dcontour": [
           {
            "colorbar": {
             "outlinewidth": 0,
             "ticks": ""
            },
            "colorscale": [
             [
              0,
              "#0d0887"
             ],
             [
              0.1111111111111111,
              "#46039f"
             ],
             [
              0.2222222222222222,
              "#7201a8"
             ],
             [
              0.3333333333333333,
              "#9c179e"
             ],
             [
              0.4444444444444444,
              "#bd3786"
             ],
             [
              0.5555555555555556,
              "#d8576b"
             ],
             [
              0.6666666666666666,
              "#ed7953"
             ],
             [
              0.7777777777777778,
              "#fb9f3a"
             ],
             [
              0.8888888888888888,
              "#fdca26"
             ],
             [
              1,
              "#f0f921"
             ]
            ],
            "type": "histogram2dcontour"
           }
          ],
          "mesh3d": [
           {
            "colorbar": {
             "outlinewidth": 0,
             "ticks": ""
            },
            "type": "mesh3d"
           }
          ],
          "parcoords": [
           {
            "line": {
             "colorbar": {
              "outlinewidth": 0,
              "ticks": ""
             }
            },
            "type": "parcoords"
           }
          ],
          "pie": [
           {
            "automargin": true,
            "type": "pie"
           }
          ],
          "scatter": [
           {
            "fillpattern": {
             "fillmode": "overlay",
             "size": 10,
             "solidity": 0.2
            },
            "type": "scatter"
           }
          ],
          "scatter3d": [
           {
            "line": {
             "colorbar": {
              "outlinewidth": 0,
              "ticks": ""
             }
            },
            "marker": {
             "colorbar": {
              "outlinewidth": 0,
              "ticks": ""
             }
            },
            "type": "scatter3d"
           }
          ],
          "scattercarpet": [
           {
            "marker": {
             "colorbar": {
              "outlinewidth": 0,
              "ticks": ""
             }
            },
            "type": "scattercarpet"
           }
          ],
          "scattergeo": [
           {
            "marker": {
             "colorbar": {
              "outlinewidth": 0,
              "ticks": ""
             }
            },
            "type": "scattergeo"
           }
          ],
          "scattergl": [
           {
            "marker": {
             "colorbar": {
              "outlinewidth": 0,
              "ticks": ""
             }
            },
            "type": "scattergl"
           }
          ],
          "scattermapbox": [
           {
            "marker": {
             "colorbar": {
              "outlinewidth": 0,
              "ticks": ""
             }
            },
            "type": "scattermapbox"
           }
          ],
          "scatterpolar": [
           {
            "marker": {
             "colorbar": {
              "outlinewidth": 0,
              "ticks": ""
             }
            },
            "type": "scatterpolar"
           }
          ],
          "scatterpolargl": [
           {
            "marker": {
             "colorbar": {
              "outlinewidth": 0,
              "ticks": ""
             }
            },
            "type": "scatterpolargl"
           }
          ],
          "scatterternary": [
           {
            "marker": {
             "colorbar": {
              "outlinewidth": 0,
              "ticks": ""
             }
            },
            "type": "scatterternary"
           }
          ],
          "surface": [
           {
            "colorbar": {
             "outlinewidth": 0,
             "ticks": ""
            },
            "colorscale": [
             [
              0,
              "#0d0887"
             ],
             [
              0.1111111111111111,
              "#46039f"
             ],
             [
              0.2222222222222222,
              "#7201a8"
             ],
             [
              0.3333333333333333,
              "#9c179e"
             ],
             [
              0.4444444444444444,
              "#bd3786"
             ],
             [
              0.5555555555555556,
              "#d8576b"
             ],
             [
              0.6666666666666666,
              "#ed7953"
             ],
             [
              0.7777777777777778,
              "#fb9f3a"
             ],
             [
              0.8888888888888888,
              "#fdca26"
             ],
             [
              1,
              "#f0f921"
             ]
            ],
            "type": "surface"
           }
          ],
          "table": [
           {
            "cells": {
             "fill": {
              "color": "#EBF0F8"
             },
             "line": {
              "color": "white"
             }
            },
            "header": {
             "fill": {
              "color": "#C8D4E3"
             },
             "line": {
              "color": "white"
             }
            },
            "type": "table"
           }
          ]
         },
         "layout": {
          "annotationdefaults": {
           "arrowcolor": "#2a3f5f",
           "arrowhead": 0,
           "arrowwidth": 1
          },
          "autotypenumbers": "strict",
          "coloraxis": {
           "colorbar": {
            "outlinewidth": 0,
            "ticks": ""
           }
          },
          "colorscale": {
           "diverging": [
            [
             0,
             "#8e0152"
            ],
            [
             0.1,
             "#c51b7d"
            ],
            [
             0.2,
             "#de77ae"
            ],
            [
             0.3,
             "#f1b6da"
            ],
            [
             0.4,
             "#fde0ef"
            ],
            [
             0.5,
             "#f7f7f7"
            ],
            [
             0.6,
             "#e6f5d0"
            ],
            [
             0.7,
             "#b8e186"
            ],
            [
             0.8,
             "#7fbc41"
            ],
            [
             0.9,
             "#4d9221"
            ],
            [
             1,
             "#276419"
            ]
           ],
           "sequential": [
            [
             0,
             "#0d0887"
            ],
            [
             0.1111111111111111,
             "#46039f"
            ],
            [
             0.2222222222222222,
             "#7201a8"
            ],
            [
             0.3333333333333333,
             "#9c179e"
            ],
            [
             0.4444444444444444,
             "#bd3786"
            ],
            [
             0.5555555555555556,
             "#d8576b"
            ],
            [
             0.6666666666666666,
             "#ed7953"
            ],
            [
             0.7777777777777778,
             "#fb9f3a"
            ],
            [
             0.8888888888888888,
             "#fdca26"
            ],
            [
             1,
             "#f0f921"
            ]
           ],
           "sequentialminus": [
            [
             0,
             "#0d0887"
            ],
            [
             0.1111111111111111,
             "#46039f"
            ],
            [
             0.2222222222222222,
             "#7201a8"
            ],
            [
             0.3333333333333333,
             "#9c179e"
            ],
            [
             0.4444444444444444,
             "#bd3786"
            ],
            [
             0.5555555555555556,
             "#d8576b"
            ],
            [
             0.6666666666666666,
             "#ed7953"
            ],
            [
             0.7777777777777778,
             "#fb9f3a"
            ],
            [
             0.8888888888888888,
             "#fdca26"
            ],
            [
             1,
             "#f0f921"
            ]
           ]
          },
          "colorway": [
           "#636efa",
           "#EF553B",
           "#00cc96",
           "#ab63fa",
           "#FFA15A",
           "#19d3f3",
           "#FF6692",
           "#B6E880",
           "#FF97FF",
           "#FECB52"
          ],
          "font": {
           "color": "#2a3f5f"
          },
          "geo": {
           "bgcolor": "white",
           "lakecolor": "white",
           "landcolor": "#E5ECF6",
           "showlakes": true,
           "showland": true,
           "subunitcolor": "white"
          },
          "hoverlabel": {
           "align": "left"
          },
          "hovermode": "closest",
          "mapbox": {
           "style": "light"
          },
          "paper_bgcolor": "white",
          "plot_bgcolor": "#E5ECF6",
          "polar": {
           "angularaxis": {
            "gridcolor": "white",
            "linecolor": "white",
            "ticks": ""
           },
           "bgcolor": "#E5ECF6",
           "radialaxis": {
            "gridcolor": "white",
            "linecolor": "white",
            "ticks": ""
           }
          },
          "scene": {
           "xaxis": {
            "backgroundcolor": "#E5ECF6",
            "gridcolor": "white",
            "gridwidth": 2,
            "linecolor": "white",
            "showbackground": true,
            "ticks": "",
            "zerolinecolor": "white"
           },
           "yaxis": {
            "backgroundcolor": "#E5ECF6",
            "gridcolor": "white",
            "gridwidth": 2,
            "linecolor": "white",
            "showbackground": true,
            "ticks": "",
            "zerolinecolor": "white"
           },
           "zaxis": {
            "backgroundcolor": "#E5ECF6",
            "gridcolor": "white",
            "gridwidth": 2,
            "linecolor": "white",
            "showbackground": true,
            "ticks": "",
            "zerolinecolor": "white"
           }
          },
          "shapedefaults": {
           "line": {
            "color": "#2a3f5f"
           }
          },
          "ternary": {
           "aaxis": {
            "gridcolor": "white",
            "linecolor": "white",
            "ticks": ""
           },
           "baxis": {
            "gridcolor": "white",
            "linecolor": "white",
            "ticks": ""
           },
           "bgcolor": "#E5ECF6",
           "caxis": {
            "gridcolor": "white",
            "linecolor": "white",
            "ticks": ""
           }
          },
          "title": {
           "x": 0.05
          },
          "xaxis": {
           "automargin": true,
           "gridcolor": "white",
           "linecolor": "white",
           "ticks": "",
           "title": {
            "standoff": 15
           },
           "zerolinecolor": "white",
           "zerolinewidth": 2
          },
          "yaxis": {
           "automargin": true,
           "gridcolor": "white",
           "linecolor": "white",
           "ticks": "",
           "title": {
            "standoff": 15
           },
           "zerolinecolor": "white",
           "zerolinewidth": 2
          }
         }
        },
        "title": {
         "text": "<b>Total Number of Upsets against K-Value and Base</b>"
        },
        "xaxis": {
         "anchor": "y",
         "constrain": "domain",
         "domain": [
          0,
          1
         ],
         "scaleanchor": "y",
         "title": {
          "text": "K-value"
         }
        },
        "yaxis": {
         "anchor": "x",
         "autorange": "reversed",
         "constrain": "domain",
         "domain": [
          0,
          1
         ],
         "title": {
          "text": "Base"
         }
        }
       }
      }
     },
     "metadata": {},
     "output_type": "display_data"
    }
   ],
   "source": [
    "# system optimization\n",
    "\n",
    "def optimization1():\n",
    "    index = [_ for _ in np.arange(1, 51, 1.0)]\n",
    "    columns = [_ for _ in np.arange(2, 11, 1.0)]\n",
    "\n",
    "    opt_table = pd.DataFrame(np.zeros([len(index), len(columns)]))\n",
    "    opt_table.index = index\n",
    "    opt_table.columns = columns\n",
    "\n",
    "    for base in opt_table.columns:\n",
    "        for K in opt_table.index:\n",
    "            (elo, elo_time_table, prev_elo_time_table, d_elo_time_table, exp_elo_time_table, record_table) = generate_elo(K=K,base=base)\n",
    "            num_upsets = 0\n",
    "            for i in elo_time_table.index:\n",
    "                prev_elo_slice = prev_elo_time_table.loc[i,:].dropna().values\n",
    "                elo_slice = elo_time_table.loc[i,:].dropna().values\n",
    "                combo_elo = np.array([prev_elo_slice, elo_slice])\n",
    "                is_upset = ((combo_elo[1, 0] - combo_elo[0, 0]) * (combo_elo[0, 1] - combo_elo[0, 0])) > 0\n",
    "                if is_upset:\n",
    "                    num_upsets += 1\n",
    "            opt_table.loc[K,base] = num_upsets\n",
    "\n",
    "    fig = px.imshow(opt_table.T,labels=dict(y=\"Base\", x=\"K-value\", color=\"Number of Upsets\"))#, text_auto=True, aspect=\"auto\")\n",
    "    fig.update_layout(\n",
    "        title=\"<b>Total Number of Upsets against K-Value and Base</b>\"\n",
    "    )\n",
    "    fig.show()\n",
    "    return opt_table\n",
    "opt1 = optimization1()\n",
    "fig.write_html(\"figures/opt1.html\")"
   ]
  },
  {
   "cell_type": "code",
   "execution_count": 11,
   "metadata": {},
   "outputs": [
    {
     "data": {
      "application/vnd.plotly.v1+json": {
       "config": {
        "plotlyServerURL": "https://plot.ly"
       },
       "data": [
        {
         "coloraxis": "coloraxis",
         "hovertemplate": "K-value: %{x}<br>Base: %{y}<br>Total Correctness: %{z}<extra></extra>",
         "name": "0",
         "type": "heatmap",
         "x": [
          1,
          2,
          3,
          4,
          5,
          6,
          7,
          8,
          9,
          10,
          11,
          12,
          13,
          14,
          15,
          16,
          17,
          18,
          19,
          20,
          21,
          22,
          23,
          24,
          25,
          26,
          27,
          28,
          29,
          30,
          31,
          32,
          33,
          34,
          35,
          36,
          37,
          38,
          39,
          40,
          41,
          42,
          43,
          44,
          45,
          46,
          47,
          48,
          49,
          50
         ],
         "xaxis": "x",
         "y": [
          2,
          3,
          4,
          5,
          6,
          7,
          8,
          9,
          10
         ],
         "yaxis": "y",
         "z": [
          [
           0.15716871489721113,
           0.309849644932637,
           0.4580973810823967,
           0.6019897125408942,
           0.7416224557586473,
           0.8771049831951775,
           1.0085564147987376,
           1.1361024201229406,
           1.2598725708400793,
           1.379998180418148,
           1.4966105683783906,
           1.609839689621942,
           1.7198130738639787,
           1.8266550255419916,
           1.9304860401712993,
           2.0314223986634716,
           2.129575906383888,
           2.2250537485725683,
           2.3179584381253706,
           2.408387835606483,
           2.4964352247529633,
           2.5821894296597114,
           2.6657349623409123,
           2.7471521914931767,
           2.826517525078267,
           2.903903600846422,
           2.97937948016886,
           3.0530108415818455,
           3.1248601712923545,
           3.1949869485895435,
           3.263447824668346,
           3.3302967938250756,
           3.395585356347638,
           3.459362672710625,
           3.521675708910876,
           3.5825693729539214,
           3.642086642634531,
           3.700268684854564,
           3.7571549667926414,
           3.8127833592909237,
           3.8671902328565513,
           3.9204105466940327,
           3.9724779311933154,
           4.023424764297236,
           4.073282242165341,
           4.1220804445397174,
           4.169848395203026,
           4.2166141179010115,
           4.262404688083741,
           4.307246280798279
          ],
          [
           0.24702319516764404,
           0.4828530171127277,
           0.7077850778514496,
           0.9222247569454103,
           1.1266454608684322,
           1.3215567220890008,
           1.5074806747036653,
           1.6849353513586338,
           1.8544233432801573,
           2.0164245531603067,
           2.1713919874766363,
           2.3197497454379614,
           2.4618925489006442,
           2.5981863149894857,
           2.728969400619381,
           2.8545542485031503,
           2.9752292416027295,
           3.0912606315388214,
           3.2028944500929866,
           3.310358344932065,
           3.413863303793361,
           3.5136052477707422,
           3.609766485745034,
           3.702517029724233,
           3.792015775897407,
           3.87841155931638,
           3.9618440918621065,
           4.042444793941133,
           4.120337530498673,
           4.195639261647792,
           4.268460617657736,
           4.338906407332929,
           4.407076068024002,
           4.473064064700077,
           4.536960244712835,
           4.598850154119142,
           4.658815320717579,
           4.716933508299747,
           4.7732789460233365,
           4.827922536282643,
           4.880932043978147,
           4.932372269669319,
           4.982305208729241,
           5.030790198299946,
           5.0778840535728005,
           5.123641194679114,
           5.168113765274878,
           5.211351743728192,
           5.253403047673425,
           5.2943136325716065
          ],
          [
           0.3098496449326739,
           0.601989712540894,
           0.8771049831951818,
           1.136102420122902,
           1.3799981804181827,
           1.6098396896219624,
           1.8266550255419876,
           2.031422398663461,
           2.2250537485725848,
           2.408387835606469,
           2.5821894296596994,
           2.7471521914931367,
           2.9039036008463768,
           3.0530108415818566,
           3.194986948589526,
           3.330296793825059,
           3.4593626727106237,
           3.5825693729539374,
           3.700268684854569,
           3.8127833592909637,
           3.9204105466940407,
           4.023424764297227,
           4.122080444539731,
           4.216614117901021,
           4.3072462807982905,
           4.394182994896927,
           4.477617259170461,
           4.55773019086989,
           4.634692046561449,
           4.708663109755809,
           4.779794467478165,
           4.848228694443692,
           4.91410046030518,
           4.977537072700475,
           5.038658966505631,
           5.09758014775279,
           5.15440859905559,
           5.209246652051138,
           5.26219133128159,
           5.313334673057988,
           5.362764022143292,
           5.410562308532737,
           5.456808306168846,
           5.501576875086148,
           5.544939188219494,
           5.586962943908543,
           5.627712564984538,
           5.6672493852134425,
           5.7056318237911405,
           5.742915548529015
          ],
          [
           0.35805529345548426,
           0.6923748636296019,
           1.0041239668951814,
           1.2948018521586082,
           1.566033990620634,
           1.8194409948839967,
           2.0565629754099444,
           2.278821348779618,
           2.4875044933733994,
           2.6837676707509237,
           2.868640810115056,
           3.043040066218919,
           3.2077806556690973,
           3.3635895327913516,
           3.5111171423282794,
           3.650947904474227,
           3.7836093362391865,
           3.909579852712474,
           4.029295363268076,
           4.143154807854347,
           4.2515247844462865,
           4.354743411347441,
           4.4531235540247005,
           4.546955529557117,
           4.63650938491984,
           4.722036829469008,
           4.803772887761799,
           4.881937326463189,
           4.9567358985662695,
           5.028361439359004,
           5.096994841338613,
           5.1628059294023885,
           5.225954252934039,
           5.2865898076717945,
           5.344853697323208,
           5.400878742629952,
           5.454790043861714,
           5.506705501418534,
           5.556736298259496,
           5.604987347173335,
           5.651557705404718,
           5.696540958796221,
           5.740025577364827,
           5.7820952440650855,
           5.822829158381966,
           5.862302316321132,
           5.900585768310505,
           5.9377468564862745,
           5.9738494327986515,
           6.008954059335998
          ],
          [
           0.3971026332745655,
           0.7649338469440776,
           1.1051936471772934,
           1.4200164492906722,
           1.711654848739387,
           1.9822954287417147,
           2.2339640810026222,
           2.468487435722258,
           2.687486948246063,
           2.892390348314228,
           3.084451042623256,
           3.2647699992936414,
           3.434317144073855,
           3.593950819973584,
           3.7444347489208085,
           3.886452424173814,
           4.020619112174443,
           4.14749175182148,
           4.267577069362246,
           4.38133821548024,
           4.489200199656748,
           4.591554358025989,
           4.688762051588006,
           4.781157755240745,
           4.8690516661616865,
           4.952731933015083,
           5.032466585114309,
           5.1085052225770085,
           5.181080514110237,
           5.250409537777507,
           5.31669499138234,
           5.3801262924732445,
           5.44088058300639,
           5.499123650042115,
           5.555010771200965,
           5.608687491725468,
           5.660290338688165,
           5.7099474769993,
           5.757779311281911,
           5.803899037299861,
           5.848413146380092,
           5.891421886109391,
           5.933019680472094,
           5.9732955125044915,
           6.012333272452965,
           6.050212074331659,
           6.08700654367048,
           6.122787079127488,
           6.157620090509055,
           6.1915682155995135
          ],
          [
           0.42987957525595805,
           0.8253889541292656,
           1.1887943816213258,
           1.522881950622771,
           1.8305259729120162,
           2.11445536072035,
           2.3771468702847582,
           2.620792676402326,
           2.8473076571153553,
           3.0583552749858054,
           3.2553800051334365,
           3.43963992045342,
           3.612236394006561,
           3.7741397636122165,
           3.9262108028754046,
           4.069218326454802,
           4.203853452280211,
           4.330741084482284,
           4.4504491458609765,
           4.563496021402019,
           4.670356598105655,
           4.771467213076008,
           4.867229756763885,
           4.958015123253287,
           5.044166154480008,
           5.12600018936128,
           5.203811300738196,
           5.2778722814821535,
           5.34843642485872,
           5.4157391321941635,
           5.479999372122954,
           5.541421009442173,
           5.600194017234239,
           5.6564955829482395,
           5.71049111715919,
           5.7623351724508485,
           5.81217227907035,
           5.860137703504389,
           5.906358135814553,
           5.950952311352247,
           5.994031572297623,
           6.0357003742961055,
           6.0760567432800165,
           6.115192687348542,
           6.153194568340827,
           6.190143437469243,
           6.2261153390933295,
           6.261181586413009,
           6.295409012550419,
           6.328860200178098
          ],
          [
           0.45809738108240755,
           0.8771049831951466,
           1.2598725708400411,
           1.609839689621903,
           1.9304860401713493,
           2.2250537485725914,
           2.496435224752937,
           2.7471521914931882,
           2.979379480168868,
           3.1949869485895714,
           3.395585356347643,
           3.582569372953963,
           3.757154966792638,
           3.9204105466940566,
           4.0732822421653045,
           4.216614117901001,
           4.351164215046065,
           4.477617259170474,
           4.596594761347221,
           4.708663109755822,
           4.814340126826984,
           4.914100460305161,
           5.008380088298083,
           5.097580147752783,
           5.182070240774078,
           5.262191331281587,
           5.338258313207274,
           5.41056230853274,
           5.479372737050382,
           5.544939188219475,
           5.607493117614429,
           5.667249385213422,
           5.724407649387914,
           5.779153628326958,
           5.83166023933835,
           5.882088625690093,
           5.930589080171378,
           5.977301874212586,
           6.022358001110115,
           6.065879841602591,
           6.1079817597018815,
           6.148770636293777,
           6.188346347583853,
           6.226802194983631,
           6.2642252925239355,
           6.300696917357691,
           6.3362928283846145,
           6.371083557510425,
           6.405134677546911,
           6.438507050279237
          ],
          [
           0.48285301711274425,
           0.922224756945409,
           1.3215567220890327,
           1.684935351358633,
           2.0164245531603546,
           2.3197497454379823,
           2.5981863149894857,
           2.8545542485031,
           3.0912606315387756,
           3.310358344932075,
           3.513605247770709,
           3.7025170297242482,
           3.878411559316369,
           4.042444793941156,
           4.1956392616478135,
           4.338906407332942,
           4.473064064700115,
           4.598850154119159,
           4.716933508299758,
           4.827922536282642,
           4.9323722696693295,
           5.030790198299961,
           5.123641194679114,
           5.211351743728205,
           5.294313632571613,
           5.372887209817673,
           5.447404291439383,
           5.518170767758652,
           5.58546895064519,
           5.649559689851787,
           5.710684280872638,
           5.769066182659449,
           5.824912561103663,
           5.878415672770373,
           5.9297541025205085,
           5.9790938680955135,
           6.026589404276435,
           6.072384438761506,
           6.116612771379854,
           6.159398967646656,
           6.200858976979006,
           6.241100685137772,
           6.280224409663907,
           6.318323346260326,
           6.355483973250256,
           6.391786420442416,
           6.42730480796406,
           6.4621075598974125,
           6.4962576968802015,
           6.529813111212851
          ],
          [
           0.5048914474861677,
           0.962195189412566,
           1.3759467895027244,
           1.7508683189142487,
           2.0915849330734115,
           2.4022765815643736,
           2.686572246620729,
           2.9475633433931727,
           3.18786629578306,
           3.4096982001159115,
           3.614948871744885,
           3.805242847195566,
           3.9819899725133396,
           4.146425450997803,
           4.2996410275284696,
           4.442609102782415,
           4.576201391576955,
           4.701203461891638,
           4.818326207173651,
           4.92821505299559,
           5.0314574921693955,
           5.1285893798135325,
           5.220100296338119,
           5.306438194992502,
           5.388013484779362,
           5.465202653217322,
           5.538351501676819,
           5.607778044843349,
           5.673775112189987,
           5.736612680812027,
           5.796539963856749,
           5.853787275812758,
           5.9085676942221,
           5.961078536359575,
           6.011502668691865,
           6.060009666266827,
           6.106756838453536,
           6.151890136613103,
           6.195544958313894,
           6.237846861634897,
           6.2789122019521795,
           6.3188487024207385,
           6.357755968169624,
           6.39572595306131,
           6.432843386746363,
           6.469186168689772,
           6.50482573487032,
           6.539827401962551,
           6.574250693009191,
           6.608149647876979
          ]
         ]
        }
       ],
       "layout": {
        "coloraxis": {
         "colorbar": {
          "title": {
           "text": "Total Correctness"
          }
         },
         "colorscale": [
          [
           0,
           "#0d0887"
          ],
          [
           0.1111111111111111,
           "#46039f"
          ],
          [
           0.2222222222222222,
           "#7201a8"
          ],
          [
           0.3333333333333333,
           "#9c179e"
          ],
          [
           0.4444444444444444,
           "#bd3786"
          ],
          [
           0.5555555555555556,
           "#d8576b"
          ],
          [
           0.6666666666666666,
           "#ed7953"
          ],
          [
           0.7777777777777778,
           "#fb9f3a"
          ],
          [
           0.8888888888888888,
           "#fdca26"
          ],
          [
           1,
           "#f0f921"
          ]
         ]
        },
        "margin": {
         "t": 60
        },
        "template": {
         "data": {
          "bar": [
           {
            "error_x": {
             "color": "#2a3f5f"
            },
            "error_y": {
             "color": "#2a3f5f"
            },
            "marker": {
             "line": {
              "color": "#E5ECF6",
              "width": 0.5
             },
             "pattern": {
              "fillmode": "overlay",
              "size": 10,
              "solidity": 0.2
             }
            },
            "type": "bar"
           }
          ],
          "barpolar": [
           {
            "marker": {
             "line": {
              "color": "#E5ECF6",
              "width": 0.5
             },
             "pattern": {
              "fillmode": "overlay",
              "size": 10,
              "solidity": 0.2
             }
            },
            "type": "barpolar"
           }
          ],
          "carpet": [
           {
            "aaxis": {
             "endlinecolor": "#2a3f5f",
             "gridcolor": "white",
             "linecolor": "white",
             "minorgridcolor": "white",
             "startlinecolor": "#2a3f5f"
            },
            "baxis": {
             "endlinecolor": "#2a3f5f",
             "gridcolor": "white",
             "linecolor": "white",
             "minorgridcolor": "white",
             "startlinecolor": "#2a3f5f"
            },
            "type": "carpet"
           }
          ],
          "choropleth": [
           {
            "colorbar": {
             "outlinewidth": 0,
             "ticks": ""
            },
            "type": "choropleth"
           }
          ],
          "contour": [
           {
            "colorbar": {
             "outlinewidth": 0,
             "ticks": ""
            },
            "colorscale": [
             [
              0,
              "#0d0887"
             ],
             [
              0.1111111111111111,
              "#46039f"
             ],
             [
              0.2222222222222222,
              "#7201a8"
             ],
             [
              0.3333333333333333,
              "#9c179e"
             ],
             [
              0.4444444444444444,
              "#bd3786"
             ],
             [
              0.5555555555555556,
              "#d8576b"
             ],
             [
              0.6666666666666666,
              "#ed7953"
             ],
             [
              0.7777777777777778,
              "#fb9f3a"
             ],
             [
              0.8888888888888888,
              "#fdca26"
             ],
             [
              1,
              "#f0f921"
             ]
            ],
            "type": "contour"
           }
          ],
          "contourcarpet": [
           {
            "colorbar": {
             "outlinewidth": 0,
             "ticks": ""
            },
            "type": "contourcarpet"
           }
          ],
          "heatmap": [
           {
            "colorbar": {
             "outlinewidth": 0,
             "ticks": ""
            },
            "colorscale": [
             [
              0,
              "#0d0887"
             ],
             [
              0.1111111111111111,
              "#46039f"
             ],
             [
              0.2222222222222222,
              "#7201a8"
             ],
             [
              0.3333333333333333,
              "#9c179e"
             ],
             [
              0.4444444444444444,
              "#bd3786"
             ],
             [
              0.5555555555555556,
              "#d8576b"
             ],
             [
              0.6666666666666666,
              "#ed7953"
             ],
             [
              0.7777777777777778,
              "#fb9f3a"
             ],
             [
              0.8888888888888888,
              "#fdca26"
             ],
             [
              1,
              "#f0f921"
             ]
            ],
            "type": "heatmap"
           }
          ],
          "heatmapgl": [
           {
            "colorbar": {
             "outlinewidth": 0,
             "ticks": ""
            },
            "colorscale": [
             [
              0,
              "#0d0887"
             ],
             [
              0.1111111111111111,
              "#46039f"
             ],
             [
              0.2222222222222222,
              "#7201a8"
             ],
             [
              0.3333333333333333,
              "#9c179e"
             ],
             [
              0.4444444444444444,
              "#bd3786"
             ],
             [
              0.5555555555555556,
              "#d8576b"
             ],
             [
              0.6666666666666666,
              "#ed7953"
             ],
             [
              0.7777777777777778,
              "#fb9f3a"
             ],
             [
              0.8888888888888888,
              "#fdca26"
             ],
             [
              1,
              "#f0f921"
             ]
            ],
            "type": "heatmapgl"
           }
          ],
          "histogram": [
           {
            "marker": {
             "pattern": {
              "fillmode": "overlay",
              "size": 10,
              "solidity": 0.2
             }
            },
            "type": "histogram"
           }
          ],
          "histogram2d": [
           {
            "colorbar": {
             "outlinewidth": 0,
             "ticks": ""
            },
            "colorscale": [
             [
              0,
              "#0d0887"
             ],
             [
              0.1111111111111111,
              "#46039f"
             ],
             [
              0.2222222222222222,
              "#7201a8"
             ],
             [
              0.3333333333333333,
              "#9c179e"
             ],
             [
              0.4444444444444444,
              "#bd3786"
             ],
             [
              0.5555555555555556,
              "#d8576b"
             ],
             [
              0.6666666666666666,
              "#ed7953"
             ],
             [
              0.7777777777777778,
              "#fb9f3a"
             ],
             [
              0.8888888888888888,
              "#fdca26"
             ],
             [
              1,
              "#f0f921"
             ]
            ],
            "type": "histogram2d"
           }
          ],
          "histogram2dcontour": [
           {
            "colorbar": {
             "outlinewidth": 0,
             "ticks": ""
            },
            "colorscale": [
             [
              0,
              "#0d0887"
             ],
             [
              0.1111111111111111,
              "#46039f"
             ],
             [
              0.2222222222222222,
              "#7201a8"
             ],
             [
              0.3333333333333333,
              "#9c179e"
             ],
             [
              0.4444444444444444,
              "#bd3786"
             ],
             [
              0.5555555555555556,
              "#d8576b"
             ],
             [
              0.6666666666666666,
              "#ed7953"
             ],
             [
              0.7777777777777778,
              "#fb9f3a"
             ],
             [
              0.8888888888888888,
              "#fdca26"
             ],
             [
              1,
              "#f0f921"
             ]
            ],
            "type": "histogram2dcontour"
           }
          ],
          "mesh3d": [
           {
            "colorbar": {
             "outlinewidth": 0,
             "ticks": ""
            },
            "type": "mesh3d"
           }
          ],
          "parcoords": [
           {
            "line": {
             "colorbar": {
              "outlinewidth": 0,
              "ticks": ""
             }
            },
            "type": "parcoords"
           }
          ],
          "pie": [
           {
            "automargin": true,
            "type": "pie"
           }
          ],
          "scatter": [
           {
            "fillpattern": {
             "fillmode": "overlay",
             "size": 10,
             "solidity": 0.2
            },
            "type": "scatter"
           }
          ],
          "scatter3d": [
           {
            "line": {
             "colorbar": {
              "outlinewidth": 0,
              "ticks": ""
             }
            },
            "marker": {
             "colorbar": {
              "outlinewidth": 0,
              "ticks": ""
             }
            },
            "type": "scatter3d"
           }
          ],
          "scattercarpet": [
           {
            "marker": {
             "colorbar": {
              "outlinewidth": 0,
              "ticks": ""
             }
            },
            "type": "scattercarpet"
           }
          ],
          "scattergeo": [
           {
            "marker": {
             "colorbar": {
              "outlinewidth": 0,
              "ticks": ""
             }
            },
            "type": "scattergeo"
           }
          ],
          "scattergl": [
           {
            "marker": {
             "colorbar": {
              "outlinewidth": 0,
              "ticks": ""
             }
            },
            "type": "scattergl"
           }
          ],
          "scattermapbox": [
           {
            "marker": {
             "colorbar": {
              "outlinewidth": 0,
              "ticks": ""
             }
            },
            "type": "scattermapbox"
           }
          ],
          "scatterpolar": [
           {
            "marker": {
             "colorbar": {
              "outlinewidth": 0,
              "ticks": ""
             }
            },
            "type": "scatterpolar"
           }
          ],
          "scatterpolargl": [
           {
            "marker": {
             "colorbar": {
              "outlinewidth": 0,
              "ticks": ""
             }
            },
            "type": "scatterpolargl"
           }
          ],
          "scatterternary": [
           {
            "marker": {
             "colorbar": {
              "outlinewidth": 0,
              "ticks": ""
             }
            },
            "type": "scatterternary"
           }
          ],
          "surface": [
           {
            "colorbar": {
             "outlinewidth": 0,
             "ticks": ""
            },
            "colorscale": [
             [
              0,
              "#0d0887"
             ],
             [
              0.1111111111111111,
              "#46039f"
             ],
             [
              0.2222222222222222,
              "#7201a8"
             ],
             [
              0.3333333333333333,
              "#9c179e"
             ],
             [
              0.4444444444444444,
              "#bd3786"
             ],
             [
              0.5555555555555556,
              "#d8576b"
             ],
             [
              0.6666666666666666,
              "#ed7953"
             ],
             [
              0.7777777777777778,
              "#fb9f3a"
             ],
             [
              0.8888888888888888,
              "#fdca26"
             ],
             [
              1,
              "#f0f921"
             ]
            ],
            "type": "surface"
           }
          ],
          "table": [
           {
            "cells": {
             "fill": {
              "color": "#EBF0F8"
             },
             "line": {
              "color": "white"
             }
            },
            "header": {
             "fill": {
              "color": "#C8D4E3"
             },
             "line": {
              "color": "white"
             }
            },
            "type": "table"
           }
          ]
         },
         "layout": {
          "annotationdefaults": {
           "arrowcolor": "#2a3f5f",
           "arrowhead": 0,
           "arrowwidth": 1
          },
          "autotypenumbers": "strict",
          "coloraxis": {
           "colorbar": {
            "outlinewidth": 0,
            "ticks": ""
           }
          },
          "colorscale": {
           "diverging": [
            [
             0,
             "#8e0152"
            ],
            [
             0.1,
             "#c51b7d"
            ],
            [
             0.2,
             "#de77ae"
            ],
            [
             0.3,
             "#f1b6da"
            ],
            [
             0.4,
             "#fde0ef"
            ],
            [
             0.5,
             "#f7f7f7"
            ],
            [
             0.6,
             "#e6f5d0"
            ],
            [
             0.7,
             "#b8e186"
            ],
            [
             0.8,
             "#7fbc41"
            ],
            [
             0.9,
             "#4d9221"
            ],
            [
             1,
             "#276419"
            ]
           ],
           "sequential": [
            [
             0,
             "#0d0887"
            ],
            [
             0.1111111111111111,
             "#46039f"
            ],
            [
             0.2222222222222222,
             "#7201a8"
            ],
            [
             0.3333333333333333,
             "#9c179e"
            ],
            [
             0.4444444444444444,
             "#bd3786"
            ],
            [
             0.5555555555555556,
             "#d8576b"
            ],
            [
             0.6666666666666666,
             "#ed7953"
            ],
            [
             0.7777777777777778,
             "#fb9f3a"
            ],
            [
             0.8888888888888888,
             "#fdca26"
            ],
            [
             1,
             "#f0f921"
            ]
           ],
           "sequentialminus": [
            [
             0,
             "#0d0887"
            ],
            [
             0.1111111111111111,
             "#46039f"
            ],
            [
             0.2222222222222222,
             "#7201a8"
            ],
            [
             0.3333333333333333,
             "#9c179e"
            ],
            [
             0.4444444444444444,
             "#bd3786"
            ],
            [
             0.5555555555555556,
             "#d8576b"
            ],
            [
             0.6666666666666666,
             "#ed7953"
            ],
            [
             0.7777777777777778,
             "#fb9f3a"
            ],
            [
             0.8888888888888888,
             "#fdca26"
            ],
            [
             1,
             "#f0f921"
            ]
           ]
          },
          "colorway": [
           "#636efa",
           "#EF553B",
           "#00cc96",
           "#ab63fa",
           "#FFA15A",
           "#19d3f3",
           "#FF6692",
           "#B6E880",
           "#FF97FF",
           "#FECB52"
          ],
          "font": {
           "color": "#2a3f5f"
          },
          "geo": {
           "bgcolor": "white",
           "lakecolor": "white",
           "landcolor": "#E5ECF6",
           "showlakes": true,
           "showland": true,
           "subunitcolor": "white"
          },
          "hoverlabel": {
           "align": "left"
          },
          "hovermode": "closest",
          "mapbox": {
           "style": "light"
          },
          "paper_bgcolor": "white",
          "plot_bgcolor": "#E5ECF6",
          "polar": {
           "angularaxis": {
            "gridcolor": "white",
            "linecolor": "white",
            "ticks": ""
           },
           "bgcolor": "#E5ECF6",
           "radialaxis": {
            "gridcolor": "white",
            "linecolor": "white",
            "ticks": ""
           }
          },
          "scene": {
           "xaxis": {
            "backgroundcolor": "#E5ECF6",
            "gridcolor": "white",
            "gridwidth": 2,
            "linecolor": "white",
            "showbackground": true,
            "ticks": "",
            "zerolinecolor": "white"
           },
           "yaxis": {
            "backgroundcolor": "#E5ECF6",
            "gridcolor": "white",
            "gridwidth": 2,
            "linecolor": "white",
            "showbackground": true,
            "ticks": "",
            "zerolinecolor": "white"
           },
           "zaxis": {
            "backgroundcolor": "#E5ECF6",
            "gridcolor": "white",
            "gridwidth": 2,
            "linecolor": "white",
            "showbackground": true,
            "ticks": "",
            "zerolinecolor": "white"
           }
          },
          "shapedefaults": {
           "line": {
            "color": "#2a3f5f"
           }
          },
          "ternary": {
           "aaxis": {
            "gridcolor": "white",
            "linecolor": "white",
            "ticks": ""
           },
           "baxis": {
            "gridcolor": "white",
            "linecolor": "white",
            "ticks": ""
           },
           "bgcolor": "#E5ECF6",
           "caxis": {
            "gridcolor": "white",
            "linecolor": "white",
            "ticks": ""
           }
          },
          "title": {
           "x": 0.05
          },
          "xaxis": {
           "automargin": true,
           "gridcolor": "white",
           "linecolor": "white",
           "ticks": "",
           "title": {
            "standoff": 15
           },
           "zerolinecolor": "white",
           "zerolinewidth": 2
          },
          "yaxis": {
           "automargin": true,
           "gridcolor": "white",
           "linecolor": "white",
           "ticks": "",
           "title": {
            "standoff": 15
           },
           "zerolinecolor": "white",
           "zerolinewidth": 2
          }
         }
        },
        "title": {
         "text": "<b>Win Percentage Correctness against K-Value and Base</b>"
        },
        "xaxis": {
         "anchor": "y",
         "constrain": "domain",
         "domain": [
          0,
          1
         ],
         "scaleanchor": "y",
         "title": {
          "text": "K-value"
         }
        },
        "yaxis": {
         "anchor": "x",
         "autorange": "reversed",
         "constrain": "domain",
         "domain": [
          0,
          1
         ],
         "title": {
          "text": "Base"
         }
        }
       }
      }
     },
     "metadata": {},
     "output_type": "display_data"
    }
   ],
   "source": [
    "# system optimization\n",
    "\n",
    "def optimization2():\n",
    "    index = [_ for _ in np.arange(1, 51, 1.0)]\n",
    "    columns = [_ for _ in np.arange(2, 11, 1.0)]\n",
    "\n",
    "    opt_table = pd.DataFrame(np.zeros([len(index), len(columns)]))\n",
    "    opt_table.index = index\n",
    "    opt_table.columns = columns\n",
    "\n",
    "    for base in opt_table.columns:\n",
    "        for K in opt_table.index:\n",
    "            (elo, elo_time_table, prev_elo_time_table, d_elo_time_table, exp_elo_time_table, record_table) = generate_elo(K=K,base=base)\n",
    "            total_correctness = 0\n",
    "            for i in elo_time_table.index:\n",
    "                d_elo_slice = d_elo_time_table.loc[i,:].dropna().values\n",
    "                exp_elo_slice = exp_elo_time_table.loc[i,:].dropna().values\n",
    "                correctness = (np.sign(d_elo_slice) * exp_elo_slice).sum()\n",
    "                total_correctness += correctness\n",
    "            opt_table.loc[K,base] = total_correctness\n",
    "\n",
    "    fig = px.imshow(opt_table.T,labels=dict(y=\"Base\", x=\"K-value\", color=\"Total Correctness\"))#, text_auto=False, aspect=\"auto\")\n",
    "    fig.update_layout(\n",
    "        title=\"<b>Win Percentage Correctness against K-Value and Base</b>\"\n",
    "    )\n",
    "    fig.show()\n",
    "    return opt_table\n",
    "opt2 = optimization2()\n",
    "fig.write_html(\"figures/opt2.html\")"
   ]
  },
  {
   "cell_type": "code",
   "execution_count": 12,
   "metadata": {},
   "outputs": [
    {
     "data": {
      "application/vnd.plotly.v1+json": {
       "config": {
        "plotlyServerURL": "https://plot.ly"
       },
       "data": [
        {
         "coloraxis": "coloraxis",
         "hovertemplate": "K-value: %{x}<br>Base: %{y}<br>Normalized Optimization: %{z}<extra></extra>",
         "name": "0",
         "type": "heatmap",
         "x": [
          1,
          2,
          3,
          4,
          5,
          6,
          7,
          8,
          9,
          10,
          11,
          12,
          13,
          14,
          15,
          16,
          17,
          18,
          19,
          20,
          21,
          22,
          23,
          24,
          25,
          26,
          27,
          28,
          29,
          30,
          31,
          32,
          33,
          34,
          35,
          36,
          37,
          38,
          39,
          40,
          41,
          42,
          43,
          44,
          45,
          46,
          47,
          48,
          49,
          50
         ],
         "xaxis": "x",
         "y": [
          2,
          3,
          4,
          5,
          6,
          7,
          8,
          9,
          10
         ],
         "yaxis": "y",
         "z": [
          [
           -0.4,
           -0.37633213744984656,
           -0.35335148726812565,
           -0.33104599094850895,
           -0.30940079548623445,
           -0.2883989464893022,
           -0.26802197855694754,
           -0.248250411000122,
           -0.22906415824212972,
           -0.2104428647014927,
           -0.19236617385838733,
           -0.17481394072982812,
           -0.15776639627347844,
           -0.14120427141401748,
           -0.12510888751689792,
           -0.1094622192751506,
           -0.0942469351594249,
           -0.0794464198299557,
           -0.06504478223127058,
           -0.05102685248994948,
           -0.037378170210274786,
           -0.024084966308781097,
           -0.011134140139990922,
           0.0014867666644347022,
           0.013789598498791245,
           0.22578561531733882,
           0.4374855226812837,
           0.44889950176104737,
           0.4600372388675375,
           0.4709079541937409,
           0.4815204295350964,
           0.491883034827413,
           0.502003753397326,
           0.5118902058648777,
           0.5215496726727369,
           0.5309891152436698,
           0.540215195788465,
           0.34923429580201254,
           0.358052533296291,
           0.3666757788268877,
           0.37510967037468007,
           0.38335962714720745,
           0.3914308623655747,
           0.39932839510256696,
           0.4070570612366143,
           0.41462152358448795,
           0.6220262812732142,
           0.6292756784089122,
           0.6363739120974713,
           0.6433250398686434
          ],
          [
           -0.38607119115620636,
           -0.34951398777967246,
           -0.31464610286797057,
           -0.2814046964335372,
           -0.24971638328445492,
           -0.21950217815107573,
           -0.1906811423200514,
           -0.16317297286511542,
           -0.13689976051456587,
           -0.11178711306401462,
           -0.08776480763073086,
           -0.06476710239758315,
           -0.042732809483152556,
           -0.021605206176799896,
           -0.001331842018911178,
           0.01813571635530964,
           0.43684217268393477,
           0.4548288000110901,
           0.472133736998805,
           0.4887922724921722,
           0.5048371127942324,
           0.5202986286495133,
           0.5352050807028251,
           0.34958282339696717,
           0.36345648805401537,
           0.37684914636699945,
           0.3897824557989324,
           0.4022767885083915,
           0.4143513454427213,
           0.6260242571954362,
           0.6373126731381425,
           0.2482328402270032,
           0.25880017276127953,
           0.2690293142455955,
           0.2789341923837555,
           0.2885280681135539,
           0.29782357948173566,
           0.3068327810568088,
           0.3155671794853533,
           0.3240377657151077,
           0.3322550443346274,
           0.3402290604145991,
           0.34796942417922394,
           0.355485333786526,
           0.36278559645388153,
           0.3698786481279899,
           0.37677257186730906,
           0.3834751150777944,
           0.38999370572038194,
           0.39633546758934546
          ],
          [
           -0.37633213744984084,
           -0.331045990948509,
           -0.28839894648930153,
           -0.24825041100012799,
           -0.21044286470148732,
           -0.17481394072982495,
           -0.1412042714140181,
           -0.1094622192751522,
           -0.07944641982995315,
           -0.051026852489951646,
           -0.02408496630878293,
           0.0014867666644285404,
           0.22578561531733182,
           0.4488995017610491,
           0.4709079541937382,
           0.49188303482741047,
           0.5118902058648774,
           0.5309891152436723,
           0.3492342958020133,
           0.3666757788268939,
           0.38335962714720867,
           0.3993283951025656,
           0.41462152358448995,
           0.6292756784089136,
           0.6433250398686452,
           0.25680155065077837,
           0.2697351285268168,
           0.28215384942085364,
           0.29408410568592835,
           0.30555074370003155,
           0.31657718424626013,
           0.3271855285704025,
           0.33739665251354234,
           0.34723029069265765,
           0.3567051123422891,
           0.36583879012855136,
           0.3746480629962283,
           0.38314879390293366,
           0.39135602312597784,
           0.3992840176911042,
           0.4069463173628647,
           0.2143557775497772,
           0.22152460940908147,
           0.22846441738284673,
           0.23518623435670605,
           0.04170055460127664,
           0.048017364633634374,
           0.05414617211883055,
           0.06009603291929788,
           0.06587557639109243
          ],
          [
           -0.36885952994663684,
           -0.31703492006987316,
           -0.26870907528682564,
           -0.22364958925155068,
           -0.1816044892458464,
           -0.14232255570797875,
           -0.10556504813053519,
           -0.07111162535983567,
           -0.03876256918344595,
           -0.008338796517469604,
           0.2203193473035721,
           0.44735388017783173,
           0.47289117305804534,
           0.49704391490319677,
           0.5199129345251139,
           0.5415888259280913,
           0.3621533622587982,
           0.381680705120607,
           0.4002384270855834,
           0.4178883699034546,
           0.6346873618269795,
           0.25068781632738923,
           0.2659382323027807,
           0.28048361330874727,
           0.29436582072698514,
           0.3076238733297949,
           0.3202942034922862,
           0.3324108783845937,
           0.3440057928449176,
           0.35510883927101355,
           0.3657480587467261,
           0.3759497767098541,
           0.3857387257375614,
           0.39513815744689484,
           0.4041699450551246,
           0.4128546777940363,
           0.22121174810502553,
           0.2292594323403655,
           0.03701496554697992,
           0.0444946108001788,
           0.05171372347702752,
           0.05868681080418603,
           0.06542758697766649,
           -0.12805097587388636,
           -0.12173660062769187,
           -0.11561766176408983,
           -0.10968314538788182,
           0.0960773875546026,
           0.1016738350852111,
           0.10711558524724896
          ],
          [
           -0.3628065993575141,
           -0.3057871758789816,
           -0.25304174014320324,
           -0.20423942536594356,
           -0.15903104504695162,
           -0.1170776455850629,
           -0.07806518300370796,
           -0.04171050188526487,
           -0.007762252030084016,
           0.2240008863510301,
           0.4537732103284804,
           0.48172538667867376,
           0.5080077686205311,
           0.5327534123541258,
           0.35608070637508554,
           0.37809560251699775,
           0.39889347642090583,
           0.41856066207300074,
           0.6371757097360384,
           0.2548104147987066,
           0.2715306601841918,
           0.2873971089355699,
           0.30246577749496006,
           0.3167885145504019,
           0.33041340537461683,
           0.3433851173859782,
           0.35574519919796954,
           0.3675323426188968,
           0.37878261483132836,
           0.38952966623134644,
           0.3998049180563762,
           0.40963773290266114,
           0.21905557046323243,
           0.22808413024984808,
           0.03674748265151673,
           0.04506818939087298,
           0.053067414237265687,
           0.060765024697911896,
           -0.13182031468232447,
           -0.12467105684121538,
           -0.11777069400605988,
           -0.11110368627868883,
           0.09534460349225726,
           0.10158796902857337,
           0.10763941459228576,
           0.1135112040568994,
           0.11921490551270653,
           0.12476143182068011,
           0.13016107750921213,
           0.13542355238600234
          ],
          [
           -0.357725675646544,
           -0.29641571628031504,
           -0.24008235686295898,
           -0.18829371069079812,
           -0.14060421579298238,
           -0.09659084933629625,
           -0.05586967649552199,
           -0.018100876889874162,
           0.01701238465380861,
           0.44972797009159804,
           0.48026979500079425,
           0.5088328797834479,
           0.5355879539878631,
           0.36068543471020503,
           0.384258754929731,
           0.4064270925926577,
           0.6272975814724349,
           0.4469670911982158,
           0.26552365842765857,
           0.28304764070500577,
           0.29961265272625137,
           0.31528633336812695,
           0.33013098175304223,
           0.34420409209588543,
           0.3575588101026129,
           0.3702443281240516,
           0.38230623191594115,
           0.39378680851559145,
           0.4047253222253153,
           0.2151582638251529,
           0.22511957677839212,
           0.23464086322418043,
           0.04375157187495271,
           0.0524791694758332,
           0.06084929717763832,
           -0.13111408702233462,
           -0.12338857874114961,
           -0.11595320961940536,
           -0.10878834077382116,
           0.09812443357801615,
           0.10480237316471352,
           0.11126167019742628,
           0.11751752018414607,
           0.12358418577735031,
           0.12947505437347429,
           0.13520269014116348,
           0.1407788811108477,
           -0.053785318088624634,
           -0.04847954730849002,
           -0.043294105284213624
          ],
          [
           -0.35335148726812393,
           -0.288398946489307,
           -0.22906415824213563,
           -0.17481394072983417,
           -0.1251088875168902,
           -0.07944641982995215,
           -0.03737817021027884,
           0.001486766664436534,
           0.43748552268128493,
           0.4709079541937452,
           0.5020037533973267,
           0.5309891152436762,
           0.35805253329629044,
           0.3833596271472111,
           0.4070570612366086,
           0.6292756784089105,
           0.25013298655211014,
           0.2697351285268189,
           0.288178447986731,
           0.30555074370003343,
           0.32193228600639845,
           0.33739665251353934,
           0.35201142644829564,
           0.36583879012855025,
           0.37893603749280014,
           0.3913560231259773,
           0.4031475603690662,
           0.21435577754977775,
           0.22502243882695772,
           0.23518623435670316,
           0.04488304326760151,
           0.05414617211882744,
           0.06300657098968421,
           -0.1285069709804738,
           -0.12036764898326258,
           -0.1125504833652502,
           0.0949678235380198,
           0.10220901592821807,
           0.1091933997553638,
           0.11593994589224299,
           0.12246638249726383,
           0.1287892777306643,
           0.13492411392088632,
           0.1408853542034576,
           -0.05331349742405478,
           -0.04765984176878846,
           -0.04214193505092123,
           -0.03674884375406928,
           -0.031470403096710564,
           -0.026297178577984415
          ],
          [
           -0.3495139877796699,
           -0.2814046964335374,
           -0.21950217815107076,
           -0.16317297286511556,
           -0.11178711306400718,
           -0.06476710239757988,
           -0.021605206176799896,
           0.018135716355301867,
           0.454828800011083,
           0.4887922724921737,
           0.5202986286495082,
           0.3495828233969695,
           0.3768491463669978,
           0.40227678850839516,
           0.6260242571954395,
           0.2482328402270052,
           0.2690293142456014,
           0.28852806811355647,
           0.30683278105681044,
           0.32403776571510756,
           0.34022906041460077,
           0.35548533378652836,
           0.3698786481279899,
           0.3834751150777964,
           0.39633546758934646,
           0.4085155651686717,
           0.2200668443300705,
           0.23103672271825249,
           0.04146896295980773,
           0.051404000727311105,
           0.0608792404863312,
           -0.13007067823248852,
           -0.12141364157024892,
           -0.11311984684002696,
           0.0948383893233562,
           0.10248680219073303,
           0.10984933149819187,
           0.11694825722140234,
           0.12380432036557276,
           0.13043683047702925,
           0.13686376147606416,
           -0.05689816270618919,
           -0.050833391327603894,
           -0.04492747763909133,
           -0.039167016187414805,
           -0.03353958563548609,
           -0.02803369623809837,
           -0.02263874122351628,
           -0.017344951435950606,
           -0.01214335268976574
          ],
          [
           -0.3460976964276439,
           -0.27520867246719555,
           -0.21107089181202274,
           -0.1529523617300644,
           -0.10013611289924002,
           -0.05197418966325695,
           -0.007904044671363963,
           0.43255353836661437,
           0.46980414488466665,
           0.5041914584789087,
           0.5360084292251184,
           0.3655068849526541,
           0.3929053732064603,
           0.4183953692540086,
           0.6421461101293028,
           0.2643083327027784,
           0.2850171660077364,
           0.30439438500952065,
           0.3225501889870581,
           0.3395846287046129,
           0.35558877446886283,
           0.37064569195990105,
           0.38483127357536506,
           0.3982149588708822,
           0.41086036747375343,
           0.22282586066616705,
           0.23416504291138707,
           0.04492721131458233,
           0.05515775889056984,
           0.06489853618860708,
           -0.12581182496928256,
           -0.11693762234013827,
           -0.10844582566945138,
           0.09969415221655042,
           0.10751065839695206,
           0.11502997957909611,
           0.12227650110386468,
           0.12927284764843883,
           0.13604000789186965,
           0.14259744524294604,
           -0.05103680344823491,
           -0.04484603945691856,
           -0.03881482247564105,
           -0.032928898259438455,
           -0.02717513242588987,
           -0.021541449375051647,
           -0.01601677544548763,
           -0.010590985560837596,
           -0.005254852745647409,
           0.19999999999999996
          ]
         ]
        }
       ],
       "layout": {
        "coloraxis": {
         "colorbar": {
          "title": {
           "text": "Normalized Optimization"
          }
         },
         "colorscale": [
          [
           0,
           "#0d0887"
          ],
          [
           0.1111111111111111,
           "#46039f"
          ],
          [
           0.2222222222222222,
           "#7201a8"
          ],
          [
           0.3333333333333333,
           "#9c179e"
          ],
          [
           0.4444444444444444,
           "#bd3786"
          ],
          [
           0.5555555555555556,
           "#d8576b"
          ],
          [
           0.6666666666666666,
           "#ed7953"
          ],
          [
           0.7777777777777778,
           "#fb9f3a"
          ],
          [
           0.8888888888888888,
           "#fdca26"
          ],
          [
           1,
           "#f0f921"
          ]
         ]
        },
        "margin": {
         "t": 60
        },
        "template": {
         "data": {
          "bar": [
           {
            "error_x": {
             "color": "#2a3f5f"
            },
            "error_y": {
             "color": "#2a3f5f"
            },
            "marker": {
             "line": {
              "color": "#E5ECF6",
              "width": 0.5
             },
             "pattern": {
              "fillmode": "overlay",
              "size": 10,
              "solidity": 0.2
             }
            },
            "type": "bar"
           }
          ],
          "barpolar": [
           {
            "marker": {
             "line": {
              "color": "#E5ECF6",
              "width": 0.5
             },
             "pattern": {
              "fillmode": "overlay",
              "size": 10,
              "solidity": 0.2
             }
            },
            "type": "barpolar"
           }
          ],
          "carpet": [
           {
            "aaxis": {
             "endlinecolor": "#2a3f5f",
             "gridcolor": "white",
             "linecolor": "white",
             "minorgridcolor": "white",
             "startlinecolor": "#2a3f5f"
            },
            "baxis": {
             "endlinecolor": "#2a3f5f",
             "gridcolor": "white",
             "linecolor": "white",
             "minorgridcolor": "white",
             "startlinecolor": "#2a3f5f"
            },
            "type": "carpet"
           }
          ],
          "choropleth": [
           {
            "colorbar": {
             "outlinewidth": 0,
             "ticks": ""
            },
            "type": "choropleth"
           }
          ],
          "contour": [
           {
            "colorbar": {
             "outlinewidth": 0,
             "ticks": ""
            },
            "colorscale": [
             [
              0,
              "#0d0887"
             ],
             [
              0.1111111111111111,
              "#46039f"
             ],
             [
              0.2222222222222222,
              "#7201a8"
             ],
             [
              0.3333333333333333,
              "#9c179e"
             ],
             [
              0.4444444444444444,
              "#bd3786"
             ],
             [
              0.5555555555555556,
              "#d8576b"
             ],
             [
              0.6666666666666666,
              "#ed7953"
             ],
             [
              0.7777777777777778,
              "#fb9f3a"
             ],
             [
              0.8888888888888888,
              "#fdca26"
             ],
             [
              1,
              "#f0f921"
             ]
            ],
            "type": "contour"
           }
          ],
          "contourcarpet": [
           {
            "colorbar": {
             "outlinewidth": 0,
             "ticks": ""
            },
            "type": "contourcarpet"
           }
          ],
          "heatmap": [
           {
            "colorbar": {
             "outlinewidth": 0,
             "ticks": ""
            },
            "colorscale": [
             [
              0,
              "#0d0887"
             ],
             [
              0.1111111111111111,
              "#46039f"
             ],
             [
              0.2222222222222222,
              "#7201a8"
             ],
             [
              0.3333333333333333,
              "#9c179e"
             ],
             [
              0.4444444444444444,
              "#bd3786"
             ],
             [
              0.5555555555555556,
              "#d8576b"
             ],
             [
              0.6666666666666666,
              "#ed7953"
             ],
             [
              0.7777777777777778,
              "#fb9f3a"
             ],
             [
              0.8888888888888888,
              "#fdca26"
             ],
             [
              1,
              "#f0f921"
             ]
            ],
            "type": "heatmap"
           }
          ],
          "heatmapgl": [
           {
            "colorbar": {
             "outlinewidth": 0,
             "ticks": ""
            },
            "colorscale": [
             [
              0,
              "#0d0887"
             ],
             [
              0.1111111111111111,
              "#46039f"
             ],
             [
              0.2222222222222222,
              "#7201a8"
             ],
             [
              0.3333333333333333,
              "#9c179e"
             ],
             [
              0.4444444444444444,
              "#bd3786"
             ],
             [
              0.5555555555555556,
              "#d8576b"
             ],
             [
              0.6666666666666666,
              "#ed7953"
             ],
             [
              0.7777777777777778,
              "#fb9f3a"
             ],
             [
              0.8888888888888888,
              "#fdca26"
             ],
             [
              1,
              "#f0f921"
             ]
            ],
            "type": "heatmapgl"
           }
          ],
          "histogram": [
           {
            "marker": {
             "pattern": {
              "fillmode": "overlay",
              "size": 10,
              "solidity": 0.2
             }
            },
            "type": "histogram"
           }
          ],
          "histogram2d": [
           {
            "colorbar": {
             "outlinewidth": 0,
             "ticks": ""
            },
            "colorscale": [
             [
              0,
              "#0d0887"
             ],
             [
              0.1111111111111111,
              "#46039f"
             ],
             [
              0.2222222222222222,
              "#7201a8"
             ],
             [
              0.3333333333333333,
              "#9c179e"
             ],
             [
              0.4444444444444444,
              "#bd3786"
             ],
             [
              0.5555555555555556,
              "#d8576b"
             ],
             [
              0.6666666666666666,
              "#ed7953"
             ],
             [
              0.7777777777777778,
              "#fb9f3a"
             ],
             [
              0.8888888888888888,
              "#fdca26"
             ],
             [
              1,
              "#f0f921"
             ]
            ],
            "type": "histogram2d"
           }
          ],
          "histogram2dcontour": [
           {
            "colorbar": {
             "outlinewidth": 0,
             "ticks": ""
            },
            "colorscale": [
             [
              0,
              "#0d0887"
             ],
             [
              0.1111111111111111,
              "#46039f"
             ],
             [
              0.2222222222222222,
              "#7201a8"
             ],
             [
              0.3333333333333333,
              "#9c179e"
             ],
             [
              0.4444444444444444,
              "#bd3786"
             ],
             [
              0.5555555555555556,
              "#d8576b"
             ],
             [
              0.6666666666666666,
              "#ed7953"
             ],
             [
              0.7777777777777778,
              "#fb9f3a"
             ],
             [
              0.8888888888888888,
              "#fdca26"
             ],
             [
              1,
              "#f0f921"
             ]
            ],
            "type": "histogram2dcontour"
           }
          ],
          "mesh3d": [
           {
            "colorbar": {
             "outlinewidth": 0,
             "ticks": ""
            },
            "type": "mesh3d"
           }
          ],
          "parcoords": [
           {
            "line": {
             "colorbar": {
              "outlinewidth": 0,
              "ticks": ""
             }
            },
            "type": "parcoords"
           }
          ],
          "pie": [
           {
            "automargin": true,
            "type": "pie"
           }
          ],
          "scatter": [
           {
            "fillpattern": {
             "fillmode": "overlay",
             "size": 10,
             "solidity": 0.2
            },
            "type": "scatter"
           }
          ],
          "scatter3d": [
           {
            "line": {
             "colorbar": {
              "outlinewidth": 0,
              "ticks": ""
             }
            },
            "marker": {
             "colorbar": {
              "outlinewidth": 0,
              "ticks": ""
             }
            },
            "type": "scatter3d"
           }
          ],
          "scattercarpet": [
           {
            "marker": {
             "colorbar": {
              "outlinewidth": 0,
              "ticks": ""
             }
            },
            "type": "scattercarpet"
           }
          ],
          "scattergeo": [
           {
            "marker": {
             "colorbar": {
              "outlinewidth": 0,
              "ticks": ""
             }
            },
            "type": "scattergeo"
           }
          ],
          "scattergl": [
           {
            "marker": {
             "colorbar": {
              "outlinewidth": 0,
              "ticks": ""
             }
            },
            "type": "scattergl"
           }
          ],
          "scattermapbox": [
           {
            "marker": {
             "colorbar": {
              "outlinewidth": 0,
              "ticks": ""
             }
            },
            "type": "scattermapbox"
           }
          ],
          "scatterpolar": [
           {
            "marker": {
             "colorbar": {
              "outlinewidth": 0,
              "ticks": ""
             }
            },
            "type": "scatterpolar"
           }
          ],
          "scatterpolargl": [
           {
            "marker": {
             "colorbar": {
              "outlinewidth": 0,
              "ticks": ""
             }
            },
            "type": "scatterpolargl"
           }
          ],
          "scatterternary": [
           {
            "marker": {
             "colorbar": {
              "outlinewidth": 0,
              "ticks": ""
             }
            },
            "type": "scatterternary"
           }
          ],
          "surface": [
           {
            "colorbar": {
             "outlinewidth": 0,
             "ticks": ""
            },
            "colorscale": [
             [
              0,
              "#0d0887"
             ],
             [
              0.1111111111111111,
              "#46039f"
             ],
             [
              0.2222222222222222,
              "#7201a8"
             ],
             [
              0.3333333333333333,
              "#9c179e"
             ],
             [
              0.4444444444444444,
              "#bd3786"
             ],
             [
              0.5555555555555556,
              "#d8576b"
             ],
             [
              0.6666666666666666,
              "#ed7953"
             ],
             [
              0.7777777777777778,
              "#fb9f3a"
             ],
             [
              0.8888888888888888,
              "#fdca26"
             ],
             [
              1,
              "#f0f921"
             ]
            ],
            "type": "surface"
           }
          ],
          "table": [
           {
            "cells": {
             "fill": {
              "color": "#EBF0F8"
             },
             "line": {
              "color": "white"
             }
            },
            "header": {
             "fill": {
              "color": "#C8D4E3"
             },
             "line": {
              "color": "white"
             }
            },
            "type": "table"
           }
          ]
         },
         "layout": {
          "annotationdefaults": {
           "arrowcolor": "#2a3f5f",
           "arrowhead": 0,
           "arrowwidth": 1
          },
          "autotypenumbers": "strict",
          "coloraxis": {
           "colorbar": {
            "outlinewidth": 0,
            "ticks": ""
           }
          },
          "colorscale": {
           "diverging": [
            [
             0,
             "#8e0152"
            ],
            [
             0.1,
             "#c51b7d"
            ],
            [
             0.2,
             "#de77ae"
            ],
            [
             0.3,
             "#f1b6da"
            ],
            [
             0.4,
             "#fde0ef"
            ],
            [
             0.5,
             "#f7f7f7"
            ],
            [
             0.6,
             "#e6f5d0"
            ],
            [
             0.7,
             "#b8e186"
            ],
            [
             0.8,
             "#7fbc41"
            ],
            [
             0.9,
             "#4d9221"
            ],
            [
             1,
             "#276419"
            ]
           ],
           "sequential": [
            [
             0,
             "#0d0887"
            ],
            [
             0.1111111111111111,
             "#46039f"
            ],
            [
             0.2222222222222222,
             "#7201a8"
            ],
            [
             0.3333333333333333,
             "#9c179e"
            ],
            [
             0.4444444444444444,
             "#bd3786"
            ],
            [
             0.5555555555555556,
             "#d8576b"
            ],
            [
             0.6666666666666666,
             "#ed7953"
            ],
            [
             0.7777777777777778,
             "#fb9f3a"
            ],
            [
             0.8888888888888888,
             "#fdca26"
            ],
            [
             1,
             "#f0f921"
            ]
           ],
           "sequentialminus": [
            [
             0,
             "#0d0887"
            ],
            [
             0.1111111111111111,
             "#46039f"
            ],
            [
             0.2222222222222222,
             "#7201a8"
            ],
            [
             0.3333333333333333,
             "#9c179e"
            ],
            [
             0.4444444444444444,
             "#bd3786"
            ],
            [
             0.5555555555555556,
             "#d8576b"
            ],
            [
             0.6666666666666666,
             "#ed7953"
            ],
            [
             0.7777777777777778,
             "#fb9f3a"
            ],
            [
             0.8888888888888888,
             "#fdca26"
            ],
            [
             1,
             "#f0f921"
            ]
           ]
          },
          "colorway": [
           "#636efa",
           "#EF553B",
           "#00cc96",
           "#ab63fa",
           "#FFA15A",
           "#19d3f3",
           "#FF6692",
           "#B6E880",
           "#FF97FF",
           "#FECB52"
          ],
          "font": {
           "color": "#2a3f5f"
          },
          "geo": {
           "bgcolor": "white",
           "lakecolor": "white",
           "landcolor": "#E5ECF6",
           "showlakes": true,
           "showland": true,
           "subunitcolor": "white"
          },
          "hoverlabel": {
           "align": "left"
          },
          "hovermode": "closest",
          "mapbox": {
           "style": "light"
          },
          "paper_bgcolor": "white",
          "plot_bgcolor": "#E5ECF6",
          "polar": {
           "angularaxis": {
            "gridcolor": "white",
            "linecolor": "white",
            "ticks": ""
           },
           "bgcolor": "#E5ECF6",
           "radialaxis": {
            "gridcolor": "white",
            "linecolor": "white",
            "ticks": ""
           }
          },
          "scene": {
           "xaxis": {
            "backgroundcolor": "#E5ECF6",
            "gridcolor": "white",
            "gridwidth": 2,
            "linecolor": "white",
            "showbackground": true,
            "ticks": "",
            "zerolinecolor": "white"
           },
           "yaxis": {
            "backgroundcolor": "#E5ECF6",
            "gridcolor": "white",
            "gridwidth": 2,
            "linecolor": "white",
            "showbackground": true,
            "ticks": "",
            "zerolinecolor": "white"
           },
           "zaxis": {
            "backgroundcolor": "#E5ECF6",
            "gridcolor": "white",
            "gridwidth": 2,
            "linecolor": "white",
            "showbackground": true,
            "ticks": "",
            "zerolinecolor": "white"
           }
          },
          "shapedefaults": {
           "line": {
            "color": "#2a3f5f"
           }
          },
          "ternary": {
           "aaxis": {
            "gridcolor": "white",
            "linecolor": "white",
            "ticks": ""
           },
           "baxis": {
            "gridcolor": "white",
            "linecolor": "white",
            "ticks": ""
           },
           "bgcolor": "#E5ECF6",
           "caxis": {
            "gridcolor": "white",
            "linecolor": "white",
            "ticks": ""
           }
          },
          "title": {
           "x": 0.05
          },
          "xaxis": {
           "automargin": true,
           "gridcolor": "white",
           "linecolor": "white",
           "ticks": "",
           "title": {
            "standoff": 15
           },
           "zerolinecolor": "white",
           "zerolinewidth": 2
          },
          "yaxis": {
           "automargin": true,
           "gridcolor": "white",
           "linecolor": "white",
           "ticks": "",
           "title": {
            "standoff": 15
           },
           "zerolinecolor": "white",
           "zerolinewidth": 2
          }
         }
        },
        "title": {
         "text": "<b>K Value and Base against Both Optimization Functions</b>"
        },
        "xaxis": {
         "anchor": "y",
         "domain": [
          0,
          1
         ],
         "title": {
          "text": "K-value"
         }
        },
        "yaxis": {
         "anchor": "x",
         "autorange": "reversed",
         "domain": [
          0,
          1
         ],
         "title": {
          "text": "Base"
         }
        }
       }
      }
     },
     "metadata": {},
     "output_type": "display_data"
    }
   ],
   "source": [
    "def norm_minmax(dataframe):\n",
    "    return ((dataframe - dataframe.min(axis=None)) / (dataframe.max(axis=None) - dataframe.min(axis=None)))\n",
    "\n",
    "norm_opt1 = norm_minmax(opt1)\n",
    "norm_opt2 = norm_minmax(opt2)\n",
    "\n",
    "fig = px.imshow(norm_opt2.T - norm_opt1.T,labels=dict(y=\"Base\", x=\"K-value\", color=\"Normalized Optimization\"), text_auto=False, aspect=\"auto\")\n",
    "fig.update_layout(\n",
    "    title=\"<b>K Value and Base against Both Optimization Functions</b>\"\n",
    ")\n",
    "fig.show()\n",
    "fig.write_html(\"figures/opt_total.html\")"
   ]
  }
 ],
 "metadata": {
  "kernelspec": {
   "display_name": "Python 3",
   "language": "python",
   "name": "python3"
  },
  "language_info": {
   "codemirror_mode": {
    "name": "ipython",
    "version": 3
   },
   "file_extension": ".py",
   "mimetype": "text/x-python",
   "name": "python",
   "nbconvert_exporter": "python",
   "pygments_lexer": "ipython3",
   "version": "3.9.13"
  }
 },
 "nbformat": 4,
 "nbformat_minor": 2
}
