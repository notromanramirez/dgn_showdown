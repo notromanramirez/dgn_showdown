{
 "cells": [
  {
   "cell_type": "code",
   "execution_count": 1,
   "metadata": {},
   "outputs": [],
   "source": [
    "import pandas as pd\n",
    "import numpy as np\n",
    "\n",
    "from IPython.display import display\n",
    "import datetime\n",
    "import plotly.express as px\n",
    "from plotly.colors import sequential\n",
    "from plotly.colors import diverging\n",
    "\n",
    "from plotly.subplots import make_subplots\n",
    "\n",
    "import math"
   ]
  },
  {
   "cell_type": "code",
   "execution_count": 2,
   "metadata": {},
   "outputs": [
    {
     "data": {
      "text/html": [
       "<div>\n",
       "<style scoped>\n",
       "    .dataframe tbody tr th:only-of-type {\n",
       "        vertical-align: middle;\n",
       "    }\n",
       "\n",
       "    .dataframe tbody tr th {\n",
       "        vertical-align: top;\n",
       "    }\n",
       "\n",
       "    .dataframe thead th {\n",
       "        text-align: right;\n",
       "    }\n",
       "</style>\n",
       "<table border=\"1\" class=\"dataframe\">\n",
       "  <thead>\n",
       "    <tr style=\"text-align: right;\">\n",
       "      <th></th>\n",
       "      <th>Date</th>\n",
       "      <th>Format</th>\n",
       "      <th>Match Number</th>\n",
       "      <th>Stage</th>\n",
       "      <th>Player 1</th>\n",
       "      <th>Player 2</th>\n",
       "      <th>Score 1</th>\n",
       "      <th>Score 2</th>\n",
       "    </tr>\n",
       "  </thead>\n",
       "  <tbody>\n",
       "    <tr>\n",
       "      <th>0</th>\n",
       "      <td>2023-11-18</td>\n",
       "      <td>[Gen 9] OU</td>\n",
       "      <td>1</td>\n",
       "      <td>Group</td>\n",
       "      <td>Evan Sooklal</td>\n",
       "      <td>Will Simpson</td>\n",
       "      <td>2</td>\n",
       "      <td>6</td>\n",
       "    </tr>\n",
       "    <tr>\n",
       "      <th>1</th>\n",
       "      <td>2023-11-18</td>\n",
       "      <td>[Gen 9] OU</td>\n",
       "      <td>2</td>\n",
       "      <td>Group</td>\n",
       "      <td>Paul Bartenfeld</td>\n",
       "      <td>Roman Ramirez</td>\n",
       "      <td>2</td>\n",
       "      <td>6</td>\n",
       "    </tr>\n",
       "    <tr>\n",
       "      <th>2</th>\n",
       "      <td>2023-11-18</td>\n",
       "      <td>[Gen 9] OU</td>\n",
       "      <td>3</td>\n",
       "      <td>Group</td>\n",
       "      <td>Roman Ramirez</td>\n",
       "      <td>Evan Sooklal</td>\n",
       "      <td>6</td>\n",
       "      <td>3</td>\n",
       "    </tr>\n",
       "    <tr>\n",
       "      <th>3</th>\n",
       "      <td>2023-11-18</td>\n",
       "      <td>[Gen 9] OU</td>\n",
       "      <td>4</td>\n",
       "      <td>Group</td>\n",
       "      <td>Will Simpson</td>\n",
       "      <td>Paul Bartenfeld</td>\n",
       "      <td>6</td>\n",
       "      <td>1</td>\n",
       "    </tr>\n",
       "    <tr>\n",
       "      <th>4</th>\n",
       "      <td>2023-11-18</td>\n",
       "      <td>[Gen 9] OU</td>\n",
       "      <td>5</td>\n",
       "      <td>Group</td>\n",
       "      <td>Paul Bartenfeld</td>\n",
       "      <td>Evan Sooklal</td>\n",
       "      <td>1</td>\n",
       "      <td>6</td>\n",
       "    </tr>\n",
       "    <tr>\n",
       "      <th>...</th>\n",
       "      <td>...</td>\n",
       "      <td>...</td>\n",
       "      <td>...</td>\n",
       "      <td>...</td>\n",
       "      <td>...</td>\n",
       "      <td>...</td>\n",
       "      <td>...</td>\n",
       "      <td>...</td>\n",
       "    </tr>\n",
       "    <tr>\n",
       "      <th>105</th>\n",
       "      <td>2024-02-18</td>\n",
       "      <td>[Gen 9] Doubles UU</td>\n",
       "      <td>16</td>\n",
       "      <td>Group</td>\n",
       "      <td>Evan Sooklal</td>\n",
       "      <td>Roman Ramirez</td>\n",
       "      <td>0</td>\n",
       "      <td>6</td>\n",
       "    </tr>\n",
       "    <tr>\n",
       "      <th>106</th>\n",
       "      <td>2024-02-18</td>\n",
       "      <td>[Gen 9] Doubles UU</td>\n",
       "      <td>17</td>\n",
       "      <td>Group</td>\n",
       "      <td>Roman Ramirez</td>\n",
       "      <td>Aaron Carter</td>\n",
       "      <td>0</td>\n",
       "      <td>6</td>\n",
       "    </tr>\n",
       "    <tr>\n",
       "      <th>107</th>\n",
       "      <td>2024-02-18</td>\n",
       "      <td>[Gen 9] Doubles UU</td>\n",
       "      <td>18</td>\n",
       "      <td>Group</td>\n",
       "      <td>Jack Massingill</td>\n",
       "      <td>Will Simpson</td>\n",
       "      <td>0</td>\n",
       "      <td>6</td>\n",
       "    </tr>\n",
       "    <tr>\n",
       "      <th>108</th>\n",
       "      <td>2024-02-18</td>\n",
       "      <td>[Gen 9] Doubles UU</td>\n",
       "      <td>19</td>\n",
       "      <td>Group</td>\n",
       "      <td>Will Simpson</td>\n",
       "      <td>Roman Ramirez</td>\n",
       "      <td>0</td>\n",
       "      <td>6</td>\n",
       "    </tr>\n",
       "    <tr>\n",
       "      <th>109</th>\n",
       "      <td>2024-02-18</td>\n",
       "      <td>[Gen 9] Doubles UU</td>\n",
       "      <td>20</td>\n",
       "      <td>Group</td>\n",
       "      <td>Aaron Carter</td>\n",
       "      <td>Evan Sooklal</td>\n",
       "      <td>0</td>\n",
       "      <td>6</td>\n",
       "    </tr>\n",
       "  </tbody>\n",
       "</table>\n",
       "<p>110 rows × 8 columns</p>\n",
       "</div>"
      ],
      "text/plain": [
       "           Date              Format Match Number  Stage         Player 1  \\\n",
       "0    2023-11-18          [Gen 9] OU            1  Group     Evan Sooklal   \n",
       "1    2023-11-18          [Gen 9] OU            2  Group  Paul Bartenfeld   \n",
       "2    2023-11-18          [Gen 9] OU            3  Group    Roman Ramirez   \n",
       "3    2023-11-18          [Gen 9] OU            4  Group     Will Simpson   \n",
       "4    2023-11-18          [Gen 9] OU            5  Group  Paul Bartenfeld   \n",
       "..          ...                 ...          ...    ...              ...   \n",
       "105  2024-02-18  [Gen 9] Doubles UU           16  Group     Evan Sooklal   \n",
       "106  2024-02-18  [Gen 9] Doubles UU           17  Group    Roman Ramirez   \n",
       "107  2024-02-18  [Gen 9] Doubles UU           18  Group  Jack Massingill   \n",
       "108  2024-02-18  [Gen 9] Doubles UU           19  Group     Will Simpson   \n",
       "109  2024-02-18  [Gen 9] Doubles UU           20  Group     Aaron Carter   \n",
       "\n",
       "            Player 2  Score 1  Score 2  \n",
       "0       Will Simpson        2        6  \n",
       "1      Roman Ramirez        2        6  \n",
       "2       Evan Sooklal        6        3  \n",
       "3    Paul Bartenfeld        6        1  \n",
       "4       Evan Sooklal        1        6  \n",
       "..               ...      ...      ...  \n",
       "105    Roman Ramirez        0        6  \n",
       "106     Aaron Carter        0        6  \n",
       "107     Will Simpson        0        6  \n",
       "108    Roman Ramirez        0        6  \n",
       "109     Evan Sooklal        0        6  \n",
       "\n",
       "[110 rows x 8 columns]"
      ]
     },
     "metadata": {},
     "output_type": "display_data"
    }
   ],
   "source": [
    "matches_table = pd.read_csv('data/matches.csv')\n",
    "display(matches_table)"
   ]
  },
  {
   "cell_type": "code",
   "execution_count": 3,
   "metadata": {},
   "outputs": [],
   "source": [
    "updated_time = f'<i>Updated {str(datetime.datetime.now().strftime(\"%A, %b %d, %Y %H:%M:%S\"))} CT</i>'\n",
    "link_fig = \"<a href='https://htmlpreview.github.io/?https://github.com/notromanramirez/dgn_showdown/blob/main/index.html'>ELO Graph</a>\"\n",
    "link_fig1 = \"<a href='https://htmlpreview.github.io/?https://github.com/notromanramirez/dgn_showdown/blob/main/figures/fig1.html'>H2H Stats</a>\"\n",
    "link_fig2 = \"<a href='https://htmlpreview.github.io/?https://github.com/notromanramirez/dgn_showdown/blob/main/figures/fig2.html'>H2H Advanced Stats</a>\"\n",
    "link_fig3 = \"<a href='https://htmlpreview.github.io/?https://github.com/notromanramirez/dgn_showdown/blob/main/figures/fig3.html'>H2H More Stats</a>\"\n",
    "link_fig4 = \"<a href='https://htmlpreview.github.io/?https://github.com/notromanramirez/dgn_showdown/blob/main/figures/fig4.html'>Player Data</a>\"\n",
    "link_fig5 = \"<a href='https://htmlpreview.github.io/?https://github.com/notromanramirez/dgn_showdown/blob/main/figures/fig5.html'>Matches Data</a>\"\n",
    "link_fig6 = \"<a href='https://htmlpreview.github.io/?https://github.com/notromanramirez/dgn_showdown/blob/main/figures/fig6.html'>Money-Lines</a>\""
   ]
  },
  {
   "cell_type": "code",
   "execution_count": 4,
   "metadata": {},
   "outputs": [
    {
     "data": {
      "text/plain": [
       "{'Aaron Carter',\n",
       " 'Evan Sooklal',\n",
       " 'Jack Massingill',\n",
       " 'Paul Bartenfeld',\n",
       " 'Roman Ramirez',\n",
       " 'Will Simpson'}"
      ]
     },
     "metadata": {},
     "output_type": "display_data"
    }
   ],
   "source": [
    "set_player1 = set(matches_table['Player 1'])\n",
    "set_player2 = set(matches_table['Player 2'])\n",
    "set_players = set_player1.union(set_player2)\n",
    "num_players = len(set_players)\n",
    "display(set_players)"
   ]
  },
  {
   "cell_type": "code",
   "execution_count": 5,
   "metadata": {},
   "outputs": [
    {
     "name": "stderr",
     "output_type": "stream",
     "text": [
      "C:\\Users\\justr\\AppData\\Local\\Temp\\ipykernel_11304\\2719908281.py:131: RuntimeWarning: invalid value encountered in scalar divide\n",
      "  luck_per_game_table.loc[r, c] /= record_table.loc[r, c].sum()\n"
     ]
    },
    {
     "data": {
      "text/html": [
       "<div>\n",
       "<style scoped>\n",
       "    .dataframe tbody tr th:only-of-type {\n",
       "        vertical-align: middle;\n",
       "    }\n",
       "\n",
       "    .dataframe tbody tr th {\n",
       "        vertical-align: top;\n",
       "    }\n",
       "\n",
       "    .dataframe thead th {\n",
       "        text-align: right;\n",
       "    }\n",
       "</style>\n",
       "<table border=\"1\" class=\"dataframe\">\n",
       "  <thead>\n",
       "    <tr style=\"text-align: right;\">\n",
       "      <th></th>\n",
       "      <th>Paul Bartenfeld</th>\n",
       "      <th>Evan Sooklal</th>\n",
       "      <th>Roman Ramirez</th>\n",
       "      <th>Jack Massingill</th>\n",
       "      <th>Will Simpson</th>\n",
       "      <th>Aaron Carter</th>\n",
       "    </tr>\n",
       "  </thead>\n",
       "  <tbody>\n",
       "    <tr>\n",
       "      <th>Paul Bartenfeld</th>\n",
       "      <td>[0, 0]</td>\n",
       "      <td>[1, 5]</td>\n",
       "      <td>[2, 4]</td>\n",
       "      <td>[0, 0]</td>\n",
       "      <td>[0, 6]</td>\n",
       "      <td>[1, 3]</td>\n",
       "    </tr>\n",
       "    <tr>\n",
       "      <th>Evan Sooklal</th>\n",
       "      <td>[5, 1]</td>\n",
       "      <td>[0, 0]</td>\n",
       "      <td>[9, 4]</td>\n",
       "      <td>[1, 1]</td>\n",
       "      <td>[3, 11]</td>\n",
       "      <td>[4, 9]</td>\n",
       "    </tr>\n",
       "    <tr>\n",
       "      <th>Roman Ramirez</th>\n",
       "      <td>[4, 2]</td>\n",
       "      <td>[4, 9]</td>\n",
       "      <td>[0, 0]</td>\n",
       "      <td>[1, 1]</td>\n",
       "      <td>[7, 8]</td>\n",
       "      <td>[3, 8]</td>\n",
       "    </tr>\n",
       "    <tr>\n",
       "      <th>Jack Massingill</th>\n",
       "      <td>[0, 0]</td>\n",
       "      <td>[1, 1]</td>\n",
       "      <td>[1, 1]</td>\n",
       "      <td>[0, 0]</td>\n",
       "      <td>[1, 1]</td>\n",
       "      <td>[1, 1]</td>\n",
       "    </tr>\n",
       "    <tr>\n",
       "      <th>Will Simpson</th>\n",
       "      <td>[6, 0]</td>\n",
       "      <td>[11, 3]</td>\n",
       "      <td>[8, 7]</td>\n",
       "      <td>[1, 1]</td>\n",
       "      <td>[0, 0]</td>\n",
       "      <td>[5, 9]</td>\n",
       "    </tr>\n",
       "    <tr>\n",
       "      <th>Aaron Carter</th>\n",
       "      <td>[3, 1]</td>\n",
       "      <td>[9, 4]</td>\n",
       "      <td>[8, 3]</td>\n",
       "      <td>[1, 1]</td>\n",
       "      <td>[9, 5]</td>\n",
       "      <td>[0, 0]</td>\n",
       "    </tr>\n",
       "  </tbody>\n",
       "</table>\n",
       "</div>"
      ],
      "text/plain": [
       "                Paul Bartenfeld Evan Sooklal Roman Ramirez Jack Massingill  \\\n",
       "Paul Bartenfeld          [0, 0]       [1, 5]        [2, 4]          [0, 0]   \n",
       "Evan Sooklal             [5, 1]       [0, 0]        [9, 4]          [1, 1]   \n",
       "Roman Ramirez            [4, 2]       [4, 9]        [0, 0]          [1, 1]   \n",
       "Jack Massingill          [0, 0]       [1, 1]        [1, 1]          [0, 0]   \n",
       "Will Simpson             [6, 0]      [11, 3]        [8, 7]          [1, 1]   \n",
       "Aaron Carter             [3, 1]       [9, 4]        [8, 3]          [1, 1]   \n",
       "\n",
       "                Will Simpson Aaron Carter  \n",
       "Paul Bartenfeld       [0, 6]       [1, 3]  \n",
       "Evan Sooklal         [3, 11]       [4, 9]  \n",
       "Roman Ramirez         [7, 8]       [3, 8]  \n",
       "Jack Massingill       [1, 1]       [1, 1]  \n",
       "Will Simpson          [0, 0]       [5, 9]  \n",
       "Aaron Carter          [9, 5]       [0, 0]  "
      ]
     },
     "metadata": {},
     "output_type": "display_data"
    },
    {
     "data": {
      "text/html": [
       "<div>\n",
       "<style scoped>\n",
       "    .dataframe tbody tr th:only-of-type {\n",
       "        vertical-align: middle;\n",
       "    }\n",
       "\n",
       "    .dataframe tbody tr th {\n",
       "        vertical-align: top;\n",
       "    }\n",
       "\n",
       "    .dataframe thead th {\n",
       "        text-align: right;\n",
       "    }\n",
       "</style>\n",
       "<table border=\"1\" class=\"dataframe\">\n",
       "  <thead>\n",
       "    <tr style=\"text-align: right;\">\n",
       "      <th></th>\n",
       "      <th>Paul Bartenfeld</th>\n",
       "      <th>Evan Sooklal</th>\n",
       "      <th>Roman Ramirez</th>\n",
       "      <th>Jack Massingill</th>\n",
       "      <th>Will Simpson</th>\n",
       "      <th>Aaron Carter</th>\n",
       "    </tr>\n",
       "  </thead>\n",
       "  <tbody>\n",
       "    <tr>\n",
       "      <th>Paul Bartenfeld</th>\n",
       "      <td>NaN</td>\n",
       "      <td>-0.179256</td>\n",
       "      <td>-0.054102</td>\n",
       "      <td>NaN</td>\n",
       "      <td>-0.301516</td>\n",
       "      <td>-0.061861</td>\n",
       "    </tr>\n",
       "    <tr>\n",
       "      <th>Evan Sooklal</th>\n",
       "      <td>0.179256</td>\n",
       "      <td>NaN</td>\n",
       "      <td>0.145432</td>\n",
       "      <td>0.079347</td>\n",
       "      <td>-0.186905</td>\n",
       "      <td>-0.057581</td>\n",
       "    </tr>\n",
       "    <tr>\n",
       "      <th>Roman Ramirez</th>\n",
       "      <td>0.054102</td>\n",
       "      <td>-0.145432</td>\n",
       "      <td>NaN</td>\n",
       "      <td>0.096126</td>\n",
       "      <td>0.094057</td>\n",
       "      <td>-0.011689</td>\n",
       "    </tr>\n",
       "    <tr>\n",
       "      <th>Jack Massingill</th>\n",
       "      <td>NaN</td>\n",
       "      <td>-0.079347</td>\n",
       "      <td>-0.096126</td>\n",
       "      <td>NaN</td>\n",
       "      <td>0.122440</td>\n",
       "      <td>0.260322</td>\n",
       "    </tr>\n",
       "    <tr>\n",
       "      <th>Will Simpson</th>\n",
       "      <td>0.301516</td>\n",
       "      <td>0.186905</td>\n",
       "      <td>-0.094057</td>\n",
       "      <td>-0.122440</td>\n",
       "      <td>NaN</td>\n",
       "      <td>-0.107992</td>\n",
       "    </tr>\n",
       "    <tr>\n",
       "      <th>Aaron Carter</th>\n",
       "      <td>0.061861</td>\n",
       "      <td>0.057581</td>\n",
       "      <td>0.011689</td>\n",
       "      <td>-0.260322</td>\n",
       "      <td>0.107992</td>\n",
       "      <td>NaN</td>\n",
       "    </tr>\n",
       "  </tbody>\n",
       "</table>\n",
       "</div>"
      ],
      "text/plain": [
       "                 Paul Bartenfeld  Evan Sooklal  Roman Ramirez  \\\n",
       "Paul Bartenfeld              NaN     -0.179256      -0.054102   \n",
       "Evan Sooklal            0.179256           NaN       0.145432   \n",
       "Roman Ramirez           0.054102     -0.145432            NaN   \n",
       "Jack Massingill              NaN     -0.079347      -0.096126   \n",
       "Will Simpson            0.301516      0.186905      -0.094057   \n",
       "Aaron Carter            0.061861      0.057581       0.011689   \n",
       "\n",
       "                 Jack Massingill  Will Simpson  Aaron Carter  \n",
       "Paul Bartenfeld              NaN     -0.301516     -0.061861  \n",
       "Evan Sooklal            0.079347     -0.186905     -0.057581  \n",
       "Roman Ramirez           0.096126      0.094057     -0.011689  \n",
       "Jack Massingill              NaN      0.122440      0.260322  \n",
       "Will Simpson           -0.122440           NaN     -0.107992  \n",
       "Aaron Carter           -0.260322      0.107992           NaN  "
      ]
     },
     "metadata": {},
     "output_type": "display_data"
    },
    {
     "data": {
      "text/html": [
       "<div>\n",
       "<style scoped>\n",
       "    .dataframe tbody tr th:only-of-type {\n",
       "        vertical-align: middle;\n",
       "    }\n",
       "\n",
       "    .dataframe tbody tr th {\n",
       "        vertical-align: top;\n",
       "    }\n",
       "\n",
       "    .dataframe thead th {\n",
       "        text-align: right;\n",
       "    }\n",
       "</style>\n",
       "<table border=\"1\" class=\"dataframe\">\n",
       "  <thead>\n",
       "    <tr style=\"text-align: right;\">\n",
       "      <th></th>\n",
       "      <th>Paul Bartenfeld</th>\n",
       "      <th>Evan Sooklal</th>\n",
       "      <th>Roman Ramirez</th>\n",
       "      <th>Jack Massingill</th>\n",
       "      <th>Will Simpson</th>\n",
       "      <th>Aaron Carter</th>\n",
       "    </tr>\n",
       "  </thead>\n",
       "  <tbody>\n",
       "    <tr>\n",
       "      <th>Paul Bartenfeld</th>\n",
       "      <td>[0, 0]</td>\n",
       "      <td>[24, 35]</td>\n",
       "      <td>[21, 31]</td>\n",
       "      <td>[0, 0]</td>\n",
       "      <td>[16, 36]</td>\n",
       "      <td>[15, 21]</td>\n",
       "    </tr>\n",
       "    <tr>\n",
       "      <th>Evan Sooklal</th>\n",
       "      <td>[35, 24]</td>\n",
       "      <td>[0, 0]</td>\n",
       "      <td>[54, 43]</td>\n",
       "      <td>[6, 6]</td>\n",
       "      <td>[35, 65]</td>\n",
       "      <td>[44, 60]</td>\n",
       "    </tr>\n",
       "    <tr>\n",
       "      <th>Roman Ramirez</th>\n",
       "      <td>[31, 21]</td>\n",
       "      <td>[43, 54]</td>\n",
       "      <td>[0, 0]</td>\n",
       "      <td>[6, 6]</td>\n",
       "      <td>[61, 60]</td>\n",
       "      <td>[33, 43]</td>\n",
       "    </tr>\n",
       "    <tr>\n",
       "      <th>Jack Massingill</th>\n",
       "      <td>[0, 0]</td>\n",
       "      <td>[6, 6]</td>\n",
       "      <td>[6, 6]</td>\n",
       "      <td>[0, 0]</td>\n",
       "      <td>[6, 6]</td>\n",
       "      <td>[6, 6]</td>\n",
       "    </tr>\n",
       "    <tr>\n",
       "      <th>Will Simpson</th>\n",
       "      <td>[36, 16]</td>\n",
       "      <td>[65, 35]</td>\n",
       "      <td>[60, 61]</td>\n",
       "      <td>[6, 6]</td>\n",
       "      <td>[0, 0]</td>\n",
       "      <td>[38, 53]</td>\n",
       "    </tr>\n",
       "    <tr>\n",
       "      <th>Aaron Carter</th>\n",
       "      <td>[21, 15]</td>\n",
       "      <td>[60, 44]</td>\n",
       "      <td>[43, 33]</td>\n",
       "      <td>[6, 6]</td>\n",
       "      <td>[53, 38]</td>\n",
       "      <td>[0, 0]</td>\n",
       "    </tr>\n",
       "  </tbody>\n",
       "</table>\n",
       "</div>"
      ],
      "text/plain": [
       "                Paul Bartenfeld Evan Sooklal Roman Ramirez Jack Massingill  \\\n",
       "Paul Bartenfeld          [0, 0]     [24, 35]      [21, 31]          [0, 0]   \n",
       "Evan Sooklal           [35, 24]       [0, 0]      [54, 43]          [6, 6]   \n",
       "Roman Ramirez          [31, 21]     [43, 54]        [0, 0]          [6, 6]   \n",
       "Jack Massingill          [0, 0]       [6, 6]        [6, 6]          [0, 0]   \n",
       "Will Simpson           [36, 16]     [65, 35]      [60, 61]          [6, 6]   \n",
       "Aaron Carter           [21, 15]     [60, 44]      [43, 33]          [6, 6]   \n",
       "\n",
       "                Will Simpson Aaron Carter  \n",
       "Paul Bartenfeld     [16, 36]     [15, 21]  \n",
       "Evan Sooklal        [35, 65]     [44, 60]  \n",
       "Roman Ramirez       [61, 60]     [33, 43]  \n",
       "Jack Massingill       [6, 6]       [6, 6]  \n",
       "Will Simpson          [0, 0]     [38, 53]  \n",
       "Aaron Carter        [53, 38]       [0, 0]  "
      ]
     },
     "metadata": {},
     "output_type": "display_data"
    },
    {
     "data": {
      "text/html": [
       "<div>\n",
       "<style scoped>\n",
       "    .dataframe tbody tr th:only-of-type {\n",
       "        vertical-align: middle;\n",
       "    }\n",
       "\n",
       "    .dataframe tbody tr th {\n",
       "        vertical-align: top;\n",
       "    }\n",
       "\n",
       "    .dataframe thead th {\n",
       "        text-align: right;\n",
       "    }\n",
       "</style>\n",
       "<table border=\"1\" class=\"dataframe\">\n",
       "  <thead>\n",
       "    <tr style=\"text-align: right;\">\n",
       "      <th></th>\n",
       "      <th>Aaron Carter</th>\n",
       "      <th>Evan Sooklal</th>\n",
       "      <th>Jack Massingill</th>\n",
       "      <th>Paul Bartenfeld</th>\n",
       "      <th>Roman Ramirez</th>\n",
       "      <th>Will Simpson</th>\n",
       "    </tr>\n",
       "  </thead>\n",
       "  <tbody>\n",
       "    <tr>\n",
       "      <th>1</th>\n",
       "      <td>NaN</td>\n",
       "      <td>-4.0</td>\n",
       "      <td>NaN</td>\n",
       "      <td>NaN</td>\n",
       "      <td>NaN</td>\n",
       "      <td>4.0</td>\n",
       "    </tr>\n",
       "    <tr>\n",
       "      <th>2</th>\n",
       "      <td>NaN</td>\n",
       "      <td>NaN</td>\n",
       "      <td>NaN</td>\n",
       "      <td>-4.0</td>\n",
       "      <td>4.0</td>\n",
       "      <td>NaN</td>\n",
       "    </tr>\n",
       "    <tr>\n",
       "      <th>3</th>\n",
       "      <td>NaN</td>\n",
       "      <td>-3.0</td>\n",
       "      <td>NaN</td>\n",
       "      <td>NaN</td>\n",
       "      <td>3.0</td>\n",
       "      <td>NaN</td>\n",
       "    </tr>\n",
       "    <tr>\n",
       "      <th>4</th>\n",
       "      <td>NaN</td>\n",
       "      <td>NaN</td>\n",
       "      <td>NaN</td>\n",
       "      <td>-5.0</td>\n",
       "      <td>NaN</td>\n",
       "      <td>5.0</td>\n",
       "    </tr>\n",
       "    <tr>\n",
       "      <th>5</th>\n",
       "      <td>NaN</td>\n",
       "      <td>5.0</td>\n",
       "      <td>NaN</td>\n",
       "      <td>-5.0</td>\n",
       "      <td>NaN</td>\n",
       "      <td>NaN</td>\n",
       "    </tr>\n",
       "    <tr>\n",
       "      <th>...</th>\n",
       "      <td>...</td>\n",
       "      <td>...</td>\n",
       "      <td>...</td>\n",
       "      <td>...</td>\n",
       "      <td>...</td>\n",
       "      <td>...</td>\n",
       "    </tr>\n",
       "    <tr>\n",
       "      <th>106</th>\n",
       "      <td>NaN</td>\n",
       "      <td>-6.0</td>\n",
       "      <td>NaN</td>\n",
       "      <td>NaN</td>\n",
       "      <td>6.0</td>\n",
       "      <td>NaN</td>\n",
       "    </tr>\n",
       "    <tr>\n",
       "      <th>107</th>\n",
       "      <td>6.0</td>\n",
       "      <td>NaN</td>\n",
       "      <td>NaN</td>\n",
       "      <td>NaN</td>\n",
       "      <td>-6.0</td>\n",
       "      <td>NaN</td>\n",
       "    </tr>\n",
       "    <tr>\n",
       "      <th>108</th>\n",
       "      <td>NaN</td>\n",
       "      <td>NaN</td>\n",
       "      <td>-6.0</td>\n",
       "      <td>NaN</td>\n",
       "      <td>NaN</td>\n",
       "      <td>6.0</td>\n",
       "    </tr>\n",
       "    <tr>\n",
       "      <th>109</th>\n",
       "      <td>NaN</td>\n",
       "      <td>NaN</td>\n",
       "      <td>NaN</td>\n",
       "      <td>NaN</td>\n",
       "      <td>6.0</td>\n",
       "      <td>-6.0</td>\n",
       "    </tr>\n",
       "    <tr>\n",
       "      <th>110</th>\n",
       "      <td>-6.0</td>\n",
       "      <td>6.0</td>\n",
       "      <td>NaN</td>\n",
       "      <td>NaN</td>\n",
       "      <td>NaN</td>\n",
       "      <td>NaN</td>\n",
       "    </tr>\n",
       "  </tbody>\n",
       "</table>\n",
       "<p>110 rows × 6 columns</p>\n",
       "</div>"
      ],
      "text/plain": [
       "     Aaron Carter  Evan Sooklal  Jack Massingill  Paul Bartenfeld  \\\n",
       "1             NaN          -4.0              NaN              NaN   \n",
       "2             NaN           NaN              NaN             -4.0   \n",
       "3             NaN          -3.0              NaN              NaN   \n",
       "4             NaN           NaN              NaN             -5.0   \n",
       "5             NaN           5.0              NaN             -5.0   \n",
       "..            ...           ...              ...              ...   \n",
       "106           NaN          -6.0              NaN              NaN   \n",
       "107           6.0           NaN              NaN              NaN   \n",
       "108           NaN           NaN             -6.0              NaN   \n",
       "109           NaN           NaN              NaN              NaN   \n",
       "110          -6.0           6.0              NaN              NaN   \n",
       "\n",
       "     Roman Ramirez  Will Simpson  \n",
       "1              NaN           4.0  \n",
       "2              4.0           NaN  \n",
       "3              3.0           NaN  \n",
       "4              NaN           5.0  \n",
       "5              NaN           NaN  \n",
       "..             ...           ...  \n",
       "106            6.0           NaN  \n",
       "107           -6.0           NaN  \n",
       "108            NaN           6.0  \n",
       "109            6.0          -6.0  \n",
       "110            NaN           NaN  \n",
       "\n",
       "[110 rows x 6 columns]"
      ]
     },
     "metadata": {},
     "output_type": "display_data"
    }
   ],
   "source": [
    "# elo stuff\n",
    "K = 31\n",
    "base = 3\n",
    "\n",
    "def expected_score(ratingA, ratingB, base=None):\n",
    "    # game variables\n",
    "    # base = 10\n",
    "    normal_elo_difference = 100\n",
    "\n",
    "    return (1 / (1 + np.power(base, (ratingB - ratingA) / normal_elo_difference)))\n",
    "\n",
    "def rating_change(score, expected_score, K=None):\n",
    "    # k-factor: determines how strongly a result affects the rating change\n",
    "    # usually between 10 and 40, bit with a lot of games, we want to change it often\n",
    "    # K = 32\n",
    "    return K * (score - expected_score)\n",
    "\n",
    "def sort_index_by_elo(table, elo):\n",
    "    for i in range(2):\n",
    "        table.sort_index(axis=i, key=(lambda x: [elo[y] for y in x.values]), inplace=True)\n",
    "\n",
    "def add_elo_to_index(table):\n",
    "    table.index= [f\"{x}<br>{(elo[x]):,.0f}\" for x in table.index]\n",
    "    table.columns = [f\"{x}<br>({(elo[x]):,.0f})\" for x in table.columns]\n",
    "\n",
    "def generate_elo(K, base):\n",
    "    # ELO INITIALIZATION\n",
    "    starting_elo = 1200.0\n",
    "    elo = dict.fromkeys(set_players, starting_elo)\n",
    "    elo_time = np.zeros([len(matches_table) + 1, num_players])\n",
    "    elo_time_table = pd.DataFrame(elo_time)\n",
    "    elo_time_table.columns = sorted(elo)\n",
    "    elo_time_table.replace(0, np.NaN, inplace=True)\n",
    "\n",
    "    prev_elo_time_table = elo_time_table.copy(deep=True)\n",
    "    d_elo_time_table = elo_time_table.copy(deep=True)\n",
    "    exp_elo_time_table = elo_time_table.copy(deep=True)\n",
    "    wl_time_table = elo_time_table.copy(deep=True)\n",
    "\n",
    "    record_table = pd.DataFrame(np.zeros([len(set_players), len(set_players)]),dtype=object)\n",
    "    record_table.index = list(set_players)\n",
    "    record_table.columns = list(set_players)\n",
    "\n",
    "    luck_table = pd.DataFrame(np.zeros([len(set_players), len(set_players)]))\n",
    "    luck_table.index = list(set_players)\n",
    "    luck_table.columns = list(set_players)\n",
    "\n",
    "    for c in record_table.columns:\n",
    "        for r in record_table.index:\n",
    "            record_table.at[r, c] = np.array([0, 0])\n",
    "\n",
    "    plus_minus_table = pd.DataFrame(np.zeros([len(set_players), len(set_players)]),dtype=object)\n",
    "    plus_minus_table.index = list(set_players)\n",
    "    plus_minus_table.columns = list(set_players)\n",
    "    \n",
    "    for c in plus_minus_table.columns:\n",
    "        for r in plus_minus_table.index:\n",
    "            plus_minus_table.at[r, c] = np.array([0, 0])\n",
    "\n",
    "    elo_time_table.iloc[0,:] = starting_elo\n",
    "    prev_elo_time_table.iloc[0,:] = starting_elo\n",
    "\n",
    "    for (i, row) in matches_table.iterrows():\n",
    "        elo_p1 = elo[row['Player 1']]\n",
    "        elo_p2 = elo[row['Player 2']]\n",
    "\n",
    "        prev_elo_time_table.loc[i + 1, row['Player 1']] = elo_p1\n",
    "        prev_elo_time_table.loc[i + 1, row['Player 2']] = elo_p2\n",
    "        \n",
    "        win_prob_p1 = expected_score(elo_p1, elo_p2, base=base)\n",
    "        win_prob_p2 = expected_score(elo_p2, elo_p1, base=base)\n",
    "        \n",
    "        exp_elo_time_table.loc[i + 1, row['Player 1']] = win_prob_p1\n",
    "        exp_elo_time_table.loc[i + 1, row['Player 2']] = win_prob_p2\n",
    "\n",
    "        rating_change_p1 = rating_change(row['Score 1'] > row['Score 2'], win_prob_p1, K=K)\n",
    "        rating_change_p2 = rating_change(row['Score 2'] > row['Score 1'], win_prob_p2, K=K)\n",
    "\n",
    "        if rating_change_p1 > 0:\n",
    "            luck_table.loc[row['Player 1'], row['Player 2']] += 1 - win_prob_p1\n",
    "            luck_table.loc[row['Player 2'], row['Player 1']] += 0 - win_prob_p2\n",
    "        elif rating_change_p2 > 0:\n",
    "            luck_table.loc[row['Player 1'], row['Player 2']] += 0 - win_prob_p1\n",
    "            luck_table.loc[row['Player 2'], row['Player 1']] += 1 - win_prob_p2\n",
    "\n",
    "        plus_minus_table.loc[row['Player 1'], row['Player 2']][0] += row['Score 1']\n",
    "        plus_minus_table.loc[row['Player 1'], row['Player 2']][1] += row['Score 2']\n",
    "        plus_minus_table.loc[row['Player 2'], row['Player 1']][0] += row['Score 2']\n",
    "        plus_minus_table.loc[row['Player 2'], row['Player 1']][1] += row['Score 1']\n",
    "\n",
    "        if row['Score 1'] > row['Score 2']:\n",
    "            record_table.loc[row['Player 1'], row['Player 2']][0] += 1\n",
    "            record_table.loc[row['Player 2'], row['Player 1']][1] += 1\n",
    "            wl_time_table.loc[i + 1, row['Player 1']] = row['Score 1'] - row['Score 2']\n",
    "            wl_time_table.loc[i + 1, row['Player 2']] = row['Score 2'] - row['Score 1']\n",
    "        elif row['Score 2'] > row['Score 1']:\n",
    "            record_table.loc[row['Player 2'], row['Player 1']][0] += 1\n",
    "            record_table.loc[row['Player 1'], row['Player 2']][1] += 1\n",
    "            wl_time_table.loc[i + 1, row['Player 1']] = row['Score 1'] - row['Score 2']\n",
    "            wl_time_table.loc[i + 1, row['Player 2']] = row['Score 2'] - row['Score 1']\n",
    "\n",
    "        d_elo_time_table.loc[i + 1, row['Player 1']] = rating_change_p1\n",
    "        d_elo_time_table.loc[i + 1, row['Player 2']] = rating_change_p2\n",
    "\n",
    "        elo[row['Player 1']] += rating_change_p1\n",
    "        elo[row['Player 2']] += rating_change_p2\n",
    "\n",
    "        elo_time_table.loc[i + 1, row['Player 1']] = elo[row['Player 1']]\n",
    "        elo_time_table.loc[i + 1, row['Player 2']] = elo[row['Player 2']]\n",
    "\n",
    "    prev_elo_time_table = prev_elo_time_table.iloc[1:,:]\n",
    "    elo_time_table = elo_time_table.iloc[1:,:]\n",
    "    d_elo_time_table = d_elo_time_table.iloc[1:,:]\n",
    "    exp_elo_time_table = exp_elo_time_table.iloc[1:,:]\n",
    "    wl_time_table = wl_time_table.iloc[1:,:]\n",
    "\n",
    "    list_players = sorted(set_players, key=lambda x: elo[x], reverse=False)\n",
    "\n",
    "    for table in [record_table, luck_table, plus_minus_table]:\n",
    "        sort_index_by_elo(table, elo)\n",
    "\n",
    "    return (elo, elo_time_table, prev_elo_time_table, d_elo_time_table, exp_elo_time_table, wl_time_table, record_table, luck_table, plus_minus_table)\n",
    "\n",
    "(elo, elo_time_table, prev_elo_time_table, d_elo_time_table, exp_elo_time_table, wl_time_table, record_table, luck_table, plus_minus_table) = generate_elo(K=K,base=base)\n",
    "\n",
    "luck_per_game_table = luck_table.copy(deep=True)\n",
    "\n",
    "for c in luck_per_game_table.columns:\n",
    "    for r in luck_per_game_table.index:\n",
    "        if r !=c :\n",
    "            luck_per_game_table.loc[r, c] /= record_table.loc[r, c].sum()\n",
    "        else:\n",
    "            luck_per_game_table.loc[r, c] = np.NaN\n",
    "\n",
    "\n",
    "display(record_table)\n",
    "display(luck_per_game_table)\n",
    "display(plus_minus_table)\n",
    "display(wl_time_table)\n",
    "\n",
    "prev_elo_time_table.to_excel('exports/prev_elo_time_table.xlsx')\n",
    "d_elo_time_table.to_excel('exports/d_elo_time_table.xlsx')\n",
    "elo_time_table.to_excel('exports/elo_time_table.xlsx')\n",
    "exp_elo_time_table.to_excel('exports/exp_elo_time_table.xlsx')\n",
    "\n"
   ]
  },
  {
   "cell_type": "code",
   "execution_count": 6,
   "metadata": {},
   "outputs": [
    {
     "data": {
      "text/html": [
       "<style type=\"text/css\">\n",
       "#T_5b248  {\n",
       "  text-align: center;\n",
       "  font-size: 11pt;\n",
       "  border-collapse: collapse;\n",
       "  border: 1px solid silver;\n",
       "}\n",
       "#T_5b248 caption {\n",
       "  font: bold 20px Verdana;\n",
       "}\n",
       "#T_5b248 tr:nth-child(even) {\n",
       "  background-color: #D3D3D3;\n",
       "}\n",
       "#T_5b248 td:hover {\n",
       "  background-color: #ffffb3;\n",
       "}\n",
       "#T_5b248 th {\n",
       "  font-family: Verdana;\n",
       "  background-color: #828282;\n",
       "  color: #FFFFFF;\n",
       "  padding-left: 5px;\n",
       "  padding-right: 5px;\n",
       "}\n",
       "#T_5b248 td {\n",
       "  font-family: Courier New;\n",
       "  font-weight: bold;\n",
       "  padding-left: 5px;\n",
       "  padding-right: 5px;\n",
       "}\n",
       "</style>\n",
       "<table id=\"T_5b248\">\n",
       "  <caption>Player Table Statistics</caption>\n",
       "  <thead>\n",
       "    <tr>\n",
       "      <th class=\"blank level0\" >&nbsp;</th>\n",
       "      <th class=\"col_heading level0 col0\" >Current ELO</th>\n",
       "      <th class=\"col_heading level0 col1\" >Max ELO</th>\n",
       "      <th class=\"col_heading level0 col2\" >Min ELO</th>\n",
       "      <th class=\"col_heading level0 col3\" >Titles</th>\n",
       "      <th class=\"col_heading level0 col4\" >Runner-Ups</th>\n",
       "      <th class=\"col_heading level0 col5\" >GP</th>\n",
       "      <th class=\"col_heading level0 col6\" >W</th>\n",
       "      <th class=\"col_heading level0 col7\" >L</th>\n",
       "      <th class=\"col_heading level0 col8\" >GB</th>\n",
       "      <th class=\"col_heading level0 col9\" >PCT</th>\n",
       "      <th class=\"col_heading level0 col10\" >PD</th>\n",
       "      <th class=\"col_heading level0 col11\" >PF</th>\n",
       "      <th class=\"col_heading level0 col12\" >PA</th>\n",
       "      <th class=\"col_heading level0 col13\" >PD/G</th>\n",
       "      <th class=\"col_heading level0 col14\" >PF/G</th>\n",
       "      <th class=\"col_heading level0 col15\" >PA/G</th>\n",
       "      <th class=\"col_heading level0 col16\" >Luck/G</th>\n",
       "      <th class=\"col_heading level0 col17\" >1-PT G</th>\n",
       "      <th class=\"col_heading level0 col18\" >6-PT G</th>\n",
       "      <th class=\"col_heading level0 col19\" >Streak</th>\n",
       "      <th class=\"col_heading level0 col20\" >L10</th>\n",
       "    </tr>\n",
       "  </thead>\n",
       "  <tbody>\n",
       "    <tr>\n",
       "      <th class=\"row_heading level0 row0\" >Aaron Carter</th>\n",
       "      <td class=\"data row0 col0\" >1266</td>\n",
       "      <td class=\"data row0 col1\" >1327</td>\n",
       "      <td class=\"data row0 col2\" >1182</td>\n",
       "      <td class=\"data row0 col3\" >2</td>\n",
       "      <td class=\"data row0 col4\" >2</td>\n",
       "      <td class=\"data row0 col5\" >44</td>\n",
       "      <td class=\"data row0 col6\" >30</td>\n",
       "      <td class=\"data row0 col7\" >14</td>\n",
       "      <td class=\"data row0 col8\" >0.0</td>\n",
       "      <td class=\"data row0 col9\" >0.682</td>\n",
       "      <td class=\"data row0 col10\" >+47</td>\n",
       "      <td class=\"data row0 col11\" >183</td>\n",
       "      <td class=\"data row0 col12\" >136</td>\n",
       "      <td class=\"data row0 col13\" >+1.1</td>\n",
       "      <td class=\"data row0 col14\" >4.2</td>\n",
       "      <td class=\"data row0 col15\" >3.1</td>\n",
       "      <td class=\"data row0 col16\" >+4.8%</td>\n",
       "      <td class=\"data row0 col17\" >6-4</td>\n",
       "      <td class=\"data row0 col18\" >5-5</td>\n",
       "      <td class=\"data row0 col19\" >L1</td>\n",
       "      <td class=\"data row0 col20\" >6-4</td>\n",
       "    </tr>\n",
       "    <tr>\n",
       "      <th class=\"row_heading level0 row1\" >Will Simpson</th>\n",
       "      <td class=\"data row1 col0\" >1239</td>\n",
       "      <td class=\"data row1 col1\" >1307</td>\n",
       "      <td class=\"data row1 col2\" >1197</td>\n",
       "      <td class=\"data row1 col3\" >2</td>\n",
       "      <td class=\"data row1 col4\" >2</td>\n",
       "      <td class=\"data row1 col5\" >51</td>\n",
       "      <td class=\"data row1 col6\" >31</td>\n",
       "      <td class=\"data row1 col7\" >20</td>\n",
       "      <td class=\"data row1 col8\" >-2.5</td>\n",
       "      <td class=\"data row1 col9\" >0.608</td>\n",
       "      <td class=\"data row1 col10\" >+34</td>\n",
       "      <td class=\"data row1 col11\" >205</td>\n",
       "      <td class=\"data row1 col12\" >171</td>\n",
       "      <td class=\"data row1 col13\" >+0.7</td>\n",
       "      <td class=\"data row1 col14\" >4.0</td>\n",
       "      <td class=\"data row1 col15\" >3.4</td>\n",
       "      <td class=\"data row1 col16\" >+2.5%</td>\n",
       "      <td class=\"data row1 col17\" >4-1</td>\n",
       "      <td class=\"data row1 col18\" >4-5</td>\n",
       "      <td class=\"data row1 col19\" >L1</td>\n",
       "      <td class=\"data row1 col20\" >4-6</td>\n",
       "    </tr>\n",
       "    <tr>\n",
       "      <th class=\"row_heading level0 row2\" >Jack Massingill</th>\n",
       "      <td class=\"data row2 col0\" >1213</td>\n",
       "      <td class=\"data row2 col1\" >1227</td>\n",
       "      <td class=\"data row2 col2\" >1181</td>\n",
       "      <td class=\"data row2 col3\" >0</td>\n",
       "      <td class=\"data row2 col4\" >0</td>\n",
       "      <td class=\"data row2 col5\" >8</td>\n",
       "      <td class=\"data row2 col6\" >4</td>\n",
       "      <td class=\"data row2 col7\" >4</td>\n",
       "      <td class=\"data row2 col8\" >-8.0</td>\n",
       "      <td class=\"data row2 col9\" >0.500</td>\n",
       "      <td class=\"data row2 col10\" >+0</td>\n",
       "      <td class=\"data row2 col11\" >24</td>\n",
       "      <td class=\"data row2 col12\" >24</td>\n",
       "      <td class=\"data row2 col13\" >+0.0</td>\n",
       "      <td class=\"data row2 col14\" >3.0</td>\n",
       "      <td class=\"data row2 col15\" >3.0</td>\n",
       "      <td class=\"data row2 col16\" >+5.2%</td>\n",
       "      <td class=\"data row2 col17\" >0-0</td>\n",
       "      <td class=\"data row2 col18\" >4-4</td>\n",
       "      <td class=\"data row2 col19\" >L1</td>\n",
       "      <td class=\"data row2 col20\" >4-4</td>\n",
       "    </tr>\n",
       "    <tr>\n",
       "      <th class=\"row_heading level0 row3\" >Roman Ramirez</th>\n",
       "      <td class=\"data row3 col0\" >1197</td>\n",
       "      <td class=\"data row3 col1\" >1258</td>\n",
       "      <td class=\"data row3 col2\" >1118</td>\n",
       "      <td class=\"data row3 col3\" >1</td>\n",
       "      <td class=\"data row3 col4\" >0</td>\n",
       "      <td class=\"data row3 col5\" >47</td>\n",
       "      <td class=\"data row3 col6\" >19</td>\n",
       "      <td class=\"data row3 col7\" >28</td>\n",
       "      <td class=\"data row3 col8\" >-12.5</td>\n",
       "      <td class=\"data row3 col9\" >0.404</td>\n",
       "      <td class=\"data row3 col10\" >-10</td>\n",
       "      <td class=\"data row3 col11\" >174</td>\n",
       "      <td class=\"data row3 col12\" >184</td>\n",
       "      <td class=\"data row3 col13\" >-0.2</td>\n",
       "      <td class=\"data row3 col14\" >3.7</td>\n",
       "      <td class=\"data row3 col15\" >3.9</td>\n",
       "      <td class=\"data row3 col16\" >-0.2%</td>\n",
       "      <td class=\"data row3 col17\" >1-7</td>\n",
       "      <td class=\"data row3 col18\" >5-4</td>\n",
       "      <td class=\"data row3 col19\" >W1</td>\n",
       "      <td class=\"data row3 col20\" >4-6</td>\n",
       "    </tr>\n",
       "    <tr>\n",
       "      <th class=\"row_heading level0 row4\" >Evan Sooklal</th>\n",
       "      <td class=\"data row4 col0\" >1193</td>\n",
       "      <td class=\"data row4 col1\" >1252</td>\n",
       "      <td class=\"data row4 col2\" >1157</td>\n",
       "      <td class=\"data row4 col3\" >1</td>\n",
       "      <td class=\"data row4 col4\" >2</td>\n",
       "      <td class=\"data row4 col5\" >48</td>\n",
       "      <td class=\"data row4 col6\" >22</td>\n",
       "      <td class=\"data row4 col7\" >26</td>\n",
       "      <td class=\"data row4 col8\" >-10.0</td>\n",
       "      <td class=\"data row4 col9\" >0.458</td>\n",
       "      <td class=\"data row4 col10\" >-24</td>\n",
       "      <td class=\"data row4 col11\" >174</td>\n",
       "      <td class=\"data row4 col12\" >198</td>\n",
       "      <td class=\"data row4 col13\" >-0.5</td>\n",
       "      <td class=\"data row4 col14\" >3.6</td>\n",
       "      <td class=\"data row4 col15\" >4.1</td>\n",
       "      <td class=\"data row4 col16\" >-0.5%</td>\n",
       "      <td class=\"data row4 col17\" >7-5</td>\n",
       "      <td class=\"data row4 col18\" >4-4</td>\n",
       "      <td class=\"data row4 col19\" >W1</td>\n",
       "      <td class=\"data row4 col20\" >4-6</td>\n",
       "    </tr>\n",
       "    <tr>\n",
       "      <th class=\"row_heading level0 row5\" >Paul Bartenfeld</th>\n",
       "      <td class=\"data row5 col0\" >1093</td>\n",
       "      <td class=\"data row5 col1\" >1184</td>\n",
       "      <td class=\"data row5 col2\" >1093</td>\n",
       "      <td class=\"data row5 col3\" >0</td>\n",
       "      <td class=\"data row5 col4\" >0</td>\n",
       "      <td class=\"data row5 col5\" >22</td>\n",
       "      <td class=\"data row5 col6\" >4</td>\n",
       "      <td class=\"data row5 col7\" >18</td>\n",
       "      <td class=\"data row5 col8\" >-15.0</td>\n",
       "      <td class=\"data row5 col9\" >0.182</td>\n",
       "      <td class=\"data row5 col10\" >-47</td>\n",
       "      <td class=\"data row5 col11\" >76</td>\n",
       "      <td class=\"data row5 col12\" >123</td>\n",
       "      <td class=\"data row5 col13\" >-2.1</td>\n",
       "      <td class=\"data row5 col14\" >3.5</td>\n",
       "      <td class=\"data row5 col15\" >5.6</td>\n",
       "      <td class=\"data row5 col16\" >-15.7%</td>\n",
       "      <td class=\"data row5 col17\" >1-2</td>\n",
       "      <td class=\"data row5 col18\" >0-0</td>\n",
       "      <td class=\"data row5 col19\" >L8</td>\n",
       "      <td class=\"data row5 col20\" >2-8</td>\n",
       "    </tr>\n",
       "  </tbody>\n",
       "</table>\n"
      ],
      "text/plain": [
       "<pandas.io.formats.style.Styler at 0x1501cc34af0>"
      ]
     },
     "metadata": {},
     "output_type": "display_data"
    }
   ],
   "source": [
    "# player stats\n",
    "\n",
    "player_table = pd.DataFrame(np.zeros([len(set_players), 0]))\n",
    "player_table.index = set_players\n",
    "player_table.sort_index(axis=0, key=(lambda x: [elo[y] for y in x.values]), ascending=False, inplace=True)\n",
    "\n",
    "# ELO\n",
    "\n",
    "player_table['Current ELO'] = [elo[x] for x in player_table.index]\n",
    "player_table['Max ELO'] = elo_time_table.replace(to_replace=np.NaN, value=-np.inf).max(axis=0)\n",
    "player_table['Min ELO'] = elo_time_table.replace(to_replace=np.NaN, value=np.inf).min(axis=0)\n",
    "\n",
    "date2matches_len = dict.fromkeys(set(matches_table['Date']),0)\n",
    "date2matches_first = dict.fromkeys(set(matches_table['Date']),0)\n",
    "for (i, row) in matches_table.iterrows():\n",
    "    if date2matches_len[row['Date']] == 0:\n",
    "        date2matches_first[row['Date']] = i\n",
    "    date2matches_len[row['Date']] += 1\n",
    "\n",
    "# CHAMPIONSHIPS AND RUNNER UPS\n",
    "\n",
    "championships = dict.fromkeys(set_players, 0)\n",
    "runner_ups = dict.fromkeys(set_players, 0)\n",
    "for date in set(matches_table['Date']):\n",
    "    row = matches_table.iloc[date2matches_first[date] + date2matches_len[date] - 1, :]\n",
    "    if row['Score 1'] > row['Score 2']:\n",
    "        championships[row['Player 1']] += 1\n",
    "        runner_ups[row['Player 2']] += 1\n",
    "    elif row['Score 2'] > row['Score 1']:\n",
    "        championships[row['Player 2']] += 1\n",
    "        runner_ups[row['Player 1']] += 1\n",
    "\n",
    "player_table['Titles'] = pd.DataFrame(championships.values(), index=championships.keys())\n",
    "player_table['Runner-Ups'] = pd.DataFrame(runner_ups.values(), index=runner_ups.keys())\n",
    "\n",
    "# RECORDS\n",
    "\n",
    "player_table['Record'] = record_table.sum(axis=1)\n",
    "player_table['GP'] = [sum(r) for r in player_table['Record']]\n",
    "player_table['W'] = [r[0] for r in player_table['Record']]\n",
    "player_table['L'] = [r[1] for r in player_table['Record']]\n",
    "player_table['WL'] = player_table['W'] - player_table['L']\n",
    "player_table['GB'] = (player_table['WL'] - player_table['WL'].max()) / 2\n",
    "player_table['PCT'] = player_table['W'] / player_table['GP']\n",
    "player_table.drop(columns='Record', inplace=True)\n",
    "\n",
    "# POINTS\n",
    "\n",
    "player_table['Raw +/-'] = plus_minus_table.sum(axis=1)\n",
    "player_table['PD'] = [r[0] - r[1] for r in player_table['Raw +/-']]\n",
    "player_table['PF'] = [r[0] for r in player_table['Raw +/-']]\n",
    "player_table['PA'] = [r[1] for r in player_table['Raw +/-']]\n",
    "player_table['PD/G'] = player_table['PD'] / player_table['GP']\n",
    "player_table['PF/G'] = player_table['PF'] / player_table['GP']\n",
    "player_table['PA/G'] = player_table['PA'] / player_table['GP']\n",
    "player_table.drop(columns='Raw +/-', inplace=True)\n",
    "\n",
    "# LUCK\n",
    "\n",
    "player_table['Luck'] = luck_table.sum(axis=1)\n",
    "player_table['Luck/G'] = player_table['Luck'] / player_table['GP']\n",
    "\n",
    "# N-POINT GAMES\n",
    "npg_table = pd.DataFrame(np.zeros([len(set_players), 0]))\n",
    "npg_table.index = player_table.index\n",
    "sort_index_by_elo(npg_table, elo)\n",
    "\n",
    "for i in range(6):\n",
    "    npg_table[f'{i+1}-PT G'] = [[0, 0] for x in range(len(set_players))]\n",
    "for (i, row) in matches_table.iterrows():\n",
    "    npg_table.loc[row['Player 1'], f\"{abs(row['Score 1'] - row['Score 2'])}-PT G\"][row['Score 1'] < row['Score 2']] += 1\n",
    "    npg_table.loc[row['Player 2'], f\"{abs(row['Score 1'] - row['Score 2'])}-PT G\"][row['Score 1'] > row['Score 2']] += 1\n",
    "\n",
    "# STREAKS\n",
    "\n",
    "streaks = dict.fromkeys(set_players, list())\n",
    "\n",
    "for player in streaks.keys():\n",
    "    running = [0]\n",
    "    for is_win in wl_time_table[player].dropna().reset_index(drop=True).apply(np.sign):\n",
    "        if running[-1] == 0:\n",
    "            running.append(is_win)\n",
    "        elif (is_win > 0) and (running[-1] < 0):\n",
    "            running.append(1)\n",
    "        elif (is_win < 0) and (running[-1] > 0):\n",
    "            running.append(-1)\n",
    "        else:\n",
    "            running.append(running[-1] + is_win)\n",
    "    streaks[player] = running[1:]\n",
    "\n",
    "streaks_table = pd.DataFrame(np.zeros([max([len(x) for x in streaks.values()]), len(set_players)]))\n",
    "streaks_table.columns = set_players\n",
    "streaks_table.sort_index(axis=1, key=(lambda x: [elo[y] for y in x.values]), ascending=False, inplace=True)\n",
    "\n",
    "for player in streaks_table.columns:\n",
    "    streaks_table[player] = pd.Series(streaks[player])\n",
    "\n",
    "for x in ['1-PT G', '6-PT G']:\n",
    "    player_table[x] = npg_table[x]\n",
    "    player_table[x] = [f'{w}-{l}' for (w, l) in player_table[x]]\n",
    "\n",
    "\n",
    "player_table['Streak'] = 0\n",
    "for player in player_table.index:\n",
    "    val = \"\"\n",
    "    if streaks[player][-1] > 0:\n",
    "        val += \"W\"\n",
    "    elif streaks[player][-1] < 0:\n",
    "        val += \"L\"\n",
    "    val += str(int(np.abs(streaks[player][-1])))\n",
    "    player_table.loc[player, 'Streak'] = val\n",
    "\n",
    "player_table['L10'] = \"\"\n",
    "for player in player_table.index:\n",
    "    l10_w = 0\n",
    "    l10_l = 0\n",
    "    for i in range(10):\n",
    "        try:\n",
    "            if streaks[player][-1 - i] > 0:\n",
    "                l10_w += 1\n",
    "            elif streaks[player][-1 - i] < 0:\n",
    "                l10_l += 1\n",
    "        except IndexError:\n",
    "            pass\n",
    "    player_table.loc[player, 'L10'] = f\"{l10_w}-{l10_l}\"\n",
    "\n",
    "player_table.drop('WL', axis=1, inplace=True)\n",
    "player_table.drop('Luck', axis=1, inplace=True)\n",
    "\n",
    "# STYLIZING\n",
    "\n",
    "from pandas.io.formats.style import Styler\n",
    "\n",
    "player_table_styled = Styler(player_table, cell_ids=False).format(\n",
    "    {'Current ELO': '{:.0f}',\n",
    "    'Max ELO': '{:.0f}',\n",
    "    'Min ELO': '{:.0f}',\n",
    "    'WL': '{:+,.0f}',\n",
    "    'GB': '{:,.1f}',\n",
    "    'PCT': '{:,.3f}',\n",
    "    'PD': '{:+.0f}',\n",
    "    'PD/G': '{:+,.1f}',\n",
    "    'PF/G': '{:,.1f}',\n",
    "    'PA/G': '{:,.1f}',\n",
    "    'Luck': '{:+,.1%}',\n",
    "    'Luck/G': '{:+,.1%}'\n",
    "    }\n",
    ")\n",
    "\n",
    "player_table_styled.set_caption(\"Player Table Statistics\")\n",
    "\n",
    "styles = [\n",
    "    {\n",
    "        'selector': '',\n",
    "        'props': [\n",
    "            ('text-align', 'center'),\n",
    "            ('font-size', '11pt'),\n",
    "            ('border-collapse', 'collapse'),#'separated'),\n",
    "            ('border', '1px solid silver')\n",
    "        ]\n",
    "    },\n",
    "    {\n",
    "        'selector': 'caption',\n",
    "        'props': [('font', 'bold 20px Verdana')]\n",
    "    },\n",
    "    {\n",
    "        'selector': 'tr:nth-child(even)',\n",
    "        'props': 'background-color: #D3D3D3'\n",
    "    },\n",
    "    {\n",
    "        'selector': 'td:hover',\n",
    "        'props': [('background-color','#ffffb3')]\n",
    "    },\n",
    "    {\n",
    "        'selector': 'th',\n",
    "        'props': [\n",
    "            ('font-family', 'Verdana'),\n",
    "            ('background-color', '#828282'),\n",
    "            ('color', '#FFFFFF'),\n",
    "            ('padding-left', '5px'),\n",
    "            ('padding-right', '5px')\n",
    "        ]\n",
    "    },\n",
    "    {\n",
    "        'selector': 'td',\n",
    "        'props': [\n",
    "            ('font-family', 'Courier New'),\n",
    "            ('font-weight', 'bold'),\n",
    "            ('padding-left', '5px'),\n",
    "            ('padding-right', '5px')\n",
    "        ]\n",
    "    }\n",
    "]\n",
    "\n",
    "player_table_styled.set_table_styles(styles, overwrite=True)\n",
    "\n",
    "with pd.option_context('display.max_rows', None, 'display.max_columns', None):\n",
    "    display(player_table_styled)\n",
    "\n",
    "player_table_styled.to_html('figures/fig4.html')\n",
    "\n",
    "matches_table_styled = Styler(matches_table, cell_ids=False)\n",
    "matches_table_styled.set_caption(\"Matches Table\")\n",
    "matches_table_styled.set_table_styles(styles, overwrite=True)\n",
    "matches_table_styled.to_html('figures/fig5.html')\n",
    "\n"
   ]
  },
  {
   "cell_type": "code",
   "execution_count": 7,
   "metadata": {},
   "outputs": [
    {
     "data": {
      "application/vnd.plotly.v1+json": {
       "config": {
        "plotlyServerURL": "https://plot.ly"
       },
       "data": [
        {
         "connectgaps": true,
         "customdata": [
          [
           "Evan Sooklal",
           "Will Simpson",
           2,
           6,
           "2023-11-18",
           "[Gen 9] OU",
           "1"
          ],
          [
           "Paul Bartenfeld",
           "Roman Ramirez",
           2,
           6,
           "2023-11-18",
           "[Gen 9] OU",
           "2"
          ],
          [
           "Roman Ramirez",
           "Evan Sooklal",
           6,
           3,
           "2023-11-18",
           "[Gen 9] OU",
           "3"
          ],
          [
           "Will Simpson",
           "Paul Bartenfeld",
           6,
           1,
           "2023-11-18",
           "[Gen 9] OU",
           "4"
          ],
          [
           "Paul Bartenfeld",
           "Evan Sooklal",
           1,
           6,
           "2023-11-18",
           "[Gen 9] OU",
           "5"
          ],
          [
           "Will Simpson",
           "Roman Ramirez",
           3,
           6,
           "2023-11-18",
           "[Gen 9] OU",
           "6"
          ],
          [
           "Will Simpson",
           "Evan Sooklal",
           6,
           2,
           "2023-11-18",
           "[Gen 9] OU",
           "7"
          ],
          [
           "Roman Ramirez",
           "Paul Bartenfeld",
           6,
           4,
           "2023-11-18",
           "[Gen 9] OU",
           "8"
          ],
          [
           "Evan Sooklal",
           "Roman Ramirez",
           6,
           5,
           "2023-11-18",
           "[Gen 9] OU",
           "9"
          ],
          [
           "Paul Bartenfeld",
           "Will Simpson",
           4,
           6,
           "2023-11-18",
           "[Gen 9] OU",
           "10"
          ],
          [
           "Evan Sooklal",
           "Paul Bartenfeld",
           6,
           5,
           "2023-11-18",
           "[Gen 9] OU",
           "11"
          ],
          [
           "Roman Ramirez",
           "Will Simpson",
           6,
           2,
           "2023-11-18",
           "[Gen 9] OU",
           "12"
          ],
          [
           "Roman Ramirez",
           "Will Simpson",
           2,
           6,
           "2023-11-18",
           "[Gen 9] OU",
           "1"
          ],
          [
           "Will Simpson",
           "Roman Ramirez",
           4,
           6,
           "2023-11-18",
           "[Gen 9] OU",
           "2"
          ],
          [
           "Roman Ramirez",
           "Will Simpson",
           6,
           4,
           "2023-11-18",
           "[Gen 9] OU",
           "3"
          ],
          [
           "Roman Ramirez",
           "Aaron Carter",
           4,
           6,
           "2023-12-02",
           "[Gen 9] OU",
           "1"
          ],
          [
           "Will Simpson",
           "Paul Bartenfeld",
           6,
           4,
           "2023-12-02",
           "[Gen 9] OU",
           "2"
          ],
          [
           "Aaron Carter",
           "Will Simpson",
           4,
           6,
           "2023-12-02",
           "[Gen 9] OU",
           "3"
          ],
          [
           "Evan Sooklal",
           "Roman Ramirez",
           6,
           2,
           "2023-12-02",
           "[Gen 9] OU",
           "4"
          ],
          [
           "Will Simpson",
           "Evan Sooklal",
           6,
           2,
           "2023-12-02",
           "[Gen 9] OU",
           "5"
          ],
          [
           "Paul Bartenfeld",
           "Aaron Carter",
           6,
           3,
           "2023-12-02",
           "[Gen 9] OU",
           "6"
          ],
          [
           "Evan Sooklal",
           "Paul Bartenfeld",
           6,
           4,
           "2023-12-02",
           "[Gen 9] OU",
           "7"
          ],
          [
           "Roman Ramirez",
           "Will Simpson",
           6,
           4,
           "2023-12-02",
           "[Gen 9] OU",
           "8"
          ],
          [
           "Paul Bartenfeld",
           "Roman Ramirez",
           6,
           3,
           "2023-12-02",
           "[Gen 9] OU",
           "9"
          ],
          [
           "Aaron Carter",
           "Evan Sooklal",
           6,
           3,
           "2023-12-02",
           "[Gen 9] OU",
           "10"
          ],
          [
           "Aaron Carter",
           "Roman Ramirez",
           0,
           6,
           "2023-12-02",
           "[Gen 9] OU",
           "11"
          ],
          [
           "Paul Bartenfeld",
           "Will Simpson",
           1,
           6,
           "2023-12-02",
           "[Gen 9] OU",
           "12"
          ],
          [
           "Will Simpson",
           "Aaron Carter",
           3,
           6,
           "2023-12-02",
           "[Gen 9] OU",
           "13"
          ],
          [
           "Roman Ramirez",
           "Evan Sooklal",
           2,
           6,
           "2023-12-02",
           "[Gen 9] OU",
           "14"
          ],
          [
           "Evan Sooklal",
           "Will Simpson",
           5,
           6,
           "2023-12-02",
           "[Gen 9] OU",
           "15"
          ],
          [
           "Aaron Carter",
           "Paul Bartenfeld",
           6,
           3,
           "2023-12-02",
           "[Gen 9] OU",
           "16"
          ],
          [
           "Paul Bartenfeld",
           "Evan Sooklal",
           6,
           5,
           "2023-12-02",
           "[Gen 9] OU",
           "17"
          ],
          [
           "Will Simpson",
           "Roman Ramirez",
           6,
           5,
           "2023-12-02",
           "[Gen 9] OU",
           "18"
          ],
          [
           "Roman Ramirez",
           "Paul Bartenfeld",
           4,
           6,
           "2023-12-02",
           "[Gen 9] OU",
           "19"
          ],
          [
           "Evan Sooklal",
           "Aaron Carter",
           6,
           4,
           "2023-12-02",
           "[Gen 9] OU",
           "20"
          ],
          [
           "Will Simpson",
           "Evan Sooklal",
           6,
           2,
           "2023-12-02",
           "[Gen 9] OU",
           "1"
          ],
          [
           "Will Simpson",
           "Evan Sooklal",
           6,
           1,
           "2023-12-02",
           "[Gen 9] OU",
           "2"
          ],
          [
           "Aaron Carter",
           "Paul Bartenfeld",
           6,
           3,
           "2023-12-13",
           "[Gen 9] OU",
           "1"
          ],
          [
           "Roman Ramirez",
           "Evan Sooklal",
           5,
           6,
           "2023-12-13",
           "[Gen 9] OU",
           "2"
          ],
          [
           "Paul Bartenfeld",
           "Roman Ramirez",
           2,
           6,
           "2023-12-13",
           "[Gen 9] OU",
           "3"
          ],
          [
           "Will Simpson",
           "Aaron Carter",
           0,
           6,
           "2023-12-13",
           "[Gen 9] OU",
           "4"
          ],
          [
           "Roman Ramirez",
           "Will Simpson",
           4,
           6,
           "2023-12-13",
           "[Gen 9] OU",
           "5"
          ],
          [
           "Evan Sooklal",
           "Paul Bartenfeld",
           6,
           5,
           "2023-12-13",
           "[Gen 9] OU",
           "6"
          ],
          [
           "Will Simpson",
           "Evan Sooklal",
           4,
           6,
           "2023-12-13",
           "[Gen 9] OU",
           "7"
          ],
          [
           "Aaron Carter",
           "Roman Ramirez",
           6,
           3,
           "2023-12-13",
           "[Gen 9] OU",
           "8"
          ],
          [
           "Evan Sooklal",
           "Aaron Carter",
           5,
           6,
           "2023-12-13",
           "[Gen 9] OU",
           "9"
          ],
          [
           "Paul Bartenfeld",
           "Will Simpson",
           2,
           6,
           "2023-12-13",
           "[Gen 9] OU",
           "10"
          ],
          [
           "Paul Bartenfeld",
           "Aaron Carter",
           3,
           6,
           "2023-12-13",
           "[Gen 9] OU",
           "11"
          ],
          [
           "Evan Sooklal",
           "Roman Ramirez",
           6,
           4,
           "2023-12-13",
           "[Gen 9] OU",
           "12"
          ],
          [
           "Roman Ramirez",
           "Paul Bartenfeld",
           6,
           1,
           "2023-12-13",
           "[Gen 9] OU",
           "13"
          ],
          [
           "Aaron Carter",
           "Will Simpson",
           6,
           5,
           "2023-12-13",
           "[Gen 9] OU",
           "14"
          ],
          [
           "Will Simpson",
           "Roman Ramirez",
           3,
           6,
           "2023-12-13",
           "[Gen 9] OU",
           "15"
          ],
          [
           "Paul Bartenfeld",
           "Evan Sooklal",
           3,
           6,
           "2023-12-13",
           "[Gen 9] OU",
           "16"
          ],
          [
           "Evan Sooklal",
           "Will Simpson",
           6,
           3,
           "2023-12-13",
           "[Gen 9] OU",
           "17"
          ],
          [
           "Roman Ramirez",
           "Aaron Carter",
           5,
           6,
           "2023-12-13",
           "[Gen 9] OU",
           "18"
          ],
          [
           "Aaron Carter",
           "Evan Sooklal",
           6,
           2,
           "2023-12-13",
           "[Gen 9] OU",
           "19"
          ],
          [
           "Will Simpson",
           "Paul Bartenfeld",
           6,
           4,
           "2023-12-13",
           "[Gen 9] OU",
           "20"
          ],
          [
           "Aaron Carter",
           "Evan Sooklal",
           5,
           6,
           "2023-12-13",
           "[Gen 9] OU",
           "1"
          ],
          [
           "Evan Sooklal",
           "Aaron Carter",
           2,
           6,
           "2023-12-13",
           "[Gen 9] OU",
           "2"
          ],
          [
           "Aaron Carter",
           "Evan Sooklal",
           6,
           2,
           "2023-12-13",
           "[Gen 9] OU",
           "3"
          ],
          [
           "Evan Sooklal",
           "Will Simpson",
           0,
           4,
           "2024-01-28",
           "[Gen 9] VGC 2024 Reg F",
           "1"
          ],
          [
           "Roman Ramirez",
           "Aaron Carter",
           2,
           4,
           "2024-01-28",
           "[Gen 9] VGC 2024 Reg F",
           "2"
          ],
          [
           "Aaron Carter",
           "Evan Sooklal",
           3,
           4,
           "2024-01-28",
           "[Gen 9] VGC 2024 Reg F",
           "3"
          ],
          [
           "Will Simpson",
           "Roman Ramirez",
           4,
           2,
           "2024-01-28",
           "[Gen 9] VGC 2024 Reg F",
           "4"
          ],
          [
           "Roman Ramirez",
           "Evan Sooklal",
           0,
           4,
           "2024-01-28",
           "[Gen 9] VGC 2024 Reg F",
           "5"
          ],
          [
           "Will Simpson",
           "Aaron Carter",
           1,
           4,
           "2024-01-28",
           "[Gen 9] VGC 2024 Reg F",
           "6"
          ],
          [
           "Will Simpson",
           "Evan Sooklal",
           4,
           2,
           "2024-01-28",
           "[Gen 9] VGC 2024 Reg F",
           "7"
          ],
          [
           "Aaron Carter",
           "Roman Ramirez",
           4,
           0,
           "2024-01-28",
           "[Gen 9] VGC 2024 Reg F",
           "8"
          ],
          [
           "Evan Sooklal",
           "Aaron Carter",
           3,
           4,
           "2024-01-28",
           "[Gen 9] VGC 2024 Reg F",
           "9"
          ],
          [
           "Roman Ramirez",
           "Will Simpson",
           1,
           4,
           "2024-01-28",
           "[Gen 9] VGC 2024 Reg F",
           "10"
          ],
          [
           "Evan Sooklal",
           "Roman Ramirez",
           4,
           3,
           "2024-01-28",
           "[Gen 9] VGC 2024 Reg F",
           "11"
          ],
          [
           "Aaron Carter",
           "Will Simpson",
           2,
           4,
           "2024-01-28",
           "[Gen 9] VGC 2024 Reg F",
           "12"
          ],
          [
           "Will Simpson",
           "Aaron Carter",
           4,
           0,
           "2024-01-28",
           "[Gen 9] VGC 2024 Reg F",
           "1"
          ],
          [
           "Will Simpson",
           "Aaron Carter",
           4,
           3,
           "2024-01-28",
           "[Gen 9] VGC 2024 Reg F",
           "2"
          ],
          [
           "Aaron Carter",
           "Evan Sooklal",
           4,
           2,
           "2024-02-09",
           "[Gen 9] VGC 2024 Reg F",
           "1a"
          ],
          [
           "Aaron Carter",
           "Evan Sooklal",
           4,
           3,
           "2024-02-09",
           "[Gen 9] VGC 2024 Reg F",
           "1b"
          ],
          [
           "Roman Ramirez",
           "Will Simpson",
           3,
           4,
           "2024-02-09",
           "[Gen 9] VGC 2024 Reg F",
           "2a"
          ],
          [
           "Roman Ramirez",
           "Will Simpson",
           2,
           4,
           "2024-02-09",
           "[Gen 9] VGC 2024 Reg F",
           "2b"
          ],
          [
           "Will Simpson",
           "Aaron Carter",
           2,
           4,
           "2024-02-09",
           "[Gen 9] VGC 2024 Reg F",
           "3a"
          ],
          [
           "Will Simpson",
           "Aaron Carter",
           0,
           4,
           "2024-02-09",
           "[Gen 9] VGC 2024 Reg F",
           "3b"
          ],
          [
           "Evan Sooklal",
           "Roman Ramirez",
           1,
           4,
           "2024-02-09",
           "[Gen 9] VGC 2024 Reg F",
           "4a"
          ],
          [
           "Evan Sooklal",
           "Roman Ramirez",
           4,
           2,
           "2024-02-09",
           "[Gen 9] VGC 2024 Reg F",
           "4b"
          ],
          [
           "Evan Sooklal",
           "Roman Ramirez",
           2,
           4,
           "2024-02-09",
           "[Gen 9] VGC 2024 Reg F",
           "4c"
          ],
          [
           "Roman Ramirez",
           "Aaron Carter",
           4,
           3,
           "2024-02-09",
           "[Gen 9] VGC 2024 Reg F",
           "5a"
          ],
          [
           "Roman Ramirez",
           "Aaron Carter",
           0,
           4,
           "2024-02-09",
           "[Gen 9] VGC 2024 Reg F",
           "5b"
          ],
          [
           "Roman Ramirez",
           "Aaron Carter",
           3,
           4,
           "2024-02-09",
           "[Gen 9] VGC 2024 Reg F",
           "5c"
          ],
          [
           "Evan Sooklal",
           "Will Simpson",
           1,
           4,
           "2024-02-09",
           "[Gen 9] VGC 2024 Reg F",
           "6a"
          ],
          [
           "Evan Sooklal",
           "Will Simpson",
           0,
           4,
           "2024-02-09",
           "[Gen 9] VGC 2024 Reg F",
           "6b"
          ],
          [
           "Aaron Carter",
           "Will Simpson",
           4,
           1,
           "2024-02-09",
           "[Gen 9] VGC 2024 Reg F",
           "1a"
          ],
          [
           "Aaron Carter",
           "Will Simpson",
           4,
           2,
           "2024-02-09",
           "[Gen 9] VGC 2024 Reg F",
           "1b"
          ],
          [
           "Will Simpson",
           "Evan Sooklal",
           0,
           6,
           "2024-02-18",
           "[Gen 9] Doubles UU",
           "1"
          ],
          [
           "Jack Massingill",
           "Roman Ramirez",
           0,
           6,
           "2024-02-18",
           "[Gen 9] Doubles UU",
           "2"
          ],
          [
           "Evan Sooklal",
           "Jack Massingill",
           0,
           6,
           "2024-02-18",
           "[Gen 9] Doubles UU",
           "3"
          ],
          [
           "Aaron Carter",
           "Will Simpson",
           0,
           6,
           "2024-02-18",
           "[Gen 9] Doubles UU",
           "4"
          ],
          [
           "Jack Massingill",
           "Aaron Carter",
           0,
           6,
           "2024-02-18",
           "[Gen 9] Doubles UU",
           "5"
          ],
          [
           "Roman Ramirez",
           "Evan Sooklal",
           0,
           6,
           "2024-02-18",
           "[Gen 9] Doubles UU",
           "6"
          ],
          [
           "Aaron Carter",
           "Roman Ramirez",
           0,
           6,
           "2024-02-18",
           "[Gen 9] Doubles UU",
           "7"
          ],
          [
           "Will Simpson",
           "Jack Massingill",
           0,
           6,
           "2024-02-18",
           "[Gen 9] Doubles UU",
           "8"
          ],
          [
           "Roman Ramirez",
           "Will Simpson",
           0,
           6,
           "2024-02-18",
           "[Gen 9] Doubles UU",
           "9"
          ],
          [
           "Evan Sooklal",
           "Aaron Carter",
           0,
           6,
           "2024-02-18",
           "[Gen 9] Doubles UU",
           "10"
          ],
          [
           "Evan Sooklal",
           "Will Simpson",
           0,
           6,
           "2024-02-18",
           "[Gen 9] Doubles UU",
           "11"
          ],
          [
           "Roman Ramirez",
           "Jack Massingill",
           0,
           6,
           "2024-02-18",
           "[Gen 9] Doubles UU",
           "12"
          ],
          [
           "Jack Massingill",
           "Evan Sooklal",
           0,
           6,
           "2024-02-18",
           "[Gen 9] Doubles UU",
           "13"
          ],
          [
           "Will Simpson",
           "Aaron Carter",
           0,
           6,
           "2024-02-18",
           "[Gen 9] Doubles UU",
           "14"
          ],
          [
           "Aaron Carter",
           "Jack Massingill",
           0,
           6,
           "2024-02-18",
           "[Gen 9] Doubles UU",
           "15"
          ],
          [
           "Evan Sooklal",
           "Roman Ramirez",
           0,
           6,
           "2024-02-18",
           "[Gen 9] Doubles UU",
           "16"
          ],
          [
           "Roman Ramirez",
           "Aaron Carter",
           0,
           6,
           "2024-02-18",
           "[Gen 9] Doubles UU",
           "17"
          ],
          [
           "Jack Massingill",
           "Will Simpson",
           0,
           6,
           "2024-02-18",
           "[Gen 9] Doubles UU",
           "18"
          ],
          [
           "Will Simpson",
           "Roman Ramirez",
           0,
           6,
           "2024-02-18",
           "[Gen 9] Doubles UU",
           "19"
          ],
          [
           "Aaron Carter",
           "Evan Sooklal",
           0,
           6,
           "2024-02-18",
           "[Gen 9] Doubles UU",
           "20"
          ]
         ],
         "hovertemplate": "<i>%{customdata[4]|%A, %B %d, %Y}, Game %{x}</i><br><b>%{fullData.name}</b><br><br><b>Format:</b> %{customdata[5]}<br><b>Tournament Match:</b> %{customdata[6]}<br><br><b>%{customdata[0]} vs. %{customdata[1]}</b><br><b>Final Score:</b> %{customdata[2]}-%{customdata[3]}<br>%{text}<b>Post-Game ELO:</b> %{y:,.0f}<br><extra></extra>",
         "legendgrouptitle": {
          "text": "<b>#<i>Rank</i> (<i>Current ELO</i>) <i>Player</i></b>"
         },
         "line": {
          "color": "rgb(127, 60, 141)",
          "shape": "hv"
         },
         "mode": "lines+markers",
         "name": "#1 (1266) Aaron Carter",
         "opacity": 0.8,
         "text": [
          "<br><b>Pre-Game ELO: </b>nan<br><b>Win Probability: </b>nan%<br><br><b>Change in ELO:</b> +nan<br>",
          "<br><b>Pre-Game ELO: </b>nan<br><b>Win Probability: </b>nan%<br><br><b>Change in ELO:</b> +nan<br>",
          "<br><b>Pre-Game ELO: </b>nan<br><b>Win Probability: </b>nan%<br><br><b>Change in ELO:</b> +nan<br>",
          "<br><b>Pre-Game ELO: </b>nan<br><b>Win Probability: </b>nan%<br><br><b>Change in ELO:</b> +nan<br>",
          "<br><b>Pre-Game ELO: </b>nan<br><b>Win Probability: </b>nan%<br><br><b>Change in ELO:</b> +nan<br>",
          "<br><b>Pre-Game ELO: </b>nan<br><b>Win Probability: </b>nan%<br><br><b>Change in ELO:</b> +nan<br>",
          "<br><b>Pre-Game ELO: </b>nan<br><b>Win Probability: </b>nan%<br><br><b>Change in ELO:</b> +nan<br>",
          "<br><b>Pre-Game ELO: </b>nan<br><b>Win Probability: </b>nan%<br><br><b>Change in ELO:</b> +nan<br>",
          "<br><b>Pre-Game ELO: </b>nan<br><b>Win Probability: </b>nan%<br><br><b>Change in ELO:</b> +nan<br>",
          "<br><b>Pre-Game ELO: </b>nan<br><b>Win Probability: </b>nan%<br><br><b>Change in ELO:</b> +nan<br>",
          "<br><b>Pre-Game ELO: </b>nan<br><b>Win Probability: </b>nan%<br><br><b>Change in ELO:</b> +nan<br>",
          "<br><b>Pre-Game ELO: </b>nan<br><b>Win Probability: </b>nan%<br><br><b>Change in ELO:</b> +nan<br>",
          "<br><b>Pre-Game ELO: </b>nan<br><b>Win Probability: </b>nan%<br><br><b>Change in ELO:</b> +nan<br>",
          "<br><b>Pre-Game ELO: </b>nan<br><b>Win Probability: </b>nan%<br><br><b>Change in ELO:</b> +nan<br>",
          "<br><b>Pre-Game ELO: </b>nan<br><b>Win Probability: </b>nan%<br><br><b>Change in ELO:</b> +nan<br>",
          "<br><b>Pre-Game ELO: </b>1200<br><b>Win Probability: </b>34.5%<br><br><b>Change in ELO:</b> +20<br>",
          "<br><b>Pre-Game ELO: </b>nan<br><b>Win Probability: </b>nan%<br><br><b>Change in ELO:</b> +nan<br>",
          "<br><b>Pre-Game ELO: </b>1220<br><b>Win Probability: </b>51.0%<br><br><b>Change in ELO:</b> -16<br>",
          "<br><b>Pre-Game ELO: </b>nan<br><b>Win Probability: </b>nan%<br><br><b>Change in ELO:</b> +nan<br>",
          "<br><b>Pre-Game ELO: </b>nan<br><b>Win Probability: </b>nan%<br><br><b>Change in ELO:</b> +nan<br>",
          "<br><b>Pre-Game ELO: </b>1205<br><b>Win Probability: </b>72.0%<br><br><b>Change in ELO:</b> -22<br>",
          "<br><b>Pre-Game ELO: </b>nan<br><b>Win Probability: </b>nan%<br><br><b>Change in ELO:</b> +nan<br>",
          "<br><b>Pre-Game ELO: </b>nan<br><b>Win Probability: </b>nan%<br><br><b>Change in ELO:</b> +nan<br>",
          "<br><b>Pre-Game ELO: </b>nan<br><b>Win Probability: </b>nan%<br><br><b>Change in ELO:</b> +nan<br>",
          "<br><b>Pre-Game ELO: </b>1182<br><b>Win Probability: </b>39.9%<br><br><b>Change in ELO:</b> +19<br>",
          "<br><b>Pre-Game ELO: </b>1201<br><b>Win Probability: </b>46.4%<br><br><b>Change in ELO:</b> -14<br>",
          "<br><b>Pre-Game ELO: </b>nan<br><b>Win Probability: </b>nan%<br><br><b>Change in ELO:</b> +nan<br>",
          "<br><b>Pre-Game ELO: </b>1186<br><b>Win Probability: </b>36.0%<br><br><b>Change in ELO:</b> +20<br>",
          "<br><b>Pre-Game ELO: </b>nan<br><b>Win Probability: </b>nan%<br><br><b>Change in ELO:</b> +nan<br>",
          "<br><b>Pre-Game ELO: </b>nan<br><b>Win Probability: </b>nan%<br><br><b>Change in ELO:</b> +nan<br>",
          "<br><b>Pre-Game ELO: </b>1206<br><b>Win Probability: </b>66.2%<br><br><b>Change in ELO:</b> +10<br>",
          "<br><b>Pre-Game ELO: </b>nan<br><b>Win Probability: </b>nan%<br><br><b>Change in ELO:</b> +nan<br>",
          "<br><b>Pre-Game ELO: </b>nan<br><b>Win Probability: </b>nan%<br><br><b>Change in ELO:</b> +nan<br>",
          "<br><b>Pre-Game ELO: </b>nan<br><b>Win Probability: </b>nan%<br><br><b>Change in ELO:</b> +nan<br>",
          "<br><b>Pre-Game ELO: </b>1217<br><b>Win Probability: </b>59.4%<br><br><b>Change in ELO:</b> -18<br>",
          "<br><b>Pre-Game ELO: </b>nan<br><b>Win Probability: </b>nan%<br><br><b>Change in ELO:</b> +nan<br>",
          "<br><b>Pre-Game ELO: </b>nan<br><b>Win Probability: </b>nan%<br><br><b>Change in ELO:</b> +nan<br>",
          "<br><b>Pre-Game ELO: </b>1198<br><b>Win Probability: </b>56.5%<br><br><b>Change in ELO:</b> +13<br>",
          "<br><b>Pre-Game ELO: </b>nan<br><b>Win Probability: </b>nan%<br><br><b>Change in ELO:</b> +nan<br>",
          "<br><b>Pre-Game ELO: </b>nan<br><b>Win Probability: </b>nan%<br><br><b>Change in ELO:</b> +nan<br>",
          "<br><b>Pre-Game ELO: </b>1212<br><b>Win Probability: </b>34.7%<br><br><b>Change in ELO:</b> +20<br>",
          "<br><b>Pre-Game ELO: </b>nan<br><b>Win Probability: </b>nan%<br><br><b>Change in ELO:</b> +nan<br>",
          "<br><b>Pre-Game ELO: </b>nan<br><b>Win Probability: </b>nan%<br><br><b>Change in ELO:</b> +nan<br>",
          "<br><b>Pre-Game ELO: </b>nan<br><b>Win Probability: </b>nan%<br><br><b>Change in ELO:</b> +nan<br>",
          "<br><b>Pre-Game ELO: </b>1232<br><b>Win Probability: </b>66.8%<br><br><b>Change in ELO:</b> +10<br>",
          "<br><b>Pre-Game ELO: </b>1242<br><b>Win Probability: </b>54.5%<br><br><b>Change in ELO:</b> +14<br>",
          "<br><b>Pre-Game ELO: </b>nan<br><b>Win Probability: </b>nan%<br><br><b>Change in ELO:</b> +nan<br>",
          "<br><b>Pre-Game ELO: </b>1257<br><b>Win Probability: </b>80.6%<br><br><b>Change in ELO:</b> +6<br>",
          "<br><b>Pre-Game ELO: </b>nan<br><b>Win Probability: </b>nan%<br><br><b>Change in ELO:</b> +nan<br>",
          "<br><b>Pre-Game ELO: </b>nan<br><b>Win Probability: </b>nan%<br><br><b>Change in ELO:</b> +nan<br>",
          "<br><b>Pre-Game ELO: </b>1263<br><b>Win Probability: </b>54.4%<br><br><b>Change in ELO:</b> +14<br>",
          "<br><b>Pre-Game ELO: </b>nan<br><b>Win Probability: </b>nan%<br><br><b>Change in ELO:</b> +nan<br>",
          "<br><b>Pre-Game ELO: </b>nan<br><b>Win Probability: </b>nan%<br><br><b>Change in ELO:</b> +nan<br>",
          "<br><b>Pre-Game ELO: </b>nan<br><b>Win Probability: </b>nan%<br><br><b>Change in ELO:</b> +nan<br>",
          "<br><b>Pre-Game ELO: </b>1277<br><b>Win Probability: </b>73.9%<br><br><b>Change in ELO:</b> +8<br>",
          "<br><b>Pre-Game ELO: </b>1285<br><b>Win Probability: </b>61.1%<br><br><b>Change in ELO:</b> +12<br>",
          "<br><b>Pre-Game ELO: </b>nan<br><b>Win Probability: </b>nan%<br><br><b>Change in ELO:</b> +nan<br>",
          "<br><b>Pre-Game ELO: </b>1297<br><b>Win Probability: </b>67.2%<br><br><b>Change in ELO:</b> -21<br>",
          "<br><b>Pre-Game ELO: </b>1276<br><b>Win Probability: </b>56.4%<br><br><b>Change in ELO:</b> +14<br>",
          "<br><b>Pre-Game ELO: </b>1289<br><b>Win Probability: </b>63.5%<br><br><b>Change in ELO:</b> +11<br>",
          "<br><b>Pre-Game ELO: </b>nan<br><b>Win Probability: </b>nan%<br><br><b>Change in ELO:</b> +nan<br>",
          "<br><b>Pre-Game ELO: </b>1301<br><b>Win Probability: </b>80.2%<br><br><b>Change in ELO:</b> +6<br>",
          "<br><b>Pre-Game ELO: </b>1307<br><b>Win Probability: </b>74.3%<br><br><b>Change in ELO:</b> -23<br>",
          "<br><b>Pre-Game ELO: </b>nan<br><b>Win Probability: </b>nan%<br><br><b>Change in ELO:</b> +nan<br>",
          "<br><b>Pre-Game ELO: </b>nan<br><b>Win Probability: </b>nan%<br><br><b>Change in ELO:</b> +nan<br>",
          "<br><b>Pre-Game ELO: </b>1284<br><b>Win Probability: </b>63.5%<br><br><b>Change in ELO:</b> +11<br>",
          "<br><b>Pre-Game ELO: </b>nan<br><b>Win Probability: </b>nan%<br><br><b>Change in ELO:</b> +nan<br>",
          "<br><b>Pre-Game ELO: </b>1295<br><b>Win Probability: </b>83.6%<br><br><b>Change in ELO:</b> +5<br>",
          "<br><b>Pre-Game ELO: </b>1300<br><b>Win Probability: </b>69.5%<br><br><b>Change in ELO:</b> +9<br>",
          "<br><b>Pre-Game ELO: </b>nan<br><b>Win Probability: </b>nan%<br><br><b>Change in ELO:</b> +nan<br>",
          "<br><b>Pre-Game ELO: </b>nan<br><b>Win Probability: </b>nan%<br><br><b>Change in ELO:</b> +nan<br>",
          "<br><b>Pre-Game ELO: </b>1310<br><b>Win Probability: </b>66.5%<br><br><b>Change in ELO:</b> -21<br>",
          "<br><b>Pre-Game ELO: </b>1289<br><b>Win Probability: </b>55.8%<br><br><b>Change in ELO:</b> -17<br>",
          "<br><b>Pre-Game ELO: </b>1272<br><b>Win Probability: </b>46.3%<br><br><b>Change in ELO:</b> -14<br>",
          "<br><b>Pre-Game ELO: </b>1257<br><b>Win Probability: </b>58.9%<br><br><b>Change in ELO:</b> +13<br>",
          "<br><b>Pre-Game ELO: </b>1270<br><b>Win Probability: </b>65.4%<br><br><b>Change in ELO:</b> +11<br>",
          "<br><b>Pre-Game ELO: </b>nan<br><b>Win Probability: </b>nan%<br><br><b>Change in ELO:</b> +nan<br>",
          "<br><b>Pre-Game ELO: </b>nan<br><b>Win Probability: </b>nan%<br><br><b>Change in ELO:</b> +nan<br>",
          "<br><b>Pre-Game ELO: </b>1281<br><b>Win Probability: </b>42.8%<br><br><b>Change in ELO:</b> +18<br>",
          "<br><b>Pre-Game ELO: </b>1299<br><b>Win Probability: </b>52.5%<br><br><b>Change in ELO:</b> +15<br>",
          "<br><b>Pre-Game ELO: </b>nan<br><b>Win Probability: </b>nan%<br><br><b>Change in ELO:</b> +nan<br>",
          "<br><b>Pre-Game ELO: </b>nan<br><b>Win Probability: </b>nan%<br><br><b>Change in ELO:</b> +nan<br>",
          "<br><b>Pre-Game ELO: </b>nan<br><b>Win Probability: </b>nan%<br><br><b>Change in ELO:</b> +nan<br>",
          "<br><b>Pre-Game ELO: </b>1313<br><b>Win Probability: </b>86.0%<br><br><b>Change in ELO:</b> -27<br>",
          "<br><b>Pre-Game ELO: </b>1287<br><b>Win Probability: </b>77.4%<br><br><b>Change in ELO:</b> +7<br>",
          "<br><b>Pre-Game ELO: </b>1294<br><b>Win Probability: </b>79.9%<br><br><b>Change in ELO:</b> +6<br>",
          "<br><b>Pre-Game ELO: </b>nan<br><b>Win Probability: </b>nan%<br><br><b>Change in ELO:</b> +nan<br>",
          "<br><b>Pre-Game ELO: </b>nan<br><b>Win Probability: </b>nan%<br><br><b>Change in ELO:</b> +nan<br>",
          "<br><b>Pre-Game ELO: </b>1300<br><b>Win Probability: </b>53.0%<br><br><b>Change in ELO:</b> +15<br>",
          "<br><b>Pre-Game ELO: </b>1315<br><b>Win Probability: </b>60.9%<br><br><b>Change in ELO:</b> +12<br>",
          "<br><b>Pre-Game ELO: </b>nan<br><b>Win Probability: </b>nan%<br><br><b>Change in ELO:</b> +nan<br>",
          "<br><b>Pre-Game ELO: </b>nan<br><b>Win Probability: </b>nan%<br><br><b>Change in ELO:</b> +nan<br>",
          "<br><b>Pre-Game ELO: </b>nan<br><b>Win Probability: </b>nan%<br><br><b>Change in ELO:</b> +nan<br>",
          "<br><b>Pre-Game ELO: </b>1327<br><b>Win Probability: </b>72.5%<br><br><b>Change in ELO:</b> -22<br>",
          "<br><b>Pre-Game ELO: </b>1304<br><b>Win Probability: </b>76.5%<br><br><b>Change in ELO:</b> +7<br>",
          "<br><b>Pre-Game ELO: </b>nan<br><b>Win Probability: </b>nan%<br><br><b>Change in ELO:</b> +nan<br>",
          "<br><b>Pre-Game ELO: </b>1311<br><b>Win Probability: </b>83.5%<br><br><b>Change in ELO:</b> -26<br>",
          "<br><b>Pre-Game ELO: </b>nan<br><b>Win Probability: </b>nan%<br><br><b>Change in ELO:</b> +nan<br>",
          "<br><b>Pre-Game ELO: </b>nan<br><b>Win Probability: </b>nan%<br><br><b>Change in ELO:</b> +nan<br>",
          "<br><b>Pre-Game ELO: </b>1286<br><b>Win Probability: </b>75.8%<br><br><b>Change in ELO:</b> +8<br>",
          "<br><b>Pre-Game ELO: </b>nan<br><b>Win Probability: </b>nan%<br><br><b>Change in ELO:</b> +nan<br>",
          "<br><b>Pre-Game ELO: </b>nan<br><b>Win Probability: </b>nan%<br><br><b>Change in ELO:</b> +nan<br>",
          "<br><b>Pre-Game ELO: </b>nan<br><b>Win Probability: </b>nan%<br><br><b>Change in ELO:</b> +nan<br>",
          "<br><b>Pre-Game ELO: </b>1293<br><b>Win Probability: </b>58.9%<br><br><b>Change in ELO:</b> +13<br>",
          "<br><b>Pre-Game ELO: </b>1306<br><b>Win Probability: </b>75.5%<br><br><b>Change in ELO:</b> -23<br>",
          "<br><b>Pre-Game ELO: </b>nan<br><b>Win Probability: </b>nan%<br><br><b>Change in ELO:</b> +nan<br>",
          "<br><b>Pre-Game ELO: </b>1282<br><b>Win Probability: </b>75.0%<br><br><b>Change in ELO:</b> +8<br>",
          "<br><b>Pre-Game ELO: </b>nan<br><b>Win Probability: </b>nan%<br><br><b>Change in ELO:</b> +nan<br>",
          "<br><b>Pre-Game ELO: </b>nan<br><b>Win Probability: </b>nan%<br><br><b>Change in ELO:</b> +nan<br>",
          "<br><b>Pre-Game ELO: </b>1290<br><b>Win Probability: </b>79.3%<br><br><b>Change in ELO:</b> -25<br>"
         ],
         "type": "scatter",
         "x": [
          1,
          2,
          3,
          4,
          5,
          6,
          7,
          8,
          9,
          10,
          11,
          12,
          13,
          14,
          15,
          16,
          17,
          18,
          19,
          20,
          21,
          22,
          23,
          24,
          25,
          26,
          27,
          28,
          29,
          30,
          31,
          32,
          33,
          34,
          35,
          36,
          37,
          38,
          39,
          40,
          41,
          42,
          43,
          44,
          45,
          46,
          47,
          48,
          49,
          50,
          51,
          52,
          53,
          54,
          55,
          56,
          57,
          58,
          59,
          60,
          61,
          62,
          63,
          64,
          65,
          66,
          67,
          68,
          69,
          70,
          71,
          72,
          73,
          74,
          75,
          76,
          77,
          78,
          79,
          80,
          81,
          82,
          83,
          84,
          85,
          86,
          87,
          88,
          89,
          90,
          91,
          92,
          93,
          94,
          95,
          96,
          97,
          98,
          99,
          100,
          101,
          102,
          103,
          104,
          105,
          106,
          107,
          108,
          109,
          110
         ],
         "y": [
          null,
          null,
          null,
          null,
          null,
          null,
          null,
          null,
          null,
          null,
          null,
          null,
          null,
          null,
          null,
          1220.31258173069,
          null,
          1204.5028528748408,
          null,
          null,
          1182.1797301576028,
          null,
          null,
          null,
          1200.8242418643958,
          1186.4521502238642,
          null,
          1206.3026942467973,
          null,
          null,
          1216.7822586045252,
          null,
          null,
          null,
          1198.3768321017285,
          null,
          null,
          1211.8729276048186,
          null,
          null,
          1232.113307066953,
          null,
          null,
          null,
          1242.4011662563998,
          1256.5110736372603,
          null,
          1262.5293525101058,
          null,
          null,
          1276.6667862995037,
          null,
          null,
          null,
          1284.742519265222,
          1296.805337828777,
          null,
          1275.9815262292077,
          1289.4892277347867,
          1300.7929669801556,
          null,
          1306.939512229892,
          1283.9015944333698,
          null,
          null,
          1295.2137125097495,
          null,
          1300.308918504197,
          1309.765437612463,
          null,
          null,
          1289.1469913110589,
          1271.8484337246734,
          1257.4853757199003,
          1270.2385965629696,
          1280.9523025729939,
          null,
          null,
          1298.6760636979577,
          1313.3978393818932,
          null,
          null,
          null,
          1286.74165386123,
          1293.761028525477,
          1299.9783612462488,
          null,
          null,
          1314.5356599831737,
          1326.6674756966115,
          null,
          null,
          null,
          1304.204232857565,
          1311.4845502059516,
          null,
          1285.5844010543403,
          null,
          null,
          1293.0845006039515,
          null,
          null,
          null,
          1305.8309106161107,
          1282.4106269736233,
          null,
          1290.1703903187504,
          null,
          null,
          1265.5903385940567
         ]
        },
        {
         "connectgaps": true,
         "customdata": [
          [
           "Evan Sooklal",
           "Will Simpson",
           2,
           6,
           "2023-11-18",
           "[Gen 9] OU",
           "1"
          ],
          [
           "Paul Bartenfeld",
           "Roman Ramirez",
           2,
           6,
           "2023-11-18",
           "[Gen 9] OU",
           "2"
          ],
          [
           "Roman Ramirez",
           "Evan Sooklal",
           6,
           3,
           "2023-11-18",
           "[Gen 9] OU",
           "3"
          ],
          [
           "Will Simpson",
           "Paul Bartenfeld",
           6,
           1,
           "2023-11-18",
           "[Gen 9] OU",
           "4"
          ],
          [
           "Paul Bartenfeld",
           "Evan Sooklal",
           1,
           6,
           "2023-11-18",
           "[Gen 9] OU",
           "5"
          ],
          [
           "Will Simpson",
           "Roman Ramirez",
           3,
           6,
           "2023-11-18",
           "[Gen 9] OU",
           "6"
          ],
          [
           "Will Simpson",
           "Evan Sooklal",
           6,
           2,
           "2023-11-18",
           "[Gen 9] OU",
           "7"
          ],
          [
           "Roman Ramirez",
           "Paul Bartenfeld",
           6,
           4,
           "2023-11-18",
           "[Gen 9] OU",
           "8"
          ],
          [
           "Evan Sooklal",
           "Roman Ramirez",
           6,
           5,
           "2023-11-18",
           "[Gen 9] OU",
           "9"
          ],
          [
           "Paul Bartenfeld",
           "Will Simpson",
           4,
           6,
           "2023-11-18",
           "[Gen 9] OU",
           "10"
          ],
          [
           "Evan Sooklal",
           "Paul Bartenfeld",
           6,
           5,
           "2023-11-18",
           "[Gen 9] OU",
           "11"
          ],
          [
           "Roman Ramirez",
           "Will Simpson",
           6,
           2,
           "2023-11-18",
           "[Gen 9] OU",
           "12"
          ],
          [
           "Roman Ramirez",
           "Will Simpson",
           2,
           6,
           "2023-11-18",
           "[Gen 9] OU",
           "1"
          ],
          [
           "Will Simpson",
           "Roman Ramirez",
           4,
           6,
           "2023-11-18",
           "[Gen 9] OU",
           "2"
          ],
          [
           "Roman Ramirez",
           "Will Simpson",
           6,
           4,
           "2023-11-18",
           "[Gen 9] OU",
           "3"
          ],
          [
           "Roman Ramirez",
           "Aaron Carter",
           4,
           6,
           "2023-12-02",
           "[Gen 9] OU",
           "1"
          ],
          [
           "Will Simpson",
           "Paul Bartenfeld",
           6,
           4,
           "2023-12-02",
           "[Gen 9] OU",
           "2"
          ],
          [
           "Aaron Carter",
           "Will Simpson",
           4,
           6,
           "2023-12-02",
           "[Gen 9] OU",
           "3"
          ],
          [
           "Evan Sooklal",
           "Roman Ramirez",
           6,
           2,
           "2023-12-02",
           "[Gen 9] OU",
           "4"
          ],
          [
           "Will Simpson",
           "Evan Sooklal",
           6,
           2,
           "2023-12-02",
           "[Gen 9] OU",
           "5"
          ],
          [
           "Paul Bartenfeld",
           "Aaron Carter",
           6,
           3,
           "2023-12-02",
           "[Gen 9] OU",
           "6"
          ],
          [
           "Evan Sooklal",
           "Paul Bartenfeld",
           6,
           4,
           "2023-12-02",
           "[Gen 9] OU",
           "7"
          ],
          [
           "Roman Ramirez",
           "Will Simpson",
           6,
           4,
           "2023-12-02",
           "[Gen 9] OU",
           "8"
          ],
          [
           "Paul Bartenfeld",
           "Roman Ramirez",
           6,
           3,
           "2023-12-02",
           "[Gen 9] OU",
           "9"
          ],
          [
           "Aaron Carter",
           "Evan Sooklal",
           6,
           3,
           "2023-12-02",
           "[Gen 9] OU",
           "10"
          ],
          [
           "Aaron Carter",
           "Roman Ramirez",
           0,
           6,
           "2023-12-02",
           "[Gen 9] OU",
           "11"
          ],
          [
           "Paul Bartenfeld",
           "Will Simpson",
           1,
           6,
           "2023-12-02",
           "[Gen 9] OU",
           "12"
          ],
          [
           "Will Simpson",
           "Aaron Carter",
           3,
           6,
           "2023-12-02",
           "[Gen 9] OU",
           "13"
          ],
          [
           "Roman Ramirez",
           "Evan Sooklal",
           2,
           6,
           "2023-12-02",
           "[Gen 9] OU",
           "14"
          ],
          [
           "Evan Sooklal",
           "Will Simpson",
           5,
           6,
           "2023-12-02",
           "[Gen 9] OU",
           "15"
          ],
          [
           "Aaron Carter",
           "Paul Bartenfeld",
           6,
           3,
           "2023-12-02",
           "[Gen 9] OU",
           "16"
          ],
          [
           "Paul Bartenfeld",
           "Evan Sooklal",
           6,
           5,
           "2023-12-02",
           "[Gen 9] OU",
           "17"
          ],
          [
           "Will Simpson",
           "Roman Ramirez",
           6,
           5,
           "2023-12-02",
           "[Gen 9] OU",
           "18"
          ],
          [
           "Roman Ramirez",
           "Paul Bartenfeld",
           4,
           6,
           "2023-12-02",
           "[Gen 9] OU",
           "19"
          ],
          [
           "Evan Sooklal",
           "Aaron Carter",
           6,
           4,
           "2023-12-02",
           "[Gen 9] OU",
           "20"
          ],
          [
           "Will Simpson",
           "Evan Sooklal",
           6,
           2,
           "2023-12-02",
           "[Gen 9] OU",
           "1"
          ],
          [
           "Will Simpson",
           "Evan Sooklal",
           6,
           1,
           "2023-12-02",
           "[Gen 9] OU",
           "2"
          ],
          [
           "Aaron Carter",
           "Paul Bartenfeld",
           6,
           3,
           "2023-12-13",
           "[Gen 9] OU",
           "1"
          ],
          [
           "Roman Ramirez",
           "Evan Sooklal",
           5,
           6,
           "2023-12-13",
           "[Gen 9] OU",
           "2"
          ],
          [
           "Paul Bartenfeld",
           "Roman Ramirez",
           2,
           6,
           "2023-12-13",
           "[Gen 9] OU",
           "3"
          ],
          [
           "Will Simpson",
           "Aaron Carter",
           0,
           6,
           "2023-12-13",
           "[Gen 9] OU",
           "4"
          ],
          [
           "Roman Ramirez",
           "Will Simpson",
           4,
           6,
           "2023-12-13",
           "[Gen 9] OU",
           "5"
          ],
          [
           "Evan Sooklal",
           "Paul Bartenfeld",
           6,
           5,
           "2023-12-13",
           "[Gen 9] OU",
           "6"
          ],
          [
           "Will Simpson",
           "Evan Sooklal",
           4,
           6,
           "2023-12-13",
           "[Gen 9] OU",
           "7"
          ],
          [
           "Aaron Carter",
           "Roman Ramirez",
           6,
           3,
           "2023-12-13",
           "[Gen 9] OU",
           "8"
          ],
          [
           "Evan Sooklal",
           "Aaron Carter",
           5,
           6,
           "2023-12-13",
           "[Gen 9] OU",
           "9"
          ],
          [
           "Paul Bartenfeld",
           "Will Simpson",
           2,
           6,
           "2023-12-13",
           "[Gen 9] OU",
           "10"
          ],
          [
           "Paul Bartenfeld",
           "Aaron Carter",
           3,
           6,
           "2023-12-13",
           "[Gen 9] OU",
           "11"
          ],
          [
           "Evan Sooklal",
           "Roman Ramirez",
           6,
           4,
           "2023-12-13",
           "[Gen 9] OU",
           "12"
          ],
          [
           "Roman Ramirez",
           "Paul Bartenfeld",
           6,
           1,
           "2023-12-13",
           "[Gen 9] OU",
           "13"
          ],
          [
           "Aaron Carter",
           "Will Simpson",
           6,
           5,
           "2023-12-13",
           "[Gen 9] OU",
           "14"
          ],
          [
           "Will Simpson",
           "Roman Ramirez",
           3,
           6,
           "2023-12-13",
           "[Gen 9] OU",
           "15"
          ],
          [
           "Paul Bartenfeld",
           "Evan Sooklal",
           3,
           6,
           "2023-12-13",
           "[Gen 9] OU",
           "16"
          ],
          [
           "Evan Sooklal",
           "Will Simpson",
           6,
           3,
           "2023-12-13",
           "[Gen 9] OU",
           "17"
          ],
          [
           "Roman Ramirez",
           "Aaron Carter",
           5,
           6,
           "2023-12-13",
           "[Gen 9] OU",
           "18"
          ],
          [
           "Aaron Carter",
           "Evan Sooklal",
           6,
           2,
           "2023-12-13",
           "[Gen 9] OU",
           "19"
          ],
          [
           "Will Simpson",
           "Paul Bartenfeld",
           6,
           4,
           "2023-12-13",
           "[Gen 9] OU",
           "20"
          ],
          [
           "Aaron Carter",
           "Evan Sooklal",
           5,
           6,
           "2023-12-13",
           "[Gen 9] OU",
           "1"
          ],
          [
           "Evan Sooklal",
           "Aaron Carter",
           2,
           6,
           "2023-12-13",
           "[Gen 9] OU",
           "2"
          ],
          [
           "Aaron Carter",
           "Evan Sooklal",
           6,
           2,
           "2023-12-13",
           "[Gen 9] OU",
           "3"
          ],
          [
           "Evan Sooklal",
           "Will Simpson",
           0,
           4,
           "2024-01-28",
           "[Gen 9] VGC 2024 Reg F",
           "1"
          ],
          [
           "Roman Ramirez",
           "Aaron Carter",
           2,
           4,
           "2024-01-28",
           "[Gen 9] VGC 2024 Reg F",
           "2"
          ],
          [
           "Aaron Carter",
           "Evan Sooklal",
           3,
           4,
           "2024-01-28",
           "[Gen 9] VGC 2024 Reg F",
           "3"
          ],
          [
           "Will Simpson",
           "Roman Ramirez",
           4,
           2,
           "2024-01-28",
           "[Gen 9] VGC 2024 Reg F",
           "4"
          ],
          [
           "Roman Ramirez",
           "Evan Sooklal",
           0,
           4,
           "2024-01-28",
           "[Gen 9] VGC 2024 Reg F",
           "5"
          ],
          [
           "Will Simpson",
           "Aaron Carter",
           1,
           4,
           "2024-01-28",
           "[Gen 9] VGC 2024 Reg F",
           "6"
          ],
          [
           "Will Simpson",
           "Evan Sooklal",
           4,
           2,
           "2024-01-28",
           "[Gen 9] VGC 2024 Reg F",
           "7"
          ],
          [
           "Aaron Carter",
           "Roman Ramirez",
           4,
           0,
           "2024-01-28",
           "[Gen 9] VGC 2024 Reg F",
           "8"
          ],
          [
           "Evan Sooklal",
           "Aaron Carter",
           3,
           4,
           "2024-01-28",
           "[Gen 9] VGC 2024 Reg F",
           "9"
          ],
          [
           "Roman Ramirez",
           "Will Simpson",
           1,
           4,
           "2024-01-28",
           "[Gen 9] VGC 2024 Reg F",
           "10"
          ],
          [
           "Evan Sooklal",
           "Roman Ramirez",
           4,
           3,
           "2024-01-28",
           "[Gen 9] VGC 2024 Reg F",
           "11"
          ],
          [
           "Aaron Carter",
           "Will Simpson",
           2,
           4,
           "2024-01-28",
           "[Gen 9] VGC 2024 Reg F",
           "12"
          ],
          [
           "Will Simpson",
           "Aaron Carter",
           4,
           0,
           "2024-01-28",
           "[Gen 9] VGC 2024 Reg F",
           "1"
          ],
          [
           "Will Simpson",
           "Aaron Carter",
           4,
           3,
           "2024-01-28",
           "[Gen 9] VGC 2024 Reg F",
           "2"
          ],
          [
           "Aaron Carter",
           "Evan Sooklal",
           4,
           2,
           "2024-02-09",
           "[Gen 9] VGC 2024 Reg F",
           "1a"
          ],
          [
           "Aaron Carter",
           "Evan Sooklal",
           4,
           3,
           "2024-02-09",
           "[Gen 9] VGC 2024 Reg F",
           "1b"
          ],
          [
           "Roman Ramirez",
           "Will Simpson",
           3,
           4,
           "2024-02-09",
           "[Gen 9] VGC 2024 Reg F",
           "2a"
          ],
          [
           "Roman Ramirez",
           "Will Simpson",
           2,
           4,
           "2024-02-09",
           "[Gen 9] VGC 2024 Reg F",
           "2b"
          ],
          [
           "Will Simpson",
           "Aaron Carter",
           2,
           4,
           "2024-02-09",
           "[Gen 9] VGC 2024 Reg F",
           "3a"
          ],
          [
           "Will Simpson",
           "Aaron Carter",
           0,
           4,
           "2024-02-09",
           "[Gen 9] VGC 2024 Reg F",
           "3b"
          ],
          [
           "Evan Sooklal",
           "Roman Ramirez",
           1,
           4,
           "2024-02-09",
           "[Gen 9] VGC 2024 Reg F",
           "4a"
          ],
          [
           "Evan Sooklal",
           "Roman Ramirez",
           4,
           2,
           "2024-02-09",
           "[Gen 9] VGC 2024 Reg F",
           "4b"
          ],
          [
           "Evan Sooklal",
           "Roman Ramirez",
           2,
           4,
           "2024-02-09",
           "[Gen 9] VGC 2024 Reg F",
           "4c"
          ],
          [
           "Roman Ramirez",
           "Aaron Carter",
           4,
           3,
           "2024-02-09",
           "[Gen 9] VGC 2024 Reg F",
           "5a"
          ],
          [
           "Roman Ramirez",
           "Aaron Carter",
           0,
           4,
           "2024-02-09",
           "[Gen 9] VGC 2024 Reg F",
           "5b"
          ],
          [
           "Roman Ramirez",
           "Aaron Carter",
           3,
           4,
           "2024-02-09",
           "[Gen 9] VGC 2024 Reg F",
           "5c"
          ],
          [
           "Evan Sooklal",
           "Will Simpson",
           1,
           4,
           "2024-02-09",
           "[Gen 9] VGC 2024 Reg F",
           "6a"
          ],
          [
           "Evan Sooklal",
           "Will Simpson",
           0,
           4,
           "2024-02-09",
           "[Gen 9] VGC 2024 Reg F",
           "6b"
          ],
          [
           "Aaron Carter",
           "Will Simpson",
           4,
           1,
           "2024-02-09",
           "[Gen 9] VGC 2024 Reg F",
           "1a"
          ],
          [
           "Aaron Carter",
           "Will Simpson",
           4,
           2,
           "2024-02-09",
           "[Gen 9] VGC 2024 Reg F",
           "1b"
          ],
          [
           "Will Simpson",
           "Evan Sooklal",
           0,
           6,
           "2024-02-18",
           "[Gen 9] Doubles UU",
           "1"
          ],
          [
           "Jack Massingill",
           "Roman Ramirez",
           0,
           6,
           "2024-02-18",
           "[Gen 9] Doubles UU",
           "2"
          ],
          [
           "Evan Sooklal",
           "Jack Massingill",
           0,
           6,
           "2024-02-18",
           "[Gen 9] Doubles UU",
           "3"
          ],
          [
           "Aaron Carter",
           "Will Simpson",
           0,
           6,
           "2024-02-18",
           "[Gen 9] Doubles UU",
           "4"
          ],
          [
           "Jack Massingill",
           "Aaron Carter",
           0,
           6,
           "2024-02-18",
           "[Gen 9] Doubles UU",
           "5"
          ],
          [
           "Roman Ramirez",
           "Evan Sooklal",
           0,
           6,
           "2024-02-18",
           "[Gen 9] Doubles UU",
           "6"
          ],
          [
           "Aaron Carter",
           "Roman Ramirez",
           0,
           6,
           "2024-02-18",
           "[Gen 9] Doubles UU",
           "7"
          ],
          [
           "Will Simpson",
           "Jack Massingill",
           0,
           6,
           "2024-02-18",
           "[Gen 9] Doubles UU",
           "8"
          ],
          [
           "Roman Ramirez",
           "Will Simpson",
           0,
           6,
           "2024-02-18",
           "[Gen 9] Doubles UU",
           "9"
          ],
          [
           "Evan Sooklal",
           "Aaron Carter",
           0,
           6,
           "2024-02-18",
           "[Gen 9] Doubles UU",
           "10"
          ],
          [
           "Evan Sooklal",
           "Will Simpson",
           0,
           6,
           "2024-02-18",
           "[Gen 9] Doubles UU",
           "11"
          ],
          [
           "Roman Ramirez",
           "Jack Massingill",
           0,
           6,
           "2024-02-18",
           "[Gen 9] Doubles UU",
           "12"
          ],
          [
           "Jack Massingill",
           "Evan Sooklal",
           0,
           6,
           "2024-02-18",
           "[Gen 9] Doubles UU",
           "13"
          ],
          [
           "Will Simpson",
           "Aaron Carter",
           0,
           6,
           "2024-02-18",
           "[Gen 9] Doubles UU",
           "14"
          ],
          [
           "Aaron Carter",
           "Jack Massingill",
           0,
           6,
           "2024-02-18",
           "[Gen 9] Doubles UU",
           "15"
          ],
          [
           "Evan Sooklal",
           "Roman Ramirez",
           0,
           6,
           "2024-02-18",
           "[Gen 9] Doubles UU",
           "16"
          ],
          [
           "Roman Ramirez",
           "Aaron Carter",
           0,
           6,
           "2024-02-18",
           "[Gen 9] Doubles UU",
           "17"
          ],
          [
           "Jack Massingill",
           "Will Simpson",
           0,
           6,
           "2024-02-18",
           "[Gen 9] Doubles UU",
           "18"
          ],
          [
           "Will Simpson",
           "Roman Ramirez",
           0,
           6,
           "2024-02-18",
           "[Gen 9] Doubles UU",
           "19"
          ],
          [
           "Aaron Carter",
           "Evan Sooklal",
           0,
           6,
           "2024-02-18",
           "[Gen 9] Doubles UU",
           "20"
          ]
         ],
         "hovertemplate": "<i>%{customdata[4]|%A, %B %d, %Y}, Game %{x}</i><br><b>%{fullData.name}</b><br><br><b>Format:</b> %{customdata[5]}<br><b>Tournament Match:</b> %{customdata[6]}<br><br><b>%{customdata[0]} vs. %{customdata[1]}</b><br><b>Final Score:</b> %{customdata[2]}-%{customdata[3]}<br>%{text}<b>Post-Game ELO:</b> %{y:,.0f}<br><extra></extra>",
         "legendgrouptitle": {
          "text": "<b>#<i>Rank</i> (<i>Current ELO</i>) <i>Player</i></b>"
         },
         "line": {
          "color": "rgb(17, 165, 121)",
          "shape": "hv"
         },
         "mode": "lines+markers",
         "name": "#2 (1239) Will Simpson",
         "opacity": 0.8,
         "text": [
          "<br><b>Pre-Game ELO: </b>1200<br><b>Win Probability: </b>50.0%<br><br><b>Change in ELO:</b> +16<br>",
          "<br><b>Pre-Game ELO: </b>nan<br><b>Win Probability: </b>nan%<br><br><b>Change in ELO:</b> +nan<br>",
          "<br><b>Pre-Game ELO: </b>nan<br><b>Win Probability: </b>nan%<br><br><b>Change in ELO:</b> +nan<br>",
          "<br><b>Pre-Game ELO: </b>1216<br><b>Win Probability: </b>58.4%<br><br><b>Change in ELO:</b> +13<br>",
          "<br><b>Pre-Game ELO: </b>nan<br><b>Win Probability: </b>nan%<br><br><b>Change in ELO:</b> +nan<br>",
          "<br><b>Pre-Game ELO: </b>1228<br><b>Win Probability: </b>50.0%<br><br><b>Change in ELO:</b> -16<br>",
          "<br><b>Pre-Game ELO: </b>1213<br><b>Win Probability: </b>57.0%<br><br><b>Change in ELO:</b> +13<br>",
          "<br><b>Pre-Game ELO: </b>nan<br><b>Win Probability: </b>nan%<br><br><b>Change in ELO:</b> +nan<br>",
          "<br><b>Pre-Game ELO: </b>nan<br><b>Win Probability: </b>nan%<br><br><b>Change in ELO:</b> +nan<br>",
          "<br><b>Pre-Game ELO: </b>1226<br><b>Win Probability: </b>70.4%<br><br><b>Change in ELO:</b> +9<br>",
          "<br><b>Pre-Game ELO: </b>nan<br><b>Win Probability: </b>nan%<br><br><b>Change in ELO:</b> +nan<br>",
          "<br><b>Pre-Game ELO: </b>1235<br><b>Win Probability: </b>51.3%<br><br><b>Change in ELO:</b> -16<br>",
          "<br><b>Pre-Game ELO: </b>1219<br><b>Win Probability: </b>42.6%<br><br><b>Change in ELO:</b> +18<br>",
          "<br><b>Pre-Game ELO: </b>1237<br><b>Win Probability: </b>52.3%<br><br><b>Change in ELO:</b> -16<br>",
          "<br><b>Pre-Game ELO: </b>1221<br><b>Win Probability: </b>43.5%<br><br><b>Change in ELO:</b> -13<br>",
          "<br><b>Pre-Game ELO: </b>nan<br><b>Win Probability: </b>nan%<br><br><b>Change in ELO:</b> +nan<br>",
          "<br><b>Pre-Game ELO: </b>1208<br><b>Win Probability: </b>70.7%<br><br><b>Change in ELO:</b> +9<br>",
          "<br><b>Pre-Game ELO: </b>1217<br><b>Win Probability: </b>49.0%<br><br><b>Change in ELO:</b> +16<br>",
          "<br><b>Pre-Game ELO: </b>nan<br><b>Win Probability: </b>nan%<br><br><b>Change in ELO:</b> +nan<br>",
          "<br><b>Pre-Game ELO: </b>1232<br><b>Win Probability: </b>52.2%<br><br><b>Change in ELO:</b> +15<br>",
          "<br><b>Pre-Game ELO: </b>nan<br><b>Win Probability: </b>nan%<br><br><b>Change in ELO:</b> +nan<br>",
          "<br><b>Pre-Game ELO: </b>nan<br><b>Win Probability: </b>nan%<br><br><b>Change in ELO:</b> +nan<br>",
          "<br><b>Pre-Game ELO: </b>1247<br><b>Win Probability: </b>57.5%<br><br><b>Change in ELO:</b> -18<br>",
          "<br><b>Pre-Game ELO: </b>nan<br><b>Win Probability: </b>nan%<br><br><b>Change in ELO:</b> +nan<br>",
          "<br><b>Pre-Game ELO: </b>nan<br><b>Win Probability: </b>nan%<br><br><b>Change in ELO:</b> +nan<br>",
          "<br><b>Pre-Game ELO: </b>nan<br><b>Win Probability: </b>nan%<br><br><b>Change in ELO:</b> +nan<br>",
          "<br><b>Pre-Game ELO: </b>1229<br><b>Win Probability: </b>69.5%<br><br><b>Change in ELO:</b> +9<br>",
          "<br><b>Pre-Game ELO: </b>1239<br><b>Win Probability: </b>64.0%<br><br><b>Change in ELO:</b> -20<br>",
          "<br><b>Pre-Game ELO: </b>nan<br><b>Win Probability: </b>nan%<br><br><b>Change in ELO:</b> +nan<br>",
          "<br><b>Pre-Game ELO: </b>1219<br><b>Win Probability: </b>50.1%<br><br><b>Change in ELO:</b> +15<br>",
          "<br><b>Pre-Game ELO: </b>nan<br><b>Win Probability: </b>nan%<br><br><b>Change in ELO:</b> +nan<br>",
          "<br><b>Pre-Game ELO: </b>nan<br><b>Win Probability: </b>nan%<br><br><b>Change in ELO:</b> +nan<br>",
          "<br><b>Pre-Game ELO: </b>1235<br><b>Win Probability: </b>56.5%<br><br><b>Change in ELO:</b> +13<br>",
          "<br><b>Pre-Game ELO: </b>nan<br><b>Win Probability: </b>nan%<br><br><b>Change in ELO:</b> +nan<br>",
          "<br><b>Pre-Game ELO: </b>nan<br><b>Win Probability: </b>nan%<br><br><b>Change in ELO:</b> +nan<br>",
          "<br><b>Pre-Game ELO: </b>1248<br><b>Win Probability: </b>62.7%<br><br><b>Change in ELO:</b> +12<br>",
          "<br><b>Pre-Game ELO: </b>1260<br><b>Win Probability: </b>68.5%<br><br><b>Change in ELO:</b> +10<br>",
          "<br><b>Pre-Game ELO: </b>nan<br><b>Win Probability: </b>nan%<br><br><b>Change in ELO:</b> +nan<br>",
          "<br><b>Pre-Game ELO: </b>nan<br><b>Win Probability: </b>nan%<br><br><b>Change in ELO:</b> +nan<br>",
          "<br><b>Pre-Game ELO: </b>nan<br><b>Win Probability: </b>nan%<br><br><b>Change in ELO:</b> +nan<br>",
          "<br><b>Pre-Game ELO: </b>1269<br><b>Win Probability: </b>65.3%<br><br><b>Change in ELO:</b> -20<br>",
          "<br><b>Pre-Game ELO: </b>1249<br><b>Win Probability: </b>68.6%<br><br><b>Change in ELO:</b> +10<br>",
          "<br><b>Pre-Game ELO: </b>nan<br><b>Win Probability: </b>nan%<br><br><b>Change in ELO:</b> +nan<br>",
          "<br><b>Pre-Game ELO: </b>1259<br><b>Win Probability: </b>64.1%<br><br><b>Change in ELO:</b> -20<br>",
          "<br><b>Pre-Game ELO: </b>nan<br><b>Win Probability: </b>nan%<br><br><b>Change in ELO:</b> +nan<br>",
          "<br><b>Pre-Game ELO: </b>nan<br><b>Win Probability: </b>nan%<br><br><b>Change in ELO:</b> +nan<br>",
          "<br><b>Pre-Game ELO: </b>1239<br><b>Win Probability: </b>75.9%<br><br><b>Change in ELO:</b> +7<br>",
          "<br><b>Pre-Game ELO: </b>nan<br><b>Win Probability: </b>nan%<br><br><b>Change in ELO:</b> +nan<br>",
          "<br><b>Pre-Game ELO: </b>nan<br><b>Win Probability: </b>nan%<br><br><b>Change in ELO:</b> +nan<br>",
          "<br><b>Pre-Game ELO: </b>nan<br><b>Win Probability: </b>nan%<br><br><b>Change in ELO:</b> +nan<br>",
          "<br><b>Pre-Game ELO: </b>1246<br><b>Win Probability: </b>45.6%<br><br><b>Change in ELO:</b> -14<br>",
          "<br><b>Pre-Game ELO: </b>1232<br><b>Win Probability: </b>68.8%<br><br><b>Change in ELO:</b> -21<br>",
          "<br><b>Pre-Game ELO: </b>nan<br><b>Win Probability: </b>nan%<br><br><b>Change in ELO:</b> +nan<br>",
          "<br><b>Pre-Game ELO: </b>1211<br><b>Win Probability: </b>44.9%<br><br><b>Change in ELO:</b> -14<br>",
          "<br><b>Pre-Game ELO: </b>nan<br><b>Win Probability: </b>nan%<br><br><b>Change in ELO:</b> +nan<br>",
          "<br><b>Pre-Game ELO: </b>nan<br><b>Win Probability: </b>nan%<br><br><b>Change in ELO:</b> +nan<br>",
          "<br><b>Pre-Game ELO: </b>1197<br><b>Win Probability: </b>74.2%<br><br><b>Change in ELO:</b> +8<br>",
          "<br><b>Pre-Game ELO: </b>nan<br><b>Win Probability: </b>nan%<br><br><b>Change in ELO:</b> +nan<br>",
          "<br><b>Pre-Game ELO: </b>nan<br><b>Win Probability: </b>nan%<br><br><b>Change in ELO:</b> +nan<br>",
          "<br><b>Pre-Game ELO: </b>nan<br><b>Win Probability: </b>nan%<br><br><b>Change in ELO:</b> +nan<br>",
          "<br><b>Pre-Game ELO: </b>1205<br><b>Win Probability: </b>43.8%<br><br><b>Change in ELO:</b> +17<br>",
          "<br><b>Pre-Game ELO: </b>nan<br><b>Win Probability: </b>nan%<br><br><b>Change in ELO:</b> +nan<br>",
          "<br><b>Pre-Game ELO: </b>nan<br><b>Win Probability: </b>nan%<br><br><b>Change in ELO:</b> +nan<br>",
          "<br><b>Pre-Game ELO: </b>1223<br><b>Win Probability: </b>64.7%<br><br><b>Change in ELO:</b> +11<br>",
          "<br><b>Pre-Game ELO: </b>nan<br><b>Win Probability: </b>nan%<br><br><b>Change in ELO:</b> +nan<br>",
          "<br><b>Pre-Game ELO: </b>1233<br><b>Win Probability: </b>36.5%<br><br><b>Change in ELO:</b> -11<br>",
          "<br><b>Pre-Game ELO: </b>1222<br><b>Win Probability: </b>44.4%<br><br><b>Change in ELO:</b> +17<br>",
          "<br><b>Pre-Game ELO: </b>nan<br><b>Win Probability: </b>nan%<br><br><b>Change in ELO:</b> +nan<br>",
          "<br><b>Pre-Game ELO: </b>nan<br><b>Win Probability: </b>nan%<br><br><b>Change in ELO:</b> +nan<br>",
          "<br><b>Pre-Game ELO: </b>1239<br><b>Win Probability: </b>74.4%<br><br><b>Change in ELO:</b> +8<br>",
          "<br><b>Pre-Game ELO: </b>nan<br><b>Win Probability: </b>nan%<br><br><b>Change in ELO:</b> +nan<br>",
          "<br><b>Pre-Game ELO: </b>1247<br><b>Win Probability: </b>33.5%<br><br><b>Change in ELO:</b> +21<br>",
          "<br><b>Pre-Game ELO: </b>1268<br><b>Win Probability: </b>44.2%<br><br><b>Change in ELO:</b> +17<br>",
          "<br><b>Pre-Game ELO: </b>1285<br><b>Win Probability: </b>53.7%<br><br><b>Change in ELO:</b> +14<br>",
          "<br><b>Pre-Game ELO: </b>nan<br><b>Win Probability: </b>nan%<br><br><b>Change in ELO:</b> +nan<br>",
          "<br><b>Pre-Game ELO: </b>nan<br><b>Win Probability: </b>nan%<br><br><b>Change in ELO:</b> +nan<br>",
          "<br><b>Pre-Game ELO: </b>1300<br><b>Win Probability: </b>87.2%<br><br><b>Change in ELO:</b> +4<br>",
          "<br><b>Pre-Game ELO: </b>1304<br><b>Win Probability: </b>88.1%<br><br><b>Change in ELO:</b> +4<br>",
          "<br><b>Pre-Game ELO: </b>1307<br><b>Win Probability: </b>57.2%<br><br><b>Change in ELO:</b> -18<br>",
          "<br><b>Pre-Game ELO: </b>1290<br><b>Win Probability: </b>47.5%<br><br><b>Change in ELO:</b> -15<br>",
          "<br><b>Pre-Game ELO: </b>nan<br><b>Win Probability: </b>nan%<br><br><b>Change in ELO:</b> +nan<br>",
          "<br><b>Pre-Game ELO: </b>nan<br><b>Win Probability: </b>nan%<br><br><b>Change in ELO:</b> +nan<br>",
          "<br><b>Pre-Game ELO: </b>nan<br><b>Win Probability: </b>nan%<br><br><b>Change in ELO:</b> +nan<br>",
          "<br><b>Pre-Game ELO: </b>nan<br><b>Win Probability: </b>nan%<br><br><b>Change in ELO:</b> +nan<br>",
          "<br><b>Pre-Game ELO: </b>nan<br><b>Win Probability: </b>nan%<br><br><b>Change in ELO:</b> +nan<br>",
          "<br><b>Pre-Game ELO: </b>nan<br><b>Win Probability: </b>nan%<br><br><b>Change in ELO:</b> +nan<br>",
          "<br><b>Pre-Game ELO: </b>1275<br><b>Win Probability: </b>75.8%<br><br><b>Change in ELO:</b> +7<br>",
          "<br><b>Pre-Game ELO: </b>1282<br><b>Win Probability: </b>78.7%<br><br><b>Change in ELO:</b> +7<br>",
          "<br><b>Pre-Game ELO: </b>1289<br><b>Win Probability: </b>47.0%<br><br><b>Change in ELO:</b> -15<br>",
          "<br><b>Pre-Game ELO: </b>1274<br><b>Win Probability: </b>39.1%<br><br><b>Change in ELO:</b> -12<br>",
          "<br><b>Pre-Game ELO: </b>1262<br><b>Win Probability: </b>76.1%<br><br><b>Change in ELO:</b> -24<br>",
          "<br><b>Pre-Game ELO: </b>nan<br><b>Win Probability: </b>nan%<br><br><b>Change in ELO:</b> +nan<br>",
          "<br><b>Pre-Game ELO: </b>nan<br><b>Win Probability: </b>nan%<br><br><b>Change in ELO:</b> +nan<br>",
          "<br><b>Pre-Game ELO: </b>1239<br><b>Win Probability: </b>27.5%<br><br><b>Change in ELO:</b> +22<br>",
          "<br><b>Pre-Game ELO: </b>nan<br><b>Win Probability: </b>nan%<br><br><b>Change in ELO:</b> +nan<br>",
          "<br><b>Pre-Game ELO: </b>nan<br><b>Win Probability: </b>nan%<br><br><b>Change in ELO:</b> +nan<br>",
          "<br><b>Pre-Game ELO: </b>nan<br><b>Win Probability: </b>nan%<br><br><b>Change in ELO:</b> +nan<br>",
          "<br><b>Pre-Game ELO: </b>1261<br><b>Win Probability: </b>68.7%<br><br><b>Change in ELO:</b> -21<br>",
          "<br><b>Pre-Game ELO: </b>1240<br><b>Win Probability: </b>63.5%<br><br><b>Change in ELO:</b> +11<br>",
          "<br><b>Pre-Game ELO: </b>nan<br><b>Win Probability: </b>nan%<br><br><b>Change in ELO:</b> +nan<br>",
          "<br><b>Pre-Game ELO: </b>1251<br><b>Win Probability: </b>70.0%<br><br><b>Change in ELO:</b> +9<br>",
          "<br><b>Pre-Game ELO: </b>nan<br><b>Win Probability: </b>nan%<br><br><b>Change in ELO:</b> +nan<br>",
          "<br><b>Pre-Game ELO: </b>nan<br><b>Win Probability: </b>nan%<br><br><b>Change in ELO:</b> +nan<br>",
          "<br><b>Pre-Game ELO: </b>1260<br><b>Win Probability: </b>41.1%<br><br><b>Change in ELO:</b> -13<br>",
          "<br><b>Pre-Game ELO: </b>nan<br><b>Win Probability: </b>nan%<br><br><b>Change in ELO:</b> +nan<br>",
          "<br><b>Pre-Game ELO: </b>nan<br><b>Win Probability: </b>nan%<br><br><b>Change in ELO:</b> +nan<br>",
          "<br><b>Pre-Game ELO: </b>nan<br><b>Win Probability: </b>nan%<br><br><b>Change in ELO:</b> +nan<br>",
          "<br><b>Pre-Game ELO: </b>1248<br><b>Win Probability: </b>55.8%<br><br><b>Change in ELO:</b> +14<br>",
          "<br><b>Pre-Game ELO: </b>1261<br><b>Win Probability: </b>72.1%<br><br><b>Change in ELO:</b> -22<br>",
          "<br><b>Pre-Game ELO: </b>nan<br><b>Win Probability: </b>nan%<br><br><b>Change in ELO:</b> +nan<br>"
         ],
         "type": "scatter",
         "x": [
          1,
          2,
          3,
          4,
          5,
          6,
          7,
          8,
          9,
          10,
          11,
          12,
          13,
          14,
          15,
          16,
          17,
          18,
          19,
          20,
          21,
          22,
          23,
          24,
          25,
          26,
          27,
          28,
          29,
          30,
          31,
          32,
          33,
          34,
          35,
          36,
          37,
          38,
          39,
          40,
          41,
          42,
          43,
          44,
          45,
          46,
          47,
          48,
          49,
          50,
          51,
          52,
          53,
          54,
          55,
          56,
          57,
          58,
          59,
          60,
          61,
          62,
          63,
          64,
          65,
          66,
          67,
          68,
          69,
          70,
          71,
          72,
          73,
          74,
          75,
          76,
          77,
          78,
          79,
          80,
          81,
          82,
          83,
          84,
          85,
          86,
          87,
          88,
          89,
          90,
          91,
          92,
          93,
          94,
          95,
          96,
          97,
          98,
          99,
          100,
          101,
          102,
          103,
          104,
          105,
          106,
          107,
          108,
          109,
          110
         ],
         "y": [
          1215.5,
          null,
          null,
          1228.3858031753039,
          null,
          1212.8858031753039,
          1226.2060869714899,
          null,
          null,
          1235.3974385468625,
          null,
          1219.4919520318529,
          1237.2780408888975,
          1221.052753694122,
          1207.5782095664276,
          null,
          1216.674325114043,
          1232.4840539698923,
          null,
          1247.3098513798145,
          null,
          null,
          1229.4988967375302,
          null,
          null,
          null,
          1238.958454220562,
          1219.107910197629,
          null,
          1234.5824811583602,
          null,
          null,
          1248.0560505120777,
          null,
          null,
          1259.6090123610109,
          1269.3890605277982,
          null,
          null,
          null,
          1249.1486810656638,
          1258.8936040805959,
          null,
          1239.0254206334819,
          null,
          null,
          1246.4845665792952,
          null,
          null,
          null,
          1232.3471327898974,
          1211.01943697701,
          null,
          1197.1113545406115,
          null,
          null,
          1205.1013946719963,
          null,
          null,
          null,
          1222.5106702038486,
          null,
          null,
          1233.4626202696672,
          null,
          1222.1505021932876,
          1239.3840134911154,
          null,
          null,
          1247.3088653314312,
          null,
          1267.9273116328354,
          1285.2258692192208,
          1299.588927223994,
          null,
          null,
          1303.5670924858557,
          1307.251870859551,
          1289.5281097345871,
          1274.8063340506517,
          null,
          null,
          null,
          null,
          null,
          null,
          1282.2969192323628,
          1288.8926316811867,
          1274.3353329442618,
          1262.203517230824,
          1238.6019115678846,
          null,
          null,
          1261.065154406931,
          null,
          null,
          null,
          1239.761150630049,
          1251.084734631369,
          null,
          1260.396707852412,
          null,
          null,
          1247.6502978402527,
          null,
          null,
          null,
          1261.3630016846919,
          1239.0025023377366,
          null
         ]
        },
        {
         "connectgaps": true,
         "customdata": [
          [
           "Evan Sooklal",
           "Will Simpson",
           2,
           6,
           "2023-11-18",
           "[Gen 9] OU",
           "1"
          ],
          [
           "Paul Bartenfeld",
           "Roman Ramirez",
           2,
           6,
           "2023-11-18",
           "[Gen 9] OU",
           "2"
          ],
          [
           "Roman Ramirez",
           "Evan Sooklal",
           6,
           3,
           "2023-11-18",
           "[Gen 9] OU",
           "3"
          ],
          [
           "Will Simpson",
           "Paul Bartenfeld",
           6,
           1,
           "2023-11-18",
           "[Gen 9] OU",
           "4"
          ],
          [
           "Paul Bartenfeld",
           "Evan Sooklal",
           1,
           6,
           "2023-11-18",
           "[Gen 9] OU",
           "5"
          ],
          [
           "Will Simpson",
           "Roman Ramirez",
           3,
           6,
           "2023-11-18",
           "[Gen 9] OU",
           "6"
          ],
          [
           "Will Simpson",
           "Evan Sooklal",
           6,
           2,
           "2023-11-18",
           "[Gen 9] OU",
           "7"
          ],
          [
           "Roman Ramirez",
           "Paul Bartenfeld",
           6,
           4,
           "2023-11-18",
           "[Gen 9] OU",
           "8"
          ],
          [
           "Evan Sooklal",
           "Roman Ramirez",
           6,
           5,
           "2023-11-18",
           "[Gen 9] OU",
           "9"
          ],
          [
           "Paul Bartenfeld",
           "Will Simpson",
           4,
           6,
           "2023-11-18",
           "[Gen 9] OU",
           "10"
          ],
          [
           "Evan Sooklal",
           "Paul Bartenfeld",
           6,
           5,
           "2023-11-18",
           "[Gen 9] OU",
           "11"
          ],
          [
           "Roman Ramirez",
           "Will Simpson",
           6,
           2,
           "2023-11-18",
           "[Gen 9] OU",
           "12"
          ],
          [
           "Roman Ramirez",
           "Will Simpson",
           2,
           6,
           "2023-11-18",
           "[Gen 9] OU",
           "1"
          ],
          [
           "Will Simpson",
           "Roman Ramirez",
           4,
           6,
           "2023-11-18",
           "[Gen 9] OU",
           "2"
          ],
          [
           "Roman Ramirez",
           "Will Simpson",
           6,
           4,
           "2023-11-18",
           "[Gen 9] OU",
           "3"
          ],
          [
           "Roman Ramirez",
           "Aaron Carter",
           4,
           6,
           "2023-12-02",
           "[Gen 9] OU",
           "1"
          ],
          [
           "Will Simpson",
           "Paul Bartenfeld",
           6,
           4,
           "2023-12-02",
           "[Gen 9] OU",
           "2"
          ],
          [
           "Aaron Carter",
           "Will Simpson",
           4,
           6,
           "2023-12-02",
           "[Gen 9] OU",
           "3"
          ],
          [
           "Evan Sooklal",
           "Roman Ramirez",
           6,
           2,
           "2023-12-02",
           "[Gen 9] OU",
           "4"
          ],
          [
           "Will Simpson",
           "Evan Sooklal",
           6,
           2,
           "2023-12-02",
           "[Gen 9] OU",
           "5"
          ],
          [
           "Paul Bartenfeld",
           "Aaron Carter",
           6,
           3,
           "2023-12-02",
           "[Gen 9] OU",
           "6"
          ],
          [
           "Evan Sooklal",
           "Paul Bartenfeld",
           6,
           4,
           "2023-12-02",
           "[Gen 9] OU",
           "7"
          ],
          [
           "Roman Ramirez",
           "Will Simpson",
           6,
           4,
           "2023-12-02",
           "[Gen 9] OU",
           "8"
          ],
          [
           "Paul Bartenfeld",
           "Roman Ramirez",
           6,
           3,
           "2023-12-02",
           "[Gen 9] OU",
           "9"
          ],
          [
           "Aaron Carter",
           "Evan Sooklal",
           6,
           3,
           "2023-12-02",
           "[Gen 9] OU",
           "10"
          ],
          [
           "Aaron Carter",
           "Roman Ramirez",
           0,
           6,
           "2023-12-02",
           "[Gen 9] OU",
           "11"
          ],
          [
           "Paul Bartenfeld",
           "Will Simpson",
           1,
           6,
           "2023-12-02",
           "[Gen 9] OU",
           "12"
          ],
          [
           "Will Simpson",
           "Aaron Carter",
           3,
           6,
           "2023-12-02",
           "[Gen 9] OU",
           "13"
          ],
          [
           "Roman Ramirez",
           "Evan Sooklal",
           2,
           6,
           "2023-12-02",
           "[Gen 9] OU",
           "14"
          ],
          [
           "Evan Sooklal",
           "Will Simpson",
           5,
           6,
           "2023-12-02",
           "[Gen 9] OU",
           "15"
          ],
          [
           "Aaron Carter",
           "Paul Bartenfeld",
           6,
           3,
           "2023-12-02",
           "[Gen 9] OU",
           "16"
          ],
          [
           "Paul Bartenfeld",
           "Evan Sooklal",
           6,
           5,
           "2023-12-02",
           "[Gen 9] OU",
           "17"
          ],
          [
           "Will Simpson",
           "Roman Ramirez",
           6,
           5,
           "2023-12-02",
           "[Gen 9] OU",
           "18"
          ],
          [
           "Roman Ramirez",
           "Paul Bartenfeld",
           4,
           6,
           "2023-12-02",
           "[Gen 9] OU",
           "19"
          ],
          [
           "Evan Sooklal",
           "Aaron Carter",
           6,
           4,
           "2023-12-02",
           "[Gen 9] OU",
           "20"
          ],
          [
           "Will Simpson",
           "Evan Sooklal",
           6,
           2,
           "2023-12-02",
           "[Gen 9] OU",
           "1"
          ],
          [
           "Will Simpson",
           "Evan Sooklal",
           6,
           1,
           "2023-12-02",
           "[Gen 9] OU",
           "2"
          ],
          [
           "Aaron Carter",
           "Paul Bartenfeld",
           6,
           3,
           "2023-12-13",
           "[Gen 9] OU",
           "1"
          ],
          [
           "Roman Ramirez",
           "Evan Sooklal",
           5,
           6,
           "2023-12-13",
           "[Gen 9] OU",
           "2"
          ],
          [
           "Paul Bartenfeld",
           "Roman Ramirez",
           2,
           6,
           "2023-12-13",
           "[Gen 9] OU",
           "3"
          ],
          [
           "Will Simpson",
           "Aaron Carter",
           0,
           6,
           "2023-12-13",
           "[Gen 9] OU",
           "4"
          ],
          [
           "Roman Ramirez",
           "Will Simpson",
           4,
           6,
           "2023-12-13",
           "[Gen 9] OU",
           "5"
          ],
          [
           "Evan Sooklal",
           "Paul Bartenfeld",
           6,
           5,
           "2023-12-13",
           "[Gen 9] OU",
           "6"
          ],
          [
           "Will Simpson",
           "Evan Sooklal",
           4,
           6,
           "2023-12-13",
           "[Gen 9] OU",
           "7"
          ],
          [
           "Aaron Carter",
           "Roman Ramirez",
           6,
           3,
           "2023-12-13",
           "[Gen 9] OU",
           "8"
          ],
          [
           "Evan Sooklal",
           "Aaron Carter",
           5,
           6,
           "2023-12-13",
           "[Gen 9] OU",
           "9"
          ],
          [
           "Paul Bartenfeld",
           "Will Simpson",
           2,
           6,
           "2023-12-13",
           "[Gen 9] OU",
           "10"
          ],
          [
           "Paul Bartenfeld",
           "Aaron Carter",
           3,
           6,
           "2023-12-13",
           "[Gen 9] OU",
           "11"
          ],
          [
           "Evan Sooklal",
           "Roman Ramirez",
           6,
           4,
           "2023-12-13",
           "[Gen 9] OU",
           "12"
          ],
          [
           "Roman Ramirez",
           "Paul Bartenfeld",
           6,
           1,
           "2023-12-13",
           "[Gen 9] OU",
           "13"
          ],
          [
           "Aaron Carter",
           "Will Simpson",
           6,
           5,
           "2023-12-13",
           "[Gen 9] OU",
           "14"
          ],
          [
           "Will Simpson",
           "Roman Ramirez",
           3,
           6,
           "2023-12-13",
           "[Gen 9] OU",
           "15"
          ],
          [
           "Paul Bartenfeld",
           "Evan Sooklal",
           3,
           6,
           "2023-12-13",
           "[Gen 9] OU",
           "16"
          ],
          [
           "Evan Sooklal",
           "Will Simpson",
           6,
           3,
           "2023-12-13",
           "[Gen 9] OU",
           "17"
          ],
          [
           "Roman Ramirez",
           "Aaron Carter",
           5,
           6,
           "2023-12-13",
           "[Gen 9] OU",
           "18"
          ],
          [
           "Aaron Carter",
           "Evan Sooklal",
           6,
           2,
           "2023-12-13",
           "[Gen 9] OU",
           "19"
          ],
          [
           "Will Simpson",
           "Paul Bartenfeld",
           6,
           4,
           "2023-12-13",
           "[Gen 9] OU",
           "20"
          ],
          [
           "Aaron Carter",
           "Evan Sooklal",
           5,
           6,
           "2023-12-13",
           "[Gen 9] OU",
           "1"
          ],
          [
           "Evan Sooklal",
           "Aaron Carter",
           2,
           6,
           "2023-12-13",
           "[Gen 9] OU",
           "2"
          ],
          [
           "Aaron Carter",
           "Evan Sooklal",
           6,
           2,
           "2023-12-13",
           "[Gen 9] OU",
           "3"
          ],
          [
           "Evan Sooklal",
           "Will Simpson",
           0,
           4,
           "2024-01-28",
           "[Gen 9] VGC 2024 Reg F",
           "1"
          ],
          [
           "Roman Ramirez",
           "Aaron Carter",
           2,
           4,
           "2024-01-28",
           "[Gen 9] VGC 2024 Reg F",
           "2"
          ],
          [
           "Aaron Carter",
           "Evan Sooklal",
           3,
           4,
           "2024-01-28",
           "[Gen 9] VGC 2024 Reg F",
           "3"
          ],
          [
           "Will Simpson",
           "Roman Ramirez",
           4,
           2,
           "2024-01-28",
           "[Gen 9] VGC 2024 Reg F",
           "4"
          ],
          [
           "Roman Ramirez",
           "Evan Sooklal",
           0,
           4,
           "2024-01-28",
           "[Gen 9] VGC 2024 Reg F",
           "5"
          ],
          [
           "Will Simpson",
           "Aaron Carter",
           1,
           4,
           "2024-01-28",
           "[Gen 9] VGC 2024 Reg F",
           "6"
          ],
          [
           "Will Simpson",
           "Evan Sooklal",
           4,
           2,
           "2024-01-28",
           "[Gen 9] VGC 2024 Reg F",
           "7"
          ],
          [
           "Aaron Carter",
           "Roman Ramirez",
           4,
           0,
           "2024-01-28",
           "[Gen 9] VGC 2024 Reg F",
           "8"
          ],
          [
           "Evan Sooklal",
           "Aaron Carter",
           3,
           4,
           "2024-01-28",
           "[Gen 9] VGC 2024 Reg F",
           "9"
          ],
          [
           "Roman Ramirez",
           "Will Simpson",
           1,
           4,
           "2024-01-28",
           "[Gen 9] VGC 2024 Reg F",
           "10"
          ],
          [
           "Evan Sooklal",
           "Roman Ramirez",
           4,
           3,
           "2024-01-28",
           "[Gen 9] VGC 2024 Reg F",
           "11"
          ],
          [
           "Aaron Carter",
           "Will Simpson",
           2,
           4,
           "2024-01-28",
           "[Gen 9] VGC 2024 Reg F",
           "12"
          ],
          [
           "Will Simpson",
           "Aaron Carter",
           4,
           0,
           "2024-01-28",
           "[Gen 9] VGC 2024 Reg F",
           "1"
          ],
          [
           "Will Simpson",
           "Aaron Carter",
           4,
           3,
           "2024-01-28",
           "[Gen 9] VGC 2024 Reg F",
           "2"
          ],
          [
           "Aaron Carter",
           "Evan Sooklal",
           4,
           2,
           "2024-02-09",
           "[Gen 9] VGC 2024 Reg F",
           "1a"
          ],
          [
           "Aaron Carter",
           "Evan Sooklal",
           4,
           3,
           "2024-02-09",
           "[Gen 9] VGC 2024 Reg F",
           "1b"
          ],
          [
           "Roman Ramirez",
           "Will Simpson",
           3,
           4,
           "2024-02-09",
           "[Gen 9] VGC 2024 Reg F",
           "2a"
          ],
          [
           "Roman Ramirez",
           "Will Simpson",
           2,
           4,
           "2024-02-09",
           "[Gen 9] VGC 2024 Reg F",
           "2b"
          ],
          [
           "Will Simpson",
           "Aaron Carter",
           2,
           4,
           "2024-02-09",
           "[Gen 9] VGC 2024 Reg F",
           "3a"
          ],
          [
           "Will Simpson",
           "Aaron Carter",
           0,
           4,
           "2024-02-09",
           "[Gen 9] VGC 2024 Reg F",
           "3b"
          ],
          [
           "Evan Sooklal",
           "Roman Ramirez",
           1,
           4,
           "2024-02-09",
           "[Gen 9] VGC 2024 Reg F",
           "4a"
          ],
          [
           "Evan Sooklal",
           "Roman Ramirez",
           4,
           2,
           "2024-02-09",
           "[Gen 9] VGC 2024 Reg F",
           "4b"
          ],
          [
           "Evan Sooklal",
           "Roman Ramirez",
           2,
           4,
           "2024-02-09",
           "[Gen 9] VGC 2024 Reg F",
           "4c"
          ],
          [
           "Roman Ramirez",
           "Aaron Carter",
           4,
           3,
           "2024-02-09",
           "[Gen 9] VGC 2024 Reg F",
           "5a"
          ],
          [
           "Roman Ramirez",
           "Aaron Carter",
           0,
           4,
           "2024-02-09",
           "[Gen 9] VGC 2024 Reg F",
           "5b"
          ],
          [
           "Roman Ramirez",
           "Aaron Carter",
           3,
           4,
           "2024-02-09",
           "[Gen 9] VGC 2024 Reg F",
           "5c"
          ],
          [
           "Evan Sooklal",
           "Will Simpson",
           1,
           4,
           "2024-02-09",
           "[Gen 9] VGC 2024 Reg F",
           "6a"
          ],
          [
           "Evan Sooklal",
           "Will Simpson",
           0,
           4,
           "2024-02-09",
           "[Gen 9] VGC 2024 Reg F",
           "6b"
          ],
          [
           "Aaron Carter",
           "Will Simpson",
           4,
           1,
           "2024-02-09",
           "[Gen 9] VGC 2024 Reg F",
           "1a"
          ],
          [
           "Aaron Carter",
           "Will Simpson",
           4,
           2,
           "2024-02-09",
           "[Gen 9] VGC 2024 Reg F",
           "1b"
          ],
          [
           "Will Simpson",
           "Evan Sooklal",
           0,
           6,
           "2024-02-18",
           "[Gen 9] Doubles UU",
           "1"
          ],
          [
           "Jack Massingill",
           "Roman Ramirez",
           0,
           6,
           "2024-02-18",
           "[Gen 9] Doubles UU",
           "2"
          ],
          [
           "Evan Sooklal",
           "Jack Massingill",
           0,
           6,
           "2024-02-18",
           "[Gen 9] Doubles UU",
           "3"
          ],
          [
           "Aaron Carter",
           "Will Simpson",
           0,
           6,
           "2024-02-18",
           "[Gen 9] Doubles UU",
           "4"
          ],
          [
           "Jack Massingill",
           "Aaron Carter",
           0,
           6,
           "2024-02-18",
           "[Gen 9] Doubles UU",
           "5"
          ],
          [
           "Roman Ramirez",
           "Evan Sooklal",
           0,
           6,
           "2024-02-18",
           "[Gen 9] Doubles UU",
           "6"
          ],
          [
           "Aaron Carter",
           "Roman Ramirez",
           0,
           6,
           "2024-02-18",
           "[Gen 9] Doubles UU",
           "7"
          ],
          [
           "Will Simpson",
           "Jack Massingill",
           0,
           6,
           "2024-02-18",
           "[Gen 9] Doubles UU",
           "8"
          ],
          [
           "Roman Ramirez",
           "Will Simpson",
           0,
           6,
           "2024-02-18",
           "[Gen 9] Doubles UU",
           "9"
          ],
          [
           "Evan Sooklal",
           "Aaron Carter",
           0,
           6,
           "2024-02-18",
           "[Gen 9] Doubles UU",
           "10"
          ],
          [
           "Evan Sooklal",
           "Will Simpson",
           0,
           6,
           "2024-02-18",
           "[Gen 9] Doubles UU",
           "11"
          ],
          [
           "Roman Ramirez",
           "Jack Massingill",
           0,
           6,
           "2024-02-18",
           "[Gen 9] Doubles UU",
           "12"
          ],
          [
           "Jack Massingill",
           "Evan Sooklal",
           0,
           6,
           "2024-02-18",
           "[Gen 9] Doubles UU",
           "13"
          ],
          [
           "Will Simpson",
           "Aaron Carter",
           0,
           6,
           "2024-02-18",
           "[Gen 9] Doubles UU",
           "14"
          ],
          [
           "Aaron Carter",
           "Jack Massingill",
           0,
           6,
           "2024-02-18",
           "[Gen 9] Doubles UU",
           "15"
          ],
          [
           "Evan Sooklal",
           "Roman Ramirez",
           0,
           6,
           "2024-02-18",
           "[Gen 9] Doubles UU",
           "16"
          ],
          [
           "Roman Ramirez",
           "Aaron Carter",
           0,
           6,
           "2024-02-18",
           "[Gen 9] Doubles UU",
           "17"
          ],
          [
           "Jack Massingill",
           "Will Simpson",
           0,
           6,
           "2024-02-18",
           "[Gen 9] Doubles UU",
           "18"
          ],
          [
           "Will Simpson",
           "Roman Ramirez",
           0,
           6,
           "2024-02-18",
           "[Gen 9] Doubles UU",
           "19"
          ],
          [
           "Aaron Carter",
           "Evan Sooklal",
           0,
           6,
           "2024-02-18",
           "[Gen 9] Doubles UU",
           "20"
          ]
         ],
         "hovertemplate": "<i>%{customdata[4]|%A, %B %d, %Y}, Game %{x}</i><br><b>%{fullData.name}</b><br><br><b>Format:</b> %{customdata[5]}<br><b>Tournament Match:</b> %{customdata[6]}<br><br><b>%{customdata[0]} vs. %{customdata[1]}</b><br><b>Final Score:</b> %{customdata[2]}-%{customdata[3]}<br>%{text}<b>Post-Game ELO:</b> %{y:,.0f}<br><extra></extra>",
         "legendgrouptitle": {
          "text": "<b>#<i>Rank</i> (<i>Current ELO</i>) <i>Player</i></b>"
         },
         "line": {
          "color": "rgb(57, 105, 172)",
          "shape": "hv"
         },
         "mode": "lines+markers",
         "name": "#3 (1213) Jack Massingill",
         "opacity": 0.8,
         "text": [
          "<br><b>Pre-Game ELO: </b>nan<br><b>Win Probability: </b>nan%<br><br><b>Change in ELO:</b> +nan<br>",
          "<br><b>Pre-Game ELO: </b>nan<br><b>Win Probability: </b>nan%<br><br><b>Change in ELO:</b> +nan<br>",
          "<br><b>Pre-Game ELO: </b>nan<br><b>Win Probability: </b>nan%<br><br><b>Change in ELO:</b> +nan<br>",
          "<br><b>Pre-Game ELO: </b>nan<br><b>Win Probability: </b>nan%<br><br><b>Change in ELO:</b> +nan<br>",
          "<br><b>Pre-Game ELO: </b>nan<br><b>Win Probability: </b>nan%<br><br><b>Change in ELO:</b> +nan<br>",
          "<br><b>Pre-Game ELO: </b>nan<br><b>Win Probability: </b>nan%<br><br><b>Change in ELO:</b> +nan<br>",
          "<br><b>Pre-Game ELO: </b>nan<br><b>Win Probability: </b>nan%<br><br><b>Change in ELO:</b> +nan<br>",
          "<br><b>Pre-Game ELO: </b>nan<br><b>Win Probability: </b>nan%<br><br><b>Change in ELO:</b> +nan<br>",
          "<br><b>Pre-Game ELO: </b>nan<br><b>Win Probability: </b>nan%<br><br><b>Change in ELO:</b> +nan<br>",
          "<br><b>Pre-Game ELO: </b>nan<br><b>Win Probability: </b>nan%<br><br><b>Change in ELO:</b> +nan<br>",
          "<br><b>Pre-Game ELO: </b>nan<br><b>Win Probability: </b>nan%<br><br><b>Change in ELO:</b> +nan<br>",
          "<br><b>Pre-Game ELO: </b>nan<br><b>Win Probability: </b>nan%<br><br><b>Change in ELO:</b> +nan<br>",
          "<br><b>Pre-Game ELO: </b>nan<br><b>Win Probability: </b>nan%<br><br><b>Change in ELO:</b> +nan<br>",
          "<br><b>Pre-Game ELO: </b>nan<br><b>Win Probability: </b>nan%<br><br><b>Change in ELO:</b> +nan<br>",
          "<br><b>Pre-Game ELO: </b>nan<br><b>Win Probability: </b>nan%<br><br><b>Change in ELO:</b> +nan<br>",
          "<br><b>Pre-Game ELO: </b>nan<br><b>Win Probability: </b>nan%<br><br><b>Change in ELO:</b> +nan<br>",
          "<br><b>Pre-Game ELO: </b>nan<br><b>Win Probability: </b>nan%<br><br><b>Change in ELO:</b> +nan<br>",
          "<br><b>Pre-Game ELO: </b>nan<br><b>Win Probability: </b>nan%<br><br><b>Change in ELO:</b> +nan<br>",
          "<br><b>Pre-Game ELO: </b>nan<br><b>Win Probability: </b>nan%<br><br><b>Change in ELO:</b> +nan<br>",
          "<br><b>Pre-Game ELO: </b>nan<br><b>Win Probability: </b>nan%<br><br><b>Change in ELO:</b> +nan<br>",
          "<br><b>Pre-Game ELO: </b>nan<br><b>Win Probability: </b>nan%<br><br><b>Change in ELO:</b> +nan<br>",
          "<br><b>Pre-Game ELO: </b>nan<br><b>Win Probability: </b>nan%<br><br><b>Change in ELO:</b> +nan<br>",
          "<br><b>Pre-Game ELO: </b>nan<br><b>Win Probability: </b>nan%<br><br><b>Change in ELO:</b> +nan<br>",
          "<br><b>Pre-Game ELO: </b>nan<br><b>Win Probability: </b>nan%<br><br><b>Change in ELO:</b> +nan<br>",
          "<br><b>Pre-Game ELO: </b>nan<br><b>Win Probability: </b>nan%<br><br><b>Change in ELO:</b> +nan<br>",
          "<br><b>Pre-Game ELO: </b>nan<br><b>Win Probability: </b>nan%<br><br><b>Change in ELO:</b> +nan<br>",
          "<br><b>Pre-Game ELO: </b>nan<br><b>Win Probability: </b>nan%<br><br><b>Change in ELO:</b> +nan<br>",
          "<br><b>Pre-Game ELO: </b>nan<br><b>Win Probability: </b>nan%<br><br><b>Change in ELO:</b> +nan<br>",
          "<br><b>Pre-Game ELO: </b>nan<br><b>Win Probability: </b>nan%<br><br><b>Change in ELO:</b> +nan<br>",
          "<br><b>Pre-Game ELO: </b>nan<br><b>Win Probability: </b>nan%<br><br><b>Change in ELO:</b> +nan<br>",
          "<br><b>Pre-Game ELO: </b>nan<br><b>Win Probability: </b>nan%<br><br><b>Change in ELO:</b> +nan<br>",
          "<br><b>Pre-Game ELO: </b>nan<br><b>Win Probability: </b>nan%<br><br><b>Change in ELO:</b> +nan<br>",
          "<br><b>Pre-Game ELO: </b>nan<br><b>Win Probability: </b>nan%<br><br><b>Change in ELO:</b> +nan<br>",
          "<br><b>Pre-Game ELO: </b>nan<br><b>Win Probability: </b>nan%<br><br><b>Change in ELO:</b> +nan<br>",
          "<br><b>Pre-Game ELO: </b>nan<br><b>Win Probability: </b>nan%<br><br><b>Change in ELO:</b> +nan<br>",
          "<br><b>Pre-Game ELO: </b>nan<br><b>Win Probability: </b>nan%<br><br><b>Change in ELO:</b> +nan<br>",
          "<br><b>Pre-Game ELO: </b>nan<br><b>Win Probability: </b>nan%<br><br><b>Change in ELO:</b> +nan<br>",
          "<br><b>Pre-Game ELO: </b>nan<br><b>Win Probability: </b>nan%<br><br><b>Change in ELO:</b> +nan<br>",
          "<br><b>Pre-Game ELO: </b>nan<br><b>Win Probability: </b>nan%<br><br><b>Change in ELO:</b> +nan<br>",
          "<br><b>Pre-Game ELO: </b>nan<br><b>Win Probability: </b>nan%<br><br><b>Change in ELO:</b> +nan<br>",
          "<br><b>Pre-Game ELO: </b>nan<br><b>Win Probability: </b>nan%<br><br><b>Change in ELO:</b> +nan<br>",
          "<br><b>Pre-Game ELO: </b>nan<br><b>Win Probability: </b>nan%<br><br><b>Change in ELO:</b> +nan<br>",
          "<br><b>Pre-Game ELO: </b>nan<br><b>Win Probability: </b>nan%<br><br><b>Change in ELO:</b> +nan<br>",
          "<br><b>Pre-Game ELO: </b>nan<br><b>Win Probability: </b>nan%<br><br><b>Change in ELO:</b> +nan<br>",
          "<br><b>Pre-Game ELO: </b>nan<br><b>Win Probability: </b>nan%<br><br><b>Change in ELO:</b> +nan<br>",
          "<br><b>Pre-Game ELO: </b>nan<br><b>Win Probability: </b>nan%<br><br><b>Change in ELO:</b> +nan<br>",
          "<br><b>Pre-Game ELO: </b>nan<br><b>Win Probability: </b>nan%<br><br><b>Change in ELO:</b> +nan<br>",
          "<br><b>Pre-Game ELO: </b>nan<br><b>Win Probability: </b>nan%<br><br><b>Change in ELO:</b> +nan<br>",
          "<br><b>Pre-Game ELO: </b>nan<br><b>Win Probability: </b>nan%<br><br><b>Change in ELO:</b> +nan<br>",
          "<br><b>Pre-Game ELO: </b>nan<br><b>Win Probability: </b>nan%<br><br><b>Change in ELO:</b> +nan<br>",
          "<br><b>Pre-Game ELO: </b>nan<br><b>Win Probability: </b>nan%<br><br><b>Change in ELO:</b> +nan<br>",
          "<br><b>Pre-Game ELO: </b>nan<br><b>Win Probability: </b>nan%<br><br><b>Change in ELO:</b> +nan<br>",
          "<br><b>Pre-Game ELO: </b>nan<br><b>Win Probability: </b>nan%<br><br><b>Change in ELO:</b> +nan<br>",
          "<br><b>Pre-Game ELO: </b>nan<br><b>Win Probability: </b>nan%<br><br><b>Change in ELO:</b> +nan<br>",
          "<br><b>Pre-Game ELO: </b>nan<br><b>Win Probability: </b>nan%<br><br><b>Change in ELO:</b> +nan<br>",
          "<br><b>Pre-Game ELO: </b>nan<br><b>Win Probability: </b>nan%<br><br><b>Change in ELO:</b> +nan<br>",
          "<br><b>Pre-Game ELO: </b>nan<br><b>Win Probability: </b>nan%<br><br><b>Change in ELO:</b> +nan<br>",
          "<br><b>Pre-Game ELO: </b>nan<br><b>Win Probability: </b>nan%<br><br><b>Change in ELO:</b> +nan<br>",
          "<br><b>Pre-Game ELO: </b>nan<br><b>Win Probability: </b>nan%<br><br><b>Change in ELO:</b> +nan<br>",
          "<br><b>Pre-Game ELO: </b>nan<br><b>Win Probability: </b>nan%<br><br><b>Change in ELO:</b> +nan<br>",
          "<br><b>Pre-Game ELO: </b>nan<br><b>Win Probability: </b>nan%<br><br><b>Change in ELO:</b> +nan<br>",
          "<br><b>Pre-Game ELO: </b>nan<br><b>Win Probability: </b>nan%<br><br><b>Change in ELO:</b> +nan<br>",
          "<br><b>Pre-Game ELO: </b>nan<br><b>Win Probability: </b>nan%<br><br><b>Change in ELO:</b> +nan<br>",
          "<br><b>Pre-Game ELO: </b>nan<br><b>Win Probability: </b>nan%<br><br><b>Change in ELO:</b> +nan<br>",
          "<br><b>Pre-Game ELO: </b>nan<br><b>Win Probability: </b>nan%<br><br><b>Change in ELO:</b> +nan<br>",
          "<br><b>Pre-Game ELO: </b>nan<br><b>Win Probability: </b>nan%<br><br><b>Change in ELO:</b> +nan<br>",
          "<br><b>Pre-Game ELO: </b>nan<br><b>Win Probability: </b>nan%<br><br><b>Change in ELO:</b> +nan<br>",
          "<br><b>Pre-Game ELO: </b>nan<br><b>Win Probability: </b>nan%<br><br><b>Change in ELO:</b> +nan<br>",
          "<br><b>Pre-Game ELO: </b>nan<br><b>Win Probability: </b>nan%<br><br><b>Change in ELO:</b> +nan<br>",
          "<br><b>Pre-Game ELO: </b>nan<br><b>Win Probability: </b>nan%<br><br><b>Change in ELO:</b> +nan<br>",
          "<br><b>Pre-Game ELO: </b>nan<br><b>Win Probability: </b>nan%<br><br><b>Change in ELO:</b> +nan<br>",
          "<br><b>Pre-Game ELO: </b>nan<br><b>Win Probability: </b>nan%<br><br><b>Change in ELO:</b> +nan<br>",
          "<br><b>Pre-Game ELO: </b>nan<br><b>Win Probability: </b>nan%<br><br><b>Change in ELO:</b> +nan<br>",
          "<br><b>Pre-Game ELO: </b>nan<br><b>Win Probability: </b>nan%<br><br><b>Change in ELO:</b> +nan<br>",
          "<br><b>Pre-Game ELO: </b>nan<br><b>Win Probability: </b>nan%<br><br><b>Change in ELO:</b> +nan<br>",
          "<br><b>Pre-Game ELO: </b>nan<br><b>Win Probability: </b>nan%<br><br><b>Change in ELO:</b> +nan<br>",
          "<br><b>Pre-Game ELO: </b>nan<br><b>Win Probability: </b>nan%<br><br><b>Change in ELO:</b> +nan<br>",
          "<br><b>Pre-Game ELO: </b>nan<br><b>Win Probability: </b>nan%<br><br><b>Change in ELO:</b> +nan<br>",
          "<br><b>Pre-Game ELO: </b>nan<br><b>Win Probability: </b>nan%<br><br><b>Change in ELO:</b> +nan<br>",
          "<br><b>Pre-Game ELO: </b>nan<br><b>Win Probability: </b>nan%<br><br><b>Change in ELO:</b> +nan<br>",
          "<br><b>Pre-Game ELO: </b>nan<br><b>Win Probability: </b>nan%<br><br><b>Change in ELO:</b> +nan<br>",
          "<br><b>Pre-Game ELO: </b>nan<br><b>Win Probability: </b>nan%<br><br><b>Change in ELO:</b> +nan<br>",
          "<br><b>Pre-Game ELO: </b>nan<br><b>Win Probability: </b>nan%<br><br><b>Change in ELO:</b> +nan<br>",
          "<br><b>Pre-Game ELO: </b>nan<br><b>Win Probability: </b>nan%<br><br><b>Change in ELO:</b> +nan<br>",
          "<br><b>Pre-Game ELO: </b>nan<br><b>Win Probability: </b>nan%<br><br><b>Change in ELO:</b> +nan<br>",
          "<br><b>Pre-Game ELO: </b>nan<br><b>Win Probability: </b>nan%<br><br><b>Change in ELO:</b> +nan<br>",
          "<br><b>Pre-Game ELO: </b>nan<br><b>Win Probability: </b>nan%<br><br><b>Change in ELO:</b> +nan<br>",
          "<br><b>Pre-Game ELO: </b>nan<br><b>Win Probability: </b>nan%<br><br><b>Change in ELO:</b> +nan<br>",
          "<br><b>Pre-Game ELO: </b>nan<br><b>Win Probability: </b>nan%<br><br><b>Change in ELO:</b> +nan<br>",
          "<br><b>Pre-Game ELO: </b>nan<br><b>Win Probability: </b>nan%<br><br><b>Change in ELO:</b> +nan<br>",
          "<br><b>Pre-Game ELO: </b>nan<br><b>Win Probability: </b>nan%<br><br><b>Change in ELO:</b> +nan<br>",
          "<br><b>Pre-Game ELO: </b>1200<br><b>Win Probability: </b>60.4%<br><br><b>Change in ELO:</b> -19<br>",
          "<br><b>Pre-Game ELO: </b>1181<br><b>Win Probability: </b>50.3%<br><br><b>Change in ELO:</b> +15<br>",
          "<br><b>Pre-Game ELO: </b>nan<br><b>Win Probability: </b>nan%<br><br><b>Change in ELO:</b> +nan<br>",
          "<br><b>Pre-Game ELO: </b>1197<br><b>Win Probability: </b>23.5%<br><br><b>Change in ELO:</b> -7<br>",
          "<br><b>Pre-Game ELO: </b>nan<br><b>Win Probability: </b>nan%<br><br><b>Change in ELO:</b> +nan<br>",
          "<br><b>Pre-Game ELO: </b>nan<br><b>Win Probability: </b>nan%<br><br><b>Change in ELO:</b> +nan<br>",
          "<br><b>Pre-Game ELO: </b>1189<br><b>Win Probability: </b>31.3%<br><br><b>Change in ELO:</b> +21<br>",
          "<br><b>Pre-Game ELO: </b>nan<br><b>Win Probability: </b>nan%<br><br><b>Change in ELO:</b> +nan<br>",
          "<br><b>Pre-Game ELO: </b>nan<br><b>Win Probability: </b>nan%<br><br><b>Change in ELO:</b> +nan<br>",
          "<br><b>Pre-Game ELO: </b>nan<br><b>Win Probability: </b>nan%<br><br><b>Change in ELO:</b> +nan<br>",
          "<br><b>Pre-Game ELO: </b>1211<br><b>Win Probability: </b>58.9%<br><br><b>Change in ELO:</b> +13<br>",
          "<br><b>Pre-Game ELO: </b>1223<br><b>Win Probability: </b>65.6%<br><br><b>Change in ELO:</b> -20<br>",
          "<br><b>Pre-Game ELO: </b>nan<br><b>Win Probability: </b>nan%<br><br><b>Change in ELO:</b> +nan<br>",
          "<br><b>Pre-Game ELO: </b>1203<br><b>Win Probability: </b>24.5%<br><br><b>Change in ELO:</b> +23<br>",
          "<br><b>Pre-Game ELO: </b>nan<br><b>Win Probability: </b>nan%<br><br><b>Change in ELO:</b> +nan<br>",
          "<br><b>Pre-Game ELO: </b>nan<br><b>Win Probability: </b>nan%<br><br><b>Change in ELO:</b> +nan<br>",
          "<br><b>Pre-Game ELO: </b>1227<br><b>Win Probability: </b>44.2%<br><br><b>Change in ELO:</b> -14<br>",
          "<br><b>Pre-Game ELO: </b>nan<br><b>Win Probability: </b>nan%<br><br><b>Change in ELO:</b> +nan<br>",
          "<br><b>Pre-Game ELO: </b>nan<br><b>Win Probability: </b>nan%<br><br><b>Change in ELO:</b> +nan<br>"
         ],
         "type": "scatter",
         "x": [
          1,
          2,
          3,
          4,
          5,
          6,
          7,
          8,
          9,
          10,
          11,
          12,
          13,
          14,
          15,
          16,
          17,
          18,
          19,
          20,
          21,
          22,
          23,
          24,
          25,
          26,
          27,
          28,
          29,
          30,
          31,
          32,
          33,
          34,
          35,
          36,
          37,
          38,
          39,
          40,
          41,
          42,
          43,
          44,
          45,
          46,
          47,
          48,
          49,
          50,
          51,
          52,
          53,
          54,
          55,
          56,
          57,
          58,
          59,
          60,
          61,
          62,
          63,
          64,
          65,
          66,
          67,
          68,
          69,
          70,
          71,
          72,
          73,
          74,
          75,
          76,
          77,
          78,
          79,
          80,
          81,
          82,
          83,
          84,
          85,
          86,
          87,
          88,
          89,
          90,
          91,
          92,
          93,
          94,
          95,
          96,
          97,
          98,
          99,
          100,
          101,
          102,
          103,
          104,
          105,
          106,
          107,
          108,
          109,
          110
         ],
         "y": [
          null,
          null,
          null,
          null,
          null,
          null,
          null,
          null,
          null,
          null,
          null,
          null,
          null,
          null,
          null,
          null,
          null,
          null,
          null,
          null,
          null,
          null,
          null,
          null,
          null,
          null,
          null,
          null,
          null,
          null,
          null,
          null,
          null,
          null,
          null,
          null,
          null,
          null,
          null,
          null,
          null,
          null,
          null,
          null,
          null,
          null,
          null,
          null,
          null,
          null,
          null,
          null,
          null,
          null,
          null,
          null,
          null,
          null,
          null,
          null,
          null,
          null,
          null,
          null,
          null,
          null,
          null,
          null,
          null,
          null,
          null,
          null,
          null,
          null,
          null,
          null,
          null,
          null,
          null,
          null,
          null,
          null,
          null,
          null,
          null,
          null,
          null,
          null,
          null,
          null,
          null,
          1181.2843222681238,
          1196.6930795402184,
          null,
          1189.412762191832,
          null,
          null,
          1210.7167659687138,
          null,
          null,
          null,
          1223.4726479030871,
          1203.1443940211223,
          null,
          1226.5646776636097,
          null,
          null,
          1212.8519738191706,
          null,
          null
         ]
        },
        {
         "connectgaps": true,
         "customdata": [
          [
           "Evan Sooklal",
           "Will Simpson",
           2,
           6,
           "2023-11-18",
           "[Gen 9] OU",
           "1"
          ],
          [
           "Paul Bartenfeld",
           "Roman Ramirez",
           2,
           6,
           "2023-11-18",
           "[Gen 9] OU",
           "2"
          ],
          [
           "Roman Ramirez",
           "Evan Sooklal",
           6,
           3,
           "2023-11-18",
           "[Gen 9] OU",
           "3"
          ],
          [
           "Will Simpson",
           "Paul Bartenfeld",
           6,
           1,
           "2023-11-18",
           "[Gen 9] OU",
           "4"
          ],
          [
           "Paul Bartenfeld",
           "Evan Sooklal",
           1,
           6,
           "2023-11-18",
           "[Gen 9] OU",
           "5"
          ],
          [
           "Will Simpson",
           "Roman Ramirez",
           3,
           6,
           "2023-11-18",
           "[Gen 9] OU",
           "6"
          ],
          [
           "Will Simpson",
           "Evan Sooklal",
           6,
           2,
           "2023-11-18",
           "[Gen 9] OU",
           "7"
          ],
          [
           "Roman Ramirez",
           "Paul Bartenfeld",
           6,
           4,
           "2023-11-18",
           "[Gen 9] OU",
           "8"
          ],
          [
           "Evan Sooklal",
           "Roman Ramirez",
           6,
           5,
           "2023-11-18",
           "[Gen 9] OU",
           "9"
          ],
          [
           "Paul Bartenfeld",
           "Will Simpson",
           4,
           6,
           "2023-11-18",
           "[Gen 9] OU",
           "10"
          ],
          [
           "Evan Sooklal",
           "Paul Bartenfeld",
           6,
           5,
           "2023-11-18",
           "[Gen 9] OU",
           "11"
          ],
          [
           "Roman Ramirez",
           "Will Simpson",
           6,
           2,
           "2023-11-18",
           "[Gen 9] OU",
           "12"
          ],
          [
           "Roman Ramirez",
           "Will Simpson",
           2,
           6,
           "2023-11-18",
           "[Gen 9] OU",
           "1"
          ],
          [
           "Will Simpson",
           "Roman Ramirez",
           4,
           6,
           "2023-11-18",
           "[Gen 9] OU",
           "2"
          ],
          [
           "Roman Ramirez",
           "Will Simpson",
           6,
           4,
           "2023-11-18",
           "[Gen 9] OU",
           "3"
          ],
          [
           "Roman Ramirez",
           "Aaron Carter",
           4,
           6,
           "2023-12-02",
           "[Gen 9] OU",
           "1"
          ],
          [
           "Will Simpson",
           "Paul Bartenfeld",
           6,
           4,
           "2023-12-02",
           "[Gen 9] OU",
           "2"
          ],
          [
           "Aaron Carter",
           "Will Simpson",
           4,
           6,
           "2023-12-02",
           "[Gen 9] OU",
           "3"
          ],
          [
           "Evan Sooklal",
           "Roman Ramirez",
           6,
           2,
           "2023-12-02",
           "[Gen 9] OU",
           "4"
          ],
          [
           "Will Simpson",
           "Evan Sooklal",
           6,
           2,
           "2023-12-02",
           "[Gen 9] OU",
           "5"
          ],
          [
           "Paul Bartenfeld",
           "Aaron Carter",
           6,
           3,
           "2023-12-02",
           "[Gen 9] OU",
           "6"
          ],
          [
           "Evan Sooklal",
           "Paul Bartenfeld",
           6,
           4,
           "2023-12-02",
           "[Gen 9] OU",
           "7"
          ],
          [
           "Roman Ramirez",
           "Will Simpson",
           6,
           4,
           "2023-12-02",
           "[Gen 9] OU",
           "8"
          ],
          [
           "Paul Bartenfeld",
           "Roman Ramirez",
           6,
           3,
           "2023-12-02",
           "[Gen 9] OU",
           "9"
          ],
          [
           "Aaron Carter",
           "Evan Sooklal",
           6,
           3,
           "2023-12-02",
           "[Gen 9] OU",
           "10"
          ],
          [
           "Aaron Carter",
           "Roman Ramirez",
           0,
           6,
           "2023-12-02",
           "[Gen 9] OU",
           "11"
          ],
          [
           "Paul Bartenfeld",
           "Will Simpson",
           1,
           6,
           "2023-12-02",
           "[Gen 9] OU",
           "12"
          ],
          [
           "Will Simpson",
           "Aaron Carter",
           3,
           6,
           "2023-12-02",
           "[Gen 9] OU",
           "13"
          ],
          [
           "Roman Ramirez",
           "Evan Sooklal",
           2,
           6,
           "2023-12-02",
           "[Gen 9] OU",
           "14"
          ],
          [
           "Evan Sooklal",
           "Will Simpson",
           5,
           6,
           "2023-12-02",
           "[Gen 9] OU",
           "15"
          ],
          [
           "Aaron Carter",
           "Paul Bartenfeld",
           6,
           3,
           "2023-12-02",
           "[Gen 9] OU",
           "16"
          ],
          [
           "Paul Bartenfeld",
           "Evan Sooklal",
           6,
           5,
           "2023-12-02",
           "[Gen 9] OU",
           "17"
          ],
          [
           "Will Simpson",
           "Roman Ramirez",
           6,
           5,
           "2023-12-02",
           "[Gen 9] OU",
           "18"
          ],
          [
           "Roman Ramirez",
           "Paul Bartenfeld",
           4,
           6,
           "2023-12-02",
           "[Gen 9] OU",
           "19"
          ],
          [
           "Evan Sooklal",
           "Aaron Carter",
           6,
           4,
           "2023-12-02",
           "[Gen 9] OU",
           "20"
          ],
          [
           "Will Simpson",
           "Evan Sooklal",
           6,
           2,
           "2023-12-02",
           "[Gen 9] OU",
           "1"
          ],
          [
           "Will Simpson",
           "Evan Sooklal",
           6,
           1,
           "2023-12-02",
           "[Gen 9] OU",
           "2"
          ],
          [
           "Aaron Carter",
           "Paul Bartenfeld",
           6,
           3,
           "2023-12-13",
           "[Gen 9] OU",
           "1"
          ],
          [
           "Roman Ramirez",
           "Evan Sooklal",
           5,
           6,
           "2023-12-13",
           "[Gen 9] OU",
           "2"
          ],
          [
           "Paul Bartenfeld",
           "Roman Ramirez",
           2,
           6,
           "2023-12-13",
           "[Gen 9] OU",
           "3"
          ],
          [
           "Will Simpson",
           "Aaron Carter",
           0,
           6,
           "2023-12-13",
           "[Gen 9] OU",
           "4"
          ],
          [
           "Roman Ramirez",
           "Will Simpson",
           4,
           6,
           "2023-12-13",
           "[Gen 9] OU",
           "5"
          ],
          [
           "Evan Sooklal",
           "Paul Bartenfeld",
           6,
           5,
           "2023-12-13",
           "[Gen 9] OU",
           "6"
          ],
          [
           "Will Simpson",
           "Evan Sooklal",
           4,
           6,
           "2023-12-13",
           "[Gen 9] OU",
           "7"
          ],
          [
           "Aaron Carter",
           "Roman Ramirez",
           6,
           3,
           "2023-12-13",
           "[Gen 9] OU",
           "8"
          ],
          [
           "Evan Sooklal",
           "Aaron Carter",
           5,
           6,
           "2023-12-13",
           "[Gen 9] OU",
           "9"
          ],
          [
           "Paul Bartenfeld",
           "Will Simpson",
           2,
           6,
           "2023-12-13",
           "[Gen 9] OU",
           "10"
          ],
          [
           "Paul Bartenfeld",
           "Aaron Carter",
           3,
           6,
           "2023-12-13",
           "[Gen 9] OU",
           "11"
          ],
          [
           "Evan Sooklal",
           "Roman Ramirez",
           6,
           4,
           "2023-12-13",
           "[Gen 9] OU",
           "12"
          ],
          [
           "Roman Ramirez",
           "Paul Bartenfeld",
           6,
           1,
           "2023-12-13",
           "[Gen 9] OU",
           "13"
          ],
          [
           "Aaron Carter",
           "Will Simpson",
           6,
           5,
           "2023-12-13",
           "[Gen 9] OU",
           "14"
          ],
          [
           "Will Simpson",
           "Roman Ramirez",
           3,
           6,
           "2023-12-13",
           "[Gen 9] OU",
           "15"
          ],
          [
           "Paul Bartenfeld",
           "Evan Sooklal",
           3,
           6,
           "2023-12-13",
           "[Gen 9] OU",
           "16"
          ],
          [
           "Evan Sooklal",
           "Will Simpson",
           6,
           3,
           "2023-12-13",
           "[Gen 9] OU",
           "17"
          ],
          [
           "Roman Ramirez",
           "Aaron Carter",
           5,
           6,
           "2023-12-13",
           "[Gen 9] OU",
           "18"
          ],
          [
           "Aaron Carter",
           "Evan Sooklal",
           6,
           2,
           "2023-12-13",
           "[Gen 9] OU",
           "19"
          ],
          [
           "Will Simpson",
           "Paul Bartenfeld",
           6,
           4,
           "2023-12-13",
           "[Gen 9] OU",
           "20"
          ],
          [
           "Aaron Carter",
           "Evan Sooklal",
           5,
           6,
           "2023-12-13",
           "[Gen 9] OU",
           "1"
          ],
          [
           "Evan Sooklal",
           "Aaron Carter",
           2,
           6,
           "2023-12-13",
           "[Gen 9] OU",
           "2"
          ],
          [
           "Aaron Carter",
           "Evan Sooklal",
           6,
           2,
           "2023-12-13",
           "[Gen 9] OU",
           "3"
          ],
          [
           "Evan Sooklal",
           "Will Simpson",
           0,
           4,
           "2024-01-28",
           "[Gen 9] VGC 2024 Reg F",
           "1"
          ],
          [
           "Roman Ramirez",
           "Aaron Carter",
           2,
           4,
           "2024-01-28",
           "[Gen 9] VGC 2024 Reg F",
           "2"
          ],
          [
           "Aaron Carter",
           "Evan Sooklal",
           3,
           4,
           "2024-01-28",
           "[Gen 9] VGC 2024 Reg F",
           "3"
          ],
          [
           "Will Simpson",
           "Roman Ramirez",
           4,
           2,
           "2024-01-28",
           "[Gen 9] VGC 2024 Reg F",
           "4"
          ],
          [
           "Roman Ramirez",
           "Evan Sooklal",
           0,
           4,
           "2024-01-28",
           "[Gen 9] VGC 2024 Reg F",
           "5"
          ],
          [
           "Will Simpson",
           "Aaron Carter",
           1,
           4,
           "2024-01-28",
           "[Gen 9] VGC 2024 Reg F",
           "6"
          ],
          [
           "Will Simpson",
           "Evan Sooklal",
           4,
           2,
           "2024-01-28",
           "[Gen 9] VGC 2024 Reg F",
           "7"
          ],
          [
           "Aaron Carter",
           "Roman Ramirez",
           4,
           0,
           "2024-01-28",
           "[Gen 9] VGC 2024 Reg F",
           "8"
          ],
          [
           "Evan Sooklal",
           "Aaron Carter",
           3,
           4,
           "2024-01-28",
           "[Gen 9] VGC 2024 Reg F",
           "9"
          ],
          [
           "Roman Ramirez",
           "Will Simpson",
           1,
           4,
           "2024-01-28",
           "[Gen 9] VGC 2024 Reg F",
           "10"
          ],
          [
           "Evan Sooklal",
           "Roman Ramirez",
           4,
           3,
           "2024-01-28",
           "[Gen 9] VGC 2024 Reg F",
           "11"
          ],
          [
           "Aaron Carter",
           "Will Simpson",
           2,
           4,
           "2024-01-28",
           "[Gen 9] VGC 2024 Reg F",
           "12"
          ],
          [
           "Will Simpson",
           "Aaron Carter",
           4,
           0,
           "2024-01-28",
           "[Gen 9] VGC 2024 Reg F",
           "1"
          ],
          [
           "Will Simpson",
           "Aaron Carter",
           4,
           3,
           "2024-01-28",
           "[Gen 9] VGC 2024 Reg F",
           "2"
          ],
          [
           "Aaron Carter",
           "Evan Sooklal",
           4,
           2,
           "2024-02-09",
           "[Gen 9] VGC 2024 Reg F",
           "1a"
          ],
          [
           "Aaron Carter",
           "Evan Sooklal",
           4,
           3,
           "2024-02-09",
           "[Gen 9] VGC 2024 Reg F",
           "1b"
          ],
          [
           "Roman Ramirez",
           "Will Simpson",
           3,
           4,
           "2024-02-09",
           "[Gen 9] VGC 2024 Reg F",
           "2a"
          ],
          [
           "Roman Ramirez",
           "Will Simpson",
           2,
           4,
           "2024-02-09",
           "[Gen 9] VGC 2024 Reg F",
           "2b"
          ],
          [
           "Will Simpson",
           "Aaron Carter",
           2,
           4,
           "2024-02-09",
           "[Gen 9] VGC 2024 Reg F",
           "3a"
          ],
          [
           "Will Simpson",
           "Aaron Carter",
           0,
           4,
           "2024-02-09",
           "[Gen 9] VGC 2024 Reg F",
           "3b"
          ],
          [
           "Evan Sooklal",
           "Roman Ramirez",
           1,
           4,
           "2024-02-09",
           "[Gen 9] VGC 2024 Reg F",
           "4a"
          ],
          [
           "Evan Sooklal",
           "Roman Ramirez",
           4,
           2,
           "2024-02-09",
           "[Gen 9] VGC 2024 Reg F",
           "4b"
          ],
          [
           "Evan Sooklal",
           "Roman Ramirez",
           2,
           4,
           "2024-02-09",
           "[Gen 9] VGC 2024 Reg F",
           "4c"
          ],
          [
           "Roman Ramirez",
           "Aaron Carter",
           4,
           3,
           "2024-02-09",
           "[Gen 9] VGC 2024 Reg F",
           "5a"
          ],
          [
           "Roman Ramirez",
           "Aaron Carter",
           0,
           4,
           "2024-02-09",
           "[Gen 9] VGC 2024 Reg F",
           "5b"
          ],
          [
           "Roman Ramirez",
           "Aaron Carter",
           3,
           4,
           "2024-02-09",
           "[Gen 9] VGC 2024 Reg F",
           "5c"
          ],
          [
           "Evan Sooklal",
           "Will Simpson",
           1,
           4,
           "2024-02-09",
           "[Gen 9] VGC 2024 Reg F",
           "6a"
          ],
          [
           "Evan Sooklal",
           "Will Simpson",
           0,
           4,
           "2024-02-09",
           "[Gen 9] VGC 2024 Reg F",
           "6b"
          ],
          [
           "Aaron Carter",
           "Will Simpson",
           4,
           1,
           "2024-02-09",
           "[Gen 9] VGC 2024 Reg F",
           "1a"
          ],
          [
           "Aaron Carter",
           "Will Simpson",
           4,
           2,
           "2024-02-09",
           "[Gen 9] VGC 2024 Reg F",
           "1b"
          ],
          [
           "Will Simpson",
           "Evan Sooklal",
           0,
           6,
           "2024-02-18",
           "[Gen 9] Doubles UU",
           "1"
          ],
          [
           "Jack Massingill",
           "Roman Ramirez",
           0,
           6,
           "2024-02-18",
           "[Gen 9] Doubles UU",
           "2"
          ],
          [
           "Evan Sooklal",
           "Jack Massingill",
           0,
           6,
           "2024-02-18",
           "[Gen 9] Doubles UU",
           "3"
          ],
          [
           "Aaron Carter",
           "Will Simpson",
           0,
           6,
           "2024-02-18",
           "[Gen 9] Doubles UU",
           "4"
          ],
          [
           "Jack Massingill",
           "Aaron Carter",
           0,
           6,
           "2024-02-18",
           "[Gen 9] Doubles UU",
           "5"
          ],
          [
           "Roman Ramirez",
           "Evan Sooklal",
           0,
           6,
           "2024-02-18",
           "[Gen 9] Doubles UU",
           "6"
          ],
          [
           "Aaron Carter",
           "Roman Ramirez",
           0,
           6,
           "2024-02-18",
           "[Gen 9] Doubles UU",
           "7"
          ],
          [
           "Will Simpson",
           "Jack Massingill",
           0,
           6,
           "2024-02-18",
           "[Gen 9] Doubles UU",
           "8"
          ],
          [
           "Roman Ramirez",
           "Will Simpson",
           0,
           6,
           "2024-02-18",
           "[Gen 9] Doubles UU",
           "9"
          ],
          [
           "Evan Sooklal",
           "Aaron Carter",
           0,
           6,
           "2024-02-18",
           "[Gen 9] Doubles UU",
           "10"
          ],
          [
           "Evan Sooklal",
           "Will Simpson",
           0,
           6,
           "2024-02-18",
           "[Gen 9] Doubles UU",
           "11"
          ],
          [
           "Roman Ramirez",
           "Jack Massingill",
           0,
           6,
           "2024-02-18",
           "[Gen 9] Doubles UU",
           "12"
          ],
          [
           "Jack Massingill",
           "Evan Sooklal",
           0,
           6,
           "2024-02-18",
           "[Gen 9] Doubles UU",
           "13"
          ],
          [
           "Will Simpson",
           "Aaron Carter",
           0,
           6,
           "2024-02-18",
           "[Gen 9] Doubles UU",
           "14"
          ],
          [
           "Aaron Carter",
           "Jack Massingill",
           0,
           6,
           "2024-02-18",
           "[Gen 9] Doubles UU",
           "15"
          ],
          [
           "Evan Sooklal",
           "Roman Ramirez",
           0,
           6,
           "2024-02-18",
           "[Gen 9] Doubles UU",
           "16"
          ],
          [
           "Roman Ramirez",
           "Aaron Carter",
           0,
           6,
           "2024-02-18",
           "[Gen 9] Doubles UU",
           "17"
          ],
          [
           "Jack Massingill",
           "Will Simpson",
           0,
           6,
           "2024-02-18",
           "[Gen 9] Doubles UU",
           "18"
          ],
          [
           "Will Simpson",
           "Roman Ramirez",
           0,
           6,
           "2024-02-18",
           "[Gen 9] Doubles UU",
           "19"
          ],
          [
           "Aaron Carter",
           "Evan Sooklal",
           0,
           6,
           "2024-02-18",
           "[Gen 9] Doubles UU",
           "20"
          ]
         ],
         "hovertemplate": "<i>%{customdata[4]|%A, %B %d, %Y}, Game %{x}</i><br><b>%{fullData.name}</b><br><br><b>Format:</b> %{customdata[5]}<br><b>Tournament Match:</b> %{customdata[6]}<br><br><b>%{customdata[0]} vs. %{customdata[1]}</b><br><b>Final Score:</b> %{customdata[2]}-%{customdata[3]}<br>%{text}<b>Post-Game ELO:</b> %{y:,.0f}<br><extra></extra>",
         "legendgrouptitle": {
          "text": "<b>#<i>Rank</i> (<i>Current ELO</i>) <i>Player</i></b>"
         },
         "line": {
          "color": "rgb(242, 183, 1)",
          "shape": "hv"
         },
         "mode": "lines+markers",
         "name": "#4 (1197) Roman Ramirez",
         "opacity": 0.8,
         "text": [
          "<br><b>Pre-Game ELO: </b>nan<br><b>Win Probability: </b>nan%<br><br><b>Change in ELO:</b> +nan<br>",
          "<br><b>Pre-Game ELO: </b>1200<br><b>Win Probability: </b>50.0%<br><br><b>Change in ELO:</b> +16<br>",
          "<br><b>Pre-Game ELO: </b>1216<br><b>Win Probability: </b>58.4%<br><br><b>Change in ELO:</b> +13<br>",
          "<br><b>Pre-Game ELO: </b>nan<br><b>Win Probability: </b>nan%<br><br><b>Change in ELO:</b> +nan<br>",
          "<br><b>Pre-Game ELO: </b>nan<br><b>Win Probability: </b>nan%<br><br><b>Change in ELO:</b> +nan<br>",
          "<br><b>Pre-Game ELO: </b>1228<br><b>Win Probability: </b>50.0%<br><br><b>Change in ELO:</b> +16<br>",
          "<br><b>Pre-Game ELO: </b>nan<br><b>Win Probability: </b>nan%<br><br><b>Change in ELO:</b> +nan<br>",
          "<br><b>Pre-Game ELO: </b>1244<br><b>Win Probability: </b>72.4%<br><br><b>Change in ELO:</b> +9<br>",
          "<br><b>Pre-Game ELO: </b>1252<br><b>Win Probability: </b>70.4%<br><br><b>Change in ELO:</b> -22<br>",
          "<br><b>Pre-Game ELO: </b>nan<br><b>Win Probability: </b>nan%<br><br><b>Change in ELO:</b> +nan<br>",
          "<br><b>Pre-Game ELO: </b>nan<br><b>Win Probability: </b>nan%<br><br><b>Change in ELO:</b> +nan<br>",
          "<br><b>Pre-Game ELO: </b>1231<br><b>Win Probability: </b>48.7%<br><br><b>Change in ELO:</b> +16<br>",
          "<br><b>Pre-Game ELO: </b>1247<br><b>Win Probability: </b>57.4%<br><br><b>Change in ELO:</b> -18<br>",
          "<br><b>Pre-Game ELO: </b>1229<br><b>Win Probability: </b>47.7%<br><br><b>Change in ELO:</b> +16<br>",
          "<br><b>Pre-Game ELO: </b>1245<br><b>Win Probability: </b>56.5%<br><br><b>Change in ELO:</b> +13<br>",
          "<br><b>Pre-Game ELO: </b>1258<br><b>Win Probability: </b>65.5%<br><br><b>Change in ELO:</b> -20<br>",
          "<br><b>Pre-Game ELO: </b>nan<br><b>Win Probability: </b>nan%<br><br><b>Change in ELO:</b> +nan<br>",
          "<br><b>Pre-Game ELO: </b>nan<br><b>Win Probability: </b>nan%<br><br><b>Change in ELO:</b> +nan<br>",
          "<br><b>Pre-Game ELO: </b>1238<br><b>Win Probability: </b>58.6%<br><br><b>Change in ELO:</b> -18<br>",
          "<br><b>Pre-Game ELO: </b>nan<br><b>Win Probability: </b>nan%<br><br><b>Change in ELO:</b> +nan<br>",
          "<br><b>Pre-Game ELO: </b>nan<br><b>Win Probability: </b>nan%<br><br><b>Change in ELO:</b> +nan<br>",
          "<br><b>Pre-Game ELO: </b>nan<br><b>Win Probability: </b>nan%<br><br><b>Change in ELO:</b> +nan<br>",
          "<br><b>Pre-Game ELO: </b>1220<br><b>Win Probability: </b>42.5%<br><br><b>Change in ELO:</b> +18<br>",
          "<br><b>Pre-Game ELO: </b>1238<br><b>Win Probability: </b>76.4%<br><br><b>Change in ELO:</b> -24<br>",
          "<br><b>Pre-Game ELO: </b>nan<br><b>Win Probability: </b>nan%<br><br><b>Change in ELO:</b> +nan<br>",
          "<br><b>Pre-Game ELO: </b>1214<br><b>Win Probability: </b>53.6%<br><br><b>Change in ELO:</b> +14<br>",
          "<br><b>Pre-Game ELO: </b>nan<br><b>Win Probability: </b>nan%<br><br><b>Change in ELO:</b> +nan<br>",
          "<br><b>Pre-Game ELO: </b>nan<br><b>Win Probability: </b>nan%<br><br><b>Change in ELO:</b> +nan<br>",
          "<br><b>Pre-Game ELO: </b>1228<br><b>Win Probability: </b>57.5%<br><br><b>Change in ELO:</b> -18<br>",
          "<br><b>Pre-Game ELO: </b>nan<br><b>Win Probability: </b>nan%<br><br><b>Change in ELO:</b> +nan<br>",
          "<br><b>Pre-Game ELO: </b>nan<br><b>Win Probability: </b>nan%<br><br><b>Change in ELO:</b> +nan<br>",
          "<br><b>Pre-Game ELO: </b>nan<br><b>Win Probability: </b>nan%<br><br><b>Change in ELO:</b> +nan<br>",
          "<br><b>Pre-Game ELO: </b>1211<br><b>Win Probability: </b>43.5%<br><br><b>Change in ELO:</b> -13<br>",
          "<br><b>Pre-Game ELO: </b>1197<br><b>Win Probability: </b>61.2%<br><br><b>Change in ELO:</b> -19<br>",
          "<br><b>Pre-Game ELO: </b>nan<br><b>Win Probability: </b>nan%<br><br><b>Change in ELO:</b> +nan<br>",
          "<br><b>Pre-Game ELO: </b>nan<br><b>Win Probability: </b>nan%<br><br><b>Change in ELO:</b> +nan<br>",
          "<br><b>Pre-Game ELO: </b>nan<br><b>Win Probability: </b>nan%<br><br><b>Change in ELO:</b> +nan<br>",
          "<br><b>Pre-Game ELO: </b>nan<br><b>Win Probability: </b>nan%<br><br><b>Change in ELO:</b> +nan<br>",
          "<br><b>Pre-Game ELO: </b>1178<br><b>Win Probability: </b>49.7%<br><br><b>Change in ELO:</b> -15<br>",
          "<br><b>Pre-Game ELO: </b>1163<br><b>Win Probability: </b>50.4%<br><br><b>Change in ELO:</b> +15<br>",
          "<br><b>Pre-Game ELO: </b>nan<br><b>Win Probability: </b>nan%<br><br><b>Change in ELO:</b> +nan<br>",
          "<br><b>Pre-Game ELO: </b>1178<br><b>Win Probability: </b>31.4%<br><br><b>Change in ELO:</b> -10<br>",
          "<br><b>Pre-Game ELO: </b>nan<br><b>Win Probability: </b>nan%<br><br><b>Change in ELO:</b> +nan<br>",
          "<br><b>Pre-Game ELO: </b>nan<br><b>Win Probability: </b>nan%<br><br><b>Change in ELO:</b> +nan<br>",
          "<br><b>Pre-Game ELO: </b>1168<br><b>Win Probability: </b>33.2%<br><br><b>Change in ELO:</b> -10<br>",
          "<br><b>Pre-Game ELO: </b>nan<br><b>Win Probability: </b>nan%<br><br><b>Change in ELO:</b> +nan<br>",
          "<br><b>Pre-Game ELO: </b>nan<br><b>Win Probability: </b>nan%<br><br><b>Change in ELO:</b> +nan<br>",
          "<br><b>Pre-Game ELO: </b>nan<br><b>Win Probability: </b>nan%<br><br><b>Change in ELO:</b> +nan<br>",
          "<br><b>Pre-Game ELO: </b>1158<br><b>Win Probability: </b>35.6%<br><br><b>Change in ELO:</b> -11<br>",
          "<br><b>Pre-Game ELO: </b>1147<br><b>Win Probability: </b>57.1%<br><br><b>Change in ELO:</b> +13<br>",
          "<br><b>Pre-Game ELO: </b>nan<br><b>Win Probability: </b>nan%<br><br><b>Change in ELO:</b> +nan<br>",
          "<br><b>Pre-Game ELO: </b>1160<br><b>Win Probability: </b>31.2%<br><br><b>Change in ELO:</b> +21<br>",
          "<br><b>Pre-Game ELO: </b>nan<br><b>Win Probability: </b>nan%<br><br><b>Change in ELO:</b> +nan<br>",
          "<br><b>Pre-Game ELO: </b>nan<br><b>Win Probability: </b>nan%<br><br><b>Change in ELO:</b> +nan<br>",
          "<br><b>Pre-Game ELO: </b>1182<br><b>Win Probability: </b>26.1%<br><br><b>Change in ELO:</b> -8<br>",
          "<br><b>Pre-Game ELO: </b>nan<br><b>Win Probability: </b>nan%<br><br><b>Change in ELO:</b> +nan<br>",
          "<br><b>Pre-Game ELO: </b>nan<br><b>Win Probability: </b>nan%<br><br><b>Change in ELO:</b> +nan<br>",
          "<br><b>Pre-Game ELO: </b>nan<br><b>Win Probability: </b>nan%<br><br><b>Change in ELO:</b> +nan<br>",
          "<br><b>Pre-Game ELO: </b>nan<br><b>Win Probability: </b>nan%<br><br><b>Change in ELO:</b> +nan<br>",
          "<br><b>Pre-Game ELO: </b>nan<br><b>Win Probability: </b>nan%<br><br><b>Change in ELO:</b> +nan<br>",
          "<br><b>Pre-Game ELO: </b>nan<br><b>Win Probability: </b>nan%<br><br><b>Change in ELO:</b> +nan<br>",
          "<br><b>Pre-Game ELO: </b>1174<br><b>Win Probability: </b>19.8%<br><br><b>Change in ELO:</b> -6<br>",
          "<br><b>Pre-Game ELO: </b>nan<br><b>Win Probability: </b>nan%<br><br><b>Change in ELO:</b> +nan<br>",
          "<br><b>Pre-Game ELO: </b>1167<br><b>Win Probability: </b>35.3%<br><br><b>Change in ELO:</b> -11<br>",
          "<br><b>Pre-Game ELO: </b>1157<br><b>Win Probability: </b>30.1%<br><br><b>Change in ELO:</b> -9<br>",
          "<br><b>Pre-Game ELO: </b>nan<br><b>Win Probability: </b>nan%<br><br><b>Change in ELO:</b> +nan<br>",
          "<br><b>Pre-Game ELO: </b>nan<br><b>Win Probability: </b>nan%<br><br><b>Change in ELO:</b> +nan<br>",
          "<br><b>Pre-Game ELO: </b>1147<br><b>Win Probability: </b>16.4%<br><br><b>Change in ELO:</b> -5<br>",
          "<br><b>Pre-Game ELO: </b>nan<br><b>Win Probability: </b>nan%<br><br><b>Change in ELO:</b> +nan<br>",
          "<br><b>Pre-Game ELO: </b>1142<br><b>Win Probability: </b>25.6%<br><br><b>Change in ELO:</b> -8<br>",
          "<br><b>Pre-Game ELO: </b>1134<br><b>Win Probability: </b>28.9%<br><br><b>Change in ELO:</b> -9<br>",
          "<br><b>Pre-Game ELO: </b>nan<br><b>Win Probability: </b>nan%<br><br><b>Change in ELO:</b> +nan<br>",
          "<br><b>Pre-Game ELO: </b>nan<br><b>Win Probability: </b>nan%<br><br><b>Change in ELO:</b> +nan<br>",
          "<br><b>Pre-Game ELO: </b>nan<br><b>Win Probability: </b>nan%<br><br><b>Change in ELO:</b> +nan<br>",
          "<br><b>Pre-Game ELO: </b>nan<br><b>Win Probability: </b>nan%<br><br><b>Change in ELO:</b> +nan<br>",
          "<br><b>Pre-Game ELO: </b>nan<br><b>Win Probability: </b>nan%<br><br><b>Change in ELO:</b> +nan<br>",
          "<br><b>Pre-Game ELO: </b>1125<br><b>Win Probability: </b>12.8%<br><br><b>Change in ELO:</b> -4<br>",
          "<br><b>Pre-Game ELO: </b>1121<br><b>Win Probability: </b>11.9%<br><br><b>Change in ELO:</b> -4<br>",
          "<br><b>Pre-Game ELO: </b>nan<br><b>Win Probability: </b>nan%<br><br><b>Change in ELO:</b> +nan<br>",
          "<br><b>Pre-Game ELO: </b>nan<br><b>Win Probability: </b>nan%<br><br><b>Change in ELO:</b> +nan<br>",
          "<br><b>Pre-Game ELO: </b>1118<br><b>Win Probability: </b>28.5%<br><br><b>Change in ELO:</b> +22<br>",
          "<br><b>Pre-Game ELO: </b>1140<br><b>Win Probability: </b>39.3%<br><br><b>Change in ELO:</b> -12<br>",
          "<br><b>Pre-Game ELO: </b>1128<br><b>Win Probability: </b>33.1%<br><br><b>Change in ELO:</b> +21<br>",
          "<br><b>Pre-Game ELO: </b>1148<br><b>Win Probability: </b>14.0%<br><br><b>Change in ELO:</b> +27<br>",
          "<br><b>Pre-Game ELO: </b>1175<br><b>Win Probability: </b>22.6%<br><br><b>Change in ELO:</b> -7<br>",
          "<br><b>Pre-Game ELO: </b>1168<br><b>Win Probability: </b>20.1%<br><br><b>Change in ELO:</b> -6<br>",
          "<br><b>Pre-Game ELO: </b>nan<br><b>Win Probability: </b>nan%<br><br><b>Change in ELO:</b> +nan<br>",
          "<br><b>Pre-Game ELO: </b>nan<br><b>Win Probability: </b>nan%<br><br><b>Change in ELO:</b> +nan<br>",
          "<br><b>Pre-Game ELO: </b>nan<br><b>Win Probability: </b>nan%<br><br><b>Change in ELO:</b> +nan<br>",
          "<br><b>Pre-Game ELO: </b>nan<br><b>Win Probability: </b>nan%<br><br><b>Change in ELO:</b> +nan<br>",
          "<br><b>Pre-Game ELO: </b>nan<br><b>Win Probability: </b>nan%<br><br><b>Change in ELO:</b> +nan<br>",
          "<br><b>Pre-Game ELO: </b>1162<br><b>Win Probability: </b>39.6%<br><br><b>Change in ELO:</b> +19<br>",
          "<br><b>Pre-Game ELO: </b>nan<br><b>Win Probability: </b>nan%<br><br><b>Change in ELO:</b> +nan<br>",
          "<br><b>Pre-Game ELO: </b>nan<br><b>Win Probability: </b>nan%<br><br><b>Change in ELO:</b> +nan<br>",
          "<br><b>Pre-Game ELO: </b>nan<br><b>Win Probability: </b>nan%<br><br><b>Change in ELO:</b> +nan<br>",
          "<br><b>Pre-Game ELO: </b>1180<br><b>Win Probability: </b>54.3%<br><br><b>Change in ELO:</b> -17<br>",
          "<br><b>Pre-Game ELO: </b>1164<br><b>Win Probability: </b>16.5%<br><br><b>Change in ELO:</b> +26<br>",
          "<br><b>Pre-Game ELO: </b>nan<br><b>Win Probability: </b>nan%<br><br><b>Change in ELO:</b> +nan<br>",
          "<br><b>Pre-Game ELO: </b>1189<br><b>Win Probability: </b>36.5%<br><br><b>Change in ELO:</b> -11<br>",
          "<br><b>Pre-Game ELO: </b>nan<br><b>Win Probability: </b>nan%<br><br><b>Change in ELO:</b> +nan<br>",
          "<br><b>Pre-Game ELO: </b>nan<br><b>Win Probability: </b>nan%<br><br><b>Change in ELO:</b> +nan<br>",
          "<br><b>Pre-Game ELO: </b>1178<br><b>Win Probability: </b>41.1%<br><br><b>Change in ELO:</b> -13<br>",
          "<br><b>Pre-Game ELO: </b>nan<br><b>Win Probability: </b>nan%<br><br><b>Change in ELO:</b> +nan<br>",
          "<br><b>Pre-Game ELO: </b>nan<br><b>Win Probability: </b>nan%<br><br><b>Change in ELO:</b> +nan<br>",
          "<br><b>Pre-Game ELO: </b>nan<br><b>Win Probability: </b>nan%<br><br><b>Change in ELO:</b> +nan<br>",
          "<br><b>Pre-Game ELO: </b>1165<br><b>Win Probability: </b>44.6%<br><br><b>Change in ELO:</b> +17<br>",
          "<br><b>Pre-Game ELO: </b>1183<br><b>Win Probability: </b>25.0%<br><br><b>Change in ELO:</b> -8<br>",
          "<br><b>Pre-Game ELO: </b>nan<br><b>Win Probability: </b>nan%<br><br><b>Change in ELO:</b> +nan<br>",
          "<br><b>Pre-Game ELO: </b>1175<br><b>Win Probability: </b>27.9%<br><br><b>Change in ELO:</b> +22<br>",
          "<br><b>Pre-Game ELO: </b>nan<br><b>Win Probability: </b>nan%<br><br><b>Change in ELO:</b> +nan<br>"
         ],
         "type": "scatter",
         "x": [
          1,
          2,
          3,
          4,
          5,
          6,
          7,
          8,
          9,
          10,
          11,
          12,
          13,
          14,
          15,
          16,
          17,
          18,
          19,
          20,
          21,
          22,
          23,
          24,
          25,
          26,
          27,
          28,
          29,
          30,
          31,
          32,
          33,
          34,
          35,
          36,
          37,
          38,
          39,
          40,
          41,
          42,
          43,
          44,
          45,
          46,
          47,
          48,
          49,
          50,
          51,
          52,
          53,
          54,
          55,
          56,
          57,
          58,
          59,
          60,
          61,
          62,
          63,
          64,
          65,
          66,
          67,
          68,
          69,
          70,
          71,
          72,
          73,
          74,
          75,
          76,
          77,
          78,
          79,
          80,
          81,
          82,
          83,
          84,
          85,
          86,
          87,
          88,
          89,
          90,
          91,
          92,
          93,
          94,
          95,
          96,
          97,
          98,
          99,
          100,
          101,
          102,
          103,
          104,
          105,
          106,
          107,
          108,
          109,
          110
         ],
         "y": [
          null,
          1215.5,
          1228.3858031753039,
          null,
          null,
          1243.8858031753039,
          null,
          1252.4425519507959,
          1230.6339035261685,
          null,
          null,
          1246.5393900411782,
          1228.7533011841335,
          1244.978588378909,
          1258.4531325066034,
          1238.1405507759134,
          null,
          null,
          1219.9637974037742,
          null,
          null,
          null,
          1237.7747520460584,
          1214.0950077302032,
          null,
          1228.4670993707348,
          null,
          null,
          1210.6449987408969,
          null,
          null,
          null,
          1197.1714293871794,
          1178.2035732164316,
          null,
          null,
          null,
          null,
          1162.7988031877433,
          1178.1637340693517,
          null,
          1168.4188110544196,
          null,
          null,
          1158.1309518649728,
          null,
          null,
          null,
          1147.0819547137278,
          1160.3708818362143,
          null,
          1181.6985776491017,
          null,
          null,
          1173.6228446833834,
          null,
          null,
          null,
          null,
          null,
          null,
          1167.476299433647,
          null,
          1156.5243493678283,
          1147.1971675897348,
          null,
          null,
          1142.1019615952873,
          null,
          1134.1771097549715,
          1125.2030652208307,
          null,
          null,
          null,
          null,
          null,
          1121.224899958969,
          1117.5401215852737,
          null,
          null,
          1139.7155228587826,
          1127.5286620115808,
          1148.256017276127,
          1174.9122027967903,
          1167.8928281325432,
          1161.6754954117714,
          null,
          null,
          null,
          null,
          null,
          1180.3911731436476,
          null,
          null,
          null,
          1163.5672685305533,
          1189.4674176821645,
          null,
          1178.1438336808446,
          null,
          null,
          1165.3879517464713,
          null,
          null,
          null,
          1182.5634571064782,
          1174.803693761351,
          null,
          1197.1641931083063,
          null
         ]
        },
        {
         "connectgaps": true,
         "customdata": [
          [
           "Evan Sooklal",
           "Will Simpson",
           2,
           6,
           "2023-11-18",
           "[Gen 9] OU",
           "1"
          ],
          [
           "Paul Bartenfeld",
           "Roman Ramirez",
           2,
           6,
           "2023-11-18",
           "[Gen 9] OU",
           "2"
          ],
          [
           "Roman Ramirez",
           "Evan Sooklal",
           6,
           3,
           "2023-11-18",
           "[Gen 9] OU",
           "3"
          ],
          [
           "Will Simpson",
           "Paul Bartenfeld",
           6,
           1,
           "2023-11-18",
           "[Gen 9] OU",
           "4"
          ],
          [
           "Paul Bartenfeld",
           "Evan Sooklal",
           1,
           6,
           "2023-11-18",
           "[Gen 9] OU",
           "5"
          ],
          [
           "Will Simpson",
           "Roman Ramirez",
           3,
           6,
           "2023-11-18",
           "[Gen 9] OU",
           "6"
          ],
          [
           "Will Simpson",
           "Evan Sooklal",
           6,
           2,
           "2023-11-18",
           "[Gen 9] OU",
           "7"
          ],
          [
           "Roman Ramirez",
           "Paul Bartenfeld",
           6,
           4,
           "2023-11-18",
           "[Gen 9] OU",
           "8"
          ],
          [
           "Evan Sooklal",
           "Roman Ramirez",
           6,
           5,
           "2023-11-18",
           "[Gen 9] OU",
           "9"
          ],
          [
           "Paul Bartenfeld",
           "Will Simpson",
           4,
           6,
           "2023-11-18",
           "[Gen 9] OU",
           "10"
          ],
          [
           "Evan Sooklal",
           "Paul Bartenfeld",
           6,
           5,
           "2023-11-18",
           "[Gen 9] OU",
           "11"
          ],
          [
           "Roman Ramirez",
           "Will Simpson",
           6,
           2,
           "2023-11-18",
           "[Gen 9] OU",
           "12"
          ],
          [
           "Roman Ramirez",
           "Will Simpson",
           2,
           6,
           "2023-11-18",
           "[Gen 9] OU",
           "1"
          ],
          [
           "Will Simpson",
           "Roman Ramirez",
           4,
           6,
           "2023-11-18",
           "[Gen 9] OU",
           "2"
          ],
          [
           "Roman Ramirez",
           "Will Simpson",
           6,
           4,
           "2023-11-18",
           "[Gen 9] OU",
           "3"
          ],
          [
           "Roman Ramirez",
           "Aaron Carter",
           4,
           6,
           "2023-12-02",
           "[Gen 9] OU",
           "1"
          ],
          [
           "Will Simpson",
           "Paul Bartenfeld",
           6,
           4,
           "2023-12-02",
           "[Gen 9] OU",
           "2"
          ],
          [
           "Aaron Carter",
           "Will Simpson",
           4,
           6,
           "2023-12-02",
           "[Gen 9] OU",
           "3"
          ],
          [
           "Evan Sooklal",
           "Roman Ramirez",
           6,
           2,
           "2023-12-02",
           "[Gen 9] OU",
           "4"
          ],
          [
           "Will Simpson",
           "Evan Sooklal",
           6,
           2,
           "2023-12-02",
           "[Gen 9] OU",
           "5"
          ],
          [
           "Paul Bartenfeld",
           "Aaron Carter",
           6,
           3,
           "2023-12-02",
           "[Gen 9] OU",
           "6"
          ],
          [
           "Evan Sooklal",
           "Paul Bartenfeld",
           6,
           4,
           "2023-12-02",
           "[Gen 9] OU",
           "7"
          ],
          [
           "Roman Ramirez",
           "Will Simpson",
           6,
           4,
           "2023-12-02",
           "[Gen 9] OU",
           "8"
          ],
          [
           "Paul Bartenfeld",
           "Roman Ramirez",
           6,
           3,
           "2023-12-02",
           "[Gen 9] OU",
           "9"
          ],
          [
           "Aaron Carter",
           "Evan Sooklal",
           6,
           3,
           "2023-12-02",
           "[Gen 9] OU",
           "10"
          ],
          [
           "Aaron Carter",
           "Roman Ramirez",
           0,
           6,
           "2023-12-02",
           "[Gen 9] OU",
           "11"
          ],
          [
           "Paul Bartenfeld",
           "Will Simpson",
           1,
           6,
           "2023-12-02",
           "[Gen 9] OU",
           "12"
          ],
          [
           "Will Simpson",
           "Aaron Carter",
           3,
           6,
           "2023-12-02",
           "[Gen 9] OU",
           "13"
          ],
          [
           "Roman Ramirez",
           "Evan Sooklal",
           2,
           6,
           "2023-12-02",
           "[Gen 9] OU",
           "14"
          ],
          [
           "Evan Sooklal",
           "Will Simpson",
           5,
           6,
           "2023-12-02",
           "[Gen 9] OU",
           "15"
          ],
          [
           "Aaron Carter",
           "Paul Bartenfeld",
           6,
           3,
           "2023-12-02",
           "[Gen 9] OU",
           "16"
          ],
          [
           "Paul Bartenfeld",
           "Evan Sooklal",
           6,
           5,
           "2023-12-02",
           "[Gen 9] OU",
           "17"
          ],
          [
           "Will Simpson",
           "Roman Ramirez",
           6,
           5,
           "2023-12-02",
           "[Gen 9] OU",
           "18"
          ],
          [
           "Roman Ramirez",
           "Paul Bartenfeld",
           4,
           6,
           "2023-12-02",
           "[Gen 9] OU",
           "19"
          ],
          [
           "Evan Sooklal",
           "Aaron Carter",
           6,
           4,
           "2023-12-02",
           "[Gen 9] OU",
           "20"
          ],
          [
           "Will Simpson",
           "Evan Sooklal",
           6,
           2,
           "2023-12-02",
           "[Gen 9] OU",
           "1"
          ],
          [
           "Will Simpson",
           "Evan Sooklal",
           6,
           1,
           "2023-12-02",
           "[Gen 9] OU",
           "2"
          ],
          [
           "Aaron Carter",
           "Paul Bartenfeld",
           6,
           3,
           "2023-12-13",
           "[Gen 9] OU",
           "1"
          ],
          [
           "Roman Ramirez",
           "Evan Sooklal",
           5,
           6,
           "2023-12-13",
           "[Gen 9] OU",
           "2"
          ],
          [
           "Paul Bartenfeld",
           "Roman Ramirez",
           2,
           6,
           "2023-12-13",
           "[Gen 9] OU",
           "3"
          ],
          [
           "Will Simpson",
           "Aaron Carter",
           0,
           6,
           "2023-12-13",
           "[Gen 9] OU",
           "4"
          ],
          [
           "Roman Ramirez",
           "Will Simpson",
           4,
           6,
           "2023-12-13",
           "[Gen 9] OU",
           "5"
          ],
          [
           "Evan Sooklal",
           "Paul Bartenfeld",
           6,
           5,
           "2023-12-13",
           "[Gen 9] OU",
           "6"
          ],
          [
           "Will Simpson",
           "Evan Sooklal",
           4,
           6,
           "2023-12-13",
           "[Gen 9] OU",
           "7"
          ],
          [
           "Aaron Carter",
           "Roman Ramirez",
           6,
           3,
           "2023-12-13",
           "[Gen 9] OU",
           "8"
          ],
          [
           "Evan Sooklal",
           "Aaron Carter",
           5,
           6,
           "2023-12-13",
           "[Gen 9] OU",
           "9"
          ],
          [
           "Paul Bartenfeld",
           "Will Simpson",
           2,
           6,
           "2023-12-13",
           "[Gen 9] OU",
           "10"
          ],
          [
           "Paul Bartenfeld",
           "Aaron Carter",
           3,
           6,
           "2023-12-13",
           "[Gen 9] OU",
           "11"
          ],
          [
           "Evan Sooklal",
           "Roman Ramirez",
           6,
           4,
           "2023-12-13",
           "[Gen 9] OU",
           "12"
          ],
          [
           "Roman Ramirez",
           "Paul Bartenfeld",
           6,
           1,
           "2023-12-13",
           "[Gen 9] OU",
           "13"
          ],
          [
           "Aaron Carter",
           "Will Simpson",
           6,
           5,
           "2023-12-13",
           "[Gen 9] OU",
           "14"
          ],
          [
           "Will Simpson",
           "Roman Ramirez",
           3,
           6,
           "2023-12-13",
           "[Gen 9] OU",
           "15"
          ],
          [
           "Paul Bartenfeld",
           "Evan Sooklal",
           3,
           6,
           "2023-12-13",
           "[Gen 9] OU",
           "16"
          ],
          [
           "Evan Sooklal",
           "Will Simpson",
           6,
           3,
           "2023-12-13",
           "[Gen 9] OU",
           "17"
          ],
          [
           "Roman Ramirez",
           "Aaron Carter",
           5,
           6,
           "2023-12-13",
           "[Gen 9] OU",
           "18"
          ],
          [
           "Aaron Carter",
           "Evan Sooklal",
           6,
           2,
           "2023-12-13",
           "[Gen 9] OU",
           "19"
          ],
          [
           "Will Simpson",
           "Paul Bartenfeld",
           6,
           4,
           "2023-12-13",
           "[Gen 9] OU",
           "20"
          ],
          [
           "Aaron Carter",
           "Evan Sooklal",
           5,
           6,
           "2023-12-13",
           "[Gen 9] OU",
           "1"
          ],
          [
           "Evan Sooklal",
           "Aaron Carter",
           2,
           6,
           "2023-12-13",
           "[Gen 9] OU",
           "2"
          ],
          [
           "Aaron Carter",
           "Evan Sooklal",
           6,
           2,
           "2023-12-13",
           "[Gen 9] OU",
           "3"
          ],
          [
           "Evan Sooklal",
           "Will Simpson",
           0,
           4,
           "2024-01-28",
           "[Gen 9] VGC 2024 Reg F",
           "1"
          ],
          [
           "Roman Ramirez",
           "Aaron Carter",
           2,
           4,
           "2024-01-28",
           "[Gen 9] VGC 2024 Reg F",
           "2"
          ],
          [
           "Aaron Carter",
           "Evan Sooklal",
           3,
           4,
           "2024-01-28",
           "[Gen 9] VGC 2024 Reg F",
           "3"
          ],
          [
           "Will Simpson",
           "Roman Ramirez",
           4,
           2,
           "2024-01-28",
           "[Gen 9] VGC 2024 Reg F",
           "4"
          ],
          [
           "Roman Ramirez",
           "Evan Sooklal",
           0,
           4,
           "2024-01-28",
           "[Gen 9] VGC 2024 Reg F",
           "5"
          ],
          [
           "Will Simpson",
           "Aaron Carter",
           1,
           4,
           "2024-01-28",
           "[Gen 9] VGC 2024 Reg F",
           "6"
          ],
          [
           "Will Simpson",
           "Evan Sooklal",
           4,
           2,
           "2024-01-28",
           "[Gen 9] VGC 2024 Reg F",
           "7"
          ],
          [
           "Aaron Carter",
           "Roman Ramirez",
           4,
           0,
           "2024-01-28",
           "[Gen 9] VGC 2024 Reg F",
           "8"
          ],
          [
           "Evan Sooklal",
           "Aaron Carter",
           3,
           4,
           "2024-01-28",
           "[Gen 9] VGC 2024 Reg F",
           "9"
          ],
          [
           "Roman Ramirez",
           "Will Simpson",
           1,
           4,
           "2024-01-28",
           "[Gen 9] VGC 2024 Reg F",
           "10"
          ],
          [
           "Evan Sooklal",
           "Roman Ramirez",
           4,
           3,
           "2024-01-28",
           "[Gen 9] VGC 2024 Reg F",
           "11"
          ],
          [
           "Aaron Carter",
           "Will Simpson",
           2,
           4,
           "2024-01-28",
           "[Gen 9] VGC 2024 Reg F",
           "12"
          ],
          [
           "Will Simpson",
           "Aaron Carter",
           4,
           0,
           "2024-01-28",
           "[Gen 9] VGC 2024 Reg F",
           "1"
          ],
          [
           "Will Simpson",
           "Aaron Carter",
           4,
           3,
           "2024-01-28",
           "[Gen 9] VGC 2024 Reg F",
           "2"
          ],
          [
           "Aaron Carter",
           "Evan Sooklal",
           4,
           2,
           "2024-02-09",
           "[Gen 9] VGC 2024 Reg F",
           "1a"
          ],
          [
           "Aaron Carter",
           "Evan Sooklal",
           4,
           3,
           "2024-02-09",
           "[Gen 9] VGC 2024 Reg F",
           "1b"
          ],
          [
           "Roman Ramirez",
           "Will Simpson",
           3,
           4,
           "2024-02-09",
           "[Gen 9] VGC 2024 Reg F",
           "2a"
          ],
          [
           "Roman Ramirez",
           "Will Simpson",
           2,
           4,
           "2024-02-09",
           "[Gen 9] VGC 2024 Reg F",
           "2b"
          ],
          [
           "Will Simpson",
           "Aaron Carter",
           2,
           4,
           "2024-02-09",
           "[Gen 9] VGC 2024 Reg F",
           "3a"
          ],
          [
           "Will Simpson",
           "Aaron Carter",
           0,
           4,
           "2024-02-09",
           "[Gen 9] VGC 2024 Reg F",
           "3b"
          ],
          [
           "Evan Sooklal",
           "Roman Ramirez",
           1,
           4,
           "2024-02-09",
           "[Gen 9] VGC 2024 Reg F",
           "4a"
          ],
          [
           "Evan Sooklal",
           "Roman Ramirez",
           4,
           2,
           "2024-02-09",
           "[Gen 9] VGC 2024 Reg F",
           "4b"
          ],
          [
           "Evan Sooklal",
           "Roman Ramirez",
           2,
           4,
           "2024-02-09",
           "[Gen 9] VGC 2024 Reg F",
           "4c"
          ],
          [
           "Roman Ramirez",
           "Aaron Carter",
           4,
           3,
           "2024-02-09",
           "[Gen 9] VGC 2024 Reg F",
           "5a"
          ],
          [
           "Roman Ramirez",
           "Aaron Carter",
           0,
           4,
           "2024-02-09",
           "[Gen 9] VGC 2024 Reg F",
           "5b"
          ],
          [
           "Roman Ramirez",
           "Aaron Carter",
           3,
           4,
           "2024-02-09",
           "[Gen 9] VGC 2024 Reg F",
           "5c"
          ],
          [
           "Evan Sooklal",
           "Will Simpson",
           1,
           4,
           "2024-02-09",
           "[Gen 9] VGC 2024 Reg F",
           "6a"
          ],
          [
           "Evan Sooklal",
           "Will Simpson",
           0,
           4,
           "2024-02-09",
           "[Gen 9] VGC 2024 Reg F",
           "6b"
          ],
          [
           "Aaron Carter",
           "Will Simpson",
           4,
           1,
           "2024-02-09",
           "[Gen 9] VGC 2024 Reg F",
           "1a"
          ],
          [
           "Aaron Carter",
           "Will Simpson",
           4,
           2,
           "2024-02-09",
           "[Gen 9] VGC 2024 Reg F",
           "1b"
          ],
          [
           "Will Simpson",
           "Evan Sooklal",
           0,
           6,
           "2024-02-18",
           "[Gen 9] Doubles UU",
           "1"
          ],
          [
           "Jack Massingill",
           "Roman Ramirez",
           0,
           6,
           "2024-02-18",
           "[Gen 9] Doubles UU",
           "2"
          ],
          [
           "Evan Sooklal",
           "Jack Massingill",
           0,
           6,
           "2024-02-18",
           "[Gen 9] Doubles UU",
           "3"
          ],
          [
           "Aaron Carter",
           "Will Simpson",
           0,
           6,
           "2024-02-18",
           "[Gen 9] Doubles UU",
           "4"
          ],
          [
           "Jack Massingill",
           "Aaron Carter",
           0,
           6,
           "2024-02-18",
           "[Gen 9] Doubles UU",
           "5"
          ],
          [
           "Roman Ramirez",
           "Evan Sooklal",
           0,
           6,
           "2024-02-18",
           "[Gen 9] Doubles UU",
           "6"
          ],
          [
           "Aaron Carter",
           "Roman Ramirez",
           0,
           6,
           "2024-02-18",
           "[Gen 9] Doubles UU",
           "7"
          ],
          [
           "Will Simpson",
           "Jack Massingill",
           0,
           6,
           "2024-02-18",
           "[Gen 9] Doubles UU",
           "8"
          ],
          [
           "Roman Ramirez",
           "Will Simpson",
           0,
           6,
           "2024-02-18",
           "[Gen 9] Doubles UU",
           "9"
          ],
          [
           "Evan Sooklal",
           "Aaron Carter",
           0,
           6,
           "2024-02-18",
           "[Gen 9] Doubles UU",
           "10"
          ],
          [
           "Evan Sooklal",
           "Will Simpson",
           0,
           6,
           "2024-02-18",
           "[Gen 9] Doubles UU",
           "11"
          ],
          [
           "Roman Ramirez",
           "Jack Massingill",
           0,
           6,
           "2024-02-18",
           "[Gen 9] Doubles UU",
           "12"
          ],
          [
           "Jack Massingill",
           "Evan Sooklal",
           0,
           6,
           "2024-02-18",
           "[Gen 9] Doubles UU",
           "13"
          ],
          [
           "Will Simpson",
           "Aaron Carter",
           0,
           6,
           "2024-02-18",
           "[Gen 9] Doubles UU",
           "14"
          ],
          [
           "Aaron Carter",
           "Jack Massingill",
           0,
           6,
           "2024-02-18",
           "[Gen 9] Doubles UU",
           "15"
          ],
          [
           "Evan Sooklal",
           "Roman Ramirez",
           0,
           6,
           "2024-02-18",
           "[Gen 9] Doubles UU",
           "16"
          ],
          [
           "Roman Ramirez",
           "Aaron Carter",
           0,
           6,
           "2024-02-18",
           "[Gen 9] Doubles UU",
           "17"
          ],
          [
           "Jack Massingill",
           "Will Simpson",
           0,
           6,
           "2024-02-18",
           "[Gen 9] Doubles UU",
           "18"
          ],
          [
           "Will Simpson",
           "Roman Ramirez",
           0,
           6,
           "2024-02-18",
           "[Gen 9] Doubles UU",
           "19"
          ],
          [
           "Aaron Carter",
           "Evan Sooklal",
           0,
           6,
           "2024-02-18",
           "[Gen 9] Doubles UU",
           "20"
          ]
         ],
         "hovertemplate": "<i>%{customdata[4]|%A, %B %d, %Y}, Game %{x}</i><br><b>%{fullData.name}</b><br><br><b>Format:</b> %{customdata[5]}<br><b>Tournament Match:</b> %{customdata[6]}<br><br><b>%{customdata[0]} vs. %{customdata[1]}</b><br><b>Final Score:</b> %{customdata[2]}-%{customdata[3]}<br>%{text}<b>Post-Game ELO:</b> %{y:,.0f}<br><extra></extra>",
         "legendgrouptitle": {
          "text": "<b>#<i>Rank</i> (<i>Current ELO</i>) <i>Player</i></b>"
         },
         "line": {
          "color": "rgb(231, 63, 116)",
          "shape": "hv"
         },
         "mode": "lines+markers",
         "name": "#5 (1193) Evan Sooklal",
         "opacity": 0.8,
         "text": [
          "<br><b>Pre-Game ELO: </b>1200<br><b>Win Probability: </b>50.0%<br><br><b>Change in ELO:</b> -16<br>",
          "<br><b>Pre-Game ELO: </b>nan<br><b>Win Probability: </b>nan%<br><br><b>Change in ELO:</b> +nan<br>",
          "<br><b>Pre-Game ELO: </b>1184<br><b>Win Probability: </b>41.6%<br><br><b>Change in ELO:</b> -13<br>",
          "<br><b>Pre-Game ELO: </b>nan<br><b>Win Probability: </b>nan%<br><br><b>Change in ELO:</b> +nan<br>",
          "<br><b>Pre-Game ELO: </b>1172<br><b>Win Probability: </b>50.0%<br><br><b>Change in ELO:</b> +16<br>",
          "<br><b>Pre-Game ELO: </b>nan<br><b>Win Probability: </b>nan%<br><br><b>Change in ELO:</b> +nan<br>",
          "<br><b>Pre-Game ELO: </b>1187<br><b>Win Probability: </b>43.0%<br><br><b>Change in ELO:</b> -13<br>",
          "<br><b>Pre-Game ELO: </b>nan<br><b>Win Probability: </b>nan%<br><br><b>Change in ELO:</b> +nan<br>",
          "<br><b>Pre-Game ELO: </b>1174<br><b>Win Probability: </b>29.6%<br><br><b>Change in ELO:</b> +22<br>",
          "<br><b>Pre-Game ELO: </b>nan<br><b>Win Probability: </b>nan%<br><br><b>Change in ELO:</b> +nan<br>",
          "<br><b>Pre-Game ELO: </b>1196<br><b>Win Probability: </b>65.2%<br><br><b>Change in ELO:</b> +11<br>",
          "<br><b>Pre-Game ELO: </b>nan<br><b>Win Probability: </b>nan%<br><br><b>Change in ELO:</b> +nan<br>",
          "<br><b>Pre-Game ELO: </b>nan<br><b>Win Probability: </b>nan%<br><br><b>Change in ELO:</b> +nan<br>",
          "<br><b>Pre-Game ELO: </b>nan<br><b>Win Probability: </b>nan%<br><br><b>Change in ELO:</b> +nan<br>",
          "<br><b>Pre-Game ELO: </b>nan<br><b>Win Probability: </b>nan%<br><br><b>Change in ELO:</b> +nan<br>",
          "<br><b>Pre-Game ELO: </b>nan<br><b>Win Probability: </b>nan%<br><br><b>Change in ELO:</b> +nan<br>",
          "<br><b>Pre-Game ELO: </b>nan<br><b>Win Probability: </b>nan%<br><br><b>Change in ELO:</b> +nan<br>",
          "<br><b>Pre-Game ELO: </b>nan<br><b>Win Probability: </b>nan%<br><br><b>Change in ELO:</b> +nan<br>",
          "<br><b>Pre-Game ELO: </b>1206<br><b>Win Probability: </b>41.4%<br><br><b>Change in ELO:</b> +18<br>",
          "<br><b>Pre-Game ELO: </b>1225<br><b>Win Probability: </b>47.8%<br><br><b>Change in ELO:</b> -15<br>",
          "<br><b>Pre-Game ELO: </b>nan<br><b>Win Probability: </b>nan%<br><br><b>Change in ELO:</b> +nan<br>",
          "<br><b>Pre-Game ELO: </b>1210<br><b>Win Probability: </b>68.1%<br><br><b>Change in ELO:</b> +10<br>",
          "<br><b>Pre-Game ELO: </b>nan<br><b>Win Probability: </b>nan%<br><br><b>Change in ELO:</b> +nan<br>",
          "<br><b>Pre-Game ELO: </b>nan<br><b>Win Probability: </b>nan%<br><br><b>Change in ELO:</b> +nan<br>",
          "<br><b>Pre-Game ELO: </b>1220<br><b>Win Probability: </b>60.1%<br><br><b>Change in ELO:</b> -19<br>",
          "<br><b>Pre-Game ELO: </b>nan<br><b>Win Probability: </b>nan%<br><br><b>Change in ELO:</b> +nan<br>",
          "<br><b>Pre-Game ELO: </b>nan<br><b>Win Probability: </b>nan%<br><br><b>Change in ELO:</b> +nan<br>",
          "<br><b>Pre-Game ELO: </b>nan<br><b>Win Probability: </b>nan%<br><br><b>Change in ELO:</b> +nan<br>",
          "<br><b>Pre-Game ELO: </b>1201<br><b>Win Probability: </b>42.5%<br><br><b>Change in ELO:</b> +18<br>",
          "<br><b>Pre-Game ELO: </b>1219<br><b>Win Probability: </b>49.9%<br><br><b>Change in ELO:</b> -15<br>",
          "<br><b>Pre-Game ELO: </b>nan<br><b>Win Probability: </b>nan%<br><br><b>Change in ELO:</b> +nan<br>",
          "<br><b>Pre-Game ELO: </b>1203<br><b>Win Probability: </b>68.0%<br><br><b>Change in ELO:</b> -21<br>",
          "<br><b>Pre-Game ELO: </b>nan<br><b>Win Probability: </b>nan%<br><br><b>Change in ELO:</b> +nan<br>",
          "<br><b>Pre-Game ELO: </b>nan<br><b>Win Probability: </b>nan%<br><br><b>Change in ELO:</b> +nan<br>",
          "<br><b>Pre-Game ELO: </b>1182<br><b>Win Probability: </b>40.6%<br><br><b>Change in ELO:</b> +18<br>",
          "<br><b>Pre-Game ELO: </b>1201<br><b>Win Probability: </b>37.3%<br><br><b>Change in ELO:</b> -12<br>",
          "<br><b>Pre-Game ELO: </b>1189<br><b>Win Probability: </b>31.5%<br><br><b>Change in ELO:</b> -10<br>",
          "<br><b>Pre-Game ELO: </b>nan<br><b>Win Probability: </b>nan%<br><br><b>Change in ELO:</b> +nan<br>",
          "<br><b>Pre-Game ELO: </b>1179<br><b>Win Probability: </b>50.3%<br><br><b>Change in ELO:</b> +15<br>",
          "<br><b>Pre-Game ELO: </b>nan<br><b>Win Probability: </b>nan%<br><br><b>Change in ELO:</b> +nan<br>",
          "<br><b>Pre-Game ELO: </b>nan<br><b>Win Probability: </b>nan%<br><br><b>Change in ELO:</b> +nan<br>",
          "<br><b>Pre-Game ELO: </b>nan<br><b>Win Probability: </b>nan%<br><br><b>Change in ELO:</b> +nan<br>",
          "<br><b>Pre-Game ELO: </b>1195<br><b>Win Probability: </b>63.1%<br><br><b>Change in ELO:</b> +11<br>",
          "<br><b>Pre-Game ELO: </b>1206<br><b>Win Probability: </b>35.9%<br><br><b>Change in ELO:</b> +20<br>",
          "<br><b>Pre-Game ELO: </b>nan<br><b>Win Probability: </b>nan%<br><br><b>Change in ELO:</b> +nan<br>",
          "<br><b>Pre-Game ELO: </b>1226<br><b>Win Probability: </b>45.5%<br><br><b>Change in ELO:</b> -14<br>",
          "<br><b>Pre-Game ELO: </b>nan<br><b>Win Probability: </b>nan%<br><br><b>Change in ELO:</b> +nan<br>",
          "<br><b>Pre-Game ELO: </b>nan<br><b>Win Probability: </b>nan%<br><br><b>Change in ELO:</b> +nan<br>",
          "<br><b>Pre-Game ELO: </b>1212<br><b>Win Probability: </b>64.4%<br><br><b>Change in ELO:</b> +11<br>",
          "<br><b>Pre-Game ELO: </b>nan<br><b>Win Probability: </b>nan%<br><br><b>Change in ELO:</b> +nan<br>",
          "<br><b>Pre-Game ELO: </b>nan<br><b>Win Probability: </b>nan%<br><br><b>Change in ELO:</b> +nan<br>",
          "<br><b>Pre-Game ELO: </b>nan<br><b>Win Probability: </b>nan%<br><br><b>Change in ELO:</b> +nan<br>",
          "<br><b>Pre-Game ELO: </b>1223<br><b>Win Probability: </b>78.0%<br><br><b>Change in ELO:</b> +7<br>",
          "<br><b>Pre-Game ELO: </b>1230<br><b>Win Probability: </b>55.1%<br><br><b>Change in ELO:</b> +14<br>",
          "<br><b>Pre-Game ELO: </b>nan<br><b>Win Probability: </b>nan%<br><br><b>Change in ELO:</b> +nan<br>",
          "<br><b>Pre-Game ELO: </b>1244<br><b>Win Probability: </b>38.9%<br><br><b>Change in ELO:</b> -12<br>",
          "<br><b>Pre-Game ELO: </b>nan<br><b>Win Probability: </b>nan%<br><br><b>Change in ELO:</b> +nan<br>",
          "<br><b>Pre-Game ELO: </b>1232<br><b>Win Probability: </b>32.8%<br><br><b>Change in ELO:</b> +21<br>",
          "<br><b>Pre-Game ELO: </b>1252<br><b>Win Probability: </b>43.6%<br><br><b>Change in ELO:</b> -14<br>",
          "<br><b>Pre-Game ELO: </b>1239<br><b>Win Probability: </b>36.5%<br><br><b>Change in ELO:</b> -11<br>",
          "<br><b>Pre-Game ELO: </b>1228<br><b>Win Probability: </b>56.2%<br><br><b>Change in ELO:</b> -17<br>",
          "<br><b>Pre-Game ELO: </b>nan<br><b>Win Probability: </b>nan%<br><br><b>Change in ELO:</b> +nan<br>",
          "<br><b>Pre-Game ELO: </b>1210<br><b>Win Probability: </b>25.7%<br><br><b>Change in ELO:</b> +23<br>",
          "<br><b>Pre-Game ELO: </b>nan<br><b>Win Probability: </b>nan%<br><br><b>Change in ELO:</b> +nan<br>",
          "<br><b>Pre-Game ELO: </b>1233<br><b>Win Probability: </b>69.9%<br><br><b>Change in ELO:</b> +9<br>",
          "<br><b>Pre-Game ELO: </b>nan<br><b>Win Probability: </b>nan%<br><br><b>Change in ELO:</b> +nan<br>",
          "<br><b>Pre-Game ELO: </b>1243<br><b>Win Probability: </b>55.6%<br><br><b>Change in ELO:</b> -17<br>",
          "<br><b>Pre-Game ELO: </b>nan<br><b>Win Probability: </b>nan%<br><br><b>Change in ELO:</b> +nan<br>",
          "<br><b>Pre-Game ELO: </b>1225<br><b>Win Probability: </b>30.5%<br><br><b>Change in ELO:</b> -9<br>",
          "<br><b>Pre-Game ELO: </b>nan<br><b>Win Probability: </b>nan%<br><br><b>Change in ELO:</b> +nan<br>",
          "<br><b>Pre-Game ELO: </b>1216<br><b>Win Probability: </b>71.1%<br><br><b>Change in ELO:</b> +9<br>",
          "<br><b>Pre-Game ELO: </b>nan<br><b>Win Probability: </b>nan%<br><br><b>Change in ELO:</b> +nan<br>",
          "<br><b>Pre-Game ELO: </b>nan<br><b>Win Probability: </b>nan%<br><br><b>Change in ELO:</b> +nan<br>",
          "<br><b>Pre-Game ELO: </b>nan<br><b>Win Probability: </b>nan%<br><br><b>Change in ELO:</b> +nan<br>",
          "<br><b>Pre-Game ELO: </b>1225<br><b>Win Probability: </b>41.1%<br><br><b>Change in ELO:</b> -13<br>",
          "<br><b>Pre-Game ELO: </b>1212<br><b>Win Probability: </b>34.6%<br><br><b>Change in ELO:</b> -11<br>",
          "<br><b>Pre-Game ELO: </b>nan<br><b>Win Probability: </b>nan%<br><br><b>Change in ELO:</b> +nan<br>",
          "<br><b>Pre-Game ELO: </b>nan<br><b>Win Probability: </b>nan%<br><br><b>Change in ELO:</b> +nan<br>",
          "<br><b>Pre-Game ELO: </b>nan<br><b>Win Probability: </b>nan%<br><br><b>Change in ELO:</b> +nan<br>",
          "<br><b>Pre-Game ELO: </b>nan<br><b>Win Probability: </b>nan%<br><br><b>Change in ELO:</b> +nan<br>",
          "<br><b>Pre-Game ELO: </b>1201<br><b>Win Probability: </b>71.5%<br><br><b>Change in ELO:</b> -22<br>",
          "<br><b>Pre-Game ELO: </b>1179<br><b>Win Probability: </b>60.7%<br><br><b>Change in ELO:</b> +12<br>",
          "<br><b>Pre-Game ELO: </b>1191<br><b>Win Probability: </b>66.9%<br><br><b>Change in ELO:</b> -21<br>",
          "<br><b>Pre-Game ELO: </b>nan<br><b>Win Probability: </b>nan%<br><br><b>Change in ELO:</b> +nan<br>",
          "<br><b>Pre-Game ELO: </b>nan<br><b>Win Probability: </b>nan%<br><br><b>Change in ELO:</b> +nan<br>",
          "<br><b>Pre-Game ELO: </b>nan<br><b>Win Probability: </b>nan%<br><br><b>Change in ELO:</b> +nan<br>",
          "<br><b>Pre-Game ELO: </b>1171<br><b>Win Probability: </b>24.2%<br><br><b>Change in ELO:</b> -7<br>",
          "<br><b>Pre-Game ELO: </b>1163<br><b>Win Probability: </b>21.3%<br><br><b>Change in ELO:</b> -7<br>",
          "<br><b>Pre-Game ELO: </b>nan<br><b>Win Probability: </b>nan%<br><br><b>Change in ELO:</b> +nan<br>",
          "<br><b>Pre-Game ELO: </b>nan<br><b>Win Probability: </b>nan%<br><br><b>Change in ELO:</b> +nan<br>",
          "<br><b>Pre-Game ELO: </b>1157<br><b>Win Probability: </b>23.9%<br><br><b>Change in ELO:</b> +24<br>",
          "<br><b>Pre-Game ELO: </b>nan<br><b>Win Probability: </b>nan%<br><br><b>Change in ELO:</b> +nan<br>",
          "<br><b>Pre-Game ELO: </b>1180<br><b>Win Probability: </b>49.7%<br><br><b>Change in ELO:</b> -15<br>",
          "<br><b>Pre-Game ELO: </b>nan<br><b>Win Probability: </b>nan%<br><br><b>Change in ELO:</b> +nan<br>",
          "<br><b>Pre-Game ELO: </b>nan<br><b>Win Probability: </b>nan%<br><br><b>Change in ELO:</b> +nan<br>",
          "<br><b>Pre-Game ELO: </b>1165<br><b>Win Probability: </b>45.7%<br><br><b>Change in ELO:</b> +17<br>",
          "<br><b>Pre-Game ELO: </b>nan<br><b>Win Probability: </b>nan%<br><br><b>Change in ELO:</b> +nan<br>",
          "<br><b>Pre-Game ELO: </b>nan<br><b>Win Probability: </b>nan%<br><br><b>Change in ELO:</b> +nan<br>",
          "<br><b>Pre-Game ELO: </b>nan<br><b>Win Probability: </b>nan%<br><br><b>Change in ELO:</b> +nan<br>",
          "<br><b>Pre-Game ELO: </b>1182<br><b>Win Probability: </b>24.2%<br><br><b>Change in ELO:</b> -8<br>",
          "<br><b>Pre-Game ELO: </b>1174<br><b>Win Probability: </b>30.0%<br><br><b>Change in ELO:</b> -9<br>",
          "<br><b>Pre-Game ELO: </b>nan<br><b>Win Probability: </b>nan%<br><br><b>Change in ELO:</b> +nan<br>",
          "<br><b>Pre-Game ELO: </b>1165<br><b>Win Probability: </b>34.4%<br><br><b>Change in ELO:</b> +20<br>",
          "<br><b>Pre-Game ELO: </b>nan<br><b>Win Probability: </b>nan%<br><br><b>Change in ELO:</b> +nan<br>",
          "<br><b>Pre-Game ELO: </b>nan<br><b>Win Probability: </b>nan%<br><br><b>Change in ELO:</b> +nan<br>",
          "<br><b>Pre-Game ELO: </b>1185<br><b>Win Probability: </b>55.4%<br><br><b>Change in ELO:</b> -17<br>",
          "<br><b>Pre-Game ELO: </b>nan<br><b>Win Probability: </b>nan%<br><br><b>Change in ELO:</b> +nan<br>",
          "<br><b>Pre-Game ELO: </b>nan<br><b>Win Probability: </b>nan%<br><br><b>Change in ELO:</b> +nan<br>",
          "<br><b>Pre-Game ELO: </b>nan<br><b>Win Probability: </b>nan%<br><br><b>Change in ELO:</b> +nan<br>",
          "<br><b>Pre-Game ELO: </b>1168<br><b>Win Probability: </b>20.7%<br><br><b>Change in ELO:</b> +25<br>"
         ],
         "type": "scatter",
         "x": [
          1,
          2,
          3,
          4,
          5,
          6,
          7,
          8,
          9,
          10,
          11,
          12,
          13,
          14,
          15,
          16,
          17,
          18,
          19,
          20,
          21,
          22,
          23,
          24,
          25,
          26,
          27,
          28,
          29,
          30,
          31,
          32,
          33,
          34,
          35,
          36,
          37,
          38,
          39,
          40,
          41,
          42,
          43,
          44,
          45,
          46,
          47,
          48,
          49,
          50,
          51,
          52,
          53,
          54,
          55,
          56,
          57,
          58,
          59,
          60,
          61,
          62,
          63,
          64,
          65,
          66,
          67,
          68,
          69,
          70,
          71,
          72,
          73,
          74,
          75,
          76,
          77,
          78,
          79,
          80,
          81,
          82,
          83,
          84,
          85,
          86,
          87,
          88,
          89,
          90,
          91,
          92,
          93,
          94,
          95,
          96,
          97,
          98,
          99,
          100,
          101,
          102,
          103,
          104,
          105,
          106,
          107,
          108,
          109,
          110
         ],
         "y": [
          1184.5,
          null,
          1171.6141968246961,
          null,
          1187.1141968246961,
          null,
          1173.7939130285101,
          null,
          1195.6025614531375,
          null,
          1206.3837765730614,
          null,
          null,
          null,
          null,
          null,
          null,
          null,
          1224.5605299452006,
          1209.7347325352785,
          null,
          1219.6316563738828,
          null,
          null,
          1200.9871446670898,
          null,
          null,
          null,
          1218.8092452969277,
          1203.3346743361965,
          null,
          1182.249648937476,
          null,
          null,
          1200.6550754402726,
          1189.1021135913395,
          1179.3220654245522,
          null,
          1194.7268354532405,
          null,
          null,
          null,
          1206.1623291617937,
          1226.0305126089077,
          null,
          1211.9206052280472,
          null,
          null,
          1222.9696023792922,
          null,
          null,
          null,
          1229.7827036366984,
          1243.690786073097,
          null,
          1231.6279675095418,
          null,
          1252.4517791091112,
          1238.9440776035322,
          1227.6403383581633,
          1210.231062826311,
          null,
          1233.2689806228332,
          null,
          1242.5961624009267,
          null,
          1225.3626511030989,
          null,
          1215.9061319948328,
          null,
          1224.8801765289736,
          null,
          null,
          null,
          1212.1269556859042,
          1201.41324967588,
          null,
          null,
          null,
          null,
          1179.2378484023711,
          1191.424709249573,
          1170.6973539850267,
          null,
          null,
          null,
          1163.2067688033155,
          1156.6110563544917,
          null,
          null,
          1180.212662017431,
          null,
          1164.8039047453365,
          null,
          null,
          1181.6278093584308,
          null,
          null,
          null,
          1174.1277098088196,
          1164.8157365877767,
          null,
          1185.1439904697415,
          null,
          null,
          1167.9684851097347,
          null,
          null,
          null,
          1192.5485368344284
         ]
        },
        {
         "connectgaps": true,
         "customdata": [
          [
           "Evan Sooklal",
           "Will Simpson",
           2,
           6,
           "2023-11-18",
           "[Gen 9] OU",
           "1"
          ],
          [
           "Paul Bartenfeld",
           "Roman Ramirez",
           2,
           6,
           "2023-11-18",
           "[Gen 9] OU",
           "2"
          ],
          [
           "Roman Ramirez",
           "Evan Sooklal",
           6,
           3,
           "2023-11-18",
           "[Gen 9] OU",
           "3"
          ],
          [
           "Will Simpson",
           "Paul Bartenfeld",
           6,
           1,
           "2023-11-18",
           "[Gen 9] OU",
           "4"
          ],
          [
           "Paul Bartenfeld",
           "Evan Sooklal",
           1,
           6,
           "2023-11-18",
           "[Gen 9] OU",
           "5"
          ],
          [
           "Will Simpson",
           "Roman Ramirez",
           3,
           6,
           "2023-11-18",
           "[Gen 9] OU",
           "6"
          ],
          [
           "Will Simpson",
           "Evan Sooklal",
           6,
           2,
           "2023-11-18",
           "[Gen 9] OU",
           "7"
          ],
          [
           "Roman Ramirez",
           "Paul Bartenfeld",
           6,
           4,
           "2023-11-18",
           "[Gen 9] OU",
           "8"
          ],
          [
           "Evan Sooklal",
           "Roman Ramirez",
           6,
           5,
           "2023-11-18",
           "[Gen 9] OU",
           "9"
          ],
          [
           "Paul Bartenfeld",
           "Will Simpson",
           4,
           6,
           "2023-11-18",
           "[Gen 9] OU",
           "10"
          ],
          [
           "Evan Sooklal",
           "Paul Bartenfeld",
           6,
           5,
           "2023-11-18",
           "[Gen 9] OU",
           "11"
          ],
          [
           "Roman Ramirez",
           "Will Simpson",
           6,
           2,
           "2023-11-18",
           "[Gen 9] OU",
           "12"
          ],
          [
           "Roman Ramirez",
           "Will Simpson",
           2,
           6,
           "2023-11-18",
           "[Gen 9] OU",
           "1"
          ],
          [
           "Will Simpson",
           "Roman Ramirez",
           4,
           6,
           "2023-11-18",
           "[Gen 9] OU",
           "2"
          ],
          [
           "Roman Ramirez",
           "Will Simpson",
           6,
           4,
           "2023-11-18",
           "[Gen 9] OU",
           "3"
          ],
          [
           "Roman Ramirez",
           "Aaron Carter",
           4,
           6,
           "2023-12-02",
           "[Gen 9] OU",
           "1"
          ],
          [
           "Will Simpson",
           "Paul Bartenfeld",
           6,
           4,
           "2023-12-02",
           "[Gen 9] OU",
           "2"
          ],
          [
           "Aaron Carter",
           "Will Simpson",
           4,
           6,
           "2023-12-02",
           "[Gen 9] OU",
           "3"
          ],
          [
           "Evan Sooklal",
           "Roman Ramirez",
           6,
           2,
           "2023-12-02",
           "[Gen 9] OU",
           "4"
          ],
          [
           "Will Simpson",
           "Evan Sooklal",
           6,
           2,
           "2023-12-02",
           "[Gen 9] OU",
           "5"
          ],
          [
           "Paul Bartenfeld",
           "Aaron Carter",
           6,
           3,
           "2023-12-02",
           "[Gen 9] OU",
           "6"
          ],
          [
           "Evan Sooklal",
           "Paul Bartenfeld",
           6,
           4,
           "2023-12-02",
           "[Gen 9] OU",
           "7"
          ],
          [
           "Roman Ramirez",
           "Will Simpson",
           6,
           4,
           "2023-12-02",
           "[Gen 9] OU",
           "8"
          ],
          [
           "Paul Bartenfeld",
           "Roman Ramirez",
           6,
           3,
           "2023-12-02",
           "[Gen 9] OU",
           "9"
          ],
          [
           "Aaron Carter",
           "Evan Sooklal",
           6,
           3,
           "2023-12-02",
           "[Gen 9] OU",
           "10"
          ],
          [
           "Aaron Carter",
           "Roman Ramirez",
           0,
           6,
           "2023-12-02",
           "[Gen 9] OU",
           "11"
          ],
          [
           "Paul Bartenfeld",
           "Will Simpson",
           1,
           6,
           "2023-12-02",
           "[Gen 9] OU",
           "12"
          ],
          [
           "Will Simpson",
           "Aaron Carter",
           3,
           6,
           "2023-12-02",
           "[Gen 9] OU",
           "13"
          ],
          [
           "Roman Ramirez",
           "Evan Sooklal",
           2,
           6,
           "2023-12-02",
           "[Gen 9] OU",
           "14"
          ],
          [
           "Evan Sooklal",
           "Will Simpson",
           5,
           6,
           "2023-12-02",
           "[Gen 9] OU",
           "15"
          ],
          [
           "Aaron Carter",
           "Paul Bartenfeld",
           6,
           3,
           "2023-12-02",
           "[Gen 9] OU",
           "16"
          ],
          [
           "Paul Bartenfeld",
           "Evan Sooklal",
           6,
           5,
           "2023-12-02",
           "[Gen 9] OU",
           "17"
          ],
          [
           "Will Simpson",
           "Roman Ramirez",
           6,
           5,
           "2023-12-02",
           "[Gen 9] OU",
           "18"
          ],
          [
           "Roman Ramirez",
           "Paul Bartenfeld",
           4,
           6,
           "2023-12-02",
           "[Gen 9] OU",
           "19"
          ],
          [
           "Evan Sooklal",
           "Aaron Carter",
           6,
           4,
           "2023-12-02",
           "[Gen 9] OU",
           "20"
          ],
          [
           "Will Simpson",
           "Evan Sooklal",
           6,
           2,
           "2023-12-02",
           "[Gen 9] OU",
           "1"
          ],
          [
           "Will Simpson",
           "Evan Sooklal",
           6,
           1,
           "2023-12-02",
           "[Gen 9] OU",
           "2"
          ],
          [
           "Aaron Carter",
           "Paul Bartenfeld",
           6,
           3,
           "2023-12-13",
           "[Gen 9] OU",
           "1"
          ],
          [
           "Roman Ramirez",
           "Evan Sooklal",
           5,
           6,
           "2023-12-13",
           "[Gen 9] OU",
           "2"
          ],
          [
           "Paul Bartenfeld",
           "Roman Ramirez",
           2,
           6,
           "2023-12-13",
           "[Gen 9] OU",
           "3"
          ],
          [
           "Will Simpson",
           "Aaron Carter",
           0,
           6,
           "2023-12-13",
           "[Gen 9] OU",
           "4"
          ],
          [
           "Roman Ramirez",
           "Will Simpson",
           4,
           6,
           "2023-12-13",
           "[Gen 9] OU",
           "5"
          ],
          [
           "Evan Sooklal",
           "Paul Bartenfeld",
           6,
           5,
           "2023-12-13",
           "[Gen 9] OU",
           "6"
          ],
          [
           "Will Simpson",
           "Evan Sooklal",
           4,
           6,
           "2023-12-13",
           "[Gen 9] OU",
           "7"
          ],
          [
           "Aaron Carter",
           "Roman Ramirez",
           6,
           3,
           "2023-12-13",
           "[Gen 9] OU",
           "8"
          ],
          [
           "Evan Sooklal",
           "Aaron Carter",
           5,
           6,
           "2023-12-13",
           "[Gen 9] OU",
           "9"
          ],
          [
           "Paul Bartenfeld",
           "Will Simpson",
           2,
           6,
           "2023-12-13",
           "[Gen 9] OU",
           "10"
          ],
          [
           "Paul Bartenfeld",
           "Aaron Carter",
           3,
           6,
           "2023-12-13",
           "[Gen 9] OU",
           "11"
          ],
          [
           "Evan Sooklal",
           "Roman Ramirez",
           6,
           4,
           "2023-12-13",
           "[Gen 9] OU",
           "12"
          ],
          [
           "Roman Ramirez",
           "Paul Bartenfeld",
           6,
           1,
           "2023-12-13",
           "[Gen 9] OU",
           "13"
          ],
          [
           "Aaron Carter",
           "Will Simpson",
           6,
           5,
           "2023-12-13",
           "[Gen 9] OU",
           "14"
          ],
          [
           "Will Simpson",
           "Roman Ramirez",
           3,
           6,
           "2023-12-13",
           "[Gen 9] OU",
           "15"
          ],
          [
           "Paul Bartenfeld",
           "Evan Sooklal",
           3,
           6,
           "2023-12-13",
           "[Gen 9] OU",
           "16"
          ],
          [
           "Evan Sooklal",
           "Will Simpson",
           6,
           3,
           "2023-12-13",
           "[Gen 9] OU",
           "17"
          ],
          [
           "Roman Ramirez",
           "Aaron Carter",
           5,
           6,
           "2023-12-13",
           "[Gen 9] OU",
           "18"
          ],
          [
           "Aaron Carter",
           "Evan Sooklal",
           6,
           2,
           "2023-12-13",
           "[Gen 9] OU",
           "19"
          ],
          [
           "Will Simpson",
           "Paul Bartenfeld",
           6,
           4,
           "2023-12-13",
           "[Gen 9] OU",
           "20"
          ],
          [
           "Aaron Carter",
           "Evan Sooklal",
           5,
           6,
           "2023-12-13",
           "[Gen 9] OU",
           "1"
          ],
          [
           "Evan Sooklal",
           "Aaron Carter",
           2,
           6,
           "2023-12-13",
           "[Gen 9] OU",
           "2"
          ],
          [
           "Aaron Carter",
           "Evan Sooklal",
           6,
           2,
           "2023-12-13",
           "[Gen 9] OU",
           "3"
          ],
          [
           "Evan Sooklal",
           "Will Simpson",
           0,
           4,
           "2024-01-28",
           "[Gen 9] VGC 2024 Reg F",
           "1"
          ],
          [
           "Roman Ramirez",
           "Aaron Carter",
           2,
           4,
           "2024-01-28",
           "[Gen 9] VGC 2024 Reg F",
           "2"
          ],
          [
           "Aaron Carter",
           "Evan Sooklal",
           3,
           4,
           "2024-01-28",
           "[Gen 9] VGC 2024 Reg F",
           "3"
          ],
          [
           "Will Simpson",
           "Roman Ramirez",
           4,
           2,
           "2024-01-28",
           "[Gen 9] VGC 2024 Reg F",
           "4"
          ],
          [
           "Roman Ramirez",
           "Evan Sooklal",
           0,
           4,
           "2024-01-28",
           "[Gen 9] VGC 2024 Reg F",
           "5"
          ],
          [
           "Will Simpson",
           "Aaron Carter",
           1,
           4,
           "2024-01-28",
           "[Gen 9] VGC 2024 Reg F",
           "6"
          ],
          [
           "Will Simpson",
           "Evan Sooklal",
           4,
           2,
           "2024-01-28",
           "[Gen 9] VGC 2024 Reg F",
           "7"
          ],
          [
           "Aaron Carter",
           "Roman Ramirez",
           4,
           0,
           "2024-01-28",
           "[Gen 9] VGC 2024 Reg F",
           "8"
          ],
          [
           "Evan Sooklal",
           "Aaron Carter",
           3,
           4,
           "2024-01-28",
           "[Gen 9] VGC 2024 Reg F",
           "9"
          ],
          [
           "Roman Ramirez",
           "Will Simpson",
           1,
           4,
           "2024-01-28",
           "[Gen 9] VGC 2024 Reg F",
           "10"
          ],
          [
           "Evan Sooklal",
           "Roman Ramirez",
           4,
           3,
           "2024-01-28",
           "[Gen 9] VGC 2024 Reg F",
           "11"
          ],
          [
           "Aaron Carter",
           "Will Simpson",
           2,
           4,
           "2024-01-28",
           "[Gen 9] VGC 2024 Reg F",
           "12"
          ],
          [
           "Will Simpson",
           "Aaron Carter",
           4,
           0,
           "2024-01-28",
           "[Gen 9] VGC 2024 Reg F",
           "1"
          ],
          [
           "Will Simpson",
           "Aaron Carter",
           4,
           3,
           "2024-01-28",
           "[Gen 9] VGC 2024 Reg F",
           "2"
          ],
          [
           "Aaron Carter",
           "Evan Sooklal",
           4,
           2,
           "2024-02-09",
           "[Gen 9] VGC 2024 Reg F",
           "1a"
          ],
          [
           "Aaron Carter",
           "Evan Sooklal",
           4,
           3,
           "2024-02-09",
           "[Gen 9] VGC 2024 Reg F",
           "1b"
          ],
          [
           "Roman Ramirez",
           "Will Simpson",
           3,
           4,
           "2024-02-09",
           "[Gen 9] VGC 2024 Reg F",
           "2a"
          ],
          [
           "Roman Ramirez",
           "Will Simpson",
           2,
           4,
           "2024-02-09",
           "[Gen 9] VGC 2024 Reg F",
           "2b"
          ],
          [
           "Will Simpson",
           "Aaron Carter",
           2,
           4,
           "2024-02-09",
           "[Gen 9] VGC 2024 Reg F",
           "3a"
          ],
          [
           "Will Simpson",
           "Aaron Carter",
           0,
           4,
           "2024-02-09",
           "[Gen 9] VGC 2024 Reg F",
           "3b"
          ],
          [
           "Evan Sooklal",
           "Roman Ramirez",
           1,
           4,
           "2024-02-09",
           "[Gen 9] VGC 2024 Reg F",
           "4a"
          ],
          [
           "Evan Sooklal",
           "Roman Ramirez",
           4,
           2,
           "2024-02-09",
           "[Gen 9] VGC 2024 Reg F",
           "4b"
          ],
          [
           "Evan Sooklal",
           "Roman Ramirez",
           2,
           4,
           "2024-02-09",
           "[Gen 9] VGC 2024 Reg F",
           "4c"
          ],
          [
           "Roman Ramirez",
           "Aaron Carter",
           4,
           3,
           "2024-02-09",
           "[Gen 9] VGC 2024 Reg F",
           "5a"
          ],
          [
           "Roman Ramirez",
           "Aaron Carter",
           0,
           4,
           "2024-02-09",
           "[Gen 9] VGC 2024 Reg F",
           "5b"
          ],
          [
           "Roman Ramirez",
           "Aaron Carter",
           3,
           4,
           "2024-02-09",
           "[Gen 9] VGC 2024 Reg F",
           "5c"
          ],
          [
           "Evan Sooklal",
           "Will Simpson",
           1,
           4,
           "2024-02-09",
           "[Gen 9] VGC 2024 Reg F",
           "6a"
          ],
          [
           "Evan Sooklal",
           "Will Simpson",
           0,
           4,
           "2024-02-09",
           "[Gen 9] VGC 2024 Reg F",
           "6b"
          ],
          [
           "Aaron Carter",
           "Will Simpson",
           4,
           1,
           "2024-02-09",
           "[Gen 9] VGC 2024 Reg F",
           "1a"
          ],
          [
           "Aaron Carter",
           "Will Simpson",
           4,
           2,
           "2024-02-09",
           "[Gen 9] VGC 2024 Reg F",
           "1b"
          ],
          [
           "Will Simpson",
           "Evan Sooklal",
           0,
           6,
           "2024-02-18",
           "[Gen 9] Doubles UU",
           "1"
          ],
          [
           "Jack Massingill",
           "Roman Ramirez",
           0,
           6,
           "2024-02-18",
           "[Gen 9] Doubles UU",
           "2"
          ],
          [
           "Evan Sooklal",
           "Jack Massingill",
           0,
           6,
           "2024-02-18",
           "[Gen 9] Doubles UU",
           "3"
          ],
          [
           "Aaron Carter",
           "Will Simpson",
           0,
           6,
           "2024-02-18",
           "[Gen 9] Doubles UU",
           "4"
          ],
          [
           "Jack Massingill",
           "Aaron Carter",
           0,
           6,
           "2024-02-18",
           "[Gen 9] Doubles UU",
           "5"
          ],
          [
           "Roman Ramirez",
           "Evan Sooklal",
           0,
           6,
           "2024-02-18",
           "[Gen 9] Doubles UU",
           "6"
          ],
          [
           "Aaron Carter",
           "Roman Ramirez",
           0,
           6,
           "2024-02-18",
           "[Gen 9] Doubles UU",
           "7"
          ],
          [
           "Will Simpson",
           "Jack Massingill",
           0,
           6,
           "2024-02-18",
           "[Gen 9] Doubles UU",
           "8"
          ],
          [
           "Roman Ramirez",
           "Will Simpson",
           0,
           6,
           "2024-02-18",
           "[Gen 9] Doubles UU",
           "9"
          ],
          [
           "Evan Sooklal",
           "Aaron Carter",
           0,
           6,
           "2024-02-18",
           "[Gen 9] Doubles UU",
           "10"
          ],
          [
           "Evan Sooklal",
           "Will Simpson",
           0,
           6,
           "2024-02-18",
           "[Gen 9] Doubles UU",
           "11"
          ],
          [
           "Roman Ramirez",
           "Jack Massingill",
           0,
           6,
           "2024-02-18",
           "[Gen 9] Doubles UU",
           "12"
          ],
          [
           "Jack Massingill",
           "Evan Sooklal",
           0,
           6,
           "2024-02-18",
           "[Gen 9] Doubles UU",
           "13"
          ],
          [
           "Will Simpson",
           "Aaron Carter",
           0,
           6,
           "2024-02-18",
           "[Gen 9] Doubles UU",
           "14"
          ],
          [
           "Aaron Carter",
           "Jack Massingill",
           0,
           6,
           "2024-02-18",
           "[Gen 9] Doubles UU",
           "15"
          ],
          [
           "Evan Sooklal",
           "Roman Ramirez",
           0,
           6,
           "2024-02-18",
           "[Gen 9] Doubles UU",
           "16"
          ],
          [
           "Roman Ramirez",
           "Aaron Carter",
           0,
           6,
           "2024-02-18",
           "[Gen 9] Doubles UU",
           "17"
          ],
          [
           "Jack Massingill",
           "Will Simpson",
           0,
           6,
           "2024-02-18",
           "[Gen 9] Doubles UU",
           "18"
          ],
          [
           "Will Simpson",
           "Roman Ramirez",
           0,
           6,
           "2024-02-18",
           "[Gen 9] Doubles UU",
           "19"
          ],
          [
           "Aaron Carter",
           "Evan Sooklal",
           0,
           6,
           "2024-02-18",
           "[Gen 9] Doubles UU",
           "20"
          ]
         ],
         "hovertemplate": "<i>%{customdata[4]|%A, %B %d, %Y}, Game %{x}</i><br><b>%{fullData.name}</b><br><br><b>Format:</b> %{customdata[5]}<br><b>Tournament Match:</b> %{customdata[6]}<br><br><b>%{customdata[0]} vs. %{customdata[1]}</b><br><b>Final Score:</b> %{customdata[2]}-%{customdata[3]}<br>%{text}<b>Post-Game ELO:</b> %{y:,.0f}<br><extra></extra>",
         "legendgrouptitle": {
          "text": "<b>#<i>Rank</i> (<i>Current ELO</i>) <i>Player</i></b>"
         },
         "line": {
          "color": "rgb(128, 186, 90)",
          "shape": "hv"
         },
         "mode": "lines+markers",
         "name": "#6 (1093) Paul Bartenfeld",
         "opacity": 0.8,
         "text": [
          "<br><b>Pre-Game ELO: </b>nan<br><b>Win Probability: </b>nan%<br><br><b>Change in ELO:</b> +nan<br>",
          "<br><b>Pre-Game ELO: </b>1200<br><b>Win Probability: </b>50.0%<br><br><b>Change in ELO:</b> -16<br>",
          "<br><b>Pre-Game ELO: </b>nan<br><b>Win Probability: </b>nan%<br><br><b>Change in ELO:</b> +nan<br>",
          "<br><b>Pre-Game ELO: </b>1184<br><b>Win Probability: </b>41.6%<br><br><b>Change in ELO:</b> -13<br>",
          "<br><b>Pre-Game ELO: </b>1172<br><b>Win Probability: </b>50.0%<br><br><b>Change in ELO:</b> -16<br>",
          "<br><b>Pre-Game ELO: </b>nan<br><b>Win Probability: </b>nan%<br><br><b>Change in ELO:</b> +nan<br>",
          "<br><b>Pre-Game ELO: </b>nan<br><b>Win Probability: </b>nan%<br><br><b>Change in ELO:</b> +nan<br>",
          "<br><b>Pre-Game ELO: </b>1156<br><b>Win Probability: </b>27.6%<br><br><b>Change in ELO:</b> -9<br>",
          "<br><b>Pre-Game ELO: </b>nan<br><b>Win Probability: </b>nan%<br><br><b>Change in ELO:</b> +nan<br>",
          "<br><b>Pre-Game ELO: </b>1148<br><b>Win Probability: </b>29.6%<br><br><b>Change in ELO:</b> -9<br>",
          "<br><b>Pre-Game ELO: </b>1138<br><b>Win Probability: </b>34.8%<br><br><b>Change in ELO:</b> -11<br>",
          "<br><b>Pre-Game ELO: </b>nan<br><b>Win Probability: </b>nan%<br><br><b>Change in ELO:</b> +nan<br>",
          "<br><b>Pre-Game ELO: </b>nan<br><b>Win Probability: </b>nan%<br><br><b>Change in ELO:</b> +nan<br>",
          "<br><b>Pre-Game ELO: </b>nan<br><b>Win Probability: </b>nan%<br><br><b>Change in ELO:</b> +nan<br>",
          "<br><b>Pre-Game ELO: </b>nan<br><b>Win Probability: </b>nan%<br><br><b>Change in ELO:</b> +nan<br>",
          "<br><b>Pre-Game ELO: </b>nan<br><b>Win Probability: </b>nan%<br><br><b>Change in ELO:</b> +nan<br>",
          "<br><b>Pre-Game ELO: </b>1128<br><b>Win Probability: </b>29.3%<br><br><b>Change in ELO:</b> -9<br>",
          "<br><b>Pre-Game ELO: </b>nan<br><b>Win Probability: </b>nan%<br><br><b>Change in ELO:</b> +nan<br>",
          "<br><b>Pre-Game ELO: </b>nan<br><b>Win Probability: </b>nan%<br><br><b>Change in ELO:</b> +nan<br>",
          "<br><b>Pre-Game ELO: </b>nan<br><b>Win Probability: </b>nan%<br><br><b>Change in ELO:</b> +nan<br>",
          "<br><b>Pre-Game ELO: </b>1118<br><b>Win Probability: </b>28.0%<br><br><b>Change in ELO:</b> +22<br>",
          "<br><b>Pre-Game ELO: </b>1141<br><b>Win Probability: </b>31.9%<br><br><b>Change in ELO:</b> -10<br>",
          "<br><b>Pre-Game ELO: </b>nan<br><b>Win Probability: </b>nan%<br><br><b>Change in ELO:</b> +nan<br>",
          "<br><b>Pre-Game ELO: </b>1131<br><b>Win Probability: </b>23.6%<br><br><b>Change in ELO:</b> +24<br>",
          "<br><b>Pre-Game ELO: </b>nan<br><b>Win Probability: </b>nan%<br><br><b>Change in ELO:</b> +nan<br>",
          "<br><b>Pre-Game ELO: </b>nan<br><b>Win Probability: </b>nan%<br><br><b>Change in ELO:</b> +nan<br>",
          "<br><b>Pre-Game ELO: </b>1155<br><b>Win Probability: </b>30.5%<br><br><b>Change in ELO:</b> -9<br>",
          "<br><b>Pre-Game ELO: </b>nan<br><b>Win Probability: </b>nan%<br><br><b>Change in ELO:</b> +nan<br>",
          "<br><b>Pre-Game ELO: </b>nan<br><b>Win Probability: </b>nan%<br><br><b>Change in ELO:</b> +nan<br>",
          "<br><b>Pre-Game ELO: </b>nan<br><b>Win Probability: </b>nan%<br><br><b>Change in ELO:</b> +nan<br>",
          "<br><b>Pre-Game ELO: </b>1145<br><b>Win Probability: </b>33.8%<br><br><b>Change in ELO:</b> -10<br>",
          "<br><b>Pre-Game ELO: </b>1135<br><b>Win Probability: </b>32.0%<br><br><b>Change in ELO:</b> +21<br>",
          "<br><b>Pre-Game ELO: </b>nan<br><b>Win Probability: </b>nan%<br><br><b>Change in ELO:</b> +nan<br>",
          "<br><b>Pre-Game ELO: </b>1156<br><b>Win Probability: </b>38.8%<br><br><b>Change in ELO:</b> +19<br>",
          "<br><b>Pre-Game ELO: </b>nan<br><b>Win Probability: </b>nan%<br><br><b>Change in ELO:</b> +nan<br>",
          "<br><b>Pre-Game ELO: </b>nan<br><b>Win Probability: </b>nan%<br><br><b>Change in ELO:</b> +nan<br>",
          "<br><b>Pre-Game ELO: </b>nan<br><b>Win Probability: </b>nan%<br><br><b>Change in ELO:</b> +nan<br>",
          "<br><b>Pre-Game ELO: </b>1175<br><b>Win Probability: </b>43.5%<br><br><b>Change in ELO:</b> -13<br>",
          "<br><b>Pre-Game ELO: </b>nan<br><b>Win Probability: </b>nan%<br><br><b>Change in ELO:</b> +nan<br>",
          "<br><b>Pre-Game ELO: </b>1161<br><b>Win Probability: </b>49.6%<br><br><b>Change in ELO:</b> -15<br>",
          "<br><b>Pre-Game ELO: </b>nan<br><b>Win Probability: </b>nan%<br><br><b>Change in ELO:</b> +nan<br>",
          "<br><b>Pre-Game ELO: </b>nan<br><b>Win Probability: </b>nan%<br><br><b>Change in ELO:</b> +nan<br>",
          "<br><b>Pre-Game ELO: </b>1146<br><b>Win Probability: </b>36.9%<br><br><b>Change in ELO:</b> -11<br>",
          "<br><b>Pre-Game ELO: </b>nan<br><b>Win Probability: </b>nan%<br><br><b>Change in ELO:</b> +nan<br>",
          "<br><b>Pre-Game ELO: </b>nan<br><b>Win Probability: </b>nan%<br><br><b>Change in ELO:</b> +nan<br>",
          "<br><b>Pre-Game ELO: </b>nan<br><b>Win Probability: </b>nan%<br><br><b>Change in ELO:</b> +nan<br>",
          "<br><b>Pre-Game ELO: </b>1134<br><b>Win Probability: </b>24.1%<br><br><b>Change in ELO:</b> -7<br>",
          "<br><b>Pre-Game ELO: </b>1127<br><b>Win Probability: </b>19.4%<br><br><b>Change in ELO:</b> -6<br>",
          "<br><b>Pre-Game ELO: </b>nan<br><b>Win Probability: </b>nan%<br><br><b>Change in ELO:</b> +nan<br>",
          "<br><b>Pre-Game ELO: </b>1121<br><b>Win Probability: </b>42.9%<br><br><b>Change in ELO:</b> -13<br>",
          "<br><b>Pre-Game ELO: </b>nan<br><b>Win Probability: </b>nan%<br><br><b>Change in ELO:</b> +nan<br>",
          "<br><b>Pre-Game ELO: </b>nan<br><b>Win Probability: </b>nan%<br><br><b>Change in ELO:</b> +nan<br>",
          "<br><b>Pre-Game ELO: </b>1108<br><b>Win Probability: </b>22.0%<br><br><b>Change in ELO:</b> -7<br>",
          "<br><b>Pre-Game ELO: </b>nan<br><b>Win Probability: </b>nan%<br><br><b>Change in ELO:</b> +nan<br>",
          "<br><b>Pre-Game ELO: </b>nan<br><b>Win Probability: </b>nan%<br><br><b>Change in ELO:</b> +nan<br>",
          "<br><b>Pre-Game ELO: </b>nan<br><b>Win Probability: </b>nan%<br><br><b>Change in ELO:</b> +nan<br>",
          "<br><b>Pre-Game ELO: </b>1101<br><b>Win Probability: </b>25.8%<br><br><b>Change in ELO:</b> -8<br>",
          "<br><b>Pre-Game ELO: </b>nan<br><b>Win Probability: </b>nan%<br><br><b>Change in ELO:</b> +nan<br>",
          "<br><b>Pre-Game ELO: </b>nan<br><b>Win Probability: </b>nan%<br><br><b>Change in ELO:</b> +nan<br>",
          "<br><b>Pre-Game ELO: </b>nan<br><b>Win Probability: </b>nan%<br><br><b>Change in ELO:</b> +nan<br>",
          "<br><b>Pre-Game ELO: </b>nan<br><b>Win Probability: </b>nan%<br><br><b>Change in ELO:</b> +nan<br>",
          "<br><b>Pre-Game ELO: </b>nan<br><b>Win Probability: </b>nan%<br><br><b>Change in ELO:</b> +nan<br>",
          "<br><b>Pre-Game ELO: </b>nan<br><b>Win Probability: </b>nan%<br><br><b>Change in ELO:</b> +nan<br>",
          "<br><b>Pre-Game ELO: </b>nan<br><b>Win Probability: </b>nan%<br><br><b>Change in ELO:</b> +nan<br>",
          "<br><b>Pre-Game ELO: </b>nan<br><b>Win Probability: </b>nan%<br><br><b>Change in ELO:</b> +nan<br>",
          "<br><b>Pre-Game ELO: </b>nan<br><b>Win Probability: </b>nan%<br><br><b>Change in ELO:</b> +nan<br>",
          "<br><b>Pre-Game ELO: </b>nan<br><b>Win Probability: </b>nan%<br><br><b>Change in ELO:</b> +nan<br>",
          "<br><b>Pre-Game ELO: </b>nan<br><b>Win Probability: </b>nan%<br><br><b>Change in ELO:</b> +nan<br>",
          "<br><b>Pre-Game ELO: </b>nan<br><b>Win Probability: </b>nan%<br><br><b>Change in ELO:</b> +nan<br>",
          "<br><b>Pre-Game ELO: </b>nan<br><b>Win Probability: </b>nan%<br><br><b>Change in ELO:</b> +nan<br>",
          "<br><b>Pre-Game ELO: </b>nan<br><b>Win Probability: </b>nan%<br><br><b>Change in ELO:</b> +nan<br>",
          "<br><b>Pre-Game ELO: </b>nan<br><b>Win Probability: </b>nan%<br><br><b>Change in ELO:</b> +nan<br>",
          "<br><b>Pre-Game ELO: </b>nan<br><b>Win Probability: </b>nan%<br><br><b>Change in ELO:</b> +nan<br>",
          "<br><b>Pre-Game ELO: </b>nan<br><b>Win Probability: </b>nan%<br><br><b>Change in ELO:</b> +nan<br>",
          "<br><b>Pre-Game ELO: </b>nan<br><b>Win Probability: </b>nan%<br><br><b>Change in ELO:</b> +nan<br>",
          "<br><b>Pre-Game ELO: </b>nan<br><b>Win Probability: </b>nan%<br><br><b>Change in ELO:</b> +nan<br>",
          "<br><b>Pre-Game ELO: </b>nan<br><b>Win Probability: </b>nan%<br><br><b>Change in ELO:</b> +nan<br>",
          "<br><b>Pre-Game ELO: </b>nan<br><b>Win Probability: </b>nan%<br><br><b>Change in ELO:</b> +nan<br>",
          "<br><b>Pre-Game ELO: </b>nan<br><b>Win Probability: </b>nan%<br><br><b>Change in ELO:</b> +nan<br>",
          "<br><b>Pre-Game ELO: </b>nan<br><b>Win Probability: </b>nan%<br><br><b>Change in ELO:</b> +nan<br>",
          "<br><b>Pre-Game ELO: </b>nan<br><b>Win Probability: </b>nan%<br><br><b>Change in ELO:</b> +nan<br>",
          "<br><b>Pre-Game ELO: </b>nan<br><b>Win Probability: </b>nan%<br><br><b>Change in ELO:</b> +nan<br>",
          "<br><b>Pre-Game ELO: </b>nan<br><b>Win Probability: </b>nan%<br><br><b>Change in ELO:</b> +nan<br>",
          "<br><b>Pre-Game ELO: </b>nan<br><b>Win Probability: </b>nan%<br><br><b>Change in ELO:</b> +nan<br>",
          "<br><b>Pre-Game ELO: </b>nan<br><b>Win Probability: </b>nan%<br><br><b>Change in ELO:</b> +nan<br>",
          "<br><b>Pre-Game ELO: </b>nan<br><b>Win Probability: </b>nan%<br><br><b>Change in ELO:</b> +nan<br>",
          "<br><b>Pre-Game ELO: </b>nan<br><b>Win Probability: </b>nan%<br><br><b>Change in ELO:</b> +nan<br>",
          "<br><b>Pre-Game ELO: </b>nan<br><b>Win Probability: </b>nan%<br><br><b>Change in ELO:</b> +nan<br>",
          "<br><b>Pre-Game ELO: </b>nan<br><b>Win Probability: </b>nan%<br><br><b>Change in ELO:</b> +nan<br>",
          "<br><b>Pre-Game ELO: </b>nan<br><b>Win Probability: </b>nan%<br><br><b>Change in ELO:</b> +nan<br>",
          "<br><b>Pre-Game ELO: </b>nan<br><b>Win Probability: </b>nan%<br><br><b>Change in ELO:</b> +nan<br>",
          "<br><b>Pre-Game ELO: </b>nan<br><b>Win Probability: </b>nan%<br><br><b>Change in ELO:</b> +nan<br>",
          "<br><b>Pre-Game ELO: </b>nan<br><b>Win Probability: </b>nan%<br><br><b>Change in ELO:</b> +nan<br>",
          "<br><b>Pre-Game ELO: </b>nan<br><b>Win Probability: </b>nan%<br><br><b>Change in ELO:</b> +nan<br>",
          "<br><b>Pre-Game ELO: </b>nan<br><b>Win Probability: </b>nan%<br><br><b>Change in ELO:</b> +nan<br>",
          "<br><b>Pre-Game ELO: </b>nan<br><b>Win Probability: </b>nan%<br><br><b>Change in ELO:</b> +nan<br>",
          "<br><b>Pre-Game ELO: </b>nan<br><b>Win Probability: </b>nan%<br><br><b>Change in ELO:</b> +nan<br>",
          "<br><b>Pre-Game ELO: </b>nan<br><b>Win Probability: </b>nan%<br><br><b>Change in ELO:</b> +nan<br>",
          "<br><b>Pre-Game ELO: </b>nan<br><b>Win Probability: </b>nan%<br><br><b>Change in ELO:</b> +nan<br>",
          "<br><b>Pre-Game ELO: </b>nan<br><b>Win Probability: </b>nan%<br><br><b>Change in ELO:</b> +nan<br>",
          "<br><b>Pre-Game ELO: </b>nan<br><b>Win Probability: </b>nan%<br><br><b>Change in ELO:</b> +nan<br>",
          "<br><b>Pre-Game ELO: </b>nan<br><b>Win Probability: </b>nan%<br><br><b>Change in ELO:</b> +nan<br>",
          "<br><b>Pre-Game ELO: </b>nan<br><b>Win Probability: </b>nan%<br><br><b>Change in ELO:</b> +nan<br>",
          "<br><b>Pre-Game ELO: </b>nan<br><b>Win Probability: </b>nan%<br><br><b>Change in ELO:</b> +nan<br>",
          "<br><b>Pre-Game ELO: </b>nan<br><b>Win Probability: </b>nan%<br><br><b>Change in ELO:</b> +nan<br>",
          "<br><b>Pre-Game ELO: </b>nan<br><b>Win Probability: </b>nan%<br><br><b>Change in ELO:</b> +nan<br>",
          "<br><b>Pre-Game ELO: </b>nan<br><b>Win Probability: </b>nan%<br><br><b>Change in ELO:</b> +nan<br>",
          "<br><b>Pre-Game ELO: </b>nan<br><b>Win Probability: </b>nan%<br><br><b>Change in ELO:</b> +nan<br>",
          "<br><b>Pre-Game ELO: </b>nan<br><b>Win Probability: </b>nan%<br><br><b>Change in ELO:</b> +nan<br>",
          "<br><b>Pre-Game ELO: </b>nan<br><b>Win Probability: </b>nan%<br><br><b>Change in ELO:</b> +nan<br>"
         ],
         "type": "scatter",
         "x": [
          1,
          2,
          3,
          4,
          5,
          6,
          7,
          8,
          9,
          10,
          11,
          12,
          13,
          14,
          15,
          16,
          17,
          18,
          19,
          20,
          21,
          22,
          23,
          24,
          25,
          26,
          27,
          28,
          29,
          30,
          31,
          32,
          33,
          34,
          35,
          36,
          37,
          38,
          39,
          40,
          41,
          42,
          43,
          44,
          45,
          46,
          47,
          48,
          49,
          50,
          51,
          52,
          53,
          54,
          55,
          56,
          57,
          58,
          59,
          60,
          61,
          62,
          63,
          64,
          65,
          66,
          67,
          68,
          69,
          70,
          71,
          72,
          73,
          74,
          75,
          76,
          77,
          78,
          79,
          80,
          81,
          82,
          83,
          84,
          85,
          86,
          87,
          88,
          89,
          90,
          91,
          92,
          93,
          94,
          95,
          96,
          97,
          98,
          99,
          100,
          101,
          102,
          103,
          104,
          105,
          106,
          107,
          108,
          109,
          110
         ],
         "y": [
          null,
          1184.5,
          null,
          1171.6141968246961,
          1156.1141968246961,
          null,
          null,
          1147.5574480492041,
          null,
          1138.3660964738315,
          1127.5848813539076,
          null,
          null,
          null,
          null,
          null,
          1118.4887658062921,
          null,
          null,
          null,
          1140.8118885235301,
          1130.9149646849257,
          null,
          1154.594709000781,
          null,
          null,
          1145.1351515177491,
          null,
          null,
          null,
          1134.6555871600212,
          1155.7406125587418,
          null,
          1174.7084687294896,
          null,
          null,
          null,
          1161.2123732263994,
          null,
          1145.847442344791,
          null,
          null,
          1134.4119486362379,
          null,
          null,
          null,
          1126.9528026904245,
          1120.934523817579,
          null,
          1107.6455966950925,
          null,
          null,
          1100.8324954376862,
          null,
          null,
          null,
          1092.8424553063014,
          null,
          null,
          null,
          null,
          null,
          null,
          null,
          null,
          null,
          null,
          null,
          null,
          null,
          null,
          null,
          null,
          null,
          null,
          null,
          null,
          null,
          null,
          null,
          null,
          null,
          null,
          null,
          null,
          null,
          null,
          null,
          null,
          null,
          null,
          null,
          null,
          null,
          null,
          null,
          null,
          null,
          null,
          null,
          null,
          null,
          null,
          null,
          null,
          null,
          null,
          null,
          null,
          null
         ]
        }
       ],
       "layout": {
        "annotations": [
         {
          "showarrow": false,
          "text": "2023-11-18",
          "x": 0.5,
          "xanchor": "left",
          "xref": "x",
          "y": 1,
          "yanchor": "top",
          "yref": "y domain"
         },
         {
          "showarrow": false,
          "text": "2023-12-02",
          "x": 15.5,
          "xanchor": "left",
          "xref": "x",
          "y": 1,
          "yanchor": "top",
          "yref": "y domain"
         },
         {
          "showarrow": false,
          "text": "2023-12-13",
          "x": 37.5,
          "xanchor": "left",
          "xref": "x",
          "y": 1,
          "yanchor": "top",
          "yref": "y domain"
         },
         {
          "showarrow": false,
          "text": "2024-01-28",
          "x": 60.5,
          "xanchor": "left",
          "xref": "x",
          "y": 1,
          "yanchor": "top",
          "yref": "y domain"
         },
         {
          "showarrow": false,
          "text": "2024-02-09",
          "x": 74.5,
          "xanchor": "left",
          "xref": "x",
          "y": 1,
          "yanchor": "top",
          "yref": "y domain"
         },
         {
          "showarrow": false,
          "text": "2024-02-18",
          "x": 90.5,
          "xanchor": "left",
          "xref": "x",
          "y": 1,
          "yanchor": "top",
          "yref": "y domain"
         }
        ],
        "shapes": [
         {
          "fillcolor": "green",
          "line": {
           "width": 0
          },
          "opacity": 0.1,
          "type": "rect",
          "x0": 0.5,
          "x1": 15.5,
          "xref": "x",
          "y0": 0,
          "y1": 1,
          "yref": "y domain"
         },
         {
          "fillcolor": "red",
          "line": {
           "width": 0
          },
          "opacity": 0.1,
          "type": "rect",
          "x0": 15.5,
          "x1": 37.5,
          "xref": "x",
          "y0": 0,
          "y1": 1,
          "yref": "y domain"
         },
         {
          "fillcolor": "yellow",
          "line": {
           "width": 0
          },
          "opacity": 0.1,
          "type": "rect",
          "x0": 37.5,
          "x1": 60.5,
          "xref": "x",
          "y0": 0,
          "y1": 1,
          "yref": "y domain"
         },
         {
          "fillcolor": "blue",
          "line": {
           "width": 0
          },
          "opacity": 0.1,
          "type": "rect",
          "x0": 60.5,
          "x1": 74.5,
          "xref": "x",
          "y0": 0,
          "y1": 1,
          "yref": "y domain"
         },
         {
          "fillcolor": "orange",
          "line": {
           "width": 0
          },
          "opacity": 0.1,
          "type": "rect",
          "x0": 74.5,
          "x1": 90.5,
          "xref": "x",
          "y0": 0,
          "y1": 1,
          "yref": "y domain"
         },
         {
          "fillcolor": "green",
          "line": {
           "width": 0
          },
          "opacity": 0.1,
          "type": "rect",
          "x0": 90.5,
          "x1": 110.5,
          "xref": "x",
          "y0": 0,
          "y1": 1,
          "yref": "y domain"
         }
        ],
        "template": {
         "data": {
          "bar": [
           {
            "error_x": {
             "color": "#2a3f5f"
            },
            "error_y": {
             "color": "#2a3f5f"
            },
            "marker": {
             "line": {
              "color": "#E5ECF6",
              "width": 0.5
             },
             "pattern": {
              "fillmode": "overlay",
              "size": 10,
              "solidity": 0.2
             }
            },
            "type": "bar"
           }
          ],
          "barpolar": [
           {
            "marker": {
             "line": {
              "color": "#E5ECF6",
              "width": 0.5
             },
             "pattern": {
              "fillmode": "overlay",
              "size": 10,
              "solidity": 0.2
             }
            },
            "type": "barpolar"
           }
          ],
          "carpet": [
           {
            "aaxis": {
             "endlinecolor": "#2a3f5f",
             "gridcolor": "white",
             "linecolor": "white",
             "minorgridcolor": "white",
             "startlinecolor": "#2a3f5f"
            },
            "baxis": {
             "endlinecolor": "#2a3f5f",
             "gridcolor": "white",
             "linecolor": "white",
             "minorgridcolor": "white",
             "startlinecolor": "#2a3f5f"
            },
            "type": "carpet"
           }
          ],
          "choropleth": [
           {
            "colorbar": {
             "outlinewidth": 0,
             "ticks": ""
            },
            "type": "choropleth"
           }
          ],
          "contour": [
           {
            "colorbar": {
             "outlinewidth": 0,
             "ticks": ""
            },
            "colorscale": [
             [
              0,
              "#0d0887"
             ],
             [
              0.1111111111111111,
              "#46039f"
             ],
             [
              0.2222222222222222,
              "#7201a8"
             ],
             [
              0.3333333333333333,
              "#9c179e"
             ],
             [
              0.4444444444444444,
              "#bd3786"
             ],
             [
              0.5555555555555556,
              "#d8576b"
             ],
             [
              0.6666666666666666,
              "#ed7953"
             ],
             [
              0.7777777777777778,
              "#fb9f3a"
             ],
             [
              0.8888888888888888,
              "#fdca26"
             ],
             [
              1,
              "#f0f921"
             ]
            ],
            "type": "contour"
           }
          ],
          "contourcarpet": [
           {
            "colorbar": {
             "outlinewidth": 0,
             "ticks": ""
            },
            "type": "contourcarpet"
           }
          ],
          "heatmap": [
           {
            "colorbar": {
             "outlinewidth": 0,
             "ticks": ""
            },
            "colorscale": [
             [
              0,
              "#0d0887"
             ],
             [
              0.1111111111111111,
              "#46039f"
             ],
             [
              0.2222222222222222,
              "#7201a8"
             ],
             [
              0.3333333333333333,
              "#9c179e"
             ],
             [
              0.4444444444444444,
              "#bd3786"
             ],
             [
              0.5555555555555556,
              "#d8576b"
             ],
             [
              0.6666666666666666,
              "#ed7953"
             ],
             [
              0.7777777777777778,
              "#fb9f3a"
             ],
             [
              0.8888888888888888,
              "#fdca26"
             ],
             [
              1,
              "#f0f921"
             ]
            ],
            "type": "heatmap"
           }
          ],
          "heatmapgl": [
           {
            "colorbar": {
             "outlinewidth": 0,
             "ticks": ""
            },
            "colorscale": [
             [
              0,
              "#0d0887"
             ],
             [
              0.1111111111111111,
              "#46039f"
             ],
             [
              0.2222222222222222,
              "#7201a8"
             ],
             [
              0.3333333333333333,
              "#9c179e"
             ],
             [
              0.4444444444444444,
              "#bd3786"
             ],
             [
              0.5555555555555556,
              "#d8576b"
             ],
             [
              0.6666666666666666,
              "#ed7953"
             ],
             [
              0.7777777777777778,
              "#fb9f3a"
             ],
             [
              0.8888888888888888,
              "#fdca26"
             ],
             [
              1,
              "#f0f921"
             ]
            ],
            "type": "heatmapgl"
           }
          ],
          "histogram": [
           {
            "marker": {
             "pattern": {
              "fillmode": "overlay",
              "size": 10,
              "solidity": 0.2
             }
            },
            "type": "histogram"
           }
          ],
          "histogram2d": [
           {
            "colorbar": {
             "outlinewidth": 0,
             "ticks": ""
            },
            "colorscale": [
             [
              0,
              "#0d0887"
             ],
             [
              0.1111111111111111,
              "#46039f"
             ],
             [
              0.2222222222222222,
              "#7201a8"
             ],
             [
              0.3333333333333333,
              "#9c179e"
             ],
             [
              0.4444444444444444,
              "#bd3786"
             ],
             [
              0.5555555555555556,
              "#d8576b"
             ],
             [
              0.6666666666666666,
              "#ed7953"
             ],
             [
              0.7777777777777778,
              "#fb9f3a"
             ],
             [
              0.8888888888888888,
              "#fdca26"
             ],
             [
              1,
              "#f0f921"
             ]
            ],
            "type": "histogram2d"
           }
          ],
          "histogram2dcontour": [
           {
            "colorbar": {
             "outlinewidth": 0,
             "ticks": ""
            },
            "colorscale": [
             [
              0,
              "#0d0887"
             ],
             [
              0.1111111111111111,
              "#46039f"
             ],
             [
              0.2222222222222222,
              "#7201a8"
             ],
             [
              0.3333333333333333,
              "#9c179e"
             ],
             [
              0.4444444444444444,
              "#bd3786"
             ],
             [
              0.5555555555555556,
              "#d8576b"
             ],
             [
              0.6666666666666666,
              "#ed7953"
             ],
             [
              0.7777777777777778,
              "#fb9f3a"
             ],
             [
              0.8888888888888888,
              "#fdca26"
             ],
             [
              1,
              "#f0f921"
             ]
            ],
            "type": "histogram2dcontour"
           }
          ],
          "mesh3d": [
           {
            "colorbar": {
             "outlinewidth": 0,
             "ticks": ""
            },
            "type": "mesh3d"
           }
          ],
          "parcoords": [
           {
            "line": {
             "colorbar": {
              "outlinewidth": 0,
              "ticks": ""
             }
            },
            "type": "parcoords"
           }
          ],
          "pie": [
           {
            "automargin": true,
            "type": "pie"
           }
          ],
          "scatter": [
           {
            "fillpattern": {
             "fillmode": "overlay",
             "size": 10,
             "solidity": 0.2
            },
            "type": "scatter"
           }
          ],
          "scatter3d": [
           {
            "line": {
             "colorbar": {
              "outlinewidth": 0,
              "ticks": ""
             }
            },
            "marker": {
             "colorbar": {
              "outlinewidth": 0,
              "ticks": ""
             }
            },
            "type": "scatter3d"
           }
          ],
          "scattercarpet": [
           {
            "marker": {
             "colorbar": {
              "outlinewidth": 0,
              "ticks": ""
             }
            },
            "type": "scattercarpet"
           }
          ],
          "scattergeo": [
           {
            "marker": {
             "colorbar": {
              "outlinewidth": 0,
              "ticks": ""
             }
            },
            "type": "scattergeo"
           }
          ],
          "scattergl": [
           {
            "marker": {
             "colorbar": {
              "outlinewidth": 0,
              "ticks": ""
             }
            },
            "type": "scattergl"
           }
          ],
          "scattermapbox": [
           {
            "marker": {
             "colorbar": {
              "outlinewidth": 0,
              "ticks": ""
             }
            },
            "type": "scattermapbox"
           }
          ],
          "scatterpolar": [
           {
            "marker": {
             "colorbar": {
              "outlinewidth": 0,
              "ticks": ""
             }
            },
            "type": "scatterpolar"
           }
          ],
          "scatterpolargl": [
           {
            "marker": {
             "colorbar": {
              "outlinewidth": 0,
              "ticks": ""
             }
            },
            "type": "scatterpolargl"
           }
          ],
          "scatterternary": [
           {
            "marker": {
             "colorbar": {
              "outlinewidth": 0,
              "ticks": ""
             }
            },
            "type": "scatterternary"
           }
          ],
          "surface": [
           {
            "colorbar": {
             "outlinewidth": 0,
             "ticks": ""
            },
            "colorscale": [
             [
              0,
              "#0d0887"
             ],
             [
              0.1111111111111111,
              "#46039f"
             ],
             [
              0.2222222222222222,
              "#7201a8"
             ],
             [
              0.3333333333333333,
              "#9c179e"
             ],
             [
              0.4444444444444444,
              "#bd3786"
             ],
             [
              0.5555555555555556,
              "#d8576b"
             ],
             [
              0.6666666666666666,
              "#ed7953"
             ],
             [
              0.7777777777777778,
              "#fb9f3a"
             ],
             [
              0.8888888888888888,
              "#fdca26"
             ],
             [
              1,
              "#f0f921"
             ]
            ],
            "type": "surface"
           }
          ],
          "table": [
           {
            "cells": {
             "fill": {
              "color": "#EBF0F8"
             },
             "line": {
              "color": "white"
             }
            },
            "header": {
             "fill": {
              "color": "#C8D4E3"
             },
             "line": {
              "color": "white"
             }
            },
            "type": "table"
           }
          ]
         },
         "layout": {
          "annotationdefaults": {
           "arrowcolor": "#2a3f5f",
           "arrowhead": 0,
           "arrowwidth": 1
          },
          "autotypenumbers": "strict",
          "coloraxis": {
           "colorbar": {
            "outlinewidth": 0,
            "ticks": ""
           }
          },
          "colorscale": {
           "diverging": [
            [
             0,
             "#8e0152"
            ],
            [
             0.1,
             "#c51b7d"
            ],
            [
             0.2,
             "#de77ae"
            ],
            [
             0.3,
             "#f1b6da"
            ],
            [
             0.4,
             "#fde0ef"
            ],
            [
             0.5,
             "#f7f7f7"
            ],
            [
             0.6,
             "#e6f5d0"
            ],
            [
             0.7,
             "#b8e186"
            ],
            [
             0.8,
             "#7fbc41"
            ],
            [
             0.9,
             "#4d9221"
            ],
            [
             1,
             "#276419"
            ]
           ],
           "sequential": [
            [
             0,
             "#0d0887"
            ],
            [
             0.1111111111111111,
             "#46039f"
            ],
            [
             0.2222222222222222,
             "#7201a8"
            ],
            [
             0.3333333333333333,
             "#9c179e"
            ],
            [
             0.4444444444444444,
             "#bd3786"
            ],
            [
             0.5555555555555556,
             "#d8576b"
            ],
            [
             0.6666666666666666,
             "#ed7953"
            ],
            [
             0.7777777777777778,
             "#fb9f3a"
            ],
            [
             0.8888888888888888,
             "#fdca26"
            ],
            [
             1,
             "#f0f921"
            ]
           ],
           "sequentialminus": [
            [
             0,
             "#0d0887"
            ],
            [
             0.1111111111111111,
             "#46039f"
            ],
            [
             0.2222222222222222,
             "#7201a8"
            ],
            [
             0.3333333333333333,
             "#9c179e"
            ],
            [
             0.4444444444444444,
             "#bd3786"
            ],
            [
             0.5555555555555556,
             "#d8576b"
            ],
            [
             0.6666666666666666,
             "#ed7953"
            ],
            [
             0.7777777777777778,
             "#fb9f3a"
            ],
            [
             0.8888888888888888,
             "#fdca26"
            ],
            [
             1,
             "#f0f921"
            ]
           ]
          },
          "colorway": [
           "#636efa",
           "#EF553B",
           "#00cc96",
           "#ab63fa",
           "#FFA15A",
           "#19d3f3",
           "#FF6692",
           "#B6E880",
           "#FF97FF",
           "#FECB52"
          ],
          "font": {
           "color": "#2a3f5f"
          },
          "geo": {
           "bgcolor": "white",
           "lakecolor": "white",
           "landcolor": "#E5ECF6",
           "showlakes": true,
           "showland": true,
           "subunitcolor": "white"
          },
          "hoverlabel": {
           "align": "left"
          },
          "hovermode": "closest",
          "mapbox": {
           "style": "light"
          },
          "paper_bgcolor": "white",
          "plot_bgcolor": "#E5ECF6",
          "polar": {
           "angularaxis": {
            "gridcolor": "white",
            "linecolor": "white",
            "ticks": ""
           },
           "bgcolor": "#E5ECF6",
           "radialaxis": {
            "gridcolor": "white",
            "linecolor": "white",
            "ticks": ""
           }
          },
          "scene": {
           "xaxis": {
            "backgroundcolor": "#E5ECF6",
            "gridcolor": "white",
            "gridwidth": 2,
            "linecolor": "white",
            "showbackground": true,
            "ticks": "",
            "zerolinecolor": "white"
           },
           "yaxis": {
            "backgroundcolor": "#E5ECF6",
            "gridcolor": "white",
            "gridwidth": 2,
            "linecolor": "white",
            "showbackground": true,
            "ticks": "",
            "zerolinecolor": "white"
           },
           "zaxis": {
            "backgroundcolor": "#E5ECF6",
            "gridcolor": "white",
            "gridwidth": 2,
            "linecolor": "white",
            "showbackground": true,
            "ticks": "",
            "zerolinecolor": "white"
           }
          },
          "shapedefaults": {
           "line": {
            "color": "#2a3f5f"
           }
          },
          "ternary": {
           "aaxis": {
            "gridcolor": "white",
            "linecolor": "white",
            "ticks": ""
           },
           "baxis": {
            "gridcolor": "white",
            "linecolor": "white",
            "ticks": ""
           },
           "bgcolor": "#E5ECF6",
           "caxis": {
            "gridcolor": "white",
            "linecolor": "white",
            "ticks": ""
           }
          },
          "title": {
           "x": 0.05
          },
          "xaxis": {
           "automargin": true,
           "gridcolor": "white",
           "linecolor": "white",
           "ticks": "",
           "title": {
            "standoff": 15
           },
           "zerolinecolor": "white",
           "zerolinewidth": 2
          },
          "yaxis": {
           "automargin": true,
           "gridcolor": "white",
           "linecolor": "white",
           "ticks": "",
           "title": {
            "standoff": 15
           },
           "zerolinecolor": "white",
           "zerolinewidth": 2
          }
         }
        },
        "title": {
         "text": "<b>Pokémon Showdown ELO Rating System by Roman Ramirez</b><br><i>Updated Saturday, Feb 17, 2024 22:07:53 CT</i><br><a href='https://htmlpreview.github.io/?https://github.com/notromanramirez/dgn_showdown/blob/main/figures/fig1.html'>H2H Stats</a>, <a href='https://htmlpreview.github.io/?https://github.com/notromanramirez/dgn_showdown/blob/main/figures/fig2.html'>H2H Advanced Stats</a>, <a href='https://htmlpreview.github.io/?https://github.com/notromanramirez/dgn_showdown/blob/main/figures/fig3.html'>H2H More Stats</a>, <a href='https://htmlpreview.github.io/?https://github.com/notromanramirez/dgn_showdown/blob/main/figures/fig4.html'>Player Data</a>, <a href='https://htmlpreview.github.io/?https://github.com/notromanramirez/dgn_showdown/blob/main/figures/fig5.html'>Matches Data</a>, <a href='https://htmlpreview.github.io/?https://github.com/notromanramirez/dgn_showdown/blob/main/figures/fig6.html'>Money-Lines</a>"
        },
        "xaxis": {
         "title": {
          "text": "<b>Game Number</b>"
         }
        },
        "yaxis": {
         "title": {
          "text": "<b>ELO Rating</b>"
         }
        }
       }
      }
     },
     "metadata": {},
     "output_type": "display_data"
    }
   ],
   "source": [
    "import plotly.graph_objects as go\n",
    "import plotly.colors as pc\n",
    "\n",
    "fig = go.Figure()\n",
    "\n",
    "# adding player\n",
    "ranking = 1\n",
    "trace_colors = pc.qualitative.Bold\n",
    "for (i, (player, current_rating)) in enumerate(sorted(elo.items(), key=lambda x:x[1], reverse=True)):\n",
    "    fig.add_trace(go.Scatter(\n",
    "        x=elo_time_table.index,\n",
    "        y=elo_time_table[player],\n",
    "        name=f'#{ranking} ({current_rating:.0f}) {player}',\n",
    "        mode='lines+markers',\n",
    "        connectgaps=True,\n",
    "        text=[\n",
    "            f\"<br><b>Pre-Game ELO: </b>{x[1]:.0f}<br><b>Win Probability: </b>{x[0]:.1%}<br><br><b>Change in ELO:</b> {x[2]:+.0f}<br>\" for x in zip(\n",
    "                exp_elo_time_table[player],\n",
    "                prev_elo_time_table[player],\n",
    "                d_elo_time_table[player]\n",
    "            )\n",
    "        ],\n",
    "        line=dict(\n",
    "            shape='hv',\n",
    "            color=trace_colors[i % len(trace_colors)]\n",
    "        )\n",
    "    ))\n",
    "    ranking += 1\n",
    "\n",
    "# adding highlighting by tournament\n",
    "tournaments = list(sorted(set(matches_table['Date'])))\n",
    "vrect_colors = ['green', 'red', 'yellow', 'blue', 'orange']\n",
    "for (i, tourney) in enumerate(tournaments):\n",
    "    fig.add_vrect(\n",
    "        annotation_text=tourney,\n",
    "        annotation_position=\"top left\",\n",
    "        x0=matches_table['Date'][matches_table['Date'] == tourney].index[0] + 0.5,\n",
    "        x1=matches_table['Date'][matches_table['Date'] == tourney].index[-1] + 1.5,\n",
    "        fillcolor=vrect_colors[i % len(vrect_colors)],\n",
    "        opacity=0.1,\n",
    "        line_width=0\n",
    "    )\n",
    "\n",
    "fig.update_layout(\n",
    "    title=f'<b>Pokémon Showdown ELO Rating System by Roman Ramirez</b><br>{updated_time}<br>{link_fig1}, {link_fig2}, {link_fig3}, {link_fig4}, {link_fig5}, {link_fig6}',\n",
    "    xaxis_title='<b>Game Number</b>',\n",
    "    yaxis_title='<b>ELO Rating</b>'\n",
    ")\n",
    "\n",
    "customdata = np.stack((\n",
    "        list(matches_table['Player 1']),\n",
    "        list(matches_table['Player 2']),\n",
    "        list(matches_table['Score 1']),\n",
    "        list(matches_table['Score 2']),\n",
    "        matches_table['Date'],\n",
    "        list(matches_table['Format']),\n",
    "        list(matches_table['Match Number'])\n",
    "    ), axis=-1)\n",
    "hovertemplate = (\n",
    "    '<i>%{customdata[4]|%A, %B %d, %Y}, Game %{x}</i><br>' +\n",
    "    '<b>%{fullData.name}</b><br><br>' + \n",
    "    '<b>Format:</b> %{customdata[5]}<br>' + \n",
    "    '<b>Tournament Match:</b> %{customdata[6]}<br><br>' + \n",
    "    '<b>%{customdata[0]} vs. %{customdata[1]}</b><br>' +\n",
    "    '<b>Final Score:</b> %{customdata[2]}-%{customdata[3]}<br>' + \n",
    "    '%{text}' + \n",
    "    '<b>Post-Game ELO:</b> %{y:,.0f}<br>' +\n",
    "    '<extra></extra>'\n",
    ")\n",
    "\n",
    "fig.update_traces(\n",
    "    customdata=customdata,\n",
    "    hovertemplate=hovertemplate,\n",
    "    opacity=0.8,\n",
    "    legendgrouptitle_text='<b>#<i>Rank</i> (<i>Current ELO</i>) <i>Player</i></b>'\n",
    ")\n",
    "\n",
    "fig.show()\n",
    "fig.write_html(\"index.html\")"
   ]
  },
  {
   "cell_type": "code",
   "execution_count": 12,
   "metadata": {},
   "outputs": [
    {
     "data": {
      "text/html": [
       "<div>\n",
       "<style scoped>\n",
       "    .dataframe tbody tr th:only-of-type {\n",
       "        vertical-align: middle;\n",
       "    }\n",
       "\n",
       "    .dataframe tbody tr th {\n",
       "        vertical-align: top;\n",
       "    }\n",
       "\n",
       "    .dataframe thead th {\n",
       "        text-align: right;\n",
       "    }\n",
       "</style>\n",
       "<table border=\"1\" class=\"dataframe\">\n",
       "  <thead>\n",
       "    <tr style=\"text-align: right;\">\n",
       "      <th></th>\n",
       "      <th>Paul Bartenfeld</th>\n",
       "      <th>Evan Sooklal</th>\n",
       "      <th>Roman Ramirez</th>\n",
       "      <th>Jack Massingill</th>\n",
       "      <th>Will Simpson</th>\n",
       "      <th>Aaron Carter</th>\n",
       "    </tr>\n",
       "  </thead>\n",
       "  <tbody>\n",
       "    <tr>\n",
       "      <th>Paul Bartenfeld</th>\n",
       "      <td>[0, 0]</td>\n",
       "      <td>[1, 5]</td>\n",
       "      <td>[2, 4]</td>\n",
       "      <td>[0, 0]</td>\n",
       "      <td>[0, 6]</td>\n",
       "      <td>[1, 3]</td>\n",
       "    </tr>\n",
       "    <tr>\n",
       "      <th>Evan Sooklal</th>\n",
       "      <td>[5, 1]</td>\n",
       "      <td>[0, 0]</td>\n",
       "      <td>[9, 4]</td>\n",
       "      <td>[1, 1]</td>\n",
       "      <td>[3, 11]</td>\n",
       "      <td>[4, 9]</td>\n",
       "    </tr>\n",
       "    <tr>\n",
       "      <th>Roman Ramirez</th>\n",
       "      <td>[4, 2]</td>\n",
       "      <td>[4, 9]</td>\n",
       "      <td>[0, 0]</td>\n",
       "      <td>[1, 1]</td>\n",
       "      <td>[7, 8]</td>\n",
       "      <td>[3, 8]</td>\n",
       "    </tr>\n",
       "    <tr>\n",
       "      <th>Jack Massingill</th>\n",
       "      <td>[0, 0]</td>\n",
       "      <td>[1, 1]</td>\n",
       "      <td>[1, 1]</td>\n",
       "      <td>[0, 0]</td>\n",
       "      <td>[1, 1]</td>\n",
       "      <td>[1, 1]</td>\n",
       "    </tr>\n",
       "    <tr>\n",
       "      <th>Will Simpson</th>\n",
       "      <td>[6, 0]</td>\n",
       "      <td>[11, 3]</td>\n",
       "      <td>[8, 7]</td>\n",
       "      <td>[1, 1]</td>\n",
       "      <td>[0, 0]</td>\n",
       "      <td>[5, 9]</td>\n",
       "    </tr>\n",
       "    <tr>\n",
       "      <th>Aaron Carter</th>\n",
       "      <td>[3, 1]</td>\n",
       "      <td>[9, 4]</td>\n",
       "      <td>[8, 3]</td>\n",
       "      <td>[1, 1]</td>\n",
       "      <td>[9, 5]</td>\n",
       "      <td>[0, 0]</td>\n",
       "    </tr>\n",
       "  </tbody>\n",
       "</table>\n",
       "</div>"
      ],
      "text/plain": [
       "                Paul Bartenfeld Evan Sooklal Roman Ramirez Jack Massingill  \\\n",
       "Paul Bartenfeld          [0, 0]       [1, 5]        [2, 4]          [0, 0]   \n",
       "Evan Sooklal             [5, 1]       [0, 0]        [9, 4]          [1, 1]   \n",
       "Roman Ramirez            [4, 2]       [4, 9]        [0, 0]          [1, 1]   \n",
       "Jack Massingill          [0, 0]       [1, 1]        [1, 1]          [0, 0]   \n",
       "Will Simpson             [6, 0]      [11, 3]        [8, 7]          [1, 1]   \n",
       "Aaron Carter             [3, 1]       [9, 4]        [8, 3]          [1, 1]   \n",
       "\n",
       "                Will Simpson Aaron Carter  \n",
       "Paul Bartenfeld       [0, 6]       [1, 3]  \n",
       "Evan Sooklal         [3, 11]       [4, 9]  \n",
       "Roman Ramirez         [7, 8]       [3, 8]  \n",
       "Jack Massingill       [1, 1]       [1, 1]  \n",
       "Will Simpson          [0, 0]       [5, 9]  \n",
       "Aaron Carter          [9, 5]       [0, 0]  "
      ]
     },
     "execution_count": 12,
     "metadata": {},
     "output_type": "execute_result"
    }
   ],
   "source": []
  },
  {
   "cell_type": "code",
   "execution_count": 15,
   "metadata": {},
   "outputs": [],
   "source": [
    "# historical table, with record_table\n",
    "win_pct_table = record_table.copy(deep=True)\n",
    "text_record_table = record_table.copy(deep=True)\n",
    "\n",
    "for c in win_pct_table.columns:\n",
    "    for r in win_pct_table.index:\n",
    "        if c == r:\n",
    "            win_pct_table.loc[r, c] = np.NaN\n",
    "            text_record_table.loc[r, c] = \"\"\n",
    "        else:\n",
    "            w, l = win_pct_table.loc[r, c]\n",
    "            w_pct = (w) / (w + l) if (w + l) != 0 else 0\n",
    "            win_pct_table.loc[r, c] = w_pct\n",
    "            text_record_table.loc[r, c] = f\"{w}-{l}<br>{w_pct:,.1%}\"\n",
    "\n",
    "\n",
    "for c in record_table.columns:\n",
    "    for r in record_table.index:\n",
    "        if sum(record_table.loc[r, c]) == 0:\n",
    "            text_record_table.loc[r, c] = \"\"\n",
    "            win_pct_table.loc[r, c] = np.NaN\n",
    "\n",
    "win_prob_table = pd.DataFrame(np.zeros([len(set_players), len(set_players)]), dtype=object)\n",
    "win_prob_table.columns = set_players\n",
    "win_prob_table.index = set_players\n",
    "sort_index_by_elo(win_prob_table, elo)\n",
    "\n",
    "for c in win_prob_table.columns:\n",
    "    for r in win_prob_table.index:\n",
    "            if r != c:\n",
    "                win_prob_table.loc[r, c] = expected_score(elo[r], elo[c], base=base)\n",
    "            else:\n",
    "                win_prob_table.loc[r, c] = np.NaN\n"
   ]
  },
  {
   "cell_type": "code",
   "execution_count": 16,
   "metadata": {},
   "outputs": [
    {
     "data": {
      "application/vnd.plotly.v1+json": {
       "config": {
        "plotlyServerURL": "https://plot.ly"
       },
       "data": [
        {
         "colorscale": [
          [
           0,
           "rgb(5,48,97)"
          ],
          [
           0.1,
           "rgb(33,102,172)"
          ],
          [
           0.2,
           "rgb(67,147,195)"
          ],
          [
           0.3,
           "rgb(146,197,222)"
          ],
          [
           0.4,
           "rgb(209,229,240)"
          ],
          [
           0.5,
           "rgb(247,247,247)"
          ],
          [
           0.6,
           "rgb(253,219,199)"
          ],
          [
           0.7,
           "rgb(244,165,130)"
          ],
          [
           0.8,
           "rgb(214,96,77)"
          ],
          [
           0.9,
           "rgb(178,24,43)"
          ],
          [
           1,
           "rgb(103,0,31)"
          ]
         ],
         "hoverinfo": "skip",
         "hoverongaps": false,
         "text": [
          [
           "",
           "1-5<br>16.7%",
           "2-4<br>33.3%",
           "",
           "0-6<br>0.0%",
           "1-3<br>25.0%"
          ],
          [
           "5-1<br>83.3%",
           "",
           "9-4<br>69.2%",
           "1-1<br>50.0%",
           "3-11<br>21.4%",
           "4-9<br>30.8%"
          ],
          [
           "4-2<br>66.7%",
           "4-9<br>30.8%",
           "",
           "1-1<br>50.0%",
           "7-8<br>46.7%",
           "3-8<br>27.3%"
          ],
          [
           "",
           "1-1<br>50.0%",
           "1-1<br>50.0%",
           "",
           "1-1<br>50.0%",
           "1-1<br>50.0%"
          ],
          [
           "6-0<br>100.0%",
           "11-3<br>78.6%",
           "8-7<br>53.3%",
           "1-1<br>50.0%",
           "",
           "5-9<br>35.7%"
          ],
          [
           "3-1<br>75.0%",
           "9-4<br>69.2%",
           "8-3<br>72.7%",
           "1-1<br>50.0%",
           "9-5<br>64.3%",
           ""
          ]
         ],
         "texttemplate": "%{text}",
         "type": "heatmap",
         "x": [
          "Paul<br>Bartenfeld",
          "Evan<br>Sooklal",
          "Roman<br>Ramirez",
          "Jack<br>Massingill",
          "Will<br>Simpson",
          "Aaron<br>Carter"
         ],
         "xaxis": "x",
         "y": [
          "Paul<br>Bartenfeld",
          "Evan<br>Sooklal",
          "Roman<br>Ramirez",
          "Jack<br>Massingill",
          "Will<br>Simpson",
          "Aaron<br>Carter"
         ],
         "yaxis": "y",
         "z": [
          [
           null,
           0.16666666666666666,
           0.3333333333333333,
           null,
           0,
           0.25
          ],
          [
           0.8333333333333334,
           null,
           0.6923076923076923,
           0.5,
           0.21428571428571427,
           0.3076923076923077
          ],
          [
           0.6666666666666666,
           0.3076923076923077,
           null,
           0.5,
           0.4666666666666667,
           0.2727272727272727
          ],
          [
           null,
           0.5,
           0.5,
           null,
           0.5,
           0.5
          ],
          [
           1,
           0.7857142857142857,
           0.5333333333333333,
           0.5,
           null,
           0.35714285714285715
          ],
          [
           0.75,
           0.6923076923076923,
           0.7272727272727273,
           0.5,
           0.6428571428571429,
           null
          ]
         ],
         "zmax": 1,
         "zmid": 0.5,
         "zmin": 0
        },
        {
         "colorscale": [
          [
           0,
           "rgb(5,48,97)"
          ],
          [
           0.1,
           "rgb(33,102,172)"
          ],
          [
           0.2,
           "rgb(67,147,195)"
          ],
          [
           0.3,
           "rgb(146,197,222)"
          ],
          [
           0.4,
           "rgb(209,229,240)"
          ],
          [
           0.5,
           "rgb(247,247,247)"
          ],
          [
           0.6,
           "rgb(253,219,199)"
          ],
          [
           0.7,
           "rgb(244,165,130)"
          ],
          [
           0.8,
           "rgb(214,96,77)"
          ],
          [
           0.9,
           "rgb(178,24,43)"
          ],
          [
           1,
           "rgb(103,0,31)"
          ]
         ],
         "hoverinfo": "skip",
         "hoverongaps": false,
         "text": [
          [
           "",
           "25.1%",
           "24.1%",
           "21.1%",
           "16.7%",
           "13.0%"
          ],
          [
           "74.9%",
           "",
           "48.7%",
           "44.4%",
           "37.5%",
           "31.0%"
          ],
          [
           "75.9%",
           "51.3%",
           "",
           "45.7%",
           "38.7%",
           "32.0%"
          ],
          [
           "78.9%",
           "55.6%",
           "54.3%",
           "",
           "42.9%",
           "35.9%"
          ],
          [
           "83.3%",
           "62.5%",
           "61.3%",
           "57.1%",
           "",
           "42.7%"
          ],
          [
           "87.0%",
           "69.0%",
           "68.0%",
           "64.1%",
           "57.3%",
           ""
          ]
         ],
         "texttemplate": "%{text}",
         "type": "heatmap",
         "x": [
          "Paul<br>Bartenfeld",
          "Evan<br>Sooklal",
          "Roman<br>Ramirez",
          "Jack<br>Massingill",
          "Will<br>Simpson",
          "Aaron<br>Carter"
         ],
         "xaxis": "x2",
         "y": [
          "Paul<br>Bartenfeld",
          "Evan<br>Sooklal",
          "Roman<br>Ramirez",
          "Jack<br>Massingill",
          "Will<br>Simpson",
          "Aaron<br>Carter"
         ],
         "yaxis": "y2",
         "z": [
          [
           null,
           0.25060593069927706,
           0.24120372305772128,
           0.21107806748847494,
           0.16718197963543774,
           0.13035433232704763
          ],
          [
           0.7493940693007229,
           null,
           0.48732567393718773,
           0.4444660488896585,
           0.37511172153869365,
           0.3095024941540837
          ],
          [
           0.7587962769422787,
           0.5126743260628123,
           null,
           0.45701936634742807,
           0.38707103798573095,
           0.32044270795965535
          ],
          [
           0.7889219325115251,
           0.5555339511103415,
           0.5429806336525719,
           null,
           0.4286667338957558,
           0.3590729307705838
          ],
          [
           0.8328180203645622,
           0.6248882784613063,
           0.6129289620142689,
           0.5713332661042442,
           null,
           0.4274905065753997
          ],
          [
           0.8696456676729524,
           0.6904975058459163,
           0.6795572920403447,
           0.6409270692294162,
           0.5725094934246002,
           null
          ]
         ],
         "zmax": 1,
         "zmid": 0.5,
         "zmin": 0
        }
       ],
       "layout": {
        "annotations": [
         {
          "font": {
           "size": 16
          },
          "showarrow": false,
          "text": "<b>Historical Win Percentage</b>",
          "x": 0.225,
          "xanchor": "center",
          "xref": "paper",
          "y": 1,
          "yanchor": "bottom",
          "yref": "paper"
         },
         {
          "font": {
           "size": 16
          },
          "showarrow": false,
          "text": "<b>Current Matchup Predictor</b>",
          "x": 0.775,
          "xanchor": "center",
          "xref": "paper",
          "y": 1,
          "yanchor": "bottom",
          "yref": "paper"
         },
         {
          "font": {
           "size": 16
          },
          "showarrow": false,
          "text": "<a href='https://htmlpreview.github.io/?https://github.com/notromanramirez/dgn_showdown/blob/main/index.html'>ELO Graph</a>, <a href='https://htmlpreview.github.io/?https://github.com/notromanramirez/dgn_showdown/blob/main/figures/fig2.html'>H2H Advanced Stats</a>, <a href='https://htmlpreview.github.io/?https://github.com/notromanramirez/dgn_showdown/blob/main/figures/fig3.html'>H2H More Stats</a>, <a href='https://htmlpreview.github.io/?https://github.com/notromanramirez/dgn_showdown/blob/main/figures/fig4.html'>Player Data</a>, <a href='https://htmlpreview.github.io/?https://github.com/notromanramirez/dgn_showdown/blob/main/figures/fig5.html'>Matches Data</a>, <a href='https://htmlpreview.github.io/?https://github.com/notromanramirez/dgn_showdown/blob/main/figures/fig6.html'>Money-Lines</a>",
          "x": 0.5,
          "xanchor": "center",
          "xref": "paper",
          "y": 0,
          "yanchor": "top",
          "yref": "paper",
          "yshift": -30
         }
        ],
        "template": {
         "data": {
          "bar": [
           {
            "error_x": {
             "color": "#2a3f5f"
            },
            "error_y": {
             "color": "#2a3f5f"
            },
            "marker": {
             "line": {
              "color": "#E5ECF6",
              "width": 0.5
             },
             "pattern": {
              "fillmode": "overlay",
              "size": 10,
              "solidity": 0.2
             }
            },
            "type": "bar"
           }
          ],
          "barpolar": [
           {
            "marker": {
             "line": {
              "color": "#E5ECF6",
              "width": 0.5
             },
             "pattern": {
              "fillmode": "overlay",
              "size": 10,
              "solidity": 0.2
             }
            },
            "type": "barpolar"
           }
          ],
          "carpet": [
           {
            "aaxis": {
             "endlinecolor": "#2a3f5f",
             "gridcolor": "white",
             "linecolor": "white",
             "minorgridcolor": "white",
             "startlinecolor": "#2a3f5f"
            },
            "baxis": {
             "endlinecolor": "#2a3f5f",
             "gridcolor": "white",
             "linecolor": "white",
             "minorgridcolor": "white",
             "startlinecolor": "#2a3f5f"
            },
            "type": "carpet"
           }
          ],
          "choropleth": [
           {
            "colorbar": {
             "outlinewidth": 0,
             "ticks": ""
            },
            "type": "choropleth"
           }
          ],
          "contour": [
           {
            "colorbar": {
             "outlinewidth": 0,
             "ticks": ""
            },
            "colorscale": [
             [
              0,
              "#0d0887"
             ],
             [
              0.1111111111111111,
              "#46039f"
             ],
             [
              0.2222222222222222,
              "#7201a8"
             ],
             [
              0.3333333333333333,
              "#9c179e"
             ],
             [
              0.4444444444444444,
              "#bd3786"
             ],
             [
              0.5555555555555556,
              "#d8576b"
             ],
             [
              0.6666666666666666,
              "#ed7953"
             ],
             [
              0.7777777777777778,
              "#fb9f3a"
             ],
             [
              0.8888888888888888,
              "#fdca26"
             ],
             [
              1,
              "#f0f921"
             ]
            ],
            "type": "contour"
           }
          ],
          "contourcarpet": [
           {
            "colorbar": {
             "outlinewidth": 0,
             "ticks": ""
            },
            "type": "contourcarpet"
           }
          ],
          "heatmap": [
           {
            "colorbar": {
             "outlinewidth": 0,
             "ticks": ""
            },
            "colorscale": [
             [
              0,
              "#0d0887"
             ],
             [
              0.1111111111111111,
              "#46039f"
             ],
             [
              0.2222222222222222,
              "#7201a8"
             ],
             [
              0.3333333333333333,
              "#9c179e"
             ],
             [
              0.4444444444444444,
              "#bd3786"
             ],
             [
              0.5555555555555556,
              "#d8576b"
             ],
             [
              0.6666666666666666,
              "#ed7953"
             ],
             [
              0.7777777777777778,
              "#fb9f3a"
             ],
             [
              0.8888888888888888,
              "#fdca26"
             ],
             [
              1,
              "#f0f921"
             ]
            ],
            "type": "heatmap"
           }
          ],
          "heatmapgl": [
           {
            "colorbar": {
             "outlinewidth": 0,
             "ticks": ""
            },
            "colorscale": [
             [
              0,
              "#0d0887"
             ],
             [
              0.1111111111111111,
              "#46039f"
             ],
             [
              0.2222222222222222,
              "#7201a8"
             ],
             [
              0.3333333333333333,
              "#9c179e"
             ],
             [
              0.4444444444444444,
              "#bd3786"
             ],
             [
              0.5555555555555556,
              "#d8576b"
             ],
             [
              0.6666666666666666,
              "#ed7953"
             ],
             [
              0.7777777777777778,
              "#fb9f3a"
             ],
             [
              0.8888888888888888,
              "#fdca26"
             ],
             [
              1,
              "#f0f921"
             ]
            ],
            "type": "heatmapgl"
           }
          ],
          "histogram": [
           {
            "marker": {
             "pattern": {
              "fillmode": "overlay",
              "size": 10,
              "solidity": 0.2
             }
            },
            "type": "histogram"
           }
          ],
          "histogram2d": [
           {
            "colorbar": {
             "outlinewidth": 0,
             "ticks": ""
            },
            "colorscale": [
             [
              0,
              "#0d0887"
             ],
             [
              0.1111111111111111,
              "#46039f"
             ],
             [
              0.2222222222222222,
              "#7201a8"
             ],
             [
              0.3333333333333333,
              "#9c179e"
             ],
             [
              0.4444444444444444,
              "#bd3786"
             ],
             [
              0.5555555555555556,
              "#d8576b"
             ],
             [
              0.6666666666666666,
              "#ed7953"
             ],
             [
              0.7777777777777778,
              "#fb9f3a"
             ],
             [
              0.8888888888888888,
              "#fdca26"
             ],
             [
              1,
              "#f0f921"
             ]
            ],
            "type": "histogram2d"
           }
          ],
          "histogram2dcontour": [
           {
            "colorbar": {
             "outlinewidth": 0,
             "ticks": ""
            },
            "colorscale": [
             [
              0,
              "#0d0887"
             ],
             [
              0.1111111111111111,
              "#46039f"
             ],
             [
              0.2222222222222222,
              "#7201a8"
             ],
             [
              0.3333333333333333,
              "#9c179e"
             ],
             [
              0.4444444444444444,
              "#bd3786"
             ],
             [
              0.5555555555555556,
              "#d8576b"
             ],
             [
              0.6666666666666666,
              "#ed7953"
             ],
             [
              0.7777777777777778,
              "#fb9f3a"
             ],
             [
              0.8888888888888888,
              "#fdca26"
             ],
             [
              1,
              "#f0f921"
             ]
            ],
            "type": "histogram2dcontour"
           }
          ],
          "mesh3d": [
           {
            "colorbar": {
             "outlinewidth": 0,
             "ticks": ""
            },
            "type": "mesh3d"
           }
          ],
          "parcoords": [
           {
            "line": {
             "colorbar": {
              "outlinewidth": 0,
              "ticks": ""
             }
            },
            "type": "parcoords"
           }
          ],
          "pie": [
           {
            "automargin": true,
            "type": "pie"
           }
          ],
          "scatter": [
           {
            "fillpattern": {
             "fillmode": "overlay",
             "size": 10,
             "solidity": 0.2
            },
            "type": "scatter"
           }
          ],
          "scatter3d": [
           {
            "line": {
             "colorbar": {
              "outlinewidth": 0,
              "ticks": ""
             }
            },
            "marker": {
             "colorbar": {
              "outlinewidth": 0,
              "ticks": ""
             }
            },
            "type": "scatter3d"
           }
          ],
          "scattercarpet": [
           {
            "marker": {
             "colorbar": {
              "outlinewidth": 0,
              "ticks": ""
             }
            },
            "type": "scattercarpet"
           }
          ],
          "scattergeo": [
           {
            "marker": {
             "colorbar": {
              "outlinewidth": 0,
              "ticks": ""
             }
            },
            "type": "scattergeo"
           }
          ],
          "scattergl": [
           {
            "marker": {
             "colorbar": {
              "outlinewidth": 0,
              "ticks": ""
             }
            },
            "type": "scattergl"
           }
          ],
          "scattermapbox": [
           {
            "marker": {
             "colorbar": {
              "outlinewidth": 0,
              "ticks": ""
             }
            },
            "type": "scattermapbox"
           }
          ],
          "scatterpolar": [
           {
            "marker": {
             "colorbar": {
              "outlinewidth": 0,
              "ticks": ""
             }
            },
            "type": "scatterpolar"
           }
          ],
          "scatterpolargl": [
           {
            "marker": {
             "colorbar": {
              "outlinewidth": 0,
              "ticks": ""
             }
            },
            "type": "scatterpolargl"
           }
          ],
          "scatterternary": [
           {
            "marker": {
             "colorbar": {
              "outlinewidth": 0,
              "ticks": ""
             }
            },
            "type": "scatterternary"
           }
          ],
          "surface": [
           {
            "colorbar": {
             "outlinewidth": 0,
             "ticks": ""
            },
            "colorscale": [
             [
              0,
              "#0d0887"
             ],
             [
              0.1111111111111111,
              "#46039f"
             ],
             [
              0.2222222222222222,
              "#7201a8"
             ],
             [
              0.3333333333333333,
              "#9c179e"
             ],
             [
              0.4444444444444444,
              "#bd3786"
             ],
             [
              0.5555555555555556,
              "#d8576b"
             ],
             [
              0.6666666666666666,
              "#ed7953"
             ],
             [
              0.7777777777777778,
              "#fb9f3a"
             ],
             [
              0.8888888888888888,
              "#fdca26"
             ],
             [
              1,
              "#f0f921"
             ]
            ],
            "type": "surface"
           }
          ],
          "table": [
           {
            "cells": {
             "fill": {
              "color": "#EBF0F8"
             },
             "line": {
              "color": "white"
             }
            },
            "header": {
             "fill": {
              "color": "#C8D4E3"
             },
             "line": {
              "color": "white"
             }
            },
            "type": "table"
           }
          ]
         },
         "layout": {
          "annotationdefaults": {
           "arrowcolor": "#2a3f5f",
           "arrowhead": 0,
           "arrowwidth": 1
          },
          "autotypenumbers": "strict",
          "coloraxis": {
           "colorbar": {
            "outlinewidth": 0,
            "ticks": ""
           }
          },
          "colorscale": {
           "diverging": [
            [
             0,
             "#8e0152"
            ],
            [
             0.1,
             "#c51b7d"
            ],
            [
             0.2,
             "#de77ae"
            ],
            [
             0.3,
             "#f1b6da"
            ],
            [
             0.4,
             "#fde0ef"
            ],
            [
             0.5,
             "#f7f7f7"
            ],
            [
             0.6,
             "#e6f5d0"
            ],
            [
             0.7,
             "#b8e186"
            ],
            [
             0.8,
             "#7fbc41"
            ],
            [
             0.9,
             "#4d9221"
            ],
            [
             1,
             "#276419"
            ]
           ],
           "sequential": [
            [
             0,
             "#0d0887"
            ],
            [
             0.1111111111111111,
             "#46039f"
            ],
            [
             0.2222222222222222,
             "#7201a8"
            ],
            [
             0.3333333333333333,
             "#9c179e"
            ],
            [
             0.4444444444444444,
             "#bd3786"
            ],
            [
             0.5555555555555556,
             "#d8576b"
            ],
            [
             0.6666666666666666,
             "#ed7953"
            ],
            [
             0.7777777777777778,
             "#fb9f3a"
            ],
            [
             0.8888888888888888,
             "#fdca26"
            ],
            [
             1,
             "#f0f921"
            ]
           ],
           "sequentialminus": [
            [
             0,
             "#0d0887"
            ],
            [
             0.1111111111111111,
             "#46039f"
            ],
            [
             0.2222222222222222,
             "#7201a8"
            ],
            [
             0.3333333333333333,
             "#9c179e"
            ],
            [
             0.4444444444444444,
             "#bd3786"
            ],
            [
             0.5555555555555556,
             "#d8576b"
            ],
            [
             0.6666666666666666,
             "#ed7953"
            ],
            [
             0.7777777777777778,
             "#fb9f3a"
            ],
            [
             0.8888888888888888,
             "#fdca26"
            ],
            [
             1,
             "#f0f921"
            ]
           ]
          },
          "colorway": [
           "#636efa",
           "#EF553B",
           "#00cc96",
           "#ab63fa",
           "#FFA15A",
           "#19d3f3",
           "#FF6692",
           "#B6E880",
           "#FF97FF",
           "#FECB52"
          ],
          "font": {
           "color": "#2a3f5f"
          },
          "geo": {
           "bgcolor": "white",
           "lakecolor": "white",
           "landcolor": "#E5ECF6",
           "showlakes": true,
           "showland": true,
           "subunitcolor": "white"
          },
          "hoverlabel": {
           "align": "left"
          },
          "hovermode": "closest",
          "mapbox": {
           "style": "light"
          },
          "paper_bgcolor": "white",
          "plot_bgcolor": "#E5ECF6",
          "polar": {
           "angularaxis": {
            "gridcolor": "white",
            "linecolor": "white",
            "ticks": ""
           },
           "bgcolor": "#E5ECF6",
           "radialaxis": {
            "gridcolor": "white",
            "linecolor": "white",
            "ticks": ""
           }
          },
          "scene": {
           "xaxis": {
            "backgroundcolor": "#E5ECF6",
            "gridcolor": "white",
            "gridwidth": 2,
            "linecolor": "white",
            "showbackground": true,
            "ticks": "",
            "zerolinecolor": "white"
           },
           "yaxis": {
            "backgroundcolor": "#E5ECF6",
            "gridcolor": "white",
            "gridwidth": 2,
            "linecolor": "white",
            "showbackground": true,
            "ticks": "",
            "zerolinecolor": "white"
           },
           "zaxis": {
            "backgroundcolor": "#E5ECF6",
            "gridcolor": "white",
            "gridwidth": 2,
            "linecolor": "white",
            "showbackground": true,
            "ticks": "",
            "zerolinecolor": "white"
           }
          },
          "shapedefaults": {
           "line": {
            "color": "#2a3f5f"
           }
          },
          "ternary": {
           "aaxis": {
            "gridcolor": "white",
            "linecolor": "white",
            "ticks": ""
           },
           "baxis": {
            "gridcolor": "white",
            "linecolor": "white",
            "ticks": ""
           },
           "bgcolor": "#E5ECF6",
           "caxis": {
            "gridcolor": "white",
            "linecolor": "white",
            "ticks": ""
           }
          },
          "title": {
           "x": 0.05
          },
          "xaxis": {
           "automargin": true,
           "gridcolor": "white",
           "linecolor": "white",
           "ticks": "",
           "title": {
            "standoff": 15
           },
           "zerolinecolor": "white",
           "zerolinewidth": 2
          },
          "yaxis": {
           "automargin": true,
           "gridcolor": "white",
           "linecolor": "white",
           "ticks": "",
           "title": {
            "standoff": 15
           },
           "zerolinecolor": "white",
           "zerolinewidth": 2
          }
         }
        },
        "title": {
         "text": "<b>Head-to-Head Statistics</b>, <i>Updated Saturday, Feb 17, 2024 22:07:53 CT</i>"
        },
        "xaxis": {
         "anchor": "y",
         "domain": [
          0,
          0.45
         ],
         "title": {
          "text": "<b>Other</b>"
         }
        },
        "xaxis2": {
         "anchor": "y2",
         "domain": [
          0.55,
          1
         ],
         "title": {
          "text": "<b>Other</b>"
         }
        },
        "yaxis": {
         "anchor": "x",
         "domain": [
          0,
          1
         ],
         "title": {
          "text": "<b>Self</b>"
         }
        },
        "yaxis2": {
         "anchor": "x2",
         "domain": [
          0,
          1
         ],
         "title": {
          "text": "<b>Self</b>"
         }
        }
       }
      }
     },
     "metadata": {},
     "output_type": "display_data"
    }
   ],
   "source": [
    "fig1 = make_subplots(\n",
    "    rows=1, cols=2,\n",
    "    subplot_titles=[f\"<b>{x}</b>\" for x in [\"Historical Win Percentage\", \"Current Matchup Predictor\"]],\n",
    "    x_title=f\"{link_fig}, {link_fig2}, {link_fig3}, {link_fig4}, {link_fig5}, {link_fig6}\"\n",
    ")\n",
    "\n",
    "go_win_pct = go.Heatmap(\n",
    "    x=[x.replace(\" \", \"<br>\") for x in win_prob_table.columns],\n",
    "    y=[x.replace(\" \", \"<br>\") for x in win_prob_table.index],\n",
    "    z=win_pct_table,\n",
    "    zmax=1,\n",
    "    zmid=0.5,\n",
    "    zmin=0,\n",
    "    text=text_record_table,\n",
    "    texttemplate=\"%{text}\",\n",
    "    colorscale=diverging.RdBu_r,\n",
    "    hoverongaps=False\n",
    ")\n",
    "\n",
    "go_win_prob = go.Heatmap(\n",
    "    x=[x.replace(\" \", \"<br>\") for x in win_prob_table.columns],\n",
    "    y=[x.replace(\" \", \"<br>\") for x in win_prob_table.index],\n",
    "    z=win_prob_table,\n",
    "    zmax=1,\n",
    "    zmid=0.5,\n",
    "    zmin=0,\n",
    "    text=win_prob_table.applymap(lambda x: \"\" if np.isnan(x) else f\"{x:.1%}\"),\n",
    "    texttemplate=\"%{text}\",\n",
    "    colorscale=diverging.RdBu_r,\n",
    "    hoverongaps=False\n",
    ")\n",
    "\n",
    "fig1.add_trace(go_win_pct, row=1, col=1)\n",
    "fig1.add_trace(go_win_prob, row=1, col=2)\n",
    "\n",
    "fig1.layout.yaxis1.title=\"<b>Self</b>\"\n",
    "fig1.layout.yaxis2.title=\"<b>Self</b>\"\n",
    "fig1.layout.xaxis1.title=\"<b>Other</b>\"\n",
    "fig1.layout.xaxis2.title=\"<b>Other</b>\"\n",
    "\n",
    "fig1.update_traces(hoverinfo='skip')\n",
    "\n",
    "fig1.update_layout(\n",
    "    title=f\"<b>Head-to-Head Statistics</b>, {updated_time}\"\n",
    ")\n",
    "\n",
    "fig1.show()\n",
    "fig1.write_html('figures/fig1.html')"
   ]
  },
  {
   "cell_type": "code",
   "execution_count": null,
   "metadata": {},
   "outputs": [
    {
     "data": {
      "application/vnd.plotly.v1+json": {
       "config": {
        "plotlyServerURL": "https://plot.ly"
       },
       "data": [
        {
         "colorscale": [
          [
           0,
           "rgb(5,48,97)"
          ],
          [
           0.1,
           "rgb(33,102,172)"
          ],
          [
           0.2,
           "rgb(67,147,195)"
          ],
          [
           0.3,
           "rgb(146,197,222)"
          ],
          [
           0.4,
           "rgb(209,229,240)"
          ],
          [
           0.5,
           "rgb(247,247,247)"
          ],
          [
           0.6,
           "rgb(253,219,199)"
          ],
          [
           0.7,
           "rgb(244,165,130)"
          ],
          [
           0.8,
           "rgb(214,96,77)"
          ],
          [
           0.9,
           "rgb(178,24,43)"
          ],
          [
           1,
           "rgb(103,0,31)"
          ]
         ],
         "hoverinfo": "skip",
         "hoverongaps": false,
         "text": [
          [
           "",
           "24-35<br>40.7%",
           "21-31<br>40.4%",
           "",
           "16-36<br>30.8%",
           "15-21<br>41.7%"
          ],
          [
           "35-24<br>59.3%",
           "",
           "54-43<br>55.7%",
           "6-6<br>50.0%",
           "35-65<br>35.0%",
           "44-60<br>42.3%"
          ],
          [
           "31-21<br>59.6%",
           "43-54<br>44.3%",
           "",
           "6-6<br>50.0%",
           "61-60<br>50.4%",
           "33-43<br>43.4%"
          ],
          [
           "",
           "6-6<br>50.0%",
           "6-6<br>50.0%",
           "",
           "6-6<br>50.0%",
           "6-6<br>50.0%"
          ],
          [
           "36-16<br>69.2%",
           "65-35<br>65.0%",
           "60-61<br>49.6%",
           "6-6<br>50.0%",
           "",
           "38-53<br>41.8%"
          ],
          [
           "21-15<br>58.3%",
           "60-44<br>57.7%",
           "43-33<br>56.6%",
           "6-6<br>50.0%",
           "53-38<br>58.2%",
           ""
          ]
         ],
         "texttemplate": "%{text}",
         "type": "heatmap",
         "x": [
          "Paul<br>Bartenfeld",
          "Evan<br>Sooklal",
          "Roman<br>Ramirez",
          "Jack<br>Massingill",
          "Will<br>Simpson",
          "Aaron<br>Carter"
         ],
         "xaxis": "x",
         "y": [
          "Paul<br>Bartenfeld",
          "Evan<br>Sooklal",
          "Roman<br>Ramirez",
          "Jack<br>Massingill",
          "Will<br>Simpson",
          "Aaron<br>Carter"
         ],
         "yaxis": "y",
         "z": [
          [
           null,
           0.4067796610169492,
           0.40384615384615385,
           null,
           0.3076923076923077,
           0.4166666666666667
          ],
          [
           0.5932203389830508,
           null,
           0.5567010309278351,
           0.5,
           0.35,
           0.4230769230769231
          ],
          [
           0.5961538461538461,
           0.44329896907216493,
           null,
           0.5,
           0.5041322314049587,
           0.4342105263157895
          ],
          [
           null,
           0.5,
           0.5,
           null,
           0.5,
           0.5
          ],
          [
           0.6923076923076923,
           0.65,
           0.49586776859504134,
           0.5,
           null,
           0.4175824175824176
          ],
          [
           0.5833333333333334,
           0.5769230769230769,
           0.5657894736842105,
           0.5,
           0.5824175824175825,
           null
          ]
         ],
         "zmax": 1,
         "zmid": 0.5,
         "zmin": 0
        },
        {
         "colorscale": [
          [
           0,
           "rgb(5,48,97)"
          ],
          [
           0.1,
           "rgb(33,102,172)"
          ],
          [
           0.2,
           "rgb(67,147,195)"
          ],
          [
           0.3,
           "rgb(146,197,222)"
          ],
          [
           0.4,
           "rgb(209,229,240)"
          ],
          [
           0.5,
           "rgb(247,247,247)"
          ],
          [
           0.6,
           "rgb(253,219,199)"
          ],
          [
           0.7,
           "rgb(244,165,130)"
          ],
          [
           0.8,
           "rgb(214,96,77)"
          ],
          [
           0.9,
           "rgb(178,24,43)"
          ],
          [
           1,
           "rgb(103,0,31)"
          ]
         ],
         "hoverinfo": "skip",
         "hoverongaps": false,
         "text": [
          [
           "1-2<br>33.3%",
           "1-5<br>16.7%",
           "2-4<br>33.3%",
           "0-3<br>0.0%",
           "0-4<br>0.0%",
           ""
          ],
          [
           "7-5<br>58.3%",
           "5-3<br>62.5%",
           "2-4<br>33.3%",
           "3-9<br>25.0%",
           "1-1<br>50.0%",
           "4-4<br>50.0%"
          ],
          [
           "1-7<br>12.5%",
           "5-8<br>38.5%",
           "4-3<br>57.1%",
           "3-6<br>33.3%",
           "1-0<br>100.0%",
           "5-4<br>55.6%"
          ],
          [
           "",
           "",
           "",
           "",
           "",
           "4-4<br>50.0%"
          ],
          [
           "4-1<br>80.0%",
           "9-6<br>60.0%",
           "2-6<br>25.0%",
           "9-2<br>81.8%",
           "3-0<br>100.0%",
           "4-5<br>44.4%"
          ],
          [
           "6-4<br>60.0%",
           "5-3<br>62.5%",
           "8-1<br>88.9%",
           "6-1<br>85.7%",
           "",
           "5-5<br>50.0%"
          ]
         ],
         "texttemplate": "%{text}",
         "type": "heatmap",
         "x": [
          "1-PT<br>Games",
          "2-PT<br>Games",
          "3-PT<br>Games",
          "4-PT<br>Games",
          "5-PT<br>Games",
          "6-PT<br>Games"
         ],
         "xaxis": "x2",
         "y": [
          "Paul<br>Bartenfeld",
          "Evan<br>Sooklal",
          "Roman<br>Ramirez",
          "Jack<br>Massingill",
          "Will<br>Simpson",
          "Aaron<br>Carter"
         ],
         "yaxis": "y2",
         "z": [
          [
           0.3333333333333333,
           0.16666666666666666,
           0.3333333333333333,
           0,
           0,
           null
          ],
          [
           0.5833333333333334,
           0.625,
           0.3333333333333333,
           0.25,
           0.5,
           0.5
          ],
          [
           0.125,
           0.38461538461538464,
           0.5714285714285714,
           0.3333333333333333,
           1,
           0.5555555555555556
          ],
          [
           null,
           null,
           null,
           null,
           null,
           0.5
          ],
          [
           0.8,
           0.6,
           0.25,
           0.8181818181818182,
           1,
           0.4444444444444444
          ],
          [
           0.6,
           0.625,
           0.8888888888888888,
           0.8571428571428571,
           null,
           0.5
          ]
         ],
         "zmax": 1,
         "zmid": 0.5,
         "zmin": 0
        }
       ],
       "layout": {
        "annotations": [
         {
          "font": {
           "size": 16
          },
          "showarrow": false,
          "text": "<b>Head-to-Head Plus Minus</b>",
          "x": 0.225,
          "xanchor": "center",
          "xref": "paper",
          "y": 1,
          "yanchor": "bottom",
          "yref": "paper"
         },
         {
          "font": {
           "size": 16
          },
          "showarrow": false,
          "text": "<b>N-Game Historical Record</b>",
          "x": 0.775,
          "xanchor": "center",
          "xref": "paper",
          "y": 1,
          "yanchor": "bottom",
          "yref": "paper"
         },
         {
          "font": {
           "size": 16
          },
          "showarrow": false,
          "text": "<br><a href='https://htmlpreview.github.io/?https://github.com/notromanramirez/dgn_showdown/blob/main/index.html'>ELO Graph</a>, <a href='https://htmlpreview.github.io/?https://github.com/notromanramirez/dgn_showdown/blob/main/figures/fig1.html'>H2H Stats</a>, <a href='https://htmlpreview.github.io/?https://github.com/notromanramirez/dgn_showdown/blob/main/figures/fig2.html'>H2H Advanced Stats</a>, <a href='https://htmlpreview.github.io/?https://github.com/notromanramirez/dgn_showdown/blob/main/figures/fig4.html'>Player Data</a>, <a href='https://htmlpreview.github.io/?https://github.com/notromanramirez/dgn_showdown/blob/main/figures/fig5.html'>Matches Data</a>, <a href='https://htmlpreview.github.io/?https://github.com/notromanramirez/dgn_showdown/blob/main/figures/fig6.html'>Money-Lines</a>",
          "x": 0.5,
          "xanchor": "center",
          "xref": "paper",
          "y": 0,
          "yanchor": "top",
          "yref": "paper",
          "yshift": -30
         }
        ],
        "template": {
         "data": {
          "bar": [
           {
            "error_x": {
             "color": "#2a3f5f"
            },
            "error_y": {
             "color": "#2a3f5f"
            },
            "marker": {
             "line": {
              "color": "#E5ECF6",
              "width": 0.5
             },
             "pattern": {
              "fillmode": "overlay",
              "size": 10,
              "solidity": 0.2
             }
            },
            "type": "bar"
           }
          ],
          "barpolar": [
           {
            "marker": {
             "line": {
              "color": "#E5ECF6",
              "width": 0.5
             },
             "pattern": {
              "fillmode": "overlay",
              "size": 10,
              "solidity": 0.2
             }
            },
            "type": "barpolar"
           }
          ],
          "carpet": [
           {
            "aaxis": {
             "endlinecolor": "#2a3f5f",
             "gridcolor": "white",
             "linecolor": "white",
             "minorgridcolor": "white",
             "startlinecolor": "#2a3f5f"
            },
            "baxis": {
             "endlinecolor": "#2a3f5f",
             "gridcolor": "white",
             "linecolor": "white",
             "minorgridcolor": "white",
             "startlinecolor": "#2a3f5f"
            },
            "type": "carpet"
           }
          ],
          "choropleth": [
           {
            "colorbar": {
             "outlinewidth": 0,
             "ticks": ""
            },
            "type": "choropleth"
           }
          ],
          "contour": [
           {
            "colorbar": {
             "outlinewidth": 0,
             "ticks": ""
            },
            "colorscale": [
             [
              0,
              "#0d0887"
             ],
             [
              0.1111111111111111,
              "#46039f"
             ],
             [
              0.2222222222222222,
              "#7201a8"
             ],
             [
              0.3333333333333333,
              "#9c179e"
             ],
             [
              0.4444444444444444,
              "#bd3786"
             ],
             [
              0.5555555555555556,
              "#d8576b"
             ],
             [
              0.6666666666666666,
              "#ed7953"
             ],
             [
              0.7777777777777778,
              "#fb9f3a"
             ],
             [
              0.8888888888888888,
              "#fdca26"
             ],
             [
              1,
              "#f0f921"
             ]
            ],
            "type": "contour"
           }
          ],
          "contourcarpet": [
           {
            "colorbar": {
             "outlinewidth": 0,
             "ticks": ""
            },
            "type": "contourcarpet"
           }
          ],
          "heatmap": [
           {
            "colorbar": {
             "outlinewidth": 0,
             "ticks": ""
            },
            "colorscale": [
             [
              0,
              "#0d0887"
             ],
             [
              0.1111111111111111,
              "#46039f"
             ],
             [
              0.2222222222222222,
              "#7201a8"
             ],
             [
              0.3333333333333333,
              "#9c179e"
             ],
             [
              0.4444444444444444,
              "#bd3786"
             ],
             [
              0.5555555555555556,
              "#d8576b"
             ],
             [
              0.6666666666666666,
              "#ed7953"
             ],
             [
              0.7777777777777778,
              "#fb9f3a"
             ],
             [
              0.8888888888888888,
              "#fdca26"
             ],
             [
              1,
              "#f0f921"
             ]
            ],
            "type": "heatmap"
           }
          ],
          "heatmapgl": [
           {
            "colorbar": {
             "outlinewidth": 0,
             "ticks": ""
            },
            "colorscale": [
             [
              0,
              "#0d0887"
             ],
             [
              0.1111111111111111,
              "#46039f"
             ],
             [
              0.2222222222222222,
              "#7201a8"
             ],
             [
              0.3333333333333333,
              "#9c179e"
             ],
             [
              0.4444444444444444,
              "#bd3786"
             ],
             [
              0.5555555555555556,
              "#d8576b"
             ],
             [
              0.6666666666666666,
              "#ed7953"
             ],
             [
              0.7777777777777778,
              "#fb9f3a"
             ],
             [
              0.8888888888888888,
              "#fdca26"
             ],
             [
              1,
              "#f0f921"
             ]
            ],
            "type": "heatmapgl"
           }
          ],
          "histogram": [
           {
            "marker": {
             "pattern": {
              "fillmode": "overlay",
              "size": 10,
              "solidity": 0.2
             }
            },
            "type": "histogram"
           }
          ],
          "histogram2d": [
           {
            "colorbar": {
             "outlinewidth": 0,
             "ticks": ""
            },
            "colorscale": [
             [
              0,
              "#0d0887"
             ],
             [
              0.1111111111111111,
              "#46039f"
             ],
             [
              0.2222222222222222,
              "#7201a8"
             ],
             [
              0.3333333333333333,
              "#9c179e"
             ],
             [
              0.4444444444444444,
              "#bd3786"
             ],
             [
              0.5555555555555556,
              "#d8576b"
             ],
             [
              0.6666666666666666,
              "#ed7953"
             ],
             [
              0.7777777777777778,
              "#fb9f3a"
             ],
             [
              0.8888888888888888,
              "#fdca26"
             ],
             [
              1,
              "#f0f921"
             ]
            ],
            "type": "histogram2d"
           }
          ],
          "histogram2dcontour": [
           {
            "colorbar": {
             "outlinewidth": 0,
             "ticks": ""
            },
            "colorscale": [
             [
              0,
              "#0d0887"
             ],
             [
              0.1111111111111111,
              "#46039f"
             ],
             [
              0.2222222222222222,
              "#7201a8"
             ],
             [
              0.3333333333333333,
              "#9c179e"
             ],
             [
              0.4444444444444444,
              "#bd3786"
             ],
             [
              0.5555555555555556,
              "#d8576b"
             ],
             [
              0.6666666666666666,
              "#ed7953"
             ],
             [
              0.7777777777777778,
              "#fb9f3a"
             ],
             [
              0.8888888888888888,
              "#fdca26"
             ],
             [
              1,
              "#f0f921"
             ]
            ],
            "type": "histogram2dcontour"
           }
          ],
          "mesh3d": [
           {
            "colorbar": {
             "outlinewidth": 0,
             "ticks": ""
            },
            "type": "mesh3d"
           }
          ],
          "parcoords": [
           {
            "line": {
             "colorbar": {
              "outlinewidth": 0,
              "ticks": ""
             }
            },
            "type": "parcoords"
           }
          ],
          "pie": [
           {
            "automargin": true,
            "type": "pie"
           }
          ],
          "scatter": [
           {
            "fillpattern": {
             "fillmode": "overlay",
             "size": 10,
             "solidity": 0.2
            },
            "type": "scatter"
           }
          ],
          "scatter3d": [
           {
            "line": {
             "colorbar": {
              "outlinewidth": 0,
              "ticks": ""
             }
            },
            "marker": {
             "colorbar": {
              "outlinewidth": 0,
              "ticks": ""
             }
            },
            "type": "scatter3d"
           }
          ],
          "scattercarpet": [
           {
            "marker": {
             "colorbar": {
              "outlinewidth": 0,
              "ticks": ""
             }
            },
            "type": "scattercarpet"
           }
          ],
          "scattergeo": [
           {
            "marker": {
             "colorbar": {
              "outlinewidth": 0,
              "ticks": ""
             }
            },
            "type": "scattergeo"
           }
          ],
          "scattergl": [
           {
            "marker": {
             "colorbar": {
              "outlinewidth": 0,
              "ticks": ""
             }
            },
            "type": "scattergl"
           }
          ],
          "scattermapbox": [
           {
            "marker": {
             "colorbar": {
              "outlinewidth": 0,
              "ticks": ""
             }
            },
            "type": "scattermapbox"
           }
          ],
          "scatterpolar": [
           {
            "marker": {
             "colorbar": {
              "outlinewidth": 0,
              "ticks": ""
             }
            },
            "type": "scatterpolar"
           }
          ],
          "scatterpolargl": [
           {
            "marker": {
             "colorbar": {
              "outlinewidth": 0,
              "ticks": ""
             }
            },
            "type": "scatterpolargl"
           }
          ],
          "scatterternary": [
           {
            "marker": {
             "colorbar": {
              "outlinewidth": 0,
              "ticks": ""
             }
            },
            "type": "scatterternary"
           }
          ],
          "surface": [
           {
            "colorbar": {
             "outlinewidth": 0,
             "ticks": ""
            },
            "colorscale": [
             [
              0,
              "#0d0887"
             ],
             [
              0.1111111111111111,
              "#46039f"
             ],
             [
              0.2222222222222222,
              "#7201a8"
             ],
             [
              0.3333333333333333,
              "#9c179e"
             ],
             [
              0.4444444444444444,
              "#bd3786"
             ],
             [
              0.5555555555555556,
              "#d8576b"
             ],
             [
              0.6666666666666666,
              "#ed7953"
             ],
             [
              0.7777777777777778,
              "#fb9f3a"
             ],
             [
              0.8888888888888888,
              "#fdca26"
             ],
             [
              1,
              "#f0f921"
             ]
            ],
            "type": "surface"
           }
          ],
          "table": [
           {
            "cells": {
             "fill": {
              "color": "#EBF0F8"
             },
             "line": {
              "color": "white"
             }
            },
            "header": {
             "fill": {
              "color": "#C8D4E3"
             },
             "line": {
              "color": "white"
             }
            },
            "type": "table"
           }
          ]
         },
         "layout": {
          "annotationdefaults": {
           "arrowcolor": "#2a3f5f",
           "arrowhead": 0,
           "arrowwidth": 1
          },
          "autotypenumbers": "strict",
          "coloraxis": {
           "colorbar": {
            "outlinewidth": 0,
            "ticks": ""
           }
          },
          "colorscale": {
           "diverging": [
            [
             0,
             "#8e0152"
            ],
            [
             0.1,
             "#c51b7d"
            ],
            [
             0.2,
             "#de77ae"
            ],
            [
             0.3,
             "#f1b6da"
            ],
            [
             0.4,
             "#fde0ef"
            ],
            [
             0.5,
             "#f7f7f7"
            ],
            [
             0.6,
             "#e6f5d0"
            ],
            [
             0.7,
             "#b8e186"
            ],
            [
             0.8,
             "#7fbc41"
            ],
            [
             0.9,
             "#4d9221"
            ],
            [
             1,
             "#276419"
            ]
           ],
           "sequential": [
            [
             0,
             "#0d0887"
            ],
            [
             0.1111111111111111,
             "#46039f"
            ],
            [
             0.2222222222222222,
             "#7201a8"
            ],
            [
             0.3333333333333333,
             "#9c179e"
            ],
            [
             0.4444444444444444,
             "#bd3786"
            ],
            [
             0.5555555555555556,
             "#d8576b"
            ],
            [
             0.6666666666666666,
             "#ed7953"
            ],
            [
             0.7777777777777778,
             "#fb9f3a"
            ],
            [
             0.8888888888888888,
             "#fdca26"
            ],
            [
             1,
             "#f0f921"
            ]
           ],
           "sequentialminus": [
            [
             0,
             "#0d0887"
            ],
            [
             0.1111111111111111,
             "#46039f"
            ],
            [
             0.2222222222222222,
             "#7201a8"
            ],
            [
             0.3333333333333333,
             "#9c179e"
            ],
            [
             0.4444444444444444,
             "#bd3786"
            ],
            [
             0.5555555555555556,
             "#d8576b"
            ],
            [
             0.6666666666666666,
             "#ed7953"
            ],
            [
             0.7777777777777778,
             "#fb9f3a"
            ],
            [
             0.8888888888888888,
             "#fdca26"
            ],
            [
             1,
             "#f0f921"
            ]
           ]
          },
          "colorway": [
           "#636efa",
           "#EF553B",
           "#00cc96",
           "#ab63fa",
           "#FFA15A",
           "#19d3f3",
           "#FF6692",
           "#B6E880",
           "#FF97FF",
           "#FECB52"
          ],
          "font": {
           "color": "#2a3f5f"
          },
          "geo": {
           "bgcolor": "white",
           "lakecolor": "white",
           "landcolor": "#E5ECF6",
           "showlakes": true,
           "showland": true,
           "subunitcolor": "white"
          },
          "hoverlabel": {
           "align": "left"
          },
          "hovermode": "closest",
          "mapbox": {
           "style": "light"
          },
          "paper_bgcolor": "white",
          "plot_bgcolor": "#E5ECF6",
          "polar": {
           "angularaxis": {
            "gridcolor": "white",
            "linecolor": "white",
            "ticks": ""
           },
           "bgcolor": "#E5ECF6",
           "radialaxis": {
            "gridcolor": "white",
            "linecolor": "white",
            "ticks": ""
           }
          },
          "scene": {
           "xaxis": {
            "backgroundcolor": "#E5ECF6",
            "gridcolor": "white",
            "gridwidth": 2,
            "linecolor": "white",
            "showbackground": true,
            "ticks": "",
            "zerolinecolor": "white"
           },
           "yaxis": {
            "backgroundcolor": "#E5ECF6",
            "gridcolor": "white",
            "gridwidth": 2,
            "linecolor": "white",
            "showbackground": true,
            "ticks": "",
            "zerolinecolor": "white"
           },
           "zaxis": {
            "backgroundcolor": "#E5ECF6",
            "gridcolor": "white",
            "gridwidth": 2,
            "linecolor": "white",
            "showbackground": true,
            "ticks": "",
            "zerolinecolor": "white"
           }
          },
          "shapedefaults": {
           "line": {
            "color": "#2a3f5f"
           }
          },
          "ternary": {
           "aaxis": {
            "gridcolor": "white",
            "linecolor": "white",
            "ticks": ""
           },
           "baxis": {
            "gridcolor": "white",
            "linecolor": "white",
            "ticks": ""
           },
           "bgcolor": "#E5ECF6",
           "caxis": {
            "gridcolor": "white",
            "linecolor": "white",
            "ticks": ""
           }
          },
          "title": {
           "x": 0.05
          },
          "xaxis": {
           "automargin": true,
           "gridcolor": "white",
           "linecolor": "white",
           "ticks": "",
           "title": {
            "standoff": 15
           },
           "zerolinecolor": "white",
           "zerolinewidth": 2
          },
          "yaxis": {
           "automargin": true,
           "gridcolor": "white",
           "linecolor": "white",
           "ticks": "",
           "title": {
            "standoff": 15
           },
           "zerolinecolor": "white",
           "zerolinewidth": 2
          }
         }
        },
        "title": {
         "text": "<b>Head-to-Head Statistics</b>, <i>Updated Saturday, Feb 17, 2024 21:52:55 CT</i>"
        },
        "xaxis": {
         "anchor": "y",
         "domain": [
          0,
          0.45
         ],
         "title": {
          "text": "<b>Other</b>"
         }
        },
        "xaxis2": {
         "anchor": "y2",
         "domain": [
          0.55,
          1
         ],
         "title": {
          "text": "<b>Other</b>"
         }
        },
        "yaxis": {
         "anchor": "x",
         "domain": [
          0,
          1
         ],
         "title": {
          "text": "<b>Self</b>"
         }
        },
        "yaxis2": {
         "anchor": "x2",
         "domain": [
          0,
          1
         ],
         "title": {
          "text": "<b>Self</b>"
         }
        }
       }
      }
     },
     "metadata": {},
     "output_type": "display_data"
    }
   ],
   "source": [
    "fig3 = make_subplots(\n",
    "    rows=1, cols=2,\n",
    "    subplot_titles=[f\"<b>{x}</b>\" for x in [\"Head-to-Head Plus Minus\", \"N-Game Historical Record\"]],\n",
    "    x_title=f\"<br>{link_fig}, {link_fig1}, {link_fig2}, {link_fig4}, {link_fig5}, {link_fig6}\"\n",
    ")\n",
    "\n",
    "text_npg_table = npg_table.copy(deep=True)\n",
    "\n",
    "for c in npg_table.columns:\n",
    "    for r in npg_table.index:\n",
    "        if c == r:\n",
    "            text_npg_table.loc[r, c] = \"\"\n",
    "        else:\n",
    "            w, l = npg_table.loc[r, c]\n",
    "            if (w + l) == 0:\n",
    "                text_npg_table.loc[r, c] = \"\"\n",
    "            else:\n",
    "                w_pct = (w) / (w + l) if (w + l) != 0 else 0\n",
    "                text_npg_table.loc[r, c] = f\"{w}-{l}<br>{w_pct:,.1%}\"\n",
    "\n",
    "def calc_win_pct(wl):\n",
    "    if sum(wl) == 0:\n",
    "        return np.NaN\n",
    "    else:\n",
    "        return (wl[0]) / (sum(wl))\n",
    "\n",
    "go_ng = go.Heatmap(\n",
    "    x=[x.replace(\" \", \"<br>\")+\"ames\" for x in npg_table.columns],\n",
    "    y=[x.replace(\" \", \"<br>\") for x in npg_table.index],\n",
    "    z=npg_table.applymap(calc_win_pct),\n",
    "    zmax=1,\n",
    "    zmid=0.5,\n",
    "    zmin=0,\n",
    "    text=text_npg_table,\n",
    "    texttemplate=\"%{text}\",\n",
    "    colorscale=diverging.RdBu_r,\n",
    "    hoverongaps=False\n",
    ")\n",
    "\n",
    "text_plus_minus_table = plus_minus_table.copy(deep=True)\n",
    "\n",
    "for c in plus_minus_table.columns:\n",
    "    for r in plus_minus_table.index:\n",
    "        if c == r:\n",
    "            text_plus_minus_table.loc[r, c] = \"\"\n",
    "        else:\n",
    "            w, l = plus_minus_table.loc[r, c]\n",
    "            if (w + l) == 0:\n",
    "                text_plus_minus_table.loc[r, c] = \"\"\n",
    "            else:\n",
    "                w_pct = (w) / (w + l) if (w + l) != 0 else 0\n",
    "                text_plus_minus_table.loc[r, c] = f\"{w}-{l}<br>{w_pct:,.1%}\"\n",
    "\n",
    "go_pm = go.Heatmap(\n",
    "    x=[x.replace(\" \", \"<br>\") for x in plus_minus_table.columns],\n",
    "    y=[x.replace(\" \", \"<br>\") for x in plus_minus_table.index],\n",
    "    z=plus_minus_table.applymap(calc_win_pct),\n",
    "    zmax=1,\n",
    "    zmid=0.5,\n",
    "    zmin=0,\n",
    "    text=text_plus_minus_table,\n",
    "    texttemplate=\"%{text}\",\n",
    "    colorscale=diverging.RdBu_r,\n",
    "    hoverongaps=False\n",
    ")\n",
    "\n",
    "fig3.add_trace(go_pm, row=1, col=1)\n",
    "fig3.add_trace(go_ng, row=1, col=2)\n",
    "\n",
    "fig3.layout.yaxis1.title=\"<b>Self</b>\"\n",
    "fig3.layout.yaxis2.title=\"<b>Self</b>\"\n",
    "fig3.layout.xaxis1.title=\"<b>Other</b>\"\n",
    "fig3.layout.xaxis2.title=\"<b>Other</b>\"\n",
    "\n",
    "fig3.update_traces(\n",
    "    hoverinfo='skip'\n",
    ")\n",
    "\n",
    "fig3.update_layout(\n",
    "    title=f\"<b>Head-to-Head Statistics</b>, {updated_time}\"\n",
    ")\n",
    "\n",
    "fig3.show()\n",
    "fig3.write_html('figures/fig3.html')"
   ]
  },
  {
   "cell_type": "code",
   "execution_count": null,
   "metadata": {},
   "outputs": [
    {
     "data": {
      "application/vnd.plotly.v1+json": {
       "config": {
        "plotlyServerURL": "https://plot.ly"
       },
       "data": [
        {
         "colorscale": [
          [
           0,
           "rgb(5,48,97)"
          ],
          [
           0.1,
           "rgb(33,102,172)"
          ],
          [
           0.2,
           "rgb(67,147,195)"
          ],
          [
           0.3,
           "rgb(146,197,222)"
          ],
          [
           0.4,
           "rgb(209,229,240)"
          ],
          [
           0.5,
           "rgb(247,247,247)"
          ],
          [
           0.6,
           "rgb(253,219,199)"
          ],
          [
           0.7,
           "rgb(244,165,130)"
          ],
          [
           0.8,
           "rgb(214,96,77)"
          ],
          [
           0.9,
           "rgb(178,24,43)"
          ],
          [
           1,
           "rgb(103,0,31)"
          ]
         ],
         "hoverinfo": "skip",
         "hoverongaps": false,
         "text": [
          [
           "",
           "+8.4%",
           "-9.2%",
           "",
           "",
           "-12.0%"
          ],
          [
           "-8.4%",
           "",
           "-20.5%",
           "-5.6%",
           "+16.1%",
           "+0.2%"
          ],
          [
           "+9.2%",
           "+20.5%",
           "",
           "-4.3%",
           "-8.0%",
           "+4.8%"
          ],
          [
           "",
           "+5.6%",
           "+4.3%",
           "",
           "-7.1%",
           "-14.1%"
          ],
          [
           "-16.7%",
           "-16.1%",
           "+8.0%",
           "+7.1%",
           "",
           "+7.0%"
          ],
          [
           "+12.0%",
           "-0.2%",
           "-4.8%",
           "+14.1%",
           "-7.0%",
           ""
          ]
         ],
         "texttemplate": "%{text}",
         "type": "heatmap",
         "x": [
          "Paul<br>Bartenfeld",
          "Evan<br>Sooklal",
          "Roman<br>Ramirez",
          "Jack<br>Massingill",
          "Will<br>Simpson",
          "Aaron<br>Carter"
         ],
         "xaxis": "x",
         "y": [
          "Paul<br>Bartenfeld",
          "Evan<br>Sooklal",
          "Roman<br>Ramirez",
          "Jack<br>Massingill",
          "Will<br>Simpson",
          "Aaron<br>Carter"
         ],
         "yaxis": "y",
         "z": [
          [
           null,
           0.0839392640326104,
           -0.09212961027561203,
           null,
           null,
           -0.11964566767295237
          ],
          [
           -0.08393926403261043,
           null,
           -0.20498201837050456,
           -0.055533951110341484,
           0.16082600725297938,
           0.0018101864617759977
          ],
          [
           0.09212961027561206,
           0.20498201837050456,
           null,
           -0.04298063365257193,
           -0.07959562868093573,
           0.04771543523238264
          ],
          [
           null,
           0.05553395111034154,
           0.042980633652571876,
           null,
           -0.07133326610424418,
           -0.14092706922941622
          ],
          [
           -0.1671819796354378,
           -0.16082600725297935,
           0.07959562868093562,
           0.07133326610424418,
           null,
           0.07034764943254257
          ],
          [
           0.11964566767295237,
           -0.0018101864617759977,
           -0.04771543523238264,
           0.14092706922941622,
           -0.07034764943254268,
           null
          ]
         ],
         "zmax": 0.30151620354044084,
         "zmid": 0,
         "zmin": -0.30151620354044084
        },
        {
         "colorscale": [
          [
           0,
           "rgb(5,48,97)"
          ],
          [
           0.1,
           "rgb(33,102,172)"
          ],
          [
           0.2,
           "rgb(67,147,195)"
          ],
          [
           0.3,
           "rgb(146,197,222)"
          ],
          [
           0.4,
           "rgb(209,229,240)"
          ],
          [
           0.5,
           "rgb(247,247,247)"
          ],
          [
           0.6,
           "rgb(253,219,199)"
          ],
          [
           0.7,
           "rgb(244,165,130)"
          ],
          [
           0.8,
           "rgb(214,96,77)"
          ],
          [
           0.9,
           "rgb(178,24,43)"
          ],
          [
           1,
           "rgb(103,0,31)"
          ]
         ],
         "hoverinfo": "skip",
         "hoverongaps": false,
         "text": [
          [
           "",
           "-17.9%",
           "-5.4%",
           "",
           "-30.2%",
           "-6.2%"
          ],
          [
           "+17.9%",
           "",
           "+14.5%",
           "+7.9%",
           "-18.7%",
           "-5.8%"
          ],
          [
           "+5.4%",
           "-14.5%",
           "",
           "+9.6%",
           "+9.4%",
           "-1.2%"
          ],
          [
           "",
           "-7.9%",
           "-9.6%",
           "",
           "+12.2%",
           "+26.0%"
          ],
          [
           "+30.2%",
           "+18.7%",
           "-9.4%",
           "-12.2%",
           "",
           "-10.8%"
          ],
          [
           "+6.2%",
           "+5.8%",
           "+1.2%",
           "-26.0%",
           "+10.8%",
           ""
          ]
         ],
         "texttemplate": "%{text}",
         "type": "heatmap",
         "x": [
          "Paul<br>Bartenfeld",
          "Evan<br>Sooklal",
          "Roman<br>Ramirez",
          "Jack<br>Massingill",
          "Will<br>Simpson",
          "Aaron<br>Carter"
         ],
         "xaxis": "x2",
         "y": [
          "Paul<br>Bartenfeld",
          "Evan<br>Sooklal",
          "Roman<br>Ramirez",
          "Jack<br>Massingill",
          "Will<br>Simpson",
          "Aaron<br>Carter"
         ],
         "yaxis": "y2",
         "z": [
          [
           null,
           -0.17925649745036043,
           -0.054102184370880387,
           null,
           -0.3015162035404408,
           -0.061861419487301415
          ],
          [
           0.1792564974503605,
           null,
           0.14543224889752432,
           0.07934671951403544,
           -0.18690518045476048,
           -0.05758068558199813
          ],
          [
           0.0541021843708804,
           -0.14543224889752432,
           null,
           0.09612573866939991,
           0.09405711155032481,
           -0.0116890602562431
          ],
          [
           null,
           -0.07934671951403544,
           -0.09612573866939994,
           null,
           0.12244032149101461,
           0.26032203700163115
          ],
          [
           0.30151620354044084,
           0.18690518045476043,
           -0.09405711155032478,
           -0.12244032149101458,
           null,
           -0.10799194247651574
          ],
          [
           0.061861419487301395,
           0.05758068558199815,
           0.011689060256243137,
           -0.2603220370016312,
           0.10799194247651568,
           null
          ]
         ],
         "zmax": 0.30151620354044084,
         "zmid": 0,
         "zmin": -0.30151620354044084
        }
       ],
       "layout": {
        "annotations": [
         {
          "font": {
           "size": 16
          },
          "showarrow": false,
          "text": "<b>Over/Underrated</b><br>How Much Better is the Win Probability Against Record",
          "x": 0.225,
          "xanchor": "center",
          "xref": "paper",
          "y": 1,
          "yanchor": "bottom",
          "yref": "paper"
         },
         {
          "font": {
           "size": 16
          },
          "showarrow": false,
          "text": "<b>Average Luck Per Game</b><br>Average Difference in Actual and Expected Performance",
          "x": 0.775,
          "xanchor": "center",
          "xref": "paper",
          "y": 1,
          "yanchor": "bottom",
          "yref": "paper"
         },
         {
          "font": {
           "size": 16
          },
          "showarrow": false,
          "text": "<a href='https://htmlpreview.github.io/?https://github.com/notromanramirez/dgn_showdown/blob/main/index.html'>ELO Graph</a>, <a href='https://htmlpreview.github.io/?https://github.com/notromanramirez/dgn_showdown/blob/main/figures/fig1.html'>H2H Stats</a>, <a href='https://htmlpreview.github.io/?https://github.com/notromanramirez/dgn_showdown/blob/main/figures/fig3.html'>H2H More Stats</a>, <a href='https://htmlpreview.github.io/?https://github.com/notromanramirez/dgn_showdown/blob/main/figures/fig4.html'>Player Data</a>, <a href='https://htmlpreview.github.io/?https://github.com/notromanramirez/dgn_showdown/blob/main/figures/fig5.html'>Matches Data</a>, <a href='https://htmlpreview.github.io/?https://github.com/notromanramirez/dgn_showdown/blob/main/figures/fig6.html'>Money-Lines</a>",
          "x": 0.5,
          "xanchor": "center",
          "xref": "paper",
          "y": 0,
          "yanchor": "top",
          "yref": "paper",
          "yshift": -30
         }
        ],
        "template": {
         "data": {
          "bar": [
           {
            "error_x": {
             "color": "#2a3f5f"
            },
            "error_y": {
             "color": "#2a3f5f"
            },
            "marker": {
             "line": {
              "color": "#E5ECF6",
              "width": 0.5
             },
             "pattern": {
              "fillmode": "overlay",
              "size": 10,
              "solidity": 0.2
             }
            },
            "type": "bar"
           }
          ],
          "barpolar": [
           {
            "marker": {
             "line": {
              "color": "#E5ECF6",
              "width": 0.5
             },
             "pattern": {
              "fillmode": "overlay",
              "size": 10,
              "solidity": 0.2
             }
            },
            "type": "barpolar"
           }
          ],
          "carpet": [
           {
            "aaxis": {
             "endlinecolor": "#2a3f5f",
             "gridcolor": "white",
             "linecolor": "white",
             "minorgridcolor": "white",
             "startlinecolor": "#2a3f5f"
            },
            "baxis": {
             "endlinecolor": "#2a3f5f",
             "gridcolor": "white",
             "linecolor": "white",
             "minorgridcolor": "white",
             "startlinecolor": "#2a3f5f"
            },
            "type": "carpet"
           }
          ],
          "choropleth": [
           {
            "colorbar": {
             "outlinewidth": 0,
             "ticks": ""
            },
            "type": "choropleth"
           }
          ],
          "contour": [
           {
            "colorbar": {
             "outlinewidth": 0,
             "ticks": ""
            },
            "colorscale": [
             [
              0,
              "#0d0887"
             ],
             [
              0.1111111111111111,
              "#46039f"
             ],
             [
              0.2222222222222222,
              "#7201a8"
             ],
             [
              0.3333333333333333,
              "#9c179e"
             ],
             [
              0.4444444444444444,
              "#bd3786"
             ],
             [
              0.5555555555555556,
              "#d8576b"
             ],
             [
              0.6666666666666666,
              "#ed7953"
             ],
             [
              0.7777777777777778,
              "#fb9f3a"
             ],
             [
              0.8888888888888888,
              "#fdca26"
             ],
             [
              1,
              "#f0f921"
             ]
            ],
            "type": "contour"
           }
          ],
          "contourcarpet": [
           {
            "colorbar": {
             "outlinewidth": 0,
             "ticks": ""
            },
            "type": "contourcarpet"
           }
          ],
          "heatmap": [
           {
            "colorbar": {
             "outlinewidth": 0,
             "ticks": ""
            },
            "colorscale": [
             [
              0,
              "#0d0887"
             ],
             [
              0.1111111111111111,
              "#46039f"
             ],
             [
              0.2222222222222222,
              "#7201a8"
             ],
             [
              0.3333333333333333,
              "#9c179e"
             ],
             [
              0.4444444444444444,
              "#bd3786"
             ],
             [
              0.5555555555555556,
              "#d8576b"
             ],
             [
              0.6666666666666666,
              "#ed7953"
             ],
             [
              0.7777777777777778,
              "#fb9f3a"
             ],
             [
              0.8888888888888888,
              "#fdca26"
             ],
             [
              1,
              "#f0f921"
             ]
            ],
            "type": "heatmap"
           }
          ],
          "heatmapgl": [
           {
            "colorbar": {
             "outlinewidth": 0,
             "ticks": ""
            },
            "colorscale": [
             [
              0,
              "#0d0887"
             ],
             [
              0.1111111111111111,
              "#46039f"
             ],
             [
              0.2222222222222222,
              "#7201a8"
             ],
             [
              0.3333333333333333,
              "#9c179e"
             ],
             [
              0.4444444444444444,
              "#bd3786"
             ],
             [
              0.5555555555555556,
              "#d8576b"
             ],
             [
              0.6666666666666666,
              "#ed7953"
             ],
             [
              0.7777777777777778,
              "#fb9f3a"
             ],
             [
              0.8888888888888888,
              "#fdca26"
             ],
             [
              1,
              "#f0f921"
             ]
            ],
            "type": "heatmapgl"
           }
          ],
          "histogram": [
           {
            "marker": {
             "pattern": {
              "fillmode": "overlay",
              "size": 10,
              "solidity": 0.2
             }
            },
            "type": "histogram"
           }
          ],
          "histogram2d": [
           {
            "colorbar": {
             "outlinewidth": 0,
             "ticks": ""
            },
            "colorscale": [
             [
              0,
              "#0d0887"
             ],
             [
              0.1111111111111111,
              "#46039f"
             ],
             [
              0.2222222222222222,
              "#7201a8"
             ],
             [
              0.3333333333333333,
              "#9c179e"
             ],
             [
              0.4444444444444444,
              "#bd3786"
             ],
             [
              0.5555555555555556,
              "#d8576b"
             ],
             [
              0.6666666666666666,
              "#ed7953"
             ],
             [
              0.7777777777777778,
              "#fb9f3a"
             ],
             [
              0.8888888888888888,
              "#fdca26"
             ],
             [
              1,
              "#f0f921"
             ]
            ],
            "type": "histogram2d"
           }
          ],
          "histogram2dcontour": [
           {
            "colorbar": {
             "outlinewidth": 0,
             "ticks": ""
            },
            "colorscale": [
             [
              0,
              "#0d0887"
             ],
             [
              0.1111111111111111,
              "#46039f"
             ],
             [
              0.2222222222222222,
              "#7201a8"
             ],
             [
              0.3333333333333333,
              "#9c179e"
             ],
             [
              0.4444444444444444,
              "#bd3786"
             ],
             [
              0.5555555555555556,
              "#d8576b"
             ],
             [
              0.6666666666666666,
              "#ed7953"
             ],
             [
              0.7777777777777778,
              "#fb9f3a"
             ],
             [
              0.8888888888888888,
              "#fdca26"
             ],
             [
              1,
              "#f0f921"
             ]
            ],
            "type": "histogram2dcontour"
           }
          ],
          "mesh3d": [
           {
            "colorbar": {
             "outlinewidth": 0,
             "ticks": ""
            },
            "type": "mesh3d"
           }
          ],
          "parcoords": [
           {
            "line": {
             "colorbar": {
              "outlinewidth": 0,
              "ticks": ""
             }
            },
            "type": "parcoords"
           }
          ],
          "pie": [
           {
            "automargin": true,
            "type": "pie"
           }
          ],
          "scatter": [
           {
            "fillpattern": {
             "fillmode": "overlay",
             "size": 10,
             "solidity": 0.2
            },
            "type": "scatter"
           }
          ],
          "scatter3d": [
           {
            "line": {
             "colorbar": {
              "outlinewidth": 0,
              "ticks": ""
             }
            },
            "marker": {
             "colorbar": {
              "outlinewidth": 0,
              "ticks": ""
             }
            },
            "type": "scatter3d"
           }
          ],
          "scattercarpet": [
           {
            "marker": {
             "colorbar": {
              "outlinewidth": 0,
              "ticks": ""
             }
            },
            "type": "scattercarpet"
           }
          ],
          "scattergeo": [
           {
            "marker": {
             "colorbar": {
              "outlinewidth": 0,
              "ticks": ""
             }
            },
            "type": "scattergeo"
           }
          ],
          "scattergl": [
           {
            "marker": {
             "colorbar": {
              "outlinewidth": 0,
              "ticks": ""
             }
            },
            "type": "scattergl"
           }
          ],
          "scattermapbox": [
           {
            "marker": {
             "colorbar": {
              "outlinewidth": 0,
              "ticks": ""
             }
            },
            "type": "scattermapbox"
           }
          ],
          "scatterpolar": [
           {
            "marker": {
             "colorbar": {
              "outlinewidth": 0,
              "ticks": ""
             }
            },
            "type": "scatterpolar"
           }
          ],
          "scatterpolargl": [
           {
            "marker": {
             "colorbar": {
              "outlinewidth": 0,
              "ticks": ""
             }
            },
            "type": "scatterpolargl"
           }
          ],
          "scatterternary": [
           {
            "marker": {
             "colorbar": {
              "outlinewidth": 0,
              "ticks": ""
             }
            },
            "type": "scatterternary"
           }
          ],
          "surface": [
           {
            "colorbar": {
             "outlinewidth": 0,
             "ticks": ""
            },
            "colorscale": [
             [
              0,
              "#0d0887"
             ],
             [
              0.1111111111111111,
              "#46039f"
             ],
             [
              0.2222222222222222,
              "#7201a8"
             ],
             [
              0.3333333333333333,
              "#9c179e"
             ],
             [
              0.4444444444444444,
              "#bd3786"
             ],
             [
              0.5555555555555556,
              "#d8576b"
             ],
             [
              0.6666666666666666,
              "#ed7953"
             ],
             [
              0.7777777777777778,
              "#fb9f3a"
             ],
             [
              0.8888888888888888,
              "#fdca26"
             ],
             [
              1,
              "#f0f921"
             ]
            ],
            "type": "surface"
           }
          ],
          "table": [
           {
            "cells": {
             "fill": {
              "color": "#EBF0F8"
             },
             "line": {
              "color": "white"
             }
            },
            "header": {
             "fill": {
              "color": "#C8D4E3"
             },
             "line": {
              "color": "white"
             }
            },
            "type": "table"
           }
          ]
         },
         "layout": {
          "annotationdefaults": {
           "arrowcolor": "#2a3f5f",
           "arrowhead": 0,
           "arrowwidth": 1
          },
          "autotypenumbers": "strict",
          "coloraxis": {
           "colorbar": {
            "outlinewidth": 0,
            "ticks": ""
           }
          },
          "colorscale": {
           "diverging": [
            [
             0,
             "#8e0152"
            ],
            [
             0.1,
             "#c51b7d"
            ],
            [
             0.2,
             "#de77ae"
            ],
            [
             0.3,
             "#f1b6da"
            ],
            [
             0.4,
             "#fde0ef"
            ],
            [
             0.5,
             "#f7f7f7"
            ],
            [
             0.6,
             "#e6f5d0"
            ],
            [
             0.7,
             "#b8e186"
            ],
            [
             0.8,
             "#7fbc41"
            ],
            [
             0.9,
             "#4d9221"
            ],
            [
             1,
             "#276419"
            ]
           ],
           "sequential": [
            [
             0,
             "#0d0887"
            ],
            [
             0.1111111111111111,
             "#46039f"
            ],
            [
             0.2222222222222222,
             "#7201a8"
            ],
            [
             0.3333333333333333,
             "#9c179e"
            ],
            [
             0.4444444444444444,
             "#bd3786"
            ],
            [
             0.5555555555555556,
             "#d8576b"
            ],
            [
             0.6666666666666666,
             "#ed7953"
            ],
            [
             0.7777777777777778,
             "#fb9f3a"
            ],
            [
             0.8888888888888888,
             "#fdca26"
            ],
            [
             1,
             "#f0f921"
            ]
           ],
           "sequentialminus": [
            [
             0,
             "#0d0887"
            ],
            [
             0.1111111111111111,
             "#46039f"
            ],
            [
             0.2222222222222222,
             "#7201a8"
            ],
            [
             0.3333333333333333,
             "#9c179e"
            ],
            [
             0.4444444444444444,
             "#bd3786"
            ],
            [
             0.5555555555555556,
             "#d8576b"
            ],
            [
             0.6666666666666666,
             "#ed7953"
            ],
            [
             0.7777777777777778,
             "#fb9f3a"
            ],
            [
             0.8888888888888888,
             "#fdca26"
            ],
            [
             1,
             "#f0f921"
            ]
           ]
          },
          "colorway": [
           "#636efa",
           "#EF553B",
           "#00cc96",
           "#ab63fa",
           "#FFA15A",
           "#19d3f3",
           "#FF6692",
           "#B6E880",
           "#FF97FF",
           "#FECB52"
          ],
          "font": {
           "color": "#2a3f5f"
          },
          "geo": {
           "bgcolor": "white",
           "lakecolor": "white",
           "landcolor": "#E5ECF6",
           "showlakes": true,
           "showland": true,
           "subunitcolor": "white"
          },
          "hoverlabel": {
           "align": "left"
          },
          "hovermode": "closest",
          "mapbox": {
           "style": "light"
          },
          "paper_bgcolor": "white",
          "plot_bgcolor": "#E5ECF6",
          "polar": {
           "angularaxis": {
            "gridcolor": "white",
            "linecolor": "white",
            "ticks": ""
           },
           "bgcolor": "#E5ECF6",
           "radialaxis": {
            "gridcolor": "white",
            "linecolor": "white",
            "ticks": ""
           }
          },
          "scene": {
           "xaxis": {
            "backgroundcolor": "#E5ECF6",
            "gridcolor": "white",
            "gridwidth": 2,
            "linecolor": "white",
            "showbackground": true,
            "ticks": "",
            "zerolinecolor": "white"
           },
           "yaxis": {
            "backgroundcolor": "#E5ECF6",
            "gridcolor": "white",
            "gridwidth": 2,
            "linecolor": "white",
            "showbackground": true,
            "ticks": "",
            "zerolinecolor": "white"
           },
           "zaxis": {
            "backgroundcolor": "#E5ECF6",
            "gridcolor": "white",
            "gridwidth": 2,
            "linecolor": "white",
            "showbackground": true,
            "ticks": "",
            "zerolinecolor": "white"
           }
          },
          "shapedefaults": {
           "line": {
            "color": "#2a3f5f"
           }
          },
          "ternary": {
           "aaxis": {
            "gridcolor": "white",
            "linecolor": "white",
            "ticks": ""
           },
           "baxis": {
            "gridcolor": "white",
            "linecolor": "white",
            "ticks": ""
           },
           "bgcolor": "#E5ECF6",
           "caxis": {
            "gridcolor": "white",
            "linecolor": "white",
            "ticks": ""
           }
          },
          "title": {
           "x": 0.05
          },
          "xaxis": {
           "automargin": true,
           "gridcolor": "white",
           "linecolor": "white",
           "ticks": "",
           "title": {
            "standoff": 15
           },
           "zerolinecolor": "white",
           "zerolinewidth": 2
          },
          "yaxis": {
           "automargin": true,
           "gridcolor": "white",
           "linecolor": "white",
           "ticks": "",
           "title": {
            "standoff": 15
           },
           "zerolinecolor": "white",
           "zerolinewidth": 2
          }
         }
        },
        "title": {
         "text": "<b>Head-to-Head Advanced Statistics</b>, <i>Updated Saturday, Feb 17, 2024 21:52:55 CT</i>"
        },
        "xaxis": {
         "anchor": "y",
         "domain": [
          0,
          0.45
         ],
         "title": {
          "text": "<b>Other</b>"
         }
        },
        "xaxis2": {
         "anchor": "y2",
         "domain": [
          0.55,
          1
         ],
         "title": {
          "text": "<b>Other</b>"
         }
        },
        "yaxis": {
         "anchor": "x",
         "domain": [
          0,
          1
         ],
         "title": {
          "text": "<b>Self</b>"
         }
        },
        "yaxis2": {
         "anchor": "x2",
         "domain": [
          0,
          1
         ],
         "title": {
          "text": "<b>Self</b>"
         }
        }
       }
      }
     },
     "metadata": {},
     "output_type": "display_data"
    }
   ],
   "source": [
    "# difference in win percentage and matchup predictor\n",
    "# positive number means overrated, negative number means underrated\n",
    "# understanding: Player A is overrated/underrated against Player B\n",
    "\n",
    "key_upset_table = -win_pct_table + win_prob_table\n",
    "        \n",
    "for c in record_table.columns:\n",
    "    for r in record_table.index:\n",
    "        if sum(record_table.loc[r, c]) == 0:\n",
    "            key_upset_table.loc[r, c] = np.NaN\n",
    "\n",
    "\n",
    "fig2 = make_subplots(\n",
    "    rows=1, cols=2,\n",
    "    subplot_titles=[\n",
    "        \"<b>Over/Underrated</b><br>How Much Better is the Win Probability Against Record\", \n",
    "        \"<b>Average Luck Per Game</b><br>Average Difference in Actual and Expected Performance\"\n",
    "    ],\n",
    "    x_title=f\"{link_fig}, {link_fig1}, {link_fig3}, {link_fig4}, {link_fig5}, {link_fig6}\"\n",
    ")\n",
    "\n",
    "go_ou = go.Heatmap(\n",
    "    x=[x.replace(\" \", \"<br>\") for x in win_prob_table.columns],\n",
    "    y=[x.replace(\" \", \"<br>\") for x in win_prob_table.index],\n",
    "    z=key_upset_table,\n",
    "    zmax=max(key_upset_table.max(axis=None), luck_per_game_table.max(axis=None), abs(min(key_upset_table.min(axis=None), luck_per_game_table.min(axis=None)))),\n",
    "    zmid=0,\n",
    "    zmin=max(key_upset_table.max(axis=None), luck_per_game_table.max(axis=None), abs(min(key_upset_table.min(axis=None), luck_per_game_table.min(axis=None)))) * -1,\n",
    "    text=key_upset_table.applymap(lambda x: \"\" if np.isnan(x) else f\"{x:+.1%}\"),\n",
    "    texttemplate=\"%{text}\",\n",
    "    colorscale=diverging.RdBu_r,\n",
    "    hoverongaps=False\n",
    ")\n",
    "\n",
    "go_luck_pg = go.Heatmap(\n",
    "    x=[x.replace(\" \", \"<br>\") for x in win_prob_table.columns],\n",
    "    y=[x.replace(\" \", \"<br>\") for x in win_prob_table.index],\n",
    "    z=luck_per_game_table,\n",
    "    zmax=max(key_upset_table.max(axis=None), luck_per_game_table.max(axis=None), abs(min(key_upset_table.min(axis=None), luck_per_game_table.min(axis=None)))),\n",
    "    zmid=0,\n",
    "    zmin=max(key_upset_table.max(axis=None), luck_per_game_table.max(axis=None), abs(min(key_upset_table.min(axis=None), luck_per_game_table.min(axis=None)))) * -1,\n",
    "    text=luck_per_game_table.applymap(lambda x: \"\" if np.isnan(x) else f\"{x:+.1%}\"),\n",
    "    texttemplate=\"%{text}\",\n",
    "    colorscale=diverging.RdBu_r,\n",
    "    hoverongaps=False\n",
    ")\n",
    "\n",
    "fig2.add_trace(go_ou, row=1, col=1)\n",
    "fig2.add_trace(go_luck_pg, row=1, col=2)\n",
    "\n",
    "fig2.layout.yaxis1.title=\"<b>Self</b>\"\n",
    "fig2.layout.yaxis2.title=\"<b>Self</b>\"\n",
    "fig2.layout.xaxis1.title=\"<b>Other</b>\"\n",
    "fig2.layout.xaxis2.title=\"<b>Other</b>\"\n",
    "\n",
    "fig2.update_traces(hoverinfo='skip')\n",
    "\n",
    "fig2.update_layout(\n",
    "    title=f\"<b>Head-to-Head Advanced Statistics</b>, {updated_time}\"\n",
    ")\n",
    "\n",
    "fig2.show()\n",
    "fig2.write_html('figures/fig2.html')"
   ]
  },
  {
   "cell_type": "code",
   "execution_count": null,
   "metadata": {},
   "outputs": [
    {
     "data": {
      "text/html": [
       "<div>\n",
       "<style scoped>\n",
       "    .dataframe tbody tr th:only-of-type {\n",
       "        vertical-align: middle;\n",
       "    }\n",
       "\n",
       "    .dataframe tbody tr th {\n",
       "        vertical-align: top;\n",
       "    }\n",
       "\n",
       "    .dataframe thead th {\n",
       "        text-align: right;\n",
       "    }\n",
       "</style>\n",
       "<table border=\"1\" class=\"dataframe\">\n",
       "  <thead>\n",
       "    <tr style=\"text-align: right;\">\n",
       "      <th></th>\n",
       "      <th>Paul Bartenfeld</th>\n",
       "      <th>Evan Sooklal</th>\n",
       "      <th>Roman Ramirez</th>\n",
       "      <th>Jack Massingill</th>\n",
       "      <th>Will Simpson</th>\n",
       "      <th>Aaron Carter</th>\n",
       "    </tr>\n",
       "  </thead>\n",
       "  <tbody>\n",
       "    <tr>\n",
       "      <th>Paul Bartenfeld</th>\n",
       "      <td>NaN</td>\n",
       "      <td>0.334411</td>\n",
       "      <td>0.317877</td>\n",
       "      <td>0.267553</td>\n",
       "      <td>0.200743</td>\n",
       "      <td>0.149894</td>\n",
       "    </tr>\n",
       "    <tr>\n",
       "      <th>Evan Sooklal</th>\n",
       "      <td>2.990329</td>\n",
       "      <td>NaN</td>\n",
       "      <td>0.950556</td>\n",
       "      <td>0.80007</td>\n",
       "      <td>0.600286</td>\n",
       "      <td>0.448231</td>\n",
       "    </tr>\n",
       "    <tr>\n",
       "      <th>Roman Ramirez</th>\n",
       "      <td>3.145873</td>\n",
       "      <td>1.052016</td>\n",
       "      <td>NaN</td>\n",
       "      <td>0.841686</td>\n",
       "      <td>0.63151</td>\n",
       "      <td>0.471546</td>\n",
       "    </tr>\n",
       "    <tr>\n",
       "      <th>Jack Massingill</th>\n",
       "      <td>3.737584</td>\n",
       "      <td>1.249891</td>\n",
       "      <td>1.188091</td>\n",
       "      <td>NaN</td>\n",
       "      <td>0.750292</td>\n",
       "      <td>0.56024</td>\n",
       "    </tr>\n",
       "    <tr>\n",
       "      <th>Will Simpson</th>\n",
       "      <td>4.981506</td>\n",
       "      <td>1.665872</td>\n",
       "      <td>1.583505</td>\n",
       "      <td>1.332815</td>\n",
       "      <td>NaN</td>\n",
       "      <td>0.746696</td>\n",
       "    </tr>\n",
       "    <tr>\n",
       "      <th>Aaron Carter</th>\n",
       "      <td>6.671398</td>\n",
       "      <td>2.230992</td>\n",
       "      <td>2.120683</td>\n",
       "      <td>1.78495</td>\n",
       "      <td>1.339233</td>\n",
       "      <td>NaN</td>\n",
       "    </tr>\n",
       "  </tbody>\n",
       "</table>\n",
       "</div>"
      ],
      "text/plain": [
       "                Paul Bartenfeld Evan Sooklal Roman Ramirez Jack Massingill  \\\n",
       "Paul Bartenfeld             NaN     0.334411      0.317877        0.267553   \n",
       "Evan Sooklal           2.990329          NaN      0.950556         0.80007   \n",
       "Roman Ramirez          3.145873     1.052016           NaN        0.841686   \n",
       "Jack Massingill        3.737584     1.249891      1.188091             NaN   \n",
       "Will Simpson           4.981506     1.665872      1.583505        1.332815   \n",
       "Aaron Carter           6.671398     2.230992      2.120683         1.78495   \n",
       "\n",
       "                Will Simpson Aaron Carter  \n",
       "Paul Bartenfeld     0.200743     0.149894  \n",
       "Evan Sooklal        0.600286     0.448231  \n",
       "Roman Ramirez        0.63151     0.471546  \n",
       "Jack Massingill     0.750292      0.56024  \n",
       "Will Simpson             NaN     0.746696  \n",
       "Aaron Carter        1.339233          NaN  "
      ]
     },
     "metadata": {},
     "output_type": "display_data"
    },
    {
     "data": {
      "text/html": [
       "<div>\n",
       "<style scoped>\n",
       "    .dataframe tbody tr th:only-of-type {\n",
       "        vertical-align: middle;\n",
       "    }\n",
       "\n",
       "    .dataframe tbody tr th {\n",
       "        vertical-align: top;\n",
       "    }\n",
       "\n",
       "    .dataframe thead th {\n",
       "        text-align: right;\n",
       "    }\n",
       "</style>\n",
       "<table border=\"1\" class=\"dataframe\">\n",
       "  <thead>\n",
       "    <tr style=\"text-align: right;\">\n",
       "      <th></th>\n",
       "      <th>Paul Bartenfeld</th>\n",
       "      <th>Evan Sooklal</th>\n",
       "      <th>Roman Ramirez</th>\n",
       "      <th>Jack Massingill</th>\n",
       "      <th>Will Simpson</th>\n",
       "      <th>Aaron Carter</th>\n",
       "    </tr>\n",
       "  </thead>\n",
       "  <tbody>\n",
       "    <tr>\n",
       "      <th>Paul Bartenfeld</th>\n",
       "      <td>NaN</td>\n",
       "      <td>+300</td>\n",
       "      <td>+315</td>\n",
       "      <td>+375</td>\n",
       "      <td>+500</td>\n",
       "      <td>+665</td>\n",
       "    </tr>\n",
       "    <tr>\n",
       "      <th>Evan Sooklal</th>\n",
       "      <td>-300</td>\n",
       "      <td>NaN</td>\n",
       "      <td>+105</td>\n",
       "      <td>+125</td>\n",
       "      <td>+165</td>\n",
       "      <td>+225</td>\n",
       "    </tr>\n",
       "    <tr>\n",
       "      <th>Roman Ramirez</th>\n",
       "      <td>-315</td>\n",
       "      <td>-105</td>\n",
       "      <td>NaN</td>\n",
       "      <td>+120</td>\n",
       "      <td>+160</td>\n",
       "      <td>+210</td>\n",
       "    </tr>\n",
       "    <tr>\n",
       "      <th>Jack Massingill</th>\n",
       "      <td>-375</td>\n",
       "      <td>-125</td>\n",
       "      <td>-120</td>\n",
       "      <td>NaN</td>\n",
       "      <td>+135</td>\n",
       "      <td>+180</td>\n",
       "    </tr>\n",
       "    <tr>\n",
       "      <th>Will Simpson</th>\n",
       "      <td>-500</td>\n",
       "      <td>-165</td>\n",
       "      <td>-160</td>\n",
       "      <td>-135</td>\n",
       "      <td>NaN</td>\n",
       "      <td>+135</td>\n",
       "    </tr>\n",
       "    <tr>\n",
       "      <th>Aaron Carter</th>\n",
       "      <td>-665</td>\n",
       "      <td>-225</td>\n",
       "      <td>-210</td>\n",
       "      <td>-180</td>\n",
       "      <td>-135</td>\n",
       "      <td>NaN</td>\n",
       "    </tr>\n",
       "  </tbody>\n",
       "</table>\n",
       "</div>"
      ],
      "text/plain": [
       "                Paul Bartenfeld Evan Sooklal Roman Ramirez Jack Massingill  \\\n",
       "Paul Bartenfeld             NaN         +300          +315            +375   \n",
       "Evan Sooklal               -300          NaN          +105            +125   \n",
       "Roman Ramirez              -315         -105           NaN            +120   \n",
       "Jack Massingill            -375         -125          -120             NaN   \n",
       "Will Simpson               -500         -165          -160            -135   \n",
       "Aaron Carter               -665         -225          -210            -180   \n",
       "\n",
       "                Will Simpson Aaron Carter  \n",
       "Paul Bartenfeld         +500         +665  \n",
       "Evan Sooklal            +165         +225  \n",
       "Roman Ramirez           +160         +210  \n",
       "Jack Massingill         +135         +180  \n",
       "Will Simpson             NaN         +135  \n",
       "Aaron Carter            -135          NaN  "
      ]
     },
     "metadata": {},
     "output_type": "display_data"
    }
   ],
   "source": [
    "# betting/gambling table\n",
    "\n",
    "# to-do\n",
    "# odds to win championship\n",
    "# record for/against the spread\n",
    "# player vs. player spread\n",
    "# over/under total\n",
    "\n",
    "odds_table = win_prob_table / win_prob_table.T\n",
    "ml_table = odds_table.copy(deep=True)\n",
    "\n",
    "for c in ml_table.columns:\n",
    "    for r in ml_table.index:\n",
    "        ml_table.loc[r, c] = np.NaN\n",
    "        win_prob = win_prob_table.loc[r, c]\n",
    "        if r == c:\n",
    "            pass\n",
    "        elif win_prob > 0.5:\n",
    "            ml_table.loc[r, c] = -1 * win_prob / (1 - win_prob) * 100\n",
    "        elif win_prob < 0.5:\n",
    "            ml_table.loc[r, c] = (1 - win_prob) / win_prob * 100\n",
    "\n",
    "ml_table = ml_table.applymap(lambda x: '{:+.0f}'.format((x * 2).round(-1) / 2) if not np.isnan(x) else np.NaN)\n",
    "\n",
    "display(odds_table)\n",
    "display(ml_table)"
   ]
  },
  {
   "cell_type": "code",
   "execution_count": null,
   "metadata": {},
   "outputs": [
    {
     "data": {
      "text/html": [
       "<div>\n",
       "<style scoped>\n",
       "    .dataframe tbody tr th:only-of-type {\n",
       "        vertical-align: middle;\n",
       "    }\n",
       "\n",
       "    .dataframe tbody tr th {\n",
       "        vertical-align: top;\n",
       "    }\n",
       "\n",
       "    .dataframe thead th {\n",
       "        text-align: right;\n",
       "    }\n",
       "</style>\n",
       "<table border=\"1\" class=\"dataframe\">\n",
       "  <thead>\n",
       "    <tr style=\"text-align: right;\">\n",
       "      <th></th>\n",
       "      <th>Paul Bartenfeld</th>\n",
       "      <th>Evan Sooklal</th>\n",
       "      <th>Roman Ramirez</th>\n",
       "      <th>Jack Massingill</th>\n",
       "      <th>Will Simpson</th>\n",
       "      <th>Aaron Carter</th>\n",
       "    </tr>\n",
       "  </thead>\n",
       "  <tbody>\n",
       "    <tr>\n",
       "      <th>Paul Bartenfeld</th>\n",
       "      <td>NaN</td>\n",
       "      <td>0.156932</td>\n",
       "      <td>0.146472</td>\n",
       "      <td>0.114853</td>\n",
       "      <td>0.074504</td>\n",
       "      <td>0.046547</td>\n",
       "    </tr>\n",
       "    <tr>\n",
       "      <th>Evan Sooklal</th>\n",
       "      <td>0.843068</td>\n",
       "      <td>NaN</td>\n",
       "      <td>0.480993</td>\n",
       "      <td>0.417042</td>\n",
       "      <td>0.316563</td>\n",
       "      <td>0.228080</td>\n",
       "    </tr>\n",
       "    <tr>\n",
       "      <th>Roman Ramirez</th>\n",
       "      <td>0.853528</td>\n",
       "      <td>0.519007</td>\n",
       "      <td>NaN</td>\n",
       "      <td>0.435688</td>\n",
       "      <td>0.333487</td>\n",
       "      <td>0.242242</td>\n",
       "    </tr>\n",
       "    <tr>\n",
       "      <th>Jack Massingill</th>\n",
       "      <td>0.885147</td>\n",
       "      <td>0.582958</td>\n",
       "      <td>0.564312</td>\n",
       "      <td>NaN</td>\n",
       "      <td>0.393726</td>\n",
       "      <td>0.294207</td>\n",
       "    </tr>\n",
       "    <tr>\n",
       "      <th>Will Simpson</th>\n",
       "      <td>0.925496</td>\n",
       "      <td>0.683437</td>\n",
       "      <td>0.666513</td>\n",
       "      <td>0.606274</td>\n",
       "      <td>NaN</td>\n",
       "      <td>0.391998</td>\n",
       "    </tr>\n",
       "    <tr>\n",
       "      <th>Aaron Carter</th>\n",
       "      <td>0.953453</td>\n",
       "      <td>0.771920</td>\n",
       "      <td>0.757758</td>\n",
       "      <td>0.705793</td>\n",
       "      <td>0.608002</td>\n",
       "      <td>NaN</td>\n",
       "    </tr>\n",
       "  </tbody>\n",
       "</table>\n",
       "</div>"
      ],
      "text/plain": [
       "                 Paul Bartenfeld  Evan Sooklal  Roman Ramirez  \\\n",
       "Paul Bartenfeld              NaN      0.156932       0.146472   \n",
       "Evan Sooklal            0.843068           NaN       0.480993   \n",
       "Roman Ramirez           0.853528      0.519007            NaN   \n",
       "Jack Massingill         0.885147      0.582958       0.564312   \n",
       "Will Simpson            0.925496      0.683437       0.666513   \n",
       "Aaron Carter            0.953453      0.771920       0.757758   \n",
       "\n",
       "                 Jack Massingill  Will Simpson  Aaron Carter  \n",
       "Paul Bartenfeld         0.114853      0.074504      0.046547  \n",
       "Evan Sooklal            0.417042      0.316563      0.228080  \n",
       "Roman Ramirez           0.435688      0.333487      0.242242  \n",
       "Jack Massingill              NaN      0.393726      0.294207  \n",
       "Will Simpson            0.606274           NaN      0.391998  \n",
       "Aaron Carter            0.705793      0.608002           NaN  "
      ]
     },
     "metadata": {},
     "output_type": "display_data"
    }
   ],
   "source": [
    "# best 2 out of 3 calculator\n",
    "best_23_table = win_pct_table.copy(deep=True)\n",
    "best_23_table = best_23_table.applymap(lambda x: 0)\n",
    "\n",
    "for c in best_23_table.columns:\n",
    "    for r in best_23_table.columns:\n",
    "        if r == c:\n",
    "            best_23_table.loc[r, c] = np.NaN\n",
    "        else:\n",
    "            win_prob = win_prob_table.loc[r, c]\n",
    "            best_23_table.loc[r, c] = np.power(win_prob, 2) * (1 + (2 * (1 - win_prob)))\n",
    "\n",
    "display(best_23_table)"
   ]
  },
  {
   "cell_type": "code",
   "execution_count": null,
   "metadata": {},
   "outputs": [
    {
     "data": {
      "text/html": [
       "<div>\n",
       "<style scoped>\n",
       "    .dataframe tbody tr th:only-of-type {\n",
       "        vertical-align: middle;\n",
       "    }\n",
       "\n",
       "    .dataframe tbody tr th {\n",
       "        vertical-align: top;\n",
       "    }\n",
       "\n",
       "    .dataframe thead th {\n",
       "        text-align: right;\n",
       "    }\n",
       "</style>\n",
       "<table border=\"1\" class=\"dataframe\">\n",
       "  <thead>\n",
       "    <tr style=\"text-align: right;\">\n",
       "      <th></th>\n",
       "      <th>0</th>\n",
       "      <th>1</th>\n",
       "      <th>2</th>\n",
       "      <th>3</th>\n",
       "      <th>4</th>\n",
       "      <th>5</th>\n",
       "      <th>6</th>\n",
       "      <th>7</th>\n",
       "      <th>8</th>\n",
       "    </tr>\n",
       "  </thead>\n",
       "  <tbody>\n",
       "    <tr>\n",
       "      <th>Aaron Carter</th>\n",
       "      <td>0.000029</td>\n",
       "      <td>0.000714</td>\n",
       "      <td>0.007261</td>\n",
       "      <td>0.039667</td>\n",
       "      <td>0.128618</td>\n",
       "      <td>0.255741</td>\n",
       "      <td>0.306629</td>\n",
       "      <td>0.203714</td>\n",
       "      <td>0.057628</td>\n",
       "    </tr>\n",
       "    <tr>\n",
       "      <th>Will Simpson</th>\n",
       "      <td>0.000160</td>\n",
       "      <td>0.002929</td>\n",
       "      <td>0.021839</td>\n",
       "      <td>0.086991</td>\n",
       "      <td>0.204423</td>\n",
       "      <td>0.292567</td>\n",
       "      <td>0.250404</td>\n",
       "      <td>0.117522</td>\n",
       "      <td>0.023164</td>\n",
       "    </tr>\n",
       "    <tr>\n",
       "      <th>Jack Massingill</th>\n",
       "      <td>0.000673</td>\n",
       "      <td>0.009197</td>\n",
       "      <td>0.051120</td>\n",
       "      <td>0.151422</td>\n",
       "      <td>0.263799</td>\n",
       "      <td>0.278917</td>\n",
       "      <td>0.175691</td>\n",
       "      <td>0.060464</td>\n",
       "      <td>0.008717</td>\n",
       "    </tr>\n",
       "    <tr>\n",
       "      <th>Roman Ramirez</th>\n",
       "      <td>0.001697</td>\n",
       "      <td>0.018973</td>\n",
       "      <td>0.085682</td>\n",
       "      <td>0.204715</td>\n",
       "      <td>0.286342</td>\n",
       "      <td>0.242528</td>\n",
       "      <td>0.122359</td>\n",
       "      <td>0.033784</td>\n",
       "      <td>0.003921</td>\n",
       "    </tr>\n",
       "    <tr>\n",
       "      <th>Evan Sooklal</th>\n",
       "      <td>0.002198</td>\n",
       "      <td>0.023147</td>\n",
       "      <td>0.098209</td>\n",
       "      <td>0.220005</td>\n",
       "      <td>0.288303</td>\n",
       "      <td>0.228799</td>\n",
       "      <td>0.108232</td>\n",
       "      <td>0.028048</td>\n",
       "      <td>0.003059</td>\n",
       "    </tr>\n",
       "    <tr>\n",
       "      <th>Paul Bartenfeld</th>\n",
       "      <td>0.145758</td>\n",
       "      <td>0.319256</td>\n",
       "      <td>0.303599</td>\n",
       "      <td>0.163609</td>\n",
       "      <td>0.054606</td>\n",
       "      <td>0.011548</td>\n",
       "      <td>0.001510</td>\n",
       "      <td>0.000111</td>\n",
       "      <td>0.000004</td>\n",
       "    </tr>\n",
       "  </tbody>\n",
       "</table>\n",
       "</div>"
      ],
      "text/plain": [
       "                        0         1         2         3         4         5  \\\n",
       "Aaron Carter     0.000029  0.000714  0.007261  0.039667  0.128618  0.255741   \n",
       "Will Simpson     0.000160  0.002929  0.021839  0.086991  0.204423  0.292567   \n",
       "Jack Massingill  0.000673  0.009197  0.051120  0.151422  0.263799  0.278917   \n",
       "Roman Ramirez    0.001697  0.018973  0.085682  0.204715  0.286342  0.242528   \n",
       "Evan Sooklal     0.002198  0.023147  0.098209  0.220005  0.288303  0.228799   \n",
       "Paul Bartenfeld  0.145758  0.319256  0.303599  0.163609  0.054606  0.011548   \n",
       "\n",
       "                        6         7         8  \n",
       "Aaron Carter     0.306629  0.203714  0.057628  \n",
       "Will Simpson     0.250404  0.117522  0.023164  \n",
       "Jack Massingill  0.175691  0.060464  0.008717  \n",
       "Roman Ramirez    0.122359  0.033784  0.003921  \n",
       "Evan Sooklal     0.108232  0.028048  0.003059  \n",
       "Paul Bartenfeld  0.001510  0.000111  0.000004  "
      ]
     },
     "metadata": {},
     "output_type": "display_data"
    },
    {
     "data": {
      "text/html": [
       "<div>\n",
       "<style scoped>\n",
       "    .dataframe tbody tr th:only-of-type {\n",
       "        vertical-align: middle;\n",
       "    }\n",
       "\n",
       "    .dataframe tbody tr th {\n",
       "        vertical-align: top;\n",
       "    }\n",
       "\n",
       "    .dataframe thead th {\n",
       "        text-align: right;\n",
       "    }\n",
       "</style>\n",
       "<table border=\"1\" class=\"dataframe\">\n",
       "  <thead>\n",
       "    <tr style=\"text-align: right;\">\n",
       "      <th></th>\n",
       "      <th>0</th>\n",
       "      <th>1</th>\n",
       "      <th>2</th>\n",
       "      <th>3</th>\n",
       "      <th>4</th>\n",
       "      <th>5</th>\n",
       "      <th>6</th>\n",
       "      <th>7</th>\n",
       "      <th>8</th>\n",
       "    </tr>\n",
       "  </thead>\n",
       "  <tbody>\n",
       "    <tr>\n",
       "      <th>Aaron Carter</th>\n",
       "      <td>34782.922430</td>\n",
       "      <td>1399.623703</td>\n",
       "      <td>136.724176</td>\n",
       "      <td>24.209974</td>\n",
       "      <td>6.774975</td>\n",
       "      <td>2.910204</td>\n",
       "      <td>2.261275</td>\n",
       "      <td>3.908843</td>\n",
       "      <td>16.352622</td>\n",
       "    </tr>\n",
       "    <tr>\n",
       "      <th>Will Simpson</th>\n",
       "      <td>6243.344699</td>\n",
       "      <td>340.396629</td>\n",
       "      <td>44.788604</td>\n",
       "      <td>10.495377</td>\n",
       "      <td>3.891816</td>\n",
       "      <td>2.418023</td>\n",
       "      <td>2.993551</td>\n",
       "      <td>7.509060</td>\n",
       "      <td>42.169734</td>\n",
       "    </tr>\n",
       "    <tr>\n",
       "      <th>Jack Massingill</th>\n",
       "      <td>1484.488393</td>\n",
       "      <td>107.734086</td>\n",
       "      <td>18.561655</td>\n",
       "      <td>5.604070</td>\n",
       "      <td>2.790769</td>\n",
       "      <td>2.585291</td>\n",
       "      <td>4.691797</td>\n",
       "      <td>15.538900</td>\n",
       "      <td>113.720122</td>\n",
       "    </tr>\n",
       "    <tr>\n",
       "      <th>Roman Ramirez</th>\n",
       "      <td>588.370646</td>\n",
       "      <td>51.706111</td>\n",
       "      <td>10.671028</td>\n",
       "      <td>3.884839</td>\n",
       "      <td>2.492330</td>\n",
       "      <td>3.123240</td>\n",
       "      <td>7.172688</td>\n",
       "      <td>28.599763</td>\n",
       "      <td>254.068132</td>\n",
       "    </tr>\n",
       "    <tr>\n",
       "      <th>Evan Sooklal</th>\n",
       "      <td>453.934076</td>\n",
       "      <td>42.201867</td>\n",
       "      <td>9.182376</td>\n",
       "      <td>3.545347</td>\n",
       "      <td>2.468577</td>\n",
       "      <td>3.370643</td>\n",
       "      <td>8.239452</td>\n",
       "      <td>34.652771</td>\n",
       "      <td>325.918080</td>\n",
       "    </tr>\n",
       "    <tr>\n",
       "      <th>Paul Bartenfeld</th>\n",
       "      <td>5.860703</td>\n",
       "      <td>2.132287</td>\n",
       "      <td>2.293820</td>\n",
       "      <td>5.112134</td>\n",
       "      <td>17.312975</td>\n",
       "      <td>85.593573</td>\n",
       "      <td>661.403698</td>\n",
       "      <td>8975.601246</td>\n",
       "      <td>281868.538977</td>\n",
       "    </tr>\n",
       "  </tbody>\n",
       "</table>\n",
       "</div>"
      ],
      "text/plain": [
       "                            0            1           2          3          4  \\\n",
       "Aaron Carter     34782.922430  1399.623703  136.724176  24.209974   6.774975   \n",
       "Will Simpson      6243.344699   340.396629   44.788604  10.495377   3.891816   \n",
       "Jack Massingill   1484.488393   107.734086   18.561655   5.604070   2.790769   \n",
       "Roman Ramirez      588.370646    51.706111   10.671028   3.884839   2.492330   \n",
       "Evan Sooklal       453.934076    42.201867    9.182376   3.545347   2.468577   \n",
       "Paul Bartenfeld      5.860703     2.132287    2.293820   5.112134  17.312975   \n",
       "\n",
       "                         5           6            7              8  \n",
       "Aaron Carter      2.910204    2.261275     3.908843      16.352622  \n",
       "Will Simpson      2.418023    2.993551     7.509060      42.169734  \n",
       "Jack Massingill   2.585291    4.691797    15.538900     113.720122  \n",
       "Roman Ramirez     3.123240    7.172688    28.599763     254.068132  \n",
       "Evan Sooklal      3.370643    8.239452    34.652771     325.918080  \n",
       "Paul Bartenfeld  85.593573  661.403698  8975.601246  281868.538977  "
      ]
     },
     "metadata": {},
     "output_type": "display_data"
    },
    {
     "data": {
      "text/html": [
       "<div>\n",
       "<style scoped>\n",
       "    .dataframe tbody tr th:only-of-type {\n",
       "        vertical-align: middle;\n",
       "    }\n",
       "\n",
       "    .dataframe tbody tr th {\n",
       "        vertical-align: top;\n",
       "    }\n",
       "\n",
       "    .dataframe thead th {\n",
       "        text-align: right;\n",
       "    }\n",
       "</style>\n",
       "<table border=\"1\" class=\"dataframe\">\n",
       "  <thead>\n",
       "    <tr style=\"text-align: right;\">\n",
       "      <th></th>\n",
       "      <th>0</th>\n",
       "      <th>1</th>\n",
       "      <th>2</th>\n",
       "      <th>3</th>\n",
       "      <th>4</th>\n",
       "      <th>5</th>\n",
       "      <th>6</th>\n",
       "      <th>7</th>\n",
       "      <th>8</th>\n",
       "    </tr>\n",
       "  </thead>\n",
       "  <tbody>\n",
       "    <tr>\n",
       "      <th>Aaron Carter</th>\n",
       "      <td>+3,500,000</td>\n",
       "      <td>+140,000</td>\n",
       "      <td>+14,000</td>\n",
       "      <td>+2,400</td>\n",
       "      <td>+680</td>\n",
       "      <td>+290</td>\n",
       "      <td>+230</td>\n",
       "      <td>+390</td>\n",
       "      <td>+1,600</td>\n",
       "    </tr>\n",
       "    <tr>\n",
       "      <th>Will Simpson</th>\n",
       "      <td>+620,000</td>\n",
       "      <td>+34,000</td>\n",
       "      <td>+4,500</td>\n",
       "      <td>+1,000</td>\n",
       "      <td>+390</td>\n",
       "      <td>+240</td>\n",
       "      <td>+300</td>\n",
       "      <td>+750</td>\n",
       "      <td>+4,200</td>\n",
       "    </tr>\n",
       "    <tr>\n",
       "      <th>Jack Massingill</th>\n",
       "      <td>+150,000</td>\n",
       "      <td>+11,000</td>\n",
       "      <td>+1,900</td>\n",
       "      <td>+560</td>\n",
       "      <td>+280</td>\n",
       "      <td>+260</td>\n",
       "      <td>+470</td>\n",
       "      <td>+1,600</td>\n",
       "      <td>+11,000</td>\n",
       "    </tr>\n",
       "    <tr>\n",
       "      <th>Roman Ramirez</th>\n",
       "      <td>+59,000</td>\n",
       "      <td>+5,200</td>\n",
       "      <td>+1,100</td>\n",
       "      <td>+390</td>\n",
       "      <td>+250</td>\n",
       "      <td>+310</td>\n",
       "      <td>+720</td>\n",
       "      <td>+2,900</td>\n",
       "      <td>+25,000</td>\n",
       "    </tr>\n",
       "    <tr>\n",
       "      <th>Evan Sooklal</th>\n",
       "      <td>+45,000</td>\n",
       "      <td>+4,200</td>\n",
       "      <td>+920</td>\n",
       "      <td>+350</td>\n",
       "      <td>+250</td>\n",
       "      <td>+340</td>\n",
       "      <td>+820</td>\n",
       "      <td>+3,500</td>\n",
       "      <td>+33,000</td>\n",
       "    </tr>\n",
       "    <tr>\n",
       "      <th>Paul Bartenfeld</th>\n",
       "      <td>+590</td>\n",
       "      <td>+210</td>\n",
       "      <td>+230</td>\n",
       "      <td>+510</td>\n",
       "      <td>+1,700</td>\n",
       "      <td>+8,600</td>\n",
       "      <td>+66,000</td>\n",
       "      <td>+900,000</td>\n",
       "      <td>+28,000,000</td>\n",
       "    </tr>\n",
       "  </tbody>\n",
       "</table>\n",
       "</div>"
      ],
      "text/plain": [
       "                          0         1        2       3       4       5  \\\n",
       "Aaron Carter     +3,500,000  +140,000  +14,000  +2,400    +680    +290   \n",
       "Will Simpson       +620,000   +34,000   +4,500  +1,000    +390    +240   \n",
       "Jack Massingill    +150,000   +11,000   +1,900    +560    +280    +260   \n",
       "Roman Ramirez       +59,000    +5,200   +1,100    +390    +250    +310   \n",
       "Evan Sooklal        +45,000    +4,200     +920    +350    +250    +340   \n",
       "Paul Bartenfeld        +590      +210     +230    +510  +1,700  +8,600   \n",
       "\n",
       "                       6         7            8  \n",
       "Aaron Carter        +230      +390       +1,600  \n",
       "Will Simpson        +300      +750       +4,200  \n",
       "Jack Massingill     +470    +1,600      +11,000  \n",
       "Roman Ramirez       +720    +2,900      +25,000  \n",
       "Evan Sooklal        +820    +3,500      +33,000  \n",
       "Paul Bartenfeld  +66,000  +900,000  +28,000,000  "
      ]
     },
     "metadata": {},
     "output_type": "display_data"
    },
    {
     "data": {
      "text/html": [
       "<div>\n",
       "<style scoped>\n",
       "    .dataframe tbody tr th:only-of-type {\n",
       "        vertical-align: middle;\n",
       "    }\n",
       "\n",
       "    .dataframe tbody tr th {\n",
       "        vertical-align: top;\n",
       "    }\n",
       "\n",
       "    .dataframe thead th {\n",
       "        text-align: right;\n",
       "    }\n",
       "</style>\n",
       "<table border=\"1\" class=\"dataframe\">\n",
       "  <thead>\n",
       "    <tr style=\"text-align: right;\">\n",
       "      <th></th>\n",
       "      <th>1</th>\n",
       "      <th>2</th>\n",
       "      <th>3</th>\n",
       "      <th>4</th>\n",
       "      <th>5</th>\n",
       "      <th>6</th>\n",
       "      <th>7</th>\n",
       "      <th>8</th>\n",
       "    </tr>\n",
       "  </thead>\n",
       "  <tbody>\n",
       "    <tr>\n",
       "      <th>Aaron Carter</th>\n",
       "      <td>0.999971</td>\n",
       "      <td>0.999257</td>\n",
       "      <td>0.991996</td>\n",
       "      <td>0.952330</td>\n",
       "      <td>0.823712</td>\n",
       "      <td>0.567971</td>\n",
       "      <td>0.261342</td>\n",
       "      <td>0.057628</td>\n",
       "    </tr>\n",
       "    <tr>\n",
       "      <th>Will Simpson</th>\n",
       "      <td>0.999840</td>\n",
       "      <td>0.996911</td>\n",
       "      <td>0.975071</td>\n",
       "      <td>0.888080</td>\n",
       "      <td>0.683657</td>\n",
       "      <td>0.391090</td>\n",
       "      <td>0.140686</td>\n",
       "      <td>0.023164</td>\n",
       "    </tr>\n",
       "    <tr>\n",
       "      <th>Jack Massingill</th>\n",
       "      <td>0.999327</td>\n",
       "      <td>0.990130</td>\n",
       "      <td>0.939010</td>\n",
       "      <td>0.787588</td>\n",
       "      <td>0.523789</td>\n",
       "      <td>0.244872</td>\n",
       "      <td>0.069180</td>\n",
       "      <td>0.008717</td>\n",
       "    </tr>\n",
       "    <tr>\n",
       "      <th>Roman Ramirez</th>\n",
       "      <td>0.998303</td>\n",
       "      <td>0.979330</td>\n",
       "      <td>0.893648</td>\n",
       "      <td>0.688933</td>\n",
       "      <td>0.402591</td>\n",
       "      <td>0.160063</td>\n",
       "      <td>0.037705</td>\n",
       "      <td>0.003921</td>\n",
       "    </tr>\n",
       "    <tr>\n",
       "      <th>Evan Sooklal</th>\n",
       "      <td>0.997802</td>\n",
       "      <td>0.974655</td>\n",
       "      <td>0.876446</td>\n",
       "      <td>0.656441</td>\n",
       "      <td>0.368138</td>\n",
       "      <td>0.139339</td>\n",
       "      <td>0.031107</td>\n",
       "      <td>0.003059</td>\n",
       "    </tr>\n",
       "    <tr>\n",
       "      <th>Paul Bartenfeld</th>\n",
       "      <td>0.854242</td>\n",
       "      <td>0.534987</td>\n",
       "      <td>0.231388</td>\n",
       "      <td>0.067779</td>\n",
       "      <td>0.013173</td>\n",
       "      <td>0.001625</td>\n",
       "      <td>0.000115</td>\n",
       "      <td>0.000004</td>\n",
       "    </tr>\n",
       "  </tbody>\n",
       "</table>\n",
       "</div>"
      ],
      "text/plain": [
       "                        1         2         3         4         5         6  \\\n",
       "Aaron Carter     0.999971  0.999257  0.991996  0.952330  0.823712  0.567971   \n",
       "Will Simpson     0.999840  0.996911  0.975071  0.888080  0.683657  0.391090   \n",
       "Jack Massingill  0.999327  0.990130  0.939010  0.787588  0.523789  0.244872   \n",
       "Roman Ramirez    0.998303  0.979330  0.893648  0.688933  0.402591  0.160063   \n",
       "Evan Sooklal     0.997802  0.974655  0.876446  0.656441  0.368138  0.139339   \n",
       "Paul Bartenfeld  0.854242  0.534987  0.231388  0.067779  0.013173  0.001625   \n",
       "\n",
       "                        7         8  \n",
       "Aaron Carter     0.261342  0.057628  \n",
       "Will Simpson     0.140686  0.023164  \n",
       "Jack Massingill  0.069180  0.008717  \n",
       "Roman Ramirez    0.037705  0.003921  \n",
       "Evan Sooklal     0.031107  0.003059  \n",
       "Paul Bartenfeld  0.000115  0.000004  "
      ]
     },
     "metadata": {},
     "output_type": "display_data"
    },
    {
     "data": {
      "text/html": [
       "<div>\n",
       "<style scoped>\n",
       "    .dataframe tbody tr th:only-of-type {\n",
       "        vertical-align: middle;\n",
       "    }\n",
       "\n",
       "    .dataframe tbody tr th {\n",
       "        vertical-align: top;\n",
       "    }\n",
       "\n",
       "    .dataframe thead th {\n",
       "        text-align: right;\n",
       "    }\n",
       "</style>\n",
       "<table border=\"1\" class=\"dataframe\">\n",
       "  <thead>\n",
       "    <tr style=\"text-align: right;\">\n",
       "      <th></th>\n",
       "      <th>1</th>\n",
       "      <th>2</th>\n",
       "      <th>3</th>\n",
       "      <th>4</th>\n",
       "      <th>5</th>\n",
       "      <th>6</th>\n",
       "      <th>7</th>\n",
       "      <th>8</th>\n",
       "    </tr>\n",
       "  </thead>\n",
       "  <tbody>\n",
       "    <tr>\n",
       "      <th>Aaron Carter</th>\n",
       "      <td>0.000029</td>\n",
       "      <td>0.000743</td>\n",
       "      <td>0.008068</td>\n",
       "      <td>0.050057</td>\n",
       "      <td>0.214017</td>\n",
       "      <td>0.760654</td>\n",
       "      <td>2.826401</td>\n",
       "      <td>16.352622</td>\n",
       "    </tr>\n",
       "    <tr>\n",
       "      <th>Will Simpson</th>\n",
       "      <td>0.000160</td>\n",
       "      <td>0.003099</td>\n",
       "      <td>0.025566</td>\n",
       "      <td>0.126025</td>\n",
       "      <td>0.462723</td>\n",
       "      <td>1.556957</td>\n",
       "      <td>6.108019</td>\n",
       "      <td>42.169734</td>\n",
       "    </tr>\n",
       "    <tr>\n",
       "      <th>Jack Massingill</th>\n",
       "      <td>0.000674</td>\n",
       "      <td>0.009968</td>\n",
       "      <td>0.064952</td>\n",
       "      <td>0.269700</td>\n",
       "      <td>0.909165</td>\n",
       "      <td>3.083769</td>\n",
       "      <td>13.454965</td>\n",
       "      <td>113.720122</td>\n",
       "    </tr>\n",
       "    <tr>\n",
       "      <th>Roman Ramirez</th>\n",
       "      <td>0.001700</td>\n",
       "      <td>0.021106</td>\n",
       "      <td>0.119009</td>\n",
       "      <td>0.451520</td>\n",
       "      <td>1.483910</td>\n",
       "      <td>5.247527</td>\n",
       "      <td>25.521980</td>\n",
       "      <td>254.068132</td>\n",
       "    </tr>\n",
       "    <tr>\n",
       "      <th>Evan Sooklal</th>\n",
       "      <td>0.002203</td>\n",
       "      <td>0.026004</td>\n",
       "      <td>0.140972</td>\n",
       "      <td>0.523367</td>\n",
       "      <td>1.716373</td>\n",
       "      <td>6.176757</td>\n",
       "      <td>31.146918</td>\n",
       "      <td>325.918080</td>\n",
       "    </tr>\n",
       "    <tr>\n",
       "      <th>Paul Bartenfeld</th>\n",
       "      <td>0.170628</td>\n",
       "      <td>0.869205</td>\n",
       "      <td>3.321748</td>\n",
       "      <td>13.753855</td>\n",
       "      <td>74.913987</td>\n",
       "      <td>614.535418</td>\n",
       "      <td>8698.549710</td>\n",
       "      <td>281868.538977</td>\n",
       "    </tr>\n",
       "  </tbody>\n",
       "</table>\n",
       "</div>"
      ],
      "text/plain": [
       "                        1         2         3          4          5  \\\n",
       "Aaron Carter     0.000029  0.000743  0.008068   0.050057   0.214017   \n",
       "Will Simpson     0.000160  0.003099  0.025566   0.126025   0.462723   \n",
       "Jack Massingill  0.000674  0.009968  0.064952   0.269700   0.909165   \n",
       "Roman Ramirez    0.001700  0.021106  0.119009   0.451520   1.483910   \n",
       "Evan Sooklal     0.002203  0.026004  0.140972   0.523367   1.716373   \n",
       "Paul Bartenfeld  0.170628  0.869205  3.321748  13.753855  74.913987   \n",
       "\n",
       "                          6            7              8  \n",
       "Aaron Carter       0.760654     2.826401      16.352622  \n",
       "Will Simpson       1.556957     6.108019      42.169734  \n",
       "Jack Massingill    3.083769    13.454965     113.720122  \n",
       "Roman Ramirez      5.247527    25.521980     254.068132  \n",
       "Evan Sooklal       6.176757    31.146918     325.918080  \n",
       "Paul Bartenfeld  614.535418  8698.549710  281868.538977  "
      ]
     },
     "metadata": {},
     "output_type": "display_data"
    },
    {
     "data": {
      "text/html": [
       "<div>\n",
       "<style scoped>\n",
       "    .dataframe tbody tr th:only-of-type {\n",
       "        vertical-align: middle;\n",
       "    }\n",
       "\n",
       "    .dataframe tbody tr th {\n",
       "        vertical-align: top;\n",
       "    }\n",
       "\n",
       "    .dataframe thead th {\n",
       "        text-align: right;\n",
       "    }\n",
       "</style>\n",
       "<table border=\"1\" class=\"dataframe\">\n",
       "  <thead>\n",
       "    <tr style=\"text-align: right;\">\n",
       "      <th></th>\n",
       "      <th>1</th>\n",
       "      <th>2</th>\n",
       "      <th>3</th>\n",
       "      <th>4</th>\n",
       "      <th>5</th>\n",
       "      <th>6</th>\n",
       "      <th>7</th>\n",
       "      <th>8</th>\n",
       "    </tr>\n",
       "  </thead>\n",
       "  <tbody>\n",
       "    <tr>\n",
       "      <th>Aaron Carter</th>\n",
       "      <td>-3,500,000</td>\n",
       "      <td>-130,000</td>\n",
       "      <td>-12,000</td>\n",
       "      <td>-2,000</td>\n",
       "      <td>-470</td>\n",
       "      <td>-130</td>\n",
       "      <td>+280</td>\n",
       "      <td>+1,600</td>\n",
       "    </tr>\n",
       "    <tr>\n",
       "      <th>Will Simpson</th>\n",
       "      <td>-620,000</td>\n",
       "      <td>-32,000</td>\n",
       "      <td>-3,900</td>\n",
       "      <td>-790</td>\n",
       "      <td>-220</td>\n",
       "      <td>+160</td>\n",
       "      <td>+610</td>\n",
       "      <td>+4,200</td>\n",
       "    </tr>\n",
       "    <tr>\n",
       "      <th>Jack Massingill</th>\n",
       "      <td>-150,000</td>\n",
       "      <td>-10,000</td>\n",
       "      <td>-1,500</td>\n",
       "      <td>-370</td>\n",
       "      <td>-110</td>\n",
       "      <td>+310</td>\n",
       "      <td>+1,300</td>\n",
       "      <td>+11,000</td>\n",
       "    </tr>\n",
       "    <tr>\n",
       "      <th>Roman Ramirez</th>\n",
       "      <td>-59,000</td>\n",
       "      <td>-4,700</td>\n",
       "      <td>-840</td>\n",
       "      <td>-220</td>\n",
       "      <td>+150</td>\n",
       "      <td>+520</td>\n",
       "      <td>+2,600</td>\n",
       "      <td>+25,000</td>\n",
       "    </tr>\n",
       "    <tr>\n",
       "      <th>Evan Sooklal</th>\n",
       "      <td>-45,000</td>\n",
       "      <td>-3,800</td>\n",
       "      <td>-710</td>\n",
       "      <td>-190</td>\n",
       "      <td>+170</td>\n",
       "      <td>+620</td>\n",
       "      <td>+3,100</td>\n",
       "      <td>+33,000</td>\n",
       "    </tr>\n",
       "    <tr>\n",
       "      <th>Paul Bartenfeld</th>\n",
       "      <td>-590</td>\n",
       "      <td>-120</td>\n",
       "      <td>+330</td>\n",
       "      <td>+1,400</td>\n",
       "      <td>+7,500</td>\n",
       "      <td>+61,000</td>\n",
       "      <td>+870,000</td>\n",
       "      <td>+28,000,000</td>\n",
       "    </tr>\n",
       "  </tbody>\n",
       "</table>\n",
       "</div>"
      ],
      "text/plain": [
       "                          1         2        3       4       5        6  \\\n",
       "Aaron Carter     -3,500,000  -130,000  -12,000  -2,000    -470     -130   \n",
       "Will Simpson       -620,000   -32,000   -3,900    -790    -220     +160   \n",
       "Jack Massingill    -150,000   -10,000   -1,500    -370    -110     +310   \n",
       "Roman Ramirez       -59,000    -4,700     -840    -220    +150     +520   \n",
       "Evan Sooklal        -45,000    -3,800     -710    -190    +170     +620   \n",
       "Paul Bartenfeld        -590      -120     +330  +1,400  +7,500  +61,000   \n",
       "\n",
       "                        7            8  \n",
       "Aaron Carter         +280       +1,600  \n",
       "Will Simpson         +610       +4,200  \n",
       "Jack Massingill    +1,300      +11,000  \n",
       "Roman Ramirez      +2,600      +25,000  \n",
       "Evan Sooklal       +3,100      +33,000  \n",
       "Paul Bartenfeld  +870,000  +28,000,000  "
      ]
     },
     "metadata": {},
     "output_type": "display_data"
    }
   ],
   "source": [
    "# making playoffs odds\n",
    "# assumptions\n",
    "## assume ELO doesn't change after each game\n",
    "## assume if you win at least 6/8 of your games, you're in for the championship\n",
    "## independent on the order of matches\n",
    "def prob_of_x_wins(player, num_wins=6):\n",
    "    sp = set_players.copy()\n",
    "    sp.remove(player)\n",
    "    schedule = list(sp) + list(sp)\n",
    "\n",
    "    total_prob = 0\n",
    "    for i in range(np.power(2, 8)):\n",
    "        single_prob = 1\n",
    "        record = '{0:08b}'.format(i)\n",
    "        if record.count('1') != (num_wins):\n",
    "            continue\n",
    "        for (j, x) in enumerate(record):\n",
    "            if x == '1':\n",
    "                single_prob *= win_prob_table.loc[player, schedule[j]]\n",
    "            elif x == '0':\n",
    "                single_prob *= win_prob_table.loc[schedule[j], player]\n",
    "        total_prob += single_prob\n",
    "    return total_prob\n",
    "\n",
    "prob_of_x_wins_table = pd.DataFrame(np.zeros([len(set_players), 9]))\n",
    "prob_of_x_wins_table.index = list(set_players)\n",
    "prob_of_x_wins_table.columns\n",
    "prob_of_x_wins_table.sort_index(axis=0, key=(lambda x: [elo[y] for y in x.values]), ascending=False, inplace=True)\n",
    "\n",
    "for c in prob_of_x_wins_table.columns:\n",
    "    for r in prob_of_x_wins_table.index:\n",
    "        prob_of_x_wins_table.loc[r, c] = prob_of_x_wins(r, int(c))\n",
    "\n",
    "odds_of_x_wins_table = (1 - prob_of_x_wins_table) / prob_of_x_wins_table\n",
    "ml_of_x_wins_table = odds_of_x_wins_table.applymap(lambda x: '{:+,.0f}'.format(float('%.2g' % (x * 100)) if not np.isnan(x) else np.NaN))\n",
    "\n",
    "# what is the probability of getting at least x wins?\n",
    "prob_of_cum_x_wins_table = prob_of_x_wins_table.copy(deep=True)\n",
    "prob_of_cum_x_wins_table.applymap(lambda x: 0)\n",
    "\n",
    "for (i, c) in enumerate(prob_of_cum_x_wins_table.columns):\n",
    "    prob_of_cum_x_wins_table.loc[:, c] = prob_of_x_wins_table.iloc[:, i:8+1].sum(axis=1)\n",
    "prob_of_cum_x_wins_table.drop(columns=0, axis=1, inplace=True)\n",
    "\n",
    "odds_of_cum_x_wins_table = (1 - prob_of_cum_x_wins_table) / prob_of_cum_x_wins_table\n",
    "ml_of_cum_x_wins_table = odds_of_cum_x_wins_table.copy(deep=True)\n",
    "\n",
    "for c in ml_of_cum_x_wins_table.columns:\n",
    "    for r in ml_of_cum_x_wins_table.index:\n",
    "        ml_of_cum_x_wins_table.loc[r, c] = np.NaN\n",
    "        odds = odds_of_cum_x_wins_table.loc[r, c]\n",
    "        if odds < 1:\n",
    "            ml_of_cum_x_wins_table.loc[r, c] = -1 * (1 / odds_of_cum_x_wins_table.loc[r, c]) * 100\n",
    "        elif odds > 1:\n",
    "            ml_of_cum_x_wins_table.loc[r, c] = odds_of_cum_x_wins_table.loc[r, c] * 100\n",
    "\n",
    "ml_of_cum_x_wins_table = ml_of_cum_x_wins_table.applymap(lambda x: '{:+,.0f}'.format(float('%.2g' % (x)) if not np.isnan(x) else np.NaN))\n",
    "\n",
    "display(prob_of_x_wins_table)\n",
    "display(odds_of_x_wins_table)\n",
    "display(ml_of_x_wins_table)\n",
    "display(prob_of_cum_x_wins_table)\n",
    "display(odds_of_cum_x_wins_table)\n",
    "display(ml_of_cum_x_wins_table)"
   ]
  },
  {
   "cell_type": "code",
   "execution_count": null,
   "metadata": {},
   "outputs": [
    {
     "data": {
      "application/vnd.plotly.v1+json": {
       "config": {
        "plotlyServerURL": "https://plot.ly"
       },
       "data": [
        {
         "colorscale": [
          [
           0,
           "rgb(5,48,97)"
          ],
          [
           0.1,
           "rgb(33,102,172)"
          ],
          [
           0.2,
           "rgb(67,147,195)"
          ],
          [
           0.3,
           "rgb(146,197,222)"
          ],
          [
           0.4,
           "rgb(209,229,240)"
          ],
          [
           0.5,
           "rgb(247,247,247)"
          ],
          [
           0.6,
           "rgb(253,219,199)"
          ],
          [
           0.7,
           "rgb(244,165,130)"
          ],
          [
           0.8,
           "rgb(214,96,77)"
          ],
          [
           0.9,
           "rgb(178,24,43)"
          ],
          [
           1,
           "rgb(103,0,31)"
          ]
         ],
         "hoverinfo": "skip",
         "hoverongaps": false,
         "showscale": false,
         "text": [
          [
           "",
           "+300",
           "+315",
           "+375",
           "+500",
           "+665"
          ],
          [
           "-300",
           "",
           "+105",
           "+125",
           "+165",
           "+225"
          ],
          [
           "-315",
           "-105",
           "",
           "+120",
           "+160",
           "+210"
          ],
          [
           "-375",
           "-125",
           "-120",
           "",
           "+135",
           "+180"
          ],
          [
           "-500",
           "-165",
           "-160",
           "-135",
           "",
           "+135"
          ],
          [
           "-665",
           "-225",
           "-210",
           "-180",
           "-135",
           ""
          ]
         ],
         "texttemplate": "%{text}",
         "type": "heatmap",
         "x": [
          "Paul<br>Bartenfeld",
          "Evan<br>Sooklal",
          "Roman<br>Ramirez",
          "Jack<br>Massingill",
          "Will<br>Simpson",
          "Aaron<br>Carter"
         ],
         "xaxis": "x",
         "y": [
          "Paul<br>Bartenfeld",
          "Evan<br>Sooklal",
          "Roman<br>Ramirez",
          "Jack<br>Massingill",
          "Will<br>Simpson",
          "Aaron<br>Carter"
         ],
         "yaxis": "y",
         "z": [
          [
           null,
           0.25060593069927706,
           0.24120372305772128,
           0.21107806748847494,
           0.16718197963543774,
           0.13035433232704763
          ],
          [
           0.7493940693007229,
           null,
           0.48732567393718773,
           0.4444660488896585,
           0.37511172153869365,
           0.3095024941540837
          ],
          [
           0.7587962769422787,
           0.5126743260628123,
           null,
           0.45701936634742807,
           0.38707103798573095,
           0.32044270795965535
          ],
          [
           0.7889219325115251,
           0.5555339511103415,
           0.5429806336525719,
           null,
           0.4286667338957558,
           0.3590729307705838
          ],
          [
           0.8328180203645622,
           0.6248882784613063,
           0.6129289620142689,
           0.5713332661042442,
           null,
           0.4274905065753997
          ],
          [
           0.8696456676729524,
           0.6904975058459163,
           0.6795572920403447,
           0.6409270692294162,
           0.5725094934246002,
           null
          ]
         ],
         "zmax": 0.8696456676729524,
         "zmid": 0.5,
         "zmin": 0.13035433232704763
        },
        {
         "colorscale": [
          [
           0,
           "rgb(5,48,97)"
          ],
          [
           0.1,
           "rgb(33,102,172)"
          ],
          [
           0.2,
           "rgb(67,147,195)"
          ],
          [
           0.3,
           "rgb(146,197,222)"
          ],
          [
           0.4,
           "rgb(209,229,240)"
          ],
          [
           0.5,
           "rgb(247,247,247)"
          ],
          [
           0.6,
           "rgb(253,219,199)"
          ],
          [
           0.7,
           "rgb(244,165,130)"
          ],
          [
           0.8,
           "rgb(214,96,77)"
          ],
          [
           0.9,
           "rgb(178,24,43)"
          ],
          [
           1,
           "rgb(103,0,31)"
          ]
         ],
         "hoverinfo": "skip",
         "hoverongaps": false,
         "showscale": false,
         "text": [
          [
           "-590",
           "-120",
           "+330",
           "+1400",
           "+7500",
           "+61000",
           "+870000",
           "+28000000"
          ],
          [
           "-45000",
           "-3800",
           "-710",
           "-190",
           "+170",
           "+620",
           "+3100",
           "+33000"
          ],
          [
           "-59000",
           "-4700",
           "-840",
           "-220",
           "+150",
           "+520",
           "+2600",
           "+25000"
          ],
          [
           "-150000",
           "-10000",
           "-1500",
           "-370",
           "-110",
           "+310",
           "+1300",
           "+11000"
          ],
          [
           "-620000",
           "-32000",
           "-3900",
           "-790",
           "-220",
           "+160",
           "+610",
           "+4200"
          ],
          [
           "-3500000",
           "-130000",
           "-12000",
           "-2000",
           "-470",
           "-130",
           "+280",
           "+1600"
          ]
         ],
         "texttemplate": "%{text}",
         "type": "heatmap",
         "x": [
          "1",
          "2",
          "3",
          "4",
          "5",
          "6",
          "7",
          "8"
         ],
         "xaxis": "x2",
         "y": [
          "Paul<br>Bartenfeld",
          "Evan<br>Sooklal",
          "Roman<br>Ramirez",
          "Jack<br>Massingill",
          "Will<br>Simpson",
          "Aaron<br>Carter"
         ],
         "yaxis": "y2",
         "z": [
          [
           0.8542423366316909,
           0.5349867597600994,
           0.23138786290236985,
           0.06777889406410512,
           0.01317280299155211,
           0.0016246018848618028,
           0.00011494847817852076,
           0.0000035477405739890055
          ],
          [
           0.9978018793234742,
           0.9746547313612781,
           0.8764458230304724,
           0.6564406396605087,
           0.36813796950555594,
           0.13933870558176484,
           0.031107181197471516,
           0.003058870287390658
          ],
          [
           0.9983032748463819,
           0.9793301429904656,
           0.8936478883223157,
           0.6889328705966254,
           0.40259107813265743,
           0.16006333339989615,
           0.03770457523097957,
           0.0039205211311014905
          ],
          [
           0.9993268207246726,
           0.9901300726230312,
           0.9390096529524677,
           0.7875878861437087,
           0.5237891882900214,
           0.2448718302211388,
           0.06918038166237697,
           0.008716866597799786
          ],
          [
           0.9998398550931644,
           0.996910710764489,
           0.9750712156688754,
           0.888079724821734,
           0.6836566634425008,
           0.3910898795513621,
           0.14068617205447828,
           0.02316437705328903
          ],
          [
           0.9999712510858423,
           0.9992572834455459,
           0.9919963941339159,
           0.9523295550107674,
           0.8237117758904754,
           0.5679706744729262,
           0.2613421571954985,
           0.0576281797265431
          ]
         ],
         "zmax": 0.9999712510858423,
         "zmid": 0,
         "zmin": 0.0000035477405739890055
        }
       ],
       "layout": {
        "annotations": [
         {
          "font": {
           "size": 16
          },
          "showarrow": false,
          "text": "<b>Current Matchup M/L</b><br>Odds for a Single Game",
          "x": 0.225,
          "xanchor": "center",
          "xref": "paper",
          "y": 1,
          "yanchor": "bottom",
          "yref": "paper"
         },
         {
          "font": {
           "size": 16
          },
          "showarrow": false,
          "text": "<b>M/L: Group-Stage Wins</b><br>Odds of Winning at Least <b>X</b> Games",
          "x": 0.775,
          "xanchor": "center",
          "xref": "paper",
          "y": 1,
          "yanchor": "bottom",
          "yref": "paper"
         },
         {
          "font": {
           "size": 16
          },
          "showarrow": false,
          "text": "<a href='https://htmlpreview.github.io/?https://github.com/notromanramirez/dgn_showdown/blob/main/index.html'>ELO Graph</a>, <a href='https://htmlpreview.github.io/?https://github.com/notromanramirez/dgn_showdown/blob/main/figures/fig1.html'>H2H Stats</a>, <a href='https://htmlpreview.github.io/?https://github.com/notromanramirez/dgn_showdown/blob/main/figures/fig2.html'>H2H Advanced Stats</a>, <a href='https://htmlpreview.github.io/?https://github.com/notromanramirez/dgn_showdown/blob/main/figures/fig3.html'>H2H More Stats</a>, <a href='https://htmlpreview.github.io/?https://github.com/notromanramirez/dgn_showdown/blob/main/figures/fig4.html'>Player Data</a>, <a href='https://htmlpreview.github.io/?https://github.com/notromanramirez/dgn_showdown/blob/main/figures/fig5.html'>Matches Data</a>",
          "x": 0.5,
          "xanchor": "center",
          "xref": "paper",
          "y": 0,
          "yanchor": "top",
          "yref": "paper",
          "yshift": -30
         }
        ],
        "template": {
         "data": {
          "bar": [
           {
            "error_x": {
             "color": "#2a3f5f"
            },
            "error_y": {
             "color": "#2a3f5f"
            },
            "marker": {
             "line": {
              "color": "#E5ECF6",
              "width": 0.5
             },
             "pattern": {
              "fillmode": "overlay",
              "size": 10,
              "solidity": 0.2
             }
            },
            "type": "bar"
           }
          ],
          "barpolar": [
           {
            "marker": {
             "line": {
              "color": "#E5ECF6",
              "width": 0.5
             },
             "pattern": {
              "fillmode": "overlay",
              "size": 10,
              "solidity": 0.2
             }
            },
            "type": "barpolar"
           }
          ],
          "carpet": [
           {
            "aaxis": {
             "endlinecolor": "#2a3f5f",
             "gridcolor": "white",
             "linecolor": "white",
             "minorgridcolor": "white",
             "startlinecolor": "#2a3f5f"
            },
            "baxis": {
             "endlinecolor": "#2a3f5f",
             "gridcolor": "white",
             "linecolor": "white",
             "minorgridcolor": "white",
             "startlinecolor": "#2a3f5f"
            },
            "type": "carpet"
           }
          ],
          "choropleth": [
           {
            "colorbar": {
             "outlinewidth": 0,
             "ticks": ""
            },
            "type": "choropleth"
           }
          ],
          "contour": [
           {
            "colorbar": {
             "outlinewidth": 0,
             "ticks": ""
            },
            "colorscale": [
             [
              0,
              "#0d0887"
             ],
             [
              0.1111111111111111,
              "#46039f"
             ],
             [
              0.2222222222222222,
              "#7201a8"
             ],
             [
              0.3333333333333333,
              "#9c179e"
             ],
             [
              0.4444444444444444,
              "#bd3786"
             ],
             [
              0.5555555555555556,
              "#d8576b"
             ],
             [
              0.6666666666666666,
              "#ed7953"
             ],
             [
              0.7777777777777778,
              "#fb9f3a"
             ],
             [
              0.8888888888888888,
              "#fdca26"
             ],
             [
              1,
              "#f0f921"
             ]
            ],
            "type": "contour"
           }
          ],
          "contourcarpet": [
           {
            "colorbar": {
             "outlinewidth": 0,
             "ticks": ""
            },
            "type": "contourcarpet"
           }
          ],
          "heatmap": [
           {
            "colorbar": {
             "outlinewidth": 0,
             "ticks": ""
            },
            "colorscale": [
             [
              0,
              "#0d0887"
             ],
             [
              0.1111111111111111,
              "#46039f"
             ],
             [
              0.2222222222222222,
              "#7201a8"
             ],
             [
              0.3333333333333333,
              "#9c179e"
             ],
             [
              0.4444444444444444,
              "#bd3786"
             ],
             [
              0.5555555555555556,
              "#d8576b"
             ],
             [
              0.6666666666666666,
              "#ed7953"
             ],
             [
              0.7777777777777778,
              "#fb9f3a"
             ],
             [
              0.8888888888888888,
              "#fdca26"
             ],
             [
              1,
              "#f0f921"
             ]
            ],
            "type": "heatmap"
           }
          ],
          "heatmapgl": [
           {
            "colorbar": {
             "outlinewidth": 0,
             "ticks": ""
            },
            "colorscale": [
             [
              0,
              "#0d0887"
             ],
             [
              0.1111111111111111,
              "#46039f"
             ],
             [
              0.2222222222222222,
              "#7201a8"
             ],
             [
              0.3333333333333333,
              "#9c179e"
             ],
             [
              0.4444444444444444,
              "#bd3786"
             ],
             [
              0.5555555555555556,
              "#d8576b"
             ],
             [
              0.6666666666666666,
              "#ed7953"
             ],
             [
              0.7777777777777778,
              "#fb9f3a"
             ],
             [
              0.8888888888888888,
              "#fdca26"
             ],
             [
              1,
              "#f0f921"
             ]
            ],
            "type": "heatmapgl"
           }
          ],
          "histogram": [
           {
            "marker": {
             "pattern": {
              "fillmode": "overlay",
              "size": 10,
              "solidity": 0.2
             }
            },
            "type": "histogram"
           }
          ],
          "histogram2d": [
           {
            "colorbar": {
             "outlinewidth": 0,
             "ticks": ""
            },
            "colorscale": [
             [
              0,
              "#0d0887"
             ],
             [
              0.1111111111111111,
              "#46039f"
             ],
             [
              0.2222222222222222,
              "#7201a8"
             ],
             [
              0.3333333333333333,
              "#9c179e"
             ],
             [
              0.4444444444444444,
              "#bd3786"
             ],
             [
              0.5555555555555556,
              "#d8576b"
             ],
             [
              0.6666666666666666,
              "#ed7953"
             ],
             [
              0.7777777777777778,
              "#fb9f3a"
             ],
             [
              0.8888888888888888,
              "#fdca26"
             ],
             [
              1,
              "#f0f921"
             ]
            ],
            "type": "histogram2d"
           }
          ],
          "histogram2dcontour": [
           {
            "colorbar": {
             "outlinewidth": 0,
             "ticks": ""
            },
            "colorscale": [
             [
              0,
              "#0d0887"
             ],
             [
              0.1111111111111111,
              "#46039f"
             ],
             [
              0.2222222222222222,
              "#7201a8"
             ],
             [
              0.3333333333333333,
              "#9c179e"
             ],
             [
              0.4444444444444444,
              "#bd3786"
             ],
             [
              0.5555555555555556,
              "#d8576b"
             ],
             [
              0.6666666666666666,
              "#ed7953"
             ],
             [
              0.7777777777777778,
              "#fb9f3a"
             ],
             [
              0.8888888888888888,
              "#fdca26"
             ],
             [
              1,
              "#f0f921"
             ]
            ],
            "type": "histogram2dcontour"
           }
          ],
          "mesh3d": [
           {
            "colorbar": {
             "outlinewidth": 0,
             "ticks": ""
            },
            "type": "mesh3d"
           }
          ],
          "parcoords": [
           {
            "line": {
             "colorbar": {
              "outlinewidth": 0,
              "ticks": ""
             }
            },
            "type": "parcoords"
           }
          ],
          "pie": [
           {
            "automargin": true,
            "type": "pie"
           }
          ],
          "scatter": [
           {
            "fillpattern": {
             "fillmode": "overlay",
             "size": 10,
             "solidity": 0.2
            },
            "type": "scatter"
           }
          ],
          "scatter3d": [
           {
            "line": {
             "colorbar": {
              "outlinewidth": 0,
              "ticks": ""
             }
            },
            "marker": {
             "colorbar": {
              "outlinewidth": 0,
              "ticks": ""
             }
            },
            "type": "scatter3d"
           }
          ],
          "scattercarpet": [
           {
            "marker": {
             "colorbar": {
              "outlinewidth": 0,
              "ticks": ""
             }
            },
            "type": "scattercarpet"
           }
          ],
          "scattergeo": [
           {
            "marker": {
             "colorbar": {
              "outlinewidth": 0,
              "ticks": ""
             }
            },
            "type": "scattergeo"
           }
          ],
          "scattergl": [
           {
            "marker": {
             "colorbar": {
              "outlinewidth": 0,
              "ticks": ""
             }
            },
            "type": "scattergl"
           }
          ],
          "scattermapbox": [
           {
            "marker": {
             "colorbar": {
              "outlinewidth": 0,
              "ticks": ""
             }
            },
            "type": "scattermapbox"
           }
          ],
          "scatterpolar": [
           {
            "marker": {
             "colorbar": {
              "outlinewidth": 0,
              "ticks": ""
             }
            },
            "type": "scatterpolar"
           }
          ],
          "scatterpolargl": [
           {
            "marker": {
             "colorbar": {
              "outlinewidth": 0,
              "ticks": ""
             }
            },
            "type": "scatterpolargl"
           }
          ],
          "scatterternary": [
           {
            "marker": {
             "colorbar": {
              "outlinewidth": 0,
              "ticks": ""
             }
            },
            "type": "scatterternary"
           }
          ],
          "surface": [
           {
            "colorbar": {
             "outlinewidth": 0,
             "ticks": ""
            },
            "colorscale": [
             [
              0,
              "#0d0887"
             ],
             [
              0.1111111111111111,
              "#46039f"
             ],
             [
              0.2222222222222222,
              "#7201a8"
             ],
             [
              0.3333333333333333,
              "#9c179e"
             ],
             [
              0.4444444444444444,
              "#bd3786"
             ],
             [
              0.5555555555555556,
              "#d8576b"
             ],
             [
              0.6666666666666666,
              "#ed7953"
             ],
             [
              0.7777777777777778,
              "#fb9f3a"
             ],
             [
              0.8888888888888888,
              "#fdca26"
             ],
             [
              1,
              "#f0f921"
             ]
            ],
            "type": "surface"
           }
          ],
          "table": [
           {
            "cells": {
             "fill": {
              "color": "#EBF0F8"
             },
             "line": {
              "color": "white"
             }
            },
            "header": {
             "fill": {
              "color": "#C8D4E3"
             },
             "line": {
              "color": "white"
             }
            },
            "type": "table"
           }
          ]
         },
         "layout": {
          "annotationdefaults": {
           "arrowcolor": "#2a3f5f",
           "arrowhead": 0,
           "arrowwidth": 1
          },
          "autotypenumbers": "strict",
          "coloraxis": {
           "colorbar": {
            "outlinewidth": 0,
            "ticks": ""
           }
          },
          "colorscale": {
           "diverging": [
            [
             0,
             "#8e0152"
            ],
            [
             0.1,
             "#c51b7d"
            ],
            [
             0.2,
             "#de77ae"
            ],
            [
             0.3,
             "#f1b6da"
            ],
            [
             0.4,
             "#fde0ef"
            ],
            [
             0.5,
             "#f7f7f7"
            ],
            [
             0.6,
             "#e6f5d0"
            ],
            [
             0.7,
             "#b8e186"
            ],
            [
             0.8,
             "#7fbc41"
            ],
            [
             0.9,
             "#4d9221"
            ],
            [
             1,
             "#276419"
            ]
           ],
           "sequential": [
            [
             0,
             "#0d0887"
            ],
            [
             0.1111111111111111,
             "#46039f"
            ],
            [
             0.2222222222222222,
             "#7201a8"
            ],
            [
             0.3333333333333333,
             "#9c179e"
            ],
            [
             0.4444444444444444,
             "#bd3786"
            ],
            [
             0.5555555555555556,
             "#d8576b"
            ],
            [
             0.6666666666666666,
             "#ed7953"
            ],
            [
             0.7777777777777778,
             "#fb9f3a"
            ],
            [
             0.8888888888888888,
             "#fdca26"
            ],
            [
             1,
             "#f0f921"
            ]
           ],
           "sequentialminus": [
            [
             0,
             "#0d0887"
            ],
            [
             0.1111111111111111,
             "#46039f"
            ],
            [
             0.2222222222222222,
             "#7201a8"
            ],
            [
             0.3333333333333333,
             "#9c179e"
            ],
            [
             0.4444444444444444,
             "#bd3786"
            ],
            [
             0.5555555555555556,
             "#d8576b"
            ],
            [
             0.6666666666666666,
             "#ed7953"
            ],
            [
             0.7777777777777778,
             "#fb9f3a"
            ],
            [
             0.8888888888888888,
             "#fdca26"
            ],
            [
             1,
             "#f0f921"
            ]
           ]
          },
          "colorway": [
           "#636efa",
           "#EF553B",
           "#00cc96",
           "#ab63fa",
           "#FFA15A",
           "#19d3f3",
           "#FF6692",
           "#B6E880",
           "#FF97FF",
           "#FECB52"
          ],
          "font": {
           "color": "#2a3f5f"
          },
          "geo": {
           "bgcolor": "white",
           "lakecolor": "white",
           "landcolor": "#E5ECF6",
           "showlakes": true,
           "showland": true,
           "subunitcolor": "white"
          },
          "hoverlabel": {
           "align": "left"
          },
          "hovermode": "closest",
          "mapbox": {
           "style": "light"
          },
          "paper_bgcolor": "white",
          "plot_bgcolor": "#E5ECF6",
          "polar": {
           "angularaxis": {
            "gridcolor": "white",
            "linecolor": "white",
            "ticks": ""
           },
           "bgcolor": "#E5ECF6",
           "radialaxis": {
            "gridcolor": "white",
            "linecolor": "white",
            "ticks": ""
           }
          },
          "scene": {
           "xaxis": {
            "backgroundcolor": "#E5ECF6",
            "gridcolor": "white",
            "gridwidth": 2,
            "linecolor": "white",
            "showbackground": true,
            "ticks": "",
            "zerolinecolor": "white"
           },
           "yaxis": {
            "backgroundcolor": "#E5ECF6",
            "gridcolor": "white",
            "gridwidth": 2,
            "linecolor": "white",
            "showbackground": true,
            "ticks": "",
            "zerolinecolor": "white"
           },
           "zaxis": {
            "backgroundcolor": "#E5ECF6",
            "gridcolor": "white",
            "gridwidth": 2,
            "linecolor": "white",
            "showbackground": true,
            "ticks": "",
            "zerolinecolor": "white"
           }
          },
          "shapedefaults": {
           "line": {
            "color": "#2a3f5f"
           }
          },
          "ternary": {
           "aaxis": {
            "gridcolor": "white",
            "linecolor": "white",
            "ticks": ""
           },
           "baxis": {
            "gridcolor": "white",
            "linecolor": "white",
            "ticks": ""
           },
           "bgcolor": "#E5ECF6",
           "caxis": {
            "gridcolor": "white",
            "linecolor": "white",
            "ticks": ""
           }
          },
          "title": {
           "x": 0.05
          },
          "xaxis": {
           "automargin": true,
           "gridcolor": "white",
           "linecolor": "white",
           "ticks": "",
           "title": {
            "standoff": 15
           },
           "zerolinecolor": "white",
           "zerolinewidth": 2
          },
          "yaxis": {
           "automargin": true,
           "gridcolor": "white",
           "linecolor": "white",
           "ticks": "",
           "title": {
            "standoff": 15
           },
           "zerolinecolor": "white",
           "zerolinewidth": 2
          }
         }
        },
        "title": {
         "text": "<b>Money-Lines</b>, <i>Updated Saturday, Feb 17, 2024 21:52:55 CT</i>"
        },
        "xaxis": {
         "anchor": "y",
         "domain": [
          0,
          0.45
         ],
         "title": {
          "text": "<b>Other</b>"
         }
        },
        "xaxis2": {
         "anchor": "y2",
         "domain": [
          0.55,
          1
         ],
         "title": {
          "text": "<b>Number of Total Wins in Group Stage</b>"
         }
        },
        "yaxis": {
         "anchor": "x",
         "domain": [
          0,
          1
         ],
         "title": {
          "text": "<b>Self</b>"
         }
        },
        "yaxis2": {
         "anchor": "x2",
         "domain": [
          0,
          1
         ],
         "title": {
          "text": "<b>Self</b>"
         }
        }
       }
      }
     },
     "metadata": {},
     "output_type": "display_data"
    }
   ],
   "source": [
    "fig6 = make_subplots(\n",
    "    rows=1, cols=2,\n",
    "    subplot_titles=[\n",
    "        \"<b>Current Matchup M/L</b><br>Odds for a Single Game\", \n",
    "        \"<b>M/L: Group-Stage Wins</b><br>Odds of Winning at Least <b>X</b> Games\"\n",
    "    ],\n",
    "    x_title=f\"{link_fig}, {link_fig1}, {link_fig2}, {link_fig3}, {link_fig4}, {link_fig5}\"\n",
    ")\n",
    "\n",
    "\n",
    "go_ml = go.Heatmap(\n",
    "    x=[x.replace(\" \", \"<br>\") for x in ml_table.columns],\n",
    "    y=[x.replace(\" \", \"<br>\") for x in ml_table.index],\n",
    "    z=win_prob_table,\n",
    "    zmax=max(win_prob_table.max(axis=None), win_prob_table.max(axis=None)),\n",
    "    zmid=0.5,\n",
    "    zmin=min(win_prob_table.min(axis=None), win_prob_table.min(axis=None)),\n",
    "    text=ml_table.applymap(lambda x: \"\" if math.isnan(float(x)) else x),\n",
    "    texttemplate=\"%{text}\",\n",
    "    colorscale=diverging.RdBu_r,\n",
    "    hoverongaps=False\n",
    ")\n",
    "\n",
    "ml_of_cum_x_wins_table.sort_index(axis=0, key=(lambda x: [elo[y] for y in x.values]), inplace=True)\n",
    "prob_of_cum_x_wins_table.sort_index(axis=0, key=(lambda x: [elo[y] for y in x.values]), inplace=True)\n",
    "scale_go_ml_cum_x_wins = prob_of_cum_x_wins_table\n",
    "\n",
    "go_ml_cum_x_wins = go.Heatmap(\n",
    "    x=[(str(x)) for x in ml_of_cum_x_wins_table.columns],\n",
    "    y=[x.replace(\" \", \"<br>\") for x in ml_of_cum_x_wins_table.index],\n",
    "    z=scale_go_ml_cum_x_wins,\n",
    "    zmax=max(scale_go_ml_cum_x_wins.max(axis=None), scale_go_ml_cum_x_wins.max(axis=None)),\n",
    "    zmid=0,\n",
    "    zmin=min(scale_go_ml_cum_x_wins.min(axis=None), scale_go_ml_cum_x_wins.min(axis=None)),\n",
    "    text=ml_of_cum_x_wins_table.applymap(lambda x: \"\" if math.isnan(float(x.replace(\",\", \"\")))  else x.replace(\",\", \"\")),\n",
    "    texttemplate=\"%{text}\",\n",
    "    colorscale=diverging.RdBu_r,\n",
    "    hoverongaps=False\n",
    ")\n",
    "\n",
    "fig6.add_trace(go_ml, row=1, col=1)\n",
    "fig6.add_trace(go_ml_cum_x_wins, row=1, col=2)\n",
    "\n",
    "fig6.layout.xaxis1.title=\"<b>Other</b>\"\n",
    "fig6.layout.yaxis1.title=\"<b>Self</b>\"\n",
    "fig6.layout.xaxis2.title=\"<b>Number of Total Wins in Group Stage</b>\"\n",
    "fig6.layout.yaxis2.title=\"<b>Self</b>\"\n",
    "\n",
    "fig6.update_traces(hoverinfo='skip', showscale=False)\n",
    "\n",
    "fig6.update_layout(\n",
    "    title=f\"<b>Money-Lines</b>, {updated_time}\"\n",
    ")\n",
    "\n",
    "fig6.show()\n",
    "fig6.write_html('figures/fig6.html')"
   ]
  },
  {
   "cell_type": "code",
   "execution_count": null,
   "metadata": {},
   "outputs": [
    {
     "data": {
      "text/html": [
       "<div>\n",
       "<style scoped>\n",
       "    .dataframe tbody tr th:only-of-type {\n",
       "        vertical-align: middle;\n",
       "    }\n",
       "\n",
       "    .dataframe tbody tr th {\n",
       "        vertical-align: top;\n",
       "    }\n",
       "\n",
       "    .dataframe thead th {\n",
       "        text-align: right;\n",
       "    }\n",
       "</style>\n",
       "<table border=\"1\" class=\"dataframe\">\n",
       "  <thead>\n",
       "    <tr style=\"text-align: right;\">\n",
       "      <th></th>\n",
       "      <th>Paul Bartenfeld</th>\n",
       "      <th>Evan Sooklal</th>\n",
       "      <th>Roman Ramirez</th>\n",
       "      <th>Jack Massingill</th>\n",
       "      <th>Will Simpson</th>\n",
       "      <th>Aaron Carter</th>\n",
       "    </tr>\n",
       "  </thead>\n",
       "  <tbody>\n",
       "    <tr>\n",
       "      <th>Paul Bartenfeld</th>\n",
       "      <td>NaN</td>\n",
       "      <td>+300</td>\n",
       "      <td>+315</td>\n",
       "      <td>+375</td>\n",
       "      <td>+500</td>\n",
       "      <td>+665</td>\n",
       "    </tr>\n",
       "    <tr>\n",
       "      <th>Evan Sooklal</th>\n",
       "      <td>-300</td>\n",
       "      <td>NaN</td>\n",
       "      <td>+105</td>\n",
       "      <td>+125</td>\n",
       "      <td>+165</td>\n",
       "      <td>+225</td>\n",
       "    </tr>\n",
       "    <tr>\n",
       "      <th>Roman Ramirez</th>\n",
       "      <td>-315</td>\n",
       "      <td>-105</td>\n",
       "      <td>NaN</td>\n",
       "      <td>+120</td>\n",
       "      <td>+160</td>\n",
       "      <td>+210</td>\n",
       "    </tr>\n",
       "    <tr>\n",
       "      <th>Jack Massingill</th>\n",
       "      <td>-375</td>\n",
       "      <td>-125</td>\n",
       "      <td>-120</td>\n",
       "      <td>NaN</td>\n",
       "      <td>+135</td>\n",
       "      <td>+180</td>\n",
       "    </tr>\n",
       "    <tr>\n",
       "      <th>Will Simpson</th>\n",
       "      <td>-500</td>\n",
       "      <td>-165</td>\n",
       "      <td>-160</td>\n",
       "      <td>-135</td>\n",
       "      <td>NaN</td>\n",
       "      <td>+135</td>\n",
       "    </tr>\n",
       "    <tr>\n",
       "      <th>Aaron Carter</th>\n",
       "      <td>-665</td>\n",
       "      <td>-225</td>\n",
       "      <td>-210</td>\n",
       "      <td>-180</td>\n",
       "      <td>-135</td>\n",
       "      <td>NaN</td>\n",
       "    </tr>\n",
       "  </tbody>\n",
       "</table>\n",
       "</div>"
      ],
      "text/plain": [
       "                Paul Bartenfeld Evan Sooklal Roman Ramirez Jack Massingill  \\\n",
       "Paul Bartenfeld             NaN         +300          +315            +375   \n",
       "Evan Sooklal               -300          NaN          +105            +125   \n",
       "Roman Ramirez              -315         -105           NaN            +120   \n",
       "Jack Massingill            -375         -125          -120             NaN   \n",
       "Will Simpson               -500         -165          -160            -135   \n",
       "Aaron Carter               -665         -225          -210            -180   \n",
       "\n",
       "                Will Simpson Aaron Carter  \n",
       "Paul Bartenfeld         +500         +665  \n",
       "Evan Sooklal            +165         +225  \n",
       "Roman Ramirez           +160         +210  \n",
       "Jack Massingill         +135         +180  \n",
       "Will Simpson             NaN         +135  \n",
       "Aaron Carter            -135          NaN  "
      ]
     },
     "execution_count": 16,
     "metadata": {},
     "output_type": "execute_result"
    }
   ],
   "source": [
    "ml_table"
   ]
  },
  {
   "cell_type": "code",
   "execution_count": null,
   "metadata": {},
   "outputs": [],
   "source": [
    "# # system optimization\n",
    "\n",
    "# def optimization1():\n",
    "#     index = [_ for _ in np.arange(1, 51, 1.0)]\n",
    "#     columns = [_ for _ in np.arange(2, 11, 1.0)]\n",
    "\n",
    "#     opt_table = pd.DataFrame(np.zeros([len(index), len(columns)]))\n",
    "#     opt_table.index = index\n",
    "#     opt_table.columns = columns\n",
    "\n",
    "#     for base in opt_table.columns:\n",
    "#         for K in opt_table.index:\n",
    "#             (elo, elo_time_table, prev_elo_time_table, d_elo_time_table, exp_elo_time_table, record_table, luck_table, plus_minus_table) = generate_elo(K=K,base=base)\n",
    "#             num_upsets = 0\n",
    "#             for i in elo_time_table.index:\n",
    "#                 prev_elo_slice = prev_elo_time_table.loc[i,:].dropna().values\n",
    "#                 elo_slice = elo_time_table.loc[i,:].dropna().values\n",
    "#                 combo_elo = np.array([prev_elo_slice, elo_slice])\n",
    "#                 is_upset = ((combo_elo[1, 0] - combo_elo[0, 0]) * (combo_elo[0, 1] - combo_elo[0, 0])) > 0\n",
    "#                 if is_upset:\n",
    "#                     num_upsets += 1\n",
    "#             opt_table.loc[K,base] = num_upsets\n",
    "\n",
    "#     fig = px.imshow(opt_table.T,labels=dict(y=\"Base\", x=\"K-value\", color=\"Number of Upsets\"))#, text_auto=True, aspect=\"auto\")\n",
    "#     fig.update_layout(\n",
    "#         title=\"<b>Total Number of Upsets against K-Value and Base</b>\"\n",
    "#     )\n",
    "#     fig.show()\n",
    "#     return opt_table\n",
    "# opt1 = optimization1()\n",
    "# fig.write_html(\"figures/opt1.html\")"
   ]
  },
  {
   "cell_type": "code",
   "execution_count": null,
   "metadata": {},
   "outputs": [],
   "source": [
    "# # system optimization\n",
    "\n",
    "# def optimization2():\n",
    "#     index = [_ for _ in np.arange(1, 51, 1.0)]\n",
    "#     columns = [_ for _ in np.arange(2, 11, 1.0)]\n",
    "\n",
    "#     opt_table = pd.DataFrame(np.zeros([len(index), len(columns)]))\n",
    "#     opt_table.index = index\n",
    "#     opt_table.columns = columns\n",
    "\n",
    "#     for base in opt_table.columns:\n",
    "#         for K in opt_table.index:\n",
    "#             (elo, elo_time_table, prev_elo_time_table, d_elo_time_table, exp_elo_time_table, record_table, luck_table, plus_minus_table) = generate_elo(K=K,base=base)\n",
    "#             total_correctness = 0\n",
    "#             for i in elo_time_table.index:\n",
    "#                 d_elo_slice = d_elo_time_table.loc[i,:].dropna().values\n",
    "#                 exp_elo_slice = exp_elo_time_table.loc[i,:].dropna().values\n",
    "#                 correctness = (np.sign(d_elo_slice) * exp_elo_slice).sum()\n",
    "#                 total_correctness += correctness\n",
    "#             opt_table.loc[K,base] = total_correctness\n",
    "\n",
    "#     fig = px.imshow(opt_table.T,labels=dict(y=\"Base\", x=\"K-value\", color=\"Total Correctness\"))#, text_auto=False, aspect=\"auto\")\n",
    "#     fig.update_layout(\n",
    "#         title=\"<b>Win Percentage Correctness against K-Value and Base</b>\"\n",
    "#     )\n",
    "#     fig.show()\n",
    "#     return opt_table\n",
    "# opt2 = optimization2()\n",
    "# fig.write_html(\"figures/opt2.html\")"
   ]
  },
  {
   "cell_type": "code",
   "execution_count": null,
   "metadata": {},
   "outputs": [],
   "source": [
    "# def norm_minmax(dataframe):\n",
    "#     return ((dataframe - dataframe.min(axis=None)) / (dataframe.max(axis=None) - dataframe.min(axis=None)))\n",
    "\n",
    "# norm_opt1 = norm_minmax(opt1)\n",
    "# norm_opt2 = norm_minmax(opt2)\n",
    "\n",
    "# fig = px.imshow(norm_opt2.T - norm_opt1.T,labels=dict(y=\"Base\", x=\"K-value\", color=\"Normalized Optimization\"), text_auto=False, aspect=\"auto\")\n",
    "# fig.update_layout(\n",
    "#     title=\"<b>K Value and Base against Both Optimization Functions</b>\"\n",
    "# )\n",
    "# fig.show()\n",
    "# fig.write_html(\"figures/opt_total.html\")"
   ]
  }
 ],
 "metadata": {
  "kernelspec": {
   "display_name": "Python 3",
   "language": "python",
   "name": "python3"
  },
  "language_info": {
   "codemirror_mode": {
    "name": "ipython",
    "version": 3
   },
   "file_extension": ".py",
   "mimetype": "text/x-python",
   "name": "python",
   "nbconvert_exporter": "python",
   "pygments_lexer": "ipython3",
   "version": "3.9.13"
  }
 },
 "nbformat": 4,
 "nbformat_minor": 2
}
