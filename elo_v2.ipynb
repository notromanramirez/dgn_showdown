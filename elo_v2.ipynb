{
 "cells": [
  {
   "cell_type": "code",
   "execution_count": 1,
   "metadata": {},
   "outputs": [],
   "source": [
    "import pandas as pd\n",
    "import numpy as np\n",
    "\n",
    "from IPython.display import display\n",
    "import datetime\n",
    "import plotly.express as px\n",
    "from plotly.colors import sequential\n",
    "from plotly.colors import diverging\n",
    "\n",
    "from plotly.subplots import make_subplots"
   ]
  },
  {
   "cell_type": "code",
   "execution_count": 2,
   "metadata": {},
   "outputs": [
    {
     "data": {
      "text/html": [
       "<div>\n",
       "<style scoped>\n",
       "    .dataframe tbody tr th:only-of-type {\n",
       "        vertical-align: middle;\n",
       "    }\n",
       "\n",
       "    .dataframe tbody tr th {\n",
       "        vertical-align: top;\n",
       "    }\n",
       "\n",
       "    .dataframe thead th {\n",
       "        text-align: right;\n",
       "    }\n",
       "</style>\n",
       "<table border=\"1\" class=\"dataframe\">\n",
       "  <thead>\n",
       "    <tr style=\"text-align: right;\">\n",
       "      <th></th>\n",
       "      <th>Date</th>\n",
       "      <th>Match Number</th>\n",
       "      <th>Stage</th>\n",
       "      <th>Player 1</th>\n",
       "      <th>Player 2</th>\n",
       "      <th>Score 1</th>\n",
       "      <th>Score 2</th>\n",
       "    </tr>\n",
       "  </thead>\n",
       "  <tbody>\n",
       "    <tr>\n",
       "      <th>0</th>\n",
       "      <td>2023-11-18</td>\n",
       "      <td>1</td>\n",
       "      <td>Group</td>\n",
       "      <td>Evan Sooklal</td>\n",
       "      <td>Will Simpson</td>\n",
       "      <td>2</td>\n",
       "      <td>6</td>\n",
       "    </tr>\n",
       "    <tr>\n",
       "      <th>1</th>\n",
       "      <td>2023-11-18</td>\n",
       "      <td>2</td>\n",
       "      <td>Group</td>\n",
       "      <td>Paul Bartenfeld</td>\n",
       "      <td>Roman Ramirez</td>\n",
       "      <td>2</td>\n",
       "      <td>6</td>\n",
       "    </tr>\n",
       "    <tr>\n",
       "      <th>2</th>\n",
       "      <td>2023-11-18</td>\n",
       "      <td>3</td>\n",
       "      <td>Group</td>\n",
       "      <td>Roman Ramirez</td>\n",
       "      <td>Evan Sooklal</td>\n",
       "      <td>6</td>\n",
       "      <td>3</td>\n",
       "    </tr>\n",
       "    <tr>\n",
       "      <th>3</th>\n",
       "      <td>2023-11-18</td>\n",
       "      <td>4</td>\n",
       "      <td>Group</td>\n",
       "      <td>Will Simpson</td>\n",
       "      <td>Paul Bartenfeld</td>\n",
       "      <td>6</td>\n",
       "      <td>1</td>\n",
       "    </tr>\n",
       "    <tr>\n",
       "      <th>4</th>\n",
       "      <td>2023-11-18</td>\n",
       "      <td>5</td>\n",
       "      <td>Group</td>\n",
       "      <td>Paul Bartenfeld</td>\n",
       "      <td>Evan Sooklal</td>\n",
       "      <td>1</td>\n",
       "      <td>6</td>\n",
       "    </tr>\n",
       "    <tr>\n",
       "      <th>5</th>\n",
       "      <td>2023-11-18</td>\n",
       "      <td>6</td>\n",
       "      <td>Group</td>\n",
       "      <td>Will Simpson</td>\n",
       "      <td>Roman Ramirez</td>\n",
       "      <td>3</td>\n",
       "      <td>6</td>\n",
       "    </tr>\n",
       "    <tr>\n",
       "      <th>6</th>\n",
       "      <td>2023-11-18</td>\n",
       "      <td>7</td>\n",
       "      <td>Group</td>\n",
       "      <td>Will Simpson</td>\n",
       "      <td>Evan Sooklal</td>\n",
       "      <td>6</td>\n",
       "      <td>2</td>\n",
       "    </tr>\n",
       "    <tr>\n",
       "      <th>7</th>\n",
       "      <td>2023-11-18</td>\n",
       "      <td>8</td>\n",
       "      <td>Group</td>\n",
       "      <td>Roman Ramirez</td>\n",
       "      <td>Paul Bartenfeld</td>\n",
       "      <td>6</td>\n",
       "      <td>4</td>\n",
       "    </tr>\n",
       "    <tr>\n",
       "      <th>8</th>\n",
       "      <td>2023-11-18</td>\n",
       "      <td>9</td>\n",
       "      <td>Group</td>\n",
       "      <td>Evan Sooklal</td>\n",
       "      <td>Roman Ramirez</td>\n",
       "      <td>6</td>\n",
       "      <td>5</td>\n",
       "    </tr>\n",
       "    <tr>\n",
       "      <th>9</th>\n",
       "      <td>2023-11-18</td>\n",
       "      <td>10</td>\n",
       "      <td>Group</td>\n",
       "      <td>Paul Bartenfeld</td>\n",
       "      <td>Will Simpson</td>\n",
       "      <td>4</td>\n",
       "      <td>6</td>\n",
       "    </tr>\n",
       "    <tr>\n",
       "      <th>10</th>\n",
       "      <td>2023-11-18</td>\n",
       "      <td>11</td>\n",
       "      <td>Group</td>\n",
       "      <td>Evan Sooklal</td>\n",
       "      <td>Paul Bartenfeld</td>\n",
       "      <td>6</td>\n",
       "      <td>5</td>\n",
       "    </tr>\n",
       "    <tr>\n",
       "      <th>11</th>\n",
       "      <td>2023-11-18</td>\n",
       "      <td>12</td>\n",
       "      <td>Group</td>\n",
       "      <td>Roman Ramirez</td>\n",
       "      <td>Will Simpson</td>\n",
       "      <td>6</td>\n",
       "      <td>2</td>\n",
       "    </tr>\n",
       "    <tr>\n",
       "      <th>12</th>\n",
       "      <td>2023-11-18</td>\n",
       "      <td>1</td>\n",
       "      <td>Final</td>\n",
       "      <td>Roman Ramirez</td>\n",
       "      <td>Will Simpson</td>\n",
       "      <td>2</td>\n",
       "      <td>6</td>\n",
       "    </tr>\n",
       "    <tr>\n",
       "      <th>13</th>\n",
       "      <td>2023-11-18</td>\n",
       "      <td>2</td>\n",
       "      <td>Final</td>\n",
       "      <td>Will Simpson</td>\n",
       "      <td>Roman Ramirez</td>\n",
       "      <td>4</td>\n",
       "      <td>6</td>\n",
       "    </tr>\n",
       "    <tr>\n",
       "      <th>14</th>\n",
       "      <td>2023-11-18</td>\n",
       "      <td>3</td>\n",
       "      <td>Final</td>\n",
       "      <td>Roman Ramirez</td>\n",
       "      <td>Will Simpson</td>\n",
       "      <td>6</td>\n",
       "      <td>4</td>\n",
       "    </tr>\n",
       "    <tr>\n",
       "      <th>15</th>\n",
       "      <td>2023-12-02</td>\n",
       "      <td>1</td>\n",
       "      <td>Group</td>\n",
       "      <td>Roman Ramirez</td>\n",
       "      <td>Aaron Carter</td>\n",
       "      <td>4</td>\n",
       "      <td>6</td>\n",
       "    </tr>\n",
       "    <tr>\n",
       "      <th>16</th>\n",
       "      <td>2023-12-02</td>\n",
       "      <td>2</td>\n",
       "      <td>Group</td>\n",
       "      <td>Will Simpson</td>\n",
       "      <td>Paul Bartenfeld</td>\n",
       "      <td>6</td>\n",
       "      <td>4</td>\n",
       "    </tr>\n",
       "    <tr>\n",
       "      <th>17</th>\n",
       "      <td>2023-12-02</td>\n",
       "      <td>3</td>\n",
       "      <td>Group</td>\n",
       "      <td>Aaron Carter</td>\n",
       "      <td>Will Simpson</td>\n",
       "      <td>4</td>\n",
       "      <td>6</td>\n",
       "    </tr>\n",
       "    <tr>\n",
       "      <th>18</th>\n",
       "      <td>2023-12-02</td>\n",
       "      <td>4</td>\n",
       "      <td>Group</td>\n",
       "      <td>Evan Sooklal</td>\n",
       "      <td>Roman Ramirez</td>\n",
       "      <td>6</td>\n",
       "      <td>2</td>\n",
       "    </tr>\n",
       "    <tr>\n",
       "      <th>19</th>\n",
       "      <td>2023-12-02</td>\n",
       "      <td>5</td>\n",
       "      <td>Group</td>\n",
       "      <td>Will Simpson</td>\n",
       "      <td>Evan Sooklal</td>\n",
       "      <td>6</td>\n",
       "      <td>2</td>\n",
       "    </tr>\n",
       "    <tr>\n",
       "      <th>20</th>\n",
       "      <td>2023-12-02</td>\n",
       "      <td>6</td>\n",
       "      <td>Group</td>\n",
       "      <td>Paul Bartenfeld</td>\n",
       "      <td>Aaron Carter</td>\n",
       "      <td>6</td>\n",
       "      <td>3</td>\n",
       "    </tr>\n",
       "    <tr>\n",
       "      <th>21</th>\n",
       "      <td>2023-12-02</td>\n",
       "      <td>7</td>\n",
       "      <td>Group</td>\n",
       "      <td>Evan Sooklal</td>\n",
       "      <td>Paul Bartenfeld</td>\n",
       "      <td>6</td>\n",
       "      <td>4</td>\n",
       "    </tr>\n",
       "    <tr>\n",
       "      <th>22</th>\n",
       "      <td>2023-12-02</td>\n",
       "      <td>8</td>\n",
       "      <td>Group</td>\n",
       "      <td>Roman Ramirez</td>\n",
       "      <td>Will Simpson</td>\n",
       "      <td>6</td>\n",
       "      <td>4</td>\n",
       "    </tr>\n",
       "    <tr>\n",
       "      <th>23</th>\n",
       "      <td>2023-12-02</td>\n",
       "      <td>9</td>\n",
       "      <td>Group</td>\n",
       "      <td>Paul Bartenfeld</td>\n",
       "      <td>Roman Ramirez</td>\n",
       "      <td>6</td>\n",
       "      <td>3</td>\n",
       "    </tr>\n",
       "    <tr>\n",
       "      <th>24</th>\n",
       "      <td>2023-12-02</td>\n",
       "      <td>10</td>\n",
       "      <td>Group</td>\n",
       "      <td>Aaron Carter</td>\n",
       "      <td>Evan Sooklal</td>\n",
       "      <td>6</td>\n",
       "      <td>3</td>\n",
       "    </tr>\n",
       "    <tr>\n",
       "      <th>25</th>\n",
       "      <td>2023-12-02</td>\n",
       "      <td>11</td>\n",
       "      <td>Group</td>\n",
       "      <td>Aaron Carter</td>\n",
       "      <td>Roman Ramirez</td>\n",
       "      <td>0</td>\n",
       "      <td>6</td>\n",
       "    </tr>\n",
       "    <tr>\n",
       "      <th>26</th>\n",
       "      <td>2023-12-02</td>\n",
       "      <td>12</td>\n",
       "      <td>Group</td>\n",
       "      <td>Paul Bartenfeld</td>\n",
       "      <td>Will Simpson</td>\n",
       "      <td>1</td>\n",
       "      <td>6</td>\n",
       "    </tr>\n",
       "    <tr>\n",
       "      <th>27</th>\n",
       "      <td>2023-12-02</td>\n",
       "      <td>13</td>\n",
       "      <td>Group</td>\n",
       "      <td>Will Simpson</td>\n",
       "      <td>Aaron Carter</td>\n",
       "      <td>3</td>\n",
       "      <td>6</td>\n",
       "    </tr>\n",
       "    <tr>\n",
       "      <th>28</th>\n",
       "      <td>2023-12-02</td>\n",
       "      <td>14</td>\n",
       "      <td>Group</td>\n",
       "      <td>Roman Ramirez</td>\n",
       "      <td>Evan Sooklal</td>\n",
       "      <td>2</td>\n",
       "      <td>6</td>\n",
       "    </tr>\n",
       "    <tr>\n",
       "      <th>29</th>\n",
       "      <td>2023-12-02</td>\n",
       "      <td>15</td>\n",
       "      <td>Group</td>\n",
       "      <td>Evan Sooklal</td>\n",
       "      <td>Will Simpson</td>\n",
       "      <td>5</td>\n",
       "      <td>6</td>\n",
       "    </tr>\n",
       "    <tr>\n",
       "      <th>30</th>\n",
       "      <td>2023-12-02</td>\n",
       "      <td>16</td>\n",
       "      <td>Group</td>\n",
       "      <td>Aaron Carter</td>\n",
       "      <td>Paul Bartenfeld</td>\n",
       "      <td>6</td>\n",
       "      <td>3</td>\n",
       "    </tr>\n",
       "    <tr>\n",
       "      <th>31</th>\n",
       "      <td>2023-12-02</td>\n",
       "      <td>17</td>\n",
       "      <td>Group</td>\n",
       "      <td>Paul Bartenfeld</td>\n",
       "      <td>Evan Sooklal</td>\n",
       "      <td>6</td>\n",
       "      <td>5</td>\n",
       "    </tr>\n",
       "    <tr>\n",
       "      <th>32</th>\n",
       "      <td>2023-12-02</td>\n",
       "      <td>18</td>\n",
       "      <td>Group</td>\n",
       "      <td>Will Simpson</td>\n",
       "      <td>Roman Ramirez</td>\n",
       "      <td>6</td>\n",
       "      <td>5</td>\n",
       "    </tr>\n",
       "    <tr>\n",
       "      <th>33</th>\n",
       "      <td>2023-12-02</td>\n",
       "      <td>19</td>\n",
       "      <td>Group</td>\n",
       "      <td>Roman Ramirez</td>\n",
       "      <td>Paul Bartenfeld</td>\n",
       "      <td>4</td>\n",
       "      <td>6</td>\n",
       "    </tr>\n",
       "    <tr>\n",
       "      <th>34</th>\n",
       "      <td>2023-12-02</td>\n",
       "      <td>20</td>\n",
       "      <td>Group</td>\n",
       "      <td>Evan Sooklal</td>\n",
       "      <td>Aaron Carter</td>\n",
       "      <td>6</td>\n",
       "      <td>4</td>\n",
       "    </tr>\n",
       "    <tr>\n",
       "      <th>35</th>\n",
       "      <td>2023-12-02</td>\n",
       "      <td>1</td>\n",
       "      <td>Final</td>\n",
       "      <td>Will Simpson</td>\n",
       "      <td>Evan Sooklal</td>\n",
       "      <td>6</td>\n",
       "      <td>2</td>\n",
       "    </tr>\n",
       "    <tr>\n",
       "      <th>36</th>\n",
       "      <td>2023-12-02</td>\n",
       "      <td>2</td>\n",
       "      <td>Final</td>\n",
       "      <td>Will Simpson</td>\n",
       "      <td>Evan Sooklal</td>\n",
       "      <td>6</td>\n",
       "      <td>1</td>\n",
       "    </tr>\n",
       "    <tr>\n",
       "      <th>37</th>\n",
       "      <td>2023-12-13</td>\n",
       "      <td>1</td>\n",
       "      <td>Group</td>\n",
       "      <td>Aaron Carter</td>\n",
       "      <td>Paul Bartenfeld</td>\n",
       "      <td>6</td>\n",
       "      <td>3</td>\n",
       "    </tr>\n",
       "    <tr>\n",
       "      <th>38</th>\n",
       "      <td>2023-12-13</td>\n",
       "      <td>2</td>\n",
       "      <td>Group</td>\n",
       "      <td>Roman Ramirez</td>\n",
       "      <td>Evan Sooklal</td>\n",
       "      <td>5</td>\n",
       "      <td>6</td>\n",
       "    </tr>\n",
       "    <tr>\n",
       "      <th>39</th>\n",
       "      <td>2023-12-13</td>\n",
       "      <td>3</td>\n",
       "      <td>Group</td>\n",
       "      <td>Paul Bartenfeld</td>\n",
       "      <td>Roman Ramirez</td>\n",
       "      <td>2</td>\n",
       "      <td>6</td>\n",
       "    </tr>\n",
       "    <tr>\n",
       "      <th>40</th>\n",
       "      <td>2023-12-13</td>\n",
       "      <td>4</td>\n",
       "      <td>Group</td>\n",
       "      <td>Will Simpson</td>\n",
       "      <td>Aaron Carter</td>\n",
       "      <td>0</td>\n",
       "      <td>6</td>\n",
       "    </tr>\n",
       "    <tr>\n",
       "      <th>41</th>\n",
       "      <td>2023-12-13</td>\n",
       "      <td>5</td>\n",
       "      <td>Group</td>\n",
       "      <td>Roman Ramirez</td>\n",
       "      <td>Will Simpson</td>\n",
       "      <td>4</td>\n",
       "      <td>6</td>\n",
       "    </tr>\n",
       "    <tr>\n",
       "      <th>42</th>\n",
       "      <td>2023-12-13</td>\n",
       "      <td>6</td>\n",
       "      <td>Group</td>\n",
       "      <td>Evan Sooklal</td>\n",
       "      <td>Paul Bartenfeld</td>\n",
       "      <td>6</td>\n",
       "      <td>5</td>\n",
       "    </tr>\n",
       "    <tr>\n",
       "      <th>43</th>\n",
       "      <td>2023-12-13</td>\n",
       "      <td>7</td>\n",
       "      <td>Group</td>\n",
       "      <td>Will Simpson</td>\n",
       "      <td>Evan Sooklal</td>\n",
       "      <td>4</td>\n",
       "      <td>6</td>\n",
       "    </tr>\n",
       "    <tr>\n",
       "      <th>44</th>\n",
       "      <td>2023-12-13</td>\n",
       "      <td>8</td>\n",
       "      <td>Group</td>\n",
       "      <td>Aaron Carter</td>\n",
       "      <td>Roman Ramirez</td>\n",
       "      <td>6</td>\n",
       "      <td>3</td>\n",
       "    </tr>\n",
       "    <tr>\n",
       "      <th>45</th>\n",
       "      <td>2023-12-13</td>\n",
       "      <td>9</td>\n",
       "      <td>Group</td>\n",
       "      <td>Evan Sooklal</td>\n",
       "      <td>Aaron Carter</td>\n",
       "      <td>5</td>\n",
       "      <td>6</td>\n",
       "    </tr>\n",
       "    <tr>\n",
       "      <th>46</th>\n",
       "      <td>2023-12-13</td>\n",
       "      <td>10</td>\n",
       "      <td>Group</td>\n",
       "      <td>Paul Bartenfeld</td>\n",
       "      <td>Will Simpson</td>\n",
       "      <td>2</td>\n",
       "      <td>6</td>\n",
       "    </tr>\n",
       "    <tr>\n",
       "      <th>47</th>\n",
       "      <td>2023-12-13</td>\n",
       "      <td>11</td>\n",
       "      <td>Group</td>\n",
       "      <td>Paul Bartenfeld</td>\n",
       "      <td>Aaron Carter</td>\n",
       "      <td>3</td>\n",
       "      <td>6</td>\n",
       "    </tr>\n",
       "    <tr>\n",
       "      <th>48</th>\n",
       "      <td>2023-12-13</td>\n",
       "      <td>12</td>\n",
       "      <td>Group</td>\n",
       "      <td>Evan Sooklal</td>\n",
       "      <td>Roman Ramirez</td>\n",
       "      <td>6</td>\n",
       "      <td>4</td>\n",
       "    </tr>\n",
       "    <tr>\n",
       "      <th>49</th>\n",
       "      <td>2023-12-13</td>\n",
       "      <td>13</td>\n",
       "      <td>Group</td>\n",
       "      <td>Roman Ramirez</td>\n",
       "      <td>Paul Bartenfeld</td>\n",
       "      <td>6</td>\n",
       "      <td>1</td>\n",
       "    </tr>\n",
       "    <tr>\n",
       "      <th>50</th>\n",
       "      <td>2023-12-13</td>\n",
       "      <td>14</td>\n",
       "      <td>Group</td>\n",
       "      <td>Aaron Carter</td>\n",
       "      <td>Will Simpson</td>\n",
       "      <td>6</td>\n",
       "      <td>5</td>\n",
       "    </tr>\n",
       "    <tr>\n",
       "      <th>51</th>\n",
       "      <td>2023-12-13</td>\n",
       "      <td>15</td>\n",
       "      <td>Group</td>\n",
       "      <td>Will Simpson</td>\n",
       "      <td>Roman Ramirez</td>\n",
       "      <td>3</td>\n",
       "      <td>6</td>\n",
       "    </tr>\n",
       "    <tr>\n",
       "      <th>52</th>\n",
       "      <td>2023-12-13</td>\n",
       "      <td>16</td>\n",
       "      <td>Group</td>\n",
       "      <td>Paul Bartenfeld</td>\n",
       "      <td>Evan Sooklal</td>\n",
       "      <td>3</td>\n",
       "      <td>6</td>\n",
       "    </tr>\n",
       "    <tr>\n",
       "      <th>53</th>\n",
       "      <td>2023-12-13</td>\n",
       "      <td>17</td>\n",
       "      <td>Group</td>\n",
       "      <td>Evan Sooklal</td>\n",
       "      <td>Will Simpson</td>\n",
       "      <td>6</td>\n",
       "      <td>3</td>\n",
       "    </tr>\n",
       "    <tr>\n",
       "      <th>54</th>\n",
       "      <td>2023-12-13</td>\n",
       "      <td>18</td>\n",
       "      <td>Group</td>\n",
       "      <td>Roman Ramirez</td>\n",
       "      <td>Aaron Carter</td>\n",
       "      <td>5</td>\n",
       "      <td>6</td>\n",
       "    </tr>\n",
       "    <tr>\n",
       "      <th>55</th>\n",
       "      <td>2023-12-13</td>\n",
       "      <td>19</td>\n",
       "      <td>Group</td>\n",
       "      <td>Aaron Carter</td>\n",
       "      <td>Evan Sooklal</td>\n",
       "      <td>6</td>\n",
       "      <td>2</td>\n",
       "    </tr>\n",
       "    <tr>\n",
       "      <th>56</th>\n",
       "      <td>2023-12-13</td>\n",
       "      <td>20</td>\n",
       "      <td>Group</td>\n",
       "      <td>Will Simpson</td>\n",
       "      <td>Paul Bartenfeld</td>\n",
       "      <td>6</td>\n",
       "      <td>4</td>\n",
       "    </tr>\n",
       "    <tr>\n",
       "      <th>57</th>\n",
       "      <td>2023-12-13</td>\n",
       "      <td>1</td>\n",
       "      <td>Final</td>\n",
       "      <td>Aaron Carter</td>\n",
       "      <td>Evan Sooklal</td>\n",
       "      <td>5</td>\n",
       "      <td>6</td>\n",
       "    </tr>\n",
       "    <tr>\n",
       "      <th>58</th>\n",
       "      <td>2023-12-13</td>\n",
       "      <td>2</td>\n",
       "      <td>Final</td>\n",
       "      <td>Evan Sooklal</td>\n",
       "      <td>Aaron Carter</td>\n",
       "      <td>2</td>\n",
       "      <td>6</td>\n",
       "    </tr>\n",
       "    <tr>\n",
       "      <th>59</th>\n",
       "      <td>2023-12-13</td>\n",
       "      <td>3</td>\n",
       "      <td>Final</td>\n",
       "      <td>Aaron Carter</td>\n",
       "      <td>Evan Sooklal</td>\n",
       "      <td>6</td>\n",
       "      <td>2</td>\n",
       "    </tr>\n",
       "  </tbody>\n",
       "</table>\n",
       "</div>"
      ],
      "text/plain": [
       "          Date  Match Number  Stage         Player 1         Player 2  \\\n",
       "0   2023-11-18             1  Group     Evan Sooklal     Will Simpson   \n",
       "1   2023-11-18             2  Group  Paul Bartenfeld    Roman Ramirez   \n",
       "2   2023-11-18             3  Group    Roman Ramirez     Evan Sooklal   \n",
       "3   2023-11-18             4  Group     Will Simpson  Paul Bartenfeld   \n",
       "4   2023-11-18             5  Group  Paul Bartenfeld     Evan Sooklal   \n",
       "5   2023-11-18             6  Group     Will Simpson    Roman Ramirez   \n",
       "6   2023-11-18             7  Group     Will Simpson     Evan Sooklal   \n",
       "7   2023-11-18             8  Group    Roman Ramirez  Paul Bartenfeld   \n",
       "8   2023-11-18             9  Group     Evan Sooklal    Roman Ramirez   \n",
       "9   2023-11-18            10  Group  Paul Bartenfeld     Will Simpson   \n",
       "10  2023-11-18            11  Group     Evan Sooklal  Paul Bartenfeld   \n",
       "11  2023-11-18            12  Group    Roman Ramirez     Will Simpson   \n",
       "12  2023-11-18             1  Final    Roman Ramirez     Will Simpson   \n",
       "13  2023-11-18             2  Final     Will Simpson    Roman Ramirez   \n",
       "14  2023-11-18             3  Final    Roman Ramirez     Will Simpson   \n",
       "15  2023-12-02             1  Group    Roman Ramirez     Aaron Carter   \n",
       "16  2023-12-02             2  Group     Will Simpson  Paul Bartenfeld   \n",
       "17  2023-12-02             3  Group     Aaron Carter     Will Simpson   \n",
       "18  2023-12-02             4  Group     Evan Sooklal    Roman Ramirez   \n",
       "19  2023-12-02             5  Group     Will Simpson     Evan Sooklal   \n",
       "20  2023-12-02             6  Group  Paul Bartenfeld     Aaron Carter   \n",
       "21  2023-12-02             7  Group     Evan Sooklal  Paul Bartenfeld   \n",
       "22  2023-12-02             8  Group    Roman Ramirez     Will Simpson   \n",
       "23  2023-12-02             9  Group  Paul Bartenfeld    Roman Ramirez   \n",
       "24  2023-12-02            10  Group     Aaron Carter     Evan Sooklal   \n",
       "25  2023-12-02            11  Group     Aaron Carter    Roman Ramirez   \n",
       "26  2023-12-02            12  Group  Paul Bartenfeld     Will Simpson   \n",
       "27  2023-12-02            13  Group     Will Simpson     Aaron Carter   \n",
       "28  2023-12-02            14  Group    Roman Ramirez     Evan Sooklal   \n",
       "29  2023-12-02            15  Group     Evan Sooklal     Will Simpson   \n",
       "30  2023-12-02            16  Group     Aaron Carter  Paul Bartenfeld   \n",
       "31  2023-12-02            17  Group  Paul Bartenfeld     Evan Sooklal   \n",
       "32  2023-12-02            18  Group     Will Simpson    Roman Ramirez   \n",
       "33  2023-12-02            19  Group    Roman Ramirez  Paul Bartenfeld   \n",
       "34  2023-12-02            20  Group     Evan Sooklal     Aaron Carter   \n",
       "35  2023-12-02             1  Final     Will Simpson     Evan Sooklal   \n",
       "36  2023-12-02             2  Final     Will Simpson     Evan Sooklal   \n",
       "37  2023-12-13             1  Group     Aaron Carter  Paul Bartenfeld   \n",
       "38  2023-12-13             2  Group    Roman Ramirez     Evan Sooklal   \n",
       "39  2023-12-13             3  Group  Paul Bartenfeld    Roman Ramirez   \n",
       "40  2023-12-13             4  Group     Will Simpson     Aaron Carter   \n",
       "41  2023-12-13             5  Group    Roman Ramirez     Will Simpson   \n",
       "42  2023-12-13             6  Group     Evan Sooklal  Paul Bartenfeld   \n",
       "43  2023-12-13             7  Group     Will Simpson     Evan Sooklal   \n",
       "44  2023-12-13             8  Group     Aaron Carter    Roman Ramirez   \n",
       "45  2023-12-13             9  Group     Evan Sooklal     Aaron Carter   \n",
       "46  2023-12-13            10  Group  Paul Bartenfeld     Will Simpson   \n",
       "47  2023-12-13            11  Group  Paul Bartenfeld     Aaron Carter   \n",
       "48  2023-12-13            12  Group     Evan Sooklal    Roman Ramirez   \n",
       "49  2023-12-13            13  Group    Roman Ramirez  Paul Bartenfeld   \n",
       "50  2023-12-13            14  Group     Aaron Carter     Will Simpson   \n",
       "51  2023-12-13            15  Group     Will Simpson    Roman Ramirez   \n",
       "52  2023-12-13            16  Group  Paul Bartenfeld     Evan Sooklal   \n",
       "53  2023-12-13            17  Group     Evan Sooklal     Will Simpson   \n",
       "54  2023-12-13            18  Group    Roman Ramirez     Aaron Carter   \n",
       "55  2023-12-13            19  Group     Aaron Carter     Evan Sooklal   \n",
       "56  2023-12-13            20  Group     Will Simpson  Paul Bartenfeld   \n",
       "57  2023-12-13             1  Final     Aaron Carter     Evan Sooklal   \n",
       "58  2023-12-13             2  Final     Evan Sooklal     Aaron Carter   \n",
       "59  2023-12-13             3  Final     Aaron Carter     Evan Sooklal   \n",
       "\n",
       "    Score 1  Score 2  \n",
       "0         2        6  \n",
       "1         2        6  \n",
       "2         6        3  \n",
       "3         6        1  \n",
       "4         1        6  \n",
       "5         3        6  \n",
       "6         6        2  \n",
       "7         6        4  \n",
       "8         6        5  \n",
       "9         4        6  \n",
       "10        6        5  \n",
       "11        6        2  \n",
       "12        2        6  \n",
       "13        4        6  \n",
       "14        6        4  \n",
       "15        4        6  \n",
       "16        6        4  \n",
       "17        4        6  \n",
       "18        6        2  \n",
       "19        6        2  \n",
       "20        6        3  \n",
       "21        6        4  \n",
       "22        6        4  \n",
       "23        6        3  \n",
       "24        6        3  \n",
       "25        0        6  \n",
       "26        1        6  \n",
       "27        3        6  \n",
       "28        2        6  \n",
       "29        5        6  \n",
       "30        6        3  \n",
       "31        6        5  \n",
       "32        6        5  \n",
       "33        4        6  \n",
       "34        6        4  \n",
       "35        6        2  \n",
       "36        6        1  \n",
       "37        6        3  \n",
       "38        5        6  \n",
       "39        2        6  \n",
       "40        0        6  \n",
       "41        4        6  \n",
       "42        6        5  \n",
       "43        4        6  \n",
       "44        6        3  \n",
       "45        5        6  \n",
       "46        2        6  \n",
       "47        3        6  \n",
       "48        6        4  \n",
       "49        6        1  \n",
       "50        6        5  \n",
       "51        3        6  \n",
       "52        3        6  \n",
       "53        6        3  \n",
       "54        5        6  \n",
       "55        6        2  \n",
       "56        6        4  \n",
       "57        5        6  \n",
       "58        2        6  \n",
       "59        6        2  "
      ]
     },
     "metadata": {},
     "output_type": "display_data"
    }
   ],
   "source": [
    "matches_table = pd.read_csv('data/matches.csv')\n",
    "display(matches_table)"
   ]
  },
  {
   "cell_type": "code",
   "execution_count": 3,
   "metadata": {},
   "outputs": [],
   "source": [
    "updated_time = f'<i>Updated {str(datetime.datetime.now().strftime(\"%A, %b %d, %Y %H:%M:%S\"))} CT</i>'\n",
    "link_fig = \"<a href='https://htmlpreview.github.io/?https://github.com/notromanramirez/dgn_showdown/blob/main/index.html'>ELO Graph</a>\"\n",
    "link_fig1 = \"<a href='https://htmlpreview.github.io/?https://github.com/notromanramirez/dgn_showdown/blob/main/figures/fig1.html'>H2H Stats</a>\"\n",
    "link_fig2 = \"<a href='https://htmlpreview.github.io/?https://github.com/notromanramirez/dgn_showdown/blob/main/figures/fig2.html'>H2H Advanced Stats</a>\"\n",
    "link_fig3 = \"<a href='https://htmlpreview.github.io/?https://github.com/notromanramirez/dgn_showdown/blob/main/figures/fig3.html'>H2H More Stats</a>\"\n",
    "link_fig4 = \"<a href='https://htmlpreview.github.io/?https://github.com/notromanramirez/dgn_showdown/blob/main/figures/fig4.html'>Player Data</a>\""
   ]
  },
  {
   "cell_type": "code",
   "execution_count": 4,
   "metadata": {},
   "outputs": [
    {
     "data": {
      "text/plain": [
       "{'Aaron Carter',\n",
       " 'Evan Sooklal',\n",
       " 'Paul Bartenfeld',\n",
       " 'Roman Ramirez',\n",
       " 'Will Simpson'}"
      ]
     },
     "metadata": {},
     "output_type": "display_data"
    }
   ],
   "source": [
    "set_player1 = set(matches_table['Player 1'])\n",
    "set_player2 = set(matches_table['Player 2'])\n",
    "set_players = set_player1.union(set_player2)\n",
    "num_players = len(set_players)\n",
    "display(set_players)"
   ]
  },
  {
   "cell_type": "code",
   "execution_count": 5,
   "metadata": {},
   "outputs": [
    {
     "data": {
      "text/html": [
       "<div>\n",
       "<style scoped>\n",
       "    .dataframe tbody tr th:only-of-type {\n",
       "        vertical-align: middle;\n",
       "    }\n",
       "\n",
       "    .dataframe tbody tr th {\n",
       "        vertical-align: top;\n",
       "    }\n",
       "\n",
       "    .dataframe thead th {\n",
       "        text-align: right;\n",
       "    }\n",
       "</style>\n",
       "<table border=\"1\" class=\"dataframe\">\n",
       "  <thead>\n",
       "    <tr style=\"text-align: right;\">\n",
       "      <th></th>\n",
       "      <th>Paul Bartenfeld</th>\n",
       "      <th>Roman Ramirez</th>\n",
       "      <th>Will Simpson</th>\n",
       "      <th>Evan Sooklal</th>\n",
       "      <th>Aaron Carter</th>\n",
       "    </tr>\n",
       "  </thead>\n",
       "  <tbody>\n",
       "    <tr>\n",
       "      <th>Paul Bartenfeld</th>\n",
       "      <td>[0, 0]</td>\n",
       "      <td>[2, 4]</td>\n",
       "      <td>[0, 6]</td>\n",
       "      <td>[1, 5]</td>\n",
       "      <td>[1, 3]</td>\n",
       "    </tr>\n",
       "    <tr>\n",
       "      <th>Roman Ramirez</th>\n",
       "      <td>[4, 2]</td>\n",
       "      <td>[0, 0]</td>\n",
       "      <td>[6, 3]</td>\n",
       "      <td>[1, 5]</td>\n",
       "      <td>[1, 3]</td>\n",
       "    </tr>\n",
       "    <tr>\n",
       "      <th>Will Simpson</th>\n",
       "      <td>[6, 0]</td>\n",
       "      <td>[3, 6]</td>\n",
       "      <td>[0, 0]</td>\n",
       "      <td>[6, 2]</td>\n",
       "      <td>[1, 3]</td>\n",
       "    </tr>\n",
       "    <tr>\n",
       "      <th>Evan Sooklal</th>\n",
       "      <td>[5, 1]</td>\n",
       "      <td>[5, 1]</td>\n",
       "      <td>[2, 6]</td>\n",
       "      <td>[0, 0]</td>\n",
       "      <td>[2, 5]</td>\n",
       "    </tr>\n",
       "    <tr>\n",
       "      <th>Aaron Carter</th>\n",
       "      <td>[3, 1]</td>\n",
       "      <td>[3, 1]</td>\n",
       "      <td>[3, 1]</td>\n",
       "      <td>[5, 2]</td>\n",
       "      <td>[0, 0]</td>\n",
       "    </tr>\n",
       "  </tbody>\n",
       "</table>\n",
       "</div>"
      ],
      "text/plain": [
       "                Paul Bartenfeld Roman Ramirez Will Simpson Evan Sooklal  \\\n",
       "Paul Bartenfeld          [0, 0]        [2, 4]       [0, 6]       [1, 5]   \n",
       "Roman Ramirez            [4, 2]        [0, 0]       [6, 3]       [1, 5]   \n",
       "Will Simpson             [6, 0]        [3, 6]       [0, 0]       [6, 2]   \n",
       "Evan Sooklal             [5, 1]        [5, 1]       [2, 6]       [0, 0]   \n",
       "Aaron Carter             [3, 1]        [3, 1]       [3, 1]       [5, 2]   \n",
       "\n",
       "                Aaron Carter  \n",
       "Paul Bartenfeld       [1, 3]  \n",
       "Roman Ramirez         [1, 3]  \n",
       "Will Simpson          [1, 3]  \n",
       "Evan Sooklal          [2, 5]  \n",
       "Aaron Carter          [0, 0]  "
      ]
     },
     "metadata": {},
     "output_type": "display_data"
    },
    {
     "data": {
      "text/html": [
       "<div>\n",
       "<style scoped>\n",
       "    .dataframe tbody tr th:only-of-type {\n",
       "        vertical-align: middle;\n",
       "    }\n",
       "\n",
       "    .dataframe tbody tr th {\n",
       "        vertical-align: top;\n",
       "    }\n",
       "\n",
       "    .dataframe thead th {\n",
       "        text-align: right;\n",
       "    }\n",
       "</style>\n",
       "<table border=\"1\" class=\"dataframe\">\n",
       "  <thead>\n",
       "    <tr style=\"text-align: right;\">\n",
       "      <th></th>\n",
       "      <th>Paul Bartenfeld</th>\n",
       "      <th>Roman Ramirez</th>\n",
       "      <th>Will Simpson</th>\n",
       "      <th>Evan Sooklal</th>\n",
       "      <th>Aaron Carter</th>\n",
       "    </tr>\n",
       "  </thead>\n",
       "  <tbody>\n",
       "    <tr>\n",
       "      <th>Paul Bartenfeld</th>\n",
       "      <td>NaN</td>\n",
       "      <td>-0.054102</td>\n",
       "      <td>-0.301516</td>\n",
       "      <td>-0.179256</td>\n",
       "      <td>-0.061861</td>\n",
       "    </tr>\n",
       "    <tr>\n",
       "      <th>Roman Ramirez</th>\n",
       "      <td>0.054102</td>\n",
       "      <td>NaN</td>\n",
       "      <td>0.212328</td>\n",
       "      <td>-0.383739</td>\n",
       "      <td>-0.196001</td>\n",
       "    </tr>\n",
       "    <tr>\n",
       "      <th>Will Simpson</th>\n",
       "      <td>0.301516</td>\n",
       "      <td>-0.212328</td>\n",
       "      <td>NaN</td>\n",
       "      <td>0.188215</td>\n",
       "      <td>-0.309828</td>\n",
       "    </tr>\n",
       "    <tr>\n",
       "      <th>Evan Sooklal</th>\n",
       "      <td>0.179256</td>\n",
       "      <td>0.383739</td>\n",
       "      <td>-0.188215</td>\n",
       "      <td>NaN</td>\n",
       "      <td>-0.140090</td>\n",
       "    </tr>\n",
       "    <tr>\n",
       "      <th>Aaron Carter</th>\n",
       "      <td>0.061861</td>\n",
       "      <td>0.196001</td>\n",
       "      <td>0.309828</td>\n",
       "      <td>0.140090</td>\n",
       "      <td>NaN</td>\n",
       "    </tr>\n",
       "  </tbody>\n",
       "</table>\n",
       "</div>"
      ],
      "text/plain": [
       "                 Paul Bartenfeld  Roman Ramirez  Will Simpson  Evan Sooklal  \\\n",
       "Paul Bartenfeld              NaN      -0.054102     -0.301516     -0.179256   \n",
       "Roman Ramirez           0.054102            NaN      0.212328     -0.383739   \n",
       "Will Simpson            0.301516      -0.212328           NaN      0.188215   \n",
       "Evan Sooklal            0.179256       0.383739     -0.188215           NaN   \n",
       "Aaron Carter            0.061861       0.196001      0.309828      0.140090   \n",
       "\n",
       "                 Aaron Carter  \n",
       "Paul Bartenfeld     -0.061861  \n",
       "Roman Ramirez       -0.196001  \n",
       "Will Simpson        -0.309828  \n",
       "Evan Sooklal        -0.140090  \n",
       "Aaron Carter              NaN  "
      ]
     },
     "metadata": {},
     "output_type": "display_data"
    },
    {
     "data": {
      "text/html": [
       "<div>\n",
       "<style scoped>\n",
       "    .dataframe tbody tr th:only-of-type {\n",
       "        vertical-align: middle;\n",
       "    }\n",
       "\n",
       "    .dataframe tbody tr th {\n",
       "        vertical-align: top;\n",
       "    }\n",
       "\n",
       "    .dataframe thead th {\n",
       "        text-align: right;\n",
       "    }\n",
       "</style>\n",
       "<table border=\"1\" class=\"dataframe\">\n",
       "  <thead>\n",
       "    <tr style=\"text-align: right;\">\n",
       "      <th></th>\n",
       "      <th>Paul Bartenfeld</th>\n",
       "      <th>Roman Ramirez</th>\n",
       "      <th>Will Simpson</th>\n",
       "      <th>Evan Sooklal</th>\n",
       "      <th>Aaron Carter</th>\n",
       "    </tr>\n",
       "  </thead>\n",
       "  <tbody>\n",
       "    <tr>\n",
       "      <th>Paul Bartenfeld</th>\n",
       "      <td>[0, 0]</td>\n",
       "      <td>[21, 31]</td>\n",
       "      <td>[16, 36]</td>\n",
       "      <td>[24, 35]</td>\n",
       "      <td>[15, 21]</td>\n",
       "    </tr>\n",
       "    <tr>\n",
       "      <th>Roman Ramirez</th>\n",
       "      <td>[31, 21]</td>\n",
       "      <td>[0, 0]</td>\n",
       "      <td>[47, 38]</td>\n",
       "      <td>[24, 33]</td>\n",
       "      <td>[18, 18]</td>\n",
       "    </tr>\n",
       "    <tr>\n",
       "      <th>Will Simpson</th>\n",
       "      <td>[36, 16]</td>\n",
       "      <td>[38, 47]</td>\n",
       "      <td>[0, 0]</td>\n",
       "      <td>[43, 26]</td>\n",
       "      <td>[14, 22]</td>\n",
       "    </tr>\n",
       "    <tr>\n",
       "      <th>Evan Sooklal</th>\n",
       "      <td>[35, 24]</td>\n",
       "      <td>[33, 24]</td>\n",
       "      <td>[26, 43]</td>\n",
       "      <td>[0, 0]</td>\n",
       "      <td>[26, 39]</td>\n",
       "    </tr>\n",
       "    <tr>\n",
       "      <th>Aaron Carter</th>\n",
       "      <td>[21, 15]</td>\n",
       "      <td>[18, 18]</td>\n",
       "      <td>[22, 14]</td>\n",
       "      <td>[39, 26]</td>\n",
       "      <td>[0, 0]</td>\n",
       "    </tr>\n",
       "  </tbody>\n",
       "</table>\n",
       "</div>"
      ],
      "text/plain": [
       "                Paul Bartenfeld Roman Ramirez Will Simpson Evan Sooklal  \\\n",
       "Paul Bartenfeld          [0, 0]      [21, 31]     [16, 36]     [24, 35]   \n",
       "Roman Ramirez          [31, 21]        [0, 0]     [47, 38]     [24, 33]   \n",
       "Will Simpson           [36, 16]      [38, 47]       [0, 0]     [43, 26]   \n",
       "Evan Sooklal           [35, 24]      [33, 24]     [26, 43]       [0, 0]   \n",
       "Aaron Carter           [21, 15]      [18, 18]     [22, 14]     [39, 26]   \n",
       "\n",
       "                Aaron Carter  \n",
       "Paul Bartenfeld     [15, 21]  \n",
       "Roman Ramirez       [18, 18]  \n",
       "Will Simpson        [14, 22]  \n",
       "Evan Sooklal        [26, 39]  \n",
       "Aaron Carter          [0, 0]  "
      ]
     },
     "metadata": {},
     "output_type": "display_data"
    },
    {
     "data": {
      "text/html": [
       "<div>\n",
       "<style scoped>\n",
       "    .dataframe tbody tr th:only-of-type {\n",
       "        vertical-align: middle;\n",
       "    }\n",
       "\n",
       "    .dataframe tbody tr th {\n",
       "        vertical-align: top;\n",
       "    }\n",
       "\n",
       "    .dataframe thead th {\n",
       "        text-align: right;\n",
       "    }\n",
       "</style>\n",
       "<table border=\"1\" class=\"dataframe\">\n",
       "  <thead>\n",
       "    <tr style=\"text-align: right;\">\n",
       "      <th></th>\n",
       "      <th>Aaron Carter</th>\n",
       "      <th>Evan Sooklal</th>\n",
       "      <th>Paul Bartenfeld</th>\n",
       "      <th>Roman Ramirez</th>\n",
       "      <th>Will Simpson</th>\n",
       "    </tr>\n",
       "  </thead>\n",
       "  <tbody>\n",
       "    <tr>\n",
       "      <th>1</th>\n",
       "      <td>NaN</td>\n",
       "      <td>-4.0</td>\n",
       "      <td>NaN</td>\n",
       "      <td>NaN</td>\n",
       "      <td>4.0</td>\n",
       "    </tr>\n",
       "    <tr>\n",
       "      <th>2</th>\n",
       "      <td>NaN</td>\n",
       "      <td>NaN</td>\n",
       "      <td>-4.0</td>\n",
       "      <td>4.0</td>\n",
       "      <td>NaN</td>\n",
       "    </tr>\n",
       "    <tr>\n",
       "      <th>3</th>\n",
       "      <td>NaN</td>\n",
       "      <td>-3.0</td>\n",
       "      <td>NaN</td>\n",
       "      <td>3.0</td>\n",
       "      <td>NaN</td>\n",
       "    </tr>\n",
       "    <tr>\n",
       "      <th>4</th>\n",
       "      <td>NaN</td>\n",
       "      <td>NaN</td>\n",
       "      <td>-5.0</td>\n",
       "      <td>NaN</td>\n",
       "      <td>5.0</td>\n",
       "    </tr>\n",
       "    <tr>\n",
       "      <th>5</th>\n",
       "      <td>NaN</td>\n",
       "      <td>5.0</td>\n",
       "      <td>-5.0</td>\n",
       "      <td>NaN</td>\n",
       "      <td>NaN</td>\n",
       "    </tr>\n",
       "    <tr>\n",
       "      <th>6</th>\n",
       "      <td>NaN</td>\n",
       "      <td>NaN</td>\n",
       "      <td>NaN</td>\n",
       "      <td>3.0</td>\n",
       "      <td>-3.0</td>\n",
       "    </tr>\n",
       "    <tr>\n",
       "      <th>7</th>\n",
       "      <td>NaN</td>\n",
       "      <td>-4.0</td>\n",
       "      <td>NaN</td>\n",
       "      <td>NaN</td>\n",
       "      <td>4.0</td>\n",
       "    </tr>\n",
       "    <tr>\n",
       "      <th>8</th>\n",
       "      <td>NaN</td>\n",
       "      <td>NaN</td>\n",
       "      <td>-2.0</td>\n",
       "      <td>2.0</td>\n",
       "      <td>NaN</td>\n",
       "    </tr>\n",
       "    <tr>\n",
       "      <th>9</th>\n",
       "      <td>NaN</td>\n",
       "      <td>1.0</td>\n",
       "      <td>NaN</td>\n",
       "      <td>-1.0</td>\n",
       "      <td>NaN</td>\n",
       "    </tr>\n",
       "    <tr>\n",
       "      <th>10</th>\n",
       "      <td>NaN</td>\n",
       "      <td>NaN</td>\n",
       "      <td>-2.0</td>\n",
       "      <td>NaN</td>\n",
       "      <td>2.0</td>\n",
       "    </tr>\n",
       "    <tr>\n",
       "      <th>11</th>\n",
       "      <td>NaN</td>\n",
       "      <td>1.0</td>\n",
       "      <td>-1.0</td>\n",
       "      <td>NaN</td>\n",
       "      <td>NaN</td>\n",
       "    </tr>\n",
       "    <tr>\n",
       "      <th>12</th>\n",
       "      <td>NaN</td>\n",
       "      <td>NaN</td>\n",
       "      <td>NaN</td>\n",
       "      <td>4.0</td>\n",
       "      <td>-4.0</td>\n",
       "    </tr>\n",
       "    <tr>\n",
       "      <th>13</th>\n",
       "      <td>NaN</td>\n",
       "      <td>NaN</td>\n",
       "      <td>NaN</td>\n",
       "      <td>-4.0</td>\n",
       "      <td>4.0</td>\n",
       "    </tr>\n",
       "    <tr>\n",
       "      <th>14</th>\n",
       "      <td>NaN</td>\n",
       "      <td>NaN</td>\n",
       "      <td>NaN</td>\n",
       "      <td>2.0</td>\n",
       "      <td>-2.0</td>\n",
       "    </tr>\n",
       "    <tr>\n",
       "      <th>15</th>\n",
       "      <td>NaN</td>\n",
       "      <td>NaN</td>\n",
       "      <td>NaN</td>\n",
       "      <td>2.0</td>\n",
       "      <td>-2.0</td>\n",
       "    </tr>\n",
       "    <tr>\n",
       "      <th>16</th>\n",
       "      <td>2.0</td>\n",
       "      <td>NaN</td>\n",
       "      <td>NaN</td>\n",
       "      <td>-2.0</td>\n",
       "      <td>NaN</td>\n",
       "    </tr>\n",
       "    <tr>\n",
       "      <th>17</th>\n",
       "      <td>NaN</td>\n",
       "      <td>NaN</td>\n",
       "      <td>-2.0</td>\n",
       "      <td>NaN</td>\n",
       "      <td>2.0</td>\n",
       "    </tr>\n",
       "    <tr>\n",
       "      <th>18</th>\n",
       "      <td>-2.0</td>\n",
       "      <td>NaN</td>\n",
       "      <td>NaN</td>\n",
       "      <td>NaN</td>\n",
       "      <td>2.0</td>\n",
       "    </tr>\n",
       "    <tr>\n",
       "      <th>19</th>\n",
       "      <td>NaN</td>\n",
       "      <td>4.0</td>\n",
       "      <td>NaN</td>\n",
       "      <td>-4.0</td>\n",
       "      <td>NaN</td>\n",
       "    </tr>\n",
       "    <tr>\n",
       "      <th>20</th>\n",
       "      <td>NaN</td>\n",
       "      <td>-4.0</td>\n",
       "      <td>NaN</td>\n",
       "      <td>NaN</td>\n",
       "      <td>4.0</td>\n",
       "    </tr>\n",
       "    <tr>\n",
       "      <th>21</th>\n",
       "      <td>-3.0</td>\n",
       "      <td>NaN</td>\n",
       "      <td>3.0</td>\n",
       "      <td>NaN</td>\n",
       "      <td>NaN</td>\n",
       "    </tr>\n",
       "    <tr>\n",
       "      <th>22</th>\n",
       "      <td>NaN</td>\n",
       "      <td>2.0</td>\n",
       "      <td>-2.0</td>\n",
       "      <td>NaN</td>\n",
       "      <td>NaN</td>\n",
       "    </tr>\n",
       "    <tr>\n",
       "      <th>23</th>\n",
       "      <td>NaN</td>\n",
       "      <td>NaN</td>\n",
       "      <td>NaN</td>\n",
       "      <td>2.0</td>\n",
       "      <td>-2.0</td>\n",
       "    </tr>\n",
       "    <tr>\n",
       "      <th>24</th>\n",
       "      <td>NaN</td>\n",
       "      <td>NaN</td>\n",
       "      <td>3.0</td>\n",
       "      <td>-3.0</td>\n",
       "      <td>NaN</td>\n",
       "    </tr>\n",
       "    <tr>\n",
       "      <th>25</th>\n",
       "      <td>3.0</td>\n",
       "      <td>-3.0</td>\n",
       "      <td>NaN</td>\n",
       "      <td>NaN</td>\n",
       "      <td>NaN</td>\n",
       "    </tr>\n",
       "    <tr>\n",
       "      <th>26</th>\n",
       "      <td>-6.0</td>\n",
       "      <td>NaN</td>\n",
       "      <td>NaN</td>\n",
       "      <td>6.0</td>\n",
       "      <td>NaN</td>\n",
       "    </tr>\n",
       "    <tr>\n",
       "      <th>27</th>\n",
       "      <td>NaN</td>\n",
       "      <td>NaN</td>\n",
       "      <td>-5.0</td>\n",
       "      <td>NaN</td>\n",
       "      <td>5.0</td>\n",
       "    </tr>\n",
       "    <tr>\n",
       "      <th>28</th>\n",
       "      <td>3.0</td>\n",
       "      <td>NaN</td>\n",
       "      <td>NaN</td>\n",
       "      <td>NaN</td>\n",
       "      <td>-3.0</td>\n",
       "    </tr>\n",
       "    <tr>\n",
       "      <th>29</th>\n",
       "      <td>NaN</td>\n",
       "      <td>4.0</td>\n",
       "      <td>NaN</td>\n",
       "      <td>-4.0</td>\n",
       "      <td>NaN</td>\n",
       "    </tr>\n",
       "    <tr>\n",
       "      <th>30</th>\n",
       "      <td>NaN</td>\n",
       "      <td>-1.0</td>\n",
       "      <td>NaN</td>\n",
       "      <td>NaN</td>\n",
       "      <td>1.0</td>\n",
       "    </tr>\n",
       "    <tr>\n",
       "      <th>31</th>\n",
       "      <td>3.0</td>\n",
       "      <td>NaN</td>\n",
       "      <td>-3.0</td>\n",
       "      <td>NaN</td>\n",
       "      <td>NaN</td>\n",
       "    </tr>\n",
       "    <tr>\n",
       "      <th>32</th>\n",
       "      <td>NaN</td>\n",
       "      <td>-1.0</td>\n",
       "      <td>1.0</td>\n",
       "      <td>NaN</td>\n",
       "      <td>NaN</td>\n",
       "    </tr>\n",
       "    <tr>\n",
       "      <th>33</th>\n",
       "      <td>NaN</td>\n",
       "      <td>NaN</td>\n",
       "      <td>NaN</td>\n",
       "      <td>-1.0</td>\n",
       "      <td>1.0</td>\n",
       "    </tr>\n",
       "    <tr>\n",
       "      <th>34</th>\n",
       "      <td>NaN</td>\n",
       "      <td>NaN</td>\n",
       "      <td>2.0</td>\n",
       "      <td>-2.0</td>\n",
       "      <td>NaN</td>\n",
       "    </tr>\n",
       "    <tr>\n",
       "      <th>35</th>\n",
       "      <td>-2.0</td>\n",
       "      <td>2.0</td>\n",
       "      <td>NaN</td>\n",
       "      <td>NaN</td>\n",
       "      <td>NaN</td>\n",
       "    </tr>\n",
       "    <tr>\n",
       "      <th>36</th>\n",
       "      <td>NaN</td>\n",
       "      <td>-4.0</td>\n",
       "      <td>NaN</td>\n",
       "      <td>NaN</td>\n",
       "      <td>4.0</td>\n",
       "    </tr>\n",
       "    <tr>\n",
       "      <th>37</th>\n",
       "      <td>NaN</td>\n",
       "      <td>-5.0</td>\n",
       "      <td>NaN</td>\n",
       "      <td>NaN</td>\n",
       "      <td>5.0</td>\n",
       "    </tr>\n",
       "    <tr>\n",
       "      <th>38</th>\n",
       "      <td>3.0</td>\n",
       "      <td>NaN</td>\n",
       "      <td>-3.0</td>\n",
       "      <td>NaN</td>\n",
       "      <td>NaN</td>\n",
       "    </tr>\n",
       "    <tr>\n",
       "      <th>39</th>\n",
       "      <td>NaN</td>\n",
       "      <td>1.0</td>\n",
       "      <td>NaN</td>\n",
       "      <td>-1.0</td>\n",
       "      <td>NaN</td>\n",
       "    </tr>\n",
       "    <tr>\n",
       "      <th>40</th>\n",
       "      <td>NaN</td>\n",
       "      <td>NaN</td>\n",
       "      <td>-4.0</td>\n",
       "      <td>4.0</td>\n",
       "      <td>NaN</td>\n",
       "    </tr>\n",
       "    <tr>\n",
       "      <th>41</th>\n",
       "      <td>6.0</td>\n",
       "      <td>NaN</td>\n",
       "      <td>NaN</td>\n",
       "      <td>NaN</td>\n",
       "      <td>-6.0</td>\n",
       "    </tr>\n",
       "    <tr>\n",
       "      <th>42</th>\n",
       "      <td>NaN</td>\n",
       "      <td>NaN</td>\n",
       "      <td>NaN</td>\n",
       "      <td>-2.0</td>\n",
       "      <td>2.0</td>\n",
       "    </tr>\n",
       "    <tr>\n",
       "      <th>43</th>\n",
       "      <td>NaN</td>\n",
       "      <td>1.0</td>\n",
       "      <td>-1.0</td>\n",
       "      <td>NaN</td>\n",
       "      <td>NaN</td>\n",
       "    </tr>\n",
       "    <tr>\n",
       "      <th>44</th>\n",
       "      <td>NaN</td>\n",
       "      <td>2.0</td>\n",
       "      <td>NaN</td>\n",
       "      <td>NaN</td>\n",
       "      <td>-2.0</td>\n",
       "    </tr>\n",
       "    <tr>\n",
       "      <th>45</th>\n",
       "      <td>3.0</td>\n",
       "      <td>NaN</td>\n",
       "      <td>NaN</td>\n",
       "      <td>-3.0</td>\n",
       "      <td>NaN</td>\n",
       "    </tr>\n",
       "    <tr>\n",
       "      <th>46</th>\n",
       "      <td>1.0</td>\n",
       "      <td>-1.0</td>\n",
       "      <td>NaN</td>\n",
       "      <td>NaN</td>\n",
       "      <td>NaN</td>\n",
       "    </tr>\n",
       "    <tr>\n",
       "      <th>47</th>\n",
       "      <td>NaN</td>\n",
       "      <td>NaN</td>\n",
       "      <td>-4.0</td>\n",
       "      <td>NaN</td>\n",
       "      <td>4.0</td>\n",
       "    </tr>\n",
       "    <tr>\n",
       "      <th>48</th>\n",
       "      <td>3.0</td>\n",
       "      <td>NaN</td>\n",
       "      <td>-3.0</td>\n",
       "      <td>NaN</td>\n",
       "      <td>NaN</td>\n",
       "    </tr>\n",
       "    <tr>\n",
       "      <th>49</th>\n",
       "      <td>NaN</td>\n",
       "      <td>2.0</td>\n",
       "      <td>NaN</td>\n",
       "      <td>-2.0</td>\n",
       "      <td>NaN</td>\n",
       "    </tr>\n",
       "    <tr>\n",
       "      <th>50</th>\n",
       "      <td>NaN</td>\n",
       "      <td>NaN</td>\n",
       "      <td>-5.0</td>\n",
       "      <td>5.0</td>\n",
       "      <td>NaN</td>\n",
       "    </tr>\n",
       "    <tr>\n",
       "      <th>51</th>\n",
       "      <td>1.0</td>\n",
       "      <td>NaN</td>\n",
       "      <td>NaN</td>\n",
       "      <td>NaN</td>\n",
       "      <td>-1.0</td>\n",
       "    </tr>\n",
       "    <tr>\n",
       "      <th>52</th>\n",
       "      <td>NaN</td>\n",
       "      <td>NaN</td>\n",
       "      <td>NaN</td>\n",
       "      <td>3.0</td>\n",
       "      <td>-3.0</td>\n",
       "    </tr>\n",
       "    <tr>\n",
       "      <th>53</th>\n",
       "      <td>NaN</td>\n",
       "      <td>3.0</td>\n",
       "      <td>-3.0</td>\n",
       "      <td>NaN</td>\n",
       "      <td>NaN</td>\n",
       "    </tr>\n",
       "    <tr>\n",
       "      <th>54</th>\n",
       "      <td>NaN</td>\n",
       "      <td>3.0</td>\n",
       "      <td>NaN</td>\n",
       "      <td>NaN</td>\n",
       "      <td>-3.0</td>\n",
       "    </tr>\n",
       "    <tr>\n",
       "      <th>55</th>\n",
       "      <td>1.0</td>\n",
       "      <td>NaN</td>\n",
       "      <td>NaN</td>\n",
       "      <td>-1.0</td>\n",
       "      <td>NaN</td>\n",
       "    </tr>\n",
       "    <tr>\n",
       "      <th>56</th>\n",
       "      <td>4.0</td>\n",
       "      <td>-4.0</td>\n",
       "      <td>NaN</td>\n",
       "      <td>NaN</td>\n",
       "      <td>NaN</td>\n",
       "    </tr>\n",
       "    <tr>\n",
       "      <th>57</th>\n",
       "      <td>NaN</td>\n",
       "      <td>NaN</td>\n",
       "      <td>-2.0</td>\n",
       "      <td>NaN</td>\n",
       "      <td>2.0</td>\n",
       "    </tr>\n",
       "    <tr>\n",
       "      <th>58</th>\n",
       "      <td>-1.0</td>\n",
       "      <td>1.0</td>\n",
       "      <td>NaN</td>\n",
       "      <td>NaN</td>\n",
       "      <td>NaN</td>\n",
       "    </tr>\n",
       "    <tr>\n",
       "      <th>59</th>\n",
       "      <td>4.0</td>\n",
       "      <td>-4.0</td>\n",
       "      <td>NaN</td>\n",
       "      <td>NaN</td>\n",
       "      <td>NaN</td>\n",
       "    </tr>\n",
       "    <tr>\n",
       "      <th>60</th>\n",
       "      <td>4.0</td>\n",
       "      <td>-4.0</td>\n",
       "      <td>NaN</td>\n",
       "      <td>NaN</td>\n",
       "      <td>NaN</td>\n",
       "    </tr>\n",
       "  </tbody>\n",
       "</table>\n",
       "</div>"
      ],
      "text/plain": [
       "    Aaron Carter  Evan Sooklal  Paul Bartenfeld  Roman Ramirez  Will Simpson\n",
       "1            NaN          -4.0              NaN            NaN           4.0\n",
       "2            NaN           NaN             -4.0            4.0           NaN\n",
       "3            NaN          -3.0              NaN            3.0           NaN\n",
       "4            NaN           NaN             -5.0            NaN           5.0\n",
       "5            NaN           5.0             -5.0            NaN           NaN\n",
       "6            NaN           NaN              NaN            3.0          -3.0\n",
       "7            NaN          -4.0              NaN            NaN           4.0\n",
       "8            NaN           NaN             -2.0            2.0           NaN\n",
       "9            NaN           1.0              NaN           -1.0           NaN\n",
       "10           NaN           NaN             -2.0            NaN           2.0\n",
       "11           NaN           1.0             -1.0            NaN           NaN\n",
       "12           NaN           NaN              NaN            4.0          -4.0\n",
       "13           NaN           NaN              NaN           -4.0           4.0\n",
       "14           NaN           NaN              NaN            2.0          -2.0\n",
       "15           NaN           NaN              NaN            2.0          -2.0\n",
       "16           2.0           NaN              NaN           -2.0           NaN\n",
       "17           NaN           NaN             -2.0            NaN           2.0\n",
       "18          -2.0           NaN              NaN            NaN           2.0\n",
       "19           NaN           4.0              NaN           -4.0           NaN\n",
       "20           NaN          -4.0              NaN            NaN           4.0\n",
       "21          -3.0           NaN              3.0            NaN           NaN\n",
       "22           NaN           2.0             -2.0            NaN           NaN\n",
       "23           NaN           NaN              NaN            2.0          -2.0\n",
       "24           NaN           NaN              3.0           -3.0           NaN\n",
       "25           3.0          -3.0              NaN            NaN           NaN\n",
       "26          -6.0           NaN              NaN            6.0           NaN\n",
       "27           NaN           NaN             -5.0            NaN           5.0\n",
       "28           3.0           NaN              NaN            NaN          -3.0\n",
       "29           NaN           4.0              NaN           -4.0           NaN\n",
       "30           NaN          -1.0              NaN            NaN           1.0\n",
       "31           3.0           NaN             -3.0            NaN           NaN\n",
       "32           NaN          -1.0              1.0            NaN           NaN\n",
       "33           NaN           NaN              NaN           -1.0           1.0\n",
       "34           NaN           NaN              2.0           -2.0           NaN\n",
       "35          -2.0           2.0              NaN            NaN           NaN\n",
       "36           NaN          -4.0              NaN            NaN           4.0\n",
       "37           NaN          -5.0              NaN            NaN           5.0\n",
       "38           3.0           NaN             -3.0            NaN           NaN\n",
       "39           NaN           1.0              NaN           -1.0           NaN\n",
       "40           NaN           NaN             -4.0            4.0           NaN\n",
       "41           6.0           NaN              NaN            NaN          -6.0\n",
       "42           NaN           NaN              NaN           -2.0           2.0\n",
       "43           NaN           1.0             -1.0            NaN           NaN\n",
       "44           NaN           2.0              NaN            NaN          -2.0\n",
       "45           3.0           NaN              NaN           -3.0           NaN\n",
       "46           1.0          -1.0              NaN            NaN           NaN\n",
       "47           NaN           NaN             -4.0            NaN           4.0\n",
       "48           3.0           NaN             -3.0            NaN           NaN\n",
       "49           NaN           2.0              NaN           -2.0           NaN\n",
       "50           NaN           NaN             -5.0            5.0           NaN\n",
       "51           1.0           NaN              NaN            NaN          -1.0\n",
       "52           NaN           NaN              NaN            3.0          -3.0\n",
       "53           NaN           3.0             -3.0            NaN           NaN\n",
       "54           NaN           3.0              NaN            NaN          -3.0\n",
       "55           1.0           NaN              NaN           -1.0           NaN\n",
       "56           4.0          -4.0              NaN            NaN           NaN\n",
       "57           NaN           NaN             -2.0            NaN           2.0\n",
       "58          -1.0           1.0              NaN            NaN           NaN\n",
       "59           4.0          -4.0              NaN            NaN           NaN\n",
       "60           4.0          -4.0              NaN            NaN           NaN"
      ]
     },
     "metadata": {},
     "output_type": "display_data"
    }
   ],
   "source": [
    "# elo stuff\n",
    "K = 31\n",
    "base = 3\n",
    "\n",
    "def expected_score(ratingA, ratingB, base=None):\n",
    "    # game variables\n",
    "    # base = 10\n",
    "    normal_elo_difference = 100\n",
    "\n",
    "    return (1 / (1 + np.power(base, (ratingB - ratingA) / normal_elo_difference)))\n",
    "\n",
    "def rating_change(score, expected_score, K=None):\n",
    "    # k-factor: determines how strongly a result affects the rating change\n",
    "    # usually between 10 and 40, bit with a lot of games, we want to change it often\n",
    "    # K = 32\n",
    "    return K * (score - expected_score)\n",
    "\n",
    "def sort_index_by_elo(table, elo):\n",
    "    for i in range(2):\n",
    "        table.sort_index(axis=i, key=(lambda x: [elo[y] for y in x.values]), inplace=True)\n",
    "\n",
    "def add_elo_to_index(table):\n",
    "    table.index= [f\"{x}<br>{(elo[x]):,.0f}\" for x in table.index]\n",
    "    table.columns = [f\"{x}<br>({(elo[x]):,.0f})\" for x in table.columns]\n",
    "\n",
    "def generate_elo(K, base):\n",
    "    # ELO INITIALIZATION\n",
    "    starting_elo = 1200.0\n",
    "    elo = dict.fromkeys(set_players, starting_elo)\n",
    "    elo_time = np.zeros([len(matches_table) + 1, num_players])\n",
    "    elo_time_table = pd.DataFrame(elo_time)\n",
    "    elo_time_table.columns = sorted(elo)\n",
    "    elo_time_table.replace(0, np.NaN, inplace=True)\n",
    "\n",
    "    prev_elo_time_table = elo_time_table.copy(deep=True)\n",
    "    d_elo_time_table = elo_time_table.copy(deep=True)\n",
    "    exp_elo_time_table = elo_time_table.copy(deep=True)\n",
    "    wl_time_table = elo_time_table.copy(deep=True)\n",
    "\n",
    "    record_table = pd.DataFrame(np.zeros([len(set_players), len(set_players)]),dtype=object)\n",
    "    record_table.index = list(set_players)\n",
    "    record_table.columns = list(set_players)\n",
    "\n",
    "    luck_table = pd.DataFrame(np.zeros([len(set_players), len(set_players)]))\n",
    "    luck_table.index = list(set_players)\n",
    "    luck_table.columns = list(set_players)\n",
    "\n",
    "    for c in record_table.columns:\n",
    "        for r in record_table.index:\n",
    "            record_table.at[r, c] = np.array([0, 0])\n",
    "\n",
    "    plus_minus_table = pd.DataFrame(np.zeros([len(set_players), len(set_players)]),dtype=object)\n",
    "    plus_minus_table.index = list(set_players)\n",
    "    plus_minus_table.columns = list(set_players)\n",
    "    \n",
    "    for c in plus_minus_table.columns:\n",
    "        for r in plus_minus_table.index:\n",
    "            plus_minus_table.at[r, c] = np.array([0, 0])\n",
    "\n",
    "    elo_time_table.iloc[0,:] = starting_elo\n",
    "    prev_elo_time_table.iloc[0,:] = starting_elo\n",
    "\n",
    "    for (i, row) in matches_table.iterrows():\n",
    "        elo_p1 = elo[row['Player 1']]\n",
    "        elo_p2 = elo[row['Player 2']]\n",
    "\n",
    "        prev_elo_time_table.loc[i + 1, row['Player 1']] = elo_p1\n",
    "        prev_elo_time_table.loc[i + 1, row['Player 2']] = elo_p2\n",
    "        \n",
    "        win_prob_p1 = expected_score(elo_p1, elo_p2, base=base)\n",
    "        win_prob_p2 = expected_score(elo_p2, elo_p1, base=base)\n",
    "        \n",
    "        exp_elo_time_table.loc[i + 1, row['Player 1']] = win_prob_p1\n",
    "        exp_elo_time_table.loc[i + 1, row['Player 2']] = win_prob_p2\n",
    "\n",
    "        rating_change_p1 = rating_change(row['Score 1'] > row['Score 2'], win_prob_p1, K=K)\n",
    "        rating_change_p2 = rating_change(row['Score 2'] > row['Score 1'], win_prob_p2, K=K)\n",
    "\n",
    "        if rating_change_p1 > 0:\n",
    "            luck_table.loc[row['Player 1'], row['Player 2']] += 1 - win_prob_p1\n",
    "            luck_table.loc[row['Player 2'], row['Player 1']] += 0 - win_prob_p2\n",
    "        elif rating_change_p2 > 0:\n",
    "            luck_table.loc[row['Player 1'], row['Player 2']] += 0 - win_prob_p1\n",
    "            luck_table.loc[row['Player 2'], row['Player 1']] += 1 - win_prob_p2\n",
    "\n",
    "        plus_minus_table.loc[row['Player 1'], row['Player 2']][0] += row['Score 1']\n",
    "        plus_minus_table.loc[row['Player 1'], row['Player 2']][1] += row['Score 2']\n",
    "        plus_minus_table.loc[row['Player 2'], row['Player 1']][0] += row['Score 2']\n",
    "        plus_minus_table.loc[row['Player 2'], row['Player 1']][1] += row['Score 1']\n",
    "\n",
    "        if row['Score 1'] > row['Score 2']:\n",
    "            record_table.loc[row['Player 1'], row['Player 2']][0] += 1\n",
    "            record_table.loc[row['Player 2'], row['Player 1']][1] += 1\n",
    "            wl_time_table.loc[i + 1, row['Player 1']] = row['Score 1'] - row['Score 2']\n",
    "            wl_time_table.loc[i + 1, row['Player 2']] = row['Score 2'] - row['Score 1']\n",
    "        elif row['Score 2'] > row['Score 1']:\n",
    "            record_table.loc[row['Player 2'], row['Player 1']][0] += 1\n",
    "            record_table.loc[row['Player 1'], row['Player 2']][1] += 1\n",
    "            wl_time_table.loc[i + 1, row['Player 1']] = row['Score 1'] - row['Score 2']\n",
    "            wl_time_table.loc[i + 1, row['Player 2']] = row['Score 2'] - row['Score 1']\n",
    "\n",
    "        d_elo_time_table.loc[i + 1, row['Player 1']] = rating_change_p1\n",
    "        d_elo_time_table.loc[i + 1, row['Player 2']] = rating_change_p2\n",
    "\n",
    "        elo[row['Player 1']] += rating_change_p1\n",
    "        elo[row['Player 2']] += rating_change_p2\n",
    "\n",
    "        elo_time_table.loc[i + 1, row['Player 1']] = elo[row['Player 1']]\n",
    "        elo_time_table.loc[i + 1, row['Player 2']] = elo[row['Player 2']]\n",
    "\n",
    "    prev_elo_time_table = prev_elo_time_table.iloc[1:,:]\n",
    "    elo_time_table = elo_time_table.iloc[1:,:]\n",
    "    d_elo_time_table = d_elo_time_table.iloc[1:,:]\n",
    "    exp_elo_time_table = exp_elo_time_table.iloc[1:,:]\n",
    "    wl_time_table = wl_time_table.iloc[1:,:]\n",
    "\n",
    "    list_players = sorted(set_players, key=lambda x: elo[x], reverse=False)\n",
    "\n",
    "    for table in [record_table, luck_table, plus_minus_table]:\n",
    "        sort_index_by_elo(table, elo)\n",
    "\n",
    "    return (elo, elo_time_table, prev_elo_time_table, d_elo_time_table, exp_elo_time_table, wl_time_table, record_table, luck_table, plus_minus_table)\n",
    "\n",
    "(elo, elo_time_table, prev_elo_time_table, d_elo_time_table, exp_elo_time_table, wl_time_table, record_table, luck_table, plus_minus_table) = generate_elo(K=K,base=base)\n",
    "\n",
    "luck_per_game_table = luck_table.copy(deep=True)\n",
    "\n",
    "for c in luck_per_game_table.columns:\n",
    "    for r in luck_per_game_table.index:\n",
    "        if r !=c :\n",
    "            luck_per_game_table.loc[r, c] /= record_table.loc[r, c].sum()\n",
    "        else:\n",
    "            luck_per_game_table.loc[r, c] = np.NaN\n",
    "\n",
    "\n",
    "display(record_table)\n",
    "display(luck_per_game_table)\n",
    "display(plus_minus_table)\n",
    "display(wl_time_table)\n",
    "\n",
    "prev_elo_time_table.to_excel('exports/prev_elo_time_table.xlsx')\n",
    "d_elo_time_table.to_excel('exports/d_elo_time_table.xlsx')\n",
    "elo_time_table.to_excel('exports/elo_time_table.xlsx')\n",
    "exp_elo_time_table.to_excel('exports/exp_elo_time_table.xlsx')\n",
    "\n"
   ]
  },
  {
   "cell_type": "code",
   "execution_count": 33,
   "metadata": {},
   "outputs": [
    {
     "data": {
      "text/html": [
       "<div>\n",
       "<style scoped>\n",
       "    .dataframe tbody tr th:only-of-type {\n",
       "        vertical-align: middle;\n",
       "    }\n",
       "\n",
       "    .dataframe tbody tr th {\n",
       "        vertical-align: top;\n",
       "    }\n",
       "\n",
       "    .dataframe thead th {\n",
       "        text-align: right;\n",
       "    }\n",
       "</style>\n",
       "<table border=\"1\" class=\"dataframe\">\n",
       "  <thead>\n",
       "    <tr style=\"text-align: right;\">\n",
       "      <th></th>\n",
       "      <th>1-PT G</th>\n",
       "      <th>2-PT G</th>\n",
       "      <th>3-PT G</th>\n",
       "      <th>4-PT G</th>\n",
       "      <th>5-PT G</th>\n",
       "      <th>6-PT G</th>\n",
       "    </tr>\n",
       "  </thead>\n",
       "  <tbody>\n",
       "    <tr>\n",
       "      <th>Paul Bartenfeld</th>\n",
       "      <td>[1, 2]</td>\n",
       "      <td>[1, 5]</td>\n",
       "      <td>[2, 4]</td>\n",
       "      <td>[0, 3]</td>\n",
       "      <td>[0, 4]</td>\n",
       "      <td>[0, 0]</td>\n",
       "    </tr>\n",
       "    <tr>\n",
       "      <th>Roman Ramirez</th>\n",
       "      <td>[0, 4]</td>\n",
       "      <td>[4, 4]</td>\n",
       "      <td>[3, 2]</td>\n",
       "      <td>[3, 3]</td>\n",
       "      <td>[1, 0]</td>\n",
       "      <td>[1, 0]</td>\n",
       "    </tr>\n",
       "    <tr>\n",
       "      <th>Will Simpson</th>\n",
       "      <td>[2, 1]</td>\n",
       "      <td>[5, 4]</td>\n",
       "      <td>[0, 4]</td>\n",
       "      <td>[6, 1]</td>\n",
       "      <td>[3, 0]</td>\n",
       "      <td>[0, 1]</td>\n",
       "    </tr>\n",
       "    <tr>\n",
       "      <th>Evan Sooklal</th>\n",
       "      <td>[5, 3]</td>\n",
       "      <td>[4, 0]</td>\n",
       "      <td>[2, 2]</td>\n",
       "      <td>[2, 7]</td>\n",
       "      <td>[1, 1]</td>\n",
       "      <td>[0, 0]</td>\n",
       "    </tr>\n",
       "    <tr>\n",
       "      <th>Aaron Carter</th>\n",
       "      <td>[3, 1]</td>\n",
       "      <td>[1, 2]</td>\n",
       "      <td>[6, 1]</td>\n",
       "      <td>[3, 0]</td>\n",
       "      <td>[0, 0]</td>\n",
       "      <td>[1, 1]</td>\n",
       "    </tr>\n",
       "  </tbody>\n",
       "</table>\n",
       "</div>"
      ],
      "text/plain": [
       "                 1-PT G  2-PT G  3-PT G  4-PT G  5-PT G  6-PT G\n",
       "Paul Bartenfeld  [1, 2]  [1, 5]  [2, 4]  [0, 3]  [0, 4]  [0, 0]\n",
       "Roman Ramirez    [0, 4]  [4, 4]  [3, 2]  [3, 3]  [1, 0]  [1, 0]\n",
       "Will Simpson     [2, 1]  [5, 4]  [0, 4]  [6, 1]  [3, 0]  [0, 1]\n",
       "Evan Sooklal     [5, 3]  [4, 0]  [2, 2]  [2, 7]  [1, 1]  [0, 0]\n",
       "Aaron Carter     [3, 1]  [1, 2]  [6, 1]  [3, 0]  [0, 0]  [1, 1]"
      ]
     },
     "metadata": {},
     "output_type": "display_data"
    },
    {
     "data": {
      "text/html": [
       "<style type=\"text/css\">\n",
       "</style>\n",
       "<table id=\"T_e5ec5\">\n",
       "  <thead>\n",
       "    <tr>\n",
       "      <th class=\"blank level0\" >&nbsp;</th>\n",
       "      <th id=\"T_e5ec5_level0_col0\" class=\"col_heading level0 col0\" >Current ELO</th>\n",
       "      <th id=\"T_e5ec5_level0_col1\" class=\"col_heading level0 col1\" >Max ELO</th>\n",
       "      <th id=\"T_e5ec5_level0_col2\" class=\"col_heading level0 col2\" >Min ELO</th>\n",
       "      <th id=\"T_e5ec5_level0_col3\" class=\"col_heading level0 col3\" >Titles</th>\n",
       "      <th id=\"T_e5ec5_level0_col4\" class=\"col_heading level0 col4\" >Runner-Ups</th>\n",
       "      <th id=\"T_e5ec5_level0_col5\" class=\"col_heading level0 col5\" >GP</th>\n",
       "      <th id=\"T_e5ec5_level0_col6\" class=\"col_heading level0 col6\" >W</th>\n",
       "      <th id=\"T_e5ec5_level0_col7\" class=\"col_heading level0 col7\" >L</th>\n",
       "      <th id=\"T_e5ec5_level0_col8\" class=\"col_heading level0 col8\" >WL</th>\n",
       "      <th id=\"T_e5ec5_level0_col9\" class=\"col_heading level0 col9\" >GB</th>\n",
       "      <th id=\"T_e5ec5_level0_col10\" class=\"col_heading level0 col10\" >PCT</th>\n",
       "      <th id=\"T_e5ec5_level0_col11\" class=\"col_heading level0 col11\" >PD</th>\n",
       "      <th id=\"T_e5ec5_level0_col12\" class=\"col_heading level0 col12\" >PF</th>\n",
       "      <th id=\"T_e5ec5_level0_col13\" class=\"col_heading level0 col13\" >PA</th>\n",
       "      <th id=\"T_e5ec5_level0_col14\" class=\"col_heading level0 col14\" >PD/G</th>\n",
       "      <th id=\"T_e5ec5_level0_col15\" class=\"col_heading level0 col15\" >PF/G</th>\n",
       "      <th id=\"T_e5ec5_level0_col16\" class=\"col_heading level0 col16\" >PA/G</th>\n",
       "      <th id=\"T_e5ec5_level0_col17\" class=\"col_heading level0 col17\" >Luck</th>\n",
       "      <th id=\"T_e5ec5_level0_col18\" class=\"col_heading level0 col18\" >Luck/G</th>\n",
       "      <th id=\"T_e5ec5_level0_col19\" class=\"col_heading level0 col19\" >1-PT G</th>\n",
       "      <th id=\"T_e5ec5_level0_col20\" class=\"col_heading level0 col20\" >6-PT G</th>\n",
       "      <th id=\"T_e5ec5_level0_col21\" class=\"col_heading level0 col21\" >Streak</th>\n",
       "      <th id=\"T_e5ec5_level0_col22\" class=\"col_heading level0 col22\" >L10</th>\n",
       "    </tr>\n",
       "  </thead>\n",
       "  <tbody>\n",
       "    <tr>\n",
       "      <th id=\"T_e5ec5_level0_row0\" class=\"row_heading level0 row0\" >Aaron Carter</th>\n",
       "      <td id=\"T_e5ec5_row0_col0\" class=\"data row0 col0\" >1301</td>\n",
       "      <td id=\"T_e5ec5_row0_col1\" class=\"data row0 col1\" >1301</td>\n",
       "      <td id=\"T_e5ec5_row0_col2\" class=\"data row0 col2\" >1182</td>\n",
       "      <td id=\"T_e5ec5_row0_col3\" class=\"data row0 col3\" >1</td>\n",
       "      <td id=\"T_e5ec5_row0_col4\" class=\"data row0 col4\" >0</td>\n",
       "      <td id=\"T_e5ec5_row0_col5\" class=\"data row0 col5\" >19</td>\n",
       "      <td id=\"T_e5ec5_row0_col6\" class=\"data row0 col6\" >14</td>\n",
       "      <td id=\"T_e5ec5_row0_col7\" class=\"data row0 col7\" >5</td>\n",
       "      <td id=\"T_e5ec5_row0_col8\" class=\"data row0 col8\" >+9</td>\n",
       "      <td id=\"T_e5ec5_row0_col9\" class=\"data row0 col9\" >0.0</td>\n",
       "      <td id=\"T_e5ec5_row0_col10\" class=\"data row0 col10\" >0.737</td>\n",
       "      <td id=\"T_e5ec5_row0_col11\" class=\"data row0 col11\" >+27</td>\n",
       "      <td id=\"T_e5ec5_row0_col12\" class=\"data row0 col12\" >100</td>\n",
       "      <td id=\"T_e5ec5_row0_col13\" class=\"data row0 col13\" >73</td>\n",
       "      <td id=\"T_e5ec5_row0_col14\" class=\"data row0 col14\" >+1.4</td>\n",
       "      <td id=\"T_e5ec5_row0_col15\" class=\"data row0 col15\" >5.3</td>\n",
       "      <td id=\"T_e5ec5_row0_col16\" class=\"data row0 col16\" >3.8</td>\n",
       "      <td id=\"T_e5ec5_row0_col17\" class=\"data row0 col17\" >+325.1%</td>\n",
       "      <td id=\"T_e5ec5_row0_col18\" class=\"data row0 col18\" >+17.1%</td>\n",
       "      <td id=\"T_e5ec5_row0_col19\" class=\"data row0 col19\" >3-1</td>\n",
       "      <td id=\"T_e5ec5_row0_col20\" class=\"data row0 col20\" >1-1</td>\n",
       "      <td id=\"T_e5ec5_row0_col21\" class=\"data row0 col21\" >W2</td>\n",
       "      <td id=\"T_e5ec5_row0_col22\" class=\"data row0 col22\" >9-1</td>\n",
       "    </tr>\n",
       "    <tr>\n",
       "      <th id=\"T_e5ec5_level0_row1\" class=\"row_heading level0 row1\" >Evan Sooklal</th>\n",
       "      <td id=\"T_e5ec5_row1_col0\" class=\"data row1 col0\" >1228</td>\n",
       "      <td id=\"T_e5ec5_row1_col1\" class=\"data row1 col1\" >1252</td>\n",
       "      <td id=\"T_e5ec5_row1_col2\" class=\"data row1 col2\" >1172</td>\n",
       "      <td id=\"T_e5ec5_row1_col3\" class=\"data row1 col3\" >0</td>\n",
       "      <td id=\"T_e5ec5_row1_col4\" class=\"data row1 col4\" >2</td>\n",
       "      <td id=\"T_e5ec5_row1_col5\" class=\"data row1 col5\" >27</td>\n",
       "      <td id=\"T_e5ec5_row1_col6\" class=\"data row1 col6\" >14</td>\n",
       "      <td id=\"T_e5ec5_row1_col7\" class=\"data row1 col7\" >13</td>\n",
       "      <td id=\"T_e5ec5_row1_col8\" class=\"data row1 col8\" >+1</td>\n",
       "      <td id=\"T_e5ec5_row1_col9\" class=\"data row1 col9\" >-4.0</td>\n",
       "      <td id=\"T_e5ec5_row1_col10\" class=\"data row1 col10\" >0.519</td>\n",
       "      <td id=\"T_e5ec5_row1_col11\" class=\"data row1 col11\" >-10</td>\n",
       "      <td id=\"T_e5ec5_row1_col12\" class=\"data row1 col12\" >120</td>\n",
       "      <td id=\"T_e5ec5_row1_col13\" class=\"data row1 col13\" >130</td>\n",
       "      <td id=\"T_e5ec5_row1_col14\" class=\"data row1 col14\" >-0.4</td>\n",
       "      <td id=\"T_e5ec5_row1_col15\" class=\"data row1 col15\" >4.4</td>\n",
       "      <td id=\"T_e5ec5_row1_col16\" class=\"data row1 col16\" >4.8</td>\n",
       "      <td id=\"T_e5ec5_row1_col17\" class=\"data row1 col17\" >+89.2%</td>\n",
       "      <td id=\"T_e5ec5_row1_col18\" class=\"data row1 col18\" >+3.3%</td>\n",
       "      <td id=\"T_e5ec5_row1_col19\" class=\"data row1 col19\" >5-3</td>\n",
       "      <td id=\"T_e5ec5_row1_col20\" class=\"data row1 col20\" >0-0</td>\n",
       "      <td id=\"T_e5ec5_row1_col21\" class=\"data row1 col21\" >L2</td>\n",
       "      <td id=\"T_e5ec5_row1_col22\" class=\"data row1 col22\" >6-4</td>\n",
       "    </tr>\n",
       "    <tr>\n",
       "      <th id=\"T_e5ec5_level0_row2\" class=\"row_heading level0 row2\" >Will Simpson</th>\n",
       "      <td id=\"T_e5ec5_row2_col0\" class=\"data row2 col0\" >1205</td>\n",
       "      <td id=\"T_e5ec5_row2_col1\" class=\"data row2 col1\" >1269</td>\n",
       "      <td id=\"T_e5ec5_row2_col2\" class=\"data row2 col2\" >1197</td>\n",
       "      <td id=\"T_e5ec5_row2_col3\" class=\"data row2 col3\" >1</td>\n",
       "      <td id=\"T_e5ec5_row2_col4\" class=\"data row2 col4\" >1</td>\n",
       "      <td id=\"T_e5ec5_row2_col5\" class=\"data row2 col5\" >27</td>\n",
       "      <td id=\"T_e5ec5_row2_col6\" class=\"data row2 col6\" >16</td>\n",
       "      <td id=\"T_e5ec5_row2_col7\" class=\"data row2 col7\" >11</td>\n",
       "      <td id=\"T_e5ec5_row2_col8\" class=\"data row2 col8\" >+5</td>\n",
       "      <td id=\"T_e5ec5_row2_col9\" class=\"data row2 col9\" >-2.0</td>\n",
       "      <td id=\"T_e5ec5_row2_col10\" class=\"data row2 col10\" >0.593</td>\n",
       "      <td id=\"T_e5ec5_row2_col11\" class=\"data row2 col11\" >+20</td>\n",
       "      <td id=\"T_e5ec5_row2_col12\" class=\"data row2 col12\" >131</td>\n",
       "      <td id=\"T_e5ec5_row2_col13\" class=\"data row2 col13\" >111</td>\n",
       "      <td id=\"T_e5ec5_row2_col14\" class=\"data row2 col14\" >+0.7</td>\n",
       "      <td id=\"T_e5ec5_row2_col15\" class=\"data row2 col15\" >4.9</td>\n",
       "      <td id=\"T_e5ec5_row2_col16\" class=\"data row2 col16\" >4.1</td>\n",
       "      <td id=\"T_e5ec5_row2_col17\" class=\"data row2 col17\" >+16.5%</td>\n",
       "      <td id=\"T_e5ec5_row2_col18\" class=\"data row2 col18\" >+0.6%</td>\n",
       "      <td id=\"T_e5ec5_row2_col19\" class=\"data row2 col19\" >2-1</td>\n",
       "      <td id=\"T_e5ec5_row2_col20\" class=\"data row2 col20\" >0-1</td>\n",
       "      <td id=\"T_e5ec5_row2_col21\" class=\"data row2 col21\" >W1</td>\n",
       "      <td id=\"T_e5ec5_row2_col22\" class=\"data row2 col22\" >5-5</td>\n",
       "    </tr>\n",
       "    <tr>\n",
       "      <th id=\"T_e5ec5_level0_row3\" class=\"row_heading level0 row3\" >Roman Ramirez</th>\n",
       "      <td id=\"T_e5ec5_row3_col0\" class=\"data row3 col0\" >1174</td>\n",
       "      <td id=\"T_e5ec5_row3_col1\" class=\"data row3 col1\" >1258</td>\n",
       "      <td id=\"T_e5ec5_row3_col2\" class=\"data row3 col2\" >1147</td>\n",
       "      <td id=\"T_e5ec5_row3_col3\" class=\"data row3 col3\" >1</td>\n",
       "      <td id=\"T_e5ec5_row3_col4\" class=\"data row3 col4\" >0</td>\n",
       "      <td id=\"T_e5ec5_row3_col5\" class=\"data row3 col5\" >25</td>\n",
       "      <td id=\"T_e5ec5_row3_col6\" class=\"data row3 col6\" >12</td>\n",
       "      <td id=\"T_e5ec5_row3_col7\" class=\"data row3 col7\" >13</td>\n",
       "      <td id=\"T_e5ec5_row3_col8\" class=\"data row3 col8\" >-1</td>\n",
       "      <td id=\"T_e5ec5_row3_col9\" class=\"data row3 col9\" >-5.0</td>\n",
       "      <td id=\"T_e5ec5_row3_col10\" class=\"data row3 col10\" >0.480</td>\n",
       "      <td id=\"T_e5ec5_row3_col11\" class=\"data row3 col11\" >+10</td>\n",
       "      <td id=\"T_e5ec5_row3_col12\" class=\"data row3 col12\" >120</td>\n",
       "      <td id=\"T_e5ec5_row3_col13\" class=\"data row3 col13\" >110</td>\n",
       "      <td id=\"T_e5ec5_row3_col14\" class=\"data row3 col14\" >+0.4</td>\n",
       "      <td id=\"T_e5ec5_row3_col15\" class=\"data row3 col15\" >4.8</td>\n",
       "      <td id=\"T_e5ec5_row3_col16\" class=\"data row3 col16\" >4.4</td>\n",
       "      <td id=\"T_e5ec5_row3_col17\" class=\"data row3 col17\" >-85.1%</td>\n",
       "      <td id=\"T_e5ec5_row3_col18\" class=\"data row3 col18\" >-3.4%</td>\n",
       "      <td id=\"T_e5ec5_row3_col19\" class=\"data row3 col19\" >0-4</td>\n",
       "      <td id=\"T_e5ec5_row3_col20\" class=\"data row3 col20\" >1-0</td>\n",
       "      <td id=\"T_e5ec5_row3_col21\" class=\"data row3 col21\" >L1</td>\n",
       "      <td id=\"T_e5ec5_row3_col22\" class=\"data row3 col22\" >3-7</td>\n",
       "    </tr>\n",
       "    <tr>\n",
       "      <th id=\"T_e5ec5_level0_row4\" class=\"row_heading level0 row4\" >Paul Bartenfeld</th>\n",
       "      <td id=\"T_e5ec5_row4_col0\" class=\"data row4 col0\" >1093</td>\n",
       "      <td id=\"T_e5ec5_row4_col1\" class=\"data row4 col1\" >1184</td>\n",
       "      <td id=\"T_e5ec5_row4_col2\" class=\"data row4 col2\" >1093</td>\n",
       "      <td id=\"T_e5ec5_row4_col3\" class=\"data row4 col3\" >0</td>\n",
       "      <td id=\"T_e5ec5_row4_col4\" class=\"data row4 col4\" >0</td>\n",
       "      <td id=\"T_e5ec5_row4_col5\" class=\"data row4 col5\" >22</td>\n",
       "      <td id=\"T_e5ec5_row4_col6\" class=\"data row4 col6\" >4</td>\n",
       "      <td id=\"T_e5ec5_row4_col7\" class=\"data row4 col7\" >18</td>\n",
       "      <td id=\"T_e5ec5_row4_col8\" class=\"data row4 col8\" >-14</td>\n",
       "      <td id=\"T_e5ec5_row4_col9\" class=\"data row4 col9\" >-11.5</td>\n",
       "      <td id=\"T_e5ec5_row4_col10\" class=\"data row4 col10\" >0.182</td>\n",
       "      <td id=\"T_e5ec5_row4_col11\" class=\"data row4 col11\" >-47</td>\n",
       "      <td id=\"T_e5ec5_row4_col12\" class=\"data row4 col12\" >76</td>\n",
       "      <td id=\"T_e5ec5_row4_col13\" class=\"data row4 col13\" >123</td>\n",
       "      <td id=\"T_e5ec5_row4_col14\" class=\"data row4 col14\" >-2.1</td>\n",
       "      <td id=\"T_e5ec5_row4_col15\" class=\"data row4 col15\" >3.5</td>\n",
       "      <td id=\"T_e5ec5_row4_col16\" class=\"data row4 col16\" >5.6</td>\n",
       "      <td id=\"T_e5ec5_row4_col17\" class=\"data row4 col17\" >-345.7%</td>\n",
       "      <td id=\"T_e5ec5_row4_col18\" class=\"data row4 col18\" >-15.7%</td>\n",
       "      <td id=\"T_e5ec5_row4_col19\" class=\"data row4 col19\" >1-2</td>\n",
       "      <td id=\"T_e5ec5_row4_col20\" class=\"data row4 col20\" >0-0</td>\n",
       "      <td id=\"T_e5ec5_row4_col21\" class=\"data row4 col21\" >L8</td>\n",
       "      <td id=\"T_e5ec5_row4_col22\" class=\"data row4 col22\" >2-8</td>\n",
       "    </tr>\n",
       "  </tbody>\n",
       "</table>\n"
      ],
      "text/plain": [
       "<pandas.io.formats.style.Styler at 0x181cdce3e80>"
      ]
     },
     "metadata": {},
     "output_type": "display_data"
    }
   ],
   "source": [
    "# player stats\n",
    "\n",
    "player_table = pd.DataFrame(np.zeros([len(set_players), 0]))\n",
    "player_table.index = set_players\n",
    "player_table.sort_index(axis=0, key=(lambda x: [elo[y] for y in x.values]), ascending=False, inplace=True)\n",
    "\n",
    "# ELO\n",
    "\n",
    "player_table['Current ELO'] = [elo[x] for x in player_table.index]\n",
    "player_table['Max ELO'] = elo_time_table.replace(to_replace=np.NaN, value=-np.inf).max(axis=0)\n",
    "player_table['Min ELO'] = elo_time_table.replace(to_replace=np.NaN, value=np.inf).min(axis=0)\n",
    "\n",
    "date2matches_len = dict.fromkeys(set(matches_table['Date']),0)\n",
    "date2matches_first = dict.fromkeys(set(matches_table['Date']),0)\n",
    "for (i, row) in matches_table.iterrows():\n",
    "    if date2matches_len[row['Date']] == 0:\n",
    "        date2matches_first[row['Date']] = i\n",
    "    date2matches_len[row['Date']] += 1\n",
    "\n",
    "# CHAMPIONSHIPS AND RUNNER UPS\n",
    "\n",
    "championships = dict.fromkeys(set_players, 0)\n",
    "runner_ups = dict.fromkeys(set_players, 0)\n",
    "for date in set(matches_table['Date']):\n",
    "    row = matches_table.iloc[date2matches_first[date] + date2matches_len[date] - 1, :]\n",
    "    if row['Score 1'] > row['Score 2']:\n",
    "        championships[row['Player 1']] += 1\n",
    "        runner_ups[row['Player 2']] += 1\n",
    "    elif row['Score 2'] > row['Score 1']:\n",
    "        championships[row['Player 2']] += 1\n",
    "        runner_ups[row['Player 1']] += 1\n",
    "\n",
    "player_table['Titles'] = pd.DataFrame(championships.values(), index=championships.keys())\n",
    "player_table['Runner-Ups'] = pd.DataFrame(runner_ups.values(), index=runner_ups.keys())\n",
    "\n",
    "# RECORDS\n",
    "\n",
    "player_table['Record'] = record_table.sum(axis=1)\n",
    "player_table['GP'] = [sum(r) for r in player_table['Record']]\n",
    "player_table['W'] = [r[0] for r in player_table['Record']]\n",
    "player_table['L'] = [r[1] for r in player_table['Record']]\n",
    "player_table['WL'] = player_table['W'] - player_table['L']\n",
    "player_table['GB'] = (player_table['WL'] - player_table['WL'].max()) / 2\n",
    "player_table['PCT'] = player_table['W'] / player_table['GP']\n",
    "player_table.drop(columns='Record', inplace=True)\n",
    "\n",
    "# POINTS\n",
    "\n",
    "player_table['Raw +/-'] = plus_minus_table.sum(axis=1)\n",
    "player_table['PD'] = [r[0] - r[1] for r in player_table['Raw +/-']]\n",
    "player_table['PF'] = [r[0] for r in player_table['Raw +/-']]\n",
    "player_table['PA'] = [r[1] for r in player_table['Raw +/-']]\n",
    "player_table['PD/G'] = player_table['PD'] / player_table['GP']\n",
    "player_table['PF/G'] = player_table['PF'] / player_table['GP']\n",
    "player_table['PA/G'] = player_table['PA'] / player_table['GP']\n",
    "player_table.drop(columns='Raw +/-', inplace=True)\n",
    "\n",
    "# LUCK\n",
    "\n",
    "player_table['Luck'] = luck_table.sum(axis=1)\n",
    "player_table['Luck/G'] = player_table['Luck'] / player_table['GP']\n",
    "\n",
    "# N-POINT GAMES\n",
    "npg_table = pd.DataFrame(np.zeros([len(set_players), 0]))\n",
    "npg_table.index = player_table.index\n",
    "sort_index_by_elo(npg_table, elo)\n",
    "\n",
    "for i in range(6):\n",
    "    npg_table[f'{i+1}-PT G'] = [[0, 0] for x in range(len(set_players))]\n",
    "for (i, row) in matches_table.iterrows():\n",
    "    npg_table.loc[row['Player 1'], f\"{abs(row['Score 1'] - row['Score 2'])}-PT G\"][row['Score 1'] < row['Score 2']] += 1\n",
    "    npg_table.loc[row['Player 2'], f\"{abs(row['Score 1'] - row['Score 2'])}-PT G\"][row['Score 1'] > row['Score 2']] += 1\n",
    "display(npg_table)\n",
    "\n",
    "# STREAKS\n",
    "\n",
    "streaks = dict.fromkeys(set_players, list())\n",
    "\n",
    "for player in streaks.keys():\n",
    "    running = [0]\n",
    "    for is_win in wl_time_table[player].dropna().reset_index(drop=True).apply(np.sign):\n",
    "        if running[-1] == 0:\n",
    "            running.append(is_win)\n",
    "        elif (is_win > 0) and (running[-1] < 0):\n",
    "            running.append(1)\n",
    "        elif (is_win < 0) and (running[-1] > 0):\n",
    "            running.append(-1)\n",
    "        else:\n",
    "            running.append(running[-1] + is_win)\n",
    "    streaks[player] = running[1:]\n",
    "\n",
    "streaks_table = pd.DataFrame(np.zeros([max([len(x) for x in streaks.values()]), len(set_players)]))\n",
    "streaks_table.columns = set_players\n",
    "streaks_table.sort_index(axis=1, key=(lambda x: [elo[y] for y in x.values]), ascending=False, inplace=True)\n",
    "\n",
    "for player in streaks_table.columns:\n",
    "    streaks_table[player] = pd.Series(streaks[player])\n",
    "\n",
    "for x in ['1-PT G', '6-PT G']:\n",
    "    player_table[x] = npg_table[x]\n",
    "    player_table[x] = [f'{w}-{l}' for (w, l) in player_table[x]]\n",
    "\n",
    "\n",
    "player_table['Streak'] = 0\n",
    "for player in player_table.index:\n",
    "    val = \"\"\n",
    "    if streaks[player][-1] > 0:\n",
    "        val += \"W\"\n",
    "    elif streaks[player][-1] < 0:\n",
    "        val += \"L\"\n",
    "    val += str(int(np.abs(streaks[player][-1])))\n",
    "    player_table.loc[player, 'Streak'] = val\n",
    "\n",
    "player_table['L10'] = \"\"\n",
    "for player in player_table.index:\n",
    "    l10_w = 0\n",
    "    l10_l = 0\n",
    "    for i in range(10):\n",
    "        if streaks[player][-1 - i] > 0:\n",
    "            l10_w += 1\n",
    "        elif streaks[player][-1 - i] < 0:\n",
    "            l10_l += 1\n",
    "    player_table.loc[player, 'L10'] = f\"{l10_w}-{l10_l}\"\n",
    "\n",
    "# STYLIZING\n",
    "\n",
    "player_table_styled = player_table.style.format(\n",
    "    {'Current ELO': '{:.0f}',\n",
    "    'Max ELO': '{:.0f}',\n",
    "    'Min ELO': '{:.0f}',\n",
    "    'WL': '{:+,.0f}',\n",
    "    'GB': '{:,.1f}',\n",
    "    'PCT': '{:,.3f}',\n",
    "    'PD': '{:+.0f}',\n",
    "    'PD/G': '{:+,.1f}',\n",
    "    'PF/G': '{:,.1f}',\n",
    "    'PA/G': '{:,.1f}',\n",
    "    'Luck': '{:+,.1%}',\n",
    "    'Luck/G': '{:+,.1%}'\n",
    "    }\n",
    ")\n",
    "\n",
    "\n",
    "with pd.option_context('display.max_rows', None, 'display.max_columns', None):\n",
    "    display(player_table_styled)\n",
    "\n",
    "\n",
    "player_table_styled.to_html('figures/fig4.html')"
   ]
  },
  {
   "cell_type": "code",
   "execution_count": 7,
   "metadata": {},
   "outputs": [
    {
     "data": {
      "application/vnd.plotly.v1+json": {
       "config": {
        "plotlyServerURL": "https://plot.ly"
       },
       "data": [
        {
         "connectgaps": true,
         "customdata": [
          [
           "Evan Sooklal",
           "Will Simpson",
           2,
           6,
           "2023-11-18"
          ],
          [
           "Paul Bartenfeld",
           "Roman Ramirez",
           2,
           6,
           "2023-11-18"
          ],
          [
           "Roman Ramirez",
           "Evan Sooklal",
           6,
           3,
           "2023-11-18"
          ],
          [
           "Will Simpson",
           "Paul Bartenfeld",
           6,
           1,
           "2023-11-18"
          ],
          [
           "Paul Bartenfeld",
           "Evan Sooklal",
           1,
           6,
           "2023-11-18"
          ],
          [
           "Will Simpson",
           "Roman Ramirez",
           3,
           6,
           "2023-11-18"
          ],
          [
           "Will Simpson",
           "Evan Sooklal",
           6,
           2,
           "2023-11-18"
          ],
          [
           "Roman Ramirez",
           "Paul Bartenfeld",
           6,
           4,
           "2023-11-18"
          ],
          [
           "Evan Sooklal",
           "Roman Ramirez",
           6,
           5,
           "2023-11-18"
          ],
          [
           "Paul Bartenfeld",
           "Will Simpson",
           4,
           6,
           "2023-11-18"
          ],
          [
           "Evan Sooklal",
           "Paul Bartenfeld",
           6,
           5,
           "2023-11-18"
          ],
          [
           "Roman Ramirez",
           "Will Simpson",
           6,
           2,
           "2023-11-18"
          ],
          [
           "Roman Ramirez",
           "Will Simpson",
           2,
           6,
           "2023-11-18"
          ],
          [
           "Will Simpson",
           "Roman Ramirez",
           4,
           6,
           "2023-11-18"
          ],
          [
           "Roman Ramirez",
           "Will Simpson",
           6,
           4,
           "2023-11-18"
          ],
          [
           "Roman Ramirez",
           "Aaron Carter",
           4,
           6,
           "2023-12-02"
          ],
          [
           "Will Simpson",
           "Paul Bartenfeld",
           6,
           4,
           "2023-12-02"
          ],
          [
           "Aaron Carter",
           "Will Simpson",
           4,
           6,
           "2023-12-02"
          ],
          [
           "Evan Sooklal",
           "Roman Ramirez",
           6,
           2,
           "2023-12-02"
          ],
          [
           "Will Simpson",
           "Evan Sooklal",
           6,
           2,
           "2023-12-02"
          ],
          [
           "Paul Bartenfeld",
           "Aaron Carter",
           6,
           3,
           "2023-12-02"
          ],
          [
           "Evan Sooklal",
           "Paul Bartenfeld",
           6,
           4,
           "2023-12-02"
          ],
          [
           "Roman Ramirez",
           "Will Simpson",
           6,
           4,
           "2023-12-02"
          ],
          [
           "Paul Bartenfeld",
           "Roman Ramirez",
           6,
           3,
           "2023-12-02"
          ],
          [
           "Aaron Carter",
           "Evan Sooklal",
           6,
           3,
           "2023-12-02"
          ],
          [
           "Aaron Carter",
           "Roman Ramirez",
           0,
           6,
           "2023-12-02"
          ],
          [
           "Paul Bartenfeld",
           "Will Simpson",
           1,
           6,
           "2023-12-02"
          ],
          [
           "Will Simpson",
           "Aaron Carter",
           3,
           6,
           "2023-12-02"
          ],
          [
           "Roman Ramirez",
           "Evan Sooklal",
           2,
           6,
           "2023-12-02"
          ],
          [
           "Evan Sooklal",
           "Will Simpson",
           5,
           6,
           "2023-12-02"
          ],
          [
           "Aaron Carter",
           "Paul Bartenfeld",
           6,
           3,
           "2023-12-02"
          ],
          [
           "Paul Bartenfeld",
           "Evan Sooklal",
           6,
           5,
           "2023-12-02"
          ],
          [
           "Will Simpson",
           "Roman Ramirez",
           6,
           5,
           "2023-12-02"
          ],
          [
           "Roman Ramirez",
           "Paul Bartenfeld",
           4,
           6,
           "2023-12-02"
          ],
          [
           "Evan Sooklal",
           "Aaron Carter",
           6,
           4,
           "2023-12-02"
          ],
          [
           "Will Simpson",
           "Evan Sooklal",
           6,
           2,
           "2023-12-02"
          ],
          [
           "Will Simpson",
           "Evan Sooklal",
           6,
           1,
           "2023-12-02"
          ],
          [
           "Aaron Carter",
           "Paul Bartenfeld",
           6,
           3,
           "2023-12-13"
          ],
          [
           "Roman Ramirez",
           "Evan Sooklal",
           5,
           6,
           "2023-12-13"
          ],
          [
           "Paul Bartenfeld",
           "Roman Ramirez",
           2,
           6,
           "2023-12-13"
          ],
          [
           "Will Simpson",
           "Aaron Carter",
           0,
           6,
           "2023-12-13"
          ],
          [
           "Roman Ramirez",
           "Will Simpson",
           4,
           6,
           "2023-12-13"
          ],
          [
           "Evan Sooklal",
           "Paul Bartenfeld",
           6,
           5,
           "2023-12-13"
          ],
          [
           "Will Simpson",
           "Evan Sooklal",
           4,
           6,
           "2023-12-13"
          ],
          [
           "Aaron Carter",
           "Roman Ramirez",
           6,
           3,
           "2023-12-13"
          ],
          [
           "Evan Sooklal",
           "Aaron Carter",
           5,
           6,
           "2023-12-13"
          ],
          [
           "Paul Bartenfeld",
           "Will Simpson",
           2,
           6,
           "2023-12-13"
          ],
          [
           "Paul Bartenfeld",
           "Aaron Carter",
           3,
           6,
           "2023-12-13"
          ],
          [
           "Evan Sooklal",
           "Roman Ramirez",
           6,
           4,
           "2023-12-13"
          ],
          [
           "Roman Ramirez",
           "Paul Bartenfeld",
           6,
           1,
           "2023-12-13"
          ],
          [
           "Aaron Carter",
           "Will Simpson",
           6,
           5,
           "2023-12-13"
          ],
          [
           "Will Simpson",
           "Roman Ramirez",
           3,
           6,
           "2023-12-13"
          ],
          [
           "Paul Bartenfeld",
           "Evan Sooklal",
           3,
           6,
           "2023-12-13"
          ],
          [
           "Evan Sooklal",
           "Will Simpson",
           6,
           3,
           "2023-12-13"
          ],
          [
           "Roman Ramirez",
           "Aaron Carter",
           5,
           6,
           "2023-12-13"
          ],
          [
           "Aaron Carter",
           "Evan Sooklal",
           6,
           2,
           "2023-12-13"
          ],
          [
           "Will Simpson",
           "Paul Bartenfeld",
           6,
           4,
           "2023-12-13"
          ],
          [
           "Aaron Carter",
           "Evan Sooklal",
           5,
           6,
           "2023-12-13"
          ],
          [
           "Evan Sooklal",
           "Aaron Carter",
           2,
           6,
           "2023-12-13"
          ],
          [
           "Aaron Carter",
           "Evan Sooklal",
           6,
           2,
           "2023-12-13"
          ]
         ],
         "hovertemplate": "<i>%{customdata[4]|%A, %B %d, %Y}, Game %{x}</i><br><b>%{fullData.name}</b><br><br><b>%{customdata[0]} vs. %{customdata[1]}</b><br><b>Final Score:</b> %{customdata[2]}-%{customdata[3]}<br>%{text}<b>Post-Game ELO:</b> %{y:,.0f}<br><extra></extra>",
         "legendgrouptitle": {
          "text": "<b>#<i>Rank</i> (<i>Current ELO</i>) <i>Player</i></b>"
         },
         "line": {
          "color": "rgb(127, 60, 141)",
          "shape": "hv"
         },
         "mode": "lines+markers",
         "name": "#1 (1301) Aaron Carter",
         "opacity": 0.8,
         "text": [
          "<br><b>Pre-Game ELO: </b>nan<br><b>Win Probability: </b>nan%<br><br><b>Change in ELO:</b> +nan<br>",
          "<br><b>Pre-Game ELO: </b>nan<br><b>Win Probability: </b>nan%<br><br><b>Change in ELO:</b> +nan<br>",
          "<br><b>Pre-Game ELO: </b>nan<br><b>Win Probability: </b>nan%<br><br><b>Change in ELO:</b> +nan<br>",
          "<br><b>Pre-Game ELO: </b>nan<br><b>Win Probability: </b>nan%<br><br><b>Change in ELO:</b> +nan<br>",
          "<br><b>Pre-Game ELO: </b>nan<br><b>Win Probability: </b>nan%<br><br><b>Change in ELO:</b> +nan<br>",
          "<br><b>Pre-Game ELO: </b>nan<br><b>Win Probability: </b>nan%<br><br><b>Change in ELO:</b> +nan<br>",
          "<br><b>Pre-Game ELO: </b>nan<br><b>Win Probability: </b>nan%<br><br><b>Change in ELO:</b> +nan<br>",
          "<br><b>Pre-Game ELO: </b>nan<br><b>Win Probability: </b>nan%<br><br><b>Change in ELO:</b> +nan<br>",
          "<br><b>Pre-Game ELO: </b>nan<br><b>Win Probability: </b>nan%<br><br><b>Change in ELO:</b> +nan<br>",
          "<br><b>Pre-Game ELO: </b>nan<br><b>Win Probability: </b>nan%<br><br><b>Change in ELO:</b> +nan<br>",
          "<br><b>Pre-Game ELO: </b>nan<br><b>Win Probability: </b>nan%<br><br><b>Change in ELO:</b> +nan<br>",
          "<br><b>Pre-Game ELO: </b>nan<br><b>Win Probability: </b>nan%<br><br><b>Change in ELO:</b> +nan<br>",
          "<br><b>Pre-Game ELO: </b>nan<br><b>Win Probability: </b>nan%<br><br><b>Change in ELO:</b> +nan<br>",
          "<br><b>Pre-Game ELO: </b>nan<br><b>Win Probability: </b>nan%<br><br><b>Change in ELO:</b> +nan<br>",
          "<br><b>Pre-Game ELO: </b>nan<br><b>Win Probability: </b>nan%<br><br><b>Change in ELO:</b> +nan<br>",
          "<br><b>Pre-Game ELO: </b>1200<br><b>Win Probability: </b>34.5%<br><br><b>Change in ELO:</b> +20<br>",
          "<br><b>Pre-Game ELO: </b>nan<br><b>Win Probability: </b>nan%<br><br><b>Change in ELO:</b> +nan<br>",
          "<br><b>Pre-Game ELO: </b>1220<br><b>Win Probability: </b>51.0%<br><br><b>Change in ELO:</b> -16<br>",
          "<br><b>Pre-Game ELO: </b>nan<br><b>Win Probability: </b>nan%<br><br><b>Change in ELO:</b> +nan<br>",
          "<br><b>Pre-Game ELO: </b>nan<br><b>Win Probability: </b>nan%<br><br><b>Change in ELO:</b> +nan<br>",
          "<br><b>Pre-Game ELO: </b>1205<br><b>Win Probability: </b>72.0%<br><br><b>Change in ELO:</b> -22<br>",
          "<br><b>Pre-Game ELO: </b>nan<br><b>Win Probability: </b>nan%<br><br><b>Change in ELO:</b> +nan<br>",
          "<br><b>Pre-Game ELO: </b>nan<br><b>Win Probability: </b>nan%<br><br><b>Change in ELO:</b> +nan<br>",
          "<br><b>Pre-Game ELO: </b>nan<br><b>Win Probability: </b>nan%<br><br><b>Change in ELO:</b> +nan<br>",
          "<br><b>Pre-Game ELO: </b>1182<br><b>Win Probability: </b>39.9%<br><br><b>Change in ELO:</b> +19<br>",
          "<br><b>Pre-Game ELO: </b>1201<br><b>Win Probability: </b>46.4%<br><br><b>Change in ELO:</b> -14<br>",
          "<br><b>Pre-Game ELO: </b>nan<br><b>Win Probability: </b>nan%<br><br><b>Change in ELO:</b> +nan<br>",
          "<br><b>Pre-Game ELO: </b>1186<br><b>Win Probability: </b>36.0%<br><br><b>Change in ELO:</b> +20<br>",
          "<br><b>Pre-Game ELO: </b>nan<br><b>Win Probability: </b>nan%<br><br><b>Change in ELO:</b> +nan<br>",
          "<br><b>Pre-Game ELO: </b>nan<br><b>Win Probability: </b>nan%<br><br><b>Change in ELO:</b> +nan<br>",
          "<br><b>Pre-Game ELO: </b>1206<br><b>Win Probability: </b>66.2%<br><br><b>Change in ELO:</b> +10<br>",
          "<br><b>Pre-Game ELO: </b>nan<br><b>Win Probability: </b>nan%<br><br><b>Change in ELO:</b> +nan<br>",
          "<br><b>Pre-Game ELO: </b>nan<br><b>Win Probability: </b>nan%<br><br><b>Change in ELO:</b> +nan<br>",
          "<br><b>Pre-Game ELO: </b>nan<br><b>Win Probability: </b>nan%<br><br><b>Change in ELO:</b> +nan<br>",
          "<br><b>Pre-Game ELO: </b>1217<br><b>Win Probability: </b>59.4%<br><br><b>Change in ELO:</b> -18<br>",
          "<br><b>Pre-Game ELO: </b>nan<br><b>Win Probability: </b>nan%<br><br><b>Change in ELO:</b> +nan<br>",
          "<br><b>Pre-Game ELO: </b>nan<br><b>Win Probability: </b>nan%<br><br><b>Change in ELO:</b> +nan<br>",
          "<br><b>Pre-Game ELO: </b>1198<br><b>Win Probability: </b>56.5%<br><br><b>Change in ELO:</b> +13<br>",
          "<br><b>Pre-Game ELO: </b>nan<br><b>Win Probability: </b>nan%<br><br><b>Change in ELO:</b> +nan<br>",
          "<br><b>Pre-Game ELO: </b>nan<br><b>Win Probability: </b>nan%<br><br><b>Change in ELO:</b> +nan<br>",
          "<br><b>Pre-Game ELO: </b>1212<br><b>Win Probability: </b>34.7%<br><br><b>Change in ELO:</b> +20<br>",
          "<br><b>Pre-Game ELO: </b>nan<br><b>Win Probability: </b>nan%<br><br><b>Change in ELO:</b> +nan<br>",
          "<br><b>Pre-Game ELO: </b>nan<br><b>Win Probability: </b>nan%<br><br><b>Change in ELO:</b> +nan<br>",
          "<br><b>Pre-Game ELO: </b>nan<br><b>Win Probability: </b>nan%<br><br><b>Change in ELO:</b> +nan<br>",
          "<br><b>Pre-Game ELO: </b>1232<br><b>Win Probability: </b>66.8%<br><br><b>Change in ELO:</b> +10<br>",
          "<br><b>Pre-Game ELO: </b>1242<br><b>Win Probability: </b>54.5%<br><br><b>Change in ELO:</b> +14<br>",
          "<br><b>Pre-Game ELO: </b>nan<br><b>Win Probability: </b>nan%<br><br><b>Change in ELO:</b> +nan<br>",
          "<br><b>Pre-Game ELO: </b>1257<br><b>Win Probability: </b>80.6%<br><br><b>Change in ELO:</b> +6<br>",
          "<br><b>Pre-Game ELO: </b>nan<br><b>Win Probability: </b>nan%<br><br><b>Change in ELO:</b> +nan<br>",
          "<br><b>Pre-Game ELO: </b>nan<br><b>Win Probability: </b>nan%<br><br><b>Change in ELO:</b> +nan<br>",
          "<br><b>Pre-Game ELO: </b>1263<br><b>Win Probability: </b>54.4%<br><br><b>Change in ELO:</b> +14<br>",
          "<br><b>Pre-Game ELO: </b>nan<br><b>Win Probability: </b>nan%<br><br><b>Change in ELO:</b> +nan<br>",
          "<br><b>Pre-Game ELO: </b>nan<br><b>Win Probability: </b>nan%<br><br><b>Change in ELO:</b> +nan<br>",
          "<br><b>Pre-Game ELO: </b>nan<br><b>Win Probability: </b>nan%<br><br><b>Change in ELO:</b> +nan<br>",
          "<br><b>Pre-Game ELO: </b>1277<br><b>Win Probability: </b>73.9%<br><br><b>Change in ELO:</b> +8<br>",
          "<br><b>Pre-Game ELO: </b>1285<br><b>Win Probability: </b>61.1%<br><br><b>Change in ELO:</b> +12<br>",
          "<br><b>Pre-Game ELO: </b>nan<br><b>Win Probability: </b>nan%<br><br><b>Change in ELO:</b> +nan<br>",
          "<br><b>Pre-Game ELO: </b>1297<br><b>Win Probability: </b>67.2%<br><br><b>Change in ELO:</b> -21<br>",
          "<br><b>Pre-Game ELO: </b>1276<br><b>Win Probability: </b>56.4%<br><br><b>Change in ELO:</b> +14<br>",
          "<br><b>Pre-Game ELO: </b>1289<br><b>Win Probability: </b>63.5%<br><br><b>Change in ELO:</b> +11<br>"
         ],
         "type": "scatter",
         "x": [
          1,
          2,
          3,
          4,
          5,
          6,
          7,
          8,
          9,
          10,
          11,
          12,
          13,
          14,
          15,
          16,
          17,
          18,
          19,
          20,
          21,
          22,
          23,
          24,
          25,
          26,
          27,
          28,
          29,
          30,
          31,
          32,
          33,
          34,
          35,
          36,
          37,
          38,
          39,
          40,
          41,
          42,
          43,
          44,
          45,
          46,
          47,
          48,
          49,
          50,
          51,
          52,
          53,
          54,
          55,
          56,
          57,
          58,
          59,
          60
         ],
         "y": [
          null,
          null,
          null,
          null,
          null,
          null,
          null,
          null,
          null,
          null,
          null,
          null,
          null,
          null,
          null,
          1220.31258173069,
          null,
          1204.5028528748408,
          null,
          null,
          1182.1797301576028,
          null,
          null,
          null,
          1200.8242418643958,
          1186.4521502238642,
          null,
          1206.3026942467973,
          null,
          null,
          1216.7822586045252,
          null,
          null,
          null,
          1198.3768321017285,
          null,
          null,
          1211.8729276048186,
          null,
          null,
          1232.113307066953,
          null,
          null,
          null,
          1242.4011662563998,
          1256.5110736372603,
          null,
          1262.5293525101058,
          null,
          null,
          1276.6667862995037,
          null,
          null,
          null,
          1284.742519265222,
          1296.805337828777,
          null,
          1275.9815262292077,
          1289.4892277347867,
          1300.7929669801556
         ]
        },
        {
         "connectgaps": true,
         "customdata": [
          [
           "Evan Sooklal",
           "Will Simpson",
           2,
           6,
           "2023-11-18"
          ],
          [
           "Paul Bartenfeld",
           "Roman Ramirez",
           2,
           6,
           "2023-11-18"
          ],
          [
           "Roman Ramirez",
           "Evan Sooklal",
           6,
           3,
           "2023-11-18"
          ],
          [
           "Will Simpson",
           "Paul Bartenfeld",
           6,
           1,
           "2023-11-18"
          ],
          [
           "Paul Bartenfeld",
           "Evan Sooklal",
           1,
           6,
           "2023-11-18"
          ],
          [
           "Will Simpson",
           "Roman Ramirez",
           3,
           6,
           "2023-11-18"
          ],
          [
           "Will Simpson",
           "Evan Sooklal",
           6,
           2,
           "2023-11-18"
          ],
          [
           "Roman Ramirez",
           "Paul Bartenfeld",
           6,
           4,
           "2023-11-18"
          ],
          [
           "Evan Sooklal",
           "Roman Ramirez",
           6,
           5,
           "2023-11-18"
          ],
          [
           "Paul Bartenfeld",
           "Will Simpson",
           4,
           6,
           "2023-11-18"
          ],
          [
           "Evan Sooklal",
           "Paul Bartenfeld",
           6,
           5,
           "2023-11-18"
          ],
          [
           "Roman Ramirez",
           "Will Simpson",
           6,
           2,
           "2023-11-18"
          ],
          [
           "Roman Ramirez",
           "Will Simpson",
           2,
           6,
           "2023-11-18"
          ],
          [
           "Will Simpson",
           "Roman Ramirez",
           4,
           6,
           "2023-11-18"
          ],
          [
           "Roman Ramirez",
           "Will Simpson",
           6,
           4,
           "2023-11-18"
          ],
          [
           "Roman Ramirez",
           "Aaron Carter",
           4,
           6,
           "2023-12-02"
          ],
          [
           "Will Simpson",
           "Paul Bartenfeld",
           6,
           4,
           "2023-12-02"
          ],
          [
           "Aaron Carter",
           "Will Simpson",
           4,
           6,
           "2023-12-02"
          ],
          [
           "Evan Sooklal",
           "Roman Ramirez",
           6,
           2,
           "2023-12-02"
          ],
          [
           "Will Simpson",
           "Evan Sooklal",
           6,
           2,
           "2023-12-02"
          ],
          [
           "Paul Bartenfeld",
           "Aaron Carter",
           6,
           3,
           "2023-12-02"
          ],
          [
           "Evan Sooklal",
           "Paul Bartenfeld",
           6,
           4,
           "2023-12-02"
          ],
          [
           "Roman Ramirez",
           "Will Simpson",
           6,
           4,
           "2023-12-02"
          ],
          [
           "Paul Bartenfeld",
           "Roman Ramirez",
           6,
           3,
           "2023-12-02"
          ],
          [
           "Aaron Carter",
           "Evan Sooklal",
           6,
           3,
           "2023-12-02"
          ],
          [
           "Aaron Carter",
           "Roman Ramirez",
           0,
           6,
           "2023-12-02"
          ],
          [
           "Paul Bartenfeld",
           "Will Simpson",
           1,
           6,
           "2023-12-02"
          ],
          [
           "Will Simpson",
           "Aaron Carter",
           3,
           6,
           "2023-12-02"
          ],
          [
           "Roman Ramirez",
           "Evan Sooklal",
           2,
           6,
           "2023-12-02"
          ],
          [
           "Evan Sooklal",
           "Will Simpson",
           5,
           6,
           "2023-12-02"
          ],
          [
           "Aaron Carter",
           "Paul Bartenfeld",
           6,
           3,
           "2023-12-02"
          ],
          [
           "Paul Bartenfeld",
           "Evan Sooklal",
           6,
           5,
           "2023-12-02"
          ],
          [
           "Will Simpson",
           "Roman Ramirez",
           6,
           5,
           "2023-12-02"
          ],
          [
           "Roman Ramirez",
           "Paul Bartenfeld",
           4,
           6,
           "2023-12-02"
          ],
          [
           "Evan Sooklal",
           "Aaron Carter",
           6,
           4,
           "2023-12-02"
          ],
          [
           "Will Simpson",
           "Evan Sooklal",
           6,
           2,
           "2023-12-02"
          ],
          [
           "Will Simpson",
           "Evan Sooklal",
           6,
           1,
           "2023-12-02"
          ],
          [
           "Aaron Carter",
           "Paul Bartenfeld",
           6,
           3,
           "2023-12-13"
          ],
          [
           "Roman Ramirez",
           "Evan Sooklal",
           5,
           6,
           "2023-12-13"
          ],
          [
           "Paul Bartenfeld",
           "Roman Ramirez",
           2,
           6,
           "2023-12-13"
          ],
          [
           "Will Simpson",
           "Aaron Carter",
           0,
           6,
           "2023-12-13"
          ],
          [
           "Roman Ramirez",
           "Will Simpson",
           4,
           6,
           "2023-12-13"
          ],
          [
           "Evan Sooklal",
           "Paul Bartenfeld",
           6,
           5,
           "2023-12-13"
          ],
          [
           "Will Simpson",
           "Evan Sooklal",
           4,
           6,
           "2023-12-13"
          ],
          [
           "Aaron Carter",
           "Roman Ramirez",
           6,
           3,
           "2023-12-13"
          ],
          [
           "Evan Sooklal",
           "Aaron Carter",
           5,
           6,
           "2023-12-13"
          ],
          [
           "Paul Bartenfeld",
           "Will Simpson",
           2,
           6,
           "2023-12-13"
          ],
          [
           "Paul Bartenfeld",
           "Aaron Carter",
           3,
           6,
           "2023-12-13"
          ],
          [
           "Evan Sooklal",
           "Roman Ramirez",
           6,
           4,
           "2023-12-13"
          ],
          [
           "Roman Ramirez",
           "Paul Bartenfeld",
           6,
           1,
           "2023-12-13"
          ],
          [
           "Aaron Carter",
           "Will Simpson",
           6,
           5,
           "2023-12-13"
          ],
          [
           "Will Simpson",
           "Roman Ramirez",
           3,
           6,
           "2023-12-13"
          ],
          [
           "Paul Bartenfeld",
           "Evan Sooklal",
           3,
           6,
           "2023-12-13"
          ],
          [
           "Evan Sooklal",
           "Will Simpson",
           6,
           3,
           "2023-12-13"
          ],
          [
           "Roman Ramirez",
           "Aaron Carter",
           5,
           6,
           "2023-12-13"
          ],
          [
           "Aaron Carter",
           "Evan Sooklal",
           6,
           2,
           "2023-12-13"
          ],
          [
           "Will Simpson",
           "Paul Bartenfeld",
           6,
           4,
           "2023-12-13"
          ],
          [
           "Aaron Carter",
           "Evan Sooklal",
           5,
           6,
           "2023-12-13"
          ],
          [
           "Evan Sooklal",
           "Aaron Carter",
           2,
           6,
           "2023-12-13"
          ],
          [
           "Aaron Carter",
           "Evan Sooklal",
           6,
           2,
           "2023-12-13"
          ]
         ],
         "hovertemplate": "<i>%{customdata[4]|%A, %B %d, %Y}, Game %{x}</i><br><b>%{fullData.name}</b><br><br><b>%{customdata[0]} vs. %{customdata[1]}</b><br><b>Final Score:</b> %{customdata[2]}-%{customdata[3]}<br>%{text}<b>Post-Game ELO:</b> %{y:,.0f}<br><extra></extra>",
         "legendgrouptitle": {
          "text": "<b>#<i>Rank</i> (<i>Current ELO</i>) <i>Player</i></b>"
         },
         "line": {
          "color": "rgb(17, 165, 121)",
          "shape": "hv"
         },
         "mode": "lines+markers",
         "name": "#2 (1228) Evan Sooklal",
         "opacity": 0.8,
         "text": [
          "<br><b>Pre-Game ELO: </b>1200<br><b>Win Probability: </b>50.0%<br><br><b>Change in ELO:</b> -16<br>",
          "<br><b>Pre-Game ELO: </b>nan<br><b>Win Probability: </b>nan%<br><br><b>Change in ELO:</b> +nan<br>",
          "<br><b>Pre-Game ELO: </b>1184<br><b>Win Probability: </b>41.6%<br><br><b>Change in ELO:</b> -13<br>",
          "<br><b>Pre-Game ELO: </b>nan<br><b>Win Probability: </b>nan%<br><br><b>Change in ELO:</b> +nan<br>",
          "<br><b>Pre-Game ELO: </b>1172<br><b>Win Probability: </b>50.0%<br><br><b>Change in ELO:</b> +16<br>",
          "<br><b>Pre-Game ELO: </b>nan<br><b>Win Probability: </b>nan%<br><br><b>Change in ELO:</b> +nan<br>",
          "<br><b>Pre-Game ELO: </b>1187<br><b>Win Probability: </b>43.0%<br><br><b>Change in ELO:</b> -13<br>",
          "<br><b>Pre-Game ELO: </b>nan<br><b>Win Probability: </b>nan%<br><br><b>Change in ELO:</b> +nan<br>",
          "<br><b>Pre-Game ELO: </b>1174<br><b>Win Probability: </b>29.6%<br><br><b>Change in ELO:</b> +22<br>",
          "<br><b>Pre-Game ELO: </b>nan<br><b>Win Probability: </b>nan%<br><br><b>Change in ELO:</b> +nan<br>",
          "<br><b>Pre-Game ELO: </b>1196<br><b>Win Probability: </b>65.2%<br><br><b>Change in ELO:</b> +11<br>",
          "<br><b>Pre-Game ELO: </b>nan<br><b>Win Probability: </b>nan%<br><br><b>Change in ELO:</b> +nan<br>",
          "<br><b>Pre-Game ELO: </b>nan<br><b>Win Probability: </b>nan%<br><br><b>Change in ELO:</b> +nan<br>",
          "<br><b>Pre-Game ELO: </b>nan<br><b>Win Probability: </b>nan%<br><br><b>Change in ELO:</b> +nan<br>",
          "<br><b>Pre-Game ELO: </b>nan<br><b>Win Probability: </b>nan%<br><br><b>Change in ELO:</b> +nan<br>",
          "<br><b>Pre-Game ELO: </b>nan<br><b>Win Probability: </b>nan%<br><br><b>Change in ELO:</b> +nan<br>",
          "<br><b>Pre-Game ELO: </b>nan<br><b>Win Probability: </b>nan%<br><br><b>Change in ELO:</b> +nan<br>",
          "<br><b>Pre-Game ELO: </b>nan<br><b>Win Probability: </b>nan%<br><br><b>Change in ELO:</b> +nan<br>",
          "<br><b>Pre-Game ELO: </b>1206<br><b>Win Probability: </b>41.4%<br><br><b>Change in ELO:</b> +18<br>",
          "<br><b>Pre-Game ELO: </b>1225<br><b>Win Probability: </b>47.8%<br><br><b>Change in ELO:</b> -15<br>",
          "<br><b>Pre-Game ELO: </b>nan<br><b>Win Probability: </b>nan%<br><br><b>Change in ELO:</b> +nan<br>",
          "<br><b>Pre-Game ELO: </b>1210<br><b>Win Probability: </b>68.1%<br><br><b>Change in ELO:</b> +10<br>",
          "<br><b>Pre-Game ELO: </b>nan<br><b>Win Probability: </b>nan%<br><br><b>Change in ELO:</b> +nan<br>",
          "<br><b>Pre-Game ELO: </b>nan<br><b>Win Probability: </b>nan%<br><br><b>Change in ELO:</b> +nan<br>",
          "<br><b>Pre-Game ELO: </b>1220<br><b>Win Probability: </b>60.1%<br><br><b>Change in ELO:</b> -19<br>",
          "<br><b>Pre-Game ELO: </b>nan<br><b>Win Probability: </b>nan%<br><br><b>Change in ELO:</b> +nan<br>",
          "<br><b>Pre-Game ELO: </b>nan<br><b>Win Probability: </b>nan%<br><br><b>Change in ELO:</b> +nan<br>",
          "<br><b>Pre-Game ELO: </b>nan<br><b>Win Probability: </b>nan%<br><br><b>Change in ELO:</b> +nan<br>",
          "<br><b>Pre-Game ELO: </b>1201<br><b>Win Probability: </b>42.5%<br><br><b>Change in ELO:</b> +18<br>",
          "<br><b>Pre-Game ELO: </b>1219<br><b>Win Probability: </b>49.9%<br><br><b>Change in ELO:</b> -15<br>",
          "<br><b>Pre-Game ELO: </b>nan<br><b>Win Probability: </b>nan%<br><br><b>Change in ELO:</b> +nan<br>",
          "<br><b>Pre-Game ELO: </b>1203<br><b>Win Probability: </b>68.0%<br><br><b>Change in ELO:</b> -21<br>",
          "<br><b>Pre-Game ELO: </b>nan<br><b>Win Probability: </b>nan%<br><br><b>Change in ELO:</b> +nan<br>",
          "<br><b>Pre-Game ELO: </b>nan<br><b>Win Probability: </b>nan%<br><br><b>Change in ELO:</b> +nan<br>",
          "<br><b>Pre-Game ELO: </b>1182<br><b>Win Probability: </b>40.6%<br><br><b>Change in ELO:</b> +18<br>",
          "<br><b>Pre-Game ELO: </b>1201<br><b>Win Probability: </b>37.3%<br><br><b>Change in ELO:</b> -12<br>",
          "<br><b>Pre-Game ELO: </b>1189<br><b>Win Probability: </b>31.5%<br><br><b>Change in ELO:</b> -10<br>",
          "<br><b>Pre-Game ELO: </b>nan<br><b>Win Probability: </b>nan%<br><br><b>Change in ELO:</b> +nan<br>",
          "<br><b>Pre-Game ELO: </b>1179<br><b>Win Probability: </b>50.3%<br><br><b>Change in ELO:</b> +15<br>",
          "<br><b>Pre-Game ELO: </b>nan<br><b>Win Probability: </b>nan%<br><br><b>Change in ELO:</b> +nan<br>",
          "<br><b>Pre-Game ELO: </b>nan<br><b>Win Probability: </b>nan%<br><br><b>Change in ELO:</b> +nan<br>",
          "<br><b>Pre-Game ELO: </b>nan<br><b>Win Probability: </b>nan%<br><br><b>Change in ELO:</b> +nan<br>",
          "<br><b>Pre-Game ELO: </b>1195<br><b>Win Probability: </b>63.1%<br><br><b>Change in ELO:</b> +11<br>",
          "<br><b>Pre-Game ELO: </b>1206<br><b>Win Probability: </b>35.9%<br><br><b>Change in ELO:</b> +20<br>",
          "<br><b>Pre-Game ELO: </b>nan<br><b>Win Probability: </b>nan%<br><br><b>Change in ELO:</b> +nan<br>",
          "<br><b>Pre-Game ELO: </b>1226<br><b>Win Probability: </b>45.5%<br><br><b>Change in ELO:</b> -14<br>",
          "<br><b>Pre-Game ELO: </b>nan<br><b>Win Probability: </b>nan%<br><br><b>Change in ELO:</b> +nan<br>",
          "<br><b>Pre-Game ELO: </b>nan<br><b>Win Probability: </b>nan%<br><br><b>Change in ELO:</b> +nan<br>",
          "<br><b>Pre-Game ELO: </b>1212<br><b>Win Probability: </b>64.4%<br><br><b>Change in ELO:</b> +11<br>",
          "<br><b>Pre-Game ELO: </b>nan<br><b>Win Probability: </b>nan%<br><br><b>Change in ELO:</b> +nan<br>",
          "<br><b>Pre-Game ELO: </b>nan<br><b>Win Probability: </b>nan%<br><br><b>Change in ELO:</b> +nan<br>",
          "<br><b>Pre-Game ELO: </b>nan<br><b>Win Probability: </b>nan%<br><br><b>Change in ELO:</b> +nan<br>",
          "<br><b>Pre-Game ELO: </b>1223<br><b>Win Probability: </b>78.0%<br><br><b>Change in ELO:</b> +7<br>",
          "<br><b>Pre-Game ELO: </b>1230<br><b>Win Probability: </b>55.1%<br><br><b>Change in ELO:</b> +14<br>",
          "<br><b>Pre-Game ELO: </b>nan<br><b>Win Probability: </b>nan%<br><br><b>Change in ELO:</b> +nan<br>",
          "<br><b>Pre-Game ELO: </b>1244<br><b>Win Probability: </b>38.9%<br><br><b>Change in ELO:</b> -12<br>",
          "<br><b>Pre-Game ELO: </b>nan<br><b>Win Probability: </b>nan%<br><br><b>Change in ELO:</b> +nan<br>",
          "<br><b>Pre-Game ELO: </b>1232<br><b>Win Probability: </b>32.8%<br><br><b>Change in ELO:</b> +21<br>",
          "<br><b>Pre-Game ELO: </b>1252<br><b>Win Probability: </b>43.6%<br><br><b>Change in ELO:</b> -14<br>",
          "<br><b>Pre-Game ELO: </b>1239<br><b>Win Probability: </b>36.5%<br><br><b>Change in ELO:</b> -11<br>"
         ],
         "type": "scatter",
         "x": [
          1,
          2,
          3,
          4,
          5,
          6,
          7,
          8,
          9,
          10,
          11,
          12,
          13,
          14,
          15,
          16,
          17,
          18,
          19,
          20,
          21,
          22,
          23,
          24,
          25,
          26,
          27,
          28,
          29,
          30,
          31,
          32,
          33,
          34,
          35,
          36,
          37,
          38,
          39,
          40,
          41,
          42,
          43,
          44,
          45,
          46,
          47,
          48,
          49,
          50,
          51,
          52,
          53,
          54,
          55,
          56,
          57,
          58,
          59,
          60
         ],
         "y": [
          1184.5,
          null,
          1171.6141968246961,
          null,
          1187.1141968246961,
          null,
          1173.7939130285101,
          null,
          1195.6025614531375,
          null,
          1206.3837765730614,
          null,
          null,
          null,
          null,
          null,
          null,
          null,
          1224.5605299452006,
          1209.7347325352785,
          null,
          1219.6316563738828,
          null,
          null,
          1200.9871446670898,
          null,
          null,
          null,
          1218.8092452969277,
          1203.3346743361965,
          null,
          1182.249648937476,
          null,
          null,
          1200.6550754402726,
          1189.1021135913395,
          1179.3220654245522,
          null,
          1194.7268354532405,
          null,
          null,
          null,
          1206.1623291617937,
          1226.0305126089077,
          null,
          1211.9206052280472,
          null,
          null,
          1222.9696023792922,
          null,
          null,
          null,
          1229.7827036366984,
          1243.690786073097,
          null,
          1231.6279675095418,
          null,
          1252.4517791091112,
          1238.9440776035322,
          1227.6403383581633
         ]
        },
        {
         "connectgaps": true,
         "customdata": [
          [
           "Evan Sooklal",
           "Will Simpson",
           2,
           6,
           "2023-11-18"
          ],
          [
           "Paul Bartenfeld",
           "Roman Ramirez",
           2,
           6,
           "2023-11-18"
          ],
          [
           "Roman Ramirez",
           "Evan Sooklal",
           6,
           3,
           "2023-11-18"
          ],
          [
           "Will Simpson",
           "Paul Bartenfeld",
           6,
           1,
           "2023-11-18"
          ],
          [
           "Paul Bartenfeld",
           "Evan Sooklal",
           1,
           6,
           "2023-11-18"
          ],
          [
           "Will Simpson",
           "Roman Ramirez",
           3,
           6,
           "2023-11-18"
          ],
          [
           "Will Simpson",
           "Evan Sooklal",
           6,
           2,
           "2023-11-18"
          ],
          [
           "Roman Ramirez",
           "Paul Bartenfeld",
           6,
           4,
           "2023-11-18"
          ],
          [
           "Evan Sooklal",
           "Roman Ramirez",
           6,
           5,
           "2023-11-18"
          ],
          [
           "Paul Bartenfeld",
           "Will Simpson",
           4,
           6,
           "2023-11-18"
          ],
          [
           "Evan Sooklal",
           "Paul Bartenfeld",
           6,
           5,
           "2023-11-18"
          ],
          [
           "Roman Ramirez",
           "Will Simpson",
           6,
           2,
           "2023-11-18"
          ],
          [
           "Roman Ramirez",
           "Will Simpson",
           2,
           6,
           "2023-11-18"
          ],
          [
           "Will Simpson",
           "Roman Ramirez",
           4,
           6,
           "2023-11-18"
          ],
          [
           "Roman Ramirez",
           "Will Simpson",
           6,
           4,
           "2023-11-18"
          ],
          [
           "Roman Ramirez",
           "Aaron Carter",
           4,
           6,
           "2023-12-02"
          ],
          [
           "Will Simpson",
           "Paul Bartenfeld",
           6,
           4,
           "2023-12-02"
          ],
          [
           "Aaron Carter",
           "Will Simpson",
           4,
           6,
           "2023-12-02"
          ],
          [
           "Evan Sooklal",
           "Roman Ramirez",
           6,
           2,
           "2023-12-02"
          ],
          [
           "Will Simpson",
           "Evan Sooklal",
           6,
           2,
           "2023-12-02"
          ],
          [
           "Paul Bartenfeld",
           "Aaron Carter",
           6,
           3,
           "2023-12-02"
          ],
          [
           "Evan Sooklal",
           "Paul Bartenfeld",
           6,
           4,
           "2023-12-02"
          ],
          [
           "Roman Ramirez",
           "Will Simpson",
           6,
           4,
           "2023-12-02"
          ],
          [
           "Paul Bartenfeld",
           "Roman Ramirez",
           6,
           3,
           "2023-12-02"
          ],
          [
           "Aaron Carter",
           "Evan Sooklal",
           6,
           3,
           "2023-12-02"
          ],
          [
           "Aaron Carter",
           "Roman Ramirez",
           0,
           6,
           "2023-12-02"
          ],
          [
           "Paul Bartenfeld",
           "Will Simpson",
           1,
           6,
           "2023-12-02"
          ],
          [
           "Will Simpson",
           "Aaron Carter",
           3,
           6,
           "2023-12-02"
          ],
          [
           "Roman Ramirez",
           "Evan Sooklal",
           2,
           6,
           "2023-12-02"
          ],
          [
           "Evan Sooklal",
           "Will Simpson",
           5,
           6,
           "2023-12-02"
          ],
          [
           "Aaron Carter",
           "Paul Bartenfeld",
           6,
           3,
           "2023-12-02"
          ],
          [
           "Paul Bartenfeld",
           "Evan Sooklal",
           6,
           5,
           "2023-12-02"
          ],
          [
           "Will Simpson",
           "Roman Ramirez",
           6,
           5,
           "2023-12-02"
          ],
          [
           "Roman Ramirez",
           "Paul Bartenfeld",
           4,
           6,
           "2023-12-02"
          ],
          [
           "Evan Sooklal",
           "Aaron Carter",
           6,
           4,
           "2023-12-02"
          ],
          [
           "Will Simpson",
           "Evan Sooklal",
           6,
           2,
           "2023-12-02"
          ],
          [
           "Will Simpson",
           "Evan Sooklal",
           6,
           1,
           "2023-12-02"
          ],
          [
           "Aaron Carter",
           "Paul Bartenfeld",
           6,
           3,
           "2023-12-13"
          ],
          [
           "Roman Ramirez",
           "Evan Sooklal",
           5,
           6,
           "2023-12-13"
          ],
          [
           "Paul Bartenfeld",
           "Roman Ramirez",
           2,
           6,
           "2023-12-13"
          ],
          [
           "Will Simpson",
           "Aaron Carter",
           0,
           6,
           "2023-12-13"
          ],
          [
           "Roman Ramirez",
           "Will Simpson",
           4,
           6,
           "2023-12-13"
          ],
          [
           "Evan Sooklal",
           "Paul Bartenfeld",
           6,
           5,
           "2023-12-13"
          ],
          [
           "Will Simpson",
           "Evan Sooklal",
           4,
           6,
           "2023-12-13"
          ],
          [
           "Aaron Carter",
           "Roman Ramirez",
           6,
           3,
           "2023-12-13"
          ],
          [
           "Evan Sooklal",
           "Aaron Carter",
           5,
           6,
           "2023-12-13"
          ],
          [
           "Paul Bartenfeld",
           "Will Simpson",
           2,
           6,
           "2023-12-13"
          ],
          [
           "Paul Bartenfeld",
           "Aaron Carter",
           3,
           6,
           "2023-12-13"
          ],
          [
           "Evan Sooklal",
           "Roman Ramirez",
           6,
           4,
           "2023-12-13"
          ],
          [
           "Roman Ramirez",
           "Paul Bartenfeld",
           6,
           1,
           "2023-12-13"
          ],
          [
           "Aaron Carter",
           "Will Simpson",
           6,
           5,
           "2023-12-13"
          ],
          [
           "Will Simpson",
           "Roman Ramirez",
           3,
           6,
           "2023-12-13"
          ],
          [
           "Paul Bartenfeld",
           "Evan Sooklal",
           3,
           6,
           "2023-12-13"
          ],
          [
           "Evan Sooklal",
           "Will Simpson",
           6,
           3,
           "2023-12-13"
          ],
          [
           "Roman Ramirez",
           "Aaron Carter",
           5,
           6,
           "2023-12-13"
          ],
          [
           "Aaron Carter",
           "Evan Sooklal",
           6,
           2,
           "2023-12-13"
          ],
          [
           "Will Simpson",
           "Paul Bartenfeld",
           6,
           4,
           "2023-12-13"
          ],
          [
           "Aaron Carter",
           "Evan Sooklal",
           5,
           6,
           "2023-12-13"
          ],
          [
           "Evan Sooklal",
           "Aaron Carter",
           2,
           6,
           "2023-12-13"
          ],
          [
           "Aaron Carter",
           "Evan Sooklal",
           6,
           2,
           "2023-12-13"
          ]
         ],
         "hovertemplate": "<i>%{customdata[4]|%A, %B %d, %Y}, Game %{x}</i><br><b>%{fullData.name}</b><br><br><b>%{customdata[0]} vs. %{customdata[1]}</b><br><b>Final Score:</b> %{customdata[2]}-%{customdata[3]}<br>%{text}<b>Post-Game ELO:</b> %{y:,.0f}<br><extra></extra>",
         "legendgrouptitle": {
          "text": "<b>#<i>Rank</i> (<i>Current ELO</i>) <i>Player</i></b>"
         },
         "line": {
          "color": "rgb(57, 105, 172)",
          "shape": "hv"
         },
         "mode": "lines+markers",
         "name": "#3 (1205) Will Simpson",
         "opacity": 0.8,
         "text": [
          "<br><b>Pre-Game ELO: </b>1200<br><b>Win Probability: </b>50.0%<br><br><b>Change in ELO:</b> +16<br>",
          "<br><b>Pre-Game ELO: </b>nan<br><b>Win Probability: </b>nan%<br><br><b>Change in ELO:</b> +nan<br>",
          "<br><b>Pre-Game ELO: </b>nan<br><b>Win Probability: </b>nan%<br><br><b>Change in ELO:</b> +nan<br>",
          "<br><b>Pre-Game ELO: </b>1216<br><b>Win Probability: </b>58.4%<br><br><b>Change in ELO:</b> +13<br>",
          "<br><b>Pre-Game ELO: </b>nan<br><b>Win Probability: </b>nan%<br><br><b>Change in ELO:</b> +nan<br>",
          "<br><b>Pre-Game ELO: </b>1228<br><b>Win Probability: </b>50.0%<br><br><b>Change in ELO:</b> -16<br>",
          "<br><b>Pre-Game ELO: </b>1213<br><b>Win Probability: </b>57.0%<br><br><b>Change in ELO:</b> +13<br>",
          "<br><b>Pre-Game ELO: </b>nan<br><b>Win Probability: </b>nan%<br><br><b>Change in ELO:</b> +nan<br>",
          "<br><b>Pre-Game ELO: </b>nan<br><b>Win Probability: </b>nan%<br><br><b>Change in ELO:</b> +nan<br>",
          "<br><b>Pre-Game ELO: </b>1226<br><b>Win Probability: </b>70.4%<br><br><b>Change in ELO:</b> +9<br>",
          "<br><b>Pre-Game ELO: </b>nan<br><b>Win Probability: </b>nan%<br><br><b>Change in ELO:</b> +nan<br>",
          "<br><b>Pre-Game ELO: </b>1235<br><b>Win Probability: </b>51.3%<br><br><b>Change in ELO:</b> -16<br>",
          "<br><b>Pre-Game ELO: </b>1219<br><b>Win Probability: </b>42.6%<br><br><b>Change in ELO:</b> +18<br>",
          "<br><b>Pre-Game ELO: </b>1237<br><b>Win Probability: </b>52.3%<br><br><b>Change in ELO:</b> -16<br>",
          "<br><b>Pre-Game ELO: </b>1221<br><b>Win Probability: </b>43.5%<br><br><b>Change in ELO:</b> -13<br>",
          "<br><b>Pre-Game ELO: </b>nan<br><b>Win Probability: </b>nan%<br><br><b>Change in ELO:</b> +nan<br>",
          "<br><b>Pre-Game ELO: </b>1208<br><b>Win Probability: </b>70.7%<br><br><b>Change in ELO:</b> +9<br>",
          "<br><b>Pre-Game ELO: </b>1217<br><b>Win Probability: </b>49.0%<br><br><b>Change in ELO:</b> +16<br>",
          "<br><b>Pre-Game ELO: </b>nan<br><b>Win Probability: </b>nan%<br><br><b>Change in ELO:</b> +nan<br>",
          "<br><b>Pre-Game ELO: </b>1232<br><b>Win Probability: </b>52.2%<br><br><b>Change in ELO:</b> +15<br>",
          "<br><b>Pre-Game ELO: </b>nan<br><b>Win Probability: </b>nan%<br><br><b>Change in ELO:</b> +nan<br>",
          "<br><b>Pre-Game ELO: </b>nan<br><b>Win Probability: </b>nan%<br><br><b>Change in ELO:</b> +nan<br>",
          "<br><b>Pre-Game ELO: </b>1247<br><b>Win Probability: </b>57.5%<br><br><b>Change in ELO:</b> -18<br>",
          "<br><b>Pre-Game ELO: </b>nan<br><b>Win Probability: </b>nan%<br><br><b>Change in ELO:</b> +nan<br>",
          "<br><b>Pre-Game ELO: </b>nan<br><b>Win Probability: </b>nan%<br><br><b>Change in ELO:</b> +nan<br>",
          "<br><b>Pre-Game ELO: </b>nan<br><b>Win Probability: </b>nan%<br><br><b>Change in ELO:</b> +nan<br>",
          "<br><b>Pre-Game ELO: </b>1229<br><b>Win Probability: </b>69.5%<br><br><b>Change in ELO:</b> +9<br>",
          "<br><b>Pre-Game ELO: </b>1239<br><b>Win Probability: </b>64.0%<br><br><b>Change in ELO:</b> -20<br>",
          "<br><b>Pre-Game ELO: </b>nan<br><b>Win Probability: </b>nan%<br><br><b>Change in ELO:</b> +nan<br>",
          "<br><b>Pre-Game ELO: </b>1219<br><b>Win Probability: </b>50.1%<br><br><b>Change in ELO:</b> +15<br>",
          "<br><b>Pre-Game ELO: </b>nan<br><b>Win Probability: </b>nan%<br><br><b>Change in ELO:</b> +nan<br>",
          "<br><b>Pre-Game ELO: </b>nan<br><b>Win Probability: </b>nan%<br><br><b>Change in ELO:</b> +nan<br>",
          "<br><b>Pre-Game ELO: </b>1235<br><b>Win Probability: </b>56.5%<br><br><b>Change in ELO:</b> +13<br>",
          "<br><b>Pre-Game ELO: </b>nan<br><b>Win Probability: </b>nan%<br><br><b>Change in ELO:</b> +nan<br>",
          "<br><b>Pre-Game ELO: </b>nan<br><b>Win Probability: </b>nan%<br><br><b>Change in ELO:</b> +nan<br>",
          "<br><b>Pre-Game ELO: </b>1248<br><b>Win Probability: </b>62.7%<br><br><b>Change in ELO:</b> +12<br>",
          "<br><b>Pre-Game ELO: </b>1260<br><b>Win Probability: </b>68.5%<br><br><b>Change in ELO:</b> +10<br>",
          "<br><b>Pre-Game ELO: </b>nan<br><b>Win Probability: </b>nan%<br><br><b>Change in ELO:</b> +nan<br>",
          "<br><b>Pre-Game ELO: </b>nan<br><b>Win Probability: </b>nan%<br><br><b>Change in ELO:</b> +nan<br>",
          "<br><b>Pre-Game ELO: </b>nan<br><b>Win Probability: </b>nan%<br><br><b>Change in ELO:</b> +nan<br>",
          "<br><b>Pre-Game ELO: </b>1269<br><b>Win Probability: </b>65.3%<br><br><b>Change in ELO:</b> -20<br>",
          "<br><b>Pre-Game ELO: </b>1249<br><b>Win Probability: </b>68.6%<br><br><b>Change in ELO:</b> +10<br>",
          "<br><b>Pre-Game ELO: </b>nan<br><b>Win Probability: </b>nan%<br><br><b>Change in ELO:</b> +nan<br>",
          "<br><b>Pre-Game ELO: </b>1259<br><b>Win Probability: </b>64.1%<br><br><b>Change in ELO:</b> -20<br>",
          "<br><b>Pre-Game ELO: </b>nan<br><b>Win Probability: </b>nan%<br><br><b>Change in ELO:</b> +nan<br>",
          "<br><b>Pre-Game ELO: </b>nan<br><b>Win Probability: </b>nan%<br><br><b>Change in ELO:</b> +nan<br>",
          "<br><b>Pre-Game ELO: </b>1239<br><b>Win Probability: </b>75.9%<br><br><b>Change in ELO:</b> +7<br>",
          "<br><b>Pre-Game ELO: </b>nan<br><b>Win Probability: </b>nan%<br><br><b>Change in ELO:</b> +nan<br>",
          "<br><b>Pre-Game ELO: </b>nan<br><b>Win Probability: </b>nan%<br><br><b>Change in ELO:</b> +nan<br>",
          "<br><b>Pre-Game ELO: </b>nan<br><b>Win Probability: </b>nan%<br><br><b>Change in ELO:</b> +nan<br>",
          "<br><b>Pre-Game ELO: </b>1246<br><b>Win Probability: </b>45.6%<br><br><b>Change in ELO:</b> -14<br>",
          "<br><b>Pre-Game ELO: </b>1232<br><b>Win Probability: </b>68.8%<br><br><b>Change in ELO:</b> -21<br>",
          "<br><b>Pre-Game ELO: </b>nan<br><b>Win Probability: </b>nan%<br><br><b>Change in ELO:</b> +nan<br>",
          "<br><b>Pre-Game ELO: </b>1211<br><b>Win Probability: </b>44.9%<br><br><b>Change in ELO:</b> -14<br>",
          "<br><b>Pre-Game ELO: </b>nan<br><b>Win Probability: </b>nan%<br><br><b>Change in ELO:</b> +nan<br>",
          "<br><b>Pre-Game ELO: </b>nan<br><b>Win Probability: </b>nan%<br><br><b>Change in ELO:</b> +nan<br>",
          "<br><b>Pre-Game ELO: </b>1197<br><b>Win Probability: </b>74.2%<br><br><b>Change in ELO:</b> +8<br>",
          "<br><b>Pre-Game ELO: </b>nan<br><b>Win Probability: </b>nan%<br><br><b>Change in ELO:</b> +nan<br>",
          "<br><b>Pre-Game ELO: </b>nan<br><b>Win Probability: </b>nan%<br><br><b>Change in ELO:</b> +nan<br>",
          "<br><b>Pre-Game ELO: </b>nan<br><b>Win Probability: </b>nan%<br><br><b>Change in ELO:</b> +nan<br>"
         ],
         "type": "scatter",
         "x": [
          1,
          2,
          3,
          4,
          5,
          6,
          7,
          8,
          9,
          10,
          11,
          12,
          13,
          14,
          15,
          16,
          17,
          18,
          19,
          20,
          21,
          22,
          23,
          24,
          25,
          26,
          27,
          28,
          29,
          30,
          31,
          32,
          33,
          34,
          35,
          36,
          37,
          38,
          39,
          40,
          41,
          42,
          43,
          44,
          45,
          46,
          47,
          48,
          49,
          50,
          51,
          52,
          53,
          54,
          55,
          56,
          57,
          58,
          59,
          60
         ],
         "y": [
          1215.5,
          null,
          null,
          1228.3858031753039,
          null,
          1212.8858031753039,
          1226.2060869714899,
          null,
          null,
          1235.3974385468625,
          null,
          1219.4919520318529,
          1237.2780408888975,
          1221.052753694122,
          1207.5782095664276,
          null,
          1216.674325114043,
          1232.4840539698923,
          null,
          1247.3098513798145,
          null,
          null,
          1229.4988967375302,
          null,
          null,
          null,
          1238.958454220562,
          1219.107910197629,
          null,
          1234.5824811583602,
          null,
          null,
          1248.0560505120777,
          null,
          null,
          1259.6090123610109,
          1269.3890605277982,
          null,
          null,
          null,
          1249.1486810656638,
          1258.8936040805959,
          null,
          1239.0254206334819,
          null,
          null,
          1246.4845665792952,
          null,
          null,
          null,
          1232.3471327898974,
          1211.01943697701,
          null,
          1197.1113545406115,
          null,
          null,
          1205.1013946719963,
          null,
          null,
          null
         ]
        },
        {
         "connectgaps": true,
         "customdata": [
          [
           "Evan Sooklal",
           "Will Simpson",
           2,
           6,
           "2023-11-18"
          ],
          [
           "Paul Bartenfeld",
           "Roman Ramirez",
           2,
           6,
           "2023-11-18"
          ],
          [
           "Roman Ramirez",
           "Evan Sooklal",
           6,
           3,
           "2023-11-18"
          ],
          [
           "Will Simpson",
           "Paul Bartenfeld",
           6,
           1,
           "2023-11-18"
          ],
          [
           "Paul Bartenfeld",
           "Evan Sooklal",
           1,
           6,
           "2023-11-18"
          ],
          [
           "Will Simpson",
           "Roman Ramirez",
           3,
           6,
           "2023-11-18"
          ],
          [
           "Will Simpson",
           "Evan Sooklal",
           6,
           2,
           "2023-11-18"
          ],
          [
           "Roman Ramirez",
           "Paul Bartenfeld",
           6,
           4,
           "2023-11-18"
          ],
          [
           "Evan Sooklal",
           "Roman Ramirez",
           6,
           5,
           "2023-11-18"
          ],
          [
           "Paul Bartenfeld",
           "Will Simpson",
           4,
           6,
           "2023-11-18"
          ],
          [
           "Evan Sooklal",
           "Paul Bartenfeld",
           6,
           5,
           "2023-11-18"
          ],
          [
           "Roman Ramirez",
           "Will Simpson",
           6,
           2,
           "2023-11-18"
          ],
          [
           "Roman Ramirez",
           "Will Simpson",
           2,
           6,
           "2023-11-18"
          ],
          [
           "Will Simpson",
           "Roman Ramirez",
           4,
           6,
           "2023-11-18"
          ],
          [
           "Roman Ramirez",
           "Will Simpson",
           6,
           4,
           "2023-11-18"
          ],
          [
           "Roman Ramirez",
           "Aaron Carter",
           4,
           6,
           "2023-12-02"
          ],
          [
           "Will Simpson",
           "Paul Bartenfeld",
           6,
           4,
           "2023-12-02"
          ],
          [
           "Aaron Carter",
           "Will Simpson",
           4,
           6,
           "2023-12-02"
          ],
          [
           "Evan Sooklal",
           "Roman Ramirez",
           6,
           2,
           "2023-12-02"
          ],
          [
           "Will Simpson",
           "Evan Sooklal",
           6,
           2,
           "2023-12-02"
          ],
          [
           "Paul Bartenfeld",
           "Aaron Carter",
           6,
           3,
           "2023-12-02"
          ],
          [
           "Evan Sooklal",
           "Paul Bartenfeld",
           6,
           4,
           "2023-12-02"
          ],
          [
           "Roman Ramirez",
           "Will Simpson",
           6,
           4,
           "2023-12-02"
          ],
          [
           "Paul Bartenfeld",
           "Roman Ramirez",
           6,
           3,
           "2023-12-02"
          ],
          [
           "Aaron Carter",
           "Evan Sooklal",
           6,
           3,
           "2023-12-02"
          ],
          [
           "Aaron Carter",
           "Roman Ramirez",
           0,
           6,
           "2023-12-02"
          ],
          [
           "Paul Bartenfeld",
           "Will Simpson",
           1,
           6,
           "2023-12-02"
          ],
          [
           "Will Simpson",
           "Aaron Carter",
           3,
           6,
           "2023-12-02"
          ],
          [
           "Roman Ramirez",
           "Evan Sooklal",
           2,
           6,
           "2023-12-02"
          ],
          [
           "Evan Sooklal",
           "Will Simpson",
           5,
           6,
           "2023-12-02"
          ],
          [
           "Aaron Carter",
           "Paul Bartenfeld",
           6,
           3,
           "2023-12-02"
          ],
          [
           "Paul Bartenfeld",
           "Evan Sooklal",
           6,
           5,
           "2023-12-02"
          ],
          [
           "Will Simpson",
           "Roman Ramirez",
           6,
           5,
           "2023-12-02"
          ],
          [
           "Roman Ramirez",
           "Paul Bartenfeld",
           4,
           6,
           "2023-12-02"
          ],
          [
           "Evan Sooklal",
           "Aaron Carter",
           6,
           4,
           "2023-12-02"
          ],
          [
           "Will Simpson",
           "Evan Sooklal",
           6,
           2,
           "2023-12-02"
          ],
          [
           "Will Simpson",
           "Evan Sooklal",
           6,
           1,
           "2023-12-02"
          ],
          [
           "Aaron Carter",
           "Paul Bartenfeld",
           6,
           3,
           "2023-12-13"
          ],
          [
           "Roman Ramirez",
           "Evan Sooklal",
           5,
           6,
           "2023-12-13"
          ],
          [
           "Paul Bartenfeld",
           "Roman Ramirez",
           2,
           6,
           "2023-12-13"
          ],
          [
           "Will Simpson",
           "Aaron Carter",
           0,
           6,
           "2023-12-13"
          ],
          [
           "Roman Ramirez",
           "Will Simpson",
           4,
           6,
           "2023-12-13"
          ],
          [
           "Evan Sooklal",
           "Paul Bartenfeld",
           6,
           5,
           "2023-12-13"
          ],
          [
           "Will Simpson",
           "Evan Sooklal",
           4,
           6,
           "2023-12-13"
          ],
          [
           "Aaron Carter",
           "Roman Ramirez",
           6,
           3,
           "2023-12-13"
          ],
          [
           "Evan Sooklal",
           "Aaron Carter",
           5,
           6,
           "2023-12-13"
          ],
          [
           "Paul Bartenfeld",
           "Will Simpson",
           2,
           6,
           "2023-12-13"
          ],
          [
           "Paul Bartenfeld",
           "Aaron Carter",
           3,
           6,
           "2023-12-13"
          ],
          [
           "Evan Sooklal",
           "Roman Ramirez",
           6,
           4,
           "2023-12-13"
          ],
          [
           "Roman Ramirez",
           "Paul Bartenfeld",
           6,
           1,
           "2023-12-13"
          ],
          [
           "Aaron Carter",
           "Will Simpson",
           6,
           5,
           "2023-12-13"
          ],
          [
           "Will Simpson",
           "Roman Ramirez",
           3,
           6,
           "2023-12-13"
          ],
          [
           "Paul Bartenfeld",
           "Evan Sooklal",
           3,
           6,
           "2023-12-13"
          ],
          [
           "Evan Sooklal",
           "Will Simpson",
           6,
           3,
           "2023-12-13"
          ],
          [
           "Roman Ramirez",
           "Aaron Carter",
           5,
           6,
           "2023-12-13"
          ],
          [
           "Aaron Carter",
           "Evan Sooklal",
           6,
           2,
           "2023-12-13"
          ],
          [
           "Will Simpson",
           "Paul Bartenfeld",
           6,
           4,
           "2023-12-13"
          ],
          [
           "Aaron Carter",
           "Evan Sooklal",
           5,
           6,
           "2023-12-13"
          ],
          [
           "Evan Sooklal",
           "Aaron Carter",
           2,
           6,
           "2023-12-13"
          ],
          [
           "Aaron Carter",
           "Evan Sooklal",
           6,
           2,
           "2023-12-13"
          ]
         ],
         "hovertemplate": "<i>%{customdata[4]|%A, %B %d, %Y}, Game %{x}</i><br><b>%{fullData.name}</b><br><br><b>%{customdata[0]} vs. %{customdata[1]}</b><br><b>Final Score:</b> %{customdata[2]}-%{customdata[3]}<br>%{text}<b>Post-Game ELO:</b> %{y:,.0f}<br><extra></extra>",
         "legendgrouptitle": {
          "text": "<b>#<i>Rank</i> (<i>Current ELO</i>) <i>Player</i></b>"
         },
         "line": {
          "color": "rgb(242, 183, 1)",
          "shape": "hv"
         },
         "mode": "lines+markers",
         "name": "#4 (1174) Roman Ramirez",
         "opacity": 0.8,
         "text": [
          "<br><b>Pre-Game ELO: </b>nan<br><b>Win Probability: </b>nan%<br><br><b>Change in ELO:</b> +nan<br>",
          "<br><b>Pre-Game ELO: </b>1200<br><b>Win Probability: </b>50.0%<br><br><b>Change in ELO:</b> +16<br>",
          "<br><b>Pre-Game ELO: </b>1216<br><b>Win Probability: </b>58.4%<br><br><b>Change in ELO:</b> +13<br>",
          "<br><b>Pre-Game ELO: </b>nan<br><b>Win Probability: </b>nan%<br><br><b>Change in ELO:</b> +nan<br>",
          "<br><b>Pre-Game ELO: </b>nan<br><b>Win Probability: </b>nan%<br><br><b>Change in ELO:</b> +nan<br>",
          "<br><b>Pre-Game ELO: </b>1228<br><b>Win Probability: </b>50.0%<br><br><b>Change in ELO:</b> +16<br>",
          "<br><b>Pre-Game ELO: </b>nan<br><b>Win Probability: </b>nan%<br><br><b>Change in ELO:</b> +nan<br>",
          "<br><b>Pre-Game ELO: </b>1244<br><b>Win Probability: </b>72.4%<br><br><b>Change in ELO:</b> +9<br>",
          "<br><b>Pre-Game ELO: </b>1252<br><b>Win Probability: </b>70.4%<br><br><b>Change in ELO:</b> -22<br>",
          "<br><b>Pre-Game ELO: </b>nan<br><b>Win Probability: </b>nan%<br><br><b>Change in ELO:</b> +nan<br>",
          "<br><b>Pre-Game ELO: </b>nan<br><b>Win Probability: </b>nan%<br><br><b>Change in ELO:</b> +nan<br>",
          "<br><b>Pre-Game ELO: </b>1231<br><b>Win Probability: </b>48.7%<br><br><b>Change in ELO:</b> +16<br>",
          "<br><b>Pre-Game ELO: </b>1247<br><b>Win Probability: </b>57.4%<br><br><b>Change in ELO:</b> -18<br>",
          "<br><b>Pre-Game ELO: </b>1229<br><b>Win Probability: </b>47.7%<br><br><b>Change in ELO:</b> +16<br>",
          "<br><b>Pre-Game ELO: </b>1245<br><b>Win Probability: </b>56.5%<br><br><b>Change in ELO:</b> +13<br>",
          "<br><b>Pre-Game ELO: </b>1258<br><b>Win Probability: </b>65.5%<br><br><b>Change in ELO:</b> -20<br>",
          "<br><b>Pre-Game ELO: </b>nan<br><b>Win Probability: </b>nan%<br><br><b>Change in ELO:</b> +nan<br>",
          "<br><b>Pre-Game ELO: </b>nan<br><b>Win Probability: </b>nan%<br><br><b>Change in ELO:</b> +nan<br>",
          "<br><b>Pre-Game ELO: </b>1238<br><b>Win Probability: </b>58.6%<br><br><b>Change in ELO:</b> -18<br>",
          "<br><b>Pre-Game ELO: </b>nan<br><b>Win Probability: </b>nan%<br><br><b>Change in ELO:</b> +nan<br>",
          "<br><b>Pre-Game ELO: </b>nan<br><b>Win Probability: </b>nan%<br><br><b>Change in ELO:</b> +nan<br>",
          "<br><b>Pre-Game ELO: </b>nan<br><b>Win Probability: </b>nan%<br><br><b>Change in ELO:</b> +nan<br>",
          "<br><b>Pre-Game ELO: </b>1220<br><b>Win Probability: </b>42.5%<br><br><b>Change in ELO:</b> +18<br>",
          "<br><b>Pre-Game ELO: </b>1238<br><b>Win Probability: </b>76.4%<br><br><b>Change in ELO:</b> -24<br>",
          "<br><b>Pre-Game ELO: </b>nan<br><b>Win Probability: </b>nan%<br><br><b>Change in ELO:</b> +nan<br>",
          "<br><b>Pre-Game ELO: </b>1214<br><b>Win Probability: </b>53.6%<br><br><b>Change in ELO:</b> +14<br>",
          "<br><b>Pre-Game ELO: </b>nan<br><b>Win Probability: </b>nan%<br><br><b>Change in ELO:</b> +nan<br>",
          "<br><b>Pre-Game ELO: </b>nan<br><b>Win Probability: </b>nan%<br><br><b>Change in ELO:</b> +nan<br>",
          "<br><b>Pre-Game ELO: </b>1228<br><b>Win Probability: </b>57.5%<br><br><b>Change in ELO:</b> -18<br>",
          "<br><b>Pre-Game ELO: </b>nan<br><b>Win Probability: </b>nan%<br><br><b>Change in ELO:</b> +nan<br>",
          "<br><b>Pre-Game ELO: </b>nan<br><b>Win Probability: </b>nan%<br><br><b>Change in ELO:</b> +nan<br>",
          "<br><b>Pre-Game ELO: </b>nan<br><b>Win Probability: </b>nan%<br><br><b>Change in ELO:</b> +nan<br>",
          "<br><b>Pre-Game ELO: </b>1211<br><b>Win Probability: </b>43.5%<br><br><b>Change in ELO:</b> -13<br>",
          "<br><b>Pre-Game ELO: </b>1197<br><b>Win Probability: </b>61.2%<br><br><b>Change in ELO:</b> -19<br>",
          "<br><b>Pre-Game ELO: </b>nan<br><b>Win Probability: </b>nan%<br><br><b>Change in ELO:</b> +nan<br>",
          "<br><b>Pre-Game ELO: </b>nan<br><b>Win Probability: </b>nan%<br><br><b>Change in ELO:</b> +nan<br>",
          "<br><b>Pre-Game ELO: </b>nan<br><b>Win Probability: </b>nan%<br><br><b>Change in ELO:</b> +nan<br>",
          "<br><b>Pre-Game ELO: </b>nan<br><b>Win Probability: </b>nan%<br><br><b>Change in ELO:</b> +nan<br>",
          "<br><b>Pre-Game ELO: </b>1178<br><b>Win Probability: </b>49.7%<br><br><b>Change in ELO:</b> -15<br>",
          "<br><b>Pre-Game ELO: </b>1163<br><b>Win Probability: </b>50.4%<br><br><b>Change in ELO:</b> +15<br>",
          "<br><b>Pre-Game ELO: </b>nan<br><b>Win Probability: </b>nan%<br><br><b>Change in ELO:</b> +nan<br>",
          "<br><b>Pre-Game ELO: </b>1178<br><b>Win Probability: </b>31.4%<br><br><b>Change in ELO:</b> -10<br>",
          "<br><b>Pre-Game ELO: </b>nan<br><b>Win Probability: </b>nan%<br><br><b>Change in ELO:</b> +nan<br>",
          "<br><b>Pre-Game ELO: </b>nan<br><b>Win Probability: </b>nan%<br><br><b>Change in ELO:</b> +nan<br>",
          "<br><b>Pre-Game ELO: </b>1168<br><b>Win Probability: </b>33.2%<br><br><b>Change in ELO:</b> -10<br>",
          "<br><b>Pre-Game ELO: </b>nan<br><b>Win Probability: </b>nan%<br><br><b>Change in ELO:</b> +nan<br>",
          "<br><b>Pre-Game ELO: </b>nan<br><b>Win Probability: </b>nan%<br><br><b>Change in ELO:</b> +nan<br>",
          "<br><b>Pre-Game ELO: </b>nan<br><b>Win Probability: </b>nan%<br><br><b>Change in ELO:</b> +nan<br>",
          "<br><b>Pre-Game ELO: </b>1158<br><b>Win Probability: </b>35.6%<br><br><b>Change in ELO:</b> -11<br>",
          "<br><b>Pre-Game ELO: </b>1147<br><b>Win Probability: </b>57.1%<br><br><b>Change in ELO:</b> +13<br>",
          "<br><b>Pre-Game ELO: </b>nan<br><b>Win Probability: </b>nan%<br><br><b>Change in ELO:</b> +nan<br>",
          "<br><b>Pre-Game ELO: </b>1160<br><b>Win Probability: </b>31.2%<br><br><b>Change in ELO:</b> +21<br>",
          "<br><b>Pre-Game ELO: </b>nan<br><b>Win Probability: </b>nan%<br><br><b>Change in ELO:</b> +nan<br>",
          "<br><b>Pre-Game ELO: </b>nan<br><b>Win Probability: </b>nan%<br><br><b>Change in ELO:</b> +nan<br>",
          "<br><b>Pre-Game ELO: </b>1182<br><b>Win Probability: </b>26.1%<br><br><b>Change in ELO:</b> -8<br>",
          "<br><b>Pre-Game ELO: </b>nan<br><b>Win Probability: </b>nan%<br><br><b>Change in ELO:</b> +nan<br>",
          "<br><b>Pre-Game ELO: </b>nan<br><b>Win Probability: </b>nan%<br><br><b>Change in ELO:</b> +nan<br>",
          "<br><b>Pre-Game ELO: </b>nan<br><b>Win Probability: </b>nan%<br><br><b>Change in ELO:</b> +nan<br>",
          "<br><b>Pre-Game ELO: </b>nan<br><b>Win Probability: </b>nan%<br><br><b>Change in ELO:</b> +nan<br>",
          "<br><b>Pre-Game ELO: </b>nan<br><b>Win Probability: </b>nan%<br><br><b>Change in ELO:</b> +nan<br>"
         ],
         "type": "scatter",
         "x": [
          1,
          2,
          3,
          4,
          5,
          6,
          7,
          8,
          9,
          10,
          11,
          12,
          13,
          14,
          15,
          16,
          17,
          18,
          19,
          20,
          21,
          22,
          23,
          24,
          25,
          26,
          27,
          28,
          29,
          30,
          31,
          32,
          33,
          34,
          35,
          36,
          37,
          38,
          39,
          40,
          41,
          42,
          43,
          44,
          45,
          46,
          47,
          48,
          49,
          50,
          51,
          52,
          53,
          54,
          55,
          56,
          57,
          58,
          59,
          60
         ],
         "y": [
          null,
          1215.5,
          1228.3858031753039,
          null,
          null,
          1243.8858031753039,
          null,
          1252.4425519507959,
          1230.6339035261685,
          null,
          null,
          1246.5393900411782,
          1228.7533011841335,
          1244.978588378909,
          1258.4531325066034,
          1238.1405507759134,
          null,
          null,
          1219.9637974037742,
          null,
          null,
          null,
          1237.7747520460584,
          1214.0950077302032,
          null,
          1228.4670993707348,
          null,
          null,
          1210.6449987408969,
          null,
          null,
          null,
          1197.1714293871794,
          1178.2035732164316,
          null,
          null,
          null,
          null,
          1162.7988031877433,
          1178.1637340693517,
          null,
          1168.4188110544196,
          null,
          null,
          1158.1309518649728,
          null,
          null,
          null,
          1147.0819547137278,
          1160.3708818362143,
          null,
          1181.6985776491017,
          null,
          null,
          1173.6228446833834,
          null,
          null,
          null,
          null,
          null
         ]
        },
        {
         "connectgaps": true,
         "customdata": [
          [
           "Evan Sooklal",
           "Will Simpson",
           2,
           6,
           "2023-11-18"
          ],
          [
           "Paul Bartenfeld",
           "Roman Ramirez",
           2,
           6,
           "2023-11-18"
          ],
          [
           "Roman Ramirez",
           "Evan Sooklal",
           6,
           3,
           "2023-11-18"
          ],
          [
           "Will Simpson",
           "Paul Bartenfeld",
           6,
           1,
           "2023-11-18"
          ],
          [
           "Paul Bartenfeld",
           "Evan Sooklal",
           1,
           6,
           "2023-11-18"
          ],
          [
           "Will Simpson",
           "Roman Ramirez",
           3,
           6,
           "2023-11-18"
          ],
          [
           "Will Simpson",
           "Evan Sooklal",
           6,
           2,
           "2023-11-18"
          ],
          [
           "Roman Ramirez",
           "Paul Bartenfeld",
           6,
           4,
           "2023-11-18"
          ],
          [
           "Evan Sooklal",
           "Roman Ramirez",
           6,
           5,
           "2023-11-18"
          ],
          [
           "Paul Bartenfeld",
           "Will Simpson",
           4,
           6,
           "2023-11-18"
          ],
          [
           "Evan Sooklal",
           "Paul Bartenfeld",
           6,
           5,
           "2023-11-18"
          ],
          [
           "Roman Ramirez",
           "Will Simpson",
           6,
           2,
           "2023-11-18"
          ],
          [
           "Roman Ramirez",
           "Will Simpson",
           2,
           6,
           "2023-11-18"
          ],
          [
           "Will Simpson",
           "Roman Ramirez",
           4,
           6,
           "2023-11-18"
          ],
          [
           "Roman Ramirez",
           "Will Simpson",
           6,
           4,
           "2023-11-18"
          ],
          [
           "Roman Ramirez",
           "Aaron Carter",
           4,
           6,
           "2023-12-02"
          ],
          [
           "Will Simpson",
           "Paul Bartenfeld",
           6,
           4,
           "2023-12-02"
          ],
          [
           "Aaron Carter",
           "Will Simpson",
           4,
           6,
           "2023-12-02"
          ],
          [
           "Evan Sooklal",
           "Roman Ramirez",
           6,
           2,
           "2023-12-02"
          ],
          [
           "Will Simpson",
           "Evan Sooklal",
           6,
           2,
           "2023-12-02"
          ],
          [
           "Paul Bartenfeld",
           "Aaron Carter",
           6,
           3,
           "2023-12-02"
          ],
          [
           "Evan Sooklal",
           "Paul Bartenfeld",
           6,
           4,
           "2023-12-02"
          ],
          [
           "Roman Ramirez",
           "Will Simpson",
           6,
           4,
           "2023-12-02"
          ],
          [
           "Paul Bartenfeld",
           "Roman Ramirez",
           6,
           3,
           "2023-12-02"
          ],
          [
           "Aaron Carter",
           "Evan Sooklal",
           6,
           3,
           "2023-12-02"
          ],
          [
           "Aaron Carter",
           "Roman Ramirez",
           0,
           6,
           "2023-12-02"
          ],
          [
           "Paul Bartenfeld",
           "Will Simpson",
           1,
           6,
           "2023-12-02"
          ],
          [
           "Will Simpson",
           "Aaron Carter",
           3,
           6,
           "2023-12-02"
          ],
          [
           "Roman Ramirez",
           "Evan Sooklal",
           2,
           6,
           "2023-12-02"
          ],
          [
           "Evan Sooklal",
           "Will Simpson",
           5,
           6,
           "2023-12-02"
          ],
          [
           "Aaron Carter",
           "Paul Bartenfeld",
           6,
           3,
           "2023-12-02"
          ],
          [
           "Paul Bartenfeld",
           "Evan Sooklal",
           6,
           5,
           "2023-12-02"
          ],
          [
           "Will Simpson",
           "Roman Ramirez",
           6,
           5,
           "2023-12-02"
          ],
          [
           "Roman Ramirez",
           "Paul Bartenfeld",
           4,
           6,
           "2023-12-02"
          ],
          [
           "Evan Sooklal",
           "Aaron Carter",
           6,
           4,
           "2023-12-02"
          ],
          [
           "Will Simpson",
           "Evan Sooklal",
           6,
           2,
           "2023-12-02"
          ],
          [
           "Will Simpson",
           "Evan Sooklal",
           6,
           1,
           "2023-12-02"
          ],
          [
           "Aaron Carter",
           "Paul Bartenfeld",
           6,
           3,
           "2023-12-13"
          ],
          [
           "Roman Ramirez",
           "Evan Sooklal",
           5,
           6,
           "2023-12-13"
          ],
          [
           "Paul Bartenfeld",
           "Roman Ramirez",
           2,
           6,
           "2023-12-13"
          ],
          [
           "Will Simpson",
           "Aaron Carter",
           0,
           6,
           "2023-12-13"
          ],
          [
           "Roman Ramirez",
           "Will Simpson",
           4,
           6,
           "2023-12-13"
          ],
          [
           "Evan Sooklal",
           "Paul Bartenfeld",
           6,
           5,
           "2023-12-13"
          ],
          [
           "Will Simpson",
           "Evan Sooklal",
           4,
           6,
           "2023-12-13"
          ],
          [
           "Aaron Carter",
           "Roman Ramirez",
           6,
           3,
           "2023-12-13"
          ],
          [
           "Evan Sooklal",
           "Aaron Carter",
           5,
           6,
           "2023-12-13"
          ],
          [
           "Paul Bartenfeld",
           "Will Simpson",
           2,
           6,
           "2023-12-13"
          ],
          [
           "Paul Bartenfeld",
           "Aaron Carter",
           3,
           6,
           "2023-12-13"
          ],
          [
           "Evan Sooklal",
           "Roman Ramirez",
           6,
           4,
           "2023-12-13"
          ],
          [
           "Roman Ramirez",
           "Paul Bartenfeld",
           6,
           1,
           "2023-12-13"
          ],
          [
           "Aaron Carter",
           "Will Simpson",
           6,
           5,
           "2023-12-13"
          ],
          [
           "Will Simpson",
           "Roman Ramirez",
           3,
           6,
           "2023-12-13"
          ],
          [
           "Paul Bartenfeld",
           "Evan Sooklal",
           3,
           6,
           "2023-12-13"
          ],
          [
           "Evan Sooklal",
           "Will Simpson",
           6,
           3,
           "2023-12-13"
          ],
          [
           "Roman Ramirez",
           "Aaron Carter",
           5,
           6,
           "2023-12-13"
          ],
          [
           "Aaron Carter",
           "Evan Sooklal",
           6,
           2,
           "2023-12-13"
          ],
          [
           "Will Simpson",
           "Paul Bartenfeld",
           6,
           4,
           "2023-12-13"
          ],
          [
           "Aaron Carter",
           "Evan Sooklal",
           5,
           6,
           "2023-12-13"
          ],
          [
           "Evan Sooklal",
           "Aaron Carter",
           2,
           6,
           "2023-12-13"
          ],
          [
           "Aaron Carter",
           "Evan Sooklal",
           6,
           2,
           "2023-12-13"
          ]
         ],
         "hovertemplate": "<i>%{customdata[4]|%A, %B %d, %Y}, Game %{x}</i><br><b>%{fullData.name}</b><br><br><b>%{customdata[0]} vs. %{customdata[1]}</b><br><b>Final Score:</b> %{customdata[2]}-%{customdata[3]}<br>%{text}<b>Post-Game ELO:</b> %{y:,.0f}<br><extra></extra>",
         "legendgrouptitle": {
          "text": "<b>#<i>Rank</i> (<i>Current ELO</i>) <i>Player</i></b>"
         },
         "line": {
          "color": "rgb(231, 63, 116)",
          "shape": "hv"
         },
         "mode": "lines+markers",
         "name": "#5 (1093) Paul Bartenfeld",
         "opacity": 0.8,
         "text": [
          "<br><b>Pre-Game ELO: </b>nan<br><b>Win Probability: </b>nan%<br><br><b>Change in ELO:</b> +nan<br>",
          "<br><b>Pre-Game ELO: </b>1200<br><b>Win Probability: </b>50.0%<br><br><b>Change in ELO:</b> -16<br>",
          "<br><b>Pre-Game ELO: </b>nan<br><b>Win Probability: </b>nan%<br><br><b>Change in ELO:</b> +nan<br>",
          "<br><b>Pre-Game ELO: </b>1184<br><b>Win Probability: </b>41.6%<br><br><b>Change in ELO:</b> -13<br>",
          "<br><b>Pre-Game ELO: </b>1172<br><b>Win Probability: </b>50.0%<br><br><b>Change in ELO:</b> -16<br>",
          "<br><b>Pre-Game ELO: </b>nan<br><b>Win Probability: </b>nan%<br><br><b>Change in ELO:</b> +nan<br>",
          "<br><b>Pre-Game ELO: </b>nan<br><b>Win Probability: </b>nan%<br><br><b>Change in ELO:</b> +nan<br>",
          "<br><b>Pre-Game ELO: </b>1156<br><b>Win Probability: </b>27.6%<br><br><b>Change in ELO:</b> -9<br>",
          "<br><b>Pre-Game ELO: </b>nan<br><b>Win Probability: </b>nan%<br><br><b>Change in ELO:</b> +nan<br>",
          "<br><b>Pre-Game ELO: </b>1148<br><b>Win Probability: </b>29.6%<br><br><b>Change in ELO:</b> -9<br>",
          "<br><b>Pre-Game ELO: </b>1138<br><b>Win Probability: </b>34.8%<br><br><b>Change in ELO:</b> -11<br>",
          "<br><b>Pre-Game ELO: </b>nan<br><b>Win Probability: </b>nan%<br><br><b>Change in ELO:</b> +nan<br>",
          "<br><b>Pre-Game ELO: </b>nan<br><b>Win Probability: </b>nan%<br><br><b>Change in ELO:</b> +nan<br>",
          "<br><b>Pre-Game ELO: </b>nan<br><b>Win Probability: </b>nan%<br><br><b>Change in ELO:</b> +nan<br>",
          "<br><b>Pre-Game ELO: </b>nan<br><b>Win Probability: </b>nan%<br><br><b>Change in ELO:</b> +nan<br>",
          "<br><b>Pre-Game ELO: </b>nan<br><b>Win Probability: </b>nan%<br><br><b>Change in ELO:</b> +nan<br>",
          "<br><b>Pre-Game ELO: </b>1128<br><b>Win Probability: </b>29.3%<br><br><b>Change in ELO:</b> -9<br>",
          "<br><b>Pre-Game ELO: </b>nan<br><b>Win Probability: </b>nan%<br><br><b>Change in ELO:</b> +nan<br>",
          "<br><b>Pre-Game ELO: </b>nan<br><b>Win Probability: </b>nan%<br><br><b>Change in ELO:</b> +nan<br>",
          "<br><b>Pre-Game ELO: </b>nan<br><b>Win Probability: </b>nan%<br><br><b>Change in ELO:</b> +nan<br>",
          "<br><b>Pre-Game ELO: </b>1118<br><b>Win Probability: </b>28.0%<br><br><b>Change in ELO:</b> +22<br>",
          "<br><b>Pre-Game ELO: </b>1141<br><b>Win Probability: </b>31.9%<br><br><b>Change in ELO:</b> -10<br>",
          "<br><b>Pre-Game ELO: </b>nan<br><b>Win Probability: </b>nan%<br><br><b>Change in ELO:</b> +nan<br>",
          "<br><b>Pre-Game ELO: </b>1131<br><b>Win Probability: </b>23.6%<br><br><b>Change in ELO:</b> +24<br>",
          "<br><b>Pre-Game ELO: </b>nan<br><b>Win Probability: </b>nan%<br><br><b>Change in ELO:</b> +nan<br>",
          "<br><b>Pre-Game ELO: </b>nan<br><b>Win Probability: </b>nan%<br><br><b>Change in ELO:</b> +nan<br>",
          "<br><b>Pre-Game ELO: </b>1155<br><b>Win Probability: </b>30.5%<br><br><b>Change in ELO:</b> -9<br>",
          "<br><b>Pre-Game ELO: </b>nan<br><b>Win Probability: </b>nan%<br><br><b>Change in ELO:</b> +nan<br>",
          "<br><b>Pre-Game ELO: </b>nan<br><b>Win Probability: </b>nan%<br><br><b>Change in ELO:</b> +nan<br>",
          "<br><b>Pre-Game ELO: </b>nan<br><b>Win Probability: </b>nan%<br><br><b>Change in ELO:</b> +nan<br>",
          "<br><b>Pre-Game ELO: </b>1145<br><b>Win Probability: </b>33.8%<br><br><b>Change in ELO:</b> -10<br>",
          "<br><b>Pre-Game ELO: </b>1135<br><b>Win Probability: </b>32.0%<br><br><b>Change in ELO:</b> +21<br>",
          "<br><b>Pre-Game ELO: </b>nan<br><b>Win Probability: </b>nan%<br><br><b>Change in ELO:</b> +nan<br>",
          "<br><b>Pre-Game ELO: </b>1156<br><b>Win Probability: </b>38.8%<br><br><b>Change in ELO:</b> +19<br>",
          "<br><b>Pre-Game ELO: </b>nan<br><b>Win Probability: </b>nan%<br><br><b>Change in ELO:</b> +nan<br>",
          "<br><b>Pre-Game ELO: </b>nan<br><b>Win Probability: </b>nan%<br><br><b>Change in ELO:</b> +nan<br>",
          "<br><b>Pre-Game ELO: </b>nan<br><b>Win Probability: </b>nan%<br><br><b>Change in ELO:</b> +nan<br>",
          "<br><b>Pre-Game ELO: </b>1175<br><b>Win Probability: </b>43.5%<br><br><b>Change in ELO:</b> -13<br>",
          "<br><b>Pre-Game ELO: </b>nan<br><b>Win Probability: </b>nan%<br><br><b>Change in ELO:</b> +nan<br>",
          "<br><b>Pre-Game ELO: </b>1161<br><b>Win Probability: </b>49.6%<br><br><b>Change in ELO:</b> -15<br>",
          "<br><b>Pre-Game ELO: </b>nan<br><b>Win Probability: </b>nan%<br><br><b>Change in ELO:</b> +nan<br>",
          "<br><b>Pre-Game ELO: </b>nan<br><b>Win Probability: </b>nan%<br><br><b>Change in ELO:</b> +nan<br>",
          "<br><b>Pre-Game ELO: </b>1146<br><b>Win Probability: </b>36.9%<br><br><b>Change in ELO:</b> -11<br>",
          "<br><b>Pre-Game ELO: </b>nan<br><b>Win Probability: </b>nan%<br><br><b>Change in ELO:</b> +nan<br>",
          "<br><b>Pre-Game ELO: </b>nan<br><b>Win Probability: </b>nan%<br><br><b>Change in ELO:</b> +nan<br>",
          "<br><b>Pre-Game ELO: </b>nan<br><b>Win Probability: </b>nan%<br><br><b>Change in ELO:</b> +nan<br>",
          "<br><b>Pre-Game ELO: </b>1134<br><b>Win Probability: </b>24.1%<br><br><b>Change in ELO:</b> -7<br>",
          "<br><b>Pre-Game ELO: </b>1127<br><b>Win Probability: </b>19.4%<br><br><b>Change in ELO:</b> -6<br>",
          "<br><b>Pre-Game ELO: </b>nan<br><b>Win Probability: </b>nan%<br><br><b>Change in ELO:</b> +nan<br>",
          "<br><b>Pre-Game ELO: </b>1121<br><b>Win Probability: </b>42.9%<br><br><b>Change in ELO:</b> -13<br>",
          "<br><b>Pre-Game ELO: </b>nan<br><b>Win Probability: </b>nan%<br><br><b>Change in ELO:</b> +nan<br>",
          "<br><b>Pre-Game ELO: </b>nan<br><b>Win Probability: </b>nan%<br><br><b>Change in ELO:</b> +nan<br>",
          "<br><b>Pre-Game ELO: </b>1108<br><b>Win Probability: </b>22.0%<br><br><b>Change in ELO:</b> -7<br>",
          "<br><b>Pre-Game ELO: </b>nan<br><b>Win Probability: </b>nan%<br><br><b>Change in ELO:</b> +nan<br>",
          "<br><b>Pre-Game ELO: </b>nan<br><b>Win Probability: </b>nan%<br><br><b>Change in ELO:</b> +nan<br>",
          "<br><b>Pre-Game ELO: </b>nan<br><b>Win Probability: </b>nan%<br><br><b>Change in ELO:</b> +nan<br>",
          "<br><b>Pre-Game ELO: </b>1101<br><b>Win Probability: </b>25.8%<br><br><b>Change in ELO:</b> -8<br>",
          "<br><b>Pre-Game ELO: </b>nan<br><b>Win Probability: </b>nan%<br><br><b>Change in ELO:</b> +nan<br>",
          "<br><b>Pre-Game ELO: </b>nan<br><b>Win Probability: </b>nan%<br><br><b>Change in ELO:</b> +nan<br>",
          "<br><b>Pre-Game ELO: </b>nan<br><b>Win Probability: </b>nan%<br><br><b>Change in ELO:</b> +nan<br>"
         ],
         "type": "scatter",
         "x": [
          1,
          2,
          3,
          4,
          5,
          6,
          7,
          8,
          9,
          10,
          11,
          12,
          13,
          14,
          15,
          16,
          17,
          18,
          19,
          20,
          21,
          22,
          23,
          24,
          25,
          26,
          27,
          28,
          29,
          30,
          31,
          32,
          33,
          34,
          35,
          36,
          37,
          38,
          39,
          40,
          41,
          42,
          43,
          44,
          45,
          46,
          47,
          48,
          49,
          50,
          51,
          52,
          53,
          54,
          55,
          56,
          57,
          58,
          59,
          60
         ],
         "y": [
          null,
          1184.5,
          null,
          1171.6141968246961,
          1156.1141968246961,
          null,
          null,
          1147.5574480492041,
          null,
          1138.3660964738315,
          1127.5848813539076,
          null,
          null,
          null,
          null,
          null,
          1118.4887658062921,
          null,
          null,
          null,
          1140.8118885235301,
          1130.9149646849257,
          null,
          1154.594709000781,
          null,
          null,
          1145.1351515177491,
          null,
          null,
          null,
          1134.6555871600212,
          1155.7406125587418,
          null,
          1174.7084687294896,
          null,
          null,
          null,
          1161.2123732263994,
          null,
          1145.847442344791,
          null,
          null,
          1134.4119486362379,
          null,
          null,
          null,
          1126.9528026904245,
          1120.934523817579,
          null,
          1107.6455966950925,
          null,
          null,
          1100.8324954376862,
          null,
          null,
          null,
          1092.8424553063014,
          null,
          null,
          null
         ]
        }
       ],
       "layout": {
        "annotations": [
         {
          "showarrow": false,
          "text": "2023-11-18",
          "x": 0.5,
          "xanchor": "left",
          "xref": "x",
          "y": 1,
          "yanchor": "top",
          "yref": "y domain"
         },
         {
          "showarrow": false,
          "text": "2023-12-02",
          "x": 15.5,
          "xanchor": "left",
          "xref": "x",
          "y": 1,
          "yanchor": "top",
          "yref": "y domain"
         },
         {
          "showarrow": false,
          "text": "2023-12-13",
          "x": 37.5,
          "xanchor": "left",
          "xref": "x",
          "y": 1,
          "yanchor": "top",
          "yref": "y domain"
         }
        ],
        "shapes": [
         {
          "fillcolor": "green",
          "line": {
           "width": 0
          },
          "opacity": 0.1,
          "type": "rect",
          "x0": 0.5,
          "x1": 15.5,
          "xref": "x",
          "y0": 0,
          "y1": 1,
          "yref": "y domain"
         },
         {
          "fillcolor": "red",
          "line": {
           "width": 0
          },
          "opacity": 0.1,
          "type": "rect",
          "x0": 15.5,
          "x1": 37.5,
          "xref": "x",
          "y0": 0,
          "y1": 1,
          "yref": "y domain"
         },
         {
          "fillcolor": "yellow",
          "line": {
           "width": 0
          },
          "opacity": 0.1,
          "type": "rect",
          "x0": 37.5,
          "x1": 60.5,
          "xref": "x",
          "y0": 0,
          "y1": 1,
          "yref": "y domain"
         }
        ],
        "template": {
         "data": {
          "bar": [
           {
            "error_x": {
             "color": "#2a3f5f"
            },
            "error_y": {
             "color": "#2a3f5f"
            },
            "marker": {
             "line": {
              "color": "#E5ECF6",
              "width": 0.5
             },
             "pattern": {
              "fillmode": "overlay",
              "size": 10,
              "solidity": 0.2
             }
            },
            "type": "bar"
           }
          ],
          "barpolar": [
           {
            "marker": {
             "line": {
              "color": "#E5ECF6",
              "width": 0.5
             },
             "pattern": {
              "fillmode": "overlay",
              "size": 10,
              "solidity": 0.2
             }
            },
            "type": "barpolar"
           }
          ],
          "carpet": [
           {
            "aaxis": {
             "endlinecolor": "#2a3f5f",
             "gridcolor": "white",
             "linecolor": "white",
             "minorgridcolor": "white",
             "startlinecolor": "#2a3f5f"
            },
            "baxis": {
             "endlinecolor": "#2a3f5f",
             "gridcolor": "white",
             "linecolor": "white",
             "minorgridcolor": "white",
             "startlinecolor": "#2a3f5f"
            },
            "type": "carpet"
           }
          ],
          "choropleth": [
           {
            "colorbar": {
             "outlinewidth": 0,
             "ticks": ""
            },
            "type": "choropleth"
           }
          ],
          "contour": [
           {
            "colorbar": {
             "outlinewidth": 0,
             "ticks": ""
            },
            "colorscale": [
             [
              0,
              "#0d0887"
             ],
             [
              0.1111111111111111,
              "#46039f"
             ],
             [
              0.2222222222222222,
              "#7201a8"
             ],
             [
              0.3333333333333333,
              "#9c179e"
             ],
             [
              0.4444444444444444,
              "#bd3786"
             ],
             [
              0.5555555555555556,
              "#d8576b"
             ],
             [
              0.6666666666666666,
              "#ed7953"
             ],
             [
              0.7777777777777778,
              "#fb9f3a"
             ],
             [
              0.8888888888888888,
              "#fdca26"
             ],
             [
              1,
              "#f0f921"
             ]
            ],
            "type": "contour"
           }
          ],
          "contourcarpet": [
           {
            "colorbar": {
             "outlinewidth": 0,
             "ticks": ""
            },
            "type": "contourcarpet"
           }
          ],
          "heatmap": [
           {
            "colorbar": {
             "outlinewidth": 0,
             "ticks": ""
            },
            "colorscale": [
             [
              0,
              "#0d0887"
             ],
             [
              0.1111111111111111,
              "#46039f"
             ],
             [
              0.2222222222222222,
              "#7201a8"
             ],
             [
              0.3333333333333333,
              "#9c179e"
             ],
             [
              0.4444444444444444,
              "#bd3786"
             ],
             [
              0.5555555555555556,
              "#d8576b"
             ],
             [
              0.6666666666666666,
              "#ed7953"
             ],
             [
              0.7777777777777778,
              "#fb9f3a"
             ],
             [
              0.8888888888888888,
              "#fdca26"
             ],
             [
              1,
              "#f0f921"
             ]
            ],
            "type": "heatmap"
           }
          ],
          "heatmapgl": [
           {
            "colorbar": {
             "outlinewidth": 0,
             "ticks": ""
            },
            "colorscale": [
             [
              0,
              "#0d0887"
             ],
             [
              0.1111111111111111,
              "#46039f"
             ],
             [
              0.2222222222222222,
              "#7201a8"
             ],
             [
              0.3333333333333333,
              "#9c179e"
             ],
             [
              0.4444444444444444,
              "#bd3786"
             ],
             [
              0.5555555555555556,
              "#d8576b"
             ],
             [
              0.6666666666666666,
              "#ed7953"
             ],
             [
              0.7777777777777778,
              "#fb9f3a"
             ],
             [
              0.8888888888888888,
              "#fdca26"
             ],
             [
              1,
              "#f0f921"
             ]
            ],
            "type": "heatmapgl"
           }
          ],
          "histogram": [
           {
            "marker": {
             "pattern": {
              "fillmode": "overlay",
              "size": 10,
              "solidity": 0.2
             }
            },
            "type": "histogram"
           }
          ],
          "histogram2d": [
           {
            "colorbar": {
             "outlinewidth": 0,
             "ticks": ""
            },
            "colorscale": [
             [
              0,
              "#0d0887"
             ],
             [
              0.1111111111111111,
              "#46039f"
             ],
             [
              0.2222222222222222,
              "#7201a8"
             ],
             [
              0.3333333333333333,
              "#9c179e"
             ],
             [
              0.4444444444444444,
              "#bd3786"
             ],
             [
              0.5555555555555556,
              "#d8576b"
             ],
             [
              0.6666666666666666,
              "#ed7953"
             ],
             [
              0.7777777777777778,
              "#fb9f3a"
             ],
             [
              0.8888888888888888,
              "#fdca26"
             ],
             [
              1,
              "#f0f921"
             ]
            ],
            "type": "histogram2d"
           }
          ],
          "histogram2dcontour": [
           {
            "colorbar": {
             "outlinewidth": 0,
             "ticks": ""
            },
            "colorscale": [
             [
              0,
              "#0d0887"
             ],
             [
              0.1111111111111111,
              "#46039f"
             ],
             [
              0.2222222222222222,
              "#7201a8"
             ],
             [
              0.3333333333333333,
              "#9c179e"
             ],
             [
              0.4444444444444444,
              "#bd3786"
             ],
             [
              0.5555555555555556,
              "#d8576b"
             ],
             [
              0.6666666666666666,
              "#ed7953"
             ],
             [
              0.7777777777777778,
              "#fb9f3a"
             ],
             [
              0.8888888888888888,
              "#fdca26"
             ],
             [
              1,
              "#f0f921"
             ]
            ],
            "type": "histogram2dcontour"
           }
          ],
          "mesh3d": [
           {
            "colorbar": {
             "outlinewidth": 0,
             "ticks": ""
            },
            "type": "mesh3d"
           }
          ],
          "parcoords": [
           {
            "line": {
             "colorbar": {
              "outlinewidth": 0,
              "ticks": ""
             }
            },
            "type": "parcoords"
           }
          ],
          "pie": [
           {
            "automargin": true,
            "type": "pie"
           }
          ],
          "scatter": [
           {
            "fillpattern": {
             "fillmode": "overlay",
             "size": 10,
             "solidity": 0.2
            },
            "type": "scatter"
           }
          ],
          "scatter3d": [
           {
            "line": {
             "colorbar": {
              "outlinewidth": 0,
              "ticks": ""
             }
            },
            "marker": {
             "colorbar": {
              "outlinewidth": 0,
              "ticks": ""
             }
            },
            "type": "scatter3d"
           }
          ],
          "scattercarpet": [
           {
            "marker": {
             "colorbar": {
              "outlinewidth": 0,
              "ticks": ""
             }
            },
            "type": "scattercarpet"
           }
          ],
          "scattergeo": [
           {
            "marker": {
             "colorbar": {
              "outlinewidth": 0,
              "ticks": ""
             }
            },
            "type": "scattergeo"
           }
          ],
          "scattergl": [
           {
            "marker": {
             "colorbar": {
              "outlinewidth": 0,
              "ticks": ""
             }
            },
            "type": "scattergl"
           }
          ],
          "scattermapbox": [
           {
            "marker": {
             "colorbar": {
              "outlinewidth": 0,
              "ticks": ""
             }
            },
            "type": "scattermapbox"
           }
          ],
          "scatterpolar": [
           {
            "marker": {
             "colorbar": {
              "outlinewidth": 0,
              "ticks": ""
             }
            },
            "type": "scatterpolar"
           }
          ],
          "scatterpolargl": [
           {
            "marker": {
             "colorbar": {
              "outlinewidth": 0,
              "ticks": ""
             }
            },
            "type": "scatterpolargl"
           }
          ],
          "scatterternary": [
           {
            "marker": {
             "colorbar": {
              "outlinewidth": 0,
              "ticks": ""
             }
            },
            "type": "scatterternary"
           }
          ],
          "surface": [
           {
            "colorbar": {
             "outlinewidth": 0,
             "ticks": ""
            },
            "colorscale": [
             [
              0,
              "#0d0887"
             ],
             [
              0.1111111111111111,
              "#46039f"
             ],
             [
              0.2222222222222222,
              "#7201a8"
             ],
             [
              0.3333333333333333,
              "#9c179e"
             ],
             [
              0.4444444444444444,
              "#bd3786"
             ],
             [
              0.5555555555555556,
              "#d8576b"
             ],
             [
              0.6666666666666666,
              "#ed7953"
             ],
             [
              0.7777777777777778,
              "#fb9f3a"
             ],
             [
              0.8888888888888888,
              "#fdca26"
             ],
             [
              1,
              "#f0f921"
             ]
            ],
            "type": "surface"
           }
          ],
          "table": [
           {
            "cells": {
             "fill": {
              "color": "#EBF0F8"
             },
             "line": {
              "color": "white"
             }
            },
            "header": {
             "fill": {
              "color": "#C8D4E3"
             },
             "line": {
              "color": "white"
             }
            },
            "type": "table"
           }
          ]
         },
         "layout": {
          "annotationdefaults": {
           "arrowcolor": "#2a3f5f",
           "arrowhead": 0,
           "arrowwidth": 1
          },
          "autotypenumbers": "strict",
          "coloraxis": {
           "colorbar": {
            "outlinewidth": 0,
            "ticks": ""
           }
          },
          "colorscale": {
           "diverging": [
            [
             0,
             "#8e0152"
            ],
            [
             0.1,
             "#c51b7d"
            ],
            [
             0.2,
             "#de77ae"
            ],
            [
             0.3,
             "#f1b6da"
            ],
            [
             0.4,
             "#fde0ef"
            ],
            [
             0.5,
             "#f7f7f7"
            ],
            [
             0.6,
             "#e6f5d0"
            ],
            [
             0.7,
             "#b8e186"
            ],
            [
             0.8,
             "#7fbc41"
            ],
            [
             0.9,
             "#4d9221"
            ],
            [
             1,
             "#276419"
            ]
           ],
           "sequential": [
            [
             0,
             "#0d0887"
            ],
            [
             0.1111111111111111,
             "#46039f"
            ],
            [
             0.2222222222222222,
             "#7201a8"
            ],
            [
             0.3333333333333333,
             "#9c179e"
            ],
            [
             0.4444444444444444,
             "#bd3786"
            ],
            [
             0.5555555555555556,
             "#d8576b"
            ],
            [
             0.6666666666666666,
             "#ed7953"
            ],
            [
             0.7777777777777778,
             "#fb9f3a"
            ],
            [
             0.8888888888888888,
             "#fdca26"
            ],
            [
             1,
             "#f0f921"
            ]
           ],
           "sequentialminus": [
            [
             0,
             "#0d0887"
            ],
            [
             0.1111111111111111,
             "#46039f"
            ],
            [
             0.2222222222222222,
             "#7201a8"
            ],
            [
             0.3333333333333333,
             "#9c179e"
            ],
            [
             0.4444444444444444,
             "#bd3786"
            ],
            [
             0.5555555555555556,
             "#d8576b"
            ],
            [
             0.6666666666666666,
             "#ed7953"
            ],
            [
             0.7777777777777778,
             "#fb9f3a"
            ],
            [
             0.8888888888888888,
             "#fdca26"
            ],
            [
             1,
             "#f0f921"
            ]
           ]
          },
          "colorway": [
           "#636efa",
           "#EF553B",
           "#00cc96",
           "#ab63fa",
           "#FFA15A",
           "#19d3f3",
           "#FF6692",
           "#B6E880",
           "#FF97FF",
           "#FECB52"
          ],
          "font": {
           "color": "#2a3f5f"
          },
          "geo": {
           "bgcolor": "white",
           "lakecolor": "white",
           "landcolor": "#E5ECF6",
           "showlakes": true,
           "showland": true,
           "subunitcolor": "white"
          },
          "hoverlabel": {
           "align": "left"
          },
          "hovermode": "closest",
          "mapbox": {
           "style": "light"
          },
          "paper_bgcolor": "white",
          "plot_bgcolor": "#E5ECF6",
          "polar": {
           "angularaxis": {
            "gridcolor": "white",
            "linecolor": "white",
            "ticks": ""
           },
           "bgcolor": "#E5ECF6",
           "radialaxis": {
            "gridcolor": "white",
            "linecolor": "white",
            "ticks": ""
           }
          },
          "scene": {
           "xaxis": {
            "backgroundcolor": "#E5ECF6",
            "gridcolor": "white",
            "gridwidth": 2,
            "linecolor": "white",
            "showbackground": true,
            "ticks": "",
            "zerolinecolor": "white"
           },
           "yaxis": {
            "backgroundcolor": "#E5ECF6",
            "gridcolor": "white",
            "gridwidth": 2,
            "linecolor": "white",
            "showbackground": true,
            "ticks": "",
            "zerolinecolor": "white"
           },
           "zaxis": {
            "backgroundcolor": "#E5ECF6",
            "gridcolor": "white",
            "gridwidth": 2,
            "linecolor": "white",
            "showbackground": true,
            "ticks": "",
            "zerolinecolor": "white"
           }
          },
          "shapedefaults": {
           "line": {
            "color": "#2a3f5f"
           }
          },
          "ternary": {
           "aaxis": {
            "gridcolor": "white",
            "linecolor": "white",
            "ticks": ""
           },
           "baxis": {
            "gridcolor": "white",
            "linecolor": "white",
            "ticks": ""
           },
           "bgcolor": "#E5ECF6",
           "caxis": {
            "gridcolor": "white",
            "linecolor": "white",
            "ticks": ""
           }
          },
          "title": {
           "x": 0.05
          },
          "xaxis": {
           "automargin": true,
           "gridcolor": "white",
           "linecolor": "white",
           "ticks": "",
           "title": {
            "standoff": 15
           },
           "zerolinecolor": "white",
           "zerolinewidth": 2
          },
          "yaxis": {
           "automargin": true,
           "gridcolor": "white",
           "linecolor": "white",
           "ticks": "",
           "title": {
            "standoff": 15
           },
           "zerolinecolor": "white",
           "zerolinewidth": 2
          }
         }
        },
        "title": {
         "text": "<b>Pokémon Showdown ELO Rating System by Roman Ramirez</b><br><i>Updated Tuesday, Dec 19, 2023 16:24:44 CT</i><br><a href='https://htmlpreview.github.io/?https://github.com/notromanramirez/dgn_showdown/blob/main/figures/fig1.html'>H2H Stats</a>, <a href='https://htmlpreview.github.io/?https://github.com/notromanramirez/dgn_showdown/blob/main/figures/fig2.html'>H2H Advanced Stats</a>, <a href='https://htmlpreview.github.io/?https://github.com/notromanramirez/dgn_showdown/blob/main/figures/fig3.html'>H2H More Stats</a>"
        },
        "xaxis": {
         "title": {
          "text": "<b>Game Number</b>"
         }
        },
        "yaxis": {
         "title": {
          "text": "<b>ELO Rating</b>"
         }
        }
       }
      }
     },
     "metadata": {},
     "output_type": "display_data"
    }
   ],
   "source": [
    "import plotly.graph_objects as go\n",
    "import plotly.colors as pc\n",
    "\n",
    "fig = go.Figure()\n",
    "\n",
    "# adding player\n",
    "ranking = 1\n",
    "trace_colors = pc.qualitative.Bold\n",
    "for (i, (player, current_rating)) in enumerate(sorted(elo.items(), key=lambda x:x[1], reverse=True)):\n",
    "    fig.add_trace(go.Scatter(\n",
    "        x=elo_time_table.index,\n",
    "        y=elo_time_table[player],\n",
    "        name=f'#{ranking} ({current_rating:.0f}) {player}',\n",
    "        mode='lines+markers',\n",
    "        connectgaps=True,\n",
    "        text=[\n",
    "            f\"<br><b>Pre-Game ELO: </b>{x[1]:.0f}<br><b>Win Probability: </b>{x[0]:.1%}<br><br><b>Change in ELO:</b> {x[2]:+.0f}<br>\" for x in zip(\n",
    "                exp_elo_time_table[player],\n",
    "                prev_elo_time_table[player],\n",
    "                d_elo_time_table[player]\n",
    "            )\n",
    "        ],\n",
    "        line=dict(\n",
    "            shape='hv',\n",
    "            color=trace_colors[i % len(trace_colors)]\n",
    "        )\n",
    "    ))\n",
    "    ranking += 1\n",
    "\n",
    "# adding highlighting by tournament\n",
    "tournaments = list(sorted(set(matches_table['Date'])))\n",
    "vrect_colors = ['green', 'red', 'yellow', 'blue', 'orange']\n",
    "for (i, tourney) in enumerate(tournaments):\n",
    "    fig.add_vrect(\n",
    "        annotation_text=tourney,\n",
    "        annotation_position=\"top left\",\n",
    "        x0=matches_table['Date'][matches_table['Date'] == tourney].index[0] + 0.5,\n",
    "        x1=matches_table['Date'][matches_table['Date'] == tourney].index[-1] + 1.5,\n",
    "        fillcolor=vrect_colors[i % len(vrect_colors)],\n",
    "        opacity=0.1,\n",
    "        line_width=0\n",
    "    )\n",
    "\n",
    "fig.update_layout(\n",
    "    title=f'<b>Pokémon Showdown ELO Rating System by Roman Ramirez</b><br>{updated_time}<br>{link_fig1}, {link_fig2}, {link_fig3}, {link_fig4}',\n",
    "    xaxis_title='<b>Game Number</b>',\n",
    "    yaxis_title='<b>ELO Rating</b>'\n",
    ")\n",
    "\n",
    "customdata = np.stack((\n",
    "        list(matches_table['Player 1']),\n",
    "        list(matches_table['Player 2']),\n",
    "        list(matches_table['Score 1']),\n",
    "        list(matches_table['Score 2']),\n",
    "        matches_table['Date']\n",
    "    ), axis=-1)\n",
    "hovertemplate = (\n",
    "    '<i>%{customdata[4]|%A, %B %d, %Y}, Game %{x}</i><br>' +\n",
    "    '<b>%{fullData.name}</b><br><br>' + \n",
    "    '<b>%{customdata[0]} vs. %{customdata[1]}</b><br>' +\n",
    "    '<b>Final Score:</b> %{customdata[2]}-%{customdata[3]}<br>' + \n",
    "    '%{text}' + \n",
    "    '<b>Post-Game ELO:</b> %{y:,.0f}<br>' +\n",
    "    '<extra></extra>'\n",
    ")\n",
    "\n",
    "fig.update_traces(\n",
    "    customdata=customdata,\n",
    "    hovertemplate=hovertemplate,\n",
    "    opacity=0.8,\n",
    "    legendgrouptitle_text='<b>#<i>Rank</i> (<i>Current ELO</i>) <i>Player</i></b>'\n",
    ")\n",
    "\n",
    "fig.show()\n",
    "fig.write_html(\"index.html\")"
   ]
  },
  {
   "cell_type": "code",
   "execution_count": 8,
   "metadata": {},
   "outputs": [],
   "source": [
    "# historical table, with record_table\n",
    "win_pct_table = record_table.copy(deep=True)\n",
    "text_record_table = record_table.copy(deep=True)\n",
    "\n",
    "for c in win_pct_table.columns:\n",
    "    for r in win_pct_table.index:\n",
    "        if c == r:\n",
    "            win_pct_table.loc[r, c] = np.NaN\n",
    "            text_record_table.loc[r, c] = \"\"\n",
    "        else:\n",
    "            w, l = win_pct_table.loc[r, c]\n",
    "            w_pct = (w) / (w + l) if (w + l) != 0 else 0\n",
    "            win_pct_table.loc[r, c] = w_pct\n",
    "            text_record_table.loc[r, c] = f\"{w}-{l}<br>{w_pct:,.1%}\"\n",
    "\n",
    "win_prob_table = pd.DataFrame(np.zeros([len(set_players), len(set_players)]), dtype=object)\n",
    "win_prob_table.columns = set_players\n",
    "win_prob_table.index = set_players\n",
    "sort_index_by_elo(win_prob_table, elo)\n",
    "\n",
    "for c in win_prob_table.columns:\n",
    "    for r in win_prob_table.index:\n",
    "            if r != c:\n",
    "                win_prob_table.loc[r, c] = expected_score(elo[r], elo[c], base=base)\n",
    "            else:\n",
    "                win_prob_table.loc[r, c] = np.NaN\n"
   ]
  },
  {
   "cell_type": "code",
   "execution_count": 9,
   "metadata": {},
   "outputs": [
    {
     "data": {
      "application/vnd.plotly.v1+json": {
       "config": {
        "plotlyServerURL": "https://plot.ly"
       },
       "data": [
        {
         "colorscale": [
          [
           0,
           "rgb(5,48,97)"
          ],
          [
           0.1,
           "rgb(33,102,172)"
          ],
          [
           0.2,
           "rgb(67,147,195)"
          ],
          [
           0.3,
           "rgb(146,197,222)"
          ],
          [
           0.4,
           "rgb(209,229,240)"
          ],
          [
           0.5,
           "rgb(247,247,247)"
          ],
          [
           0.6,
           "rgb(253,219,199)"
          ],
          [
           0.7,
           "rgb(244,165,130)"
          ],
          [
           0.8,
           "rgb(214,96,77)"
          ],
          [
           0.9,
           "rgb(178,24,43)"
          ],
          [
           1,
           "rgb(103,0,31)"
          ]
         ],
         "hoverinfo": "skip",
         "hoverongaps": false,
         "text": [
          [
           "",
           "2-4<br>33.3%",
           "0-6<br>0.0%",
           "1-5<br>16.7%",
           "1-3<br>25.0%"
          ],
          [
           "4-2<br>66.7%",
           "",
           "6-3<br>66.7%",
           "1-5<br>16.7%",
           "1-3<br>25.0%"
          ],
          [
           "6-0<br>100.0%",
           "3-6<br>33.3%",
           "",
           "6-2<br>75.0%",
           "1-3<br>25.0%"
          ],
          [
           "5-1<br>83.3%",
           "5-1<br>83.3%",
           "2-6<br>25.0%",
           "",
           "2-5<br>28.6%"
          ],
          [
           "3-1<br>75.0%",
           "3-1<br>75.0%",
           "3-1<br>75.0%",
           "5-2<br>71.4%",
           ""
          ]
         ],
         "texttemplate": "%{text}",
         "type": "heatmap",
         "x": [
          "Paul<br>Bartenfeld",
          "Roman<br>Ramirez",
          "Will<br>Simpson",
          "Evan<br>Sooklal",
          "Aaron<br>Carter"
         ],
         "xaxis": "x",
         "y": [
          "Paul<br>Bartenfeld",
          "Roman<br>Ramirez",
          "Will<br>Simpson",
          "Evan<br>Sooklal",
          "Aaron<br>Carter"
         ],
         "yaxis": "y",
         "z": [
          [
           null,
           0.3333333333333333,
           0,
           0.16666666666666666,
           0.25
          ],
          [
           0.6666666666666666,
           null,
           0.6666666666666666,
           0.16666666666666666,
           0.25
          ],
          [
           1,
           0.3333333333333333,
           null,
           0.75,
           0.25
          ],
          [
           0.8333333333333334,
           0.8333333333333334,
           0.25,
           null,
           0.2857142857142857
          ],
          [
           0.75,
           0.75,
           0.75,
           0.7142857142857143,
           null
          ]
         ],
         "zmax": 1,
         "zmid": 0.5,
         "zmin": 0
        },
        {
         "colorscale": [
          [
           0,
           "rgb(5,48,97)"
          ],
          [
           0.1,
           "rgb(33,102,172)"
          ],
          [
           0.2,
           "rgb(67,147,195)"
          ],
          [
           0.3,
           "rgb(146,197,222)"
          ],
          [
           0.4,
           "rgb(209,229,240)"
          ],
          [
           0.5,
           "rgb(247,247,247)"
          ],
          [
           0.6,
           "rgb(253,219,199)"
          ],
          [
           0.7,
           "rgb(244,165,130)"
          ],
          [
           0.8,
           "rgb(214,96,77)"
          ],
          [
           0.9,
           "rgb(178,24,43)"
          ],
          [
           1,
           "rgb(103,0,31)"
          ]
         ],
         "hoverinfo": "skip",
         "hoverongaps": false,
         "text": [
          [
           "",
           "29.2%",
           "22.6%",
           "18.5%",
           "9.2%"
          ],
          [
           "70.8%",
           "",
           "41.4%",
           "35.6%",
           "19.8%"
          ],
          [
           "77.4%",
           "58.6%",
           "",
           "43.8%",
           "25.9%"
          ],
          [
           "81.5%",
           "64.4%",
           "56.2%",
           "",
           "30.9%"
          ],
          [
           "90.8%",
           "80.2%",
           "74.1%",
           "69.1%",
           ""
          ]
         ],
         "texttemplate": "%{text}",
         "type": "heatmap",
         "x": [
          "Paul<br>Bartenfeld",
          "Roman<br>Ramirez",
          "Will<br>Simpson",
          "Evan<br>Sooklal",
          "Aaron<br>Carter"
         ],
         "xaxis": "x2",
         "y": [
          "Paul<br>Bartenfeld",
          "Roman<br>Ramirez",
          "Will<br>Simpson",
          "Evan<br>Sooklal",
          "Aaron<br>Carter"
         ],
         "yaxis": "y2",
         "z": [
          [
           null,
           0.2916335937176495,
           0.22560602969747373,
           0.18529059603146217,
           0.09240896515177403
          ],
          [
           0.7083664062823505,
           null,
           0.41439467412997094,
           0.355845301205844,
           0.1982756532173018
          ],
          [
           0.7743939703025262,
           0.585605325870029,
           null,
           0.4384104667144473,
           0.258979501851072
          ],
          [
           0.8147094039685379,
           0.6441546987941559,
           0.5615895332855527,
           null,
           0.30924234945246465
          ],
          [
           0.9075910348482259,
           0.8017243467826981,
           0.741020498148928,
           0.6907576505475354,
           null
          ]
         ],
         "zmax": 1,
         "zmid": 0.5,
         "zmin": 0
        }
       ],
       "layout": {
        "annotations": [
         {
          "font": {
           "size": 16
          },
          "showarrow": false,
          "text": "<b>Historical Win Percentage</b>",
          "x": 0.225,
          "xanchor": "center",
          "xref": "paper",
          "y": 1,
          "yanchor": "bottom",
          "yref": "paper"
         },
         {
          "font": {
           "size": 16
          },
          "showarrow": false,
          "text": "<b>Current Matchup Predictor</b>",
          "x": 0.775,
          "xanchor": "center",
          "xref": "paper",
          "y": 1,
          "yanchor": "bottom",
          "yref": "paper"
         },
         {
          "font": {
           "size": 16
          },
          "showarrow": false,
          "text": "<a href='https://htmlpreview.github.io/?https://github.com/notromanramirez/dgn_showdown/blob/main/index.html'>ELO Graph</a>, <a href='https://htmlpreview.github.io/?https://github.com/notromanramirez/dgn_showdown/blob/main/figures/fig2.html'>H2H Advanced Stats</a>, <a href='https://htmlpreview.github.io/?https://github.com/notromanramirez/dgn_showdown/blob/main/figures/fig3.html'>H2H More Stats</a>",
          "x": 0.5,
          "xanchor": "center",
          "xref": "paper",
          "y": 0,
          "yanchor": "top",
          "yref": "paper",
          "yshift": -30
         }
        ],
        "template": {
         "data": {
          "bar": [
           {
            "error_x": {
             "color": "#2a3f5f"
            },
            "error_y": {
             "color": "#2a3f5f"
            },
            "marker": {
             "line": {
              "color": "#E5ECF6",
              "width": 0.5
             },
             "pattern": {
              "fillmode": "overlay",
              "size": 10,
              "solidity": 0.2
             }
            },
            "type": "bar"
           }
          ],
          "barpolar": [
           {
            "marker": {
             "line": {
              "color": "#E5ECF6",
              "width": 0.5
             },
             "pattern": {
              "fillmode": "overlay",
              "size": 10,
              "solidity": 0.2
             }
            },
            "type": "barpolar"
           }
          ],
          "carpet": [
           {
            "aaxis": {
             "endlinecolor": "#2a3f5f",
             "gridcolor": "white",
             "linecolor": "white",
             "minorgridcolor": "white",
             "startlinecolor": "#2a3f5f"
            },
            "baxis": {
             "endlinecolor": "#2a3f5f",
             "gridcolor": "white",
             "linecolor": "white",
             "minorgridcolor": "white",
             "startlinecolor": "#2a3f5f"
            },
            "type": "carpet"
           }
          ],
          "choropleth": [
           {
            "colorbar": {
             "outlinewidth": 0,
             "ticks": ""
            },
            "type": "choropleth"
           }
          ],
          "contour": [
           {
            "colorbar": {
             "outlinewidth": 0,
             "ticks": ""
            },
            "colorscale": [
             [
              0,
              "#0d0887"
             ],
             [
              0.1111111111111111,
              "#46039f"
             ],
             [
              0.2222222222222222,
              "#7201a8"
             ],
             [
              0.3333333333333333,
              "#9c179e"
             ],
             [
              0.4444444444444444,
              "#bd3786"
             ],
             [
              0.5555555555555556,
              "#d8576b"
             ],
             [
              0.6666666666666666,
              "#ed7953"
             ],
             [
              0.7777777777777778,
              "#fb9f3a"
             ],
             [
              0.8888888888888888,
              "#fdca26"
             ],
             [
              1,
              "#f0f921"
             ]
            ],
            "type": "contour"
           }
          ],
          "contourcarpet": [
           {
            "colorbar": {
             "outlinewidth": 0,
             "ticks": ""
            },
            "type": "contourcarpet"
           }
          ],
          "heatmap": [
           {
            "colorbar": {
             "outlinewidth": 0,
             "ticks": ""
            },
            "colorscale": [
             [
              0,
              "#0d0887"
             ],
             [
              0.1111111111111111,
              "#46039f"
             ],
             [
              0.2222222222222222,
              "#7201a8"
             ],
             [
              0.3333333333333333,
              "#9c179e"
             ],
             [
              0.4444444444444444,
              "#bd3786"
             ],
             [
              0.5555555555555556,
              "#d8576b"
             ],
             [
              0.6666666666666666,
              "#ed7953"
             ],
             [
              0.7777777777777778,
              "#fb9f3a"
             ],
             [
              0.8888888888888888,
              "#fdca26"
             ],
             [
              1,
              "#f0f921"
             ]
            ],
            "type": "heatmap"
           }
          ],
          "heatmapgl": [
           {
            "colorbar": {
             "outlinewidth": 0,
             "ticks": ""
            },
            "colorscale": [
             [
              0,
              "#0d0887"
             ],
             [
              0.1111111111111111,
              "#46039f"
             ],
             [
              0.2222222222222222,
              "#7201a8"
             ],
             [
              0.3333333333333333,
              "#9c179e"
             ],
             [
              0.4444444444444444,
              "#bd3786"
             ],
             [
              0.5555555555555556,
              "#d8576b"
             ],
             [
              0.6666666666666666,
              "#ed7953"
             ],
             [
              0.7777777777777778,
              "#fb9f3a"
             ],
             [
              0.8888888888888888,
              "#fdca26"
             ],
             [
              1,
              "#f0f921"
             ]
            ],
            "type": "heatmapgl"
           }
          ],
          "histogram": [
           {
            "marker": {
             "pattern": {
              "fillmode": "overlay",
              "size": 10,
              "solidity": 0.2
             }
            },
            "type": "histogram"
           }
          ],
          "histogram2d": [
           {
            "colorbar": {
             "outlinewidth": 0,
             "ticks": ""
            },
            "colorscale": [
             [
              0,
              "#0d0887"
             ],
             [
              0.1111111111111111,
              "#46039f"
             ],
             [
              0.2222222222222222,
              "#7201a8"
             ],
             [
              0.3333333333333333,
              "#9c179e"
             ],
             [
              0.4444444444444444,
              "#bd3786"
             ],
             [
              0.5555555555555556,
              "#d8576b"
             ],
             [
              0.6666666666666666,
              "#ed7953"
             ],
             [
              0.7777777777777778,
              "#fb9f3a"
             ],
             [
              0.8888888888888888,
              "#fdca26"
             ],
             [
              1,
              "#f0f921"
             ]
            ],
            "type": "histogram2d"
           }
          ],
          "histogram2dcontour": [
           {
            "colorbar": {
             "outlinewidth": 0,
             "ticks": ""
            },
            "colorscale": [
             [
              0,
              "#0d0887"
             ],
             [
              0.1111111111111111,
              "#46039f"
             ],
             [
              0.2222222222222222,
              "#7201a8"
             ],
             [
              0.3333333333333333,
              "#9c179e"
             ],
             [
              0.4444444444444444,
              "#bd3786"
             ],
             [
              0.5555555555555556,
              "#d8576b"
             ],
             [
              0.6666666666666666,
              "#ed7953"
             ],
             [
              0.7777777777777778,
              "#fb9f3a"
             ],
             [
              0.8888888888888888,
              "#fdca26"
             ],
             [
              1,
              "#f0f921"
             ]
            ],
            "type": "histogram2dcontour"
           }
          ],
          "mesh3d": [
           {
            "colorbar": {
             "outlinewidth": 0,
             "ticks": ""
            },
            "type": "mesh3d"
           }
          ],
          "parcoords": [
           {
            "line": {
             "colorbar": {
              "outlinewidth": 0,
              "ticks": ""
             }
            },
            "type": "parcoords"
           }
          ],
          "pie": [
           {
            "automargin": true,
            "type": "pie"
           }
          ],
          "scatter": [
           {
            "fillpattern": {
             "fillmode": "overlay",
             "size": 10,
             "solidity": 0.2
            },
            "type": "scatter"
           }
          ],
          "scatter3d": [
           {
            "line": {
             "colorbar": {
              "outlinewidth": 0,
              "ticks": ""
             }
            },
            "marker": {
             "colorbar": {
              "outlinewidth": 0,
              "ticks": ""
             }
            },
            "type": "scatter3d"
           }
          ],
          "scattercarpet": [
           {
            "marker": {
             "colorbar": {
              "outlinewidth": 0,
              "ticks": ""
             }
            },
            "type": "scattercarpet"
           }
          ],
          "scattergeo": [
           {
            "marker": {
             "colorbar": {
              "outlinewidth": 0,
              "ticks": ""
             }
            },
            "type": "scattergeo"
           }
          ],
          "scattergl": [
           {
            "marker": {
             "colorbar": {
              "outlinewidth": 0,
              "ticks": ""
             }
            },
            "type": "scattergl"
           }
          ],
          "scattermapbox": [
           {
            "marker": {
             "colorbar": {
              "outlinewidth": 0,
              "ticks": ""
             }
            },
            "type": "scattermapbox"
           }
          ],
          "scatterpolar": [
           {
            "marker": {
             "colorbar": {
              "outlinewidth": 0,
              "ticks": ""
             }
            },
            "type": "scatterpolar"
           }
          ],
          "scatterpolargl": [
           {
            "marker": {
             "colorbar": {
              "outlinewidth": 0,
              "ticks": ""
             }
            },
            "type": "scatterpolargl"
           }
          ],
          "scatterternary": [
           {
            "marker": {
             "colorbar": {
              "outlinewidth": 0,
              "ticks": ""
             }
            },
            "type": "scatterternary"
           }
          ],
          "surface": [
           {
            "colorbar": {
             "outlinewidth": 0,
             "ticks": ""
            },
            "colorscale": [
             [
              0,
              "#0d0887"
             ],
             [
              0.1111111111111111,
              "#46039f"
             ],
             [
              0.2222222222222222,
              "#7201a8"
             ],
             [
              0.3333333333333333,
              "#9c179e"
             ],
             [
              0.4444444444444444,
              "#bd3786"
             ],
             [
              0.5555555555555556,
              "#d8576b"
             ],
             [
              0.6666666666666666,
              "#ed7953"
             ],
             [
              0.7777777777777778,
              "#fb9f3a"
             ],
             [
              0.8888888888888888,
              "#fdca26"
             ],
             [
              1,
              "#f0f921"
             ]
            ],
            "type": "surface"
           }
          ],
          "table": [
           {
            "cells": {
             "fill": {
              "color": "#EBF0F8"
             },
             "line": {
              "color": "white"
             }
            },
            "header": {
             "fill": {
              "color": "#C8D4E3"
             },
             "line": {
              "color": "white"
             }
            },
            "type": "table"
           }
          ]
         },
         "layout": {
          "annotationdefaults": {
           "arrowcolor": "#2a3f5f",
           "arrowhead": 0,
           "arrowwidth": 1
          },
          "autotypenumbers": "strict",
          "coloraxis": {
           "colorbar": {
            "outlinewidth": 0,
            "ticks": ""
           }
          },
          "colorscale": {
           "diverging": [
            [
             0,
             "#8e0152"
            ],
            [
             0.1,
             "#c51b7d"
            ],
            [
             0.2,
             "#de77ae"
            ],
            [
             0.3,
             "#f1b6da"
            ],
            [
             0.4,
             "#fde0ef"
            ],
            [
             0.5,
             "#f7f7f7"
            ],
            [
             0.6,
             "#e6f5d0"
            ],
            [
             0.7,
             "#b8e186"
            ],
            [
             0.8,
             "#7fbc41"
            ],
            [
             0.9,
             "#4d9221"
            ],
            [
             1,
             "#276419"
            ]
           ],
           "sequential": [
            [
             0,
             "#0d0887"
            ],
            [
             0.1111111111111111,
             "#46039f"
            ],
            [
             0.2222222222222222,
             "#7201a8"
            ],
            [
             0.3333333333333333,
             "#9c179e"
            ],
            [
             0.4444444444444444,
             "#bd3786"
            ],
            [
             0.5555555555555556,
             "#d8576b"
            ],
            [
             0.6666666666666666,
             "#ed7953"
            ],
            [
             0.7777777777777778,
             "#fb9f3a"
            ],
            [
             0.8888888888888888,
             "#fdca26"
            ],
            [
             1,
             "#f0f921"
            ]
           ],
           "sequentialminus": [
            [
             0,
             "#0d0887"
            ],
            [
             0.1111111111111111,
             "#46039f"
            ],
            [
             0.2222222222222222,
             "#7201a8"
            ],
            [
             0.3333333333333333,
             "#9c179e"
            ],
            [
             0.4444444444444444,
             "#bd3786"
            ],
            [
             0.5555555555555556,
             "#d8576b"
            ],
            [
             0.6666666666666666,
             "#ed7953"
            ],
            [
             0.7777777777777778,
             "#fb9f3a"
            ],
            [
             0.8888888888888888,
             "#fdca26"
            ],
            [
             1,
             "#f0f921"
            ]
           ]
          },
          "colorway": [
           "#636efa",
           "#EF553B",
           "#00cc96",
           "#ab63fa",
           "#FFA15A",
           "#19d3f3",
           "#FF6692",
           "#B6E880",
           "#FF97FF",
           "#FECB52"
          ],
          "font": {
           "color": "#2a3f5f"
          },
          "geo": {
           "bgcolor": "white",
           "lakecolor": "white",
           "landcolor": "#E5ECF6",
           "showlakes": true,
           "showland": true,
           "subunitcolor": "white"
          },
          "hoverlabel": {
           "align": "left"
          },
          "hovermode": "closest",
          "mapbox": {
           "style": "light"
          },
          "paper_bgcolor": "white",
          "plot_bgcolor": "#E5ECF6",
          "polar": {
           "angularaxis": {
            "gridcolor": "white",
            "linecolor": "white",
            "ticks": ""
           },
           "bgcolor": "#E5ECF6",
           "radialaxis": {
            "gridcolor": "white",
            "linecolor": "white",
            "ticks": ""
           }
          },
          "scene": {
           "xaxis": {
            "backgroundcolor": "#E5ECF6",
            "gridcolor": "white",
            "gridwidth": 2,
            "linecolor": "white",
            "showbackground": true,
            "ticks": "",
            "zerolinecolor": "white"
           },
           "yaxis": {
            "backgroundcolor": "#E5ECF6",
            "gridcolor": "white",
            "gridwidth": 2,
            "linecolor": "white",
            "showbackground": true,
            "ticks": "",
            "zerolinecolor": "white"
           },
           "zaxis": {
            "backgroundcolor": "#E5ECF6",
            "gridcolor": "white",
            "gridwidth": 2,
            "linecolor": "white",
            "showbackground": true,
            "ticks": "",
            "zerolinecolor": "white"
           }
          },
          "shapedefaults": {
           "line": {
            "color": "#2a3f5f"
           }
          },
          "ternary": {
           "aaxis": {
            "gridcolor": "white",
            "linecolor": "white",
            "ticks": ""
           },
           "baxis": {
            "gridcolor": "white",
            "linecolor": "white",
            "ticks": ""
           },
           "bgcolor": "#E5ECF6",
           "caxis": {
            "gridcolor": "white",
            "linecolor": "white",
            "ticks": ""
           }
          },
          "title": {
           "x": 0.05
          },
          "xaxis": {
           "automargin": true,
           "gridcolor": "white",
           "linecolor": "white",
           "ticks": "",
           "title": {
            "standoff": 15
           },
           "zerolinecolor": "white",
           "zerolinewidth": 2
          },
          "yaxis": {
           "automargin": true,
           "gridcolor": "white",
           "linecolor": "white",
           "ticks": "",
           "title": {
            "standoff": 15
           },
           "zerolinecolor": "white",
           "zerolinewidth": 2
          }
         }
        },
        "title": {
         "text": "<b>Head-to-Head Statistics</b>, <i>Updated Tuesday, Dec 19, 2023 16:24:44 CT</i>"
        },
        "xaxis": {
         "anchor": "y",
         "domain": [
          0,
          0.45
         ],
         "title": {
          "text": "<b>Other</b>"
         }
        },
        "xaxis2": {
         "anchor": "y2",
         "domain": [
          0.55,
          1
         ],
         "title": {
          "text": "<b>Other</b>"
         }
        },
        "yaxis": {
         "anchor": "x",
         "domain": [
          0,
          1
         ],
         "title": {
          "text": "<b>Self</b>"
         }
        },
        "yaxis2": {
         "anchor": "x2",
         "domain": [
          0,
          1
         ],
         "title": {
          "text": "<b>Self</b>"
         }
        }
       }
      }
     },
     "metadata": {},
     "output_type": "display_data"
    }
   ],
   "source": [
    "fig1 = make_subplots(\n",
    "    rows=1, cols=2,\n",
    "    subplot_titles=[f\"<b>{x}</b>\" for x in [\"Historical Win Percentage\", \"Current Matchup Predictor\"]],\n",
    "    x_title=f\"{link_fig}, {link_fig2}, {link_fig3}\"\n",
    ")\n",
    "\n",
    "go_win_pct = go.Heatmap(\n",
    "    x=[x.replace(\" \", \"<br>\") for x in win_prob_table.columns],\n",
    "    y=[x.replace(\" \", \"<br>\") for x in win_prob_table.index],\n",
    "    z=win_pct_table,\n",
    "    zmax=1,\n",
    "    zmid=0.5,\n",
    "    zmin=0,\n",
    "    text=text_record_table,\n",
    "    texttemplate=\"%{text}\",\n",
    "    colorscale=diverging.RdBu_r,\n",
    "    hoverongaps=False\n",
    ")\n",
    "\n",
    "go_win_prob = go.Heatmap(\n",
    "    x=[x.replace(\" \", \"<br>\") for x in win_prob_table.columns],\n",
    "    y=[x.replace(\" \", \"<br>\") for x in win_prob_table.index],\n",
    "    z=win_prob_table,\n",
    "    zmax=1,\n",
    "    zmid=0.5,\n",
    "    zmin=0,\n",
    "    text=win_prob_table.applymap(lambda x: \"\" if np.isnan(x) else f\"{x:.1%}\"),\n",
    "    texttemplate=\"%{text}\",\n",
    "    colorscale=diverging.RdBu_r,\n",
    "    hoverongaps=False\n",
    ")\n",
    "\n",
    "fig1.add_trace(go_win_pct, row=1, col=1)\n",
    "fig1.add_trace(go_win_prob, row=1, col=2)\n",
    "\n",
    "fig1.layout.yaxis1.title=\"<b>Self</b>\"\n",
    "fig1.layout.yaxis2.title=\"<b>Self</b>\"\n",
    "fig1.layout.xaxis1.title=\"<b>Other</b>\"\n",
    "fig1.layout.xaxis2.title=\"<b>Other</b>\"\n",
    "\n",
    "fig1.update_traces(hoverinfo='skip')\n",
    "\n",
    "fig1.update_layout(\n",
    "    title=f\"<b>Head-to-Head Statistics</b>, {updated_time}\"\n",
    ")\n",
    "\n",
    "fig1.show()\n",
    "fig1.write_html('figures/fig1.html')"
   ]
  },
  {
   "cell_type": "code",
   "execution_count": 24,
   "metadata": {},
   "outputs": [
    {
     "data": {
      "application/vnd.plotly.v1+json": {
       "config": {
        "plotlyServerURL": "https://plot.ly"
       },
       "data": [
        {
         "colorscale": [
          [
           0,
           "rgb(5,48,97)"
          ],
          [
           0.1,
           "rgb(33,102,172)"
          ],
          [
           0.2,
           "rgb(67,147,195)"
          ],
          [
           0.3,
           "rgb(146,197,222)"
          ],
          [
           0.4,
           "rgb(209,229,240)"
          ],
          [
           0.5,
           "rgb(247,247,247)"
          ],
          [
           0.6,
           "rgb(253,219,199)"
          ],
          [
           0.7,
           "rgb(244,165,130)"
          ],
          [
           0.8,
           "rgb(214,96,77)"
          ],
          [
           0.9,
           "rgb(178,24,43)"
          ],
          [
           1,
           "rgb(103,0,31)"
          ]
         ],
         "hoverinfo": "skip",
         "hoverongaps": false,
         "text": [
          [
           "",
           "21-31<br>40.4%",
           "16-36<br>30.8%",
           "24-35<br>40.7%",
           "15-21<br>41.7%"
          ],
          [
           "31-21<br>59.6%",
           "",
           "47-38<br>55.3%",
           "24-33<br>42.1%",
           "18-18<br>50.0%"
          ],
          [
           "36-16<br>69.2%",
           "38-47<br>44.7%",
           "",
           "43-26<br>62.3%",
           "14-22<br>38.9%"
          ],
          [
           "35-24<br>59.3%",
           "33-24<br>57.9%",
           "26-43<br>37.7%",
           "",
           "26-39<br>40.0%"
          ],
          [
           "21-15<br>58.3%",
           "18-18<br>50.0%",
           "22-14<br>61.1%",
           "39-26<br>60.0%",
           ""
          ]
         ],
         "texttemplate": "%{text}",
         "type": "heatmap",
         "x": [
          "Paul<br>Bartenfeld",
          "Roman<br>Ramirez",
          "Will<br>Simpson",
          "Evan<br>Sooklal",
          "Aaron<br>Carter"
         ],
         "xaxis": "x",
         "y": [
          "Paul<br>Bartenfeld",
          "Roman<br>Ramirez",
          "Will<br>Simpson",
          "Evan<br>Sooklal",
          "Aaron<br>Carter"
         ],
         "yaxis": "y",
         "z": [
          [
           null,
           0.40384615384615385,
           0.3076923076923077,
           0.4067796610169492,
           0.4166666666666667
          ],
          [
           0.5961538461538461,
           null,
           0.5529411764705883,
           0.42105263157894735,
           0.5
          ],
          [
           0.6923076923076923,
           0.4470588235294118,
           null,
           0.6231884057971014,
           0.3888888888888889
          ],
          [
           0.5932203389830508,
           0.5789473684210527,
           0.37681159420289856,
           null,
           0.4
          ],
          [
           0.5833333333333334,
           0.5,
           0.6111111111111112,
           0.6,
           null
          ]
         ],
         "zmax": 1,
         "zmid": 0.5,
         "zmin": 0
        },
        {
         "colorscale": [
          [
           0,
           "rgb(5,48,97)"
          ],
          [
           0.1,
           "rgb(33,102,172)"
          ],
          [
           0.2,
           "rgb(67,147,195)"
          ],
          [
           0.3,
           "rgb(146,197,222)"
          ],
          [
           0.4,
           "rgb(209,229,240)"
          ],
          [
           0.5,
           "rgb(247,247,247)"
          ],
          [
           0.6,
           "rgb(253,219,199)"
          ],
          [
           0.7,
           "rgb(244,165,130)"
          ],
          [
           0.8,
           "rgb(214,96,77)"
          ],
          [
           0.9,
           "rgb(178,24,43)"
          ],
          [
           1,
           "rgb(103,0,31)"
          ]
         ],
         "hoverinfo": "skip",
         "hoverongaps": false,
         "text": [
          [
           "1-2<br>33.3%",
           "1-5<br>16.7%",
           "2-4<br>33.3%",
           "0-3<br>0.0%",
           "0-4<br>0.0%",
           ""
          ],
          [
           "0-4<br>0.0%",
           "4-4<br>50.0%",
           "3-2<br>60.0%",
           "3-3<br>50.0%",
           "1-0<br>100.0%",
           "1-0<br>100.0%"
          ],
          [
           "2-1<br>66.7%",
           "5-4<br>55.6%",
           "0-4<br>0.0%",
           "6-1<br>85.7%",
           "3-0<br>100.0%",
           "0-1<br>0.0%"
          ],
          [
           "5-3<br>62.5%",
           "4-0<br>100.0%",
           "2-2<br>50.0%",
           "2-7<br>22.2%",
           "1-1<br>50.0%",
           ""
          ],
          [
           "3-1<br>75.0%",
           "1-2<br>33.3%",
           "6-1<br>85.7%",
           "3-0<br>100.0%",
           "",
           "1-1<br>50.0%"
          ]
         ],
         "texttemplate": "%{text}",
         "type": "heatmap",
         "x": [
          "1-PT<br>Games",
          "2-PT<br>Games",
          "3-PT<br>Games",
          "4-PT<br>Games",
          "5-PT<br>Games",
          "6-PT<br>Games"
         ],
         "xaxis": "x2",
         "y": [
          "Paul<br>Bartenfeld",
          "Roman<br>Ramirez",
          "Will<br>Simpson",
          "Evan<br>Sooklal",
          "Aaron<br>Carter"
         ],
         "yaxis": "y2",
         "z": [
          [
           0.3333333333333333,
           0.16666666666666666,
           0.3333333333333333,
           0,
           0,
           null
          ],
          [
           0,
           0.5,
           0.6,
           0.5,
           1,
           1
          ],
          [
           0.6666666666666666,
           0.5555555555555556,
           0,
           0.8571428571428571,
           1,
           0
          ],
          [
           0.625,
           1,
           0.5,
           0.2222222222222222,
           0.5,
           null
          ],
          [
           0.75,
           0.3333333333333333,
           0.8571428571428571,
           1,
           null,
           0.5
          ]
         ],
         "zmax": 1,
         "zmid": 0.5,
         "zmin": 0
        }
       ],
       "layout": {
        "annotations": [
         {
          "font": {
           "size": 16
          },
          "showarrow": false,
          "text": "<b>Head-to-Head Plus Minus</b>",
          "x": 0.225,
          "xanchor": "center",
          "xref": "paper",
          "y": 1,
          "yanchor": "bottom",
          "yref": "paper"
         },
         {
          "font": {
           "size": 16
          },
          "showarrow": false,
          "text": "<b>N-Game Historical Record</b>",
          "x": 0.775,
          "xanchor": "center",
          "xref": "paper",
          "y": 1,
          "yanchor": "bottom",
          "yref": "paper"
         },
         {
          "font": {
           "size": 16
          },
          "showarrow": false,
          "text": "<br><a href='https://htmlpreview.github.io/?https://github.com/notromanramirez/dgn_showdown/blob/main/index.html'>ELO Graph</a>, <a href='https://htmlpreview.github.io/?https://github.com/notromanramirez/dgn_showdown/blob/main/figures/fig1.html'>H2H Stats</a>, <a href='https://htmlpreview.github.io/?https://github.com/notromanramirez/dgn_showdown/blob/main/figures/fig2.html'>H2H Advanced Stats</a>",
          "x": 0.5,
          "xanchor": "center",
          "xref": "paper",
          "y": 0,
          "yanchor": "top",
          "yref": "paper",
          "yshift": -30
         }
        ],
        "template": {
         "data": {
          "bar": [
           {
            "error_x": {
             "color": "#2a3f5f"
            },
            "error_y": {
             "color": "#2a3f5f"
            },
            "marker": {
             "line": {
              "color": "#E5ECF6",
              "width": 0.5
             },
             "pattern": {
              "fillmode": "overlay",
              "size": 10,
              "solidity": 0.2
             }
            },
            "type": "bar"
           }
          ],
          "barpolar": [
           {
            "marker": {
             "line": {
              "color": "#E5ECF6",
              "width": 0.5
             },
             "pattern": {
              "fillmode": "overlay",
              "size": 10,
              "solidity": 0.2
             }
            },
            "type": "barpolar"
           }
          ],
          "carpet": [
           {
            "aaxis": {
             "endlinecolor": "#2a3f5f",
             "gridcolor": "white",
             "linecolor": "white",
             "minorgridcolor": "white",
             "startlinecolor": "#2a3f5f"
            },
            "baxis": {
             "endlinecolor": "#2a3f5f",
             "gridcolor": "white",
             "linecolor": "white",
             "minorgridcolor": "white",
             "startlinecolor": "#2a3f5f"
            },
            "type": "carpet"
           }
          ],
          "choropleth": [
           {
            "colorbar": {
             "outlinewidth": 0,
             "ticks": ""
            },
            "type": "choropleth"
           }
          ],
          "contour": [
           {
            "colorbar": {
             "outlinewidth": 0,
             "ticks": ""
            },
            "colorscale": [
             [
              0,
              "#0d0887"
             ],
             [
              0.1111111111111111,
              "#46039f"
             ],
             [
              0.2222222222222222,
              "#7201a8"
             ],
             [
              0.3333333333333333,
              "#9c179e"
             ],
             [
              0.4444444444444444,
              "#bd3786"
             ],
             [
              0.5555555555555556,
              "#d8576b"
             ],
             [
              0.6666666666666666,
              "#ed7953"
             ],
             [
              0.7777777777777778,
              "#fb9f3a"
             ],
             [
              0.8888888888888888,
              "#fdca26"
             ],
             [
              1,
              "#f0f921"
             ]
            ],
            "type": "contour"
           }
          ],
          "contourcarpet": [
           {
            "colorbar": {
             "outlinewidth": 0,
             "ticks": ""
            },
            "type": "contourcarpet"
           }
          ],
          "heatmap": [
           {
            "colorbar": {
             "outlinewidth": 0,
             "ticks": ""
            },
            "colorscale": [
             [
              0,
              "#0d0887"
             ],
             [
              0.1111111111111111,
              "#46039f"
             ],
             [
              0.2222222222222222,
              "#7201a8"
             ],
             [
              0.3333333333333333,
              "#9c179e"
             ],
             [
              0.4444444444444444,
              "#bd3786"
             ],
             [
              0.5555555555555556,
              "#d8576b"
             ],
             [
              0.6666666666666666,
              "#ed7953"
             ],
             [
              0.7777777777777778,
              "#fb9f3a"
             ],
             [
              0.8888888888888888,
              "#fdca26"
             ],
             [
              1,
              "#f0f921"
             ]
            ],
            "type": "heatmap"
           }
          ],
          "heatmapgl": [
           {
            "colorbar": {
             "outlinewidth": 0,
             "ticks": ""
            },
            "colorscale": [
             [
              0,
              "#0d0887"
             ],
             [
              0.1111111111111111,
              "#46039f"
             ],
             [
              0.2222222222222222,
              "#7201a8"
             ],
             [
              0.3333333333333333,
              "#9c179e"
             ],
             [
              0.4444444444444444,
              "#bd3786"
             ],
             [
              0.5555555555555556,
              "#d8576b"
             ],
             [
              0.6666666666666666,
              "#ed7953"
             ],
             [
              0.7777777777777778,
              "#fb9f3a"
             ],
             [
              0.8888888888888888,
              "#fdca26"
             ],
             [
              1,
              "#f0f921"
             ]
            ],
            "type": "heatmapgl"
           }
          ],
          "histogram": [
           {
            "marker": {
             "pattern": {
              "fillmode": "overlay",
              "size": 10,
              "solidity": 0.2
             }
            },
            "type": "histogram"
           }
          ],
          "histogram2d": [
           {
            "colorbar": {
             "outlinewidth": 0,
             "ticks": ""
            },
            "colorscale": [
             [
              0,
              "#0d0887"
             ],
             [
              0.1111111111111111,
              "#46039f"
             ],
             [
              0.2222222222222222,
              "#7201a8"
             ],
             [
              0.3333333333333333,
              "#9c179e"
             ],
             [
              0.4444444444444444,
              "#bd3786"
             ],
             [
              0.5555555555555556,
              "#d8576b"
             ],
             [
              0.6666666666666666,
              "#ed7953"
             ],
             [
              0.7777777777777778,
              "#fb9f3a"
             ],
             [
              0.8888888888888888,
              "#fdca26"
             ],
             [
              1,
              "#f0f921"
             ]
            ],
            "type": "histogram2d"
           }
          ],
          "histogram2dcontour": [
           {
            "colorbar": {
             "outlinewidth": 0,
             "ticks": ""
            },
            "colorscale": [
             [
              0,
              "#0d0887"
             ],
             [
              0.1111111111111111,
              "#46039f"
             ],
             [
              0.2222222222222222,
              "#7201a8"
             ],
             [
              0.3333333333333333,
              "#9c179e"
             ],
             [
              0.4444444444444444,
              "#bd3786"
             ],
             [
              0.5555555555555556,
              "#d8576b"
             ],
             [
              0.6666666666666666,
              "#ed7953"
             ],
             [
              0.7777777777777778,
              "#fb9f3a"
             ],
             [
              0.8888888888888888,
              "#fdca26"
             ],
             [
              1,
              "#f0f921"
             ]
            ],
            "type": "histogram2dcontour"
           }
          ],
          "mesh3d": [
           {
            "colorbar": {
             "outlinewidth": 0,
             "ticks": ""
            },
            "type": "mesh3d"
           }
          ],
          "parcoords": [
           {
            "line": {
             "colorbar": {
              "outlinewidth": 0,
              "ticks": ""
             }
            },
            "type": "parcoords"
           }
          ],
          "pie": [
           {
            "automargin": true,
            "type": "pie"
           }
          ],
          "scatter": [
           {
            "fillpattern": {
             "fillmode": "overlay",
             "size": 10,
             "solidity": 0.2
            },
            "type": "scatter"
           }
          ],
          "scatter3d": [
           {
            "line": {
             "colorbar": {
              "outlinewidth": 0,
              "ticks": ""
             }
            },
            "marker": {
             "colorbar": {
              "outlinewidth": 0,
              "ticks": ""
             }
            },
            "type": "scatter3d"
           }
          ],
          "scattercarpet": [
           {
            "marker": {
             "colorbar": {
              "outlinewidth": 0,
              "ticks": ""
             }
            },
            "type": "scattercarpet"
           }
          ],
          "scattergeo": [
           {
            "marker": {
             "colorbar": {
              "outlinewidth": 0,
              "ticks": ""
             }
            },
            "type": "scattergeo"
           }
          ],
          "scattergl": [
           {
            "marker": {
             "colorbar": {
              "outlinewidth": 0,
              "ticks": ""
             }
            },
            "type": "scattergl"
           }
          ],
          "scattermapbox": [
           {
            "marker": {
             "colorbar": {
              "outlinewidth": 0,
              "ticks": ""
             }
            },
            "type": "scattermapbox"
           }
          ],
          "scatterpolar": [
           {
            "marker": {
             "colorbar": {
              "outlinewidth": 0,
              "ticks": ""
             }
            },
            "type": "scatterpolar"
           }
          ],
          "scatterpolargl": [
           {
            "marker": {
             "colorbar": {
              "outlinewidth": 0,
              "ticks": ""
             }
            },
            "type": "scatterpolargl"
           }
          ],
          "scatterternary": [
           {
            "marker": {
             "colorbar": {
              "outlinewidth": 0,
              "ticks": ""
             }
            },
            "type": "scatterternary"
           }
          ],
          "surface": [
           {
            "colorbar": {
             "outlinewidth": 0,
             "ticks": ""
            },
            "colorscale": [
             [
              0,
              "#0d0887"
             ],
             [
              0.1111111111111111,
              "#46039f"
             ],
             [
              0.2222222222222222,
              "#7201a8"
             ],
             [
              0.3333333333333333,
              "#9c179e"
             ],
             [
              0.4444444444444444,
              "#bd3786"
             ],
             [
              0.5555555555555556,
              "#d8576b"
             ],
             [
              0.6666666666666666,
              "#ed7953"
             ],
             [
              0.7777777777777778,
              "#fb9f3a"
             ],
             [
              0.8888888888888888,
              "#fdca26"
             ],
             [
              1,
              "#f0f921"
             ]
            ],
            "type": "surface"
           }
          ],
          "table": [
           {
            "cells": {
             "fill": {
              "color": "#EBF0F8"
             },
             "line": {
              "color": "white"
             }
            },
            "header": {
             "fill": {
              "color": "#C8D4E3"
             },
             "line": {
              "color": "white"
             }
            },
            "type": "table"
           }
          ]
         },
         "layout": {
          "annotationdefaults": {
           "arrowcolor": "#2a3f5f",
           "arrowhead": 0,
           "arrowwidth": 1
          },
          "autotypenumbers": "strict",
          "coloraxis": {
           "colorbar": {
            "outlinewidth": 0,
            "ticks": ""
           }
          },
          "colorscale": {
           "diverging": [
            [
             0,
             "#8e0152"
            ],
            [
             0.1,
             "#c51b7d"
            ],
            [
             0.2,
             "#de77ae"
            ],
            [
             0.3,
             "#f1b6da"
            ],
            [
             0.4,
             "#fde0ef"
            ],
            [
             0.5,
             "#f7f7f7"
            ],
            [
             0.6,
             "#e6f5d0"
            ],
            [
             0.7,
             "#b8e186"
            ],
            [
             0.8,
             "#7fbc41"
            ],
            [
             0.9,
             "#4d9221"
            ],
            [
             1,
             "#276419"
            ]
           ],
           "sequential": [
            [
             0,
             "#0d0887"
            ],
            [
             0.1111111111111111,
             "#46039f"
            ],
            [
             0.2222222222222222,
             "#7201a8"
            ],
            [
             0.3333333333333333,
             "#9c179e"
            ],
            [
             0.4444444444444444,
             "#bd3786"
            ],
            [
             0.5555555555555556,
             "#d8576b"
            ],
            [
             0.6666666666666666,
             "#ed7953"
            ],
            [
             0.7777777777777778,
             "#fb9f3a"
            ],
            [
             0.8888888888888888,
             "#fdca26"
            ],
            [
             1,
             "#f0f921"
            ]
           ],
           "sequentialminus": [
            [
             0,
             "#0d0887"
            ],
            [
             0.1111111111111111,
             "#46039f"
            ],
            [
             0.2222222222222222,
             "#7201a8"
            ],
            [
             0.3333333333333333,
             "#9c179e"
            ],
            [
             0.4444444444444444,
             "#bd3786"
            ],
            [
             0.5555555555555556,
             "#d8576b"
            ],
            [
             0.6666666666666666,
             "#ed7953"
            ],
            [
             0.7777777777777778,
             "#fb9f3a"
            ],
            [
             0.8888888888888888,
             "#fdca26"
            ],
            [
             1,
             "#f0f921"
            ]
           ]
          },
          "colorway": [
           "#636efa",
           "#EF553B",
           "#00cc96",
           "#ab63fa",
           "#FFA15A",
           "#19d3f3",
           "#FF6692",
           "#B6E880",
           "#FF97FF",
           "#FECB52"
          ],
          "font": {
           "color": "#2a3f5f"
          },
          "geo": {
           "bgcolor": "white",
           "lakecolor": "white",
           "landcolor": "#E5ECF6",
           "showlakes": true,
           "showland": true,
           "subunitcolor": "white"
          },
          "hoverlabel": {
           "align": "left"
          },
          "hovermode": "closest",
          "mapbox": {
           "style": "light"
          },
          "paper_bgcolor": "white",
          "plot_bgcolor": "#E5ECF6",
          "polar": {
           "angularaxis": {
            "gridcolor": "white",
            "linecolor": "white",
            "ticks": ""
           },
           "bgcolor": "#E5ECF6",
           "radialaxis": {
            "gridcolor": "white",
            "linecolor": "white",
            "ticks": ""
           }
          },
          "scene": {
           "xaxis": {
            "backgroundcolor": "#E5ECF6",
            "gridcolor": "white",
            "gridwidth": 2,
            "linecolor": "white",
            "showbackground": true,
            "ticks": "",
            "zerolinecolor": "white"
           },
           "yaxis": {
            "backgroundcolor": "#E5ECF6",
            "gridcolor": "white",
            "gridwidth": 2,
            "linecolor": "white",
            "showbackground": true,
            "ticks": "",
            "zerolinecolor": "white"
           },
           "zaxis": {
            "backgroundcolor": "#E5ECF6",
            "gridcolor": "white",
            "gridwidth": 2,
            "linecolor": "white",
            "showbackground": true,
            "ticks": "",
            "zerolinecolor": "white"
           }
          },
          "shapedefaults": {
           "line": {
            "color": "#2a3f5f"
           }
          },
          "ternary": {
           "aaxis": {
            "gridcolor": "white",
            "linecolor": "white",
            "ticks": ""
           },
           "baxis": {
            "gridcolor": "white",
            "linecolor": "white",
            "ticks": ""
           },
           "bgcolor": "#E5ECF6",
           "caxis": {
            "gridcolor": "white",
            "linecolor": "white",
            "ticks": ""
           }
          },
          "title": {
           "x": 0.05
          },
          "xaxis": {
           "automargin": true,
           "gridcolor": "white",
           "linecolor": "white",
           "ticks": "",
           "title": {
            "standoff": 15
           },
           "zerolinecolor": "white",
           "zerolinewidth": 2
          },
          "yaxis": {
           "automargin": true,
           "gridcolor": "white",
           "linecolor": "white",
           "ticks": "",
           "title": {
            "standoff": 15
           },
           "zerolinecolor": "white",
           "zerolinewidth": 2
          }
         }
        },
        "title": {
         "text": "<b>Head-to-Head Statistics</b>, <i>Updated Tuesday, Dec 19, 2023 16:24:44 CT</i>"
        },
        "xaxis": {
         "anchor": "y",
         "domain": [
          0,
          0.45
         ],
         "title": {
          "text": "<b>Other</b>"
         }
        },
        "xaxis2": {
         "anchor": "y2",
         "domain": [
          0.55,
          1
         ],
         "title": {
          "text": "<b>Other</b>"
         }
        },
        "yaxis": {
         "anchor": "x",
         "domain": [
          0,
          1
         ],
         "title": {
          "text": "<b>Self</b>"
         }
        },
        "yaxis2": {
         "anchor": "x2",
         "domain": [
          0,
          1
         ],
         "title": {
          "text": "<b>Self</b>"
         }
        }
       }
      }
     },
     "metadata": {},
     "output_type": "display_data"
    }
   ],
   "source": [
    "fig3 = make_subplots(\n",
    "    rows=1, cols=2,\n",
    "    subplot_titles=[f\"<b>{x}</b>\" for x in [\"Head-to-Head Plus Minus\", \"N-Game Historical Record\"]],\n",
    "    x_title=f\"<br>{link_fig}, {link_fig1}, {link_fig2}\"\n",
    ")\n",
    "\n",
    "text_npg_table = npg_table.copy(deep=True)\n",
    "\n",
    "for c in npg_table.columns:\n",
    "    for r in npg_table.index:\n",
    "        if c == r:\n",
    "            text_npg_table.loc[r, c] = \"\"\n",
    "        else:\n",
    "            w, l = npg_table.loc[r, c]\n",
    "            if (w + l) == 0:\n",
    "                text_npg_table.loc[r, c] = \"\"\n",
    "            else:\n",
    "                w_pct = (w) / (w + l) if (w + l) != 0 else 0\n",
    "                text_npg_table.loc[r, c] = f\"{w}-{l}<br>{w_pct:,.1%}\"\n",
    "\n",
    "def calc_win_pct(wl):\n",
    "    if sum(wl) == 0:\n",
    "        return np.NaN\n",
    "    else:\n",
    "        return (wl[0]) / (sum(wl))\n",
    "\n",
    "go_ng = go.Heatmap(\n",
    "    x=[x.replace(\" \", \"<br>\")+\"ames\" for x in npg_table.columns],\n",
    "    y=[x.replace(\" \", \"<br>\") for x in npg_table.index],\n",
    "    z=npg_table.applymap(calc_win_pct),\n",
    "    zmax=1,\n",
    "    zmid=0.5,\n",
    "    zmin=0,\n",
    "    text=text_npg_table,\n",
    "    texttemplate=\"%{text}\",\n",
    "    colorscale=diverging.RdBu_r,\n",
    "    hoverongaps=False\n",
    ")\n",
    "\n",
    "text_plus_minus_table = plus_minus_table.copy(deep=True)\n",
    "\n",
    "for c in plus_minus_table.columns:\n",
    "    for r in plus_minus_table.index:\n",
    "        if c == r:\n",
    "            text_plus_minus_table.loc[r, c] = \"\"\n",
    "        else:\n",
    "            w, l = plus_minus_table.loc[r, c]\n",
    "            if (w + l) == 0:\n",
    "                text_plus_minus_table.loc[r, c] = \"\"\n",
    "            else:\n",
    "                w_pct = (w) / (w + l) if (w + l) != 0 else 0\n",
    "                text_plus_minus_table.loc[r, c] = f\"{w}-{l}<br>{w_pct:,.1%}\"\n",
    "\n",
    "go_pm = go.Heatmap(\n",
    "    x=[x.replace(\" \", \"<br>\") for x in plus_minus_table.columns],\n",
    "    y=[x.replace(\" \", \"<br>\") for x in plus_minus_table.index],\n",
    "    z=plus_minus_table.applymap(calc_win_pct),\n",
    "    zmax=1,\n",
    "    zmid=0.5,\n",
    "    zmin=0,\n",
    "    text=text_plus_minus_table,\n",
    "    texttemplate=\"%{text}\",\n",
    "    colorscale=diverging.RdBu_r,\n",
    "    hoverongaps=False\n",
    ")\n",
    "\n",
    "fig3.add_trace(go_pm, row=1, col=1)\n",
    "fig3.add_trace(go_ng, row=1, col=2)\n",
    "\n",
    "fig3.layout.yaxis1.title=\"<b>Self</b>\"\n",
    "fig3.layout.yaxis2.title=\"<b>Self</b>\"\n",
    "fig3.layout.xaxis1.title=\"<b>Other</b>\"\n",
    "fig3.layout.xaxis2.title=\"<b>Other</b>\"\n",
    "\n",
    "fig3.update_traces(\n",
    "    hoverinfo='skip'\n",
    ")\n",
    "\n",
    "fig3.update_layout(\n",
    "    title=f\"<b>Head-to-Head Statistics</b>, {updated_time}\"\n",
    ")\n",
    "\n",
    "fig3.show()\n",
    "fig3.write_html('figures/fig3.html')"
   ]
  },
  {
   "cell_type": "code",
   "execution_count": 21,
   "metadata": {},
   "outputs": [
    {
     "data": {
      "text/html": [
       "<div>\n",
       "<style scoped>\n",
       "    .dataframe tbody tr th:only-of-type {\n",
       "        vertical-align: middle;\n",
       "    }\n",
       "\n",
       "    .dataframe tbody tr th {\n",
       "        vertical-align: top;\n",
       "    }\n",
       "\n",
       "    .dataframe thead th {\n",
       "        text-align: right;\n",
       "    }\n",
       "</style>\n",
       "<table border=\"1\" class=\"dataframe\">\n",
       "  <thead>\n",
       "    <tr style=\"text-align: right;\">\n",
       "      <th></th>\n",
       "      <th>Paul Bartenfeld</th>\n",
       "      <th>Roman Ramirez</th>\n",
       "      <th>Will Simpson</th>\n",
       "      <th>Evan Sooklal</th>\n",
       "      <th>Aaron Carter</th>\n",
       "    </tr>\n",
       "  </thead>\n",
       "  <tbody>\n",
       "    <tr>\n",
       "      <th>Paul Bartenfeld</th>\n",
       "      <td>0.000000</td>\n",
       "      <td>-0.192308</td>\n",
       "      <td>-0.384615</td>\n",
       "      <td>-0.186441</td>\n",
       "      <td>-0.166667</td>\n",
       "    </tr>\n",
       "    <tr>\n",
       "      <th>Roman Ramirez</th>\n",
       "      <td>0.192308</td>\n",
       "      <td>0.000000</td>\n",
       "      <td>0.105882</td>\n",
       "      <td>-0.157895</td>\n",
       "      <td>0.000000</td>\n",
       "    </tr>\n",
       "    <tr>\n",
       "      <th>Will Simpson</th>\n",
       "      <td>0.384615</td>\n",
       "      <td>-0.105882</td>\n",
       "      <td>0.000000</td>\n",
       "      <td>0.246377</td>\n",
       "      <td>-0.222222</td>\n",
       "    </tr>\n",
       "    <tr>\n",
       "      <th>Evan Sooklal</th>\n",
       "      <td>0.186441</td>\n",
       "      <td>0.157895</td>\n",
       "      <td>-0.246377</td>\n",
       "      <td>0.000000</td>\n",
       "      <td>-0.200000</td>\n",
       "    </tr>\n",
       "    <tr>\n",
       "      <th>Aaron Carter</th>\n",
       "      <td>0.166667</td>\n",
       "      <td>0.000000</td>\n",
       "      <td>0.222222</td>\n",
       "      <td>0.200000</td>\n",
       "      <td>0.000000</td>\n",
       "    </tr>\n",
       "  </tbody>\n",
       "</table>\n",
       "</div>"
      ],
      "text/plain": [
       "                 Paul Bartenfeld  Roman Ramirez  Will Simpson  Evan Sooklal  \\\n",
       "Paul Bartenfeld         0.000000      -0.192308     -0.384615     -0.186441   \n",
       "Roman Ramirez           0.192308       0.000000      0.105882     -0.157895   \n",
       "Will Simpson            0.384615      -0.105882      0.000000      0.246377   \n",
       "Evan Sooklal            0.186441       0.157895     -0.246377      0.000000   \n",
       "Aaron Carter            0.166667       0.000000      0.222222      0.200000   \n",
       "\n",
       "                 Aaron Carter  \n",
       "Paul Bartenfeld     -0.166667  \n",
       "Roman Ramirez        0.000000  \n",
       "Will Simpson        -0.222222  \n",
       "Evan Sooklal        -0.200000  \n",
       "Aaron Carter         0.000000  "
      ]
     },
     "execution_count": 21,
     "metadata": {},
     "output_type": "execute_result"
    }
   ],
   "source": [
    "plus_minus_table.applymap(calc_win_pct)"
   ]
  },
  {
   "cell_type": "code",
   "execution_count": 11,
   "metadata": {},
   "outputs": [
    {
     "data": {
      "application/vnd.plotly.v1+json": {
       "config": {
        "plotlyServerURL": "https://plot.ly"
       },
       "data": [
        {
         "colorscale": [
          [
           0,
           "rgb(5,48,97)"
          ],
          [
           0.1,
           "rgb(33,102,172)"
          ],
          [
           0.2,
           "rgb(67,147,195)"
          ],
          [
           0.3,
           "rgb(146,197,222)"
          ],
          [
           0.4,
           "rgb(209,229,240)"
          ],
          [
           0.5,
           "rgb(247,247,247)"
          ],
          [
           0.6,
           "rgb(253,219,199)"
          ],
          [
           0.7,
           "rgb(244,165,130)"
          ],
          [
           0.8,
           "rgb(214,96,77)"
          ],
          [
           0.9,
           "rgb(178,24,43)"
          ],
          [
           1,
           "rgb(103,0,31)"
          ]
         ],
         "hoverinfo": "skip",
         "hoverongaps": false,
         "text": [
          [
           "",
           "-4.2%",
           "+22.6%",
           "+1.9%",
           "-15.8%"
          ],
          [
           "+4.2%",
           "",
           "-25.2%",
           "+18.9%",
           "-5.2%"
          ],
          [
           "-22.6%",
           "+25.2%",
           "",
           "-31.2%",
           "+0.9%"
          ],
          [
           "-1.9%",
           "-18.9%",
           "+31.2%",
           "",
           "+2.4%"
          ],
          [
           "+15.8%",
           "+5.2%",
           "-0.9%",
           "-2.4%",
           ""
          ]
         ],
         "texttemplate": "%{text}",
         "type": "heatmap",
         "x": [
          "Paul<br>Bartenfeld",
          "Roman<br>Ramirez",
          "Will<br>Simpson",
          "Evan<br>Sooklal",
          "Aaron<br>Carter"
         ],
         "xaxis": "x",
         "y": [
          "Paul<br>Bartenfeld",
          "Roman<br>Ramirez",
          "Will<br>Simpson",
          "Evan<br>Sooklal",
          "Aaron<br>Carter"
         ],
         "yaxis": "y",
         "z": [
          [
           null,
           -0.041699739615683795,
           0.22560602969747373,
           0.01862392936479551,
           -0.15759103484822595
          ],
          [
           0.04169973961568385,
           null,
           -0.2522719925366957,
           0.18917863453917735,
           -0.05172434678269819
          ],
          [
           -0.2256060296974738,
           0.2522719925366957,
           null,
           -0.3115895332855527,
           0.008979501851071992
          ],
          [
           -0.01862392936479551,
           -0.1891786345391775,
           0.3115895332855527,
           null,
           0.02352806373817895
          ],
          [
           0.1575910348482259,
           0.051724346782698105,
           -0.008979501851071992,
           -0.02352806373817895,
           null
          ]
         ],
         "zmax": 0.3837390668345906,
         "zmid": 0,
         "zmin": -0.3837390668345906
        },
        {
         "colorscale": [
          [
           0,
           "rgb(5,48,97)"
          ],
          [
           0.1,
           "rgb(33,102,172)"
          ],
          [
           0.2,
           "rgb(67,147,195)"
          ],
          [
           0.3,
           "rgb(146,197,222)"
          ],
          [
           0.4,
           "rgb(209,229,240)"
          ],
          [
           0.5,
           "rgb(247,247,247)"
          ],
          [
           0.6,
           "rgb(253,219,199)"
          ],
          [
           0.7,
           "rgb(244,165,130)"
          ],
          [
           0.8,
           "rgb(214,96,77)"
          ],
          [
           0.9,
           "rgb(178,24,43)"
          ],
          [
           1,
           "rgb(103,0,31)"
          ]
         ],
         "hoverinfo": "skip",
         "hoverongaps": false,
         "text": [
          [
           "",
           "-5.4%",
           "-30.2%",
           "-17.9%",
           "-6.2%"
          ],
          [
           "+5.4%",
           "",
           "+21.2%",
           "-38.4%",
           "-19.6%"
          ],
          [
           "+30.2%",
           "-21.2%",
           "",
           "+18.8%",
           "-31.0%"
          ],
          [
           "+17.9%",
           "+38.4%",
           "-18.8%",
           "",
           "-14.0%"
          ],
          [
           "+6.2%",
           "+19.6%",
           "+31.0%",
           "+14.0%",
           ""
          ]
         ],
         "texttemplate": "%{text}",
         "type": "heatmap",
         "x": [
          "Paul<br>Bartenfeld",
          "Roman<br>Ramirez",
          "Will<br>Simpson",
          "Evan<br>Sooklal",
          "Aaron<br>Carter"
         ],
         "xaxis": "x2",
         "y": [
          "Paul<br>Bartenfeld",
          "Roman<br>Ramirez",
          "Will<br>Simpson",
          "Evan<br>Sooklal",
          "Aaron<br>Carter"
         ],
         "yaxis": "y2",
         "z": [
          [
           null,
           -0.054102184370880387,
           -0.3015162035404408,
           -0.17925649745036043,
           -0.061861419487301415
          ],
          [
           0.0541021843708804,
           null,
           0.2123275522113157,
           -0.3837390668345906,
           -0.19600066326874005
          ],
          [
           0.30151620354044084,
           -0.21232755221131563,
           null,
           0.18821530765744987,
           -0.3098276485372259
          ],
          [
           0.1792564974503605,
           0.3837390668345906,
           -0.18821530765744993,
           null,
           -0.140089586634979
          ],
          [
           0.061861419487301395,
           0.19600066326874005,
           0.3098276485372259,
           0.14008958663497903,
           null
          ]
         ],
         "zmax": 0.3837390668345906,
         "zmid": 0,
         "zmin": -0.3837390668345906
        }
       ],
       "layout": {
        "annotations": [
         {
          "font": {
           "size": 16
          },
          "showarrow": false,
          "text": "<b>Over/Underrated</b><br>How Much Better is the Win Probability Against Record",
          "x": 0.225,
          "xanchor": "center",
          "xref": "paper",
          "y": 1,
          "yanchor": "bottom",
          "yref": "paper"
         },
         {
          "font": {
           "size": 16
          },
          "showarrow": false,
          "text": "<b>Average Luck Per Game</b><br>Average Difference in Actual and Expected Performance",
          "x": 0.775,
          "xanchor": "center",
          "xref": "paper",
          "y": 1,
          "yanchor": "bottom",
          "yref": "paper"
         },
         {
          "font": {
           "size": 16
          },
          "showarrow": false,
          "text": "<a href='https://htmlpreview.github.io/?https://github.com/notromanramirez/dgn_showdown/blob/main/index.html'>ELO Graph</a>, <a href='https://htmlpreview.github.io/?https://github.com/notromanramirez/dgn_showdown/blob/main/figures/fig1.html'>H2H Stats</a>, <a href='https://htmlpreview.github.io/?https://github.com/notromanramirez/dgn_showdown/blob/main/figures/fig3.html'>H2H More Stats</a>",
          "x": 0.5,
          "xanchor": "center",
          "xref": "paper",
          "y": 0,
          "yanchor": "top",
          "yref": "paper",
          "yshift": -30
         }
        ],
        "template": {
         "data": {
          "bar": [
           {
            "error_x": {
             "color": "#2a3f5f"
            },
            "error_y": {
             "color": "#2a3f5f"
            },
            "marker": {
             "line": {
              "color": "#E5ECF6",
              "width": 0.5
             },
             "pattern": {
              "fillmode": "overlay",
              "size": 10,
              "solidity": 0.2
             }
            },
            "type": "bar"
           }
          ],
          "barpolar": [
           {
            "marker": {
             "line": {
              "color": "#E5ECF6",
              "width": 0.5
             },
             "pattern": {
              "fillmode": "overlay",
              "size": 10,
              "solidity": 0.2
             }
            },
            "type": "barpolar"
           }
          ],
          "carpet": [
           {
            "aaxis": {
             "endlinecolor": "#2a3f5f",
             "gridcolor": "white",
             "linecolor": "white",
             "minorgridcolor": "white",
             "startlinecolor": "#2a3f5f"
            },
            "baxis": {
             "endlinecolor": "#2a3f5f",
             "gridcolor": "white",
             "linecolor": "white",
             "minorgridcolor": "white",
             "startlinecolor": "#2a3f5f"
            },
            "type": "carpet"
           }
          ],
          "choropleth": [
           {
            "colorbar": {
             "outlinewidth": 0,
             "ticks": ""
            },
            "type": "choropleth"
           }
          ],
          "contour": [
           {
            "colorbar": {
             "outlinewidth": 0,
             "ticks": ""
            },
            "colorscale": [
             [
              0,
              "#0d0887"
             ],
             [
              0.1111111111111111,
              "#46039f"
             ],
             [
              0.2222222222222222,
              "#7201a8"
             ],
             [
              0.3333333333333333,
              "#9c179e"
             ],
             [
              0.4444444444444444,
              "#bd3786"
             ],
             [
              0.5555555555555556,
              "#d8576b"
             ],
             [
              0.6666666666666666,
              "#ed7953"
             ],
             [
              0.7777777777777778,
              "#fb9f3a"
             ],
             [
              0.8888888888888888,
              "#fdca26"
             ],
             [
              1,
              "#f0f921"
             ]
            ],
            "type": "contour"
           }
          ],
          "contourcarpet": [
           {
            "colorbar": {
             "outlinewidth": 0,
             "ticks": ""
            },
            "type": "contourcarpet"
           }
          ],
          "heatmap": [
           {
            "colorbar": {
             "outlinewidth": 0,
             "ticks": ""
            },
            "colorscale": [
             [
              0,
              "#0d0887"
             ],
             [
              0.1111111111111111,
              "#46039f"
             ],
             [
              0.2222222222222222,
              "#7201a8"
             ],
             [
              0.3333333333333333,
              "#9c179e"
             ],
             [
              0.4444444444444444,
              "#bd3786"
             ],
             [
              0.5555555555555556,
              "#d8576b"
             ],
             [
              0.6666666666666666,
              "#ed7953"
             ],
             [
              0.7777777777777778,
              "#fb9f3a"
             ],
             [
              0.8888888888888888,
              "#fdca26"
             ],
             [
              1,
              "#f0f921"
             ]
            ],
            "type": "heatmap"
           }
          ],
          "heatmapgl": [
           {
            "colorbar": {
             "outlinewidth": 0,
             "ticks": ""
            },
            "colorscale": [
             [
              0,
              "#0d0887"
             ],
             [
              0.1111111111111111,
              "#46039f"
             ],
             [
              0.2222222222222222,
              "#7201a8"
             ],
             [
              0.3333333333333333,
              "#9c179e"
             ],
             [
              0.4444444444444444,
              "#bd3786"
             ],
             [
              0.5555555555555556,
              "#d8576b"
             ],
             [
              0.6666666666666666,
              "#ed7953"
             ],
             [
              0.7777777777777778,
              "#fb9f3a"
             ],
             [
              0.8888888888888888,
              "#fdca26"
             ],
             [
              1,
              "#f0f921"
             ]
            ],
            "type": "heatmapgl"
           }
          ],
          "histogram": [
           {
            "marker": {
             "pattern": {
              "fillmode": "overlay",
              "size": 10,
              "solidity": 0.2
             }
            },
            "type": "histogram"
           }
          ],
          "histogram2d": [
           {
            "colorbar": {
             "outlinewidth": 0,
             "ticks": ""
            },
            "colorscale": [
             [
              0,
              "#0d0887"
             ],
             [
              0.1111111111111111,
              "#46039f"
             ],
             [
              0.2222222222222222,
              "#7201a8"
             ],
             [
              0.3333333333333333,
              "#9c179e"
             ],
             [
              0.4444444444444444,
              "#bd3786"
             ],
             [
              0.5555555555555556,
              "#d8576b"
             ],
             [
              0.6666666666666666,
              "#ed7953"
             ],
             [
              0.7777777777777778,
              "#fb9f3a"
             ],
             [
              0.8888888888888888,
              "#fdca26"
             ],
             [
              1,
              "#f0f921"
             ]
            ],
            "type": "histogram2d"
           }
          ],
          "histogram2dcontour": [
           {
            "colorbar": {
             "outlinewidth": 0,
             "ticks": ""
            },
            "colorscale": [
             [
              0,
              "#0d0887"
             ],
             [
              0.1111111111111111,
              "#46039f"
             ],
             [
              0.2222222222222222,
              "#7201a8"
             ],
             [
              0.3333333333333333,
              "#9c179e"
             ],
             [
              0.4444444444444444,
              "#bd3786"
             ],
             [
              0.5555555555555556,
              "#d8576b"
             ],
             [
              0.6666666666666666,
              "#ed7953"
             ],
             [
              0.7777777777777778,
              "#fb9f3a"
             ],
             [
              0.8888888888888888,
              "#fdca26"
             ],
             [
              1,
              "#f0f921"
             ]
            ],
            "type": "histogram2dcontour"
           }
          ],
          "mesh3d": [
           {
            "colorbar": {
             "outlinewidth": 0,
             "ticks": ""
            },
            "type": "mesh3d"
           }
          ],
          "parcoords": [
           {
            "line": {
             "colorbar": {
              "outlinewidth": 0,
              "ticks": ""
             }
            },
            "type": "parcoords"
           }
          ],
          "pie": [
           {
            "automargin": true,
            "type": "pie"
           }
          ],
          "scatter": [
           {
            "fillpattern": {
             "fillmode": "overlay",
             "size": 10,
             "solidity": 0.2
            },
            "type": "scatter"
           }
          ],
          "scatter3d": [
           {
            "line": {
             "colorbar": {
              "outlinewidth": 0,
              "ticks": ""
             }
            },
            "marker": {
             "colorbar": {
              "outlinewidth": 0,
              "ticks": ""
             }
            },
            "type": "scatter3d"
           }
          ],
          "scattercarpet": [
           {
            "marker": {
             "colorbar": {
              "outlinewidth": 0,
              "ticks": ""
             }
            },
            "type": "scattercarpet"
           }
          ],
          "scattergeo": [
           {
            "marker": {
             "colorbar": {
              "outlinewidth": 0,
              "ticks": ""
             }
            },
            "type": "scattergeo"
           }
          ],
          "scattergl": [
           {
            "marker": {
             "colorbar": {
              "outlinewidth": 0,
              "ticks": ""
             }
            },
            "type": "scattergl"
           }
          ],
          "scattermapbox": [
           {
            "marker": {
             "colorbar": {
              "outlinewidth": 0,
              "ticks": ""
             }
            },
            "type": "scattermapbox"
           }
          ],
          "scatterpolar": [
           {
            "marker": {
             "colorbar": {
              "outlinewidth": 0,
              "ticks": ""
             }
            },
            "type": "scatterpolar"
           }
          ],
          "scatterpolargl": [
           {
            "marker": {
             "colorbar": {
              "outlinewidth": 0,
              "ticks": ""
             }
            },
            "type": "scatterpolargl"
           }
          ],
          "scatterternary": [
           {
            "marker": {
             "colorbar": {
              "outlinewidth": 0,
              "ticks": ""
             }
            },
            "type": "scatterternary"
           }
          ],
          "surface": [
           {
            "colorbar": {
             "outlinewidth": 0,
             "ticks": ""
            },
            "colorscale": [
             [
              0,
              "#0d0887"
             ],
             [
              0.1111111111111111,
              "#46039f"
             ],
             [
              0.2222222222222222,
              "#7201a8"
             ],
             [
              0.3333333333333333,
              "#9c179e"
             ],
             [
              0.4444444444444444,
              "#bd3786"
             ],
             [
              0.5555555555555556,
              "#d8576b"
             ],
             [
              0.6666666666666666,
              "#ed7953"
             ],
             [
              0.7777777777777778,
              "#fb9f3a"
             ],
             [
              0.8888888888888888,
              "#fdca26"
             ],
             [
              1,
              "#f0f921"
             ]
            ],
            "type": "surface"
           }
          ],
          "table": [
           {
            "cells": {
             "fill": {
              "color": "#EBF0F8"
             },
             "line": {
              "color": "white"
             }
            },
            "header": {
             "fill": {
              "color": "#C8D4E3"
             },
             "line": {
              "color": "white"
             }
            },
            "type": "table"
           }
          ]
         },
         "layout": {
          "annotationdefaults": {
           "arrowcolor": "#2a3f5f",
           "arrowhead": 0,
           "arrowwidth": 1
          },
          "autotypenumbers": "strict",
          "coloraxis": {
           "colorbar": {
            "outlinewidth": 0,
            "ticks": ""
           }
          },
          "colorscale": {
           "diverging": [
            [
             0,
             "#8e0152"
            ],
            [
             0.1,
             "#c51b7d"
            ],
            [
             0.2,
             "#de77ae"
            ],
            [
             0.3,
             "#f1b6da"
            ],
            [
             0.4,
             "#fde0ef"
            ],
            [
             0.5,
             "#f7f7f7"
            ],
            [
             0.6,
             "#e6f5d0"
            ],
            [
             0.7,
             "#b8e186"
            ],
            [
             0.8,
             "#7fbc41"
            ],
            [
             0.9,
             "#4d9221"
            ],
            [
             1,
             "#276419"
            ]
           ],
           "sequential": [
            [
             0,
             "#0d0887"
            ],
            [
             0.1111111111111111,
             "#46039f"
            ],
            [
             0.2222222222222222,
             "#7201a8"
            ],
            [
             0.3333333333333333,
             "#9c179e"
            ],
            [
             0.4444444444444444,
             "#bd3786"
            ],
            [
             0.5555555555555556,
             "#d8576b"
            ],
            [
             0.6666666666666666,
             "#ed7953"
            ],
            [
             0.7777777777777778,
             "#fb9f3a"
            ],
            [
             0.8888888888888888,
             "#fdca26"
            ],
            [
             1,
             "#f0f921"
            ]
           ],
           "sequentialminus": [
            [
             0,
             "#0d0887"
            ],
            [
             0.1111111111111111,
             "#46039f"
            ],
            [
             0.2222222222222222,
             "#7201a8"
            ],
            [
             0.3333333333333333,
             "#9c179e"
            ],
            [
             0.4444444444444444,
             "#bd3786"
            ],
            [
             0.5555555555555556,
             "#d8576b"
            ],
            [
             0.6666666666666666,
             "#ed7953"
            ],
            [
             0.7777777777777778,
             "#fb9f3a"
            ],
            [
             0.8888888888888888,
             "#fdca26"
            ],
            [
             1,
             "#f0f921"
            ]
           ]
          },
          "colorway": [
           "#636efa",
           "#EF553B",
           "#00cc96",
           "#ab63fa",
           "#FFA15A",
           "#19d3f3",
           "#FF6692",
           "#B6E880",
           "#FF97FF",
           "#FECB52"
          ],
          "font": {
           "color": "#2a3f5f"
          },
          "geo": {
           "bgcolor": "white",
           "lakecolor": "white",
           "landcolor": "#E5ECF6",
           "showlakes": true,
           "showland": true,
           "subunitcolor": "white"
          },
          "hoverlabel": {
           "align": "left"
          },
          "hovermode": "closest",
          "mapbox": {
           "style": "light"
          },
          "paper_bgcolor": "white",
          "plot_bgcolor": "#E5ECF6",
          "polar": {
           "angularaxis": {
            "gridcolor": "white",
            "linecolor": "white",
            "ticks": ""
           },
           "bgcolor": "#E5ECF6",
           "radialaxis": {
            "gridcolor": "white",
            "linecolor": "white",
            "ticks": ""
           }
          },
          "scene": {
           "xaxis": {
            "backgroundcolor": "#E5ECF6",
            "gridcolor": "white",
            "gridwidth": 2,
            "linecolor": "white",
            "showbackground": true,
            "ticks": "",
            "zerolinecolor": "white"
           },
           "yaxis": {
            "backgroundcolor": "#E5ECF6",
            "gridcolor": "white",
            "gridwidth": 2,
            "linecolor": "white",
            "showbackground": true,
            "ticks": "",
            "zerolinecolor": "white"
           },
           "zaxis": {
            "backgroundcolor": "#E5ECF6",
            "gridcolor": "white",
            "gridwidth": 2,
            "linecolor": "white",
            "showbackground": true,
            "ticks": "",
            "zerolinecolor": "white"
           }
          },
          "shapedefaults": {
           "line": {
            "color": "#2a3f5f"
           }
          },
          "ternary": {
           "aaxis": {
            "gridcolor": "white",
            "linecolor": "white",
            "ticks": ""
           },
           "baxis": {
            "gridcolor": "white",
            "linecolor": "white",
            "ticks": ""
           },
           "bgcolor": "#E5ECF6",
           "caxis": {
            "gridcolor": "white",
            "linecolor": "white",
            "ticks": ""
           }
          },
          "title": {
           "x": 0.05
          },
          "xaxis": {
           "automargin": true,
           "gridcolor": "white",
           "linecolor": "white",
           "ticks": "",
           "title": {
            "standoff": 15
           },
           "zerolinecolor": "white",
           "zerolinewidth": 2
          },
          "yaxis": {
           "automargin": true,
           "gridcolor": "white",
           "linecolor": "white",
           "ticks": "",
           "title": {
            "standoff": 15
           },
           "zerolinecolor": "white",
           "zerolinewidth": 2
          }
         }
        },
        "title": {
         "text": "<b>Head-to-Head Advanced Statistics</b>, <i>Updated Tuesday, Dec 19, 2023 16:24:44 CT</i>"
        },
        "xaxis": {
         "anchor": "y",
         "domain": [
          0,
          0.45
         ],
         "title": {
          "text": "<b>Other</b>"
         }
        },
        "xaxis2": {
         "anchor": "y2",
         "domain": [
          0.55,
          1
         ],
         "title": {
          "text": "<b>Other</b>"
         }
        },
        "yaxis": {
         "anchor": "x",
         "domain": [
          0,
          1
         ],
         "title": {
          "text": "<b>Self</b>"
         }
        },
        "yaxis2": {
         "anchor": "x2",
         "domain": [
          0,
          1
         ],
         "title": {
          "text": "<b>Self</b>"
         }
        }
       }
      }
     },
     "metadata": {},
     "output_type": "display_data"
    }
   ],
   "source": [
    "# difference in win percentage and matchup predictor\n",
    "# positive number means overrated, negative number means underrated\n",
    "# understanding: Player A is overrated/underrated against Player B\n",
    "\n",
    "key_upset_table = -win_pct_table + win_prob_table\n",
    "\n",
    "fig2 = make_subplots(\n",
    "    rows=1, cols=2,\n",
    "    subplot_titles=[\n",
    "        \"<b>Over/Underrated</b><br>How Much Better is the Win Probability Against Record\", \n",
    "        \"<b>Average Luck Per Game</b><br>Average Difference in Actual and Expected Performance\"\n",
    "    ],\n",
    "    x_title=f\"{link_fig}, {link_fig1}, {link_fig3}\"\n",
    ")\n",
    "\n",
    "go_ou = go.Heatmap(\n",
    "    x=[x.replace(\" \", \"<br>\") for x in win_prob_table.columns],\n",
    "    y=[x.replace(\" \", \"<br>\") for x in win_prob_table.index],\n",
    "    z=key_upset_table,\n",
    "    zmax=max(key_upset_table.max(axis=None), luck_per_game_table.max(axis=None)),\n",
    "    zmid=0,\n",
    "    zmin=min(key_upset_table.min(axis=None), luck_per_game_table.min(axis=None)),\n",
    "    text=key_upset_table.applymap(lambda x: \"\" if np.isnan(x) else f\"{x:+.1%}\"),\n",
    "    texttemplate=\"%{text}\",\n",
    "    colorscale=diverging.RdBu_r,\n",
    "    hoverongaps=False\n",
    ")\n",
    "\n",
    "go_luck_pg = go.Heatmap(\n",
    "    x=[x.replace(\" \", \"<br>\") for x in win_prob_table.columns],\n",
    "    y=[x.replace(\" \", \"<br>\") for x in win_prob_table.index],\n",
    "    z=luck_per_game_table,\n",
    "    zmax=max(key_upset_table.max(axis=None), luck_per_game_table.max(axis=None)),\n",
    "    zmid=0,\n",
    "    zmin=min(key_upset_table.min(axis=None), luck_per_game_table.min(axis=None)),\n",
    "    text=luck_per_game_table.applymap(lambda x: \"\" if np.isnan(x) else f\"{x:+.1%}\"),\n",
    "    texttemplate=\"%{text}\",\n",
    "    colorscale=diverging.RdBu_r,\n",
    "    hoverongaps=False\n",
    ")\n",
    "\n",
    "fig2.add_trace(go_ou, row=1, col=1)\n",
    "fig2.add_trace(go_luck_pg, row=1, col=2)\n",
    "\n",
    "fig2.layout.yaxis1.title=\"<b>Self</b>\"\n",
    "fig2.layout.yaxis2.title=\"<b>Self</b>\"\n",
    "fig2.layout.xaxis1.title=\"<b>Other</b>\"\n",
    "fig2.layout.xaxis2.title=\"<b>Other</b>\"\n",
    "\n",
    "fig2.update_traces(hoverinfo='skip')\n",
    "\n",
    "fig2.update_layout(\n",
    "    title=f\"<b>Head-to-Head Advanced Statistics</b>, {updated_time}\"\n",
    ")\n",
    "\n",
    "fig2.show()\n",
    "fig2.write_html('figures/fig2.html')"
   ]
  },
  {
   "cell_type": "code",
   "execution_count": 28,
   "metadata": {},
   "outputs": [
    {
     "ename": "ValueError",
     "evalue": "\n    Invalid value of type 'pandas.io.formats.style.Styler' received for the 'values' property of table.cells\n        Received value: <pandas.io.formats.style.Styler object at 0x00000181CC2CA9A0>\n\n    The 'values' property is an array that may be specified as a tuple,\n    list, numpy array, or pandas Series",
     "output_type": "error",
     "traceback": [
      "\u001b[1;31m---------------------------------------------------------------------------\u001b[0m",
      "\u001b[1;31mValueError\u001b[0m                                Traceback (most recent call last)",
      "Cell \u001b[1;32mIn[28], line 1\u001b[0m\n\u001b[1;32m----> 1\u001b[0m go_player_table \u001b[38;5;241m=\u001b[39m \u001b[43mgo\u001b[49m\u001b[38;5;241;43m.\u001b[39;49m\u001b[43mTable\u001b[49m\u001b[43m(\u001b[49m\n\u001b[0;32m      2\u001b[0m \u001b[43m    \u001b[49m\u001b[43mheader\u001b[49m\u001b[38;5;241;43m=\u001b[39;49m\u001b[38;5;28;43mdict\u001b[39;49m\u001b[43m(\u001b[49m\n\u001b[0;32m      3\u001b[0m \u001b[43m        \u001b[49m\u001b[43mvalues\u001b[49m\u001b[38;5;241;43m=\u001b[39;49m\u001b[43m[\u001b[49m\u001b[38;5;124;43mf\u001b[39;49m\u001b[38;5;124;43m'\u001b[39;49m\u001b[38;5;124;43m<b>\u001b[39;49m\u001b[38;5;132;43;01m{\u001b[39;49;00m\u001b[43mx\u001b[49m\u001b[38;5;132;43;01m}\u001b[39;49;00m\u001b[38;5;124;43m</b>\u001b[39;49m\u001b[38;5;124;43m'\u001b[39;49m\u001b[43m \u001b[49m\u001b[38;5;28;43;01mfor\u001b[39;49;00m\u001b[43m \u001b[49m\u001b[43mx\u001b[49m\u001b[43m \u001b[49m\u001b[38;5;129;43;01min\u001b[39;49;00m\u001b[43m \u001b[49m\u001b[43mplayer_table\u001b[49m\u001b[38;5;241;43m.\u001b[39;49m\u001b[43mcolumns\u001b[49m\u001b[43m]\u001b[49m\u001b[43m,\u001b[49m\n\u001b[0;32m      4\u001b[0m \u001b[43m        \u001b[49m\u001b[43mline_color\u001b[49m\u001b[38;5;241;43m=\u001b[39;49m\u001b[38;5;124;43m'\u001b[39;49m\u001b[38;5;124;43mdarkslategray\u001b[39;49m\u001b[38;5;124;43m'\u001b[39;49m\u001b[43m,\u001b[49m\n\u001b[0;32m      5\u001b[0m \u001b[43m        \u001b[49m\u001b[43mfill_color\u001b[49m\u001b[38;5;241;43m=\u001b[39;49m\u001b[38;5;124;43m'\u001b[39;49m\u001b[38;5;124;43mgrey\u001b[39;49m\u001b[38;5;124;43m'\u001b[39;49m\n\u001b[0;32m      6\u001b[0m \u001b[43m    \u001b[49m\u001b[43m)\u001b[49m\u001b[43m,\u001b[49m\n\u001b[0;32m      7\u001b[0m \u001b[43m    \u001b[49m\u001b[43mcells\u001b[49m\u001b[38;5;241;43m=\u001b[39;49m\u001b[38;5;28;43mdict\u001b[39;49m\u001b[43m(\u001b[49m\n\u001b[0;32m      8\u001b[0m \u001b[43m        \u001b[49m\u001b[43mvalues\u001b[49m\u001b[38;5;241;43m=\u001b[39;49m\u001b[43mplayer_table_styled\u001b[49m\n\u001b[0;32m      9\u001b[0m \u001b[43m    \u001b[49m\u001b[43m)\u001b[49m\n\u001b[0;32m     10\u001b[0m \u001b[43m)\u001b[49m\n\u001b[0;32m     12\u001b[0m fig4 \u001b[38;5;241m=\u001b[39m go\u001b[38;5;241m.\u001b[39mFigure(\n\u001b[0;32m     13\u001b[0m     go_player_table\n\u001b[0;32m     14\u001b[0m )\n\u001b[0;32m     16\u001b[0m fig\u001b[38;5;241m.\u001b[39mshow()\n",
      "File \u001b[1;32m~\\AppData\\Local\\Packages\\PythonSoftwareFoundation.Python.3.9_qbz5n2kfra8p0\\LocalCache\\local-packages\\Python39\\site-packages\\plotly\\graph_objs\\_table.py:1121\u001b[0m, in \u001b[0;36mTable.__init__\u001b[1;34m(self, arg, cells, columnorder, columnordersrc, columnwidth, columnwidthsrc, customdata, customdatasrc, domain, header, hoverinfo, hoverinfosrc, hoverlabel, ids, idssrc, legend, legendgrouptitle, legendrank, legendwidth, meta, metasrc, name, stream, uid, uirevision, visible, **kwargs)\u001b[0m\n\u001b[0;32m   1119\u001b[0m _v \u001b[38;5;241m=\u001b[39m cells \u001b[38;5;28;01mif\u001b[39;00m cells \u001b[38;5;129;01mis\u001b[39;00m \u001b[38;5;129;01mnot\u001b[39;00m \u001b[38;5;28;01mNone\u001b[39;00m \u001b[38;5;28;01melse\u001b[39;00m _v\n\u001b[0;32m   1120\u001b[0m \u001b[38;5;28;01mif\u001b[39;00m _v \u001b[38;5;129;01mis\u001b[39;00m \u001b[38;5;129;01mnot\u001b[39;00m \u001b[38;5;28;01mNone\u001b[39;00m:\n\u001b[1;32m-> 1121\u001b[0m     \u001b[38;5;28;43mself\u001b[39;49m\u001b[43m[\u001b[49m\u001b[38;5;124;43m\"\u001b[39;49m\u001b[38;5;124;43mcells\u001b[39;49m\u001b[38;5;124;43m\"\u001b[39;49m\u001b[43m]\u001b[49m \u001b[38;5;241m=\u001b[39m _v\n\u001b[0;32m   1122\u001b[0m _v \u001b[38;5;241m=\u001b[39m arg\u001b[38;5;241m.\u001b[39mpop(\u001b[38;5;124m\"\u001b[39m\u001b[38;5;124mcolumnorder\u001b[39m\u001b[38;5;124m\"\u001b[39m, \u001b[38;5;28;01mNone\u001b[39;00m)\n\u001b[0;32m   1123\u001b[0m _v \u001b[38;5;241m=\u001b[39m columnorder \u001b[38;5;28;01mif\u001b[39;00m columnorder \u001b[38;5;129;01mis\u001b[39;00m \u001b[38;5;129;01mnot\u001b[39;00m \u001b[38;5;28;01mNone\u001b[39;00m \u001b[38;5;28;01melse\u001b[39;00m _v\n",
      "File \u001b[1;32m~\\AppData\\Local\\Packages\\PythonSoftwareFoundation.Python.3.9_qbz5n2kfra8p0\\LocalCache\\local-packages\\Python39\\site-packages\\plotly\\basedatatypes.py:4868\u001b[0m, in \u001b[0;36mBasePlotlyType.__setitem__\u001b[1;34m(self, prop, value)\u001b[0m\n\u001b[0;32m   4866\u001b[0m \u001b[38;5;66;03m# ### Handle compound property ###\u001b[39;00m\n\u001b[0;32m   4867\u001b[0m \u001b[38;5;28;01mif\u001b[39;00m \u001b[38;5;28misinstance\u001b[39m(validator, CompoundValidator):\n\u001b[1;32m-> 4868\u001b[0m     \u001b[38;5;28;43mself\u001b[39;49m\u001b[38;5;241;43m.\u001b[39;49m\u001b[43m_set_compound_prop\u001b[49m\u001b[43m(\u001b[49m\u001b[43mprop\u001b[49m\u001b[43m,\u001b[49m\u001b[43m \u001b[49m\u001b[43mvalue\u001b[49m\u001b[43m)\u001b[49m\n\u001b[0;32m   4870\u001b[0m \u001b[38;5;66;03m# ### Handle compound array property ###\u001b[39;00m\n\u001b[0;32m   4871\u001b[0m \u001b[38;5;28;01melif\u001b[39;00m \u001b[38;5;28misinstance\u001b[39m(validator, (CompoundArrayValidator, BaseDataValidator)):\n",
      "File \u001b[1;32m~\\AppData\\Local\\Packages\\PythonSoftwareFoundation.Python.3.9_qbz5n2kfra8p0\\LocalCache\\local-packages\\Python39\\site-packages\\plotly\\basedatatypes.py:5279\u001b[0m, in \u001b[0;36mBasePlotlyType._set_compound_prop\u001b[1;34m(self, prop, val)\u001b[0m\n\u001b[0;32m   5276\u001b[0m \u001b[38;5;66;03m# Import value\u001b[39;00m\n\u001b[0;32m   5277\u001b[0m \u001b[38;5;66;03m# ------------\u001b[39;00m\n\u001b[0;32m   5278\u001b[0m validator \u001b[38;5;241m=\u001b[39m \u001b[38;5;28mself\u001b[39m\u001b[38;5;241m.\u001b[39m_get_validator(prop)\n\u001b[1;32m-> 5279\u001b[0m val \u001b[38;5;241m=\u001b[39m \u001b[43mvalidator\u001b[49m\u001b[38;5;241;43m.\u001b[39;49m\u001b[43mvalidate_coerce\u001b[49m\u001b[43m(\u001b[49m\u001b[43mval\u001b[49m\u001b[43m,\u001b[49m\u001b[43m \u001b[49m\u001b[43mskip_invalid\u001b[49m\u001b[38;5;241;43m=\u001b[39;49m\u001b[38;5;28;43mself\u001b[39;49m\u001b[38;5;241;43m.\u001b[39;49m\u001b[43m_skip_invalid\u001b[49m\u001b[43m)\u001b[49m\n\u001b[0;32m   5281\u001b[0m \u001b[38;5;66;03m# Save deep copies of current and new states\u001b[39;00m\n\u001b[0;32m   5282\u001b[0m \u001b[38;5;66;03m# ------------------------------------------\u001b[39;00m\n\u001b[0;32m   5283\u001b[0m curr_val \u001b[38;5;241m=\u001b[39m \u001b[38;5;28mself\u001b[39m\u001b[38;5;241m.\u001b[39m_compound_props\u001b[38;5;241m.\u001b[39mget(prop, \u001b[38;5;28;01mNone\u001b[39;00m)\n",
      "File \u001b[1;32m~\\AppData\\Local\\Packages\\PythonSoftwareFoundation.Python.3.9_qbz5n2kfra8p0\\LocalCache\\local-packages\\Python39\\site-packages\\_plotly_utils\\basevalidators.py:2475\u001b[0m, in \u001b[0;36mCompoundValidator.validate_coerce\u001b[1;34m(self, v, skip_invalid, _validate)\u001b[0m\n\u001b[0;32m   2472\u001b[0m     v \u001b[38;5;241m=\u001b[39m \u001b[38;5;28mself\u001b[39m\u001b[38;5;241m.\u001b[39mdata_class()\n\u001b[0;32m   2474\u001b[0m \u001b[38;5;28;01melif\u001b[39;00m \u001b[38;5;28misinstance\u001b[39m(v, \u001b[38;5;28mdict\u001b[39m):\n\u001b[1;32m-> 2475\u001b[0m     v \u001b[38;5;241m=\u001b[39m \u001b[38;5;28;43mself\u001b[39;49m\u001b[38;5;241;43m.\u001b[39;49m\u001b[43mdata_class\u001b[49m\u001b[43m(\u001b[49m\u001b[43mv\u001b[49m\u001b[43m,\u001b[49m\u001b[43m \u001b[49m\u001b[43mskip_invalid\u001b[49m\u001b[38;5;241;43m=\u001b[39;49m\u001b[43mskip_invalid\u001b[49m\u001b[43m,\u001b[49m\u001b[43m \u001b[49m\u001b[43m_validate\u001b[49m\u001b[38;5;241;43m=\u001b[39;49m\u001b[43m_validate\u001b[49m\u001b[43m)\u001b[49m\n\u001b[0;32m   2477\u001b[0m \u001b[38;5;28;01melif\u001b[39;00m \u001b[38;5;28misinstance\u001b[39m(v, \u001b[38;5;28mself\u001b[39m\u001b[38;5;241m.\u001b[39mdata_class):\n\u001b[0;32m   2478\u001b[0m     \u001b[38;5;66;03m# Copy object\u001b[39;00m\n\u001b[0;32m   2479\u001b[0m     v \u001b[38;5;241m=\u001b[39m \u001b[38;5;28mself\u001b[39m\u001b[38;5;241m.\u001b[39mdata_class(v)\n",
      "File \u001b[1;32m~\\AppData\\Local\\Packages\\PythonSoftwareFoundation.Python.3.9_qbz5n2kfra8p0\\LocalCache\\local-packages\\Python39\\site-packages\\plotly\\graph_objs\\table\\_cells.py:595\u001b[0m, in \u001b[0;36mCells.__init__\u001b[1;34m(self, arg, align, alignsrc, fill, font, format, formatsrc, height, line, prefix, prefixsrc, suffix, suffixsrc, values, valuessrc, **kwargs)\u001b[0m\n\u001b[0;32m    593\u001b[0m _v \u001b[38;5;241m=\u001b[39m values \u001b[38;5;28;01mif\u001b[39;00m values \u001b[38;5;129;01mis\u001b[39;00m \u001b[38;5;129;01mnot\u001b[39;00m \u001b[38;5;28;01mNone\u001b[39;00m \u001b[38;5;28;01melse\u001b[39;00m _v\n\u001b[0;32m    594\u001b[0m \u001b[38;5;28;01mif\u001b[39;00m _v \u001b[38;5;129;01mis\u001b[39;00m \u001b[38;5;129;01mnot\u001b[39;00m \u001b[38;5;28;01mNone\u001b[39;00m:\n\u001b[1;32m--> 595\u001b[0m     \u001b[38;5;28;43mself\u001b[39;49m\u001b[43m[\u001b[49m\u001b[38;5;124;43m\"\u001b[39;49m\u001b[38;5;124;43mvalues\u001b[39;49m\u001b[38;5;124;43m\"\u001b[39;49m\u001b[43m]\u001b[49m \u001b[38;5;241m=\u001b[39m _v\n\u001b[0;32m    596\u001b[0m _v \u001b[38;5;241m=\u001b[39m arg\u001b[38;5;241m.\u001b[39mpop(\u001b[38;5;124m\"\u001b[39m\u001b[38;5;124mvaluessrc\u001b[39m\u001b[38;5;124m\"\u001b[39m, \u001b[38;5;28;01mNone\u001b[39;00m)\n\u001b[0;32m    597\u001b[0m _v \u001b[38;5;241m=\u001b[39m valuessrc \u001b[38;5;28;01mif\u001b[39;00m valuessrc \u001b[38;5;129;01mis\u001b[39;00m \u001b[38;5;129;01mnot\u001b[39;00m \u001b[38;5;28;01mNone\u001b[39;00m \u001b[38;5;28;01melse\u001b[39;00m _v\n",
      "File \u001b[1;32m~\\AppData\\Local\\Packages\\PythonSoftwareFoundation.Python.3.9_qbz5n2kfra8p0\\LocalCache\\local-packages\\Python39\\site-packages\\plotly\\basedatatypes.py:4876\u001b[0m, in \u001b[0;36mBasePlotlyType.__setitem__\u001b[1;34m(self, prop, value)\u001b[0m\n\u001b[0;32m   4872\u001b[0m         \u001b[38;5;28mself\u001b[39m\u001b[38;5;241m.\u001b[39m_set_array_prop(prop, value)\n\u001b[0;32m   4874\u001b[0m     \u001b[38;5;66;03m# ### Handle simple property ###\u001b[39;00m\n\u001b[0;32m   4875\u001b[0m     \u001b[38;5;28;01melse\u001b[39;00m:\n\u001b[1;32m-> 4876\u001b[0m         \u001b[38;5;28;43mself\u001b[39;49m\u001b[38;5;241;43m.\u001b[39;49m\u001b[43m_set_prop\u001b[49m\u001b[43m(\u001b[49m\u001b[43mprop\u001b[49m\u001b[43m,\u001b[49m\u001b[43m \u001b[49m\u001b[43mvalue\u001b[49m\u001b[43m)\u001b[49m\n\u001b[0;32m   4877\u001b[0m \u001b[38;5;28;01melse\u001b[39;00m:\n\u001b[0;32m   4878\u001b[0m     \u001b[38;5;66;03m# Make sure properties dict is initialized\u001b[39;00m\n\u001b[0;32m   4879\u001b[0m     \u001b[38;5;28mself\u001b[39m\u001b[38;5;241m.\u001b[39m_init_props()\n",
      "File \u001b[1;32m~\\AppData\\Local\\Packages\\PythonSoftwareFoundation.Python.3.9_qbz5n2kfra8p0\\LocalCache\\local-packages\\Python39\\site-packages\\plotly\\basedatatypes.py:5220\u001b[0m, in \u001b[0;36mBasePlotlyType._set_prop\u001b[1;34m(self, prop, val)\u001b[0m\n\u001b[0;32m   5218\u001b[0m         \u001b[38;5;28;01mreturn\u001b[39;00m\n\u001b[0;32m   5219\u001b[0m     \u001b[38;5;28;01melse\u001b[39;00m:\n\u001b[1;32m-> 5220\u001b[0m         \u001b[38;5;28;01mraise\u001b[39;00m err\n\u001b[0;32m   5222\u001b[0m \u001b[38;5;66;03m# val is None\u001b[39;00m\n\u001b[0;32m   5223\u001b[0m \u001b[38;5;66;03m# -----------\u001b[39;00m\n\u001b[0;32m   5224\u001b[0m \u001b[38;5;28;01mif\u001b[39;00m val \u001b[38;5;129;01mis\u001b[39;00m \u001b[38;5;28;01mNone\u001b[39;00m:\n\u001b[0;32m   5225\u001b[0m     \u001b[38;5;66;03m# Check if we should send null update\u001b[39;00m\n",
      "File \u001b[1;32m~\\AppData\\Local\\Packages\\PythonSoftwareFoundation.Python.3.9_qbz5n2kfra8p0\\LocalCache\\local-packages\\Python39\\site-packages\\plotly\\basedatatypes.py:5215\u001b[0m, in \u001b[0;36mBasePlotlyType._set_prop\u001b[1;34m(self, prop, val)\u001b[0m\n\u001b[0;32m   5212\u001b[0m validator \u001b[38;5;241m=\u001b[39m \u001b[38;5;28mself\u001b[39m\u001b[38;5;241m.\u001b[39m_get_validator(prop)\n\u001b[0;32m   5214\u001b[0m \u001b[38;5;28;01mtry\u001b[39;00m:\n\u001b[1;32m-> 5215\u001b[0m     val \u001b[38;5;241m=\u001b[39m \u001b[43mvalidator\u001b[49m\u001b[38;5;241;43m.\u001b[39;49m\u001b[43mvalidate_coerce\u001b[49m\u001b[43m(\u001b[49m\u001b[43mval\u001b[49m\u001b[43m)\u001b[49m\n\u001b[0;32m   5216\u001b[0m \u001b[38;5;28;01mexcept\u001b[39;00m \u001b[38;5;167;01mValueError\u001b[39;00m \u001b[38;5;28;01mas\u001b[39;00m err:\n\u001b[0;32m   5217\u001b[0m     \u001b[38;5;28;01mif\u001b[39;00m \u001b[38;5;28mself\u001b[39m\u001b[38;5;241m.\u001b[39m_skip_invalid:\n",
      "File \u001b[1;32m~\\AppData\\Local\\Packages\\PythonSoftwareFoundation.Python.3.9_qbz5n2kfra8p0\\LocalCache\\local-packages\\Python39\\site-packages\\_plotly_utils\\basevalidators.py:403\u001b[0m, in \u001b[0;36mDataArrayValidator.validate_coerce\u001b[1;34m(self, v)\u001b[0m\n\u001b[0;32m    401\u001b[0m     v \u001b[38;5;241m=\u001b[39m to_scalar_or_list(v)\n\u001b[0;32m    402\u001b[0m \u001b[38;5;28;01melse\u001b[39;00m:\n\u001b[1;32m--> 403\u001b[0m     \u001b[38;5;28;43mself\u001b[39;49m\u001b[38;5;241;43m.\u001b[39;49m\u001b[43mraise_invalid_val\u001b[49m\u001b[43m(\u001b[49m\u001b[43mv\u001b[49m\u001b[43m)\u001b[49m\n\u001b[0;32m    404\u001b[0m \u001b[38;5;28;01mreturn\u001b[39;00m v\n",
      "File \u001b[1;32m~\\AppData\\Local\\Packages\\PythonSoftwareFoundation.Python.3.9_qbz5n2kfra8p0\\LocalCache\\local-packages\\Python39\\site-packages\\_plotly_utils\\basevalidators.py:287\u001b[0m, in \u001b[0;36mBaseValidator.raise_invalid_val\u001b[1;34m(self, v, inds)\u001b[0m\n\u001b[0;32m    284\u001b[0m             \u001b[38;5;28;01mfor\u001b[39;00m i \u001b[38;5;129;01min\u001b[39;00m inds:\n\u001b[0;32m    285\u001b[0m                 name \u001b[38;5;241m+\u001b[39m\u001b[38;5;241m=\u001b[39m \u001b[38;5;124m\"\u001b[39m\u001b[38;5;124m[\u001b[39m\u001b[38;5;124m\"\u001b[39m \u001b[38;5;241m+\u001b[39m \u001b[38;5;28mstr\u001b[39m(i) \u001b[38;5;241m+\u001b[39m \u001b[38;5;124m\"\u001b[39m\u001b[38;5;124m]\u001b[39m\u001b[38;5;124m\"\u001b[39m\n\u001b[1;32m--> 287\u001b[0m         \u001b[38;5;28;01mraise\u001b[39;00m \u001b[38;5;167;01mValueError\u001b[39;00m(\n\u001b[0;32m    288\u001b[0m \u001b[38;5;250m            \u001b[39m\u001b[38;5;124;03m\"\"\"\u001b[39;00m\n\u001b[0;32m    289\u001b[0m \u001b[38;5;124;03m    Invalid value of type {typ} received for the '{name}' property of {pname}\u001b[39;00m\n\u001b[0;32m    290\u001b[0m \u001b[38;5;124;03m        Received value: {v}\u001b[39;00m\n\u001b[0;32m    291\u001b[0m \n\u001b[0;32m    292\u001b[0m \u001b[38;5;124;03m{valid_clr_desc}\"\"\"\u001b[39;00m\u001b[38;5;241m.\u001b[39mformat(\n\u001b[0;32m    293\u001b[0m                 name\u001b[38;5;241m=\u001b[39mname,\n\u001b[0;32m    294\u001b[0m                 pname\u001b[38;5;241m=\u001b[39m\u001b[38;5;28mself\u001b[39m\u001b[38;5;241m.\u001b[39mparent_name,\n\u001b[0;32m    295\u001b[0m                 typ\u001b[38;5;241m=\u001b[39mtype_str(v),\n\u001b[0;32m    296\u001b[0m                 v\u001b[38;5;241m=\u001b[39m\u001b[38;5;28mrepr\u001b[39m(v),\n\u001b[0;32m    297\u001b[0m                 valid_clr_desc\u001b[38;5;241m=\u001b[39m\u001b[38;5;28mself\u001b[39m\u001b[38;5;241m.\u001b[39mdescription(),\n\u001b[0;32m    298\u001b[0m             )\n\u001b[0;32m    299\u001b[0m         )\n",
      "\u001b[1;31mValueError\u001b[0m: \n    Invalid value of type 'pandas.io.formats.style.Styler' received for the 'values' property of table.cells\n        Received value: <pandas.io.formats.style.Styler object at 0x00000181CC2CA9A0>\n\n    The 'values' property is an array that may be specified as a tuple,\n    list, numpy array, or pandas Series"
     ]
    }
   ],
   "source": [
    "go_player_table = go.Table(\n",
    "    header=dict(\n",
    "        values=[f'<b>{x}</b>' for x in player_table.columns],\n",
    "        line_color='darkslategray',\n",
    "        fill_color='grey'\n",
    "    ),\n",
    "    cells=dict(\n",
    "        values=player_table_styled\n",
    "    )\n",
    ")\n",
    "\n",
    "fig4 = go.Figure(\n",
    "    go_player_table\n",
    ")\n",
    "\n",
    "fig.show()"
   ]
  },
  {
   "cell_type": "code",
   "execution_count": 12,
   "metadata": {},
   "outputs": [],
   "source": [
    "# # system optimization\n",
    "\n",
    "# def optimization1():\n",
    "#     index = [_ for _ in np.arange(1, 51, 1.0)]\n",
    "#     columns = [_ for _ in np.arange(2, 11, 1.0)]\n",
    "\n",
    "#     opt_table = pd.DataFrame(np.zeros([len(index), len(columns)]))\n",
    "#     opt_table.index = index\n",
    "#     opt_table.columns = columns\n",
    "\n",
    "#     for base in opt_table.columns:\n",
    "#         for K in opt_table.index:\n",
    "#             (elo, elo_time_table, prev_elo_time_table, d_elo_time_table, exp_elo_time_table, record_table, luck_table, plus_minus_table) = generate_elo(K=K,base=base)\n",
    "#             num_upsets = 0\n",
    "#             for i in elo_time_table.index:\n",
    "#                 prev_elo_slice = prev_elo_time_table.loc[i,:].dropna().values\n",
    "#                 elo_slice = elo_time_table.loc[i,:].dropna().values\n",
    "#                 combo_elo = np.array([prev_elo_slice, elo_slice])\n",
    "#                 is_upset = ((combo_elo[1, 0] - combo_elo[0, 0]) * (combo_elo[0, 1] - combo_elo[0, 0])) > 0\n",
    "#                 if is_upset:\n",
    "#                     num_upsets += 1\n",
    "#             opt_table.loc[K,base] = num_upsets\n",
    "\n",
    "#     fig = px.imshow(opt_table.T,labels=dict(y=\"Base\", x=\"K-value\", color=\"Number of Upsets\"))#, text_auto=True, aspect=\"auto\")\n",
    "#     fig.update_layout(\n",
    "#         title=\"<b>Total Number of Upsets against K-Value and Base</b>\"\n",
    "#     )\n",
    "#     fig.show()\n",
    "#     return opt_table\n",
    "# opt1 = optimization1()\n",
    "# fig.write_html(\"figures/opt1.html\")"
   ]
  },
  {
   "cell_type": "code",
   "execution_count": 13,
   "metadata": {},
   "outputs": [],
   "source": [
    "# # system optimization\n",
    "\n",
    "# def optimization2():\n",
    "#     index = [_ for _ in np.arange(1, 51, 1.0)]\n",
    "#     columns = [_ for _ in np.arange(2, 11, 1.0)]\n",
    "\n",
    "#     opt_table = pd.DataFrame(np.zeros([len(index), len(columns)]))\n",
    "#     opt_table.index = index\n",
    "#     opt_table.columns = columns\n",
    "\n",
    "#     for base in opt_table.columns:\n",
    "#         for K in opt_table.index:\n",
    "#             (elo, elo_time_table, prev_elo_time_table, d_elo_time_table, exp_elo_time_table, record_table, luck_table, plus_minus_table) = generate_elo(K=K,base=base)\n",
    "#             total_correctness = 0\n",
    "#             for i in elo_time_table.index:\n",
    "#                 d_elo_slice = d_elo_time_table.loc[i,:].dropna().values\n",
    "#                 exp_elo_slice = exp_elo_time_table.loc[i,:].dropna().values\n",
    "#                 correctness = (np.sign(d_elo_slice) * exp_elo_slice).sum()\n",
    "#                 total_correctness += correctness\n",
    "#             opt_table.loc[K,base] = total_correctness\n",
    "\n",
    "#     fig = px.imshow(opt_table.T,labels=dict(y=\"Base\", x=\"K-value\", color=\"Total Correctness\"))#, text_auto=False, aspect=\"auto\")\n",
    "#     fig.update_layout(\n",
    "#         title=\"<b>Win Percentage Correctness against K-Value and Base</b>\"\n",
    "#     )\n",
    "#     fig.show()\n",
    "#     return opt_table\n",
    "# opt2 = optimization2()\n",
    "# fig.write_html(\"figures/opt2.html\")"
   ]
  },
  {
   "cell_type": "code",
   "execution_count": 14,
   "metadata": {},
   "outputs": [],
   "source": [
    "# def norm_minmax(dataframe):\n",
    "#     return ((dataframe - dataframe.min(axis=None)) / (dataframe.max(axis=None) - dataframe.min(axis=None)))\n",
    "\n",
    "# norm_opt1 = norm_minmax(opt1)\n",
    "# norm_opt2 = norm_minmax(opt2)\n",
    "\n",
    "# fig = px.imshow(norm_opt2.T - norm_opt1.T,labels=dict(y=\"Base\", x=\"K-value\", color=\"Normalized Optimization\"), text_auto=False, aspect=\"auto\")\n",
    "# fig.update_layout(\n",
    "#     title=\"<b>K Value and Base against Both Optimization Functions</b>\"\n",
    "# )\n",
    "# fig.show()\n",
    "# fig.write_html(\"figures/opt_total.html\")"
   ]
  }
 ],
 "metadata": {
  "kernelspec": {
   "display_name": "Python 3",
   "language": "python",
   "name": "python3"
  },
  "language_info": {
   "codemirror_mode": {
    "name": "ipython",
    "version": 3
   },
   "file_extension": ".py",
   "mimetype": "text/x-python",
   "name": "python",
   "nbconvert_exporter": "python",
   "pygments_lexer": "ipython3",
   "version": "3.9.13"
  }
 },
 "nbformat": 4,
 "nbformat_minor": 2
}
