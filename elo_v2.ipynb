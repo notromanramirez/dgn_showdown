{
 "cells": [
  {
   "cell_type": "code",
   "execution_count": 1,
   "metadata": {},
   "outputs": [],
   "source": [
    "import pandas as pd\n",
    "import numpy as np\n",
    "\n",
    "from IPython.display import display\n",
    "import datetime\n",
    "import plotly.express as px\n",
    "from plotly.colors import sequential\n",
    "from plotly.colors import diverging\n",
    "\n",
    "from plotly.subplots import make_subplots\n",
    "\n",
    "import math"
   ]
  },
  {
   "cell_type": "code",
   "execution_count": 2,
   "metadata": {},
   "outputs": [
    {
     "data": {
      "text/html": [
       "<div>\n",
       "<style scoped>\n",
       "    .dataframe tbody tr th:only-of-type {\n",
       "        vertical-align: middle;\n",
       "    }\n",
       "\n",
       "    .dataframe tbody tr th {\n",
       "        vertical-align: top;\n",
       "    }\n",
       "\n",
       "    .dataframe thead th {\n",
       "        text-align: right;\n",
       "    }\n",
       "</style>\n",
       "<table border=\"1\" class=\"dataframe\">\n",
       "  <thead>\n",
       "    <tr style=\"text-align: right;\">\n",
       "      <th></th>\n",
       "      <th>Date</th>\n",
       "      <th>Format</th>\n",
       "      <th>Match Number</th>\n",
       "      <th>Stage</th>\n",
       "      <th>Player 1</th>\n",
       "      <th>Player 2</th>\n",
       "      <th>Score 1</th>\n",
       "      <th>Score 2</th>\n",
       "    </tr>\n",
       "  </thead>\n",
       "  <tbody>\n",
       "    <tr>\n",
       "      <th>0</th>\n",
       "      <td>2023-11-18</td>\n",
       "      <td>[Gen 9] OU</td>\n",
       "      <td>1</td>\n",
       "      <td>Group</td>\n",
       "      <td>Evan Sooklal</td>\n",
       "      <td>Will Simpson</td>\n",
       "      <td>2</td>\n",
       "      <td>6</td>\n",
       "    </tr>\n",
       "    <tr>\n",
       "      <th>1</th>\n",
       "      <td>2023-11-18</td>\n",
       "      <td>[Gen 9] OU</td>\n",
       "      <td>2</td>\n",
       "      <td>Group</td>\n",
       "      <td>Paul Bartenfeld</td>\n",
       "      <td>Roman Ramirez</td>\n",
       "      <td>2</td>\n",
       "      <td>6</td>\n",
       "    </tr>\n",
       "    <tr>\n",
       "      <th>2</th>\n",
       "      <td>2023-11-18</td>\n",
       "      <td>[Gen 9] OU</td>\n",
       "      <td>3</td>\n",
       "      <td>Group</td>\n",
       "      <td>Roman Ramirez</td>\n",
       "      <td>Evan Sooklal</td>\n",
       "      <td>6</td>\n",
       "      <td>3</td>\n",
       "    </tr>\n",
       "    <tr>\n",
       "      <th>3</th>\n",
       "      <td>2023-11-18</td>\n",
       "      <td>[Gen 9] OU</td>\n",
       "      <td>4</td>\n",
       "      <td>Group</td>\n",
       "      <td>Will Simpson</td>\n",
       "      <td>Paul Bartenfeld</td>\n",
       "      <td>6</td>\n",
       "      <td>1</td>\n",
       "    </tr>\n",
       "    <tr>\n",
       "      <th>4</th>\n",
       "      <td>2023-11-18</td>\n",
       "      <td>[Gen 9] OU</td>\n",
       "      <td>5</td>\n",
       "      <td>Group</td>\n",
       "      <td>Paul Bartenfeld</td>\n",
       "      <td>Evan Sooklal</td>\n",
       "      <td>1</td>\n",
       "      <td>6</td>\n",
       "    </tr>\n",
       "    <tr>\n",
       "      <th>...</th>\n",
       "      <td>...</td>\n",
       "      <td>...</td>\n",
       "      <td>...</td>\n",
       "      <td>...</td>\n",
       "      <td>...</td>\n",
       "      <td>...</td>\n",
       "      <td>...</td>\n",
       "      <td>...</td>\n",
       "    </tr>\n",
       "    <tr>\n",
       "      <th>123</th>\n",
       "      <td>2024-06-09</td>\n",
       "      <td>[Gen 9] RU</td>\n",
       "      <td>5a</td>\n",
       "      <td>Group</td>\n",
       "      <td>Evan Sooklal</td>\n",
       "      <td>Lilith Karyadi</td>\n",
       "      <td>5</td>\n",
       "      <td>6</td>\n",
       "    </tr>\n",
       "    <tr>\n",
       "      <th>124</th>\n",
       "      <td>2024-06-09</td>\n",
       "      <td>[Gen 9] RU</td>\n",
       "      <td>6a</td>\n",
       "      <td>Group</td>\n",
       "      <td>Roman Ramirez</td>\n",
       "      <td>Will Simpson</td>\n",
       "      <td>3</td>\n",
       "      <td>6</td>\n",
       "    </tr>\n",
       "    <tr>\n",
       "      <th>125</th>\n",
       "      <td>2024-06-09</td>\n",
       "      <td>[Gen 9] RU</td>\n",
       "      <td>6b</td>\n",
       "      <td>Group</td>\n",
       "      <td>Roman Ramirez</td>\n",
       "      <td>Will Simpson</td>\n",
       "      <td>1</td>\n",
       "      <td>6</td>\n",
       "    </tr>\n",
       "    <tr>\n",
       "      <th>126</th>\n",
       "      <td>2024-06-09</td>\n",
       "      <td>[Gen 9] RU</td>\n",
       "      <td>1</td>\n",
       "      <td>Final</td>\n",
       "      <td>Evan Sooklal</td>\n",
       "      <td>Lilith Karyadi</td>\n",
       "      <td>5</td>\n",
       "      <td>6</td>\n",
       "    </tr>\n",
       "    <tr>\n",
       "      <th>127</th>\n",
       "      <td>2024-06-09</td>\n",
       "      <td>[Gen 9] RU</td>\n",
       "      <td>2</td>\n",
       "      <td>Final</td>\n",
       "      <td>Will Simpson</td>\n",
       "      <td>Lilith Karyadi</td>\n",
       "      <td>6</td>\n",
       "      <td>5</td>\n",
       "    </tr>\n",
       "  </tbody>\n",
       "</table>\n",
       "<p>128 rows × 8 columns</p>\n",
       "</div>"
      ],
      "text/plain": [
       "           Date      Format Match Number  Stage         Player 1  \\\n",
       "0    2023-11-18  [Gen 9] OU            1  Group     Evan Sooklal   \n",
       "1    2023-11-18  [Gen 9] OU            2  Group  Paul Bartenfeld   \n",
       "2    2023-11-18  [Gen 9] OU            3  Group    Roman Ramirez   \n",
       "3    2023-11-18  [Gen 9] OU            4  Group     Will Simpson   \n",
       "4    2023-11-18  [Gen 9] OU            5  Group  Paul Bartenfeld   \n",
       "..          ...         ...          ...    ...              ...   \n",
       "123  2024-06-09  [Gen 9] RU           5a  Group     Evan Sooklal   \n",
       "124  2024-06-09  [Gen 9] RU           6a  Group    Roman Ramirez   \n",
       "125  2024-06-09  [Gen 9] RU           6b  Group    Roman Ramirez   \n",
       "126  2024-06-09  [Gen 9] RU            1  Final     Evan Sooklal   \n",
       "127  2024-06-09  [Gen 9] RU            2  Final     Will Simpson   \n",
       "\n",
       "            Player 2  Score 1  Score 2  \n",
       "0       Will Simpson        2        6  \n",
       "1      Roman Ramirez        2        6  \n",
       "2       Evan Sooklal        6        3  \n",
       "3    Paul Bartenfeld        6        1  \n",
       "4       Evan Sooklal        1        6  \n",
       "..               ...      ...      ...  \n",
       "123   Lilith Karyadi        5        6  \n",
       "124     Will Simpson        3        6  \n",
       "125     Will Simpson        1        6  \n",
       "126   Lilith Karyadi        5        6  \n",
       "127   Lilith Karyadi        6        5  \n",
       "\n",
       "[128 rows x 8 columns]"
      ]
     },
     "metadata": {},
     "output_type": "display_data"
    }
   ],
   "source": [
    "matches_table = pd.read_csv('data/matches.csv')\n",
    "display(matches_table)"
   ]
  },
  {
   "cell_type": "code",
   "execution_count": 3,
   "metadata": {},
   "outputs": [],
   "source": [
    "updated_time = f'<i>Updated {str(datetime.datetime.now().strftime(\"%A, %b %d, %Y %H:%M:%S\"))} CT</i>'\n",
    "link_fig = \"<a href='https://htmlpreview.github.io/?https://github.com/notromanramirez/dgn_showdown/blob/main/index.html'>ELO Graph</a>\"\n",
    "link_fig1 = \"<a href='https://htmlpreview.github.io/?https://github.com/notromanramirez/dgn_showdown/blob/main/figures/fig1.html'>H2H Stats</a>\"\n",
    "link_fig2 = \"<a href='https://htmlpreview.github.io/?https://github.com/notromanramirez/dgn_showdown/blob/main/figures/fig2.html'>H2H Advanced Stats</a>\"\n",
    "link_fig3 = \"<a href='https://htmlpreview.github.io/?https://github.com/notromanramirez/dgn_showdown/blob/main/figures/fig3.html'>H2H More Stats</a>\"\n",
    "link_fig4 = \"<a href='https://htmlpreview.github.io/?https://github.com/notromanramirez/dgn_showdown/blob/main/figures/fig4.html'>Player Data</a>\"\n",
    "link_fig5 = \"<a href='https://htmlpreview.github.io/?https://github.com/notromanramirez/dgn_showdown/blob/main/figures/fig5.html'>Matches Data</a>\"\n",
    "link_fig6 = \"<a href='https://htmlpreview.github.io/?https://github.com/notromanramirez/dgn_showdown/blob/main/figures/fig6.html'>Money-Lines</a>\""
   ]
  },
  {
   "cell_type": "code",
   "execution_count": 4,
   "metadata": {},
   "outputs": [
    {
     "data": {
      "text/plain": [
       "{'Aaron Carter',\n",
       " 'Evan Sooklal',\n",
       " 'Jack Massingill',\n",
       " 'Lilith Karyadi',\n",
       " 'Paul Bartenfeld',\n",
       " 'Roman Ramirez',\n",
       " 'Will Simpson'}"
      ]
     },
     "metadata": {},
     "output_type": "display_data"
    }
   ],
   "source": [
    "set_player1 = set(matches_table['Player 1'])\n",
    "set_player2 = set(matches_table['Player 2'])\n",
    "set_players = set_player1.union(set_player2)\n",
    "num_players = len(set_players)\n",
    "display(set_players)"
   ]
  },
  {
   "cell_type": "code",
   "execution_count": 5,
   "metadata": {},
   "outputs": [
    {
     "name": "stderr",
     "output_type": "stream",
     "text": [
      "C:\\Users\\justr\\AppData\\Local\\Temp\\ipykernel_29884\\2719908281.py:131: RuntimeWarning: invalid value encountered in scalar divide\n",
      "  luck_per_game_table.loc[r, c] /= record_table.loc[r, c].sum()\n"
     ]
    },
    {
     "data": {
      "text/html": [
       "<div>\n",
       "<style scoped>\n",
       "    .dataframe tbody tr th:only-of-type {\n",
       "        vertical-align: middle;\n",
       "    }\n",
       "\n",
       "    .dataframe tbody tr th {\n",
       "        vertical-align: top;\n",
       "    }\n",
       "\n",
       "    .dataframe thead th {\n",
       "        text-align: right;\n",
       "    }\n",
       "</style>\n",
       "<table border=\"1\" class=\"dataframe\">\n",
       "  <thead>\n",
       "    <tr style=\"text-align: right;\">\n",
       "      <th></th>\n",
       "      <th>Paul Bartenfeld</th>\n",
       "      <th>Jack Massingill</th>\n",
       "      <th>Roman Ramirez</th>\n",
       "      <th>Evan Sooklal</th>\n",
       "      <th>Lilith Karyadi</th>\n",
       "      <th>Will Simpson</th>\n",
       "      <th>Aaron Carter</th>\n",
       "    </tr>\n",
       "  </thead>\n",
       "  <tbody>\n",
       "    <tr>\n",
       "      <th>Paul Bartenfeld</th>\n",
       "      <td>[0, 0]</td>\n",
       "      <td>[0, 0]</td>\n",
       "      <td>[2, 4]</td>\n",
       "      <td>[1, 5]</td>\n",
       "      <td>[0, 0]</td>\n",
       "      <td>[0, 6]</td>\n",
       "      <td>[1, 3]</td>\n",
       "    </tr>\n",
       "    <tr>\n",
       "      <th>Jack Massingill</th>\n",
       "      <td>[0, 0]</td>\n",
       "      <td>[0, 0]</td>\n",
       "      <td>[0, 2]</td>\n",
       "      <td>[0, 2]</td>\n",
       "      <td>[0, 0]</td>\n",
       "      <td>[1, 1]</td>\n",
       "      <td>[0, 2]</td>\n",
       "    </tr>\n",
       "    <tr>\n",
       "      <th>Roman Ramirez</th>\n",
       "      <td>[4, 2]</td>\n",
       "      <td>[2, 0]</td>\n",
       "      <td>[0, 0]</td>\n",
       "      <td>[5, 10]</td>\n",
       "      <td>[0, 2]</td>\n",
       "      <td>[8, 9]</td>\n",
       "      <td>[5, 9]</td>\n",
       "    </tr>\n",
       "    <tr>\n",
       "      <th>Evan Sooklal</th>\n",
       "      <td>[5, 1]</td>\n",
       "      <td>[2, 0]</td>\n",
       "      <td>[10, 5]</td>\n",
       "      <td>[0, 0]</td>\n",
       "      <td>[0, 3]</td>\n",
       "      <td>[5, 12]</td>\n",
       "      <td>[3, 10]</td>\n",
       "    </tr>\n",
       "    <tr>\n",
       "      <th>Lilith Karyadi</th>\n",
       "      <td>[0, 0]</td>\n",
       "      <td>[0, 0]</td>\n",
       "      <td>[2, 0]</td>\n",
       "      <td>[3, 0]</td>\n",
       "      <td>[0, 0]</td>\n",
       "      <td>[0, 3]</td>\n",
       "      <td>[0, 0]</td>\n",
       "    </tr>\n",
       "    <tr>\n",
       "      <th>Will Simpson</th>\n",
       "      <td>[6, 0]</td>\n",
       "      <td>[1, 1]</td>\n",
       "      <td>[9, 8]</td>\n",
       "      <td>[12, 5]</td>\n",
       "      <td>[3, 0]</td>\n",
       "      <td>[0, 0]</td>\n",
       "      <td>[4, 10]</td>\n",
       "    </tr>\n",
       "    <tr>\n",
       "      <th>Aaron Carter</th>\n",
       "      <td>[3, 1]</td>\n",
       "      <td>[2, 0]</td>\n",
       "      <td>[9, 5]</td>\n",
       "      <td>[10, 3]</td>\n",
       "      <td>[0, 0]</td>\n",
       "      <td>[10, 4]</td>\n",
       "      <td>[0, 0]</td>\n",
       "    </tr>\n",
       "  </tbody>\n",
       "</table>\n",
       "</div>"
      ],
      "text/plain": [
       "                Paul Bartenfeld Jack Massingill Roman Ramirez Evan Sooklal  \\\n",
       "Paul Bartenfeld          [0, 0]          [0, 0]        [2, 4]       [1, 5]   \n",
       "Jack Massingill          [0, 0]          [0, 0]        [0, 2]       [0, 2]   \n",
       "Roman Ramirez            [4, 2]          [2, 0]        [0, 0]      [5, 10]   \n",
       "Evan Sooklal             [5, 1]          [2, 0]       [10, 5]       [0, 0]   \n",
       "Lilith Karyadi           [0, 0]          [0, 0]        [2, 0]       [3, 0]   \n",
       "Will Simpson             [6, 0]          [1, 1]        [9, 8]      [12, 5]   \n",
       "Aaron Carter             [3, 1]          [2, 0]        [9, 5]      [10, 3]   \n",
       "\n",
       "                Lilith Karyadi Will Simpson Aaron Carter  \n",
       "Paul Bartenfeld         [0, 0]       [0, 6]       [1, 3]  \n",
       "Jack Massingill         [0, 0]       [1, 1]       [0, 2]  \n",
       "Roman Ramirez           [0, 2]       [8, 9]       [5, 9]  \n",
       "Evan Sooklal            [0, 3]      [5, 12]      [3, 10]  \n",
       "Lilith Karyadi          [0, 0]       [0, 3]       [0, 0]  \n",
       "Will Simpson            [3, 0]       [0, 0]      [4, 10]  \n",
       "Aaron Carter            [0, 0]      [10, 4]       [0, 0]  "
      ]
     },
     "metadata": {},
     "output_type": "display_data"
    },
    {
     "data": {
      "text/html": [
       "<div>\n",
       "<style scoped>\n",
       "    .dataframe tbody tr th:only-of-type {\n",
       "        vertical-align: middle;\n",
       "    }\n",
       "\n",
       "    .dataframe tbody tr th {\n",
       "        vertical-align: top;\n",
       "    }\n",
       "\n",
       "    .dataframe thead th {\n",
       "        text-align: right;\n",
       "    }\n",
       "</style>\n",
       "<table border=\"1\" class=\"dataframe\">\n",
       "  <thead>\n",
       "    <tr style=\"text-align: right;\">\n",
       "      <th></th>\n",
       "      <th>Paul Bartenfeld</th>\n",
       "      <th>Jack Massingill</th>\n",
       "      <th>Roman Ramirez</th>\n",
       "      <th>Evan Sooklal</th>\n",
       "      <th>Lilith Karyadi</th>\n",
       "      <th>Will Simpson</th>\n",
       "      <th>Aaron Carter</th>\n",
       "    </tr>\n",
       "  </thead>\n",
       "  <tbody>\n",
       "    <tr>\n",
       "      <th>Paul Bartenfeld</th>\n",
       "      <td>NaN</td>\n",
       "      <td>NaN</td>\n",
       "      <td>-0.054102</td>\n",
       "      <td>-0.179256</td>\n",
       "      <td>NaN</td>\n",
       "      <td>-0.301516</td>\n",
       "      <td>-0.061861</td>\n",
       "    </tr>\n",
       "    <tr>\n",
       "      <th>Jack Massingill</th>\n",
       "      <td>NaN</td>\n",
       "      <td>NaN</td>\n",
       "      <td>-0.438942</td>\n",
       "      <td>-0.504238</td>\n",
       "      <td>NaN</td>\n",
       "      <td>0.238515</td>\n",
       "      <td>-0.115022</td>\n",
       "    </tr>\n",
       "    <tr>\n",
       "      <th>Roman Ramirez</th>\n",
       "      <td>0.054102</td>\n",
       "      <td>0.438942</td>\n",
       "      <td>NaN</td>\n",
       "      <td>-0.151665</td>\n",
       "      <td>-0.645015</td>\n",
       "      <td>0.063253</td>\n",
       "      <td>0.030219</td>\n",
       "    </tr>\n",
       "    <tr>\n",
       "      <th>Evan Sooklal</th>\n",
       "      <td>0.179256</td>\n",
       "      <td>0.504238</td>\n",
       "      <td>0.151665</td>\n",
       "      <td>NaN</td>\n",
       "      <td>-0.468953</td>\n",
       "      <td>-0.119322</td>\n",
       "      <td>-0.125188</td>\n",
       "    </tr>\n",
       "    <tr>\n",
       "      <th>Lilith Karyadi</th>\n",
       "      <td>NaN</td>\n",
       "      <td>NaN</td>\n",
       "      <td>0.645015</td>\n",
       "      <td>0.468953</td>\n",
       "      <td>NaN</td>\n",
       "      <td>-0.597874</td>\n",
       "      <td>NaN</td>\n",
       "    </tr>\n",
       "    <tr>\n",
       "      <th>Will Simpson</th>\n",
       "      <td>0.301516</td>\n",
       "      <td>-0.238515</td>\n",
       "      <td>-0.063253</td>\n",
       "      <td>0.119322</td>\n",
       "      <td>0.597874</td>\n",
       "      <td>NaN</td>\n",
       "      <td>-0.173710</td>\n",
       "    </tr>\n",
       "    <tr>\n",
       "      <th>Aaron Carter</th>\n",
       "      <td>0.061861</td>\n",
       "      <td>0.115022</td>\n",
       "      <td>-0.030219</td>\n",
       "      <td>0.125188</td>\n",
       "      <td>NaN</td>\n",
       "      <td>0.173710</td>\n",
       "      <td>NaN</td>\n",
       "    </tr>\n",
       "  </tbody>\n",
       "</table>\n",
       "</div>"
      ],
      "text/plain": [
       "                 Paul Bartenfeld  Jack Massingill  Roman Ramirez  \\\n",
       "Paul Bartenfeld              NaN              NaN      -0.054102   \n",
       "Jack Massingill              NaN              NaN      -0.438942   \n",
       "Roman Ramirez           0.054102         0.438942            NaN   \n",
       "Evan Sooklal            0.179256         0.504238       0.151665   \n",
       "Lilith Karyadi               NaN              NaN       0.645015   \n",
       "Will Simpson            0.301516        -0.238515      -0.063253   \n",
       "Aaron Carter            0.061861         0.115022      -0.030219   \n",
       "\n",
       "                 Evan Sooklal  Lilith Karyadi  Will Simpson  Aaron Carter  \n",
       "Paul Bartenfeld     -0.179256             NaN     -0.301516     -0.061861  \n",
       "Jack Massingill     -0.504238             NaN      0.238515     -0.115022  \n",
       "Roman Ramirez       -0.151665       -0.645015      0.063253      0.030219  \n",
       "Evan Sooklal              NaN       -0.468953     -0.119322     -0.125188  \n",
       "Lilith Karyadi       0.468953             NaN     -0.597874           NaN  \n",
       "Will Simpson         0.119322        0.597874           NaN     -0.173710  \n",
       "Aaron Carter         0.125188             NaN      0.173710           NaN  "
      ]
     },
     "metadata": {},
     "output_type": "display_data"
    },
    {
     "data": {
      "text/html": [
       "<div>\n",
       "<style scoped>\n",
       "    .dataframe tbody tr th:only-of-type {\n",
       "        vertical-align: middle;\n",
       "    }\n",
       "\n",
       "    .dataframe tbody tr th {\n",
       "        vertical-align: top;\n",
       "    }\n",
       "\n",
       "    .dataframe thead th {\n",
       "        text-align: right;\n",
       "    }\n",
       "</style>\n",
       "<table border=\"1\" class=\"dataframe\">\n",
       "  <thead>\n",
       "    <tr style=\"text-align: right;\">\n",
       "      <th></th>\n",
       "      <th>Paul Bartenfeld</th>\n",
       "      <th>Jack Massingill</th>\n",
       "      <th>Roman Ramirez</th>\n",
       "      <th>Evan Sooklal</th>\n",
       "      <th>Lilith Karyadi</th>\n",
       "      <th>Will Simpson</th>\n",
       "      <th>Aaron Carter</th>\n",
       "    </tr>\n",
       "  </thead>\n",
       "  <tbody>\n",
       "    <tr>\n",
       "      <th>Paul Bartenfeld</th>\n",
       "      <td>[0, 0]</td>\n",
       "      <td>[0, 0]</td>\n",
       "      <td>[21, 31]</td>\n",
       "      <td>[24, 35]</td>\n",
       "      <td>[0, 0]</td>\n",
       "      <td>[16, 36]</td>\n",
       "      <td>[15, 21]</td>\n",
       "    </tr>\n",
       "    <tr>\n",
       "      <th>Jack Massingill</th>\n",
       "      <td>[0, 0]</td>\n",
       "      <td>[0, 0]</td>\n",
       "      <td>[1, 12]</td>\n",
       "      <td>[3, 12]</td>\n",
       "      <td>[0, 0]</td>\n",
       "      <td>[6, 6]</td>\n",
       "      <td>[7, 12]</td>\n",
       "    </tr>\n",
       "    <tr>\n",
       "      <th>Roman Ramirez</th>\n",
       "      <td>[31, 21]</td>\n",
       "      <td>[12, 1]</td>\n",
       "      <td>[0, 0]</td>\n",
       "      <td>[55, 64]</td>\n",
       "      <td>[6, 12]</td>\n",
       "      <td>[71, 66]</td>\n",
       "      <td>[52, 61]</td>\n",
       "    </tr>\n",
       "    <tr>\n",
       "      <th>Evan Sooklal</th>\n",
       "      <td>[35, 24]</td>\n",
       "      <td>[12, 3]</td>\n",
       "      <td>[64, 55]</td>\n",
       "      <td>[0, 0]</td>\n",
       "      <td>[12, 18]</td>\n",
       "      <td>[53, 83]</td>\n",
       "      <td>[45, 66]</td>\n",
       "    </tr>\n",
       "    <tr>\n",
       "      <th>Lilith Karyadi</th>\n",
       "      <td>[0, 0]</td>\n",
       "      <td>[0, 0]</td>\n",
       "      <td>[12, 6]</td>\n",
       "      <td>[18, 12]</td>\n",
       "      <td>[0, 0]</td>\n",
       "      <td>[12, 18]</td>\n",
       "      <td>[0, 0]</td>\n",
       "    </tr>\n",
       "    <tr>\n",
       "      <th>Will Simpson</th>\n",
       "      <td>[36, 16]</td>\n",
       "      <td>[6, 6]</td>\n",
       "      <td>[66, 71]</td>\n",
       "      <td>[83, 53]</td>\n",
       "      <td>[18, 12]</td>\n",
       "      <td>[0, 0]</td>\n",
       "      <td>[35, 59]</td>\n",
       "    </tr>\n",
       "    <tr>\n",
       "      <th>Aaron Carter</th>\n",
       "      <td>[21, 15]</td>\n",
       "      <td>[12, 7]</td>\n",
       "      <td>[61, 52]</td>\n",
       "      <td>[66, 45]</td>\n",
       "      <td>[0, 0]</td>\n",
       "      <td>[59, 35]</td>\n",
       "      <td>[0, 0]</td>\n",
       "    </tr>\n",
       "  </tbody>\n",
       "</table>\n",
       "</div>"
      ],
      "text/plain": [
       "                Paul Bartenfeld Jack Massingill Roman Ramirez Evan Sooklal  \\\n",
       "Paul Bartenfeld          [0, 0]          [0, 0]      [21, 31]     [24, 35]   \n",
       "Jack Massingill          [0, 0]          [0, 0]       [1, 12]      [3, 12]   \n",
       "Roman Ramirez          [31, 21]         [12, 1]        [0, 0]     [55, 64]   \n",
       "Evan Sooklal           [35, 24]         [12, 3]      [64, 55]       [0, 0]   \n",
       "Lilith Karyadi           [0, 0]          [0, 0]       [12, 6]     [18, 12]   \n",
       "Will Simpson           [36, 16]          [6, 6]      [66, 71]     [83, 53]   \n",
       "Aaron Carter           [21, 15]         [12, 7]      [61, 52]     [66, 45]   \n",
       "\n",
       "                Lilith Karyadi Will Simpson Aaron Carter  \n",
       "Paul Bartenfeld         [0, 0]     [16, 36]     [15, 21]  \n",
       "Jack Massingill         [0, 0]       [6, 6]      [7, 12]  \n",
       "Roman Ramirez          [6, 12]     [71, 66]     [52, 61]  \n",
       "Evan Sooklal          [12, 18]     [53, 83]     [45, 66]  \n",
       "Lilith Karyadi          [0, 0]     [12, 18]       [0, 0]  \n",
       "Will Simpson          [18, 12]       [0, 0]     [35, 59]  \n",
       "Aaron Carter            [0, 0]     [59, 35]       [0, 0]  "
      ]
     },
     "metadata": {},
     "output_type": "display_data"
    },
    {
     "data": {
      "text/html": [
       "<div>\n",
       "<style scoped>\n",
       "    .dataframe tbody tr th:only-of-type {\n",
       "        vertical-align: middle;\n",
       "    }\n",
       "\n",
       "    .dataframe tbody tr th {\n",
       "        vertical-align: top;\n",
       "    }\n",
       "\n",
       "    .dataframe thead th {\n",
       "        text-align: right;\n",
       "    }\n",
       "</style>\n",
       "<table border=\"1\" class=\"dataframe\">\n",
       "  <thead>\n",
       "    <tr style=\"text-align: right;\">\n",
       "      <th></th>\n",
       "      <th>Aaron Carter</th>\n",
       "      <th>Evan Sooklal</th>\n",
       "      <th>Jack Massingill</th>\n",
       "      <th>Lilith Karyadi</th>\n",
       "      <th>Paul Bartenfeld</th>\n",
       "      <th>Roman Ramirez</th>\n",
       "      <th>Will Simpson</th>\n",
       "    </tr>\n",
       "  </thead>\n",
       "  <tbody>\n",
       "    <tr>\n",
       "      <th>1</th>\n",
       "      <td>NaN</td>\n",
       "      <td>-4.0</td>\n",
       "      <td>NaN</td>\n",
       "      <td>NaN</td>\n",
       "      <td>NaN</td>\n",
       "      <td>NaN</td>\n",
       "      <td>4.0</td>\n",
       "    </tr>\n",
       "    <tr>\n",
       "      <th>2</th>\n",
       "      <td>NaN</td>\n",
       "      <td>NaN</td>\n",
       "      <td>NaN</td>\n",
       "      <td>NaN</td>\n",
       "      <td>-4.0</td>\n",
       "      <td>4.0</td>\n",
       "      <td>NaN</td>\n",
       "    </tr>\n",
       "    <tr>\n",
       "      <th>3</th>\n",
       "      <td>NaN</td>\n",
       "      <td>-3.0</td>\n",
       "      <td>NaN</td>\n",
       "      <td>NaN</td>\n",
       "      <td>NaN</td>\n",
       "      <td>3.0</td>\n",
       "      <td>NaN</td>\n",
       "    </tr>\n",
       "    <tr>\n",
       "      <th>4</th>\n",
       "      <td>NaN</td>\n",
       "      <td>NaN</td>\n",
       "      <td>NaN</td>\n",
       "      <td>NaN</td>\n",
       "      <td>-5.0</td>\n",
       "      <td>NaN</td>\n",
       "      <td>5.0</td>\n",
       "    </tr>\n",
       "    <tr>\n",
       "      <th>5</th>\n",
       "      <td>NaN</td>\n",
       "      <td>5.0</td>\n",
       "      <td>NaN</td>\n",
       "      <td>NaN</td>\n",
       "      <td>-5.0</td>\n",
       "      <td>NaN</td>\n",
       "      <td>NaN</td>\n",
       "    </tr>\n",
       "    <tr>\n",
       "      <th>...</th>\n",
       "      <td>...</td>\n",
       "      <td>...</td>\n",
       "      <td>...</td>\n",
       "      <td>...</td>\n",
       "      <td>...</td>\n",
       "      <td>...</td>\n",
       "      <td>...</td>\n",
       "    </tr>\n",
       "    <tr>\n",
       "      <th>124</th>\n",
       "      <td>NaN</td>\n",
       "      <td>-1.0</td>\n",
       "      <td>NaN</td>\n",
       "      <td>1.0</td>\n",
       "      <td>NaN</td>\n",
       "      <td>NaN</td>\n",
       "      <td>NaN</td>\n",
       "    </tr>\n",
       "    <tr>\n",
       "      <th>125</th>\n",
       "      <td>NaN</td>\n",
       "      <td>NaN</td>\n",
       "      <td>NaN</td>\n",
       "      <td>NaN</td>\n",
       "      <td>NaN</td>\n",
       "      <td>-3.0</td>\n",
       "      <td>3.0</td>\n",
       "    </tr>\n",
       "    <tr>\n",
       "      <th>126</th>\n",
       "      <td>NaN</td>\n",
       "      <td>NaN</td>\n",
       "      <td>NaN</td>\n",
       "      <td>NaN</td>\n",
       "      <td>NaN</td>\n",
       "      <td>-5.0</td>\n",
       "      <td>5.0</td>\n",
       "    </tr>\n",
       "    <tr>\n",
       "      <th>127</th>\n",
       "      <td>NaN</td>\n",
       "      <td>-1.0</td>\n",
       "      <td>NaN</td>\n",
       "      <td>1.0</td>\n",
       "      <td>NaN</td>\n",
       "      <td>NaN</td>\n",
       "      <td>NaN</td>\n",
       "    </tr>\n",
       "    <tr>\n",
       "      <th>128</th>\n",
       "      <td>NaN</td>\n",
       "      <td>NaN</td>\n",
       "      <td>NaN</td>\n",
       "      <td>-1.0</td>\n",
       "      <td>NaN</td>\n",
       "      <td>NaN</td>\n",
       "      <td>1.0</td>\n",
       "    </tr>\n",
       "  </tbody>\n",
       "</table>\n",
       "<p>128 rows × 7 columns</p>\n",
       "</div>"
      ],
      "text/plain": [
       "     Aaron Carter  Evan Sooklal  Jack Massingill  Lilith Karyadi  \\\n",
       "1             NaN          -4.0              NaN             NaN   \n",
       "2             NaN           NaN              NaN             NaN   \n",
       "3             NaN          -3.0              NaN             NaN   \n",
       "4             NaN           NaN              NaN             NaN   \n",
       "5             NaN           5.0              NaN             NaN   \n",
       "..            ...           ...              ...             ...   \n",
       "124           NaN          -1.0              NaN             1.0   \n",
       "125           NaN           NaN              NaN             NaN   \n",
       "126           NaN           NaN              NaN             NaN   \n",
       "127           NaN          -1.0              NaN             1.0   \n",
       "128           NaN           NaN              NaN            -1.0   \n",
       "\n",
       "     Paul Bartenfeld  Roman Ramirez  Will Simpson  \n",
       "1                NaN            NaN           4.0  \n",
       "2               -4.0            4.0           NaN  \n",
       "3                NaN            3.0           NaN  \n",
       "4               -5.0            NaN           5.0  \n",
       "5               -5.0            NaN           NaN  \n",
       "..               ...            ...           ...  \n",
       "124              NaN            NaN           NaN  \n",
       "125              NaN           -3.0           3.0  \n",
       "126              NaN           -5.0           5.0  \n",
       "127              NaN            NaN           NaN  \n",
       "128              NaN            NaN           1.0  \n",
       "\n",
       "[128 rows x 7 columns]"
      ]
     },
     "metadata": {},
     "output_type": "display_data"
    }
   ],
   "source": [
    "# elo stuff\n",
    "K = 31\n",
    "base = 3\n",
    "\n",
    "def expected_score(ratingA, ratingB, base=None):\n",
    "    # game variables\n",
    "    # base = 10\n",
    "    normal_elo_difference = 100\n",
    "\n",
    "    return (1 / (1 + np.power(base, (ratingB - ratingA) / normal_elo_difference)))\n",
    "\n",
    "def rating_change(score, expected_score, K=None):\n",
    "    # k-factor: determines how strongly a result affects the rating change\n",
    "    # usually between 10 and 40, bit with a lot of games, we want to change it often\n",
    "    # K = 32\n",
    "    return K * (score - expected_score)\n",
    "\n",
    "def sort_index_by_elo(table, elo):\n",
    "    for i in range(2):\n",
    "        table.sort_index(axis=i, key=(lambda x: [elo[y] for y in x.values]), inplace=True)\n",
    "\n",
    "def add_elo_to_index(table):\n",
    "    table.index= [f\"{x}<br>{(elo[x]):,.0f}\" for x in table.index]\n",
    "    table.columns = [f\"{x}<br>({(elo[x]):,.0f})\" for x in table.columns]\n",
    "\n",
    "def generate_elo(K, base):\n",
    "    # ELO INITIALIZATION\n",
    "    starting_elo = 1200.0\n",
    "    elo = dict.fromkeys(set_players, starting_elo)\n",
    "    elo_time = np.zeros([len(matches_table) + 1, num_players])\n",
    "    elo_time_table = pd.DataFrame(elo_time)\n",
    "    elo_time_table.columns = sorted(elo)\n",
    "    elo_time_table.replace(0, np.NaN, inplace=True)\n",
    "\n",
    "    prev_elo_time_table = elo_time_table.copy(deep=True)\n",
    "    d_elo_time_table = elo_time_table.copy(deep=True)\n",
    "    exp_elo_time_table = elo_time_table.copy(deep=True)\n",
    "    wl_time_table = elo_time_table.copy(deep=True)\n",
    "\n",
    "    record_table = pd.DataFrame(np.zeros([len(set_players), len(set_players)]),dtype=object)\n",
    "    record_table.index = list(set_players)\n",
    "    record_table.columns = list(set_players)\n",
    "\n",
    "    luck_table = pd.DataFrame(np.zeros([len(set_players), len(set_players)]))\n",
    "    luck_table.index = list(set_players)\n",
    "    luck_table.columns = list(set_players)\n",
    "\n",
    "    for c in record_table.columns:\n",
    "        for r in record_table.index:\n",
    "            record_table.at[r, c] = np.array([0, 0])\n",
    "\n",
    "    plus_minus_table = pd.DataFrame(np.zeros([len(set_players), len(set_players)]),dtype=object)\n",
    "    plus_minus_table.index = list(set_players)\n",
    "    plus_minus_table.columns = list(set_players)\n",
    "    \n",
    "    for c in plus_minus_table.columns:\n",
    "        for r in plus_minus_table.index:\n",
    "            plus_minus_table.at[r, c] = np.array([0, 0])\n",
    "\n",
    "    elo_time_table.iloc[0,:] = starting_elo\n",
    "    prev_elo_time_table.iloc[0,:] = starting_elo\n",
    "\n",
    "    for (i, row) in matches_table.iterrows():\n",
    "        elo_p1 = elo[row['Player 1']]\n",
    "        elo_p2 = elo[row['Player 2']]\n",
    "\n",
    "        prev_elo_time_table.loc[i + 1, row['Player 1']] = elo_p1\n",
    "        prev_elo_time_table.loc[i + 1, row['Player 2']] = elo_p2\n",
    "        \n",
    "        win_prob_p1 = expected_score(elo_p1, elo_p2, base=base)\n",
    "        win_prob_p2 = expected_score(elo_p2, elo_p1, base=base)\n",
    "        \n",
    "        exp_elo_time_table.loc[i + 1, row['Player 1']] = win_prob_p1\n",
    "        exp_elo_time_table.loc[i + 1, row['Player 2']] = win_prob_p2\n",
    "\n",
    "        rating_change_p1 = rating_change(row['Score 1'] > row['Score 2'], win_prob_p1, K=K)\n",
    "        rating_change_p2 = rating_change(row['Score 2'] > row['Score 1'], win_prob_p2, K=K)\n",
    "\n",
    "        if rating_change_p1 > 0:\n",
    "            luck_table.loc[row['Player 1'], row['Player 2']] += 1 - win_prob_p1\n",
    "            luck_table.loc[row['Player 2'], row['Player 1']] += 0 - win_prob_p2\n",
    "        elif rating_change_p2 > 0:\n",
    "            luck_table.loc[row['Player 1'], row['Player 2']] += 0 - win_prob_p1\n",
    "            luck_table.loc[row['Player 2'], row['Player 1']] += 1 - win_prob_p2\n",
    "\n",
    "        plus_minus_table.loc[row['Player 1'], row['Player 2']][0] += row['Score 1']\n",
    "        plus_minus_table.loc[row['Player 1'], row['Player 2']][1] += row['Score 2']\n",
    "        plus_minus_table.loc[row['Player 2'], row['Player 1']][0] += row['Score 2']\n",
    "        plus_minus_table.loc[row['Player 2'], row['Player 1']][1] += row['Score 1']\n",
    "\n",
    "        if row['Score 1'] > row['Score 2']:\n",
    "            record_table.loc[row['Player 1'], row['Player 2']][0] += 1\n",
    "            record_table.loc[row['Player 2'], row['Player 1']][1] += 1\n",
    "            wl_time_table.loc[i + 1, row['Player 1']] = row['Score 1'] - row['Score 2']\n",
    "            wl_time_table.loc[i + 1, row['Player 2']] = row['Score 2'] - row['Score 1']\n",
    "        elif row['Score 2'] > row['Score 1']:\n",
    "            record_table.loc[row['Player 2'], row['Player 1']][0] += 1\n",
    "            record_table.loc[row['Player 1'], row['Player 2']][1] += 1\n",
    "            wl_time_table.loc[i + 1, row['Player 1']] = row['Score 1'] - row['Score 2']\n",
    "            wl_time_table.loc[i + 1, row['Player 2']] = row['Score 2'] - row['Score 1']\n",
    "\n",
    "        d_elo_time_table.loc[i + 1, row['Player 1']] = rating_change_p1\n",
    "        d_elo_time_table.loc[i + 1, row['Player 2']] = rating_change_p2\n",
    "\n",
    "        elo[row['Player 1']] += rating_change_p1\n",
    "        elo[row['Player 2']] += rating_change_p2\n",
    "\n",
    "        elo_time_table.loc[i + 1, row['Player 1']] = elo[row['Player 1']]\n",
    "        elo_time_table.loc[i + 1, row['Player 2']] = elo[row['Player 2']]\n",
    "\n",
    "    prev_elo_time_table = prev_elo_time_table.iloc[1:,:]\n",
    "    elo_time_table = elo_time_table.iloc[1:,:]\n",
    "    d_elo_time_table = d_elo_time_table.iloc[1:,:]\n",
    "    exp_elo_time_table = exp_elo_time_table.iloc[1:,:]\n",
    "    wl_time_table = wl_time_table.iloc[1:,:]\n",
    "\n",
    "    list_players = sorted(set_players, key=lambda x: elo[x], reverse=False)\n",
    "\n",
    "    for table in [record_table, luck_table, plus_minus_table]:\n",
    "        sort_index_by_elo(table, elo)\n",
    "\n",
    "    return (elo, elo_time_table, prev_elo_time_table, d_elo_time_table, exp_elo_time_table, wl_time_table, record_table, luck_table, plus_minus_table)\n",
    "\n",
    "(elo, elo_time_table, prev_elo_time_table, d_elo_time_table, exp_elo_time_table, wl_time_table, record_table, luck_table, plus_minus_table) = generate_elo(K=K,base=base)\n",
    "\n",
    "luck_per_game_table = luck_table.copy(deep=True)\n",
    "\n",
    "for c in luck_per_game_table.columns:\n",
    "    for r in luck_per_game_table.index:\n",
    "        if r !=c :\n",
    "            luck_per_game_table.loc[r, c] /= record_table.loc[r, c].sum()\n",
    "        else:\n",
    "            luck_per_game_table.loc[r, c] = np.NaN\n",
    "\n",
    "\n",
    "display(record_table)\n",
    "display(luck_per_game_table)\n",
    "display(plus_minus_table)\n",
    "display(wl_time_table)\n",
    "\n",
    "prev_elo_time_table.to_excel('exports/prev_elo_time_table.xlsx')\n",
    "d_elo_time_table.to_excel('exports/d_elo_time_table.xlsx')\n",
    "elo_time_table.to_excel('exports/elo_time_table.xlsx')\n",
    "exp_elo_time_table.to_excel('exports/exp_elo_time_table.xlsx')\n",
    "\n"
   ]
  },
  {
   "cell_type": "code",
   "execution_count": 6,
   "metadata": {},
   "outputs": [
    {
     "data": {
      "text/html": [
       "<style type=\"text/css\">\n",
       "#T_2f68a  {\n",
       "  text-align: center;\n",
       "  font-size: 11pt;\n",
       "  border-collapse: collapse;\n",
       "  border: 1px solid silver;\n",
       "}\n",
       "#T_2f68a caption {\n",
       "  font: bold 20px Verdana;\n",
       "}\n",
       "#T_2f68a tr:nth-child(even) {\n",
       "  background-color: #D3D3D3;\n",
       "}\n",
       "#T_2f68a td:hover {\n",
       "  background-color: #ffffb3;\n",
       "}\n",
       "#T_2f68a th {\n",
       "  font-family: Verdana;\n",
       "  background-color: #828282;\n",
       "  color: #FFFFFF;\n",
       "  padding-left: 5px;\n",
       "  padding-right: 5px;\n",
       "}\n",
       "#T_2f68a td {\n",
       "  font-family: Courier New;\n",
       "  font-weight: bold;\n",
       "  padding-left: 5px;\n",
       "  padding-right: 5px;\n",
       "}\n",
       "</style>\n",
       "<table id=\"T_2f68a\">\n",
       "  <caption>Player Table Statistics</caption>\n",
       "  <thead>\n",
       "    <tr>\n",
       "      <th class=\"blank level0\" >&nbsp;</th>\n",
       "      <th class=\"col_heading level0 col0\" >Current ELO</th>\n",
       "      <th class=\"col_heading level0 col1\" >Max ELO</th>\n",
       "      <th class=\"col_heading level0 col2\" >Min ELO</th>\n",
       "      <th class=\"col_heading level0 col3\" >Titles</th>\n",
       "      <th class=\"col_heading level0 col4\" >Runner-Ups</th>\n",
       "      <th class=\"col_heading level0 col5\" >GP</th>\n",
       "      <th class=\"col_heading level0 col6\" >W</th>\n",
       "      <th class=\"col_heading level0 col7\" >L</th>\n",
       "      <th class=\"col_heading level0 col8\" >GB</th>\n",
       "      <th class=\"col_heading level0 col9\" >PCT</th>\n",
       "      <th class=\"col_heading level0 col10\" >PD</th>\n",
       "      <th class=\"col_heading level0 col11\" >PF</th>\n",
       "      <th class=\"col_heading level0 col12\" >PA</th>\n",
       "      <th class=\"col_heading level0 col13\" >PD/G</th>\n",
       "      <th class=\"col_heading level0 col14\" >PF/G</th>\n",
       "      <th class=\"col_heading level0 col15\" >PA/G</th>\n",
       "      <th class=\"col_heading level0 col16\" >Luck/G</th>\n",
       "      <th class=\"col_heading level0 col17\" >1-PT G</th>\n",
       "      <th class=\"col_heading level0 col18\" >6-PT G</th>\n",
       "      <th class=\"col_heading level0 col19\" >Streak</th>\n",
       "      <th class=\"col_heading level0 col20\" >L10</th>\n",
       "    </tr>\n",
       "  </thead>\n",
       "  <tbody>\n",
       "    <tr>\n",
       "      <th class=\"row_heading level0 row0\" >Aaron Carter</th>\n",
       "      <td class=\"data row0 col0\" >1328</td>\n",
       "      <td class=\"data row0 col1\" >1341</td>\n",
       "      <td class=\"data row0 col2\" >1182</td>\n",
       "      <td class=\"data row0 col3\" >3</td>\n",
       "      <td class=\"data row0 col4\" >1</td>\n",
       "      <td class=\"data row0 col5\" >47</td>\n",
       "      <td class=\"data row0 col6\" >34</td>\n",
       "      <td class=\"data row0 col7\" >13</td>\n",
       "      <td class=\"data row0 col8\" >0.0</td>\n",
       "      <td class=\"data row0 col9\" >0.723</td>\n",
       "      <td class=\"data row0 col10\" >+65</td>\n",
       "      <td class=\"data row0 col11\" >219</td>\n",
       "      <td class=\"data row0 col12\" >154</td>\n",
       "      <td class=\"data row0 col13\" >+1.4</td>\n",
       "      <td class=\"data row0 col14\" >4.7</td>\n",
       "      <td class=\"data row0 col15\" >3.3</td>\n",
       "      <td class=\"data row0 col16\" >+8.8%</td>\n",
       "      <td class=\"data row0 col17\" >7-5</td>\n",
       "      <td class=\"data row0 col18\" >1-1</td>\n",
       "      <td class=\"data row0 col19\" >W2</td>\n",
       "      <td class=\"data row0 col20\" >7-3</td>\n",
       "    </tr>\n",
       "    <tr>\n",
       "      <th class=\"row_heading level0 row1\" >Will Simpson</th>\n",
       "      <td class=\"data row1 col0\" >1251</td>\n",
       "      <td class=\"data row1 col1\" >1307</td>\n",
       "      <td class=\"data row1 col2\" >1168</td>\n",
       "      <td class=\"data row1 col3\" >3</td>\n",
       "      <td class=\"data row1 col4\" >2</td>\n",
       "      <td class=\"data row1 col5\" >59</td>\n",
       "      <td class=\"data row1 col6\" >35</td>\n",
       "      <td class=\"data row1 col7\" >24</td>\n",
       "      <td class=\"data row1 col8\" >-5.0</td>\n",
       "      <td class=\"data row1 col9\" >0.593</td>\n",
       "      <td class=\"data row1 col10\" >+27</td>\n",
       "      <td class=\"data row1 col11\" >244</td>\n",
       "      <td class=\"data row1 col12\" >217</td>\n",
       "      <td class=\"data row1 col13\" >+0.5</td>\n",
       "      <td class=\"data row1 col14\" >4.1</td>\n",
       "      <td class=\"data row1 col15\" >3.7</td>\n",
       "      <td class=\"data row1 col16\" >+2.8%</td>\n",
       "      <td class=\"data row1 col17\" >6-3</td>\n",
       "      <td class=\"data row1 col18\" >1-4</td>\n",
       "      <td class=\"data row1 col19\" >W5</td>\n",
       "      <td class=\"data row1 col20\" >6-4</td>\n",
       "    </tr>\n",
       "    <tr>\n",
       "      <th class=\"row_heading level0 row2\" >Lilith Karyadi</th>\n",
       "      <td class=\"data row2 col0\" >1228</td>\n",
       "      <td class=\"data row2 col1\" >1244</td>\n",
       "      <td class=\"data row2 col2\" >1201</td>\n",
       "      <td class=\"data row2 col3\" >0</td>\n",
       "      <td class=\"data row2 col4\" >1</td>\n",
       "      <td class=\"data row2 col5\" >8</td>\n",
       "      <td class=\"data row2 col6\" >5</td>\n",
       "      <td class=\"data row2 col7\" >3</td>\n",
       "      <td class=\"data row2 col8\" >-9.5</td>\n",
       "      <td class=\"data row2 col9\" >0.625</td>\n",
       "      <td class=\"data row2 col10\" >+6</td>\n",
       "      <td class=\"data row2 col11\" >42</td>\n",
       "      <td class=\"data row2 col12\" >36</td>\n",
       "      <td class=\"data row2 col13\" >+0.8</td>\n",
       "      <td class=\"data row2 col14\" >5.2</td>\n",
       "      <td class=\"data row2 col15\" >4.5</td>\n",
       "      <td class=\"data row2 col16\" >+11.3%</td>\n",
       "      <td class=\"data row2 col17\" >2-2</td>\n",
       "      <td class=\"data row2 col18\" >0-0</td>\n",
       "      <td class=\"data row2 col19\" >L1</td>\n",
       "      <td class=\"data row2 col20\" >5-3</td>\n",
       "    </tr>\n",
       "    <tr>\n",
       "      <th class=\"row_heading level0 row3\" >Evan Sooklal</th>\n",
       "      <td class=\"data row3 col0\" >1178</td>\n",
       "      <td class=\"data row3 col1\" >1252</td>\n",
       "      <td class=\"data row3 col2\" >1149</td>\n",
       "      <td class=\"data row3 col3\" >0</td>\n",
       "      <td class=\"data row3 col4\" >2</td>\n",
       "      <td class=\"data row3 col5\" >56</td>\n",
       "      <td class=\"data row3 col6\" >25</td>\n",
       "      <td class=\"data row3 col7\" >31</td>\n",
       "      <td class=\"data row3 col8\" >-13.5</td>\n",
       "      <td class=\"data row3 col9\" >0.446</td>\n",
       "      <td class=\"data row3 col10\" >-28</td>\n",
       "      <td class=\"data row3 col11\" >221</td>\n",
       "      <td class=\"data row3 col12\" >249</td>\n",
       "      <td class=\"data row3 col13\" >-0.5</td>\n",
       "      <td class=\"data row3 col14\" >3.9</td>\n",
       "      <td class=\"data row3 col15\" >4.4</td>\n",
       "      <td class=\"data row3 col16\" >-1.3%</td>\n",
       "      <td class=\"data row3 col17\" >9-8</td>\n",
       "      <td class=\"data row3 col18\" >1-0</td>\n",
       "      <td class=\"data row3 col19\" >L3</td>\n",
       "      <td class=\"data row3 col20\" >4-6</td>\n",
       "    </tr>\n",
       "    <tr>\n",
       "      <th class=\"row_heading level0 row4\" >Roman Ramirez</th>\n",
       "      <td class=\"data row4 col0\" >1173</td>\n",
       "      <td class=\"data row4 col1\" >1307</td>\n",
       "      <td class=\"data row4 col2\" >1118</td>\n",
       "      <td class=\"data row4 col3\" >1</td>\n",
       "      <td class=\"data row4 col4\" >1</td>\n",
       "      <td class=\"data row4 col5\" >56</td>\n",
       "      <td class=\"data row4 col6\" >24</td>\n",
       "      <td class=\"data row4 col7\" >32</td>\n",
       "      <td class=\"data row4 col8\" >-14.5</td>\n",
       "      <td class=\"data row4 col9\" >0.429</td>\n",
       "      <td class=\"data row4 col10\" >+2</td>\n",
       "      <td class=\"data row4 col11\" >227</td>\n",
       "      <td class=\"data row4 col12\" >225</td>\n",
       "      <td class=\"data row4 col13\" >+0.0</td>\n",
       "      <td class=\"data row4 col14\" >4.1</td>\n",
       "      <td class=\"data row4 col15\" >4.0</td>\n",
       "      <td class=\"data row4 col16\" >-1.5%</td>\n",
       "      <td class=\"data row4 col17\" >2-7</td>\n",
       "      <td class=\"data row4 col18\" >4-0</td>\n",
       "      <td class=\"data row4 col19\" >L8</td>\n",
       "      <td class=\"data row4 col20\" >2-8</td>\n",
       "    </tr>\n",
       "    <tr>\n",
       "      <th class=\"row_heading level0 row5\" >Jack Massingill</th>\n",
       "      <td class=\"data row5 col0\" >1149</td>\n",
       "      <td class=\"data row5 col1\" >1181</td>\n",
       "      <td class=\"data row5 col2\" >1127</td>\n",
       "      <td class=\"data row5 col3\" >0</td>\n",
       "      <td class=\"data row5 col4\" >0</td>\n",
       "      <td class=\"data row5 col5\" >8</td>\n",
       "      <td class=\"data row5 col6\" >1</td>\n",
       "      <td class=\"data row5 col7\" >7</td>\n",
       "      <td class=\"data row5 col8\" >-13.5</td>\n",
       "      <td class=\"data row5 col9\" >0.125</td>\n",
       "      <td class=\"data row5 col10\" >-25</td>\n",
       "      <td class=\"data row5 col11\" >17</td>\n",
       "      <td class=\"data row5 col12\" >42</td>\n",
       "      <td class=\"data row5 col13\" >-3.1</td>\n",
       "      <td class=\"data row5 col14\" >2.1</td>\n",
       "      <td class=\"data row5 col15\" >5.2</td>\n",
       "      <td class=\"data row5 col16\" >-20.5%</td>\n",
       "      <td class=\"data row5 col17\" >0-0</td>\n",
       "      <td class=\"data row5 col18\" >1-3</td>\n",
       "      <td class=\"data row5 col19\" >W1</td>\n",
       "      <td class=\"data row5 col20\" >1-7</td>\n",
       "    </tr>\n",
       "    <tr>\n",
       "      <th class=\"row_heading level0 row6\" >Paul Bartenfeld</th>\n",
       "      <td class=\"data row6 col0\" >1093</td>\n",
       "      <td class=\"data row6 col1\" >1184</td>\n",
       "      <td class=\"data row6 col2\" >1093</td>\n",
       "      <td class=\"data row6 col3\" >0</td>\n",
       "      <td class=\"data row6 col4\" >0</td>\n",
       "      <td class=\"data row6 col5\" >22</td>\n",
       "      <td class=\"data row6 col6\" >4</td>\n",
       "      <td class=\"data row6 col7\" >18</td>\n",
       "      <td class=\"data row6 col8\" >-17.5</td>\n",
       "      <td class=\"data row6 col9\" >0.182</td>\n",
       "      <td class=\"data row6 col10\" >-47</td>\n",
       "      <td class=\"data row6 col11\" >76</td>\n",
       "      <td class=\"data row6 col12\" >123</td>\n",
       "      <td class=\"data row6 col13\" >-2.1</td>\n",
       "      <td class=\"data row6 col14\" >3.5</td>\n",
       "      <td class=\"data row6 col15\" >5.6</td>\n",
       "      <td class=\"data row6 col16\" >-15.7%</td>\n",
       "      <td class=\"data row6 col17\" >1-2</td>\n",
       "      <td class=\"data row6 col18\" >0-0</td>\n",
       "      <td class=\"data row6 col19\" >L8</td>\n",
       "      <td class=\"data row6 col20\" >2-8</td>\n",
       "    </tr>\n",
       "  </tbody>\n",
       "</table>\n"
      ],
      "text/plain": [
       "<pandas.io.formats.style.Styler at 0x2a461040e80>"
      ]
     },
     "metadata": {},
     "output_type": "display_data"
    }
   ],
   "source": [
    "# player stats\n",
    "\n",
    "player_table = pd.DataFrame(np.zeros([len(set_players), 0]))\n",
    "player_table.index = set_players\n",
    "player_table.sort_index(axis=0, key=(lambda x: [elo[y] for y in x.values]), ascending=False, inplace=True)\n",
    "\n",
    "# ELO\n",
    "\n",
    "player_table['Current ELO'] = [elo[x] for x in player_table.index]\n",
    "player_table['Max ELO'] = elo_time_table.replace(to_replace=np.NaN, value=-np.inf).max(axis=0)\n",
    "player_table['Min ELO'] = elo_time_table.replace(to_replace=np.NaN, value=np.inf).min(axis=0)\n",
    "\n",
    "date2matches_len = dict.fromkeys(set(matches_table['Date']),0)\n",
    "date2matches_first = dict.fromkeys(set(matches_table['Date']),0)\n",
    "for (i, row) in matches_table.iterrows():\n",
    "    if date2matches_len[row['Date']] == 0:\n",
    "        date2matches_first[row['Date']] = i\n",
    "    date2matches_len[row['Date']] += 1\n",
    "\n",
    "# CHAMPIONSHIPS AND RUNNER UPS\n",
    "\n",
    "championships = dict.fromkeys(set_players, 0)\n",
    "runner_ups = dict.fromkeys(set_players, 0)\n",
    "for date in set(matches_table['Date']):\n",
    "    row = matches_table.iloc[date2matches_first[date] + date2matches_len[date] - 1, :]\n",
    "    if row['Score 1'] > row['Score 2']:\n",
    "        championships[row['Player 1']] += 1\n",
    "        runner_ups[row['Player 2']] += 1\n",
    "    elif row['Score 2'] > row['Score 1']:\n",
    "        championships[row['Player 2']] += 1\n",
    "        runner_ups[row['Player 1']] += 1\n",
    "\n",
    "player_table['Titles'] = pd.DataFrame(championships.values(), index=championships.keys())\n",
    "player_table['Runner-Ups'] = pd.DataFrame(runner_ups.values(), index=runner_ups.keys())\n",
    "\n",
    "# RECORDS\n",
    "\n",
    "player_table['Record'] = record_table.sum(axis=1)\n",
    "player_table['GP'] = [sum(r) for r in player_table['Record']]\n",
    "player_table['W'] = [r[0] for r in player_table['Record']]\n",
    "player_table['L'] = [r[1] for r in player_table['Record']]\n",
    "player_table['WL'] = player_table['W'] - player_table['L']\n",
    "player_table['GB'] = (player_table['WL'] - player_table['WL'].max()) / 2\n",
    "player_table['PCT'] = player_table['W'] / player_table['GP']\n",
    "player_table.drop(columns='Record', inplace=True)\n",
    "\n",
    "# POINTS\n",
    "\n",
    "player_table['Raw +/-'] = plus_minus_table.sum(axis=1)\n",
    "player_table['PD'] = [r[0] - r[1] for r in player_table['Raw +/-']]\n",
    "player_table['PF'] = [r[0] for r in player_table['Raw +/-']]\n",
    "player_table['PA'] = [r[1] for r in player_table['Raw +/-']]\n",
    "player_table['PD/G'] = player_table['PD'] / player_table['GP']\n",
    "player_table['PF/G'] = player_table['PF'] / player_table['GP']\n",
    "player_table['PA/G'] = player_table['PA'] / player_table['GP']\n",
    "player_table.drop(columns='Raw +/-', inplace=True)\n",
    "\n",
    "# LUCK\n",
    "\n",
    "player_table['Luck'] = luck_table.sum(axis=1)\n",
    "player_table['Luck/G'] = player_table['Luck'] / player_table['GP']\n",
    "\n",
    "# N-POINT GAMES\n",
    "npg_table = pd.DataFrame(np.zeros([len(set_players), 0]))\n",
    "npg_table.index = player_table.index\n",
    "sort_index_by_elo(npg_table, elo)\n",
    "\n",
    "for i in range(6):\n",
    "    npg_table[f'{i+1}-PT G'] = [[0, 0] for x in range(len(set_players))]\n",
    "for (i, row) in matches_table.iterrows():\n",
    "    npg_table.loc[row['Player 1'], f\"{abs(row['Score 1'] - row['Score 2'])}-PT G\"][row['Score 1'] < row['Score 2']] += 1\n",
    "    npg_table.loc[row['Player 2'], f\"{abs(row['Score 1'] - row['Score 2'])}-PT G\"][row['Score 1'] > row['Score 2']] += 1\n",
    "\n",
    "# STREAKS\n",
    "\n",
    "streaks = dict.fromkeys(set_players, list())\n",
    "\n",
    "for player in streaks.keys():\n",
    "    running = [0]\n",
    "    for is_win in wl_time_table[player].dropna().reset_index(drop=True).apply(np.sign):\n",
    "        if running[-1] == 0:\n",
    "            running.append(is_win)\n",
    "        elif (is_win > 0) and (running[-1] < 0):\n",
    "            running.append(1)\n",
    "        elif (is_win < 0) and (running[-1] > 0):\n",
    "            running.append(-1)\n",
    "        else:\n",
    "            running.append(running[-1] + is_win)\n",
    "    streaks[player] = running[1:]\n",
    "\n",
    "streaks_table = pd.DataFrame(np.zeros([max([len(x) for x in streaks.values()]), len(set_players)]))\n",
    "streaks_table.columns = set_players\n",
    "streaks_table.sort_index(axis=1, key=(lambda x: [elo[y] for y in x.values]), ascending=False, inplace=True)\n",
    "\n",
    "for player in streaks_table.columns:\n",
    "    streaks_table[player] = pd.Series(streaks[player])\n",
    "\n",
    "for x in ['1-PT G', '6-PT G']:\n",
    "    player_table[x] = npg_table[x]\n",
    "    player_table[x] = [f'{w}-{l}' for (w, l) in player_table[x]]\n",
    "\n",
    "\n",
    "player_table['Streak'] = 0\n",
    "for player in player_table.index:\n",
    "    val = \"\"\n",
    "    if streaks[player][-1] > 0:\n",
    "        val += \"W\"\n",
    "    elif streaks[player][-1] < 0:\n",
    "        val += \"L\"\n",
    "    val += str(int(np.abs(streaks[player][-1])))\n",
    "    player_table.loc[player, 'Streak'] = val\n",
    "\n",
    "player_table['L10'] = \"\"\n",
    "for player in player_table.index:\n",
    "    l10_w = 0\n",
    "    l10_l = 0\n",
    "    for i in range(10):\n",
    "        try:\n",
    "            if streaks[player][-1 - i] > 0:\n",
    "                l10_w += 1\n",
    "            elif streaks[player][-1 - i] < 0:\n",
    "                l10_l += 1\n",
    "        except IndexError:\n",
    "            pass\n",
    "    player_table.loc[player, 'L10'] = f\"{l10_w}-{l10_l}\"\n",
    "\n",
    "player_table.drop('WL', axis=1, inplace=True)\n",
    "player_table.drop('Luck', axis=1, inplace=True)\n",
    "\n",
    "# STYLIZING\n",
    "\n",
    "from pandas.io.formats.style import Styler\n",
    "\n",
    "player_table_styled = Styler(player_table, cell_ids=False).format(\n",
    "    {'Current ELO': '{:.0f}',\n",
    "    'Max ELO': '{:.0f}',\n",
    "    'Min ELO': '{:.0f}',\n",
    "    'WL': '{:+,.0f}',\n",
    "    'GB': '{:,.1f}',\n",
    "    'PCT': '{:,.3f}',\n",
    "    'PD': '{:+.0f}',\n",
    "    'PD/G': '{:+,.1f}',\n",
    "    'PF/G': '{:,.1f}',\n",
    "    'PA/G': '{:,.1f}',\n",
    "    'Luck': '{:+,.1%}',\n",
    "    'Luck/G': '{:+,.1%}'\n",
    "    }\n",
    ")\n",
    "\n",
    "player_table_styled.set_caption(\"Player Table Statistics\")\n",
    "\n",
    "styles = [\n",
    "    {\n",
    "        'selector': '',\n",
    "        'props': [\n",
    "            ('text-align', 'center'),\n",
    "            ('font-size', '11pt'),\n",
    "            ('border-collapse', 'collapse'),#'separated'),\n",
    "            ('border', '1px solid silver')\n",
    "        ]\n",
    "    },\n",
    "    {\n",
    "        'selector': 'caption',\n",
    "        'props': [('font', 'bold 20px Verdana')]\n",
    "    },\n",
    "    {\n",
    "        'selector': 'tr:nth-child(even)',\n",
    "        'props': 'background-color: #D3D3D3'\n",
    "    },\n",
    "    {\n",
    "        'selector': 'td:hover',\n",
    "        'props': [('background-color','#ffffb3')]\n",
    "    },\n",
    "    {\n",
    "        'selector': 'th',\n",
    "        'props': [\n",
    "            ('font-family', 'Verdana'),\n",
    "            ('background-color', '#828282'),\n",
    "            ('color', '#FFFFFF'),\n",
    "            ('padding-left', '5px'),\n",
    "            ('padding-right', '5px')\n",
    "        ]\n",
    "    },\n",
    "    {\n",
    "        'selector': 'td',\n",
    "        'props': [\n",
    "            ('font-family', 'Courier New'),\n",
    "            ('font-weight', 'bold'),\n",
    "            ('padding-left', '5px'),\n",
    "            ('padding-right', '5px')\n",
    "        ]\n",
    "    }\n",
    "]\n",
    "\n",
    "player_table_styled.set_table_styles(styles, overwrite=True)\n",
    "\n",
    "with pd.option_context('display.max_rows', None, 'display.max_columns', None):\n",
    "    display(player_table_styled)\n",
    "\n",
    "player_table_styled.to_html('figures/fig4.html')\n",
    "\n",
    "matches_table_styled = Styler(matches_table, cell_ids=False)\n",
    "matches_table_styled.set_caption(\"Matches Table\")\n",
    "matches_table_styled.set_table_styles(styles, overwrite=True)\n",
    "matches_table_styled.to_html('figures/fig5.html')\n",
    "\n"
   ]
  },
  {
   "cell_type": "code",
   "execution_count": 7,
   "metadata": {},
   "outputs": [
    {
     "data": {
      "application/vnd.plotly.v1+json": {
       "config": {
        "plotlyServerURL": "https://plot.ly"
       },
       "data": [
        {
         "connectgaps": true,
         "customdata": [
          [
           "Evan Sooklal",
           "Will Simpson",
           2,
           6,
           "2023-11-18",
           "[Gen 9] OU",
           "1"
          ],
          [
           "Paul Bartenfeld",
           "Roman Ramirez",
           2,
           6,
           "2023-11-18",
           "[Gen 9] OU",
           "2"
          ],
          [
           "Roman Ramirez",
           "Evan Sooklal",
           6,
           3,
           "2023-11-18",
           "[Gen 9] OU",
           "3"
          ],
          [
           "Will Simpson",
           "Paul Bartenfeld",
           6,
           1,
           "2023-11-18",
           "[Gen 9] OU",
           "4"
          ],
          [
           "Paul Bartenfeld",
           "Evan Sooklal",
           1,
           6,
           "2023-11-18",
           "[Gen 9] OU",
           "5"
          ],
          [
           "Will Simpson",
           "Roman Ramirez",
           3,
           6,
           "2023-11-18",
           "[Gen 9] OU",
           "6"
          ],
          [
           "Will Simpson",
           "Evan Sooklal",
           6,
           2,
           "2023-11-18",
           "[Gen 9] OU",
           "7"
          ],
          [
           "Roman Ramirez",
           "Paul Bartenfeld",
           6,
           4,
           "2023-11-18",
           "[Gen 9] OU",
           "8"
          ],
          [
           "Evan Sooklal",
           "Roman Ramirez",
           6,
           5,
           "2023-11-18",
           "[Gen 9] OU",
           "9"
          ],
          [
           "Paul Bartenfeld",
           "Will Simpson",
           4,
           6,
           "2023-11-18",
           "[Gen 9] OU",
           "10"
          ],
          [
           "Evan Sooklal",
           "Paul Bartenfeld",
           6,
           5,
           "2023-11-18",
           "[Gen 9] OU",
           "11"
          ],
          [
           "Roman Ramirez",
           "Will Simpson",
           6,
           2,
           "2023-11-18",
           "[Gen 9] OU",
           "12"
          ],
          [
           "Roman Ramirez",
           "Will Simpson",
           2,
           6,
           "2023-11-18",
           "[Gen 9] OU",
           "1"
          ],
          [
           "Will Simpson",
           "Roman Ramirez",
           4,
           6,
           "2023-11-18",
           "[Gen 9] OU",
           "2"
          ],
          [
           "Roman Ramirez",
           "Will Simpson",
           6,
           4,
           "2023-11-18",
           "[Gen 9] OU",
           "3"
          ],
          [
           "Roman Ramirez",
           "Aaron Carter",
           4,
           6,
           "2023-12-02",
           "[Gen 9] OU",
           "1"
          ],
          [
           "Will Simpson",
           "Paul Bartenfeld",
           6,
           4,
           "2023-12-02",
           "[Gen 9] OU",
           "2"
          ],
          [
           "Aaron Carter",
           "Will Simpson",
           4,
           6,
           "2023-12-02",
           "[Gen 9] OU",
           "3"
          ],
          [
           "Evan Sooklal",
           "Roman Ramirez",
           6,
           2,
           "2023-12-02",
           "[Gen 9] OU",
           "4"
          ],
          [
           "Will Simpson",
           "Evan Sooklal",
           6,
           2,
           "2023-12-02",
           "[Gen 9] OU",
           "5"
          ],
          [
           "Paul Bartenfeld",
           "Aaron Carter",
           6,
           3,
           "2023-12-02",
           "[Gen 9] OU",
           "6"
          ],
          [
           "Evan Sooklal",
           "Paul Bartenfeld",
           6,
           4,
           "2023-12-02",
           "[Gen 9] OU",
           "7"
          ],
          [
           "Roman Ramirez",
           "Will Simpson",
           6,
           4,
           "2023-12-02",
           "[Gen 9] OU",
           "8"
          ],
          [
           "Paul Bartenfeld",
           "Roman Ramirez",
           6,
           3,
           "2023-12-02",
           "[Gen 9] OU",
           "9"
          ],
          [
           "Aaron Carter",
           "Evan Sooklal",
           6,
           3,
           "2023-12-02",
           "[Gen 9] OU",
           "10"
          ],
          [
           "Aaron Carter",
           "Roman Ramirez",
           0,
           6,
           "2023-12-02",
           "[Gen 9] OU",
           "11"
          ],
          [
           "Paul Bartenfeld",
           "Will Simpson",
           1,
           6,
           "2023-12-02",
           "[Gen 9] OU",
           "12"
          ],
          [
           "Will Simpson",
           "Aaron Carter",
           3,
           6,
           "2023-12-02",
           "[Gen 9] OU",
           "13"
          ],
          [
           "Roman Ramirez",
           "Evan Sooklal",
           2,
           6,
           "2023-12-02",
           "[Gen 9] OU",
           "14"
          ],
          [
           "Evan Sooklal",
           "Will Simpson",
           5,
           6,
           "2023-12-02",
           "[Gen 9] OU",
           "15"
          ],
          [
           "Aaron Carter",
           "Paul Bartenfeld",
           6,
           3,
           "2023-12-02",
           "[Gen 9] OU",
           "16"
          ],
          [
           "Paul Bartenfeld",
           "Evan Sooklal",
           6,
           5,
           "2023-12-02",
           "[Gen 9] OU",
           "17"
          ],
          [
           "Will Simpson",
           "Roman Ramirez",
           6,
           5,
           "2023-12-02",
           "[Gen 9] OU",
           "18"
          ],
          [
           "Roman Ramirez",
           "Paul Bartenfeld",
           4,
           6,
           "2023-12-02",
           "[Gen 9] OU",
           "19"
          ],
          [
           "Evan Sooklal",
           "Aaron Carter",
           6,
           4,
           "2023-12-02",
           "[Gen 9] OU",
           "20"
          ],
          [
           "Will Simpson",
           "Evan Sooklal",
           6,
           2,
           "2023-12-02",
           "[Gen 9] OU",
           "1"
          ],
          [
           "Will Simpson",
           "Evan Sooklal",
           6,
           1,
           "2023-12-02",
           "[Gen 9] OU",
           "2"
          ],
          [
           "Aaron Carter",
           "Paul Bartenfeld",
           6,
           3,
           "2023-12-13",
           "[Gen 9] OU",
           "1"
          ],
          [
           "Roman Ramirez",
           "Evan Sooklal",
           5,
           6,
           "2023-12-13",
           "[Gen 9] OU",
           "2"
          ],
          [
           "Paul Bartenfeld",
           "Roman Ramirez",
           2,
           6,
           "2023-12-13",
           "[Gen 9] OU",
           "3"
          ],
          [
           "Will Simpson",
           "Aaron Carter",
           0,
           6,
           "2023-12-13",
           "[Gen 9] OU",
           "4"
          ],
          [
           "Roman Ramirez",
           "Will Simpson",
           4,
           6,
           "2023-12-13",
           "[Gen 9] OU",
           "5"
          ],
          [
           "Evan Sooklal",
           "Paul Bartenfeld",
           6,
           5,
           "2023-12-13",
           "[Gen 9] OU",
           "6"
          ],
          [
           "Will Simpson",
           "Evan Sooklal",
           4,
           6,
           "2023-12-13",
           "[Gen 9] OU",
           "7"
          ],
          [
           "Aaron Carter",
           "Roman Ramirez",
           6,
           3,
           "2023-12-13",
           "[Gen 9] OU",
           "8"
          ],
          [
           "Evan Sooklal",
           "Aaron Carter",
           5,
           6,
           "2023-12-13",
           "[Gen 9] OU",
           "9"
          ],
          [
           "Paul Bartenfeld",
           "Will Simpson",
           2,
           6,
           "2023-12-13",
           "[Gen 9] OU",
           "10"
          ],
          [
           "Paul Bartenfeld",
           "Aaron Carter",
           3,
           6,
           "2023-12-13",
           "[Gen 9] OU",
           "11"
          ],
          [
           "Evan Sooklal",
           "Roman Ramirez",
           6,
           4,
           "2023-12-13",
           "[Gen 9] OU",
           "12"
          ],
          [
           "Roman Ramirez",
           "Paul Bartenfeld",
           6,
           1,
           "2023-12-13",
           "[Gen 9] OU",
           "13"
          ],
          [
           "Aaron Carter",
           "Will Simpson",
           6,
           5,
           "2023-12-13",
           "[Gen 9] OU",
           "14"
          ],
          [
           "Will Simpson",
           "Roman Ramirez",
           3,
           6,
           "2023-12-13",
           "[Gen 9] OU",
           "15"
          ],
          [
           "Paul Bartenfeld",
           "Evan Sooklal",
           3,
           6,
           "2023-12-13",
           "[Gen 9] OU",
           "16"
          ],
          [
           "Evan Sooklal",
           "Will Simpson",
           6,
           3,
           "2023-12-13",
           "[Gen 9] OU",
           "17"
          ],
          [
           "Roman Ramirez",
           "Aaron Carter",
           5,
           6,
           "2023-12-13",
           "[Gen 9] OU",
           "18"
          ],
          [
           "Aaron Carter",
           "Evan Sooklal",
           6,
           2,
           "2023-12-13",
           "[Gen 9] OU",
           "19"
          ],
          [
           "Will Simpson",
           "Paul Bartenfeld",
           6,
           4,
           "2023-12-13",
           "[Gen 9] OU",
           "20"
          ],
          [
           "Aaron Carter",
           "Evan Sooklal",
           5,
           6,
           "2023-12-13",
           "[Gen 9] OU",
           "1"
          ],
          [
           "Evan Sooklal",
           "Aaron Carter",
           2,
           6,
           "2023-12-13",
           "[Gen 9] OU",
           "2"
          ],
          [
           "Aaron Carter",
           "Evan Sooklal",
           6,
           2,
           "2023-12-13",
           "[Gen 9] OU",
           "3"
          ],
          [
           "Evan Sooklal",
           "Will Simpson",
           0,
           4,
           "2024-01-28",
           "[Gen 9] VGC 2024 Reg F",
           "1"
          ],
          [
           "Roman Ramirez",
           "Aaron Carter",
           2,
           4,
           "2024-01-28",
           "[Gen 9] VGC 2024 Reg F",
           "2"
          ],
          [
           "Aaron Carter",
           "Evan Sooklal",
           3,
           4,
           "2024-01-28",
           "[Gen 9] VGC 2024 Reg F",
           "3"
          ],
          [
           "Will Simpson",
           "Roman Ramirez",
           4,
           2,
           "2024-01-28",
           "[Gen 9] VGC 2024 Reg F",
           "4"
          ],
          [
           "Roman Ramirez",
           "Evan Sooklal",
           0,
           4,
           "2024-01-28",
           "[Gen 9] VGC 2024 Reg F",
           "5"
          ],
          [
           "Will Simpson",
           "Aaron Carter",
           1,
           4,
           "2024-01-28",
           "[Gen 9] VGC 2024 Reg F",
           "6"
          ],
          [
           "Will Simpson",
           "Evan Sooklal",
           4,
           2,
           "2024-01-28",
           "[Gen 9] VGC 2024 Reg F",
           "7"
          ],
          [
           "Aaron Carter",
           "Roman Ramirez",
           4,
           0,
           "2024-01-28",
           "[Gen 9] VGC 2024 Reg F",
           "8"
          ],
          [
           "Evan Sooklal",
           "Aaron Carter",
           3,
           4,
           "2024-01-28",
           "[Gen 9] VGC 2024 Reg F",
           "9"
          ],
          [
           "Roman Ramirez",
           "Will Simpson",
           1,
           4,
           "2024-01-28",
           "[Gen 9] VGC 2024 Reg F",
           "10"
          ],
          [
           "Evan Sooklal",
           "Roman Ramirez",
           4,
           3,
           "2024-01-28",
           "[Gen 9] VGC 2024 Reg F",
           "11"
          ],
          [
           "Aaron Carter",
           "Will Simpson",
           2,
           4,
           "2024-01-28",
           "[Gen 9] VGC 2024 Reg F",
           "12"
          ],
          [
           "Will Simpson",
           "Aaron Carter",
           4,
           0,
           "2024-01-28",
           "[Gen 9] VGC 2024 Reg F",
           "1"
          ],
          [
           "Will Simpson",
           "Aaron Carter",
           4,
           3,
           "2024-01-28",
           "[Gen 9] VGC 2024 Reg F",
           "2"
          ],
          [
           "Aaron Carter",
           "Evan Sooklal",
           4,
           2,
           "2024-02-09",
           "[Gen 9] VGC 2024 Reg F",
           "1a"
          ],
          [
           "Aaron Carter",
           "Evan Sooklal",
           4,
           3,
           "2024-02-09",
           "[Gen 9] VGC 2024 Reg F",
           "1b"
          ],
          [
           "Roman Ramirez",
           "Will Simpson",
           3,
           4,
           "2024-02-09",
           "[Gen 9] VGC 2024 Reg F",
           "2a"
          ],
          [
           "Roman Ramirez",
           "Will Simpson",
           2,
           4,
           "2024-02-09",
           "[Gen 9] VGC 2024 Reg F",
           "2b"
          ],
          [
           "Will Simpson",
           "Aaron Carter",
           2,
           4,
           "2024-02-09",
           "[Gen 9] VGC 2024 Reg F",
           "3a"
          ],
          [
           "Will Simpson",
           "Aaron Carter",
           0,
           4,
           "2024-02-09",
           "[Gen 9] VGC 2024 Reg F",
           "3b"
          ],
          [
           "Evan Sooklal",
           "Roman Ramirez",
           1,
           4,
           "2024-02-09",
           "[Gen 9] VGC 2024 Reg F",
           "4a"
          ],
          [
           "Evan Sooklal",
           "Roman Ramirez",
           4,
           2,
           "2024-02-09",
           "[Gen 9] VGC 2024 Reg F",
           "4b"
          ],
          [
           "Evan Sooklal",
           "Roman Ramirez",
           2,
           4,
           "2024-02-09",
           "[Gen 9] VGC 2024 Reg F",
           "4c"
          ],
          [
           "Roman Ramirez",
           "Aaron Carter",
           4,
           3,
           "2024-02-09",
           "[Gen 9] VGC 2024 Reg F",
           "5a"
          ],
          [
           "Roman Ramirez",
           "Aaron Carter",
           0,
           4,
           "2024-02-09",
           "[Gen 9] VGC 2024 Reg F",
           "5b"
          ],
          [
           "Roman Ramirez",
           "Aaron Carter",
           3,
           4,
           "2024-02-09",
           "[Gen 9] VGC 2024 Reg F",
           "5c"
          ],
          [
           "Evan Sooklal",
           "Will Simpson",
           1,
           4,
           "2024-02-09",
           "[Gen 9] VGC 2024 Reg F",
           "6a"
          ],
          [
           "Evan Sooklal",
           "Will Simpson",
           0,
           4,
           "2024-02-09",
           "[Gen 9] VGC 2024 Reg F",
           "6b"
          ],
          [
           "Aaron Carter",
           "Will Simpson",
           4,
           1,
           "2024-02-09",
           "[Gen 9] VGC 2024 Reg F",
           "1a"
          ],
          [
           "Aaron Carter",
           "Will Simpson",
           4,
           2,
           "2024-02-09",
           "[Gen 9] VGC 2024 Reg F",
           "1b"
          ],
          [
           "Will Simpson",
           "Evan Sooklal",
           6,
           2,
           "2024-02-18",
           "[Gen 9] Doubles UU",
           "1"
          ],
          [
           "Jack Massingill",
           "Roman Ramirez",
           0,
           6,
           "2024-02-18",
           "[Gen 9] Doubles UU",
           "2"
          ],
          [
           "Evan Sooklal",
           "Jack Massingill",
           6,
           3,
           "2024-02-18",
           "[Gen 9] Doubles UU",
           "3"
          ],
          [
           "Aaron Carter",
           "Will Simpson",
           6,
           1,
           "2024-02-18",
           "[Gen 9] Doubles UU",
           "4"
          ],
          [
           "Jack Massingill",
           "Aaron Carter",
           3,
           6,
           "2024-02-18",
           "[Gen 9] Doubles UU",
           "5"
          ],
          [
           "Roman Ramirez",
           "Evan Sooklal",
           6,
           3,
           "2024-02-18",
           "[Gen 9] Doubles UU",
           "6"
          ],
          [
           "Aaron Carter",
           "Roman Ramirez",
           3,
           6,
           "2024-02-18",
           "[Gen 9] Doubles UU",
           "7"
          ],
          [
           "Will Simpson",
           "Jack Massingill",
           6,
           0,
           "2024-02-18",
           "[Gen 9] Doubles UU",
           "8"
          ],
          [
           "Roman Ramirez",
           "Will Simpson",
           6,
           0,
           "2024-02-18",
           "[Gen 9] Doubles UU",
           "9"
          ],
          [
           "Evan Sooklal",
           "Aaron Carter",
           2,
           6,
           "2024-02-18",
           "[Gen 9] Doubles UU",
           "10"
          ],
          [
           "Evan Sooklal",
           "Will Simpson",
           6,
           2,
           "2024-02-18",
           "[Gen 9] Doubles UU",
           "11"
          ],
          [
           "Roman Ramirez",
           "Jack Massingill",
           6,
           1,
           "2024-02-18",
           "[Gen 9] Doubles UU",
           "12"
          ],
          [
           "Jack Massingill",
           "Evan Sooklal",
           0,
           6,
           "2024-02-18",
           "[Gen 9] Doubles UU",
           "13"
          ],
          [
           "Will Simpson",
           "Aaron Carter",
           2,
           6,
           "2024-02-18",
           "[Gen 9] Doubles UU",
           "14"
          ],
          [
           "Aaron Carter",
           "Jack Massingill",
           6,
           4,
           "2024-02-18",
           "[Gen 9] Doubles UU",
           "15"
          ],
          [
           "Evan Sooklal",
           "Roman Ramirez",
           1,
           6,
           "2024-02-18",
           "[Gen 9] Doubles UU",
           "16"
          ],
          [
           "Roman Ramirez",
           "Aaron Carter",
           6,
           5,
           "2024-02-18",
           "[Gen 9] Doubles UU",
           "17"
          ],
          [
           "Jack Massingill",
           "Will Simpson",
           6,
           0,
           "2024-02-18",
           "[Gen 9] Doubles UU",
           "18"
          ],
          [
           "Will Simpson",
           "Roman Ramirez",
           0,
           6,
           "2024-02-18",
           "[Gen 9] Doubles UU",
           "19"
          ],
          [
           "Aaron Carter",
           "Evan Sooklal",
           6,
           5,
           "2024-02-18",
           "[Gen 9] Doubles UU",
           "20"
          ],
          [
           "Roman Ramirez",
           "Aaron Carter",
           6,
           4,
           "2024-02-18",
           "[Gen 9] Doubles UU",
           "1"
          ],
          [
           "Roman Ramirez",
           "Aaron Carter",
           3,
           6,
           "2024-02-18",
           "[Gen 9] Doubles UU",
           "2"
          ],
          [
           "Roman Ramirez",
           "Aaron Carter",
           4,
           6,
           "2024-02-18",
           "[Gen 9] Doubles UU",
           "3"
          ],
          [
           "Lilith Karyadi",
           "Roman Ramirez",
           6,
           3,
           "2024-06-09",
           "[Gen 9] RU",
           "1a"
          ],
          [
           "Lilith Karyadi",
           "Roman Ramirez",
           6,
           3,
           "2024-06-09",
           "[Gen 9] RU",
           "1b"
          ],
          [
           "Evan Sooklal",
           "Will Simpson",
           6,
           5,
           "2024-06-09",
           "[Gen 9] RU",
           "2a"
          ],
          [
           "Evan Sooklal",
           "Will Simpson",
           4,
           6,
           "2024-06-09",
           "[Gen 9] RU",
           "2b"
          ],
          [
           "Evan Sooklal",
           "Will Simpson",
           6,
           5,
           "2024-06-09",
           "[Gen 9] RU",
           "2c"
          ],
          [
           "Will Simpson",
           "Lilith Karyadi",
           6,
           5,
           "2024-06-09",
           "[Gen 9] RU",
           "3a"
          ],
          [
           "Will Simpson",
           "Lilith Karyadi",
           6,
           2,
           "2024-06-09",
           "[Gen 9] RU",
           "3b"
          ],
          [
           "Roman Ramirez",
           "Evan Sooklal",
           4,
           6,
           "2024-06-09",
           "[Gen 9] RU",
           "4a"
          ],
          [
           "Roman Ramirez",
           "Evan Sooklal",
           2,
           6,
           "2024-06-09",
           "[Gen 9] RU",
           "4b"
          ],
          [
           "Evan Sooklal",
           "Lilith Karyadi",
           2,
           6,
           "2024-06-09",
           "[Gen 9] RU",
           "5a"
          ],
          [
           "Evan Sooklal",
           "Lilith Karyadi",
           5,
           6,
           "2024-06-09",
           "[Gen 9] RU",
           "5a"
          ],
          [
           "Roman Ramirez",
           "Will Simpson",
           3,
           6,
           "2024-06-09",
           "[Gen 9] RU",
           "6a"
          ],
          [
           "Roman Ramirez",
           "Will Simpson",
           1,
           6,
           "2024-06-09",
           "[Gen 9] RU",
           "6b"
          ],
          [
           "Evan Sooklal",
           "Lilith Karyadi",
           5,
           6,
           "2024-06-09",
           "[Gen 9] RU",
           "1"
          ],
          [
           "Will Simpson",
           "Lilith Karyadi",
           6,
           5,
           "2024-06-09",
           "[Gen 9] RU",
           "2"
          ]
         ],
         "hovertemplate": "<i>%{customdata[4]|%A, %B %d, %Y}, Game %{x}</i><br><b>%{fullData.name}</b><br><br><b>Format:</b> %{customdata[5]}<br><b>Tournament Match:</b> %{customdata[6]}<br><br><b>%{customdata[0]} vs. %{customdata[1]}</b><br><b>Final Score:</b> %{customdata[2]}-%{customdata[3]}<br>%{text}<b>Post-Game ELO:</b> %{y:,.0f}<br><extra></extra>",
         "legendgrouptitle": {
          "text": "<b>#<i>Rank</i> (<i>Current ELO</i>) <i>Player</i></b>"
         },
         "line": {
          "color": "rgb(127, 60, 141)",
          "shape": "hv"
         },
         "mode": "lines+markers",
         "name": "#1 (1328) Aaron Carter",
         "opacity": 0.8,
         "text": [
          "<br><b>Pre-Game ELO: </b>nan<br><b>Win Probability: </b>nan%<br><br><b>Change in ELO:</b> +nan<br>",
          "<br><b>Pre-Game ELO: </b>nan<br><b>Win Probability: </b>nan%<br><br><b>Change in ELO:</b> +nan<br>",
          "<br><b>Pre-Game ELO: </b>nan<br><b>Win Probability: </b>nan%<br><br><b>Change in ELO:</b> +nan<br>",
          "<br><b>Pre-Game ELO: </b>nan<br><b>Win Probability: </b>nan%<br><br><b>Change in ELO:</b> +nan<br>",
          "<br><b>Pre-Game ELO: </b>nan<br><b>Win Probability: </b>nan%<br><br><b>Change in ELO:</b> +nan<br>",
          "<br><b>Pre-Game ELO: </b>nan<br><b>Win Probability: </b>nan%<br><br><b>Change in ELO:</b> +nan<br>",
          "<br><b>Pre-Game ELO: </b>nan<br><b>Win Probability: </b>nan%<br><br><b>Change in ELO:</b> +nan<br>",
          "<br><b>Pre-Game ELO: </b>nan<br><b>Win Probability: </b>nan%<br><br><b>Change in ELO:</b> +nan<br>",
          "<br><b>Pre-Game ELO: </b>nan<br><b>Win Probability: </b>nan%<br><br><b>Change in ELO:</b> +nan<br>",
          "<br><b>Pre-Game ELO: </b>nan<br><b>Win Probability: </b>nan%<br><br><b>Change in ELO:</b> +nan<br>",
          "<br><b>Pre-Game ELO: </b>nan<br><b>Win Probability: </b>nan%<br><br><b>Change in ELO:</b> +nan<br>",
          "<br><b>Pre-Game ELO: </b>nan<br><b>Win Probability: </b>nan%<br><br><b>Change in ELO:</b> +nan<br>",
          "<br><b>Pre-Game ELO: </b>nan<br><b>Win Probability: </b>nan%<br><br><b>Change in ELO:</b> +nan<br>",
          "<br><b>Pre-Game ELO: </b>nan<br><b>Win Probability: </b>nan%<br><br><b>Change in ELO:</b> +nan<br>",
          "<br><b>Pre-Game ELO: </b>nan<br><b>Win Probability: </b>nan%<br><br><b>Change in ELO:</b> +nan<br>",
          "<br><b>Pre-Game ELO: </b>1200<br><b>Win Probability: </b>34.5%<br><br><b>Change in ELO:</b> +20<br>",
          "<br><b>Pre-Game ELO: </b>nan<br><b>Win Probability: </b>nan%<br><br><b>Change in ELO:</b> +nan<br>",
          "<br><b>Pre-Game ELO: </b>1220<br><b>Win Probability: </b>51.0%<br><br><b>Change in ELO:</b> -16<br>",
          "<br><b>Pre-Game ELO: </b>nan<br><b>Win Probability: </b>nan%<br><br><b>Change in ELO:</b> +nan<br>",
          "<br><b>Pre-Game ELO: </b>nan<br><b>Win Probability: </b>nan%<br><br><b>Change in ELO:</b> +nan<br>",
          "<br><b>Pre-Game ELO: </b>1205<br><b>Win Probability: </b>72.0%<br><br><b>Change in ELO:</b> -22<br>",
          "<br><b>Pre-Game ELO: </b>nan<br><b>Win Probability: </b>nan%<br><br><b>Change in ELO:</b> +nan<br>",
          "<br><b>Pre-Game ELO: </b>nan<br><b>Win Probability: </b>nan%<br><br><b>Change in ELO:</b> +nan<br>",
          "<br><b>Pre-Game ELO: </b>nan<br><b>Win Probability: </b>nan%<br><br><b>Change in ELO:</b> +nan<br>",
          "<br><b>Pre-Game ELO: </b>1182<br><b>Win Probability: </b>39.9%<br><br><b>Change in ELO:</b> +19<br>",
          "<br><b>Pre-Game ELO: </b>1201<br><b>Win Probability: </b>46.4%<br><br><b>Change in ELO:</b> -14<br>",
          "<br><b>Pre-Game ELO: </b>nan<br><b>Win Probability: </b>nan%<br><br><b>Change in ELO:</b> +nan<br>",
          "<br><b>Pre-Game ELO: </b>1186<br><b>Win Probability: </b>36.0%<br><br><b>Change in ELO:</b> +20<br>",
          "<br><b>Pre-Game ELO: </b>nan<br><b>Win Probability: </b>nan%<br><br><b>Change in ELO:</b> +nan<br>",
          "<br><b>Pre-Game ELO: </b>nan<br><b>Win Probability: </b>nan%<br><br><b>Change in ELO:</b> +nan<br>",
          "<br><b>Pre-Game ELO: </b>1206<br><b>Win Probability: </b>66.2%<br><br><b>Change in ELO:</b> +10<br>",
          "<br><b>Pre-Game ELO: </b>nan<br><b>Win Probability: </b>nan%<br><br><b>Change in ELO:</b> +nan<br>",
          "<br><b>Pre-Game ELO: </b>nan<br><b>Win Probability: </b>nan%<br><br><b>Change in ELO:</b> +nan<br>",
          "<br><b>Pre-Game ELO: </b>nan<br><b>Win Probability: </b>nan%<br><br><b>Change in ELO:</b> +nan<br>",
          "<br><b>Pre-Game ELO: </b>1217<br><b>Win Probability: </b>59.4%<br><br><b>Change in ELO:</b> -18<br>",
          "<br><b>Pre-Game ELO: </b>nan<br><b>Win Probability: </b>nan%<br><br><b>Change in ELO:</b> +nan<br>",
          "<br><b>Pre-Game ELO: </b>nan<br><b>Win Probability: </b>nan%<br><br><b>Change in ELO:</b> +nan<br>",
          "<br><b>Pre-Game ELO: </b>1198<br><b>Win Probability: </b>56.5%<br><br><b>Change in ELO:</b> +13<br>",
          "<br><b>Pre-Game ELO: </b>nan<br><b>Win Probability: </b>nan%<br><br><b>Change in ELO:</b> +nan<br>",
          "<br><b>Pre-Game ELO: </b>nan<br><b>Win Probability: </b>nan%<br><br><b>Change in ELO:</b> +nan<br>",
          "<br><b>Pre-Game ELO: </b>1212<br><b>Win Probability: </b>34.7%<br><br><b>Change in ELO:</b> +20<br>",
          "<br><b>Pre-Game ELO: </b>nan<br><b>Win Probability: </b>nan%<br><br><b>Change in ELO:</b> +nan<br>",
          "<br><b>Pre-Game ELO: </b>nan<br><b>Win Probability: </b>nan%<br><br><b>Change in ELO:</b> +nan<br>",
          "<br><b>Pre-Game ELO: </b>nan<br><b>Win Probability: </b>nan%<br><br><b>Change in ELO:</b> +nan<br>",
          "<br><b>Pre-Game ELO: </b>1232<br><b>Win Probability: </b>66.8%<br><br><b>Change in ELO:</b> +10<br>",
          "<br><b>Pre-Game ELO: </b>1242<br><b>Win Probability: </b>54.5%<br><br><b>Change in ELO:</b> +14<br>",
          "<br><b>Pre-Game ELO: </b>nan<br><b>Win Probability: </b>nan%<br><br><b>Change in ELO:</b> +nan<br>",
          "<br><b>Pre-Game ELO: </b>1257<br><b>Win Probability: </b>80.6%<br><br><b>Change in ELO:</b> +6<br>",
          "<br><b>Pre-Game ELO: </b>nan<br><b>Win Probability: </b>nan%<br><br><b>Change in ELO:</b> +nan<br>",
          "<br><b>Pre-Game ELO: </b>nan<br><b>Win Probability: </b>nan%<br><br><b>Change in ELO:</b> +nan<br>",
          "<br><b>Pre-Game ELO: </b>1263<br><b>Win Probability: </b>54.4%<br><br><b>Change in ELO:</b> +14<br>",
          "<br><b>Pre-Game ELO: </b>nan<br><b>Win Probability: </b>nan%<br><br><b>Change in ELO:</b> +nan<br>",
          "<br><b>Pre-Game ELO: </b>nan<br><b>Win Probability: </b>nan%<br><br><b>Change in ELO:</b> +nan<br>",
          "<br><b>Pre-Game ELO: </b>nan<br><b>Win Probability: </b>nan%<br><br><b>Change in ELO:</b> +nan<br>",
          "<br><b>Pre-Game ELO: </b>1277<br><b>Win Probability: </b>73.9%<br><br><b>Change in ELO:</b> +8<br>",
          "<br><b>Pre-Game ELO: </b>1285<br><b>Win Probability: </b>61.1%<br><br><b>Change in ELO:</b> +12<br>",
          "<br><b>Pre-Game ELO: </b>nan<br><b>Win Probability: </b>nan%<br><br><b>Change in ELO:</b> +nan<br>",
          "<br><b>Pre-Game ELO: </b>1297<br><b>Win Probability: </b>67.2%<br><br><b>Change in ELO:</b> -21<br>",
          "<br><b>Pre-Game ELO: </b>1276<br><b>Win Probability: </b>56.4%<br><br><b>Change in ELO:</b> +14<br>",
          "<br><b>Pre-Game ELO: </b>1289<br><b>Win Probability: </b>63.5%<br><br><b>Change in ELO:</b> +11<br>",
          "<br><b>Pre-Game ELO: </b>nan<br><b>Win Probability: </b>nan%<br><br><b>Change in ELO:</b> +nan<br>",
          "<br><b>Pre-Game ELO: </b>1301<br><b>Win Probability: </b>80.2%<br><br><b>Change in ELO:</b> +6<br>",
          "<br><b>Pre-Game ELO: </b>1307<br><b>Win Probability: </b>74.3%<br><br><b>Change in ELO:</b> -23<br>",
          "<br><b>Pre-Game ELO: </b>nan<br><b>Win Probability: </b>nan%<br><br><b>Change in ELO:</b> +nan<br>",
          "<br><b>Pre-Game ELO: </b>nan<br><b>Win Probability: </b>nan%<br><br><b>Change in ELO:</b> +nan<br>",
          "<br><b>Pre-Game ELO: </b>1284<br><b>Win Probability: </b>63.5%<br><br><b>Change in ELO:</b> +11<br>",
          "<br><b>Pre-Game ELO: </b>nan<br><b>Win Probability: </b>nan%<br><br><b>Change in ELO:</b> +nan<br>",
          "<br><b>Pre-Game ELO: </b>1295<br><b>Win Probability: </b>83.6%<br><br><b>Change in ELO:</b> +5<br>",
          "<br><b>Pre-Game ELO: </b>1300<br><b>Win Probability: </b>69.5%<br><br><b>Change in ELO:</b> +9<br>",
          "<br><b>Pre-Game ELO: </b>nan<br><b>Win Probability: </b>nan%<br><br><b>Change in ELO:</b> +nan<br>",
          "<br><b>Pre-Game ELO: </b>nan<br><b>Win Probability: </b>nan%<br><br><b>Change in ELO:</b> +nan<br>",
          "<br><b>Pre-Game ELO: </b>1310<br><b>Win Probability: </b>66.5%<br><br><b>Change in ELO:</b> -21<br>",
          "<br><b>Pre-Game ELO: </b>1289<br><b>Win Probability: </b>55.8%<br><br><b>Change in ELO:</b> -17<br>",
          "<br><b>Pre-Game ELO: </b>1272<br><b>Win Probability: </b>46.3%<br><br><b>Change in ELO:</b> -14<br>",
          "<br><b>Pre-Game ELO: </b>1257<br><b>Win Probability: </b>58.9%<br><br><b>Change in ELO:</b> +13<br>",
          "<br><b>Pre-Game ELO: </b>1270<br><b>Win Probability: </b>65.4%<br><br><b>Change in ELO:</b> +11<br>",
          "<br><b>Pre-Game ELO: </b>nan<br><b>Win Probability: </b>nan%<br><br><b>Change in ELO:</b> +nan<br>",
          "<br><b>Pre-Game ELO: </b>nan<br><b>Win Probability: </b>nan%<br><br><b>Change in ELO:</b> +nan<br>",
          "<br><b>Pre-Game ELO: </b>1281<br><b>Win Probability: </b>42.8%<br><br><b>Change in ELO:</b> +18<br>",
          "<br><b>Pre-Game ELO: </b>1299<br><b>Win Probability: </b>52.5%<br><br><b>Change in ELO:</b> +15<br>",
          "<br><b>Pre-Game ELO: </b>nan<br><b>Win Probability: </b>nan%<br><br><b>Change in ELO:</b> +nan<br>",
          "<br><b>Pre-Game ELO: </b>nan<br><b>Win Probability: </b>nan%<br><br><b>Change in ELO:</b> +nan<br>",
          "<br><b>Pre-Game ELO: </b>nan<br><b>Win Probability: </b>nan%<br><br><b>Change in ELO:</b> +nan<br>",
          "<br><b>Pre-Game ELO: </b>1313<br><b>Win Probability: </b>86.0%<br><br><b>Change in ELO:</b> -27<br>",
          "<br><b>Pre-Game ELO: </b>1287<br><b>Win Probability: </b>77.4%<br><br><b>Change in ELO:</b> +7<br>",
          "<br><b>Pre-Game ELO: </b>1294<br><b>Win Probability: </b>79.9%<br><br><b>Change in ELO:</b> +6<br>",
          "<br><b>Pre-Game ELO: </b>nan<br><b>Win Probability: </b>nan%<br><br><b>Change in ELO:</b> +nan<br>",
          "<br><b>Pre-Game ELO: </b>nan<br><b>Win Probability: </b>nan%<br><br><b>Change in ELO:</b> +nan<br>",
          "<br><b>Pre-Game ELO: </b>1300<br><b>Win Probability: </b>53.0%<br><br><b>Change in ELO:</b> +15<br>",
          "<br><b>Pre-Game ELO: </b>1315<br><b>Win Probability: </b>60.9%<br><br><b>Change in ELO:</b> +12<br>",
          "<br><b>Pre-Game ELO: </b>nan<br><b>Win Probability: </b>nan%<br><br><b>Change in ELO:</b> +nan<br>",
          "<br><b>Pre-Game ELO: </b>nan<br><b>Win Probability: </b>nan%<br><br><b>Change in ELO:</b> +nan<br>",
          "<br><b>Pre-Game ELO: </b>nan<br><b>Win Probability: </b>nan%<br><br><b>Change in ELO:</b> +nan<br>",
          "<br><b>Pre-Game ELO: </b>1327<br><b>Win Probability: </b>65.2%<br><br><b>Change in ELO:</b> +11<br>",
          "<br><b>Pre-Game ELO: </b>1337<br><b>Win Probability: </b>87.2%<br><br><b>Change in ELO:</b> +4<br>",
          "<br><b>Pre-Game ELO: </b>nan<br><b>Win Probability: </b>nan%<br><br><b>Change in ELO:</b> +nan<br>",
          "<br><b>Pre-Game ELO: </b>1341<br><b>Win Probability: </b>83.4%<br><br><b>Change in ELO:</b> -26<br>",
          "<br><b>Pre-Game ELO: </b>nan<br><b>Win Probability: </b>nan%<br><br><b>Change in ELO:</b> +nan<br>",
          "<br><b>Pre-Game ELO: </b>nan<br><b>Win Probability: </b>nan%<br><br><b>Change in ELO:</b> +nan<br>",
          "<br><b>Pre-Game ELO: </b>1316<br><b>Win Probability: </b>85.6%<br><br><b>Change in ELO:</b> +4<br>",
          "<br><b>Pre-Game ELO: </b>nan<br><b>Win Probability: </b>nan%<br><br><b>Change in ELO:</b> +nan<br>",
          "<br><b>Pre-Game ELO: </b>nan<br><b>Win Probability: </b>nan%<br><br><b>Change in ELO:</b> +nan<br>",
          "<br><b>Pre-Game ELO: </b>nan<br><b>Win Probability: </b>nan%<br><br><b>Change in ELO:</b> +nan<br>",
          "<br><b>Pre-Game ELO: </b>1320<br><b>Win Probability: </b>74.2%<br><br><b>Change in ELO:</b> +8<br>",
          "<br><b>Pre-Game ELO: </b>1328<br><b>Win Probability: </b>89.8%<br><br><b>Change in ELO:</b> +3<br>",
          "<br><b>Pre-Game ELO: </b>nan<br><b>Win Probability: </b>nan%<br><br><b>Change in ELO:</b> +nan<br>",
          "<br><b>Pre-Game ELO: </b>1331<br><b>Win Probability: </b>68.9%<br><br><b>Change in ELO:</b> -21<br>",
          "<br><b>Pre-Game ELO: </b>nan<br><b>Win Probability: </b>nan%<br><br><b>Change in ELO:</b> +nan<br>",
          "<br><b>Pre-Game ELO: </b>nan<br><b>Win Probability: </b>nan%<br><br><b>Change in ELO:</b> +nan<br>",
          "<br><b>Pre-Game ELO: </b>1310<br><b>Win Probability: </b>81.6%<br><br><b>Change in ELO:</b> +6<br>",
          "<br><b>Pre-Game ELO: </b>1316<br><b>Win Probability: </b>57.3%<br><br><b>Change in ELO:</b> -18<br>",
          "<br><b>Pre-Game ELO: </b>1298<br><b>Win Probability: </b>47.6%<br><br><b>Change in ELO:</b> +16<br>",
          "<br><b>Pre-Game ELO: </b>1314<br><b>Win Probability: </b>56.5%<br><br><b>Change in ELO:</b> +13<br>",
          "<br><b>Pre-Game ELO: </b>nan<br><b>Win Probability: </b>nan%<br><br><b>Change in ELO:</b> +nan<br>",
          "<br><b>Pre-Game ELO: </b>nan<br><b>Win Probability: </b>nan%<br><br><b>Change in ELO:</b> +nan<br>",
          "<br><b>Pre-Game ELO: </b>nan<br><b>Win Probability: </b>nan%<br><br><b>Change in ELO:</b> +nan<br>",
          "<br><b>Pre-Game ELO: </b>nan<br><b>Win Probability: </b>nan%<br><br><b>Change in ELO:</b> +nan<br>",
          "<br><b>Pre-Game ELO: </b>nan<br><b>Win Probability: </b>nan%<br><br><b>Change in ELO:</b> +nan<br>",
          "<br><b>Pre-Game ELO: </b>nan<br><b>Win Probability: </b>nan%<br><br><b>Change in ELO:</b> +nan<br>",
          "<br><b>Pre-Game ELO: </b>nan<br><b>Win Probability: </b>nan%<br><br><b>Change in ELO:</b> +nan<br>",
          "<br><b>Pre-Game ELO: </b>nan<br><b>Win Probability: </b>nan%<br><br><b>Change in ELO:</b> +nan<br>",
          "<br><b>Pre-Game ELO: </b>nan<br><b>Win Probability: </b>nan%<br><br><b>Change in ELO:</b> +nan<br>",
          "<br><b>Pre-Game ELO: </b>nan<br><b>Win Probability: </b>nan%<br><br><b>Change in ELO:</b> +nan<br>",
          "<br><b>Pre-Game ELO: </b>nan<br><b>Win Probability: </b>nan%<br><br><b>Change in ELO:</b> +nan<br>",
          "<br><b>Pre-Game ELO: </b>nan<br><b>Win Probability: </b>nan%<br><br><b>Change in ELO:</b> +nan<br>",
          "<br><b>Pre-Game ELO: </b>nan<br><b>Win Probability: </b>nan%<br><br><b>Change in ELO:</b> +nan<br>",
          "<br><b>Pre-Game ELO: </b>nan<br><b>Win Probability: </b>nan%<br><br><b>Change in ELO:</b> +nan<br>",
          "<br><b>Pre-Game ELO: </b>nan<br><b>Win Probability: </b>nan%<br><br><b>Change in ELO:</b> +nan<br>"
         ],
         "type": "scatter",
         "x": [
          1,
          2,
          3,
          4,
          5,
          6,
          7,
          8,
          9,
          10,
          11,
          12,
          13,
          14,
          15,
          16,
          17,
          18,
          19,
          20,
          21,
          22,
          23,
          24,
          25,
          26,
          27,
          28,
          29,
          30,
          31,
          32,
          33,
          34,
          35,
          36,
          37,
          38,
          39,
          40,
          41,
          42,
          43,
          44,
          45,
          46,
          47,
          48,
          49,
          50,
          51,
          52,
          53,
          54,
          55,
          56,
          57,
          58,
          59,
          60,
          61,
          62,
          63,
          64,
          65,
          66,
          67,
          68,
          69,
          70,
          71,
          72,
          73,
          74,
          75,
          76,
          77,
          78,
          79,
          80,
          81,
          82,
          83,
          84,
          85,
          86,
          87,
          88,
          89,
          90,
          91,
          92,
          93,
          94,
          95,
          96,
          97,
          98,
          99,
          100,
          101,
          102,
          103,
          104,
          105,
          106,
          107,
          108,
          109,
          110,
          111,
          112,
          113,
          114,
          115,
          116,
          117,
          118,
          119,
          120,
          121,
          122,
          123,
          124,
          125,
          126,
          127,
          128
         ],
         "y": [
          null,
          null,
          null,
          null,
          null,
          null,
          null,
          null,
          null,
          null,
          null,
          null,
          null,
          null,
          null,
          1220.31258173069,
          null,
          1204.5028528748408,
          null,
          null,
          1182.1797301576028,
          null,
          null,
          null,
          1200.8242418643958,
          1186.4521502238642,
          null,
          1206.3026942467973,
          null,
          null,
          1216.7822586045252,
          null,
          null,
          null,
          1198.3768321017285,
          null,
          null,
          1211.8729276048186,
          null,
          null,
          1232.113307066953,
          null,
          null,
          null,
          1242.4011662563998,
          1256.5110736372603,
          null,
          1262.5293525101058,
          null,
          null,
          1276.6667862995037,
          null,
          null,
          null,
          1284.742519265222,
          1296.805337828777,
          null,
          1275.9815262292077,
          1289.4892277347867,
          1300.7929669801556,
          null,
          1306.939512229892,
          1283.9015944333698,
          null,
          null,
          1295.2137125097495,
          null,
          1300.308918504197,
          1309.765437612463,
          null,
          null,
          1289.1469913110589,
          1271.8484337246734,
          1257.4853757199003,
          1270.2385965629696,
          1280.9523025729939,
          null,
          null,
          1298.6760636979577,
          1313.3978393818932,
          null,
          null,
          null,
          1286.74165386123,
          1293.761028525477,
          1299.9783612462488,
          null,
          null,
          1314.5356599831737,
          1326.6674756966115,
          null,
          null,
          null,
          1337.4618968914401,
          1341.4402728749258,
          null,
          1315.5996276707879,
          null,
          null,
          1320.0495805327628,
          null,
          null,
          null,
          1328.0597951809048,
          1331.2127828459006,
          null,
          1309.8494663390616,
          null,
          null,
          1315.5653514933124,
          1297.79850462576,
          1314.0401447005202,
          1327.5280629755973,
          null,
          null,
          null,
          null,
          null,
          null,
          null,
          null,
          null,
          null,
          null,
          null,
          null,
          null,
          null
         ]
        },
        {
         "connectgaps": true,
         "customdata": [
          [
           "Evan Sooklal",
           "Will Simpson",
           2,
           6,
           "2023-11-18",
           "[Gen 9] OU",
           "1"
          ],
          [
           "Paul Bartenfeld",
           "Roman Ramirez",
           2,
           6,
           "2023-11-18",
           "[Gen 9] OU",
           "2"
          ],
          [
           "Roman Ramirez",
           "Evan Sooklal",
           6,
           3,
           "2023-11-18",
           "[Gen 9] OU",
           "3"
          ],
          [
           "Will Simpson",
           "Paul Bartenfeld",
           6,
           1,
           "2023-11-18",
           "[Gen 9] OU",
           "4"
          ],
          [
           "Paul Bartenfeld",
           "Evan Sooklal",
           1,
           6,
           "2023-11-18",
           "[Gen 9] OU",
           "5"
          ],
          [
           "Will Simpson",
           "Roman Ramirez",
           3,
           6,
           "2023-11-18",
           "[Gen 9] OU",
           "6"
          ],
          [
           "Will Simpson",
           "Evan Sooklal",
           6,
           2,
           "2023-11-18",
           "[Gen 9] OU",
           "7"
          ],
          [
           "Roman Ramirez",
           "Paul Bartenfeld",
           6,
           4,
           "2023-11-18",
           "[Gen 9] OU",
           "8"
          ],
          [
           "Evan Sooklal",
           "Roman Ramirez",
           6,
           5,
           "2023-11-18",
           "[Gen 9] OU",
           "9"
          ],
          [
           "Paul Bartenfeld",
           "Will Simpson",
           4,
           6,
           "2023-11-18",
           "[Gen 9] OU",
           "10"
          ],
          [
           "Evan Sooklal",
           "Paul Bartenfeld",
           6,
           5,
           "2023-11-18",
           "[Gen 9] OU",
           "11"
          ],
          [
           "Roman Ramirez",
           "Will Simpson",
           6,
           2,
           "2023-11-18",
           "[Gen 9] OU",
           "12"
          ],
          [
           "Roman Ramirez",
           "Will Simpson",
           2,
           6,
           "2023-11-18",
           "[Gen 9] OU",
           "1"
          ],
          [
           "Will Simpson",
           "Roman Ramirez",
           4,
           6,
           "2023-11-18",
           "[Gen 9] OU",
           "2"
          ],
          [
           "Roman Ramirez",
           "Will Simpson",
           6,
           4,
           "2023-11-18",
           "[Gen 9] OU",
           "3"
          ],
          [
           "Roman Ramirez",
           "Aaron Carter",
           4,
           6,
           "2023-12-02",
           "[Gen 9] OU",
           "1"
          ],
          [
           "Will Simpson",
           "Paul Bartenfeld",
           6,
           4,
           "2023-12-02",
           "[Gen 9] OU",
           "2"
          ],
          [
           "Aaron Carter",
           "Will Simpson",
           4,
           6,
           "2023-12-02",
           "[Gen 9] OU",
           "3"
          ],
          [
           "Evan Sooklal",
           "Roman Ramirez",
           6,
           2,
           "2023-12-02",
           "[Gen 9] OU",
           "4"
          ],
          [
           "Will Simpson",
           "Evan Sooklal",
           6,
           2,
           "2023-12-02",
           "[Gen 9] OU",
           "5"
          ],
          [
           "Paul Bartenfeld",
           "Aaron Carter",
           6,
           3,
           "2023-12-02",
           "[Gen 9] OU",
           "6"
          ],
          [
           "Evan Sooklal",
           "Paul Bartenfeld",
           6,
           4,
           "2023-12-02",
           "[Gen 9] OU",
           "7"
          ],
          [
           "Roman Ramirez",
           "Will Simpson",
           6,
           4,
           "2023-12-02",
           "[Gen 9] OU",
           "8"
          ],
          [
           "Paul Bartenfeld",
           "Roman Ramirez",
           6,
           3,
           "2023-12-02",
           "[Gen 9] OU",
           "9"
          ],
          [
           "Aaron Carter",
           "Evan Sooklal",
           6,
           3,
           "2023-12-02",
           "[Gen 9] OU",
           "10"
          ],
          [
           "Aaron Carter",
           "Roman Ramirez",
           0,
           6,
           "2023-12-02",
           "[Gen 9] OU",
           "11"
          ],
          [
           "Paul Bartenfeld",
           "Will Simpson",
           1,
           6,
           "2023-12-02",
           "[Gen 9] OU",
           "12"
          ],
          [
           "Will Simpson",
           "Aaron Carter",
           3,
           6,
           "2023-12-02",
           "[Gen 9] OU",
           "13"
          ],
          [
           "Roman Ramirez",
           "Evan Sooklal",
           2,
           6,
           "2023-12-02",
           "[Gen 9] OU",
           "14"
          ],
          [
           "Evan Sooklal",
           "Will Simpson",
           5,
           6,
           "2023-12-02",
           "[Gen 9] OU",
           "15"
          ],
          [
           "Aaron Carter",
           "Paul Bartenfeld",
           6,
           3,
           "2023-12-02",
           "[Gen 9] OU",
           "16"
          ],
          [
           "Paul Bartenfeld",
           "Evan Sooklal",
           6,
           5,
           "2023-12-02",
           "[Gen 9] OU",
           "17"
          ],
          [
           "Will Simpson",
           "Roman Ramirez",
           6,
           5,
           "2023-12-02",
           "[Gen 9] OU",
           "18"
          ],
          [
           "Roman Ramirez",
           "Paul Bartenfeld",
           4,
           6,
           "2023-12-02",
           "[Gen 9] OU",
           "19"
          ],
          [
           "Evan Sooklal",
           "Aaron Carter",
           6,
           4,
           "2023-12-02",
           "[Gen 9] OU",
           "20"
          ],
          [
           "Will Simpson",
           "Evan Sooklal",
           6,
           2,
           "2023-12-02",
           "[Gen 9] OU",
           "1"
          ],
          [
           "Will Simpson",
           "Evan Sooklal",
           6,
           1,
           "2023-12-02",
           "[Gen 9] OU",
           "2"
          ],
          [
           "Aaron Carter",
           "Paul Bartenfeld",
           6,
           3,
           "2023-12-13",
           "[Gen 9] OU",
           "1"
          ],
          [
           "Roman Ramirez",
           "Evan Sooklal",
           5,
           6,
           "2023-12-13",
           "[Gen 9] OU",
           "2"
          ],
          [
           "Paul Bartenfeld",
           "Roman Ramirez",
           2,
           6,
           "2023-12-13",
           "[Gen 9] OU",
           "3"
          ],
          [
           "Will Simpson",
           "Aaron Carter",
           0,
           6,
           "2023-12-13",
           "[Gen 9] OU",
           "4"
          ],
          [
           "Roman Ramirez",
           "Will Simpson",
           4,
           6,
           "2023-12-13",
           "[Gen 9] OU",
           "5"
          ],
          [
           "Evan Sooklal",
           "Paul Bartenfeld",
           6,
           5,
           "2023-12-13",
           "[Gen 9] OU",
           "6"
          ],
          [
           "Will Simpson",
           "Evan Sooklal",
           4,
           6,
           "2023-12-13",
           "[Gen 9] OU",
           "7"
          ],
          [
           "Aaron Carter",
           "Roman Ramirez",
           6,
           3,
           "2023-12-13",
           "[Gen 9] OU",
           "8"
          ],
          [
           "Evan Sooklal",
           "Aaron Carter",
           5,
           6,
           "2023-12-13",
           "[Gen 9] OU",
           "9"
          ],
          [
           "Paul Bartenfeld",
           "Will Simpson",
           2,
           6,
           "2023-12-13",
           "[Gen 9] OU",
           "10"
          ],
          [
           "Paul Bartenfeld",
           "Aaron Carter",
           3,
           6,
           "2023-12-13",
           "[Gen 9] OU",
           "11"
          ],
          [
           "Evan Sooklal",
           "Roman Ramirez",
           6,
           4,
           "2023-12-13",
           "[Gen 9] OU",
           "12"
          ],
          [
           "Roman Ramirez",
           "Paul Bartenfeld",
           6,
           1,
           "2023-12-13",
           "[Gen 9] OU",
           "13"
          ],
          [
           "Aaron Carter",
           "Will Simpson",
           6,
           5,
           "2023-12-13",
           "[Gen 9] OU",
           "14"
          ],
          [
           "Will Simpson",
           "Roman Ramirez",
           3,
           6,
           "2023-12-13",
           "[Gen 9] OU",
           "15"
          ],
          [
           "Paul Bartenfeld",
           "Evan Sooklal",
           3,
           6,
           "2023-12-13",
           "[Gen 9] OU",
           "16"
          ],
          [
           "Evan Sooklal",
           "Will Simpson",
           6,
           3,
           "2023-12-13",
           "[Gen 9] OU",
           "17"
          ],
          [
           "Roman Ramirez",
           "Aaron Carter",
           5,
           6,
           "2023-12-13",
           "[Gen 9] OU",
           "18"
          ],
          [
           "Aaron Carter",
           "Evan Sooklal",
           6,
           2,
           "2023-12-13",
           "[Gen 9] OU",
           "19"
          ],
          [
           "Will Simpson",
           "Paul Bartenfeld",
           6,
           4,
           "2023-12-13",
           "[Gen 9] OU",
           "20"
          ],
          [
           "Aaron Carter",
           "Evan Sooklal",
           5,
           6,
           "2023-12-13",
           "[Gen 9] OU",
           "1"
          ],
          [
           "Evan Sooklal",
           "Aaron Carter",
           2,
           6,
           "2023-12-13",
           "[Gen 9] OU",
           "2"
          ],
          [
           "Aaron Carter",
           "Evan Sooklal",
           6,
           2,
           "2023-12-13",
           "[Gen 9] OU",
           "3"
          ],
          [
           "Evan Sooklal",
           "Will Simpson",
           0,
           4,
           "2024-01-28",
           "[Gen 9] VGC 2024 Reg F",
           "1"
          ],
          [
           "Roman Ramirez",
           "Aaron Carter",
           2,
           4,
           "2024-01-28",
           "[Gen 9] VGC 2024 Reg F",
           "2"
          ],
          [
           "Aaron Carter",
           "Evan Sooklal",
           3,
           4,
           "2024-01-28",
           "[Gen 9] VGC 2024 Reg F",
           "3"
          ],
          [
           "Will Simpson",
           "Roman Ramirez",
           4,
           2,
           "2024-01-28",
           "[Gen 9] VGC 2024 Reg F",
           "4"
          ],
          [
           "Roman Ramirez",
           "Evan Sooklal",
           0,
           4,
           "2024-01-28",
           "[Gen 9] VGC 2024 Reg F",
           "5"
          ],
          [
           "Will Simpson",
           "Aaron Carter",
           1,
           4,
           "2024-01-28",
           "[Gen 9] VGC 2024 Reg F",
           "6"
          ],
          [
           "Will Simpson",
           "Evan Sooklal",
           4,
           2,
           "2024-01-28",
           "[Gen 9] VGC 2024 Reg F",
           "7"
          ],
          [
           "Aaron Carter",
           "Roman Ramirez",
           4,
           0,
           "2024-01-28",
           "[Gen 9] VGC 2024 Reg F",
           "8"
          ],
          [
           "Evan Sooklal",
           "Aaron Carter",
           3,
           4,
           "2024-01-28",
           "[Gen 9] VGC 2024 Reg F",
           "9"
          ],
          [
           "Roman Ramirez",
           "Will Simpson",
           1,
           4,
           "2024-01-28",
           "[Gen 9] VGC 2024 Reg F",
           "10"
          ],
          [
           "Evan Sooklal",
           "Roman Ramirez",
           4,
           3,
           "2024-01-28",
           "[Gen 9] VGC 2024 Reg F",
           "11"
          ],
          [
           "Aaron Carter",
           "Will Simpson",
           2,
           4,
           "2024-01-28",
           "[Gen 9] VGC 2024 Reg F",
           "12"
          ],
          [
           "Will Simpson",
           "Aaron Carter",
           4,
           0,
           "2024-01-28",
           "[Gen 9] VGC 2024 Reg F",
           "1"
          ],
          [
           "Will Simpson",
           "Aaron Carter",
           4,
           3,
           "2024-01-28",
           "[Gen 9] VGC 2024 Reg F",
           "2"
          ],
          [
           "Aaron Carter",
           "Evan Sooklal",
           4,
           2,
           "2024-02-09",
           "[Gen 9] VGC 2024 Reg F",
           "1a"
          ],
          [
           "Aaron Carter",
           "Evan Sooklal",
           4,
           3,
           "2024-02-09",
           "[Gen 9] VGC 2024 Reg F",
           "1b"
          ],
          [
           "Roman Ramirez",
           "Will Simpson",
           3,
           4,
           "2024-02-09",
           "[Gen 9] VGC 2024 Reg F",
           "2a"
          ],
          [
           "Roman Ramirez",
           "Will Simpson",
           2,
           4,
           "2024-02-09",
           "[Gen 9] VGC 2024 Reg F",
           "2b"
          ],
          [
           "Will Simpson",
           "Aaron Carter",
           2,
           4,
           "2024-02-09",
           "[Gen 9] VGC 2024 Reg F",
           "3a"
          ],
          [
           "Will Simpson",
           "Aaron Carter",
           0,
           4,
           "2024-02-09",
           "[Gen 9] VGC 2024 Reg F",
           "3b"
          ],
          [
           "Evan Sooklal",
           "Roman Ramirez",
           1,
           4,
           "2024-02-09",
           "[Gen 9] VGC 2024 Reg F",
           "4a"
          ],
          [
           "Evan Sooklal",
           "Roman Ramirez",
           4,
           2,
           "2024-02-09",
           "[Gen 9] VGC 2024 Reg F",
           "4b"
          ],
          [
           "Evan Sooklal",
           "Roman Ramirez",
           2,
           4,
           "2024-02-09",
           "[Gen 9] VGC 2024 Reg F",
           "4c"
          ],
          [
           "Roman Ramirez",
           "Aaron Carter",
           4,
           3,
           "2024-02-09",
           "[Gen 9] VGC 2024 Reg F",
           "5a"
          ],
          [
           "Roman Ramirez",
           "Aaron Carter",
           0,
           4,
           "2024-02-09",
           "[Gen 9] VGC 2024 Reg F",
           "5b"
          ],
          [
           "Roman Ramirez",
           "Aaron Carter",
           3,
           4,
           "2024-02-09",
           "[Gen 9] VGC 2024 Reg F",
           "5c"
          ],
          [
           "Evan Sooklal",
           "Will Simpson",
           1,
           4,
           "2024-02-09",
           "[Gen 9] VGC 2024 Reg F",
           "6a"
          ],
          [
           "Evan Sooklal",
           "Will Simpson",
           0,
           4,
           "2024-02-09",
           "[Gen 9] VGC 2024 Reg F",
           "6b"
          ],
          [
           "Aaron Carter",
           "Will Simpson",
           4,
           1,
           "2024-02-09",
           "[Gen 9] VGC 2024 Reg F",
           "1a"
          ],
          [
           "Aaron Carter",
           "Will Simpson",
           4,
           2,
           "2024-02-09",
           "[Gen 9] VGC 2024 Reg F",
           "1b"
          ],
          [
           "Will Simpson",
           "Evan Sooklal",
           6,
           2,
           "2024-02-18",
           "[Gen 9] Doubles UU",
           "1"
          ],
          [
           "Jack Massingill",
           "Roman Ramirez",
           0,
           6,
           "2024-02-18",
           "[Gen 9] Doubles UU",
           "2"
          ],
          [
           "Evan Sooklal",
           "Jack Massingill",
           6,
           3,
           "2024-02-18",
           "[Gen 9] Doubles UU",
           "3"
          ],
          [
           "Aaron Carter",
           "Will Simpson",
           6,
           1,
           "2024-02-18",
           "[Gen 9] Doubles UU",
           "4"
          ],
          [
           "Jack Massingill",
           "Aaron Carter",
           3,
           6,
           "2024-02-18",
           "[Gen 9] Doubles UU",
           "5"
          ],
          [
           "Roman Ramirez",
           "Evan Sooklal",
           6,
           3,
           "2024-02-18",
           "[Gen 9] Doubles UU",
           "6"
          ],
          [
           "Aaron Carter",
           "Roman Ramirez",
           3,
           6,
           "2024-02-18",
           "[Gen 9] Doubles UU",
           "7"
          ],
          [
           "Will Simpson",
           "Jack Massingill",
           6,
           0,
           "2024-02-18",
           "[Gen 9] Doubles UU",
           "8"
          ],
          [
           "Roman Ramirez",
           "Will Simpson",
           6,
           0,
           "2024-02-18",
           "[Gen 9] Doubles UU",
           "9"
          ],
          [
           "Evan Sooklal",
           "Aaron Carter",
           2,
           6,
           "2024-02-18",
           "[Gen 9] Doubles UU",
           "10"
          ],
          [
           "Evan Sooklal",
           "Will Simpson",
           6,
           2,
           "2024-02-18",
           "[Gen 9] Doubles UU",
           "11"
          ],
          [
           "Roman Ramirez",
           "Jack Massingill",
           6,
           1,
           "2024-02-18",
           "[Gen 9] Doubles UU",
           "12"
          ],
          [
           "Jack Massingill",
           "Evan Sooklal",
           0,
           6,
           "2024-02-18",
           "[Gen 9] Doubles UU",
           "13"
          ],
          [
           "Will Simpson",
           "Aaron Carter",
           2,
           6,
           "2024-02-18",
           "[Gen 9] Doubles UU",
           "14"
          ],
          [
           "Aaron Carter",
           "Jack Massingill",
           6,
           4,
           "2024-02-18",
           "[Gen 9] Doubles UU",
           "15"
          ],
          [
           "Evan Sooklal",
           "Roman Ramirez",
           1,
           6,
           "2024-02-18",
           "[Gen 9] Doubles UU",
           "16"
          ],
          [
           "Roman Ramirez",
           "Aaron Carter",
           6,
           5,
           "2024-02-18",
           "[Gen 9] Doubles UU",
           "17"
          ],
          [
           "Jack Massingill",
           "Will Simpson",
           6,
           0,
           "2024-02-18",
           "[Gen 9] Doubles UU",
           "18"
          ],
          [
           "Will Simpson",
           "Roman Ramirez",
           0,
           6,
           "2024-02-18",
           "[Gen 9] Doubles UU",
           "19"
          ],
          [
           "Aaron Carter",
           "Evan Sooklal",
           6,
           5,
           "2024-02-18",
           "[Gen 9] Doubles UU",
           "20"
          ],
          [
           "Roman Ramirez",
           "Aaron Carter",
           6,
           4,
           "2024-02-18",
           "[Gen 9] Doubles UU",
           "1"
          ],
          [
           "Roman Ramirez",
           "Aaron Carter",
           3,
           6,
           "2024-02-18",
           "[Gen 9] Doubles UU",
           "2"
          ],
          [
           "Roman Ramirez",
           "Aaron Carter",
           4,
           6,
           "2024-02-18",
           "[Gen 9] Doubles UU",
           "3"
          ],
          [
           "Lilith Karyadi",
           "Roman Ramirez",
           6,
           3,
           "2024-06-09",
           "[Gen 9] RU",
           "1a"
          ],
          [
           "Lilith Karyadi",
           "Roman Ramirez",
           6,
           3,
           "2024-06-09",
           "[Gen 9] RU",
           "1b"
          ],
          [
           "Evan Sooklal",
           "Will Simpson",
           6,
           5,
           "2024-06-09",
           "[Gen 9] RU",
           "2a"
          ],
          [
           "Evan Sooklal",
           "Will Simpson",
           4,
           6,
           "2024-06-09",
           "[Gen 9] RU",
           "2b"
          ],
          [
           "Evan Sooklal",
           "Will Simpson",
           6,
           5,
           "2024-06-09",
           "[Gen 9] RU",
           "2c"
          ],
          [
           "Will Simpson",
           "Lilith Karyadi",
           6,
           5,
           "2024-06-09",
           "[Gen 9] RU",
           "3a"
          ],
          [
           "Will Simpson",
           "Lilith Karyadi",
           6,
           2,
           "2024-06-09",
           "[Gen 9] RU",
           "3b"
          ],
          [
           "Roman Ramirez",
           "Evan Sooklal",
           4,
           6,
           "2024-06-09",
           "[Gen 9] RU",
           "4a"
          ],
          [
           "Roman Ramirez",
           "Evan Sooklal",
           2,
           6,
           "2024-06-09",
           "[Gen 9] RU",
           "4b"
          ],
          [
           "Evan Sooklal",
           "Lilith Karyadi",
           2,
           6,
           "2024-06-09",
           "[Gen 9] RU",
           "5a"
          ],
          [
           "Evan Sooklal",
           "Lilith Karyadi",
           5,
           6,
           "2024-06-09",
           "[Gen 9] RU",
           "5a"
          ],
          [
           "Roman Ramirez",
           "Will Simpson",
           3,
           6,
           "2024-06-09",
           "[Gen 9] RU",
           "6a"
          ],
          [
           "Roman Ramirez",
           "Will Simpson",
           1,
           6,
           "2024-06-09",
           "[Gen 9] RU",
           "6b"
          ],
          [
           "Evan Sooklal",
           "Lilith Karyadi",
           5,
           6,
           "2024-06-09",
           "[Gen 9] RU",
           "1"
          ],
          [
           "Will Simpson",
           "Lilith Karyadi",
           6,
           5,
           "2024-06-09",
           "[Gen 9] RU",
           "2"
          ]
         ],
         "hovertemplate": "<i>%{customdata[4]|%A, %B %d, %Y}, Game %{x}</i><br><b>%{fullData.name}</b><br><br><b>Format:</b> %{customdata[5]}<br><b>Tournament Match:</b> %{customdata[6]}<br><br><b>%{customdata[0]} vs. %{customdata[1]}</b><br><b>Final Score:</b> %{customdata[2]}-%{customdata[3]}<br>%{text}<b>Post-Game ELO:</b> %{y:,.0f}<br><extra></extra>",
         "legendgrouptitle": {
          "text": "<b>#<i>Rank</i> (<i>Current ELO</i>) <i>Player</i></b>"
         },
         "line": {
          "color": "rgb(17, 165, 121)",
          "shape": "hv"
         },
         "mode": "lines+markers",
         "name": "#2 (1251) Will Simpson",
         "opacity": 0.8,
         "text": [
          "<br><b>Pre-Game ELO: </b>1200<br><b>Win Probability: </b>50.0%<br><br><b>Change in ELO:</b> +16<br>",
          "<br><b>Pre-Game ELO: </b>nan<br><b>Win Probability: </b>nan%<br><br><b>Change in ELO:</b> +nan<br>",
          "<br><b>Pre-Game ELO: </b>nan<br><b>Win Probability: </b>nan%<br><br><b>Change in ELO:</b> +nan<br>",
          "<br><b>Pre-Game ELO: </b>1216<br><b>Win Probability: </b>58.4%<br><br><b>Change in ELO:</b> +13<br>",
          "<br><b>Pre-Game ELO: </b>nan<br><b>Win Probability: </b>nan%<br><br><b>Change in ELO:</b> +nan<br>",
          "<br><b>Pre-Game ELO: </b>1228<br><b>Win Probability: </b>50.0%<br><br><b>Change in ELO:</b> -16<br>",
          "<br><b>Pre-Game ELO: </b>1213<br><b>Win Probability: </b>57.0%<br><br><b>Change in ELO:</b> +13<br>",
          "<br><b>Pre-Game ELO: </b>nan<br><b>Win Probability: </b>nan%<br><br><b>Change in ELO:</b> +nan<br>",
          "<br><b>Pre-Game ELO: </b>nan<br><b>Win Probability: </b>nan%<br><br><b>Change in ELO:</b> +nan<br>",
          "<br><b>Pre-Game ELO: </b>1226<br><b>Win Probability: </b>70.4%<br><br><b>Change in ELO:</b> +9<br>",
          "<br><b>Pre-Game ELO: </b>nan<br><b>Win Probability: </b>nan%<br><br><b>Change in ELO:</b> +nan<br>",
          "<br><b>Pre-Game ELO: </b>1235<br><b>Win Probability: </b>51.3%<br><br><b>Change in ELO:</b> -16<br>",
          "<br><b>Pre-Game ELO: </b>1219<br><b>Win Probability: </b>42.6%<br><br><b>Change in ELO:</b> +18<br>",
          "<br><b>Pre-Game ELO: </b>1237<br><b>Win Probability: </b>52.3%<br><br><b>Change in ELO:</b> -16<br>",
          "<br><b>Pre-Game ELO: </b>1221<br><b>Win Probability: </b>43.5%<br><br><b>Change in ELO:</b> -13<br>",
          "<br><b>Pre-Game ELO: </b>nan<br><b>Win Probability: </b>nan%<br><br><b>Change in ELO:</b> +nan<br>",
          "<br><b>Pre-Game ELO: </b>1208<br><b>Win Probability: </b>70.7%<br><br><b>Change in ELO:</b> +9<br>",
          "<br><b>Pre-Game ELO: </b>1217<br><b>Win Probability: </b>49.0%<br><br><b>Change in ELO:</b> +16<br>",
          "<br><b>Pre-Game ELO: </b>nan<br><b>Win Probability: </b>nan%<br><br><b>Change in ELO:</b> +nan<br>",
          "<br><b>Pre-Game ELO: </b>1232<br><b>Win Probability: </b>52.2%<br><br><b>Change in ELO:</b> +15<br>",
          "<br><b>Pre-Game ELO: </b>nan<br><b>Win Probability: </b>nan%<br><br><b>Change in ELO:</b> +nan<br>",
          "<br><b>Pre-Game ELO: </b>nan<br><b>Win Probability: </b>nan%<br><br><b>Change in ELO:</b> +nan<br>",
          "<br><b>Pre-Game ELO: </b>1247<br><b>Win Probability: </b>57.5%<br><br><b>Change in ELO:</b> -18<br>",
          "<br><b>Pre-Game ELO: </b>nan<br><b>Win Probability: </b>nan%<br><br><b>Change in ELO:</b> +nan<br>",
          "<br><b>Pre-Game ELO: </b>nan<br><b>Win Probability: </b>nan%<br><br><b>Change in ELO:</b> +nan<br>",
          "<br><b>Pre-Game ELO: </b>nan<br><b>Win Probability: </b>nan%<br><br><b>Change in ELO:</b> +nan<br>",
          "<br><b>Pre-Game ELO: </b>1229<br><b>Win Probability: </b>69.5%<br><br><b>Change in ELO:</b> +9<br>",
          "<br><b>Pre-Game ELO: </b>1239<br><b>Win Probability: </b>64.0%<br><br><b>Change in ELO:</b> -20<br>",
          "<br><b>Pre-Game ELO: </b>nan<br><b>Win Probability: </b>nan%<br><br><b>Change in ELO:</b> +nan<br>",
          "<br><b>Pre-Game ELO: </b>1219<br><b>Win Probability: </b>50.1%<br><br><b>Change in ELO:</b> +15<br>",
          "<br><b>Pre-Game ELO: </b>nan<br><b>Win Probability: </b>nan%<br><br><b>Change in ELO:</b> +nan<br>",
          "<br><b>Pre-Game ELO: </b>nan<br><b>Win Probability: </b>nan%<br><br><b>Change in ELO:</b> +nan<br>",
          "<br><b>Pre-Game ELO: </b>1235<br><b>Win Probability: </b>56.5%<br><br><b>Change in ELO:</b> +13<br>",
          "<br><b>Pre-Game ELO: </b>nan<br><b>Win Probability: </b>nan%<br><br><b>Change in ELO:</b> +nan<br>",
          "<br><b>Pre-Game ELO: </b>nan<br><b>Win Probability: </b>nan%<br><br><b>Change in ELO:</b> +nan<br>",
          "<br><b>Pre-Game ELO: </b>1248<br><b>Win Probability: </b>62.7%<br><br><b>Change in ELO:</b> +12<br>",
          "<br><b>Pre-Game ELO: </b>1260<br><b>Win Probability: </b>68.5%<br><br><b>Change in ELO:</b> +10<br>",
          "<br><b>Pre-Game ELO: </b>nan<br><b>Win Probability: </b>nan%<br><br><b>Change in ELO:</b> +nan<br>",
          "<br><b>Pre-Game ELO: </b>nan<br><b>Win Probability: </b>nan%<br><br><b>Change in ELO:</b> +nan<br>",
          "<br><b>Pre-Game ELO: </b>nan<br><b>Win Probability: </b>nan%<br><br><b>Change in ELO:</b> +nan<br>",
          "<br><b>Pre-Game ELO: </b>1269<br><b>Win Probability: </b>65.3%<br><br><b>Change in ELO:</b> -20<br>",
          "<br><b>Pre-Game ELO: </b>1249<br><b>Win Probability: </b>68.6%<br><br><b>Change in ELO:</b> +10<br>",
          "<br><b>Pre-Game ELO: </b>nan<br><b>Win Probability: </b>nan%<br><br><b>Change in ELO:</b> +nan<br>",
          "<br><b>Pre-Game ELO: </b>1259<br><b>Win Probability: </b>64.1%<br><br><b>Change in ELO:</b> -20<br>",
          "<br><b>Pre-Game ELO: </b>nan<br><b>Win Probability: </b>nan%<br><br><b>Change in ELO:</b> +nan<br>",
          "<br><b>Pre-Game ELO: </b>nan<br><b>Win Probability: </b>nan%<br><br><b>Change in ELO:</b> +nan<br>",
          "<br><b>Pre-Game ELO: </b>1239<br><b>Win Probability: </b>75.9%<br><br><b>Change in ELO:</b> +7<br>",
          "<br><b>Pre-Game ELO: </b>nan<br><b>Win Probability: </b>nan%<br><br><b>Change in ELO:</b> +nan<br>",
          "<br><b>Pre-Game ELO: </b>nan<br><b>Win Probability: </b>nan%<br><br><b>Change in ELO:</b> +nan<br>",
          "<br><b>Pre-Game ELO: </b>nan<br><b>Win Probability: </b>nan%<br><br><b>Change in ELO:</b> +nan<br>",
          "<br><b>Pre-Game ELO: </b>1246<br><b>Win Probability: </b>45.6%<br><br><b>Change in ELO:</b> -14<br>",
          "<br><b>Pre-Game ELO: </b>1232<br><b>Win Probability: </b>68.8%<br><br><b>Change in ELO:</b> -21<br>",
          "<br><b>Pre-Game ELO: </b>nan<br><b>Win Probability: </b>nan%<br><br><b>Change in ELO:</b> +nan<br>",
          "<br><b>Pre-Game ELO: </b>1211<br><b>Win Probability: </b>44.9%<br><br><b>Change in ELO:</b> -14<br>",
          "<br><b>Pre-Game ELO: </b>nan<br><b>Win Probability: </b>nan%<br><br><b>Change in ELO:</b> +nan<br>",
          "<br><b>Pre-Game ELO: </b>nan<br><b>Win Probability: </b>nan%<br><br><b>Change in ELO:</b> +nan<br>",
          "<br><b>Pre-Game ELO: </b>1197<br><b>Win Probability: </b>74.2%<br><br><b>Change in ELO:</b> +8<br>",
          "<br><b>Pre-Game ELO: </b>nan<br><b>Win Probability: </b>nan%<br><br><b>Change in ELO:</b> +nan<br>",
          "<br><b>Pre-Game ELO: </b>nan<br><b>Win Probability: </b>nan%<br><br><b>Change in ELO:</b> +nan<br>",
          "<br><b>Pre-Game ELO: </b>nan<br><b>Win Probability: </b>nan%<br><br><b>Change in ELO:</b> +nan<br>",
          "<br><b>Pre-Game ELO: </b>1205<br><b>Win Probability: </b>43.8%<br><br><b>Change in ELO:</b> +17<br>",
          "<br><b>Pre-Game ELO: </b>nan<br><b>Win Probability: </b>nan%<br><br><b>Change in ELO:</b> +nan<br>",
          "<br><b>Pre-Game ELO: </b>nan<br><b>Win Probability: </b>nan%<br><br><b>Change in ELO:</b> +nan<br>",
          "<br><b>Pre-Game ELO: </b>1223<br><b>Win Probability: </b>64.7%<br><br><b>Change in ELO:</b> +11<br>",
          "<br><b>Pre-Game ELO: </b>nan<br><b>Win Probability: </b>nan%<br><br><b>Change in ELO:</b> +nan<br>",
          "<br><b>Pre-Game ELO: </b>1233<br><b>Win Probability: </b>36.5%<br><br><b>Change in ELO:</b> -11<br>",
          "<br><b>Pre-Game ELO: </b>1222<br><b>Win Probability: </b>44.4%<br><br><b>Change in ELO:</b> +17<br>",
          "<br><b>Pre-Game ELO: </b>nan<br><b>Win Probability: </b>nan%<br><br><b>Change in ELO:</b> +nan<br>",
          "<br><b>Pre-Game ELO: </b>nan<br><b>Win Probability: </b>nan%<br><br><b>Change in ELO:</b> +nan<br>",
          "<br><b>Pre-Game ELO: </b>1239<br><b>Win Probability: </b>74.4%<br><br><b>Change in ELO:</b> +8<br>",
          "<br><b>Pre-Game ELO: </b>nan<br><b>Win Probability: </b>nan%<br><br><b>Change in ELO:</b> +nan<br>",
          "<br><b>Pre-Game ELO: </b>1247<br><b>Win Probability: </b>33.5%<br><br><b>Change in ELO:</b> +21<br>",
          "<br><b>Pre-Game ELO: </b>1268<br><b>Win Probability: </b>44.2%<br><br><b>Change in ELO:</b> +17<br>",
          "<br><b>Pre-Game ELO: </b>1285<br><b>Win Probability: </b>53.7%<br><br><b>Change in ELO:</b> +14<br>",
          "<br><b>Pre-Game ELO: </b>nan<br><b>Win Probability: </b>nan%<br><br><b>Change in ELO:</b> +nan<br>",
          "<br><b>Pre-Game ELO: </b>nan<br><b>Win Probability: </b>nan%<br><br><b>Change in ELO:</b> +nan<br>",
          "<br><b>Pre-Game ELO: </b>1300<br><b>Win Probability: </b>87.2%<br><br><b>Change in ELO:</b> +4<br>",
          "<br><b>Pre-Game ELO: </b>1304<br><b>Win Probability: </b>88.1%<br><br><b>Change in ELO:</b> +4<br>",
          "<br><b>Pre-Game ELO: </b>1307<br><b>Win Probability: </b>57.2%<br><br><b>Change in ELO:</b> -18<br>",
          "<br><b>Pre-Game ELO: </b>1290<br><b>Win Probability: </b>47.5%<br><br><b>Change in ELO:</b> -15<br>",
          "<br><b>Pre-Game ELO: </b>nan<br><b>Win Probability: </b>nan%<br><br><b>Change in ELO:</b> +nan<br>",
          "<br><b>Pre-Game ELO: </b>nan<br><b>Win Probability: </b>nan%<br><br><b>Change in ELO:</b> +nan<br>",
          "<br><b>Pre-Game ELO: </b>nan<br><b>Win Probability: </b>nan%<br><br><b>Change in ELO:</b> +nan<br>",
          "<br><b>Pre-Game ELO: </b>nan<br><b>Win Probability: </b>nan%<br><br><b>Change in ELO:</b> +nan<br>",
          "<br><b>Pre-Game ELO: </b>nan<br><b>Win Probability: </b>nan%<br><br><b>Change in ELO:</b> +nan<br>",
          "<br><b>Pre-Game ELO: </b>nan<br><b>Win Probability: </b>nan%<br><br><b>Change in ELO:</b> +nan<br>",
          "<br><b>Pre-Game ELO: </b>1275<br><b>Win Probability: </b>75.8%<br><br><b>Change in ELO:</b> +7<br>",
          "<br><b>Pre-Game ELO: </b>1282<br><b>Win Probability: </b>78.7%<br><br><b>Change in ELO:</b> +7<br>",
          "<br><b>Pre-Game ELO: </b>1289<br><b>Win Probability: </b>47.0%<br><br><b>Change in ELO:</b> -15<br>",
          "<br><b>Pre-Game ELO: </b>1274<br><b>Win Probability: </b>39.1%<br><br><b>Change in ELO:</b> -12<br>",
          "<br><b>Pre-Game ELO: </b>1262<br><b>Win Probability: </b>76.1%<br><br><b>Change in ELO:</b> +7<br>",
          "<br><b>Pre-Game ELO: </b>nan<br><b>Win Probability: </b>nan%<br><br><b>Change in ELO:</b> +nan<br>",
          "<br><b>Pre-Game ELO: </b>nan<br><b>Win Probability: </b>nan%<br><br><b>Change in ELO:</b> +nan<br>",
          "<br><b>Pre-Game ELO: </b>1270<br><b>Win Probability: </b>34.8%<br><br><b>Change in ELO:</b> -11<br>",
          "<br><b>Pre-Game ELO: </b>nan<br><b>Win Probability: </b>nan%<br><br><b>Change in ELO:</b> +nan<br>",
          "<br><b>Pre-Game ELO: </b>nan<br><b>Win Probability: </b>nan%<br><br><b>Change in ELO:</b> +nan<br>",
          "<br><b>Pre-Game ELO: </b>nan<br><b>Win Probability: </b>nan%<br><br><b>Change in ELO:</b> +nan<br>",
          "<br><b>Pre-Game ELO: </b>1259<br><b>Win Probability: </b>74.9%<br><br><b>Change in ELO:</b> +8<br>",
          "<br><b>Pre-Game ELO: </b>1267<br><b>Win Probability: </b>62.4%<br><br><b>Change in ELO:</b> -19<br>",
          "<br><b>Pre-Game ELO: </b>nan<br><b>Win Probability: </b>nan%<br><br><b>Change in ELO:</b> +nan<br>",
          "<br><b>Pre-Game ELO: </b>1247<br><b>Win Probability: </b>74.7%<br><br><b>Change in ELO:</b> -23<br>",
          "<br><b>Pre-Game ELO: </b>nan<br><b>Win Probability: </b>nan%<br><br><b>Change in ELO:</b> +nan<br>",
          "<br><b>Pre-Game ELO: </b>nan<br><b>Win Probability: </b>nan%<br><br><b>Change in ELO:</b> +nan<br>",
          "<br><b>Pre-Game ELO: </b>1224<br><b>Win Probability: </b>25.8%<br><br><b>Change in ELO:</b> -8<br>",
          "<br><b>Pre-Game ELO: </b>nan<br><b>Win Probability: </b>nan%<br><br><b>Change in ELO:</b> +nan<br>",
          "<br><b>Pre-Game ELO: </b>nan<br><b>Win Probability: </b>nan%<br><br><b>Change in ELO:</b> +nan<br>",
          "<br><b>Pre-Game ELO: </b>nan<br><b>Win Probability: </b>nan%<br><br><b>Change in ELO:</b> +nan<br>",
          "<br><b>Pre-Game ELO: </b>1216<br><b>Win Probability: </b>72.8%<br><br><b>Change in ELO:</b> -23<br>",
          "<br><b>Pre-Game ELO: </b>1194<br><b>Win Probability: </b>27.9%<br><br><b>Change in ELO:</b> -9<br>",
          "<br><b>Pre-Game ELO: </b>nan<br><b>Win Probability: </b>nan%<br><br><b>Change in ELO:</b> +nan<br>",
          "<br><b>Pre-Game ELO: </b>nan<br><b>Win Probability: </b>nan%<br><br><b>Change in ELO:</b> +nan<br>",
          "<br><b>Pre-Game ELO: </b>nan<br><b>Win Probability: </b>nan%<br><br><b>Change in ELO:</b> +nan<br>",
          "<br><b>Pre-Game ELO: </b>nan<br><b>Win Probability: </b>nan%<br><br><b>Change in ELO:</b> +nan<br>",
          "<br><b>Pre-Game ELO: </b>nan<br><b>Win Probability: </b>nan%<br><br><b>Change in ELO:</b> +nan<br>",
          "<br><b>Pre-Game ELO: </b>nan<br><b>Win Probability: </b>nan%<br><br><b>Change in ELO:</b> +nan<br>",
          "<br><b>Pre-Game ELO: </b>1185<br><b>Win Probability: </b>54.4%<br><br><b>Change in ELO:</b> -17<br>",
          "<br><b>Pre-Game ELO: </b>1168<br><b>Win Probability: </b>45.2%<br><br><b>Change in ELO:</b> +17<br>",
          "<br><b>Pre-Game ELO: </b>1185<br><b>Win Probability: </b>54.5%<br><br><b>Change in ELO:</b> -17<br>",
          "<br><b>Pre-Game ELO: </b>1168<br><b>Win Probability: </b>31.2%<br><br><b>Change in ELO:</b> +21<br>",
          "<br><b>Pre-Game ELO: </b>1189<br><b>Win Probability: </b>42.0%<br><br><b>Change in ELO:</b> +18<br>",
          "<br><b>Pre-Game ELO: </b>nan<br><b>Win Probability: </b>nan%<br><br><b>Change in ELO:</b> +nan<br>",
          "<br><b>Pre-Game ELO: </b>nan<br><b>Win Probability: </b>nan%<br><br><b>Change in ELO:</b> +nan<br>",
          "<br><b>Pre-Game ELO: </b>nan<br><b>Win Probability: </b>nan%<br><br><b>Change in ELO:</b> +nan<br>",
          "<br><b>Pre-Game ELO: </b>nan<br><b>Win Probability: </b>nan%<br><br><b>Change in ELO:</b> +nan<br>",
          "<br><b>Pre-Game ELO: </b>1207<br><b>Win Probability: </b>51.9%<br><br><b>Change in ELO:</b> +15<br>",
          "<br><b>Pre-Game ELO: </b>1222<br><b>Win Probability: </b>59.9%<br><br><b>Change in ELO:</b> +12<br>",
          "<br><b>Pre-Game ELO: </b>nan<br><b>Win Probability: </b>nan%<br><br><b>Change in ELO:</b> +nan<br>",
          "<br><b>Pre-Game ELO: </b>1235<br><b>Win Probability: </b>47.4%<br><br><b>Change in ELO:</b> +16<br>"
         ],
         "type": "scatter",
         "x": [
          1,
          2,
          3,
          4,
          5,
          6,
          7,
          8,
          9,
          10,
          11,
          12,
          13,
          14,
          15,
          16,
          17,
          18,
          19,
          20,
          21,
          22,
          23,
          24,
          25,
          26,
          27,
          28,
          29,
          30,
          31,
          32,
          33,
          34,
          35,
          36,
          37,
          38,
          39,
          40,
          41,
          42,
          43,
          44,
          45,
          46,
          47,
          48,
          49,
          50,
          51,
          52,
          53,
          54,
          55,
          56,
          57,
          58,
          59,
          60,
          61,
          62,
          63,
          64,
          65,
          66,
          67,
          68,
          69,
          70,
          71,
          72,
          73,
          74,
          75,
          76,
          77,
          78,
          79,
          80,
          81,
          82,
          83,
          84,
          85,
          86,
          87,
          88,
          89,
          90,
          91,
          92,
          93,
          94,
          95,
          96,
          97,
          98,
          99,
          100,
          101,
          102,
          103,
          104,
          105,
          106,
          107,
          108,
          109,
          110,
          111,
          112,
          113,
          114,
          115,
          116,
          117,
          118,
          119,
          120,
          121,
          122,
          123,
          124,
          125,
          126,
          127,
          128
         ],
         "y": [
          1215.5,
          null,
          null,
          1228.3858031753039,
          null,
          1212.8858031753039,
          1226.2060869714899,
          null,
          null,
          1235.3974385468625,
          null,
          1219.4919520318529,
          1237.2780408888975,
          1221.052753694122,
          1207.5782095664276,
          null,
          1216.674325114043,
          1232.4840539698923,
          null,
          1247.3098513798145,
          null,
          null,
          1229.4988967375302,
          null,
          null,
          null,
          1238.958454220562,
          1219.107910197629,
          null,
          1234.5824811583602,
          null,
          null,
          1248.0560505120777,
          null,
          null,
          1259.6090123610109,
          1269.3890605277982,
          null,
          null,
          null,
          1249.1486810656638,
          1258.8936040805959,
          null,
          1239.0254206334819,
          null,
          null,
          1246.4845665792952,
          null,
          null,
          null,
          1232.3471327898974,
          1211.01943697701,
          null,
          1197.1113545406115,
          null,
          null,
          1205.1013946719963,
          null,
          null,
          null,
          1222.5106702038486,
          null,
          null,
          1233.4626202696672,
          null,
          1222.1505021932876,
          1239.3840134911154,
          null,
          null,
          1247.3088653314312,
          null,
          1267.9273116328354,
          1285.2258692192208,
          1299.588927223994,
          null,
          null,
          1303.5670924858557,
          1307.251870859551,
          1289.5281097345871,
          1274.8063340506517,
          null,
          null,
          null,
          null,
          null,
          null,
          1282.2969192323628,
          1288.8926316811867,
          1274.3353329442618,
          1262.203517230824,
          1269.6019115678846,
          null,
          null,
          1258.807490373056,
          null,
          null,
          null,
          1266.576388154093,
          1247.245311731566,
          null,
          1224.080105698255,
          null,
          null,
          1216.069891050113,
          null,
          null,
          null,
          1193.513064710296,
          1184.876284539817,
          null,
          null,
          null,
          null,
          null,
          null,
          1168.0100129055925,
          1185.0075715125624,
          1168.1191202273903,
          1189.4391781073841,
          1207.4068632293283,
          null,
          null,
          null,
          null,
          1222.3228741513046,
          1234.740270956793,
          null,
          1251.0548017100298
         ]
        },
        {
         "connectgaps": true,
         "customdata": [
          [
           "Evan Sooklal",
           "Will Simpson",
           2,
           6,
           "2023-11-18",
           "[Gen 9] OU",
           "1"
          ],
          [
           "Paul Bartenfeld",
           "Roman Ramirez",
           2,
           6,
           "2023-11-18",
           "[Gen 9] OU",
           "2"
          ],
          [
           "Roman Ramirez",
           "Evan Sooklal",
           6,
           3,
           "2023-11-18",
           "[Gen 9] OU",
           "3"
          ],
          [
           "Will Simpson",
           "Paul Bartenfeld",
           6,
           1,
           "2023-11-18",
           "[Gen 9] OU",
           "4"
          ],
          [
           "Paul Bartenfeld",
           "Evan Sooklal",
           1,
           6,
           "2023-11-18",
           "[Gen 9] OU",
           "5"
          ],
          [
           "Will Simpson",
           "Roman Ramirez",
           3,
           6,
           "2023-11-18",
           "[Gen 9] OU",
           "6"
          ],
          [
           "Will Simpson",
           "Evan Sooklal",
           6,
           2,
           "2023-11-18",
           "[Gen 9] OU",
           "7"
          ],
          [
           "Roman Ramirez",
           "Paul Bartenfeld",
           6,
           4,
           "2023-11-18",
           "[Gen 9] OU",
           "8"
          ],
          [
           "Evan Sooklal",
           "Roman Ramirez",
           6,
           5,
           "2023-11-18",
           "[Gen 9] OU",
           "9"
          ],
          [
           "Paul Bartenfeld",
           "Will Simpson",
           4,
           6,
           "2023-11-18",
           "[Gen 9] OU",
           "10"
          ],
          [
           "Evan Sooklal",
           "Paul Bartenfeld",
           6,
           5,
           "2023-11-18",
           "[Gen 9] OU",
           "11"
          ],
          [
           "Roman Ramirez",
           "Will Simpson",
           6,
           2,
           "2023-11-18",
           "[Gen 9] OU",
           "12"
          ],
          [
           "Roman Ramirez",
           "Will Simpson",
           2,
           6,
           "2023-11-18",
           "[Gen 9] OU",
           "1"
          ],
          [
           "Will Simpson",
           "Roman Ramirez",
           4,
           6,
           "2023-11-18",
           "[Gen 9] OU",
           "2"
          ],
          [
           "Roman Ramirez",
           "Will Simpson",
           6,
           4,
           "2023-11-18",
           "[Gen 9] OU",
           "3"
          ],
          [
           "Roman Ramirez",
           "Aaron Carter",
           4,
           6,
           "2023-12-02",
           "[Gen 9] OU",
           "1"
          ],
          [
           "Will Simpson",
           "Paul Bartenfeld",
           6,
           4,
           "2023-12-02",
           "[Gen 9] OU",
           "2"
          ],
          [
           "Aaron Carter",
           "Will Simpson",
           4,
           6,
           "2023-12-02",
           "[Gen 9] OU",
           "3"
          ],
          [
           "Evan Sooklal",
           "Roman Ramirez",
           6,
           2,
           "2023-12-02",
           "[Gen 9] OU",
           "4"
          ],
          [
           "Will Simpson",
           "Evan Sooklal",
           6,
           2,
           "2023-12-02",
           "[Gen 9] OU",
           "5"
          ],
          [
           "Paul Bartenfeld",
           "Aaron Carter",
           6,
           3,
           "2023-12-02",
           "[Gen 9] OU",
           "6"
          ],
          [
           "Evan Sooklal",
           "Paul Bartenfeld",
           6,
           4,
           "2023-12-02",
           "[Gen 9] OU",
           "7"
          ],
          [
           "Roman Ramirez",
           "Will Simpson",
           6,
           4,
           "2023-12-02",
           "[Gen 9] OU",
           "8"
          ],
          [
           "Paul Bartenfeld",
           "Roman Ramirez",
           6,
           3,
           "2023-12-02",
           "[Gen 9] OU",
           "9"
          ],
          [
           "Aaron Carter",
           "Evan Sooklal",
           6,
           3,
           "2023-12-02",
           "[Gen 9] OU",
           "10"
          ],
          [
           "Aaron Carter",
           "Roman Ramirez",
           0,
           6,
           "2023-12-02",
           "[Gen 9] OU",
           "11"
          ],
          [
           "Paul Bartenfeld",
           "Will Simpson",
           1,
           6,
           "2023-12-02",
           "[Gen 9] OU",
           "12"
          ],
          [
           "Will Simpson",
           "Aaron Carter",
           3,
           6,
           "2023-12-02",
           "[Gen 9] OU",
           "13"
          ],
          [
           "Roman Ramirez",
           "Evan Sooklal",
           2,
           6,
           "2023-12-02",
           "[Gen 9] OU",
           "14"
          ],
          [
           "Evan Sooklal",
           "Will Simpson",
           5,
           6,
           "2023-12-02",
           "[Gen 9] OU",
           "15"
          ],
          [
           "Aaron Carter",
           "Paul Bartenfeld",
           6,
           3,
           "2023-12-02",
           "[Gen 9] OU",
           "16"
          ],
          [
           "Paul Bartenfeld",
           "Evan Sooklal",
           6,
           5,
           "2023-12-02",
           "[Gen 9] OU",
           "17"
          ],
          [
           "Will Simpson",
           "Roman Ramirez",
           6,
           5,
           "2023-12-02",
           "[Gen 9] OU",
           "18"
          ],
          [
           "Roman Ramirez",
           "Paul Bartenfeld",
           4,
           6,
           "2023-12-02",
           "[Gen 9] OU",
           "19"
          ],
          [
           "Evan Sooklal",
           "Aaron Carter",
           6,
           4,
           "2023-12-02",
           "[Gen 9] OU",
           "20"
          ],
          [
           "Will Simpson",
           "Evan Sooklal",
           6,
           2,
           "2023-12-02",
           "[Gen 9] OU",
           "1"
          ],
          [
           "Will Simpson",
           "Evan Sooklal",
           6,
           1,
           "2023-12-02",
           "[Gen 9] OU",
           "2"
          ],
          [
           "Aaron Carter",
           "Paul Bartenfeld",
           6,
           3,
           "2023-12-13",
           "[Gen 9] OU",
           "1"
          ],
          [
           "Roman Ramirez",
           "Evan Sooklal",
           5,
           6,
           "2023-12-13",
           "[Gen 9] OU",
           "2"
          ],
          [
           "Paul Bartenfeld",
           "Roman Ramirez",
           2,
           6,
           "2023-12-13",
           "[Gen 9] OU",
           "3"
          ],
          [
           "Will Simpson",
           "Aaron Carter",
           0,
           6,
           "2023-12-13",
           "[Gen 9] OU",
           "4"
          ],
          [
           "Roman Ramirez",
           "Will Simpson",
           4,
           6,
           "2023-12-13",
           "[Gen 9] OU",
           "5"
          ],
          [
           "Evan Sooklal",
           "Paul Bartenfeld",
           6,
           5,
           "2023-12-13",
           "[Gen 9] OU",
           "6"
          ],
          [
           "Will Simpson",
           "Evan Sooklal",
           4,
           6,
           "2023-12-13",
           "[Gen 9] OU",
           "7"
          ],
          [
           "Aaron Carter",
           "Roman Ramirez",
           6,
           3,
           "2023-12-13",
           "[Gen 9] OU",
           "8"
          ],
          [
           "Evan Sooklal",
           "Aaron Carter",
           5,
           6,
           "2023-12-13",
           "[Gen 9] OU",
           "9"
          ],
          [
           "Paul Bartenfeld",
           "Will Simpson",
           2,
           6,
           "2023-12-13",
           "[Gen 9] OU",
           "10"
          ],
          [
           "Paul Bartenfeld",
           "Aaron Carter",
           3,
           6,
           "2023-12-13",
           "[Gen 9] OU",
           "11"
          ],
          [
           "Evan Sooklal",
           "Roman Ramirez",
           6,
           4,
           "2023-12-13",
           "[Gen 9] OU",
           "12"
          ],
          [
           "Roman Ramirez",
           "Paul Bartenfeld",
           6,
           1,
           "2023-12-13",
           "[Gen 9] OU",
           "13"
          ],
          [
           "Aaron Carter",
           "Will Simpson",
           6,
           5,
           "2023-12-13",
           "[Gen 9] OU",
           "14"
          ],
          [
           "Will Simpson",
           "Roman Ramirez",
           3,
           6,
           "2023-12-13",
           "[Gen 9] OU",
           "15"
          ],
          [
           "Paul Bartenfeld",
           "Evan Sooklal",
           3,
           6,
           "2023-12-13",
           "[Gen 9] OU",
           "16"
          ],
          [
           "Evan Sooklal",
           "Will Simpson",
           6,
           3,
           "2023-12-13",
           "[Gen 9] OU",
           "17"
          ],
          [
           "Roman Ramirez",
           "Aaron Carter",
           5,
           6,
           "2023-12-13",
           "[Gen 9] OU",
           "18"
          ],
          [
           "Aaron Carter",
           "Evan Sooklal",
           6,
           2,
           "2023-12-13",
           "[Gen 9] OU",
           "19"
          ],
          [
           "Will Simpson",
           "Paul Bartenfeld",
           6,
           4,
           "2023-12-13",
           "[Gen 9] OU",
           "20"
          ],
          [
           "Aaron Carter",
           "Evan Sooklal",
           5,
           6,
           "2023-12-13",
           "[Gen 9] OU",
           "1"
          ],
          [
           "Evan Sooklal",
           "Aaron Carter",
           2,
           6,
           "2023-12-13",
           "[Gen 9] OU",
           "2"
          ],
          [
           "Aaron Carter",
           "Evan Sooklal",
           6,
           2,
           "2023-12-13",
           "[Gen 9] OU",
           "3"
          ],
          [
           "Evan Sooklal",
           "Will Simpson",
           0,
           4,
           "2024-01-28",
           "[Gen 9] VGC 2024 Reg F",
           "1"
          ],
          [
           "Roman Ramirez",
           "Aaron Carter",
           2,
           4,
           "2024-01-28",
           "[Gen 9] VGC 2024 Reg F",
           "2"
          ],
          [
           "Aaron Carter",
           "Evan Sooklal",
           3,
           4,
           "2024-01-28",
           "[Gen 9] VGC 2024 Reg F",
           "3"
          ],
          [
           "Will Simpson",
           "Roman Ramirez",
           4,
           2,
           "2024-01-28",
           "[Gen 9] VGC 2024 Reg F",
           "4"
          ],
          [
           "Roman Ramirez",
           "Evan Sooklal",
           0,
           4,
           "2024-01-28",
           "[Gen 9] VGC 2024 Reg F",
           "5"
          ],
          [
           "Will Simpson",
           "Aaron Carter",
           1,
           4,
           "2024-01-28",
           "[Gen 9] VGC 2024 Reg F",
           "6"
          ],
          [
           "Will Simpson",
           "Evan Sooklal",
           4,
           2,
           "2024-01-28",
           "[Gen 9] VGC 2024 Reg F",
           "7"
          ],
          [
           "Aaron Carter",
           "Roman Ramirez",
           4,
           0,
           "2024-01-28",
           "[Gen 9] VGC 2024 Reg F",
           "8"
          ],
          [
           "Evan Sooklal",
           "Aaron Carter",
           3,
           4,
           "2024-01-28",
           "[Gen 9] VGC 2024 Reg F",
           "9"
          ],
          [
           "Roman Ramirez",
           "Will Simpson",
           1,
           4,
           "2024-01-28",
           "[Gen 9] VGC 2024 Reg F",
           "10"
          ],
          [
           "Evan Sooklal",
           "Roman Ramirez",
           4,
           3,
           "2024-01-28",
           "[Gen 9] VGC 2024 Reg F",
           "11"
          ],
          [
           "Aaron Carter",
           "Will Simpson",
           2,
           4,
           "2024-01-28",
           "[Gen 9] VGC 2024 Reg F",
           "12"
          ],
          [
           "Will Simpson",
           "Aaron Carter",
           4,
           0,
           "2024-01-28",
           "[Gen 9] VGC 2024 Reg F",
           "1"
          ],
          [
           "Will Simpson",
           "Aaron Carter",
           4,
           3,
           "2024-01-28",
           "[Gen 9] VGC 2024 Reg F",
           "2"
          ],
          [
           "Aaron Carter",
           "Evan Sooklal",
           4,
           2,
           "2024-02-09",
           "[Gen 9] VGC 2024 Reg F",
           "1a"
          ],
          [
           "Aaron Carter",
           "Evan Sooklal",
           4,
           3,
           "2024-02-09",
           "[Gen 9] VGC 2024 Reg F",
           "1b"
          ],
          [
           "Roman Ramirez",
           "Will Simpson",
           3,
           4,
           "2024-02-09",
           "[Gen 9] VGC 2024 Reg F",
           "2a"
          ],
          [
           "Roman Ramirez",
           "Will Simpson",
           2,
           4,
           "2024-02-09",
           "[Gen 9] VGC 2024 Reg F",
           "2b"
          ],
          [
           "Will Simpson",
           "Aaron Carter",
           2,
           4,
           "2024-02-09",
           "[Gen 9] VGC 2024 Reg F",
           "3a"
          ],
          [
           "Will Simpson",
           "Aaron Carter",
           0,
           4,
           "2024-02-09",
           "[Gen 9] VGC 2024 Reg F",
           "3b"
          ],
          [
           "Evan Sooklal",
           "Roman Ramirez",
           1,
           4,
           "2024-02-09",
           "[Gen 9] VGC 2024 Reg F",
           "4a"
          ],
          [
           "Evan Sooklal",
           "Roman Ramirez",
           4,
           2,
           "2024-02-09",
           "[Gen 9] VGC 2024 Reg F",
           "4b"
          ],
          [
           "Evan Sooklal",
           "Roman Ramirez",
           2,
           4,
           "2024-02-09",
           "[Gen 9] VGC 2024 Reg F",
           "4c"
          ],
          [
           "Roman Ramirez",
           "Aaron Carter",
           4,
           3,
           "2024-02-09",
           "[Gen 9] VGC 2024 Reg F",
           "5a"
          ],
          [
           "Roman Ramirez",
           "Aaron Carter",
           0,
           4,
           "2024-02-09",
           "[Gen 9] VGC 2024 Reg F",
           "5b"
          ],
          [
           "Roman Ramirez",
           "Aaron Carter",
           3,
           4,
           "2024-02-09",
           "[Gen 9] VGC 2024 Reg F",
           "5c"
          ],
          [
           "Evan Sooklal",
           "Will Simpson",
           1,
           4,
           "2024-02-09",
           "[Gen 9] VGC 2024 Reg F",
           "6a"
          ],
          [
           "Evan Sooklal",
           "Will Simpson",
           0,
           4,
           "2024-02-09",
           "[Gen 9] VGC 2024 Reg F",
           "6b"
          ],
          [
           "Aaron Carter",
           "Will Simpson",
           4,
           1,
           "2024-02-09",
           "[Gen 9] VGC 2024 Reg F",
           "1a"
          ],
          [
           "Aaron Carter",
           "Will Simpson",
           4,
           2,
           "2024-02-09",
           "[Gen 9] VGC 2024 Reg F",
           "1b"
          ],
          [
           "Will Simpson",
           "Evan Sooklal",
           6,
           2,
           "2024-02-18",
           "[Gen 9] Doubles UU",
           "1"
          ],
          [
           "Jack Massingill",
           "Roman Ramirez",
           0,
           6,
           "2024-02-18",
           "[Gen 9] Doubles UU",
           "2"
          ],
          [
           "Evan Sooklal",
           "Jack Massingill",
           6,
           3,
           "2024-02-18",
           "[Gen 9] Doubles UU",
           "3"
          ],
          [
           "Aaron Carter",
           "Will Simpson",
           6,
           1,
           "2024-02-18",
           "[Gen 9] Doubles UU",
           "4"
          ],
          [
           "Jack Massingill",
           "Aaron Carter",
           3,
           6,
           "2024-02-18",
           "[Gen 9] Doubles UU",
           "5"
          ],
          [
           "Roman Ramirez",
           "Evan Sooklal",
           6,
           3,
           "2024-02-18",
           "[Gen 9] Doubles UU",
           "6"
          ],
          [
           "Aaron Carter",
           "Roman Ramirez",
           3,
           6,
           "2024-02-18",
           "[Gen 9] Doubles UU",
           "7"
          ],
          [
           "Will Simpson",
           "Jack Massingill",
           6,
           0,
           "2024-02-18",
           "[Gen 9] Doubles UU",
           "8"
          ],
          [
           "Roman Ramirez",
           "Will Simpson",
           6,
           0,
           "2024-02-18",
           "[Gen 9] Doubles UU",
           "9"
          ],
          [
           "Evan Sooklal",
           "Aaron Carter",
           2,
           6,
           "2024-02-18",
           "[Gen 9] Doubles UU",
           "10"
          ],
          [
           "Evan Sooklal",
           "Will Simpson",
           6,
           2,
           "2024-02-18",
           "[Gen 9] Doubles UU",
           "11"
          ],
          [
           "Roman Ramirez",
           "Jack Massingill",
           6,
           1,
           "2024-02-18",
           "[Gen 9] Doubles UU",
           "12"
          ],
          [
           "Jack Massingill",
           "Evan Sooklal",
           0,
           6,
           "2024-02-18",
           "[Gen 9] Doubles UU",
           "13"
          ],
          [
           "Will Simpson",
           "Aaron Carter",
           2,
           6,
           "2024-02-18",
           "[Gen 9] Doubles UU",
           "14"
          ],
          [
           "Aaron Carter",
           "Jack Massingill",
           6,
           4,
           "2024-02-18",
           "[Gen 9] Doubles UU",
           "15"
          ],
          [
           "Evan Sooklal",
           "Roman Ramirez",
           1,
           6,
           "2024-02-18",
           "[Gen 9] Doubles UU",
           "16"
          ],
          [
           "Roman Ramirez",
           "Aaron Carter",
           6,
           5,
           "2024-02-18",
           "[Gen 9] Doubles UU",
           "17"
          ],
          [
           "Jack Massingill",
           "Will Simpson",
           6,
           0,
           "2024-02-18",
           "[Gen 9] Doubles UU",
           "18"
          ],
          [
           "Will Simpson",
           "Roman Ramirez",
           0,
           6,
           "2024-02-18",
           "[Gen 9] Doubles UU",
           "19"
          ],
          [
           "Aaron Carter",
           "Evan Sooklal",
           6,
           5,
           "2024-02-18",
           "[Gen 9] Doubles UU",
           "20"
          ],
          [
           "Roman Ramirez",
           "Aaron Carter",
           6,
           4,
           "2024-02-18",
           "[Gen 9] Doubles UU",
           "1"
          ],
          [
           "Roman Ramirez",
           "Aaron Carter",
           3,
           6,
           "2024-02-18",
           "[Gen 9] Doubles UU",
           "2"
          ],
          [
           "Roman Ramirez",
           "Aaron Carter",
           4,
           6,
           "2024-02-18",
           "[Gen 9] Doubles UU",
           "3"
          ],
          [
           "Lilith Karyadi",
           "Roman Ramirez",
           6,
           3,
           "2024-06-09",
           "[Gen 9] RU",
           "1a"
          ],
          [
           "Lilith Karyadi",
           "Roman Ramirez",
           6,
           3,
           "2024-06-09",
           "[Gen 9] RU",
           "1b"
          ],
          [
           "Evan Sooklal",
           "Will Simpson",
           6,
           5,
           "2024-06-09",
           "[Gen 9] RU",
           "2a"
          ],
          [
           "Evan Sooklal",
           "Will Simpson",
           4,
           6,
           "2024-06-09",
           "[Gen 9] RU",
           "2b"
          ],
          [
           "Evan Sooklal",
           "Will Simpson",
           6,
           5,
           "2024-06-09",
           "[Gen 9] RU",
           "2c"
          ],
          [
           "Will Simpson",
           "Lilith Karyadi",
           6,
           5,
           "2024-06-09",
           "[Gen 9] RU",
           "3a"
          ],
          [
           "Will Simpson",
           "Lilith Karyadi",
           6,
           2,
           "2024-06-09",
           "[Gen 9] RU",
           "3b"
          ],
          [
           "Roman Ramirez",
           "Evan Sooklal",
           4,
           6,
           "2024-06-09",
           "[Gen 9] RU",
           "4a"
          ],
          [
           "Roman Ramirez",
           "Evan Sooklal",
           2,
           6,
           "2024-06-09",
           "[Gen 9] RU",
           "4b"
          ],
          [
           "Evan Sooklal",
           "Lilith Karyadi",
           2,
           6,
           "2024-06-09",
           "[Gen 9] RU",
           "5a"
          ],
          [
           "Evan Sooklal",
           "Lilith Karyadi",
           5,
           6,
           "2024-06-09",
           "[Gen 9] RU",
           "5a"
          ],
          [
           "Roman Ramirez",
           "Will Simpson",
           3,
           6,
           "2024-06-09",
           "[Gen 9] RU",
           "6a"
          ],
          [
           "Roman Ramirez",
           "Will Simpson",
           1,
           6,
           "2024-06-09",
           "[Gen 9] RU",
           "6b"
          ],
          [
           "Evan Sooklal",
           "Lilith Karyadi",
           5,
           6,
           "2024-06-09",
           "[Gen 9] RU",
           "1"
          ],
          [
           "Will Simpson",
           "Lilith Karyadi",
           6,
           5,
           "2024-06-09",
           "[Gen 9] RU",
           "2"
          ]
         ],
         "hovertemplate": "<i>%{customdata[4]|%A, %B %d, %Y}, Game %{x}</i><br><b>%{fullData.name}</b><br><br><b>Format:</b> %{customdata[5]}<br><b>Tournament Match:</b> %{customdata[6]}<br><br><b>%{customdata[0]} vs. %{customdata[1]}</b><br><b>Final Score:</b> %{customdata[2]}-%{customdata[3]}<br>%{text}<b>Post-Game ELO:</b> %{y:,.0f}<br><extra></extra>",
         "legendgrouptitle": {
          "text": "<b>#<i>Rank</i> (<i>Current ELO</i>) <i>Player</i></b>"
         },
         "line": {
          "color": "rgb(57, 105, 172)",
          "shape": "hv"
         },
         "mode": "lines+markers",
         "name": "#3 (1228) Lilith Karyadi",
         "opacity": 0.8,
         "text": [
          "<br><b>Pre-Game ELO: </b>nan<br><b>Win Probability: </b>nan%<br><br><b>Change in ELO:</b> +nan<br>",
          "<br><b>Pre-Game ELO: </b>nan<br><b>Win Probability: </b>nan%<br><br><b>Change in ELO:</b> +nan<br>",
          "<br><b>Pre-Game ELO: </b>nan<br><b>Win Probability: </b>nan%<br><br><b>Change in ELO:</b> +nan<br>",
          "<br><b>Pre-Game ELO: </b>nan<br><b>Win Probability: </b>nan%<br><br><b>Change in ELO:</b> +nan<br>",
          "<br><b>Pre-Game ELO: </b>nan<br><b>Win Probability: </b>nan%<br><br><b>Change in ELO:</b> +nan<br>",
          "<br><b>Pre-Game ELO: </b>nan<br><b>Win Probability: </b>nan%<br><br><b>Change in ELO:</b> +nan<br>",
          "<br><b>Pre-Game ELO: </b>nan<br><b>Win Probability: </b>nan%<br><br><b>Change in ELO:</b> +nan<br>",
          "<br><b>Pre-Game ELO: </b>nan<br><b>Win Probability: </b>nan%<br><br><b>Change in ELO:</b> +nan<br>",
          "<br><b>Pre-Game ELO: </b>nan<br><b>Win Probability: </b>nan%<br><br><b>Change in ELO:</b> +nan<br>",
          "<br><b>Pre-Game ELO: </b>nan<br><b>Win Probability: </b>nan%<br><br><b>Change in ELO:</b> +nan<br>",
          "<br><b>Pre-Game ELO: </b>nan<br><b>Win Probability: </b>nan%<br><br><b>Change in ELO:</b> +nan<br>",
          "<br><b>Pre-Game ELO: </b>nan<br><b>Win Probability: </b>nan%<br><br><b>Change in ELO:</b> +nan<br>",
          "<br><b>Pre-Game ELO: </b>nan<br><b>Win Probability: </b>nan%<br><br><b>Change in ELO:</b> +nan<br>",
          "<br><b>Pre-Game ELO: </b>nan<br><b>Win Probability: </b>nan%<br><br><b>Change in ELO:</b> +nan<br>",
          "<br><b>Pre-Game ELO: </b>nan<br><b>Win Probability: </b>nan%<br><br><b>Change in ELO:</b> +nan<br>",
          "<br><b>Pre-Game ELO: </b>nan<br><b>Win Probability: </b>nan%<br><br><b>Change in ELO:</b> +nan<br>",
          "<br><b>Pre-Game ELO: </b>nan<br><b>Win Probability: </b>nan%<br><br><b>Change in ELO:</b> +nan<br>",
          "<br><b>Pre-Game ELO: </b>nan<br><b>Win Probability: </b>nan%<br><br><b>Change in ELO:</b> +nan<br>",
          "<br><b>Pre-Game ELO: </b>nan<br><b>Win Probability: </b>nan%<br><br><b>Change in ELO:</b> +nan<br>",
          "<br><b>Pre-Game ELO: </b>nan<br><b>Win Probability: </b>nan%<br><br><b>Change in ELO:</b> +nan<br>",
          "<br><b>Pre-Game ELO: </b>nan<br><b>Win Probability: </b>nan%<br><br><b>Change in ELO:</b> +nan<br>",
          "<br><b>Pre-Game ELO: </b>nan<br><b>Win Probability: </b>nan%<br><br><b>Change in ELO:</b> +nan<br>",
          "<br><b>Pre-Game ELO: </b>nan<br><b>Win Probability: </b>nan%<br><br><b>Change in ELO:</b> +nan<br>",
          "<br><b>Pre-Game ELO: </b>nan<br><b>Win Probability: </b>nan%<br><br><b>Change in ELO:</b> +nan<br>",
          "<br><b>Pre-Game ELO: </b>nan<br><b>Win Probability: </b>nan%<br><br><b>Change in ELO:</b> +nan<br>",
          "<br><b>Pre-Game ELO: </b>nan<br><b>Win Probability: </b>nan%<br><br><b>Change in ELO:</b> +nan<br>",
          "<br><b>Pre-Game ELO: </b>nan<br><b>Win Probability: </b>nan%<br><br><b>Change in ELO:</b> +nan<br>",
          "<br><b>Pre-Game ELO: </b>nan<br><b>Win Probability: </b>nan%<br><br><b>Change in ELO:</b> +nan<br>",
          "<br><b>Pre-Game ELO: </b>nan<br><b>Win Probability: </b>nan%<br><br><b>Change in ELO:</b> +nan<br>",
          "<br><b>Pre-Game ELO: </b>nan<br><b>Win Probability: </b>nan%<br><br><b>Change in ELO:</b> +nan<br>",
          "<br><b>Pre-Game ELO: </b>nan<br><b>Win Probability: </b>nan%<br><br><b>Change in ELO:</b> +nan<br>",
          "<br><b>Pre-Game ELO: </b>nan<br><b>Win Probability: </b>nan%<br><br><b>Change in ELO:</b> +nan<br>",
          "<br><b>Pre-Game ELO: </b>nan<br><b>Win Probability: </b>nan%<br><br><b>Change in ELO:</b> +nan<br>",
          "<br><b>Pre-Game ELO: </b>nan<br><b>Win Probability: </b>nan%<br><br><b>Change in ELO:</b> +nan<br>",
          "<br><b>Pre-Game ELO: </b>nan<br><b>Win Probability: </b>nan%<br><br><b>Change in ELO:</b> +nan<br>",
          "<br><b>Pre-Game ELO: </b>nan<br><b>Win Probability: </b>nan%<br><br><b>Change in ELO:</b> +nan<br>",
          "<br><b>Pre-Game ELO: </b>nan<br><b>Win Probability: </b>nan%<br><br><b>Change in ELO:</b> +nan<br>",
          "<br><b>Pre-Game ELO: </b>nan<br><b>Win Probability: </b>nan%<br><br><b>Change in ELO:</b> +nan<br>",
          "<br><b>Pre-Game ELO: </b>nan<br><b>Win Probability: </b>nan%<br><br><b>Change in ELO:</b> +nan<br>",
          "<br><b>Pre-Game ELO: </b>nan<br><b>Win Probability: </b>nan%<br><br><b>Change in ELO:</b> +nan<br>",
          "<br><b>Pre-Game ELO: </b>nan<br><b>Win Probability: </b>nan%<br><br><b>Change in ELO:</b> +nan<br>",
          "<br><b>Pre-Game ELO: </b>nan<br><b>Win Probability: </b>nan%<br><br><b>Change in ELO:</b> +nan<br>",
          "<br><b>Pre-Game ELO: </b>nan<br><b>Win Probability: </b>nan%<br><br><b>Change in ELO:</b> +nan<br>",
          "<br><b>Pre-Game ELO: </b>nan<br><b>Win Probability: </b>nan%<br><br><b>Change in ELO:</b> +nan<br>",
          "<br><b>Pre-Game ELO: </b>nan<br><b>Win Probability: </b>nan%<br><br><b>Change in ELO:</b> +nan<br>",
          "<br><b>Pre-Game ELO: </b>nan<br><b>Win Probability: </b>nan%<br><br><b>Change in ELO:</b> +nan<br>",
          "<br><b>Pre-Game ELO: </b>nan<br><b>Win Probability: </b>nan%<br><br><b>Change in ELO:</b> +nan<br>",
          "<br><b>Pre-Game ELO: </b>nan<br><b>Win Probability: </b>nan%<br><br><b>Change in ELO:</b> +nan<br>",
          "<br><b>Pre-Game ELO: </b>nan<br><b>Win Probability: </b>nan%<br><br><b>Change in ELO:</b> +nan<br>",
          "<br><b>Pre-Game ELO: </b>nan<br><b>Win Probability: </b>nan%<br><br><b>Change in ELO:</b> +nan<br>",
          "<br><b>Pre-Game ELO: </b>nan<br><b>Win Probability: </b>nan%<br><br><b>Change in ELO:</b> +nan<br>",
          "<br><b>Pre-Game ELO: </b>nan<br><b>Win Probability: </b>nan%<br><br><b>Change in ELO:</b> +nan<br>",
          "<br><b>Pre-Game ELO: </b>nan<br><b>Win Probability: </b>nan%<br><br><b>Change in ELO:</b> +nan<br>",
          "<br><b>Pre-Game ELO: </b>nan<br><b>Win Probability: </b>nan%<br><br><b>Change in ELO:</b> +nan<br>",
          "<br><b>Pre-Game ELO: </b>nan<br><b>Win Probability: </b>nan%<br><br><b>Change in ELO:</b> +nan<br>",
          "<br><b>Pre-Game ELO: </b>nan<br><b>Win Probability: </b>nan%<br><br><b>Change in ELO:</b> +nan<br>",
          "<br><b>Pre-Game ELO: </b>nan<br><b>Win Probability: </b>nan%<br><br><b>Change in ELO:</b> +nan<br>",
          "<br><b>Pre-Game ELO: </b>nan<br><b>Win Probability: </b>nan%<br><br><b>Change in ELO:</b> +nan<br>",
          "<br><b>Pre-Game ELO: </b>nan<br><b>Win Probability: </b>nan%<br><br><b>Change in ELO:</b> +nan<br>",
          "<br><b>Pre-Game ELO: </b>nan<br><b>Win Probability: </b>nan%<br><br><b>Change in ELO:</b> +nan<br>",
          "<br><b>Pre-Game ELO: </b>nan<br><b>Win Probability: </b>nan%<br><br><b>Change in ELO:</b> +nan<br>",
          "<br><b>Pre-Game ELO: </b>nan<br><b>Win Probability: </b>nan%<br><br><b>Change in ELO:</b> +nan<br>",
          "<br><b>Pre-Game ELO: </b>nan<br><b>Win Probability: </b>nan%<br><br><b>Change in ELO:</b> +nan<br>",
          "<br><b>Pre-Game ELO: </b>nan<br><b>Win Probability: </b>nan%<br><br><b>Change in ELO:</b> +nan<br>",
          "<br><b>Pre-Game ELO: </b>nan<br><b>Win Probability: </b>nan%<br><br><b>Change in ELO:</b> +nan<br>",
          "<br><b>Pre-Game ELO: </b>nan<br><b>Win Probability: </b>nan%<br><br><b>Change in ELO:</b> +nan<br>",
          "<br><b>Pre-Game ELO: </b>nan<br><b>Win Probability: </b>nan%<br><br><b>Change in ELO:</b> +nan<br>",
          "<br><b>Pre-Game ELO: </b>nan<br><b>Win Probability: </b>nan%<br><br><b>Change in ELO:</b> +nan<br>",
          "<br><b>Pre-Game ELO: </b>nan<br><b>Win Probability: </b>nan%<br><br><b>Change in ELO:</b> +nan<br>",
          "<br><b>Pre-Game ELO: </b>nan<br><b>Win Probability: </b>nan%<br><br><b>Change in ELO:</b> +nan<br>",
          "<br><b>Pre-Game ELO: </b>nan<br><b>Win Probability: </b>nan%<br><br><b>Change in ELO:</b> +nan<br>",
          "<br><b>Pre-Game ELO: </b>nan<br><b>Win Probability: </b>nan%<br><br><b>Change in ELO:</b> +nan<br>",
          "<br><b>Pre-Game ELO: </b>nan<br><b>Win Probability: </b>nan%<br><br><b>Change in ELO:</b> +nan<br>",
          "<br><b>Pre-Game ELO: </b>nan<br><b>Win Probability: </b>nan%<br><br><b>Change in ELO:</b> +nan<br>",
          "<br><b>Pre-Game ELO: </b>nan<br><b>Win Probability: </b>nan%<br><br><b>Change in ELO:</b> +nan<br>",
          "<br><b>Pre-Game ELO: </b>nan<br><b>Win Probability: </b>nan%<br><br><b>Change in ELO:</b> +nan<br>",
          "<br><b>Pre-Game ELO: </b>nan<br><b>Win Probability: </b>nan%<br><br><b>Change in ELO:</b> +nan<br>",
          "<br><b>Pre-Game ELO: </b>nan<br><b>Win Probability: </b>nan%<br><br><b>Change in ELO:</b> +nan<br>",
          "<br><b>Pre-Game ELO: </b>nan<br><b>Win Probability: </b>nan%<br><br><b>Change in ELO:</b> +nan<br>",
          "<br><b>Pre-Game ELO: </b>nan<br><b>Win Probability: </b>nan%<br><br><b>Change in ELO:</b> +nan<br>",
          "<br><b>Pre-Game ELO: </b>nan<br><b>Win Probability: </b>nan%<br><br><b>Change in ELO:</b> +nan<br>",
          "<br><b>Pre-Game ELO: </b>nan<br><b>Win Probability: </b>nan%<br><br><b>Change in ELO:</b> +nan<br>",
          "<br><b>Pre-Game ELO: </b>nan<br><b>Win Probability: </b>nan%<br><br><b>Change in ELO:</b> +nan<br>",
          "<br><b>Pre-Game ELO: </b>nan<br><b>Win Probability: </b>nan%<br><br><b>Change in ELO:</b> +nan<br>",
          "<br><b>Pre-Game ELO: </b>nan<br><b>Win Probability: </b>nan%<br><br><b>Change in ELO:</b> +nan<br>",
          "<br><b>Pre-Game ELO: </b>nan<br><b>Win Probability: </b>nan%<br><br><b>Change in ELO:</b> +nan<br>",
          "<br><b>Pre-Game ELO: </b>nan<br><b>Win Probability: </b>nan%<br><br><b>Change in ELO:</b> +nan<br>",
          "<br><b>Pre-Game ELO: </b>nan<br><b>Win Probability: </b>nan%<br><br><b>Change in ELO:</b> +nan<br>",
          "<br><b>Pre-Game ELO: </b>nan<br><b>Win Probability: </b>nan%<br><br><b>Change in ELO:</b> +nan<br>",
          "<br><b>Pre-Game ELO: </b>nan<br><b>Win Probability: </b>nan%<br><br><b>Change in ELO:</b> +nan<br>",
          "<br><b>Pre-Game ELO: </b>nan<br><b>Win Probability: </b>nan%<br><br><b>Change in ELO:</b> +nan<br>",
          "<br><b>Pre-Game ELO: </b>nan<br><b>Win Probability: </b>nan%<br><br><b>Change in ELO:</b> +nan<br>",
          "<br><b>Pre-Game ELO: </b>nan<br><b>Win Probability: </b>nan%<br><br><b>Change in ELO:</b> +nan<br>",
          "<br><b>Pre-Game ELO: </b>nan<br><b>Win Probability: </b>nan%<br><br><b>Change in ELO:</b> +nan<br>",
          "<br><b>Pre-Game ELO: </b>nan<br><b>Win Probability: </b>nan%<br><br><b>Change in ELO:</b> +nan<br>",
          "<br><b>Pre-Game ELO: </b>nan<br><b>Win Probability: </b>nan%<br><br><b>Change in ELO:</b> +nan<br>",
          "<br><b>Pre-Game ELO: </b>nan<br><b>Win Probability: </b>nan%<br><br><b>Change in ELO:</b> +nan<br>",
          "<br><b>Pre-Game ELO: </b>nan<br><b>Win Probability: </b>nan%<br><br><b>Change in ELO:</b> +nan<br>",
          "<br><b>Pre-Game ELO: </b>nan<br><b>Win Probability: </b>nan%<br><br><b>Change in ELO:</b> +nan<br>",
          "<br><b>Pre-Game ELO: </b>nan<br><b>Win Probability: </b>nan%<br><br><b>Change in ELO:</b> +nan<br>",
          "<br><b>Pre-Game ELO: </b>nan<br><b>Win Probability: </b>nan%<br><br><b>Change in ELO:</b> +nan<br>",
          "<br><b>Pre-Game ELO: </b>nan<br><b>Win Probability: </b>nan%<br><br><b>Change in ELO:</b> +nan<br>",
          "<br><b>Pre-Game ELO: </b>nan<br><b>Win Probability: </b>nan%<br><br><b>Change in ELO:</b> +nan<br>",
          "<br><b>Pre-Game ELO: </b>nan<br><b>Win Probability: </b>nan%<br><br><b>Change in ELO:</b> +nan<br>",
          "<br><b>Pre-Game ELO: </b>nan<br><b>Win Probability: </b>nan%<br><br><b>Change in ELO:</b> +nan<br>",
          "<br><b>Pre-Game ELO: </b>nan<br><b>Win Probability: </b>nan%<br><br><b>Change in ELO:</b> +nan<br>",
          "<br><b>Pre-Game ELO: </b>nan<br><b>Win Probability: </b>nan%<br><br><b>Change in ELO:</b> +nan<br>",
          "<br><b>Pre-Game ELO: </b>nan<br><b>Win Probability: </b>nan%<br><br><b>Change in ELO:</b> +nan<br>",
          "<br><b>Pre-Game ELO: </b>nan<br><b>Win Probability: </b>nan%<br><br><b>Change in ELO:</b> +nan<br>",
          "<br><b>Pre-Game ELO: </b>nan<br><b>Win Probability: </b>nan%<br><br><b>Change in ELO:</b> +nan<br>",
          "<br><b>Pre-Game ELO: </b>nan<br><b>Win Probability: </b>nan%<br><br><b>Change in ELO:</b> +nan<br>",
          "<br><b>Pre-Game ELO: </b>nan<br><b>Win Probability: </b>nan%<br><br><b>Change in ELO:</b> +nan<br>",
          "<br><b>Pre-Game ELO: </b>nan<br><b>Win Probability: </b>nan%<br><br><b>Change in ELO:</b> +nan<br>",
          "<br><b>Pre-Game ELO: </b>1200<br><b>Win Probability: </b>30.1%<br><br><b>Change in ELO:</b> +22<br>",
          "<br><b>Pre-Game ELO: </b>1222<br><b>Win Probability: </b>40.9%<br><br><b>Change in ELO:</b> +18<br>",
          "<br><b>Pre-Game ELO: </b>nan<br><b>Win Probability: </b>nan%<br><br><b>Change in ELO:</b> +nan<br>",
          "<br><b>Pre-Game ELO: </b>nan<br><b>Win Probability: </b>nan%<br><br><b>Change in ELO:</b> +nan<br>",
          "<br><b>Pre-Game ELO: </b>nan<br><b>Win Probability: </b>nan%<br><br><b>Change in ELO:</b> +nan<br>",
          "<br><b>Pre-Game ELO: </b>1240<br><b>Win Probability: </b>68.8%<br><br><b>Change in ELO:</b> -21<br>",
          "<br><b>Pre-Game ELO: </b>1219<br><b>Win Probability: </b>58.0%<br><br><b>Change in ELO:</b> -18<br>",
          "<br><b>Pre-Game ELO: </b>nan<br><b>Win Probability: </b>nan%<br><br><b>Change in ELO:</b> +nan<br>",
          "<br><b>Pre-Game ELO: </b>nan<br><b>Win Probability: </b>nan%<br><br><b>Change in ELO:</b> +nan<br>",
          "<br><b>Pre-Game ELO: </b>1201<br><b>Win Probability: </b>44.2%<br><br><b>Change in ELO:</b> +17<br>",
          "<br><b>Pre-Game ELO: </b>1218<br><b>Win Probability: </b>53.7%<br><br><b>Change in ELO:</b> +14<br>",
          "<br><b>Pre-Game ELO: </b>nan<br><b>Win Probability: </b>nan%<br><br><b>Change in ELO:</b> +nan<br>",
          "<br><b>Pre-Game ELO: </b>nan<br><b>Win Probability: </b>nan%<br><br><b>Change in ELO:</b> +nan<br>",
          "<br><b>Pre-Game ELO: </b>1232<br><b>Win Probability: </b>61.4%<br><br><b>Change in ELO:</b> +12<br>",
          "<br><b>Pre-Game ELO: </b>1244<br><b>Win Probability: </b>52.6%<br><br><b>Change in ELO:</b> -16<br>"
         ],
         "type": "scatter",
         "x": [
          1,
          2,
          3,
          4,
          5,
          6,
          7,
          8,
          9,
          10,
          11,
          12,
          13,
          14,
          15,
          16,
          17,
          18,
          19,
          20,
          21,
          22,
          23,
          24,
          25,
          26,
          27,
          28,
          29,
          30,
          31,
          32,
          33,
          34,
          35,
          36,
          37,
          38,
          39,
          40,
          41,
          42,
          43,
          44,
          45,
          46,
          47,
          48,
          49,
          50,
          51,
          52,
          53,
          54,
          55,
          56,
          57,
          58,
          59,
          60,
          61,
          62,
          63,
          64,
          65,
          66,
          67,
          68,
          69,
          70,
          71,
          72,
          73,
          74,
          75,
          76,
          77,
          78,
          79,
          80,
          81,
          82,
          83,
          84,
          85,
          86,
          87,
          88,
          89,
          90,
          91,
          92,
          93,
          94,
          95,
          96,
          97,
          98,
          99,
          100,
          101,
          102,
          103,
          104,
          105,
          106,
          107,
          108,
          109,
          110,
          111,
          112,
          113,
          114,
          115,
          116,
          117,
          118,
          119,
          120,
          121,
          122,
          123,
          124,
          125,
          126,
          127,
          128
         ],
         "y": [
          null,
          null,
          null,
          null,
          null,
          null,
          null,
          null,
          null,
          null,
          null,
          null,
          null,
          null,
          null,
          null,
          null,
          null,
          null,
          null,
          null,
          null,
          null,
          null,
          null,
          null,
          null,
          null,
          null,
          null,
          null,
          null,
          null,
          null,
          null,
          null,
          null,
          null,
          null,
          null,
          null,
          null,
          null,
          null,
          null,
          null,
          null,
          null,
          null,
          null,
          null,
          null,
          null,
          null,
          null,
          null,
          null,
          null,
          null,
          null,
          null,
          null,
          null,
          null,
          null,
          null,
          null,
          null,
          null,
          null,
          null,
          null,
          null,
          null,
          null,
          null,
          null,
          null,
          null,
          null,
          null,
          null,
          null,
          null,
          null,
          null,
          null,
          null,
          null,
          null,
          null,
          null,
          null,
          null,
          null,
          null,
          null,
          null,
          null,
          null,
          null,
          null,
          null,
          null,
          null,
          null,
          null,
          null,
          null,
          null,
          null,
          null,
          null,
          1221.6757945970885,
          1239.9909170685014,
          null,
          null,
          null,
          1218.6708591885076,
          1200.7031740665634,
          null,
          null,
          1217.9910266393465,
          1232.3451062642634,
          null,
          null,
          1244.315773683706,
          1228.0012429304693
         ]
        },
        {
         "connectgaps": true,
         "customdata": [
          [
           "Evan Sooklal",
           "Will Simpson",
           2,
           6,
           "2023-11-18",
           "[Gen 9] OU",
           "1"
          ],
          [
           "Paul Bartenfeld",
           "Roman Ramirez",
           2,
           6,
           "2023-11-18",
           "[Gen 9] OU",
           "2"
          ],
          [
           "Roman Ramirez",
           "Evan Sooklal",
           6,
           3,
           "2023-11-18",
           "[Gen 9] OU",
           "3"
          ],
          [
           "Will Simpson",
           "Paul Bartenfeld",
           6,
           1,
           "2023-11-18",
           "[Gen 9] OU",
           "4"
          ],
          [
           "Paul Bartenfeld",
           "Evan Sooklal",
           1,
           6,
           "2023-11-18",
           "[Gen 9] OU",
           "5"
          ],
          [
           "Will Simpson",
           "Roman Ramirez",
           3,
           6,
           "2023-11-18",
           "[Gen 9] OU",
           "6"
          ],
          [
           "Will Simpson",
           "Evan Sooklal",
           6,
           2,
           "2023-11-18",
           "[Gen 9] OU",
           "7"
          ],
          [
           "Roman Ramirez",
           "Paul Bartenfeld",
           6,
           4,
           "2023-11-18",
           "[Gen 9] OU",
           "8"
          ],
          [
           "Evan Sooklal",
           "Roman Ramirez",
           6,
           5,
           "2023-11-18",
           "[Gen 9] OU",
           "9"
          ],
          [
           "Paul Bartenfeld",
           "Will Simpson",
           4,
           6,
           "2023-11-18",
           "[Gen 9] OU",
           "10"
          ],
          [
           "Evan Sooklal",
           "Paul Bartenfeld",
           6,
           5,
           "2023-11-18",
           "[Gen 9] OU",
           "11"
          ],
          [
           "Roman Ramirez",
           "Will Simpson",
           6,
           2,
           "2023-11-18",
           "[Gen 9] OU",
           "12"
          ],
          [
           "Roman Ramirez",
           "Will Simpson",
           2,
           6,
           "2023-11-18",
           "[Gen 9] OU",
           "1"
          ],
          [
           "Will Simpson",
           "Roman Ramirez",
           4,
           6,
           "2023-11-18",
           "[Gen 9] OU",
           "2"
          ],
          [
           "Roman Ramirez",
           "Will Simpson",
           6,
           4,
           "2023-11-18",
           "[Gen 9] OU",
           "3"
          ],
          [
           "Roman Ramirez",
           "Aaron Carter",
           4,
           6,
           "2023-12-02",
           "[Gen 9] OU",
           "1"
          ],
          [
           "Will Simpson",
           "Paul Bartenfeld",
           6,
           4,
           "2023-12-02",
           "[Gen 9] OU",
           "2"
          ],
          [
           "Aaron Carter",
           "Will Simpson",
           4,
           6,
           "2023-12-02",
           "[Gen 9] OU",
           "3"
          ],
          [
           "Evan Sooklal",
           "Roman Ramirez",
           6,
           2,
           "2023-12-02",
           "[Gen 9] OU",
           "4"
          ],
          [
           "Will Simpson",
           "Evan Sooklal",
           6,
           2,
           "2023-12-02",
           "[Gen 9] OU",
           "5"
          ],
          [
           "Paul Bartenfeld",
           "Aaron Carter",
           6,
           3,
           "2023-12-02",
           "[Gen 9] OU",
           "6"
          ],
          [
           "Evan Sooklal",
           "Paul Bartenfeld",
           6,
           4,
           "2023-12-02",
           "[Gen 9] OU",
           "7"
          ],
          [
           "Roman Ramirez",
           "Will Simpson",
           6,
           4,
           "2023-12-02",
           "[Gen 9] OU",
           "8"
          ],
          [
           "Paul Bartenfeld",
           "Roman Ramirez",
           6,
           3,
           "2023-12-02",
           "[Gen 9] OU",
           "9"
          ],
          [
           "Aaron Carter",
           "Evan Sooklal",
           6,
           3,
           "2023-12-02",
           "[Gen 9] OU",
           "10"
          ],
          [
           "Aaron Carter",
           "Roman Ramirez",
           0,
           6,
           "2023-12-02",
           "[Gen 9] OU",
           "11"
          ],
          [
           "Paul Bartenfeld",
           "Will Simpson",
           1,
           6,
           "2023-12-02",
           "[Gen 9] OU",
           "12"
          ],
          [
           "Will Simpson",
           "Aaron Carter",
           3,
           6,
           "2023-12-02",
           "[Gen 9] OU",
           "13"
          ],
          [
           "Roman Ramirez",
           "Evan Sooklal",
           2,
           6,
           "2023-12-02",
           "[Gen 9] OU",
           "14"
          ],
          [
           "Evan Sooklal",
           "Will Simpson",
           5,
           6,
           "2023-12-02",
           "[Gen 9] OU",
           "15"
          ],
          [
           "Aaron Carter",
           "Paul Bartenfeld",
           6,
           3,
           "2023-12-02",
           "[Gen 9] OU",
           "16"
          ],
          [
           "Paul Bartenfeld",
           "Evan Sooklal",
           6,
           5,
           "2023-12-02",
           "[Gen 9] OU",
           "17"
          ],
          [
           "Will Simpson",
           "Roman Ramirez",
           6,
           5,
           "2023-12-02",
           "[Gen 9] OU",
           "18"
          ],
          [
           "Roman Ramirez",
           "Paul Bartenfeld",
           4,
           6,
           "2023-12-02",
           "[Gen 9] OU",
           "19"
          ],
          [
           "Evan Sooklal",
           "Aaron Carter",
           6,
           4,
           "2023-12-02",
           "[Gen 9] OU",
           "20"
          ],
          [
           "Will Simpson",
           "Evan Sooklal",
           6,
           2,
           "2023-12-02",
           "[Gen 9] OU",
           "1"
          ],
          [
           "Will Simpson",
           "Evan Sooklal",
           6,
           1,
           "2023-12-02",
           "[Gen 9] OU",
           "2"
          ],
          [
           "Aaron Carter",
           "Paul Bartenfeld",
           6,
           3,
           "2023-12-13",
           "[Gen 9] OU",
           "1"
          ],
          [
           "Roman Ramirez",
           "Evan Sooklal",
           5,
           6,
           "2023-12-13",
           "[Gen 9] OU",
           "2"
          ],
          [
           "Paul Bartenfeld",
           "Roman Ramirez",
           2,
           6,
           "2023-12-13",
           "[Gen 9] OU",
           "3"
          ],
          [
           "Will Simpson",
           "Aaron Carter",
           0,
           6,
           "2023-12-13",
           "[Gen 9] OU",
           "4"
          ],
          [
           "Roman Ramirez",
           "Will Simpson",
           4,
           6,
           "2023-12-13",
           "[Gen 9] OU",
           "5"
          ],
          [
           "Evan Sooklal",
           "Paul Bartenfeld",
           6,
           5,
           "2023-12-13",
           "[Gen 9] OU",
           "6"
          ],
          [
           "Will Simpson",
           "Evan Sooklal",
           4,
           6,
           "2023-12-13",
           "[Gen 9] OU",
           "7"
          ],
          [
           "Aaron Carter",
           "Roman Ramirez",
           6,
           3,
           "2023-12-13",
           "[Gen 9] OU",
           "8"
          ],
          [
           "Evan Sooklal",
           "Aaron Carter",
           5,
           6,
           "2023-12-13",
           "[Gen 9] OU",
           "9"
          ],
          [
           "Paul Bartenfeld",
           "Will Simpson",
           2,
           6,
           "2023-12-13",
           "[Gen 9] OU",
           "10"
          ],
          [
           "Paul Bartenfeld",
           "Aaron Carter",
           3,
           6,
           "2023-12-13",
           "[Gen 9] OU",
           "11"
          ],
          [
           "Evan Sooklal",
           "Roman Ramirez",
           6,
           4,
           "2023-12-13",
           "[Gen 9] OU",
           "12"
          ],
          [
           "Roman Ramirez",
           "Paul Bartenfeld",
           6,
           1,
           "2023-12-13",
           "[Gen 9] OU",
           "13"
          ],
          [
           "Aaron Carter",
           "Will Simpson",
           6,
           5,
           "2023-12-13",
           "[Gen 9] OU",
           "14"
          ],
          [
           "Will Simpson",
           "Roman Ramirez",
           3,
           6,
           "2023-12-13",
           "[Gen 9] OU",
           "15"
          ],
          [
           "Paul Bartenfeld",
           "Evan Sooklal",
           3,
           6,
           "2023-12-13",
           "[Gen 9] OU",
           "16"
          ],
          [
           "Evan Sooklal",
           "Will Simpson",
           6,
           3,
           "2023-12-13",
           "[Gen 9] OU",
           "17"
          ],
          [
           "Roman Ramirez",
           "Aaron Carter",
           5,
           6,
           "2023-12-13",
           "[Gen 9] OU",
           "18"
          ],
          [
           "Aaron Carter",
           "Evan Sooklal",
           6,
           2,
           "2023-12-13",
           "[Gen 9] OU",
           "19"
          ],
          [
           "Will Simpson",
           "Paul Bartenfeld",
           6,
           4,
           "2023-12-13",
           "[Gen 9] OU",
           "20"
          ],
          [
           "Aaron Carter",
           "Evan Sooklal",
           5,
           6,
           "2023-12-13",
           "[Gen 9] OU",
           "1"
          ],
          [
           "Evan Sooklal",
           "Aaron Carter",
           2,
           6,
           "2023-12-13",
           "[Gen 9] OU",
           "2"
          ],
          [
           "Aaron Carter",
           "Evan Sooklal",
           6,
           2,
           "2023-12-13",
           "[Gen 9] OU",
           "3"
          ],
          [
           "Evan Sooklal",
           "Will Simpson",
           0,
           4,
           "2024-01-28",
           "[Gen 9] VGC 2024 Reg F",
           "1"
          ],
          [
           "Roman Ramirez",
           "Aaron Carter",
           2,
           4,
           "2024-01-28",
           "[Gen 9] VGC 2024 Reg F",
           "2"
          ],
          [
           "Aaron Carter",
           "Evan Sooklal",
           3,
           4,
           "2024-01-28",
           "[Gen 9] VGC 2024 Reg F",
           "3"
          ],
          [
           "Will Simpson",
           "Roman Ramirez",
           4,
           2,
           "2024-01-28",
           "[Gen 9] VGC 2024 Reg F",
           "4"
          ],
          [
           "Roman Ramirez",
           "Evan Sooklal",
           0,
           4,
           "2024-01-28",
           "[Gen 9] VGC 2024 Reg F",
           "5"
          ],
          [
           "Will Simpson",
           "Aaron Carter",
           1,
           4,
           "2024-01-28",
           "[Gen 9] VGC 2024 Reg F",
           "6"
          ],
          [
           "Will Simpson",
           "Evan Sooklal",
           4,
           2,
           "2024-01-28",
           "[Gen 9] VGC 2024 Reg F",
           "7"
          ],
          [
           "Aaron Carter",
           "Roman Ramirez",
           4,
           0,
           "2024-01-28",
           "[Gen 9] VGC 2024 Reg F",
           "8"
          ],
          [
           "Evan Sooklal",
           "Aaron Carter",
           3,
           4,
           "2024-01-28",
           "[Gen 9] VGC 2024 Reg F",
           "9"
          ],
          [
           "Roman Ramirez",
           "Will Simpson",
           1,
           4,
           "2024-01-28",
           "[Gen 9] VGC 2024 Reg F",
           "10"
          ],
          [
           "Evan Sooklal",
           "Roman Ramirez",
           4,
           3,
           "2024-01-28",
           "[Gen 9] VGC 2024 Reg F",
           "11"
          ],
          [
           "Aaron Carter",
           "Will Simpson",
           2,
           4,
           "2024-01-28",
           "[Gen 9] VGC 2024 Reg F",
           "12"
          ],
          [
           "Will Simpson",
           "Aaron Carter",
           4,
           0,
           "2024-01-28",
           "[Gen 9] VGC 2024 Reg F",
           "1"
          ],
          [
           "Will Simpson",
           "Aaron Carter",
           4,
           3,
           "2024-01-28",
           "[Gen 9] VGC 2024 Reg F",
           "2"
          ],
          [
           "Aaron Carter",
           "Evan Sooklal",
           4,
           2,
           "2024-02-09",
           "[Gen 9] VGC 2024 Reg F",
           "1a"
          ],
          [
           "Aaron Carter",
           "Evan Sooklal",
           4,
           3,
           "2024-02-09",
           "[Gen 9] VGC 2024 Reg F",
           "1b"
          ],
          [
           "Roman Ramirez",
           "Will Simpson",
           3,
           4,
           "2024-02-09",
           "[Gen 9] VGC 2024 Reg F",
           "2a"
          ],
          [
           "Roman Ramirez",
           "Will Simpson",
           2,
           4,
           "2024-02-09",
           "[Gen 9] VGC 2024 Reg F",
           "2b"
          ],
          [
           "Will Simpson",
           "Aaron Carter",
           2,
           4,
           "2024-02-09",
           "[Gen 9] VGC 2024 Reg F",
           "3a"
          ],
          [
           "Will Simpson",
           "Aaron Carter",
           0,
           4,
           "2024-02-09",
           "[Gen 9] VGC 2024 Reg F",
           "3b"
          ],
          [
           "Evan Sooklal",
           "Roman Ramirez",
           1,
           4,
           "2024-02-09",
           "[Gen 9] VGC 2024 Reg F",
           "4a"
          ],
          [
           "Evan Sooklal",
           "Roman Ramirez",
           4,
           2,
           "2024-02-09",
           "[Gen 9] VGC 2024 Reg F",
           "4b"
          ],
          [
           "Evan Sooklal",
           "Roman Ramirez",
           2,
           4,
           "2024-02-09",
           "[Gen 9] VGC 2024 Reg F",
           "4c"
          ],
          [
           "Roman Ramirez",
           "Aaron Carter",
           4,
           3,
           "2024-02-09",
           "[Gen 9] VGC 2024 Reg F",
           "5a"
          ],
          [
           "Roman Ramirez",
           "Aaron Carter",
           0,
           4,
           "2024-02-09",
           "[Gen 9] VGC 2024 Reg F",
           "5b"
          ],
          [
           "Roman Ramirez",
           "Aaron Carter",
           3,
           4,
           "2024-02-09",
           "[Gen 9] VGC 2024 Reg F",
           "5c"
          ],
          [
           "Evan Sooklal",
           "Will Simpson",
           1,
           4,
           "2024-02-09",
           "[Gen 9] VGC 2024 Reg F",
           "6a"
          ],
          [
           "Evan Sooklal",
           "Will Simpson",
           0,
           4,
           "2024-02-09",
           "[Gen 9] VGC 2024 Reg F",
           "6b"
          ],
          [
           "Aaron Carter",
           "Will Simpson",
           4,
           1,
           "2024-02-09",
           "[Gen 9] VGC 2024 Reg F",
           "1a"
          ],
          [
           "Aaron Carter",
           "Will Simpson",
           4,
           2,
           "2024-02-09",
           "[Gen 9] VGC 2024 Reg F",
           "1b"
          ],
          [
           "Will Simpson",
           "Evan Sooklal",
           6,
           2,
           "2024-02-18",
           "[Gen 9] Doubles UU",
           "1"
          ],
          [
           "Jack Massingill",
           "Roman Ramirez",
           0,
           6,
           "2024-02-18",
           "[Gen 9] Doubles UU",
           "2"
          ],
          [
           "Evan Sooklal",
           "Jack Massingill",
           6,
           3,
           "2024-02-18",
           "[Gen 9] Doubles UU",
           "3"
          ],
          [
           "Aaron Carter",
           "Will Simpson",
           6,
           1,
           "2024-02-18",
           "[Gen 9] Doubles UU",
           "4"
          ],
          [
           "Jack Massingill",
           "Aaron Carter",
           3,
           6,
           "2024-02-18",
           "[Gen 9] Doubles UU",
           "5"
          ],
          [
           "Roman Ramirez",
           "Evan Sooklal",
           6,
           3,
           "2024-02-18",
           "[Gen 9] Doubles UU",
           "6"
          ],
          [
           "Aaron Carter",
           "Roman Ramirez",
           3,
           6,
           "2024-02-18",
           "[Gen 9] Doubles UU",
           "7"
          ],
          [
           "Will Simpson",
           "Jack Massingill",
           6,
           0,
           "2024-02-18",
           "[Gen 9] Doubles UU",
           "8"
          ],
          [
           "Roman Ramirez",
           "Will Simpson",
           6,
           0,
           "2024-02-18",
           "[Gen 9] Doubles UU",
           "9"
          ],
          [
           "Evan Sooklal",
           "Aaron Carter",
           2,
           6,
           "2024-02-18",
           "[Gen 9] Doubles UU",
           "10"
          ],
          [
           "Evan Sooklal",
           "Will Simpson",
           6,
           2,
           "2024-02-18",
           "[Gen 9] Doubles UU",
           "11"
          ],
          [
           "Roman Ramirez",
           "Jack Massingill",
           6,
           1,
           "2024-02-18",
           "[Gen 9] Doubles UU",
           "12"
          ],
          [
           "Jack Massingill",
           "Evan Sooklal",
           0,
           6,
           "2024-02-18",
           "[Gen 9] Doubles UU",
           "13"
          ],
          [
           "Will Simpson",
           "Aaron Carter",
           2,
           6,
           "2024-02-18",
           "[Gen 9] Doubles UU",
           "14"
          ],
          [
           "Aaron Carter",
           "Jack Massingill",
           6,
           4,
           "2024-02-18",
           "[Gen 9] Doubles UU",
           "15"
          ],
          [
           "Evan Sooklal",
           "Roman Ramirez",
           1,
           6,
           "2024-02-18",
           "[Gen 9] Doubles UU",
           "16"
          ],
          [
           "Roman Ramirez",
           "Aaron Carter",
           6,
           5,
           "2024-02-18",
           "[Gen 9] Doubles UU",
           "17"
          ],
          [
           "Jack Massingill",
           "Will Simpson",
           6,
           0,
           "2024-02-18",
           "[Gen 9] Doubles UU",
           "18"
          ],
          [
           "Will Simpson",
           "Roman Ramirez",
           0,
           6,
           "2024-02-18",
           "[Gen 9] Doubles UU",
           "19"
          ],
          [
           "Aaron Carter",
           "Evan Sooklal",
           6,
           5,
           "2024-02-18",
           "[Gen 9] Doubles UU",
           "20"
          ],
          [
           "Roman Ramirez",
           "Aaron Carter",
           6,
           4,
           "2024-02-18",
           "[Gen 9] Doubles UU",
           "1"
          ],
          [
           "Roman Ramirez",
           "Aaron Carter",
           3,
           6,
           "2024-02-18",
           "[Gen 9] Doubles UU",
           "2"
          ],
          [
           "Roman Ramirez",
           "Aaron Carter",
           4,
           6,
           "2024-02-18",
           "[Gen 9] Doubles UU",
           "3"
          ],
          [
           "Lilith Karyadi",
           "Roman Ramirez",
           6,
           3,
           "2024-06-09",
           "[Gen 9] RU",
           "1a"
          ],
          [
           "Lilith Karyadi",
           "Roman Ramirez",
           6,
           3,
           "2024-06-09",
           "[Gen 9] RU",
           "1b"
          ],
          [
           "Evan Sooklal",
           "Will Simpson",
           6,
           5,
           "2024-06-09",
           "[Gen 9] RU",
           "2a"
          ],
          [
           "Evan Sooklal",
           "Will Simpson",
           4,
           6,
           "2024-06-09",
           "[Gen 9] RU",
           "2b"
          ],
          [
           "Evan Sooklal",
           "Will Simpson",
           6,
           5,
           "2024-06-09",
           "[Gen 9] RU",
           "2c"
          ],
          [
           "Will Simpson",
           "Lilith Karyadi",
           6,
           5,
           "2024-06-09",
           "[Gen 9] RU",
           "3a"
          ],
          [
           "Will Simpson",
           "Lilith Karyadi",
           6,
           2,
           "2024-06-09",
           "[Gen 9] RU",
           "3b"
          ],
          [
           "Roman Ramirez",
           "Evan Sooklal",
           4,
           6,
           "2024-06-09",
           "[Gen 9] RU",
           "4a"
          ],
          [
           "Roman Ramirez",
           "Evan Sooklal",
           2,
           6,
           "2024-06-09",
           "[Gen 9] RU",
           "4b"
          ],
          [
           "Evan Sooklal",
           "Lilith Karyadi",
           2,
           6,
           "2024-06-09",
           "[Gen 9] RU",
           "5a"
          ],
          [
           "Evan Sooklal",
           "Lilith Karyadi",
           5,
           6,
           "2024-06-09",
           "[Gen 9] RU",
           "5a"
          ],
          [
           "Roman Ramirez",
           "Will Simpson",
           3,
           6,
           "2024-06-09",
           "[Gen 9] RU",
           "6a"
          ],
          [
           "Roman Ramirez",
           "Will Simpson",
           1,
           6,
           "2024-06-09",
           "[Gen 9] RU",
           "6b"
          ],
          [
           "Evan Sooklal",
           "Lilith Karyadi",
           5,
           6,
           "2024-06-09",
           "[Gen 9] RU",
           "1"
          ],
          [
           "Will Simpson",
           "Lilith Karyadi",
           6,
           5,
           "2024-06-09",
           "[Gen 9] RU",
           "2"
          ]
         ],
         "hovertemplate": "<i>%{customdata[4]|%A, %B %d, %Y}, Game %{x}</i><br><b>%{fullData.name}</b><br><br><b>Format:</b> %{customdata[5]}<br><b>Tournament Match:</b> %{customdata[6]}<br><br><b>%{customdata[0]} vs. %{customdata[1]}</b><br><b>Final Score:</b> %{customdata[2]}-%{customdata[3]}<br>%{text}<b>Post-Game ELO:</b> %{y:,.0f}<br><extra></extra>",
         "legendgrouptitle": {
          "text": "<b>#<i>Rank</i> (<i>Current ELO</i>) <i>Player</i></b>"
         },
         "line": {
          "color": "rgb(242, 183, 1)",
          "shape": "hv"
         },
         "mode": "lines+markers",
         "name": "#4 (1178) Evan Sooklal",
         "opacity": 0.8,
         "text": [
          "<br><b>Pre-Game ELO: </b>1200<br><b>Win Probability: </b>50.0%<br><br><b>Change in ELO:</b> -16<br>",
          "<br><b>Pre-Game ELO: </b>nan<br><b>Win Probability: </b>nan%<br><br><b>Change in ELO:</b> +nan<br>",
          "<br><b>Pre-Game ELO: </b>1184<br><b>Win Probability: </b>41.6%<br><br><b>Change in ELO:</b> -13<br>",
          "<br><b>Pre-Game ELO: </b>nan<br><b>Win Probability: </b>nan%<br><br><b>Change in ELO:</b> +nan<br>",
          "<br><b>Pre-Game ELO: </b>1172<br><b>Win Probability: </b>50.0%<br><br><b>Change in ELO:</b> +16<br>",
          "<br><b>Pre-Game ELO: </b>nan<br><b>Win Probability: </b>nan%<br><br><b>Change in ELO:</b> +nan<br>",
          "<br><b>Pre-Game ELO: </b>1187<br><b>Win Probability: </b>43.0%<br><br><b>Change in ELO:</b> -13<br>",
          "<br><b>Pre-Game ELO: </b>nan<br><b>Win Probability: </b>nan%<br><br><b>Change in ELO:</b> +nan<br>",
          "<br><b>Pre-Game ELO: </b>1174<br><b>Win Probability: </b>29.6%<br><br><b>Change in ELO:</b> +22<br>",
          "<br><b>Pre-Game ELO: </b>nan<br><b>Win Probability: </b>nan%<br><br><b>Change in ELO:</b> +nan<br>",
          "<br><b>Pre-Game ELO: </b>1196<br><b>Win Probability: </b>65.2%<br><br><b>Change in ELO:</b> +11<br>",
          "<br><b>Pre-Game ELO: </b>nan<br><b>Win Probability: </b>nan%<br><br><b>Change in ELO:</b> +nan<br>",
          "<br><b>Pre-Game ELO: </b>nan<br><b>Win Probability: </b>nan%<br><br><b>Change in ELO:</b> +nan<br>",
          "<br><b>Pre-Game ELO: </b>nan<br><b>Win Probability: </b>nan%<br><br><b>Change in ELO:</b> +nan<br>",
          "<br><b>Pre-Game ELO: </b>nan<br><b>Win Probability: </b>nan%<br><br><b>Change in ELO:</b> +nan<br>",
          "<br><b>Pre-Game ELO: </b>nan<br><b>Win Probability: </b>nan%<br><br><b>Change in ELO:</b> +nan<br>",
          "<br><b>Pre-Game ELO: </b>nan<br><b>Win Probability: </b>nan%<br><br><b>Change in ELO:</b> +nan<br>",
          "<br><b>Pre-Game ELO: </b>nan<br><b>Win Probability: </b>nan%<br><br><b>Change in ELO:</b> +nan<br>",
          "<br><b>Pre-Game ELO: </b>1206<br><b>Win Probability: </b>41.4%<br><br><b>Change in ELO:</b> +18<br>",
          "<br><b>Pre-Game ELO: </b>1225<br><b>Win Probability: </b>47.8%<br><br><b>Change in ELO:</b> -15<br>",
          "<br><b>Pre-Game ELO: </b>nan<br><b>Win Probability: </b>nan%<br><br><b>Change in ELO:</b> +nan<br>",
          "<br><b>Pre-Game ELO: </b>1210<br><b>Win Probability: </b>68.1%<br><br><b>Change in ELO:</b> +10<br>",
          "<br><b>Pre-Game ELO: </b>nan<br><b>Win Probability: </b>nan%<br><br><b>Change in ELO:</b> +nan<br>",
          "<br><b>Pre-Game ELO: </b>nan<br><b>Win Probability: </b>nan%<br><br><b>Change in ELO:</b> +nan<br>",
          "<br><b>Pre-Game ELO: </b>1220<br><b>Win Probability: </b>60.1%<br><br><b>Change in ELO:</b> -19<br>",
          "<br><b>Pre-Game ELO: </b>nan<br><b>Win Probability: </b>nan%<br><br><b>Change in ELO:</b> +nan<br>",
          "<br><b>Pre-Game ELO: </b>nan<br><b>Win Probability: </b>nan%<br><br><b>Change in ELO:</b> +nan<br>",
          "<br><b>Pre-Game ELO: </b>nan<br><b>Win Probability: </b>nan%<br><br><b>Change in ELO:</b> +nan<br>",
          "<br><b>Pre-Game ELO: </b>1201<br><b>Win Probability: </b>42.5%<br><br><b>Change in ELO:</b> +18<br>",
          "<br><b>Pre-Game ELO: </b>1219<br><b>Win Probability: </b>49.9%<br><br><b>Change in ELO:</b> -15<br>",
          "<br><b>Pre-Game ELO: </b>nan<br><b>Win Probability: </b>nan%<br><br><b>Change in ELO:</b> +nan<br>",
          "<br><b>Pre-Game ELO: </b>1203<br><b>Win Probability: </b>68.0%<br><br><b>Change in ELO:</b> -21<br>",
          "<br><b>Pre-Game ELO: </b>nan<br><b>Win Probability: </b>nan%<br><br><b>Change in ELO:</b> +nan<br>",
          "<br><b>Pre-Game ELO: </b>nan<br><b>Win Probability: </b>nan%<br><br><b>Change in ELO:</b> +nan<br>",
          "<br><b>Pre-Game ELO: </b>1182<br><b>Win Probability: </b>40.6%<br><br><b>Change in ELO:</b> +18<br>",
          "<br><b>Pre-Game ELO: </b>1201<br><b>Win Probability: </b>37.3%<br><br><b>Change in ELO:</b> -12<br>",
          "<br><b>Pre-Game ELO: </b>1189<br><b>Win Probability: </b>31.5%<br><br><b>Change in ELO:</b> -10<br>",
          "<br><b>Pre-Game ELO: </b>nan<br><b>Win Probability: </b>nan%<br><br><b>Change in ELO:</b> +nan<br>",
          "<br><b>Pre-Game ELO: </b>1179<br><b>Win Probability: </b>50.3%<br><br><b>Change in ELO:</b> +15<br>",
          "<br><b>Pre-Game ELO: </b>nan<br><b>Win Probability: </b>nan%<br><br><b>Change in ELO:</b> +nan<br>",
          "<br><b>Pre-Game ELO: </b>nan<br><b>Win Probability: </b>nan%<br><br><b>Change in ELO:</b> +nan<br>",
          "<br><b>Pre-Game ELO: </b>nan<br><b>Win Probability: </b>nan%<br><br><b>Change in ELO:</b> +nan<br>",
          "<br><b>Pre-Game ELO: </b>1195<br><b>Win Probability: </b>63.1%<br><br><b>Change in ELO:</b> +11<br>",
          "<br><b>Pre-Game ELO: </b>1206<br><b>Win Probability: </b>35.9%<br><br><b>Change in ELO:</b> +20<br>",
          "<br><b>Pre-Game ELO: </b>nan<br><b>Win Probability: </b>nan%<br><br><b>Change in ELO:</b> +nan<br>",
          "<br><b>Pre-Game ELO: </b>1226<br><b>Win Probability: </b>45.5%<br><br><b>Change in ELO:</b> -14<br>",
          "<br><b>Pre-Game ELO: </b>nan<br><b>Win Probability: </b>nan%<br><br><b>Change in ELO:</b> +nan<br>",
          "<br><b>Pre-Game ELO: </b>nan<br><b>Win Probability: </b>nan%<br><br><b>Change in ELO:</b> +nan<br>",
          "<br><b>Pre-Game ELO: </b>1212<br><b>Win Probability: </b>64.4%<br><br><b>Change in ELO:</b> +11<br>",
          "<br><b>Pre-Game ELO: </b>nan<br><b>Win Probability: </b>nan%<br><br><b>Change in ELO:</b> +nan<br>",
          "<br><b>Pre-Game ELO: </b>nan<br><b>Win Probability: </b>nan%<br><br><b>Change in ELO:</b> +nan<br>",
          "<br><b>Pre-Game ELO: </b>nan<br><b>Win Probability: </b>nan%<br><br><b>Change in ELO:</b> +nan<br>",
          "<br><b>Pre-Game ELO: </b>1223<br><b>Win Probability: </b>78.0%<br><br><b>Change in ELO:</b> +7<br>",
          "<br><b>Pre-Game ELO: </b>1230<br><b>Win Probability: </b>55.1%<br><br><b>Change in ELO:</b> +14<br>",
          "<br><b>Pre-Game ELO: </b>nan<br><b>Win Probability: </b>nan%<br><br><b>Change in ELO:</b> +nan<br>",
          "<br><b>Pre-Game ELO: </b>1244<br><b>Win Probability: </b>38.9%<br><br><b>Change in ELO:</b> -12<br>",
          "<br><b>Pre-Game ELO: </b>nan<br><b>Win Probability: </b>nan%<br><br><b>Change in ELO:</b> +nan<br>",
          "<br><b>Pre-Game ELO: </b>1232<br><b>Win Probability: </b>32.8%<br><br><b>Change in ELO:</b> +21<br>",
          "<br><b>Pre-Game ELO: </b>1252<br><b>Win Probability: </b>43.6%<br><br><b>Change in ELO:</b> -14<br>",
          "<br><b>Pre-Game ELO: </b>1239<br><b>Win Probability: </b>36.5%<br><br><b>Change in ELO:</b> -11<br>",
          "<br><b>Pre-Game ELO: </b>1228<br><b>Win Probability: </b>56.2%<br><br><b>Change in ELO:</b> -17<br>",
          "<br><b>Pre-Game ELO: </b>nan<br><b>Win Probability: </b>nan%<br><br><b>Change in ELO:</b> +nan<br>",
          "<br><b>Pre-Game ELO: </b>1210<br><b>Win Probability: </b>25.7%<br><br><b>Change in ELO:</b> +23<br>",
          "<br><b>Pre-Game ELO: </b>nan<br><b>Win Probability: </b>nan%<br><br><b>Change in ELO:</b> +nan<br>",
          "<br><b>Pre-Game ELO: </b>1233<br><b>Win Probability: </b>69.9%<br><br><b>Change in ELO:</b> +9<br>",
          "<br><b>Pre-Game ELO: </b>nan<br><b>Win Probability: </b>nan%<br><br><b>Change in ELO:</b> +nan<br>",
          "<br><b>Pre-Game ELO: </b>1243<br><b>Win Probability: </b>55.6%<br><br><b>Change in ELO:</b> -17<br>",
          "<br><b>Pre-Game ELO: </b>nan<br><b>Win Probability: </b>nan%<br><br><b>Change in ELO:</b> +nan<br>",
          "<br><b>Pre-Game ELO: </b>1225<br><b>Win Probability: </b>30.5%<br><br><b>Change in ELO:</b> -9<br>",
          "<br><b>Pre-Game ELO: </b>nan<br><b>Win Probability: </b>nan%<br><br><b>Change in ELO:</b> +nan<br>",
          "<br><b>Pre-Game ELO: </b>1216<br><b>Win Probability: </b>71.1%<br><br><b>Change in ELO:</b> +9<br>",
          "<br><b>Pre-Game ELO: </b>nan<br><b>Win Probability: </b>nan%<br><br><b>Change in ELO:</b> +nan<br>",
          "<br><b>Pre-Game ELO: </b>nan<br><b>Win Probability: </b>nan%<br><br><b>Change in ELO:</b> +nan<br>",
          "<br><b>Pre-Game ELO: </b>nan<br><b>Win Probability: </b>nan%<br><br><b>Change in ELO:</b> +nan<br>",
          "<br><b>Pre-Game ELO: </b>1225<br><b>Win Probability: </b>41.1%<br><br><b>Change in ELO:</b> -13<br>",
          "<br><b>Pre-Game ELO: </b>1212<br><b>Win Probability: </b>34.6%<br><br><b>Change in ELO:</b> -11<br>",
          "<br><b>Pre-Game ELO: </b>nan<br><b>Win Probability: </b>nan%<br><br><b>Change in ELO:</b> +nan<br>",
          "<br><b>Pre-Game ELO: </b>nan<br><b>Win Probability: </b>nan%<br><br><b>Change in ELO:</b> +nan<br>",
          "<br><b>Pre-Game ELO: </b>nan<br><b>Win Probability: </b>nan%<br><br><b>Change in ELO:</b> +nan<br>",
          "<br><b>Pre-Game ELO: </b>nan<br><b>Win Probability: </b>nan%<br><br><b>Change in ELO:</b> +nan<br>",
          "<br><b>Pre-Game ELO: </b>1201<br><b>Win Probability: </b>71.5%<br><br><b>Change in ELO:</b> -22<br>",
          "<br><b>Pre-Game ELO: </b>1179<br><b>Win Probability: </b>60.7%<br><br><b>Change in ELO:</b> +12<br>",
          "<br><b>Pre-Game ELO: </b>1191<br><b>Win Probability: </b>66.9%<br><br><b>Change in ELO:</b> -21<br>",
          "<br><b>Pre-Game ELO: </b>nan<br><b>Win Probability: </b>nan%<br><br><b>Change in ELO:</b> +nan<br>",
          "<br><b>Pre-Game ELO: </b>nan<br><b>Win Probability: </b>nan%<br><br><b>Change in ELO:</b> +nan<br>",
          "<br><b>Pre-Game ELO: </b>nan<br><b>Win Probability: </b>nan%<br><br><b>Change in ELO:</b> +nan<br>",
          "<br><b>Pre-Game ELO: </b>1171<br><b>Win Probability: </b>24.2%<br><br><b>Change in ELO:</b> -7<br>",
          "<br><b>Pre-Game ELO: </b>1163<br><b>Win Probability: </b>21.3%<br><br><b>Change in ELO:</b> -7<br>",
          "<br><b>Pre-Game ELO: </b>nan<br><b>Win Probability: </b>nan%<br><br><b>Change in ELO:</b> +nan<br>",
          "<br><b>Pre-Game ELO: </b>nan<br><b>Win Probability: </b>nan%<br><br><b>Change in ELO:</b> +nan<br>",
          "<br><b>Pre-Game ELO: </b>1157<br><b>Win Probability: </b>23.9%<br><br><b>Change in ELO:</b> -7<br>",
          "<br><b>Pre-Game ELO: </b>nan<br><b>Win Probability: </b>nan%<br><br><b>Change in ELO:</b> +nan<br>",
          "<br><b>Pre-Game ELO: </b>1149<br><b>Win Probability: </b>41.3%<br><br><b>Change in ELO:</b> +18<br>",
          "<br><b>Pre-Game ELO: </b>nan<br><b>Win Probability: </b>nan%<br><br><b>Change in ELO:</b> +nan<br>",
          "<br><b>Pre-Game ELO: </b>nan<br><b>Win Probability: </b>nan%<br><br><b>Change in ELO:</b> +nan<br>",
          "<br><b>Pre-Game ELO: </b>1167<br><b>Win Probability: </b>46.4%<br><br><b>Change in ELO:</b> -14<br>",
          "<br><b>Pre-Game ELO: </b>nan<br><b>Win Probability: </b>nan%<br><br><b>Change in ELO:</b> +nan<br>",
          "<br><b>Pre-Game ELO: </b>nan<br><b>Win Probability: </b>nan%<br><br><b>Change in ELO:</b> +nan<br>",
          "<br><b>Pre-Game ELO: </b>nan<br><b>Win Probability: </b>nan%<br><br><b>Change in ELO:</b> +nan<br>",
          "<br><b>Pre-Game ELO: </b>1153<br><b>Win Probability: </b>14.4%<br><br><b>Change in ELO:</b> -4<br>",
          "<br><b>Pre-Game ELO: </b>1149<br><b>Win Probability: </b>25.3%<br><br><b>Change in ELO:</b> +23<br>",
          "<br><b>Pre-Game ELO: </b>nan<br><b>Win Probability: </b>nan%<br><br><b>Change in ELO:</b> +nan<br>",
          "<br><b>Pre-Game ELO: </b>1172<br><b>Win Probability: </b>57.9%<br><br><b>Change in ELO:</b> +13<br>",
          "<br><b>Pre-Game ELO: </b>nan<br><b>Win Probability: </b>nan%<br><br><b>Change in ELO:</b> +nan<br>",
          "<br><b>Pre-Game ELO: </b>nan<br><b>Win Probability: </b>nan%<br><br><b>Change in ELO:</b> +nan<br>",
          "<br><b>Pre-Game ELO: </b>1185<br><b>Win Probability: </b>33.2%<br><br><b>Change in ELO:</b> -10<br>",
          "<br><b>Pre-Game ELO: </b>nan<br><b>Win Probability: </b>nan%<br><br><b>Change in ELO:</b> +nan<br>",
          "<br><b>Pre-Game ELO: </b>nan<br><b>Win Probability: </b>nan%<br><br><b>Change in ELO:</b> +nan<br>",
          "<br><b>Pre-Game ELO: </b>nan<br><b>Win Probability: </b>nan%<br><br><b>Change in ELO:</b> +nan<br>",
          "<br><b>Pre-Game ELO: </b>1175<br><b>Win Probability: </b>18.4%<br><br><b>Change in ELO:</b> -6<br>",
          "<br><b>Pre-Game ELO: </b>nan<br><b>Win Probability: </b>nan%<br><br><b>Change in ELO:</b> +nan<br>",
          "<br><b>Pre-Game ELO: </b>nan<br><b>Win Probability: </b>nan%<br><br><b>Change in ELO:</b> +nan<br>",
          "<br><b>Pre-Game ELO: </b>nan<br><b>Win Probability: </b>nan%<br><br><b>Change in ELO:</b> +nan<br>",
          "<br><b>Pre-Game ELO: </b>nan<br><b>Win Probability: </b>nan%<br><br><b>Change in ELO:</b> +nan<br>",
          "<br><b>Pre-Game ELO: </b>nan<br><b>Win Probability: </b>nan%<br><br><b>Change in ELO:</b> +nan<br>",
          "<br><b>Pre-Game ELO: </b>1169<br><b>Win Probability: </b>45.6%<br><br><b>Change in ELO:</b> +17<br>",
          "<br><b>Pre-Game ELO: </b>1186<br><b>Win Probability: </b>54.8%<br><br><b>Change in ELO:</b> -17<br>",
          "<br><b>Pre-Game ELO: </b>1169<br><b>Win Probability: </b>45.5%<br><br><b>Change in ELO:</b> +17<br>",
          "<br><b>Pre-Game ELO: </b>nan<br><b>Win Probability: </b>nan%<br><br><b>Change in ELO:</b> +nan<br>",
          "<br><b>Pre-Game ELO: </b>nan<br><b>Win Probability: </b>nan%<br><br><b>Change in ELO:</b> +nan<br>",
          "<br><b>Pre-Game ELO: </b>1186<br><b>Win Probability: </b>36.3%<br><br><b>Change in ELO:</b> +20<br>",
          "<br><b>Pre-Game ELO: </b>1205<br><b>Win Probability: </b>46.8%<br><br><b>Change in ELO:</b> +16<br>",
          "<br><b>Pre-Game ELO: </b>1222<br><b>Win Probability: </b>55.8%<br><br><b>Change in ELO:</b> -17<br>",
          "<br><b>Pre-Game ELO: </b>1205<br><b>Win Probability: </b>46.3%<br><br><b>Change in ELO:</b> -14<br>",
          "<br><b>Pre-Game ELO: </b>nan<br><b>Win Probability: </b>nan%<br><br><b>Change in ELO:</b> +nan<br>",
          "<br><b>Pre-Game ELO: </b>nan<br><b>Win Probability: </b>nan%<br><br><b>Change in ELO:</b> +nan<br>",
          "<br><b>Pre-Game ELO: </b>1190<br><b>Win Probability: </b>38.6%<br><br><b>Change in ELO:</b> -12<br>",
          "<br><b>Pre-Game ELO: </b>nan<br><b>Win Probability: </b>nan%<br><br><b>Change in ELO:</b> +nan<br>"
         ],
         "type": "scatter",
         "x": [
          1,
          2,
          3,
          4,
          5,
          6,
          7,
          8,
          9,
          10,
          11,
          12,
          13,
          14,
          15,
          16,
          17,
          18,
          19,
          20,
          21,
          22,
          23,
          24,
          25,
          26,
          27,
          28,
          29,
          30,
          31,
          32,
          33,
          34,
          35,
          36,
          37,
          38,
          39,
          40,
          41,
          42,
          43,
          44,
          45,
          46,
          47,
          48,
          49,
          50,
          51,
          52,
          53,
          54,
          55,
          56,
          57,
          58,
          59,
          60,
          61,
          62,
          63,
          64,
          65,
          66,
          67,
          68,
          69,
          70,
          71,
          72,
          73,
          74,
          75,
          76,
          77,
          78,
          79,
          80,
          81,
          82,
          83,
          84,
          85,
          86,
          87,
          88,
          89,
          90,
          91,
          92,
          93,
          94,
          95,
          96,
          97,
          98,
          99,
          100,
          101,
          102,
          103,
          104,
          105,
          106,
          107,
          108,
          109,
          110,
          111,
          112,
          113,
          114,
          115,
          116,
          117,
          118,
          119,
          120,
          121,
          122,
          123,
          124,
          125,
          126,
          127,
          128
         ],
         "y": [
          1184.5,
          null,
          1171.6141968246961,
          null,
          1187.1141968246961,
          null,
          1173.7939130285101,
          null,
          1195.6025614531375,
          null,
          1206.3837765730614,
          null,
          null,
          null,
          null,
          null,
          null,
          null,
          1224.5605299452006,
          1209.7347325352785,
          null,
          1219.6316563738828,
          null,
          null,
          1200.9871446670898,
          null,
          null,
          null,
          1218.8092452969277,
          1203.3346743361965,
          null,
          1182.249648937476,
          null,
          null,
          1200.6550754402726,
          1189.1021135913395,
          1179.3220654245522,
          null,
          1194.7268354532405,
          null,
          null,
          null,
          1206.1623291617937,
          1226.0305126089077,
          null,
          1211.9206052280472,
          null,
          null,
          1222.9696023792922,
          null,
          null,
          null,
          1229.7827036366984,
          1243.690786073097,
          null,
          1231.6279675095418,
          null,
          1252.4517791091112,
          1238.9440776035322,
          1227.6403383581633,
          1210.231062826311,
          null,
          1233.2689806228332,
          null,
          1242.5961624009267,
          null,
          1225.3626511030989,
          null,
          1215.9061319948328,
          null,
          1224.8801765289736,
          null,
          null,
          null,
          1212.1269556859042,
          1201.41324967588,
          null,
          null,
          null,
          null,
          1179.2378484023711,
          1191.424709249573,
          1170.6973539850267,
          null,
          null,
          null,
          1163.2067688033155,
          1156.6110563544917,
          null,
          null,
          1149.212662017431,
          null,
          1167.415418203385,
          null,
          null,
          1153.0183386895903,
          null,
          null,
          null,
          1148.5683858276154,
          1171.7335918609265,
          null,
          1184.7936014432269,
          null,
          null,
          1174.5035236184165,
          null,
          null,
          null,
          1168.7876384641656,
          null,
          null,
          null,
          null,
          null,
          1185.6539100983903,
          1168.6563514914203,
          1185.5448027765924,
          null,
          null,
          1205.296655555965,
          1221.795417467437,
          1204.5075648946538,
          1190.1534852697368,
          null,
          null,
          1178.1828178502942,
          null
         ]
        },
        {
         "connectgaps": true,
         "customdata": [
          [
           "Evan Sooklal",
           "Will Simpson",
           2,
           6,
           "2023-11-18",
           "[Gen 9] OU",
           "1"
          ],
          [
           "Paul Bartenfeld",
           "Roman Ramirez",
           2,
           6,
           "2023-11-18",
           "[Gen 9] OU",
           "2"
          ],
          [
           "Roman Ramirez",
           "Evan Sooklal",
           6,
           3,
           "2023-11-18",
           "[Gen 9] OU",
           "3"
          ],
          [
           "Will Simpson",
           "Paul Bartenfeld",
           6,
           1,
           "2023-11-18",
           "[Gen 9] OU",
           "4"
          ],
          [
           "Paul Bartenfeld",
           "Evan Sooklal",
           1,
           6,
           "2023-11-18",
           "[Gen 9] OU",
           "5"
          ],
          [
           "Will Simpson",
           "Roman Ramirez",
           3,
           6,
           "2023-11-18",
           "[Gen 9] OU",
           "6"
          ],
          [
           "Will Simpson",
           "Evan Sooklal",
           6,
           2,
           "2023-11-18",
           "[Gen 9] OU",
           "7"
          ],
          [
           "Roman Ramirez",
           "Paul Bartenfeld",
           6,
           4,
           "2023-11-18",
           "[Gen 9] OU",
           "8"
          ],
          [
           "Evan Sooklal",
           "Roman Ramirez",
           6,
           5,
           "2023-11-18",
           "[Gen 9] OU",
           "9"
          ],
          [
           "Paul Bartenfeld",
           "Will Simpson",
           4,
           6,
           "2023-11-18",
           "[Gen 9] OU",
           "10"
          ],
          [
           "Evan Sooklal",
           "Paul Bartenfeld",
           6,
           5,
           "2023-11-18",
           "[Gen 9] OU",
           "11"
          ],
          [
           "Roman Ramirez",
           "Will Simpson",
           6,
           2,
           "2023-11-18",
           "[Gen 9] OU",
           "12"
          ],
          [
           "Roman Ramirez",
           "Will Simpson",
           2,
           6,
           "2023-11-18",
           "[Gen 9] OU",
           "1"
          ],
          [
           "Will Simpson",
           "Roman Ramirez",
           4,
           6,
           "2023-11-18",
           "[Gen 9] OU",
           "2"
          ],
          [
           "Roman Ramirez",
           "Will Simpson",
           6,
           4,
           "2023-11-18",
           "[Gen 9] OU",
           "3"
          ],
          [
           "Roman Ramirez",
           "Aaron Carter",
           4,
           6,
           "2023-12-02",
           "[Gen 9] OU",
           "1"
          ],
          [
           "Will Simpson",
           "Paul Bartenfeld",
           6,
           4,
           "2023-12-02",
           "[Gen 9] OU",
           "2"
          ],
          [
           "Aaron Carter",
           "Will Simpson",
           4,
           6,
           "2023-12-02",
           "[Gen 9] OU",
           "3"
          ],
          [
           "Evan Sooklal",
           "Roman Ramirez",
           6,
           2,
           "2023-12-02",
           "[Gen 9] OU",
           "4"
          ],
          [
           "Will Simpson",
           "Evan Sooklal",
           6,
           2,
           "2023-12-02",
           "[Gen 9] OU",
           "5"
          ],
          [
           "Paul Bartenfeld",
           "Aaron Carter",
           6,
           3,
           "2023-12-02",
           "[Gen 9] OU",
           "6"
          ],
          [
           "Evan Sooklal",
           "Paul Bartenfeld",
           6,
           4,
           "2023-12-02",
           "[Gen 9] OU",
           "7"
          ],
          [
           "Roman Ramirez",
           "Will Simpson",
           6,
           4,
           "2023-12-02",
           "[Gen 9] OU",
           "8"
          ],
          [
           "Paul Bartenfeld",
           "Roman Ramirez",
           6,
           3,
           "2023-12-02",
           "[Gen 9] OU",
           "9"
          ],
          [
           "Aaron Carter",
           "Evan Sooklal",
           6,
           3,
           "2023-12-02",
           "[Gen 9] OU",
           "10"
          ],
          [
           "Aaron Carter",
           "Roman Ramirez",
           0,
           6,
           "2023-12-02",
           "[Gen 9] OU",
           "11"
          ],
          [
           "Paul Bartenfeld",
           "Will Simpson",
           1,
           6,
           "2023-12-02",
           "[Gen 9] OU",
           "12"
          ],
          [
           "Will Simpson",
           "Aaron Carter",
           3,
           6,
           "2023-12-02",
           "[Gen 9] OU",
           "13"
          ],
          [
           "Roman Ramirez",
           "Evan Sooklal",
           2,
           6,
           "2023-12-02",
           "[Gen 9] OU",
           "14"
          ],
          [
           "Evan Sooklal",
           "Will Simpson",
           5,
           6,
           "2023-12-02",
           "[Gen 9] OU",
           "15"
          ],
          [
           "Aaron Carter",
           "Paul Bartenfeld",
           6,
           3,
           "2023-12-02",
           "[Gen 9] OU",
           "16"
          ],
          [
           "Paul Bartenfeld",
           "Evan Sooklal",
           6,
           5,
           "2023-12-02",
           "[Gen 9] OU",
           "17"
          ],
          [
           "Will Simpson",
           "Roman Ramirez",
           6,
           5,
           "2023-12-02",
           "[Gen 9] OU",
           "18"
          ],
          [
           "Roman Ramirez",
           "Paul Bartenfeld",
           4,
           6,
           "2023-12-02",
           "[Gen 9] OU",
           "19"
          ],
          [
           "Evan Sooklal",
           "Aaron Carter",
           6,
           4,
           "2023-12-02",
           "[Gen 9] OU",
           "20"
          ],
          [
           "Will Simpson",
           "Evan Sooklal",
           6,
           2,
           "2023-12-02",
           "[Gen 9] OU",
           "1"
          ],
          [
           "Will Simpson",
           "Evan Sooklal",
           6,
           1,
           "2023-12-02",
           "[Gen 9] OU",
           "2"
          ],
          [
           "Aaron Carter",
           "Paul Bartenfeld",
           6,
           3,
           "2023-12-13",
           "[Gen 9] OU",
           "1"
          ],
          [
           "Roman Ramirez",
           "Evan Sooklal",
           5,
           6,
           "2023-12-13",
           "[Gen 9] OU",
           "2"
          ],
          [
           "Paul Bartenfeld",
           "Roman Ramirez",
           2,
           6,
           "2023-12-13",
           "[Gen 9] OU",
           "3"
          ],
          [
           "Will Simpson",
           "Aaron Carter",
           0,
           6,
           "2023-12-13",
           "[Gen 9] OU",
           "4"
          ],
          [
           "Roman Ramirez",
           "Will Simpson",
           4,
           6,
           "2023-12-13",
           "[Gen 9] OU",
           "5"
          ],
          [
           "Evan Sooklal",
           "Paul Bartenfeld",
           6,
           5,
           "2023-12-13",
           "[Gen 9] OU",
           "6"
          ],
          [
           "Will Simpson",
           "Evan Sooklal",
           4,
           6,
           "2023-12-13",
           "[Gen 9] OU",
           "7"
          ],
          [
           "Aaron Carter",
           "Roman Ramirez",
           6,
           3,
           "2023-12-13",
           "[Gen 9] OU",
           "8"
          ],
          [
           "Evan Sooklal",
           "Aaron Carter",
           5,
           6,
           "2023-12-13",
           "[Gen 9] OU",
           "9"
          ],
          [
           "Paul Bartenfeld",
           "Will Simpson",
           2,
           6,
           "2023-12-13",
           "[Gen 9] OU",
           "10"
          ],
          [
           "Paul Bartenfeld",
           "Aaron Carter",
           3,
           6,
           "2023-12-13",
           "[Gen 9] OU",
           "11"
          ],
          [
           "Evan Sooklal",
           "Roman Ramirez",
           6,
           4,
           "2023-12-13",
           "[Gen 9] OU",
           "12"
          ],
          [
           "Roman Ramirez",
           "Paul Bartenfeld",
           6,
           1,
           "2023-12-13",
           "[Gen 9] OU",
           "13"
          ],
          [
           "Aaron Carter",
           "Will Simpson",
           6,
           5,
           "2023-12-13",
           "[Gen 9] OU",
           "14"
          ],
          [
           "Will Simpson",
           "Roman Ramirez",
           3,
           6,
           "2023-12-13",
           "[Gen 9] OU",
           "15"
          ],
          [
           "Paul Bartenfeld",
           "Evan Sooklal",
           3,
           6,
           "2023-12-13",
           "[Gen 9] OU",
           "16"
          ],
          [
           "Evan Sooklal",
           "Will Simpson",
           6,
           3,
           "2023-12-13",
           "[Gen 9] OU",
           "17"
          ],
          [
           "Roman Ramirez",
           "Aaron Carter",
           5,
           6,
           "2023-12-13",
           "[Gen 9] OU",
           "18"
          ],
          [
           "Aaron Carter",
           "Evan Sooklal",
           6,
           2,
           "2023-12-13",
           "[Gen 9] OU",
           "19"
          ],
          [
           "Will Simpson",
           "Paul Bartenfeld",
           6,
           4,
           "2023-12-13",
           "[Gen 9] OU",
           "20"
          ],
          [
           "Aaron Carter",
           "Evan Sooklal",
           5,
           6,
           "2023-12-13",
           "[Gen 9] OU",
           "1"
          ],
          [
           "Evan Sooklal",
           "Aaron Carter",
           2,
           6,
           "2023-12-13",
           "[Gen 9] OU",
           "2"
          ],
          [
           "Aaron Carter",
           "Evan Sooklal",
           6,
           2,
           "2023-12-13",
           "[Gen 9] OU",
           "3"
          ],
          [
           "Evan Sooklal",
           "Will Simpson",
           0,
           4,
           "2024-01-28",
           "[Gen 9] VGC 2024 Reg F",
           "1"
          ],
          [
           "Roman Ramirez",
           "Aaron Carter",
           2,
           4,
           "2024-01-28",
           "[Gen 9] VGC 2024 Reg F",
           "2"
          ],
          [
           "Aaron Carter",
           "Evan Sooklal",
           3,
           4,
           "2024-01-28",
           "[Gen 9] VGC 2024 Reg F",
           "3"
          ],
          [
           "Will Simpson",
           "Roman Ramirez",
           4,
           2,
           "2024-01-28",
           "[Gen 9] VGC 2024 Reg F",
           "4"
          ],
          [
           "Roman Ramirez",
           "Evan Sooklal",
           0,
           4,
           "2024-01-28",
           "[Gen 9] VGC 2024 Reg F",
           "5"
          ],
          [
           "Will Simpson",
           "Aaron Carter",
           1,
           4,
           "2024-01-28",
           "[Gen 9] VGC 2024 Reg F",
           "6"
          ],
          [
           "Will Simpson",
           "Evan Sooklal",
           4,
           2,
           "2024-01-28",
           "[Gen 9] VGC 2024 Reg F",
           "7"
          ],
          [
           "Aaron Carter",
           "Roman Ramirez",
           4,
           0,
           "2024-01-28",
           "[Gen 9] VGC 2024 Reg F",
           "8"
          ],
          [
           "Evan Sooklal",
           "Aaron Carter",
           3,
           4,
           "2024-01-28",
           "[Gen 9] VGC 2024 Reg F",
           "9"
          ],
          [
           "Roman Ramirez",
           "Will Simpson",
           1,
           4,
           "2024-01-28",
           "[Gen 9] VGC 2024 Reg F",
           "10"
          ],
          [
           "Evan Sooklal",
           "Roman Ramirez",
           4,
           3,
           "2024-01-28",
           "[Gen 9] VGC 2024 Reg F",
           "11"
          ],
          [
           "Aaron Carter",
           "Will Simpson",
           2,
           4,
           "2024-01-28",
           "[Gen 9] VGC 2024 Reg F",
           "12"
          ],
          [
           "Will Simpson",
           "Aaron Carter",
           4,
           0,
           "2024-01-28",
           "[Gen 9] VGC 2024 Reg F",
           "1"
          ],
          [
           "Will Simpson",
           "Aaron Carter",
           4,
           3,
           "2024-01-28",
           "[Gen 9] VGC 2024 Reg F",
           "2"
          ],
          [
           "Aaron Carter",
           "Evan Sooklal",
           4,
           2,
           "2024-02-09",
           "[Gen 9] VGC 2024 Reg F",
           "1a"
          ],
          [
           "Aaron Carter",
           "Evan Sooklal",
           4,
           3,
           "2024-02-09",
           "[Gen 9] VGC 2024 Reg F",
           "1b"
          ],
          [
           "Roman Ramirez",
           "Will Simpson",
           3,
           4,
           "2024-02-09",
           "[Gen 9] VGC 2024 Reg F",
           "2a"
          ],
          [
           "Roman Ramirez",
           "Will Simpson",
           2,
           4,
           "2024-02-09",
           "[Gen 9] VGC 2024 Reg F",
           "2b"
          ],
          [
           "Will Simpson",
           "Aaron Carter",
           2,
           4,
           "2024-02-09",
           "[Gen 9] VGC 2024 Reg F",
           "3a"
          ],
          [
           "Will Simpson",
           "Aaron Carter",
           0,
           4,
           "2024-02-09",
           "[Gen 9] VGC 2024 Reg F",
           "3b"
          ],
          [
           "Evan Sooklal",
           "Roman Ramirez",
           1,
           4,
           "2024-02-09",
           "[Gen 9] VGC 2024 Reg F",
           "4a"
          ],
          [
           "Evan Sooklal",
           "Roman Ramirez",
           4,
           2,
           "2024-02-09",
           "[Gen 9] VGC 2024 Reg F",
           "4b"
          ],
          [
           "Evan Sooklal",
           "Roman Ramirez",
           2,
           4,
           "2024-02-09",
           "[Gen 9] VGC 2024 Reg F",
           "4c"
          ],
          [
           "Roman Ramirez",
           "Aaron Carter",
           4,
           3,
           "2024-02-09",
           "[Gen 9] VGC 2024 Reg F",
           "5a"
          ],
          [
           "Roman Ramirez",
           "Aaron Carter",
           0,
           4,
           "2024-02-09",
           "[Gen 9] VGC 2024 Reg F",
           "5b"
          ],
          [
           "Roman Ramirez",
           "Aaron Carter",
           3,
           4,
           "2024-02-09",
           "[Gen 9] VGC 2024 Reg F",
           "5c"
          ],
          [
           "Evan Sooklal",
           "Will Simpson",
           1,
           4,
           "2024-02-09",
           "[Gen 9] VGC 2024 Reg F",
           "6a"
          ],
          [
           "Evan Sooklal",
           "Will Simpson",
           0,
           4,
           "2024-02-09",
           "[Gen 9] VGC 2024 Reg F",
           "6b"
          ],
          [
           "Aaron Carter",
           "Will Simpson",
           4,
           1,
           "2024-02-09",
           "[Gen 9] VGC 2024 Reg F",
           "1a"
          ],
          [
           "Aaron Carter",
           "Will Simpson",
           4,
           2,
           "2024-02-09",
           "[Gen 9] VGC 2024 Reg F",
           "1b"
          ],
          [
           "Will Simpson",
           "Evan Sooklal",
           6,
           2,
           "2024-02-18",
           "[Gen 9] Doubles UU",
           "1"
          ],
          [
           "Jack Massingill",
           "Roman Ramirez",
           0,
           6,
           "2024-02-18",
           "[Gen 9] Doubles UU",
           "2"
          ],
          [
           "Evan Sooklal",
           "Jack Massingill",
           6,
           3,
           "2024-02-18",
           "[Gen 9] Doubles UU",
           "3"
          ],
          [
           "Aaron Carter",
           "Will Simpson",
           6,
           1,
           "2024-02-18",
           "[Gen 9] Doubles UU",
           "4"
          ],
          [
           "Jack Massingill",
           "Aaron Carter",
           3,
           6,
           "2024-02-18",
           "[Gen 9] Doubles UU",
           "5"
          ],
          [
           "Roman Ramirez",
           "Evan Sooklal",
           6,
           3,
           "2024-02-18",
           "[Gen 9] Doubles UU",
           "6"
          ],
          [
           "Aaron Carter",
           "Roman Ramirez",
           3,
           6,
           "2024-02-18",
           "[Gen 9] Doubles UU",
           "7"
          ],
          [
           "Will Simpson",
           "Jack Massingill",
           6,
           0,
           "2024-02-18",
           "[Gen 9] Doubles UU",
           "8"
          ],
          [
           "Roman Ramirez",
           "Will Simpson",
           6,
           0,
           "2024-02-18",
           "[Gen 9] Doubles UU",
           "9"
          ],
          [
           "Evan Sooklal",
           "Aaron Carter",
           2,
           6,
           "2024-02-18",
           "[Gen 9] Doubles UU",
           "10"
          ],
          [
           "Evan Sooklal",
           "Will Simpson",
           6,
           2,
           "2024-02-18",
           "[Gen 9] Doubles UU",
           "11"
          ],
          [
           "Roman Ramirez",
           "Jack Massingill",
           6,
           1,
           "2024-02-18",
           "[Gen 9] Doubles UU",
           "12"
          ],
          [
           "Jack Massingill",
           "Evan Sooklal",
           0,
           6,
           "2024-02-18",
           "[Gen 9] Doubles UU",
           "13"
          ],
          [
           "Will Simpson",
           "Aaron Carter",
           2,
           6,
           "2024-02-18",
           "[Gen 9] Doubles UU",
           "14"
          ],
          [
           "Aaron Carter",
           "Jack Massingill",
           6,
           4,
           "2024-02-18",
           "[Gen 9] Doubles UU",
           "15"
          ],
          [
           "Evan Sooklal",
           "Roman Ramirez",
           1,
           6,
           "2024-02-18",
           "[Gen 9] Doubles UU",
           "16"
          ],
          [
           "Roman Ramirez",
           "Aaron Carter",
           6,
           5,
           "2024-02-18",
           "[Gen 9] Doubles UU",
           "17"
          ],
          [
           "Jack Massingill",
           "Will Simpson",
           6,
           0,
           "2024-02-18",
           "[Gen 9] Doubles UU",
           "18"
          ],
          [
           "Will Simpson",
           "Roman Ramirez",
           0,
           6,
           "2024-02-18",
           "[Gen 9] Doubles UU",
           "19"
          ],
          [
           "Aaron Carter",
           "Evan Sooklal",
           6,
           5,
           "2024-02-18",
           "[Gen 9] Doubles UU",
           "20"
          ],
          [
           "Roman Ramirez",
           "Aaron Carter",
           6,
           4,
           "2024-02-18",
           "[Gen 9] Doubles UU",
           "1"
          ],
          [
           "Roman Ramirez",
           "Aaron Carter",
           3,
           6,
           "2024-02-18",
           "[Gen 9] Doubles UU",
           "2"
          ],
          [
           "Roman Ramirez",
           "Aaron Carter",
           4,
           6,
           "2024-02-18",
           "[Gen 9] Doubles UU",
           "3"
          ],
          [
           "Lilith Karyadi",
           "Roman Ramirez",
           6,
           3,
           "2024-06-09",
           "[Gen 9] RU",
           "1a"
          ],
          [
           "Lilith Karyadi",
           "Roman Ramirez",
           6,
           3,
           "2024-06-09",
           "[Gen 9] RU",
           "1b"
          ],
          [
           "Evan Sooklal",
           "Will Simpson",
           6,
           5,
           "2024-06-09",
           "[Gen 9] RU",
           "2a"
          ],
          [
           "Evan Sooklal",
           "Will Simpson",
           4,
           6,
           "2024-06-09",
           "[Gen 9] RU",
           "2b"
          ],
          [
           "Evan Sooklal",
           "Will Simpson",
           6,
           5,
           "2024-06-09",
           "[Gen 9] RU",
           "2c"
          ],
          [
           "Will Simpson",
           "Lilith Karyadi",
           6,
           5,
           "2024-06-09",
           "[Gen 9] RU",
           "3a"
          ],
          [
           "Will Simpson",
           "Lilith Karyadi",
           6,
           2,
           "2024-06-09",
           "[Gen 9] RU",
           "3b"
          ],
          [
           "Roman Ramirez",
           "Evan Sooklal",
           4,
           6,
           "2024-06-09",
           "[Gen 9] RU",
           "4a"
          ],
          [
           "Roman Ramirez",
           "Evan Sooklal",
           2,
           6,
           "2024-06-09",
           "[Gen 9] RU",
           "4b"
          ],
          [
           "Evan Sooklal",
           "Lilith Karyadi",
           2,
           6,
           "2024-06-09",
           "[Gen 9] RU",
           "5a"
          ],
          [
           "Evan Sooklal",
           "Lilith Karyadi",
           5,
           6,
           "2024-06-09",
           "[Gen 9] RU",
           "5a"
          ],
          [
           "Roman Ramirez",
           "Will Simpson",
           3,
           6,
           "2024-06-09",
           "[Gen 9] RU",
           "6a"
          ],
          [
           "Roman Ramirez",
           "Will Simpson",
           1,
           6,
           "2024-06-09",
           "[Gen 9] RU",
           "6b"
          ],
          [
           "Evan Sooklal",
           "Lilith Karyadi",
           5,
           6,
           "2024-06-09",
           "[Gen 9] RU",
           "1"
          ],
          [
           "Will Simpson",
           "Lilith Karyadi",
           6,
           5,
           "2024-06-09",
           "[Gen 9] RU",
           "2"
          ]
         ],
         "hovertemplate": "<i>%{customdata[4]|%A, %B %d, %Y}, Game %{x}</i><br><b>%{fullData.name}</b><br><br><b>Format:</b> %{customdata[5]}<br><b>Tournament Match:</b> %{customdata[6]}<br><br><b>%{customdata[0]} vs. %{customdata[1]}</b><br><b>Final Score:</b> %{customdata[2]}-%{customdata[3]}<br>%{text}<b>Post-Game ELO:</b> %{y:,.0f}<br><extra></extra>",
         "legendgrouptitle": {
          "text": "<b>#<i>Rank</i> (<i>Current ELO</i>) <i>Player</i></b>"
         },
         "line": {
          "color": "rgb(231, 63, 116)",
          "shape": "hv"
         },
         "mode": "lines+markers",
         "name": "#5 (1173) Roman Ramirez",
         "opacity": 0.8,
         "text": [
          "<br><b>Pre-Game ELO: </b>nan<br><b>Win Probability: </b>nan%<br><br><b>Change in ELO:</b> +nan<br>",
          "<br><b>Pre-Game ELO: </b>1200<br><b>Win Probability: </b>50.0%<br><br><b>Change in ELO:</b> +16<br>",
          "<br><b>Pre-Game ELO: </b>1216<br><b>Win Probability: </b>58.4%<br><br><b>Change in ELO:</b> +13<br>",
          "<br><b>Pre-Game ELO: </b>nan<br><b>Win Probability: </b>nan%<br><br><b>Change in ELO:</b> +nan<br>",
          "<br><b>Pre-Game ELO: </b>nan<br><b>Win Probability: </b>nan%<br><br><b>Change in ELO:</b> +nan<br>",
          "<br><b>Pre-Game ELO: </b>1228<br><b>Win Probability: </b>50.0%<br><br><b>Change in ELO:</b> +16<br>",
          "<br><b>Pre-Game ELO: </b>nan<br><b>Win Probability: </b>nan%<br><br><b>Change in ELO:</b> +nan<br>",
          "<br><b>Pre-Game ELO: </b>1244<br><b>Win Probability: </b>72.4%<br><br><b>Change in ELO:</b> +9<br>",
          "<br><b>Pre-Game ELO: </b>1252<br><b>Win Probability: </b>70.4%<br><br><b>Change in ELO:</b> -22<br>",
          "<br><b>Pre-Game ELO: </b>nan<br><b>Win Probability: </b>nan%<br><br><b>Change in ELO:</b> +nan<br>",
          "<br><b>Pre-Game ELO: </b>nan<br><b>Win Probability: </b>nan%<br><br><b>Change in ELO:</b> +nan<br>",
          "<br><b>Pre-Game ELO: </b>1231<br><b>Win Probability: </b>48.7%<br><br><b>Change in ELO:</b> +16<br>",
          "<br><b>Pre-Game ELO: </b>1247<br><b>Win Probability: </b>57.4%<br><br><b>Change in ELO:</b> -18<br>",
          "<br><b>Pre-Game ELO: </b>1229<br><b>Win Probability: </b>47.7%<br><br><b>Change in ELO:</b> +16<br>",
          "<br><b>Pre-Game ELO: </b>1245<br><b>Win Probability: </b>56.5%<br><br><b>Change in ELO:</b> +13<br>",
          "<br><b>Pre-Game ELO: </b>1258<br><b>Win Probability: </b>65.5%<br><br><b>Change in ELO:</b> -20<br>",
          "<br><b>Pre-Game ELO: </b>nan<br><b>Win Probability: </b>nan%<br><br><b>Change in ELO:</b> +nan<br>",
          "<br><b>Pre-Game ELO: </b>nan<br><b>Win Probability: </b>nan%<br><br><b>Change in ELO:</b> +nan<br>",
          "<br><b>Pre-Game ELO: </b>1238<br><b>Win Probability: </b>58.6%<br><br><b>Change in ELO:</b> -18<br>",
          "<br><b>Pre-Game ELO: </b>nan<br><b>Win Probability: </b>nan%<br><br><b>Change in ELO:</b> +nan<br>",
          "<br><b>Pre-Game ELO: </b>nan<br><b>Win Probability: </b>nan%<br><br><b>Change in ELO:</b> +nan<br>",
          "<br><b>Pre-Game ELO: </b>nan<br><b>Win Probability: </b>nan%<br><br><b>Change in ELO:</b> +nan<br>",
          "<br><b>Pre-Game ELO: </b>1220<br><b>Win Probability: </b>42.5%<br><br><b>Change in ELO:</b> +18<br>",
          "<br><b>Pre-Game ELO: </b>1238<br><b>Win Probability: </b>76.4%<br><br><b>Change in ELO:</b> -24<br>",
          "<br><b>Pre-Game ELO: </b>nan<br><b>Win Probability: </b>nan%<br><br><b>Change in ELO:</b> +nan<br>",
          "<br><b>Pre-Game ELO: </b>1214<br><b>Win Probability: </b>53.6%<br><br><b>Change in ELO:</b> +14<br>",
          "<br><b>Pre-Game ELO: </b>nan<br><b>Win Probability: </b>nan%<br><br><b>Change in ELO:</b> +nan<br>",
          "<br><b>Pre-Game ELO: </b>nan<br><b>Win Probability: </b>nan%<br><br><b>Change in ELO:</b> +nan<br>",
          "<br><b>Pre-Game ELO: </b>1228<br><b>Win Probability: </b>57.5%<br><br><b>Change in ELO:</b> -18<br>",
          "<br><b>Pre-Game ELO: </b>nan<br><b>Win Probability: </b>nan%<br><br><b>Change in ELO:</b> +nan<br>",
          "<br><b>Pre-Game ELO: </b>nan<br><b>Win Probability: </b>nan%<br><br><b>Change in ELO:</b> +nan<br>",
          "<br><b>Pre-Game ELO: </b>nan<br><b>Win Probability: </b>nan%<br><br><b>Change in ELO:</b> +nan<br>",
          "<br><b>Pre-Game ELO: </b>1211<br><b>Win Probability: </b>43.5%<br><br><b>Change in ELO:</b> -13<br>",
          "<br><b>Pre-Game ELO: </b>1197<br><b>Win Probability: </b>61.2%<br><br><b>Change in ELO:</b> -19<br>",
          "<br><b>Pre-Game ELO: </b>nan<br><b>Win Probability: </b>nan%<br><br><b>Change in ELO:</b> +nan<br>",
          "<br><b>Pre-Game ELO: </b>nan<br><b>Win Probability: </b>nan%<br><br><b>Change in ELO:</b> +nan<br>",
          "<br><b>Pre-Game ELO: </b>nan<br><b>Win Probability: </b>nan%<br><br><b>Change in ELO:</b> +nan<br>",
          "<br><b>Pre-Game ELO: </b>nan<br><b>Win Probability: </b>nan%<br><br><b>Change in ELO:</b> +nan<br>",
          "<br><b>Pre-Game ELO: </b>1178<br><b>Win Probability: </b>49.7%<br><br><b>Change in ELO:</b> -15<br>",
          "<br><b>Pre-Game ELO: </b>1163<br><b>Win Probability: </b>50.4%<br><br><b>Change in ELO:</b> +15<br>",
          "<br><b>Pre-Game ELO: </b>nan<br><b>Win Probability: </b>nan%<br><br><b>Change in ELO:</b> +nan<br>",
          "<br><b>Pre-Game ELO: </b>1178<br><b>Win Probability: </b>31.4%<br><br><b>Change in ELO:</b> -10<br>",
          "<br><b>Pre-Game ELO: </b>nan<br><b>Win Probability: </b>nan%<br><br><b>Change in ELO:</b> +nan<br>",
          "<br><b>Pre-Game ELO: </b>nan<br><b>Win Probability: </b>nan%<br><br><b>Change in ELO:</b> +nan<br>",
          "<br><b>Pre-Game ELO: </b>1168<br><b>Win Probability: </b>33.2%<br><br><b>Change in ELO:</b> -10<br>",
          "<br><b>Pre-Game ELO: </b>nan<br><b>Win Probability: </b>nan%<br><br><b>Change in ELO:</b> +nan<br>",
          "<br><b>Pre-Game ELO: </b>nan<br><b>Win Probability: </b>nan%<br><br><b>Change in ELO:</b> +nan<br>",
          "<br><b>Pre-Game ELO: </b>nan<br><b>Win Probability: </b>nan%<br><br><b>Change in ELO:</b> +nan<br>",
          "<br><b>Pre-Game ELO: </b>1158<br><b>Win Probability: </b>35.6%<br><br><b>Change in ELO:</b> -11<br>",
          "<br><b>Pre-Game ELO: </b>1147<br><b>Win Probability: </b>57.1%<br><br><b>Change in ELO:</b> +13<br>",
          "<br><b>Pre-Game ELO: </b>nan<br><b>Win Probability: </b>nan%<br><br><b>Change in ELO:</b> +nan<br>",
          "<br><b>Pre-Game ELO: </b>1160<br><b>Win Probability: </b>31.2%<br><br><b>Change in ELO:</b> +21<br>",
          "<br><b>Pre-Game ELO: </b>nan<br><b>Win Probability: </b>nan%<br><br><b>Change in ELO:</b> +nan<br>",
          "<br><b>Pre-Game ELO: </b>nan<br><b>Win Probability: </b>nan%<br><br><b>Change in ELO:</b> +nan<br>",
          "<br><b>Pre-Game ELO: </b>1182<br><b>Win Probability: </b>26.1%<br><br><b>Change in ELO:</b> -8<br>",
          "<br><b>Pre-Game ELO: </b>nan<br><b>Win Probability: </b>nan%<br><br><b>Change in ELO:</b> +nan<br>",
          "<br><b>Pre-Game ELO: </b>nan<br><b>Win Probability: </b>nan%<br><br><b>Change in ELO:</b> +nan<br>",
          "<br><b>Pre-Game ELO: </b>nan<br><b>Win Probability: </b>nan%<br><br><b>Change in ELO:</b> +nan<br>",
          "<br><b>Pre-Game ELO: </b>nan<br><b>Win Probability: </b>nan%<br><br><b>Change in ELO:</b> +nan<br>",
          "<br><b>Pre-Game ELO: </b>nan<br><b>Win Probability: </b>nan%<br><br><b>Change in ELO:</b> +nan<br>",
          "<br><b>Pre-Game ELO: </b>nan<br><b>Win Probability: </b>nan%<br><br><b>Change in ELO:</b> +nan<br>",
          "<br><b>Pre-Game ELO: </b>1174<br><b>Win Probability: </b>19.8%<br><br><b>Change in ELO:</b> -6<br>",
          "<br><b>Pre-Game ELO: </b>nan<br><b>Win Probability: </b>nan%<br><br><b>Change in ELO:</b> +nan<br>",
          "<br><b>Pre-Game ELO: </b>1167<br><b>Win Probability: </b>35.3%<br><br><b>Change in ELO:</b> -11<br>",
          "<br><b>Pre-Game ELO: </b>1157<br><b>Win Probability: </b>30.1%<br><br><b>Change in ELO:</b> -9<br>",
          "<br><b>Pre-Game ELO: </b>nan<br><b>Win Probability: </b>nan%<br><br><b>Change in ELO:</b> +nan<br>",
          "<br><b>Pre-Game ELO: </b>nan<br><b>Win Probability: </b>nan%<br><br><b>Change in ELO:</b> +nan<br>",
          "<br><b>Pre-Game ELO: </b>1147<br><b>Win Probability: </b>16.4%<br><br><b>Change in ELO:</b> -5<br>",
          "<br><b>Pre-Game ELO: </b>nan<br><b>Win Probability: </b>nan%<br><br><b>Change in ELO:</b> +nan<br>",
          "<br><b>Pre-Game ELO: </b>1142<br><b>Win Probability: </b>25.6%<br><br><b>Change in ELO:</b> -8<br>",
          "<br><b>Pre-Game ELO: </b>1134<br><b>Win Probability: </b>28.9%<br><br><b>Change in ELO:</b> -9<br>",
          "<br><b>Pre-Game ELO: </b>nan<br><b>Win Probability: </b>nan%<br><br><b>Change in ELO:</b> +nan<br>",
          "<br><b>Pre-Game ELO: </b>nan<br><b>Win Probability: </b>nan%<br><br><b>Change in ELO:</b> +nan<br>",
          "<br><b>Pre-Game ELO: </b>nan<br><b>Win Probability: </b>nan%<br><br><b>Change in ELO:</b> +nan<br>",
          "<br><b>Pre-Game ELO: </b>nan<br><b>Win Probability: </b>nan%<br><br><b>Change in ELO:</b> +nan<br>",
          "<br><b>Pre-Game ELO: </b>nan<br><b>Win Probability: </b>nan%<br><br><b>Change in ELO:</b> +nan<br>",
          "<br><b>Pre-Game ELO: </b>1125<br><b>Win Probability: </b>12.8%<br><br><b>Change in ELO:</b> -4<br>",
          "<br><b>Pre-Game ELO: </b>1121<br><b>Win Probability: </b>11.9%<br><br><b>Change in ELO:</b> -4<br>",
          "<br><b>Pre-Game ELO: </b>nan<br><b>Win Probability: </b>nan%<br><br><b>Change in ELO:</b> +nan<br>",
          "<br><b>Pre-Game ELO: </b>nan<br><b>Win Probability: </b>nan%<br><br><b>Change in ELO:</b> +nan<br>",
          "<br><b>Pre-Game ELO: </b>1118<br><b>Win Probability: </b>28.5%<br><br><b>Change in ELO:</b> +22<br>",
          "<br><b>Pre-Game ELO: </b>1140<br><b>Win Probability: </b>39.3%<br><br><b>Change in ELO:</b> -12<br>",
          "<br><b>Pre-Game ELO: </b>1128<br><b>Win Probability: </b>33.1%<br><br><b>Change in ELO:</b> +21<br>",
          "<br><b>Pre-Game ELO: </b>1148<br><b>Win Probability: </b>14.0%<br><br><b>Change in ELO:</b> +27<br>",
          "<br><b>Pre-Game ELO: </b>1175<br><b>Win Probability: </b>22.6%<br><br><b>Change in ELO:</b> -7<br>",
          "<br><b>Pre-Game ELO: </b>1168<br><b>Win Probability: </b>20.1%<br><br><b>Change in ELO:</b> -6<br>",
          "<br><b>Pre-Game ELO: </b>nan<br><b>Win Probability: </b>nan%<br><br><b>Change in ELO:</b> +nan<br>",
          "<br><b>Pre-Game ELO: </b>nan<br><b>Win Probability: </b>nan%<br><br><b>Change in ELO:</b> +nan<br>",
          "<br><b>Pre-Game ELO: </b>nan<br><b>Win Probability: </b>nan%<br><br><b>Change in ELO:</b> +nan<br>",
          "<br><b>Pre-Game ELO: </b>nan<br><b>Win Probability: </b>nan%<br><br><b>Change in ELO:</b> +nan<br>",
          "<br><b>Pre-Game ELO: </b>nan<br><b>Win Probability: </b>nan%<br><br><b>Change in ELO:</b> +nan<br>",
          "<br><b>Pre-Game ELO: </b>1162<br><b>Win Probability: </b>39.6%<br><br><b>Change in ELO:</b> +19<br>",
          "<br><b>Pre-Game ELO: </b>nan<br><b>Win Probability: </b>nan%<br><br><b>Change in ELO:</b> +nan<br>",
          "<br><b>Pre-Game ELO: </b>nan<br><b>Win Probability: </b>nan%<br><br><b>Change in ELO:</b> +nan<br>",
          "<br><b>Pre-Game ELO: </b>nan<br><b>Win Probability: </b>nan%<br><br><b>Change in ELO:</b> +nan<br>",
          "<br><b>Pre-Game ELO: </b>1180<br><b>Win Probability: </b>53.6%<br><br><b>Change in ELO:</b> +14<br>",
          "<br><b>Pre-Game ELO: </b>1195<br><b>Win Probability: </b>16.6%<br><br><b>Change in ELO:</b> +26<br>",
          "<br><b>Pre-Game ELO: </b>nan<br><b>Win Probability: </b>nan%<br><br><b>Change in ELO:</b> +nan<br>",
          "<br><b>Pre-Game ELO: </b>1221<br><b>Win Probability: </b>37.6%<br><br><b>Change in ELO:</b> +19<br>",
          "<br><b>Pre-Game ELO: </b>nan<br><b>Win Probability: </b>nan%<br><br><b>Change in ELO:</b> +nan<br>",
          "<br><b>Pre-Game ELO: </b>nan<br><b>Win Probability: </b>nan%<br><br><b>Change in ELO:</b> +nan<br>",
          "<br><b>Pre-Game ELO: </b>1240<br><b>Win Probability: </b>72.6%<br><br><b>Change in ELO:</b> +8<br>",
          "<br><b>Pre-Game ELO: </b>nan<br><b>Win Probability: </b>nan%<br><br><b>Change in ELO:</b> +nan<br>",
          "<br><b>Pre-Game ELO: </b>nan<br><b>Win Probability: </b>nan%<br><br><b>Change in ELO:</b> +nan<br>",
          "<br><b>Pre-Game ELO: </b>nan<br><b>Win Probability: </b>nan%<br><br><b>Change in ELO:</b> +nan<br>",
          "<br><b>Pre-Game ELO: </b>1248<br><b>Win Probability: </b>66.8%<br><br><b>Change in ELO:</b> +10<br>",
          "<br><b>Pre-Game ELO: </b>1259<br><b>Win Probability: </b>31.1%<br><br><b>Change in ELO:</b> +21<br>",
          "<br><b>Pre-Game ELO: </b>nan<br><b>Win Probability: </b>nan%<br><br><b>Change in ELO:</b> +nan<br>",
          "<br><b>Pre-Game ELO: </b>1280<br><b>Win Probability: </b>72.1%<br><br><b>Change in ELO:</b> +9<br>",
          "<br><b>Pre-Game ELO: </b>nan<br><b>Win Probability: </b>nan%<br><br><b>Change in ELO:</b> +nan<br>",
          "<br><b>Pre-Game ELO: </b>1289<br><b>Win Probability: </b>42.7%<br><br><b>Change in ELO:</b> +18<br>",
          "<br><b>Pre-Game ELO: </b>1307<br><b>Win Probability: </b>52.4%<br><br><b>Change in ELO:</b> -16<br>",
          "<br><b>Pre-Game ELO: </b>1290<br><b>Win Probability: </b>43.5%<br><br><b>Change in ELO:</b> -13<br>",
          "<br><b>Pre-Game ELO: </b>1277<br><b>Win Probability: </b>69.9%<br><br><b>Change in ELO:</b> -22<br>",
          "<br><b>Pre-Game ELO: </b>1255<br><b>Win Probability: </b>59.1%<br><br><b>Change in ELO:</b> -18<br>",
          "<br><b>Pre-Game ELO: </b>nan<br><b>Win Probability: </b>nan%<br><br><b>Change in ELO:</b> +nan<br>",
          "<br><b>Pre-Game ELO: </b>nan<br><b>Win Probability: </b>nan%<br><br><b>Change in ELO:</b> +nan<br>",
          "<br><b>Pre-Game ELO: </b>nan<br><b>Win Probability: </b>nan%<br><br><b>Change in ELO:</b> +nan<br>",
          "<br><b>Pre-Game ELO: </b>nan<br><b>Win Probability: </b>nan%<br><br><b>Change in ELO:</b> +nan<br>",
          "<br><b>Pre-Game ELO: </b>nan<br><b>Win Probability: </b>nan%<br><br><b>Change in ELO:</b> +nan<br>",
          "<br><b>Pre-Game ELO: </b>1237<br><b>Win Probability: </b>63.7%<br><br><b>Change in ELO:</b> -20<br>",
          "<br><b>Pre-Game ELO: </b>1217<br><b>Win Probability: </b>53.2%<br><br><b>Change in ELO:</b> -16<br>",
          "<br><b>Pre-Game ELO: </b>nan<br><b>Win Probability: </b>nan%<br><br><b>Change in ELO:</b> +nan<br>",
          "<br><b>Pre-Game ELO: </b>nan<br><b>Win Probability: </b>nan%<br><br><b>Change in ELO:</b> +nan<br>",
          "<br><b>Pre-Game ELO: </b>1201<br><b>Win Probability: </b>48.1%<br><br><b>Change in ELO:</b> -15<br>",
          "<br><b>Pre-Game ELO: </b>1186<br><b>Win Probability: </b>40.1%<br><br><b>Change in ELO:</b> -12<br>",
          "<br><b>Pre-Game ELO: </b>nan<br><b>Win Probability: </b>nan%<br><br><b>Change in ELO:</b> +nan<br>",
          "<br><b>Pre-Game ELO: </b>nan<br><b>Win Probability: </b>nan%<br><br><b>Change in ELO:</b> +nan<br>"
         ],
         "type": "scatter",
         "x": [
          1,
          2,
          3,
          4,
          5,
          6,
          7,
          8,
          9,
          10,
          11,
          12,
          13,
          14,
          15,
          16,
          17,
          18,
          19,
          20,
          21,
          22,
          23,
          24,
          25,
          26,
          27,
          28,
          29,
          30,
          31,
          32,
          33,
          34,
          35,
          36,
          37,
          38,
          39,
          40,
          41,
          42,
          43,
          44,
          45,
          46,
          47,
          48,
          49,
          50,
          51,
          52,
          53,
          54,
          55,
          56,
          57,
          58,
          59,
          60,
          61,
          62,
          63,
          64,
          65,
          66,
          67,
          68,
          69,
          70,
          71,
          72,
          73,
          74,
          75,
          76,
          77,
          78,
          79,
          80,
          81,
          82,
          83,
          84,
          85,
          86,
          87,
          88,
          89,
          90,
          91,
          92,
          93,
          94,
          95,
          96,
          97,
          98,
          99,
          100,
          101,
          102,
          103,
          104,
          105,
          106,
          107,
          108,
          109,
          110,
          111,
          112,
          113,
          114,
          115,
          116,
          117,
          118,
          119,
          120,
          121,
          122,
          123,
          124,
          125,
          126,
          127,
          128
         ],
         "y": [
          null,
          1215.5,
          1228.3858031753039,
          null,
          null,
          1243.8858031753039,
          null,
          1252.4425519507959,
          1230.6339035261685,
          null,
          null,
          1246.5393900411782,
          1228.7533011841335,
          1244.978588378909,
          1258.4531325066034,
          1238.1405507759134,
          null,
          null,
          1219.9637974037742,
          null,
          null,
          null,
          1237.7747520460584,
          1214.0950077302032,
          null,
          1228.4670993707348,
          null,
          null,
          1210.6449987408969,
          null,
          null,
          null,
          1197.1714293871794,
          1178.2035732164316,
          null,
          null,
          null,
          null,
          1162.7988031877433,
          1178.1637340693517,
          null,
          1168.4188110544196,
          null,
          null,
          1158.1309518649728,
          null,
          null,
          null,
          1147.0819547137278,
          1160.3708818362143,
          null,
          1181.6985776491017,
          null,
          null,
          1173.6228446833834,
          null,
          null,
          null,
          null,
          null,
          null,
          1167.476299433647,
          null,
          1156.5243493678283,
          1147.1971675897348,
          null,
          null,
          1142.1019615952873,
          null,
          1134.1771097549715,
          1125.2030652208307,
          null,
          null,
          null,
          null,
          null,
          1121.224899958969,
          1117.5401215852737,
          null,
          null,
          1139.7155228587826,
          1127.5286620115808,
          1148.256017276127,
          1174.9122027967903,
          1167.8928281325432,
          1161.6754954117714,
          null,
          null,
          null,
          null,
          null,
          1180.3911731436476,
          null,
          null,
          null,
          1194.7882526574422,
          1220.62889786158,
          null,
          1239.959974284107,
          null,
          null,
          1248.4587189565236,
          null,
          null,
          null,
          1258.748796781334,
          1280.112113288173,
          null,
          1288.748893458652,
          null,
          1306.5157403262044,
          1290.2741002514442,
          1276.786181976367,
          1255.1103873792786,
          1236.7952649078657,
          null,
          null,
          null,
          null,
          null,
          1217.0434121284932,
          1200.5446502170212,
          null,
          null,
          1185.6286392950449,
          1173.2112424895565,
          null,
          null
         ]
        },
        {
         "connectgaps": true,
         "customdata": [
          [
           "Evan Sooklal",
           "Will Simpson",
           2,
           6,
           "2023-11-18",
           "[Gen 9] OU",
           "1"
          ],
          [
           "Paul Bartenfeld",
           "Roman Ramirez",
           2,
           6,
           "2023-11-18",
           "[Gen 9] OU",
           "2"
          ],
          [
           "Roman Ramirez",
           "Evan Sooklal",
           6,
           3,
           "2023-11-18",
           "[Gen 9] OU",
           "3"
          ],
          [
           "Will Simpson",
           "Paul Bartenfeld",
           6,
           1,
           "2023-11-18",
           "[Gen 9] OU",
           "4"
          ],
          [
           "Paul Bartenfeld",
           "Evan Sooklal",
           1,
           6,
           "2023-11-18",
           "[Gen 9] OU",
           "5"
          ],
          [
           "Will Simpson",
           "Roman Ramirez",
           3,
           6,
           "2023-11-18",
           "[Gen 9] OU",
           "6"
          ],
          [
           "Will Simpson",
           "Evan Sooklal",
           6,
           2,
           "2023-11-18",
           "[Gen 9] OU",
           "7"
          ],
          [
           "Roman Ramirez",
           "Paul Bartenfeld",
           6,
           4,
           "2023-11-18",
           "[Gen 9] OU",
           "8"
          ],
          [
           "Evan Sooklal",
           "Roman Ramirez",
           6,
           5,
           "2023-11-18",
           "[Gen 9] OU",
           "9"
          ],
          [
           "Paul Bartenfeld",
           "Will Simpson",
           4,
           6,
           "2023-11-18",
           "[Gen 9] OU",
           "10"
          ],
          [
           "Evan Sooklal",
           "Paul Bartenfeld",
           6,
           5,
           "2023-11-18",
           "[Gen 9] OU",
           "11"
          ],
          [
           "Roman Ramirez",
           "Will Simpson",
           6,
           2,
           "2023-11-18",
           "[Gen 9] OU",
           "12"
          ],
          [
           "Roman Ramirez",
           "Will Simpson",
           2,
           6,
           "2023-11-18",
           "[Gen 9] OU",
           "1"
          ],
          [
           "Will Simpson",
           "Roman Ramirez",
           4,
           6,
           "2023-11-18",
           "[Gen 9] OU",
           "2"
          ],
          [
           "Roman Ramirez",
           "Will Simpson",
           6,
           4,
           "2023-11-18",
           "[Gen 9] OU",
           "3"
          ],
          [
           "Roman Ramirez",
           "Aaron Carter",
           4,
           6,
           "2023-12-02",
           "[Gen 9] OU",
           "1"
          ],
          [
           "Will Simpson",
           "Paul Bartenfeld",
           6,
           4,
           "2023-12-02",
           "[Gen 9] OU",
           "2"
          ],
          [
           "Aaron Carter",
           "Will Simpson",
           4,
           6,
           "2023-12-02",
           "[Gen 9] OU",
           "3"
          ],
          [
           "Evan Sooklal",
           "Roman Ramirez",
           6,
           2,
           "2023-12-02",
           "[Gen 9] OU",
           "4"
          ],
          [
           "Will Simpson",
           "Evan Sooklal",
           6,
           2,
           "2023-12-02",
           "[Gen 9] OU",
           "5"
          ],
          [
           "Paul Bartenfeld",
           "Aaron Carter",
           6,
           3,
           "2023-12-02",
           "[Gen 9] OU",
           "6"
          ],
          [
           "Evan Sooklal",
           "Paul Bartenfeld",
           6,
           4,
           "2023-12-02",
           "[Gen 9] OU",
           "7"
          ],
          [
           "Roman Ramirez",
           "Will Simpson",
           6,
           4,
           "2023-12-02",
           "[Gen 9] OU",
           "8"
          ],
          [
           "Paul Bartenfeld",
           "Roman Ramirez",
           6,
           3,
           "2023-12-02",
           "[Gen 9] OU",
           "9"
          ],
          [
           "Aaron Carter",
           "Evan Sooklal",
           6,
           3,
           "2023-12-02",
           "[Gen 9] OU",
           "10"
          ],
          [
           "Aaron Carter",
           "Roman Ramirez",
           0,
           6,
           "2023-12-02",
           "[Gen 9] OU",
           "11"
          ],
          [
           "Paul Bartenfeld",
           "Will Simpson",
           1,
           6,
           "2023-12-02",
           "[Gen 9] OU",
           "12"
          ],
          [
           "Will Simpson",
           "Aaron Carter",
           3,
           6,
           "2023-12-02",
           "[Gen 9] OU",
           "13"
          ],
          [
           "Roman Ramirez",
           "Evan Sooklal",
           2,
           6,
           "2023-12-02",
           "[Gen 9] OU",
           "14"
          ],
          [
           "Evan Sooklal",
           "Will Simpson",
           5,
           6,
           "2023-12-02",
           "[Gen 9] OU",
           "15"
          ],
          [
           "Aaron Carter",
           "Paul Bartenfeld",
           6,
           3,
           "2023-12-02",
           "[Gen 9] OU",
           "16"
          ],
          [
           "Paul Bartenfeld",
           "Evan Sooklal",
           6,
           5,
           "2023-12-02",
           "[Gen 9] OU",
           "17"
          ],
          [
           "Will Simpson",
           "Roman Ramirez",
           6,
           5,
           "2023-12-02",
           "[Gen 9] OU",
           "18"
          ],
          [
           "Roman Ramirez",
           "Paul Bartenfeld",
           4,
           6,
           "2023-12-02",
           "[Gen 9] OU",
           "19"
          ],
          [
           "Evan Sooklal",
           "Aaron Carter",
           6,
           4,
           "2023-12-02",
           "[Gen 9] OU",
           "20"
          ],
          [
           "Will Simpson",
           "Evan Sooklal",
           6,
           2,
           "2023-12-02",
           "[Gen 9] OU",
           "1"
          ],
          [
           "Will Simpson",
           "Evan Sooklal",
           6,
           1,
           "2023-12-02",
           "[Gen 9] OU",
           "2"
          ],
          [
           "Aaron Carter",
           "Paul Bartenfeld",
           6,
           3,
           "2023-12-13",
           "[Gen 9] OU",
           "1"
          ],
          [
           "Roman Ramirez",
           "Evan Sooklal",
           5,
           6,
           "2023-12-13",
           "[Gen 9] OU",
           "2"
          ],
          [
           "Paul Bartenfeld",
           "Roman Ramirez",
           2,
           6,
           "2023-12-13",
           "[Gen 9] OU",
           "3"
          ],
          [
           "Will Simpson",
           "Aaron Carter",
           0,
           6,
           "2023-12-13",
           "[Gen 9] OU",
           "4"
          ],
          [
           "Roman Ramirez",
           "Will Simpson",
           4,
           6,
           "2023-12-13",
           "[Gen 9] OU",
           "5"
          ],
          [
           "Evan Sooklal",
           "Paul Bartenfeld",
           6,
           5,
           "2023-12-13",
           "[Gen 9] OU",
           "6"
          ],
          [
           "Will Simpson",
           "Evan Sooklal",
           4,
           6,
           "2023-12-13",
           "[Gen 9] OU",
           "7"
          ],
          [
           "Aaron Carter",
           "Roman Ramirez",
           6,
           3,
           "2023-12-13",
           "[Gen 9] OU",
           "8"
          ],
          [
           "Evan Sooklal",
           "Aaron Carter",
           5,
           6,
           "2023-12-13",
           "[Gen 9] OU",
           "9"
          ],
          [
           "Paul Bartenfeld",
           "Will Simpson",
           2,
           6,
           "2023-12-13",
           "[Gen 9] OU",
           "10"
          ],
          [
           "Paul Bartenfeld",
           "Aaron Carter",
           3,
           6,
           "2023-12-13",
           "[Gen 9] OU",
           "11"
          ],
          [
           "Evan Sooklal",
           "Roman Ramirez",
           6,
           4,
           "2023-12-13",
           "[Gen 9] OU",
           "12"
          ],
          [
           "Roman Ramirez",
           "Paul Bartenfeld",
           6,
           1,
           "2023-12-13",
           "[Gen 9] OU",
           "13"
          ],
          [
           "Aaron Carter",
           "Will Simpson",
           6,
           5,
           "2023-12-13",
           "[Gen 9] OU",
           "14"
          ],
          [
           "Will Simpson",
           "Roman Ramirez",
           3,
           6,
           "2023-12-13",
           "[Gen 9] OU",
           "15"
          ],
          [
           "Paul Bartenfeld",
           "Evan Sooklal",
           3,
           6,
           "2023-12-13",
           "[Gen 9] OU",
           "16"
          ],
          [
           "Evan Sooklal",
           "Will Simpson",
           6,
           3,
           "2023-12-13",
           "[Gen 9] OU",
           "17"
          ],
          [
           "Roman Ramirez",
           "Aaron Carter",
           5,
           6,
           "2023-12-13",
           "[Gen 9] OU",
           "18"
          ],
          [
           "Aaron Carter",
           "Evan Sooklal",
           6,
           2,
           "2023-12-13",
           "[Gen 9] OU",
           "19"
          ],
          [
           "Will Simpson",
           "Paul Bartenfeld",
           6,
           4,
           "2023-12-13",
           "[Gen 9] OU",
           "20"
          ],
          [
           "Aaron Carter",
           "Evan Sooklal",
           5,
           6,
           "2023-12-13",
           "[Gen 9] OU",
           "1"
          ],
          [
           "Evan Sooklal",
           "Aaron Carter",
           2,
           6,
           "2023-12-13",
           "[Gen 9] OU",
           "2"
          ],
          [
           "Aaron Carter",
           "Evan Sooklal",
           6,
           2,
           "2023-12-13",
           "[Gen 9] OU",
           "3"
          ],
          [
           "Evan Sooklal",
           "Will Simpson",
           0,
           4,
           "2024-01-28",
           "[Gen 9] VGC 2024 Reg F",
           "1"
          ],
          [
           "Roman Ramirez",
           "Aaron Carter",
           2,
           4,
           "2024-01-28",
           "[Gen 9] VGC 2024 Reg F",
           "2"
          ],
          [
           "Aaron Carter",
           "Evan Sooklal",
           3,
           4,
           "2024-01-28",
           "[Gen 9] VGC 2024 Reg F",
           "3"
          ],
          [
           "Will Simpson",
           "Roman Ramirez",
           4,
           2,
           "2024-01-28",
           "[Gen 9] VGC 2024 Reg F",
           "4"
          ],
          [
           "Roman Ramirez",
           "Evan Sooklal",
           0,
           4,
           "2024-01-28",
           "[Gen 9] VGC 2024 Reg F",
           "5"
          ],
          [
           "Will Simpson",
           "Aaron Carter",
           1,
           4,
           "2024-01-28",
           "[Gen 9] VGC 2024 Reg F",
           "6"
          ],
          [
           "Will Simpson",
           "Evan Sooklal",
           4,
           2,
           "2024-01-28",
           "[Gen 9] VGC 2024 Reg F",
           "7"
          ],
          [
           "Aaron Carter",
           "Roman Ramirez",
           4,
           0,
           "2024-01-28",
           "[Gen 9] VGC 2024 Reg F",
           "8"
          ],
          [
           "Evan Sooklal",
           "Aaron Carter",
           3,
           4,
           "2024-01-28",
           "[Gen 9] VGC 2024 Reg F",
           "9"
          ],
          [
           "Roman Ramirez",
           "Will Simpson",
           1,
           4,
           "2024-01-28",
           "[Gen 9] VGC 2024 Reg F",
           "10"
          ],
          [
           "Evan Sooklal",
           "Roman Ramirez",
           4,
           3,
           "2024-01-28",
           "[Gen 9] VGC 2024 Reg F",
           "11"
          ],
          [
           "Aaron Carter",
           "Will Simpson",
           2,
           4,
           "2024-01-28",
           "[Gen 9] VGC 2024 Reg F",
           "12"
          ],
          [
           "Will Simpson",
           "Aaron Carter",
           4,
           0,
           "2024-01-28",
           "[Gen 9] VGC 2024 Reg F",
           "1"
          ],
          [
           "Will Simpson",
           "Aaron Carter",
           4,
           3,
           "2024-01-28",
           "[Gen 9] VGC 2024 Reg F",
           "2"
          ],
          [
           "Aaron Carter",
           "Evan Sooklal",
           4,
           2,
           "2024-02-09",
           "[Gen 9] VGC 2024 Reg F",
           "1a"
          ],
          [
           "Aaron Carter",
           "Evan Sooklal",
           4,
           3,
           "2024-02-09",
           "[Gen 9] VGC 2024 Reg F",
           "1b"
          ],
          [
           "Roman Ramirez",
           "Will Simpson",
           3,
           4,
           "2024-02-09",
           "[Gen 9] VGC 2024 Reg F",
           "2a"
          ],
          [
           "Roman Ramirez",
           "Will Simpson",
           2,
           4,
           "2024-02-09",
           "[Gen 9] VGC 2024 Reg F",
           "2b"
          ],
          [
           "Will Simpson",
           "Aaron Carter",
           2,
           4,
           "2024-02-09",
           "[Gen 9] VGC 2024 Reg F",
           "3a"
          ],
          [
           "Will Simpson",
           "Aaron Carter",
           0,
           4,
           "2024-02-09",
           "[Gen 9] VGC 2024 Reg F",
           "3b"
          ],
          [
           "Evan Sooklal",
           "Roman Ramirez",
           1,
           4,
           "2024-02-09",
           "[Gen 9] VGC 2024 Reg F",
           "4a"
          ],
          [
           "Evan Sooklal",
           "Roman Ramirez",
           4,
           2,
           "2024-02-09",
           "[Gen 9] VGC 2024 Reg F",
           "4b"
          ],
          [
           "Evan Sooklal",
           "Roman Ramirez",
           2,
           4,
           "2024-02-09",
           "[Gen 9] VGC 2024 Reg F",
           "4c"
          ],
          [
           "Roman Ramirez",
           "Aaron Carter",
           4,
           3,
           "2024-02-09",
           "[Gen 9] VGC 2024 Reg F",
           "5a"
          ],
          [
           "Roman Ramirez",
           "Aaron Carter",
           0,
           4,
           "2024-02-09",
           "[Gen 9] VGC 2024 Reg F",
           "5b"
          ],
          [
           "Roman Ramirez",
           "Aaron Carter",
           3,
           4,
           "2024-02-09",
           "[Gen 9] VGC 2024 Reg F",
           "5c"
          ],
          [
           "Evan Sooklal",
           "Will Simpson",
           1,
           4,
           "2024-02-09",
           "[Gen 9] VGC 2024 Reg F",
           "6a"
          ],
          [
           "Evan Sooklal",
           "Will Simpson",
           0,
           4,
           "2024-02-09",
           "[Gen 9] VGC 2024 Reg F",
           "6b"
          ],
          [
           "Aaron Carter",
           "Will Simpson",
           4,
           1,
           "2024-02-09",
           "[Gen 9] VGC 2024 Reg F",
           "1a"
          ],
          [
           "Aaron Carter",
           "Will Simpson",
           4,
           2,
           "2024-02-09",
           "[Gen 9] VGC 2024 Reg F",
           "1b"
          ],
          [
           "Will Simpson",
           "Evan Sooklal",
           6,
           2,
           "2024-02-18",
           "[Gen 9] Doubles UU",
           "1"
          ],
          [
           "Jack Massingill",
           "Roman Ramirez",
           0,
           6,
           "2024-02-18",
           "[Gen 9] Doubles UU",
           "2"
          ],
          [
           "Evan Sooklal",
           "Jack Massingill",
           6,
           3,
           "2024-02-18",
           "[Gen 9] Doubles UU",
           "3"
          ],
          [
           "Aaron Carter",
           "Will Simpson",
           6,
           1,
           "2024-02-18",
           "[Gen 9] Doubles UU",
           "4"
          ],
          [
           "Jack Massingill",
           "Aaron Carter",
           3,
           6,
           "2024-02-18",
           "[Gen 9] Doubles UU",
           "5"
          ],
          [
           "Roman Ramirez",
           "Evan Sooklal",
           6,
           3,
           "2024-02-18",
           "[Gen 9] Doubles UU",
           "6"
          ],
          [
           "Aaron Carter",
           "Roman Ramirez",
           3,
           6,
           "2024-02-18",
           "[Gen 9] Doubles UU",
           "7"
          ],
          [
           "Will Simpson",
           "Jack Massingill",
           6,
           0,
           "2024-02-18",
           "[Gen 9] Doubles UU",
           "8"
          ],
          [
           "Roman Ramirez",
           "Will Simpson",
           6,
           0,
           "2024-02-18",
           "[Gen 9] Doubles UU",
           "9"
          ],
          [
           "Evan Sooklal",
           "Aaron Carter",
           2,
           6,
           "2024-02-18",
           "[Gen 9] Doubles UU",
           "10"
          ],
          [
           "Evan Sooklal",
           "Will Simpson",
           6,
           2,
           "2024-02-18",
           "[Gen 9] Doubles UU",
           "11"
          ],
          [
           "Roman Ramirez",
           "Jack Massingill",
           6,
           1,
           "2024-02-18",
           "[Gen 9] Doubles UU",
           "12"
          ],
          [
           "Jack Massingill",
           "Evan Sooklal",
           0,
           6,
           "2024-02-18",
           "[Gen 9] Doubles UU",
           "13"
          ],
          [
           "Will Simpson",
           "Aaron Carter",
           2,
           6,
           "2024-02-18",
           "[Gen 9] Doubles UU",
           "14"
          ],
          [
           "Aaron Carter",
           "Jack Massingill",
           6,
           4,
           "2024-02-18",
           "[Gen 9] Doubles UU",
           "15"
          ],
          [
           "Evan Sooklal",
           "Roman Ramirez",
           1,
           6,
           "2024-02-18",
           "[Gen 9] Doubles UU",
           "16"
          ],
          [
           "Roman Ramirez",
           "Aaron Carter",
           6,
           5,
           "2024-02-18",
           "[Gen 9] Doubles UU",
           "17"
          ],
          [
           "Jack Massingill",
           "Will Simpson",
           6,
           0,
           "2024-02-18",
           "[Gen 9] Doubles UU",
           "18"
          ],
          [
           "Will Simpson",
           "Roman Ramirez",
           0,
           6,
           "2024-02-18",
           "[Gen 9] Doubles UU",
           "19"
          ],
          [
           "Aaron Carter",
           "Evan Sooklal",
           6,
           5,
           "2024-02-18",
           "[Gen 9] Doubles UU",
           "20"
          ],
          [
           "Roman Ramirez",
           "Aaron Carter",
           6,
           4,
           "2024-02-18",
           "[Gen 9] Doubles UU",
           "1"
          ],
          [
           "Roman Ramirez",
           "Aaron Carter",
           3,
           6,
           "2024-02-18",
           "[Gen 9] Doubles UU",
           "2"
          ],
          [
           "Roman Ramirez",
           "Aaron Carter",
           4,
           6,
           "2024-02-18",
           "[Gen 9] Doubles UU",
           "3"
          ],
          [
           "Lilith Karyadi",
           "Roman Ramirez",
           6,
           3,
           "2024-06-09",
           "[Gen 9] RU",
           "1a"
          ],
          [
           "Lilith Karyadi",
           "Roman Ramirez",
           6,
           3,
           "2024-06-09",
           "[Gen 9] RU",
           "1b"
          ],
          [
           "Evan Sooklal",
           "Will Simpson",
           6,
           5,
           "2024-06-09",
           "[Gen 9] RU",
           "2a"
          ],
          [
           "Evan Sooklal",
           "Will Simpson",
           4,
           6,
           "2024-06-09",
           "[Gen 9] RU",
           "2b"
          ],
          [
           "Evan Sooklal",
           "Will Simpson",
           6,
           5,
           "2024-06-09",
           "[Gen 9] RU",
           "2c"
          ],
          [
           "Will Simpson",
           "Lilith Karyadi",
           6,
           5,
           "2024-06-09",
           "[Gen 9] RU",
           "3a"
          ],
          [
           "Will Simpson",
           "Lilith Karyadi",
           6,
           2,
           "2024-06-09",
           "[Gen 9] RU",
           "3b"
          ],
          [
           "Roman Ramirez",
           "Evan Sooklal",
           4,
           6,
           "2024-06-09",
           "[Gen 9] RU",
           "4a"
          ],
          [
           "Roman Ramirez",
           "Evan Sooklal",
           2,
           6,
           "2024-06-09",
           "[Gen 9] RU",
           "4b"
          ],
          [
           "Evan Sooklal",
           "Lilith Karyadi",
           2,
           6,
           "2024-06-09",
           "[Gen 9] RU",
           "5a"
          ],
          [
           "Evan Sooklal",
           "Lilith Karyadi",
           5,
           6,
           "2024-06-09",
           "[Gen 9] RU",
           "5a"
          ],
          [
           "Roman Ramirez",
           "Will Simpson",
           3,
           6,
           "2024-06-09",
           "[Gen 9] RU",
           "6a"
          ],
          [
           "Roman Ramirez",
           "Will Simpson",
           1,
           6,
           "2024-06-09",
           "[Gen 9] RU",
           "6b"
          ],
          [
           "Evan Sooklal",
           "Lilith Karyadi",
           5,
           6,
           "2024-06-09",
           "[Gen 9] RU",
           "1"
          ],
          [
           "Will Simpson",
           "Lilith Karyadi",
           6,
           5,
           "2024-06-09",
           "[Gen 9] RU",
           "2"
          ]
         ],
         "hovertemplate": "<i>%{customdata[4]|%A, %B %d, %Y}, Game %{x}</i><br><b>%{fullData.name}</b><br><br><b>Format:</b> %{customdata[5]}<br><b>Tournament Match:</b> %{customdata[6]}<br><br><b>%{customdata[0]} vs. %{customdata[1]}</b><br><b>Final Score:</b> %{customdata[2]}-%{customdata[3]}<br>%{text}<b>Post-Game ELO:</b> %{y:,.0f}<br><extra></extra>",
         "legendgrouptitle": {
          "text": "<b>#<i>Rank</i> (<i>Current ELO</i>) <i>Player</i></b>"
         },
         "line": {
          "color": "rgb(128, 186, 90)",
          "shape": "hv"
         },
         "mode": "lines+markers",
         "name": "#6 (1149) Jack Massingill",
         "opacity": 0.8,
         "text": [
          "<br><b>Pre-Game ELO: </b>nan<br><b>Win Probability: </b>nan%<br><br><b>Change in ELO:</b> +nan<br>",
          "<br><b>Pre-Game ELO: </b>nan<br><b>Win Probability: </b>nan%<br><br><b>Change in ELO:</b> +nan<br>",
          "<br><b>Pre-Game ELO: </b>nan<br><b>Win Probability: </b>nan%<br><br><b>Change in ELO:</b> +nan<br>",
          "<br><b>Pre-Game ELO: </b>nan<br><b>Win Probability: </b>nan%<br><br><b>Change in ELO:</b> +nan<br>",
          "<br><b>Pre-Game ELO: </b>nan<br><b>Win Probability: </b>nan%<br><br><b>Change in ELO:</b> +nan<br>",
          "<br><b>Pre-Game ELO: </b>nan<br><b>Win Probability: </b>nan%<br><br><b>Change in ELO:</b> +nan<br>",
          "<br><b>Pre-Game ELO: </b>nan<br><b>Win Probability: </b>nan%<br><br><b>Change in ELO:</b> +nan<br>",
          "<br><b>Pre-Game ELO: </b>nan<br><b>Win Probability: </b>nan%<br><br><b>Change in ELO:</b> +nan<br>",
          "<br><b>Pre-Game ELO: </b>nan<br><b>Win Probability: </b>nan%<br><br><b>Change in ELO:</b> +nan<br>",
          "<br><b>Pre-Game ELO: </b>nan<br><b>Win Probability: </b>nan%<br><br><b>Change in ELO:</b> +nan<br>",
          "<br><b>Pre-Game ELO: </b>nan<br><b>Win Probability: </b>nan%<br><br><b>Change in ELO:</b> +nan<br>",
          "<br><b>Pre-Game ELO: </b>nan<br><b>Win Probability: </b>nan%<br><br><b>Change in ELO:</b> +nan<br>",
          "<br><b>Pre-Game ELO: </b>nan<br><b>Win Probability: </b>nan%<br><br><b>Change in ELO:</b> +nan<br>",
          "<br><b>Pre-Game ELO: </b>nan<br><b>Win Probability: </b>nan%<br><br><b>Change in ELO:</b> +nan<br>",
          "<br><b>Pre-Game ELO: </b>nan<br><b>Win Probability: </b>nan%<br><br><b>Change in ELO:</b> +nan<br>",
          "<br><b>Pre-Game ELO: </b>nan<br><b>Win Probability: </b>nan%<br><br><b>Change in ELO:</b> +nan<br>",
          "<br><b>Pre-Game ELO: </b>nan<br><b>Win Probability: </b>nan%<br><br><b>Change in ELO:</b> +nan<br>",
          "<br><b>Pre-Game ELO: </b>nan<br><b>Win Probability: </b>nan%<br><br><b>Change in ELO:</b> +nan<br>",
          "<br><b>Pre-Game ELO: </b>nan<br><b>Win Probability: </b>nan%<br><br><b>Change in ELO:</b> +nan<br>",
          "<br><b>Pre-Game ELO: </b>nan<br><b>Win Probability: </b>nan%<br><br><b>Change in ELO:</b> +nan<br>",
          "<br><b>Pre-Game ELO: </b>nan<br><b>Win Probability: </b>nan%<br><br><b>Change in ELO:</b> +nan<br>",
          "<br><b>Pre-Game ELO: </b>nan<br><b>Win Probability: </b>nan%<br><br><b>Change in ELO:</b> +nan<br>",
          "<br><b>Pre-Game ELO: </b>nan<br><b>Win Probability: </b>nan%<br><br><b>Change in ELO:</b> +nan<br>",
          "<br><b>Pre-Game ELO: </b>nan<br><b>Win Probability: </b>nan%<br><br><b>Change in ELO:</b> +nan<br>",
          "<br><b>Pre-Game ELO: </b>nan<br><b>Win Probability: </b>nan%<br><br><b>Change in ELO:</b> +nan<br>",
          "<br><b>Pre-Game ELO: </b>nan<br><b>Win Probability: </b>nan%<br><br><b>Change in ELO:</b> +nan<br>",
          "<br><b>Pre-Game ELO: </b>nan<br><b>Win Probability: </b>nan%<br><br><b>Change in ELO:</b> +nan<br>",
          "<br><b>Pre-Game ELO: </b>nan<br><b>Win Probability: </b>nan%<br><br><b>Change in ELO:</b> +nan<br>",
          "<br><b>Pre-Game ELO: </b>nan<br><b>Win Probability: </b>nan%<br><br><b>Change in ELO:</b> +nan<br>",
          "<br><b>Pre-Game ELO: </b>nan<br><b>Win Probability: </b>nan%<br><br><b>Change in ELO:</b> +nan<br>",
          "<br><b>Pre-Game ELO: </b>nan<br><b>Win Probability: </b>nan%<br><br><b>Change in ELO:</b> +nan<br>",
          "<br><b>Pre-Game ELO: </b>nan<br><b>Win Probability: </b>nan%<br><br><b>Change in ELO:</b> +nan<br>",
          "<br><b>Pre-Game ELO: </b>nan<br><b>Win Probability: </b>nan%<br><br><b>Change in ELO:</b> +nan<br>",
          "<br><b>Pre-Game ELO: </b>nan<br><b>Win Probability: </b>nan%<br><br><b>Change in ELO:</b> +nan<br>",
          "<br><b>Pre-Game ELO: </b>nan<br><b>Win Probability: </b>nan%<br><br><b>Change in ELO:</b> +nan<br>",
          "<br><b>Pre-Game ELO: </b>nan<br><b>Win Probability: </b>nan%<br><br><b>Change in ELO:</b> +nan<br>",
          "<br><b>Pre-Game ELO: </b>nan<br><b>Win Probability: </b>nan%<br><br><b>Change in ELO:</b> +nan<br>",
          "<br><b>Pre-Game ELO: </b>nan<br><b>Win Probability: </b>nan%<br><br><b>Change in ELO:</b> +nan<br>",
          "<br><b>Pre-Game ELO: </b>nan<br><b>Win Probability: </b>nan%<br><br><b>Change in ELO:</b> +nan<br>",
          "<br><b>Pre-Game ELO: </b>nan<br><b>Win Probability: </b>nan%<br><br><b>Change in ELO:</b> +nan<br>",
          "<br><b>Pre-Game ELO: </b>nan<br><b>Win Probability: </b>nan%<br><br><b>Change in ELO:</b> +nan<br>",
          "<br><b>Pre-Game ELO: </b>nan<br><b>Win Probability: </b>nan%<br><br><b>Change in ELO:</b> +nan<br>",
          "<br><b>Pre-Game ELO: </b>nan<br><b>Win Probability: </b>nan%<br><br><b>Change in ELO:</b> +nan<br>",
          "<br><b>Pre-Game ELO: </b>nan<br><b>Win Probability: </b>nan%<br><br><b>Change in ELO:</b> +nan<br>",
          "<br><b>Pre-Game ELO: </b>nan<br><b>Win Probability: </b>nan%<br><br><b>Change in ELO:</b> +nan<br>",
          "<br><b>Pre-Game ELO: </b>nan<br><b>Win Probability: </b>nan%<br><br><b>Change in ELO:</b> +nan<br>",
          "<br><b>Pre-Game ELO: </b>nan<br><b>Win Probability: </b>nan%<br><br><b>Change in ELO:</b> +nan<br>",
          "<br><b>Pre-Game ELO: </b>nan<br><b>Win Probability: </b>nan%<br><br><b>Change in ELO:</b> +nan<br>",
          "<br><b>Pre-Game ELO: </b>nan<br><b>Win Probability: </b>nan%<br><br><b>Change in ELO:</b> +nan<br>",
          "<br><b>Pre-Game ELO: </b>nan<br><b>Win Probability: </b>nan%<br><br><b>Change in ELO:</b> +nan<br>",
          "<br><b>Pre-Game ELO: </b>nan<br><b>Win Probability: </b>nan%<br><br><b>Change in ELO:</b> +nan<br>",
          "<br><b>Pre-Game ELO: </b>nan<br><b>Win Probability: </b>nan%<br><br><b>Change in ELO:</b> +nan<br>",
          "<br><b>Pre-Game ELO: </b>nan<br><b>Win Probability: </b>nan%<br><br><b>Change in ELO:</b> +nan<br>",
          "<br><b>Pre-Game ELO: </b>nan<br><b>Win Probability: </b>nan%<br><br><b>Change in ELO:</b> +nan<br>",
          "<br><b>Pre-Game ELO: </b>nan<br><b>Win Probability: </b>nan%<br><br><b>Change in ELO:</b> +nan<br>",
          "<br><b>Pre-Game ELO: </b>nan<br><b>Win Probability: </b>nan%<br><br><b>Change in ELO:</b> +nan<br>",
          "<br><b>Pre-Game ELO: </b>nan<br><b>Win Probability: </b>nan%<br><br><b>Change in ELO:</b> +nan<br>",
          "<br><b>Pre-Game ELO: </b>nan<br><b>Win Probability: </b>nan%<br><br><b>Change in ELO:</b> +nan<br>",
          "<br><b>Pre-Game ELO: </b>nan<br><b>Win Probability: </b>nan%<br><br><b>Change in ELO:</b> +nan<br>",
          "<br><b>Pre-Game ELO: </b>nan<br><b>Win Probability: </b>nan%<br><br><b>Change in ELO:</b> +nan<br>",
          "<br><b>Pre-Game ELO: </b>nan<br><b>Win Probability: </b>nan%<br><br><b>Change in ELO:</b> +nan<br>",
          "<br><b>Pre-Game ELO: </b>nan<br><b>Win Probability: </b>nan%<br><br><b>Change in ELO:</b> +nan<br>",
          "<br><b>Pre-Game ELO: </b>nan<br><b>Win Probability: </b>nan%<br><br><b>Change in ELO:</b> +nan<br>",
          "<br><b>Pre-Game ELO: </b>nan<br><b>Win Probability: </b>nan%<br><br><b>Change in ELO:</b> +nan<br>",
          "<br><b>Pre-Game ELO: </b>nan<br><b>Win Probability: </b>nan%<br><br><b>Change in ELO:</b> +nan<br>",
          "<br><b>Pre-Game ELO: </b>nan<br><b>Win Probability: </b>nan%<br><br><b>Change in ELO:</b> +nan<br>",
          "<br><b>Pre-Game ELO: </b>nan<br><b>Win Probability: </b>nan%<br><br><b>Change in ELO:</b> +nan<br>",
          "<br><b>Pre-Game ELO: </b>nan<br><b>Win Probability: </b>nan%<br><br><b>Change in ELO:</b> +nan<br>",
          "<br><b>Pre-Game ELO: </b>nan<br><b>Win Probability: </b>nan%<br><br><b>Change in ELO:</b> +nan<br>",
          "<br><b>Pre-Game ELO: </b>nan<br><b>Win Probability: </b>nan%<br><br><b>Change in ELO:</b> +nan<br>",
          "<br><b>Pre-Game ELO: </b>nan<br><b>Win Probability: </b>nan%<br><br><b>Change in ELO:</b> +nan<br>",
          "<br><b>Pre-Game ELO: </b>nan<br><b>Win Probability: </b>nan%<br><br><b>Change in ELO:</b> +nan<br>",
          "<br><b>Pre-Game ELO: </b>nan<br><b>Win Probability: </b>nan%<br><br><b>Change in ELO:</b> +nan<br>",
          "<br><b>Pre-Game ELO: </b>nan<br><b>Win Probability: </b>nan%<br><br><b>Change in ELO:</b> +nan<br>",
          "<br><b>Pre-Game ELO: </b>nan<br><b>Win Probability: </b>nan%<br><br><b>Change in ELO:</b> +nan<br>",
          "<br><b>Pre-Game ELO: </b>nan<br><b>Win Probability: </b>nan%<br><br><b>Change in ELO:</b> +nan<br>",
          "<br><b>Pre-Game ELO: </b>nan<br><b>Win Probability: </b>nan%<br><br><b>Change in ELO:</b> +nan<br>",
          "<br><b>Pre-Game ELO: </b>nan<br><b>Win Probability: </b>nan%<br><br><b>Change in ELO:</b> +nan<br>",
          "<br><b>Pre-Game ELO: </b>nan<br><b>Win Probability: </b>nan%<br><br><b>Change in ELO:</b> +nan<br>",
          "<br><b>Pre-Game ELO: </b>nan<br><b>Win Probability: </b>nan%<br><br><b>Change in ELO:</b> +nan<br>",
          "<br><b>Pre-Game ELO: </b>nan<br><b>Win Probability: </b>nan%<br><br><b>Change in ELO:</b> +nan<br>",
          "<br><b>Pre-Game ELO: </b>nan<br><b>Win Probability: </b>nan%<br><br><b>Change in ELO:</b> +nan<br>",
          "<br><b>Pre-Game ELO: </b>nan<br><b>Win Probability: </b>nan%<br><br><b>Change in ELO:</b> +nan<br>",
          "<br><b>Pre-Game ELO: </b>nan<br><b>Win Probability: </b>nan%<br><br><b>Change in ELO:</b> +nan<br>",
          "<br><b>Pre-Game ELO: </b>nan<br><b>Win Probability: </b>nan%<br><br><b>Change in ELO:</b> +nan<br>",
          "<br><b>Pre-Game ELO: </b>nan<br><b>Win Probability: </b>nan%<br><br><b>Change in ELO:</b> +nan<br>",
          "<br><b>Pre-Game ELO: </b>nan<br><b>Win Probability: </b>nan%<br><br><b>Change in ELO:</b> +nan<br>",
          "<br><b>Pre-Game ELO: </b>nan<br><b>Win Probability: </b>nan%<br><br><b>Change in ELO:</b> +nan<br>",
          "<br><b>Pre-Game ELO: </b>nan<br><b>Win Probability: </b>nan%<br><br><b>Change in ELO:</b> +nan<br>",
          "<br><b>Pre-Game ELO: </b>nan<br><b>Win Probability: </b>nan%<br><br><b>Change in ELO:</b> +nan<br>",
          "<br><b>Pre-Game ELO: </b>nan<br><b>Win Probability: </b>nan%<br><br><b>Change in ELO:</b> +nan<br>",
          "<br><b>Pre-Game ELO: </b>1200<br><b>Win Probability: </b>60.4%<br><br><b>Change in ELO:</b> -19<br>",
          "<br><b>Pre-Game ELO: </b>1181<br><b>Win Probability: </b>58.7%<br><br><b>Change in ELO:</b> -18<br>",
          "<br><b>Pre-Game ELO: </b>nan<br><b>Win Probability: </b>nan%<br><br><b>Change in ELO:</b> +nan<br>",
          "<br><b>Pre-Game ELO: </b>1163<br><b>Win Probability: </b>12.8%<br><br><b>Change in ELO:</b> -4<br>",
          "<br><b>Pre-Game ELO: </b>nan<br><b>Win Probability: </b>nan%<br><br><b>Change in ELO:</b> +nan<br>",
          "<br><b>Pre-Game ELO: </b>nan<br><b>Win Probability: </b>nan%<br><br><b>Change in ELO:</b> +nan<br>",
          "<br><b>Pre-Game ELO: </b>1159<br><b>Win Probability: </b>25.1%<br><br><b>Change in ELO:</b> -8<br>",
          "<br><b>Pre-Game ELO: </b>nan<br><b>Win Probability: </b>nan%<br><br><b>Change in ELO:</b> +nan<br>",
          "<br><b>Pre-Game ELO: </b>nan<br><b>Win Probability: </b>nan%<br><br><b>Change in ELO:</b> +nan<br>",
          "<br><b>Pre-Game ELO: </b>nan<br><b>Win Probability: </b>nan%<br><br><b>Change in ELO:</b> +nan<br>",
          "<br><b>Pre-Game ELO: </b>1151<br><b>Win Probability: </b>27.4%<br><br><b>Change in ELO:</b> -8<br>",
          "<br><b>Pre-Game ELO: </b>1143<br><b>Win Probability: </b>42.1%<br><br><b>Change in ELO:</b> -13<br>",
          "<br><b>Pre-Game ELO: </b>nan<br><b>Win Probability: </b>nan%<br><br><b>Change in ELO:</b> +nan<br>",
          "<br><b>Pre-Game ELO: </b>1130<br><b>Win Probability: </b>10.2%<br><br><b>Change in ELO:</b> -3<br>",
          "<br><b>Pre-Game ELO: </b>nan<br><b>Win Probability: </b>nan%<br><br><b>Change in ELO:</b> +nan<br>",
          "<br><b>Pre-Game ELO: </b>nan<br><b>Win Probability: </b>nan%<br><br><b>Change in ELO:</b> +nan<br>",
          "<br><b>Pre-Game ELO: </b>1127<br><b>Win Probability: </b>27.2%<br><br><b>Change in ELO:</b> +23<br>",
          "<br><b>Pre-Game ELO: </b>nan<br><b>Win Probability: </b>nan%<br><br><b>Change in ELO:</b> +nan<br>",
          "<br><b>Pre-Game ELO: </b>nan<br><b>Win Probability: </b>nan%<br><br><b>Change in ELO:</b> +nan<br>",
          "<br><b>Pre-Game ELO: </b>nan<br><b>Win Probability: </b>nan%<br><br><b>Change in ELO:</b> +nan<br>",
          "<br><b>Pre-Game ELO: </b>nan<br><b>Win Probability: </b>nan%<br><br><b>Change in ELO:</b> +nan<br>",
          "<br><b>Pre-Game ELO: </b>nan<br><b>Win Probability: </b>nan%<br><br><b>Change in ELO:</b> +nan<br>",
          "<br><b>Pre-Game ELO: </b>nan<br><b>Win Probability: </b>nan%<br><br><b>Change in ELO:</b> +nan<br>",
          "<br><b>Pre-Game ELO: </b>nan<br><b>Win Probability: </b>nan%<br><br><b>Change in ELO:</b> +nan<br>",
          "<br><b>Pre-Game ELO: </b>nan<br><b>Win Probability: </b>nan%<br><br><b>Change in ELO:</b> +nan<br>",
          "<br><b>Pre-Game ELO: </b>nan<br><b>Win Probability: </b>nan%<br><br><b>Change in ELO:</b> +nan<br>",
          "<br><b>Pre-Game ELO: </b>nan<br><b>Win Probability: </b>nan%<br><br><b>Change in ELO:</b> +nan<br>",
          "<br><b>Pre-Game ELO: </b>nan<br><b>Win Probability: </b>nan%<br><br><b>Change in ELO:</b> +nan<br>",
          "<br><b>Pre-Game ELO: </b>nan<br><b>Win Probability: </b>nan%<br><br><b>Change in ELO:</b> +nan<br>",
          "<br><b>Pre-Game ELO: </b>nan<br><b>Win Probability: </b>nan%<br><br><b>Change in ELO:</b> +nan<br>",
          "<br><b>Pre-Game ELO: </b>nan<br><b>Win Probability: </b>nan%<br><br><b>Change in ELO:</b> +nan<br>",
          "<br><b>Pre-Game ELO: </b>nan<br><b>Win Probability: </b>nan%<br><br><b>Change in ELO:</b> +nan<br>",
          "<br><b>Pre-Game ELO: </b>nan<br><b>Win Probability: </b>nan%<br><br><b>Change in ELO:</b> +nan<br>",
          "<br><b>Pre-Game ELO: </b>nan<br><b>Win Probability: </b>nan%<br><br><b>Change in ELO:</b> +nan<br>",
          "<br><b>Pre-Game ELO: </b>nan<br><b>Win Probability: </b>nan%<br><br><b>Change in ELO:</b> +nan<br>",
          "<br><b>Pre-Game ELO: </b>nan<br><b>Win Probability: </b>nan%<br><br><b>Change in ELO:</b> +nan<br>",
          "<br><b>Pre-Game ELO: </b>nan<br><b>Win Probability: </b>nan%<br><br><b>Change in ELO:</b> +nan<br>"
         ],
         "type": "scatter",
         "x": [
          1,
          2,
          3,
          4,
          5,
          6,
          7,
          8,
          9,
          10,
          11,
          12,
          13,
          14,
          15,
          16,
          17,
          18,
          19,
          20,
          21,
          22,
          23,
          24,
          25,
          26,
          27,
          28,
          29,
          30,
          31,
          32,
          33,
          34,
          35,
          36,
          37,
          38,
          39,
          40,
          41,
          42,
          43,
          44,
          45,
          46,
          47,
          48,
          49,
          50,
          51,
          52,
          53,
          54,
          55,
          56,
          57,
          58,
          59,
          60,
          61,
          62,
          63,
          64,
          65,
          66,
          67,
          68,
          69,
          70,
          71,
          72,
          73,
          74,
          75,
          76,
          77,
          78,
          79,
          80,
          81,
          82,
          83,
          84,
          85,
          86,
          87,
          88,
          89,
          90,
          91,
          92,
          93,
          94,
          95,
          96,
          97,
          98,
          99,
          100,
          101,
          102,
          103,
          104,
          105,
          106,
          107,
          108,
          109,
          110,
          111,
          112,
          113,
          114,
          115,
          116,
          117,
          118,
          119,
          120,
          121,
          122,
          123,
          124,
          125,
          126,
          127,
          128
         ],
         "y": [
          null,
          null,
          null,
          null,
          null,
          null,
          null,
          null,
          null,
          null,
          null,
          null,
          null,
          null,
          null,
          null,
          null,
          null,
          null,
          null,
          null,
          null,
          null,
          null,
          null,
          null,
          null,
          null,
          null,
          null,
          null,
          null,
          null,
          null,
          null,
          null,
          null,
          null,
          null,
          null,
          null,
          null,
          null,
          null,
          null,
          null,
          null,
          null,
          null,
          null,
          null,
          null,
          null,
          null,
          null,
          null,
          null,
          null,
          null,
          null,
          null,
          null,
          null,
          null,
          null,
          null,
          null,
          null,
          null,
          null,
          null,
          null,
          null,
          null,
          null,
          null,
          null,
          null,
          null,
          null,
          null,
          null,
          null,
          null,
          null,
          null,
          null,
          null,
          null,
          null,
          null,
          1181.2843222681238,
          1163.08156608217,
          null,
          1159.1031900986843,
          null,
          null,
          1151.3342923176474,
          null,
          null,
          null,
          1142.8355476452307,
          1129.7755380629303,
          null,
          1126.6225503979344,
          null,
          null,
          1149.1793767377515,
          null,
          null,
          null,
          null,
          null,
          null,
          null,
          null,
          null,
          null,
          null,
          null,
          null,
          null,
          null,
          null,
          null,
          null,
          null,
          null
         ]
        },
        {
         "connectgaps": true,
         "customdata": [
          [
           "Evan Sooklal",
           "Will Simpson",
           2,
           6,
           "2023-11-18",
           "[Gen 9] OU",
           "1"
          ],
          [
           "Paul Bartenfeld",
           "Roman Ramirez",
           2,
           6,
           "2023-11-18",
           "[Gen 9] OU",
           "2"
          ],
          [
           "Roman Ramirez",
           "Evan Sooklal",
           6,
           3,
           "2023-11-18",
           "[Gen 9] OU",
           "3"
          ],
          [
           "Will Simpson",
           "Paul Bartenfeld",
           6,
           1,
           "2023-11-18",
           "[Gen 9] OU",
           "4"
          ],
          [
           "Paul Bartenfeld",
           "Evan Sooklal",
           1,
           6,
           "2023-11-18",
           "[Gen 9] OU",
           "5"
          ],
          [
           "Will Simpson",
           "Roman Ramirez",
           3,
           6,
           "2023-11-18",
           "[Gen 9] OU",
           "6"
          ],
          [
           "Will Simpson",
           "Evan Sooklal",
           6,
           2,
           "2023-11-18",
           "[Gen 9] OU",
           "7"
          ],
          [
           "Roman Ramirez",
           "Paul Bartenfeld",
           6,
           4,
           "2023-11-18",
           "[Gen 9] OU",
           "8"
          ],
          [
           "Evan Sooklal",
           "Roman Ramirez",
           6,
           5,
           "2023-11-18",
           "[Gen 9] OU",
           "9"
          ],
          [
           "Paul Bartenfeld",
           "Will Simpson",
           4,
           6,
           "2023-11-18",
           "[Gen 9] OU",
           "10"
          ],
          [
           "Evan Sooklal",
           "Paul Bartenfeld",
           6,
           5,
           "2023-11-18",
           "[Gen 9] OU",
           "11"
          ],
          [
           "Roman Ramirez",
           "Will Simpson",
           6,
           2,
           "2023-11-18",
           "[Gen 9] OU",
           "12"
          ],
          [
           "Roman Ramirez",
           "Will Simpson",
           2,
           6,
           "2023-11-18",
           "[Gen 9] OU",
           "1"
          ],
          [
           "Will Simpson",
           "Roman Ramirez",
           4,
           6,
           "2023-11-18",
           "[Gen 9] OU",
           "2"
          ],
          [
           "Roman Ramirez",
           "Will Simpson",
           6,
           4,
           "2023-11-18",
           "[Gen 9] OU",
           "3"
          ],
          [
           "Roman Ramirez",
           "Aaron Carter",
           4,
           6,
           "2023-12-02",
           "[Gen 9] OU",
           "1"
          ],
          [
           "Will Simpson",
           "Paul Bartenfeld",
           6,
           4,
           "2023-12-02",
           "[Gen 9] OU",
           "2"
          ],
          [
           "Aaron Carter",
           "Will Simpson",
           4,
           6,
           "2023-12-02",
           "[Gen 9] OU",
           "3"
          ],
          [
           "Evan Sooklal",
           "Roman Ramirez",
           6,
           2,
           "2023-12-02",
           "[Gen 9] OU",
           "4"
          ],
          [
           "Will Simpson",
           "Evan Sooklal",
           6,
           2,
           "2023-12-02",
           "[Gen 9] OU",
           "5"
          ],
          [
           "Paul Bartenfeld",
           "Aaron Carter",
           6,
           3,
           "2023-12-02",
           "[Gen 9] OU",
           "6"
          ],
          [
           "Evan Sooklal",
           "Paul Bartenfeld",
           6,
           4,
           "2023-12-02",
           "[Gen 9] OU",
           "7"
          ],
          [
           "Roman Ramirez",
           "Will Simpson",
           6,
           4,
           "2023-12-02",
           "[Gen 9] OU",
           "8"
          ],
          [
           "Paul Bartenfeld",
           "Roman Ramirez",
           6,
           3,
           "2023-12-02",
           "[Gen 9] OU",
           "9"
          ],
          [
           "Aaron Carter",
           "Evan Sooklal",
           6,
           3,
           "2023-12-02",
           "[Gen 9] OU",
           "10"
          ],
          [
           "Aaron Carter",
           "Roman Ramirez",
           0,
           6,
           "2023-12-02",
           "[Gen 9] OU",
           "11"
          ],
          [
           "Paul Bartenfeld",
           "Will Simpson",
           1,
           6,
           "2023-12-02",
           "[Gen 9] OU",
           "12"
          ],
          [
           "Will Simpson",
           "Aaron Carter",
           3,
           6,
           "2023-12-02",
           "[Gen 9] OU",
           "13"
          ],
          [
           "Roman Ramirez",
           "Evan Sooklal",
           2,
           6,
           "2023-12-02",
           "[Gen 9] OU",
           "14"
          ],
          [
           "Evan Sooklal",
           "Will Simpson",
           5,
           6,
           "2023-12-02",
           "[Gen 9] OU",
           "15"
          ],
          [
           "Aaron Carter",
           "Paul Bartenfeld",
           6,
           3,
           "2023-12-02",
           "[Gen 9] OU",
           "16"
          ],
          [
           "Paul Bartenfeld",
           "Evan Sooklal",
           6,
           5,
           "2023-12-02",
           "[Gen 9] OU",
           "17"
          ],
          [
           "Will Simpson",
           "Roman Ramirez",
           6,
           5,
           "2023-12-02",
           "[Gen 9] OU",
           "18"
          ],
          [
           "Roman Ramirez",
           "Paul Bartenfeld",
           4,
           6,
           "2023-12-02",
           "[Gen 9] OU",
           "19"
          ],
          [
           "Evan Sooklal",
           "Aaron Carter",
           6,
           4,
           "2023-12-02",
           "[Gen 9] OU",
           "20"
          ],
          [
           "Will Simpson",
           "Evan Sooklal",
           6,
           2,
           "2023-12-02",
           "[Gen 9] OU",
           "1"
          ],
          [
           "Will Simpson",
           "Evan Sooklal",
           6,
           1,
           "2023-12-02",
           "[Gen 9] OU",
           "2"
          ],
          [
           "Aaron Carter",
           "Paul Bartenfeld",
           6,
           3,
           "2023-12-13",
           "[Gen 9] OU",
           "1"
          ],
          [
           "Roman Ramirez",
           "Evan Sooklal",
           5,
           6,
           "2023-12-13",
           "[Gen 9] OU",
           "2"
          ],
          [
           "Paul Bartenfeld",
           "Roman Ramirez",
           2,
           6,
           "2023-12-13",
           "[Gen 9] OU",
           "3"
          ],
          [
           "Will Simpson",
           "Aaron Carter",
           0,
           6,
           "2023-12-13",
           "[Gen 9] OU",
           "4"
          ],
          [
           "Roman Ramirez",
           "Will Simpson",
           4,
           6,
           "2023-12-13",
           "[Gen 9] OU",
           "5"
          ],
          [
           "Evan Sooklal",
           "Paul Bartenfeld",
           6,
           5,
           "2023-12-13",
           "[Gen 9] OU",
           "6"
          ],
          [
           "Will Simpson",
           "Evan Sooklal",
           4,
           6,
           "2023-12-13",
           "[Gen 9] OU",
           "7"
          ],
          [
           "Aaron Carter",
           "Roman Ramirez",
           6,
           3,
           "2023-12-13",
           "[Gen 9] OU",
           "8"
          ],
          [
           "Evan Sooklal",
           "Aaron Carter",
           5,
           6,
           "2023-12-13",
           "[Gen 9] OU",
           "9"
          ],
          [
           "Paul Bartenfeld",
           "Will Simpson",
           2,
           6,
           "2023-12-13",
           "[Gen 9] OU",
           "10"
          ],
          [
           "Paul Bartenfeld",
           "Aaron Carter",
           3,
           6,
           "2023-12-13",
           "[Gen 9] OU",
           "11"
          ],
          [
           "Evan Sooklal",
           "Roman Ramirez",
           6,
           4,
           "2023-12-13",
           "[Gen 9] OU",
           "12"
          ],
          [
           "Roman Ramirez",
           "Paul Bartenfeld",
           6,
           1,
           "2023-12-13",
           "[Gen 9] OU",
           "13"
          ],
          [
           "Aaron Carter",
           "Will Simpson",
           6,
           5,
           "2023-12-13",
           "[Gen 9] OU",
           "14"
          ],
          [
           "Will Simpson",
           "Roman Ramirez",
           3,
           6,
           "2023-12-13",
           "[Gen 9] OU",
           "15"
          ],
          [
           "Paul Bartenfeld",
           "Evan Sooklal",
           3,
           6,
           "2023-12-13",
           "[Gen 9] OU",
           "16"
          ],
          [
           "Evan Sooklal",
           "Will Simpson",
           6,
           3,
           "2023-12-13",
           "[Gen 9] OU",
           "17"
          ],
          [
           "Roman Ramirez",
           "Aaron Carter",
           5,
           6,
           "2023-12-13",
           "[Gen 9] OU",
           "18"
          ],
          [
           "Aaron Carter",
           "Evan Sooklal",
           6,
           2,
           "2023-12-13",
           "[Gen 9] OU",
           "19"
          ],
          [
           "Will Simpson",
           "Paul Bartenfeld",
           6,
           4,
           "2023-12-13",
           "[Gen 9] OU",
           "20"
          ],
          [
           "Aaron Carter",
           "Evan Sooklal",
           5,
           6,
           "2023-12-13",
           "[Gen 9] OU",
           "1"
          ],
          [
           "Evan Sooklal",
           "Aaron Carter",
           2,
           6,
           "2023-12-13",
           "[Gen 9] OU",
           "2"
          ],
          [
           "Aaron Carter",
           "Evan Sooklal",
           6,
           2,
           "2023-12-13",
           "[Gen 9] OU",
           "3"
          ],
          [
           "Evan Sooklal",
           "Will Simpson",
           0,
           4,
           "2024-01-28",
           "[Gen 9] VGC 2024 Reg F",
           "1"
          ],
          [
           "Roman Ramirez",
           "Aaron Carter",
           2,
           4,
           "2024-01-28",
           "[Gen 9] VGC 2024 Reg F",
           "2"
          ],
          [
           "Aaron Carter",
           "Evan Sooklal",
           3,
           4,
           "2024-01-28",
           "[Gen 9] VGC 2024 Reg F",
           "3"
          ],
          [
           "Will Simpson",
           "Roman Ramirez",
           4,
           2,
           "2024-01-28",
           "[Gen 9] VGC 2024 Reg F",
           "4"
          ],
          [
           "Roman Ramirez",
           "Evan Sooklal",
           0,
           4,
           "2024-01-28",
           "[Gen 9] VGC 2024 Reg F",
           "5"
          ],
          [
           "Will Simpson",
           "Aaron Carter",
           1,
           4,
           "2024-01-28",
           "[Gen 9] VGC 2024 Reg F",
           "6"
          ],
          [
           "Will Simpson",
           "Evan Sooklal",
           4,
           2,
           "2024-01-28",
           "[Gen 9] VGC 2024 Reg F",
           "7"
          ],
          [
           "Aaron Carter",
           "Roman Ramirez",
           4,
           0,
           "2024-01-28",
           "[Gen 9] VGC 2024 Reg F",
           "8"
          ],
          [
           "Evan Sooklal",
           "Aaron Carter",
           3,
           4,
           "2024-01-28",
           "[Gen 9] VGC 2024 Reg F",
           "9"
          ],
          [
           "Roman Ramirez",
           "Will Simpson",
           1,
           4,
           "2024-01-28",
           "[Gen 9] VGC 2024 Reg F",
           "10"
          ],
          [
           "Evan Sooklal",
           "Roman Ramirez",
           4,
           3,
           "2024-01-28",
           "[Gen 9] VGC 2024 Reg F",
           "11"
          ],
          [
           "Aaron Carter",
           "Will Simpson",
           2,
           4,
           "2024-01-28",
           "[Gen 9] VGC 2024 Reg F",
           "12"
          ],
          [
           "Will Simpson",
           "Aaron Carter",
           4,
           0,
           "2024-01-28",
           "[Gen 9] VGC 2024 Reg F",
           "1"
          ],
          [
           "Will Simpson",
           "Aaron Carter",
           4,
           3,
           "2024-01-28",
           "[Gen 9] VGC 2024 Reg F",
           "2"
          ],
          [
           "Aaron Carter",
           "Evan Sooklal",
           4,
           2,
           "2024-02-09",
           "[Gen 9] VGC 2024 Reg F",
           "1a"
          ],
          [
           "Aaron Carter",
           "Evan Sooklal",
           4,
           3,
           "2024-02-09",
           "[Gen 9] VGC 2024 Reg F",
           "1b"
          ],
          [
           "Roman Ramirez",
           "Will Simpson",
           3,
           4,
           "2024-02-09",
           "[Gen 9] VGC 2024 Reg F",
           "2a"
          ],
          [
           "Roman Ramirez",
           "Will Simpson",
           2,
           4,
           "2024-02-09",
           "[Gen 9] VGC 2024 Reg F",
           "2b"
          ],
          [
           "Will Simpson",
           "Aaron Carter",
           2,
           4,
           "2024-02-09",
           "[Gen 9] VGC 2024 Reg F",
           "3a"
          ],
          [
           "Will Simpson",
           "Aaron Carter",
           0,
           4,
           "2024-02-09",
           "[Gen 9] VGC 2024 Reg F",
           "3b"
          ],
          [
           "Evan Sooklal",
           "Roman Ramirez",
           1,
           4,
           "2024-02-09",
           "[Gen 9] VGC 2024 Reg F",
           "4a"
          ],
          [
           "Evan Sooklal",
           "Roman Ramirez",
           4,
           2,
           "2024-02-09",
           "[Gen 9] VGC 2024 Reg F",
           "4b"
          ],
          [
           "Evan Sooklal",
           "Roman Ramirez",
           2,
           4,
           "2024-02-09",
           "[Gen 9] VGC 2024 Reg F",
           "4c"
          ],
          [
           "Roman Ramirez",
           "Aaron Carter",
           4,
           3,
           "2024-02-09",
           "[Gen 9] VGC 2024 Reg F",
           "5a"
          ],
          [
           "Roman Ramirez",
           "Aaron Carter",
           0,
           4,
           "2024-02-09",
           "[Gen 9] VGC 2024 Reg F",
           "5b"
          ],
          [
           "Roman Ramirez",
           "Aaron Carter",
           3,
           4,
           "2024-02-09",
           "[Gen 9] VGC 2024 Reg F",
           "5c"
          ],
          [
           "Evan Sooklal",
           "Will Simpson",
           1,
           4,
           "2024-02-09",
           "[Gen 9] VGC 2024 Reg F",
           "6a"
          ],
          [
           "Evan Sooklal",
           "Will Simpson",
           0,
           4,
           "2024-02-09",
           "[Gen 9] VGC 2024 Reg F",
           "6b"
          ],
          [
           "Aaron Carter",
           "Will Simpson",
           4,
           1,
           "2024-02-09",
           "[Gen 9] VGC 2024 Reg F",
           "1a"
          ],
          [
           "Aaron Carter",
           "Will Simpson",
           4,
           2,
           "2024-02-09",
           "[Gen 9] VGC 2024 Reg F",
           "1b"
          ],
          [
           "Will Simpson",
           "Evan Sooklal",
           6,
           2,
           "2024-02-18",
           "[Gen 9] Doubles UU",
           "1"
          ],
          [
           "Jack Massingill",
           "Roman Ramirez",
           0,
           6,
           "2024-02-18",
           "[Gen 9] Doubles UU",
           "2"
          ],
          [
           "Evan Sooklal",
           "Jack Massingill",
           6,
           3,
           "2024-02-18",
           "[Gen 9] Doubles UU",
           "3"
          ],
          [
           "Aaron Carter",
           "Will Simpson",
           6,
           1,
           "2024-02-18",
           "[Gen 9] Doubles UU",
           "4"
          ],
          [
           "Jack Massingill",
           "Aaron Carter",
           3,
           6,
           "2024-02-18",
           "[Gen 9] Doubles UU",
           "5"
          ],
          [
           "Roman Ramirez",
           "Evan Sooklal",
           6,
           3,
           "2024-02-18",
           "[Gen 9] Doubles UU",
           "6"
          ],
          [
           "Aaron Carter",
           "Roman Ramirez",
           3,
           6,
           "2024-02-18",
           "[Gen 9] Doubles UU",
           "7"
          ],
          [
           "Will Simpson",
           "Jack Massingill",
           6,
           0,
           "2024-02-18",
           "[Gen 9] Doubles UU",
           "8"
          ],
          [
           "Roman Ramirez",
           "Will Simpson",
           6,
           0,
           "2024-02-18",
           "[Gen 9] Doubles UU",
           "9"
          ],
          [
           "Evan Sooklal",
           "Aaron Carter",
           2,
           6,
           "2024-02-18",
           "[Gen 9] Doubles UU",
           "10"
          ],
          [
           "Evan Sooklal",
           "Will Simpson",
           6,
           2,
           "2024-02-18",
           "[Gen 9] Doubles UU",
           "11"
          ],
          [
           "Roman Ramirez",
           "Jack Massingill",
           6,
           1,
           "2024-02-18",
           "[Gen 9] Doubles UU",
           "12"
          ],
          [
           "Jack Massingill",
           "Evan Sooklal",
           0,
           6,
           "2024-02-18",
           "[Gen 9] Doubles UU",
           "13"
          ],
          [
           "Will Simpson",
           "Aaron Carter",
           2,
           6,
           "2024-02-18",
           "[Gen 9] Doubles UU",
           "14"
          ],
          [
           "Aaron Carter",
           "Jack Massingill",
           6,
           4,
           "2024-02-18",
           "[Gen 9] Doubles UU",
           "15"
          ],
          [
           "Evan Sooklal",
           "Roman Ramirez",
           1,
           6,
           "2024-02-18",
           "[Gen 9] Doubles UU",
           "16"
          ],
          [
           "Roman Ramirez",
           "Aaron Carter",
           6,
           5,
           "2024-02-18",
           "[Gen 9] Doubles UU",
           "17"
          ],
          [
           "Jack Massingill",
           "Will Simpson",
           6,
           0,
           "2024-02-18",
           "[Gen 9] Doubles UU",
           "18"
          ],
          [
           "Will Simpson",
           "Roman Ramirez",
           0,
           6,
           "2024-02-18",
           "[Gen 9] Doubles UU",
           "19"
          ],
          [
           "Aaron Carter",
           "Evan Sooklal",
           6,
           5,
           "2024-02-18",
           "[Gen 9] Doubles UU",
           "20"
          ],
          [
           "Roman Ramirez",
           "Aaron Carter",
           6,
           4,
           "2024-02-18",
           "[Gen 9] Doubles UU",
           "1"
          ],
          [
           "Roman Ramirez",
           "Aaron Carter",
           3,
           6,
           "2024-02-18",
           "[Gen 9] Doubles UU",
           "2"
          ],
          [
           "Roman Ramirez",
           "Aaron Carter",
           4,
           6,
           "2024-02-18",
           "[Gen 9] Doubles UU",
           "3"
          ],
          [
           "Lilith Karyadi",
           "Roman Ramirez",
           6,
           3,
           "2024-06-09",
           "[Gen 9] RU",
           "1a"
          ],
          [
           "Lilith Karyadi",
           "Roman Ramirez",
           6,
           3,
           "2024-06-09",
           "[Gen 9] RU",
           "1b"
          ],
          [
           "Evan Sooklal",
           "Will Simpson",
           6,
           5,
           "2024-06-09",
           "[Gen 9] RU",
           "2a"
          ],
          [
           "Evan Sooklal",
           "Will Simpson",
           4,
           6,
           "2024-06-09",
           "[Gen 9] RU",
           "2b"
          ],
          [
           "Evan Sooklal",
           "Will Simpson",
           6,
           5,
           "2024-06-09",
           "[Gen 9] RU",
           "2c"
          ],
          [
           "Will Simpson",
           "Lilith Karyadi",
           6,
           5,
           "2024-06-09",
           "[Gen 9] RU",
           "3a"
          ],
          [
           "Will Simpson",
           "Lilith Karyadi",
           6,
           2,
           "2024-06-09",
           "[Gen 9] RU",
           "3b"
          ],
          [
           "Roman Ramirez",
           "Evan Sooklal",
           4,
           6,
           "2024-06-09",
           "[Gen 9] RU",
           "4a"
          ],
          [
           "Roman Ramirez",
           "Evan Sooklal",
           2,
           6,
           "2024-06-09",
           "[Gen 9] RU",
           "4b"
          ],
          [
           "Evan Sooklal",
           "Lilith Karyadi",
           2,
           6,
           "2024-06-09",
           "[Gen 9] RU",
           "5a"
          ],
          [
           "Evan Sooklal",
           "Lilith Karyadi",
           5,
           6,
           "2024-06-09",
           "[Gen 9] RU",
           "5a"
          ],
          [
           "Roman Ramirez",
           "Will Simpson",
           3,
           6,
           "2024-06-09",
           "[Gen 9] RU",
           "6a"
          ],
          [
           "Roman Ramirez",
           "Will Simpson",
           1,
           6,
           "2024-06-09",
           "[Gen 9] RU",
           "6b"
          ],
          [
           "Evan Sooklal",
           "Lilith Karyadi",
           5,
           6,
           "2024-06-09",
           "[Gen 9] RU",
           "1"
          ],
          [
           "Will Simpson",
           "Lilith Karyadi",
           6,
           5,
           "2024-06-09",
           "[Gen 9] RU",
           "2"
          ]
         ],
         "hovertemplate": "<i>%{customdata[4]|%A, %B %d, %Y}, Game %{x}</i><br><b>%{fullData.name}</b><br><br><b>Format:</b> %{customdata[5]}<br><b>Tournament Match:</b> %{customdata[6]}<br><br><b>%{customdata[0]} vs. %{customdata[1]}</b><br><b>Final Score:</b> %{customdata[2]}-%{customdata[3]}<br>%{text}<b>Post-Game ELO:</b> %{y:,.0f}<br><extra></extra>",
         "legendgrouptitle": {
          "text": "<b>#<i>Rank</i> (<i>Current ELO</i>) <i>Player</i></b>"
         },
         "line": {
          "color": "rgb(230, 131, 16)",
          "shape": "hv"
         },
         "mode": "lines+markers",
         "name": "#7 (1093) Paul Bartenfeld",
         "opacity": 0.8,
         "text": [
          "<br><b>Pre-Game ELO: </b>nan<br><b>Win Probability: </b>nan%<br><br><b>Change in ELO:</b> +nan<br>",
          "<br><b>Pre-Game ELO: </b>1200<br><b>Win Probability: </b>50.0%<br><br><b>Change in ELO:</b> -16<br>",
          "<br><b>Pre-Game ELO: </b>nan<br><b>Win Probability: </b>nan%<br><br><b>Change in ELO:</b> +nan<br>",
          "<br><b>Pre-Game ELO: </b>1184<br><b>Win Probability: </b>41.6%<br><br><b>Change in ELO:</b> -13<br>",
          "<br><b>Pre-Game ELO: </b>1172<br><b>Win Probability: </b>50.0%<br><br><b>Change in ELO:</b> -16<br>",
          "<br><b>Pre-Game ELO: </b>nan<br><b>Win Probability: </b>nan%<br><br><b>Change in ELO:</b> +nan<br>",
          "<br><b>Pre-Game ELO: </b>nan<br><b>Win Probability: </b>nan%<br><br><b>Change in ELO:</b> +nan<br>",
          "<br><b>Pre-Game ELO: </b>1156<br><b>Win Probability: </b>27.6%<br><br><b>Change in ELO:</b> -9<br>",
          "<br><b>Pre-Game ELO: </b>nan<br><b>Win Probability: </b>nan%<br><br><b>Change in ELO:</b> +nan<br>",
          "<br><b>Pre-Game ELO: </b>1148<br><b>Win Probability: </b>29.6%<br><br><b>Change in ELO:</b> -9<br>",
          "<br><b>Pre-Game ELO: </b>1138<br><b>Win Probability: </b>34.8%<br><br><b>Change in ELO:</b> -11<br>",
          "<br><b>Pre-Game ELO: </b>nan<br><b>Win Probability: </b>nan%<br><br><b>Change in ELO:</b> +nan<br>",
          "<br><b>Pre-Game ELO: </b>nan<br><b>Win Probability: </b>nan%<br><br><b>Change in ELO:</b> +nan<br>",
          "<br><b>Pre-Game ELO: </b>nan<br><b>Win Probability: </b>nan%<br><br><b>Change in ELO:</b> +nan<br>",
          "<br><b>Pre-Game ELO: </b>nan<br><b>Win Probability: </b>nan%<br><br><b>Change in ELO:</b> +nan<br>",
          "<br><b>Pre-Game ELO: </b>nan<br><b>Win Probability: </b>nan%<br><br><b>Change in ELO:</b> +nan<br>",
          "<br><b>Pre-Game ELO: </b>1128<br><b>Win Probability: </b>29.3%<br><br><b>Change in ELO:</b> -9<br>",
          "<br><b>Pre-Game ELO: </b>nan<br><b>Win Probability: </b>nan%<br><br><b>Change in ELO:</b> +nan<br>",
          "<br><b>Pre-Game ELO: </b>nan<br><b>Win Probability: </b>nan%<br><br><b>Change in ELO:</b> +nan<br>",
          "<br><b>Pre-Game ELO: </b>nan<br><b>Win Probability: </b>nan%<br><br><b>Change in ELO:</b> +nan<br>",
          "<br><b>Pre-Game ELO: </b>1118<br><b>Win Probability: </b>28.0%<br><br><b>Change in ELO:</b> +22<br>",
          "<br><b>Pre-Game ELO: </b>1141<br><b>Win Probability: </b>31.9%<br><br><b>Change in ELO:</b> -10<br>",
          "<br><b>Pre-Game ELO: </b>nan<br><b>Win Probability: </b>nan%<br><br><b>Change in ELO:</b> +nan<br>",
          "<br><b>Pre-Game ELO: </b>1131<br><b>Win Probability: </b>23.6%<br><br><b>Change in ELO:</b> +24<br>",
          "<br><b>Pre-Game ELO: </b>nan<br><b>Win Probability: </b>nan%<br><br><b>Change in ELO:</b> +nan<br>",
          "<br><b>Pre-Game ELO: </b>nan<br><b>Win Probability: </b>nan%<br><br><b>Change in ELO:</b> +nan<br>",
          "<br><b>Pre-Game ELO: </b>1155<br><b>Win Probability: </b>30.5%<br><br><b>Change in ELO:</b> -9<br>",
          "<br><b>Pre-Game ELO: </b>nan<br><b>Win Probability: </b>nan%<br><br><b>Change in ELO:</b> +nan<br>",
          "<br><b>Pre-Game ELO: </b>nan<br><b>Win Probability: </b>nan%<br><br><b>Change in ELO:</b> +nan<br>",
          "<br><b>Pre-Game ELO: </b>nan<br><b>Win Probability: </b>nan%<br><br><b>Change in ELO:</b> +nan<br>",
          "<br><b>Pre-Game ELO: </b>1145<br><b>Win Probability: </b>33.8%<br><br><b>Change in ELO:</b> -10<br>",
          "<br><b>Pre-Game ELO: </b>1135<br><b>Win Probability: </b>32.0%<br><br><b>Change in ELO:</b> +21<br>",
          "<br><b>Pre-Game ELO: </b>nan<br><b>Win Probability: </b>nan%<br><br><b>Change in ELO:</b> +nan<br>",
          "<br><b>Pre-Game ELO: </b>1156<br><b>Win Probability: </b>38.8%<br><br><b>Change in ELO:</b> +19<br>",
          "<br><b>Pre-Game ELO: </b>nan<br><b>Win Probability: </b>nan%<br><br><b>Change in ELO:</b> +nan<br>",
          "<br><b>Pre-Game ELO: </b>nan<br><b>Win Probability: </b>nan%<br><br><b>Change in ELO:</b> +nan<br>",
          "<br><b>Pre-Game ELO: </b>nan<br><b>Win Probability: </b>nan%<br><br><b>Change in ELO:</b> +nan<br>",
          "<br><b>Pre-Game ELO: </b>1175<br><b>Win Probability: </b>43.5%<br><br><b>Change in ELO:</b> -13<br>",
          "<br><b>Pre-Game ELO: </b>nan<br><b>Win Probability: </b>nan%<br><br><b>Change in ELO:</b> +nan<br>",
          "<br><b>Pre-Game ELO: </b>1161<br><b>Win Probability: </b>49.6%<br><br><b>Change in ELO:</b> -15<br>",
          "<br><b>Pre-Game ELO: </b>nan<br><b>Win Probability: </b>nan%<br><br><b>Change in ELO:</b> +nan<br>",
          "<br><b>Pre-Game ELO: </b>nan<br><b>Win Probability: </b>nan%<br><br><b>Change in ELO:</b> +nan<br>",
          "<br><b>Pre-Game ELO: </b>1146<br><b>Win Probability: </b>36.9%<br><br><b>Change in ELO:</b> -11<br>",
          "<br><b>Pre-Game ELO: </b>nan<br><b>Win Probability: </b>nan%<br><br><b>Change in ELO:</b> +nan<br>",
          "<br><b>Pre-Game ELO: </b>nan<br><b>Win Probability: </b>nan%<br><br><b>Change in ELO:</b> +nan<br>",
          "<br><b>Pre-Game ELO: </b>nan<br><b>Win Probability: </b>nan%<br><br><b>Change in ELO:</b> +nan<br>",
          "<br><b>Pre-Game ELO: </b>1134<br><b>Win Probability: </b>24.1%<br><br><b>Change in ELO:</b> -7<br>",
          "<br><b>Pre-Game ELO: </b>1127<br><b>Win Probability: </b>19.4%<br><br><b>Change in ELO:</b> -6<br>",
          "<br><b>Pre-Game ELO: </b>nan<br><b>Win Probability: </b>nan%<br><br><b>Change in ELO:</b> +nan<br>",
          "<br><b>Pre-Game ELO: </b>1121<br><b>Win Probability: </b>42.9%<br><br><b>Change in ELO:</b> -13<br>",
          "<br><b>Pre-Game ELO: </b>nan<br><b>Win Probability: </b>nan%<br><br><b>Change in ELO:</b> +nan<br>",
          "<br><b>Pre-Game ELO: </b>nan<br><b>Win Probability: </b>nan%<br><br><b>Change in ELO:</b> +nan<br>",
          "<br><b>Pre-Game ELO: </b>1108<br><b>Win Probability: </b>22.0%<br><br><b>Change in ELO:</b> -7<br>",
          "<br><b>Pre-Game ELO: </b>nan<br><b>Win Probability: </b>nan%<br><br><b>Change in ELO:</b> +nan<br>",
          "<br><b>Pre-Game ELO: </b>nan<br><b>Win Probability: </b>nan%<br><br><b>Change in ELO:</b> +nan<br>",
          "<br><b>Pre-Game ELO: </b>nan<br><b>Win Probability: </b>nan%<br><br><b>Change in ELO:</b> +nan<br>",
          "<br><b>Pre-Game ELO: </b>1101<br><b>Win Probability: </b>25.8%<br><br><b>Change in ELO:</b> -8<br>",
          "<br><b>Pre-Game ELO: </b>nan<br><b>Win Probability: </b>nan%<br><br><b>Change in ELO:</b> +nan<br>",
          "<br><b>Pre-Game ELO: </b>nan<br><b>Win Probability: </b>nan%<br><br><b>Change in ELO:</b> +nan<br>",
          "<br><b>Pre-Game ELO: </b>nan<br><b>Win Probability: </b>nan%<br><br><b>Change in ELO:</b> +nan<br>",
          "<br><b>Pre-Game ELO: </b>nan<br><b>Win Probability: </b>nan%<br><br><b>Change in ELO:</b> +nan<br>",
          "<br><b>Pre-Game ELO: </b>nan<br><b>Win Probability: </b>nan%<br><br><b>Change in ELO:</b> +nan<br>",
          "<br><b>Pre-Game ELO: </b>nan<br><b>Win Probability: </b>nan%<br><br><b>Change in ELO:</b> +nan<br>",
          "<br><b>Pre-Game ELO: </b>nan<br><b>Win Probability: </b>nan%<br><br><b>Change in ELO:</b> +nan<br>",
          "<br><b>Pre-Game ELO: </b>nan<br><b>Win Probability: </b>nan%<br><br><b>Change in ELO:</b> +nan<br>",
          "<br><b>Pre-Game ELO: </b>nan<br><b>Win Probability: </b>nan%<br><br><b>Change in ELO:</b> +nan<br>",
          "<br><b>Pre-Game ELO: </b>nan<br><b>Win Probability: </b>nan%<br><br><b>Change in ELO:</b> +nan<br>",
          "<br><b>Pre-Game ELO: </b>nan<br><b>Win Probability: </b>nan%<br><br><b>Change in ELO:</b> +nan<br>",
          "<br><b>Pre-Game ELO: </b>nan<br><b>Win Probability: </b>nan%<br><br><b>Change in ELO:</b> +nan<br>",
          "<br><b>Pre-Game ELO: </b>nan<br><b>Win Probability: </b>nan%<br><br><b>Change in ELO:</b> +nan<br>",
          "<br><b>Pre-Game ELO: </b>nan<br><b>Win Probability: </b>nan%<br><br><b>Change in ELO:</b> +nan<br>",
          "<br><b>Pre-Game ELO: </b>nan<br><b>Win Probability: </b>nan%<br><br><b>Change in ELO:</b> +nan<br>",
          "<br><b>Pre-Game ELO: </b>nan<br><b>Win Probability: </b>nan%<br><br><b>Change in ELO:</b> +nan<br>",
          "<br><b>Pre-Game ELO: </b>nan<br><b>Win Probability: </b>nan%<br><br><b>Change in ELO:</b> +nan<br>",
          "<br><b>Pre-Game ELO: </b>nan<br><b>Win Probability: </b>nan%<br><br><b>Change in ELO:</b> +nan<br>",
          "<br><b>Pre-Game ELO: </b>nan<br><b>Win Probability: </b>nan%<br><br><b>Change in ELO:</b> +nan<br>",
          "<br><b>Pre-Game ELO: </b>nan<br><b>Win Probability: </b>nan%<br><br><b>Change in ELO:</b> +nan<br>",
          "<br><b>Pre-Game ELO: </b>nan<br><b>Win Probability: </b>nan%<br><br><b>Change in ELO:</b> +nan<br>",
          "<br><b>Pre-Game ELO: </b>nan<br><b>Win Probability: </b>nan%<br><br><b>Change in ELO:</b> +nan<br>",
          "<br><b>Pre-Game ELO: </b>nan<br><b>Win Probability: </b>nan%<br><br><b>Change in ELO:</b> +nan<br>",
          "<br><b>Pre-Game ELO: </b>nan<br><b>Win Probability: </b>nan%<br><br><b>Change in ELO:</b> +nan<br>",
          "<br><b>Pre-Game ELO: </b>nan<br><b>Win Probability: </b>nan%<br><br><b>Change in ELO:</b> +nan<br>",
          "<br><b>Pre-Game ELO: </b>nan<br><b>Win Probability: </b>nan%<br><br><b>Change in ELO:</b> +nan<br>",
          "<br><b>Pre-Game ELO: </b>nan<br><b>Win Probability: </b>nan%<br><br><b>Change in ELO:</b> +nan<br>",
          "<br><b>Pre-Game ELO: </b>nan<br><b>Win Probability: </b>nan%<br><br><b>Change in ELO:</b> +nan<br>",
          "<br><b>Pre-Game ELO: </b>nan<br><b>Win Probability: </b>nan%<br><br><b>Change in ELO:</b> +nan<br>",
          "<br><b>Pre-Game ELO: </b>nan<br><b>Win Probability: </b>nan%<br><br><b>Change in ELO:</b> +nan<br>",
          "<br><b>Pre-Game ELO: </b>nan<br><b>Win Probability: </b>nan%<br><br><b>Change in ELO:</b> +nan<br>",
          "<br><b>Pre-Game ELO: </b>nan<br><b>Win Probability: </b>nan%<br><br><b>Change in ELO:</b> +nan<br>",
          "<br><b>Pre-Game ELO: </b>nan<br><b>Win Probability: </b>nan%<br><br><b>Change in ELO:</b> +nan<br>",
          "<br><b>Pre-Game ELO: </b>nan<br><b>Win Probability: </b>nan%<br><br><b>Change in ELO:</b> +nan<br>",
          "<br><b>Pre-Game ELO: </b>nan<br><b>Win Probability: </b>nan%<br><br><b>Change in ELO:</b> +nan<br>",
          "<br><b>Pre-Game ELO: </b>nan<br><b>Win Probability: </b>nan%<br><br><b>Change in ELO:</b> +nan<br>",
          "<br><b>Pre-Game ELO: </b>nan<br><b>Win Probability: </b>nan%<br><br><b>Change in ELO:</b> +nan<br>",
          "<br><b>Pre-Game ELO: </b>nan<br><b>Win Probability: </b>nan%<br><br><b>Change in ELO:</b> +nan<br>",
          "<br><b>Pre-Game ELO: </b>nan<br><b>Win Probability: </b>nan%<br><br><b>Change in ELO:</b> +nan<br>",
          "<br><b>Pre-Game ELO: </b>nan<br><b>Win Probability: </b>nan%<br><br><b>Change in ELO:</b> +nan<br>",
          "<br><b>Pre-Game ELO: </b>nan<br><b>Win Probability: </b>nan%<br><br><b>Change in ELO:</b> +nan<br>",
          "<br><b>Pre-Game ELO: </b>nan<br><b>Win Probability: </b>nan%<br><br><b>Change in ELO:</b> +nan<br>",
          "<br><b>Pre-Game ELO: </b>nan<br><b>Win Probability: </b>nan%<br><br><b>Change in ELO:</b> +nan<br>",
          "<br><b>Pre-Game ELO: </b>nan<br><b>Win Probability: </b>nan%<br><br><b>Change in ELO:</b> +nan<br>",
          "<br><b>Pre-Game ELO: </b>nan<br><b>Win Probability: </b>nan%<br><br><b>Change in ELO:</b> +nan<br>",
          "<br><b>Pre-Game ELO: </b>nan<br><b>Win Probability: </b>nan%<br><br><b>Change in ELO:</b> +nan<br>",
          "<br><b>Pre-Game ELO: </b>nan<br><b>Win Probability: </b>nan%<br><br><b>Change in ELO:</b> +nan<br>",
          "<br><b>Pre-Game ELO: </b>nan<br><b>Win Probability: </b>nan%<br><br><b>Change in ELO:</b> +nan<br>",
          "<br><b>Pre-Game ELO: </b>nan<br><b>Win Probability: </b>nan%<br><br><b>Change in ELO:</b> +nan<br>",
          "<br><b>Pre-Game ELO: </b>nan<br><b>Win Probability: </b>nan%<br><br><b>Change in ELO:</b> +nan<br>",
          "<br><b>Pre-Game ELO: </b>nan<br><b>Win Probability: </b>nan%<br><br><b>Change in ELO:</b> +nan<br>",
          "<br><b>Pre-Game ELO: </b>nan<br><b>Win Probability: </b>nan%<br><br><b>Change in ELO:</b> +nan<br>",
          "<br><b>Pre-Game ELO: </b>nan<br><b>Win Probability: </b>nan%<br><br><b>Change in ELO:</b> +nan<br>",
          "<br><b>Pre-Game ELO: </b>nan<br><b>Win Probability: </b>nan%<br><br><b>Change in ELO:</b> +nan<br>",
          "<br><b>Pre-Game ELO: </b>nan<br><b>Win Probability: </b>nan%<br><br><b>Change in ELO:</b> +nan<br>",
          "<br><b>Pre-Game ELO: </b>nan<br><b>Win Probability: </b>nan%<br><br><b>Change in ELO:</b> +nan<br>",
          "<br><b>Pre-Game ELO: </b>nan<br><b>Win Probability: </b>nan%<br><br><b>Change in ELO:</b> +nan<br>",
          "<br><b>Pre-Game ELO: </b>nan<br><b>Win Probability: </b>nan%<br><br><b>Change in ELO:</b> +nan<br>",
          "<br><b>Pre-Game ELO: </b>nan<br><b>Win Probability: </b>nan%<br><br><b>Change in ELO:</b> +nan<br>",
          "<br><b>Pre-Game ELO: </b>nan<br><b>Win Probability: </b>nan%<br><br><b>Change in ELO:</b> +nan<br>",
          "<br><b>Pre-Game ELO: </b>nan<br><b>Win Probability: </b>nan%<br><br><b>Change in ELO:</b> +nan<br>",
          "<br><b>Pre-Game ELO: </b>nan<br><b>Win Probability: </b>nan%<br><br><b>Change in ELO:</b> +nan<br>",
          "<br><b>Pre-Game ELO: </b>nan<br><b>Win Probability: </b>nan%<br><br><b>Change in ELO:</b> +nan<br>",
          "<br><b>Pre-Game ELO: </b>nan<br><b>Win Probability: </b>nan%<br><br><b>Change in ELO:</b> +nan<br>",
          "<br><b>Pre-Game ELO: </b>nan<br><b>Win Probability: </b>nan%<br><br><b>Change in ELO:</b> +nan<br>",
          "<br><b>Pre-Game ELO: </b>nan<br><b>Win Probability: </b>nan%<br><br><b>Change in ELO:</b> +nan<br>",
          "<br><b>Pre-Game ELO: </b>nan<br><b>Win Probability: </b>nan%<br><br><b>Change in ELO:</b> +nan<br>",
          "<br><b>Pre-Game ELO: </b>nan<br><b>Win Probability: </b>nan%<br><br><b>Change in ELO:</b> +nan<br>",
          "<br><b>Pre-Game ELO: </b>nan<br><b>Win Probability: </b>nan%<br><br><b>Change in ELO:</b> +nan<br>",
          "<br><b>Pre-Game ELO: </b>nan<br><b>Win Probability: </b>nan%<br><br><b>Change in ELO:</b> +nan<br>",
          "<br><b>Pre-Game ELO: </b>nan<br><b>Win Probability: </b>nan%<br><br><b>Change in ELO:</b> +nan<br>"
         ],
         "type": "scatter",
         "x": [
          1,
          2,
          3,
          4,
          5,
          6,
          7,
          8,
          9,
          10,
          11,
          12,
          13,
          14,
          15,
          16,
          17,
          18,
          19,
          20,
          21,
          22,
          23,
          24,
          25,
          26,
          27,
          28,
          29,
          30,
          31,
          32,
          33,
          34,
          35,
          36,
          37,
          38,
          39,
          40,
          41,
          42,
          43,
          44,
          45,
          46,
          47,
          48,
          49,
          50,
          51,
          52,
          53,
          54,
          55,
          56,
          57,
          58,
          59,
          60,
          61,
          62,
          63,
          64,
          65,
          66,
          67,
          68,
          69,
          70,
          71,
          72,
          73,
          74,
          75,
          76,
          77,
          78,
          79,
          80,
          81,
          82,
          83,
          84,
          85,
          86,
          87,
          88,
          89,
          90,
          91,
          92,
          93,
          94,
          95,
          96,
          97,
          98,
          99,
          100,
          101,
          102,
          103,
          104,
          105,
          106,
          107,
          108,
          109,
          110,
          111,
          112,
          113,
          114,
          115,
          116,
          117,
          118,
          119,
          120,
          121,
          122,
          123,
          124,
          125,
          126,
          127,
          128
         ],
         "y": [
          null,
          1184.5,
          null,
          1171.6141968246961,
          1156.1141968246961,
          null,
          null,
          1147.5574480492041,
          null,
          1138.3660964738315,
          1127.5848813539076,
          null,
          null,
          null,
          null,
          null,
          1118.4887658062921,
          null,
          null,
          null,
          1140.8118885235301,
          1130.9149646849257,
          null,
          1154.594709000781,
          null,
          null,
          1145.1351515177491,
          null,
          null,
          null,
          1134.6555871600212,
          1155.7406125587418,
          null,
          1174.7084687294896,
          null,
          null,
          null,
          1161.2123732263994,
          null,
          1145.847442344791,
          null,
          null,
          1134.4119486362379,
          null,
          null,
          null,
          1126.9528026904245,
          1120.934523817579,
          null,
          1107.6455966950925,
          null,
          null,
          1100.8324954376862,
          null,
          null,
          null,
          1092.8424553063014,
          null,
          null,
          null,
          null,
          null,
          null,
          null,
          null,
          null,
          null,
          null,
          null,
          null,
          null,
          null,
          null,
          null,
          null,
          null,
          null,
          null,
          null,
          null,
          null,
          null,
          null,
          null,
          null,
          null,
          null,
          null,
          null,
          null,
          null,
          null,
          null,
          null,
          null,
          null,
          null,
          null,
          null,
          null,
          null,
          null,
          null,
          null,
          null,
          null,
          null,
          null,
          null,
          null,
          null,
          null,
          null,
          null,
          null,
          null,
          null,
          null,
          null,
          null,
          null,
          null,
          null,
          null,
          null,
          null,
          null,
          null
         ]
        }
       ],
       "layout": {
        "annotations": [
         {
          "showarrow": false,
          "text": "2023-11-18",
          "x": 0.5,
          "xanchor": "left",
          "xref": "x",
          "y": 1,
          "yanchor": "top",
          "yref": "y domain"
         },
         {
          "showarrow": false,
          "text": "2023-12-02",
          "x": 15.5,
          "xanchor": "left",
          "xref": "x",
          "y": 1,
          "yanchor": "top",
          "yref": "y domain"
         },
         {
          "showarrow": false,
          "text": "2023-12-13",
          "x": 37.5,
          "xanchor": "left",
          "xref": "x",
          "y": 1,
          "yanchor": "top",
          "yref": "y domain"
         },
         {
          "showarrow": false,
          "text": "2024-01-28",
          "x": 60.5,
          "xanchor": "left",
          "xref": "x",
          "y": 1,
          "yanchor": "top",
          "yref": "y domain"
         },
         {
          "showarrow": false,
          "text": "2024-02-09",
          "x": 74.5,
          "xanchor": "left",
          "xref": "x",
          "y": 1,
          "yanchor": "top",
          "yref": "y domain"
         },
         {
          "showarrow": false,
          "text": "2024-02-18",
          "x": 90.5,
          "xanchor": "left",
          "xref": "x",
          "y": 1,
          "yanchor": "top",
          "yref": "y domain"
         },
         {
          "showarrow": false,
          "text": "2024-06-09",
          "x": 113.5,
          "xanchor": "left",
          "xref": "x",
          "y": 1,
          "yanchor": "top",
          "yref": "y domain"
         }
        ],
        "shapes": [
         {
          "fillcolor": "green",
          "line": {
           "width": 0
          },
          "opacity": 0.1,
          "type": "rect",
          "x0": 0.5,
          "x1": 15.5,
          "xref": "x",
          "y0": 0,
          "y1": 1,
          "yref": "y domain"
         },
         {
          "fillcolor": "red",
          "line": {
           "width": 0
          },
          "opacity": 0.1,
          "type": "rect",
          "x0": 15.5,
          "x1": 37.5,
          "xref": "x",
          "y0": 0,
          "y1": 1,
          "yref": "y domain"
         },
         {
          "fillcolor": "yellow",
          "line": {
           "width": 0
          },
          "opacity": 0.1,
          "type": "rect",
          "x0": 37.5,
          "x1": 60.5,
          "xref": "x",
          "y0": 0,
          "y1": 1,
          "yref": "y domain"
         },
         {
          "fillcolor": "blue",
          "line": {
           "width": 0
          },
          "opacity": 0.1,
          "type": "rect",
          "x0": 60.5,
          "x1": 74.5,
          "xref": "x",
          "y0": 0,
          "y1": 1,
          "yref": "y domain"
         },
         {
          "fillcolor": "orange",
          "line": {
           "width": 0
          },
          "opacity": 0.1,
          "type": "rect",
          "x0": 74.5,
          "x1": 90.5,
          "xref": "x",
          "y0": 0,
          "y1": 1,
          "yref": "y domain"
         },
         {
          "fillcolor": "green",
          "line": {
           "width": 0
          },
          "opacity": 0.1,
          "type": "rect",
          "x0": 90.5,
          "x1": 113.5,
          "xref": "x",
          "y0": 0,
          "y1": 1,
          "yref": "y domain"
         },
         {
          "fillcolor": "red",
          "line": {
           "width": 0
          },
          "opacity": 0.1,
          "type": "rect",
          "x0": 113.5,
          "x1": 128.5,
          "xref": "x",
          "y0": 0,
          "y1": 1,
          "yref": "y domain"
         }
        ],
        "template": {
         "data": {
          "bar": [
           {
            "error_x": {
             "color": "#2a3f5f"
            },
            "error_y": {
             "color": "#2a3f5f"
            },
            "marker": {
             "line": {
              "color": "#E5ECF6",
              "width": 0.5
             },
             "pattern": {
              "fillmode": "overlay",
              "size": 10,
              "solidity": 0.2
             }
            },
            "type": "bar"
           }
          ],
          "barpolar": [
           {
            "marker": {
             "line": {
              "color": "#E5ECF6",
              "width": 0.5
             },
             "pattern": {
              "fillmode": "overlay",
              "size": 10,
              "solidity": 0.2
             }
            },
            "type": "barpolar"
           }
          ],
          "carpet": [
           {
            "aaxis": {
             "endlinecolor": "#2a3f5f",
             "gridcolor": "white",
             "linecolor": "white",
             "minorgridcolor": "white",
             "startlinecolor": "#2a3f5f"
            },
            "baxis": {
             "endlinecolor": "#2a3f5f",
             "gridcolor": "white",
             "linecolor": "white",
             "minorgridcolor": "white",
             "startlinecolor": "#2a3f5f"
            },
            "type": "carpet"
           }
          ],
          "choropleth": [
           {
            "colorbar": {
             "outlinewidth": 0,
             "ticks": ""
            },
            "type": "choropleth"
           }
          ],
          "contour": [
           {
            "colorbar": {
             "outlinewidth": 0,
             "ticks": ""
            },
            "colorscale": [
             [
              0,
              "#0d0887"
             ],
             [
              0.1111111111111111,
              "#46039f"
             ],
             [
              0.2222222222222222,
              "#7201a8"
             ],
             [
              0.3333333333333333,
              "#9c179e"
             ],
             [
              0.4444444444444444,
              "#bd3786"
             ],
             [
              0.5555555555555556,
              "#d8576b"
             ],
             [
              0.6666666666666666,
              "#ed7953"
             ],
             [
              0.7777777777777778,
              "#fb9f3a"
             ],
             [
              0.8888888888888888,
              "#fdca26"
             ],
             [
              1,
              "#f0f921"
             ]
            ],
            "type": "contour"
           }
          ],
          "contourcarpet": [
           {
            "colorbar": {
             "outlinewidth": 0,
             "ticks": ""
            },
            "type": "contourcarpet"
           }
          ],
          "heatmap": [
           {
            "colorbar": {
             "outlinewidth": 0,
             "ticks": ""
            },
            "colorscale": [
             [
              0,
              "#0d0887"
             ],
             [
              0.1111111111111111,
              "#46039f"
             ],
             [
              0.2222222222222222,
              "#7201a8"
             ],
             [
              0.3333333333333333,
              "#9c179e"
             ],
             [
              0.4444444444444444,
              "#bd3786"
             ],
             [
              0.5555555555555556,
              "#d8576b"
             ],
             [
              0.6666666666666666,
              "#ed7953"
             ],
             [
              0.7777777777777778,
              "#fb9f3a"
             ],
             [
              0.8888888888888888,
              "#fdca26"
             ],
             [
              1,
              "#f0f921"
             ]
            ],
            "type": "heatmap"
           }
          ],
          "heatmapgl": [
           {
            "colorbar": {
             "outlinewidth": 0,
             "ticks": ""
            },
            "colorscale": [
             [
              0,
              "#0d0887"
             ],
             [
              0.1111111111111111,
              "#46039f"
             ],
             [
              0.2222222222222222,
              "#7201a8"
             ],
             [
              0.3333333333333333,
              "#9c179e"
             ],
             [
              0.4444444444444444,
              "#bd3786"
             ],
             [
              0.5555555555555556,
              "#d8576b"
             ],
             [
              0.6666666666666666,
              "#ed7953"
             ],
             [
              0.7777777777777778,
              "#fb9f3a"
             ],
             [
              0.8888888888888888,
              "#fdca26"
             ],
             [
              1,
              "#f0f921"
             ]
            ],
            "type": "heatmapgl"
           }
          ],
          "histogram": [
           {
            "marker": {
             "pattern": {
              "fillmode": "overlay",
              "size": 10,
              "solidity": 0.2
             }
            },
            "type": "histogram"
           }
          ],
          "histogram2d": [
           {
            "colorbar": {
             "outlinewidth": 0,
             "ticks": ""
            },
            "colorscale": [
             [
              0,
              "#0d0887"
             ],
             [
              0.1111111111111111,
              "#46039f"
             ],
             [
              0.2222222222222222,
              "#7201a8"
             ],
             [
              0.3333333333333333,
              "#9c179e"
             ],
             [
              0.4444444444444444,
              "#bd3786"
             ],
             [
              0.5555555555555556,
              "#d8576b"
             ],
             [
              0.6666666666666666,
              "#ed7953"
             ],
             [
              0.7777777777777778,
              "#fb9f3a"
             ],
             [
              0.8888888888888888,
              "#fdca26"
             ],
             [
              1,
              "#f0f921"
             ]
            ],
            "type": "histogram2d"
           }
          ],
          "histogram2dcontour": [
           {
            "colorbar": {
             "outlinewidth": 0,
             "ticks": ""
            },
            "colorscale": [
             [
              0,
              "#0d0887"
             ],
             [
              0.1111111111111111,
              "#46039f"
             ],
             [
              0.2222222222222222,
              "#7201a8"
             ],
             [
              0.3333333333333333,
              "#9c179e"
             ],
             [
              0.4444444444444444,
              "#bd3786"
             ],
             [
              0.5555555555555556,
              "#d8576b"
             ],
             [
              0.6666666666666666,
              "#ed7953"
             ],
             [
              0.7777777777777778,
              "#fb9f3a"
             ],
             [
              0.8888888888888888,
              "#fdca26"
             ],
             [
              1,
              "#f0f921"
             ]
            ],
            "type": "histogram2dcontour"
           }
          ],
          "mesh3d": [
           {
            "colorbar": {
             "outlinewidth": 0,
             "ticks": ""
            },
            "type": "mesh3d"
           }
          ],
          "parcoords": [
           {
            "line": {
             "colorbar": {
              "outlinewidth": 0,
              "ticks": ""
             }
            },
            "type": "parcoords"
           }
          ],
          "pie": [
           {
            "automargin": true,
            "type": "pie"
           }
          ],
          "scatter": [
           {
            "fillpattern": {
             "fillmode": "overlay",
             "size": 10,
             "solidity": 0.2
            },
            "type": "scatter"
           }
          ],
          "scatter3d": [
           {
            "line": {
             "colorbar": {
              "outlinewidth": 0,
              "ticks": ""
             }
            },
            "marker": {
             "colorbar": {
              "outlinewidth": 0,
              "ticks": ""
             }
            },
            "type": "scatter3d"
           }
          ],
          "scattercarpet": [
           {
            "marker": {
             "colorbar": {
              "outlinewidth": 0,
              "ticks": ""
             }
            },
            "type": "scattercarpet"
           }
          ],
          "scattergeo": [
           {
            "marker": {
             "colorbar": {
              "outlinewidth": 0,
              "ticks": ""
             }
            },
            "type": "scattergeo"
           }
          ],
          "scattergl": [
           {
            "marker": {
             "colorbar": {
              "outlinewidth": 0,
              "ticks": ""
             }
            },
            "type": "scattergl"
           }
          ],
          "scattermapbox": [
           {
            "marker": {
             "colorbar": {
              "outlinewidth": 0,
              "ticks": ""
             }
            },
            "type": "scattermapbox"
           }
          ],
          "scatterpolar": [
           {
            "marker": {
             "colorbar": {
              "outlinewidth": 0,
              "ticks": ""
             }
            },
            "type": "scatterpolar"
           }
          ],
          "scatterpolargl": [
           {
            "marker": {
             "colorbar": {
              "outlinewidth": 0,
              "ticks": ""
             }
            },
            "type": "scatterpolargl"
           }
          ],
          "scatterternary": [
           {
            "marker": {
             "colorbar": {
              "outlinewidth": 0,
              "ticks": ""
             }
            },
            "type": "scatterternary"
           }
          ],
          "surface": [
           {
            "colorbar": {
             "outlinewidth": 0,
             "ticks": ""
            },
            "colorscale": [
             [
              0,
              "#0d0887"
             ],
             [
              0.1111111111111111,
              "#46039f"
             ],
             [
              0.2222222222222222,
              "#7201a8"
             ],
             [
              0.3333333333333333,
              "#9c179e"
             ],
             [
              0.4444444444444444,
              "#bd3786"
             ],
             [
              0.5555555555555556,
              "#d8576b"
             ],
             [
              0.6666666666666666,
              "#ed7953"
             ],
             [
              0.7777777777777778,
              "#fb9f3a"
             ],
             [
              0.8888888888888888,
              "#fdca26"
             ],
             [
              1,
              "#f0f921"
             ]
            ],
            "type": "surface"
           }
          ],
          "table": [
           {
            "cells": {
             "fill": {
              "color": "#EBF0F8"
             },
             "line": {
              "color": "white"
             }
            },
            "header": {
             "fill": {
              "color": "#C8D4E3"
             },
             "line": {
              "color": "white"
             }
            },
            "type": "table"
           }
          ]
         },
         "layout": {
          "annotationdefaults": {
           "arrowcolor": "#2a3f5f",
           "arrowhead": 0,
           "arrowwidth": 1
          },
          "autotypenumbers": "strict",
          "coloraxis": {
           "colorbar": {
            "outlinewidth": 0,
            "ticks": ""
           }
          },
          "colorscale": {
           "diverging": [
            [
             0,
             "#8e0152"
            ],
            [
             0.1,
             "#c51b7d"
            ],
            [
             0.2,
             "#de77ae"
            ],
            [
             0.3,
             "#f1b6da"
            ],
            [
             0.4,
             "#fde0ef"
            ],
            [
             0.5,
             "#f7f7f7"
            ],
            [
             0.6,
             "#e6f5d0"
            ],
            [
             0.7,
             "#b8e186"
            ],
            [
             0.8,
             "#7fbc41"
            ],
            [
             0.9,
             "#4d9221"
            ],
            [
             1,
             "#276419"
            ]
           ],
           "sequential": [
            [
             0,
             "#0d0887"
            ],
            [
             0.1111111111111111,
             "#46039f"
            ],
            [
             0.2222222222222222,
             "#7201a8"
            ],
            [
             0.3333333333333333,
             "#9c179e"
            ],
            [
             0.4444444444444444,
             "#bd3786"
            ],
            [
             0.5555555555555556,
             "#d8576b"
            ],
            [
             0.6666666666666666,
             "#ed7953"
            ],
            [
             0.7777777777777778,
             "#fb9f3a"
            ],
            [
             0.8888888888888888,
             "#fdca26"
            ],
            [
             1,
             "#f0f921"
            ]
           ],
           "sequentialminus": [
            [
             0,
             "#0d0887"
            ],
            [
             0.1111111111111111,
             "#46039f"
            ],
            [
             0.2222222222222222,
             "#7201a8"
            ],
            [
             0.3333333333333333,
             "#9c179e"
            ],
            [
             0.4444444444444444,
             "#bd3786"
            ],
            [
             0.5555555555555556,
             "#d8576b"
            ],
            [
             0.6666666666666666,
             "#ed7953"
            ],
            [
             0.7777777777777778,
             "#fb9f3a"
            ],
            [
             0.8888888888888888,
             "#fdca26"
            ],
            [
             1,
             "#f0f921"
            ]
           ]
          },
          "colorway": [
           "#636efa",
           "#EF553B",
           "#00cc96",
           "#ab63fa",
           "#FFA15A",
           "#19d3f3",
           "#FF6692",
           "#B6E880",
           "#FF97FF",
           "#FECB52"
          ],
          "font": {
           "color": "#2a3f5f"
          },
          "geo": {
           "bgcolor": "white",
           "lakecolor": "white",
           "landcolor": "#E5ECF6",
           "showlakes": true,
           "showland": true,
           "subunitcolor": "white"
          },
          "hoverlabel": {
           "align": "left"
          },
          "hovermode": "closest",
          "mapbox": {
           "style": "light"
          },
          "paper_bgcolor": "white",
          "plot_bgcolor": "#E5ECF6",
          "polar": {
           "angularaxis": {
            "gridcolor": "white",
            "linecolor": "white",
            "ticks": ""
           },
           "bgcolor": "#E5ECF6",
           "radialaxis": {
            "gridcolor": "white",
            "linecolor": "white",
            "ticks": ""
           }
          },
          "scene": {
           "xaxis": {
            "backgroundcolor": "#E5ECF6",
            "gridcolor": "white",
            "gridwidth": 2,
            "linecolor": "white",
            "showbackground": true,
            "ticks": "",
            "zerolinecolor": "white"
           },
           "yaxis": {
            "backgroundcolor": "#E5ECF6",
            "gridcolor": "white",
            "gridwidth": 2,
            "linecolor": "white",
            "showbackground": true,
            "ticks": "",
            "zerolinecolor": "white"
           },
           "zaxis": {
            "backgroundcolor": "#E5ECF6",
            "gridcolor": "white",
            "gridwidth": 2,
            "linecolor": "white",
            "showbackground": true,
            "ticks": "",
            "zerolinecolor": "white"
           }
          },
          "shapedefaults": {
           "line": {
            "color": "#2a3f5f"
           }
          },
          "ternary": {
           "aaxis": {
            "gridcolor": "white",
            "linecolor": "white",
            "ticks": ""
           },
           "baxis": {
            "gridcolor": "white",
            "linecolor": "white",
            "ticks": ""
           },
           "bgcolor": "#E5ECF6",
           "caxis": {
            "gridcolor": "white",
            "linecolor": "white",
            "ticks": ""
           }
          },
          "title": {
           "x": 0.05
          },
          "xaxis": {
           "automargin": true,
           "gridcolor": "white",
           "linecolor": "white",
           "ticks": "",
           "title": {
            "standoff": 15
           },
           "zerolinecolor": "white",
           "zerolinewidth": 2
          },
          "yaxis": {
           "automargin": true,
           "gridcolor": "white",
           "linecolor": "white",
           "ticks": "",
           "title": {
            "standoff": 15
           },
           "zerolinecolor": "white",
           "zerolinewidth": 2
          }
         }
        },
        "title": {
         "text": "<b>Pokémon Showdown ELO Rating System by Roman Ramirez</b><br><i>Updated Saturday, Jul 06, 2024 22:59:53 CT</i><br><a href='https://htmlpreview.github.io/?https://github.com/notromanramirez/dgn_showdown/blob/main/figures/fig1.html'>H2H Stats</a>, <a href='https://htmlpreview.github.io/?https://github.com/notromanramirez/dgn_showdown/blob/main/figures/fig2.html'>H2H Advanced Stats</a>, <a href='https://htmlpreview.github.io/?https://github.com/notromanramirez/dgn_showdown/blob/main/figures/fig3.html'>H2H More Stats</a>, <a href='https://htmlpreview.github.io/?https://github.com/notromanramirez/dgn_showdown/blob/main/figures/fig4.html'>Player Data</a>, <a href='https://htmlpreview.github.io/?https://github.com/notromanramirez/dgn_showdown/blob/main/figures/fig5.html'>Matches Data</a>, <a href='https://htmlpreview.github.io/?https://github.com/notromanramirez/dgn_showdown/blob/main/figures/fig6.html'>Money-Lines</a>"
        },
        "xaxis": {
         "title": {
          "text": "<b>Game Number</b>"
         }
        },
        "yaxis": {
         "title": {
          "text": "<b>ELO Rating</b>"
         }
        }
       }
      }
     },
     "metadata": {},
     "output_type": "display_data"
    }
   ],
   "source": [
    "import plotly.graph_objects as go\n",
    "import plotly.colors as pc\n",
    "\n",
    "fig = go.Figure()\n",
    "\n",
    "# adding player\n",
    "ranking = 1\n",
    "trace_colors = pc.qualitative.Bold\n",
    "for (i, (player, current_rating)) in enumerate(sorted(elo.items(), key=lambda x:x[1], reverse=True)):\n",
    "    fig.add_trace(go.Scatter(\n",
    "        x=elo_time_table.index,\n",
    "        y=elo_time_table[player],\n",
    "        name=f'#{ranking} ({current_rating:.0f}) {player}',\n",
    "        mode='lines+markers',\n",
    "        connectgaps=True,\n",
    "        text=[\n",
    "            f\"<br><b>Pre-Game ELO: </b>{x[1]:.0f}<br><b>Win Probability: </b>{x[0]:.1%}<br><br><b>Change in ELO:</b> {x[2]:+.0f}<br>\" for x in zip(\n",
    "                exp_elo_time_table[player],\n",
    "                prev_elo_time_table[player],\n",
    "                d_elo_time_table[player]\n",
    "            )\n",
    "        ],\n",
    "        line=dict(\n",
    "            shape='hv',\n",
    "            color=trace_colors[i % len(trace_colors)]\n",
    "        )\n",
    "    ))\n",
    "    ranking += 1\n",
    "\n",
    "# adding highlighting by tournament\n",
    "tournaments = list(sorted(set(matches_table['Date'])))\n",
    "vrect_colors = ['green', 'red', 'yellow', 'blue', 'orange']\n",
    "for (i, tourney) in enumerate(tournaments):\n",
    "    fig.add_vrect(\n",
    "        annotation_text=tourney,\n",
    "        annotation_position=\"top left\",\n",
    "        x0=matches_table['Date'][matches_table['Date'] == tourney].index[0] + 0.5,\n",
    "        x1=matches_table['Date'][matches_table['Date'] == tourney].index[-1] + 1.5,\n",
    "        fillcolor=vrect_colors[i % len(vrect_colors)],\n",
    "        opacity=0.1,\n",
    "        line_width=0\n",
    "    )\n",
    "\n",
    "fig.update_layout(\n",
    "    title=f'<b>Pokémon Showdown ELO Rating System by Roman Ramirez</b><br>{updated_time}<br>{link_fig1}, {link_fig2}, {link_fig3}, {link_fig4}, {link_fig5}, {link_fig6}',\n",
    "    xaxis_title='<b>Game Number</b>',\n",
    "    yaxis_title='<b>ELO Rating</b>'\n",
    ")\n",
    "\n",
    "customdata = np.stack((\n",
    "        list(matches_table['Player 1']),\n",
    "        list(matches_table['Player 2']),\n",
    "        list(matches_table['Score 1']),\n",
    "        list(matches_table['Score 2']),\n",
    "        matches_table['Date'],\n",
    "        list(matches_table['Format']),\n",
    "        list(matches_table['Match Number'])\n",
    "    ), axis=-1)\n",
    "hovertemplate = (\n",
    "    '<i>%{customdata[4]|%A, %B %d, %Y}, Game %{x}</i><br>' +\n",
    "    '<b>%{fullData.name}</b><br><br>' + \n",
    "    '<b>Format:</b> %{customdata[5]}<br>' + \n",
    "    '<b>Tournament Match:</b> %{customdata[6]}<br><br>' + \n",
    "    '<b>%{customdata[0]} vs. %{customdata[1]}</b><br>' +\n",
    "    '<b>Final Score:</b> %{customdata[2]}-%{customdata[3]}<br>' + \n",
    "    '%{text}' + \n",
    "    '<b>Post-Game ELO:</b> %{y:,.0f}<br>' +\n",
    "    '<extra></extra>'\n",
    ")\n",
    "\n",
    "fig.update_traces(\n",
    "    customdata=customdata,\n",
    "    hovertemplate=hovertemplate,\n",
    "    opacity=0.8,\n",
    "    legendgrouptitle_text='<b>#<i>Rank</i> (<i>Current ELO</i>) <i>Player</i></b>'\n",
    ")\n",
    "\n",
    "fig.show()\n",
    "fig.write_html(\"index.html\")"
   ]
  },
  {
   "cell_type": "code",
   "execution_count": null,
   "metadata": {},
   "outputs": [],
   "source": []
  },
  {
   "cell_type": "code",
   "execution_count": 8,
   "metadata": {},
   "outputs": [],
   "source": [
    "# historical table, with record_table\n",
    "win_pct_table = record_table.copy(deep=True)\n",
    "text_record_table = record_table.copy(deep=True)\n",
    "\n",
    "for c in win_pct_table.columns:\n",
    "    for r in win_pct_table.index:\n",
    "        if c == r:\n",
    "            win_pct_table.loc[r, c] = np.NaN\n",
    "            text_record_table.loc[r, c] = \"\"\n",
    "        else:\n",
    "            w, l = win_pct_table.loc[r, c]\n",
    "            w_pct = (w) / (w + l) if (w + l) != 0 else 0\n",
    "            win_pct_table.loc[r, c] = w_pct\n",
    "            text_record_table.loc[r, c] = f\"{w}-{l}<br>{w_pct:,.1%}\"\n",
    "\n",
    "\n",
    "for c in record_table.columns:\n",
    "    for r in record_table.index:\n",
    "        if sum(record_table.loc[r, c]) == 0:\n",
    "            text_record_table.loc[r, c] = \"\"\n",
    "            win_pct_table.loc[r, c] = np.NaN\n",
    "\n",
    "win_prob_table = pd.DataFrame(np.zeros([len(set_players), len(set_players)]), dtype=object)\n",
    "win_prob_table.columns = set_players\n",
    "win_prob_table.index = set_players\n",
    "sort_index_by_elo(win_prob_table, elo)\n",
    "\n",
    "for c in win_prob_table.columns:\n",
    "    for r in win_prob_table.index:\n",
    "            if r != c:\n",
    "                win_prob_table.loc[r, c] = expected_score(elo[r], elo[c], base=base)\n",
    "            else:\n",
    "                win_prob_table.loc[r, c] = np.NaN\n"
   ]
  },
  {
   "cell_type": "code",
   "execution_count": 9,
   "metadata": {},
   "outputs": [
    {
     "data": {
      "application/vnd.plotly.v1+json": {
       "config": {
        "plotlyServerURL": "https://plot.ly"
       },
       "data": [
        {
         "colorscale": [
          [
           0,
           "rgb(5,48,97)"
          ],
          [
           0.1,
           "rgb(33,102,172)"
          ],
          [
           0.2,
           "rgb(67,147,195)"
          ],
          [
           0.3,
           "rgb(146,197,222)"
          ],
          [
           0.4,
           "rgb(209,229,240)"
          ],
          [
           0.5,
           "rgb(247,247,247)"
          ],
          [
           0.6,
           "rgb(253,219,199)"
          ],
          [
           0.7,
           "rgb(244,165,130)"
          ],
          [
           0.8,
           "rgb(214,96,77)"
          ],
          [
           0.9,
           "rgb(178,24,43)"
          ],
          [
           1,
           "rgb(103,0,31)"
          ]
         ],
         "hoverinfo": "skip",
         "hoverongaps": false,
         "text": [
          [
           "",
           "",
           "2-4<br>33.3%",
           "1-5<br>16.7%",
           "",
           "0-6<br>0.0%",
           "1-3<br>25.0%"
          ],
          [
           "",
           "",
           "0-2<br>0.0%",
           "0-2<br>0.0%",
           "",
           "1-1<br>50.0%",
           "0-2<br>0.0%"
          ],
          [
           "4-2<br>66.7%",
           "2-0<br>100.0%",
           "",
           "5-10<br>33.3%",
           "0-2<br>0.0%",
           "8-9<br>47.1%",
           "5-9<br>35.7%"
          ],
          [
           "5-1<br>83.3%",
           "2-0<br>100.0%",
           "10-5<br>66.7%",
           "",
           "0-3<br>0.0%",
           "5-12<br>29.4%",
           "3-10<br>23.1%"
          ],
          [
           "",
           "",
           "2-0<br>100.0%",
           "3-0<br>100.0%",
           "",
           "0-3<br>0.0%",
           ""
          ],
          [
           "6-0<br>100.0%",
           "1-1<br>50.0%",
           "9-8<br>52.9%",
           "12-5<br>70.6%",
           "3-0<br>100.0%",
           "",
           "4-10<br>28.6%"
          ],
          [
           "3-1<br>75.0%",
           "2-0<br>100.0%",
           "9-5<br>64.3%",
           "10-3<br>76.9%",
           "",
           "10-4<br>71.4%",
           ""
          ]
         ],
         "texttemplate": "%{text}",
         "type": "heatmap",
         "x": [
          "Paul<br>Bartenfeld",
          "Jack<br>Massingill",
          "Roman<br>Ramirez",
          "Evan<br>Sooklal",
          "Lilith<br>Karyadi",
          "Will<br>Simpson",
          "Aaron<br>Carter"
         ],
         "xaxis": "x",
         "y": [
          "Paul<br>Bartenfeld",
          "Jack<br>Massingill",
          "Roman<br>Ramirez",
          "Evan<br>Sooklal",
          "Lilith<br>Karyadi",
          "Will<br>Simpson",
          "Aaron<br>Carter"
         ],
         "yaxis": "y",
         "z": [
          [
           null,
           null,
           0.3333333333333333,
           0.16666666666666666,
           null,
           0,
           0.25
          ],
          [
           null,
           null,
           0,
           0,
           null,
           0.5,
           0
          ],
          [
           0.6666666666666666,
           1,
           null,
           0.3333333333333333,
           0,
           0.47058823529411764,
           0.35714285714285715
          ],
          [
           0.8333333333333334,
           1,
           0.6666666666666666,
           null,
           0,
           0.29411764705882354,
           0.23076923076923078
          ],
          [
           null,
           null,
           1,
           1,
           null,
           0,
           null
          ],
          [
           1,
           0.5,
           0.5294117647058824,
           0.7058823529411765,
           1,
           null,
           0.2857142857142857
          ],
          [
           0.75,
           1,
           0.6428571428571429,
           0.7692307692307693,
           null,
           0.7142857142857143,
           null
          ]
         ],
         "zmax": 1,
         "zmid": 0.5,
         "zmin": 0
        },
        {
         "colorscale": [
          [
           0,
           "rgb(5,48,97)"
          ],
          [
           0.1,
           "rgb(33,102,172)"
          ],
          [
           0.2,
           "rgb(67,147,195)"
          ],
          [
           0.3,
           "rgb(146,197,222)"
          ],
          [
           0.4,
           "rgb(209,229,240)"
          ],
          [
           0.5,
           "rgb(247,247,247)"
          ],
          [
           0.6,
           "rgb(253,219,199)"
          ],
          [
           0.7,
           "rgb(244,165,130)"
          ],
          [
           0.8,
           "rgb(214,96,77)"
          ],
          [
           0.9,
           "rgb(178,24,43)"
          ],
          [
           1,
           "rgb(103,0,31)"
          ]
         ],
         "hoverinfo": "skip",
         "hoverongaps": false,
         "text": [
          [
           "",
           "35.0%",
           "29.3%",
           "28.1%",
           "18.5%",
           "15.0%",
           "7.1%"
          ],
          [
           "65.0%",
           "",
           "43.4%",
           "42.1%",
           "29.6%",
           "24.6%",
           "12.4%"
          ],
          [
           "70.7%",
           "56.6%",
           "",
           "48.6%",
           "35.4%",
           "29.8%",
           "15.5%"
          ],
          [
           "71.9%",
           "57.9%",
           "51.4%",
           "",
           "36.6%",
           "31.0%",
           "16.2%"
          ],
          [
           "81.5%",
           "70.4%",
           "64.6%",
           "63.4%",
           "",
           "43.7%",
           "25.1%"
          ],
          [
           "85.0%",
           "75.4%",
           "70.2%",
           "69.0%",
           "56.3%",
           "",
           "30.2%"
          ],
          [
           "92.9%",
           "87.6%",
           "84.5%",
           "83.8%",
           "74.9%",
           "69.8%",
           ""
          ]
         ],
         "texttemplate": "%{text}",
         "type": "heatmap",
         "x": [
          "Paul<br>Bartenfeld",
          "Jack<br>Massingill",
          "Roman<br>Ramirez",
          "Evan<br>Sooklal",
          "Lilith<br>Karyadi",
          "Will<br>Simpson",
          "Aaron<br>Carter"
         ],
         "xaxis": "x2",
         "y": [
          "Paul<br>Bartenfeld",
          "Jack<br>Massingill",
          "Roman<br>Ramirez",
          "Evan<br>Sooklal",
          "Lilith<br>Karyadi",
          "Will<br>Simpson",
          "Aaron<br>Carter"
         ],
         "yaxis": "y2",
         "z": [
          [
           null,
           0.35002613257967097,
           0.2925686253226899,
           0.28139353321936306,
           0.1846928030671713,
           0.14954930764577262,
           0.07054910883709642
          ],
          [
           0.649973867420329,
           null,
           0.4343764908161998,
           0.4210083550309316,
           0.2960984070859715,
           0.2461567479845719,
           0.12353626373797795
          ],
          [
           0.7074313746773101,
           0.5656235091838003,
           null,
           0.48634880901171207,
           0.35390233809190275,
           0.29834340648207314,
           0.15507440275756088
          ],
          [
           0.718606466780637,
           0.5789916449690684,
           0.5136511909882879,
           null,
           0.3664884233421802,
           0.3099013430877407,
           0.1623664065427281
          ],
          [
           0.8153071969328287,
           0.7039015929140285,
           0.6460976619080973,
           0.6335115766578199,
           null,
           0.43701899450154363,
           0.2509759686364051
          ],
          [
           0.8504506923542273,
           0.7538432520154281,
           0.7016565935179269,
           0.6900986569122592,
           0.5629810054984564,
           null,
           0.3015043207928727
          ],
          [
           0.9294508911629036,
           0.876463736262022,
           0.8449255972424391,
           0.8376335934572718,
           0.749024031363595,
           0.6984956792071273,
           null
          ]
         ],
         "zmax": 1,
         "zmid": 0.5,
         "zmin": 0
        }
       ],
       "layout": {
        "annotations": [
         {
          "font": {
           "size": 16
          },
          "showarrow": false,
          "text": "<b>Historical Win Percentage</b>",
          "x": 0.225,
          "xanchor": "center",
          "xref": "paper",
          "y": 1,
          "yanchor": "bottom",
          "yref": "paper"
         },
         {
          "font": {
           "size": 16
          },
          "showarrow": false,
          "text": "<b>Current Matchup Predictor</b>",
          "x": 0.775,
          "xanchor": "center",
          "xref": "paper",
          "y": 1,
          "yanchor": "bottom",
          "yref": "paper"
         },
         {
          "font": {
           "size": 16
          },
          "showarrow": false,
          "text": "<a href='https://htmlpreview.github.io/?https://github.com/notromanramirez/dgn_showdown/blob/main/index.html'>ELO Graph</a>, <a href='https://htmlpreview.github.io/?https://github.com/notromanramirez/dgn_showdown/blob/main/figures/fig2.html'>H2H Advanced Stats</a>, <a href='https://htmlpreview.github.io/?https://github.com/notromanramirez/dgn_showdown/blob/main/figures/fig3.html'>H2H More Stats</a>, <a href='https://htmlpreview.github.io/?https://github.com/notromanramirez/dgn_showdown/blob/main/figures/fig4.html'>Player Data</a>, <a href='https://htmlpreview.github.io/?https://github.com/notromanramirez/dgn_showdown/blob/main/figures/fig5.html'>Matches Data</a>, <a href='https://htmlpreview.github.io/?https://github.com/notromanramirez/dgn_showdown/blob/main/figures/fig6.html'>Money-Lines</a>",
          "x": 0.5,
          "xanchor": "center",
          "xref": "paper",
          "y": 0,
          "yanchor": "top",
          "yref": "paper",
          "yshift": -30
         }
        ],
        "template": {
         "data": {
          "bar": [
           {
            "error_x": {
             "color": "#2a3f5f"
            },
            "error_y": {
             "color": "#2a3f5f"
            },
            "marker": {
             "line": {
              "color": "#E5ECF6",
              "width": 0.5
             },
             "pattern": {
              "fillmode": "overlay",
              "size": 10,
              "solidity": 0.2
             }
            },
            "type": "bar"
           }
          ],
          "barpolar": [
           {
            "marker": {
             "line": {
              "color": "#E5ECF6",
              "width": 0.5
             },
             "pattern": {
              "fillmode": "overlay",
              "size": 10,
              "solidity": 0.2
             }
            },
            "type": "barpolar"
           }
          ],
          "carpet": [
           {
            "aaxis": {
             "endlinecolor": "#2a3f5f",
             "gridcolor": "white",
             "linecolor": "white",
             "minorgridcolor": "white",
             "startlinecolor": "#2a3f5f"
            },
            "baxis": {
             "endlinecolor": "#2a3f5f",
             "gridcolor": "white",
             "linecolor": "white",
             "minorgridcolor": "white",
             "startlinecolor": "#2a3f5f"
            },
            "type": "carpet"
           }
          ],
          "choropleth": [
           {
            "colorbar": {
             "outlinewidth": 0,
             "ticks": ""
            },
            "type": "choropleth"
           }
          ],
          "contour": [
           {
            "colorbar": {
             "outlinewidth": 0,
             "ticks": ""
            },
            "colorscale": [
             [
              0,
              "#0d0887"
             ],
             [
              0.1111111111111111,
              "#46039f"
             ],
             [
              0.2222222222222222,
              "#7201a8"
             ],
             [
              0.3333333333333333,
              "#9c179e"
             ],
             [
              0.4444444444444444,
              "#bd3786"
             ],
             [
              0.5555555555555556,
              "#d8576b"
             ],
             [
              0.6666666666666666,
              "#ed7953"
             ],
             [
              0.7777777777777778,
              "#fb9f3a"
             ],
             [
              0.8888888888888888,
              "#fdca26"
             ],
             [
              1,
              "#f0f921"
             ]
            ],
            "type": "contour"
           }
          ],
          "contourcarpet": [
           {
            "colorbar": {
             "outlinewidth": 0,
             "ticks": ""
            },
            "type": "contourcarpet"
           }
          ],
          "heatmap": [
           {
            "colorbar": {
             "outlinewidth": 0,
             "ticks": ""
            },
            "colorscale": [
             [
              0,
              "#0d0887"
             ],
             [
              0.1111111111111111,
              "#46039f"
             ],
             [
              0.2222222222222222,
              "#7201a8"
             ],
             [
              0.3333333333333333,
              "#9c179e"
             ],
             [
              0.4444444444444444,
              "#bd3786"
             ],
             [
              0.5555555555555556,
              "#d8576b"
             ],
             [
              0.6666666666666666,
              "#ed7953"
             ],
             [
              0.7777777777777778,
              "#fb9f3a"
             ],
             [
              0.8888888888888888,
              "#fdca26"
             ],
             [
              1,
              "#f0f921"
             ]
            ],
            "type": "heatmap"
           }
          ],
          "heatmapgl": [
           {
            "colorbar": {
             "outlinewidth": 0,
             "ticks": ""
            },
            "colorscale": [
             [
              0,
              "#0d0887"
             ],
             [
              0.1111111111111111,
              "#46039f"
             ],
             [
              0.2222222222222222,
              "#7201a8"
             ],
             [
              0.3333333333333333,
              "#9c179e"
             ],
             [
              0.4444444444444444,
              "#bd3786"
             ],
             [
              0.5555555555555556,
              "#d8576b"
             ],
             [
              0.6666666666666666,
              "#ed7953"
             ],
             [
              0.7777777777777778,
              "#fb9f3a"
             ],
             [
              0.8888888888888888,
              "#fdca26"
             ],
             [
              1,
              "#f0f921"
             ]
            ],
            "type": "heatmapgl"
           }
          ],
          "histogram": [
           {
            "marker": {
             "pattern": {
              "fillmode": "overlay",
              "size": 10,
              "solidity": 0.2
             }
            },
            "type": "histogram"
           }
          ],
          "histogram2d": [
           {
            "colorbar": {
             "outlinewidth": 0,
             "ticks": ""
            },
            "colorscale": [
             [
              0,
              "#0d0887"
             ],
             [
              0.1111111111111111,
              "#46039f"
             ],
             [
              0.2222222222222222,
              "#7201a8"
             ],
             [
              0.3333333333333333,
              "#9c179e"
             ],
             [
              0.4444444444444444,
              "#bd3786"
             ],
             [
              0.5555555555555556,
              "#d8576b"
             ],
             [
              0.6666666666666666,
              "#ed7953"
             ],
             [
              0.7777777777777778,
              "#fb9f3a"
             ],
             [
              0.8888888888888888,
              "#fdca26"
             ],
             [
              1,
              "#f0f921"
             ]
            ],
            "type": "histogram2d"
           }
          ],
          "histogram2dcontour": [
           {
            "colorbar": {
             "outlinewidth": 0,
             "ticks": ""
            },
            "colorscale": [
             [
              0,
              "#0d0887"
             ],
             [
              0.1111111111111111,
              "#46039f"
             ],
             [
              0.2222222222222222,
              "#7201a8"
             ],
             [
              0.3333333333333333,
              "#9c179e"
             ],
             [
              0.4444444444444444,
              "#bd3786"
             ],
             [
              0.5555555555555556,
              "#d8576b"
             ],
             [
              0.6666666666666666,
              "#ed7953"
             ],
             [
              0.7777777777777778,
              "#fb9f3a"
             ],
             [
              0.8888888888888888,
              "#fdca26"
             ],
             [
              1,
              "#f0f921"
             ]
            ],
            "type": "histogram2dcontour"
           }
          ],
          "mesh3d": [
           {
            "colorbar": {
             "outlinewidth": 0,
             "ticks": ""
            },
            "type": "mesh3d"
           }
          ],
          "parcoords": [
           {
            "line": {
             "colorbar": {
              "outlinewidth": 0,
              "ticks": ""
             }
            },
            "type": "parcoords"
           }
          ],
          "pie": [
           {
            "automargin": true,
            "type": "pie"
           }
          ],
          "scatter": [
           {
            "fillpattern": {
             "fillmode": "overlay",
             "size": 10,
             "solidity": 0.2
            },
            "type": "scatter"
           }
          ],
          "scatter3d": [
           {
            "line": {
             "colorbar": {
              "outlinewidth": 0,
              "ticks": ""
             }
            },
            "marker": {
             "colorbar": {
              "outlinewidth": 0,
              "ticks": ""
             }
            },
            "type": "scatter3d"
           }
          ],
          "scattercarpet": [
           {
            "marker": {
             "colorbar": {
              "outlinewidth": 0,
              "ticks": ""
             }
            },
            "type": "scattercarpet"
           }
          ],
          "scattergeo": [
           {
            "marker": {
             "colorbar": {
              "outlinewidth": 0,
              "ticks": ""
             }
            },
            "type": "scattergeo"
           }
          ],
          "scattergl": [
           {
            "marker": {
             "colorbar": {
              "outlinewidth": 0,
              "ticks": ""
             }
            },
            "type": "scattergl"
           }
          ],
          "scattermapbox": [
           {
            "marker": {
             "colorbar": {
              "outlinewidth": 0,
              "ticks": ""
             }
            },
            "type": "scattermapbox"
           }
          ],
          "scatterpolar": [
           {
            "marker": {
             "colorbar": {
              "outlinewidth": 0,
              "ticks": ""
             }
            },
            "type": "scatterpolar"
           }
          ],
          "scatterpolargl": [
           {
            "marker": {
             "colorbar": {
              "outlinewidth": 0,
              "ticks": ""
             }
            },
            "type": "scatterpolargl"
           }
          ],
          "scatterternary": [
           {
            "marker": {
             "colorbar": {
              "outlinewidth": 0,
              "ticks": ""
             }
            },
            "type": "scatterternary"
           }
          ],
          "surface": [
           {
            "colorbar": {
             "outlinewidth": 0,
             "ticks": ""
            },
            "colorscale": [
             [
              0,
              "#0d0887"
             ],
             [
              0.1111111111111111,
              "#46039f"
             ],
             [
              0.2222222222222222,
              "#7201a8"
             ],
             [
              0.3333333333333333,
              "#9c179e"
             ],
             [
              0.4444444444444444,
              "#bd3786"
             ],
             [
              0.5555555555555556,
              "#d8576b"
             ],
             [
              0.6666666666666666,
              "#ed7953"
             ],
             [
              0.7777777777777778,
              "#fb9f3a"
             ],
             [
              0.8888888888888888,
              "#fdca26"
             ],
             [
              1,
              "#f0f921"
             ]
            ],
            "type": "surface"
           }
          ],
          "table": [
           {
            "cells": {
             "fill": {
              "color": "#EBF0F8"
             },
             "line": {
              "color": "white"
             }
            },
            "header": {
             "fill": {
              "color": "#C8D4E3"
             },
             "line": {
              "color": "white"
             }
            },
            "type": "table"
           }
          ]
         },
         "layout": {
          "annotationdefaults": {
           "arrowcolor": "#2a3f5f",
           "arrowhead": 0,
           "arrowwidth": 1
          },
          "autotypenumbers": "strict",
          "coloraxis": {
           "colorbar": {
            "outlinewidth": 0,
            "ticks": ""
           }
          },
          "colorscale": {
           "diverging": [
            [
             0,
             "#8e0152"
            ],
            [
             0.1,
             "#c51b7d"
            ],
            [
             0.2,
             "#de77ae"
            ],
            [
             0.3,
             "#f1b6da"
            ],
            [
             0.4,
             "#fde0ef"
            ],
            [
             0.5,
             "#f7f7f7"
            ],
            [
             0.6,
             "#e6f5d0"
            ],
            [
             0.7,
             "#b8e186"
            ],
            [
             0.8,
             "#7fbc41"
            ],
            [
             0.9,
             "#4d9221"
            ],
            [
             1,
             "#276419"
            ]
           ],
           "sequential": [
            [
             0,
             "#0d0887"
            ],
            [
             0.1111111111111111,
             "#46039f"
            ],
            [
             0.2222222222222222,
             "#7201a8"
            ],
            [
             0.3333333333333333,
             "#9c179e"
            ],
            [
             0.4444444444444444,
             "#bd3786"
            ],
            [
             0.5555555555555556,
             "#d8576b"
            ],
            [
             0.6666666666666666,
             "#ed7953"
            ],
            [
             0.7777777777777778,
             "#fb9f3a"
            ],
            [
             0.8888888888888888,
             "#fdca26"
            ],
            [
             1,
             "#f0f921"
            ]
           ],
           "sequentialminus": [
            [
             0,
             "#0d0887"
            ],
            [
             0.1111111111111111,
             "#46039f"
            ],
            [
             0.2222222222222222,
             "#7201a8"
            ],
            [
             0.3333333333333333,
             "#9c179e"
            ],
            [
             0.4444444444444444,
             "#bd3786"
            ],
            [
             0.5555555555555556,
             "#d8576b"
            ],
            [
             0.6666666666666666,
             "#ed7953"
            ],
            [
             0.7777777777777778,
             "#fb9f3a"
            ],
            [
             0.8888888888888888,
             "#fdca26"
            ],
            [
             1,
             "#f0f921"
            ]
           ]
          },
          "colorway": [
           "#636efa",
           "#EF553B",
           "#00cc96",
           "#ab63fa",
           "#FFA15A",
           "#19d3f3",
           "#FF6692",
           "#B6E880",
           "#FF97FF",
           "#FECB52"
          ],
          "font": {
           "color": "#2a3f5f"
          },
          "geo": {
           "bgcolor": "white",
           "lakecolor": "white",
           "landcolor": "#E5ECF6",
           "showlakes": true,
           "showland": true,
           "subunitcolor": "white"
          },
          "hoverlabel": {
           "align": "left"
          },
          "hovermode": "closest",
          "mapbox": {
           "style": "light"
          },
          "paper_bgcolor": "white",
          "plot_bgcolor": "#E5ECF6",
          "polar": {
           "angularaxis": {
            "gridcolor": "white",
            "linecolor": "white",
            "ticks": ""
           },
           "bgcolor": "#E5ECF6",
           "radialaxis": {
            "gridcolor": "white",
            "linecolor": "white",
            "ticks": ""
           }
          },
          "scene": {
           "xaxis": {
            "backgroundcolor": "#E5ECF6",
            "gridcolor": "white",
            "gridwidth": 2,
            "linecolor": "white",
            "showbackground": true,
            "ticks": "",
            "zerolinecolor": "white"
           },
           "yaxis": {
            "backgroundcolor": "#E5ECF6",
            "gridcolor": "white",
            "gridwidth": 2,
            "linecolor": "white",
            "showbackground": true,
            "ticks": "",
            "zerolinecolor": "white"
           },
           "zaxis": {
            "backgroundcolor": "#E5ECF6",
            "gridcolor": "white",
            "gridwidth": 2,
            "linecolor": "white",
            "showbackground": true,
            "ticks": "",
            "zerolinecolor": "white"
           }
          },
          "shapedefaults": {
           "line": {
            "color": "#2a3f5f"
           }
          },
          "ternary": {
           "aaxis": {
            "gridcolor": "white",
            "linecolor": "white",
            "ticks": ""
           },
           "baxis": {
            "gridcolor": "white",
            "linecolor": "white",
            "ticks": ""
           },
           "bgcolor": "#E5ECF6",
           "caxis": {
            "gridcolor": "white",
            "linecolor": "white",
            "ticks": ""
           }
          },
          "title": {
           "x": 0.05
          },
          "xaxis": {
           "automargin": true,
           "gridcolor": "white",
           "linecolor": "white",
           "ticks": "",
           "title": {
            "standoff": 15
           },
           "zerolinecolor": "white",
           "zerolinewidth": 2
          },
          "yaxis": {
           "automargin": true,
           "gridcolor": "white",
           "linecolor": "white",
           "ticks": "",
           "title": {
            "standoff": 15
           },
           "zerolinecolor": "white",
           "zerolinewidth": 2
          }
         }
        },
        "title": {
         "text": "<b>Head-to-Head Statistics</b>, <i>Updated Saturday, Jul 06, 2024 22:59:53 CT</i>"
        },
        "xaxis": {
         "anchor": "y",
         "domain": [
          0,
          0.45
         ],
         "title": {
          "text": "<b>Other</b>"
         }
        },
        "xaxis2": {
         "anchor": "y2",
         "domain": [
          0.55,
          1
         ],
         "title": {
          "text": "<b>Other</b>"
         }
        },
        "yaxis": {
         "anchor": "x",
         "domain": [
          0,
          1
         ],
         "title": {
          "text": "<b>Self</b>"
         }
        },
        "yaxis2": {
         "anchor": "x2",
         "domain": [
          0,
          1
         ],
         "title": {
          "text": "<b>Self</b>"
         }
        }
       }
      }
     },
     "metadata": {},
     "output_type": "display_data"
    }
   ],
   "source": [
    "fig1 = make_subplots(\n",
    "    rows=1, cols=2,\n",
    "    subplot_titles=[f\"<b>{x}</b>\" for x in [\"Historical Win Percentage\", \"Current Matchup Predictor\"]],\n",
    "    x_title=f\"{link_fig}, {link_fig2}, {link_fig3}, {link_fig4}, {link_fig5}, {link_fig6}\"\n",
    ")\n",
    "\n",
    "go_win_pct = go.Heatmap(\n",
    "    x=[x.replace(\" \", \"<br>\") for x in win_prob_table.columns],\n",
    "    y=[x.replace(\" \", \"<br>\") for x in win_prob_table.index],\n",
    "    z=win_pct_table,\n",
    "    zmax=1,\n",
    "    zmid=0.5,\n",
    "    zmin=0,\n",
    "    text=text_record_table,\n",
    "    texttemplate=\"%{text}\",\n",
    "    colorscale=diverging.RdBu_r,\n",
    "    hoverongaps=False\n",
    ")\n",
    "\n",
    "go_win_prob = go.Heatmap(\n",
    "    x=[x.replace(\" \", \"<br>\") for x in win_prob_table.columns],\n",
    "    y=[x.replace(\" \", \"<br>\") for x in win_prob_table.index],\n",
    "    z=win_prob_table,\n",
    "    zmax=1,\n",
    "    zmid=0.5,\n",
    "    zmin=0,\n",
    "    text=win_prob_table.applymap(lambda x: \"\" if np.isnan(x) else f\"{x:.1%}\"),\n",
    "    texttemplate=\"%{text}\",\n",
    "    colorscale=diverging.RdBu_r,\n",
    "    hoverongaps=False\n",
    ")\n",
    "\n",
    "fig1.add_trace(go_win_pct, row=1, col=1)\n",
    "fig1.add_trace(go_win_prob, row=1, col=2)\n",
    "\n",
    "fig1.layout.yaxis1.title=\"<b>Self</b>\"\n",
    "fig1.layout.yaxis2.title=\"<b>Self</b>\"\n",
    "fig1.layout.xaxis1.title=\"<b>Other</b>\"\n",
    "fig1.layout.xaxis2.title=\"<b>Other</b>\"\n",
    "\n",
    "fig1.update_traces(hoverinfo='skip')\n",
    "\n",
    "fig1.update_layout(\n",
    "    title=f\"<b>Head-to-Head Statistics</b>, {updated_time}\"\n",
    ")\n",
    "\n",
    "fig1.show()\n",
    "fig1.write_html('figures/fig1.html')"
   ]
  },
  {
   "cell_type": "code",
   "execution_count": 10,
   "metadata": {},
   "outputs": [
    {
     "data": {
      "application/vnd.plotly.v1+json": {
       "config": {
        "plotlyServerURL": "https://plot.ly"
       },
       "data": [
        {
         "colorscale": [
          [
           0,
           "rgb(5,48,97)"
          ],
          [
           0.1,
           "rgb(33,102,172)"
          ],
          [
           0.2,
           "rgb(67,147,195)"
          ],
          [
           0.3,
           "rgb(146,197,222)"
          ],
          [
           0.4,
           "rgb(209,229,240)"
          ],
          [
           0.5,
           "rgb(247,247,247)"
          ],
          [
           0.6,
           "rgb(253,219,199)"
          ],
          [
           0.7,
           "rgb(244,165,130)"
          ],
          [
           0.8,
           "rgb(214,96,77)"
          ],
          [
           0.9,
           "rgb(178,24,43)"
          ],
          [
           1,
           "rgb(103,0,31)"
          ]
         ],
         "hoverinfo": "skip",
         "hoverongaps": false,
         "text": [
          [
           "",
           "",
           "21-31<br>40.4%",
           "24-35<br>40.7%",
           "",
           "16-36<br>30.8%",
           "15-21<br>41.7%"
          ],
          [
           "",
           "",
           "1-12<br>7.7%",
           "3-12<br>20.0%",
           "",
           "6-6<br>50.0%",
           "7-12<br>36.8%"
          ],
          [
           "31-21<br>59.6%",
           "12-1<br>92.3%",
           "",
           "55-64<br>46.2%",
           "6-12<br>33.3%",
           "71-66<br>51.8%",
           "52-61<br>46.0%"
          ],
          [
           "35-24<br>59.3%",
           "12-3<br>80.0%",
           "64-55<br>53.8%",
           "",
           "12-18<br>40.0%",
           "53-83<br>39.0%",
           "45-66<br>40.5%"
          ],
          [
           "",
           "",
           "12-6<br>66.7%",
           "18-12<br>60.0%",
           "",
           "12-18<br>40.0%",
           ""
          ],
          [
           "36-16<br>69.2%",
           "6-6<br>50.0%",
           "66-71<br>48.2%",
           "83-53<br>61.0%",
           "18-12<br>60.0%",
           "",
           "35-59<br>37.2%"
          ],
          [
           "21-15<br>58.3%",
           "12-7<br>63.2%",
           "61-52<br>54.0%",
           "66-45<br>59.5%",
           "",
           "59-35<br>62.8%",
           ""
          ]
         ],
         "texttemplate": "%{text}",
         "type": "heatmap",
         "x": [
          "Paul<br>Bartenfeld",
          "Jack<br>Massingill",
          "Roman<br>Ramirez",
          "Evan<br>Sooklal",
          "Lilith<br>Karyadi",
          "Will<br>Simpson",
          "Aaron<br>Carter"
         ],
         "xaxis": "x",
         "y": [
          "Paul<br>Bartenfeld",
          "Jack<br>Massingill",
          "Roman<br>Ramirez",
          "Evan<br>Sooklal",
          "Lilith<br>Karyadi",
          "Will<br>Simpson",
          "Aaron<br>Carter"
         ],
         "yaxis": "y",
         "z": [
          [
           null,
           null,
           0.40384615384615385,
           0.4067796610169492,
           null,
           0.3076923076923077,
           0.4166666666666667
          ],
          [
           null,
           null,
           0.07692307692307693,
           0.2,
           null,
           0.5,
           0.3684210526315789
          ],
          [
           0.5961538461538461,
           0.9230769230769231,
           null,
           0.46218487394957986,
           0.3333333333333333,
           0.5182481751824818,
           0.46017699115044247
          ],
          [
           0.5932203389830508,
           0.8,
           0.5378151260504201,
           null,
           0.4,
           0.3897058823529412,
           0.40540540540540543
          ],
          [
           null,
           null,
           0.6666666666666666,
           0.6,
           null,
           0.4,
           null
          ],
          [
           0.6923076923076923,
           0.5,
           0.48175182481751827,
           0.6102941176470589,
           0.6,
           null,
           0.3723404255319149
          ],
          [
           0.5833333333333334,
           0.631578947368421,
           0.5398230088495575,
           0.5945945945945946,
           null,
           0.6276595744680851,
           null
          ]
         ],
         "zmax": 1,
         "zmid": 0.5,
         "zmin": 0
        },
        {
         "colorscale": [
          [
           0,
           "rgb(5,48,97)"
          ],
          [
           0.1,
           "rgb(33,102,172)"
          ],
          [
           0.2,
           "rgb(67,147,195)"
          ],
          [
           0.3,
           "rgb(146,197,222)"
          ],
          [
           0.4,
           "rgb(209,229,240)"
          ],
          [
           0.5,
           "rgb(247,247,247)"
          ],
          [
           0.6,
           "rgb(253,219,199)"
          ],
          [
           0.7,
           "rgb(244,165,130)"
          ],
          [
           0.8,
           "rgb(214,96,77)"
          ],
          [
           0.9,
           "rgb(178,24,43)"
          ],
          [
           1,
           "rgb(103,0,31)"
          ]
         ],
         "hoverinfo": "skip",
         "hoverongaps": false,
         "text": [
          [
           "1-2<br>33.3%",
           "1-5<br>16.7%",
           "2-4<br>33.3%",
           "0-3<br>0.0%",
           "0-4<br>0.0%",
           ""
          ],
          [
           "",
           "0-1<br>0.0%",
           "0-2<br>0.0%",
           "",
           "0-1<br>0.0%",
           "1-3<br>25.0%"
          ],
          [
           "2-7<br>22.2%",
           "6-10<br>37.5%",
           "6-7<br>46.2%",
           "3-7<br>30.0%",
           "3-1<br>75.0%",
           "4-0<br>100.0%"
          ],
          [
           "9-8<br>52.9%",
           "6-4<br>60.0%",
           "3-5<br>37.5%",
           "5-12<br>29.4%",
           "1-2<br>33.3%",
           "1-0<br>100.0%"
          ],
          [
           "2-2<br>50.0%",
           "",
           "2-0<br>100.0%",
           "1-1<br>50.0%",
           "",
           ""
          ],
          [
           "6-3<br>66.7%",
           "10-6<br>62.5%",
           "3-6<br>33.3%",
           "11-4<br>73.3%",
           "4-1<br>80.0%",
           "1-4<br>20.0%"
          ],
          [
           "7-5<br>58.3%",
           "7-4<br>63.6%",
           "10-2<br>83.3%",
           "8-1<br>88.9%",
           "1-0<br>100.0%",
           "1-1<br>50.0%"
          ]
         ],
         "texttemplate": "%{text}",
         "type": "heatmap",
         "x": [
          "1-PT<br>Games",
          "2-PT<br>Games",
          "3-PT<br>Games",
          "4-PT<br>Games",
          "5-PT<br>Games",
          "6-PT<br>Games"
         ],
         "xaxis": "x2",
         "y": [
          "Paul<br>Bartenfeld",
          "Jack<br>Massingill",
          "Roman<br>Ramirez",
          "Evan<br>Sooklal",
          "Lilith<br>Karyadi",
          "Will<br>Simpson",
          "Aaron<br>Carter"
         ],
         "yaxis": "y2",
         "z": [
          [
           0.3333333333333333,
           0.16666666666666666,
           0.3333333333333333,
           0,
           0,
           null
          ],
          [
           null,
           0,
           0,
           null,
           0,
           0.25
          ],
          [
           0.2222222222222222,
           0.375,
           0.46153846153846156,
           0.3,
           0.75,
           1
          ],
          [
           0.5294117647058824,
           0.6,
           0.375,
           0.29411764705882354,
           0.3333333333333333,
           1
          ],
          [
           0.5,
           null,
           1,
           0.5,
           null,
           null
          ],
          [
           0.6666666666666666,
           0.625,
           0.3333333333333333,
           0.7333333333333333,
           0.8,
           0.2
          ],
          [
           0.5833333333333334,
           0.6363636363636364,
           0.8333333333333334,
           0.8888888888888888,
           1,
           0.5
          ]
         ],
         "zmax": 1,
         "zmid": 0.5,
         "zmin": 0
        }
       ],
       "layout": {
        "annotations": [
         {
          "font": {
           "size": 16
          },
          "showarrow": false,
          "text": "<b>Head-to-Head Plus Minus</b>",
          "x": 0.225,
          "xanchor": "center",
          "xref": "paper",
          "y": 1,
          "yanchor": "bottom",
          "yref": "paper"
         },
         {
          "font": {
           "size": 16
          },
          "showarrow": false,
          "text": "<b>N-Game Historical Record</b>",
          "x": 0.775,
          "xanchor": "center",
          "xref": "paper",
          "y": 1,
          "yanchor": "bottom",
          "yref": "paper"
         },
         {
          "font": {
           "size": 16
          },
          "showarrow": false,
          "text": "<br><a href='https://htmlpreview.github.io/?https://github.com/notromanramirez/dgn_showdown/blob/main/index.html'>ELO Graph</a>, <a href='https://htmlpreview.github.io/?https://github.com/notromanramirez/dgn_showdown/blob/main/figures/fig1.html'>H2H Stats</a>, <a href='https://htmlpreview.github.io/?https://github.com/notromanramirez/dgn_showdown/blob/main/figures/fig2.html'>H2H Advanced Stats</a>, <a href='https://htmlpreview.github.io/?https://github.com/notromanramirez/dgn_showdown/blob/main/figures/fig4.html'>Player Data</a>, <a href='https://htmlpreview.github.io/?https://github.com/notromanramirez/dgn_showdown/blob/main/figures/fig5.html'>Matches Data</a>, <a href='https://htmlpreview.github.io/?https://github.com/notromanramirez/dgn_showdown/blob/main/figures/fig6.html'>Money-Lines</a>",
          "x": 0.5,
          "xanchor": "center",
          "xref": "paper",
          "y": 0,
          "yanchor": "top",
          "yref": "paper",
          "yshift": -30
         }
        ],
        "template": {
         "data": {
          "bar": [
           {
            "error_x": {
             "color": "#2a3f5f"
            },
            "error_y": {
             "color": "#2a3f5f"
            },
            "marker": {
             "line": {
              "color": "#E5ECF6",
              "width": 0.5
             },
             "pattern": {
              "fillmode": "overlay",
              "size": 10,
              "solidity": 0.2
             }
            },
            "type": "bar"
           }
          ],
          "barpolar": [
           {
            "marker": {
             "line": {
              "color": "#E5ECF6",
              "width": 0.5
             },
             "pattern": {
              "fillmode": "overlay",
              "size": 10,
              "solidity": 0.2
             }
            },
            "type": "barpolar"
           }
          ],
          "carpet": [
           {
            "aaxis": {
             "endlinecolor": "#2a3f5f",
             "gridcolor": "white",
             "linecolor": "white",
             "minorgridcolor": "white",
             "startlinecolor": "#2a3f5f"
            },
            "baxis": {
             "endlinecolor": "#2a3f5f",
             "gridcolor": "white",
             "linecolor": "white",
             "minorgridcolor": "white",
             "startlinecolor": "#2a3f5f"
            },
            "type": "carpet"
           }
          ],
          "choropleth": [
           {
            "colorbar": {
             "outlinewidth": 0,
             "ticks": ""
            },
            "type": "choropleth"
           }
          ],
          "contour": [
           {
            "colorbar": {
             "outlinewidth": 0,
             "ticks": ""
            },
            "colorscale": [
             [
              0,
              "#0d0887"
             ],
             [
              0.1111111111111111,
              "#46039f"
             ],
             [
              0.2222222222222222,
              "#7201a8"
             ],
             [
              0.3333333333333333,
              "#9c179e"
             ],
             [
              0.4444444444444444,
              "#bd3786"
             ],
             [
              0.5555555555555556,
              "#d8576b"
             ],
             [
              0.6666666666666666,
              "#ed7953"
             ],
             [
              0.7777777777777778,
              "#fb9f3a"
             ],
             [
              0.8888888888888888,
              "#fdca26"
             ],
             [
              1,
              "#f0f921"
             ]
            ],
            "type": "contour"
           }
          ],
          "contourcarpet": [
           {
            "colorbar": {
             "outlinewidth": 0,
             "ticks": ""
            },
            "type": "contourcarpet"
           }
          ],
          "heatmap": [
           {
            "colorbar": {
             "outlinewidth": 0,
             "ticks": ""
            },
            "colorscale": [
             [
              0,
              "#0d0887"
             ],
             [
              0.1111111111111111,
              "#46039f"
             ],
             [
              0.2222222222222222,
              "#7201a8"
             ],
             [
              0.3333333333333333,
              "#9c179e"
             ],
             [
              0.4444444444444444,
              "#bd3786"
             ],
             [
              0.5555555555555556,
              "#d8576b"
             ],
             [
              0.6666666666666666,
              "#ed7953"
             ],
             [
              0.7777777777777778,
              "#fb9f3a"
             ],
             [
              0.8888888888888888,
              "#fdca26"
             ],
             [
              1,
              "#f0f921"
             ]
            ],
            "type": "heatmap"
           }
          ],
          "heatmapgl": [
           {
            "colorbar": {
             "outlinewidth": 0,
             "ticks": ""
            },
            "colorscale": [
             [
              0,
              "#0d0887"
             ],
             [
              0.1111111111111111,
              "#46039f"
             ],
             [
              0.2222222222222222,
              "#7201a8"
             ],
             [
              0.3333333333333333,
              "#9c179e"
             ],
             [
              0.4444444444444444,
              "#bd3786"
             ],
             [
              0.5555555555555556,
              "#d8576b"
             ],
             [
              0.6666666666666666,
              "#ed7953"
             ],
             [
              0.7777777777777778,
              "#fb9f3a"
             ],
             [
              0.8888888888888888,
              "#fdca26"
             ],
             [
              1,
              "#f0f921"
             ]
            ],
            "type": "heatmapgl"
           }
          ],
          "histogram": [
           {
            "marker": {
             "pattern": {
              "fillmode": "overlay",
              "size": 10,
              "solidity": 0.2
             }
            },
            "type": "histogram"
           }
          ],
          "histogram2d": [
           {
            "colorbar": {
             "outlinewidth": 0,
             "ticks": ""
            },
            "colorscale": [
             [
              0,
              "#0d0887"
             ],
             [
              0.1111111111111111,
              "#46039f"
             ],
             [
              0.2222222222222222,
              "#7201a8"
             ],
             [
              0.3333333333333333,
              "#9c179e"
             ],
             [
              0.4444444444444444,
              "#bd3786"
             ],
             [
              0.5555555555555556,
              "#d8576b"
             ],
             [
              0.6666666666666666,
              "#ed7953"
             ],
             [
              0.7777777777777778,
              "#fb9f3a"
             ],
             [
              0.8888888888888888,
              "#fdca26"
             ],
             [
              1,
              "#f0f921"
             ]
            ],
            "type": "histogram2d"
           }
          ],
          "histogram2dcontour": [
           {
            "colorbar": {
             "outlinewidth": 0,
             "ticks": ""
            },
            "colorscale": [
             [
              0,
              "#0d0887"
             ],
             [
              0.1111111111111111,
              "#46039f"
             ],
             [
              0.2222222222222222,
              "#7201a8"
             ],
             [
              0.3333333333333333,
              "#9c179e"
             ],
             [
              0.4444444444444444,
              "#bd3786"
             ],
             [
              0.5555555555555556,
              "#d8576b"
             ],
             [
              0.6666666666666666,
              "#ed7953"
             ],
             [
              0.7777777777777778,
              "#fb9f3a"
             ],
             [
              0.8888888888888888,
              "#fdca26"
             ],
             [
              1,
              "#f0f921"
             ]
            ],
            "type": "histogram2dcontour"
           }
          ],
          "mesh3d": [
           {
            "colorbar": {
             "outlinewidth": 0,
             "ticks": ""
            },
            "type": "mesh3d"
           }
          ],
          "parcoords": [
           {
            "line": {
             "colorbar": {
              "outlinewidth": 0,
              "ticks": ""
             }
            },
            "type": "parcoords"
           }
          ],
          "pie": [
           {
            "automargin": true,
            "type": "pie"
           }
          ],
          "scatter": [
           {
            "fillpattern": {
             "fillmode": "overlay",
             "size": 10,
             "solidity": 0.2
            },
            "type": "scatter"
           }
          ],
          "scatter3d": [
           {
            "line": {
             "colorbar": {
              "outlinewidth": 0,
              "ticks": ""
             }
            },
            "marker": {
             "colorbar": {
              "outlinewidth": 0,
              "ticks": ""
             }
            },
            "type": "scatter3d"
           }
          ],
          "scattercarpet": [
           {
            "marker": {
             "colorbar": {
              "outlinewidth": 0,
              "ticks": ""
             }
            },
            "type": "scattercarpet"
           }
          ],
          "scattergeo": [
           {
            "marker": {
             "colorbar": {
              "outlinewidth": 0,
              "ticks": ""
             }
            },
            "type": "scattergeo"
           }
          ],
          "scattergl": [
           {
            "marker": {
             "colorbar": {
              "outlinewidth": 0,
              "ticks": ""
             }
            },
            "type": "scattergl"
           }
          ],
          "scattermapbox": [
           {
            "marker": {
             "colorbar": {
              "outlinewidth": 0,
              "ticks": ""
             }
            },
            "type": "scattermapbox"
           }
          ],
          "scatterpolar": [
           {
            "marker": {
             "colorbar": {
              "outlinewidth": 0,
              "ticks": ""
             }
            },
            "type": "scatterpolar"
           }
          ],
          "scatterpolargl": [
           {
            "marker": {
             "colorbar": {
              "outlinewidth": 0,
              "ticks": ""
             }
            },
            "type": "scatterpolargl"
           }
          ],
          "scatterternary": [
           {
            "marker": {
             "colorbar": {
              "outlinewidth": 0,
              "ticks": ""
             }
            },
            "type": "scatterternary"
           }
          ],
          "surface": [
           {
            "colorbar": {
             "outlinewidth": 0,
             "ticks": ""
            },
            "colorscale": [
             [
              0,
              "#0d0887"
             ],
             [
              0.1111111111111111,
              "#46039f"
             ],
             [
              0.2222222222222222,
              "#7201a8"
             ],
             [
              0.3333333333333333,
              "#9c179e"
             ],
             [
              0.4444444444444444,
              "#bd3786"
             ],
             [
              0.5555555555555556,
              "#d8576b"
             ],
             [
              0.6666666666666666,
              "#ed7953"
             ],
             [
              0.7777777777777778,
              "#fb9f3a"
             ],
             [
              0.8888888888888888,
              "#fdca26"
             ],
             [
              1,
              "#f0f921"
             ]
            ],
            "type": "surface"
           }
          ],
          "table": [
           {
            "cells": {
             "fill": {
              "color": "#EBF0F8"
             },
             "line": {
              "color": "white"
             }
            },
            "header": {
             "fill": {
              "color": "#C8D4E3"
             },
             "line": {
              "color": "white"
             }
            },
            "type": "table"
           }
          ]
         },
         "layout": {
          "annotationdefaults": {
           "arrowcolor": "#2a3f5f",
           "arrowhead": 0,
           "arrowwidth": 1
          },
          "autotypenumbers": "strict",
          "coloraxis": {
           "colorbar": {
            "outlinewidth": 0,
            "ticks": ""
           }
          },
          "colorscale": {
           "diverging": [
            [
             0,
             "#8e0152"
            ],
            [
             0.1,
             "#c51b7d"
            ],
            [
             0.2,
             "#de77ae"
            ],
            [
             0.3,
             "#f1b6da"
            ],
            [
             0.4,
             "#fde0ef"
            ],
            [
             0.5,
             "#f7f7f7"
            ],
            [
             0.6,
             "#e6f5d0"
            ],
            [
             0.7,
             "#b8e186"
            ],
            [
             0.8,
             "#7fbc41"
            ],
            [
             0.9,
             "#4d9221"
            ],
            [
             1,
             "#276419"
            ]
           ],
           "sequential": [
            [
             0,
             "#0d0887"
            ],
            [
             0.1111111111111111,
             "#46039f"
            ],
            [
             0.2222222222222222,
             "#7201a8"
            ],
            [
             0.3333333333333333,
             "#9c179e"
            ],
            [
             0.4444444444444444,
             "#bd3786"
            ],
            [
             0.5555555555555556,
             "#d8576b"
            ],
            [
             0.6666666666666666,
             "#ed7953"
            ],
            [
             0.7777777777777778,
             "#fb9f3a"
            ],
            [
             0.8888888888888888,
             "#fdca26"
            ],
            [
             1,
             "#f0f921"
            ]
           ],
           "sequentialminus": [
            [
             0,
             "#0d0887"
            ],
            [
             0.1111111111111111,
             "#46039f"
            ],
            [
             0.2222222222222222,
             "#7201a8"
            ],
            [
             0.3333333333333333,
             "#9c179e"
            ],
            [
             0.4444444444444444,
             "#bd3786"
            ],
            [
             0.5555555555555556,
             "#d8576b"
            ],
            [
             0.6666666666666666,
             "#ed7953"
            ],
            [
             0.7777777777777778,
             "#fb9f3a"
            ],
            [
             0.8888888888888888,
             "#fdca26"
            ],
            [
             1,
             "#f0f921"
            ]
           ]
          },
          "colorway": [
           "#636efa",
           "#EF553B",
           "#00cc96",
           "#ab63fa",
           "#FFA15A",
           "#19d3f3",
           "#FF6692",
           "#B6E880",
           "#FF97FF",
           "#FECB52"
          ],
          "font": {
           "color": "#2a3f5f"
          },
          "geo": {
           "bgcolor": "white",
           "lakecolor": "white",
           "landcolor": "#E5ECF6",
           "showlakes": true,
           "showland": true,
           "subunitcolor": "white"
          },
          "hoverlabel": {
           "align": "left"
          },
          "hovermode": "closest",
          "mapbox": {
           "style": "light"
          },
          "paper_bgcolor": "white",
          "plot_bgcolor": "#E5ECF6",
          "polar": {
           "angularaxis": {
            "gridcolor": "white",
            "linecolor": "white",
            "ticks": ""
           },
           "bgcolor": "#E5ECF6",
           "radialaxis": {
            "gridcolor": "white",
            "linecolor": "white",
            "ticks": ""
           }
          },
          "scene": {
           "xaxis": {
            "backgroundcolor": "#E5ECF6",
            "gridcolor": "white",
            "gridwidth": 2,
            "linecolor": "white",
            "showbackground": true,
            "ticks": "",
            "zerolinecolor": "white"
           },
           "yaxis": {
            "backgroundcolor": "#E5ECF6",
            "gridcolor": "white",
            "gridwidth": 2,
            "linecolor": "white",
            "showbackground": true,
            "ticks": "",
            "zerolinecolor": "white"
           },
           "zaxis": {
            "backgroundcolor": "#E5ECF6",
            "gridcolor": "white",
            "gridwidth": 2,
            "linecolor": "white",
            "showbackground": true,
            "ticks": "",
            "zerolinecolor": "white"
           }
          },
          "shapedefaults": {
           "line": {
            "color": "#2a3f5f"
           }
          },
          "ternary": {
           "aaxis": {
            "gridcolor": "white",
            "linecolor": "white",
            "ticks": ""
           },
           "baxis": {
            "gridcolor": "white",
            "linecolor": "white",
            "ticks": ""
           },
           "bgcolor": "#E5ECF6",
           "caxis": {
            "gridcolor": "white",
            "linecolor": "white",
            "ticks": ""
           }
          },
          "title": {
           "x": 0.05
          },
          "xaxis": {
           "automargin": true,
           "gridcolor": "white",
           "linecolor": "white",
           "ticks": "",
           "title": {
            "standoff": 15
           },
           "zerolinecolor": "white",
           "zerolinewidth": 2
          },
          "yaxis": {
           "automargin": true,
           "gridcolor": "white",
           "linecolor": "white",
           "ticks": "",
           "title": {
            "standoff": 15
           },
           "zerolinecolor": "white",
           "zerolinewidth": 2
          }
         }
        },
        "title": {
         "text": "<b>Head-to-Head Statistics</b>, <i>Updated Saturday, Jul 06, 2024 22:59:53 CT</i>"
        },
        "xaxis": {
         "anchor": "y",
         "domain": [
          0,
          0.45
         ],
         "title": {
          "text": "<b>Other</b>"
         }
        },
        "xaxis2": {
         "anchor": "y2",
         "domain": [
          0.55,
          1
         ],
         "title": {
          "text": "<b>Other</b>"
         }
        },
        "yaxis": {
         "anchor": "x",
         "domain": [
          0,
          1
         ],
         "title": {
          "text": "<b>Self</b>"
         }
        },
        "yaxis2": {
         "anchor": "x2",
         "domain": [
          0,
          1
         ],
         "title": {
          "text": "<b>Self</b>"
         }
        }
       }
      }
     },
     "metadata": {},
     "output_type": "display_data"
    }
   ],
   "source": [
    "fig3 = make_subplots(\n",
    "    rows=1, cols=2,\n",
    "    subplot_titles=[f\"<b>{x}</b>\" for x in [\"Head-to-Head Plus Minus\", \"N-Game Historical Record\"]],\n",
    "    x_title=f\"<br>{link_fig}, {link_fig1}, {link_fig2}, {link_fig4}, {link_fig5}, {link_fig6}\"\n",
    ")\n",
    "\n",
    "text_npg_table = npg_table.copy(deep=True)\n",
    "\n",
    "for c in npg_table.columns:\n",
    "    for r in npg_table.index:\n",
    "        if c == r:\n",
    "            text_npg_table.loc[r, c] = \"\"\n",
    "        else:\n",
    "            w, l = npg_table.loc[r, c]\n",
    "            if (w + l) == 0:\n",
    "                text_npg_table.loc[r, c] = \"\"\n",
    "            else:\n",
    "                w_pct = (w) / (w + l) if (w + l) != 0 else 0\n",
    "                text_npg_table.loc[r, c] = f\"{w}-{l}<br>{w_pct:,.1%}\"\n",
    "\n",
    "def calc_win_pct(wl):\n",
    "    if sum(wl) == 0:\n",
    "        return np.NaN\n",
    "    else:\n",
    "        return (wl[0]) / (sum(wl))\n",
    "\n",
    "go_ng = go.Heatmap(\n",
    "    x=[x.replace(\" \", \"<br>\")+\"ames\" for x in npg_table.columns],\n",
    "    y=[x.replace(\" \", \"<br>\") for x in npg_table.index],\n",
    "    z=npg_table.applymap(calc_win_pct),\n",
    "    zmax=1,\n",
    "    zmid=0.5,\n",
    "    zmin=0,\n",
    "    text=text_npg_table,\n",
    "    texttemplate=\"%{text}\",\n",
    "    colorscale=diverging.RdBu_r,\n",
    "    hoverongaps=False\n",
    ")\n",
    "\n",
    "text_plus_minus_table = plus_minus_table.copy(deep=True)\n",
    "\n",
    "for c in plus_minus_table.columns:\n",
    "    for r in plus_minus_table.index:\n",
    "        if c == r:\n",
    "            text_plus_minus_table.loc[r, c] = \"\"\n",
    "        else:\n",
    "            w, l = plus_minus_table.loc[r, c]\n",
    "            if (w + l) == 0:\n",
    "                text_plus_minus_table.loc[r, c] = \"\"\n",
    "            else:\n",
    "                w_pct = (w) / (w + l) if (w + l) != 0 else 0\n",
    "                text_plus_minus_table.loc[r, c] = f\"{w}-{l}<br>{w_pct:,.1%}\"\n",
    "\n",
    "go_pm = go.Heatmap(\n",
    "    x=[x.replace(\" \", \"<br>\") for x in plus_minus_table.columns],\n",
    "    y=[x.replace(\" \", \"<br>\") for x in plus_minus_table.index],\n",
    "    z=plus_minus_table.applymap(calc_win_pct),\n",
    "    zmax=1,\n",
    "    zmid=0.5,\n",
    "    zmin=0,\n",
    "    text=text_plus_minus_table,\n",
    "    texttemplate=\"%{text}\",\n",
    "    colorscale=diverging.RdBu_r,\n",
    "    hoverongaps=False\n",
    ")\n",
    "\n",
    "fig3.add_trace(go_pm, row=1, col=1)\n",
    "fig3.add_trace(go_ng, row=1, col=2)\n",
    "\n",
    "fig3.layout.yaxis1.title=\"<b>Self</b>\"\n",
    "fig3.layout.yaxis2.title=\"<b>Self</b>\"\n",
    "fig3.layout.xaxis1.title=\"<b>Other</b>\"\n",
    "fig3.layout.xaxis2.title=\"<b>Other</b>\"\n",
    "\n",
    "fig3.update_traces(\n",
    "    hoverinfo='skip'\n",
    ")\n",
    "\n",
    "fig3.update_layout(\n",
    "    title=f\"<b>Head-to-Head Statistics</b>, {updated_time}\"\n",
    ")\n",
    "\n",
    "fig3.show()\n",
    "fig3.write_html('figures/fig3.html')"
   ]
  },
  {
   "cell_type": "code",
   "execution_count": 11,
   "metadata": {},
   "outputs": [
    {
     "data": {
      "application/vnd.plotly.v1+json": {
       "config": {
        "plotlyServerURL": "https://plot.ly"
       },
       "data": [
        {
         "colorscale": [
          [
           0,
           "rgb(5,48,97)"
          ],
          [
           0.1,
           "rgb(33,102,172)"
          ],
          [
           0.2,
           "rgb(67,147,195)"
          ],
          [
           0.3,
           "rgb(146,197,222)"
          ],
          [
           0.4,
           "rgb(209,229,240)"
          ],
          [
           0.5,
           "rgb(247,247,247)"
          ],
          [
           0.6,
           "rgb(253,219,199)"
          ],
          [
           0.7,
           "rgb(244,165,130)"
          ],
          [
           0.8,
           "rgb(214,96,77)"
          ],
          [
           0.9,
           "rgb(178,24,43)"
          ],
          [
           1,
           "rgb(103,0,31)"
          ]
         ],
         "hoverinfo": "skip",
         "hoverongaps": false,
         "text": [
          [
           "",
           "",
           "-4.1%",
           "+11.5%",
           "",
           "+15.0%",
           "-17.9%"
          ],
          [
           "",
           "",
           "+43.4%",
           "+42.1%",
           "",
           "-25.4%",
           "+12.4%"
          ],
          [
           "+4.1%",
           "-43.4%",
           "",
           "+15.3%",
           "+35.4%",
           "-17.2%",
           "-20.2%"
          ],
          [
           "-11.5%",
           "-42.1%",
           "-15.3%",
           "",
           "+36.6%",
           "+1.6%",
           "-6.8%"
          ],
          [
           "",
           "",
           "-35.4%",
           "-36.6%",
           "",
           "+43.7%",
           ""
          ],
          [
           "-15.0%",
           "+25.4%",
           "+17.2%",
           "-1.6%",
           "-43.7%",
           "",
           "+1.6%"
          ],
          [
           "+17.9%",
           "-12.4%",
           "+20.2%",
           "+6.8%",
           "",
           "-1.6%",
           ""
          ]
         ],
         "texttemplate": "%{text}",
         "type": "heatmap",
         "x": [
          "Paul<br>Bartenfeld",
          "Jack<br>Massingill",
          "Roman<br>Ramirez",
          "Evan<br>Sooklal",
          "Lilith<br>Karyadi",
          "Will<br>Simpson",
          "Aaron<br>Carter"
         ],
         "xaxis": "x",
         "y": [
          "Paul<br>Bartenfeld",
          "Jack<br>Massingill",
          "Roman<br>Ramirez",
          "Evan<br>Sooklal",
          "Lilith<br>Karyadi",
          "Will<br>Simpson",
          "Aaron<br>Carter"
         ],
         "yaxis": "y",
         "z": [
          [
           null,
           null,
           -0.04076470801064341,
           0.1147268665526964,
           null,
           0.14954930764577262,
           -0.17945089116290358
          ],
          [
           null,
           null,
           0.4343764908161998,
           0.4210083550309316,
           null,
           -0.2538432520154281,
           0.12353626373797795
          ],
          [
           0.04076470801064347,
           -0.43437649081619967,
           null,
           0.15301547567837875,
           0.35390233809190275,
           -0.1722448288120445,
           -0.20206845438529628
          ],
          [
           -0.11472686655269637,
           -0.4210083550309316,
           -0.1530154756783787,
           null,
           0.3664884233421802,
           0.01578369602891716,
           -0.06840282422650268
          ],
          [
           null,
           null,
           -0.35390233809190275,
           -0.3664884233421801,
           null,
           0.43701899450154363,
           null
          ],
          [
           -0.14954930764577268,
           0.2538432520154281,
           0.1722448288120445,
           -0.01578369602891727,
           -0.4370189945015436,
           null,
           0.015790035078587006
          ],
          [
           0.17945089116290358,
           -0.12353626373797799,
           0.2020684543852962,
           0.06840282422650257,
           null,
           -0.015790035078587006,
           null
          ]
         ],
         "zmax": 0.6450147914274407,
         "zmid": 0,
         "zmin": -0.6450147914274407
        },
        {
         "colorscale": [
          [
           0,
           "rgb(5,48,97)"
          ],
          [
           0.1,
           "rgb(33,102,172)"
          ],
          [
           0.2,
           "rgb(67,147,195)"
          ],
          [
           0.3,
           "rgb(146,197,222)"
          ],
          [
           0.4,
           "rgb(209,229,240)"
          ],
          [
           0.5,
           "rgb(247,247,247)"
          ],
          [
           0.6,
           "rgb(253,219,199)"
          ],
          [
           0.7,
           "rgb(244,165,130)"
          ],
          [
           0.8,
           "rgb(214,96,77)"
          ],
          [
           0.9,
           "rgb(178,24,43)"
          ],
          [
           1,
           "rgb(103,0,31)"
          ]
         ],
         "hoverinfo": "skip",
         "hoverongaps": false,
         "text": [
          [
           "",
           "",
           "-5.4%",
           "-17.9%",
           "",
           "-30.2%",
           "-6.2%"
          ],
          [
           "",
           "",
           "-43.9%",
           "-50.4%",
           "",
           "+23.9%",
           "-11.5%"
          ],
          [
           "+5.4%",
           "+43.9%",
           "",
           "-15.2%",
           "-64.5%",
           "+6.3%",
           "+3.0%"
          ],
          [
           "+17.9%",
           "+50.4%",
           "+15.2%",
           "",
           "-46.9%",
           "-11.9%",
           "-12.5%"
          ],
          [
           "",
           "",
           "+64.5%",
           "+46.9%",
           "",
           "-59.8%",
           ""
          ],
          [
           "+30.2%",
           "-23.9%",
           "-6.3%",
           "+11.9%",
           "+59.8%",
           "",
           "-17.4%"
          ],
          [
           "+6.2%",
           "+11.5%",
           "-3.0%",
           "+12.5%",
           "",
           "+17.4%",
           ""
          ]
         ],
         "texttemplate": "%{text}",
         "type": "heatmap",
         "x": [
          "Paul<br>Bartenfeld",
          "Jack<br>Massingill",
          "Roman<br>Ramirez",
          "Evan<br>Sooklal",
          "Lilith<br>Karyadi",
          "Will<br>Simpson",
          "Aaron<br>Carter"
         ],
         "xaxis": "x2",
         "y": [
          "Paul<br>Bartenfeld",
          "Jack<br>Massingill",
          "Roman<br>Ramirez",
          "Evan<br>Sooklal",
          "Lilith<br>Karyadi",
          "Will<br>Simpson",
          "Aaron<br>Carter"
         ],
         "yaxis": "y2",
         "z": [
          [
           null,
           null,
           -0.054102184370880387,
           -0.17925649745036043,
           null,
           -0.3015162035404408,
           -0.061861419487301415
          ],
          [
           null,
           null,
           -0.4389422968434329,
           -0.5042381575524879,
           null,
           0.23851497675451902,
           -0.11502199433034524
          ],
          [
           0.0541021843708804,
           0.4389422968434328,
           null,
           -0.15166506323624512,
           -0.6450147914274407,
           0.0632525434360657,
           0.030218651785320266
          ],
          [
           0.1792564974503605,
           0.5042381575524879,
           0.15166506323624512,
           null,
           -0.4689526840552985,
           -0.1193216408929513,
           -0.12518810541154698
          ],
          [
           null,
           null,
           0.6450147914274407,
           0.4689526840552986,
           null,
           -0.5978739113459665,
           null
          ],
          [
           0.30151620354044084,
           -0.238514976754519,
           -0.0632525434360657,
           0.1193216408929513,
           0.5978739113459665,
           null,
           -0.17370961222273196
          ],
          [
           0.061861419487301395,
           0.11502199433034532,
           -0.03021865178532024,
           0.125188105411547,
           null,
           0.17370961222273193,
           null
          ]
         ],
         "zmax": 0.6450147914274407,
         "zmid": 0,
         "zmin": -0.6450147914274407
        }
       ],
       "layout": {
        "annotations": [
         {
          "font": {
           "size": 16
          },
          "showarrow": false,
          "text": "<b>Over/Underrated</b><br>How Much Better is the Win Probability Against Record",
          "x": 0.225,
          "xanchor": "center",
          "xref": "paper",
          "y": 1,
          "yanchor": "bottom",
          "yref": "paper"
         },
         {
          "font": {
           "size": 16
          },
          "showarrow": false,
          "text": "<b>Average Luck Per Game</b><br>Average Difference in Actual and Expected Performance",
          "x": 0.775,
          "xanchor": "center",
          "xref": "paper",
          "y": 1,
          "yanchor": "bottom",
          "yref": "paper"
         },
         {
          "font": {
           "size": 16
          },
          "showarrow": false,
          "text": "<a href='https://htmlpreview.github.io/?https://github.com/notromanramirez/dgn_showdown/blob/main/index.html'>ELO Graph</a>, <a href='https://htmlpreview.github.io/?https://github.com/notromanramirez/dgn_showdown/blob/main/figures/fig1.html'>H2H Stats</a>, <a href='https://htmlpreview.github.io/?https://github.com/notromanramirez/dgn_showdown/blob/main/figures/fig3.html'>H2H More Stats</a>, <a href='https://htmlpreview.github.io/?https://github.com/notromanramirez/dgn_showdown/blob/main/figures/fig4.html'>Player Data</a>, <a href='https://htmlpreview.github.io/?https://github.com/notromanramirez/dgn_showdown/blob/main/figures/fig5.html'>Matches Data</a>, <a href='https://htmlpreview.github.io/?https://github.com/notromanramirez/dgn_showdown/blob/main/figures/fig6.html'>Money-Lines</a>",
          "x": 0.5,
          "xanchor": "center",
          "xref": "paper",
          "y": 0,
          "yanchor": "top",
          "yref": "paper",
          "yshift": -30
         }
        ],
        "template": {
         "data": {
          "bar": [
           {
            "error_x": {
             "color": "#2a3f5f"
            },
            "error_y": {
             "color": "#2a3f5f"
            },
            "marker": {
             "line": {
              "color": "#E5ECF6",
              "width": 0.5
             },
             "pattern": {
              "fillmode": "overlay",
              "size": 10,
              "solidity": 0.2
             }
            },
            "type": "bar"
           }
          ],
          "barpolar": [
           {
            "marker": {
             "line": {
              "color": "#E5ECF6",
              "width": 0.5
             },
             "pattern": {
              "fillmode": "overlay",
              "size": 10,
              "solidity": 0.2
             }
            },
            "type": "barpolar"
           }
          ],
          "carpet": [
           {
            "aaxis": {
             "endlinecolor": "#2a3f5f",
             "gridcolor": "white",
             "linecolor": "white",
             "minorgridcolor": "white",
             "startlinecolor": "#2a3f5f"
            },
            "baxis": {
             "endlinecolor": "#2a3f5f",
             "gridcolor": "white",
             "linecolor": "white",
             "minorgridcolor": "white",
             "startlinecolor": "#2a3f5f"
            },
            "type": "carpet"
           }
          ],
          "choropleth": [
           {
            "colorbar": {
             "outlinewidth": 0,
             "ticks": ""
            },
            "type": "choropleth"
           }
          ],
          "contour": [
           {
            "colorbar": {
             "outlinewidth": 0,
             "ticks": ""
            },
            "colorscale": [
             [
              0,
              "#0d0887"
             ],
             [
              0.1111111111111111,
              "#46039f"
             ],
             [
              0.2222222222222222,
              "#7201a8"
             ],
             [
              0.3333333333333333,
              "#9c179e"
             ],
             [
              0.4444444444444444,
              "#bd3786"
             ],
             [
              0.5555555555555556,
              "#d8576b"
             ],
             [
              0.6666666666666666,
              "#ed7953"
             ],
             [
              0.7777777777777778,
              "#fb9f3a"
             ],
             [
              0.8888888888888888,
              "#fdca26"
             ],
             [
              1,
              "#f0f921"
             ]
            ],
            "type": "contour"
           }
          ],
          "contourcarpet": [
           {
            "colorbar": {
             "outlinewidth": 0,
             "ticks": ""
            },
            "type": "contourcarpet"
           }
          ],
          "heatmap": [
           {
            "colorbar": {
             "outlinewidth": 0,
             "ticks": ""
            },
            "colorscale": [
             [
              0,
              "#0d0887"
             ],
             [
              0.1111111111111111,
              "#46039f"
             ],
             [
              0.2222222222222222,
              "#7201a8"
             ],
             [
              0.3333333333333333,
              "#9c179e"
             ],
             [
              0.4444444444444444,
              "#bd3786"
             ],
             [
              0.5555555555555556,
              "#d8576b"
             ],
             [
              0.6666666666666666,
              "#ed7953"
             ],
             [
              0.7777777777777778,
              "#fb9f3a"
             ],
             [
              0.8888888888888888,
              "#fdca26"
             ],
             [
              1,
              "#f0f921"
             ]
            ],
            "type": "heatmap"
           }
          ],
          "heatmapgl": [
           {
            "colorbar": {
             "outlinewidth": 0,
             "ticks": ""
            },
            "colorscale": [
             [
              0,
              "#0d0887"
             ],
             [
              0.1111111111111111,
              "#46039f"
             ],
             [
              0.2222222222222222,
              "#7201a8"
             ],
             [
              0.3333333333333333,
              "#9c179e"
             ],
             [
              0.4444444444444444,
              "#bd3786"
             ],
             [
              0.5555555555555556,
              "#d8576b"
             ],
             [
              0.6666666666666666,
              "#ed7953"
             ],
             [
              0.7777777777777778,
              "#fb9f3a"
             ],
             [
              0.8888888888888888,
              "#fdca26"
             ],
             [
              1,
              "#f0f921"
             ]
            ],
            "type": "heatmapgl"
           }
          ],
          "histogram": [
           {
            "marker": {
             "pattern": {
              "fillmode": "overlay",
              "size": 10,
              "solidity": 0.2
             }
            },
            "type": "histogram"
           }
          ],
          "histogram2d": [
           {
            "colorbar": {
             "outlinewidth": 0,
             "ticks": ""
            },
            "colorscale": [
             [
              0,
              "#0d0887"
             ],
             [
              0.1111111111111111,
              "#46039f"
             ],
             [
              0.2222222222222222,
              "#7201a8"
             ],
             [
              0.3333333333333333,
              "#9c179e"
             ],
             [
              0.4444444444444444,
              "#bd3786"
             ],
             [
              0.5555555555555556,
              "#d8576b"
             ],
             [
              0.6666666666666666,
              "#ed7953"
             ],
             [
              0.7777777777777778,
              "#fb9f3a"
             ],
             [
              0.8888888888888888,
              "#fdca26"
             ],
             [
              1,
              "#f0f921"
             ]
            ],
            "type": "histogram2d"
           }
          ],
          "histogram2dcontour": [
           {
            "colorbar": {
             "outlinewidth": 0,
             "ticks": ""
            },
            "colorscale": [
             [
              0,
              "#0d0887"
             ],
             [
              0.1111111111111111,
              "#46039f"
             ],
             [
              0.2222222222222222,
              "#7201a8"
             ],
             [
              0.3333333333333333,
              "#9c179e"
             ],
             [
              0.4444444444444444,
              "#bd3786"
             ],
             [
              0.5555555555555556,
              "#d8576b"
             ],
             [
              0.6666666666666666,
              "#ed7953"
             ],
             [
              0.7777777777777778,
              "#fb9f3a"
             ],
             [
              0.8888888888888888,
              "#fdca26"
             ],
             [
              1,
              "#f0f921"
             ]
            ],
            "type": "histogram2dcontour"
           }
          ],
          "mesh3d": [
           {
            "colorbar": {
             "outlinewidth": 0,
             "ticks": ""
            },
            "type": "mesh3d"
           }
          ],
          "parcoords": [
           {
            "line": {
             "colorbar": {
              "outlinewidth": 0,
              "ticks": ""
             }
            },
            "type": "parcoords"
           }
          ],
          "pie": [
           {
            "automargin": true,
            "type": "pie"
           }
          ],
          "scatter": [
           {
            "fillpattern": {
             "fillmode": "overlay",
             "size": 10,
             "solidity": 0.2
            },
            "type": "scatter"
           }
          ],
          "scatter3d": [
           {
            "line": {
             "colorbar": {
              "outlinewidth": 0,
              "ticks": ""
             }
            },
            "marker": {
             "colorbar": {
              "outlinewidth": 0,
              "ticks": ""
             }
            },
            "type": "scatter3d"
           }
          ],
          "scattercarpet": [
           {
            "marker": {
             "colorbar": {
              "outlinewidth": 0,
              "ticks": ""
             }
            },
            "type": "scattercarpet"
           }
          ],
          "scattergeo": [
           {
            "marker": {
             "colorbar": {
              "outlinewidth": 0,
              "ticks": ""
             }
            },
            "type": "scattergeo"
           }
          ],
          "scattergl": [
           {
            "marker": {
             "colorbar": {
              "outlinewidth": 0,
              "ticks": ""
             }
            },
            "type": "scattergl"
           }
          ],
          "scattermapbox": [
           {
            "marker": {
             "colorbar": {
              "outlinewidth": 0,
              "ticks": ""
             }
            },
            "type": "scattermapbox"
           }
          ],
          "scatterpolar": [
           {
            "marker": {
             "colorbar": {
              "outlinewidth": 0,
              "ticks": ""
             }
            },
            "type": "scatterpolar"
           }
          ],
          "scatterpolargl": [
           {
            "marker": {
             "colorbar": {
              "outlinewidth": 0,
              "ticks": ""
             }
            },
            "type": "scatterpolargl"
           }
          ],
          "scatterternary": [
           {
            "marker": {
             "colorbar": {
              "outlinewidth": 0,
              "ticks": ""
             }
            },
            "type": "scatterternary"
           }
          ],
          "surface": [
           {
            "colorbar": {
             "outlinewidth": 0,
             "ticks": ""
            },
            "colorscale": [
             [
              0,
              "#0d0887"
             ],
             [
              0.1111111111111111,
              "#46039f"
             ],
             [
              0.2222222222222222,
              "#7201a8"
             ],
             [
              0.3333333333333333,
              "#9c179e"
             ],
             [
              0.4444444444444444,
              "#bd3786"
             ],
             [
              0.5555555555555556,
              "#d8576b"
             ],
             [
              0.6666666666666666,
              "#ed7953"
             ],
             [
              0.7777777777777778,
              "#fb9f3a"
             ],
             [
              0.8888888888888888,
              "#fdca26"
             ],
             [
              1,
              "#f0f921"
             ]
            ],
            "type": "surface"
           }
          ],
          "table": [
           {
            "cells": {
             "fill": {
              "color": "#EBF0F8"
             },
             "line": {
              "color": "white"
             }
            },
            "header": {
             "fill": {
              "color": "#C8D4E3"
             },
             "line": {
              "color": "white"
             }
            },
            "type": "table"
           }
          ]
         },
         "layout": {
          "annotationdefaults": {
           "arrowcolor": "#2a3f5f",
           "arrowhead": 0,
           "arrowwidth": 1
          },
          "autotypenumbers": "strict",
          "coloraxis": {
           "colorbar": {
            "outlinewidth": 0,
            "ticks": ""
           }
          },
          "colorscale": {
           "diverging": [
            [
             0,
             "#8e0152"
            ],
            [
             0.1,
             "#c51b7d"
            ],
            [
             0.2,
             "#de77ae"
            ],
            [
             0.3,
             "#f1b6da"
            ],
            [
             0.4,
             "#fde0ef"
            ],
            [
             0.5,
             "#f7f7f7"
            ],
            [
             0.6,
             "#e6f5d0"
            ],
            [
             0.7,
             "#b8e186"
            ],
            [
             0.8,
             "#7fbc41"
            ],
            [
             0.9,
             "#4d9221"
            ],
            [
             1,
             "#276419"
            ]
           ],
           "sequential": [
            [
             0,
             "#0d0887"
            ],
            [
             0.1111111111111111,
             "#46039f"
            ],
            [
             0.2222222222222222,
             "#7201a8"
            ],
            [
             0.3333333333333333,
             "#9c179e"
            ],
            [
             0.4444444444444444,
             "#bd3786"
            ],
            [
             0.5555555555555556,
             "#d8576b"
            ],
            [
             0.6666666666666666,
             "#ed7953"
            ],
            [
             0.7777777777777778,
             "#fb9f3a"
            ],
            [
             0.8888888888888888,
             "#fdca26"
            ],
            [
             1,
             "#f0f921"
            ]
           ],
           "sequentialminus": [
            [
             0,
             "#0d0887"
            ],
            [
             0.1111111111111111,
             "#46039f"
            ],
            [
             0.2222222222222222,
             "#7201a8"
            ],
            [
             0.3333333333333333,
             "#9c179e"
            ],
            [
             0.4444444444444444,
             "#bd3786"
            ],
            [
             0.5555555555555556,
             "#d8576b"
            ],
            [
             0.6666666666666666,
             "#ed7953"
            ],
            [
             0.7777777777777778,
             "#fb9f3a"
            ],
            [
             0.8888888888888888,
             "#fdca26"
            ],
            [
             1,
             "#f0f921"
            ]
           ]
          },
          "colorway": [
           "#636efa",
           "#EF553B",
           "#00cc96",
           "#ab63fa",
           "#FFA15A",
           "#19d3f3",
           "#FF6692",
           "#B6E880",
           "#FF97FF",
           "#FECB52"
          ],
          "font": {
           "color": "#2a3f5f"
          },
          "geo": {
           "bgcolor": "white",
           "lakecolor": "white",
           "landcolor": "#E5ECF6",
           "showlakes": true,
           "showland": true,
           "subunitcolor": "white"
          },
          "hoverlabel": {
           "align": "left"
          },
          "hovermode": "closest",
          "mapbox": {
           "style": "light"
          },
          "paper_bgcolor": "white",
          "plot_bgcolor": "#E5ECF6",
          "polar": {
           "angularaxis": {
            "gridcolor": "white",
            "linecolor": "white",
            "ticks": ""
           },
           "bgcolor": "#E5ECF6",
           "radialaxis": {
            "gridcolor": "white",
            "linecolor": "white",
            "ticks": ""
           }
          },
          "scene": {
           "xaxis": {
            "backgroundcolor": "#E5ECF6",
            "gridcolor": "white",
            "gridwidth": 2,
            "linecolor": "white",
            "showbackground": true,
            "ticks": "",
            "zerolinecolor": "white"
           },
           "yaxis": {
            "backgroundcolor": "#E5ECF6",
            "gridcolor": "white",
            "gridwidth": 2,
            "linecolor": "white",
            "showbackground": true,
            "ticks": "",
            "zerolinecolor": "white"
           },
           "zaxis": {
            "backgroundcolor": "#E5ECF6",
            "gridcolor": "white",
            "gridwidth": 2,
            "linecolor": "white",
            "showbackground": true,
            "ticks": "",
            "zerolinecolor": "white"
           }
          },
          "shapedefaults": {
           "line": {
            "color": "#2a3f5f"
           }
          },
          "ternary": {
           "aaxis": {
            "gridcolor": "white",
            "linecolor": "white",
            "ticks": ""
           },
           "baxis": {
            "gridcolor": "white",
            "linecolor": "white",
            "ticks": ""
           },
           "bgcolor": "#E5ECF6",
           "caxis": {
            "gridcolor": "white",
            "linecolor": "white",
            "ticks": ""
           }
          },
          "title": {
           "x": 0.05
          },
          "xaxis": {
           "automargin": true,
           "gridcolor": "white",
           "linecolor": "white",
           "ticks": "",
           "title": {
            "standoff": 15
           },
           "zerolinecolor": "white",
           "zerolinewidth": 2
          },
          "yaxis": {
           "automargin": true,
           "gridcolor": "white",
           "linecolor": "white",
           "ticks": "",
           "title": {
            "standoff": 15
           },
           "zerolinecolor": "white",
           "zerolinewidth": 2
          }
         }
        },
        "title": {
         "text": "<b>Head-to-Head Advanced Statistics</b>, <i>Updated Saturday, Jul 06, 2024 22:59:53 CT</i>"
        },
        "xaxis": {
         "anchor": "y",
         "domain": [
          0,
          0.45
         ],
         "title": {
          "text": "<b>Other</b>"
         }
        },
        "xaxis2": {
         "anchor": "y2",
         "domain": [
          0.55,
          1
         ],
         "title": {
          "text": "<b>Other</b>"
         }
        },
        "yaxis": {
         "anchor": "x",
         "domain": [
          0,
          1
         ],
         "title": {
          "text": "<b>Self</b>"
         }
        },
        "yaxis2": {
         "anchor": "x2",
         "domain": [
          0,
          1
         ],
         "title": {
          "text": "<b>Self</b>"
         }
        }
       }
      }
     },
     "metadata": {},
     "output_type": "display_data"
    }
   ],
   "source": [
    "# difference in win percentage and matchup predictor\n",
    "# positive number means overrated, negative number means underrated\n",
    "# understanding: Player A is overrated/underrated against Player B\n",
    "\n",
    "key_upset_table = -win_pct_table + win_prob_table\n",
    "        \n",
    "for c in record_table.columns:\n",
    "    for r in record_table.index:\n",
    "        if sum(record_table.loc[r, c]) == 0:\n",
    "            key_upset_table.loc[r, c] = np.NaN\n",
    "\n",
    "\n",
    "fig2 = make_subplots(\n",
    "    rows=1, cols=2,\n",
    "    subplot_titles=[\n",
    "        \"<b>Over/Underrated</b><br>How Much Better is the Win Probability Against Record\", \n",
    "        \"<b>Average Luck Per Game</b><br>Average Difference in Actual and Expected Performance\"\n",
    "    ],\n",
    "    x_title=f\"{link_fig}, {link_fig1}, {link_fig3}, {link_fig4}, {link_fig5}, {link_fig6}\"\n",
    ")\n",
    "\n",
    "go_ou = go.Heatmap(\n",
    "    x=[x.replace(\" \", \"<br>\") for x in win_prob_table.columns],\n",
    "    y=[x.replace(\" \", \"<br>\") for x in win_prob_table.index],\n",
    "    z=key_upset_table,\n",
    "    zmax=max(key_upset_table.max(axis=None), luck_per_game_table.max(axis=None), abs(min(key_upset_table.min(axis=None), luck_per_game_table.min(axis=None)))),\n",
    "    zmid=0,\n",
    "    zmin=max(key_upset_table.max(axis=None), luck_per_game_table.max(axis=None), abs(min(key_upset_table.min(axis=None), luck_per_game_table.min(axis=None)))) * -1,\n",
    "    text=key_upset_table.applymap(lambda x: \"\" if np.isnan(x) else f\"{x:+.1%}\"),\n",
    "    texttemplate=\"%{text}\",\n",
    "    colorscale=diverging.RdBu_r,\n",
    "    hoverongaps=False\n",
    ")\n",
    "\n",
    "go_luck_pg = go.Heatmap(\n",
    "    x=[x.replace(\" \", \"<br>\") for x in win_prob_table.columns],\n",
    "    y=[x.replace(\" \", \"<br>\") for x in win_prob_table.index],\n",
    "    z=luck_per_game_table,\n",
    "    zmax=max(key_upset_table.max(axis=None), luck_per_game_table.max(axis=None), abs(min(key_upset_table.min(axis=None), luck_per_game_table.min(axis=None)))),\n",
    "    zmid=0,\n",
    "    zmin=max(key_upset_table.max(axis=None), luck_per_game_table.max(axis=None), abs(min(key_upset_table.min(axis=None), luck_per_game_table.min(axis=None)))) * -1,\n",
    "    text=luck_per_game_table.applymap(lambda x: \"\" if np.isnan(x) else f\"{x:+.1%}\"),\n",
    "    texttemplate=\"%{text}\",\n",
    "    colorscale=diverging.RdBu_r,\n",
    "    hoverongaps=False\n",
    ")\n",
    "\n",
    "fig2.add_trace(go_ou, row=1, col=1)\n",
    "fig2.add_trace(go_luck_pg, row=1, col=2)\n",
    "\n",
    "fig2.layout.yaxis1.title=\"<b>Self</b>\"\n",
    "fig2.layout.yaxis2.title=\"<b>Self</b>\"\n",
    "fig2.layout.xaxis1.title=\"<b>Other</b>\"\n",
    "fig2.layout.xaxis2.title=\"<b>Other</b>\"\n",
    "\n",
    "fig2.update_traces(hoverinfo='skip')\n",
    "\n",
    "fig2.update_layout(\n",
    "    title=f\"<b>Head-to-Head Advanced Statistics</b>, {updated_time}\"\n",
    ")\n",
    "\n",
    "fig2.show()\n",
    "fig2.write_html('figures/fig2.html')"
   ]
  },
  {
   "cell_type": "code",
   "execution_count": 12,
   "metadata": {},
   "outputs": [
    {
     "data": {
      "text/html": [
       "<div>\n",
       "<style scoped>\n",
       "    .dataframe tbody tr th:only-of-type {\n",
       "        vertical-align: middle;\n",
       "    }\n",
       "\n",
       "    .dataframe tbody tr th {\n",
       "        vertical-align: top;\n",
       "    }\n",
       "\n",
       "    .dataframe thead th {\n",
       "        text-align: right;\n",
       "    }\n",
       "</style>\n",
       "<table border=\"1\" class=\"dataframe\">\n",
       "  <thead>\n",
       "    <tr style=\"text-align: right;\">\n",
       "      <th></th>\n",
       "      <th>Paul Bartenfeld</th>\n",
       "      <th>Jack Massingill</th>\n",
       "      <th>Roman Ramirez</th>\n",
       "      <th>Evan Sooklal</th>\n",
       "      <th>Lilith Karyadi</th>\n",
       "      <th>Will Simpson</th>\n",
       "      <th>Aaron Carter</th>\n",
       "    </tr>\n",
       "  </thead>\n",
       "  <tbody>\n",
       "    <tr>\n",
       "      <th>Paul Bartenfeld</th>\n",
       "      <td>NaN</td>\n",
       "      <td>0.538523</td>\n",
       "      <td>0.413565</td>\n",
       "      <td>0.391582</td>\n",
       "      <td>0.226532</td>\n",
       "      <td>0.175847</td>\n",
       "      <td>0.075904</td>\n",
       "    </tr>\n",
       "    <tr>\n",
       "      <th>Jack Massingill</th>\n",
       "      <td>1.85693</td>\n",
       "      <td>NaN</td>\n",
       "      <td>0.76796</td>\n",
       "      <td>0.727141</td>\n",
       "      <td>0.420653</td>\n",
       "      <td>0.326536</td>\n",
       "      <td>0.140949</td>\n",
       "    </tr>\n",
       "    <tr>\n",
       "      <th>Roman Ramirez</th>\n",
       "      <td>2.418001</td>\n",
       "      <td>1.30215</td>\n",
       "      <td>NaN</td>\n",
       "      <td>0.946846</td>\n",
       "      <td>0.547754</td>\n",
       "      <td>0.425199</td>\n",
       "      <td>0.183536</td>\n",
       "    </tr>\n",
       "    <tr>\n",
       "      <th>Evan Sooklal</th>\n",
       "      <td>2.553742</td>\n",
       "      <td>1.37525</td>\n",
       "      <td>1.056137</td>\n",
       "      <td>NaN</td>\n",
       "      <td>0.578503</td>\n",
       "      <td>0.449068</td>\n",
       "      <td>0.193839</td>\n",
       "    </tr>\n",
       "    <tr>\n",
       "      <th>Lilith Karyadi</th>\n",
       "      <td>4.414396</td>\n",
       "      <td>2.377256</td>\n",
       "      <td>1.825638</td>\n",
       "      <td>1.728599</td>\n",
       "      <td>NaN</td>\n",
       "      <td>0.776259</td>\n",
       "      <td>0.335071</td>\n",
       "    </tr>\n",
       "    <tr>\n",
       "      <th>Will Simpson</th>\n",
       "      <td>5.686758</td>\n",
       "      <td>3.062452</td>\n",
       "      <td>2.351842</td>\n",
       "      <td>2.226833</td>\n",
       "      <td>1.28823</td>\n",
       "      <td>NaN</td>\n",
       "      <td>0.431648</td>\n",
       "    </tr>\n",
       "    <tr>\n",
       "      <th>Aaron Carter</th>\n",
       "      <td>13.174523</td>\n",
       "      <td>7.094789</td>\n",
       "      <td>5.448518</td>\n",
       "      <td>5.158909</td>\n",
       "      <td>2.984445</td>\n",
       "      <td>2.316702</td>\n",
       "      <td>NaN</td>\n",
       "    </tr>\n",
       "  </tbody>\n",
       "</table>\n",
       "</div>"
      ],
      "text/plain": [
       "                Paul Bartenfeld Jack Massingill Roman Ramirez Evan Sooklal  \\\n",
       "Paul Bartenfeld             NaN        0.538523      0.413565     0.391582   \n",
       "Jack Massingill         1.85693             NaN       0.76796     0.727141   \n",
       "Roman Ramirez          2.418001         1.30215           NaN     0.946846   \n",
       "Evan Sooklal           2.553742         1.37525      1.056137          NaN   \n",
       "Lilith Karyadi         4.414396        2.377256      1.825638     1.728599   \n",
       "Will Simpson           5.686758        3.062452      2.351842     2.226833   \n",
       "Aaron Carter          13.174523        7.094789      5.448518     5.158909   \n",
       "\n",
       "                Lilith Karyadi Will Simpson Aaron Carter  \n",
       "Paul Bartenfeld       0.226532     0.175847     0.075904  \n",
       "Jack Massingill       0.420653     0.326536     0.140949  \n",
       "Roman Ramirez         0.547754     0.425199     0.183536  \n",
       "Evan Sooklal          0.578503     0.449068     0.193839  \n",
       "Lilith Karyadi             NaN     0.776259     0.335071  \n",
       "Will Simpson           1.28823          NaN     0.431648  \n",
       "Aaron Carter          2.984445     2.316702          NaN  "
      ]
     },
     "metadata": {},
     "output_type": "display_data"
    },
    {
     "data": {
      "text/html": [
       "<div>\n",
       "<style scoped>\n",
       "    .dataframe tbody tr th:only-of-type {\n",
       "        vertical-align: middle;\n",
       "    }\n",
       "\n",
       "    .dataframe tbody tr th {\n",
       "        vertical-align: top;\n",
       "    }\n",
       "\n",
       "    .dataframe thead th {\n",
       "        text-align: right;\n",
       "    }\n",
       "</style>\n",
       "<table border=\"1\" class=\"dataframe\">\n",
       "  <thead>\n",
       "    <tr style=\"text-align: right;\">\n",
       "      <th></th>\n",
       "      <th>Paul Bartenfeld</th>\n",
       "      <th>Jack Massingill</th>\n",
       "      <th>Roman Ramirez</th>\n",
       "      <th>Evan Sooklal</th>\n",
       "      <th>Lilith Karyadi</th>\n",
       "      <th>Will Simpson</th>\n",
       "      <th>Aaron Carter</th>\n",
       "    </tr>\n",
       "  </thead>\n",
       "  <tbody>\n",
       "    <tr>\n",
       "      <th>Paul Bartenfeld</th>\n",
       "      <td>NaN</td>\n",
       "      <td>+185</td>\n",
       "      <td>+240</td>\n",
       "      <td>+255</td>\n",
       "      <td>+440</td>\n",
       "      <td>+570</td>\n",
       "      <td>+1315</td>\n",
       "    </tr>\n",
       "    <tr>\n",
       "      <th>Jack Massingill</th>\n",
       "      <td>-185</td>\n",
       "      <td>NaN</td>\n",
       "      <td>+130</td>\n",
       "      <td>+140</td>\n",
       "      <td>+240</td>\n",
       "      <td>+305</td>\n",
       "      <td>+710</td>\n",
       "    </tr>\n",
       "    <tr>\n",
       "      <th>Roman Ramirez</th>\n",
       "      <td>-240</td>\n",
       "      <td>-130</td>\n",
       "      <td>NaN</td>\n",
       "      <td>+105</td>\n",
       "      <td>+185</td>\n",
       "      <td>+235</td>\n",
       "      <td>+545</td>\n",
       "    </tr>\n",
       "    <tr>\n",
       "      <th>Evan Sooklal</th>\n",
       "      <td>-255</td>\n",
       "      <td>-140</td>\n",
       "      <td>-105</td>\n",
       "      <td>NaN</td>\n",
       "      <td>+175</td>\n",
       "      <td>+225</td>\n",
       "      <td>+515</td>\n",
       "    </tr>\n",
       "    <tr>\n",
       "      <th>Lilith Karyadi</th>\n",
       "      <td>-440</td>\n",
       "      <td>-240</td>\n",
       "      <td>-185</td>\n",
       "      <td>-175</td>\n",
       "      <td>NaN</td>\n",
       "      <td>+130</td>\n",
       "      <td>+300</td>\n",
       "    </tr>\n",
       "    <tr>\n",
       "      <th>Will Simpson</th>\n",
       "      <td>-570</td>\n",
       "      <td>-305</td>\n",
       "      <td>-235</td>\n",
       "      <td>-225</td>\n",
       "      <td>-130</td>\n",
       "      <td>NaN</td>\n",
       "      <td>+230</td>\n",
       "    </tr>\n",
       "    <tr>\n",
       "      <th>Aaron Carter</th>\n",
       "      <td>-1315</td>\n",
       "      <td>-710</td>\n",
       "      <td>-545</td>\n",
       "      <td>-515</td>\n",
       "      <td>-300</td>\n",
       "      <td>-230</td>\n",
       "      <td>NaN</td>\n",
       "    </tr>\n",
       "  </tbody>\n",
       "</table>\n",
       "</div>"
      ],
      "text/plain": [
       "                Paul Bartenfeld Jack Massingill Roman Ramirez Evan Sooklal  \\\n",
       "Paul Bartenfeld             NaN            +185          +240         +255   \n",
       "Jack Massingill            -185             NaN          +130         +140   \n",
       "Roman Ramirez              -240            -130           NaN         +105   \n",
       "Evan Sooklal               -255            -140          -105          NaN   \n",
       "Lilith Karyadi             -440            -240          -185         -175   \n",
       "Will Simpson               -570            -305          -235         -225   \n",
       "Aaron Carter              -1315            -710          -545         -515   \n",
       "\n",
       "                Lilith Karyadi Will Simpson Aaron Carter  \n",
       "Paul Bartenfeld           +440         +570        +1315  \n",
       "Jack Massingill           +240         +305         +710  \n",
       "Roman Ramirez             +185         +235         +545  \n",
       "Evan Sooklal              +175         +225         +515  \n",
       "Lilith Karyadi             NaN         +130         +300  \n",
       "Will Simpson              -130          NaN         +230  \n",
       "Aaron Carter              -300         -230          NaN  "
      ]
     },
     "metadata": {},
     "output_type": "display_data"
    }
   ],
   "source": [
    "# betting/gambling table\n",
    "\n",
    "# to-do\n",
    "# odds to win championship\n",
    "# record for/against the spread\n",
    "# player vs. player spread\n",
    "# over/under total\n",
    "\n",
    "odds_table = win_prob_table / win_prob_table.T\n",
    "ml_table = odds_table.copy(deep=True)\n",
    "\n",
    "for c in ml_table.columns:\n",
    "    for r in ml_table.index:\n",
    "        ml_table.loc[r, c] = np.NaN\n",
    "        win_prob = win_prob_table.loc[r, c]\n",
    "        if r == c:\n",
    "            pass\n",
    "        elif win_prob > 0.5:\n",
    "            ml_table.loc[r, c] = -1 * win_prob / (1 - win_prob) * 100\n",
    "        elif win_prob < 0.5:\n",
    "            ml_table.loc[r, c] = (1 - win_prob) / win_prob * 100\n",
    "\n",
    "ml_table = ml_table.applymap(lambda x: '{:+.0f}'.format((x * 2).round(-1) / 2) if not np.isnan(x) else np.NaN)\n",
    "\n",
    "display(odds_table)\n",
    "display(ml_table)"
   ]
  },
  {
   "cell_type": "code",
   "execution_count": 13,
   "metadata": {},
   "outputs": [
    {
     "data": {
      "text/html": [
       "<div>\n",
       "<style scoped>\n",
       "    .dataframe tbody tr th:only-of-type {\n",
       "        vertical-align: middle;\n",
       "    }\n",
       "\n",
       "    .dataframe tbody tr th {\n",
       "        vertical-align: top;\n",
       "    }\n",
       "\n",
       "    .dataframe thead th {\n",
       "        text-align: right;\n",
       "    }\n",
       "</style>\n",
       "<table border=\"1\" class=\"dataframe\">\n",
       "  <thead>\n",
       "    <tr style=\"text-align: right;\">\n",
       "      <th></th>\n",
       "      <th>Paul Bartenfeld</th>\n",
       "      <th>Jack Massingill</th>\n",
       "      <th>Roman Ramirez</th>\n",
       "      <th>Evan Sooklal</th>\n",
       "      <th>Lilith Karyadi</th>\n",
       "      <th>Will Simpson</th>\n",
       "      <th>Aaron Carter</th>\n",
       "    </tr>\n",
       "  </thead>\n",
       "  <tbody>\n",
       "    <tr>\n",
       "      <th>Paul Bartenfeld</th>\n",
       "      <td>NaN</td>\n",
       "      <td>0.281786</td>\n",
       "      <td>0.206704</td>\n",
       "      <td>0.192984</td>\n",
       "      <td>0.089734</td>\n",
       "      <td>0.060406</td>\n",
       "      <td>0.014229</td>\n",
       "    </tr>\n",
       "    <tr>\n",
       "      <th>Jack Massingill</th>\n",
       "      <td>0.718214</td>\n",
       "      <td>NaN</td>\n",
       "      <td>0.402130</td>\n",
       "      <td>0.382498</td>\n",
       "      <td>0.211102</td>\n",
       "      <td>0.151949</td>\n",
       "      <td>0.042013</td>\n",
       "    </tr>\n",
       "    <tr>\n",
       "      <th>Roman Ramirez</th>\n",
       "      <td>0.793296</td>\n",
       "      <td>0.597870</td>\n",
       "      <td>NaN</td>\n",
       "      <td>0.479528</td>\n",
       "      <td>0.287090</td>\n",
       "      <td>0.213916</td>\n",
       "      <td>0.064686</td>\n",
       "    </tr>\n",
       "    <tr>\n",
       "      <th>Evan Sooklal</th>\n",
       "      <td>0.807016</td>\n",
       "      <td>0.617502</td>\n",
       "      <td>0.520472</td>\n",
       "      <td>NaN</td>\n",
       "      <td>0.304492</td>\n",
       "      <td>0.228591</td>\n",
       "      <td>0.070528</td>\n",
       "    </tr>\n",
       "    <tr>\n",
       "      <th>Lilith Karyadi</th>\n",
       "      <td>0.910266</td>\n",
       "      <td>0.788898</td>\n",
       "      <td>0.712910</td>\n",
       "      <td>0.695508</td>\n",
       "      <td>NaN</td>\n",
       "      <td>0.406028</td>\n",
       "      <td>0.157349</td>\n",
       "    </tr>\n",
       "    <tr>\n",
       "      <th>Will Simpson</th>\n",
       "      <td>0.939594</td>\n",
       "      <td>0.848051</td>\n",
       "      <td>0.786084</td>\n",
       "      <td>0.771409</td>\n",
       "      <td>0.593972</td>\n",
       "      <td>NaN</td>\n",
       "      <td>0.217898</td>\n",
       "    </tr>\n",
       "    <tr>\n",
       "      <th>Aaron Carter</th>\n",
       "      <td>0.985771</td>\n",
       "      <td>0.957987</td>\n",
       "      <td>0.935314</td>\n",
       "      <td>0.929472</td>\n",
       "      <td>0.842651</td>\n",
       "      <td>0.782102</td>\n",
       "      <td>NaN</td>\n",
       "    </tr>\n",
       "  </tbody>\n",
       "</table>\n",
       "</div>"
      ],
      "text/plain": [
       "                 Paul Bartenfeld  Jack Massingill  Roman Ramirez  \\\n",
       "Paul Bartenfeld              NaN         0.281786       0.206704   \n",
       "Jack Massingill         0.718214              NaN       0.402130   \n",
       "Roman Ramirez           0.793296         0.597870            NaN   \n",
       "Evan Sooklal            0.807016         0.617502       0.520472   \n",
       "Lilith Karyadi          0.910266         0.788898       0.712910   \n",
       "Will Simpson            0.939594         0.848051       0.786084   \n",
       "Aaron Carter            0.985771         0.957987       0.935314   \n",
       "\n",
       "                 Evan Sooklal  Lilith Karyadi  Will Simpson  Aaron Carter  \n",
       "Paul Bartenfeld      0.192984        0.089734      0.060406      0.014229  \n",
       "Jack Massingill      0.382498        0.211102      0.151949      0.042013  \n",
       "Roman Ramirez        0.479528        0.287090      0.213916      0.064686  \n",
       "Evan Sooklal              NaN        0.304492      0.228591      0.070528  \n",
       "Lilith Karyadi       0.695508             NaN      0.406028      0.157349  \n",
       "Will Simpson         0.771409        0.593972           NaN      0.217898  \n",
       "Aaron Carter         0.929472        0.842651      0.782102           NaN  "
      ]
     },
     "metadata": {},
     "output_type": "display_data"
    }
   ],
   "source": [
    "# best 2 out of 3 calculator\n",
    "best_23_table = win_pct_table.copy(deep=True)\n",
    "best_23_table = best_23_table.applymap(lambda x: 0)\n",
    "\n",
    "for c in best_23_table.columns:\n",
    "    for r in best_23_table.columns:\n",
    "        if r == c:\n",
    "            best_23_table.loc[r, c] = np.NaN\n",
    "        else:\n",
    "            win_prob = win_prob_table.loc[r, c]\n",
    "            best_23_table.loc[r, c] = np.power(win_prob, 2) * (1 + (2 * (1 - win_prob)))\n",
    "\n",
    "display(best_23_table)"
   ]
  },
  {
   "cell_type": "code",
   "execution_count": 14,
   "metadata": {},
   "outputs": [
    {
     "data": {
      "text/html": [
       "<div>\n",
       "<style scoped>\n",
       "    .dataframe tbody tr th:only-of-type {\n",
       "        vertical-align: middle;\n",
       "    }\n",
       "\n",
       "    .dataframe tbody tr th {\n",
       "        vertical-align: top;\n",
       "    }\n",
       "\n",
       "    .dataframe thead th {\n",
       "        text-align: right;\n",
       "    }\n",
       "</style>\n",
       "<table border=\"1\" class=\"dataframe\">\n",
       "  <thead>\n",
       "    <tr style=\"text-align: right;\">\n",
       "      <th></th>\n",
       "      <th>0</th>\n",
       "      <th>1</th>\n",
       "      <th>2</th>\n",
       "      <th>3</th>\n",
       "      <th>4</th>\n",
       "      <th>5</th>\n",
       "      <th>6</th>\n",
       "      <th>7</th>\n",
       "      <th>8</th>\n",
       "    </tr>\n",
       "  </thead>\n",
       "  <tbody>\n",
       "    <tr>\n",
       "      <th>Aaron Carter</th>\n",
       "      <td>7.763930e-07</td>\n",
       "      <td>0.000034</td>\n",
       "      <td>0.000622</td>\n",
       "      <td>0.006175</td>\n",
       "      <td>0.036699</td>\n",
       "      <td>0.133839</td>\n",
       "      <td>0.292812</td>\n",
       "      <td>0.351796</td>\n",
       "      <td>0.178022</td>\n",
       "    </tr>\n",
       "    <tr>\n",
       "      <th>Will Simpson</th>\n",
       "      <td>2.165111e-04</td>\n",
       "      <td>0.003861</td>\n",
       "      <td>0.027950</td>\n",
       "      <td>0.107393</td>\n",
       "      <td>0.238135</td>\n",
       "      <td>0.308139</td>\n",
       "      <td>0.222770</td>\n",
       "      <td>0.080389</td>\n",
       "      <td>0.011147</td>\n",
       "    </tr>\n",
       "    <tr>\n",
       "      <th>Lilith Karyadi</th>\n",
       "      <td>7.928635e-04</td>\n",
       "      <td>0.010797</td>\n",
       "      <td>0.059397</td>\n",
       "      <td>0.172435</td>\n",
       "      <td>0.287004</td>\n",
       "      <td>0.276843</td>\n",
       "      <td>0.148537</td>\n",
       "      <td>0.040016</td>\n",
       "      <td>0.004178</td>\n",
       "    </tr>\n",
       "    <tr>\n",
       "      <th>Evan Sooklal</th>\n",
       "      <td>8.595565e-03</td>\n",
       "      <td>0.064093</td>\n",
       "      <td>0.190583</td>\n",
       "      <td>0.296011</td>\n",
       "      <td>0.261851</td>\n",
       "      <td>0.134214</td>\n",
       "      <td>0.038644</td>\n",
       "      <td>0.005681</td>\n",
       "      <td>0.000329</td>\n",
       "    </tr>\n",
       "    <tr>\n",
       "      <th>Roman Ramirez</th>\n",
       "      <td>1.482336e-02</td>\n",
       "      <td>0.095347</td>\n",
       "      <td>0.238698</td>\n",
       "      <td>0.307002</td>\n",
       "      <td>0.223422</td>\n",
       "      <td>0.094736</td>\n",
       "      <td>0.022926</td>\n",
       "      <td>0.002899</td>\n",
       "      <td>0.000147</td>\n",
       "    </tr>\n",
       "    <tr>\n",
       "      <th>Jack Massingill</th>\n",
       "      <td>2.642948e-02</td>\n",
       "      <td>0.136087</td>\n",
       "      <td>0.277949</td>\n",
       "      <td>0.297273</td>\n",
       "      <td>0.182255</td>\n",
       "      <td>0.065300</td>\n",
       "      <td>0.013262</td>\n",
       "      <td>0.001387</td>\n",
       "      <td>0.000057</td>\n",
       "    </tr>\n",
       "    <tr>\n",
       "      <th>Paul Bartenfeld</th>\n",
       "      <td>1.400164e-01</td>\n",
       "      <td>0.323637</td>\n",
       "      <td>0.312481</td>\n",
       "      <td>0.163445</td>\n",
       "      <td>0.050215</td>\n",
       "      <td>0.009185</td>\n",
       "      <td>0.000966</td>\n",
       "      <td>0.000053</td>\n",
       "      <td>0.000001</td>\n",
       "    </tr>\n",
       "  </tbody>\n",
       "</table>\n",
       "</div>"
      ],
      "text/plain": [
       "                            0         1         2         3         4  \\\n",
       "Aaron Carter     7.763930e-07  0.000034  0.000622  0.006175  0.036699   \n",
       "Will Simpson     2.165111e-04  0.003861  0.027950  0.107393  0.238135   \n",
       "Lilith Karyadi   7.928635e-04  0.010797  0.059397  0.172435  0.287004   \n",
       "Evan Sooklal     8.595565e-03  0.064093  0.190583  0.296011  0.261851   \n",
       "Roman Ramirez    1.482336e-02  0.095347  0.238698  0.307002  0.223422   \n",
       "Jack Massingill  2.642948e-02  0.136087  0.277949  0.297273  0.182255   \n",
       "Paul Bartenfeld  1.400164e-01  0.323637  0.312481  0.163445  0.050215   \n",
       "\n",
       "                        5         6         7         8  \n",
       "Aaron Carter     0.133839  0.292812  0.351796  0.178022  \n",
       "Will Simpson     0.308139  0.222770  0.080389  0.011147  \n",
       "Lilith Karyadi   0.276843  0.148537  0.040016  0.004178  \n",
       "Evan Sooklal     0.134214  0.038644  0.005681  0.000329  \n",
       "Roman Ramirez    0.094736  0.022926  0.002899  0.000147  \n",
       "Jack Massingill  0.065300  0.013262  0.001387  0.000057  \n",
       "Paul Bartenfeld  0.009185  0.000966  0.000053  0.000001  "
      ]
     },
     "metadata": {},
     "output_type": "display_data"
    },
    {
     "data": {
      "text/html": [
       "<div>\n",
       "<style scoped>\n",
       "    .dataframe tbody tr th:only-of-type {\n",
       "        vertical-align: middle;\n",
       "    }\n",
       "\n",
       "    .dataframe tbody tr th {\n",
       "        vertical-align: top;\n",
       "    }\n",
       "\n",
       "    .dataframe thead th {\n",
       "        text-align: right;\n",
       "    }\n",
       "</style>\n",
       "<table border=\"1\" class=\"dataframe\">\n",
       "  <thead>\n",
       "    <tr style=\"text-align: right;\">\n",
       "      <th></th>\n",
       "      <th>0</th>\n",
       "      <th>1</th>\n",
       "      <th>2</th>\n",
       "      <th>3</th>\n",
       "      <th>4</th>\n",
       "      <th>5</th>\n",
       "      <th>6</th>\n",
       "      <th>7</th>\n",
       "      <th>8</th>\n",
       "    </tr>\n",
       "  </thead>\n",
       "  <tbody>\n",
       "    <tr>\n",
       "      <th>Aaron Carter</th>\n",
       "      <td>1.288006e+06</td>\n",
       "      <td>29309.796342</td>\n",
       "      <td>1607.537155</td>\n",
       "      <td>160.931823</td>\n",
       "      <td>26.248484</td>\n",
       "      <td>6.471681</td>\n",
       "      <td>2.415160</td>\n",
       "      <td>1.842560</td>\n",
       "      <td>4.617271</td>\n",
       "    </tr>\n",
       "    <tr>\n",
       "      <th>Will Simpson</th>\n",
       "      <td>4.617700e+03</td>\n",
       "      <td>258.022719</td>\n",
       "      <td>34.778567</td>\n",
       "      <td>8.311584</td>\n",
       "      <td>3.199304</td>\n",
       "      <td>2.245293</td>\n",
       "      <td>3.488931</td>\n",
       "      <td>11.439482</td>\n",
       "      <td>88.707465</td>\n",
       "    </tr>\n",
       "    <tr>\n",
       "      <th>Lilith Karyadi</th>\n",
       "      <td>1.260251e+03</td>\n",
       "      <td>91.616969</td>\n",
       "      <td>15.835917</td>\n",
       "      <td>4.799287</td>\n",
       "      <td>2.484278</td>\n",
       "      <td>2.612155</td>\n",
       "      <td>5.732312</td>\n",
       "      <td>23.989764</td>\n",
       "      <td>238.359842</td>\n",
       "    </tr>\n",
       "    <tr>\n",
       "      <th>Evan Sooklal</th>\n",
       "      <td>1.153391e+02</td>\n",
       "      <td>14.602333</td>\n",
       "      <td>4.247068</td>\n",
       "      <td>2.378255</td>\n",
       "      <td>2.818972</td>\n",
       "      <td>6.450812</td>\n",
       "      <td>24.877400</td>\n",
       "      <td>175.010168</td>\n",
       "      <td>3041.453196</td>\n",
       "    </tr>\n",
       "    <tr>\n",
       "      <th>Roman Ramirez</th>\n",
       "      <td>6.646108e+01</td>\n",
       "      <td>9.487991</td>\n",
       "      <td>3.189396</td>\n",
       "      <td>2.257312</td>\n",
       "      <td>3.475831</td>\n",
       "      <td>9.555692</td>\n",
       "      <td>42.618651</td>\n",
       "      <td>343.962200</td>\n",
       "      <td>6782.343657</td>\n",
       "    </tr>\n",
       "    <tr>\n",
       "      <th>Jack Massingill</th>\n",
       "      <td>3.683654e+01</td>\n",
       "      <td>6.348218</td>\n",
       "      <td>2.597786</td>\n",
       "      <td>2.363907</td>\n",
       "      <td>4.486826</td>\n",
       "      <td>14.313871</td>\n",
       "      <td>74.405124</td>\n",
       "      <td>720.064924</td>\n",
       "      <td>17410.814159</td>\n",
       "    </tr>\n",
       "    <tr>\n",
       "      <th>Paul Bartenfeld</th>\n",
       "      <td>6.142020e+00</td>\n",
       "      <td>2.089882</td>\n",
       "      <td>2.200193</td>\n",
       "      <td>5.118262</td>\n",
       "      <td>18.914499</td>\n",
       "      <td>107.871632</td>\n",
       "      <td>1033.799164</td>\n",
       "      <td>18880.042356</td>\n",
       "      <td>862803.639852</td>\n",
       "    </tr>\n",
       "  </tbody>\n",
       "</table>\n",
       "</div>"
      ],
      "text/plain": [
       "                            0             1            2           3  \\\n",
       "Aaron Carter     1.288006e+06  29309.796342  1607.537155  160.931823   \n",
       "Will Simpson     4.617700e+03    258.022719    34.778567    8.311584   \n",
       "Lilith Karyadi   1.260251e+03     91.616969    15.835917    4.799287   \n",
       "Evan Sooklal     1.153391e+02     14.602333     4.247068    2.378255   \n",
       "Roman Ramirez    6.646108e+01      9.487991     3.189396    2.257312   \n",
       "Jack Massingill  3.683654e+01      6.348218     2.597786    2.363907   \n",
       "Paul Bartenfeld  6.142020e+00      2.089882     2.200193    5.118262   \n",
       "\n",
       "                         4           5            6             7  \\\n",
       "Aaron Carter     26.248484    6.471681     2.415160      1.842560   \n",
       "Will Simpson      3.199304    2.245293     3.488931     11.439482   \n",
       "Lilith Karyadi    2.484278    2.612155     5.732312     23.989764   \n",
       "Evan Sooklal      2.818972    6.450812    24.877400    175.010168   \n",
       "Roman Ramirez     3.475831    9.555692    42.618651    343.962200   \n",
       "Jack Massingill   4.486826   14.313871    74.405124    720.064924   \n",
       "Paul Bartenfeld  18.914499  107.871632  1033.799164  18880.042356   \n",
       "\n",
       "                             8  \n",
       "Aaron Carter          4.617271  \n",
       "Will Simpson         88.707465  \n",
       "Lilith Karyadi      238.359842  \n",
       "Evan Sooklal       3041.453196  \n",
       "Roman Ramirez      6782.343657  \n",
       "Jack Massingill   17410.814159  \n",
       "Paul Bartenfeld  862803.639852  "
      ]
     },
     "metadata": {},
     "output_type": "display_data"
    },
    {
     "data": {
      "text/html": [
       "<div>\n",
       "<style scoped>\n",
       "    .dataframe tbody tr th:only-of-type {\n",
       "        vertical-align: middle;\n",
       "    }\n",
       "\n",
       "    .dataframe tbody tr th {\n",
       "        vertical-align: top;\n",
       "    }\n",
       "\n",
       "    .dataframe thead th {\n",
       "        text-align: right;\n",
       "    }\n",
       "</style>\n",
       "<table border=\"1\" class=\"dataframe\">\n",
       "  <thead>\n",
       "    <tr style=\"text-align: right;\">\n",
       "      <th></th>\n",
       "      <th>0</th>\n",
       "      <th>1</th>\n",
       "      <th>2</th>\n",
       "      <th>3</th>\n",
       "      <th>4</th>\n",
       "      <th>5</th>\n",
       "      <th>6</th>\n",
       "      <th>7</th>\n",
       "      <th>8</th>\n",
       "    </tr>\n",
       "  </thead>\n",
       "  <tbody>\n",
       "    <tr>\n",
       "      <th>Aaron Carter</th>\n",
       "      <td>+130,000,000</td>\n",
       "      <td>+2,900,000</td>\n",
       "      <td>+160,000</td>\n",
       "      <td>+16,000</td>\n",
       "      <td>+2,600</td>\n",
       "      <td>+650</td>\n",
       "      <td>+240</td>\n",
       "      <td>+180</td>\n",
       "      <td>+460</td>\n",
       "    </tr>\n",
       "    <tr>\n",
       "      <th>Will Simpson</th>\n",
       "      <td>+460,000</td>\n",
       "      <td>+26,000</td>\n",
       "      <td>+3,500</td>\n",
       "      <td>+830</td>\n",
       "      <td>+320</td>\n",
       "      <td>+220</td>\n",
       "      <td>+350</td>\n",
       "      <td>+1,100</td>\n",
       "      <td>+8,900</td>\n",
       "    </tr>\n",
       "    <tr>\n",
       "      <th>Lilith Karyadi</th>\n",
       "      <td>+130,000</td>\n",
       "      <td>+9,200</td>\n",
       "      <td>+1,600</td>\n",
       "      <td>+480</td>\n",
       "      <td>+250</td>\n",
       "      <td>+260</td>\n",
       "      <td>+570</td>\n",
       "      <td>+2,400</td>\n",
       "      <td>+24,000</td>\n",
       "    </tr>\n",
       "    <tr>\n",
       "      <th>Evan Sooklal</th>\n",
       "      <td>+12,000</td>\n",
       "      <td>+1,500</td>\n",
       "      <td>+420</td>\n",
       "      <td>+240</td>\n",
       "      <td>+280</td>\n",
       "      <td>+650</td>\n",
       "      <td>+2,500</td>\n",
       "      <td>+18,000</td>\n",
       "      <td>+300,000</td>\n",
       "    </tr>\n",
       "    <tr>\n",
       "      <th>Roman Ramirez</th>\n",
       "      <td>+6,600</td>\n",
       "      <td>+950</td>\n",
       "      <td>+320</td>\n",
       "      <td>+230</td>\n",
       "      <td>+350</td>\n",
       "      <td>+960</td>\n",
       "      <td>+4,300</td>\n",
       "      <td>+34,000</td>\n",
       "      <td>+680,000</td>\n",
       "    </tr>\n",
       "    <tr>\n",
       "      <th>Jack Massingill</th>\n",
       "      <td>+3,700</td>\n",
       "      <td>+630</td>\n",
       "      <td>+260</td>\n",
       "      <td>+240</td>\n",
       "      <td>+450</td>\n",
       "      <td>+1,400</td>\n",
       "      <td>+7,400</td>\n",
       "      <td>+72,000</td>\n",
       "      <td>+1,700,000</td>\n",
       "    </tr>\n",
       "    <tr>\n",
       "      <th>Paul Bartenfeld</th>\n",
       "      <td>+610</td>\n",
       "      <td>+210</td>\n",
       "      <td>+220</td>\n",
       "      <td>+510</td>\n",
       "      <td>+1,900</td>\n",
       "      <td>+11,000</td>\n",
       "      <td>+100,000</td>\n",
       "      <td>+1,900,000</td>\n",
       "      <td>+86,000,000</td>\n",
       "    </tr>\n",
       "  </tbody>\n",
       "</table>\n",
       "</div>"
      ],
      "text/plain": [
       "                            0           1         2        3       4        5  \\\n",
       "Aaron Carter     +130,000,000  +2,900,000  +160,000  +16,000  +2,600     +650   \n",
       "Will Simpson         +460,000     +26,000    +3,500     +830    +320     +220   \n",
       "Lilith Karyadi       +130,000      +9,200    +1,600     +480    +250     +260   \n",
       "Evan Sooklal          +12,000      +1,500      +420     +240    +280     +650   \n",
       "Roman Ramirez          +6,600        +950      +320     +230    +350     +960   \n",
       "Jack Massingill        +3,700        +630      +260     +240    +450   +1,400   \n",
       "Paul Bartenfeld          +610        +210      +220     +510  +1,900  +11,000   \n",
       "\n",
       "                        6           7            8  \n",
       "Aaron Carter         +240        +180         +460  \n",
       "Will Simpson         +350      +1,100       +8,900  \n",
       "Lilith Karyadi       +570      +2,400      +24,000  \n",
       "Evan Sooklal       +2,500     +18,000     +300,000  \n",
       "Roman Ramirez      +4,300     +34,000     +680,000  \n",
       "Jack Massingill    +7,400     +72,000   +1,700,000  \n",
       "Paul Bartenfeld  +100,000  +1,900,000  +86,000,000  "
      ]
     },
     "metadata": {},
     "output_type": "display_data"
    },
    {
     "data": {
      "text/html": [
       "<div>\n",
       "<style scoped>\n",
       "    .dataframe tbody tr th:only-of-type {\n",
       "        vertical-align: middle;\n",
       "    }\n",
       "\n",
       "    .dataframe tbody tr th {\n",
       "        vertical-align: top;\n",
       "    }\n",
       "\n",
       "    .dataframe thead th {\n",
       "        text-align: right;\n",
       "    }\n",
       "</style>\n",
       "<table border=\"1\" class=\"dataframe\">\n",
       "  <thead>\n",
       "    <tr style=\"text-align: right;\">\n",
       "      <th></th>\n",
       "      <th>1</th>\n",
       "      <th>2</th>\n",
       "      <th>3</th>\n",
       "      <th>4</th>\n",
       "      <th>5</th>\n",
       "      <th>6</th>\n",
       "      <th>7</th>\n",
       "      <th>8</th>\n",
       "    </tr>\n",
       "  </thead>\n",
       "  <tbody>\n",
       "    <tr>\n",
       "      <th>Aaron Carter</th>\n",
       "      <td>0.999999</td>\n",
       "      <td>0.999965</td>\n",
       "      <td>0.999343</td>\n",
       "      <td>0.993168</td>\n",
       "      <td>0.956469</td>\n",
       "      <td>0.822630</td>\n",
       "      <td>0.529818</td>\n",
       "      <td>0.178022</td>\n",
       "    </tr>\n",
       "    <tr>\n",
       "      <th>Will Simpson</th>\n",
       "      <td>0.999783</td>\n",
       "      <td>0.995923</td>\n",
       "      <td>0.967973</td>\n",
       "      <td>0.860580</td>\n",
       "      <td>0.622445</td>\n",
       "      <td>0.314307</td>\n",
       "      <td>0.091537</td>\n",
       "      <td>0.011147</td>\n",
       "    </tr>\n",
       "    <tr>\n",
       "      <th>Lilith Karyadi</th>\n",
       "      <td>0.999207</td>\n",
       "      <td>0.988410</td>\n",
       "      <td>0.929013</td>\n",
       "      <td>0.756578</td>\n",
       "      <td>0.469575</td>\n",
       "      <td>0.192732</td>\n",
       "      <td>0.044194</td>\n",
       "      <td>0.004178</td>\n",
       "    </tr>\n",
       "    <tr>\n",
       "      <th>Evan Sooklal</th>\n",
       "      <td>0.991404</td>\n",
       "      <td>0.927311</td>\n",
       "      <td>0.736729</td>\n",
       "      <td>0.440718</td>\n",
       "      <td>0.178867</td>\n",
       "      <td>0.044654</td>\n",
       "      <td>0.006010</td>\n",
       "      <td>0.000329</td>\n",
       "    </tr>\n",
       "    <tr>\n",
       "      <th>Roman Ramirez</th>\n",
       "      <td>0.985177</td>\n",
       "      <td>0.889829</td>\n",
       "      <td>0.651132</td>\n",
       "      <td>0.344130</td>\n",
       "      <td>0.120708</td>\n",
       "      <td>0.025972</td>\n",
       "      <td>0.003046</td>\n",
       "      <td>0.000147</td>\n",
       "    </tr>\n",
       "    <tr>\n",
       "      <th>Jack Massingill</th>\n",
       "      <td>0.973571</td>\n",
       "      <td>0.837483</td>\n",
       "      <td>0.559534</td>\n",
       "      <td>0.262261</td>\n",
       "      <td>0.080006</td>\n",
       "      <td>0.014706</td>\n",
       "      <td>0.001444</td>\n",
       "      <td>0.000057</td>\n",
       "    </tr>\n",
       "    <tr>\n",
       "      <th>Paul Bartenfeld</th>\n",
       "      <td>0.859984</td>\n",
       "      <td>0.536347</td>\n",
       "      <td>0.223865</td>\n",
       "      <td>0.060420</td>\n",
       "      <td>0.010206</td>\n",
       "      <td>0.001020</td>\n",
       "      <td>0.000054</td>\n",
       "      <td>0.000001</td>\n",
       "    </tr>\n",
       "  </tbody>\n",
       "</table>\n",
       "</div>"
      ],
      "text/plain": [
       "                        1         2         3         4         5         6  \\\n",
       "Aaron Carter     0.999999  0.999965  0.999343  0.993168  0.956469  0.822630   \n",
       "Will Simpson     0.999783  0.995923  0.967973  0.860580  0.622445  0.314307   \n",
       "Lilith Karyadi   0.999207  0.988410  0.929013  0.756578  0.469575  0.192732   \n",
       "Evan Sooklal     0.991404  0.927311  0.736729  0.440718  0.178867  0.044654   \n",
       "Roman Ramirez    0.985177  0.889829  0.651132  0.344130  0.120708  0.025972   \n",
       "Jack Massingill  0.973571  0.837483  0.559534  0.262261  0.080006  0.014706   \n",
       "Paul Bartenfeld  0.859984  0.536347  0.223865  0.060420  0.010206  0.001020   \n",
       "\n",
       "                        7         8  \n",
       "Aaron Carter     0.529818  0.178022  \n",
       "Will Simpson     0.091537  0.011147  \n",
       "Lilith Karyadi   0.044194  0.004178  \n",
       "Evan Sooklal     0.006010  0.000329  \n",
       "Roman Ramirez    0.003046  0.000147  \n",
       "Jack Massingill  0.001444  0.000057  \n",
       "Paul Bartenfeld  0.000054  0.000001  "
      ]
     },
     "metadata": {},
     "output_type": "display_data"
    },
    {
     "data": {
      "text/html": [
       "<div>\n",
       "<style scoped>\n",
       "    .dataframe tbody tr th:only-of-type {\n",
       "        vertical-align: middle;\n",
       "    }\n",
       "\n",
       "    .dataframe tbody tr th {\n",
       "        vertical-align: top;\n",
       "    }\n",
       "\n",
       "    .dataframe thead th {\n",
       "        text-align: right;\n",
       "    }\n",
       "</style>\n",
       "<table border=\"1\" class=\"dataframe\">\n",
       "  <thead>\n",
       "    <tr style=\"text-align: right;\">\n",
       "      <th></th>\n",
       "      <th>1</th>\n",
       "      <th>2</th>\n",
       "      <th>3</th>\n",
       "      <th>4</th>\n",
       "      <th>5</th>\n",
       "      <th>6</th>\n",
       "      <th>7</th>\n",
       "      <th>8</th>\n",
       "    </tr>\n",
       "  </thead>\n",
       "  <tbody>\n",
       "    <tr>\n",
       "      <th>Aaron Carter</th>\n",
       "      <td>7.763936e-07</td>\n",
       "      <td>0.000035</td>\n",
       "      <td>0.000657</td>\n",
       "      <td>0.006879</td>\n",
       "      <td>0.045513</td>\n",
       "      <td>0.215613</td>\n",
       "      <td>0.887441</td>\n",
       "      <td>4.617271</td>\n",
       "    </tr>\n",
       "    <tr>\n",
       "      <th>Will Simpson</th>\n",
       "      <td>2.165580e-04</td>\n",
       "      <td>0.004094</td>\n",
       "      <td>0.033087</td>\n",
       "      <td>0.162007</td>\n",
       "      <td>0.606567</td>\n",
       "      <td>2.181605</td>\n",
       "      <td>9.924599</td>\n",
       "      <td>88.707465</td>\n",
       "    </tr>\n",
       "    <tr>\n",
       "      <th>Lilith Karyadi</th>\n",
       "      <td>7.934926e-04</td>\n",
       "      <td>0.011726</td>\n",
       "      <td>0.076411</td>\n",
       "      <td>0.321741</td>\n",
       "      <td>1.129587</td>\n",
       "      <td>4.188564</td>\n",
       "      <td>21.627406</td>\n",
       "      <td>238.359842</td>\n",
       "    </tr>\n",
       "    <tr>\n",
       "      <th>Evan Sooklal</th>\n",
       "      <td>8.670090e-03</td>\n",
       "      <td>0.078386</td>\n",
       "      <td>0.357351</td>\n",
       "      <td>1.269024</td>\n",
       "      <td>4.590731</td>\n",
       "      <td>21.394445</td>\n",
       "      <td>165.384587</td>\n",
       "      <td>3041.453196</td>\n",
       "    </tr>\n",
       "    <tr>\n",
       "      <th>Roman Ramirez</th>\n",
       "      <td>1.504640e-02</td>\n",
       "      <td>0.123811</td>\n",
       "      <td>0.535788</td>\n",
       "      <td>1.905878</td>\n",
       "      <td>7.284463</td>\n",
       "      <td>37.502617</td>\n",
       "      <td>327.268343</td>\n",
       "      <td>6782.343657</td>\n",
       "    </tr>\n",
       "    <tr>\n",
       "      <th>Jack Massingill</th>\n",
       "      <td>2.714696e-02</td>\n",
       "      <td>0.194054</td>\n",
       "      <td>0.787200</td>\n",
       "      <td>2.812996</td>\n",
       "      <td>11.499024</td>\n",
       "      <td>66.999603</td>\n",
       "      <td>691.391341</td>\n",
       "      <td>17410.814159</td>\n",
       "    </tr>\n",
       "    <tr>\n",
       "      <th>Paul Bartenfeld</th>\n",
       "      <td>1.628129e-01</td>\n",
       "      <td>0.864466</td>\n",
       "      <td>3.466970</td>\n",
       "      <td>15.550731</td>\n",
       "      <td>96.985204</td>\n",
       "      <td>978.918258</td>\n",
       "      <td>18475.710327</td>\n",
       "      <td>862803.639852</td>\n",
       "    </tr>\n",
       "  </tbody>\n",
       "</table>\n",
       "</div>"
      ],
      "text/plain": [
       "                            1         2         3          4          5  \\\n",
       "Aaron Carter     7.763936e-07  0.000035  0.000657   0.006879   0.045513   \n",
       "Will Simpson     2.165580e-04  0.004094  0.033087   0.162007   0.606567   \n",
       "Lilith Karyadi   7.934926e-04  0.011726  0.076411   0.321741   1.129587   \n",
       "Evan Sooklal     8.670090e-03  0.078386  0.357351   1.269024   4.590731   \n",
       "Roman Ramirez    1.504640e-02  0.123811  0.535788   1.905878   7.284463   \n",
       "Jack Massingill  2.714696e-02  0.194054  0.787200   2.812996  11.499024   \n",
       "Paul Bartenfeld  1.628129e-01  0.864466  3.466970  15.550731  96.985204   \n",
       "\n",
       "                          6             7              8  \n",
       "Aaron Carter       0.215613      0.887441       4.617271  \n",
       "Will Simpson       2.181605      9.924599      88.707465  \n",
       "Lilith Karyadi     4.188564     21.627406     238.359842  \n",
       "Evan Sooklal      21.394445    165.384587    3041.453196  \n",
       "Roman Ramirez     37.502617    327.268343    6782.343657  \n",
       "Jack Massingill   66.999603    691.391341   17410.814159  \n",
       "Paul Bartenfeld  978.918258  18475.710327  862803.639852  "
      ]
     },
     "metadata": {},
     "output_type": "display_data"
    },
    {
     "data": {
      "text/html": [
       "<div>\n",
       "<style scoped>\n",
       "    .dataframe tbody tr th:only-of-type {\n",
       "        vertical-align: middle;\n",
       "    }\n",
       "\n",
       "    .dataframe tbody tr th {\n",
       "        vertical-align: top;\n",
       "    }\n",
       "\n",
       "    .dataframe thead th {\n",
       "        text-align: right;\n",
       "    }\n",
       "</style>\n",
       "<table border=\"1\" class=\"dataframe\">\n",
       "  <thead>\n",
       "    <tr style=\"text-align: right;\">\n",
       "      <th></th>\n",
       "      <th>1</th>\n",
       "      <th>2</th>\n",
       "      <th>3</th>\n",
       "      <th>4</th>\n",
       "      <th>5</th>\n",
       "      <th>6</th>\n",
       "      <th>7</th>\n",
       "      <th>8</th>\n",
       "    </tr>\n",
       "  </thead>\n",
       "  <tbody>\n",
       "    <tr>\n",
       "      <th>Aaron Carter</th>\n",
       "      <td>-130,000,000</td>\n",
       "      <td>-2,900,000</td>\n",
       "      <td>-150,000</td>\n",
       "      <td>-15,000</td>\n",
       "      <td>-2,200</td>\n",
       "      <td>-460</td>\n",
       "      <td>-110</td>\n",
       "      <td>+460</td>\n",
       "    </tr>\n",
       "    <tr>\n",
       "      <th>Will Simpson</th>\n",
       "      <td>-460,000</td>\n",
       "      <td>-24,000</td>\n",
       "      <td>-3,000</td>\n",
       "      <td>-620</td>\n",
       "      <td>-160</td>\n",
       "      <td>+220</td>\n",
       "      <td>+990</td>\n",
       "      <td>+8,900</td>\n",
       "    </tr>\n",
       "    <tr>\n",
       "      <th>Lilith Karyadi</th>\n",
       "      <td>-130,000</td>\n",
       "      <td>-8,500</td>\n",
       "      <td>-1,300</td>\n",
       "      <td>-310</td>\n",
       "      <td>+110</td>\n",
       "      <td>+420</td>\n",
       "      <td>+2,200</td>\n",
       "      <td>+24,000</td>\n",
       "    </tr>\n",
       "    <tr>\n",
       "      <th>Evan Sooklal</th>\n",
       "      <td>-12,000</td>\n",
       "      <td>-1,300</td>\n",
       "      <td>-280</td>\n",
       "      <td>+130</td>\n",
       "      <td>+460</td>\n",
       "      <td>+2,100</td>\n",
       "      <td>+17,000</td>\n",
       "      <td>+300,000</td>\n",
       "    </tr>\n",
       "    <tr>\n",
       "      <th>Roman Ramirez</th>\n",
       "      <td>-6,600</td>\n",
       "      <td>-810</td>\n",
       "      <td>-190</td>\n",
       "      <td>+190</td>\n",
       "      <td>+730</td>\n",
       "      <td>+3,800</td>\n",
       "      <td>+33,000</td>\n",
       "      <td>+680,000</td>\n",
       "    </tr>\n",
       "    <tr>\n",
       "      <th>Jack Massingill</th>\n",
       "      <td>-3,700</td>\n",
       "      <td>-520</td>\n",
       "      <td>-130</td>\n",
       "      <td>+280</td>\n",
       "      <td>+1,100</td>\n",
       "      <td>+6,700</td>\n",
       "      <td>+69,000</td>\n",
       "      <td>+1,700,000</td>\n",
       "    </tr>\n",
       "    <tr>\n",
       "      <th>Paul Bartenfeld</th>\n",
       "      <td>-610</td>\n",
       "      <td>-120</td>\n",
       "      <td>+350</td>\n",
       "      <td>+1,600</td>\n",
       "      <td>+9,700</td>\n",
       "      <td>+98,000</td>\n",
       "      <td>+1,800,000</td>\n",
       "      <td>+86,000,000</td>\n",
       "    </tr>\n",
       "  </tbody>\n",
       "</table>\n",
       "</div>"
      ],
      "text/plain": [
       "                            1           2         3        4       5        6  \\\n",
       "Aaron Carter     -130,000,000  -2,900,000  -150,000  -15,000  -2,200     -460   \n",
       "Will Simpson         -460,000     -24,000    -3,000     -620    -160     +220   \n",
       "Lilith Karyadi       -130,000      -8,500    -1,300     -310    +110     +420   \n",
       "Evan Sooklal          -12,000      -1,300      -280     +130    +460   +2,100   \n",
       "Roman Ramirez          -6,600        -810      -190     +190    +730   +3,800   \n",
       "Jack Massingill        -3,700        -520      -130     +280  +1,100   +6,700   \n",
       "Paul Bartenfeld          -610        -120      +350   +1,600  +9,700  +98,000   \n",
       "\n",
       "                          7            8  \n",
       "Aaron Carter           -110         +460  \n",
       "Will Simpson           +990       +8,900  \n",
       "Lilith Karyadi       +2,200      +24,000  \n",
       "Evan Sooklal        +17,000     +300,000  \n",
       "Roman Ramirez       +33,000     +680,000  \n",
       "Jack Massingill     +69,000   +1,700,000  \n",
       "Paul Bartenfeld  +1,800,000  +86,000,000  "
      ]
     },
     "metadata": {},
     "output_type": "display_data"
    }
   ],
   "source": [
    "# making playoffs odds\n",
    "# assumptions\n",
    "## assume ELO doesn't change after each game\n",
    "## assume if you win at least 6/8 of your games, you're in for the championship\n",
    "## independent on the order of matches\n",
    "def prob_of_x_wins(player, num_wins=6):\n",
    "    sp = set_players.copy()\n",
    "    sp.remove(player)\n",
    "    schedule = list(sp) + list(sp)\n",
    "\n",
    "    total_prob = 0\n",
    "    for i in range(np.power(2, 8)):\n",
    "        single_prob = 1\n",
    "        record = '{0:08b}'.format(i)\n",
    "        if record.count('1') != (num_wins):\n",
    "            continue\n",
    "        for (j, x) in enumerate(record):\n",
    "            if x == '1':\n",
    "                single_prob *= win_prob_table.loc[player, schedule[j]]\n",
    "            elif x == '0':\n",
    "                single_prob *= win_prob_table.loc[schedule[j], player]\n",
    "        total_prob += single_prob\n",
    "    return total_prob\n",
    "\n",
    "prob_of_x_wins_table = pd.DataFrame(np.zeros([len(set_players), 9]))\n",
    "prob_of_x_wins_table.index = list(set_players)\n",
    "prob_of_x_wins_table.columns\n",
    "prob_of_x_wins_table.sort_index(axis=0, key=(lambda x: [elo[y] for y in x.values]), ascending=False, inplace=True)\n",
    "\n",
    "for c in prob_of_x_wins_table.columns:\n",
    "    for r in prob_of_x_wins_table.index:\n",
    "        prob_of_x_wins_table.loc[r, c] = prob_of_x_wins(r, int(c))\n",
    "\n",
    "odds_of_x_wins_table = (1 - prob_of_x_wins_table) / prob_of_x_wins_table\n",
    "ml_of_x_wins_table = odds_of_x_wins_table.applymap(lambda x: '{:+,.0f}'.format(float('%.2g' % (x * 100)) if not np.isnan(x) else np.NaN))\n",
    "\n",
    "# what is the probability of getting at least x wins?\n",
    "prob_of_cum_x_wins_table = prob_of_x_wins_table.copy(deep=True)\n",
    "prob_of_cum_x_wins_table.applymap(lambda x: 0)\n",
    "\n",
    "for (i, c) in enumerate(prob_of_cum_x_wins_table.columns):\n",
    "    prob_of_cum_x_wins_table.loc[:, c] = prob_of_x_wins_table.iloc[:, i:8+1].sum(axis=1)\n",
    "prob_of_cum_x_wins_table.drop(columns=0, axis=1, inplace=True)\n",
    "\n",
    "odds_of_cum_x_wins_table = (1 - prob_of_cum_x_wins_table) / prob_of_cum_x_wins_table\n",
    "ml_of_cum_x_wins_table = odds_of_cum_x_wins_table.copy(deep=True)\n",
    "\n",
    "for c in ml_of_cum_x_wins_table.columns:\n",
    "    for r in ml_of_cum_x_wins_table.index:\n",
    "        ml_of_cum_x_wins_table.loc[r, c] = np.NaN\n",
    "        odds = odds_of_cum_x_wins_table.loc[r, c]\n",
    "        if odds < 1:\n",
    "            ml_of_cum_x_wins_table.loc[r, c] = -1 * (1 / odds_of_cum_x_wins_table.loc[r, c]) * 100\n",
    "        elif odds > 1:\n",
    "            ml_of_cum_x_wins_table.loc[r, c] = odds_of_cum_x_wins_table.loc[r, c] * 100\n",
    "\n",
    "ml_of_cum_x_wins_table = ml_of_cum_x_wins_table.applymap(lambda x: '{:+,.0f}'.format(float('%.2g' % (x)) if not np.isnan(x) else np.NaN))\n",
    "\n",
    "display(prob_of_x_wins_table)\n",
    "display(odds_of_x_wins_table)\n",
    "display(ml_of_x_wins_table)\n",
    "display(prob_of_cum_x_wins_table)\n",
    "display(odds_of_cum_x_wins_table)\n",
    "display(ml_of_cum_x_wins_table)"
   ]
  },
  {
   "cell_type": "code",
   "execution_count": 15,
   "metadata": {},
   "outputs": [
    {
     "data": {
      "application/vnd.plotly.v1+json": {
       "config": {
        "plotlyServerURL": "https://plot.ly"
       },
       "data": [
        {
         "colorscale": [
          [
           0,
           "rgb(5,48,97)"
          ],
          [
           0.1,
           "rgb(33,102,172)"
          ],
          [
           0.2,
           "rgb(67,147,195)"
          ],
          [
           0.3,
           "rgb(146,197,222)"
          ],
          [
           0.4,
           "rgb(209,229,240)"
          ],
          [
           0.5,
           "rgb(247,247,247)"
          ],
          [
           0.6,
           "rgb(253,219,199)"
          ],
          [
           0.7,
           "rgb(244,165,130)"
          ],
          [
           0.8,
           "rgb(214,96,77)"
          ],
          [
           0.9,
           "rgb(178,24,43)"
          ],
          [
           1,
           "rgb(103,0,31)"
          ]
         ],
         "hoverinfo": "skip",
         "hoverongaps": false,
         "showscale": false,
         "text": [
          [
           "",
           "+185",
           "+240",
           "+255",
           "+440",
           "+570",
           "+1315"
          ],
          [
           "-185",
           "",
           "+130",
           "+140",
           "+240",
           "+305",
           "+710"
          ],
          [
           "-240",
           "-130",
           "",
           "+105",
           "+185",
           "+235",
           "+545"
          ],
          [
           "-255",
           "-140",
           "-105",
           "",
           "+175",
           "+225",
           "+515"
          ],
          [
           "-440",
           "-240",
           "-185",
           "-175",
           "",
           "+130",
           "+300"
          ],
          [
           "-570",
           "-305",
           "-235",
           "-225",
           "-130",
           "",
           "+230"
          ],
          [
           "-1315",
           "-710",
           "-545",
           "-515",
           "-300",
           "-230",
           ""
          ]
         ],
         "texttemplate": "%{text}",
         "type": "heatmap",
         "x": [
          "Paul<br>Bartenfeld",
          "Jack<br>Massingill",
          "Roman<br>Ramirez",
          "Evan<br>Sooklal",
          "Lilith<br>Karyadi",
          "Will<br>Simpson",
          "Aaron<br>Carter"
         ],
         "xaxis": "x",
         "y": [
          "Paul<br>Bartenfeld",
          "Jack<br>Massingill",
          "Roman<br>Ramirez",
          "Evan<br>Sooklal",
          "Lilith<br>Karyadi",
          "Will<br>Simpson",
          "Aaron<br>Carter"
         ],
         "yaxis": "y",
         "z": [
          [
           null,
           0.35002613257967097,
           0.2925686253226899,
           0.28139353321936306,
           0.1846928030671713,
           0.14954930764577262,
           0.07054910883709642
          ],
          [
           0.649973867420329,
           null,
           0.4343764908161998,
           0.4210083550309316,
           0.2960984070859715,
           0.2461567479845719,
           0.12353626373797795
          ],
          [
           0.7074313746773101,
           0.5656235091838003,
           null,
           0.48634880901171207,
           0.35390233809190275,
           0.29834340648207314,
           0.15507440275756088
          ],
          [
           0.718606466780637,
           0.5789916449690684,
           0.5136511909882879,
           null,
           0.3664884233421802,
           0.3099013430877407,
           0.1623664065427281
          ],
          [
           0.8153071969328287,
           0.7039015929140285,
           0.6460976619080973,
           0.6335115766578199,
           null,
           0.43701899450154363,
           0.2509759686364051
          ],
          [
           0.8504506923542273,
           0.7538432520154281,
           0.7016565935179269,
           0.6900986569122592,
           0.5629810054984564,
           null,
           0.3015043207928727
          ],
          [
           0.9294508911629036,
           0.876463736262022,
           0.8449255972424391,
           0.8376335934572718,
           0.749024031363595,
           0.6984956792071273,
           null
          ]
         ],
         "zmax": 0.9294508911629036,
         "zmid": 0.5,
         "zmin": 0.07054910883709642
        },
        {
         "colorscale": [
          [
           0,
           "rgb(5,48,97)"
          ],
          [
           0.1,
           "rgb(33,102,172)"
          ],
          [
           0.2,
           "rgb(67,147,195)"
          ],
          [
           0.3,
           "rgb(146,197,222)"
          ],
          [
           0.4,
           "rgb(209,229,240)"
          ],
          [
           0.5,
           "rgb(247,247,247)"
          ],
          [
           0.6,
           "rgb(253,219,199)"
          ],
          [
           0.7,
           "rgb(244,165,130)"
          ],
          [
           0.8,
           "rgb(214,96,77)"
          ],
          [
           0.9,
           "rgb(178,24,43)"
          ],
          [
           1,
           "rgb(103,0,31)"
          ]
         ],
         "hoverinfo": "skip",
         "hoverongaps": false,
         "showscale": false,
         "text": [
          [
           "-610",
           "-120",
           "+350",
           "+1600",
           "+9700",
           "+98000",
           "+1800000",
           "+86000000"
          ],
          [
           "-3700",
           "-520",
           "-130",
           "+280",
           "+1100",
           "+6700",
           "+69000",
           "+1700000"
          ],
          [
           "-6600",
           "-810",
           "-190",
           "+190",
           "+730",
           "+3800",
           "+33000",
           "+680000"
          ],
          [
           "-12000",
           "-1300",
           "-280",
           "+130",
           "+460",
           "+2100",
           "+17000",
           "+300000"
          ],
          [
           "-130000",
           "-8500",
           "-1300",
           "-310",
           "+110",
           "+420",
           "+2200",
           "+24000"
          ],
          [
           "-460000",
           "-24000",
           "-3000",
           "-620",
           "-160",
           "+220",
           "+990",
           "+8900"
          ],
          [
           "-130000000",
           "-2900000",
           "-150000",
           "-15000",
           "-2200",
           "-460",
           "-110",
           "+460"
          ]
         ],
         "texttemplate": "%{text}",
         "type": "heatmap",
         "x": [
          "1",
          "2",
          "3",
          "4",
          "5",
          "6",
          "7",
          "8"
         ],
         "xaxis": "x2",
         "y": [
          "Paul<br>Bartenfeld",
          "Jack<br>Massingill",
          "Roman<br>Ramirez",
          "Evan<br>Sooklal",
          "Lilith<br>Karyadi",
          "Will<br>Simpson",
          "Aaron<br>Carter"
         ],
         "yaxis": "y2",
         "z": [
          [
           0.8599835822536538,
           0.5363465812651418,
           0.2238653910321141,
           0.06042029336519026,
           0.010205622433448918,
           0.0010204932825371449,
           0.00005412218854388523,
           0.0000011590109206779614
          ],
          [
           0.9735705227452149,
           0.8374831096087142,
           0.5595343558227297,
           0.2622609819408195,
           0.08000624605590564,
           0.014705968247479264,
           0.0014442699399823335,
           0.0000574322693141449
          ],
          [
           0.9851766388903187,
           0.8898294969188244,
           0.6511316143271488,
           0.3441300534750945,
           0.12070787697330625,
           0.025972260675916452,
           0.0030462882603239797,
           0.00014741992305957952
          ],
          [
           0.991404434556536,
           0.9273114569722257,
           0.7367288442532924,
           0.4407180631778675,
           0.17886748984826556,
           0.044653930213823224,
           0.006010172088651156,
           0.00032868213099697375
          ],
          [
           0.9992071365211902,
           0.9884099790445785,
           0.9290131555608986,
           0.75657815332644,
           0.4695746203662424,
           0.19273157196396462,
           0.04419419507321889,
           0.004177810238693855
          ],
          [
           0.9997834888530095,
           0.9959228236425884,
           0.9679731292653603,
           0.8605800136213534,
           0.622445340122423,
           0.314306752551837,
           0.09153654299257548,
           0.011147344352822644
          ],
          [
           0.9999992236069701,
           0.9999651064854727,
           0.9993434236122207,
           0.9931679851986648,
           0.9564686959231994,
           0.8226300107090625,
           0.52981797224736,
           0.17802238736197412
          ]
         ],
         "zmax": 0.9999992236069701,
         "zmid": 0,
         "zmin": 0.0000011590109206779614
        }
       ],
       "layout": {
        "annotations": [
         {
          "font": {
           "size": 16
          },
          "showarrow": false,
          "text": "<b>Current Matchup M/L</b><br>Odds for a Single Game",
          "x": 0.225,
          "xanchor": "center",
          "xref": "paper",
          "y": 1,
          "yanchor": "bottom",
          "yref": "paper"
         },
         {
          "font": {
           "size": 16
          },
          "showarrow": false,
          "text": "<b>M/L: Group-Stage Wins</b><br>Odds of Winning at Least <b>X</b> Games",
          "x": 0.775,
          "xanchor": "center",
          "xref": "paper",
          "y": 1,
          "yanchor": "bottom",
          "yref": "paper"
         },
         {
          "font": {
           "size": 16
          },
          "showarrow": false,
          "text": "<a href='https://htmlpreview.github.io/?https://github.com/notromanramirez/dgn_showdown/blob/main/index.html'>ELO Graph</a>, <a href='https://htmlpreview.github.io/?https://github.com/notromanramirez/dgn_showdown/blob/main/figures/fig1.html'>H2H Stats</a>, <a href='https://htmlpreview.github.io/?https://github.com/notromanramirez/dgn_showdown/blob/main/figures/fig2.html'>H2H Advanced Stats</a>, <a href='https://htmlpreview.github.io/?https://github.com/notromanramirez/dgn_showdown/blob/main/figures/fig3.html'>H2H More Stats</a>, <a href='https://htmlpreview.github.io/?https://github.com/notromanramirez/dgn_showdown/blob/main/figures/fig4.html'>Player Data</a>, <a href='https://htmlpreview.github.io/?https://github.com/notromanramirez/dgn_showdown/blob/main/figures/fig5.html'>Matches Data</a>",
          "x": 0.5,
          "xanchor": "center",
          "xref": "paper",
          "y": 0,
          "yanchor": "top",
          "yref": "paper",
          "yshift": -30
         }
        ],
        "template": {
         "data": {
          "bar": [
           {
            "error_x": {
             "color": "#2a3f5f"
            },
            "error_y": {
             "color": "#2a3f5f"
            },
            "marker": {
             "line": {
              "color": "#E5ECF6",
              "width": 0.5
             },
             "pattern": {
              "fillmode": "overlay",
              "size": 10,
              "solidity": 0.2
             }
            },
            "type": "bar"
           }
          ],
          "barpolar": [
           {
            "marker": {
             "line": {
              "color": "#E5ECF6",
              "width": 0.5
             },
             "pattern": {
              "fillmode": "overlay",
              "size": 10,
              "solidity": 0.2
             }
            },
            "type": "barpolar"
           }
          ],
          "carpet": [
           {
            "aaxis": {
             "endlinecolor": "#2a3f5f",
             "gridcolor": "white",
             "linecolor": "white",
             "minorgridcolor": "white",
             "startlinecolor": "#2a3f5f"
            },
            "baxis": {
             "endlinecolor": "#2a3f5f",
             "gridcolor": "white",
             "linecolor": "white",
             "minorgridcolor": "white",
             "startlinecolor": "#2a3f5f"
            },
            "type": "carpet"
           }
          ],
          "choropleth": [
           {
            "colorbar": {
             "outlinewidth": 0,
             "ticks": ""
            },
            "type": "choropleth"
           }
          ],
          "contour": [
           {
            "colorbar": {
             "outlinewidth": 0,
             "ticks": ""
            },
            "colorscale": [
             [
              0,
              "#0d0887"
             ],
             [
              0.1111111111111111,
              "#46039f"
             ],
             [
              0.2222222222222222,
              "#7201a8"
             ],
             [
              0.3333333333333333,
              "#9c179e"
             ],
             [
              0.4444444444444444,
              "#bd3786"
             ],
             [
              0.5555555555555556,
              "#d8576b"
             ],
             [
              0.6666666666666666,
              "#ed7953"
             ],
             [
              0.7777777777777778,
              "#fb9f3a"
             ],
             [
              0.8888888888888888,
              "#fdca26"
             ],
             [
              1,
              "#f0f921"
             ]
            ],
            "type": "contour"
           }
          ],
          "contourcarpet": [
           {
            "colorbar": {
             "outlinewidth": 0,
             "ticks": ""
            },
            "type": "contourcarpet"
           }
          ],
          "heatmap": [
           {
            "colorbar": {
             "outlinewidth": 0,
             "ticks": ""
            },
            "colorscale": [
             [
              0,
              "#0d0887"
             ],
             [
              0.1111111111111111,
              "#46039f"
             ],
             [
              0.2222222222222222,
              "#7201a8"
             ],
             [
              0.3333333333333333,
              "#9c179e"
             ],
             [
              0.4444444444444444,
              "#bd3786"
             ],
             [
              0.5555555555555556,
              "#d8576b"
             ],
             [
              0.6666666666666666,
              "#ed7953"
             ],
             [
              0.7777777777777778,
              "#fb9f3a"
             ],
             [
              0.8888888888888888,
              "#fdca26"
             ],
             [
              1,
              "#f0f921"
             ]
            ],
            "type": "heatmap"
           }
          ],
          "heatmapgl": [
           {
            "colorbar": {
             "outlinewidth": 0,
             "ticks": ""
            },
            "colorscale": [
             [
              0,
              "#0d0887"
             ],
             [
              0.1111111111111111,
              "#46039f"
             ],
             [
              0.2222222222222222,
              "#7201a8"
             ],
             [
              0.3333333333333333,
              "#9c179e"
             ],
             [
              0.4444444444444444,
              "#bd3786"
             ],
             [
              0.5555555555555556,
              "#d8576b"
             ],
             [
              0.6666666666666666,
              "#ed7953"
             ],
             [
              0.7777777777777778,
              "#fb9f3a"
             ],
             [
              0.8888888888888888,
              "#fdca26"
             ],
             [
              1,
              "#f0f921"
             ]
            ],
            "type": "heatmapgl"
           }
          ],
          "histogram": [
           {
            "marker": {
             "pattern": {
              "fillmode": "overlay",
              "size": 10,
              "solidity": 0.2
             }
            },
            "type": "histogram"
           }
          ],
          "histogram2d": [
           {
            "colorbar": {
             "outlinewidth": 0,
             "ticks": ""
            },
            "colorscale": [
             [
              0,
              "#0d0887"
             ],
             [
              0.1111111111111111,
              "#46039f"
             ],
             [
              0.2222222222222222,
              "#7201a8"
             ],
             [
              0.3333333333333333,
              "#9c179e"
             ],
             [
              0.4444444444444444,
              "#bd3786"
             ],
             [
              0.5555555555555556,
              "#d8576b"
             ],
             [
              0.6666666666666666,
              "#ed7953"
             ],
             [
              0.7777777777777778,
              "#fb9f3a"
             ],
             [
              0.8888888888888888,
              "#fdca26"
             ],
             [
              1,
              "#f0f921"
             ]
            ],
            "type": "histogram2d"
           }
          ],
          "histogram2dcontour": [
           {
            "colorbar": {
             "outlinewidth": 0,
             "ticks": ""
            },
            "colorscale": [
             [
              0,
              "#0d0887"
             ],
             [
              0.1111111111111111,
              "#46039f"
             ],
             [
              0.2222222222222222,
              "#7201a8"
             ],
             [
              0.3333333333333333,
              "#9c179e"
             ],
             [
              0.4444444444444444,
              "#bd3786"
             ],
             [
              0.5555555555555556,
              "#d8576b"
             ],
             [
              0.6666666666666666,
              "#ed7953"
             ],
             [
              0.7777777777777778,
              "#fb9f3a"
             ],
             [
              0.8888888888888888,
              "#fdca26"
             ],
             [
              1,
              "#f0f921"
             ]
            ],
            "type": "histogram2dcontour"
           }
          ],
          "mesh3d": [
           {
            "colorbar": {
             "outlinewidth": 0,
             "ticks": ""
            },
            "type": "mesh3d"
           }
          ],
          "parcoords": [
           {
            "line": {
             "colorbar": {
              "outlinewidth": 0,
              "ticks": ""
             }
            },
            "type": "parcoords"
           }
          ],
          "pie": [
           {
            "automargin": true,
            "type": "pie"
           }
          ],
          "scatter": [
           {
            "fillpattern": {
             "fillmode": "overlay",
             "size": 10,
             "solidity": 0.2
            },
            "type": "scatter"
           }
          ],
          "scatter3d": [
           {
            "line": {
             "colorbar": {
              "outlinewidth": 0,
              "ticks": ""
             }
            },
            "marker": {
             "colorbar": {
              "outlinewidth": 0,
              "ticks": ""
             }
            },
            "type": "scatter3d"
           }
          ],
          "scattercarpet": [
           {
            "marker": {
             "colorbar": {
              "outlinewidth": 0,
              "ticks": ""
             }
            },
            "type": "scattercarpet"
           }
          ],
          "scattergeo": [
           {
            "marker": {
             "colorbar": {
              "outlinewidth": 0,
              "ticks": ""
             }
            },
            "type": "scattergeo"
           }
          ],
          "scattergl": [
           {
            "marker": {
             "colorbar": {
              "outlinewidth": 0,
              "ticks": ""
             }
            },
            "type": "scattergl"
           }
          ],
          "scattermapbox": [
           {
            "marker": {
             "colorbar": {
              "outlinewidth": 0,
              "ticks": ""
             }
            },
            "type": "scattermapbox"
           }
          ],
          "scatterpolar": [
           {
            "marker": {
             "colorbar": {
              "outlinewidth": 0,
              "ticks": ""
             }
            },
            "type": "scatterpolar"
           }
          ],
          "scatterpolargl": [
           {
            "marker": {
             "colorbar": {
              "outlinewidth": 0,
              "ticks": ""
             }
            },
            "type": "scatterpolargl"
           }
          ],
          "scatterternary": [
           {
            "marker": {
             "colorbar": {
              "outlinewidth": 0,
              "ticks": ""
             }
            },
            "type": "scatterternary"
           }
          ],
          "surface": [
           {
            "colorbar": {
             "outlinewidth": 0,
             "ticks": ""
            },
            "colorscale": [
             [
              0,
              "#0d0887"
             ],
             [
              0.1111111111111111,
              "#46039f"
             ],
             [
              0.2222222222222222,
              "#7201a8"
             ],
             [
              0.3333333333333333,
              "#9c179e"
             ],
             [
              0.4444444444444444,
              "#bd3786"
             ],
             [
              0.5555555555555556,
              "#d8576b"
             ],
             [
              0.6666666666666666,
              "#ed7953"
             ],
             [
              0.7777777777777778,
              "#fb9f3a"
             ],
             [
              0.8888888888888888,
              "#fdca26"
             ],
             [
              1,
              "#f0f921"
             ]
            ],
            "type": "surface"
           }
          ],
          "table": [
           {
            "cells": {
             "fill": {
              "color": "#EBF0F8"
             },
             "line": {
              "color": "white"
             }
            },
            "header": {
             "fill": {
              "color": "#C8D4E3"
             },
             "line": {
              "color": "white"
             }
            },
            "type": "table"
           }
          ]
         },
         "layout": {
          "annotationdefaults": {
           "arrowcolor": "#2a3f5f",
           "arrowhead": 0,
           "arrowwidth": 1
          },
          "autotypenumbers": "strict",
          "coloraxis": {
           "colorbar": {
            "outlinewidth": 0,
            "ticks": ""
           }
          },
          "colorscale": {
           "diverging": [
            [
             0,
             "#8e0152"
            ],
            [
             0.1,
             "#c51b7d"
            ],
            [
             0.2,
             "#de77ae"
            ],
            [
             0.3,
             "#f1b6da"
            ],
            [
             0.4,
             "#fde0ef"
            ],
            [
             0.5,
             "#f7f7f7"
            ],
            [
             0.6,
             "#e6f5d0"
            ],
            [
             0.7,
             "#b8e186"
            ],
            [
             0.8,
             "#7fbc41"
            ],
            [
             0.9,
             "#4d9221"
            ],
            [
             1,
             "#276419"
            ]
           ],
           "sequential": [
            [
             0,
             "#0d0887"
            ],
            [
             0.1111111111111111,
             "#46039f"
            ],
            [
             0.2222222222222222,
             "#7201a8"
            ],
            [
             0.3333333333333333,
             "#9c179e"
            ],
            [
             0.4444444444444444,
             "#bd3786"
            ],
            [
             0.5555555555555556,
             "#d8576b"
            ],
            [
             0.6666666666666666,
             "#ed7953"
            ],
            [
             0.7777777777777778,
             "#fb9f3a"
            ],
            [
             0.8888888888888888,
             "#fdca26"
            ],
            [
             1,
             "#f0f921"
            ]
           ],
           "sequentialminus": [
            [
             0,
             "#0d0887"
            ],
            [
             0.1111111111111111,
             "#46039f"
            ],
            [
             0.2222222222222222,
             "#7201a8"
            ],
            [
             0.3333333333333333,
             "#9c179e"
            ],
            [
             0.4444444444444444,
             "#bd3786"
            ],
            [
             0.5555555555555556,
             "#d8576b"
            ],
            [
             0.6666666666666666,
             "#ed7953"
            ],
            [
             0.7777777777777778,
             "#fb9f3a"
            ],
            [
             0.8888888888888888,
             "#fdca26"
            ],
            [
             1,
             "#f0f921"
            ]
           ]
          },
          "colorway": [
           "#636efa",
           "#EF553B",
           "#00cc96",
           "#ab63fa",
           "#FFA15A",
           "#19d3f3",
           "#FF6692",
           "#B6E880",
           "#FF97FF",
           "#FECB52"
          ],
          "font": {
           "color": "#2a3f5f"
          },
          "geo": {
           "bgcolor": "white",
           "lakecolor": "white",
           "landcolor": "#E5ECF6",
           "showlakes": true,
           "showland": true,
           "subunitcolor": "white"
          },
          "hoverlabel": {
           "align": "left"
          },
          "hovermode": "closest",
          "mapbox": {
           "style": "light"
          },
          "paper_bgcolor": "white",
          "plot_bgcolor": "#E5ECF6",
          "polar": {
           "angularaxis": {
            "gridcolor": "white",
            "linecolor": "white",
            "ticks": ""
           },
           "bgcolor": "#E5ECF6",
           "radialaxis": {
            "gridcolor": "white",
            "linecolor": "white",
            "ticks": ""
           }
          },
          "scene": {
           "xaxis": {
            "backgroundcolor": "#E5ECF6",
            "gridcolor": "white",
            "gridwidth": 2,
            "linecolor": "white",
            "showbackground": true,
            "ticks": "",
            "zerolinecolor": "white"
           },
           "yaxis": {
            "backgroundcolor": "#E5ECF6",
            "gridcolor": "white",
            "gridwidth": 2,
            "linecolor": "white",
            "showbackground": true,
            "ticks": "",
            "zerolinecolor": "white"
           },
           "zaxis": {
            "backgroundcolor": "#E5ECF6",
            "gridcolor": "white",
            "gridwidth": 2,
            "linecolor": "white",
            "showbackground": true,
            "ticks": "",
            "zerolinecolor": "white"
           }
          },
          "shapedefaults": {
           "line": {
            "color": "#2a3f5f"
           }
          },
          "ternary": {
           "aaxis": {
            "gridcolor": "white",
            "linecolor": "white",
            "ticks": ""
           },
           "baxis": {
            "gridcolor": "white",
            "linecolor": "white",
            "ticks": ""
           },
           "bgcolor": "#E5ECF6",
           "caxis": {
            "gridcolor": "white",
            "linecolor": "white",
            "ticks": ""
           }
          },
          "title": {
           "x": 0.05
          },
          "xaxis": {
           "automargin": true,
           "gridcolor": "white",
           "linecolor": "white",
           "ticks": "",
           "title": {
            "standoff": 15
           },
           "zerolinecolor": "white",
           "zerolinewidth": 2
          },
          "yaxis": {
           "automargin": true,
           "gridcolor": "white",
           "linecolor": "white",
           "ticks": "",
           "title": {
            "standoff": 15
           },
           "zerolinecolor": "white",
           "zerolinewidth": 2
          }
         }
        },
        "title": {
         "text": "<b>Money-Lines</b>, <i>Updated Saturday, Jul 06, 2024 22:59:53 CT</i>"
        },
        "xaxis": {
         "anchor": "y",
         "domain": [
          0,
          0.45
         ],
         "title": {
          "text": "<b>Other</b>"
         }
        },
        "xaxis2": {
         "anchor": "y2",
         "domain": [
          0.55,
          1
         ],
         "title": {
          "text": "<b>Number of Total Wins in Group Stage</b>"
         }
        },
        "yaxis": {
         "anchor": "x",
         "domain": [
          0,
          1
         ],
         "title": {
          "text": "<b>Self</b>"
         }
        },
        "yaxis2": {
         "anchor": "x2",
         "domain": [
          0,
          1
         ],
         "title": {
          "text": "<b>Self</b>"
         }
        }
       }
      }
     },
     "metadata": {},
     "output_type": "display_data"
    }
   ],
   "source": [
    "fig6 = make_subplots(\n",
    "    rows=1, cols=2,\n",
    "    subplot_titles=[\n",
    "        \"<b>Current Matchup M/L</b><br>Odds for a Single Game\", \n",
    "        \"<b>M/L: Group-Stage Wins</b><br>Odds of Winning at Least <b>X</b> Games\"\n",
    "    ],\n",
    "    x_title=f\"{link_fig}, {link_fig1}, {link_fig2}, {link_fig3}, {link_fig4}, {link_fig5}\"\n",
    ")\n",
    "\n",
    "\n",
    "go_ml = go.Heatmap(\n",
    "    x=[x.replace(\" \", \"<br>\") for x in ml_table.columns],\n",
    "    y=[x.replace(\" \", \"<br>\") for x in ml_table.index],\n",
    "    z=win_prob_table,\n",
    "    zmax=max(win_prob_table.max(axis=None), win_prob_table.max(axis=None)),\n",
    "    zmid=0.5,\n",
    "    zmin=min(win_prob_table.min(axis=None), win_prob_table.min(axis=None)),\n",
    "    text=ml_table.applymap(lambda x: \"\" if math.isnan(float(x)) else x),\n",
    "    texttemplate=\"%{text}\",\n",
    "    colorscale=diverging.RdBu_r,\n",
    "    hoverongaps=False\n",
    ")\n",
    "\n",
    "ml_of_cum_x_wins_table.sort_index(axis=0, key=(lambda x: [elo[y] for y in x.values]), inplace=True)\n",
    "prob_of_cum_x_wins_table.sort_index(axis=0, key=(lambda x: [elo[y] for y in x.values]), inplace=True)\n",
    "scale_go_ml_cum_x_wins = prob_of_cum_x_wins_table\n",
    "\n",
    "go_ml_cum_x_wins = go.Heatmap(\n",
    "    x=[(str(x)) for x in ml_of_cum_x_wins_table.columns],\n",
    "    y=[x.replace(\" \", \"<br>\") for x in ml_of_cum_x_wins_table.index],\n",
    "    z=scale_go_ml_cum_x_wins,\n",
    "    zmax=max(scale_go_ml_cum_x_wins.max(axis=None), scale_go_ml_cum_x_wins.max(axis=None)),\n",
    "    zmid=0,\n",
    "    zmin=min(scale_go_ml_cum_x_wins.min(axis=None), scale_go_ml_cum_x_wins.min(axis=None)),\n",
    "    text=ml_of_cum_x_wins_table.applymap(lambda x: \"\" if math.isnan(float(x.replace(\",\", \"\")))  else x.replace(\",\", \"\")),\n",
    "    texttemplate=\"%{text}\",\n",
    "    colorscale=diverging.RdBu_r,\n",
    "    hoverongaps=False\n",
    ")\n",
    "\n",
    "fig6.add_trace(go_ml, row=1, col=1)\n",
    "fig6.add_trace(go_ml_cum_x_wins, row=1, col=2)\n",
    "\n",
    "fig6.layout.xaxis1.title=\"<b>Other</b>\"\n",
    "fig6.layout.yaxis1.title=\"<b>Self</b>\"\n",
    "fig6.layout.xaxis2.title=\"<b>Number of Total Wins in Group Stage</b>\"\n",
    "fig6.layout.yaxis2.title=\"<b>Self</b>\"\n",
    "\n",
    "fig6.update_traces(hoverinfo='skip', showscale=False)\n",
    "\n",
    "fig6.update_layout(\n",
    "    title=f\"<b>Money-Lines</b>, {updated_time}\"\n",
    ")\n",
    "\n",
    "fig6.show()\n",
    "fig6.write_html('figures/fig6.html')"
   ]
  },
  {
   "cell_type": "code",
   "execution_count": 16,
   "metadata": {},
   "outputs": [
    {
     "data": {
      "text/html": [
       "<div>\n",
       "<style scoped>\n",
       "    .dataframe tbody tr th:only-of-type {\n",
       "        vertical-align: middle;\n",
       "    }\n",
       "\n",
       "    .dataframe tbody tr th {\n",
       "        vertical-align: top;\n",
       "    }\n",
       "\n",
       "    .dataframe thead th {\n",
       "        text-align: right;\n",
       "    }\n",
       "</style>\n",
       "<table border=\"1\" class=\"dataframe\">\n",
       "  <thead>\n",
       "    <tr style=\"text-align: right;\">\n",
       "      <th></th>\n",
       "      <th>Paul Bartenfeld</th>\n",
       "      <th>Jack Massingill</th>\n",
       "      <th>Roman Ramirez</th>\n",
       "      <th>Evan Sooklal</th>\n",
       "      <th>Lilith Karyadi</th>\n",
       "      <th>Will Simpson</th>\n",
       "      <th>Aaron Carter</th>\n",
       "    </tr>\n",
       "  </thead>\n",
       "  <tbody>\n",
       "    <tr>\n",
       "      <th>Paul Bartenfeld</th>\n",
       "      <td>NaN</td>\n",
       "      <td>+185</td>\n",
       "      <td>+240</td>\n",
       "      <td>+255</td>\n",
       "      <td>+440</td>\n",
       "      <td>+570</td>\n",
       "      <td>+1315</td>\n",
       "    </tr>\n",
       "    <tr>\n",
       "      <th>Jack Massingill</th>\n",
       "      <td>-185</td>\n",
       "      <td>NaN</td>\n",
       "      <td>+130</td>\n",
       "      <td>+140</td>\n",
       "      <td>+240</td>\n",
       "      <td>+305</td>\n",
       "      <td>+710</td>\n",
       "    </tr>\n",
       "    <tr>\n",
       "      <th>Roman Ramirez</th>\n",
       "      <td>-240</td>\n",
       "      <td>-130</td>\n",
       "      <td>NaN</td>\n",
       "      <td>+105</td>\n",
       "      <td>+185</td>\n",
       "      <td>+235</td>\n",
       "      <td>+545</td>\n",
       "    </tr>\n",
       "    <tr>\n",
       "      <th>Evan Sooklal</th>\n",
       "      <td>-255</td>\n",
       "      <td>-140</td>\n",
       "      <td>-105</td>\n",
       "      <td>NaN</td>\n",
       "      <td>+175</td>\n",
       "      <td>+225</td>\n",
       "      <td>+515</td>\n",
       "    </tr>\n",
       "    <tr>\n",
       "      <th>Lilith Karyadi</th>\n",
       "      <td>-440</td>\n",
       "      <td>-240</td>\n",
       "      <td>-185</td>\n",
       "      <td>-175</td>\n",
       "      <td>NaN</td>\n",
       "      <td>+130</td>\n",
       "      <td>+300</td>\n",
       "    </tr>\n",
       "    <tr>\n",
       "      <th>Will Simpson</th>\n",
       "      <td>-570</td>\n",
       "      <td>-305</td>\n",
       "      <td>-235</td>\n",
       "      <td>-225</td>\n",
       "      <td>-130</td>\n",
       "      <td>NaN</td>\n",
       "      <td>+230</td>\n",
       "    </tr>\n",
       "    <tr>\n",
       "      <th>Aaron Carter</th>\n",
       "      <td>-1315</td>\n",
       "      <td>-710</td>\n",
       "      <td>-545</td>\n",
       "      <td>-515</td>\n",
       "      <td>-300</td>\n",
       "      <td>-230</td>\n",
       "      <td>NaN</td>\n",
       "    </tr>\n",
       "  </tbody>\n",
       "</table>\n",
       "</div>"
      ],
      "text/plain": [
       "                Paul Bartenfeld Jack Massingill Roman Ramirez Evan Sooklal  \\\n",
       "Paul Bartenfeld             NaN            +185          +240         +255   \n",
       "Jack Massingill            -185             NaN          +130         +140   \n",
       "Roman Ramirez              -240            -130           NaN         +105   \n",
       "Evan Sooklal               -255            -140          -105          NaN   \n",
       "Lilith Karyadi             -440            -240          -185         -175   \n",
       "Will Simpson               -570            -305          -235         -225   \n",
       "Aaron Carter              -1315            -710          -545         -515   \n",
       "\n",
       "                Lilith Karyadi Will Simpson Aaron Carter  \n",
       "Paul Bartenfeld           +440         +570        +1315  \n",
       "Jack Massingill           +240         +305         +710  \n",
       "Roman Ramirez             +185         +235         +545  \n",
       "Evan Sooklal              +175         +225         +515  \n",
       "Lilith Karyadi             NaN         +130         +300  \n",
       "Will Simpson              -130          NaN         +230  \n",
       "Aaron Carter              -300         -230          NaN  "
      ]
     },
     "execution_count": 16,
     "metadata": {},
     "output_type": "execute_result"
    }
   ],
   "source": [
    "ml_table"
   ]
  },
  {
   "cell_type": "code",
   "execution_count": 17,
   "metadata": {},
   "outputs": [],
   "source": [
    "# # system optimization\n",
    "\n",
    "# def optimization1():\n",
    "#     index = [_ for _ in np.arange(1, 51, 1.0)]\n",
    "#     columns = [_ for _ in np.arange(2, 11, 1.0)]\n",
    "\n",
    "#     opt_table = pd.DataFrame(np.zeros([len(index), len(columns)]))\n",
    "#     opt_table.index = index\n",
    "#     opt_table.columns = columns\n",
    "\n",
    "#     for base in opt_table.columns:\n",
    "#         for K in opt_table.index:\n",
    "#             (elo, elo_time_table, prev_elo_time_table, d_elo_time_table, exp_elo_time_table, record_table, luck_table, plus_minus_table) = generate_elo(K=K,base=base)\n",
    "#             num_upsets = 0\n",
    "#             for i in elo_time_table.index:\n",
    "#                 prev_elo_slice = prev_elo_time_table.loc[i,:].dropna().values\n",
    "#                 elo_slice = elo_time_table.loc[i,:].dropna().values\n",
    "#                 combo_elo = np.array([prev_elo_slice, elo_slice])\n",
    "#                 is_upset = ((combo_elo[1, 0] - combo_elo[0, 0]) * (combo_elo[0, 1] - combo_elo[0, 0])) > 0\n",
    "#                 if is_upset:\n",
    "#                     num_upsets += 1\n",
    "#             opt_table.loc[K,base] = num_upsets\n",
    "\n",
    "#     fig = px.imshow(opt_table.T,labels=dict(y=\"Base\", x=\"K-value\", color=\"Number of Upsets\"))#, text_auto=True, aspect=\"auto\")\n",
    "#     fig.update_layout(\n",
    "#         title=\"<b>Total Number of Upsets against K-Value and Base</b>\"\n",
    "#     )\n",
    "#     fig.show()\n",
    "#     return opt_table\n",
    "# opt1 = optimization1()\n",
    "# fig.write_html(\"figures/opt1.html\")"
   ]
  },
  {
   "cell_type": "code",
   "execution_count": 18,
   "metadata": {},
   "outputs": [],
   "source": [
    "# # system optimization\n",
    "\n",
    "# def optimization2():\n",
    "#     index = [_ for _ in np.arange(1, 51, 1.0)]\n",
    "#     columns = [_ for _ in np.arange(2, 11, 1.0)]\n",
    "\n",
    "#     opt_table = pd.DataFrame(np.zeros([len(index), len(columns)]))\n",
    "#     opt_table.index = index\n",
    "#     opt_table.columns = columns\n",
    "\n",
    "#     for base in opt_table.columns:\n",
    "#         for K in opt_table.index:\n",
    "#             (elo, elo_time_table, prev_elo_time_table, d_elo_time_table, exp_elo_time_table, record_table, luck_table, plus_minus_table) = generate_elo(K=K,base=base)\n",
    "#             total_correctness = 0\n",
    "#             for i in elo_time_table.index:\n",
    "#                 d_elo_slice = d_elo_time_table.loc[i,:].dropna().values\n",
    "#                 exp_elo_slice = exp_elo_time_table.loc[i,:].dropna().values\n",
    "#                 correctness = (np.sign(d_elo_slice) * exp_elo_slice).sum()\n",
    "#                 total_correctness += correctness\n",
    "#             opt_table.loc[K,base] = total_correctness\n",
    "\n",
    "#     fig = px.imshow(opt_table.T,labels=dict(y=\"Base\", x=\"K-value\", color=\"Total Correctness\"))#, text_auto=False, aspect=\"auto\")\n",
    "#     fig.update_layout(\n",
    "#         title=\"<b>Win Percentage Correctness against K-Value and Base</b>\"\n",
    "#     )\n",
    "#     fig.show()\n",
    "#     return opt_table\n",
    "# opt2 = optimization2()\n",
    "# fig.write_html(\"figures/opt2.html\")"
   ]
  },
  {
   "cell_type": "code",
   "execution_count": 19,
   "metadata": {},
   "outputs": [],
   "source": [
    "# def norm_minmax(dataframe):\n",
    "#     return ((dataframe - dataframe.min(axis=None)) / (dataframe.max(axis=None) - dataframe.min(axis=None)))\n",
    "\n",
    "# norm_opt1 = norm_minmax(opt1)\n",
    "# norm_opt2 = norm_minmax(opt2)\n",
    "\n",
    "# fig = px.imshow(norm_opt2.T - norm_opt1.T,labels=dict(y=\"Base\", x=\"K-value\", color=\"Normalized Optimization\"), text_auto=False, aspect=\"auto\")\n",
    "# fig.update_layout(\n",
    "#     title=\"<b>K Value and Base against Both Optimization Functions</b>\"\n",
    "# )\n",
    "# fig.show()\n",
    "# fig.write_html(\"figures/opt_total.html\")"
   ]
  }
 ],
 "metadata": {
  "kernelspec": {
   "display_name": "Python 3",
   "language": "python",
   "name": "python3"
  },
  "language_info": {
   "codemirror_mode": {
    "name": "ipython",
    "version": 3
   },
   "file_extension": ".py",
   "mimetype": "text/x-python",
   "name": "python",
   "nbconvert_exporter": "python",
   "pygments_lexer": "ipython3",
   "version": "3.9.13"
  }
 },
 "nbformat": 4,
 "nbformat_minor": 2
}
