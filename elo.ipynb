{
 "cells": [
  {
   "cell_type": "code",
   "execution_count": 7,
   "metadata": {},
   "outputs": [],
   "source": [
    "import pandas as pd\n",
    "import numpy as np\n",
    "\n",
    "from IPython.display import display\n",
    "import datetime"
   ]
  },
  {
   "cell_type": "code",
   "execution_count": 8,
   "metadata": {},
   "outputs": [],
   "source": [
    "matches_table = pd.read_csv('data/matches.csv')"
   ]
  },
  {
   "cell_type": "code",
   "execution_count": 9,
   "metadata": {},
   "outputs": [
    {
     "data": {
      "text/html": [
       "<div>\n",
       "<style scoped>\n",
       "    .dataframe tbody tr th:only-of-type {\n",
       "        vertical-align: middle;\n",
       "    }\n",
       "\n",
       "    .dataframe tbody tr th {\n",
       "        vertical-align: top;\n",
       "    }\n",
       "\n",
       "    .dataframe thead th {\n",
       "        text-align: right;\n",
       "    }\n",
       "</style>\n",
       "<table border=\"1\" class=\"dataframe\">\n",
       "  <thead>\n",
       "    <tr style=\"text-align: right;\">\n",
       "      <th></th>\n",
       "      <th>Date</th>\n",
       "      <th>Match Number</th>\n",
       "      <th>Stage</th>\n",
       "      <th>Player 1</th>\n",
       "      <th>Player 2</th>\n",
       "      <th>Score 1</th>\n",
       "      <th>Score 2</th>\n",
       "    </tr>\n",
       "  </thead>\n",
       "  <tbody>\n",
       "    <tr>\n",
       "      <th>0</th>\n",
       "      <td>2023-11-18</td>\n",
       "      <td>1</td>\n",
       "      <td>Group</td>\n",
       "      <td>Evan Sooklal</td>\n",
       "      <td>Will Simpson</td>\n",
       "      <td>2</td>\n",
       "      <td>6</td>\n",
       "    </tr>\n",
       "    <tr>\n",
       "      <th>1</th>\n",
       "      <td>2023-11-18</td>\n",
       "      <td>2</td>\n",
       "      <td>Group</td>\n",
       "      <td>Paul Bartenfeld</td>\n",
       "      <td>Roman Ramirez</td>\n",
       "      <td>2</td>\n",
       "      <td>6</td>\n",
       "    </tr>\n",
       "    <tr>\n",
       "      <th>2</th>\n",
       "      <td>2023-11-18</td>\n",
       "      <td>3</td>\n",
       "      <td>Group</td>\n",
       "      <td>Roman Ramirez</td>\n",
       "      <td>Evan Sooklal</td>\n",
       "      <td>6</td>\n",
       "      <td>3</td>\n",
       "    </tr>\n",
       "    <tr>\n",
       "      <th>3</th>\n",
       "      <td>2023-11-18</td>\n",
       "      <td>4</td>\n",
       "      <td>Group</td>\n",
       "      <td>Will Simpson</td>\n",
       "      <td>Paul Bartenfeld</td>\n",
       "      <td>6</td>\n",
       "      <td>1</td>\n",
       "    </tr>\n",
       "    <tr>\n",
       "      <th>4</th>\n",
       "      <td>2023-11-18</td>\n",
       "      <td>5</td>\n",
       "      <td>Group</td>\n",
       "      <td>Paul Bartenfeld</td>\n",
       "      <td>Evan Sooklal</td>\n",
       "      <td>1</td>\n",
       "      <td>6</td>\n",
       "    </tr>\n",
       "    <tr>\n",
       "      <th>5</th>\n",
       "      <td>2023-11-18</td>\n",
       "      <td>6</td>\n",
       "      <td>Group</td>\n",
       "      <td>Will Simpson</td>\n",
       "      <td>Roman Ramirez</td>\n",
       "      <td>3</td>\n",
       "      <td>6</td>\n",
       "    </tr>\n",
       "    <tr>\n",
       "      <th>6</th>\n",
       "      <td>2023-11-18</td>\n",
       "      <td>7</td>\n",
       "      <td>Group</td>\n",
       "      <td>Will Simpson</td>\n",
       "      <td>Evan Sooklal</td>\n",
       "      <td>6</td>\n",
       "      <td>2</td>\n",
       "    </tr>\n",
       "    <tr>\n",
       "      <th>7</th>\n",
       "      <td>2023-11-18</td>\n",
       "      <td>8</td>\n",
       "      <td>Group</td>\n",
       "      <td>Roman Ramirez</td>\n",
       "      <td>Paul Bartenfeld</td>\n",
       "      <td>6</td>\n",
       "      <td>4</td>\n",
       "    </tr>\n",
       "    <tr>\n",
       "      <th>8</th>\n",
       "      <td>2023-11-18</td>\n",
       "      <td>9</td>\n",
       "      <td>Group</td>\n",
       "      <td>Evan Sooklal</td>\n",
       "      <td>Roman Ramirez</td>\n",
       "      <td>6</td>\n",
       "      <td>5</td>\n",
       "    </tr>\n",
       "    <tr>\n",
       "      <th>9</th>\n",
       "      <td>2023-11-18</td>\n",
       "      <td>10</td>\n",
       "      <td>Group</td>\n",
       "      <td>Paul Bartenfeld</td>\n",
       "      <td>Will Simpson</td>\n",
       "      <td>4</td>\n",
       "      <td>6</td>\n",
       "    </tr>\n",
       "    <tr>\n",
       "      <th>10</th>\n",
       "      <td>2023-11-18</td>\n",
       "      <td>11</td>\n",
       "      <td>Group</td>\n",
       "      <td>Evan Sooklal</td>\n",
       "      <td>Paul Bartenfeld</td>\n",
       "      <td>6</td>\n",
       "      <td>5</td>\n",
       "    </tr>\n",
       "    <tr>\n",
       "      <th>11</th>\n",
       "      <td>2023-11-18</td>\n",
       "      <td>12</td>\n",
       "      <td>Group</td>\n",
       "      <td>Roman Ramirez</td>\n",
       "      <td>Will Simpson</td>\n",
       "      <td>6</td>\n",
       "      <td>2</td>\n",
       "    </tr>\n",
       "    <tr>\n",
       "      <th>12</th>\n",
       "      <td>2023-11-18</td>\n",
       "      <td>1</td>\n",
       "      <td>Final</td>\n",
       "      <td>Roman Ramirez</td>\n",
       "      <td>Will Simpson</td>\n",
       "      <td>2</td>\n",
       "      <td>6</td>\n",
       "    </tr>\n",
       "    <tr>\n",
       "      <th>13</th>\n",
       "      <td>2023-11-18</td>\n",
       "      <td>2</td>\n",
       "      <td>Final</td>\n",
       "      <td>Will Simpson</td>\n",
       "      <td>Roman Ramirez</td>\n",
       "      <td>4</td>\n",
       "      <td>6</td>\n",
       "    </tr>\n",
       "    <tr>\n",
       "      <th>14</th>\n",
       "      <td>2023-11-18</td>\n",
       "      <td>3</td>\n",
       "      <td>Final</td>\n",
       "      <td>Roman Ramirez</td>\n",
       "      <td>Will Simpson</td>\n",
       "      <td>6</td>\n",
       "      <td>4</td>\n",
       "    </tr>\n",
       "    <tr>\n",
       "      <th>15</th>\n",
       "      <td>2023-12-02</td>\n",
       "      <td>1</td>\n",
       "      <td>Group</td>\n",
       "      <td>Roman Ramirez</td>\n",
       "      <td>Aaron Carter</td>\n",
       "      <td>4</td>\n",
       "      <td>6</td>\n",
       "    </tr>\n",
       "    <tr>\n",
       "      <th>16</th>\n",
       "      <td>2023-12-02</td>\n",
       "      <td>2</td>\n",
       "      <td>Group</td>\n",
       "      <td>Will Simpson</td>\n",
       "      <td>Paul Bartenfeld</td>\n",
       "      <td>6</td>\n",
       "      <td>4</td>\n",
       "    </tr>\n",
       "    <tr>\n",
       "      <th>17</th>\n",
       "      <td>2023-12-02</td>\n",
       "      <td>3</td>\n",
       "      <td>Group</td>\n",
       "      <td>Aaron Carter</td>\n",
       "      <td>Will Simpson</td>\n",
       "      <td>4</td>\n",
       "      <td>6</td>\n",
       "    </tr>\n",
       "    <tr>\n",
       "      <th>18</th>\n",
       "      <td>2023-12-02</td>\n",
       "      <td>4</td>\n",
       "      <td>Group</td>\n",
       "      <td>Evan Sooklal</td>\n",
       "      <td>Roman Ramirez</td>\n",
       "      <td>6</td>\n",
       "      <td>2</td>\n",
       "    </tr>\n",
       "    <tr>\n",
       "      <th>19</th>\n",
       "      <td>2023-12-02</td>\n",
       "      <td>5</td>\n",
       "      <td>Group</td>\n",
       "      <td>Will Simpson</td>\n",
       "      <td>Evan Sooklal</td>\n",
       "      <td>6</td>\n",
       "      <td>2</td>\n",
       "    </tr>\n",
       "    <tr>\n",
       "      <th>20</th>\n",
       "      <td>2023-12-02</td>\n",
       "      <td>6</td>\n",
       "      <td>Group</td>\n",
       "      <td>Paul Bartenfeld</td>\n",
       "      <td>Aaron Carter</td>\n",
       "      <td>6</td>\n",
       "      <td>3</td>\n",
       "    </tr>\n",
       "    <tr>\n",
       "      <th>21</th>\n",
       "      <td>2023-12-02</td>\n",
       "      <td>7</td>\n",
       "      <td>Group</td>\n",
       "      <td>Evan Sooklal</td>\n",
       "      <td>Paul Bartenfeld</td>\n",
       "      <td>6</td>\n",
       "      <td>4</td>\n",
       "    </tr>\n",
       "    <tr>\n",
       "      <th>22</th>\n",
       "      <td>2023-12-02</td>\n",
       "      <td>8</td>\n",
       "      <td>Group</td>\n",
       "      <td>Roman Ramirez</td>\n",
       "      <td>Will Simpson</td>\n",
       "      <td>6</td>\n",
       "      <td>4</td>\n",
       "    </tr>\n",
       "    <tr>\n",
       "      <th>23</th>\n",
       "      <td>2023-12-02</td>\n",
       "      <td>9</td>\n",
       "      <td>Group</td>\n",
       "      <td>Paul Bartenfeld</td>\n",
       "      <td>Roman Ramirez</td>\n",
       "      <td>6</td>\n",
       "      <td>3</td>\n",
       "    </tr>\n",
       "    <tr>\n",
       "      <th>24</th>\n",
       "      <td>2023-12-02</td>\n",
       "      <td>10</td>\n",
       "      <td>Group</td>\n",
       "      <td>Aaron Carter</td>\n",
       "      <td>Evan Sooklal</td>\n",
       "      <td>6</td>\n",
       "      <td>3</td>\n",
       "    </tr>\n",
       "    <tr>\n",
       "      <th>25</th>\n",
       "      <td>2023-12-02</td>\n",
       "      <td>11</td>\n",
       "      <td>Group</td>\n",
       "      <td>Aaron Carter</td>\n",
       "      <td>Roman Ramirez</td>\n",
       "      <td>0</td>\n",
       "      <td>6</td>\n",
       "    </tr>\n",
       "    <tr>\n",
       "      <th>26</th>\n",
       "      <td>2023-12-02</td>\n",
       "      <td>12</td>\n",
       "      <td>Group</td>\n",
       "      <td>Paul Bartenfeld</td>\n",
       "      <td>Will Simpson</td>\n",
       "      <td>1</td>\n",
       "      <td>6</td>\n",
       "    </tr>\n",
       "    <tr>\n",
       "      <th>27</th>\n",
       "      <td>2023-12-02</td>\n",
       "      <td>13</td>\n",
       "      <td>Group</td>\n",
       "      <td>Will Simpson</td>\n",
       "      <td>Aaron Carter</td>\n",
       "      <td>3</td>\n",
       "      <td>6</td>\n",
       "    </tr>\n",
       "    <tr>\n",
       "      <th>28</th>\n",
       "      <td>2023-12-02</td>\n",
       "      <td>14</td>\n",
       "      <td>Group</td>\n",
       "      <td>Roman Ramirez</td>\n",
       "      <td>Evan Sooklal</td>\n",
       "      <td>2</td>\n",
       "      <td>6</td>\n",
       "    </tr>\n",
       "    <tr>\n",
       "      <th>29</th>\n",
       "      <td>2023-12-02</td>\n",
       "      <td>15</td>\n",
       "      <td>Group</td>\n",
       "      <td>Evan Sooklal</td>\n",
       "      <td>Will Simpson</td>\n",
       "      <td>5</td>\n",
       "      <td>6</td>\n",
       "    </tr>\n",
       "    <tr>\n",
       "      <th>30</th>\n",
       "      <td>2023-12-02</td>\n",
       "      <td>16</td>\n",
       "      <td>Group</td>\n",
       "      <td>Aaron Carter</td>\n",
       "      <td>Paul Bartenfeld</td>\n",
       "      <td>6</td>\n",
       "      <td>3</td>\n",
       "    </tr>\n",
       "    <tr>\n",
       "      <th>31</th>\n",
       "      <td>2023-12-02</td>\n",
       "      <td>17</td>\n",
       "      <td>Group</td>\n",
       "      <td>Paul Bartenfeld</td>\n",
       "      <td>Evan Sooklal</td>\n",
       "      <td>6</td>\n",
       "      <td>5</td>\n",
       "    </tr>\n",
       "    <tr>\n",
       "      <th>32</th>\n",
       "      <td>2023-12-02</td>\n",
       "      <td>18</td>\n",
       "      <td>Group</td>\n",
       "      <td>Will Simpson</td>\n",
       "      <td>Roman Ramirez</td>\n",
       "      <td>6</td>\n",
       "      <td>5</td>\n",
       "    </tr>\n",
       "    <tr>\n",
       "      <th>33</th>\n",
       "      <td>2023-12-02</td>\n",
       "      <td>19</td>\n",
       "      <td>Group</td>\n",
       "      <td>Roman Ramirez</td>\n",
       "      <td>Paul Bartenfeld</td>\n",
       "      <td>4</td>\n",
       "      <td>6</td>\n",
       "    </tr>\n",
       "    <tr>\n",
       "      <th>34</th>\n",
       "      <td>2023-12-02</td>\n",
       "      <td>20</td>\n",
       "      <td>Group</td>\n",
       "      <td>Evan Sooklal</td>\n",
       "      <td>Aaron Carter</td>\n",
       "      <td>6</td>\n",
       "      <td>4</td>\n",
       "    </tr>\n",
       "    <tr>\n",
       "      <th>35</th>\n",
       "      <td>2023-12-02</td>\n",
       "      <td>1</td>\n",
       "      <td>Final</td>\n",
       "      <td>Will Simpson</td>\n",
       "      <td>Evan Sooklal</td>\n",
       "      <td>6</td>\n",
       "      <td>2</td>\n",
       "    </tr>\n",
       "    <tr>\n",
       "      <th>36</th>\n",
       "      <td>2023-12-02</td>\n",
       "      <td>2</td>\n",
       "      <td>Final</td>\n",
       "      <td>Will Simpson</td>\n",
       "      <td>Evan Sooklal</td>\n",
       "      <td>6</td>\n",
       "      <td>1</td>\n",
       "    </tr>\n",
       "  </tbody>\n",
       "</table>\n",
       "</div>"
      ],
      "text/plain": [
       "          Date  Match Number  Stage         Player 1         Player 2  \\\n",
       "0   2023-11-18             1  Group     Evan Sooklal     Will Simpson   \n",
       "1   2023-11-18             2  Group  Paul Bartenfeld    Roman Ramirez   \n",
       "2   2023-11-18             3  Group    Roman Ramirez     Evan Sooklal   \n",
       "3   2023-11-18             4  Group     Will Simpson  Paul Bartenfeld   \n",
       "4   2023-11-18             5  Group  Paul Bartenfeld     Evan Sooklal   \n",
       "5   2023-11-18             6  Group     Will Simpson    Roman Ramirez   \n",
       "6   2023-11-18             7  Group     Will Simpson     Evan Sooklal   \n",
       "7   2023-11-18             8  Group    Roman Ramirez  Paul Bartenfeld   \n",
       "8   2023-11-18             9  Group     Evan Sooklal    Roman Ramirez   \n",
       "9   2023-11-18            10  Group  Paul Bartenfeld     Will Simpson   \n",
       "10  2023-11-18            11  Group     Evan Sooklal  Paul Bartenfeld   \n",
       "11  2023-11-18            12  Group    Roman Ramirez     Will Simpson   \n",
       "12  2023-11-18             1  Final    Roman Ramirez     Will Simpson   \n",
       "13  2023-11-18             2  Final     Will Simpson    Roman Ramirez   \n",
       "14  2023-11-18             3  Final    Roman Ramirez     Will Simpson   \n",
       "15  2023-12-02             1  Group    Roman Ramirez     Aaron Carter   \n",
       "16  2023-12-02             2  Group     Will Simpson  Paul Bartenfeld   \n",
       "17  2023-12-02             3  Group     Aaron Carter     Will Simpson   \n",
       "18  2023-12-02             4  Group     Evan Sooklal    Roman Ramirez   \n",
       "19  2023-12-02             5  Group     Will Simpson     Evan Sooklal   \n",
       "20  2023-12-02             6  Group  Paul Bartenfeld     Aaron Carter   \n",
       "21  2023-12-02             7  Group     Evan Sooklal  Paul Bartenfeld   \n",
       "22  2023-12-02             8  Group    Roman Ramirez     Will Simpson   \n",
       "23  2023-12-02             9  Group  Paul Bartenfeld    Roman Ramirez   \n",
       "24  2023-12-02            10  Group     Aaron Carter     Evan Sooklal   \n",
       "25  2023-12-02            11  Group     Aaron Carter    Roman Ramirez   \n",
       "26  2023-12-02            12  Group  Paul Bartenfeld     Will Simpson   \n",
       "27  2023-12-02            13  Group     Will Simpson     Aaron Carter   \n",
       "28  2023-12-02            14  Group    Roman Ramirez     Evan Sooklal   \n",
       "29  2023-12-02            15  Group     Evan Sooklal     Will Simpson   \n",
       "30  2023-12-02            16  Group     Aaron Carter  Paul Bartenfeld   \n",
       "31  2023-12-02            17  Group  Paul Bartenfeld     Evan Sooklal   \n",
       "32  2023-12-02            18  Group     Will Simpson    Roman Ramirez   \n",
       "33  2023-12-02            19  Group    Roman Ramirez  Paul Bartenfeld   \n",
       "34  2023-12-02            20  Group     Evan Sooklal     Aaron Carter   \n",
       "35  2023-12-02             1  Final     Will Simpson     Evan Sooklal   \n",
       "36  2023-12-02             2  Final     Will Simpson     Evan Sooklal   \n",
       "\n",
       "    Score 1  Score 2  \n",
       "0         2        6  \n",
       "1         2        6  \n",
       "2         6        3  \n",
       "3         6        1  \n",
       "4         1        6  \n",
       "5         3        6  \n",
       "6         6        2  \n",
       "7         6        4  \n",
       "8         6        5  \n",
       "9         4        6  \n",
       "10        6        5  \n",
       "11        6        2  \n",
       "12        2        6  \n",
       "13        4        6  \n",
       "14        6        4  \n",
       "15        4        6  \n",
       "16        6        4  \n",
       "17        4        6  \n",
       "18        6        2  \n",
       "19        6        2  \n",
       "20        6        3  \n",
       "21        6        4  \n",
       "22        6        4  \n",
       "23        6        3  \n",
       "24        6        3  \n",
       "25        0        6  \n",
       "26        1        6  \n",
       "27        3        6  \n",
       "28        2        6  \n",
       "29        5        6  \n",
       "30        6        3  \n",
       "31        6        5  \n",
       "32        6        5  \n",
       "33        4        6  \n",
       "34        6        4  \n",
       "35        6        2  \n",
       "36        6        1  "
      ]
     },
     "metadata": {},
     "output_type": "display_data"
    }
   ],
   "source": [
    "display(matches_table)"
   ]
  },
  {
   "cell_type": "code",
   "execution_count": 10,
   "metadata": {},
   "outputs": [
    {
     "data": {
      "text/plain": [
       "{'Aaron Carter',\n",
       " 'Evan Sooklal',\n",
       " 'Paul Bartenfeld',\n",
       " 'Roman Ramirez',\n",
       " 'Will Simpson'}"
      ]
     },
     "metadata": {},
     "output_type": "display_data"
    }
   ],
   "source": [
    "set_player1 = set(matches_table['Player 1'])\n",
    "set_player2 = set(matches_table['Player 2'])\n",
    "set_players = set_player1.union(set_player2)\n",
    "num_players = len(set_players)\n",
    "display(set_players)"
   ]
  },
  {
   "cell_type": "code",
   "execution_count": 11,
   "metadata": {},
   "outputs": [
    {
     "data": {
      "text/html": [
       "<div>\n",
       "<style scoped>\n",
       "    .dataframe tbody tr th:only-of-type {\n",
       "        vertical-align: middle;\n",
       "    }\n",
       "\n",
       "    .dataframe tbody tr th {\n",
       "        vertical-align: top;\n",
       "    }\n",
       "\n",
       "    .dataframe thead th {\n",
       "        text-align: right;\n",
       "    }\n",
       "</style>\n",
       "<table border=\"1\" class=\"dataframe\">\n",
       "  <thead>\n",
       "    <tr style=\"text-align: right;\">\n",
       "      <th></th>\n",
       "      <th>Aaron Carter</th>\n",
       "      <th>Evan Sooklal</th>\n",
       "      <th>Paul Bartenfeld</th>\n",
       "      <th>Roman Ramirez</th>\n",
       "      <th>Will Simpson</th>\n",
       "    </tr>\n",
       "  </thead>\n",
       "  <tbody>\n",
       "    <tr>\n",
       "      <th>1</th>\n",
       "      <td>NaN</td>\n",
       "      <td>1200.000000</td>\n",
       "      <td>NaN</td>\n",
       "      <td>NaN</td>\n",
       "      <td>1200.000000</td>\n",
       "    </tr>\n",
       "    <tr>\n",
       "      <th>2</th>\n",
       "      <td>NaN</td>\n",
       "      <td>NaN</td>\n",
       "      <td>1200.000000</td>\n",
       "      <td>1200.000000</td>\n",
       "      <td>NaN</td>\n",
       "    </tr>\n",
       "    <tr>\n",
       "      <th>3</th>\n",
       "      <td>NaN</td>\n",
       "      <td>1180.000000</td>\n",
       "      <td>NaN</td>\n",
       "      <td>1220.000000</td>\n",
       "      <td>NaN</td>\n",
       "    </tr>\n",
       "    <tr>\n",
       "      <th>4</th>\n",
       "      <td>NaN</td>\n",
       "      <td>NaN</td>\n",
       "      <td>1180.000000</td>\n",
       "      <td>NaN</td>\n",
       "      <td>1220.000000</td>\n",
       "    </tr>\n",
       "    <tr>\n",
       "      <th>5</th>\n",
       "      <td>NaN</td>\n",
       "      <td>1169.132444</td>\n",
       "      <td>1159.132444</td>\n",
       "      <td>NaN</td>\n",
       "      <td>NaN</td>\n",
       "    </tr>\n",
       "    <tr>\n",
       "      <th>6</th>\n",
       "      <td>NaN</td>\n",
       "      <td>NaN</td>\n",
       "      <td>NaN</td>\n",
       "      <td>1230.867556</td>\n",
       "      <td>1240.867556</td>\n",
       "    </tr>\n",
       "    <tr>\n",
       "      <th>7</th>\n",
       "      <td>NaN</td>\n",
       "      <td>1193.093140</td>\n",
       "      <td>NaN</td>\n",
       "      <td>NaN</td>\n",
       "      <td>1224.828251</td>\n",
       "    </tr>\n",
       "    <tr>\n",
       "      <th>8</th>\n",
       "      <td>NaN</td>\n",
       "      <td>NaN</td>\n",
       "      <td>1135.171749</td>\n",
       "      <td>1246.906860</td>\n",
       "      <td>NaN</td>\n",
       "    </tr>\n",
       "    <tr>\n",
       "      <th>9</th>\n",
       "      <td>NaN</td>\n",
       "      <td>1176.379464</td>\n",
       "      <td>NaN</td>\n",
       "      <td>1245.837394</td>\n",
       "      <td>NaN</td>\n",
       "    </tr>\n",
       "    <tr>\n",
       "      <th>10</th>\n",
       "      <td>NaN</td>\n",
       "      <td>NaN</td>\n",
       "      <td>1136.241215</td>\n",
       "      <td>NaN</td>\n",
       "      <td>1241.541926</td>\n",
       "    </tr>\n",
       "    <tr>\n",
       "      <th>11</th>\n",
       "      <td>NaN</td>\n",
       "      <td>1188.464816</td>\n",
       "      <td>1136.728069</td>\n",
       "      <td>NaN</td>\n",
       "      <td>NaN</td>\n",
       "    </tr>\n",
       "    <tr>\n",
       "      <th>12</th>\n",
       "      <td>NaN</td>\n",
       "      <td>NaN</td>\n",
       "      <td>NaN</td>\n",
       "      <td>1233.752042</td>\n",
       "      <td>1241.055073</td>\n",
       "    </tr>\n",
       "    <tr>\n",
       "      <th>13</th>\n",
       "      <td>NaN</td>\n",
       "      <td>NaN</td>\n",
       "      <td>NaN</td>\n",
       "      <td>1254.511192</td>\n",
       "      <td>1220.295923</td>\n",
       "    </tr>\n",
       "    <tr>\n",
       "      <th>14</th>\n",
       "      <td>NaN</td>\n",
       "      <td>NaN</td>\n",
       "      <td>NaN</td>\n",
       "      <td>1230.970340</td>\n",
       "      <td>1243.836775</td>\n",
       "    </tr>\n",
       "    <tr>\n",
       "      <th>15</th>\n",
       "      <td>NaN</td>\n",
       "      <td>NaN</td>\n",
       "      <td>NaN</td>\n",
       "      <td>1242.307204</td>\n",
       "      <td>1232.499911</td>\n",
       "    </tr>\n",
       "    <tr>\n",
       "      <th>16</th>\n",
       "      <td>1200.000000</td>\n",
       "      <td>NaN</td>\n",
       "      <td>NaN</td>\n",
       "      <td>1251.287912</td>\n",
       "      <td>NaN</td>\n",
       "    </tr>\n",
       "    <tr>\n",
       "      <th>17</th>\n",
       "      <td>NaN</td>\n",
       "      <td>NaN</td>\n",
       "      <td>1137.050330</td>\n",
       "      <td>NaN</td>\n",
       "      <td>1223.519203</td>\n",
       "    </tr>\n",
       "    <tr>\n",
       "      <th>18</th>\n",
       "      <td>1215.277051</td>\n",
       "      <td>NaN</td>\n",
       "      <td>NaN</td>\n",
       "      <td>NaN</td>\n",
       "      <td>1224.788658</td>\n",
       "    </tr>\n",
       "    <tr>\n",
       "      <th>19</th>\n",
       "      <td>NaN</td>\n",
       "      <td>1188.142555</td>\n",
       "      <td>NaN</td>\n",
       "      <td>1236.010861</td>\n",
       "      <td>NaN</td>\n",
       "    </tr>\n",
       "    <tr>\n",
       "      <th>20</th>\n",
       "      <td>NaN</td>\n",
       "      <td>1213.074360</td>\n",
       "      <td>NaN</td>\n",
       "      <td>NaN</td>\n",
       "      <td>1233.800075</td>\n",
       "    </tr>\n",
       "    <tr>\n",
       "      <th>21</th>\n",
       "      <td>1206.265634</td>\n",
       "      <td>NaN</td>\n",
       "      <td>1135.780875</td>\n",
       "      <td>NaN</td>\n",
       "      <td>NaN</td>\n",
       "    </tr>\n",
       "    <tr>\n",
       "      <th>22</th>\n",
       "      <td>NaN</td>\n",
       "      <td>1195.225557</td>\n",
       "      <td>1157.966948</td>\n",
       "      <td>NaN</td>\n",
       "      <td>NaN</td>\n",
       "    </tr>\n",
       "    <tr>\n",
       "      <th>23</th>\n",
       "      <td>NaN</td>\n",
       "      <td>NaN</td>\n",
       "      <td>NaN</td>\n",
       "      <td>1211.079056</td>\n",
       "      <td>1251.648877</td>\n",
       "    </tr>\n",
       "    <tr>\n",
       "      <th>24</th>\n",
       "      <td>NaN</td>\n",
       "      <td>NaN</td>\n",
       "      <td>1151.819414</td>\n",
       "      <td>1225.269606</td>\n",
       "      <td>NaN</td>\n",
       "    </tr>\n",
       "    <tr>\n",
       "      <th>25</th>\n",
       "      <td>1184.079562</td>\n",
       "      <td>1201.373091</td>\n",
       "      <td>NaN</td>\n",
       "      <td>NaN</td>\n",
       "      <td>NaN</td>\n",
       "    </tr>\n",
       "    <tr>\n",
       "      <th>26</th>\n",
       "      <td>1200.875456</td>\n",
       "      <td>NaN</td>\n",
       "      <td>NaN</td>\n",
       "      <td>1202.793625</td>\n",
       "      <td>NaN</td>\n",
       "    </tr>\n",
       "    <tr>\n",
       "      <th>27</th>\n",
       "      <td>NaN</td>\n",
       "      <td>NaN</td>\n",
       "      <td>1174.295395</td>\n",
       "      <td>NaN</td>\n",
       "      <td>1237.458328</td>\n",
       "    </tr>\n",
       "    <tr>\n",
       "      <th>28</th>\n",
       "      <td>1171.074889</td>\n",
       "      <td>NaN</td>\n",
       "      <td>NaN</td>\n",
       "      <td>NaN</td>\n",
       "      <td>1255.994073</td>\n",
       "    </tr>\n",
       "    <tr>\n",
       "      <th>29</th>\n",
       "      <td>NaN</td>\n",
       "      <td>1184.577196</td>\n",
       "      <td>NaN</td>\n",
       "      <td>1232.594192</td>\n",
       "      <td>NaN</td>\n",
       "    </tr>\n",
       "    <tr>\n",
       "      <th>30</th>\n",
       "      <td>NaN</td>\n",
       "      <td>1209.524042</td>\n",
       "      <td>NaN</td>\n",
       "      <td>NaN</td>\n",
       "      <td>1232.411236</td>\n",
       "    </tr>\n",
       "    <tr>\n",
       "      <th>31</th>\n",
       "      <td>1194.657726</td>\n",
       "      <td>NaN</td>\n",
       "      <td>1155.759649</td>\n",
       "      <td>NaN</td>\n",
       "      <td>NaN</td>\n",
       "    </tr>\n",
       "    <tr>\n",
       "      <th>32</th>\n",
       "      <td>NaN</td>\n",
       "      <td>1206.898693</td>\n",
       "      <td>1144.779640</td>\n",
       "      <td>NaN</td>\n",
       "      <td>NaN</td>\n",
       "    </tr>\n",
       "    <tr>\n",
       "      <th>33</th>\n",
       "      <td>NaN</td>\n",
       "      <td>NaN</td>\n",
       "      <td>NaN</td>\n",
       "      <td>1207.647347</td>\n",
       "      <td>1235.036585</td>\n",
       "    </tr>\n",
       "    <tr>\n",
       "      <th>34</th>\n",
       "      <td>NaN</td>\n",
       "      <td>NaN</td>\n",
       "      <td>1156.140318</td>\n",
       "      <td>1205.486540</td>\n",
       "      <td>NaN</td>\n",
       "    </tr>\n",
       "    <tr>\n",
       "      <th>35</th>\n",
       "      <td>1205.637736</td>\n",
       "      <td>1195.538014</td>\n",
       "      <td>NaN</td>\n",
       "      <td>NaN</td>\n",
       "      <td>NaN</td>\n",
       "    </tr>\n",
       "    <tr>\n",
       "      <th>36</th>\n",
       "      <td>NaN</td>\n",
       "      <td>1206.587674</td>\n",
       "      <td>NaN</td>\n",
       "      <td>NaN</td>\n",
       "      <td>1237.197392</td>\n",
       "    </tr>\n",
       "    <tr>\n",
       "      <th>37</th>\n",
       "      <td>NaN</td>\n",
       "      <td>1189.758345</td>\n",
       "      <td>NaN</td>\n",
       "      <td>NaN</td>\n",
       "      <td>1254.026721</td>\n",
       "    </tr>\n",
       "  </tbody>\n",
       "</table>\n",
       "</div>"
      ],
      "text/plain": [
       "    Aaron Carter  Evan Sooklal  Paul Bartenfeld  Roman Ramirez  Will Simpson\n",
       "1            NaN   1200.000000              NaN            NaN   1200.000000\n",
       "2            NaN           NaN      1200.000000    1200.000000           NaN\n",
       "3            NaN   1180.000000              NaN    1220.000000           NaN\n",
       "4            NaN           NaN      1180.000000            NaN   1220.000000\n",
       "5            NaN   1169.132444      1159.132444            NaN           NaN\n",
       "6            NaN           NaN              NaN    1230.867556   1240.867556\n",
       "7            NaN   1193.093140              NaN            NaN   1224.828251\n",
       "8            NaN           NaN      1135.171749    1246.906860           NaN\n",
       "9            NaN   1176.379464              NaN    1245.837394           NaN\n",
       "10           NaN           NaN      1136.241215            NaN   1241.541926\n",
       "11           NaN   1188.464816      1136.728069            NaN           NaN\n",
       "12           NaN           NaN              NaN    1233.752042   1241.055073\n",
       "13           NaN           NaN              NaN    1254.511192   1220.295923\n",
       "14           NaN           NaN              NaN    1230.970340   1243.836775\n",
       "15           NaN           NaN              NaN    1242.307204   1232.499911\n",
       "16   1200.000000           NaN              NaN    1251.287912           NaN\n",
       "17           NaN           NaN      1137.050330            NaN   1223.519203\n",
       "18   1215.277051           NaN              NaN            NaN   1224.788658\n",
       "19           NaN   1188.142555              NaN    1236.010861           NaN\n",
       "20           NaN   1213.074360              NaN            NaN   1233.800075\n",
       "21   1206.265634           NaN      1135.780875            NaN           NaN\n",
       "22           NaN   1195.225557      1157.966948            NaN           NaN\n",
       "23           NaN           NaN              NaN    1211.079056   1251.648877\n",
       "24           NaN           NaN      1151.819414    1225.269606           NaN\n",
       "25   1184.079562   1201.373091              NaN            NaN           NaN\n",
       "26   1200.875456           NaN              NaN    1202.793625           NaN\n",
       "27           NaN           NaN      1174.295395            NaN   1237.458328\n",
       "28   1171.074889           NaN              NaN            NaN   1255.994073\n",
       "29           NaN   1184.577196              NaN    1232.594192           NaN\n",
       "30           NaN   1209.524042              NaN            NaN   1232.411236\n",
       "31   1194.657726           NaN      1155.759649            NaN           NaN\n",
       "32           NaN   1206.898693      1144.779640            NaN           NaN\n",
       "33           NaN           NaN              NaN    1207.647347   1235.036585\n",
       "34           NaN           NaN      1156.140318    1205.486540           NaN\n",
       "35   1205.637736   1195.538014              NaN            NaN           NaN\n",
       "36           NaN   1206.587674              NaN            NaN   1237.197392\n",
       "37           NaN   1189.758345              NaN            NaN   1254.026721"
      ]
     },
     "metadata": {},
     "output_type": "display_data"
    },
    {
     "data": {
      "text/html": [
       "<div>\n",
       "<style scoped>\n",
       "    .dataframe tbody tr th:only-of-type {\n",
       "        vertical-align: middle;\n",
       "    }\n",
       "\n",
       "    .dataframe tbody tr th {\n",
       "        vertical-align: top;\n",
       "    }\n",
       "\n",
       "    .dataframe thead th {\n",
       "        text-align: right;\n",
       "    }\n",
       "</style>\n",
       "<table border=\"1\" class=\"dataframe\">\n",
       "  <thead>\n",
       "    <tr style=\"text-align: right;\">\n",
       "      <th></th>\n",
       "      <th>Aaron Carter</th>\n",
       "      <th>Evan Sooklal</th>\n",
       "      <th>Paul Bartenfeld</th>\n",
       "      <th>Roman Ramirez</th>\n",
       "      <th>Will Simpson</th>\n",
       "    </tr>\n",
       "  </thead>\n",
       "  <tbody>\n",
       "    <tr>\n",
       "      <th>1</th>\n",
       "      <td>NaN</td>\n",
       "      <td>-20.000000</td>\n",
       "      <td>NaN</td>\n",
       "      <td>NaN</td>\n",
       "      <td>20.000000</td>\n",
       "    </tr>\n",
       "    <tr>\n",
       "      <th>2</th>\n",
       "      <td>NaN</td>\n",
       "      <td>NaN</td>\n",
       "      <td>-20.000000</td>\n",
       "      <td>20.000000</td>\n",
       "      <td>NaN</td>\n",
       "    </tr>\n",
       "    <tr>\n",
       "      <th>3</th>\n",
       "      <td>NaN</td>\n",
       "      <td>-10.867556</td>\n",
       "      <td>NaN</td>\n",
       "      <td>10.867556</td>\n",
       "      <td>NaN</td>\n",
       "    </tr>\n",
       "    <tr>\n",
       "      <th>4</th>\n",
       "      <td>NaN</td>\n",
       "      <td>NaN</td>\n",
       "      <td>-20.867556</td>\n",
       "      <td>NaN</td>\n",
       "      <td>20.867556</td>\n",
       "    </tr>\n",
       "    <tr>\n",
       "      <th>5</th>\n",
       "      <td>NaN</td>\n",
       "      <td>23.960695</td>\n",
       "      <td>-23.960695</td>\n",
       "      <td>NaN</td>\n",
       "      <td>NaN</td>\n",
       "    </tr>\n",
       "    <tr>\n",
       "      <th>6</th>\n",
       "      <td>NaN</td>\n",
       "      <td>NaN</td>\n",
       "      <td>NaN</td>\n",
       "      <td>16.039305</td>\n",
       "      <td>-16.039305</td>\n",
       "    </tr>\n",
       "    <tr>\n",
       "      <th>7</th>\n",
       "      <td>NaN</td>\n",
       "      <td>-16.713675</td>\n",
       "      <td>NaN</td>\n",
       "      <td>NaN</td>\n",
       "      <td>16.713675</td>\n",
       "    </tr>\n",
       "    <tr>\n",
       "      <th>8</th>\n",
       "      <td>NaN</td>\n",
       "      <td>NaN</td>\n",
       "      <td>1.069466</td>\n",
       "      <td>-1.069466</td>\n",
       "      <td>NaN</td>\n",
       "    </tr>\n",
       "    <tr>\n",
       "      <th>9</th>\n",
       "      <td>NaN</td>\n",
       "      <td>12.085352</td>\n",
       "      <td>NaN</td>\n",
       "      <td>-12.085352</td>\n",
       "      <td>NaN</td>\n",
       "    </tr>\n",
       "    <tr>\n",
       "      <th>10</th>\n",
       "      <td>NaN</td>\n",
       "      <td>NaN</td>\n",
       "      <td>0.486854</td>\n",
       "      <td>NaN</td>\n",
       "      <td>-0.486854</td>\n",
       "    </tr>\n",
       "    <tr>\n",
       "      <th>11</th>\n",
       "      <td>NaN</td>\n",
       "      <td>-0.322261</td>\n",
       "      <td>0.322261</td>\n",
       "      <td>NaN</td>\n",
       "      <td>NaN</td>\n",
       "    </tr>\n",
       "    <tr>\n",
       "      <th>12</th>\n",
       "      <td>NaN</td>\n",
       "      <td>NaN</td>\n",
       "      <td>NaN</td>\n",
       "      <td>20.759149</td>\n",
       "      <td>-20.759149</td>\n",
       "    </tr>\n",
       "    <tr>\n",
       "      <th>13</th>\n",
       "      <td>NaN</td>\n",
       "      <td>NaN</td>\n",
       "      <td>NaN</td>\n",
       "      <td>-23.540852</td>\n",
       "      <td>23.540852</td>\n",
       "    </tr>\n",
       "    <tr>\n",
       "      <th>14</th>\n",
       "      <td>NaN</td>\n",
       "      <td>NaN</td>\n",
       "      <td>NaN</td>\n",
       "      <td>11.336864</td>\n",
       "      <td>-11.336864</td>\n",
       "    </tr>\n",
       "    <tr>\n",
       "      <th>15</th>\n",
       "      <td>NaN</td>\n",
       "      <td>NaN</td>\n",
       "      <td>NaN</td>\n",
       "      <td>8.980708</td>\n",
       "      <td>-8.980708</td>\n",
       "    </tr>\n",
       "    <tr>\n",
       "      <th>16</th>\n",
       "      <td>15.277051</td>\n",
       "      <td>NaN</td>\n",
       "      <td>NaN</td>\n",
       "      <td>-15.277051</td>\n",
       "      <td>NaN</td>\n",
       "    </tr>\n",
       "    <tr>\n",
       "      <th>17</th>\n",
       "      <td>NaN</td>\n",
       "      <td>NaN</td>\n",
       "      <td>-1.269455</td>\n",
       "      <td>NaN</td>\n",
       "      <td>1.269455</td>\n",
       "    </tr>\n",
       "    <tr>\n",
       "      <th>18</th>\n",
       "      <td>-9.011417</td>\n",
       "      <td>NaN</td>\n",
       "      <td>NaN</td>\n",
       "      <td>NaN</td>\n",
       "      <td>9.011417</td>\n",
       "    </tr>\n",
       "    <tr>\n",
       "      <th>19</th>\n",
       "      <td>NaN</td>\n",
       "      <td>24.931805</td>\n",
       "      <td>NaN</td>\n",
       "      <td>-24.931805</td>\n",
       "      <td>NaN</td>\n",
       "    </tr>\n",
       "    <tr>\n",
       "      <th>20</th>\n",
       "      <td>NaN</td>\n",
       "      <td>-17.848803</td>\n",
       "      <td>NaN</td>\n",
       "      <td>NaN</td>\n",
       "      <td>17.848803</td>\n",
       "    </tr>\n",
       "    <tr>\n",
       "      <th>21</th>\n",
       "      <td>-22.186073</td>\n",
       "      <td>NaN</td>\n",
       "      <td>22.186073</td>\n",
       "      <td>NaN</td>\n",
       "      <td>NaN</td>\n",
       "    </tr>\n",
       "    <tr>\n",
       "      <th>22</th>\n",
       "      <td>NaN</td>\n",
       "      <td>6.147533</td>\n",
       "      <td>-6.147533</td>\n",
       "      <td>NaN</td>\n",
       "      <td>NaN</td>\n",
       "    </tr>\n",
       "    <tr>\n",
       "      <th>23</th>\n",
       "      <td>NaN</td>\n",
       "      <td>NaN</td>\n",
       "      <td>NaN</td>\n",
       "      <td>14.190550</td>\n",
       "      <td>-14.190550</td>\n",
       "    </tr>\n",
       "    <tr>\n",
       "      <th>24</th>\n",
       "      <td>NaN</td>\n",
       "      <td>NaN</td>\n",
       "      <td>22.475980</td>\n",
       "      <td>-22.475980</td>\n",
       "      <td>NaN</td>\n",
       "    </tr>\n",
       "    <tr>\n",
       "      <th>25</th>\n",
       "      <td>16.795894</td>\n",
       "      <td>-16.795894</td>\n",
       "      <td>NaN</td>\n",
       "      <td>NaN</td>\n",
       "      <td>NaN</td>\n",
       "    </tr>\n",
       "    <tr>\n",
       "      <th>26</th>\n",
       "      <td>-29.800567</td>\n",
       "      <td>NaN</td>\n",
       "      <td>NaN</td>\n",
       "      <td>29.800567</td>\n",
       "      <td>NaN</td>\n",
       "    </tr>\n",
       "    <tr>\n",
       "      <th>27</th>\n",
       "      <td>NaN</td>\n",
       "      <td>NaN</td>\n",
       "      <td>-18.535746</td>\n",
       "      <td>NaN</td>\n",
       "      <td>18.535746</td>\n",
       "    </tr>\n",
       "    <tr>\n",
       "      <th>28</th>\n",
       "      <td>23.582837</td>\n",
       "      <td>NaN</td>\n",
       "      <td>NaN</td>\n",
       "      <td>NaN</td>\n",
       "      <td>-23.582837</td>\n",
       "    </tr>\n",
       "    <tr>\n",
       "      <th>29</th>\n",
       "      <td>NaN</td>\n",
       "      <td>24.946845</td>\n",
       "      <td>NaN</td>\n",
       "      <td>-24.946845</td>\n",
       "      <td>NaN</td>\n",
       "    </tr>\n",
       "    <tr>\n",
       "      <th>30</th>\n",
       "      <td>NaN</td>\n",
       "      <td>-2.625349</td>\n",
       "      <td>NaN</td>\n",
       "      <td>NaN</td>\n",
       "      <td>2.625349</td>\n",
       "    </tr>\n",
       "    <tr>\n",
       "      <th>31</th>\n",
       "      <td>10.980010</td>\n",
       "      <td>NaN</td>\n",
       "      <td>-10.980010</td>\n",
       "      <td>NaN</td>\n",
       "      <td>NaN</td>\n",
       "    </tr>\n",
       "    <tr>\n",
       "      <th>32</th>\n",
       "      <td>NaN</td>\n",
       "      <td>-11.360679</td>\n",
       "      <td>11.360679</td>\n",
       "      <td>NaN</td>\n",
       "      <td>NaN</td>\n",
       "    </tr>\n",
       "    <tr>\n",
       "      <th>33</th>\n",
       "      <td>NaN</td>\n",
       "      <td>NaN</td>\n",
       "      <td>NaN</td>\n",
       "      <td>-2.160806</td>\n",
       "      <td>2.160806</td>\n",
       "    </tr>\n",
       "    <tr>\n",
       "      <th>34</th>\n",
       "      <td>NaN</td>\n",
       "      <td>NaN</td>\n",
       "      <td>15.081187</td>\n",
       "      <td>-15.081187</td>\n",
       "      <td>NaN</td>\n",
       "    </tr>\n",
       "    <tr>\n",
       "      <th>35</th>\n",
       "      <td>-11.049660</td>\n",
       "      <td>11.049660</td>\n",
       "      <td>NaN</td>\n",
       "      <td>NaN</td>\n",
       "      <td>NaN</td>\n",
       "    </tr>\n",
       "    <tr>\n",
       "      <th>36</th>\n",
       "      <td>NaN</td>\n",
       "      <td>-16.829329</td>\n",
       "      <td>NaN</td>\n",
       "      <td>NaN</td>\n",
       "      <td>16.829329</td>\n",
       "    </tr>\n",
       "    <tr>\n",
       "      <th>37</th>\n",
       "      <td>NaN</td>\n",
       "      <td>-18.426238</td>\n",
       "      <td>NaN</td>\n",
       "      <td>NaN</td>\n",
       "      <td>18.426238</td>\n",
       "    </tr>\n",
       "  </tbody>\n",
       "</table>\n",
       "</div>"
      ],
      "text/plain": [
       "    Aaron Carter  Evan Sooklal  Paul Bartenfeld  Roman Ramirez  Will Simpson\n",
       "1            NaN    -20.000000              NaN            NaN     20.000000\n",
       "2            NaN           NaN       -20.000000      20.000000           NaN\n",
       "3            NaN    -10.867556              NaN      10.867556           NaN\n",
       "4            NaN           NaN       -20.867556            NaN     20.867556\n",
       "5            NaN     23.960695       -23.960695            NaN           NaN\n",
       "6            NaN           NaN              NaN      16.039305    -16.039305\n",
       "7            NaN    -16.713675              NaN            NaN     16.713675\n",
       "8            NaN           NaN         1.069466      -1.069466           NaN\n",
       "9            NaN     12.085352              NaN     -12.085352           NaN\n",
       "10           NaN           NaN         0.486854            NaN     -0.486854\n",
       "11           NaN     -0.322261         0.322261            NaN           NaN\n",
       "12           NaN           NaN              NaN      20.759149    -20.759149\n",
       "13           NaN           NaN              NaN     -23.540852     23.540852\n",
       "14           NaN           NaN              NaN      11.336864    -11.336864\n",
       "15           NaN           NaN              NaN       8.980708     -8.980708\n",
       "16     15.277051           NaN              NaN     -15.277051           NaN\n",
       "17           NaN           NaN        -1.269455            NaN      1.269455\n",
       "18     -9.011417           NaN              NaN            NaN      9.011417\n",
       "19           NaN     24.931805              NaN     -24.931805           NaN\n",
       "20           NaN    -17.848803              NaN            NaN     17.848803\n",
       "21    -22.186073           NaN        22.186073            NaN           NaN\n",
       "22           NaN      6.147533        -6.147533            NaN           NaN\n",
       "23           NaN           NaN              NaN      14.190550    -14.190550\n",
       "24           NaN           NaN        22.475980     -22.475980           NaN\n",
       "25     16.795894    -16.795894              NaN            NaN           NaN\n",
       "26    -29.800567           NaN              NaN      29.800567           NaN\n",
       "27           NaN           NaN       -18.535746            NaN     18.535746\n",
       "28     23.582837           NaN              NaN            NaN    -23.582837\n",
       "29           NaN     24.946845              NaN     -24.946845           NaN\n",
       "30           NaN     -2.625349              NaN            NaN      2.625349\n",
       "31     10.980010           NaN       -10.980010            NaN           NaN\n",
       "32           NaN    -11.360679        11.360679            NaN           NaN\n",
       "33           NaN           NaN              NaN      -2.160806      2.160806\n",
       "34           NaN           NaN        15.081187     -15.081187           NaN\n",
       "35    -11.049660     11.049660              NaN            NaN           NaN\n",
       "36           NaN    -16.829329              NaN            NaN     16.829329\n",
       "37           NaN    -18.426238              NaN            NaN     18.426238"
      ]
     },
     "metadata": {},
     "output_type": "display_data"
    },
    {
     "data": {
      "text/html": [
       "<div>\n",
       "<style scoped>\n",
       "    .dataframe tbody tr th:only-of-type {\n",
       "        vertical-align: middle;\n",
       "    }\n",
       "\n",
       "    .dataframe tbody tr th {\n",
       "        vertical-align: top;\n",
       "    }\n",
       "\n",
       "    .dataframe thead th {\n",
       "        text-align: right;\n",
       "    }\n",
       "</style>\n",
       "<table border=\"1\" class=\"dataframe\">\n",
       "  <thead>\n",
       "    <tr style=\"text-align: right;\">\n",
       "      <th></th>\n",
       "      <th>Aaron Carter</th>\n",
       "      <th>Evan Sooklal</th>\n",
       "      <th>Paul Bartenfeld</th>\n",
       "      <th>Roman Ramirez</th>\n",
       "      <th>Will Simpson</th>\n",
       "    </tr>\n",
       "  </thead>\n",
       "  <tbody>\n",
       "    <tr>\n",
       "      <th>1</th>\n",
       "      <td>NaN</td>\n",
       "      <td>1180.000000</td>\n",
       "      <td>NaN</td>\n",
       "      <td>NaN</td>\n",
       "      <td>1220.000000</td>\n",
       "    </tr>\n",
       "    <tr>\n",
       "      <th>2</th>\n",
       "      <td>NaN</td>\n",
       "      <td>NaN</td>\n",
       "      <td>1180.000000</td>\n",
       "      <td>1220.000000</td>\n",
       "      <td>NaN</td>\n",
       "    </tr>\n",
       "    <tr>\n",
       "      <th>3</th>\n",
       "      <td>NaN</td>\n",
       "      <td>1169.132444</td>\n",
       "      <td>NaN</td>\n",
       "      <td>1230.867556</td>\n",
       "      <td>NaN</td>\n",
       "    </tr>\n",
       "    <tr>\n",
       "      <th>4</th>\n",
       "      <td>NaN</td>\n",
       "      <td>NaN</td>\n",
       "      <td>1159.132444</td>\n",
       "      <td>NaN</td>\n",
       "      <td>1240.867556</td>\n",
       "    </tr>\n",
       "    <tr>\n",
       "      <th>5</th>\n",
       "      <td>NaN</td>\n",
       "      <td>1193.093140</td>\n",
       "      <td>1135.171749</td>\n",
       "      <td>NaN</td>\n",
       "      <td>NaN</td>\n",
       "    </tr>\n",
       "    <tr>\n",
       "      <th>6</th>\n",
       "      <td>NaN</td>\n",
       "      <td>NaN</td>\n",
       "      <td>NaN</td>\n",
       "      <td>1246.906860</td>\n",
       "      <td>1224.828251</td>\n",
       "    </tr>\n",
       "    <tr>\n",
       "      <th>7</th>\n",
       "      <td>NaN</td>\n",
       "      <td>1176.379464</td>\n",
       "      <td>NaN</td>\n",
       "      <td>NaN</td>\n",
       "      <td>1241.541926</td>\n",
       "    </tr>\n",
       "    <tr>\n",
       "      <th>8</th>\n",
       "      <td>NaN</td>\n",
       "      <td>NaN</td>\n",
       "      <td>1136.241215</td>\n",
       "      <td>1245.837394</td>\n",
       "      <td>NaN</td>\n",
       "    </tr>\n",
       "    <tr>\n",
       "      <th>9</th>\n",
       "      <td>NaN</td>\n",
       "      <td>1188.464816</td>\n",
       "      <td>NaN</td>\n",
       "      <td>1233.752042</td>\n",
       "      <td>NaN</td>\n",
       "    </tr>\n",
       "    <tr>\n",
       "      <th>10</th>\n",
       "      <td>NaN</td>\n",
       "      <td>NaN</td>\n",
       "      <td>1136.728069</td>\n",
       "      <td>NaN</td>\n",
       "      <td>1241.055073</td>\n",
       "    </tr>\n",
       "    <tr>\n",
       "      <th>11</th>\n",
       "      <td>NaN</td>\n",
       "      <td>1188.142555</td>\n",
       "      <td>1137.050330</td>\n",
       "      <td>NaN</td>\n",
       "      <td>NaN</td>\n",
       "    </tr>\n",
       "    <tr>\n",
       "      <th>12</th>\n",
       "      <td>NaN</td>\n",
       "      <td>NaN</td>\n",
       "      <td>NaN</td>\n",
       "      <td>1254.511192</td>\n",
       "      <td>1220.295923</td>\n",
       "    </tr>\n",
       "    <tr>\n",
       "      <th>13</th>\n",
       "      <td>NaN</td>\n",
       "      <td>NaN</td>\n",
       "      <td>NaN</td>\n",
       "      <td>1230.970340</td>\n",
       "      <td>1243.836775</td>\n",
       "    </tr>\n",
       "    <tr>\n",
       "      <th>14</th>\n",
       "      <td>NaN</td>\n",
       "      <td>NaN</td>\n",
       "      <td>NaN</td>\n",
       "      <td>1242.307204</td>\n",
       "      <td>1232.499911</td>\n",
       "    </tr>\n",
       "    <tr>\n",
       "      <th>15</th>\n",
       "      <td>NaN</td>\n",
       "      <td>NaN</td>\n",
       "      <td>NaN</td>\n",
       "      <td>1251.287912</td>\n",
       "      <td>1223.519203</td>\n",
       "    </tr>\n",
       "    <tr>\n",
       "      <th>16</th>\n",
       "      <td>1215.277051</td>\n",
       "      <td>NaN</td>\n",
       "      <td>NaN</td>\n",
       "      <td>1236.010861</td>\n",
       "      <td>NaN</td>\n",
       "    </tr>\n",
       "    <tr>\n",
       "      <th>17</th>\n",
       "      <td>NaN</td>\n",
       "      <td>NaN</td>\n",
       "      <td>1135.780875</td>\n",
       "      <td>NaN</td>\n",
       "      <td>1224.788658</td>\n",
       "    </tr>\n",
       "    <tr>\n",
       "      <th>18</th>\n",
       "      <td>1206.265634</td>\n",
       "      <td>NaN</td>\n",
       "      <td>NaN</td>\n",
       "      <td>NaN</td>\n",
       "      <td>1233.800075</td>\n",
       "    </tr>\n",
       "    <tr>\n",
       "      <th>19</th>\n",
       "      <td>NaN</td>\n",
       "      <td>1213.074360</td>\n",
       "      <td>NaN</td>\n",
       "      <td>1211.079056</td>\n",
       "      <td>NaN</td>\n",
       "    </tr>\n",
       "    <tr>\n",
       "      <th>20</th>\n",
       "      <td>NaN</td>\n",
       "      <td>1195.225557</td>\n",
       "      <td>NaN</td>\n",
       "      <td>NaN</td>\n",
       "      <td>1251.648877</td>\n",
       "    </tr>\n",
       "    <tr>\n",
       "      <th>21</th>\n",
       "      <td>1184.079562</td>\n",
       "      <td>NaN</td>\n",
       "      <td>1157.966948</td>\n",
       "      <td>NaN</td>\n",
       "      <td>NaN</td>\n",
       "    </tr>\n",
       "    <tr>\n",
       "      <th>22</th>\n",
       "      <td>NaN</td>\n",
       "      <td>1201.373091</td>\n",
       "      <td>1151.819414</td>\n",
       "      <td>NaN</td>\n",
       "      <td>NaN</td>\n",
       "    </tr>\n",
       "    <tr>\n",
       "      <th>23</th>\n",
       "      <td>NaN</td>\n",
       "      <td>NaN</td>\n",
       "      <td>NaN</td>\n",
       "      <td>1225.269606</td>\n",
       "      <td>1237.458328</td>\n",
       "    </tr>\n",
       "    <tr>\n",
       "      <th>24</th>\n",
       "      <td>NaN</td>\n",
       "      <td>NaN</td>\n",
       "      <td>1174.295395</td>\n",
       "      <td>1202.793625</td>\n",
       "      <td>NaN</td>\n",
       "    </tr>\n",
       "    <tr>\n",
       "      <th>25</th>\n",
       "      <td>1200.875456</td>\n",
       "      <td>1184.577196</td>\n",
       "      <td>NaN</td>\n",
       "      <td>NaN</td>\n",
       "      <td>NaN</td>\n",
       "    </tr>\n",
       "    <tr>\n",
       "      <th>26</th>\n",
       "      <td>1171.074889</td>\n",
       "      <td>NaN</td>\n",
       "      <td>NaN</td>\n",
       "      <td>1232.594192</td>\n",
       "      <td>NaN</td>\n",
       "    </tr>\n",
       "    <tr>\n",
       "      <th>27</th>\n",
       "      <td>NaN</td>\n",
       "      <td>NaN</td>\n",
       "      <td>1155.759649</td>\n",
       "      <td>NaN</td>\n",
       "      <td>1255.994073</td>\n",
       "    </tr>\n",
       "    <tr>\n",
       "      <th>28</th>\n",
       "      <td>1194.657726</td>\n",
       "      <td>NaN</td>\n",
       "      <td>NaN</td>\n",
       "      <td>NaN</td>\n",
       "      <td>1232.411236</td>\n",
       "    </tr>\n",
       "    <tr>\n",
       "      <th>29</th>\n",
       "      <td>NaN</td>\n",
       "      <td>1209.524042</td>\n",
       "      <td>NaN</td>\n",
       "      <td>1207.647347</td>\n",
       "      <td>NaN</td>\n",
       "    </tr>\n",
       "    <tr>\n",
       "      <th>30</th>\n",
       "      <td>NaN</td>\n",
       "      <td>1206.898693</td>\n",
       "      <td>NaN</td>\n",
       "      <td>NaN</td>\n",
       "      <td>1235.036585</td>\n",
       "    </tr>\n",
       "    <tr>\n",
       "      <th>31</th>\n",
       "      <td>1205.637736</td>\n",
       "      <td>NaN</td>\n",
       "      <td>1144.779640</td>\n",
       "      <td>NaN</td>\n",
       "      <td>NaN</td>\n",
       "    </tr>\n",
       "    <tr>\n",
       "      <th>32</th>\n",
       "      <td>NaN</td>\n",
       "      <td>1195.538014</td>\n",
       "      <td>1156.140318</td>\n",
       "      <td>NaN</td>\n",
       "      <td>NaN</td>\n",
       "    </tr>\n",
       "    <tr>\n",
       "      <th>33</th>\n",
       "      <td>NaN</td>\n",
       "      <td>NaN</td>\n",
       "      <td>NaN</td>\n",
       "      <td>1205.486540</td>\n",
       "      <td>1237.197392</td>\n",
       "    </tr>\n",
       "    <tr>\n",
       "      <th>34</th>\n",
       "      <td>NaN</td>\n",
       "      <td>NaN</td>\n",
       "      <td>1171.221505</td>\n",
       "      <td>1190.405353</td>\n",
       "      <td>NaN</td>\n",
       "    </tr>\n",
       "    <tr>\n",
       "      <th>35</th>\n",
       "      <td>1194.588075</td>\n",
       "      <td>1206.587674</td>\n",
       "      <td>NaN</td>\n",
       "      <td>NaN</td>\n",
       "      <td>NaN</td>\n",
       "    </tr>\n",
       "    <tr>\n",
       "      <th>36</th>\n",
       "      <td>NaN</td>\n",
       "      <td>1189.758345</td>\n",
       "      <td>NaN</td>\n",
       "      <td>NaN</td>\n",
       "      <td>1254.026721</td>\n",
       "    </tr>\n",
       "    <tr>\n",
       "      <th>37</th>\n",
       "      <td>NaN</td>\n",
       "      <td>1171.332107</td>\n",
       "      <td>NaN</td>\n",
       "      <td>NaN</td>\n",
       "      <td>1272.452959</td>\n",
       "    </tr>\n",
       "  </tbody>\n",
       "</table>\n",
       "</div>"
      ],
      "text/plain": [
       "    Aaron Carter  Evan Sooklal  Paul Bartenfeld  Roman Ramirez  Will Simpson\n",
       "1            NaN   1180.000000              NaN            NaN   1220.000000\n",
       "2            NaN           NaN      1180.000000    1220.000000           NaN\n",
       "3            NaN   1169.132444              NaN    1230.867556           NaN\n",
       "4            NaN           NaN      1159.132444            NaN   1240.867556\n",
       "5            NaN   1193.093140      1135.171749            NaN           NaN\n",
       "6            NaN           NaN              NaN    1246.906860   1224.828251\n",
       "7            NaN   1176.379464              NaN            NaN   1241.541926\n",
       "8            NaN           NaN      1136.241215    1245.837394           NaN\n",
       "9            NaN   1188.464816              NaN    1233.752042           NaN\n",
       "10           NaN           NaN      1136.728069            NaN   1241.055073\n",
       "11           NaN   1188.142555      1137.050330            NaN           NaN\n",
       "12           NaN           NaN              NaN    1254.511192   1220.295923\n",
       "13           NaN           NaN              NaN    1230.970340   1243.836775\n",
       "14           NaN           NaN              NaN    1242.307204   1232.499911\n",
       "15           NaN           NaN              NaN    1251.287912   1223.519203\n",
       "16   1215.277051           NaN              NaN    1236.010861           NaN\n",
       "17           NaN           NaN      1135.780875            NaN   1224.788658\n",
       "18   1206.265634           NaN              NaN            NaN   1233.800075\n",
       "19           NaN   1213.074360              NaN    1211.079056           NaN\n",
       "20           NaN   1195.225557              NaN            NaN   1251.648877\n",
       "21   1184.079562           NaN      1157.966948            NaN           NaN\n",
       "22           NaN   1201.373091      1151.819414            NaN           NaN\n",
       "23           NaN           NaN              NaN    1225.269606   1237.458328\n",
       "24           NaN           NaN      1174.295395    1202.793625           NaN\n",
       "25   1200.875456   1184.577196              NaN            NaN           NaN\n",
       "26   1171.074889           NaN              NaN    1232.594192           NaN\n",
       "27           NaN           NaN      1155.759649            NaN   1255.994073\n",
       "28   1194.657726           NaN              NaN            NaN   1232.411236\n",
       "29           NaN   1209.524042              NaN    1207.647347           NaN\n",
       "30           NaN   1206.898693              NaN            NaN   1235.036585\n",
       "31   1205.637736           NaN      1144.779640            NaN           NaN\n",
       "32           NaN   1195.538014      1156.140318            NaN           NaN\n",
       "33           NaN           NaN              NaN    1205.486540   1237.197392\n",
       "34           NaN           NaN      1171.221505    1190.405353           NaN\n",
       "35   1194.588075   1206.587674              NaN            NaN           NaN\n",
       "36           NaN   1189.758345              NaN            NaN   1254.026721\n",
       "37           NaN   1171.332107              NaN            NaN   1272.452959"
      ]
     },
     "metadata": {},
     "output_type": "display_data"
    }
   ],
   "source": [
    "# elo stuff\n",
    "\n",
    "def expected_score(ratingA, ratingB):\n",
    "    yrange = 12\n",
    "    ymin = -6\n",
    "    # game variables\n",
    "    expected_cups = 2\n",
    "    normal_elo_difference = 100\n",
    "\n",
    "    return (yrange / (1 + np.power(expected_cups, (ratingB - ratingA) / normal_elo_difference))) + ymin\n",
    "\n",
    "def rating_change(score, expected_score):\n",
    "    # k-factor: determines how strongly a result affects the rating change\n",
    "    # usually between 10 and 40, bit with a lot of games, we want to change it often\n",
    "    K = 5\n",
    "    return K * (score - expected_score)\n",
    "\n",
    "# ELO INITIALIZATION\n",
    "starting_elo = 1200.0\n",
    "elo = dict.fromkeys(set_players, starting_elo)\n",
    "elo_time = np.zeros([len(matches_table) + 1, num_players])\n",
    "elo_time_table = pd.DataFrame(elo_time)\n",
    "elo_time_table.columns = sorted(elo)\n",
    "elo_time_table.replace(0, np.NaN, inplace=True)\n",
    "\n",
    "prev_elo_time_table = elo_time_table.copy(deep=True)\n",
    "d_elo_time_table = elo_time_table.copy(deep=True)\n",
    "exp_elo_time_table = elo_time_table.copy(deep=True)\n",
    "eaa_elo_time_table = elo_time_table.copy(deep=True)\n",
    "\n",
    "elo_time_table.iloc[0,:] = starting_elo\n",
    "prev_elo_time_table.iloc[0,:] = starting_elo\n",
    "eaa_elo_time_table.iloc[0,:] = starting_elo\n",
    "\n",
    "\n",
    "for (i, row) in matches_table.iterrows():\n",
    "    elo_p1 = elo[row['Player 1']]\n",
    "    elo_p2 = elo[row['Player 2']]\n",
    "\n",
    "    prev_elo_time_table.loc[i + 1, row['Player 1']] = elo_p1\n",
    "    prev_elo_time_table.loc[i + 1, row['Player 2']] = elo_p2\n",
    "    \n",
    "    win_prob_p1 = expected_score(elo_p1, elo_p2)\n",
    "    win_prob_p2 = expected_score(elo_p2, elo_p1)\n",
    "    \n",
    "    exp_elo_time_table.loc[i + 1, row['Player 1']] = win_prob_p1\n",
    "    exp_elo_time_table.loc[i + 1, row['Player 2']] = win_prob_p2\n",
    "\n",
    "    eaa_elo_time_table.loc[i + 1, row['Player 1']] = expected_score(elo_p1, starting_elo)\n",
    "    eaa_elo_time_table.loc[i + 1, row['Player 2']] = expected_score(elo_p2, starting_elo)\n",
    "\n",
    "    rating_change_p1 = rating_change(row['Score 1'] - row['Score 2'], win_prob_p1)\n",
    "    rating_change_p2 = rating_change(row['Score 2'] - row['Score 1'], win_prob_p2)\n",
    "\n",
    "    d_elo_time_table.loc[i + 1, row['Player 1']] = rating_change_p1\n",
    "    d_elo_time_table.loc[i + 1, row['Player 2']] = rating_change_p2\n",
    "\n",
    "    \n",
    "    elo[row['Player 1']] += rating_change_p1\n",
    "    elo[row['Player 2']] += rating_change_p2\n",
    "\n",
    "    elo_time_table.loc[i + 1, row['Player 1']] = elo[row['Player 1']]\n",
    "    elo_time_table.loc[i + 1, row['Player 2']] = elo[row['Player 2']]\n",
    "\n",
    "prev_elo_time_table = prev_elo_time_table.iloc[1:,:]\n",
    "elo_time_table = elo_time_table.iloc[1:,:]\n",
    "d_elo_time_table = d_elo_time_table.iloc[1:,:]\n",
    "exp_elo_time_table = exp_elo_time_table.iloc[1:,:]\n",
    "eaa_elo_time_table = eaa_elo_time_table.iloc[1:,:]\n",
    "\n",
    "display(prev_elo_time_table)\n",
    "display(d_elo_time_table)\n",
    "display(elo_time_table)\n",
    "\n"
   ]
  },
  {
   "cell_type": "code",
   "execution_count": 19,
   "metadata": {},
   "outputs": [
    {
     "data": {
      "application/vnd.plotly.v1+json": {
       "config": {
        "plotlyServerURL": "https://plot.ly"
       },
       "data": [
        {
         "connectgaps": true,
         "customdata": [
          [
           "Evan Sooklal",
           "Will Simpson",
           2,
           6,
           "2023-11-18"
          ],
          [
           "Paul Bartenfeld",
           "Roman Ramirez",
           2,
           6,
           "2023-11-18"
          ],
          [
           "Roman Ramirez",
           "Evan Sooklal",
           6,
           3,
           "2023-11-18"
          ],
          [
           "Will Simpson",
           "Paul Bartenfeld",
           6,
           1,
           "2023-11-18"
          ],
          [
           "Paul Bartenfeld",
           "Evan Sooklal",
           1,
           6,
           "2023-11-18"
          ],
          [
           "Will Simpson",
           "Roman Ramirez",
           3,
           6,
           "2023-11-18"
          ],
          [
           "Will Simpson",
           "Evan Sooklal",
           6,
           2,
           "2023-11-18"
          ],
          [
           "Roman Ramirez",
           "Paul Bartenfeld",
           6,
           4,
           "2023-11-18"
          ],
          [
           "Evan Sooklal",
           "Roman Ramirez",
           6,
           5,
           "2023-11-18"
          ],
          [
           "Paul Bartenfeld",
           "Will Simpson",
           4,
           6,
           "2023-11-18"
          ],
          [
           "Evan Sooklal",
           "Paul Bartenfeld",
           6,
           5,
           "2023-11-18"
          ],
          [
           "Roman Ramirez",
           "Will Simpson",
           6,
           2,
           "2023-11-18"
          ],
          [
           "Roman Ramirez",
           "Will Simpson",
           2,
           6,
           "2023-11-18"
          ],
          [
           "Will Simpson",
           "Roman Ramirez",
           4,
           6,
           "2023-11-18"
          ],
          [
           "Roman Ramirez",
           "Will Simpson",
           6,
           4,
           "2023-11-18"
          ],
          [
           "Roman Ramirez",
           "Aaron Carter",
           4,
           6,
           "2023-12-02"
          ],
          [
           "Will Simpson",
           "Paul Bartenfeld",
           6,
           4,
           "2023-12-02"
          ],
          [
           "Aaron Carter",
           "Will Simpson",
           4,
           6,
           "2023-12-02"
          ],
          [
           "Evan Sooklal",
           "Roman Ramirez",
           6,
           2,
           "2023-12-02"
          ],
          [
           "Will Simpson",
           "Evan Sooklal",
           6,
           2,
           "2023-12-02"
          ],
          [
           "Paul Bartenfeld",
           "Aaron Carter",
           6,
           3,
           "2023-12-02"
          ],
          [
           "Evan Sooklal",
           "Paul Bartenfeld",
           6,
           4,
           "2023-12-02"
          ],
          [
           "Roman Ramirez",
           "Will Simpson",
           6,
           4,
           "2023-12-02"
          ],
          [
           "Paul Bartenfeld",
           "Roman Ramirez",
           6,
           3,
           "2023-12-02"
          ],
          [
           "Aaron Carter",
           "Evan Sooklal",
           6,
           3,
           "2023-12-02"
          ],
          [
           "Aaron Carter",
           "Roman Ramirez",
           0,
           6,
           "2023-12-02"
          ],
          [
           "Paul Bartenfeld",
           "Will Simpson",
           1,
           6,
           "2023-12-02"
          ],
          [
           "Will Simpson",
           "Aaron Carter",
           3,
           6,
           "2023-12-02"
          ],
          [
           "Roman Ramirez",
           "Evan Sooklal",
           2,
           6,
           "2023-12-02"
          ],
          [
           "Evan Sooklal",
           "Will Simpson",
           5,
           6,
           "2023-12-02"
          ],
          [
           "Aaron Carter",
           "Paul Bartenfeld",
           6,
           3,
           "2023-12-02"
          ],
          [
           "Paul Bartenfeld",
           "Evan Sooklal",
           6,
           5,
           "2023-12-02"
          ],
          [
           "Will Simpson",
           "Roman Ramirez",
           6,
           5,
           "2023-12-02"
          ],
          [
           "Roman Ramirez",
           "Paul Bartenfeld",
           4,
           6,
           "2023-12-02"
          ],
          [
           "Evan Sooklal",
           "Aaron Carter",
           6,
           4,
           "2023-12-02"
          ],
          [
           "Will Simpson",
           "Evan Sooklal",
           6,
           2,
           "2023-12-02"
          ],
          [
           "Will Simpson",
           "Evan Sooklal",
           6,
           1,
           "2023-12-02"
          ]
         ],
         "hovertemplate": "<i>%{customdata[4]|%A, %B %d, %Y}, Game %{x}</i><br><b>%{fullData.name}</b><br><br><b>%{customdata[0]} vs. %{customdata[1]}</b><br><b>Final Score:</b> %{customdata[2]}-%{customdata[3]}<br>%{text}<b>After-Game ELO:</b> %{y:,.0f}<br><extra></extra>",
         "legendgrouptitle": {
          "text": "<b>#<i>Rank</i> (<i>Current ELO</i>) <i>Player</i></b>"
         },
         "line": {
          "color": "rgb(127, 60, 141)",
          "shape": "hv"
         },
         "mode": "lines+markers",
         "name": "#1 (1272) Will Simpson",
         "opacity": 0.8,
         "text": [
          "<br><b>Before-Game ELO: </b>1200<br><b>Expected Score Diff Against Opponent: </b>+0.00<br><b>Expected Score Diff Against Average: </b>+0.00<br><br><b>Change in ELO:</b> +20<br>",
          "<br><b>Before-Game ELO: </b>nan<br><b>Expected Score Diff Against Opponent: </b>+nan<br><b>Expected Score Diff Against Average: </b>+nan<br><br><b>Change in ELO:</b> +nan<br>",
          "<br><b>Before-Game ELO: </b>nan<br><b>Expected Score Diff Against Opponent: </b>+nan<br><b>Expected Score Diff Against Average: </b>+nan<br><br><b>Change in ELO:</b> +nan<br>",
          "<br><b>Before-Game ELO: </b>1220<br><b>Expected Score Diff Against Opponent: </b>+0.83<br><b>Expected Score Diff Against Average: </b>+0.42<br><br><b>Change in ELO:</b> +21<br>",
          "<br><b>Before-Game ELO: </b>nan<br><b>Expected Score Diff Against Opponent: </b>+nan<br><b>Expected Score Diff Against Average: </b>+nan<br><br><b>Change in ELO:</b> +nan<br>",
          "<br><b>Before-Game ELO: </b>1241<br><b>Expected Score Diff Against Opponent: </b>+0.21<br><b>Expected Score Diff Against Average: </b>+0.84<br><br><b>Change in ELO:</b> -16<br>",
          "<br><b>Before-Game ELO: </b>1225<br><b>Expected Score Diff Against Opponent: </b>+0.66<br><b>Expected Score Diff Against Average: </b>+0.52<br><br><b>Change in ELO:</b> +17<br>",
          "<br><b>Before-Game ELO: </b>nan<br><b>Expected Score Diff Against Opponent: </b>+nan<br><b>Expected Score Diff Against Average: </b>+nan<br><br><b>Change in ELO:</b> +nan<br>",
          "<br><b>Before-Game ELO: </b>nan<br><b>Expected Score Diff Against Opponent: </b>+nan<br><b>Expected Score Diff Against Average: </b>+nan<br><br><b>Change in ELO:</b> +nan<br>",
          "<br><b>Before-Game ELO: </b>1242<br><b>Expected Score Diff Against Opponent: </b>+2.10<br><b>Expected Score Diff Against Average: </b>+0.86<br><br><b>Change in ELO:</b> -0<br>",
          "<br><b>Before-Game ELO: </b>nan<br><b>Expected Score Diff Against Opponent: </b>+nan<br><b>Expected Score Diff Against Average: </b>+nan<br><br><b>Change in ELO:</b> +nan<br>",
          "<br><b>Before-Game ELO: </b>1241<br><b>Expected Score Diff Against Opponent: </b>+0.15<br><b>Expected Score Diff Against Average: </b>+0.85<br><br><b>Change in ELO:</b> -21<br>",
          "<br><b>Before-Game ELO: </b>1220<br><b>Expected Score Diff Against Opponent: </b>-0.71<br><b>Expected Score Diff Against Average: </b>+0.42<br><br><b>Change in ELO:</b> +24<br>",
          "<br><b>Before-Game ELO: </b>1244<br><b>Expected Score Diff Against Opponent: </b>+0.27<br><b>Expected Score Diff Against Average: </b>+0.90<br><br><b>Change in ELO:</b> -11<br>",
          "<br><b>Before-Game ELO: </b>1232<br><b>Expected Score Diff Against Opponent: </b>-0.20<br><b>Expected Score Diff Against Average: </b>+0.67<br><br><b>Change in ELO:</b> -9<br>",
          "<br><b>Before-Game ELO: </b>nan<br><b>Expected Score Diff Against Opponent: </b>+nan<br><b>Expected Score Diff Against Average: </b>+nan<br><br><b>Change in ELO:</b> +nan<br>",
          "<br><b>Before-Game ELO: </b>1224<br><b>Expected Score Diff Against Opponent: </b>+1.75<br><b>Expected Score Diff Against Average: </b>+0.49<br><br><b>Change in ELO:</b> +1<br>",
          "<br><b>Before-Game ELO: </b>1225<br><b>Expected Score Diff Against Opponent: </b>+0.20<br><b>Expected Score Diff Against Average: </b>+0.51<br><br><b>Change in ELO:</b> +9<br>",
          "<br><b>Before-Game ELO: </b>nan<br><b>Expected Score Diff Against Opponent: </b>+nan<br><b>Expected Score Diff Against Average: </b>+nan<br><br><b>Change in ELO:</b> +nan<br>",
          "<br><b>Before-Game ELO: </b>1234<br><b>Expected Score Diff Against Opponent: </b>+0.43<br><b>Expected Score Diff Against Average: </b>+0.70<br><br><b>Change in ELO:</b> +18<br>",
          "<br><b>Before-Game ELO: </b>nan<br><b>Expected Score Diff Against Opponent: </b>+nan<br><b>Expected Score Diff Against Average: </b>+nan<br><br><b>Change in ELO:</b> +nan<br>",
          "<br><b>Before-Game ELO: </b>nan<br><b>Expected Score Diff Against Opponent: </b>+nan<br><b>Expected Score Diff Against Average: </b>+nan<br><br><b>Change in ELO:</b> +nan<br>",
          "<br><b>Before-Game ELO: </b>1252<br><b>Expected Score Diff Against Opponent: </b>+0.84<br><b>Expected Score Diff Against Average: </b>+1.06<br><br><b>Change in ELO:</b> -14<br>",
          "<br><b>Before-Game ELO: </b>nan<br><b>Expected Score Diff Against Opponent: </b>+nan<br><b>Expected Score Diff Against Average: </b>+nan<br><br><b>Change in ELO:</b> +nan<br>",
          "<br><b>Before-Game ELO: </b>nan<br><b>Expected Score Diff Against Opponent: </b>+nan<br><b>Expected Score Diff Against Average: </b>+nan<br><br><b>Change in ELO:</b> +nan<br>",
          "<br><b>Before-Game ELO: </b>nan<br><b>Expected Score Diff Against Opponent: </b>+nan<br><b>Expected Score Diff Against Average: </b>+nan<br><br><b>Change in ELO:</b> +nan<br>",
          "<br><b>Before-Game ELO: </b>1237<br><b>Expected Score Diff Against Opponent: </b>+1.29<br><b>Expected Score Diff Against Average: </b>+0.77<br><br><b>Change in ELO:</b> +19<br>",
          "<br><b>Before-Game ELO: </b>1256<br><b>Expected Score Diff Against Opponent: </b>+1.72<br><b>Expected Score Diff Against Average: </b>+1.15<br><br><b>Change in ELO:</b> -24<br>",
          "<br><b>Before-Game ELO: </b>nan<br><b>Expected Score Diff Against Opponent: </b>+nan<br><b>Expected Score Diff Against Average: </b>+nan<br><br><b>Change in ELO:</b> +nan<br>",
          "<br><b>Before-Game ELO: </b>1232<br><b>Expected Score Diff Against Opponent: </b>+0.47<br><b>Expected Score Diff Against Average: </b>+0.67<br><br><b>Change in ELO:</b> +3<br>",
          "<br><b>Before-Game ELO: </b>nan<br><b>Expected Score Diff Against Opponent: </b>+nan<br><b>Expected Score Diff Against Average: </b>+nan<br><br><b>Change in ELO:</b> +nan<br>",
          "<br><b>Before-Game ELO: </b>nan<br><b>Expected Score Diff Against Opponent: </b>+nan<br><b>Expected Score Diff Against Average: </b>+nan<br><br><b>Change in ELO:</b> +nan<br>",
          "<br><b>Before-Game ELO: </b>1235<br><b>Expected Score Diff Against Opponent: </b>+0.57<br><b>Expected Score Diff Against Average: </b>+0.73<br><br><b>Change in ELO:</b> +2<br>",
          "<br><b>Before-Game ELO: </b>nan<br><b>Expected Score Diff Against Opponent: </b>+nan<br><b>Expected Score Diff Against Average: </b>+nan<br><br><b>Change in ELO:</b> +nan<br>",
          "<br><b>Before-Game ELO: </b>nan<br><b>Expected Score Diff Against Opponent: </b>+nan<br><b>Expected Score Diff Against Average: </b>+nan<br><br><b>Change in ELO:</b> +nan<br>",
          "<br><b>Before-Game ELO: </b>1237<br><b>Expected Score Diff Against Opponent: </b>+0.63<br><b>Expected Score Diff Against Average: </b>+0.77<br><br><b>Change in ELO:</b> +17<br>",
          "<br><b>Before-Game ELO: </b>1254<br><b>Expected Score Diff Against Opponent: </b>+1.31<br><b>Expected Score Diff Against Average: </b>+1.11<br><br><b>Change in ELO:</b> +18<br>"
         ],
         "type": "scatter",
         "x": [
          1,
          2,
          3,
          4,
          5,
          6,
          7,
          8,
          9,
          10,
          11,
          12,
          13,
          14,
          15,
          16,
          17,
          18,
          19,
          20,
          21,
          22,
          23,
          24,
          25,
          26,
          27,
          28,
          29,
          30,
          31,
          32,
          33,
          34,
          35,
          36,
          37
         ],
         "y": [
          1220,
          null,
          null,
          1240.867555666153,
          null,
          1224.8282509762219,
          1241.5419262127302,
          null,
          null,
          1241.0550725791948,
          null,
          1220.2959234711884,
          1243.8367749728927,
          1232.4999109763903,
          1223.5192031169595,
          null,
          1224.788658151846,
          1233.800074659741,
          null,
          1251.6488774975526,
          null,
          null,
          1237.4583276874755,
          null,
          null,
          null,
          1255.9940733743877,
          1232.4112363394686,
          null,
          1235.036585377228,
          null,
          null,
          1237.1973917980913,
          null,
          null,
          1254.0267212805854,
          1272.452959018665
         ]
        },
        {
         "connectgaps": true,
         "customdata": [
          [
           "Evan Sooklal",
           "Will Simpson",
           2,
           6,
           "2023-11-18"
          ],
          [
           "Paul Bartenfeld",
           "Roman Ramirez",
           2,
           6,
           "2023-11-18"
          ],
          [
           "Roman Ramirez",
           "Evan Sooklal",
           6,
           3,
           "2023-11-18"
          ],
          [
           "Will Simpson",
           "Paul Bartenfeld",
           6,
           1,
           "2023-11-18"
          ],
          [
           "Paul Bartenfeld",
           "Evan Sooklal",
           1,
           6,
           "2023-11-18"
          ],
          [
           "Will Simpson",
           "Roman Ramirez",
           3,
           6,
           "2023-11-18"
          ],
          [
           "Will Simpson",
           "Evan Sooklal",
           6,
           2,
           "2023-11-18"
          ],
          [
           "Roman Ramirez",
           "Paul Bartenfeld",
           6,
           4,
           "2023-11-18"
          ],
          [
           "Evan Sooklal",
           "Roman Ramirez",
           6,
           5,
           "2023-11-18"
          ],
          [
           "Paul Bartenfeld",
           "Will Simpson",
           4,
           6,
           "2023-11-18"
          ],
          [
           "Evan Sooklal",
           "Paul Bartenfeld",
           6,
           5,
           "2023-11-18"
          ],
          [
           "Roman Ramirez",
           "Will Simpson",
           6,
           2,
           "2023-11-18"
          ],
          [
           "Roman Ramirez",
           "Will Simpson",
           2,
           6,
           "2023-11-18"
          ],
          [
           "Will Simpson",
           "Roman Ramirez",
           4,
           6,
           "2023-11-18"
          ],
          [
           "Roman Ramirez",
           "Will Simpson",
           6,
           4,
           "2023-11-18"
          ],
          [
           "Roman Ramirez",
           "Aaron Carter",
           4,
           6,
           "2023-12-02"
          ],
          [
           "Will Simpson",
           "Paul Bartenfeld",
           6,
           4,
           "2023-12-02"
          ],
          [
           "Aaron Carter",
           "Will Simpson",
           4,
           6,
           "2023-12-02"
          ],
          [
           "Evan Sooklal",
           "Roman Ramirez",
           6,
           2,
           "2023-12-02"
          ],
          [
           "Will Simpson",
           "Evan Sooklal",
           6,
           2,
           "2023-12-02"
          ],
          [
           "Paul Bartenfeld",
           "Aaron Carter",
           6,
           3,
           "2023-12-02"
          ],
          [
           "Evan Sooklal",
           "Paul Bartenfeld",
           6,
           4,
           "2023-12-02"
          ],
          [
           "Roman Ramirez",
           "Will Simpson",
           6,
           4,
           "2023-12-02"
          ],
          [
           "Paul Bartenfeld",
           "Roman Ramirez",
           6,
           3,
           "2023-12-02"
          ],
          [
           "Aaron Carter",
           "Evan Sooklal",
           6,
           3,
           "2023-12-02"
          ],
          [
           "Aaron Carter",
           "Roman Ramirez",
           0,
           6,
           "2023-12-02"
          ],
          [
           "Paul Bartenfeld",
           "Will Simpson",
           1,
           6,
           "2023-12-02"
          ],
          [
           "Will Simpson",
           "Aaron Carter",
           3,
           6,
           "2023-12-02"
          ],
          [
           "Roman Ramirez",
           "Evan Sooklal",
           2,
           6,
           "2023-12-02"
          ],
          [
           "Evan Sooklal",
           "Will Simpson",
           5,
           6,
           "2023-12-02"
          ],
          [
           "Aaron Carter",
           "Paul Bartenfeld",
           6,
           3,
           "2023-12-02"
          ],
          [
           "Paul Bartenfeld",
           "Evan Sooklal",
           6,
           5,
           "2023-12-02"
          ],
          [
           "Will Simpson",
           "Roman Ramirez",
           6,
           5,
           "2023-12-02"
          ],
          [
           "Roman Ramirez",
           "Paul Bartenfeld",
           4,
           6,
           "2023-12-02"
          ],
          [
           "Evan Sooklal",
           "Aaron Carter",
           6,
           4,
           "2023-12-02"
          ],
          [
           "Will Simpson",
           "Evan Sooklal",
           6,
           2,
           "2023-12-02"
          ],
          [
           "Will Simpson",
           "Evan Sooklal",
           6,
           1,
           "2023-12-02"
          ]
         ],
         "hovertemplate": "<i>%{customdata[4]|%A, %B %d, %Y}, Game %{x}</i><br><b>%{fullData.name}</b><br><br><b>%{customdata[0]} vs. %{customdata[1]}</b><br><b>Final Score:</b> %{customdata[2]}-%{customdata[3]}<br>%{text}<b>After-Game ELO:</b> %{y:,.0f}<br><extra></extra>",
         "legendgrouptitle": {
          "text": "<b>#<i>Rank</i> (<i>Current ELO</i>) <i>Player</i></b>"
         },
         "line": {
          "color": "rgb(17, 165, 121)",
          "shape": "hv"
         },
         "mode": "lines+markers",
         "name": "#2 (1195) Aaron Carter",
         "opacity": 0.8,
         "text": [
          "<br><b>Before-Game ELO: </b>nan<br><b>Expected Score Diff Against Opponent: </b>+nan<br><b>Expected Score Diff Against Average: </b>+nan<br><br><b>Change in ELO:</b> +nan<br>",
          "<br><b>Before-Game ELO: </b>nan<br><b>Expected Score Diff Against Opponent: </b>+nan<br><b>Expected Score Diff Against Average: </b>+nan<br><br><b>Change in ELO:</b> +nan<br>",
          "<br><b>Before-Game ELO: </b>nan<br><b>Expected Score Diff Against Opponent: </b>+nan<br><b>Expected Score Diff Against Average: </b>+nan<br><br><b>Change in ELO:</b> +nan<br>",
          "<br><b>Before-Game ELO: </b>nan<br><b>Expected Score Diff Against Opponent: </b>+nan<br><b>Expected Score Diff Against Average: </b>+nan<br><br><b>Change in ELO:</b> +nan<br>",
          "<br><b>Before-Game ELO: </b>nan<br><b>Expected Score Diff Against Opponent: </b>+nan<br><b>Expected Score Diff Against Average: </b>+nan<br><br><b>Change in ELO:</b> +nan<br>",
          "<br><b>Before-Game ELO: </b>nan<br><b>Expected Score Diff Against Opponent: </b>+nan<br><b>Expected Score Diff Against Average: </b>+nan<br><br><b>Change in ELO:</b> +nan<br>",
          "<br><b>Before-Game ELO: </b>nan<br><b>Expected Score Diff Against Opponent: </b>+nan<br><b>Expected Score Diff Against Average: </b>+nan<br><br><b>Change in ELO:</b> +nan<br>",
          "<br><b>Before-Game ELO: </b>nan<br><b>Expected Score Diff Against Opponent: </b>+nan<br><b>Expected Score Diff Against Average: </b>+nan<br><br><b>Change in ELO:</b> +nan<br>",
          "<br><b>Before-Game ELO: </b>nan<br><b>Expected Score Diff Against Opponent: </b>+nan<br><b>Expected Score Diff Against Average: </b>+nan<br><br><b>Change in ELO:</b> +nan<br>",
          "<br><b>Before-Game ELO: </b>nan<br><b>Expected Score Diff Against Opponent: </b>+nan<br><b>Expected Score Diff Against Average: </b>+nan<br><br><b>Change in ELO:</b> +nan<br>",
          "<br><b>Before-Game ELO: </b>nan<br><b>Expected Score Diff Against Opponent: </b>+nan<br><b>Expected Score Diff Against Average: </b>+nan<br><br><b>Change in ELO:</b> +nan<br>",
          "<br><b>Before-Game ELO: </b>nan<br><b>Expected Score Diff Against Opponent: </b>+nan<br><b>Expected Score Diff Against Average: </b>+nan<br><br><b>Change in ELO:</b> +nan<br>",
          "<br><b>Before-Game ELO: </b>nan<br><b>Expected Score Diff Against Opponent: </b>+nan<br><b>Expected Score Diff Against Average: </b>+nan<br><br><b>Change in ELO:</b> +nan<br>",
          "<br><b>Before-Game ELO: </b>nan<br><b>Expected Score Diff Against Opponent: </b>+nan<br><b>Expected Score Diff Against Average: </b>+nan<br><br><b>Change in ELO:</b> +nan<br>",
          "<br><b>Before-Game ELO: </b>nan<br><b>Expected Score Diff Against Opponent: </b>+nan<br><b>Expected Score Diff Against Average: </b>+nan<br><br><b>Change in ELO:</b> +nan<br>",
          "<br><b>Before-Game ELO: </b>1200<br><b>Expected Score Diff Against Opponent: </b>-1.06<br><b>Expected Score Diff Against Average: </b>+0.00<br><br><b>Change in ELO:</b> +15<br>",
          "<br><b>Before-Game ELO: </b>nan<br><b>Expected Score Diff Against Opponent: </b>+nan<br><b>Expected Score Diff Against Average: </b>+nan<br><br><b>Change in ELO:</b> +nan<br>",
          "<br><b>Before-Game ELO: </b>1215<br><b>Expected Score Diff Against Opponent: </b>-0.20<br><b>Expected Score Diff Against Average: </b>+0.32<br><br><b>Change in ELO:</b> -9<br>",
          "<br><b>Before-Game ELO: </b>nan<br><b>Expected Score Diff Against Opponent: </b>+nan<br><b>Expected Score Diff Against Average: </b>+nan<br><br><b>Change in ELO:</b> +nan<br>",
          "<br><b>Before-Game ELO: </b>nan<br><b>Expected Score Diff Against Opponent: </b>+nan<br><b>Expected Score Diff Against Average: </b>+nan<br><br><b>Change in ELO:</b> +nan<br>",
          "<br><b>Before-Game ELO: </b>1206<br><b>Expected Score Diff Against Opponent: </b>+1.44<br><b>Expected Score Diff Against Average: </b>+0.13<br><br><b>Change in ELO:</b> -22<br>",
          "<br><b>Before-Game ELO: </b>nan<br><b>Expected Score Diff Against Opponent: </b>+nan<br><b>Expected Score Diff Against Average: </b>+nan<br><br><b>Change in ELO:</b> +nan<br>",
          "<br><b>Before-Game ELO: </b>nan<br><b>Expected Score Diff Against Opponent: </b>+nan<br><b>Expected Score Diff Against Average: </b>+nan<br><br><b>Change in ELO:</b> +nan<br>",
          "<br><b>Before-Game ELO: </b>nan<br><b>Expected Score Diff Against Opponent: </b>+nan<br><b>Expected Score Diff Against Average: </b>+nan<br><br><b>Change in ELO:</b> +nan<br>",
          "<br><b>Before-Game ELO: </b>1184<br><b>Expected Score Diff Against Opponent: </b>-0.36<br><b>Expected Score Diff Against Average: </b>-0.33<br><br><b>Change in ELO:</b> +17<br>",
          "<br><b>Before-Game ELO: </b>1201<br><b>Expected Score Diff Against Opponent: </b>-0.04<br><b>Expected Score Diff Against Average: </b>+0.02<br><br><b>Change in ELO:</b> -30<br>",
          "<br><b>Before-Game ELO: </b>nan<br><b>Expected Score Diff Against Opponent: </b>+nan<br><b>Expected Score Diff Against Average: </b>+nan<br><br><b>Change in ELO:</b> +nan<br>",
          "<br><b>Before-Game ELO: </b>1171<br><b>Expected Score Diff Against Opponent: </b>-1.72<br><b>Expected Score Diff Against Average: </b>-0.60<br><br><b>Change in ELO:</b> +24<br>",
          "<br><b>Before-Game ELO: </b>nan<br><b>Expected Score Diff Against Opponent: </b>+nan<br><b>Expected Score Diff Against Average: </b>+nan<br><br><b>Change in ELO:</b> +nan<br>",
          "<br><b>Before-Game ELO: </b>nan<br><b>Expected Score Diff Against Opponent: </b>+nan<br><b>Expected Score Diff Against Average: </b>+nan<br><br><b>Change in ELO:</b> +nan<br>",
          "<br><b>Before-Game ELO: </b>1195<br><b>Expected Score Diff Against Opponent: </b>+0.80<br><b>Expected Score Diff Against Average: </b>-0.11<br><br><b>Change in ELO:</b> +11<br>",
          "<br><b>Before-Game ELO: </b>nan<br><b>Expected Score Diff Against Opponent: </b>+nan<br><b>Expected Score Diff Against Average: </b>+nan<br><br><b>Change in ELO:</b> +nan<br>",
          "<br><b>Before-Game ELO: </b>nan<br><b>Expected Score Diff Against Opponent: </b>+nan<br><b>Expected Score Diff Against Average: </b>+nan<br><br><b>Change in ELO:</b> +nan<br>",
          "<br><b>Before-Game ELO: </b>nan<br><b>Expected Score Diff Against Opponent: </b>+nan<br><b>Expected Score Diff Against Average: </b>+nan<br><br><b>Change in ELO:</b> +nan<br>",
          "<br><b>Before-Game ELO: </b>1206<br><b>Expected Score Diff Against Opponent: </b>+0.21<br><b>Expected Score Diff Against Average: </b>+0.12<br><br><b>Change in ELO:</b> -11<br>",
          "<br><b>Before-Game ELO: </b>nan<br><b>Expected Score Diff Against Opponent: </b>+nan<br><b>Expected Score Diff Against Average: </b>+nan<br><br><b>Change in ELO:</b> +nan<br>",
          "<br><b>Before-Game ELO: </b>nan<br><b>Expected Score Diff Against Opponent: </b>+nan<br><b>Expected Score Diff Against Average: </b>+nan<br><br><b>Change in ELO:</b> +nan<br>"
         ],
         "type": "scatter",
         "x": [
          1,
          2,
          3,
          4,
          5,
          6,
          7,
          8,
          9,
          10,
          11,
          12,
          13,
          14,
          15,
          16,
          17,
          18,
          19,
          20,
          21,
          22,
          23,
          24,
          25,
          26,
          27,
          28,
          29,
          30,
          31,
          32,
          33,
          34,
          35,
          36,
          37
         ],
         "y": [
          null,
          null,
          null,
          null,
          null,
          null,
          null,
          null,
          null,
          null,
          null,
          null,
          null,
          null,
          null,
          1215.2770509704944,
          null,
          1206.2656344625993,
          null,
          null,
          1184.079561502406,
          null,
          null,
          null,
          1200.8754557600114,
          1171.0748889078784,
          null,
          1194.6577259427975,
          null,
          null,
          1205.6377355624618,
          null,
          null,
          null,
          1194.5880751612672,
          null,
          null
         ]
        },
        {
         "connectgaps": true,
         "customdata": [
          [
           "Evan Sooklal",
           "Will Simpson",
           2,
           6,
           "2023-11-18"
          ],
          [
           "Paul Bartenfeld",
           "Roman Ramirez",
           2,
           6,
           "2023-11-18"
          ],
          [
           "Roman Ramirez",
           "Evan Sooklal",
           6,
           3,
           "2023-11-18"
          ],
          [
           "Will Simpson",
           "Paul Bartenfeld",
           6,
           1,
           "2023-11-18"
          ],
          [
           "Paul Bartenfeld",
           "Evan Sooklal",
           1,
           6,
           "2023-11-18"
          ],
          [
           "Will Simpson",
           "Roman Ramirez",
           3,
           6,
           "2023-11-18"
          ],
          [
           "Will Simpson",
           "Evan Sooklal",
           6,
           2,
           "2023-11-18"
          ],
          [
           "Roman Ramirez",
           "Paul Bartenfeld",
           6,
           4,
           "2023-11-18"
          ],
          [
           "Evan Sooklal",
           "Roman Ramirez",
           6,
           5,
           "2023-11-18"
          ],
          [
           "Paul Bartenfeld",
           "Will Simpson",
           4,
           6,
           "2023-11-18"
          ],
          [
           "Evan Sooklal",
           "Paul Bartenfeld",
           6,
           5,
           "2023-11-18"
          ],
          [
           "Roman Ramirez",
           "Will Simpson",
           6,
           2,
           "2023-11-18"
          ],
          [
           "Roman Ramirez",
           "Will Simpson",
           2,
           6,
           "2023-11-18"
          ],
          [
           "Will Simpson",
           "Roman Ramirez",
           4,
           6,
           "2023-11-18"
          ],
          [
           "Roman Ramirez",
           "Will Simpson",
           6,
           4,
           "2023-11-18"
          ],
          [
           "Roman Ramirez",
           "Aaron Carter",
           4,
           6,
           "2023-12-02"
          ],
          [
           "Will Simpson",
           "Paul Bartenfeld",
           6,
           4,
           "2023-12-02"
          ],
          [
           "Aaron Carter",
           "Will Simpson",
           4,
           6,
           "2023-12-02"
          ],
          [
           "Evan Sooklal",
           "Roman Ramirez",
           6,
           2,
           "2023-12-02"
          ],
          [
           "Will Simpson",
           "Evan Sooklal",
           6,
           2,
           "2023-12-02"
          ],
          [
           "Paul Bartenfeld",
           "Aaron Carter",
           6,
           3,
           "2023-12-02"
          ],
          [
           "Evan Sooklal",
           "Paul Bartenfeld",
           6,
           4,
           "2023-12-02"
          ],
          [
           "Roman Ramirez",
           "Will Simpson",
           6,
           4,
           "2023-12-02"
          ],
          [
           "Paul Bartenfeld",
           "Roman Ramirez",
           6,
           3,
           "2023-12-02"
          ],
          [
           "Aaron Carter",
           "Evan Sooklal",
           6,
           3,
           "2023-12-02"
          ],
          [
           "Aaron Carter",
           "Roman Ramirez",
           0,
           6,
           "2023-12-02"
          ],
          [
           "Paul Bartenfeld",
           "Will Simpson",
           1,
           6,
           "2023-12-02"
          ],
          [
           "Will Simpson",
           "Aaron Carter",
           3,
           6,
           "2023-12-02"
          ],
          [
           "Roman Ramirez",
           "Evan Sooklal",
           2,
           6,
           "2023-12-02"
          ],
          [
           "Evan Sooklal",
           "Will Simpson",
           5,
           6,
           "2023-12-02"
          ],
          [
           "Aaron Carter",
           "Paul Bartenfeld",
           6,
           3,
           "2023-12-02"
          ],
          [
           "Paul Bartenfeld",
           "Evan Sooklal",
           6,
           5,
           "2023-12-02"
          ],
          [
           "Will Simpson",
           "Roman Ramirez",
           6,
           5,
           "2023-12-02"
          ],
          [
           "Roman Ramirez",
           "Paul Bartenfeld",
           4,
           6,
           "2023-12-02"
          ],
          [
           "Evan Sooklal",
           "Aaron Carter",
           6,
           4,
           "2023-12-02"
          ],
          [
           "Will Simpson",
           "Evan Sooklal",
           6,
           2,
           "2023-12-02"
          ],
          [
           "Will Simpson",
           "Evan Sooklal",
           6,
           1,
           "2023-12-02"
          ]
         ],
         "hovertemplate": "<i>%{customdata[4]|%A, %B %d, %Y}, Game %{x}</i><br><b>%{fullData.name}</b><br><br><b>%{customdata[0]} vs. %{customdata[1]}</b><br><b>Final Score:</b> %{customdata[2]}-%{customdata[3]}<br>%{text}<b>After-Game ELO:</b> %{y:,.0f}<br><extra></extra>",
         "legendgrouptitle": {
          "text": "<b>#<i>Rank</i> (<i>Current ELO</i>) <i>Player</i></b>"
         },
         "line": {
          "color": "rgb(57, 105, 172)",
          "shape": "hv"
         },
         "mode": "lines+markers",
         "name": "#3 (1190) Roman Ramirez",
         "opacity": 0.8,
         "text": [
          "<br><b>Before-Game ELO: </b>nan<br><b>Expected Score Diff Against Opponent: </b>+nan<br><b>Expected Score Diff Against Average: </b>+nan<br><br><b>Change in ELO:</b> +nan<br>",
          "<br><b>Before-Game ELO: </b>1200<br><b>Expected Score Diff Against Opponent: </b>+0.00<br><b>Expected Score Diff Against Average: </b>+0.00<br><br><b>Change in ELO:</b> +20<br>",
          "<br><b>Before-Game ELO: </b>1220<br><b>Expected Score Diff Against Opponent: </b>+0.83<br><b>Expected Score Diff Against Average: </b>+0.42<br><br><b>Change in ELO:</b> +11<br>",
          "<br><b>Before-Game ELO: </b>nan<br><b>Expected Score Diff Against Opponent: </b>+nan<br><b>Expected Score Diff Against Average: </b>+nan<br><br><b>Change in ELO:</b> +nan<br>",
          "<br><b>Before-Game ELO: </b>nan<br><b>Expected Score Diff Against Opponent: </b>+nan<br><b>Expected Score Diff Against Average: </b>+nan<br><br><b>Change in ELO:</b> +nan<br>",
          "<br><b>Before-Game ELO: </b>1231<br><b>Expected Score Diff Against Opponent: </b>-0.21<br><b>Expected Score Diff Against Average: </b>+0.64<br><br><b>Change in ELO:</b> +16<br>",
          "<br><b>Before-Game ELO: </b>nan<br><b>Expected Score Diff Against Opponent: </b>+nan<br><b>Expected Score Diff Against Average: </b>+nan<br><br><b>Change in ELO:</b> +nan<br>",
          "<br><b>Before-Game ELO: </b>1247<br><b>Expected Score Diff Against Opponent: </b>+2.21<br><b>Expected Score Diff Against Average: </b>+0.97<br><br><b>Change in ELO:</b> -1<br>",
          "<br><b>Before-Game ELO: </b>1246<br><b>Expected Score Diff Against Opponent: </b>+1.42<br><b>Expected Score Diff Against Average: </b>+0.95<br><br><b>Change in ELO:</b> -12<br>",
          "<br><b>Before-Game ELO: </b>nan<br><b>Expected Score Diff Against Opponent: </b>+nan<br><b>Expected Score Diff Against Average: </b>+nan<br><br><b>Change in ELO:</b> +nan<br>",
          "<br><b>Before-Game ELO: </b>nan<br><b>Expected Score Diff Against Opponent: </b>+nan<br><b>Expected Score Diff Against Average: </b>+nan<br><br><b>Change in ELO:</b> +nan<br>",
          "<br><b>Before-Game ELO: </b>1234<br><b>Expected Score Diff Against Opponent: </b>-0.15<br><b>Expected Score Diff Against Average: </b>+0.70<br><br><b>Change in ELO:</b> +21<br>",
          "<br><b>Before-Game ELO: </b>1255<br><b>Expected Score Diff Against Opponent: </b>+0.71<br><b>Expected Score Diff Against Average: </b>+1.12<br><br><b>Change in ELO:</b> -24<br>",
          "<br><b>Before-Game ELO: </b>1231<br><b>Expected Score Diff Against Opponent: </b>-0.27<br><b>Expected Score Diff Against Average: </b>+0.64<br><br><b>Change in ELO:</b> +11<br>",
          "<br><b>Before-Game ELO: </b>1242<br><b>Expected Score Diff Against Opponent: </b>+0.20<br><b>Expected Score Diff Against Average: </b>+0.87<br><br><b>Change in ELO:</b> +9<br>",
          "<br><b>Before-Game ELO: </b>1251<br><b>Expected Score Diff Against Opponent: </b>+1.06<br><b>Expected Score Diff Against Average: </b>+1.06<br><br><b>Change in ELO:</b> -15<br>",
          "<br><b>Before-Game ELO: </b>nan<br><b>Expected Score Diff Against Opponent: </b>+nan<br><b>Expected Score Diff Against Average: </b>+nan<br><br><b>Change in ELO:</b> +nan<br>",
          "<br><b>Before-Game ELO: </b>nan<br><b>Expected Score Diff Against Opponent: </b>+nan<br><b>Expected Score Diff Against Average: </b>+nan<br><br><b>Change in ELO:</b> +nan<br>",
          "<br><b>Before-Game ELO: </b>1236<br><b>Expected Score Diff Against Opponent: </b>+0.99<br><b>Expected Score Diff Against Average: </b>+0.74<br><br><b>Change in ELO:</b> -25<br>",
          "<br><b>Before-Game ELO: </b>nan<br><b>Expected Score Diff Against Opponent: </b>+nan<br><b>Expected Score Diff Against Average: </b>+nan<br><br><b>Change in ELO:</b> +nan<br>",
          "<br><b>Before-Game ELO: </b>nan<br><b>Expected Score Diff Against Opponent: </b>+nan<br><b>Expected Score Diff Against Average: </b>+nan<br><br><b>Change in ELO:</b> +nan<br>",
          "<br><b>Before-Game ELO: </b>nan<br><b>Expected Score Diff Against Opponent: </b>+nan<br><b>Expected Score Diff Against Average: </b>+nan<br><br><b>Change in ELO:</b> +nan<br>",
          "<br><b>Before-Game ELO: </b>1211<br><b>Expected Score Diff Against Opponent: </b>-0.84<br><b>Expected Score Diff Against Average: </b>+0.23<br><br><b>Change in ELO:</b> +14<br>",
          "<br><b>Before-Game ELO: </b>1225<br><b>Expected Score Diff Against Opponent: </b>+1.50<br><b>Expected Score Diff Against Average: </b>+0.52<br><br><b>Change in ELO:</b> -22<br>",
          "<br><b>Before-Game ELO: </b>nan<br><b>Expected Score Diff Against Opponent: </b>+nan<br><b>Expected Score Diff Against Average: </b>+nan<br><br><b>Change in ELO:</b> +nan<br>",
          "<br><b>Before-Game ELO: </b>1203<br><b>Expected Score Diff Against Opponent: </b>+0.04<br><b>Expected Score Diff Against Average: </b>+0.06<br><br><b>Change in ELO:</b> +30<br>",
          "<br><b>Before-Game ELO: </b>nan<br><b>Expected Score Diff Against Opponent: </b>+nan<br><b>Expected Score Diff Against Average: </b>+nan<br><br><b>Change in ELO:</b> +nan<br>",
          "<br><b>Before-Game ELO: </b>nan<br><b>Expected Score Diff Against Opponent: </b>+nan<br><b>Expected Score Diff Against Average: </b>+nan<br><br><b>Change in ELO:</b> +nan<br>",
          "<br><b>Before-Game ELO: </b>1233<br><b>Expected Score Diff Against Opponent: </b>+0.99<br><b>Expected Score Diff Against Average: </b>+0.67<br><br><b>Change in ELO:</b> -25<br>",
          "<br><b>Before-Game ELO: </b>nan<br><b>Expected Score Diff Against Opponent: </b>+nan<br><b>Expected Score Diff Against Average: </b>+nan<br><br><b>Change in ELO:</b> +nan<br>",
          "<br><b>Before-Game ELO: </b>nan<br><b>Expected Score Diff Against Opponent: </b>+nan<br><b>Expected Score Diff Against Average: </b>+nan<br><br><b>Change in ELO:</b> +nan<br>",
          "<br><b>Before-Game ELO: </b>nan<br><b>Expected Score Diff Against Opponent: </b>+nan<br><b>Expected Score Diff Against Average: </b>+nan<br><br><b>Change in ELO:</b> +nan<br>",
          "<br><b>Before-Game ELO: </b>1208<br><b>Expected Score Diff Against Opponent: </b>-0.57<br><b>Expected Score Diff Against Average: </b>+0.16<br><br><b>Change in ELO:</b> -2<br>",
          "<br><b>Before-Game ELO: </b>1205<br><b>Expected Score Diff Against Opponent: </b>+1.02<br><b>Expected Score Diff Against Average: </b>+0.11<br><br><b>Change in ELO:</b> -15<br>",
          "<br><b>Before-Game ELO: </b>nan<br><b>Expected Score Diff Against Opponent: </b>+nan<br><b>Expected Score Diff Against Average: </b>+nan<br><br><b>Change in ELO:</b> +nan<br>",
          "<br><b>Before-Game ELO: </b>nan<br><b>Expected Score Diff Against Opponent: </b>+nan<br><b>Expected Score Diff Against Average: </b>+nan<br><br><b>Change in ELO:</b> +nan<br>",
          "<br><b>Before-Game ELO: </b>nan<br><b>Expected Score Diff Against Opponent: </b>+nan<br><b>Expected Score Diff Against Average: </b>+nan<br><br><b>Change in ELO:</b> +nan<br>"
         ],
         "type": "scatter",
         "x": [
          1,
          2,
          3,
          4,
          5,
          6,
          7,
          8,
          9,
          10,
          11,
          12,
          13,
          14,
          15,
          16,
          17,
          18,
          19,
          20,
          21,
          22,
          23,
          24,
          25,
          26,
          27,
          28,
          29,
          30,
          31,
          32,
          33,
          34,
          35,
          36,
          37
         ],
         "y": [
          null,
          1220,
          1230.867555666153,
          null,
          null,
          1246.9068603560843,
          null,
          1245.8373940681888,
          1233.7520424790202,
          null,
          null,
          1254.5111915870266,
          1230.9703400853223,
          1242.3072040818247,
          1251.2879119412555,
          1236.010860970761,
          null,
          null,
          1211.079056089257,
          null,
          null,
          null,
          1225.269605899334,
          1202.7936254395947,
          null,
          1232.5941922917277,
          null,
          null,
          1207.64734687029,
          null,
          null,
          null,
          1205.4865404494267,
          1190.405353400433,
          null,
          null,
          null
         ]
        },
        {
         "connectgaps": true,
         "customdata": [
          [
           "Evan Sooklal",
           "Will Simpson",
           2,
           6,
           "2023-11-18"
          ],
          [
           "Paul Bartenfeld",
           "Roman Ramirez",
           2,
           6,
           "2023-11-18"
          ],
          [
           "Roman Ramirez",
           "Evan Sooklal",
           6,
           3,
           "2023-11-18"
          ],
          [
           "Will Simpson",
           "Paul Bartenfeld",
           6,
           1,
           "2023-11-18"
          ],
          [
           "Paul Bartenfeld",
           "Evan Sooklal",
           1,
           6,
           "2023-11-18"
          ],
          [
           "Will Simpson",
           "Roman Ramirez",
           3,
           6,
           "2023-11-18"
          ],
          [
           "Will Simpson",
           "Evan Sooklal",
           6,
           2,
           "2023-11-18"
          ],
          [
           "Roman Ramirez",
           "Paul Bartenfeld",
           6,
           4,
           "2023-11-18"
          ],
          [
           "Evan Sooklal",
           "Roman Ramirez",
           6,
           5,
           "2023-11-18"
          ],
          [
           "Paul Bartenfeld",
           "Will Simpson",
           4,
           6,
           "2023-11-18"
          ],
          [
           "Evan Sooklal",
           "Paul Bartenfeld",
           6,
           5,
           "2023-11-18"
          ],
          [
           "Roman Ramirez",
           "Will Simpson",
           6,
           2,
           "2023-11-18"
          ],
          [
           "Roman Ramirez",
           "Will Simpson",
           2,
           6,
           "2023-11-18"
          ],
          [
           "Will Simpson",
           "Roman Ramirez",
           4,
           6,
           "2023-11-18"
          ],
          [
           "Roman Ramirez",
           "Will Simpson",
           6,
           4,
           "2023-11-18"
          ],
          [
           "Roman Ramirez",
           "Aaron Carter",
           4,
           6,
           "2023-12-02"
          ],
          [
           "Will Simpson",
           "Paul Bartenfeld",
           6,
           4,
           "2023-12-02"
          ],
          [
           "Aaron Carter",
           "Will Simpson",
           4,
           6,
           "2023-12-02"
          ],
          [
           "Evan Sooklal",
           "Roman Ramirez",
           6,
           2,
           "2023-12-02"
          ],
          [
           "Will Simpson",
           "Evan Sooklal",
           6,
           2,
           "2023-12-02"
          ],
          [
           "Paul Bartenfeld",
           "Aaron Carter",
           6,
           3,
           "2023-12-02"
          ],
          [
           "Evan Sooklal",
           "Paul Bartenfeld",
           6,
           4,
           "2023-12-02"
          ],
          [
           "Roman Ramirez",
           "Will Simpson",
           6,
           4,
           "2023-12-02"
          ],
          [
           "Paul Bartenfeld",
           "Roman Ramirez",
           6,
           3,
           "2023-12-02"
          ],
          [
           "Aaron Carter",
           "Evan Sooklal",
           6,
           3,
           "2023-12-02"
          ],
          [
           "Aaron Carter",
           "Roman Ramirez",
           0,
           6,
           "2023-12-02"
          ],
          [
           "Paul Bartenfeld",
           "Will Simpson",
           1,
           6,
           "2023-12-02"
          ],
          [
           "Will Simpson",
           "Aaron Carter",
           3,
           6,
           "2023-12-02"
          ],
          [
           "Roman Ramirez",
           "Evan Sooklal",
           2,
           6,
           "2023-12-02"
          ],
          [
           "Evan Sooklal",
           "Will Simpson",
           5,
           6,
           "2023-12-02"
          ],
          [
           "Aaron Carter",
           "Paul Bartenfeld",
           6,
           3,
           "2023-12-02"
          ],
          [
           "Paul Bartenfeld",
           "Evan Sooklal",
           6,
           5,
           "2023-12-02"
          ],
          [
           "Will Simpson",
           "Roman Ramirez",
           6,
           5,
           "2023-12-02"
          ],
          [
           "Roman Ramirez",
           "Paul Bartenfeld",
           4,
           6,
           "2023-12-02"
          ],
          [
           "Evan Sooklal",
           "Aaron Carter",
           6,
           4,
           "2023-12-02"
          ],
          [
           "Will Simpson",
           "Evan Sooklal",
           6,
           2,
           "2023-12-02"
          ],
          [
           "Will Simpson",
           "Evan Sooklal",
           6,
           1,
           "2023-12-02"
          ]
         ],
         "hovertemplate": "<i>%{customdata[4]|%A, %B %d, %Y}, Game %{x}</i><br><b>%{fullData.name}</b><br><br><b>%{customdata[0]} vs. %{customdata[1]}</b><br><b>Final Score:</b> %{customdata[2]}-%{customdata[3]}<br>%{text}<b>After-Game ELO:</b> %{y:,.0f}<br><extra></extra>",
         "legendgrouptitle": {
          "text": "<b>#<i>Rank</i> (<i>Current ELO</i>) <i>Player</i></b>"
         },
         "line": {
          "color": "rgb(242, 183, 1)",
          "shape": "hv"
         },
         "mode": "lines+markers",
         "name": "#4 (1171) Evan Sooklal",
         "opacity": 0.8,
         "text": [
          "<br><b>Before-Game ELO: </b>1200<br><b>Expected Score Diff Against Opponent: </b>+0.00<br><b>Expected Score Diff Against Average: </b>+0.00<br><br><b>Change in ELO:</b> -20<br>",
          "<br><b>Before-Game ELO: </b>nan<br><b>Expected Score Diff Against Opponent: </b>+nan<br><b>Expected Score Diff Against Average: </b>+nan<br><br><b>Change in ELO:</b> +nan<br>",
          "<br><b>Before-Game ELO: </b>1180<br><b>Expected Score Diff Against Opponent: </b>-0.83<br><b>Expected Score Diff Against Average: </b>-0.42<br><br><b>Change in ELO:</b> -11<br>",
          "<br><b>Before-Game ELO: </b>nan<br><b>Expected Score Diff Against Opponent: </b>+nan<br><b>Expected Score Diff Against Average: </b>+nan<br><br><b>Change in ELO:</b> +nan<br>",
          "<br><b>Before-Game ELO: </b>1169<br><b>Expected Score Diff Against Opponent: </b>+0.21<br><b>Expected Score Diff Against Average: </b>-0.64<br><br><b>Change in ELO:</b> +24<br>",
          "<br><b>Before-Game ELO: </b>nan<br><b>Expected Score Diff Against Opponent: </b>+nan<br><b>Expected Score Diff Against Average: </b>+nan<br><br><b>Change in ELO:</b> +nan<br>",
          "<br><b>Before-Game ELO: </b>1193<br><b>Expected Score Diff Against Opponent: </b>-0.66<br><b>Expected Score Diff Against Average: </b>-0.14<br><br><b>Change in ELO:</b> -17<br>",
          "<br><b>Before-Game ELO: </b>nan<br><b>Expected Score Diff Against Opponent: </b>+nan<br><b>Expected Score Diff Against Average: </b>+nan<br><br><b>Change in ELO:</b> +nan<br>",
          "<br><b>Before-Game ELO: </b>1176<br><b>Expected Score Diff Against Opponent: </b>-1.42<br><b>Expected Score Diff Against Average: </b>-0.49<br><br><b>Change in ELO:</b> +12<br>",
          "<br><b>Before-Game ELO: </b>nan<br><b>Expected Score Diff Against Opponent: </b>+nan<br><b>Expected Score Diff Against Average: </b>+nan<br><br><b>Change in ELO:</b> +nan<br>",
          "<br><b>Before-Game ELO: </b>1188<br><b>Expected Score Diff Against Opponent: </b>+1.06<br><b>Expected Score Diff Against Average: </b>-0.24<br><br><b>Change in ELO:</b> -0<br>",
          "<br><b>Before-Game ELO: </b>nan<br><b>Expected Score Diff Against Opponent: </b>+nan<br><b>Expected Score Diff Against Average: </b>+nan<br><br><b>Change in ELO:</b> +nan<br>",
          "<br><b>Before-Game ELO: </b>nan<br><b>Expected Score Diff Against Opponent: </b>+nan<br><b>Expected Score Diff Against Average: </b>+nan<br><br><b>Change in ELO:</b> +nan<br>",
          "<br><b>Before-Game ELO: </b>nan<br><b>Expected Score Diff Against Opponent: </b>+nan<br><b>Expected Score Diff Against Average: </b>+nan<br><br><b>Change in ELO:</b> +nan<br>",
          "<br><b>Before-Game ELO: </b>nan<br><b>Expected Score Diff Against Opponent: </b>+nan<br><b>Expected Score Diff Against Average: </b>+nan<br><br><b>Change in ELO:</b> +nan<br>",
          "<br><b>Before-Game ELO: </b>nan<br><b>Expected Score Diff Against Opponent: </b>+nan<br><b>Expected Score Diff Against Average: </b>+nan<br><br><b>Change in ELO:</b> +nan<br>",
          "<br><b>Before-Game ELO: </b>nan<br><b>Expected Score Diff Against Opponent: </b>+nan<br><b>Expected Score Diff Against Average: </b>+nan<br><br><b>Change in ELO:</b> +nan<br>",
          "<br><b>Before-Game ELO: </b>nan<br><b>Expected Score Diff Against Opponent: </b>+nan<br><b>Expected Score Diff Against Average: </b>+nan<br><br><b>Change in ELO:</b> +nan<br>",
          "<br><b>Before-Game ELO: </b>1188<br><b>Expected Score Diff Against Opponent: </b>-0.99<br><b>Expected Score Diff Against Average: </b>-0.25<br><br><b>Change in ELO:</b> +25<br>",
          "<br><b>Before-Game ELO: </b>1213<br><b>Expected Score Diff Against Opponent: </b>-0.43<br><b>Expected Score Diff Against Average: </b>+0.27<br><br><b>Change in ELO:</b> -18<br>",
          "<br><b>Before-Game ELO: </b>nan<br><b>Expected Score Diff Against Opponent: </b>+nan<br><b>Expected Score Diff Against Average: </b>+nan<br><br><b>Change in ELO:</b> +nan<br>",
          "<br><b>Before-Game ELO: </b>1195<br><b>Expected Score Diff Against Opponent: </b>+0.77<br><b>Expected Score Diff Against Average: </b>-0.10<br><br><b>Change in ELO:</b> +6<br>",
          "<br><b>Before-Game ELO: </b>nan<br><b>Expected Score Diff Against Opponent: </b>+nan<br><b>Expected Score Diff Against Average: </b>+nan<br><br><b>Change in ELO:</b> +nan<br>",
          "<br><b>Before-Game ELO: </b>nan<br><b>Expected Score Diff Against Opponent: </b>+nan<br><b>Expected Score Diff Against Average: </b>+nan<br><br><b>Change in ELO:</b> +nan<br>",
          "<br><b>Before-Game ELO: </b>1201<br><b>Expected Score Diff Against Opponent: </b>+0.36<br><b>Expected Score Diff Against Average: </b>+0.03<br><br><b>Change in ELO:</b> -17<br>",
          "<br><b>Before-Game ELO: </b>nan<br><b>Expected Score Diff Against Opponent: </b>+nan<br><b>Expected Score Diff Against Average: </b>+nan<br><br><b>Change in ELO:</b> +nan<br>",
          "<br><b>Before-Game ELO: </b>nan<br><b>Expected Score Diff Against Opponent: </b>+nan<br><b>Expected Score Diff Against Average: </b>+nan<br><br><b>Change in ELO:</b> +nan<br>",
          "<br><b>Before-Game ELO: </b>nan<br><b>Expected Score Diff Against Opponent: </b>+nan<br><b>Expected Score Diff Against Average: </b>+nan<br><br><b>Change in ELO:</b> +nan<br>",
          "<br><b>Before-Game ELO: </b>1185<br><b>Expected Score Diff Against Opponent: </b>-0.99<br><b>Expected Score Diff Against Average: </b>-0.32<br><br><b>Change in ELO:</b> +25<br>",
          "<br><b>Before-Game ELO: </b>1210<br><b>Expected Score Diff Against Opponent: </b>-0.47<br><b>Expected Score Diff Against Average: </b>+0.20<br><br><b>Change in ELO:</b> -3<br>",
          "<br><b>Before-Game ELO: </b>nan<br><b>Expected Score Diff Against Opponent: </b>+nan<br><b>Expected Score Diff Against Average: </b>+nan<br><br><b>Change in ELO:</b> +nan<br>",
          "<br><b>Before-Game ELO: </b>1207<br><b>Expected Score Diff Against Opponent: </b>+1.27<br><b>Expected Score Diff Against Average: </b>+0.14<br><br><b>Change in ELO:</b> -11<br>",
          "<br><b>Before-Game ELO: </b>nan<br><b>Expected Score Diff Against Opponent: </b>+nan<br><b>Expected Score Diff Against Average: </b>+nan<br><br><b>Change in ELO:</b> +nan<br>",
          "<br><b>Before-Game ELO: </b>nan<br><b>Expected Score Diff Against Opponent: </b>+nan<br><b>Expected Score Diff Against Average: </b>+nan<br><br><b>Change in ELO:</b> +nan<br>",
          "<br><b>Before-Game ELO: </b>1196<br><b>Expected Score Diff Against Opponent: </b>-0.21<br><b>Expected Score Diff Against Average: </b>-0.09<br><br><b>Change in ELO:</b> +11<br>",
          "<br><b>Before-Game ELO: </b>1207<br><b>Expected Score Diff Against Opponent: </b>-0.63<br><b>Expected Score Diff Against Average: </b>+0.14<br><br><b>Change in ELO:</b> -17<br>",
          "<br><b>Before-Game ELO: </b>1190<br><b>Expected Score Diff Against Opponent: </b>-1.31<br><b>Expected Score Diff Against Average: </b>-0.21<br><br><b>Change in ELO:</b> -18<br>"
         ],
         "type": "scatter",
         "x": [
          1,
          2,
          3,
          4,
          5,
          6,
          7,
          8,
          9,
          10,
          11,
          12,
          13,
          14,
          15,
          16,
          17,
          18,
          19,
          20,
          21,
          22,
          23,
          24,
          25,
          26,
          27,
          28,
          29,
          30,
          31,
          32,
          33,
          34,
          35,
          36,
          37
         ],
         "y": [
          1180,
          null,
          1169.132444333847,
          null,
          1193.0931396439157,
          null,
          1176.3794644074073,
          null,
          1188.464815996576,
          null,
          1188.142555035958,
          null,
          null,
          null,
          null,
          null,
          null,
          null,
          1213.074359917462,
          1195.2255570796506,
          null,
          1201.3730905490615,
          null,
          null,
          1184.5771962914562,
          null,
          null,
          null,
          1209.524041712894,
          1206.8986926751345,
          null,
          1195.5380137941866,
          null,
          null,
          1206.5876741953812,
          1189.758344712887,
          1171.3321069748074
         ]
        },
        {
         "connectgaps": true,
         "customdata": [
          [
           "Evan Sooklal",
           "Will Simpson",
           2,
           6,
           "2023-11-18"
          ],
          [
           "Paul Bartenfeld",
           "Roman Ramirez",
           2,
           6,
           "2023-11-18"
          ],
          [
           "Roman Ramirez",
           "Evan Sooklal",
           6,
           3,
           "2023-11-18"
          ],
          [
           "Will Simpson",
           "Paul Bartenfeld",
           6,
           1,
           "2023-11-18"
          ],
          [
           "Paul Bartenfeld",
           "Evan Sooklal",
           1,
           6,
           "2023-11-18"
          ],
          [
           "Will Simpson",
           "Roman Ramirez",
           3,
           6,
           "2023-11-18"
          ],
          [
           "Will Simpson",
           "Evan Sooklal",
           6,
           2,
           "2023-11-18"
          ],
          [
           "Roman Ramirez",
           "Paul Bartenfeld",
           6,
           4,
           "2023-11-18"
          ],
          [
           "Evan Sooklal",
           "Roman Ramirez",
           6,
           5,
           "2023-11-18"
          ],
          [
           "Paul Bartenfeld",
           "Will Simpson",
           4,
           6,
           "2023-11-18"
          ],
          [
           "Evan Sooklal",
           "Paul Bartenfeld",
           6,
           5,
           "2023-11-18"
          ],
          [
           "Roman Ramirez",
           "Will Simpson",
           6,
           2,
           "2023-11-18"
          ],
          [
           "Roman Ramirez",
           "Will Simpson",
           2,
           6,
           "2023-11-18"
          ],
          [
           "Will Simpson",
           "Roman Ramirez",
           4,
           6,
           "2023-11-18"
          ],
          [
           "Roman Ramirez",
           "Will Simpson",
           6,
           4,
           "2023-11-18"
          ],
          [
           "Roman Ramirez",
           "Aaron Carter",
           4,
           6,
           "2023-12-02"
          ],
          [
           "Will Simpson",
           "Paul Bartenfeld",
           6,
           4,
           "2023-12-02"
          ],
          [
           "Aaron Carter",
           "Will Simpson",
           4,
           6,
           "2023-12-02"
          ],
          [
           "Evan Sooklal",
           "Roman Ramirez",
           6,
           2,
           "2023-12-02"
          ],
          [
           "Will Simpson",
           "Evan Sooklal",
           6,
           2,
           "2023-12-02"
          ],
          [
           "Paul Bartenfeld",
           "Aaron Carter",
           6,
           3,
           "2023-12-02"
          ],
          [
           "Evan Sooklal",
           "Paul Bartenfeld",
           6,
           4,
           "2023-12-02"
          ],
          [
           "Roman Ramirez",
           "Will Simpson",
           6,
           4,
           "2023-12-02"
          ],
          [
           "Paul Bartenfeld",
           "Roman Ramirez",
           6,
           3,
           "2023-12-02"
          ],
          [
           "Aaron Carter",
           "Evan Sooklal",
           6,
           3,
           "2023-12-02"
          ],
          [
           "Aaron Carter",
           "Roman Ramirez",
           0,
           6,
           "2023-12-02"
          ],
          [
           "Paul Bartenfeld",
           "Will Simpson",
           1,
           6,
           "2023-12-02"
          ],
          [
           "Will Simpson",
           "Aaron Carter",
           3,
           6,
           "2023-12-02"
          ],
          [
           "Roman Ramirez",
           "Evan Sooklal",
           2,
           6,
           "2023-12-02"
          ],
          [
           "Evan Sooklal",
           "Will Simpson",
           5,
           6,
           "2023-12-02"
          ],
          [
           "Aaron Carter",
           "Paul Bartenfeld",
           6,
           3,
           "2023-12-02"
          ],
          [
           "Paul Bartenfeld",
           "Evan Sooklal",
           6,
           5,
           "2023-12-02"
          ],
          [
           "Will Simpson",
           "Roman Ramirez",
           6,
           5,
           "2023-12-02"
          ],
          [
           "Roman Ramirez",
           "Paul Bartenfeld",
           4,
           6,
           "2023-12-02"
          ],
          [
           "Evan Sooklal",
           "Aaron Carter",
           6,
           4,
           "2023-12-02"
          ],
          [
           "Will Simpson",
           "Evan Sooklal",
           6,
           2,
           "2023-12-02"
          ],
          [
           "Will Simpson",
           "Evan Sooklal",
           6,
           1,
           "2023-12-02"
          ]
         ],
         "hovertemplate": "<i>%{customdata[4]|%A, %B %d, %Y}, Game %{x}</i><br><b>%{fullData.name}</b><br><br><b>%{customdata[0]} vs. %{customdata[1]}</b><br><b>Final Score:</b> %{customdata[2]}-%{customdata[3]}<br>%{text}<b>After-Game ELO:</b> %{y:,.0f}<br><extra></extra>",
         "legendgrouptitle": {
          "text": "<b>#<i>Rank</i> (<i>Current ELO</i>) <i>Player</i></b>"
         },
         "line": {
          "color": "rgb(231, 63, 116)",
          "shape": "hv"
         },
         "mode": "lines+markers",
         "name": "#5 (1171) Paul Bartenfeld",
         "opacity": 0.8,
         "text": [
          "<br><b>Before-Game ELO: </b>nan<br><b>Expected Score Diff Against Opponent: </b>+nan<br><b>Expected Score Diff Against Average: </b>+nan<br><br><b>Change in ELO:</b> +nan<br>",
          "<br><b>Before-Game ELO: </b>1200<br><b>Expected Score Diff Against Opponent: </b>+0.00<br><b>Expected Score Diff Against Average: </b>+0.00<br><br><b>Change in ELO:</b> -20<br>",
          "<br><b>Before-Game ELO: </b>nan<br><b>Expected Score Diff Against Opponent: </b>+nan<br><b>Expected Score Diff Against Average: </b>+nan<br><br><b>Change in ELO:</b> +nan<br>",
          "<br><b>Before-Game ELO: </b>1180<br><b>Expected Score Diff Against Opponent: </b>-0.83<br><b>Expected Score Diff Against Average: </b>-0.42<br><br><b>Change in ELO:</b> -21<br>",
          "<br><b>Before-Game ELO: </b>1159<br><b>Expected Score Diff Against Opponent: </b>-0.21<br><b>Expected Score Diff Against Average: </b>-0.84<br><br><b>Change in ELO:</b> -24<br>",
          "<br><b>Before-Game ELO: </b>nan<br><b>Expected Score Diff Against Opponent: </b>+nan<br><b>Expected Score Diff Against Average: </b>+nan<br><br><b>Change in ELO:</b> +nan<br>",
          "<br><b>Before-Game ELO: </b>nan<br><b>Expected Score Diff Against Opponent: </b>+nan<br><b>Expected Score Diff Against Average: </b>+nan<br><br><b>Change in ELO:</b> +nan<br>",
          "<br><b>Before-Game ELO: </b>1135<br><b>Expected Score Diff Against Opponent: </b>-2.21<br><b>Expected Score Diff Against Average: </b>-1.33<br><br><b>Change in ELO:</b> +1<br>",
          "<br><b>Before-Game ELO: </b>nan<br><b>Expected Score Diff Against Opponent: </b>+nan<br><b>Expected Score Diff Against Average: </b>+nan<br><br><b>Change in ELO:</b> +nan<br>",
          "<br><b>Before-Game ELO: </b>1136<br><b>Expected Score Diff Against Opponent: </b>-2.10<br><b>Expected Score Diff Against Average: </b>-1.30<br><br><b>Change in ELO:</b> +0<br>",
          "<br><b>Before-Game ELO: </b>1137<br><b>Expected Score Diff Against Opponent: </b>-1.06<br><b>Expected Score Diff Against Average: </b>-1.30<br><br><b>Change in ELO:</b> +0<br>",
          "<br><b>Before-Game ELO: </b>nan<br><b>Expected Score Diff Against Opponent: </b>+nan<br><b>Expected Score Diff Against Average: </b>+nan<br><br><b>Change in ELO:</b> +nan<br>",
          "<br><b>Before-Game ELO: </b>nan<br><b>Expected Score Diff Against Opponent: </b>+nan<br><b>Expected Score Diff Against Average: </b>+nan<br><br><b>Change in ELO:</b> +nan<br>",
          "<br><b>Before-Game ELO: </b>nan<br><b>Expected Score Diff Against Opponent: </b>+nan<br><b>Expected Score Diff Against Average: </b>+nan<br><br><b>Change in ELO:</b> +nan<br>",
          "<br><b>Before-Game ELO: </b>nan<br><b>Expected Score Diff Against Opponent: </b>+nan<br><b>Expected Score Diff Against Average: </b>+nan<br><br><b>Change in ELO:</b> +nan<br>",
          "<br><b>Before-Game ELO: </b>nan<br><b>Expected Score Diff Against Opponent: </b>+nan<br><b>Expected Score Diff Against Average: </b>+nan<br><br><b>Change in ELO:</b> +nan<br>",
          "<br><b>Before-Game ELO: </b>1137<br><b>Expected Score Diff Against Opponent: </b>-1.75<br><b>Expected Score Diff Against Average: </b>-1.29<br><br><b>Change in ELO:</b> -1<br>",
          "<br><b>Before-Game ELO: </b>nan<br><b>Expected Score Diff Against Opponent: </b>+nan<br><b>Expected Score Diff Against Average: </b>+nan<br><br><b>Change in ELO:</b> +nan<br>",
          "<br><b>Before-Game ELO: </b>nan<br><b>Expected Score Diff Against Opponent: </b>+nan<br><b>Expected Score Diff Against Average: </b>+nan<br><br><b>Change in ELO:</b> +nan<br>",
          "<br><b>Before-Game ELO: </b>nan<br><b>Expected Score Diff Against Opponent: </b>+nan<br><b>Expected Score Diff Against Average: </b>+nan<br><br><b>Change in ELO:</b> +nan<br>",
          "<br><b>Before-Game ELO: </b>1136<br><b>Expected Score Diff Against Opponent: </b>-1.44<br><b>Expected Score Diff Against Average: </b>-1.31<br><br><b>Change in ELO:</b> +22<br>",
          "<br><b>Before-Game ELO: </b>1158<br><b>Expected Score Diff Against Opponent: </b>-0.77<br><b>Expected Score Diff Against Average: </b>-0.87<br><br><b>Change in ELO:</b> -6<br>",
          "<br><b>Before-Game ELO: </b>nan<br><b>Expected Score Diff Against Opponent: </b>+nan<br><b>Expected Score Diff Against Average: </b>+nan<br><br><b>Change in ELO:</b> +nan<br>",
          "<br><b>Before-Game ELO: </b>1152<br><b>Expected Score Diff Against Opponent: </b>-1.50<br><b>Expected Score Diff Against Average: </b>-0.99<br><br><b>Change in ELO:</b> +22<br>",
          "<br><b>Before-Game ELO: </b>nan<br><b>Expected Score Diff Against Opponent: </b>+nan<br><b>Expected Score Diff Against Average: </b>+nan<br><br><b>Change in ELO:</b> +nan<br>",
          "<br><b>Before-Game ELO: </b>nan<br><b>Expected Score Diff Against Opponent: </b>+nan<br><b>Expected Score Diff Against Average: </b>+nan<br><br><b>Change in ELO:</b> +nan<br>",
          "<br><b>Before-Game ELO: </b>1174<br><b>Expected Score Diff Against Opponent: </b>-1.29<br><b>Expected Score Diff Against Average: </b>-0.53<br><br><b>Change in ELO:</b> -19<br>",
          "<br><b>Before-Game ELO: </b>nan<br><b>Expected Score Diff Against Opponent: </b>+nan<br><b>Expected Score Diff Against Average: </b>+nan<br><br><b>Change in ELO:</b> +nan<br>",
          "<br><b>Before-Game ELO: </b>nan<br><b>Expected Score Diff Against Opponent: </b>+nan<br><b>Expected Score Diff Against Average: </b>+nan<br><br><b>Change in ELO:</b> +nan<br>",
          "<br><b>Before-Game ELO: </b>nan<br><b>Expected Score Diff Against Opponent: </b>+nan<br><b>Expected Score Diff Against Average: </b>+nan<br><br><b>Change in ELO:</b> +nan<br>",
          "<br><b>Before-Game ELO: </b>1156<br><b>Expected Score Diff Against Opponent: </b>-0.80<br><b>Expected Score Diff Against Average: </b>-0.91<br><br><b>Change in ELO:</b> -11<br>",
          "<br><b>Before-Game ELO: </b>1145<br><b>Expected Score Diff Against Opponent: </b>-1.27<br><b>Expected Score Diff Against Average: </b>-1.13<br><br><b>Change in ELO:</b> +11<br>",
          "<br><b>Before-Game ELO: </b>nan<br><b>Expected Score Diff Against Opponent: </b>+nan<br><b>Expected Score Diff Against Average: </b>+nan<br><br><b>Change in ELO:</b> +nan<br>",
          "<br><b>Before-Game ELO: </b>1156<br><b>Expected Score Diff Against Opponent: </b>-1.02<br><b>Expected Score Diff Against Average: </b>-0.91<br><br><b>Change in ELO:</b> +15<br>",
          "<br><b>Before-Game ELO: </b>nan<br><b>Expected Score Diff Against Opponent: </b>+nan<br><b>Expected Score Diff Against Average: </b>+nan<br><br><b>Change in ELO:</b> +nan<br>",
          "<br><b>Before-Game ELO: </b>nan<br><b>Expected Score Diff Against Opponent: </b>+nan<br><b>Expected Score Diff Against Average: </b>+nan<br><br><b>Change in ELO:</b> +nan<br>",
          "<br><b>Before-Game ELO: </b>nan<br><b>Expected Score Diff Against Opponent: </b>+nan<br><b>Expected Score Diff Against Average: </b>+nan<br><br><b>Change in ELO:</b> +nan<br>"
         ],
         "type": "scatter",
         "x": [
          1,
          2,
          3,
          4,
          5,
          6,
          7,
          8,
          9,
          10,
          11,
          12,
          13,
          14,
          15,
          16,
          17,
          18,
          19,
          20,
          21,
          22,
          23,
          24,
          25,
          26,
          27,
          28,
          29,
          30,
          31,
          32,
          33,
          34,
          35,
          36,
          37
         ],
         "y": [
          null,
          1180,
          null,
          1159.132444333847,
          1135.1717490237781,
          null,
          null,
          1136.2412153116736,
          null,
          1136.728068945209,
          1137.050329905827,
          null,
          null,
          null,
          null,
          null,
          1135.7808748709406,
          null,
          null,
          null,
          1157.966947831134,
          1151.819414361723,
          null,
          1174.2953948214622,
          null,
          null,
          1155.75964913455,
          null,
          null,
          null,
          1144.7796395148857,
          1156.1403183958337,
          null,
          1171.2215054448275,
          null,
          null,
          null
         ]
        }
       ],
       "layout": {
        "annotations": [
         {
          "showarrow": false,
          "text": "2023-11-18",
          "x": 0.5,
          "xanchor": "left",
          "xref": "x",
          "y": 1,
          "yanchor": "top",
          "yref": "y domain"
         },
         {
          "showarrow": false,
          "text": "2023-12-02",
          "x": 15.5,
          "xanchor": "left",
          "xref": "x",
          "y": 1,
          "yanchor": "top",
          "yref": "y domain"
         }
        ],
        "shapes": [
         {
          "fillcolor": "green",
          "line": {
           "width": 0
          },
          "opacity": 0.1,
          "type": "rect",
          "x0": 0.5,
          "x1": 15.5,
          "xref": "x",
          "y0": 0,
          "y1": 1,
          "yref": "y domain"
         },
         {
          "fillcolor": "red",
          "line": {
           "width": 0
          },
          "opacity": 0.1,
          "type": "rect",
          "x0": 15.5,
          "x1": 37.5,
          "xref": "x",
          "y0": 0,
          "y1": 1,
          "yref": "y domain"
         }
        ],
        "template": {
         "data": {
          "bar": [
           {
            "error_x": {
             "color": "#2a3f5f"
            },
            "error_y": {
             "color": "#2a3f5f"
            },
            "marker": {
             "line": {
              "color": "#E5ECF6",
              "width": 0.5
             },
             "pattern": {
              "fillmode": "overlay",
              "size": 10,
              "solidity": 0.2
             }
            },
            "type": "bar"
           }
          ],
          "barpolar": [
           {
            "marker": {
             "line": {
              "color": "#E5ECF6",
              "width": 0.5
             },
             "pattern": {
              "fillmode": "overlay",
              "size": 10,
              "solidity": 0.2
             }
            },
            "type": "barpolar"
           }
          ],
          "carpet": [
           {
            "aaxis": {
             "endlinecolor": "#2a3f5f",
             "gridcolor": "white",
             "linecolor": "white",
             "minorgridcolor": "white",
             "startlinecolor": "#2a3f5f"
            },
            "baxis": {
             "endlinecolor": "#2a3f5f",
             "gridcolor": "white",
             "linecolor": "white",
             "minorgridcolor": "white",
             "startlinecolor": "#2a3f5f"
            },
            "type": "carpet"
           }
          ],
          "choropleth": [
           {
            "colorbar": {
             "outlinewidth": 0,
             "ticks": ""
            },
            "type": "choropleth"
           }
          ],
          "contour": [
           {
            "colorbar": {
             "outlinewidth": 0,
             "ticks": ""
            },
            "colorscale": [
             [
              0,
              "#0d0887"
             ],
             [
              0.1111111111111111,
              "#46039f"
             ],
             [
              0.2222222222222222,
              "#7201a8"
             ],
             [
              0.3333333333333333,
              "#9c179e"
             ],
             [
              0.4444444444444444,
              "#bd3786"
             ],
             [
              0.5555555555555556,
              "#d8576b"
             ],
             [
              0.6666666666666666,
              "#ed7953"
             ],
             [
              0.7777777777777778,
              "#fb9f3a"
             ],
             [
              0.8888888888888888,
              "#fdca26"
             ],
             [
              1,
              "#f0f921"
             ]
            ],
            "type": "contour"
           }
          ],
          "contourcarpet": [
           {
            "colorbar": {
             "outlinewidth": 0,
             "ticks": ""
            },
            "type": "contourcarpet"
           }
          ],
          "heatmap": [
           {
            "colorbar": {
             "outlinewidth": 0,
             "ticks": ""
            },
            "colorscale": [
             [
              0,
              "#0d0887"
             ],
             [
              0.1111111111111111,
              "#46039f"
             ],
             [
              0.2222222222222222,
              "#7201a8"
             ],
             [
              0.3333333333333333,
              "#9c179e"
             ],
             [
              0.4444444444444444,
              "#bd3786"
             ],
             [
              0.5555555555555556,
              "#d8576b"
             ],
             [
              0.6666666666666666,
              "#ed7953"
             ],
             [
              0.7777777777777778,
              "#fb9f3a"
             ],
             [
              0.8888888888888888,
              "#fdca26"
             ],
             [
              1,
              "#f0f921"
             ]
            ],
            "type": "heatmap"
           }
          ],
          "heatmapgl": [
           {
            "colorbar": {
             "outlinewidth": 0,
             "ticks": ""
            },
            "colorscale": [
             [
              0,
              "#0d0887"
             ],
             [
              0.1111111111111111,
              "#46039f"
             ],
             [
              0.2222222222222222,
              "#7201a8"
             ],
             [
              0.3333333333333333,
              "#9c179e"
             ],
             [
              0.4444444444444444,
              "#bd3786"
             ],
             [
              0.5555555555555556,
              "#d8576b"
             ],
             [
              0.6666666666666666,
              "#ed7953"
             ],
             [
              0.7777777777777778,
              "#fb9f3a"
             ],
             [
              0.8888888888888888,
              "#fdca26"
             ],
             [
              1,
              "#f0f921"
             ]
            ],
            "type": "heatmapgl"
           }
          ],
          "histogram": [
           {
            "marker": {
             "pattern": {
              "fillmode": "overlay",
              "size": 10,
              "solidity": 0.2
             }
            },
            "type": "histogram"
           }
          ],
          "histogram2d": [
           {
            "colorbar": {
             "outlinewidth": 0,
             "ticks": ""
            },
            "colorscale": [
             [
              0,
              "#0d0887"
             ],
             [
              0.1111111111111111,
              "#46039f"
             ],
             [
              0.2222222222222222,
              "#7201a8"
             ],
             [
              0.3333333333333333,
              "#9c179e"
             ],
             [
              0.4444444444444444,
              "#bd3786"
             ],
             [
              0.5555555555555556,
              "#d8576b"
             ],
             [
              0.6666666666666666,
              "#ed7953"
             ],
             [
              0.7777777777777778,
              "#fb9f3a"
             ],
             [
              0.8888888888888888,
              "#fdca26"
             ],
             [
              1,
              "#f0f921"
             ]
            ],
            "type": "histogram2d"
           }
          ],
          "histogram2dcontour": [
           {
            "colorbar": {
             "outlinewidth": 0,
             "ticks": ""
            },
            "colorscale": [
             [
              0,
              "#0d0887"
             ],
             [
              0.1111111111111111,
              "#46039f"
             ],
             [
              0.2222222222222222,
              "#7201a8"
             ],
             [
              0.3333333333333333,
              "#9c179e"
             ],
             [
              0.4444444444444444,
              "#bd3786"
             ],
             [
              0.5555555555555556,
              "#d8576b"
             ],
             [
              0.6666666666666666,
              "#ed7953"
             ],
             [
              0.7777777777777778,
              "#fb9f3a"
             ],
             [
              0.8888888888888888,
              "#fdca26"
             ],
             [
              1,
              "#f0f921"
             ]
            ],
            "type": "histogram2dcontour"
           }
          ],
          "mesh3d": [
           {
            "colorbar": {
             "outlinewidth": 0,
             "ticks": ""
            },
            "type": "mesh3d"
           }
          ],
          "parcoords": [
           {
            "line": {
             "colorbar": {
              "outlinewidth": 0,
              "ticks": ""
             }
            },
            "type": "parcoords"
           }
          ],
          "pie": [
           {
            "automargin": true,
            "type": "pie"
           }
          ],
          "scatter": [
           {
            "fillpattern": {
             "fillmode": "overlay",
             "size": 10,
             "solidity": 0.2
            },
            "type": "scatter"
           }
          ],
          "scatter3d": [
           {
            "line": {
             "colorbar": {
              "outlinewidth": 0,
              "ticks": ""
             }
            },
            "marker": {
             "colorbar": {
              "outlinewidth": 0,
              "ticks": ""
             }
            },
            "type": "scatter3d"
           }
          ],
          "scattercarpet": [
           {
            "marker": {
             "colorbar": {
              "outlinewidth": 0,
              "ticks": ""
             }
            },
            "type": "scattercarpet"
           }
          ],
          "scattergeo": [
           {
            "marker": {
             "colorbar": {
              "outlinewidth": 0,
              "ticks": ""
             }
            },
            "type": "scattergeo"
           }
          ],
          "scattergl": [
           {
            "marker": {
             "colorbar": {
              "outlinewidth": 0,
              "ticks": ""
             }
            },
            "type": "scattergl"
           }
          ],
          "scattermapbox": [
           {
            "marker": {
             "colorbar": {
              "outlinewidth": 0,
              "ticks": ""
             }
            },
            "type": "scattermapbox"
           }
          ],
          "scatterpolar": [
           {
            "marker": {
             "colorbar": {
              "outlinewidth": 0,
              "ticks": ""
             }
            },
            "type": "scatterpolar"
           }
          ],
          "scatterpolargl": [
           {
            "marker": {
             "colorbar": {
              "outlinewidth": 0,
              "ticks": ""
             }
            },
            "type": "scatterpolargl"
           }
          ],
          "scatterternary": [
           {
            "marker": {
             "colorbar": {
              "outlinewidth": 0,
              "ticks": ""
             }
            },
            "type": "scatterternary"
           }
          ],
          "surface": [
           {
            "colorbar": {
             "outlinewidth": 0,
             "ticks": ""
            },
            "colorscale": [
             [
              0,
              "#0d0887"
             ],
             [
              0.1111111111111111,
              "#46039f"
             ],
             [
              0.2222222222222222,
              "#7201a8"
             ],
             [
              0.3333333333333333,
              "#9c179e"
             ],
             [
              0.4444444444444444,
              "#bd3786"
             ],
             [
              0.5555555555555556,
              "#d8576b"
             ],
             [
              0.6666666666666666,
              "#ed7953"
             ],
             [
              0.7777777777777778,
              "#fb9f3a"
             ],
             [
              0.8888888888888888,
              "#fdca26"
             ],
             [
              1,
              "#f0f921"
             ]
            ],
            "type": "surface"
           }
          ],
          "table": [
           {
            "cells": {
             "fill": {
              "color": "#EBF0F8"
             },
             "line": {
              "color": "white"
             }
            },
            "header": {
             "fill": {
              "color": "#C8D4E3"
             },
             "line": {
              "color": "white"
             }
            },
            "type": "table"
           }
          ]
         },
         "layout": {
          "annotationdefaults": {
           "arrowcolor": "#2a3f5f",
           "arrowhead": 0,
           "arrowwidth": 1
          },
          "autotypenumbers": "strict",
          "coloraxis": {
           "colorbar": {
            "outlinewidth": 0,
            "ticks": ""
           }
          },
          "colorscale": {
           "diverging": [
            [
             0,
             "#8e0152"
            ],
            [
             0.1,
             "#c51b7d"
            ],
            [
             0.2,
             "#de77ae"
            ],
            [
             0.3,
             "#f1b6da"
            ],
            [
             0.4,
             "#fde0ef"
            ],
            [
             0.5,
             "#f7f7f7"
            ],
            [
             0.6,
             "#e6f5d0"
            ],
            [
             0.7,
             "#b8e186"
            ],
            [
             0.8,
             "#7fbc41"
            ],
            [
             0.9,
             "#4d9221"
            ],
            [
             1,
             "#276419"
            ]
           ],
           "sequential": [
            [
             0,
             "#0d0887"
            ],
            [
             0.1111111111111111,
             "#46039f"
            ],
            [
             0.2222222222222222,
             "#7201a8"
            ],
            [
             0.3333333333333333,
             "#9c179e"
            ],
            [
             0.4444444444444444,
             "#bd3786"
            ],
            [
             0.5555555555555556,
             "#d8576b"
            ],
            [
             0.6666666666666666,
             "#ed7953"
            ],
            [
             0.7777777777777778,
             "#fb9f3a"
            ],
            [
             0.8888888888888888,
             "#fdca26"
            ],
            [
             1,
             "#f0f921"
            ]
           ],
           "sequentialminus": [
            [
             0,
             "#0d0887"
            ],
            [
             0.1111111111111111,
             "#46039f"
            ],
            [
             0.2222222222222222,
             "#7201a8"
            ],
            [
             0.3333333333333333,
             "#9c179e"
            ],
            [
             0.4444444444444444,
             "#bd3786"
            ],
            [
             0.5555555555555556,
             "#d8576b"
            ],
            [
             0.6666666666666666,
             "#ed7953"
            ],
            [
             0.7777777777777778,
             "#fb9f3a"
            ],
            [
             0.8888888888888888,
             "#fdca26"
            ],
            [
             1,
             "#f0f921"
            ]
           ]
          },
          "colorway": [
           "#636efa",
           "#EF553B",
           "#00cc96",
           "#ab63fa",
           "#FFA15A",
           "#19d3f3",
           "#FF6692",
           "#B6E880",
           "#FF97FF",
           "#FECB52"
          ],
          "font": {
           "color": "#2a3f5f"
          },
          "geo": {
           "bgcolor": "white",
           "lakecolor": "white",
           "landcolor": "#E5ECF6",
           "showlakes": true,
           "showland": true,
           "subunitcolor": "white"
          },
          "hoverlabel": {
           "align": "left"
          },
          "hovermode": "closest",
          "mapbox": {
           "style": "light"
          },
          "paper_bgcolor": "white",
          "plot_bgcolor": "#E5ECF6",
          "polar": {
           "angularaxis": {
            "gridcolor": "white",
            "linecolor": "white",
            "ticks": ""
           },
           "bgcolor": "#E5ECF6",
           "radialaxis": {
            "gridcolor": "white",
            "linecolor": "white",
            "ticks": ""
           }
          },
          "scene": {
           "xaxis": {
            "backgroundcolor": "#E5ECF6",
            "gridcolor": "white",
            "gridwidth": 2,
            "linecolor": "white",
            "showbackground": true,
            "ticks": "",
            "zerolinecolor": "white"
           },
           "yaxis": {
            "backgroundcolor": "#E5ECF6",
            "gridcolor": "white",
            "gridwidth": 2,
            "linecolor": "white",
            "showbackground": true,
            "ticks": "",
            "zerolinecolor": "white"
           },
           "zaxis": {
            "backgroundcolor": "#E5ECF6",
            "gridcolor": "white",
            "gridwidth": 2,
            "linecolor": "white",
            "showbackground": true,
            "ticks": "",
            "zerolinecolor": "white"
           }
          },
          "shapedefaults": {
           "line": {
            "color": "#2a3f5f"
           }
          },
          "ternary": {
           "aaxis": {
            "gridcolor": "white",
            "linecolor": "white",
            "ticks": ""
           },
           "baxis": {
            "gridcolor": "white",
            "linecolor": "white",
            "ticks": ""
           },
           "bgcolor": "#E5ECF6",
           "caxis": {
            "gridcolor": "white",
            "linecolor": "white",
            "ticks": ""
           }
          },
          "title": {
           "x": 0.05
          },
          "xaxis": {
           "automargin": true,
           "gridcolor": "white",
           "linecolor": "white",
           "ticks": "",
           "title": {
            "standoff": 15
           },
           "zerolinecolor": "white",
           "zerolinewidth": 2
          },
          "yaxis": {
           "automargin": true,
           "gridcolor": "white",
           "linecolor": "white",
           "ticks": "",
           "title": {
            "standoff": 15
           },
           "zerolinecolor": "white",
           "zerolinewidth": 2
          }
         }
        },
        "title": {
         "text": "<b>Pokémon Showdown ELO Rating System by Roman Ramirez</b><br><i>Updated Wednesday, Dec 06, 2023 21:20:58 CT"
        },
        "xaxis": {
         "title": {
          "text": "<b>Game Number</b>"
         }
        },
        "yaxis": {
         "title": {
          "text": "<b>ELO Rating</b>"
         }
        }
       }
      }
     },
     "metadata": {},
     "output_type": "display_data"
    }
   ],
   "source": [
    "import plotly.graph_objects as go\n",
    "import plotly.colors as pc\n",
    "\n",
    "fig = go.Figure()\n",
    "\n",
    "# adding player\n",
    "ranking = 1\n",
    "trace_colors = pc.qualitative.Bold # Light24\n",
    "for (i, (player, current_rating)) in enumerate(sorted(elo.items(), key=lambda x:x[1], reverse=True)):\n",
    "    fig.add_trace(go.Scatter(\n",
    "        x=elo_time_table.index,\n",
    "        y=elo_time_table[player],\n",
    "        name=f'#{ranking} ({current_rating:.0f}) {player}',\n",
    "        mode='lines+markers',\n",
    "        connectgaps=True,\n",
    "        text=[\n",
    "            f\"<br><b>Before-Game ELO: </b>{x[2]:.0f}<br><b>Expected Score Diff Against Opponent: </b>{x[0]:+.2f}<br><b>Expected Score Diff Against Average: </b>{x[1]:+.2f}<br><br><b>Change in ELO:</b> {x[3]:+.0f}<br>\" for x in zip(\n",
    "                exp_elo_time_table[player],\n",
    "                eaa_elo_time_table[player],\n",
    "                prev_elo_time_table[player],\n",
    "                d_elo_time_table[player]\n",
    "            )\n",
    "        ],\n",
    "        line=dict(\n",
    "            shape='hv',\n",
    "            color=trace_colors[i % len(trace_colors)]\n",
    "        )\n",
    "    ))\n",
    "    ranking += 1\n",
    "\n",
    "# adding highlighting by tournament\n",
    "tournaments = list(sorted(set(matches_table['Date'])))\n",
    "vrect_colors = ['green', 'red', 'yellow', 'blue', 'orange']\n",
    "for (i, tourney) in enumerate(tournaments):\n",
    "    fig.add_vrect(\n",
    "        annotation_text=tourney,\n",
    "        annotation_position=\"top left\",\n",
    "        x0=matches_table['Date'][matches_table['Date'] == tourney].index[0] + 0.5,\n",
    "        x1=matches_table['Date'][matches_table['Date'] == tourney].index[-1] + 1.5,\n",
    "        fillcolor=vrect_colors[i % len(vrect_colors)],\n",
    "        opacity=0.1,\n",
    "        line_width=0\n",
    "    )\n",
    "\n",
    "fig.update_layout(\n",
    "    title=f'<b>Pokémon Showdown ELO Rating System by Roman Ramirez</b><br><i>Updated {str(datetime.datetime.now().strftime(\"%A, %b %d, %Y %H:%M:%S\"))} CT',\n",
    "    xaxis_title='<b>Game Number</b>',\n",
    "    yaxis_title='<b>ELO Rating</b>'\n",
    ")\n",
    "\n",
    "customdata = np.stack((\n",
    "        list(matches_table['Player 1']),\n",
    "        list(matches_table['Player 2']),\n",
    "        list(matches_table['Score 1']),\n",
    "        list(matches_table['Score 2']),\n",
    "        matches_table['Date']\n",
    "    ), axis=-1)\n",
    "hovertemplate = (\n",
    "    '<i>%{customdata[4]|%A, %B %d, %Y}, Game %{x}</i><br>' +\n",
    "    '<b>%{fullData.name}</b><br><br>' + \n",
    "    '<b>%{customdata[0]} vs. %{customdata[1]}</b><br>' +\n",
    "    '<b>Final Score:</b> %{customdata[2]}-%{customdata[3]}<br>' + \n",
    "    '%{text}' + \n",
    "    '<b>After-Game ELO:</b> %{y:,.0f}<br>' +\n",
    "    '<extra></extra>'\n",
    ")\n",
    "\n",
    "fig.update_traces(\n",
    "    customdata=customdata,\n",
    "    hovertemplate=hovertemplate,\n",
    "    opacity=0.8,\n",
    "    legendgrouptitle_text='<b>#<i>Rank</i> (<i>Current ELO</i>) <i>Player</i></b>'\n",
    ")\n",
    "fig.show()\n",
    "fig.write_html(\"index.html\")"
   ]
  }
 ],
 "metadata": {
  "kernelspec": {
   "display_name": "Python 3",
   "language": "python",
   "name": "python3"
  },
  "language_info": {
   "codemirror_mode": {
    "name": "ipython",
    "version": 3
   },
   "file_extension": ".py",
   "mimetype": "text/x-python",
   "name": "python",
   "nbconvert_exporter": "python",
   "pygments_lexer": "ipython3",
   "version": "3.9.13"
  }
 },
 "nbformat": 4,
 "nbformat_minor": 2
}
